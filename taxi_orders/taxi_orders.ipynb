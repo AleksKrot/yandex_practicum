{
 "cells": [
  {
   "cell_type": "markdown",
   "metadata": {
    "toc": true
   },
   "source": [
    "<h1>Содержание<span class=\"tocSkip\"></span></h1>\n",
    "<div class=\"toc\"><ul class=\"toc-item\"><li><span><a href=\"#Подготовка\" data-toc-modified-id=\"Подготовка-1\"><span class=\"toc-item-num\">1&nbsp;&nbsp;</span>Подготовка</a></span><ul class=\"toc-item\"><li><span><a href=\"#Импорт-используемых-библиотек\" data-toc-modified-id=\"Импорт-используемых-библиотек-1.1\"><span class=\"toc-item-num\">1.1&nbsp;&nbsp;</span>Импорт используемых библиотек</a></span></li><li><span><a href=\"#Чтение-файла-с-данными\" data-toc-modified-id=\"Чтение-файла-с-данными-1.2\"><span class=\"toc-item-num\">1.2&nbsp;&nbsp;</span>Чтение файла с данными</a></span></li><li><span><a href=\"#Изучение-общей-информации\" data-toc-modified-id=\"Изучение-общей-информации-1.3\"><span class=\"toc-item-num\">1.3&nbsp;&nbsp;</span>Изучение общей информации</a></span></li><li><span><a href=\"#Ресемплирование-по-одному-часу\" data-toc-modified-id=\"Ресемплирование-по-одному-часу-1.4\"><span class=\"toc-item-num\">1.4&nbsp;&nbsp;</span>Ресемплирование по одному часу</a></span></li></ul></li><li><span><a href=\"#Анализ\" data-toc-modified-id=\"Анализ-2\"><span class=\"toc-item-num\">2&nbsp;&nbsp;</span>Анализ</a></span></li><li><span><a href=\"#Обучение\" data-toc-modified-id=\"Обучение-3\"><span class=\"toc-item-num\">3&nbsp;&nbsp;</span>Обучение</a></span><ul class=\"toc-item\"><li><span><a href=\"#Подготовка-признаков\" data-toc-modified-id=\"Подготовка-признаков-3.1\"><span class=\"toc-item-num\">3.1&nbsp;&nbsp;</span>Подготовка признаков</a></span></li><li><span><a href=\"#LinearRegression\" data-toc-modified-id=\"LinearRegression-3.2\"><span class=\"toc-item-num\">3.2&nbsp;&nbsp;</span>LinearRegression</a></span></li><li><span><a href=\"#RandomForest\" data-toc-modified-id=\"RandomForest-3.3\"><span class=\"toc-item-num\">3.3&nbsp;&nbsp;</span>RandomForest</a></span></li><li><span><a href=\"#DecisionTree\" data-toc-modified-id=\"DecisionTree-3.4\"><span class=\"toc-item-num\">3.4&nbsp;&nbsp;</span>DecisionTree</a></span></li><li><span><a href=\"#CatBoost\" data-toc-modified-id=\"CatBoost-3.5\"><span class=\"toc-item-num\">3.5&nbsp;&nbsp;</span>CatBoost</a></span></li><li><span><a href=\"#LGBM\" data-toc-modified-id=\"LGBM-3.6\"><span class=\"toc-item-num\">3.6&nbsp;&nbsp;</span>LGBM</a></span></li></ul></li><li><span><a href=\"#Тестирование\" data-toc-modified-id=\"Тестирование-4\"><span class=\"toc-item-num\">4&nbsp;&nbsp;</span>Тестирование</a></span></li><li><span><a href=\"#Выводы\" data-toc-modified-id=\"Выводы-5\"><span class=\"toc-item-num\">5&nbsp;&nbsp;</span>Выводы</a></span></li></ul></div>"
   ]
  },
  {
   "cell_type": "markdown",
   "metadata": {},
   "source": [
    "#  Прогнозирование заказов такси"
   ]
  },
  {
   "cell_type": "markdown",
   "metadata": {},
   "source": [
    "Компания «Чётенькое такси» собрала исторические данные о заказах такси в аэропортах. Чтобы привлекать больше водителей в период пиковой нагрузки, нужно спрогнозировать количество заказов такси на следующий час. Постройте модель для такого предсказания.\n",
    "\n",
    "Значение метрики *RMSE* на тестовой выборке должно быть не больше 48.\n",
    "\n",
    "Вам нужно:\n",
    "\n",
    "1. Загрузить данные и выполнить их ресемплирование по одному часу.\n",
    "2. Проанализировать данные.\n",
    "3. Обучить разные модели с различными гиперпараметрами. Сделать тестовую выборку размером 10% от исходных данных.\n",
    "4. Проверить данные на тестовой выборке и сделать выводы.\n",
    "\n",
    "\n",
    "Данные лежат в файле `taxi.csv`. Количество заказов находится в столбце `num_orders` (от англ. *number of orders*, «число заказов»)."
   ]
  },
  {
   "cell_type": "markdown",
   "metadata": {},
   "source": [
    "## Подготовка"
   ]
  },
  {
   "cell_type": "markdown",
   "metadata": {},
   "source": [
    "### Импорт используемых библиотек"
   ]
  },
  {
   "cell_type": "code",
   "execution_count": 1,
   "metadata": {},
   "outputs": [],
   "source": [
    "# импорт библиотеки pandas\n",
    "import pandas as pd\n",
    "\n",
    "# импорт библиотеки numpy\n",
    "import numpy as np\n",
    "\n",
    "# импорт библиотеки time\n",
    "import time\n",
    "\n",
    "# импорт библиотеки matplotlib\n",
    "import matplotlib.pyplot as plt\n",
    "\n",
    "# импорт функции декомпозиции из библиотеки statsmodels\n",
    "from statsmodels.tsa.seasonal import seasonal_decompose\n",
    "\n",
    "# импорт функции train_test_split из библиотеки sklearn\n",
    "from sklearn.model_selection import train_test_split\n",
    "\n",
    "# импорт средней квадратичной ошибки из библиотеки sklearn\n",
    "from sklearn.metrics import mean_squared_error\n",
    "\n",
    "# импорт make_scorer из библиотеки sklearn\n",
    "from sklearn.metrics import make_scorer\n",
    "\n",
    "# импорт алгоритма поиска по гиперпараметрам из библиотеки sklearn\n",
    "from sklearn.model_selection import GridSearchCV, TimeSeriesSplit\n",
    "\n",
    "# импорт алгоритма линейной регрессии из библиотеки sklearn\n",
    "from sklearn.linear_model import LinearRegression\n",
    "\n",
    "# импорт алгоритма дерева принятия решений из библиотеки sklearn\n",
    "from sklearn.tree import DecisionTreeRegressor\n",
    "\n",
    "# импорт алгоритма случайного леса из библиотеки sklearn\n",
    "from sklearn.ensemble import RandomForestRegressor\n",
    "\n",
    "# импорт градиентного бустинга из библиотеки catboost\n",
    "from catboost import CatBoostRegressor\n",
    "\n",
    "# импорт градиентного бустинга из библиотеки lightgbm\n",
    "from lightgbm import LGBMRegressor\n",
    "\n",
    "import warnings\n",
    "warnings.filterwarnings('ignore')"
   ]
  },
  {
   "cell_type": "markdown",
   "metadata": {},
   "source": [
    "### Чтение файла с данными"
   ]
  },
  {
   "cell_type": "code",
   "execution_count": 2,
   "metadata": {},
   "outputs": [],
   "source": [
    "# чтение файла с данными\n",
    "data = pd.read_csv('/datasets/taxi.csv')"
   ]
  },
  {
   "cell_type": "markdown",
   "metadata": {},
   "source": [
    "### Изучение общей информации"
   ]
  },
  {
   "cell_type": "code",
   "execution_count": 3,
   "metadata": {},
   "outputs": [
    {
     "data": {
      "text/html": [
       "<div>\n",
       "<style scoped>\n",
       "    .dataframe tbody tr th:only-of-type {\n",
       "        vertical-align: middle;\n",
       "    }\n",
       "\n",
       "    .dataframe tbody tr th {\n",
       "        vertical-align: top;\n",
       "    }\n",
       "\n",
       "    .dataframe thead th {\n",
       "        text-align: right;\n",
       "    }\n",
       "</style>\n",
       "<table border=\"1\" class=\"dataframe\">\n",
       "  <thead>\n",
       "    <tr style=\"text-align: right;\">\n",
       "      <th></th>\n",
       "      <th>datetime</th>\n",
       "      <th>num_orders</th>\n",
       "    </tr>\n",
       "  </thead>\n",
       "  <tbody>\n",
       "    <tr>\n",
       "      <th>6691</th>\n",
       "      <td>2018-04-16 11:10:00</td>\n",
       "      <td>11</td>\n",
       "    </tr>\n",
       "    <tr>\n",
       "      <th>20830</th>\n",
       "      <td>2018-07-23 15:40:00</td>\n",
       "      <td>15</td>\n",
       "    </tr>\n",
       "    <tr>\n",
       "      <th>15820</th>\n",
       "      <td>2018-06-18 20:40:00</td>\n",
       "      <td>11</td>\n",
       "    </tr>\n",
       "    <tr>\n",
       "      <th>24122</th>\n",
       "      <td>2018-08-15 12:20:00</td>\n",
       "      <td>22</td>\n",
       "    </tr>\n",
       "    <tr>\n",
       "      <th>15966</th>\n",
       "      <td>2018-06-19 21:00:00</td>\n",
       "      <td>9</td>\n",
       "    </tr>\n",
       "    <tr>\n",
       "      <th>19089</th>\n",
       "      <td>2018-07-11 13:30:00</td>\n",
       "      <td>25</td>\n",
       "    </tr>\n",
       "    <tr>\n",
       "      <th>10535</th>\n",
       "      <td>2018-05-13 03:50:00</td>\n",
       "      <td>29</td>\n",
       "    </tr>\n",
       "    <tr>\n",
       "      <th>9038</th>\n",
       "      <td>2018-05-02 18:20:00</td>\n",
       "      <td>6</td>\n",
       "    </tr>\n",
       "    <tr>\n",
       "      <th>2363</th>\n",
       "      <td>2018-03-17 09:50:00</td>\n",
       "      <td>10</td>\n",
       "    </tr>\n",
       "    <tr>\n",
       "      <th>6080</th>\n",
       "      <td>2018-04-12 05:20:00</td>\n",
       "      <td>0</td>\n",
       "    </tr>\n",
       "  </tbody>\n",
       "</table>\n",
       "</div>"
      ],
      "text/plain": [
       "                  datetime  num_orders\n",
       "6691   2018-04-16 11:10:00          11\n",
       "20830  2018-07-23 15:40:00          15\n",
       "15820  2018-06-18 20:40:00          11\n",
       "24122  2018-08-15 12:20:00          22\n",
       "15966  2018-06-19 21:00:00           9\n",
       "19089  2018-07-11 13:30:00          25\n",
       "10535  2018-05-13 03:50:00          29\n",
       "9038   2018-05-02 18:20:00           6\n",
       "2363   2018-03-17 09:50:00          10\n",
       "6080   2018-04-12 05:20:00           0"
      ]
     },
     "execution_count": 3,
     "metadata": {},
     "output_type": "execute_result"
    }
   ],
   "source": [
    "# получение случайных 10 строк датасета\n",
    "data.sample(10)"
   ]
  },
  {
   "cell_type": "code",
   "execution_count": 4,
   "metadata": {},
   "outputs": [
    {
     "name": "stdout",
     "output_type": "stream",
     "text": [
      "<class 'pandas.core.frame.DataFrame'>\n",
      "RangeIndex: 26496 entries, 0 to 26495\n",
      "Data columns (total 2 columns):\n",
      " #   Column      Non-Null Count  Dtype \n",
      "---  ------      --------------  ----- \n",
      " 0   datetime    26496 non-null  object\n",
      " 1   num_orders  26496 non-null  int64 \n",
      "dtypes: int64(1), object(1)\n",
      "memory usage: 414.1+ KB\n"
     ]
    }
   ],
   "source": [
    "# получение общей информации о данных датасета\n",
    "data.info()"
   ]
  },
  {
   "cell_type": "code",
   "execution_count": 5,
   "metadata": {},
   "outputs": [
    {
     "data": {
      "text/html": [
       "<div>\n",
       "<style scoped>\n",
       "    .dataframe tbody tr th:only-of-type {\n",
       "        vertical-align: middle;\n",
       "    }\n",
       "\n",
       "    .dataframe tbody tr th {\n",
       "        vertical-align: top;\n",
       "    }\n",
       "\n",
       "    .dataframe thead th {\n",
       "        text-align: right;\n",
       "    }\n",
       "</style>\n",
       "<table border=\"1\" class=\"dataframe\">\n",
       "  <thead>\n",
       "    <tr style=\"text-align: right;\">\n",
       "      <th></th>\n",
       "      <th>num_orders</th>\n",
       "    </tr>\n",
       "  </thead>\n",
       "  <tbody>\n",
       "    <tr>\n",
       "      <th>count</th>\n",
       "      <td>26496.000000</td>\n",
       "    </tr>\n",
       "    <tr>\n",
       "      <th>mean</th>\n",
       "      <td>14.070463</td>\n",
       "    </tr>\n",
       "    <tr>\n",
       "      <th>std</th>\n",
       "      <td>9.211330</td>\n",
       "    </tr>\n",
       "    <tr>\n",
       "      <th>min</th>\n",
       "      <td>0.000000</td>\n",
       "    </tr>\n",
       "    <tr>\n",
       "      <th>25%</th>\n",
       "      <td>8.000000</td>\n",
       "    </tr>\n",
       "    <tr>\n",
       "      <th>50%</th>\n",
       "      <td>13.000000</td>\n",
       "    </tr>\n",
       "    <tr>\n",
       "      <th>75%</th>\n",
       "      <td>19.000000</td>\n",
       "    </tr>\n",
       "    <tr>\n",
       "      <th>max</th>\n",
       "      <td>119.000000</td>\n",
       "    </tr>\n",
       "  </tbody>\n",
       "</table>\n",
       "</div>"
      ],
      "text/plain": [
       "         num_orders\n",
       "count  26496.000000\n",
       "mean      14.070463\n",
       "std        9.211330\n",
       "min        0.000000\n",
       "25%        8.000000\n",
       "50%       13.000000\n",
       "75%       19.000000\n",
       "max      119.000000"
      ]
     },
     "execution_count": 5,
     "metadata": {},
     "output_type": "execute_result"
    }
   ],
   "source": [
    "# получение описательной статистики данных датасета\n",
    "data.describe()"
   ]
  },
  {
   "cell_type": "code",
   "execution_count": 6,
   "metadata": {},
   "outputs": [
    {
     "data": {
      "text/plain": [
       "0"
      ]
     },
     "execution_count": 6,
     "metadata": {},
     "output_type": "execute_result"
    }
   ],
   "source": [
    "# проверка на наличие дубликатов\n",
    "data.duplicated().sum()"
   ]
  },
  {
   "cell_type": "markdown",
   "metadata": {},
   "source": [
    "Данные полные, пропусков нет, дубликаты отсутствуют."
   ]
  },
  {
   "cell_type": "markdown",
   "metadata": {},
   "source": [
    "### Ресемплирование по одному часу"
   ]
  },
  {
   "cell_type": "code",
   "execution_count": 7,
   "metadata": {},
   "outputs": [],
   "source": [
    "# чтение файла с данными\n",
    "df = pd.read_csv('/datasets/taxi.csv', index_col=[0], parse_dates=[0])"
   ]
  },
  {
   "cell_type": "code",
   "execution_count": 8,
   "metadata": {},
   "outputs": [],
   "source": [
    "# сортировка по индексу\n",
    "df = df.sort_index(ascending=True)"
   ]
  },
  {
   "cell_type": "code",
   "execution_count": 9,
   "metadata": {},
   "outputs": [
    {
     "data": {
      "text/plain": [
       "True"
      ]
     },
     "execution_count": 9,
     "metadata": {},
     "output_type": "execute_result"
    }
   ],
   "source": [
    "# проверка на монотонность\n",
    "df.index.is_monotonic"
   ]
  },
  {
   "cell_type": "code",
   "execution_count": 10,
   "metadata": {},
   "outputs": [
    {
     "name": "stdout",
     "output_type": "stream",
     "text": [
      "<class 'pandas.core.frame.DataFrame'>\n",
      "DatetimeIndex: 26496 entries, 2018-03-01 00:00:00 to 2018-08-31 23:50:00\n",
      "Data columns (total 1 columns):\n",
      " #   Column      Non-Null Count  Dtype\n",
      "---  ------      --------------  -----\n",
      " 0   num_orders  26496 non-null  int64\n",
      "dtypes: int64(1)\n",
      "memory usage: 414.0 KB\n"
     ]
    }
   ],
   "source": [
    "# получение общей информации о данных датасета\n",
    "df.info()"
   ]
  },
  {
   "cell_type": "markdown",
   "metadata": {},
   "source": [
    "Датасет содержит данные с 1 марта 2018 года по 31 августа 2018 года"
   ]
  },
  {
   "cell_type": "markdown",
   "metadata": {},
   "source": [
    "Проведем ресемплирование по одному часу и по каждому просуммируем количество заказов."
   ]
  },
  {
   "cell_type": "code",
   "execution_count": 11,
   "metadata": {},
   "outputs": [],
   "source": [
    "# ресемплирование по часу\n",
    "df = df.resample('1H').sum()"
   ]
  },
  {
   "cell_type": "code",
   "execution_count": 12,
   "metadata": {},
   "outputs": [
    {
     "data": {
      "text/html": [
       "<div>\n",
       "<style scoped>\n",
       "    .dataframe tbody tr th:only-of-type {\n",
       "        vertical-align: middle;\n",
       "    }\n",
       "\n",
       "    .dataframe tbody tr th {\n",
       "        vertical-align: top;\n",
       "    }\n",
       "\n",
       "    .dataframe thead th {\n",
       "        text-align: right;\n",
       "    }\n",
       "</style>\n",
       "<table border=\"1\" class=\"dataframe\">\n",
       "  <thead>\n",
       "    <tr style=\"text-align: right;\">\n",
       "      <th></th>\n",
       "      <th>num_orders</th>\n",
       "    </tr>\n",
       "    <tr>\n",
       "      <th>datetime</th>\n",
       "      <th></th>\n",
       "    </tr>\n",
       "  </thead>\n",
       "  <tbody>\n",
       "    <tr>\n",
       "      <th>2018-03-01 00:00:00</th>\n",
       "      <td>124</td>\n",
       "    </tr>\n",
       "    <tr>\n",
       "      <th>2018-03-01 01:00:00</th>\n",
       "      <td>85</td>\n",
       "    </tr>\n",
       "    <tr>\n",
       "      <th>2018-03-01 02:00:00</th>\n",
       "      <td>71</td>\n",
       "    </tr>\n",
       "    <tr>\n",
       "      <th>2018-03-01 03:00:00</th>\n",
       "      <td>66</td>\n",
       "    </tr>\n",
       "    <tr>\n",
       "      <th>2018-03-01 04:00:00</th>\n",
       "      <td>43</td>\n",
       "    </tr>\n",
       "    <tr>\n",
       "      <th>2018-03-01 05:00:00</th>\n",
       "      <td>6</td>\n",
       "    </tr>\n",
       "    <tr>\n",
       "      <th>2018-03-01 06:00:00</th>\n",
       "      <td>12</td>\n",
       "    </tr>\n",
       "    <tr>\n",
       "      <th>2018-03-01 07:00:00</th>\n",
       "      <td>15</td>\n",
       "    </tr>\n",
       "    <tr>\n",
       "      <th>2018-03-01 08:00:00</th>\n",
       "      <td>34</td>\n",
       "    </tr>\n",
       "    <tr>\n",
       "      <th>2018-03-01 09:00:00</th>\n",
       "      <td>69</td>\n",
       "    </tr>\n",
       "  </tbody>\n",
       "</table>\n",
       "</div>"
      ],
      "text/plain": [
       "                     num_orders\n",
       "datetime                       \n",
       "2018-03-01 00:00:00         124\n",
       "2018-03-01 01:00:00          85\n",
       "2018-03-01 02:00:00          71\n",
       "2018-03-01 03:00:00          66\n",
       "2018-03-01 04:00:00          43\n",
       "2018-03-01 05:00:00           6\n",
       "2018-03-01 06:00:00          12\n",
       "2018-03-01 07:00:00          15\n",
       "2018-03-01 08:00:00          34\n",
       "2018-03-01 09:00:00          69"
      ]
     },
     "execution_count": 12,
     "metadata": {},
     "output_type": "execute_result"
    }
   ],
   "source": [
    "# получение первых 10 строк датасета\n",
    "df.head(10)"
   ]
  },
  {
   "cell_type": "markdown",
   "metadata": {},
   "source": [
    "## Анализ"
   ]
  },
  {
   "cell_type": "markdown",
   "metadata": {},
   "source": [
    "Построим график зависимости количества заказанных такси от времени и отметим на нем скользящее среднее и стационарный ряд."
   ]
  },
  {
   "cell_type": "code",
   "execution_count": 13,
   "metadata": {},
   "outputs": [],
   "source": [
    "# создание копии датасета\n",
    "df_new = df.copy()"
   ]
  },
  {
   "cell_type": "code",
   "execution_count": 14,
   "metadata": {},
   "outputs": [],
   "source": [
    "# определение скользящего среднего\n",
    "df_new['rolling_mean'] = df_new.rolling(50).mean()"
   ]
  },
  {
   "cell_type": "code",
   "execution_count": 15,
   "metadata": {},
   "outputs": [],
   "source": [
    "# определение стационарного ряда\n",
    "df_new['rolling_std'] = df_new['num_orders'].rolling(50).std()"
   ]
  },
  {
   "cell_type": "code",
   "execution_count": 16,
   "metadata": {},
   "outputs": [
    {
     "data": {
      "text/plain": [
       "<matplotlib.legend.Legend at 0x7f2844472490>"
      ]
     },
     "execution_count": 16,
     "metadata": {},
     "output_type": "execute_result"
    },
    {
     "data": {
      "image/png": "[encoded data removed]",
      "text/plain": [
       "<Figure size 1152x576 with 1 Axes>"
      ]
     },
     "metadata": {
      "needs_background": "light"
     },
     "output_type": "display_data"
    }
   ],
   "source": [
    "# построение графика\n",
    "plt.plot\n",
    "df_new.plot(figsize = (16,8), grid = True)\n",
    "plt.title('График зависимости количества заказанных такси от времени', fontsize=20)\n",
    "plt.ylabel('Количество заказов', fontsize=16)\n",
    "plt.xlabel('Время заказа', fontsize=16)\n",
    "plt.legend(['Исходные данные', 'Скользящее среднее', 'Стационарный ряд'], fontsize=12)"
   ]
  },
  {
   "cell_type": "markdown",
   "metadata": {},
   "source": [
    "График показывает, что в более жаркие времена года число заказов в аэропортах увеличивается, что вполне логично, так как сезон отпусков."
   ]
  },
  {
   "cell_type": "markdown",
   "metadata": {},
   "source": [
    "Разложим временной ряд на три составляющие: тренд, сезонность и остаток."
   ]
  },
  {
   "cell_type": "code",
   "execution_count": 17,
   "metadata": {},
   "outputs": [
    {
     "data": {
      "image/png": "[encoded data removed]",
      "text/plain": [
       "<Figure size 1152x1152 with 3 Axes>"
      ]
     },
     "metadata": {
      "needs_background": "light"
     },
     "output_type": "display_data"
    }
   ],
   "source": [
    "# разложение временного ряда\n",
    "decomposed = seasonal_decompose(df['num_orders'].resample('1D').sum()) \n",
    "# построение графика\n",
    "plt.figure(figsize=(16, 16))\n",
    "plt.subplot(311)\n",
    "decomposed.trend.plot(ax=plt.gca(), color = 'g')\n",
    "plt.title('Тренд', fontsize=20)\n",
    "plt.xlabel('Время заказа', fontsize=16)\n",
    "plt.subplot(312)\n",
    "decomposed.seasonal.plot(ax=plt.gca(), color = 'r')\n",
    "plt.title('Сезонность', fontsize=20)\n",
    "plt.xlabel('Время заказа', fontsize=16)\n",
    "plt.subplot(313)\n",
    "decomposed.resid.plot(ax=plt.gca(), color = 'b')\n",
    "plt.title('Остаток декомпозиции', fontsize=20)\n",
    "plt.xlabel('Время заказа', fontsize=16)\n",
    "plt.tight_layout()"
   ]
  },
  {
   "cell_type": "markdown",
   "metadata": {},
   "source": [
    "Тренд подтверждает, что в теплое время года количество заказов растет. Сезонность демонстрирует закономерность с периодичностью равной примерно 1/4 месяца. Остаток декомпозиции примерно равномерный."
   ]
  },
  {
   "cell_type": "markdown",
   "metadata": {},
   "source": [
    "Рассмотрим данные о заказах такси за пару случайных дней."
   ]
  },
  {
   "cell_type": "code",
   "execution_count": 18,
   "metadata": {},
   "outputs": [],
   "source": [
    "# ресемплирование по часу\n",
    "df_new = df['2018-05-24':'2018-05-25'].resample('1H').sum()"
   ]
  },
  {
   "cell_type": "code",
   "execution_count": 19,
   "metadata": {},
   "outputs": [
    {
     "data": {
      "text/plain": [
       "Text(0.5, 0, 'Время заказа')"
      ]
     },
     "execution_count": 19,
     "metadata": {},
     "output_type": "execute_result"
    },
    {
     "data": {
      "image/png": "[encoded data removed]",
      "text/plain": [
       "<Figure size 1152x576 with 1 Axes>"
      ]
     },
     "metadata": {
      "needs_background": "light"
     },
     "output_type": "display_data"
    }
   ],
   "source": [
    "# построение графика\n",
    "plt.plot\n",
    "df_new.plot(figsize = (16,8), grid = True)\n",
    "plt.title('График зависимости количества заказанных такси от времени', fontsize=20)\n",
    "plt.ylabel('Количество заказов', fontsize=16)\n",
    "plt.xlabel('Время заказа', fontsize=16)"
   ]
  },
  {
   "cell_type": "markdown",
   "metadata": {},
   "source": [
    "Меньше всего заказов в 6 утра, а в обед и ночью заказов много. Видно что пик заказов приходится на вторую половину дня, особенно ближе к полуночи."
   ]
  },
  {
   "cell_type": "markdown",
   "metadata": {},
   "source": [
    "Рассмотрим сезонность за месяц."
   ]
  },
  {
   "cell_type": "code",
   "execution_count": 20,
   "metadata": {},
   "outputs": [
    {
     "data": {
      "text/plain": [
       "Text(0.5, 0, 'Время заказа')"
      ]
     },
     "execution_count": 20,
     "metadata": {},
     "output_type": "execute_result"
    },
    {
     "data": {
      "image/png": "[encoded data removed]",
      "text/plain": [
       "<Figure size 1152x576 with 1 Axes>"
      ]
     },
     "metadata": {
      "needs_background": "light"
     },
     "output_type": "display_data"
    }
   ],
   "source": [
    "decomposed.seasonal['2018-05-01':'2018-05-31'].plot(ax=plt.gca(), color = 'r', figsize = (16,8))\n",
    "plt.title('Сезонность', fontsize=20)\n",
    "plt.xlabel('Время заказа', fontsize=16)"
   ]
  },
  {
   "cell_type": "markdown",
   "metadata": {},
   "source": [
    "Согласно календарю за 2018 год, пики приходятся на пятницу и понедельники. Вероятно многие улетают/прилетают перед выходными и по понедельникам. Насколько мне известно, по понедельникам цены на билеты чуть ниже. Меньше всего заказов по вторникам и воскременьям.\n",
    "\n",
    "Подобная зависимость характерна для всего временного промежутка в датасете. Похоже, что это стохастический стационарный процесс."
   ]
  },
  {
   "cell_type": "markdown",
   "metadata": {},
   "source": [
    "## Обучение"
   ]
  },
  {
   "cell_type": "markdown",
   "metadata": {},
   "source": [
    "### Подготовка признаков"
   ]
  },
  {
   "cell_type": "code",
   "execution_count": 21,
   "metadata": {},
   "outputs": [],
   "source": [
    "# создание признаков\n",
    "def make_features(df, max_lag, rolling_mean_size):\n",
    "    df['dayofweek'] = df.index.dayofweek\n",
    "    df['hour'] = df.index.hour\n",
    "    \n",
    "    for lag in range(1, max_lag + 1):\n",
    "        df['lag_{}'.format(lag)] = df['num_orders'].shift(lag)\n",
    "\n",
    "    df['rolling_mean'] = df['num_orders'].shift().rolling(rolling_mean_size).mean()"
   ]
  },
  {
   "cell_type": "code",
   "execution_count": 22,
   "metadata": {},
   "outputs": [
    {
     "name": "stdout",
     "output_type": "stream",
     "text": [
      "                     num_orders  dayofweek  hour  lag_1  lag_2  lag_3  lag_4  \\\n",
      "datetime                                                                       \n",
      "2018-03-01 00:00:00         124          3     0    NaN    NaN    NaN    NaN   \n",
      "2018-03-01 01:00:00          85          3     1  124.0    NaN    NaN    NaN   \n",
      "2018-03-01 02:00:00          71          3     2   85.0  124.0    NaN    NaN   \n",
      "2018-03-01 03:00:00          66          3     3   71.0   85.0  124.0    NaN   \n",
      "2018-03-01 04:00:00          43          3     4   66.0   71.0   85.0  124.0   \n",
      "\n",
      "                     lag_5  lag_6  lag_7  ...  lag_12  lag_13  lag_14  lag_15  \\\n",
      "datetime                                  ...                                   \n",
      "2018-03-01 00:00:00    NaN    NaN    NaN  ...     NaN     NaN     NaN     NaN   \n",
      "2018-03-01 01:00:00    NaN    NaN    NaN  ...     NaN     NaN     NaN     NaN   \n",
      "2018-03-01 02:00:00    NaN    NaN    NaN  ...     NaN     NaN     NaN     NaN   \n",
      "2018-03-01 03:00:00    NaN    NaN    NaN  ...     NaN     NaN     NaN     NaN   \n",
      "2018-03-01 04:00:00    NaN    NaN    NaN  ...     NaN     NaN     NaN     NaN   \n",
      "\n",
      "                     lag_16  lag_17  lag_18  lag_19  lag_20  rolling_mean  \n",
      "datetime                                                                   \n",
      "2018-03-01 00:00:00     NaN     NaN     NaN     NaN     NaN           NaN  \n",
      "2018-03-01 01:00:00     NaN     NaN     NaN     NaN     NaN           NaN  \n",
      "2018-03-01 02:00:00     NaN     NaN     NaN     NaN     NaN           NaN  \n",
      "2018-03-01 03:00:00     NaN     NaN     NaN     NaN     NaN           NaN  \n",
      "2018-03-01 04:00:00     NaN     NaN     NaN     NaN     NaN           NaN  \n",
      "\n",
      "[5 rows x 24 columns]\n"
     ]
    }
   ],
   "source": [
    "make_features(df, 20, 24)\n",
    "print(df.head())"
   ]
  },
  {
   "cell_type": "code",
   "execution_count": 23,
   "metadata": {},
   "outputs": [],
   "source": [
    "# разделение данных\n",
    "total, test = train_test_split(df, shuffle=False, test_size=0.1)\n",
    "train, valid = train_test_split(total, shuffle=False, test_size=0.25)"
   ]
  },
  {
   "cell_type": "code",
   "execution_count": 24,
   "metadata": {},
   "outputs": [
    {
     "name": "stdout",
     "output_type": "stream",
     "text": [
      "2018-03-01 00:00:00 2018-07-03 03:00:00\n",
      "2018-07-03 04:00:00 2018-08-13 13:00:00\n",
      "2018-08-13 14:00:00 2018-08-31 23:00:00\n"
     ]
    }
   ],
   "source": [
    "# минимальные и максимальные значения индексов выборок\n",
    "print(train.index.min(), train.index.max())\n",
    "print(valid.index.min(), valid.index.max())\n",
    "print(test.index.min(), test.index.max())"
   ]
  },
  {
   "cell_type": "code",
   "execution_count": 25,
   "metadata": {},
   "outputs": [],
   "source": [
    "# удаление пропусков\n",
    "train = train.dropna() "
   ]
  },
  {
   "cell_type": "code",
   "execution_count": 26,
   "metadata": {},
   "outputs": [
    {
     "name": "stdout",
     "output_type": "stream",
     "text": [
      "(2956, 24)\n",
      "(994, 24)\n",
      "(442, 24)\n"
     ]
    }
   ],
   "source": [
    "# проверка размеров выборок\n",
    "print(train.shape)\n",
    "print(valid.shape)\n",
    "print(test.shape)"
   ]
  },
  {
   "cell_type": "code",
   "execution_count": 27,
   "metadata": {},
   "outputs": [],
   "source": [
    "# создание переменные для признаков и целевого признака\n",
    "features_train = train.drop(['num_orders'], axis=1)\n",
    "target_train = train['num_orders']\n",
    "features_valid = valid.drop(['num_orders'], axis=1)\n",
    "target_valid = valid['num_orders']\n",
    "features_test = test.drop(['num_orders'], axis=1)\n",
    "target_test = test['num_orders']"
   ]
  },
  {
   "cell_type": "code",
   "execution_count": 28,
   "metadata": {},
   "outputs": [],
   "source": [
    "# функция для расчета RMSE\n",
    "def RMSE(target,predictions):\n",
    "    MSE = mean_squared_error(target, predictions)\n",
    "    return MSE ** 0.5\n",
    "RMSE_score = make_scorer(RMSE, greater_is_better=False)"
   ]
  },
  {
   "cell_type": "markdown",
   "metadata": {},
   "source": [
    "### LinearRegression"
   ]
  },
  {
   "cell_type": "code",
   "execution_count": 29,
   "metadata": {},
   "outputs": [
    {
     "name": "stdout",
     "output_type": "stream",
     "text": [
      "CPU times: user 2 µs, sys: 1 µs, total: 3 µs\n",
      "Wall time: 5.96 µs\n",
      "Fitting 8 folds for each of 8 candidates, totalling 64 fits\n"
     ]
    }
   ],
   "source": [
    "%time\n",
    "model_lr = LinearRegression()\n",
    "tscv = TimeSeriesSplit(n_splits=8)\n",
    "lr_params = {\n",
    "    'copy_X': [False, True],\n",
    "    'fit_intercept': [True, False],\n",
    "    'normalize': [True, False]}\n",
    "grid_lr = GridSearchCV(model_lr, param_grid = lr_params, cv=tscv,\n",
    "                                            scoring = 'neg_mean_squared_error', n_jobs=-1, verbose=1)\n",
    "grid_lr.fit(features_train,target_train)\n",
    "predictions_lr = grid_lr.predict(features_valid)"
   ]
  },
  {
   "cell_type": "code",
   "execution_count": 30,
   "metadata": {},
   "outputs": [
    {
     "name": "stdout",
     "output_type": "stream",
     "text": [
      "Качество модели на валидационной выборке 33.38814585966799\n"
     ]
    }
   ],
   "source": [
    "print('Качество модели на валидационной выборке', RMSE(target_valid, predictions_lr))"
   ]
  },
  {
   "cell_type": "markdown",
   "metadata": {},
   "source": [
    "### RandomForest"
   ]
  },
  {
   "cell_type": "code",
   "execution_count": 31,
   "metadata": {},
   "outputs": [
    {
     "name": "stdout",
     "output_type": "stream",
     "text": [
      "Fitting 8 folds for each of 27 candidates, totalling 216 fits\n",
      "CPU times: user 31.6 s, sys: 237 ms, total: 31.9 s\n",
      "Wall time: 31.9 s\n"
     ]
    }
   ],
   "source": [
    "%%time\n",
    "model_rf = RandomForestRegressor(random_state=42)\n",
    "rf_params = {'n_estimators':range(10, 31, 10),\n",
    "             'max_depth':range (1,10)}\n",
    "grid_rf = GridSearchCV(model_rf, param_grid = rf_params, cv=tscv,\n",
    "                                            scoring = 'neg_mean_squared_error', n_jobs=-1, verbose=1)\n",
    "grid_rf.fit(features_train,target_train)\n",
    "predictions_rf = grid_rf.predict(features_valid)"
   ]
  },
  {
   "cell_type": "code",
   "execution_count": 32,
   "metadata": {},
   "outputs": [
    {
     "name": "stdout",
     "output_type": "stream",
     "text": [
      "Качество модели на валидационной выборке 32.20407816196409\n"
     ]
    }
   ],
   "source": [
    "print('Качество модели на валидационной выборке', RMSE(target_valid, predictions_rf))"
   ]
  },
  {
   "cell_type": "markdown",
   "metadata": {},
   "source": [
    "### DecisionTree"
   ]
  },
  {
   "cell_type": "code",
   "execution_count": 33,
   "metadata": {},
   "outputs": [
    {
     "name": "stdout",
     "output_type": "stream",
     "text": [
      "Fitting 8 folds for each of 9 candidates, totalling 72 fits\n",
      "CPU times: user 1.02 s, sys: 12 µs, total: 1.02 s\n",
      "Wall time: 1.03 s\n"
     ]
    }
   ],
   "source": [
    "%%time\n",
    "model_dt = DecisionTreeRegressor(random_state=42)\n",
    "dt_params = {'max_depth':range (1,10)}\n",
    "grid_dt = GridSearchCV(model_dt, param_grid = dt_params, cv=tscv,\n",
    "                                            scoring = 'neg_mean_squared_error', n_jobs=-1, verbose=1)\n",
    "grid_dt.fit(features_train,target_train)\n",
    "predictions_dt = grid_dt.predict(features_valid)"
   ]
  },
  {
   "cell_type": "code",
   "execution_count": 34,
   "metadata": {},
   "outputs": [
    {
     "name": "stdout",
     "output_type": "stream",
     "text": [
      "Качество модели на валидационной выборке 39.208359526896444\n"
     ]
    }
   ],
   "source": [
    "print('Качество модели на валидационной выборке', RMSE(target_valid, predictions_dt))"
   ]
  },
  {
   "cell_type": "markdown",
   "metadata": {},
   "source": [
    "### CatBoost"
   ]
  },
  {
   "cell_type": "code",
   "execution_count": 35,
   "metadata": {},
   "outputs": [
    {
     "name": "stdout",
     "output_type": "stream",
     "text": [
      "Fitting 8 folds for each of 4 candidates, totalling 32 fits\n",
      "CPU times: user 11min 59s, sys: 6min 59s, total: 18min 58s\n",
      "Wall time: 19min 10s\n"
     ]
    }
   ],
   "source": [
    "%%time\n",
    "model_cb = CatBoostRegressor(random_state=42,silent=True)\n",
    "cb_params = {\n",
    "    'learning_rate': [0.1],\n",
    "    'iterations': [10,50],\n",
    "    'max_depth': [10,15]\n",
    "}\n",
    "grid_cb = GridSearchCV(model_cb, param_grid = cb_params, cv=tscv,\n",
    "                                            scoring = 'neg_mean_squared_error', n_jobs=-1, verbose=1)\n",
    "grid_cb.fit(features_train,target_train)\n",
    "predictions_cb = grid_cb.predict(features_valid)"
   ]
  },
  {
   "cell_type": "code",
   "execution_count": 36,
   "metadata": {},
   "outputs": [
    {
     "name": "stdout",
     "output_type": "stream",
     "text": [
      "Качество модели на валидационной выборке 33.832665272896115\n"
     ]
    }
   ],
   "source": [
    "print('Качество модели на валидационной выборке', RMSE(target_valid, predictions_cb))"
   ]
  },
  {
   "cell_type": "markdown",
   "metadata": {},
   "source": [
    "### LGBM"
   ]
  },
  {
   "cell_type": "code",
   "execution_count": 37,
   "metadata": {},
   "outputs": [
    {
     "name": "stdout",
     "output_type": "stream",
     "text": [
      "Fitting 8 folds for each of 4 candidates, totalling 32 fits\n",
      "CPU times: user 15min 4s, sys: 15.8 s, total: 15min 19s\n",
      "Wall time: 15min 24s\n"
     ]
    }
   ],
   "source": [
    "%%time\n",
    "model_lgbm = LGBMRegressor(random_state=42)\n",
    "lgbm_params = {\n",
    "    'n_estimators': [10,40],\n",
    "    'max_depth': [15,25],\n",
    "    'learning_rate': [0.1]\n",
    "}\n",
    "grid_lgbm = GridSearchCV(model_lgbm, param_grid = lgbm_params, cv=tscv,\n",
    "                                            scoring = 'neg_mean_squared_error', n_jobs=-1, verbose=1)\n",
    "grid_lgbm.fit(features_train,target_train)\n",
    "predictions_lgbm = grid_lgbm.predict(features_valid)"
   ]
  },
  {
   "cell_type": "code",
   "execution_count": 38,
   "metadata": {},
   "outputs": [
    {
     "name": "stdout",
     "output_type": "stream",
     "text": [
      "Качество модели на валидационной выборке 30.98562704820783\n"
     ]
    }
   ],
   "source": [
    "print('Качество модели на валидационной выборке', RMSE(target_valid, predictions_lgbm))"
   ]
  },
  {
   "cell_type": "markdown",
   "metadata": {},
   "source": [
    "## Тестирование"
   ]
  },
  {
   "cell_type": "code",
   "execution_count": 39,
   "metadata": {},
   "outputs": [
    {
     "name": "stdout",
     "output_type": "stream",
     "text": [
      "RMSE: 46.476\n"
     ]
    }
   ],
   "source": [
    "# тестирование LinearRegression\n",
    "predictions_lr_test = grid_lr.predict(features_test)\n",
    "rmse_lr = RMSE(target_test, predictions_lr_test)\n",
    "print('RMSE:','{:.3f}'.format(rmse_lr))"
   ]
  },
  {
   "cell_type": "code",
   "execution_count": 40,
   "metadata": {},
   "outputs": [
    {
     "name": "stdout",
     "output_type": "stream",
     "text": [
      "RMSE: 62.242\n"
     ]
    }
   ],
   "source": [
    "# тестирование RandomForest\n",
    "predictions_rf_test = grid_rf.predict(features_test)\n",
    "rmse_rf = RMSE(target_test, predictions_rf_test)\n",
    "print('RMSE:','{:.3f}'.format(rmse_rf))"
   ]
  },
  {
   "cell_type": "code",
   "execution_count": 41,
   "metadata": {},
   "outputs": [
    {
     "name": "stdout",
     "output_type": "stream",
     "text": [
      "RMSE: 71.100\n"
     ]
    }
   ],
   "source": [
    "# тестирование DecisionTree\n",
    "predictions_dt_test = grid_dt.predict(features_test)\n",
    "rmse_dt = RMSE(target_test, predictions_dt_test)\n",
    "print('RMSE:','{:.3f}'.format(rmse_dt))"
   ]
  },
  {
   "cell_type": "code",
   "execution_count": 42,
   "metadata": {},
   "outputs": [
    {
     "name": "stdout",
     "output_type": "stream",
     "text": [
      "RMSE: 60.234\n"
     ]
    }
   ],
   "source": [
    "# тестирование LGBM\n",
    "predictions_lgbm_test = grid_lgbm.predict(features_test)\n",
    "rmse_lgbm = RMSE(target_test, predictions_lgbm_test)\n",
    "print('RMSE:','{:.3f}'.format(rmse_lgbm))"
   ]
  },
  {
   "cell_type": "code",
   "execution_count": 43,
   "metadata": {},
   "outputs": [
    {
     "name": "stdout",
     "output_type": "stream",
     "text": [
      "RMSE: 69.244\n"
     ]
    }
   ],
   "source": [
    "# тестирование CatBoost\n",
    "predictions_cb_test = grid_cb.predict(features_test)\n",
    "rmse_cb = RMSE(target_test, predictions_cb_test)\n",
    "print('RMSE:','{:.3f}'.format(rmse_cb))"
   ]
  },
  {
   "cell_type": "markdown",
   "metadata": {},
   "source": [
    "## Выводы"
   ]
  },
  {
   "cell_type": "code",
   "execution_count": 44,
   "metadata": {},
   "outputs": [
    {
     "data": {
      "text/html": [
       "<div>\n",
       "<style scoped>\n",
       "    .dataframe tbody tr th:only-of-type {\n",
       "        vertical-align: middle;\n",
       "    }\n",
       "\n",
       "    .dataframe tbody tr th {\n",
       "        vertical-align: top;\n",
       "    }\n",
       "\n",
       "    .dataframe thead th {\n",
       "        text-align: right;\n",
       "    }\n",
       "</style>\n",
       "<table border=\"1\" class=\"dataframe\">\n",
       "  <thead>\n",
       "    <tr style=\"text-align: right;\">\n",
       "      <th></th>\n",
       "      <th>RMSE</th>\n",
       "    </tr>\n",
       "  </thead>\n",
       "  <tbody>\n",
       "    <tr>\n",
       "      <th>LinearRegression</th>\n",
       "      <td>46.475572</td>\n",
       "    </tr>\n",
       "    <tr>\n",
       "      <th>RandomForest</th>\n",
       "      <td>62.241852</td>\n",
       "    </tr>\n",
       "    <tr>\n",
       "      <th>DecisionTrees</th>\n",
       "      <td>71.100139</td>\n",
       "    </tr>\n",
       "    <tr>\n",
       "      <th>LGBM</th>\n",
       "      <td>60.234302</td>\n",
       "    </tr>\n",
       "    <tr>\n",
       "      <th>CatBoost</th>\n",
       "      <td>69.243527</td>\n",
       "    </tr>\n",
       "  </tbody>\n",
       "</table>\n",
       "</div>"
      ],
      "text/plain": [
       "                       RMSE\n",
       "LinearRegression  46.475572\n",
       "RandomForest      62.241852\n",
       "DecisionTrees     71.100139\n",
       "LGBM              60.234302\n",
       "CatBoost          69.243527"
      ]
     },
     "execution_count": 44,
     "metadata": {},
     "output_type": "execute_result"
    }
   ],
   "source": [
    "models = pd.DataFrame([rmse_lr, rmse_rf, rmse_dt, rmse_lgbm, rmse_cb], \n",
    "             columns=['RMSE'], \n",
    "                      index=['LinearRegression', 'RandomForest', 'DecisionTrees', 'LGBM', 'CatBoost'])\n",
    "models"
   ]
  },
  {
   "cell_type": "markdown",
   "metadata": {},
   "source": [
    "Как видно из таблицы, наилучшей моделью по качеству является линейная регрессия. Значение 46,48 удовлетворяет условиям поставленной задачи.\n",
    "\n",
    "Можно было улучшить качество путем увеличения количества отстающих значений. Но для скорости расчета достаточно и этих значений."
   ]
  },
  {
   "cell_type": "code",
   "execution_count": 112,
   "metadata": {},
   "outputs": [
    {
     "data": {
      "text/plain": [
       "<matplotlib.legend.Legend at 0x7f28302a28e0>"
      ]
     },
     "execution_count": 112,
     "metadata": {},
     "output_type": "execute_result"
    },
    {
     "data": {
      "image/png": "[encoded data removed]",
      "text/plain": [
       "<Figure size 1152x576 with 1 Axes>"
      ]
     },
     "metadata": {
      "needs_background": "light"
     },
     "output_type": "display_data"
    }
   ],
   "source": [
    "# построение графика\n",
    "plt.subplot\n",
    "target_test.plot(figsize = (16,8), grid = True)\n",
    "pred.plot\n",
    "plt.title('Результаты модели, 2 дня', fontsize=20)\n",
    "plt.ylabel('Количество заказов', fontsize=16)\n",
    "plt.xlabel('Время заказа', fontsize=16)\n",
    "plt.legend(['Реальные', 'Предсказанные'], fontsize=12)"
   ]
  }
 ],
 "metadata": {
  "ExecuteTimeLog": [
   {
    "duration": 1582,
    "start_time": "2022-05-18T20:42:36.107Z"
   },
   {
    "duration": 83,
    "start_time": "2022-05-18T20:43:18.139Z"
   },
   {
    "duration": 12,
    "start_time": "2022-05-18T20:44:21.242Z"
   },
   {
    "duration": 14,
    "start_time": "2022-05-18T20:44:53.365Z"
   },
   {
    "duration": 13,
    "start_time": "2022-05-18T20:46:09.492Z"
   },
   {
    "duration": 12,
    "start_time": "2022-05-18T20:46:30.878Z"
   },
   {
    "duration": 9,
    "start_time": "2022-05-18T20:50:34.113Z"
   },
   {
    "duration": 1328,
    "start_time": "2022-05-18T20:53:17.436Z"
   },
   {
    "duration": 36,
    "start_time": "2022-05-18T20:53:18.765Z"
   },
   {
    "duration": 10,
    "start_time": "2022-05-18T20:53:18.803Z"
   },
   {
    "duration": 14,
    "start_time": "2022-05-18T20:53:18.815Z"
   },
   {
    "duration": 13,
    "start_time": "2022-05-18T20:53:18.831Z"
   },
   {
    "duration": 4,
    "start_time": "2022-05-18T20:53:18.845Z"
   },
   {
    "duration": 162,
    "start_time": "2022-05-18T20:53:18.851Z"
   },
   {
    "duration": 45,
    "start_time": "2022-05-18T20:54:50.411Z"
   },
   {
    "duration": 35,
    "start_time": "2022-05-18T20:55:04.419Z"
   },
   {
    "duration": 9,
    "start_time": "2022-05-18T20:55:07.583Z"
   },
   {
    "duration": 11,
    "start_time": "2022-05-18T20:55:09.995Z"
   },
   {
    "duration": 31,
    "start_time": "2022-05-18T20:55:31.485Z"
   },
   {
    "duration": 5,
    "start_time": "2022-05-18T20:55:39.901Z"
   },
   {
    "duration": 41,
    "start_time": "2022-05-18T20:55:39.908Z"
   },
   {
    "duration": 8,
    "start_time": "2022-05-18T20:55:39.951Z"
   },
   {
    "duration": 15,
    "start_time": "2022-05-18T20:55:39.961Z"
   },
   {
    "duration": 24,
    "start_time": "2022-05-18T20:55:39.979Z"
   },
   {
    "duration": 21,
    "start_time": "2022-05-18T20:55:40.005Z"
   },
   {
    "duration": 9,
    "start_time": "2022-05-18T20:55:40.027Z"
   },
   {
    "duration": 1369,
    "start_time": "2022-05-18T20:56:03.521Z"
   },
   {
    "duration": 32,
    "start_time": "2022-05-18T20:56:04.892Z"
   },
   {
    "duration": 11,
    "start_time": "2022-05-18T20:56:04.925Z"
   },
   {
    "duration": 15,
    "start_time": "2022-05-18T20:56:04.938Z"
   },
   {
    "duration": 14,
    "start_time": "2022-05-18T20:56:04.954Z"
   },
   {
    "duration": 15,
    "start_time": "2022-05-18T20:56:04.969Z"
   },
   {
    "duration": 8,
    "start_time": "2022-05-18T20:56:04.986Z"
   },
   {
    "duration": 12,
    "start_time": "2022-05-18T20:56:15.518Z"
   },
   {
    "duration": 283,
    "start_time": "2022-05-18T20:58:21.755Z"
   },
   {
    "duration": 124,
    "start_time": "2022-05-18T20:58:55.360Z"
   },
   {
    "duration": 13,
    "start_time": "2022-05-18T21:00:05.478Z"
   },
   {
    "duration": 1341,
    "start_time": "2022-05-18T21:01:27.662Z"
   },
   {
    "duration": 33,
    "start_time": "2022-05-18T21:01:29.005Z"
   },
   {
    "duration": 12,
    "start_time": "2022-05-18T21:01:29.040Z"
   },
   {
    "duration": 12,
    "start_time": "2022-05-18T21:01:29.055Z"
   },
   {
    "duration": 15,
    "start_time": "2022-05-18T21:01:29.069Z"
   },
   {
    "duration": 13,
    "start_time": "2022-05-18T21:01:29.086Z"
   },
   {
    "duration": 10,
    "start_time": "2022-05-18T21:01:29.124Z"
   },
   {
    "duration": 1328,
    "start_time": "2022-05-18T21:01:41.149Z"
   },
   {
    "duration": 34,
    "start_time": "2022-05-18T21:01:42.479Z"
   },
   {
    "duration": 19,
    "start_time": "2022-05-18T21:01:42.516Z"
   },
   {
    "duration": 46,
    "start_time": "2022-05-18T21:01:42.537Z"
   },
   {
    "duration": 22,
    "start_time": "2022-05-18T21:01:42.586Z"
   },
   {
    "duration": 13,
    "start_time": "2022-05-18T21:01:46.680Z"
   },
   {
    "duration": 132,
    "start_time": "2022-05-18T21:03:40.336Z"
   },
   {
    "duration": 12,
    "start_time": "2022-05-18T21:03:43.880Z"
   },
   {
    "duration": 5,
    "start_time": "2022-05-18T21:04:17.561Z"
   },
   {
    "duration": 11,
    "start_time": "2022-05-18T21:04:25.560Z"
   },
   {
    "duration": 21,
    "start_time": "2022-05-18T21:11:30.913Z"
   },
   {
    "duration": 8,
    "start_time": "2022-05-18T21:13:29.226Z"
   },
   {
    "duration": 8,
    "start_time": "2022-05-18T21:13:40.356Z"
   },
   {
    "duration": 34,
    "start_time": "2022-05-18T21:14:43.122Z"
   },
   {
    "duration": 3,
    "start_time": "2022-05-18T21:14:43.765Z"
   },
   {
    "duration": 4,
    "start_time": "2022-05-18T21:14:44.506Z"
   },
   {
    "duration": 10,
    "start_time": "2022-05-18T21:14:44.571Z"
   },
   {
    "duration": 7,
    "start_time": "2022-05-18T21:15:13.053Z"
   },
   {
    "duration": 9,
    "start_time": "2022-05-18T21:15:13.681Z"
   },
   {
    "duration": 6,
    "start_time": "2022-05-18T21:23:24.150Z"
   },
   {
    "duration": 124,
    "start_time": "2022-05-18T21:26:02.397Z"
   },
   {
    "duration": 4,
    "start_time": "2022-05-18T21:26:22.908Z"
   },
   {
    "duration": 495,
    "start_time": "2022-05-18T21:26:27.989Z"
   },
   {
    "duration": 339,
    "start_time": "2022-05-18T21:26:49.740Z"
   },
   {
    "duration": 333,
    "start_time": "2022-05-18T21:27:03.855Z"
   },
   {
    "duration": 437,
    "start_time": "2022-05-18T21:27:31.478Z"
   },
   {
    "duration": 327,
    "start_time": "2022-05-18T21:31:07.589Z"
   },
   {
    "duration": 348,
    "start_time": "2022-05-18T21:31:45.846Z"
   },
   {
    "duration": 338,
    "start_time": "2022-05-18T21:31:55.357Z"
   },
   {
    "duration": 339,
    "start_time": "2022-05-18T21:32:30.973Z"
   },
   {
    "duration": 332,
    "start_time": "2022-05-18T21:34:35.247Z"
   },
   {
    "duration": 5,
    "start_time": "2022-05-18T21:36:12.270Z"
   },
   {
    "duration": 442,
    "start_time": "2022-05-18T21:36:13.220Z"
   },
   {
    "duration": 5,
    "start_time": "2022-05-18T21:36:23.780Z"
   },
   {
    "duration": 312,
    "start_time": "2022-05-18T21:36:24.917Z"
   },
   {
    "duration": 405,
    "start_time": "2022-05-18T21:38:06.865Z"
   },
   {
    "duration": 4,
    "start_time": "2022-05-18T21:39:05.449Z"
   },
   {
    "duration": 426,
    "start_time": "2022-05-18T21:39:08.918Z"
   },
   {
    "duration": 5,
    "start_time": "2022-05-18T21:39:20.725Z"
   },
   {
    "duration": 352,
    "start_time": "2022-05-18T21:39:20.783Z"
   },
   {
    "duration": 6,
    "start_time": "2022-05-18T21:39:30.285Z"
   },
   {
    "duration": 4,
    "start_time": "2022-05-18T21:39:32.310Z"
   },
   {
    "duration": 477,
    "start_time": "2022-05-18T21:39:54.318Z"
   },
   {
    "duration": 1645,
    "start_time": "2022-05-19T17:50:41.635Z"
   },
   {
    "duration": 164,
    "start_time": "2022-05-19T17:50:43.282Z"
   },
   {
    "duration": 12,
    "start_time": "2022-05-19T17:50:43.448Z"
   },
   {
    "duration": 40,
    "start_time": "2022-05-19T17:50:43.462Z"
   },
   {
    "duration": 49,
    "start_time": "2022-05-19T17:50:43.505Z"
   },
   {
    "duration": 49,
    "start_time": "2022-05-19T17:50:43.556Z"
   },
   {
    "duration": 54,
    "start_time": "2022-05-19T17:50:43.607Z"
   },
   {
    "duration": 14,
    "start_time": "2022-05-19T17:50:43.663Z"
   },
   {
    "duration": 26,
    "start_time": "2022-05-19T17:50:43.679Z"
   },
   {
    "duration": 67,
    "start_time": "2022-05-19T17:50:43.707Z"
   },
   {
    "duration": 48,
    "start_time": "2022-05-19T17:50:43.775Z"
   },
   {
    "duration": 31,
    "start_time": "2022-05-19T17:50:43.829Z"
   },
   {
    "duration": 44,
    "start_time": "2022-05-19T17:50:43.861Z"
   },
   {
    "duration": 46,
    "start_time": "2022-05-19T17:50:43.907Z"
   },
   {
    "duration": 450,
    "start_time": "2022-05-19T17:51:05.260Z"
   },
   {
    "duration": 123,
    "start_time": "2022-05-19T18:39:54.067Z"
   },
   {
    "duration": 687,
    "start_time": "2022-05-19T18:43:18.846Z"
   },
   {
    "duration": 795,
    "start_time": "2022-05-19T18:43:48.211Z"
   },
   {
    "duration": 842,
    "start_time": "2022-05-19T18:43:57.978Z"
   },
   {
    "duration": 847,
    "start_time": "2022-05-19T18:44:24.957Z"
   },
   {
    "duration": 979,
    "start_time": "2022-05-19T18:45:04.924Z"
   },
   {
    "duration": 887,
    "start_time": "2022-05-19T18:45:24.616Z"
   },
   {
    "duration": 35,
    "start_time": "2022-05-19T18:45:45.754Z"
   },
   {
    "duration": 1036,
    "start_time": "2022-05-19T18:46:12.003Z"
   },
   {
    "duration": 897,
    "start_time": "2022-05-19T18:46:59.853Z"
   },
   {
    "duration": 794,
    "start_time": "2022-05-19T18:51:15.952Z"
   },
   {
    "duration": 751,
    "start_time": "2022-05-19T19:11:15.157Z"
   },
   {
    "duration": 0,
    "start_time": "2022-05-19T19:11:15.910Z"
   },
   {
    "duration": 0,
    "start_time": "2022-05-19T19:11:15.912Z"
   },
   {
    "duration": 0,
    "start_time": "2022-05-19T19:11:15.914Z"
   },
   {
    "duration": 0,
    "start_time": "2022-05-19T19:11:15.915Z"
   },
   {
    "duration": 0,
    "start_time": "2022-05-19T19:11:15.915Z"
   },
   {
    "duration": 0,
    "start_time": "2022-05-19T19:11:15.916Z"
   },
   {
    "duration": 0,
    "start_time": "2022-05-19T19:11:15.918Z"
   },
   {
    "duration": 0,
    "start_time": "2022-05-19T19:11:15.919Z"
   },
   {
    "duration": 0,
    "start_time": "2022-05-19T19:11:15.919Z"
   },
   {
    "duration": 0,
    "start_time": "2022-05-19T19:11:15.921Z"
   },
   {
    "duration": 0,
    "start_time": "2022-05-19T19:11:15.922Z"
   },
   {
    "duration": 0,
    "start_time": "2022-05-19T19:11:15.923Z"
   },
   {
    "duration": 0,
    "start_time": "2022-05-19T19:11:15.924Z"
   },
   {
    "duration": 1432,
    "start_time": "2022-05-19T19:11:51.037Z"
   },
   {
    "duration": 40,
    "start_time": "2022-05-19T19:11:52.471Z"
   },
   {
    "duration": 11,
    "start_time": "2022-05-19T19:11:52.513Z"
   },
   {
    "duration": 11,
    "start_time": "2022-05-19T19:11:52.526Z"
   },
   {
    "duration": 19,
    "start_time": "2022-05-19T19:11:52.540Z"
   },
   {
    "duration": 13,
    "start_time": "2022-05-19T19:11:52.560Z"
   },
   {
    "duration": 53,
    "start_time": "2022-05-19T19:11:52.574Z"
   },
   {
    "duration": 4,
    "start_time": "2022-05-19T19:11:52.629Z"
   },
   {
    "duration": 6,
    "start_time": "2022-05-19T19:11:52.635Z"
   },
   {
    "duration": 16,
    "start_time": "2022-05-19T19:11:52.643Z"
   },
   {
    "duration": 15,
    "start_time": "2022-05-19T19:11:52.661Z"
   },
   {
    "duration": 9,
    "start_time": "2022-05-19T19:11:52.678Z"
   },
   {
    "duration": 145,
    "start_time": "2022-05-19T19:11:52.689Z"
   },
   {
    "duration": 0,
    "start_time": "2022-05-19T19:11:52.836Z"
   },
   {
    "duration": 9,
    "start_time": "2022-05-19T19:12:22.684Z"
   },
   {
    "duration": 2,
    "start_time": "2022-05-19T19:13:27.719Z"
   },
   {
    "duration": 7,
    "start_time": "2022-05-19T19:13:29.418Z"
   },
   {
    "duration": 5,
    "start_time": "2022-05-19T19:13:31.112Z"
   },
   {
    "duration": 594,
    "start_time": "2022-05-19T19:13:31.748Z"
   },
   {
    "duration": 315,
    "start_time": "2022-05-19T19:14:20.273Z"
   },
   {
    "duration": 293,
    "start_time": "2022-05-19T19:14:45.193Z"
   },
   {
    "duration": 5,
    "start_time": "2022-05-19T19:15:18.064Z"
   },
   {
    "duration": 5,
    "start_time": "2022-05-19T19:15:18.513Z"
   },
   {
    "duration": 434,
    "start_time": "2022-05-19T19:15:19.948Z"
   },
   {
    "duration": 9,
    "start_time": "2022-05-19T19:15:49.161Z"
   },
   {
    "duration": 1372,
    "start_time": "2022-05-19T19:16:04.122Z"
   },
   {
    "duration": 41,
    "start_time": "2022-05-19T19:16:05.496Z"
   },
   {
    "duration": 12,
    "start_time": "2022-05-19T19:16:05.538Z"
   },
   {
    "duration": 36,
    "start_time": "2022-05-19T19:16:05.552Z"
   },
   {
    "duration": 57,
    "start_time": "2022-05-19T19:16:05.590Z"
   },
   {
    "duration": 43,
    "start_time": "2022-05-19T19:16:05.649Z"
   },
   {
    "duration": 49,
    "start_time": "2022-05-19T19:16:05.694Z"
   },
   {
    "duration": 3,
    "start_time": "2022-05-19T19:16:05.745Z"
   },
   {
    "duration": 35,
    "start_time": "2022-05-19T19:16:05.749Z"
   },
   {
    "duration": 28,
    "start_time": "2022-05-19T19:16:05.786Z"
   },
   {
    "duration": 18,
    "start_time": "2022-05-19T19:16:05.816Z"
   },
   {
    "duration": 21,
    "start_time": "2022-05-19T19:16:05.835Z"
   },
   {
    "duration": 9,
    "start_time": "2022-05-19T19:16:09.253Z"
   },
   {
    "duration": 6,
    "start_time": "2022-05-19T19:16:38.594Z"
   },
   {
    "duration": 4,
    "start_time": "2022-05-19T19:16:39.053Z"
   },
   {
    "duration": 342,
    "start_time": "2022-05-19T19:16:39.528Z"
   },
   {
    "duration": 1344,
    "start_time": "2022-05-19T19:17:07.211Z"
   },
   {
    "duration": 40,
    "start_time": "2022-05-19T19:17:08.557Z"
   },
   {
    "duration": 12,
    "start_time": "2022-05-19T19:17:08.599Z"
   },
   {
    "duration": 21,
    "start_time": "2022-05-19T19:17:08.613Z"
   },
   {
    "duration": 16,
    "start_time": "2022-05-19T19:17:08.636Z"
   },
   {
    "duration": 21,
    "start_time": "2022-05-19T19:17:08.654Z"
   },
   {
    "duration": 39,
    "start_time": "2022-05-19T19:17:08.677Z"
   },
   {
    "duration": 4,
    "start_time": "2022-05-19T19:17:08.718Z"
   },
   {
    "duration": 9,
    "start_time": "2022-05-19T19:17:08.723Z"
   },
   {
    "duration": 12,
    "start_time": "2022-05-19T19:17:08.733Z"
   },
   {
    "duration": 8,
    "start_time": "2022-05-19T19:17:08.749Z"
   },
   {
    "duration": 20,
    "start_time": "2022-05-19T19:17:08.759Z"
   },
   {
    "duration": 131,
    "start_time": "2022-05-19T19:17:08.781Z"
   },
   {
    "duration": 0,
    "start_time": "2022-05-19T19:17:08.914Z"
   },
   {
    "duration": 0,
    "start_time": "2022-05-19T19:17:08.916Z"
   },
   {
    "duration": 6,
    "start_time": "2022-05-19T19:17:39.762Z"
   },
   {
    "duration": 5,
    "start_time": "2022-05-19T19:17:40.528Z"
   },
   {
    "duration": 393,
    "start_time": "2022-05-19T19:17:40.913Z"
   },
   {
    "duration": 774,
    "start_time": "2022-05-19T19:17:45.504Z"
   },
   {
    "duration": 9,
    "start_time": "2022-05-19T19:20:37.353Z"
   },
   {
    "duration": 4,
    "start_time": "2022-05-19T19:24:39.107Z"
   },
   {
    "duration": 18,
    "start_time": "2022-05-19T19:25:30.802Z"
   },
   {
    "duration": 23,
    "start_time": "2022-05-19T19:25:42.730Z"
   },
   {
    "duration": 25,
    "start_time": "2022-05-19T19:25:57.800Z"
   },
   {
    "duration": 1304,
    "start_time": "2022-05-19T19:28:16.214Z"
   },
   {
    "duration": 42,
    "start_time": "2022-05-19T19:28:17.520Z"
   },
   {
    "duration": 10,
    "start_time": "2022-05-19T19:28:17.563Z"
   },
   {
    "duration": 11,
    "start_time": "2022-05-19T19:28:17.575Z"
   },
   {
    "duration": 15,
    "start_time": "2022-05-19T19:28:17.588Z"
   },
   {
    "duration": 12,
    "start_time": "2022-05-19T19:28:17.605Z"
   },
   {
    "duration": 23,
    "start_time": "2022-05-19T19:28:17.618Z"
   },
   {
    "duration": 3,
    "start_time": "2022-05-19T19:28:17.643Z"
   },
   {
    "duration": 5,
    "start_time": "2022-05-19T19:28:17.648Z"
   },
   {
    "duration": 12,
    "start_time": "2022-05-19T19:28:17.654Z"
   },
   {
    "duration": 8,
    "start_time": "2022-05-19T19:28:17.668Z"
   },
   {
    "duration": 36,
    "start_time": "2022-05-19T19:28:17.677Z"
   },
   {
    "duration": 10,
    "start_time": "2022-05-19T19:28:21.200Z"
   },
   {
    "duration": 5,
    "start_time": "2022-05-19T19:28:22.687Z"
   },
   {
    "duration": 339,
    "start_time": "2022-05-19T19:28:23.419Z"
   },
   {
    "duration": 283,
    "start_time": "2022-05-19T19:28:49.520Z"
   },
   {
    "duration": 5,
    "start_time": "2022-05-19T19:29:09.255Z"
   },
   {
    "duration": 46,
    "start_time": "2022-05-19T19:29:09.261Z"
   },
   {
    "duration": 8,
    "start_time": "2022-05-19T19:29:09.309Z"
   },
   {
    "duration": 12,
    "start_time": "2022-05-19T19:29:09.319Z"
   },
   {
    "duration": 15,
    "start_time": "2022-05-19T19:29:09.333Z"
   },
   {
    "duration": 13,
    "start_time": "2022-05-19T19:29:09.350Z"
   },
   {
    "duration": 50,
    "start_time": "2022-05-19T19:29:09.364Z"
   },
   {
    "duration": 4,
    "start_time": "2022-05-19T19:29:09.416Z"
   },
   {
    "duration": 6,
    "start_time": "2022-05-19T19:29:09.422Z"
   },
   {
    "duration": 19,
    "start_time": "2022-05-19T19:29:09.429Z"
   },
   {
    "duration": 9,
    "start_time": "2022-05-19T19:29:09.450Z"
   },
   {
    "duration": 11,
    "start_time": "2022-05-19T19:29:09.461Z"
   },
   {
    "duration": 8,
    "start_time": "2022-05-19T19:29:14.914Z"
   },
   {
    "duration": 5,
    "start_time": "2022-05-19T19:29:15.367Z"
   },
   {
    "duration": 10,
    "start_time": "2022-05-19T19:29:31.880Z"
   },
   {
    "duration": 279,
    "start_time": "2022-05-19T19:29:41.835Z"
   },
   {
    "duration": 9,
    "start_time": "2022-05-19T19:31:05.265Z"
   },
   {
    "duration": 4,
    "start_time": "2022-05-19T19:31:06.096Z"
   },
   {
    "duration": 308,
    "start_time": "2022-05-19T19:31:06.824Z"
   },
   {
    "duration": 5,
    "start_time": "2022-05-19T19:33:40.129Z"
   },
   {
    "duration": 6,
    "start_time": "2022-05-19T19:33:40.706Z"
   },
   {
    "duration": 511,
    "start_time": "2022-05-19T19:33:41.569Z"
   },
   {
    "duration": 115,
    "start_time": "2022-05-19T19:34:06.462Z"
   },
   {
    "duration": 5,
    "start_time": "2022-05-19T19:34:53.192Z"
   },
   {
    "duration": 54,
    "start_time": "2022-05-19T19:34:53.200Z"
   },
   {
    "duration": 8,
    "start_time": "2022-05-19T19:34:53.256Z"
   },
   {
    "duration": 16,
    "start_time": "2022-05-19T19:34:53.265Z"
   },
   {
    "duration": 15,
    "start_time": "2022-05-19T19:34:53.283Z"
   },
   {
    "duration": 12,
    "start_time": "2022-05-19T19:34:53.300Z"
   },
   {
    "duration": 24,
    "start_time": "2022-05-19T19:34:53.314Z"
   },
   {
    "duration": 3,
    "start_time": "2022-05-19T19:34:53.340Z"
   },
   {
    "duration": 7,
    "start_time": "2022-05-19T19:34:53.344Z"
   },
   {
    "duration": 13,
    "start_time": "2022-05-19T19:34:53.353Z"
   },
   {
    "duration": 13,
    "start_time": "2022-05-19T19:34:53.368Z"
   },
   {
    "duration": 32,
    "start_time": "2022-05-19T19:34:53.383Z"
   },
   {
    "duration": 3,
    "start_time": "2022-05-19T19:34:56.016Z"
   },
   {
    "duration": 6,
    "start_time": "2022-05-19T19:35:00.788Z"
   },
   {
    "duration": 6,
    "start_time": "2022-05-19T19:35:01.505Z"
   },
   {
    "duration": 367,
    "start_time": "2022-05-19T19:35:01.960Z"
   },
   {
    "duration": 864,
    "start_time": "2022-05-19T19:35:05.341Z"
   },
   {
    "duration": 9,
    "start_time": "2022-05-19T19:38:26.017Z"
   },
   {
    "duration": 437,
    "start_time": "2022-05-19T19:38:49.513Z"
   },
   {
    "duration": 4,
    "start_time": "2022-05-19T19:39:35.170Z"
   },
   {
    "duration": 4,
    "start_time": "2022-05-19T19:39:36.365Z"
   },
   {
    "duration": 249,
    "start_time": "2022-05-19T19:39:49.265Z"
   },
   {
    "duration": 7,
    "start_time": "2022-05-19T19:40:01.223Z"
   },
   {
    "duration": 66,
    "start_time": "2022-05-19T19:40:01.233Z"
   },
   {
    "duration": 8,
    "start_time": "2022-05-19T19:40:01.301Z"
   },
   {
    "duration": 20,
    "start_time": "2022-05-19T19:40:01.311Z"
   },
   {
    "duration": 49,
    "start_time": "2022-05-19T19:40:01.333Z"
   },
   {
    "duration": 78,
    "start_time": "2022-05-19T19:40:01.384Z"
   },
   {
    "duration": 55,
    "start_time": "2022-05-19T19:40:01.464Z"
   },
   {
    "duration": 11,
    "start_time": "2022-05-19T19:40:01.523Z"
   },
   {
    "duration": 41,
    "start_time": "2022-05-19T19:40:01.536Z"
   },
   {
    "duration": 53,
    "start_time": "2022-05-19T19:40:01.578Z"
   },
   {
    "duration": 23,
    "start_time": "2022-05-19T19:40:01.633Z"
   },
   {
    "duration": 36,
    "start_time": "2022-05-19T19:40:01.658Z"
   },
   {
    "duration": 48,
    "start_time": "2022-05-19T19:40:01.696Z"
   },
   {
    "duration": 45,
    "start_time": "2022-05-19T19:40:01.747Z"
   },
   {
    "duration": 17,
    "start_time": "2022-05-19T19:40:01.794Z"
   },
   {
    "duration": 366,
    "start_time": "2022-05-19T19:40:07.122Z"
   },
   {
    "duration": 832,
    "start_time": "2022-05-19T19:40:14.610Z"
   },
   {
    "duration": 7,
    "start_time": "2022-05-19T19:40:45.313Z"
   },
   {
    "duration": 214,
    "start_time": "2022-05-19T19:40:54.750Z"
   },
   {
    "duration": 7,
    "start_time": "2022-05-19T19:41:15.316Z"
   },
   {
    "duration": 231,
    "start_time": "2022-05-19T19:41:15.986Z"
   },
   {
    "duration": 8,
    "start_time": "2022-05-19T19:42:02.749Z"
   },
   {
    "duration": 216,
    "start_time": "2022-05-19T19:42:07.418Z"
   },
   {
    "duration": 8,
    "start_time": "2022-05-19T19:42:22.945Z"
   },
   {
    "duration": 219,
    "start_time": "2022-05-19T19:42:23.396Z"
   },
   {
    "duration": 755,
    "start_time": "2022-05-19T19:44:11.676Z"
   },
   {
    "duration": 900,
    "start_time": "2022-05-19T19:44:45.121Z"
   },
   {
    "duration": 10,
    "start_time": "2022-05-19T19:49:54.794Z"
   },
   {
    "duration": 169,
    "start_time": "2022-05-19T19:50:16.483Z"
   },
   {
    "duration": 255,
    "start_time": "2022-05-19T19:51:14.755Z"
   },
   {
    "duration": 380,
    "start_time": "2022-05-19T19:51:36.388Z"
   },
   {
    "duration": 258,
    "start_time": "2022-05-19T19:52:57.120Z"
   },
   {
    "duration": 7,
    "start_time": "2022-05-19T20:04:24.852Z"
   },
   {
    "duration": 4,
    "start_time": "2022-05-19T20:07:51.947Z"
   },
   {
    "duration": 6,
    "start_time": "2022-05-19T20:14:36.230Z"
   },
   {
    "duration": 32,
    "start_time": "2022-05-19T20:23:07.536Z"
   },
   {
    "duration": 30,
    "start_time": "2022-05-19T20:23:27.814Z"
   },
   {
    "duration": 32,
    "start_time": "2022-05-19T20:24:08.630Z"
   },
   {
    "duration": 90,
    "start_time": "2022-05-19T20:24:23.416Z"
   },
   {
    "duration": 80,
    "start_time": "2022-05-19T20:24:33.358Z"
   },
   {
    "duration": 57,
    "start_time": "2022-05-19T20:24:43.273Z"
   },
   {
    "duration": 56,
    "start_time": "2022-05-19T20:24:50.429Z"
   },
   {
    "duration": 75,
    "start_time": "2022-05-19T20:24:57.759Z"
   },
   {
    "duration": 146,
    "start_time": "2022-05-19T20:25:04.451Z"
   },
   {
    "duration": 79,
    "start_time": "2022-05-19T20:25:13.054Z"
   },
   {
    "duration": 74,
    "start_time": "2022-05-19T20:25:26.783Z"
   },
   {
    "duration": 87,
    "start_time": "2022-05-19T20:25:33.084Z"
   },
   {
    "duration": 50,
    "start_time": "2022-05-19T20:28:08.375Z"
   },
   {
    "duration": 5,
    "start_time": "2022-05-19T20:28:26.507Z"
   },
   {
    "duration": 51,
    "start_time": "2022-05-19T20:28:26.514Z"
   },
   {
    "duration": 10,
    "start_time": "2022-05-19T20:28:26.567Z"
   },
   {
    "duration": 17,
    "start_time": "2022-05-19T20:28:26.579Z"
   },
   {
    "duration": 11,
    "start_time": "2022-05-19T20:28:26.599Z"
   },
   {
    "duration": 15,
    "start_time": "2022-05-19T20:28:26.612Z"
   },
   {
    "duration": 31,
    "start_time": "2022-05-19T20:28:26.629Z"
   },
   {
    "duration": 4,
    "start_time": "2022-05-19T20:28:26.662Z"
   },
   {
    "duration": 11,
    "start_time": "2022-05-19T20:28:26.668Z"
   },
   {
    "duration": 12,
    "start_time": "2022-05-19T20:28:26.680Z"
   },
   {
    "duration": 7,
    "start_time": "2022-05-19T20:28:26.712Z"
   },
   {
    "duration": 8,
    "start_time": "2022-05-19T20:28:26.721Z"
   },
   {
    "duration": 5,
    "start_time": "2022-05-19T20:28:26.730Z"
   },
   {
    "duration": 5,
    "start_time": "2022-05-19T20:28:26.738Z"
   },
   {
    "duration": 6,
    "start_time": "2022-05-19T20:28:26.745Z"
   },
   {
    "duration": 362,
    "start_time": "2022-05-19T20:28:26.753Z"
   },
   {
    "duration": 808,
    "start_time": "2022-05-19T20:28:27.117Z"
   },
   {
    "duration": 8,
    "start_time": "2022-05-19T20:28:27.927Z"
   },
   {
    "duration": 235,
    "start_time": "2022-05-19T20:28:27.936Z"
   },
   {
    "duration": 237,
    "start_time": "2022-05-19T20:28:28.172Z"
   },
   {
    "duration": 255,
    "start_time": "2022-05-19T20:28:33.910Z"
   },
   {
    "duration": 4,
    "start_time": "2022-05-19T20:30:17.351Z"
   },
   {
    "duration": 42,
    "start_time": "2022-05-19T20:30:17.357Z"
   },
   {
    "duration": 9,
    "start_time": "2022-05-19T20:30:17.401Z"
   },
   {
    "duration": 16,
    "start_time": "2022-05-19T20:30:17.412Z"
   },
   {
    "duration": 17,
    "start_time": "2022-05-19T20:30:17.430Z"
   },
   {
    "duration": 11,
    "start_time": "2022-05-19T20:30:17.449Z"
   },
   {
    "duration": 33,
    "start_time": "2022-05-19T20:30:17.461Z"
   },
   {
    "duration": 16,
    "start_time": "2022-05-19T20:30:17.496Z"
   },
   {
    "duration": 6,
    "start_time": "2022-05-19T20:30:17.515Z"
   },
   {
    "duration": 12,
    "start_time": "2022-05-19T20:30:17.523Z"
   },
   {
    "duration": 5,
    "start_time": "2022-05-19T20:30:17.537Z"
   },
   {
    "duration": 7,
    "start_time": "2022-05-19T20:30:17.543Z"
   },
   {
    "duration": 5,
    "start_time": "2022-05-19T20:30:17.551Z"
   },
   {
    "duration": 7,
    "start_time": "2022-05-19T20:30:17.558Z"
   },
   {
    "duration": 4,
    "start_time": "2022-05-19T20:30:17.566Z"
   },
   {
    "duration": 376,
    "start_time": "2022-05-19T20:30:17.572Z"
   },
   {
    "duration": 775,
    "start_time": "2022-05-19T20:30:17.950Z"
   },
   {
    "duration": 8,
    "start_time": "2022-05-19T20:30:18.726Z"
   },
   {
    "duration": 237,
    "start_time": "2022-05-19T20:30:18.736Z"
   },
   {
    "duration": 234,
    "start_time": "2022-05-19T20:30:18.975Z"
   },
   {
    "duration": 108,
    "start_time": "2022-05-19T20:30:29.286Z"
   },
   {
    "duration": 5,
    "start_time": "2022-05-19T20:30:54.462Z"
   },
   {
    "duration": 44,
    "start_time": "2022-05-19T20:30:54.469Z"
   },
   {
    "duration": 9,
    "start_time": "2022-05-19T20:30:54.515Z"
   },
   {
    "duration": 13,
    "start_time": "2022-05-19T20:30:54.526Z"
   },
   {
    "duration": 12,
    "start_time": "2022-05-19T20:30:54.541Z"
   },
   {
    "duration": 11,
    "start_time": "2022-05-19T20:30:54.555Z"
   },
   {
    "duration": 50,
    "start_time": "2022-05-19T20:30:54.568Z"
   },
   {
    "duration": 2,
    "start_time": "2022-05-19T20:30:54.620Z"
   },
   {
    "duration": 6,
    "start_time": "2022-05-19T20:30:54.624Z"
   },
   {
    "duration": 12,
    "start_time": "2022-05-19T20:30:54.632Z"
   },
   {
    "duration": 7,
    "start_time": "2022-05-19T20:30:54.646Z"
   },
   {
    "duration": 8,
    "start_time": "2022-05-19T20:30:54.655Z"
   },
   {
    "duration": 4,
    "start_time": "2022-05-19T20:30:54.665Z"
   },
   {
    "duration": 6,
    "start_time": "2022-05-19T20:30:54.671Z"
   },
   {
    "duration": 36,
    "start_time": "2022-05-19T20:30:54.678Z"
   },
   {
    "duration": 384,
    "start_time": "2022-05-19T20:30:54.715Z"
   },
   {
    "duration": 825,
    "start_time": "2022-05-19T20:30:55.101Z"
   },
   {
    "duration": 8,
    "start_time": "2022-05-19T20:30:55.927Z"
   },
   {
    "duration": 242,
    "start_time": "2022-05-19T20:30:55.937Z"
   },
   {
    "duration": 250,
    "start_time": "2022-05-19T20:30:56.181Z"
   },
   {
    "duration": 108,
    "start_time": "2022-05-19T20:31:00.307Z"
   },
   {
    "duration": 13,
    "start_time": "2022-05-19T20:32:22.821Z"
   },
   {
    "duration": 4,
    "start_time": "2022-05-19T20:32:24.889Z"
   },
   {
    "duration": 11,
    "start_time": "2022-05-19T20:33:17.303Z"
   },
   {
    "duration": 4,
    "start_time": "2022-05-19T20:33:47.822Z"
   },
   {
    "duration": 7,
    "start_time": "2022-05-19T20:37:11.353Z"
   },
   {
    "duration": 10,
    "start_time": "2022-05-19T20:40:50.760Z"
   },
   {
    "duration": 1297,
    "start_time": "2022-05-19T20:41:47.769Z"
   },
   {
    "duration": 42,
    "start_time": "2022-05-19T20:41:49.068Z"
   },
   {
    "duration": 12,
    "start_time": "2022-05-19T20:41:49.112Z"
   },
   {
    "duration": 13,
    "start_time": "2022-05-19T20:41:49.126Z"
   },
   {
    "duration": 33,
    "start_time": "2022-05-19T20:41:49.141Z"
   },
   {
    "duration": 13,
    "start_time": "2022-05-19T20:41:49.176Z"
   },
   {
    "duration": 35,
    "start_time": "2022-05-19T20:41:49.190Z"
   },
   {
    "duration": 3,
    "start_time": "2022-05-19T20:41:49.227Z"
   },
   {
    "duration": 6,
    "start_time": "2022-05-19T20:41:49.231Z"
   },
   {
    "duration": 11,
    "start_time": "2022-05-19T20:41:49.239Z"
   },
   {
    "duration": 9,
    "start_time": "2022-05-19T20:41:49.252Z"
   },
   {
    "duration": 7,
    "start_time": "2022-05-19T20:41:49.262Z"
   },
   {
    "duration": 6,
    "start_time": "2022-05-19T20:41:49.271Z"
   },
   {
    "duration": 35,
    "start_time": "2022-05-19T20:41:49.280Z"
   },
   {
    "duration": 10,
    "start_time": "2022-05-19T20:41:49.317Z"
   },
   {
    "duration": 413,
    "start_time": "2022-05-19T20:41:49.329Z"
   },
   {
    "duration": 781,
    "start_time": "2022-05-19T20:41:49.743Z"
   },
   {
    "duration": 9,
    "start_time": "2022-05-19T20:41:50.526Z"
   },
   {
    "duration": 261,
    "start_time": "2022-05-19T20:41:50.537Z"
   },
   {
    "duration": 249,
    "start_time": "2022-05-19T20:41:50.800Z"
   },
   {
    "duration": 213,
    "start_time": "2022-05-19T20:41:51.050Z"
   },
   {
    "duration": 15,
    "start_time": "2022-05-19T20:41:51.265Z"
   },
   {
    "duration": 4,
    "start_time": "2022-05-19T20:41:51.281Z"
   },
   {
    "duration": 30,
    "start_time": "2022-05-19T20:41:51.287Z"
   },
   {
    "duration": 3,
    "start_time": "2022-05-19T20:41:51.319Z"
   },
   {
    "duration": 10,
    "start_time": "2022-05-19T20:41:51.324Z"
   },
   {
    "duration": 3,
    "start_time": "2022-05-19T20:41:58.954Z"
   },
   {
    "duration": 6,
    "start_time": "2022-05-19T20:46:50.809Z"
   },
   {
    "duration": 67,
    "start_time": "2022-05-19T20:46:50.817Z"
   },
   {
    "duration": 10,
    "start_time": "2022-05-19T20:46:50.886Z"
   },
   {
    "duration": 25,
    "start_time": "2022-05-19T20:46:50.898Z"
   },
   {
    "duration": 14,
    "start_time": "2022-05-19T20:46:50.925Z"
   },
   {
    "duration": 16,
    "start_time": "2022-05-19T20:46:50.940Z"
   },
   {
    "duration": 26,
    "start_time": "2022-05-19T20:46:50.957Z"
   },
   {
    "duration": 3,
    "start_time": "2022-05-19T20:46:50.985Z"
   },
   {
    "duration": 24,
    "start_time": "2022-05-19T20:46:50.989Z"
   },
   {
    "duration": 20,
    "start_time": "2022-05-19T20:46:51.015Z"
   },
   {
    "duration": 8,
    "start_time": "2022-05-19T20:46:51.037Z"
   },
   {
    "duration": 16,
    "start_time": "2022-05-19T20:46:51.047Z"
   },
   {
    "duration": 9,
    "start_time": "2022-05-19T20:46:51.065Z"
   },
   {
    "duration": 18,
    "start_time": "2022-05-19T20:46:51.076Z"
   },
   {
    "duration": 11,
    "start_time": "2022-05-19T20:46:51.095Z"
   },
   {
    "duration": 442,
    "start_time": "2022-05-19T20:46:51.107Z"
   },
   {
    "duration": 896,
    "start_time": "2022-05-19T20:46:51.551Z"
   },
   {
    "duration": 8,
    "start_time": "2022-05-19T20:46:52.449Z"
   },
   {
    "duration": 291,
    "start_time": "2022-05-19T20:46:52.459Z"
   },
   {
    "duration": 260,
    "start_time": "2022-05-19T20:46:52.752Z"
   },
   {
    "duration": 4,
    "start_time": "2022-05-19T20:47:10.427Z"
   },
   {
    "duration": 32,
    "start_time": "2022-05-19T20:47:13.099Z"
   },
   {
    "duration": 4,
    "start_time": "2022-05-19T20:47:26.790Z"
   },
   {
    "duration": 42,
    "start_time": "2022-05-19T20:47:26.796Z"
   },
   {
    "duration": 7,
    "start_time": "2022-05-19T20:47:26.840Z"
   },
   {
    "duration": 14,
    "start_time": "2022-05-19T20:47:26.848Z"
   },
   {
    "duration": 14,
    "start_time": "2022-05-19T20:47:26.864Z"
   },
   {
    "duration": 13,
    "start_time": "2022-05-19T20:47:26.879Z"
   },
   {
    "duration": 32,
    "start_time": "2022-05-19T20:47:26.894Z"
   },
   {
    "duration": 3,
    "start_time": "2022-05-19T20:47:26.928Z"
   },
   {
    "duration": 8,
    "start_time": "2022-05-19T20:47:26.932Z"
   },
   {
    "duration": 13,
    "start_time": "2022-05-19T20:47:26.941Z"
   },
   {
    "duration": 8,
    "start_time": "2022-05-19T20:47:26.957Z"
   },
   {
    "duration": 9,
    "start_time": "2022-05-19T20:47:26.966Z"
   },
   {
    "duration": 6,
    "start_time": "2022-05-19T20:47:26.977Z"
   },
   {
    "duration": 27,
    "start_time": "2022-05-19T20:47:26.985Z"
   },
   {
    "duration": 4,
    "start_time": "2022-05-19T20:47:27.014Z"
   },
   {
    "duration": 370,
    "start_time": "2022-05-19T20:47:27.020Z"
   },
   {
    "duration": 857,
    "start_time": "2022-05-19T20:47:27.392Z"
   },
   {
    "duration": 8,
    "start_time": "2022-05-19T20:47:28.251Z"
   },
   {
    "duration": 255,
    "start_time": "2022-05-19T20:47:28.260Z"
   },
   {
    "duration": 260,
    "start_time": "2022-05-19T20:47:28.517Z"
   },
   {
    "duration": 4,
    "start_time": "2022-05-19T20:47:28.779Z"
   },
   {
    "duration": 30,
    "start_time": "2022-05-19T20:47:30.385Z"
   },
   {
    "duration": 34,
    "start_time": "2022-05-19T20:47:34.129Z"
   },
   {
    "duration": 8,
    "start_time": "2022-05-19T20:47:45.993Z"
   },
   {
    "duration": 4,
    "start_time": "2022-05-19T20:47:49.522Z"
   },
   {
    "duration": 4,
    "start_time": "2022-05-19T20:48:13.042Z"
   },
   {
    "duration": 8,
    "start_time": "2022-05-19T20:48:23.930Z"
   },
   {
    "duration": 3,
    "start_time": "2022-05-19T20:48:37.858Z"
   },
   {
    "duration": 8,
    "start_time": "2022-05-19T20:49:25.827Z"
   },
   {
    "duration": 3,
    "start_time": "2022-05-19T20:49:28.738Z"
   },
   {
    "duration": 4,
    "start_time": "2022-05-19T20:56:00.161Z"
   },
   {
    "duration": 150,
    "start_time": "2022-05-19T21:08:57.353Z"
   },
   {
    "duration": 1207,
    "start_time": "2022-05-19T21:09:23.911Z"
   },
   {
    "duration": 1617,
    "start_time": "2022-05-19T21:10:30.197Z"
   },
   {
    "duration": 1859,
    "start_time": "2022-05-19T21:10:52.660Z"
   },
   {
    "duration": 4,
    "start_time": "2022-05-19T21:11:43.758Z"
   },
   {
    "duration": 4,
    "start_time": "2022-05-19T21:12:28.711Z"
   },
   {
    "duration": 1923,
    "start_time": "2022-05-19T21:12:45.389Z"
   },
   {
    "duration": 4,
    "start_time": "2022-05-19T21:12:48.860Z"
   },
   {
    "duration": 1449,
    "start_time": "2022-05-19T21:12:59.977Z"
   },
   {
    "duration": 76,
    "start_time": "2022-05-19T21:13:01.429Z"
   },
   {
    "duration": 15,
    "start_time": "2022-05-19T21:13:01.507Z"
   },
   {
    "duration": 42,
    "start_time": "2022-05-19T21:13:01.525Z"
   },
   {
    "duration": 39,
    "start_time": "2022-05-19T21:13:01.569Z"
   },
   {
    "duration": 29,
    "start_time": "2022-05-19T21:13:01.610Z"
   },
   {
    "duration": 37,
    "start_time": "2022-05-19T21:13:01.642Z"
   },
   {
    "duration": 4,
    "start_time": "2022-05-19T21:13:01.682Z"
   },
   {
    "duration": 38,
    "start_time": "2022-05-19T21:13:01.688Z"
   },
   {
    "duration": 29,
    "start_time": "2022-05-19T21:13:01.730Z"
   },
   {
    "duration": 11,
    "start_time": "2022-05-19T21:13:01.763Z"
   },
   {
    "duration": 19,
    "start_time": "2022-05-19T21:13:01.776Z"
   },
   {
    "duration": 12,
    "start_time": "2022-05-19T21:13:01.798Z"
   },
   {
    "duration": 15,
    "start_time": "2022-05-19T21:13:01.812Z"
   },
   {
    "duration": 9,
    "start_time": "2022-05-19T21:13:01.830Z"
   },
   {
    "duration": 471,
    "start_time": "2022-05-19T21:13:01.841Z"
   },
   {
    "duration": 901,
    "start_time": "2022-05-19T21:13:02.314Z"
   },
   {
    "duration": 10,
    "start_time": "2022-05-19T21:13:03.219Z"
   },
   {
    "duration": 291,
    "start_time": "2022-05-19T21:13:03.231Z"
   },
   {
    "duration": 282,
    "start_time": "2022-05-19T21:13:03.523Z"
   },
   {
    "duration": 5,
    "start_time": "2022-05-19T21:13:03.812Z"
   },
   {
    "duration": 43,
    "start_time": "2022-05-19T21:13:03.819Z"
   },
   {
    "duration": 6,
    "start_time": "2022-05-19T21:13:03.864Z"
   },
   {
    "duration": 10,
    "start_time": "2022-05-19T21:13:03.871Z"
   },
   {
    "duration": 20,
    "start_time": "2022-05-19T21:13:03.884Z"
   },
   {
    "duration": 4,
    "start_time": "2022-05-19T21:13:03.912Z"
   },
   {
    "duration": 117,
    "start_time": "2022-05-19T21:13:03.918Z"
   },
   {
    "duration": 5,
    "start_time": "2022-05-19T21:13:04.039Z"
   },
   {
    "duration": 15,
    "start_time": "2022-05-19T21:13:04.046Z"
   },
   {
    "duration": 2149,
    "start_time": "2022-05-19T21:13:04.063Z"
   },
   {
    "duration": 8,
    "start_time": "2022-05-19T21:13:06.215Z"
   },
   {
    "duration": 25064,
    "start_time": "2022-05-19T21:14:39.469Z"
   },
   {
    "duration": 4,
    "start_time": "2022-05-19T21:15:04.534Z"
   },
   {
    "duration": 764,
    "start_time": "2022-05-19T21:15:55.166Z"
   },
   {
    "duration": 4,
    "start_time": "2022-05-19T21:16:17.316Z"
   },
   {
    "duration": 219117,
    "start_time": "2022-05-19T21:17:34.296Z"
   },
   {
    "duration": 3,
    "start_time": "2022-05-19T21:21:13.415Z"
   },
   {
    "duration": 1404659,
    "start_time": "2022-05-19T21:21:24.710Z"
   },
   {
    "duration": 3,
    "start_time": "2022-05-19T21:44:49.371Z"
   },
   {
    "duration": 118,
    "start_time": "2022-05-19T21:45:30.178Z"
   },
   {
    "duration": 15,
    "start_time": "2022-05-19T21:47:57.223Z"
   },
   {
    "duration": 4,
    "start_time": "2022-05-19T21:54:44.898Z"
   },
   {
    "duration": 2291,
    "start_time": "2022-05-19T21:54:46.521Z"
   },
   {
    "duration": 5,
    "start_time": "2022-05-19T21:56:05.424Z"
   },
   {
    "duration": 1870,
    "start_time": "2022-05-19T21:56:07.745Z"
   },
   {
    "duration": 5,
    "start_time": "2022-05-19T21:56:09.801Z"
   },
   {
    "duration": 16,
    "start_time": "2022-05-19T21:56:40.074Z"
   },
   {
    "duration": 3,
    "start_time": "2022-05-19T21:57:46.508Z"
   },
   {
    "duration": 1646,
    "start_time": "2022-05-19T21:57:48.370Z"
   },
   {
    "duration": 4,
    "start_time": "2022-05-19T21:57:50.305Z"
   },
   {
    "duration": 35,
    "start_time": "2022-05-19T21:58:49.169Z"
   },
   {
    "duration": 3,
    "start_time": "2022-05-19T21:58:56.321Z"
   },
   {
    "duration": 1654,
    "start_time": "2022-05-19T21:58:59.158Z"
   },
   {
    "duration": 5,
    "start_time": "2022-05-19T21:59:00.815Z"
   },
   {
    "duration": 38,
    "start_time": "2022-05-19T22:02:57.218Z"
   },
   {
    "duration": 27,
    "start_time": "2022-05-19T22:03:31.658Z"
   },
   {
    "duration": 1191,
    "start_time": "2022-05-19T22:04:43.858Z"
   },
   {
    "duration": 41,
    "start_time": "2022-05-19T22:04:45.051Z"
   },
   {
    "duration": 11,
    "start_time": "2022-05-19T22:04:45.093Z"
   },
   {
    "duration": 11,
    "start_time": "2022-05-19T22:04:45.106Z"
   },
   {
    "duration": 13,
    "start_time": "2022-05-19T22:04:45.119Z"
   },
   {
    "duration": 15,
    "start_time": "2022-05-19T22:04:45.134Z"
   },
   {
    "duration": 24,
    "start_time": "2022-05-19T22:04:45.151Z"
   },
   {
    "duration": 3,
    "start_time": "2022-05-19T22:04:45.177Z"
   },
   {
    "duration": 30,
    "start_time": "2022-05-19T22:04:45.182Z"
   },
   {
    "duration": 11,
    "start_time": "2022-05-19T22:04:45.213Z"
   },
   {
    "duration": 14,
    "start_time": "2022-05-19T22:04:45.225Z"
   },
   {
    "duration": 7,
    "start_time": "2022-05-19T22:04:45.240Z"
   },
   {
    "duration": 9,
    "start_time": "2022-05-19T22:04:45.248Z"
   },
   {
    "duration": 13,
    "start_time": "2022-05-19T22:04:45.260Z"
   },
   {
    "duration": 10,
    "start_time": "2022-05-19T22:04:45.274Z"
   },
   {
    "duration": 1216,
    "start_time": "2022-05-19T22:07:36.049Z"
   },
   {
    "duration": 44,
    "start_time": "2022-05-19T22:07:37.268Z"
   },
   {
    "duration": 11,
    "start_time": "2022-05-19T22:07:37.313Z"
   },
   {
    "duration": 15,
    "start_time": "2022-05-19T22:07:37.326Z"
   },
   {
    "duration": 17,
    "start_time": "2022-05-19T22:07:37.343Z"
   },
   {
    "duration": 13,
    "start_time": "2022-05-19T22:07:37.361Z"
   },
   {
    "duration": 42,
    "start_time": "2022-05-19T22:07:37.375Z"
   },
   {
    "duration": 3,
    "start_time": "2022-05-19T22:07:37.419Z"
   },
   {
    "duration": 8,
    "start_time": "2022-05-19T22:07:37.423Z"
   },
   {
    "duration": 12,
    "start_time": "2022-05-19T22:07:37.433Z"
   },
   {
    "duration": 8,
    "start_time": "2022-05-19T22:07:37.447Z"
   },
   {
    "duration": 11,
    "start_time": "2022-05-19T22:07:37.457Z"
   },
   {
    "duration": 4,
    "start_time": "2022-05-19T22:07:37.470Z"
   },
   {
    "duration": 7,
    "start_time": "2022-05-19T22:07:37.476Z"
   },
   {
    "duration": 4,
    "start_time": "2022-05-19T22:07:37.485Z"
   },
   {
    "duration": 1287,
    "start_time": "2022-05-19T22:09:04.333Z"
   },
   {
    "duration": 39,
    "start_time": "2022-05-19T22:09:05.622Z"
   },
   {
    "duration": 11,
    "start_time": "2022-05-19T22:09:05.662Z"
   },
   {
    "duration": 20,
    "start_time": "2022-05-19T22:09:05.675Z"
   },
   {
    "duration": 13,
    "start_time": "2022-05-19T22:09:05.696Z"
   },
   {
    "duration": 11,
    "start_time": "2022-05-19T22:09:05.710Z"
   },
   {
    "duration": 23,
    "start_time": "2022-05-19T22:09:05.723Z"
   },
   {
    "duration": 3,
    "start_time": "2022-05-19T22:09:05.747Z"
   },
   {
    "duration": 6,
    "start_time": "2022-05-19T22:09:05.751Z"
   },
   {
    "duration": 9,
    "start_time": "2022-05-19T22:09:05.759Z"
   },
   {
    "duration": 7,
    "start_time": "2022-05-19T22:09:05.770Z"
   },
   {
    "duration": 36,
    "start_time": "2022-05-19T22:09:05.778Z"
   },
   {
    "duration": 7,
    "start_time": "2022-05-19T22:09:05.815Z"
   },
   {
    "duration": 13,
    "start_time": "2022-05-19T22:09:05.824Z"
   },
   {
    "duration": 14,
    "start_time": "2022-05-19T22:09:05.839Z"
   },
   {
    "duration": 3,
    "start_time": "2022-05-19T22:12:42.669Z"
   },
   {
    "duration": 1267,
    "start_time": "2022-05-19T22:13:58.675Z"
   },
   {
    "duration": 40,
    "start_time": "2022-05-19T22:13:59.944Z"
   },
   {
    "duration": 11,
    "start_time": "2022-05-19T22:13:59.985Z"
   },
   {
    "duration": 38,
    "start_time": "2022-05-19T22:13:59.997Z"
   },
   {
    "duration": 37,
    "start_time": "2022-05-19T22:14:00.037Z"
   },
   {
    "duration": 22,
    "start_time": "2022-05-19T22:14:00.076Z"
   },
   {
    "duration": 30,
    "start_time": "2022-05-19T22:14:00.099Z"
   },
   {
    "duration": 4,
    "start_time": "2022-05-19T22:14:00.131Z"
   },
   {
    "duration": 11,
    "start_time": "2022-05-19T22:14:00.137Z"
   },
   {
    "duration": 22,
    "start_time": "2022-05-19T22:14:00.149Z"
   },
   {
    "duration": 8,
    "start_time": "2022-05-19T22:14:00.173Z"
   },
   {
    "duration": 24,
    "start_time": "2022-05-19T22:14:00.182Z"
   },
   {
    "duration": 20,
    "start_time": "2022-05-19T22:14:00.207Z"
   },
   {
    "duration": 9,
    "start_time": "2022-05-19T22:14:00.231Z"
   },
   {
    "duration": 12,
    "start_time": "2022-05-19T22:14:00.241Z"
   },
   {
    "duration": 389,
    "start_time": "2022-05-19T22:14:00.255Z"
   },
   {
    "duration": 762,
    "start_time": "2022-05-19T22:18:58.213Z"
   },
   {
    "duration": 1403,
    "start_time": "2022-05-19T22:22:11.620Z"
   },
   {
    "duration": 40,
    "start_time": "2022-05-19T22:22:13.025Z"
   },
   {
    "duration": 13,
    "start_time": "2022-05-19T22:22:13.067Z"
   },
   {
    "duration": 12,
    "start_time": "2022-05-19T22:22:13.084Z"
   },
   {
    "duration": 25,
    "start_time": "2022-05-19T22:22:13.098Z"
   },
   {
    "duration": 17,
    "start_time": "2022-05-19T22:22:13.125Z"
   },
   {
    "duration": 25,
    "start_time": "2022-05-19T22:22:13.144Z"
   },
   {
    "duration": 3,
    "start_time": "2022-05-19T22:22:13.171Z"
   },
   {
    "duration": 8,
    "start_time": "2022-05-19T22:22:13.175Z"
   },
   {
    "duration": 37,
    "start_time": "2022-05-19T22:22:13.186Z"
   },
   {
    "duration": 12,
    "start_time": "2022-05-19T22:22:13.225Z"
   },
   {
    "duration": 8,
    "start_time": "2022-05-19T22:22:13.239Z"
   },
   {
    "duration": 4,
    "start_time": "2022-05-19T22:22:13.249Z"
   },
   {
    "duration": 8,
    "start_time": "2022-05-19T22:22:13.255Z"
   },
   {
    "duration": 4,
    "start_time": "2022-05-19T22:22:13.265Z"
   },
   {
    "duration": 441,
    "start_time": "2022-05-19T22:22:13.271Z"
   },
   {
    "duration": 806,
    "start_time": "2022-05-19T22:22:13.715Z"
   },
   {
    "duration": 8,
    "start_time": "2022-05-19T22:22:14.523Z"
   },
   {
    "duration": 261,
    "start_time": "2022-05-19T22:22:14.533Z"
   },
   {
    "duration": 256,
    "start_time": "2022-05-19T22:22:14.796Z"
   },
   {
    "duration": 5,
    "start_time": "2022-05-19T22:22:15.054Z"
   },
   {
    "duration": 62,
    "start_time": "2022-05-19T22:22:15.061Z"
   },
   {
    "duration": 8,
    "start_time": "2022-05-19T22:22:15.126Z"
   },
   {
    "duration": 17,
    "start_time": "2022-05-19T22:22:15.136Z"
   },
   {
    "duration": 30,
    "start_time": "2022-05-19T22:22:15.154Z"
   },
   {
    "duration": 12,
    "start_time": "2022-05-19T22:22:15.186Z"
   },
   {
    "duration": 119,
    "start_time": "2022-05-19T22:22:15.199Z"
   },
   {
    "duration": 22,
    "start_time": "2022-05-19T22:22:15.321Z"
   },
   {
    "duration": 736,
    "start_time": "2022-05-19T22:22:21.577Z"
   },
   {
    "duration": 5,
    "start_time": "2022-05-19T22:22:26.226Z"
   },
   {
    "duration": 24049,
    "start_time": "2022-05-19T22:22:29.451Z"
   },
   {
    "duration": 10,
    "start_time": "2022-05-19T22:22:53.502Z"
   },
   {
    "duration": 746,
    "start_time": "2022-05-19T22:23:06.701Z"
   },
   {
    "duration": 4,
    "start_time": "2022-05-19T22:23:07.492Z"
   },
   {
    "duration": 15951,
    "start_time": "2022-05-19T22:24:35.062Z"
   },
   {
    "duration": 3,
    "start_time": "2022-05-19T22:24:51.015Z"
   },
   {
    "duration": 164,
    "start_time": "2022-05-19T22:25:59.283Z"
   },
   {
    "duration": 10,
    "start_time": "2022-05-19T22:25:59.851Z"
   },
   {
    "duration": 748597,
    "start_time": "2022-05-19T22:26:09.005Z"
   },
   {
    "duration": 4,
    "start_time": "2022-05-19T22:38:37.603Z"
   },
   {
    "duration": 14,
    "start_time": "2022-05-19T22:38:45.678Z"
   },
   {
    "duration": 12,
    "start_time": "2022-05-19T22:38:47.892Z"
   },
   {
    "duration": 7,
    "start_time": "2022-05-19T22:38:50.595Z"
   },
   {
    "duration": 16,
    "start_time": "2022-05-19T22:38:52.476Z"
   },
   {
    "duration": 7,
    "start_time": "2022-05-19T22:38:53.715Z"
   },
   {
    "duration": 25,
    "start_time": "2022-05-19T22:38:59.677Z"
   },
   {
    "duration": 9,
    "start_time": "2022-05-19T22:39:16.002Z"
   },
   {
    "duration": 54,
    "start_time": "2022-05-20T18:21:36.686Z"
   },
   {
    "duration": 2016,
    "start_time": "2022-05-20T18:21:54.435Z"
   },
   {
    "duration": 128,
    "start_time": "2022-05-20T18:21:56.453Z"
   },
   {
    "duration": 11,
    "start_time": "2022-05-20T18:21:56.583Z"
   },
   {
    "duration": 12,
    "start_time": "2022-05-20T18:21:57.212Z"
   },
   {
    "duration": 13,
    "start_time": "2022-05-20T18:21:57.369Z"
   },
   {
    "duration": 11,
    "start_time": "2022-05-20T18:21:57.527Z"
   },
   {
    "duration": 41,
    "start_time": "2022-05-20T18:21:58.182Z"
   },
   {
    "duration": 3,
    "start_time": "2022-05-20T18:21:58.337Z"
   },
   {
    "duration": 4,
    "start_time": "2022-05-20T18:21:58.490Z"
   },
   {
    "duration": 9,
    "start_time": "2022-05-20T18:21:58.656Z"
   },
   {
    "duration": 9,
    "start_time": "2022-05-20T18:21:59.144Z"
   },
   {
    "duration": 7,
    "start_time": "2022-05-20T18:21:59.322Z"
   },
   {
    "duration": 2,
    "start_time": "2022-05-20T18:22:00.215Z"
   },
   {
    "duration": 5,
    "start_time": "2022-05-20T18:22:00.363Z"
   },
   {
    "duration": 4,
    "start_time": "2022-05-20T18:22:00.524Z"
   },
   {
    "duration": 385,
    "start_time": "2022-05-20T18:22:00.665Z"
   },
   {
    "duration": 939,
    "start_time": "2022-05-20T18:22:01.452Z"
   },
   {
    "duration": 8,
    "start_time": "2022-05-20T18:22:02.393Z"
   },
   {
    "duration": 223,
    "start_time": "2022-05-20T18:22:02.411Z"
   },
   {
    "duration": 246,
    "start_time": "2022-05-20T18:22:02.760Z"
   },
   {
    "duration": 4,
    "start_time": "2022-05-20T18:22:04.827Z"
   },
   {
    "duration": 30,
    "start_time": "2022-05-20T18:22:06.258Z"
   },
   {
    "duration": 7,
    "start_time": "2022-05-20T18:22:09.697Z"
   },
   {
    "duration": 4,
    "start_time": "2022-05-20T18:22:10.109Z"
   },
   {
    "duration": 5,
    "start_time": "2022-05-20T18:22:10.310Z"
   },
   {
    "duration": 3,
    "start_time": "2022-05-20T18:22:10.750Z"
   },
   {
    "duration": 8,
    "start_time": "2022-05-20T18:22:11.471Z"
   },
   {
    "duration": 3,
    "start_time": "2022-05-20T18:22:12.993Z"
   },
   {
    "duration": 1670,
    "start_time": "2022-05-20T18:22:14.548Z"
   },
   {
    "duration": 94,
    "start_time": "2022-05-20T18:22:16.220Z"
   },
   {
    "duration": 25588,
    "start_time": "2022-05-20T18:22:26.200Z"
   },
   {
    "duration": 4,
    "start_time": "2022-05-20T18:23:03.512Z"
   },
   {
    "duration": 767,
    "start_time": "2022-05-20T18:23:06.387Z"
   },
   {
    "duration": 4,
    "start_time": "2022-05-20T18:23:07.156Z"
   },
   {
    "duration": 15773,
    "start_time": "2022-05-20T18:23:08.854Z"
   },
   {
    "duration": 4,
    "start_time": "2022-05-20T18:23:24.629Z"
   },
   {
    "duration": 522027,
    "start_time": "2022-05-20T18:23:24.635Z"
   },
   {
    "duration": 9,
    "start_time": "2022-05-20T18:32:06.664Z"
   },
   {
    "duration": 0,
    "start_time": "2022-05-20T18:32:06.674Z"
   },
   {
    "duration": 0,
    "start_time": "2022-05-20T18:32:06.675Z"
   },
   {
    "duration": 0,
    "start_time": "2022-05-20T18:32:06.676Z"
   },
   {
    "duration": 0,
    "start_time": "2022-05-20T18:32:06.678Z"
   },
   {
    "duration": 0,
    "start_time": "2022-05-20T18:32:06.679Z"
   },
   {
    "duration": 14,
    "start_time": "2022-05-20T18:32:19.931Z"
   },
   {
    "duration": 10,
    "start_time": "2022-05-20T18:32:20.558Z"
   },
   {
    "duration": 6,
    "start_time": "2022-05-20T18:32:21.081Z"
   },
   {
    "duration": 16,
    "start_time": "2022-05-20T18:32:21.503Z"
   },
   {
    "duration": 3047,
    "start_time": "2022-05-21T07:53:28.978Z"
   },
   {
    "duration": 231,
    "start_time": "2022-05-21T07:53:32.041Z"
   },
   {
    "duration": 15,
    "start_time": "2022-05-21T07:53:32.286Z"
   },
   {
    "duration": 54,
    "start_time": "2022-05-21T07:53:32.303Z"
   },
   {
    "duration": 56,
    "start_time": "2022-05-21T07:53:32.359Z"
   },
   {
    "duration": 72,
    "start_time": "2022-05-21T07:53:32.417Z"
   },
   {
    "duration": 124,
    "start_time": "2022-05-21T07:53:32.496Z"
   },
   {
    "duration": 25,
    "start_time": "2022-05-21T07:53:32.624Z"
   },
   {
    "duration": 44,
    "start_time": "2022-05-21T07:53:32.650Z"
   },
   {
    "duration": 37,
    "start_time": "2022-05-21T07:53:32.703Z"
   },
   {
    "duration": 69,
    "start_time": "2022-05-21T07:53:32.743Z"
   },
   {
    "duration": 11,
    "start_time": "2022-05-21T07:53:32.814Z"
   },
   {
    "duration": 64,
    "start_time": "2022-05-21T07:53:32.840Z"
   },
   {
    "duration": 13,
    "start_time": "2022-05-21T07:53:32.908Z"
   },
   {
    "duration": 10,
    "start_time": "2022-05-21T07:53:32.923Z"
   },
   {
    "duration": 639,
    "start_time": "2022-05-21T07:53:32.935Z"
   },
   {
    "duration": 1014,
    "start_time": "2022-05-21T07:53:33.577Z"
   },
   {
    "duration": 9,
    "start_time": "2022-05-21T07:53:34.593Z"
   },
   {
    "duration": 336,
    "start_time": "2022-05-21T07:53:34.604Z"
   },
   {
    "duration": 409,
    "start_time": "2022-05-21T07:53:34.942Z"
   },
   {
    "duration": 5,
    "start_time": "2022-05-21T07:53:41.101Z"
   },
   {
    "duration": 32,
    "start_time": "2022-05-21T07:53:45.986Z"
   },
   {
    "duration": 1696,
    "start_time": "2022-05-21T07:54:23.907Z"
   },
   {
    "duration": 56,
    "start_time": "2022-05-21T07:54:25.609Z"
   },
   {
    "duration": 17,
    "start_time": "2022-05-21T07:54:25.666Z"
   },
   {
    "duration": 34,
    "start_time": "2022-05-21T07:54:25.685Z"
   },
   {
    "duration": 47,
    "start_time": "2022-05-21T07:54:25.722Z"
   },
   {
    "duration": 39,
    "start_time": "2022-05-21T07:54:25.779Z"
   },
   {
    "duration": 49,
    "start_time": "2022-05-21T07:54:25.820Z"
   },
   {
    "duration": 34,
    "start_time": "2022-05-21T07:54:25.871Z"
   },
   {
    "duration": 7,
    "start_time": "2022-05-21T07:54:25.907Z"
   },
   {
    "duration": 24,
    "start_time": "2022-05-21T07:54:25.917Z"
   },
   {
    "duration": 51,
    "start_time": "2022-05-21T07:54:25.954Z"
   },
   {
    "duration": 8,
    "start_time": "2022-05-21T07:54:26.007Z"
   },
   {
    "duration": 8,
    "start_time": "2022-05-21T07:54:26.016Z"
   },
   {
    "duration": 55,
    "start_time": "2022-05-21T07:54:26.027Z"
   },
   {
    "duration": 26,
    "start_time": "2022-05-21T07:54:26.084Z"
   },
   {
    "duration": 581,
    "start_time": "2022-05-21T07:54:26.112Z"
   },
   {
    "duration": 1403,
    "start_time": "2022-05-21T07:54:26.695Z"
   },
   {
    "duration": 18,
    "start_time": "2022-05-21T07:54:28.100Z"
   },
   {
    "duration": 385,
    "start_time": "2022-05-21T07:54:28.119Z"
   },
   {
    "duration": 343,
    "start_time": "2022-05-21T07:54:28.506Z"
   },
   {
    "duration": 14,
    "start_time": "2022-05-21T07:54:28.851Z"
   },
   {
    "duration": 28,
    "start_time": "2022-05-21T07:54:30.455Z"
   },
   {
    "duration": 7,
    "start_time": "2022-05-21T07:55:17.906Z"
   },
   {
    "duration": 12,
    "start_time": "2022-05-21T07:55:18.960Z"
   },
   {
    "duration": 9,
    "start_time": "2022-05-21T07:55:20.307Z"
   },
   {
    "duration": 8,
    "start_time": "2022-05-21T07:55:21.569Z"
   },
   {
    "duration": 8,
    "start_time": "2022-05-21T07:55:24.569Z"
   },
   {
    "duration": 3,
    "start_time": "2022-05-21T07:55:29.299Z"
   },
   {
    "duration": 2353,
    "start_time": "2022-05-21T12:39:40.184Z"
   },
   {
    "duration": 175,
    "start_time": "2022-05-21T12:39:42.539Z"
   },
   {
    "duration": 14,
    "start_time": "2022-05-21T12:39:42.716Z"
   },
   {
    "duration": 21,
    "start_time": "2022-05-21T12:39:42.732Z"
   },
   {
    "duration": 25,
    "start_time": "2022-05-21T12:39:42.760Z"
   },
   {
    "duration": 13,
    "start_time": "2022-05-21T12:39:42.787Z"
   },
   {
    "duration": 51,
    "start_time": "2022-05-21T12:39:42.802Z"
   },
   {
    "duration": 6,
    "start_time": "2022-05-21T12:39:42.861Z"
   },
   {
    "duration": 9,
    "start_time": "2022-05-21T12:39:42.869Z"
   },
   {
    "duration": 14,
    "start_time": "2022-05-21T12:39:42.880Z"
   },
   {
    "duration": 13,
    "start_time": "2022-05-21T12:39:42.897Z"
   },
   {
    "duration": 7,
    "start_time": "2022-05-21T12:39:42.912Z"
   },
   {
    "duration": 47,
    "start_time": "2022-05-21T12:39:42.921Z"
   },
   {
    "duration": 7,
    "start_time": "2022-05-21T12:39:42.973Z"
   },
   {
    "duration": 14,
    "start_time": "2022-05-21T12:39:42.982Z"
   },
   {
    "duration": 511,
    "start_time": "2022-05-21T12:39:42.998Z"
   },
   {
    "duration": 1097,
    "start_time": "2022-05-21T12:39:43.510Z"
   },
   {
    "duration": 9,
    "start_time": "2022-05-21T12:39:44.608Z"
   },
   {
    "duration": 286,
    "start_time": "2022-05-21T12:39:44.619Z"
   },
   {
    "duration": 309,
    "start_time": "2022-05-21T12:39:44.908Z"
   },
   {
    "duration": 7,
    "start_time": "2022-05-21T12:39:46.705Z"
   },
   {
    "duration": 15,
    "start_time": "2022-05-21T12:39:55.618Z"
   },
   {
    "duration": 10,
    "start_time": "2022-05-21T12:40:03.689Z"
   },
   {
    "duration": 5,
    "start_time": "2022-05-21T12:40:05.119Z"
   },
   {
    "duration": 6,
    "start_time": "2022-05-21T12:40:07.272Z"
   },
   {
    "duration": 4,
    "start_time": "2022-05-21T12:40:08.713Z"
   },
   {
    "duration": 10,
    "start_time": "2022-05-21T12:40:11.038Z"
   },
   {
    "duration": 4,
    "start_time": "2022-05-21T12:40:12.422Z"
   },
   {
    "duration": 1674,
    "start_time": "2022-05-21T13:00:56.492Z"
   },
   {
    "duration": 53,
    "start_time": "2022-05-21T13:00:58.168Z"
   },
   {
    "duration": 16,
    "start_time": "2022-05-21T13:00:58.224Z"
   },
   {
    "duration": 18,
    "start_time": "2022-05-21T13:00:58.242Z"
   },
   {
    "duration": 16,
    "start_time": "2022-05-21T13:00:58.263Z"
   },
   {
    "duration": 18,
    "start_time": "2022-05-21T13:00:58.281Z"
   },
   {
    "duration": 61,
    "start_time": "2022-05-21T13:00:58.301Z"
   },
   {
    "duration": 4,
    "start_time": "2022-05-21T13:00:58.364Z"
   },
   {
    "duration": 9,
    "start_time": "2022-05-21T13:00:58.370Z"
   },
   {
    "duration": 15,
    "start_time": "2022-05-21T13:00:58.382Z"
   },
   {
    "duration": 13,
    "start_time": "2022-05-21T13:00:58.399Z"
   },
   {
    "duration": 32,
    "start_time": "2022-05-21T13:00:58.414Z"
   },
   {
    "duration": 8,
    "start_time": "2022-05-21T13:00:58.448Z"
   },
   {
    "duration": 7,
    "start_time": "2022-05-21T13:00:58.460Z"
   },
   {
    "duration": 6,
    "start_time": "2022-05-21T13:00:58.469Z"
   },
   {
    "duration": 527,
    "start_time": "2022-05-21T13:00:58.477Z"
   },
   {
    "duration": 955,
    "start_time": "2022-05-21T13:00:59.006Z"
   },
   {
    "duration": 12,
    "start_time": "2022-05-21T13:00:59.964Z"
   },
   {
    "duration": 343,
    "start_time": "2022-05-21T13:00:59.979Z"
   },
   {
    "duration": 319,
    "start_time": "2022-05-21T13:01:00.325Z"
   },
   {
    "duration": 4,
    "start_time": "2022-05-21T13:01:00.646Z"
   },
   {
    "duration": 24,
    "start_time": "2022-05-21T13:01:00.652Z"
   },
   {
    "duration": 10,
    "start_time": "2022-05-21T13:01:00.678Z"
   },
   {
    "duration": 8,
    "start_time": "2022-05-21T13:01:00.690Z"
   },
   {
    "duration": 15,
    "start_time": "2022-05-21T13:01:00.701Z"
   },
   {
    "duration": 30,
    "start_time": "2022-05-21T13:01:00.718Z"
   },
   {
    "duration": 14,
    "start_time": "2022-05-21T13:01:00.750Z"
   },
   {
    "duration": 19,
    "start_time": "2022-05-21T13:01:00.766Z"
   },
   {
    "duration": 208,
    "start_time": "2022-05-21T13:01:05.123Z"
   },
   {
    "duration": 14,
    "start_time": "2022-05-21T13:01:05.952Z"
   },
   {
    "duration": 1387,
    "start_time": "2022-05-21T13:02:22.331Z"
   },
   {
    "duration": 41,
    "start_time": "2022-05-21T13:02:23.721Z"
   },
   {
    "duration": 14,
    "start_time": "2022-05-21T13:02:23.764Z"
   },
   {
    "duration": 13,
    "start_time": "2022-05-21T13:02:23.781Z"
   },
   {
    "duration": 21,
    "start_time": "2022-05-21T13:02:23.796Z"
   },
   {
    "duration": 36,
    "start_time": "2022-05-21T13:02:23.819Z"
   },
   {
    "duration": 38,
    "start_time": "2022-05-21T13:02:23.857Z"
   },
   {
    "duration": 3,
    "start_time": "2022-05-21T13:02:23.897Z"
   },
   {
    "duration": 7,
    "start_time": "2022-05-21T13:02:23.902Z"
   },
   {
    "duration": 37,
    "start_time": "2022-05-21T13:02:23.912Z"
   },
   {
    "duration": 9,
    "start_time": "2022-05-21T13:02:23.951Z"
   },
   {
    "duration": 7,
    "start_time": "2022-05-21T13:02:23.962Z"
   },
   {
    "duration": 5,
    "start_time": "2022-05-21T13:02:23.971Z"
   },
   {
    "duration": 9,
    "start_time": "2022-05-21T13:02:23.978Z"
   },
   {
    "duration": 4,
    "start_time": "2022-05-21T13:02:23.990Z"
   },
   {
    "duration": 465,
    "start_time": "2022-05-21T13:02:23.996Z"
   },
   {
    "duration": 861,
    "start_time": "2022-05-21T13:02:24.463Z"
   },
   {
    "duration": 18,
    "start_time": "2022-05-21T13:02:25.326Z"
   },
   {
    "duration": 267,
    "start_time": "2022-05-21T13:02:25.347Z"
   },
   {
    "duration": 268,
    "start_time": "2022-05-21T13:02:25.616Z"
   },
   {
    "duration": 5,
    "start_time": "2022-05-21T13:02:25.887Z"
   },
   {
    "duration": 14,
    "start_time": "2022-05-21T13:02:25.893Z"
   },
   {
    "duration": 6,
    "start_time": "2022-05-21T13:02:25.909Z"
   },
   {
    "duration": 25,
    "start_time": "2022-05-21T13:02:25.917Z"
   },
   {
    "duration": 6,
    "start_time": "2022-05-21T13:02:25.944Z"
   },
   {
    "duration": 3,
    "start_time": "2022-05-21T13:02:25.952Z"
   },
   {
    "duration": 131,
    "start_time": "2022-05-21T13:02:25.957Z"
   },
   {
    "duration": 6,
    "start_time": "2022-05-21T13:02:26.091Z"
   },
   {
    "duration": 61,
    "start_time": "2022-05-21T13:02:38.794Z"
   },
   {
    "duration": 4,
    "start_time": "2022-05-21T13:02:41.298Z"
   },
   {
    "duration": 100,
    "start_time": "2022-05-21T13:02:49.009Z"
   },
   {
    "duration": 6,
    "start_time": "2022-05-21T13:02:50.508Z"
   },
   {
    "duration": 61,
    "start_time": "2022-05-21T13:03:05.306Z"
   },
   {
    "duration": 5,
    "start_time": "2022-05-21T13:03:06.242Z"
   },
   {
    "duration": 141,
    "start_time": "2022-05-21T13:03:13.801Z"
   },
   {
    "duration": 5,
    "start_time": "2022-05-21T13:03:15.602Z"
   },
   {
    "duration": 1536,
    "start_time": "2022-05-21T13:05:26.816Z"
   },
   {
    "duration": 42,
    "start_time": "2022-05-21T13:05:28.355Z"
   },
   {
    "duration": 17,
    "start_time": "2022-05-21T13:05:28.399Z"
   },
   {
    "duration": 17,
    "start_time": "2022-05-21T13:05:28.418Z"
   },
   {
    "duration": 24,
    "start_time": "2022-05-21T13:05:28.437Z"
   },
   {
    "duration": 13,
    "start_time": "2022-05-21T13:05:28.463Z"
   },
   {
    "duration": 27,
    "start_time": "2022-05-21T13:05:28.478Z"
   },
   {
    "duration": 3,
    "start_time": "2022-05-21T13:05:28.507Z"
   },
   {
    "duration": 36,
    "start_time": "2022-05-21T13:05:28.512Z"
   },
   {
    "duration": 14,
    "start_time": "2022-05-21T13:05:28.552Z"
   },
   {
    "duration": 10,
    "start_time": "2022-05-21T13:05:28.568Z"
   },
   {
    "duration": 10,
    "start_time": "2022-05-21T13:05:28.580Z"
   },
   {
    "duration": 5,
    "start_time": "2022-05-21T13:05:28.592Z"
   },
   {
    "duration": 47,
    "start_time": "2022-05-21T13:05:28.599Z"
   },
   {
    "duration": 6,
    "start_time": "2022-05-21T13:05:28.649Z"
   },
   {
    "duration": 448,
    "start_time": "2022-05-21T13:05:28.657Z"
   },
   {
    "duration": 898,
    "start_time": "2022-05-21T13:05:29.109Z"
   },
   {
    "duration": 12,
    "start_time": "2022-05-21T13:05:30.010Z"
   },
   {
    "duration": 279,
    "start_time": "2022-05-21T13:05:30.024Z"
   },
   {
    "duration": 276,
    "start_time": "2022-05-21T13:05:30.304Z"
   },
   {
    "duration": 5,
    "start_time": "2022-05-21T13:05:30.582Z"
   },
   {
    "duration": 20,
    "start_time": "2022-05-21T13:05:30.589Z"
   },
   {
    "duration": 8,
    "start_time": "2022-05-21T13:05:30.611Z"
   },
   {
    "duration": 24,
    "start_time": "2022-05-21T13:05:30.621Z"
   },
   {
    "duration": 13,
    "start_time": "2022-05-21T13:05:30.647Z"
   },
   {
    "duration": 9,
    "start_time": "2022-05-21T13:05:30.663Z"
   },
   {
    "duration": 144,
    "start_time": "2022-05-21T13:05:30.674Z"
   },
   {
    "duration": 4,
    "start_time": "2022-05-21T13:05:30.822Z"
   },
   {
    "duration": 85,
    "start_time": "2022-05-21T13:05:34.448Z"
   },
   {
    "duration": 6,
    "start_time": "2022-05-21T13:05:35.781Z"
   },
   {
    "duration": 6559,
    "start_time": "2022-05-21T13:05:43.226Z"
   },
   {
    "duration": 6,
    "start_time": "2022-05-21T13:05:49.787Z"
   },
   {
    "duration": 297,
    "start_time": "2022-05-21T13:05:57.993Z"
   },
   {
    "duration": 7,
    "start_time": "2022-05-21T13:05:59.303Z"
   },
   {
    "duration": 1636,
    "start_time": "2022-05-21T13:21:07.679Z"
   },
   {
    "duration": 46,
    "start_time": "2022-05-21T13:21:09.317Z"
   },
   {
    "duration": 19,
    "start_time": "2022-05-21T13:21:09.370Z"
   },
   {
    "duration": 19,
    "start_time": "2022-05-21T13:21:09.391Z"
   },
   {
    "duration": 31,
    "start_time": "2022-05-21T13:21:09.412Z"
   },
   {
    "duration": 17,
    "start_time": "2022-05-21T13:21:09.446Z"
   },
   {
    "duration": 35,
    "start_time": "2022-05-21T13:21:09.465Z"
   },
   {
    "duration": 4,
    "start_time": "2022-05-21T13:21:09.502Z"
   },
   {
    "duration": 36,
    "start_time": "2022-05-21T13:21:09.508Z"
   },
   {
    "duration": 14,
    "start_time": "2022-05-21T13:21:09.550Z"
   },
   {
    "duration": 18,
    "start_time": "2022-05-21T13:21:09.568Z"
   },
   {
    "duration": 14,
    "start_time": "2022-05-21T13:21:09.588Z"
   },
   {
    "duration": 11,
    "start_time": "2022-05-21T13:21:09.605Z"
   },
   {
    "duration": 31,
    "start_time": "2022-05-21T13:21:09.619Z"
   },
   {
    "duration": 10,
    "start_time": "2022-05-21T13:21:09.653Z"
   },
   {
    "duration": 551,
    "start_time": "2022-05-21T13:21:09.665Z"
   },
   {
    "duration": 996,
    "start_time": "2022-05-21T13:21:10.218Z"
   },
   {
    "duration": 14,
    "start_time": "2022-05-21T13:21:11.216Z"
   },
   {
    "duration": 305,
    "start_time": "2022-05-21T13:21:11.241Z"
   },
   {
    "duration": 374,
    "start_time": "2022-05-21T13:21:11.548Z"
   },
   {
    "duration": 5,
    "start_time": "2022-05-21T13:21:11.925Z"
   },
   {
    "duration": 13,
    "start_time": "2022-05-21T13:21:11.942Z"
   },
   {
    "duration": 7,
    "start_time": "2022-05-21T13:21:11.957Z"
   },
   {
    "duration": 10,
    "start_time": "2022-05-21T13:21:11.967Z"
   },
   {
    "duration": 14,
    "start_time": "2022-05-21T13:21:11.980Z"
   },
   {
    "duration": 14,
    "start_time": "2022-05-21T13:21:11.996Z"
   },
   {
    "duration": 152,
    "start_time": "2022-05-21T13:21:12.013Z"
   },
   {
    "duration": 5,
    "start_time": "2022-05-21T13:21:12.175Z"
   },
   {
    "duration": 117,
    "start_time": "2022-05-21T13:21:15.687Z"
   },
   {
    "duration": 6,
    "start_time": "2022-05-21T13:21:16.700Z"
   },
   {
    "duration": 11980,
    "start_time": "2022-05-21T13:21:22.307Z"
   },
   {
    "duration": 5,
    "start_time": "2022-05-21T13:21:34.289Z"
   },
   {
    "duration": 747,
    "start_time": "2022-05-21T13:21:42.838Z"
   },
   {
    "duration": 6,
    "start_time": "2022-05-21T13:21:43.810Z"
   },
   {
    "duration": 5727447,
    "start_time": "2022-05-21T13:21:47.328Z"
   },
   {
    "duration": 9,
    "start_time": "2022-05-21T14:57:14.783Z"
   },
   {
    "duration": 152006,
    "start_time": "2022-05-21T14:57:14.798Z"
   },
   {
    "duration": 4,
    "start_time": "2022-05-21T14:59:46.806Z"
   },
   {
    "duration": 7,
    "start_time": "2022-05-21T14:59:46.814Z"
   },
   {
    "duration": 11,
    "start_time": "2022-05-21T14:59:46.823Z"
   },
   {
    "duration": 11,
    "start_time": "2022-05-21T14:59:46.838Z"
   },
   {
    "duration": 68,
    "start_time": "2022-05-21T14:59:46.851Z"
   },
   {
    "duration": 22,
    "start_time": "2022-05-21T14:59:46.921Z"
   },
   {
    "duration": 60,
    "start_time": "2022-05-21T14:59:46.944Z"
   },
   {
    "duration": 11,
    "start_time": "2022-05-21T15:23:59.808Z"
   },
   {
    "duration": 1453,
    "start_time": "2022-05-21T15:24:14.294Z"
   },
   {
    "duration": 42,
    "start_time": "2022-05-21T15:24:15.749Z"
   },
   {
    "duration": 13,
    "start_time": "2022-05-21T15:24:15.793Z"
   },
   {
    "duration": 16,
    "start_time": "2022-05-21T15:24:15.808Z"
   },
   {
    "duration": 31,
    "start_time": "2022-05-21T15:24:15.827Z"
   },
   {
    "duration": 18,
    "start_time": "2022-05-21T15:24:15.860Z"
   },
   {
    "duration": 27,
    "start_time": "2022-05-21T15:24:15.880Z"
   },
   {
    "duration": 4,
    "start_time": "2022-05-21T15:24:15.908Z"
   },
   {
    "duration": 8,
    "start_time": "2022-05-21T15:24:15.914Z"
   },
   {
    "duration": 28,
    "start_time": "2022-05-21T15:24:15.924Z"
   },
   {
    "duration": 12,
    "start_time": "2022-05-21T15:24:15.954Z"
   },
   {
    "duration": 10,
    "start_time": "2022-05-21T15:24:15.968Z"
   },
   {
    "duration": 4,
    "start_time": "2022-05-21T15:24:15.979Z"
   },
   {
    "duration": 7,
    "start_time": "2022-05-21T15:24:15.985Z"
   },
   {
    "duration": 5,
    "start_time": "2022-05-21T15:24:15.994Z"
   },
   {
    "duration": 497,
    "start_time": "2022-05-21T15:24:16.001Z"
   },
   {
    "duration": 990,
    "start_time": "2022-05-21T15:24:16.500Z"
   },
   {
    "duration": 9,
    "start_time": "2022-05-21T15:24:17.491Z"
   },
   {
    "duration": 275,
    "start_time": "2022-05-21T15:24:17.502Z"
   },
   {
    "duration": 270,
    "start_time": "2022-05-21T15:24:17.779Z"
   },
   {
    "duration": 8,
    "start_time": "2022-05-21T15:24:18.052Z"
   },
   {
    "duration": 14,
    "start_time": "2022-05-21T15:24:19.108Z"
   },
   {
    "duration": 7,
    "start_time": "2022-05-21T15:24:26.109Z"
   },
   {
    "duration": 7,
    "start_time": "2022-05-21T15:24:26.809Z"
   },
   {
    "duration": 7,
    "start_time": "2022-05-21T15:24:27.402Z"
   },
   {
    "duration": 4,
    "start_time": "2022-05-21T15:24:28.090Z"
   },
   {
    "duration": 8,
    "start_time": "2022-05-21T15:24:28.901Z"
   },
   {
    "duration": 5,
    "start_time": "2022-05-21T15:24:29.731Z"
   },
   {
    "duration": 435,
    "start_time": "2022-05-21T15:24:44.488Z"
   },
   {
    "duration": 5,
    "start_time": "2022-05-21T15:24:45.470Z"
   },
   {
    "duration": 12630,
    "start_time": "2022-05-21T15:24:49.717Z"
   },
   {
    "duration": 7,
    "start_time": "2022-05-21T15:25:02.355Z"
   },
   {
    "duration": 489,
    "start_time": "2022-05-21T15:25:32.562Z"
   },
   {
    "duration": 4,
    "start_time": "2022-05-21T15:25:33.226Z"
   },
   {
    "duration": 6,
    "start_time": "2022-05-21T15:25:41.320Z"
   },
   {
    "duration": 13,
    "start_time": "2022-05-21T15:25:42.128Z"
   },
   {
    "duration": 7,
    "start_time": "2022-05-21T15:25:42.928Z"
   },
   {
    "duration": 10,
    "start_time": "2022-05-21T15:25:54.520Z"
   },
   {
    "duration": 6,
    "start_time": "2022-05-21T15:26:00.189Z"
   },
   {
    "duration": 6,
    "start_time": "2022-05-21T15:26:00.728Z"
   },
   {
    "duration": 6,
    "start_time": "2022-05-21T15:26:01.501Z"
   },
   {
    "duration": 4,
    "start_time": "2022-05-21T15:26:02.114Z"
   },
   {
    "duration": 7,
    "start_time": "2022-05-21T15:26:02.762Z"
   },
   {
    "duration": 3,
    "start_time": "2022-05-21T15:26:03.962Z"
   },
   {
    "duration": 649,
    "start_time": "2022-05-21T15:26:05.401Z"
   },
   {
    "duration": 5,
    "start_time": "2022-05-21T15:26:06.728Z"
   },
   {
    "duration": 13837,
    "start_time": "2022-05-21T15:26:08.688Z"
   },
   {
    "duration": 5,
    "start_time": "2022-05-21T15:26:22.527Z"
   },
   {
    "duration": 527,
    "start_time": "2022-05-21T15:26:22.534Z"
   },
   {
    "duration": 3,
    "start_time": "2022-05-21T15:26:23.064Z"
   },
   {
    "duration": 6,
    "start_time": "2022-05-21T15:26:24.086Z"
   },
   {
    "duration": 10,
    "start_time": "2022-05-21T15:26:24.697Z"
   },
   {
    "duration": 6,
    "start_time": "2022-05-21T15:26:25.557Z"
   },
   {
    "duration": 11,
    "start_time": "2022-05-21T15:26:40.962Z"
   },
   {
    "duration": 6,
    "start_time": "2022-05-21T15:26:51.204Z"
   },
   {
    "duration": 6,
    "start_time": "2022-05-21T15:26:51.270Z"
   },
   {
    "duration": 9,
    "start_time": "2022-05-21T15:26:51.592Z"
   },
   {
    "duration": 4,
    "start_time": "2022-05-21T15:26:51.605Z"
   },
   {
    "duration": 8,
    "start_time": "2022-05-21T15:26:51.886Z"
   },
   {
    "duration": 11,
    "start_time": "2022-05-21T15:26:51.897Z"
   },
   {
    "duration": 685,
    "start_time": "2022-05-21T15:26:52.286Z"
   },
   {
    "duration": 6,
    "start_time": "2022-05-21T15:26:53.106Z"
   },
   {
    "duration": 16713,
    "start_time": "2022-05-21T15:26:55.088Z"
   },
   {
    "duration": 4,
    "start_time": "2022-05-21T15:27:11.803Z"
   },
   {
    "duration": 602,
    "start_time": "2022-05-21T15:27:11.809Z"
   },
   {
    "duration": 3,
    "start_time": "2022-05-21T15:27:12.413Z"
   },
   {
    "duration": 9,
    "start_time": "2022-05-21T15:27:14.606Z"
   },
   {
    "duration": 11,
    "start_time": "2022-05-21T15:27:15.560Z"
   },
   {
    "duration": 10,
    "start_time": "2022-05-21T15:27:16.835Z"
   },
   {
    "duration": 16,
    "start_time": "2022-05-21T15:28:07.731Z"
   },
   {
    "duration": 6,
    "start_time": "2022-05-21T15:28:14.817Z"
   },
   {
    "duration": 4,
    "start_time": "2022-05-21T15:28:15.531Z"
   },
   {
    "duration": 8,
    "start_time": "2022-05-21T15:28:16.135Z"
   },
   {
    "duration": 5,
    "start_time": "2022-05-21T15:28:16.307Z"
   },
   {
    "duration": 8,
    "start_time": "2022-05-21T15:28:16.504Z"
   },
   {
    "duration": 3,
    "start_time": "2022-05-21T15:28:16.528Z"
   },
   {
    "duration": 1232,
    "start_time": "2022-05-21T15:28:16.911Z"
   },
   {
    "duration": 8,
    "start_time": "2022-05-21T15:28:18.146Z"
   },
   {
    "duration": 20339,
    "start_time": "2022-05-21T15:28:24.007Z"
   },
   {
    "duration": 8,
    "start_time": "2022-05-21T15:28:44.353Z"
   },
   {
    "duration": 721,
    "start_time": "2022-05-21T15:28:44.363Z"
   },
   {
    "duration": 5,
    "start_time": "2022-05-21T15:28:45.085Z"
   },
   {
    "duration": 18,
    "start_time": "2022-05-21T15:28:45.091Z"
   },
   {
    "duration": 21,
    "start_time": "2022-05-21T15:28:45.111Z"
   },
   {
    "duration": 7,
    "start_time": "2022-05-21T15:28:45.134Z"
   },
   {
    "duration": 21,
    "start_time": "2022-05-21T15:29:10.130Z"
   },
   {
    "duration": 16,
    "start_time": "2022-05-21T15:29:16.853Z"
   },
   {
    "duration": 5,
    "start_time": "2022-05-21T15:29:17.328Z"
   },
   {
    "duration": 21,
    "start_time": "2022-05-21T15:29:17.335Z"
   },
   {
    "duration": 7,
    "start_time": "2022-05-21T15:29:17.938Z"
   },
   {
    "duration": 20,
    "start_time": "2022-05-21T15:29:17.946Z"
   },
   {
    "duration": 4,
    "start_time": "2022-05-21T15:29:18.322Z"
   },
   {
    "duration": 1946,
    "start_time": "2022-05-21T15:29:18.716Z"
   },
   {
    "duration": 8,
    "start_time": "2022-05-21T15:29:20.741Z"
   },
   {
    "duration": 22844,
    "start_time": "2022-05-21T15:29:23.519Z"
   },
   {
    "duration": 4,
    "start_time": "2022-05-21T15:29:46.365Z"
   },
   {
    "duration": 880,
    "start_time": "2022-05-21T15:29:46.371Z"
   },
   {
    "duration": 15,
    "start_time": "2022-05-21T15:29:47.253Z"
   },
   {
    "duration": 13,
    "start_time": "2022-05-21T15:29:47.270Z"
   },
   {
    "duration": 22,
    "start_time": "2022-05-21T15:29:47.285Z"
   },
   {
    "duration": 7,
    "start_time": "2022-05-21T15:29:47.309Z"
   },
   {
    "duration": 17,
    "start_time": "2022-05-21T15:30:01.305Z"
   },
   {
    "duration": 8,
    "start_time": "2022-05-21T15:30:01.932Z"
   },
   {
    "duration": 4,
    "start_time": "2022-05-21T15:30:02.278Z"
   },
   {
    "duration": 6,
    "start_time": "2022-05-21T15:30:02.324Z"
   },
   {
    "duration": 4,
    "start_time": "2022-05-21T15:30:02.673Z"
   },
   {
    "duration": 15,
    "start_time": "2022-05-21T15:30:02.679Z"
   },
   {
    "duration": 3,
    "start_time": "2022-05-21T15:30:02.973Z"
   },
   {
    "duration": 1862,
    "start_time": "2022-05-21T15:30:03.304Z"
   },
   {
    "duration": 7,
    "start_time": "2022-05-21T15:30:05.247Z"
   },
   {
    "duration": 25172,
    "start_time": "2022-05-21T15:30:05.260Z"
   },
   {
    "duration": 12,
    "start_time": "2022-05-21T15:30:30.434Z"
   },
   {
    "duration": 931,
    "start_time": "2022-05-21T15:30:30.451Z"
   },
   {
    "duration": 4,
    "start_time": "2022-05-21T15:30:31.384Z"
   },
   {
    "duration": 11,
    "start_time": "2022-05-21T15:30:31.390Z"
   },
   {
    "duration": 14,
    "start_time": "2022-05-21T15:30:31.403Z"
   },
   {
    "duration": 31,
    "start_time": "2022-05-21T15:30:31.418Z"
   },
   {
    "duration": 24,
    "start_time": "2022-05-21T15:30:52.031Z"
   },
   {
    "duration": 8,
    "start_time": "2022-05-21T15:30:57.324Z"
   },
   {
    "duration": 5,
    "start_time": "2022-05-21T15:30:57.406Z"
   },
   {
    "duration": 7,
    "start_time": "2022-05-21T15:30:57.876Z"
   },
   {
    "duration": 4,
    "start_time": "2022-05-21T15:30:58.281Z"
   },
   {
    "duration": 7,
    "start_time": "2022-05-21T15:30:58.296Z"
   },
   {
    "duration": 4,
    "start_time": "2022-05-21T15:30:58.619Z"
   },
   {
    "duration": 3687,
    "start_time": "2022-05-21T15:30:59.462Z"
   },
   {
    "duration": 10,
    "start_time": "2022-05-21T15:31:03.152Z"
   },
   {
    "duration": 32534,
    "start_time": "2022-05-21T15:31:03.164Z"
   },
   {
    "duration": 4,
    "start_time": "2022-05-21T15:31:35.701Z"
   },
   {
    "duration": 1038,
    "start_time": "2022-05-21T15:31:35.707Z"
   },
   {
    "duration": 14,
    "start_time": "2022-05-21T15:31:36.747Z"
   },
   {
    "duration": 11,
    "start_time": "2022-05-21T15:31:36.763Z"
   },
   {
    "duration": 190,
    "start_time": "2022-05-21T15:31:36.776Z"
   },
   {
    "duration": 30,
    "start_time": "2022-05-21T15:31:36.968Z"
   },
   {
    "duration": 1375,
    "start_time": "2022-05-21T15:32:14.836Z"
   },
   {
    "duration": 45,
    "start_time": "2022-05-21T15:32:16.213Z"
   },
   {
    "duration": 12,
    "start_time": "2022-05-21T15:32:16.260Z"
   },
   {
    "duration": 13,
    "start_time": "2022-05-21T15:32:16.274Z"
   },
   {
    "duration": 16,
    "start_time": "2022-05-21T15:32:16.289Z"
   },
   {
    "duration": 12,
    "start_time": "2022-05-21T15:32:16.307Z"
   },
   {
    "duration": 34,
    "start_time": "2022-05-21T15:32:16.344Z"
   },
   {
    "duration": 3,
    "start_time": "2022-05-21T15:32:16.380Z"
   },
   {
    "duration": 9,
    "start_time": "2022-05-21T15:32:16.384Z"
   },
   {
    "duration": 10,
    "start_time": "2022-05-21T15:32:16.396Z"
   },
   {
    "duration": 9,
    "start_time": "2022-05-21T15:32:16.408Z"
   },
   {
    "duration": 25,
    "start_time": "2022-05-21T15:32:16.419Z"
   },
   {
    "duration": 10,
    "start_time": "2022-05-21T15:32:16.449Z"
   },
   {
    "duration": 10,
    "start_time": "2022-05-21T15:32:16.460Z"
   },
   {
    "duration": 5,
    "start_time": "2022-05-21T15:32:16.472Z"
   },
   {
    "duration": 515,
    "start_time": "2022-05-21T15:32:16.478Z"
   },
   {
    "duration": 1006,
    "start_time": "2022-05-21T15:32:16.995Z"
   },
   {
    "duration": 7,
    "start_time": "2022-05-21T15:32:18.003Z"
   },
   {
    "duration": 273,
    "start_time": "2022-05-21T15:32:18.012Z"
   },
   {
    "duration": 272,
    "start_time": "2022-05-21T15:32:18.287Z"
   },
   {
    "duration": 4,
    "start_time": "2022-05-21T15:32:18.561Z"
   },
   {
    "duration": 32,
    "start_time": "2022-05-21T15:32:18.567Z"
   },
   {
    "duration": 19,
    "start_time": "2022-05-21T15:32:18.600Z"
   },
   {
    "duration": 6,
    "start_time": "2022-05-21T15:32:18.622Z"
   },
   {
    "duration": 36,
    "start_time": "2022-05-21T15:32:18.630Z"
   },
   {
    "duration": 4,
    "start_time": "2022-05-21T15:32:18.667Z"
   },
   {
    "duration": 103,
    "start_time": "2022-05-21T15:32:18.673Z"
   },
   {
    "duration": 10,
    "start_time": "2022-05-21T15:32:18.780Z"
   },
   {
    "duration": 3654,
    "start_time": "2022-05-21T15:32:18.792Z"
   },
   {
    "duration": 7,
    "start_time": "2022-05-21T15:32:22.449Z"
   },
   {
    "duration": 32012,
    "start_time": "2022-05-21T15:32:22.457Z"
   },
   {
    "duration": 4,
    "start_time": "2022-05-21T15:32:54.470Z"
   },
   {
    "duration": 1040,
    "start_time": "2022-05-21T15:32:54.476Z"
   },
   {
    "duration": 5,
    "start_time": "2022-05-21T15:32:55.517Z"
   },
   {
    "duration": 1150220,
    "start_time": "2022-05-21T15:32:55.524Z"
   },
   {
    "duration": 6,
    "start_time": "2022-05-21T15:52:05.747Z"
   },
   {
    "duration": 924712,
    "start_time": "2022-05-21T15:52:05.758Z"
   },
   {
    "duration": 4,
    "start_time": "2022-05-21T16:07:30.472Z"
   },
   {
    "duration": 28,
    "start_time": "2022-05-21T16:07:30.540Z"
   },
   {
    "duration": 208,
    "start_time": "2022-05-21T16:07:30.571Z"
   },
   {
    "duration": 12,
    "start_time": "2022-05-21T16:07:30.781Z"
   },
   {
    "duration": 54,
    "start_time": "2022-05-21T16:07:30.794Z"
   },
   {
    "duration": 16,
    "start_time": "2022-05-21T16:07:30.854Z"
   },
   {
    "duration": 19,
    "start_time": "2022-05-21T16:07:30.874Z"
   },
   {
    "duration": 226,
    "start_time": "2022-05-21T16:08:20.178Z"
   },
   {
    "duration": 8,
    "start_time": "2022-05-21T16:15:49.615Z"
   },
   {
    "duration": 31,
    "start_time": "2022-05-21T16:16:03.505Z"
   },
   {
    "duration": 9,
    "start_time": "2022-05-21T16:16:18.336Z"
   },
   {
    "duration": 52,
    "start_time": "2022-05-21T16:19:58.685Z"
   },
   {
    "duration": 51,
    "start_time": "2022-05-21T16:20:13.499Z"
   },
   {
    "duration": 183,
    "start_time": "2022-05-21T16:21:18.385Z"
   },
   {
    "duration": 55,
    "start_time": "2022-05-21T16:21:36.259Z"
   },
   {
    "duration": 70,
    "start_time": "2022-05-21T16:22:46.586Z"
   },
   {
    "duration": 53,
    "start_time": "2022-05-21T16:23:00.180Z"
   },
   {
    "duration": 59,
    "start_time": "2022-05-21T16:30:48.324Z"
   },
   {
    "duration": 61,
    "start_time": "2022-05-21T16:31:08.929Z"
   },
   {
    "duration": 67,
    "start_time": "2022-05-21T16:31:30.522Z"
   },
   {
    "duration": 67,
    "start_time": "2022-05-21T16:33:51.880Z"
   },
   {
    "duration": 299,
    "start_time": "2022-05-21T16:33:51.950Z"
   },
   {
    "duration": 70,
    "start_time": "2022-05-21T16:34:02.791Z"
   },
   {
    "duration": 61,
    "start_time": "2022-05-21T16:34:11.018Z"
   },
   {
    "duration": 544,
    "start_time": "2022-05-21T16:34:50.161Z"
   },
   {
    "duration": 0,
    "start_time": "2022-05-21T16:34:50.707Z"
   },
   {
    "duration": 65,
    "start_time": "2022-05-21T16:35:09.162Z"
   },
   {
    "duration": 60,
    "start_time": "2022-05-21T16:35:49.084Z"
   },
   {
    "duration": 1553,
    "start_time": "2022-05-21T16:35:58.522Z"
   },
   {
    "duration": 56,
    "start_time": "2022-05-21T16:36:24.505Z"
   },
   {
    "duration": 58,
    "start_time": "2022-05-21T16:36:41.231Z"
   },
   {
    "duration": 50,
    "start_time": "2022-05-21T16:38:29.015Z"
   },
   {
    "duration": 50,
    "start_time": "2022-05-21T16:38:37.392Z"
   },
   {
    "duration": 57,
    "start_time": "2022-05-21T16:38:49.412Z"
   },
   {
    "duration": 62,
    "start_time": "2022-05-21T16:39:12.420Z"
   },
   {
    "duration": 65,
    "start_time": "2022-05-21T16:43:17.664Z"
   },
   {
    "duration": 106,
    "start_time": "2022-05-21T16:43:30.248Z"
   },
   {
    "duration": 52,
    "start_time": "2022-05-21T16:43:52.976Z"
   },
   {
    "duration": 64,
    "start_time": "2022-05-21T16:44:10.410Z"
   },
   {
    "duration": 67,
    "start_time": "2022-05-21T16:44:35.978Z"
   },
   {
    "duration": 55,
    "start_time": "2022-05-21T16:44:53.521Z"
   },
   {
    "duration": 61,
    "start_time": "2022-05-21T16:45:03.562Z"
   },
   {
    "duration": 62,
    "start_time": "2022-05-21T16:45:14.563Z"
   },
   {
    "duration": 53,
    "start_time": "2022-05-21T16:45:22.764Z"
   },
   {
    "duration": 7,
    "start_time": "2022-05-21T16:47:47.342Z"
   },
   {
    "duration": 14,
    "start_time": "2022-05-21T16:48:02.227Z"
   },
   {
    "duration": 10,
    "start_time": "2022-05-21T16:48:15.563Z"
   },
   {
    "duration": 15,
    "start_time": "2022-05-21T16:48:25.434Z"
   },
   {
    "duration": 8,
    "start_time": "2022-05-21T16:48:45.669Z"
   },
   {
    "duration": 16,
    "start_time": "2022-05-21T16:49:27.738Z"
   },
   {
    "duration": 15,
    "start_time": "2022-05-21T16:50:41.868Z"
   },
   {
    "duration": 17,
    "start_time": "2022-05-21T16:51:41.113Z"
   },
   {
    "duration": 20,
    "start_time": "2022-05-21T16:51:48.628Z"
   },
   {
    "duration": 3,
    "start_time": "2022-05-21T16:52:18.651Z"
   },
   {
    "duration": 15,
    "start_time": "2022-05-21T16:52:24.045Z"
   },
   {
    "duration": 11,
    "start_time": "2022-05-21T16:52:44.465Z"
   },
   {
    "duration": 10,
    "start_time": "2022-05-21T16:52:58.634Z"
   },
   {
    "duration": 22,
    "start_time": "2022-05-21T16:53:56.891Z"
   },
   {
    "duration": 321,
    "start_time": "2022-05-21T16:55:11.019Z"
   },
   {
    "duration": 336,
    "start_time": "2022-05-21T16:55:28.607Z"
   },
   {
    "duration": 236,
    "start_time": "2022-05-21T16:55:59.489Z"
   },
   {
    "duration": 4,
    "start_time": "2022-05-21T16:57:01.399Z"
   },
   {
    "duration": 243,
    "start_time": "2022-05-21T16:57:06.479Z"
   },
   {
    "duration": 296,
    "start_time": "2022-05-21T16:57:15.301Z"
   },
   {
    "duration": 237,
    "start_time": "2022-05-21T16:57:51.777Z"
   },
   {
    "duration": 296,
    "start_time": "2022-05-21T16:58:09.709Z"
   },
   {
    "duration": 9,
    "start_time": "2022-05-21T16:59:19.169Z"
   },
   {
    "duration": 16,
    "start_time": "2022-05-21T17:02:29.924Z"
   },
   {
    "duration": 7,
    "start_time": "2022-05-21T17:03:00.030Z"
   },
   {
    "duration": 6,
    "start_time": "2022-05-21T17:03:41.912Z"
   },
   {
    "duration": 32,
    "start_time": "2022-05-21T17:04:33.408Z"
   },
   {
    "duration": 10,
    "start_time": "2022-05-21T17:04:45.679Z"
   },
   {
    "duration": 12,
    "start_time": "2022-05-21T17:05:23.647Z"
   },
   {
    "duration": 12,
    "start_time": "2022-05-21T17:05:29.467Z"
   },
   {
    "duration": 6,
    "start_time": "2022-05-21T17:05:39.304Z"
   },
   {
    "duration": 281,
    "start_time": "2022-05-21T17:05:51.942Z"
   },
   {
    "duration": 7,
    "start_time": "2022-05-21T17:07:46.273Z"
   },
   {
    "duration": 14,
    "start_time": "2022-05-21T17:08:13.367Z"
   },
   {
    "duration": 14,
    "start_time": "2022-05-21T17:08:25.285Z"
   },
   {
    "duration": 61,
    "start_time": "2022-05-21T17:10:04.203Z"
   },
   {
    "duration": 21,
    "start_time": "2022-05-21T17:10:17.728Z"
   },
   {
    "duration": 14,
    "start_time": "2022-05-21T17:11:20.844Z"
   },
   {
    "duration": 15,
    "start_time": "2022-05-21T17:11:29.051Z"
   },
   {
    "duration": 12,
    "start_time": "2022-05-21T17:12:28.032Z"
   },
   {
    "duration": 14,
    "start_time": "2022-05-21T17:12:37.802Z"
   },
   {
    "duration": 133,
    "start_time": "2022-05-21T17:13:06.522Z"
   },
   {
    "duration": 14,
    "start_time": "2022-05-21T17:13:24.913Z"
   },
   {
    "duration": 18,
    "start_time": "2022-05-21T17:13:31.891Z"
   },
   {
    "duration": 15,
    "start_time": "2022-05-21T17:13:39.986Z"
   },
   {
    "duration": 11,
    "start_time": "2022-05-21T17:14:31.141Z"
   },
   {
    "duration": 13,
    "start_time": "2022-05-21T17:15:00.484Z"
   },
   {
    "duration": 11,
    "start_time": "2022-05-21T17:15:13.209Z"
   },
   {
    "duration": 18,
    "start_time": "2022-05-21T17:15:25.381Z"
   },
   {
    "duration": 15,
    "start_time": "2022-05-21T17:15:35.013Z"
   },
   {
    "duration": 21,
    "start_time": "2022-05-21T17:15:40.340Z"
   },
   {
    "duration": 12,
    "start_time": "2022-05-21T17:15:45.695Z"
   },
   {
    "duration": 12,
    "start_time": "2022-05-21T17:15:50.667Z"
   },
   {
    "duration": 14,
    "start_time": "2022-05-21T17:15:55.922Z"
   },
   {
    "duration": 480,
    "start_time": "2022-05-21T17:19:58.152Z"
   },
   {
    "duration": 10,
    "start_time": "2022-05-21T17:20:25.167Z"
   },
   {
    "duration": 23,
    "start_time": "2022-05-21T17:21:49.104Z"
   },
   {
    "duration": 12,
    "start_time": "2022-05-21T17:22:04.369Z"
   },
   {
    "duration": 16,
    "start_time": "2022-05-21T17:22:49.997Z"
   }
  ],
  "kernelspec": {
   "display_name": "Python 3 (ipykernel)",
   "language": "python",
   "name": "python3"
  },
  "language_info": {
   "codemirror_mode": {
    "name": "ipython",
    "version": 3
   },
   "file_extension": ".py",
   "mimetype": "text/x-python",
   "name": "python",
   "nbconvert_exporter": "python",
   "pygments_lexer": "ipython3",
   "version": "3.9.5"
  },
  "toc": {
   "base_numbering": 1,
   "nav_menu": {},
   "number_sections": true,
   "sideBar": true,
   "skip_h1_title": true,
   "title_cell": "Содержание",
   "title_sidebar": "Contents",
   "toc_cell": true,
   "toc_position": {},
   "toc_section_display": true,
   "toc_window_display": true
  }
 },
 "nbformat": 4,
 "nbformat_minor": 2
}
