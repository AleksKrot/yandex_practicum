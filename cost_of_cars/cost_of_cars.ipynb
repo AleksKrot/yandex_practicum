{
 "cells": [
  {
   "cell_type": "markdown",
   "metadata": {
    "toc": true
   },
   "source": [
    "<h1>Содержание<span class=\"tocSkip\"></span></h1>\n",
    "<div class=\"toc\"><ul class=\"toc-item\"><li><span><a href=\"#Подготовка-данных\" data-toc-modified-id=\"Подготовка-данных-1\"><span class=\"toc-item-num\">1&nbsp;&nbsp;</span>Подготовка данных</a></span><ul class=\"toc-item\"><li><span><a href=\"#Импорт-используемых-библиотек\" data-toc-modified-id=\"Импорт-используемых-библиотек-1.1\"><span class=\"toc-item-num\">1.1&nbsp;&nbsp;</span>Импорт используемых библиотек</a></span></li><li><span><a href=\"#Чтение-файла-с-данными\" data-toc-modified-id=\"Чтение-файла-с-данными-1.2\"><span class=\"toc-item-num\">1.2&nbsp;&nbsp;</span>Чтение файла с данными</a></span></li><li><span><a href=\"#Изучение-общей-информации\" data-toc-modified-id=\"Изучение-общей-информации-1.3\"><span class=\"toc-item-num\">1.3&nbsp;&nbsp;</span>Изучение общей информации</a></span></li><li><span><a href=\"#Предобработка-данных\" data-toc-modified-id=\"Предобработка-данных-1.4\"><span class=\"toc-item-num\">1.4&nbsp;&nbsp;</span>Предобработка данных</a></span></li><li><span><a href=\"#Подготовка-признаков\" data-toc-modified-id=\"Подготовка-признаков-1.5\"><span class=\"toc-item-num\">1.5&nbsp;&nbsp;</span>Подготовка признаков</a></span></li></ul></li><li><span><a href=\"#Обучение-моделей\" data-toc-modified-id=\"Обучение-моделей-2\"><span class=\"toc-item-num\">2&nbsp;&nbsp;</span>Обучение моделей</a></span><ul class=\"toc-item\"><li><span><a href=\"#LGBM\" data-toc-modified-id=\"LGBM-2.1\"><span class=\"toc-item-num\">2.1&nbsp;&nbsp;</span>LGBM</a></span></li><li><span><a href=\"#CatBoost\" data-toc-modified-id=\"CatBoost-2.2\"><span class=\"toc-item-num\">2.2&nbsp;&nbsp;</span>CatBoost</a></span></li><li><span><a href=\"#RandomForest\" data-toc-modified-id=\"RandomForest-2.3\"><span class=\"toc-item-num\">2.3&nbsp;&nbsp;</span>RandomForest</a></span></li><li><span><a href=\"#DecisionTree\" data-toc-modified-id=\"DecisionTree-2.4\"><span class=\"toc-item-num\">2.4&nbsp;&nbsp;</span>DecisionTree</a></span></li><li><span><a href=\"#Lasso\" data-toc-modified-id=\"Lasso-2.5\"><span class=\"toc-item-num\">2.5&nbsp;&nbsp;</span>Lasso</a></span></li></ul></li><li><span><a href=\"#Анализ-моделей\" data-toc-modified-id=\"Анализ-моделей-3\"><span class=\"toc-item-num\">3&nbsp;&nbsp;</span>Анализ моделей</a></span></li></ul></div>"
   ]
  },
  {
   "cell_type": "markdown",
   "metadata": {},
   "source": [
    "# Определение стоимости автомобилей"
   ]
  },
  {
   "cell_type": "markdown",
   "metadata": {},
   "source": [
    "Сервис по продаже автомобилей с пробегом «Не бит, не крашен» разрабатывает приложение для привлечения новых клиентов. В нём можно быстро узнать рыночную стоимость своего автомобиля. В вашем распоряжении исторические данные: технические характеристики, комплектации и цены автомобилей. Вам нужно построить модель для определения стоимости. \n",
    "\n",
    "Заказчику важны:\n",
    "\n",
    "- качество предсказания;\n",
    "- скорость предсказания;\n",
    "- время обучения."
   ]
  },
  {
   "cell_type": "markdown",
   "metadata": {},
   "source": [
    "# Описание данных"
   ]
  },
  {
   "cell_type": "markdown",
   "metadata": {},
   "source": [
    "**Признаки**\n",
    "* `DateCrawled` — дата скачивания анкеты из базы\n",
    "\n",
    "* `VehicleType` — тип автомобильного кузова\n",
    "\n",
    "* `RegistrationYear` — год регистрации автомобиля\n",
    "\n",
    "* `Gearbox` — тип коробки передач\n",
    "\n",
    "* `Power` — мощность (л. с.)\n",
    "\n",
    "* `Model` — модель автомобиля\n",
    "\n",
    "* `Kilometer` — пробег (км)\n",
    "\n",
    "* `RegistrationMonth` — месяц регистрации автомобиля\n",
    "\n",
    "* `FuelType` — тип топлива\n",
    "\n",
    "* `Brand` — марка автомобиля\n",
    "\n",
    "* `NotRepaired` — была машина в ремонте или нет\n",
    "\n",
    "* `DateCreated` — дата создания анкеты\n",
    "\n",
    "* `NumberOfPictures` — количество фотографий автомобиля\n",
    "\n",
    "* `PostalCode` — почтовый индекс владельца анкеты (пользователя)\n",
    "\n",
    "* `LastSeen` — дата последней активности пользователя\n",
    "\n",
    "**Целевой признак**\n",
    "* `Price` — цена (евро)"
   ]
  },
  {
   "cell_type": "markdown",
   "metadata": {},
   "source": [
    "## Подготовка данных"
   ]
  },
  {
   "cell_type": "markdown",
   "metadata": {},
   "source": [
    "### Импорт используемых библиотек"
   ]
  },
  {
   "cell_type": "code",
   "execution_count": 1,
   "metadata": {},
   "outputs": [],
   "source": [
    "# импорт библиотеки pandas\n",
    "import pandas as pd\n",
    "\n",
    "# импорт библиотеки numpy\n",
    "import numpy as np\n",
    "\n",
    "import time\n",
    "\n",
    "# импорт библиотеки matplotlib\n",
    "import matplotlib.pyplot as plt\n",
    "\n",
    "# импорт функции train_test_split из библиотеки sklearn\n",
    "from sklearn.model_selection import train_test_split\n",
    "\n",
    "# импорт кросс-валидации из библиотеки sklearn\n",
    "from sklearn.model_selection import cross_val_score\n",
    "\n",
    "# импорт метода стандартизации данных из библиотеки sklearn\n",
    "from sklearn.preprocessing import OrdinalEncoder, StandardScaler\n",
    "\n",
    "# импорт средней квадратичной ошибки из библиотеки sklearn\n",
    "from sklearn.metrics import mean_squared_error\n",
    "\n",
    "# импорт make_scorer из библиотеки sklearn\n",
    "from sklearn.metrics import make_scorer\n",
    "\n",
    "# импорт алгоритма поиска по гиперпараметрам из библиотеки sklearn\n",
    "from sklearn.model_selection import GridSearchCV\n",
    "\n",
    "# импорт алгоритма дерева принятия решений из библиотеки sklearn\n",
    "from sklearn.tree import DecisionTreeRegressor\n",
    "\n",
    "# импорт алгоритма случайного леса из библиотеки sklearn\n",
    "from sklearn.ensemble import RandomForestRegressor\n",
    "\n",
    "# импорт градиентного бустинга из библиотеки catboost\n",
    "from catboost import CatBoostRegressor\n",
    "\n",
    "# импорт градиентного бустинга из библиотеки lightgbm\n",
    "from lightgbm import LGBMRegressor"
   ]
  },
  {
   "cell_type": "markdown",
   "metadata": {},
   "source": [
    "### Чтение файла с данными"
   ]
  },
  {
   "cell_type": "code",
   "execution_count": 2,
   "metadata": {},
   "outputs": [],
   "source": [
    "# чтение файла с данными\n",
    "data = pd.read_csv('/datasets/autos.csv')"
   ]
  },
  {
   "cell_type": "markdown",
   "metadata": {},
   "source": [
    "### Изучение общей информации"
   ]
  },
  {
   "cell_type": "code",
   "execution_count": 3,
   "metadata": {
    "scrolled": false
   },
   "outputs": [
    {
     "data": {
      "text/html": [
       "<div>\n",
       "<style scoped>\n",
       "    .dataframe tbody tr th:only-of-type {\n",
       "        vertical-align: middle;\n",
       "    }\n",
       "\n",
       "    .dataframe tbody tr th {\n",
       "        vertical-align: top;\n",
       "    }\n",
       "\n",
       "    .dataframe thead th {\n",
       "        text-align: right;\n",
       "    }\n",
       "</style>\n",
       "<table border=\"1\" class=\"dataframe\">\n",
       "  <thead>\n",
       "    <tr style=\"text-align: right;\">\n",
       "      <th></th>\n",
       "      <th>DateCrawled</th>\n",
       "      <th>Price</th>\n",
       "      <th>VehicleType</th>\n",
       "      <th>RegistrationYear</th>\n",
       "      <th>Gearbox</th>\n",
       "      <th>Power</th>\n",
       "      <th>Model</th>\n",
       "      <th>Kilometer</th>\n",
       "      <th>RegistrationMonth</th>\n",
       "      <th>FuelType</th>\n",
       "      <th>Brand</th>\n",
       "      <th>NotRepaired</th>\n",
       "      <th>DateCreated</th>\n",
       "      <th>NumberOfPictures</th>\n",
       "      <th>PostalCode</th>\n",
       "      <th>LastSeen</th>\n",
       "    </tr>\n",
       "  </thead>\n",
       "  <tbody>\n",
       "    <tr>\n",
       "      <th>59396</th>\n",
       "      <td>2016-03-08 04:32:44</td>\n",
       "      <td>170</td>\n",
       "      <td>small</td>\n",
       "      <td>1997</td>\n",
       "      <td>manual</td>\n",
       "      <td>60</td>\n",
       "      <td>polo</td>\n",
       "      <td>150000</td>\n",
       "      <td>7</td>\n",
       "      <td>petrol</td>\n",
       "      <td>volkswagen</td>\n",
       "      <td>NaN</td>\n",
       "      <td>2016-03-08 00:00:00</td>\n",
       "      <td>0</td>\n",
       "      <td>35112</td>\n",
       "      <td>2016-03-10 07:46:03</td>\n",
       "    </tr>\n",
       "    <tr>\n",
       "      <th>311559</th>\n",
       "      <td>2016-03-30 22:43:25</td>\n",
       "      <td>1500</td>\n",
       "      <td>wagon</td>\n",
       "      <td>1993</td>\n",
       "      <td>manual</td>\n",
       "      <td>116</td>\n",
       "      <td>80</td>\n",
       "      <td>150000</td>\n",
       "      <td>10</td>\n",
       "      <td>petrol</td>\n",
       "      <td>audi</td>\n",
       "      <td>no</td>\n",
       "      <td>2016-03-30 00:00:00</td>\n",
       "      <td>0</td>\n",
       "      <td>86845</td>\n",
       "      <td>2016-04-05 13:16:19</td>\n",
       "    </tr>\n",
       "    <tr>\n",
       "      <th>73504</th>\n",
       "      <td>2016-03-22 17:54:49</td>\n",
       "      <td>550</td>\n",
       "      <td>wagon</td>\n",
       "      <td>1998</td>\n",
       "      <td>manual</td>\n",
       "      <td>101</td>\n",
       "      <td>3er</td>\n",
       "      <td>150000</td>\n",
       "      <td>9</td>\n",
       "      <td>petrol</td>\n",
       "      <td>bmw</td>\n",
       "      <td>NaN</td>\n",
       "      <td>2016-03-22 00:00:00</td>\n",
       "      <td>0</td>\n",
       "      <td>52134</td>\n",
       "      <td>2016-03-22 17:54:49</td>\n",
       "    </tr>\n",
       "    <tr>\n",
       "      <th>45202</th>\n",
       "      <td>2016-03-21 17:48:59</td>\n",
       "      <td>16200</td>\n",
       "      <td>wagon</td>\n",
       "      <td>2013</td>\n",
       "      <td>auto</td>\n",
       "      <td>140</td>\n",
       "      <td>superb</td>\n",
       "      <td>70000</td>\n",
       "      <td>1</td>\n",
       "      <td>gasoline</td>\n",
       "      <td>skoda</td>\n",
       "      <td>no</td>\n",
       "      <td>2016-03-21 00:00:00</td>\n",
       "      <td>0</td>\n",
       "      <td>63741</td>\n",
       "      <td>2016-04-06 18:45:20</td>\n",
       "    </tr>\n",
       "    <tr>\n",
       "      <th>88634</th>\n",
       "      <td>2016-03-07 11:59:07</td>\n",
       "      <td>1150</td>\n",
       "      <td>small</td>\n",
       "      <td>2001</td>\n",
       "      <td>manual</td>\n",
       "      <td>60</td>\n",
       "      <td>punto</td>\n",
       "      <td>150000</td>\n",
       "      <td>6</td>\n",
       "      <td>petrol</td>\n",
       "      <td>fiat</td>\n",
       "      <td>no</td>\n",
       "      <td>2016-03-07 00:00:00</td>\n",
       "      <td>0</td>\n",
       "      <td>86687</td>\n",
       "      <td>2016-03-18 00:16:05</td>\n",
       "    </tr>\n",
       "    <tr>\n",
       "      <th>165214</th>\n",
       "      <td>2016-03-11 15:51:35</td>\n",
       "      <td>8300</td>\n",
       "      <td>sedan</td>\n",
       "      <td>2007</td>\n",
       "      <td>auto</td>\n",
       "      <td>143</td>\n",
       "      <td>1er</td>\n",
       "      <td>150000</td>\n",
       "      <td>10</td>\n",
       "      <td>gasoline</td>\n",
       "      <td>bmw</td>\n",
       "      <td>no</td>\n",
       "      <td>2016-03-11 00:00:00</td>\n",
       "      <td>0</td>\n",
       "      <td>50933</td>\n",
       "      <td>2016-03-23 13:16:26</td>\n",
       "    </tr>\n",
       "    <tr>\n",
       "      <th>46224</th>\n",
       "      <td>2016-03-14 01:49:32</td>\n",
       "      <td>1700</td>\n",
       "      <td>sedan</td>\n",
       "      <td>1994</td>\n",
       "      <td>manual</td>\n",
       "      <td>140</td>\n",
       "      <td>80</td>\n",
       "      <td>150000</td>\n",
       "      <td>10</td>\n",
       "      <td>petrol</td>\n",
       "      <td>audi</td>\n",
       "      <td>no</td>\n",
       "      <td>2016-03-13 00:00:00</td>\n",
       "      <td>0</td>\n",
       "      <td>96129</td>\n",
       "      <td>2016-03-27 11:15:50</td>\n",
       "    </tr>\n",
       "    <tr>\n",
       "      <th>122117</th>\n",
       "      <td>2016-03-11 15:53:18</td>\n",
       "      <td>5000</td>\n",
       "      <td>sedan</td>\n",
       "      <td>2008</td>\n",
       "      <td>NaN</td>\n",
       "      <td>150</td>\n",
       "      <td>1er</td>\n",
       "      <td>150000</td>\n",
       "      <td>10</td>\n",
       "      <td>gasoline</td>\n",
       "      <td>bmw</td>\n",
       "      <td>no</td>\n",
       "      <td>2016-03-11 00:00:00</td>\n",
       "      <td>0</td>\n",
       "      <td>17489</td>\n",
       "      <td>2016-03-11 16:42:31</td>\n",
       "    </tr>\n",
       "    <tr>\n",
       "      <th>9830</th>\n",
       "      <td>2016-03-31 21:48:04</td>\n",
       "      <td>15990</td>\n",
       "      <td>suv</td>\n",
       "      <td>2010</td>\n",
       "      <td>manual</td>\n",
       "      <td>156</td>\n",
       "      <td>4_reihe</td>\n",
       "      <td>70000</td>\n",
       "      <td>5</td>\n",
       "      <td>gasoline</td>\n",
       "      <td>peugeot</td>\n",
       "      <td>no</td>\n",
       "      <td>2016-03-31 00:00:00</td>\n",
       "      <td>0</td>\n",
       "      <td>75245</td>\n",
       "      <td>2016-04-06 17:17:29</td>\n",
       "    </tr>\n",
       "    <tr>\n",
       "      <th>156236</th>\n",
       "      <td>2016-03-12 11:56:47</td>\n",
       "      <td>2100</td>\n",
       "      <td>wagon</td>\n",
       "      <td>2004</td>\n",
       "      <td>manual</td>\n",
       "      <td>136</td>\n",
       "      <td>6_reihe</td>\n",
       "      <td>150000</td>\n",
       "      <td>8</td>\n",
       "      <td>gasoline</td>\n",
       "      <td>mazda</td>\n",
       "      <td>no</td>\n",
       "      <td>2016-03-12 00:00:00</td>\n",
       "      <td>0</td>\n",
       "      <td>95355</td>\n",
       "      <td>2016-04-06 07:16:46</td>\n",
       "    </tr>\n",
       "  </tbody>\n",
       "</table>\n",
       "</div>"
      ],
      "text/plain": [
       "                DateCrawled  Price VehicleType  RegistrationYear Gearbox  \\\n",
       "59396   2016-03-08 04:32:44    170       small              1997  manual   \n",
       "311559  2016-03-30 22:43:25   1500       wagon              1993  manual   \n",
       "73504   2016-03-22 17:54:49    550       wagon              1998  manual   \n",
       "45202   2016-03-21 17:48:59  16200       wagon              2013    auto   \n",
       "88634   2016-03-07 11:59:07   1150       small              2001  manual   \n",
       "165214  2016-03-11 15:51:35   8300       sedan              2007    auto   \n",
       "46224   2016-03-14 01:49:32   1700       sedan              1994  manual   \n",
       "122117  2016-03-11 15:53:18   5000       sedan              2008     NaN   \n",
       "9830    2016-03-31 21:48:04  15990         suv              2010  manual   \n",
       "156236  2016-03-12 11:56:47   2100       wagon              2004  manual   \n",
       "\n",
       "        Power    Model  Kilometer  RegistrationMonth  FuelType       Brand  \\\n",
       "59396      60     polo     150000                  7    petrol  volkswagen   \n",
       "311559    116       80     150000                 10    petrol        audi   \n",
       "73504     101      3er     150000                  9    petrol         bmw   \n",
       "45202     140   superb      70000                  1  gasoline       skoda   \n",
       "88634      60    punto     150000                  6    petrol        fiat   \n",
       "165214    143      1er     150000                 10  gasoline         bmw   \n",
       "46224     140       80     150000                 10    petrol        audi   \n",
       "122117    150      1er     150000                 10  gasoline         bmw   \n",
       "9830      156  4_reihe      70000                  5  gasoline     peugeot   \n",
       "156236    136  6_reihe     150000                  8  gasoline       mazda   \n",
       "\n",
       "       NotRepaired          DateCreated  NumberOfPictures  PostalCode  \\\n",
       "59396          NaN  2016-03-08 00:00:00                 0       35112   \n",
       "311559          no  2016-03-30 00:00:00                 0       86845   \n",
       "73504          NaN  2016-03-22 00:00:00                 0       52134   \n",
       "45202           no  2016-03-21 00:00:00                 0       63741   \n",
       "88634           no  2016-03-07 00:00:00                 0       86687   \n",
       "165214          no  2016-03-11 00:00:00                 0       50933   \n",
       "46224           no  2016-03-13 00:00:00                 0       96129   \n",
       "122117          no  2016-03-11 00:00:00                 0       17489   \n",
       "9830            no  2016-03-31 00:00:00                 0       75245   \n",
       "156236          no  2016-03-12 00:00:00                 0       95355   \n",
       "\n",
       "                   LastSeen  \n",
       "59396   2016-03-10 07:46:03  \n",
       "311559  2016-04-05 13:16:19  \n",
       "73504   2016-03-22 17:54:49  \n",
       "45202   2016-04-06 18:45:20  \n",
       "88634   2016-03-18 00:16:05  \n",
       "165214  2016-03-23 13:16:26  \n",
       "46224   2016-03-27 11:15:50  \n",
       "122117  2016-03-11 16:42:31  \n",
       "9830    2016-04-06 17:17:29  \n",
       "156236  2016-04-06 07:16:46  "
      ]
     },
     "execution_count": 3,
     "metadata": {},
     "output_type": "execute_result"
    }
   ],
   "source": [
    "# получение случайных 10 строк датасета\n",
    "data.sample(10)"
   ]
  },
  {
   "cell_type": "code",
   "execution_count": 4,
   "metadata": {},
   "outputs": [
    {
     "name": "stdout",
     "output_type": "stream",
     "text": [
      "<class 'pandas.core.frame.DataFrame'>\n",
      "RangeIndex: 354369 entries, 0 to 354368\n",
      "Data columns (total 16 columns):\n",
      " #   Column             Non-Null Count   Dtype \n",
      "---  ------             --------------   ----- \n",
      " 0   DateCrawled        354369 non-null  object\n",
      " 1   Price              354369 non-null  int64 \n",
      " 2   VehicleType        316879 non-null  object\n",
      " 3   RegistrationYear   354369 non-null  int64 \n",
      " 4   Gearbox            334536 non-null  object\n",
      " 5   Power              354369 non-null  int64 \n",
      " 6   Model              334664 non-null  object\n",
      " 7   Kilometer          354369 non-null  int64 \n",
      " 8   RegistrationMonth  354369 non-null  int64 \n",
      " 9   FuelType           321474 non-null  object\n",
      " 10  Brand              354369 non-null  object\n",
      " 11  NotRepaired        283215 non-null  object\n",
      " 12  DateCreated        354369 non-null  object\n",
      " 13  NumberOfPictures   354369 non-null  int64 \n",
      " 14  PostalCode         354369 non-null  int64 \n",
      " 15  LastSeen           354369 non-null  object\n",
      "dtypes: int64(7), object(9)\n",
      "memory usage: 43.3+ MB\n"
     ]
    }
   ],
   "source": [
    "# получение общей информации о данных датасета\n",
    "data.info()"
   ]
  },
  {
   "cell_type": "code",
   "execution_count": 5,
   "metadata": {},
   "outputs": [
    {
     "data": {
      "text/html": [
       "<div>\n",
       "<style scoped>\n",
       "    .dataframe tbody tr th:only-of-type {\n",
       "        vertical-align: middle;\n",
       "    }\n",
       "\n",
       "    .dataframe tbody tr th {\n",
       "        vertical-align: top;\n",
       "    }\n",
       "\n",
       "    .dataframe thead th {\n",
       "        text-align: right;\n",
       "    }\n",
       "</style>\n",
       "<table border=\"1\" class=\"dataframe\">\n",
       "  <thead>\n",
       "    <tr style=\"text-align: right;\">\n",
       "      <th></th>\n",
       "      <th>Price</th>\n",
       "      <th>RegistrationYear</th>\n",
       "      <th>Power</th>\n",
       "      <th>Kilometer</th>\n",
       "      <th>RegistrationMonth</th>\n",
       "      <th>NumberOfPictures</th>\n",
       "      <th>PostalCode</th>\n",
       "    </tr>\n",
       "  </thead>\n",
       "  <tbody>\n",
       "    <tr>\n",
       "      <th>count</th>\n",
       "      <td>354369.000000</td>\n",
       "      <td>354369.000000</td>\n",
       "      <td>354369.000000</td>\n",
       "      <td>354369.000000</td>\n",
       "      <td>354369.000000</td>\n",
       "      <td>354369.0</td>\n",
       "      <td>354369.000000</td>\n",
       "    </tr>\n",
       "    <tr>\n",
       "      <th>mean</th>\n",
       "      <td>4416.656776</td>\n",
       "      <td>2004.234448</td>\n",
       "      <td>110.094337</td>\n",
       "      <td>128211.172535</td>\n",
       "      <td>5.714645</td>\n",
       "      <td>0.0</td>\n",
       "      <td>50508.689087</td>\n",
       "    </tr>\n",
       "    <tr>\n",
       "      <th>std</th>\n",
       "      <td>4514.158514</td>\n",
       "      <td>90.227958</td>\n",
       "      <td>189.850405</td>\n",
       "      <td>37905.341530</td>\n",
       "      <td>3.726421</td>\n",
       "      <td>0.0</td>\n",
       "      <td>25783.096248</td>\n",
       "    </tr>\n",
       "    <tr>\n",
       "      <th>min</th>\n",
       "      <td>0.000000</td>\n",
       "      <td>1000.000000</td>\n",
       "      <td>0.000000</td>\n",
       "      <td>5000.000000</td>\n",
       "      <td>0.000000</td>\n",
       "      <td>0.0</td>\n",
       "      <td>1067.000000</td>\n",
       "    </tr>\n",
       "    <tr>\n",
       "      <th>25%</th>\n",
       "      <td>1050.000000</td>\n",
       "      <td>1999.000000</td>\n",
       "      <td>69.000000</td>\n",
       "      <td>125000.000000</td>\n",
       "      <td>3.000000</td>\n",
       "      <td>0.0</td>\n",
       "      <td>30165.000000</td>\n",
       "    </tr>\n",
       "    <tr>\n",
       "      <th>50%</th>\n",
       "      <td>2700.000000</td>\n",
       "      <td>2003.000000</td>\n",
       "      <td>105.000000</td>\n",
       "      <td>150000.000000</td>\n",
       "      <td>6.000000</td>\n",
       "      <td>0.0</td>\n",
       "      <td>49413.000000</td>\n",
       "    </tr>\n",
       "    <tr>\n",
       "      <th>75%</th>\n",
       "      <td>6400.000000</td>\n",
       "      <td>2008.000000</td>\n",
       "      <td>143.000000</td>\n",
       "      <td>150000.000000</td>\n",
       "      <td>9.000000</td>\n",
       "      <td>0.0</td>\n",
       "      <td>71083.000000</td>\n",
       "    </tr>\n",
       "    <tr>\n",
       "      <th>max</th>\n",
       "      <td>20000.000000</td>\n",
       "      <td>9999.000000</td>\n",
       "      <td>20000.000000</td>\n",
       "      <td>150000.000000</td>\n",
       "      <td>12.000000</td>\n",
       "      <td>0.0</td>\n",
       "      <td>99998.000000</td>\n",
       "    </tr>\n",
       "  </tbody>\n",
       "</table>\n",
       "</div>"
      ],
      "text/plain": [
       "               Price  RegistrationYear          Power      Kilometer  \\\n",
       "count  354369.000000     354369.000000  354369.000000  354369.000000   \n",
       "mean     4416.656776       2004.234448     110.094337  128211.172535   \n",
       "std      4514.158514         90.227958     189.850405   37905.341530   \n",
       "min         0.000000       1000.000000       0.000000    5000.000000   \n",
       "25%      1050.000000       1999.000000      69.000000  125000.000000   \n",
       "50%      2700.000000       2003.000000     105.000000  150000.000000   \n",
       "75%      6400.000000       2008.000000     143.000000  150000.000000   \n",
       "max     20000.000000       9999.000000   20000.000000  150000.000000   \n",
       "\n",
       "       RegistrationMonth  NumberOfPictures     PostalCode  \n",
       "count      354369.000000          354369.0  354369.000000  \n",
       "mean            5.714645               0.0   50508.689087  \n",
       "std             3.726421               0.0   25783.096248  \n",
       "min             0.000000               0.0    1067.000000  \n",
       "25%             3.000000               0.0   30165.000000  \n",
       "50%             6.000000               0.0   49413.000000  \n",
       "75%             9.000000               0.0   71083.000000  \n",
       "max            12.000000               0.0   99998.000000  "
      ]
     },
     "execution_count": 5,
     "metadata": {},
     "output_type": "execute_result"
    }
   ],
   "source": [
    "# получение описательной статистики данных датасета\n",
    "data.describe()"
   ]
  },
  {
   "cell_type": "code",
   "execution_count": 6,
   "metadata": {},
   "outputs": [
    {
     "data": {
      "text/plain": [
       "4"
      ]
     },
     "execution_count": 6,
     "metadata": {},
     "output_type": "execute_result"
    }
   ],
   "source": [
    "# проверка на наличие дубликатов\n",
    "data.duplicated().sum()"
   ]
  },
  {
   "cell_type": "code",
   "execution_count": 7,
   "metadata": {},
   "outputs": [
    {
     "data": {
      "text/plain": [
       "DateCrawled              0\n",
       "Price                    0\n",
       "VehicleType          37490\n",
       "RegistrationYear         0\n",
       "Gearbox              19833\n",
       "Power                    0\n",
       "Model                19705\n",
       "Kilometer                0\n",
       "RegistrationMonth        0\n",
       "FuelType             32895\n",
       "Brand                    0\n",
       "NotRepaired          71154\n",
       "DateCreated              0\n",
       "NumberOfPictures         0\n",
       "PostalCode               0\n",
       "LastSeen                 0\n",
       "dtype: int64"
      ]
     },
     "execution_count": 7,
     "metadata": {},
     "output_type": "execute_result"
    }
   ],
   "source": [
    "# подсчёт пропусков\n",
    "data.isna().sum()"
   ]
  },
  {
   "cell_type": "code",
   "execution_count": 8,
   "metadata": {},
   "outputs": [
    {
     "data": {
      "text/plain": [
       "DateCrawled           0.000000\n",
       "Price                 0.000000\n",
       "VehicleType          10.579368\n",
       "RegistrationYear      0.000000\n",
       "Gearbox               5.596709\n",
       "Power                 0.000000\n",
       "Model                 5.560588\n",
       "Kilometer             0.000000\n",
       "RegistrationMonth     0.000000\n",
       "FuelType              9.282697\n",
       "Brand                 0.000000\n",
       "NotRepaired          20.079070\n",
       "DateCreated           0.000000\n",
       "NumberOfPictures      0.000000\n",
       "PostalCode            0.000000\n",
       "LastSeen              0.000000\n",
       "dtype: float64"
      ]
     },
     "execution_count": 8,
     "metadata": {},
     "output_type": "execute_result"
    }
   ],
   "source": [
    "# подсчёт доли пропусков от общего количества данных\n",
    "data.isna().sum() / data.shape[0] * 100"
   ]
  },
  {
   "cell_type": "markdown",
   "metadata": {},
   "source": [
    "После первичного знакомства с нашими данными можно сделать вывод, что:\n",
    "\n",
    "* В столбце `Price` есть аномальное значение 0.\n",
    "\n",
    "* В столбце `RegistrationYear` есть аномальные значения, а именно, минимальный год выпуска 1000 год, а максимальный 9999.\n",
    "\n",
    "* В столбце `Power` минимальное значение 0 (вероятно данные не указаны), а максимальное значение 20000, что выглядит не реалистичным.\n",
    "\n",
    "* В столбце `Kilometer` значения целые, вероятно они выбираются из какого-то диапазона на сайте.\n",
    "\n",
    "* В столбце `RegistrationMonth` есть нулевые значения, что скорее всего говорит об отсутствии данных.\n",
    "\n",
    "* В столбце `NumberOfPictures` не ни одного значения. Этот столбец может быть удален, так как не несет никакой полезной информации.\n",
    "\n",
    "* В столбце `PostalCode` индексы содержат 4 и 5 цифр, что странно, так как обычно индекс состоит из 6 цифр. В данном случае данный столбец также не является важным и может быть удален.\n",
    "\n",
    "* Данные содержат 4 дубликата.\n",
    "\n",
    "* В столбцах `VehicleType`, `Gearbox`, `Model`, `FuelType` и `NotRepaired` содержатся пропуски, в некоторых всего 5% от всего объема данных, но в одном - 20% от всего объема данных, что очень много.\n",
    "\n",
    "Необходима следующая предобработка данных:\n",
    "\n",
    "* Приведем наименования столбцов к змеиному регистру.\n",
    "\n",
    "* Удалим дубликаты.\n",
    "\n",
    "* Удалим столбцы, которые не несут важной информации для построения модели, такие как дата скачивания анкеты из базы `DateCrawled`, дата создания анкеты `DateCreated`, количество фотографий автомобиля `NumberOfPictures`, почтовый индекс владельца анкеты (пользователя) `PostalCode` и дата последней активности пользователя `LastSeen`.\n",
    "\n",
    "* Разберемся с аномалиями и пропусками."
   ]
  },
  {
   "cell_type": "markdown",
   "metadata": {},
   "source": [
    "### Предобработка данных"
   ]
  },
  {
   "cell_type": "markdown",
   "metadata": {},
   "source": [
    "Избавимся от дубликатов."
   ]
  },
  {
   "cell_type": "code",
   "execution_count": 9,
   "metadata": {},
   "outputs": [],
   "source": [
    "# удаление дубликатов\n",
    "data = data.drop_duplicates().reset_index(drop=True)"
   ]
  },
  {
   "cell_type": "code",
   "execution_count": 10,
   "metadata": {},
   "outputs": [
    {
     "data": {
      "text/plain": [
       "0"
      ]
     },
     "execution_count": 10,
     "metadata": {},
     "output_type": "execute_result"
    }
   ],
   "source": [
    "# проверка на наличие дубликатов\n",
    "data.duplicated().sum()"
   ]
  },
  {
   "cell_type": "markdown",
   "metadata": {},
   "source": [
    "Удалим столбцы, которые не имеют значения для данного исследования"
   ]
  },
  {
   "cell_type": "code",
   "execution_count": 11,
   "metadata": {},
   "outputs": [],
   "source": [
    "# удаление столбцов\n",
    "df =  data.drop(['DateCrawled', 'DateCreated', 'NumberOfPictures', 'PostalCode', 'LastSeen'], axis = 1)"
   ]
  },
  {
   "cell_type": "markdown",
   "metadata": {},
   "source": [
    "Приведем столбцы к змеиному регистру."
   ]
  },
  {
   "cell_type": "code",
   "execution_count": 12,
   "metadata": {},
   "outputs": [],
   "source": [
    "# приведение названий столбцов к нижнему регистру\n",
    "df.columns = df.columns.str.lower()"
   ]
  },
  {
   "cell_type": "code",
   "execution_count": 13,
   "metadata": {},
   "outputs": [
    {
     "data": {
      "text/plain": [
       "Index(['price', 'vehicletype', 'registrationyear', 'gearbox', 'power', 'model',\n",
       "       'kilometer', 'registrationmonth', 'fueltype', 'brand', 'notrepaired'],\n",
       "      dtype='object')"
      ]
     },
     "execution_count": 13,
     "metadata": {},
     "output_type": "execute_result"
    }
   ],
   "source": [
    "# отображение названий столбцов\n",
    "df.columns"
   ]
  },
  {
   "cell_type": "code",
   "execution_count": 14,
   "metadata": {},
   "outputs": [],
   "source": [
    "# переименование столбцов\n",
    "df = df.rename(columns={\n",
    "    'vehicletype': 'vehicle_type', \n",
    "    'registrationyear': 'registration_year', \n",
    "    'registrationmonth': 'registration_month',\n",
    "    'fueltype': 'fuel_type', \n",
    "    'notrepaired': 'not_repaired',\n",
    "})"
   ]
  },
  {
   "cell_type": "code",
   "execution_count": 15,
   "metadata": {},
   "outputs": [
    {
     "data": {
      "text/html": [
       "<div>\n",
       "<style scoped>\n",
       "    .dataframe tbody tr th:only-of-type {\n",
       "        vertical-align: middle;\n",
       "    }\n",
       "\n",
       "    .dataframe tbody tr th {\n",
       "        vertical-align: top;\n",
       "    }\n",
       "\n",
       "    .dataframe thead th {\n",
       "        text-align: right;\n",
       "    }\n",
       "</style>\n",
       "<table border=\"1\" class=\"dataframe\">\n",
       "  <thead>\n",
       "    <tr style=\"text-align: right;\">\n",
       "      <th></th>\n",
       "      <th>price</th>\n",
       "      <th>vehicle_type</th>\n",
       "      <th>registration_year</th>\n",
       "      <th>gearbox</th>\n",
       "      <th>power</th>\n",
       "      <th>model</th>\n",
       "      <th>kilometer</th>\n",
       "      <th>registration_month</th>\n",
       "      <th>fuel_type</th>\n",
       "      <th>brand</th>\n",
       "      <th>not_repaired</th>\n",
       "    </tr>\n",
       "  </thead>\n",
       "  <tbody>\n",
       "    <tr>\n",
       "      <th>0</th>\n",
       "      <td>480</td>\n",
       "      <td>NaN</td>\n",
       "      <td>1993</td>\n",
       "      <td>manual</td>\n",
       "      <td>0</td>\n",
       "      <td>golf</td>\n",
       "      <td>150000</td>\n",
       "      <td>0</td>\n",
       "      <td>petrol</td>\n",
       "      <td>volkswagen</td>\n",
       "      <td>NaN</td>\n",
       "    </tr>\n",
       "    <tr>\n",
       "      <th>1</th>\n",
       "      <td>18300</td>\n",
       "      <td>coupe</td>\n",
       "      <td>2011</td>\n",
       "      <td>manual</td>\n",
       "      <td>190</td>\n",
       "      <td>NaN</td>\n",
       "      <td>125000</td>\n",
       "      <td>5</td>\n",
       "      <td>gasoline</td>\n",
       "      <td>audi</td>\n",
       "      <td>yes</td>\n",
       "    </tr>\n",
       "    <tr>\n",
       "      <th>2</th>\n",
       "      <td>9800</td>\n",
       "      <td>suv</td>\n",
       "      <td>2004</td>\n",
       "      <td>auto</td>\n",
       "      <td>163</td>\n",
       "      <td>grand</td>\n",
       "      <td>125000</td>\n",
       "      <td>8</td>\n",
       "      <td>gasoline</td>\n",
       "      <td>jeep</td>\n",
       "      <td>NaN</td>\n",
       "    </tr>\n",
       "    <tr>\n",
       "      <th>3</th>\n",
       "      <td>1500</td>\n",
       "      <td>small</td>\n",
       "      <td>2001</td>\n",
       "      <td>manual</td>\n",
       "      <td>75</td>\n",
       "      <td>golf</td>\n",
       "      <td>150000</td>\n",
       "      <td>6</td>\n",
       "      <td>petrol</td>\n",
       "      <td>volkswagen</td>\n",
       "      <td>no</td>\n",
       "    </tr>\n",
       "    <tr>\n",
       "      <th>4</th>\n",
       "      <td>3600</td>\n",
       "      <td>small</td>\n",
       "      <td>2008</td>\n",
       "      <td>manual</td>\n",
       "      <td>69</td>\n",
       "      <td>fabia</td>\n",
       "      <td>90000</td>\n",
       "      <td>7</td>\n",
       "      <td>gasoline</td>\n",
       "      <td>skoda</td>\n",
       "      <td>no</td>\n",
       "    </tr>\n",
       "  </tbody>\n",
       "</table>\n",
       "</div>"
      ],
      "text/plain": [
       "   price vehicle_type  registration_year gearbox  power  model  kilometer  \\\n",
       "0    480          NaN               1993  manual      0   golf     150000   \n",
       "1  18300        coupe               2011  manual    190    NaN     125000   \n",
       "2   9800          suv               2004    auto    163  grand     125000   \n",
       "3   1500        small               2001  manual     75   golf     150000   \n",
       "4   3600        small               2008  manual     69  fabia      90000   \n",
       "\n",
       "   registration_month fuel_type       brand not_repaired  \n",
       "0                   0    petrol  volkswagen          NaN  \n",
       "1                   5  gasoline        audi          yes  \n",
       "2                   8  gasoline        jeep          NaN  \n",
       "3                   6    petrol  volkswagen           no  \n",
       "4                   7  gasoline       skoda           no  "
      ]
     },
     "execution_count": 15,
     "metadata": {},
     "output_type": "execute_result"
    }
   ],
   "source": [
    "# получение первых 5 строк датасета\n",
    "df.head()"
   ]
  },
  {
   "cell_type": "markdown",
   "metadata": {},
   "source": [
    "Разберемся с аномалиями."
   ]
  },
  {
   "cell_type": "markdown",
   "metadata": {},
   "source": [
    "В столбце `price` есть аномальное значение 0. Посмотрим насколько много таких значений."
   ]
  },
  {
   "cell_type": "code",
   "execution_count": 16,
   "metadata": {},
   "outputs": [
    {
     "name": "stdout",
     "output_type": "stream",
     "text": [
      "Колличество аномальных значений в столбце price: 3 %\n"
     ]
    }
   ],
   "source": [
    "# вывод количества аномальных значений\n",
    "print('Колличество аномальных значений в столбце price:',\n",
    "      round(df[df['price'] == 0].shape[0] / df.shape[0] * 100),'%')"
   ]
  },
  {
   "cell_type": "markdown",
   "metadata": {},
   "source": [
    "Объявлений с ценой 0 всего 3% от общего объема данных, поэтому просто удилим такие объявления из рассмотрения."
   ]
  },
  {
   "cell_type": "code",
   "execution_count": 17,
   "metadata": {},
   "outputs": [],
   "source": [
    "# удаление аномальных значений\n",
    "df = df.loc[df['price'] != 0]"
   ]
  },
  {
   "cell_type": "markdown",
   "metadata": {},
   "source": [
    "В столбце `registration_year` есть аномальные значения, а именно, минимальный год выпуска 1000 год, а максимальный 9999.\n",
    "\n",
    "Мы знаем, что серийное производство автомобилей началось приблизительно в 1900 годах. Предположим, что теоретически такие автомобили живы и могут появляться на площадках. Так что 1900 будет нашей отправной точкой, а конечной 2019 год. После него года нереалистичные."
   ]
  },
  {
   "cell_type": "code",
   "execution_count": 18,
   "metadata": {},
   "outputs": [
    {
     "data": {
      "text/plain": [
       "1000    31\n",
       "1001     1\n",
       "1039     1\n",
       "1111     1\n",
       "1234     4\n",
       "1255     1\n",
       "1300     2\n",
       "1400     1\n",
       "1500     3\n",
       "1600     2\n",
       "1602     1\n",
       "1800     5\n",
       "2019    16\n",
       "2066     1\n",
       "2200     1\n",
       "2222     1\n",
       "2290     1\n",
       "2500     3\n",
       "2800     1\n",
       "2900     1\n",
       "3000     6\n",
       "3200     1\n",
       "3700     1\n",
       "3800     1\n",
       "4000     3\n",
       "4100     1\n",
       "4500     2\n",
       "4800     1\n",
       "5000    16\n",
       "5300     1\n",
       "5555     2\n",
       "5600     1\n",
       "5900     1\n",
       "5911     2\n",
       "6000     5\n",
       "6500     1\n",
       "7000     4\n",
       "7100     1\n",
       "7800     1\n",
       "8000     2\n",
       "8200     1\n",
       "8500     1\n",
       "8888     1\n",
       "9000     2\n",
       "9450     1\n",
       "9999    18\n",
       "Name: registration_year, dtype: int64"
      ]
     },
     "execution_count": 18,
     "metadata": {},
     "output_type": "execute_result"
    }
   ],
   "source": [
    "# просмотр уникальных значений и их количества\n",
    "df.loc[(df['registration_year'] < 1900) | (df['registration_year'] > 2018)].registration_year.value_counts().sort_index(ascending=True)"
   ]
  },
  {
   "cell_type": "code",
   "execution_count": 19,
   "metadata": {},
   "outputs": [
    {
     "data": {
      "text/plain": [
       "139"
      ]
     },
     "execution_count": 19,
     "metadata": {},
     "output_type": "execute_result"
    }
   ],
   "source": [
    "# подсчет аномальных значений\n",
    "reg_year_anom = df.loc[(df['registration_year'] < 1900) | (df['registration_year'] > 2019)].registration_year.value_counts().sum()\n",
    "reg_year_anom"
   ]
  },
  {
   "cell_type": "markdown",
   "metadata": {},
   "source": [
    "Таких значений мало, поэтому их удаление не внесет ощутимого эффекта."
   ]
  },
  {
   "cell_type": "code",
   "execution_count": 20,
   "metadata": {},
   "outputs": [],
   "source": [
    "# удаление аномальных значений\n",
    "df = df.loc[(df['registration_year'] >= 1900) & (df['registration_year'] <= 2017)]"
   ]
  },
  {
   "cell_type": "markdown",
   "metadata": {},
   "source": [
    "В столбце `power` минимальное значение 0 (вероятно данные не указаны), а максимальное значение 20000, что выглядит не реалистичным."
   ]
  },
  {
   "cell_type": "code",
   "execution_count": 21,
   "metadata": {},
   "outputs": [
    {
     "data": {
      "image/png": "[encoded data removed]",
      "text/plain": [
       "<Figure size 1152x576 with 1 Axes>"
      ]
     },
     "metadata": {
      "needs_background": "light"
     },
     "output_type": "display_data"
    }
   ],
   "source": [
    "# построение распределения\n",
    "df['power'].hist(bins=200, range=(0, 600), figsize=(16,8))\n",
    "plt.title('Распределение мощности автомобилей', fontsize=20)\n",
    "plt.xlabel('Мощность, л.с.', fontsize=12)\n",
    "plt.ylabel('Количество, шт.', fontsize=12)\n",
    "plt.show()"
   ]
  },
  {
   "cell_type": "code",
   "execution_count": 22,
   "metadata": {},
   "outputs": [
    {
     "name": "stdout",
     "output_type": "stream",
     "text": [
      "Колличество аномальных значений в столбце power: 12 %\n"
     ]
    }
   ],
   "source": [
    "# вывод количества аномальных значений\n",
    "print('Колличество аномальных значений в столбце power:',\n",
    "      round(df.loc[(df['power'] < 50) | (df['power'] > 500)].shape[0] / df.shape[0] * 100),'%')"
   ]
  },
  {
   "cell_type": "markdown",
   "metadata": {},
   "source": [
    "Аномальных данных много, но от них все равно лучше избавиться, чтобы не портить модель."
   ]
  },
  {
   "cell_type": "code",
   "execution_count": 23,
   "metadata": {},
   "outputs": [],
   "source": [
    "# удаление аномальных значений\n",
    "df = df.loc[(df['power'] >= 50) & (df['power'] <= 500)]"
   ]
  },
  {
   "cell_type": "markdown",
   "metadata": {},
   "source": [
    "В столбце `registration_month` есть нулевые значения, что скорее всего говорит об отсутствии данных."
   ]
  },
  {
   "cell_type": "code",
   "execution_count": 24,
   "metadata": {},
   "outputs": [
    {
     "data": {
      "text/plain": [
       "0     18828\n",
       "1     20168\n",
       "2     18880\n",
       "3     30584\n",
       "4     25883\n",
       "5     25728\n",
       "6     27736\n",
       "7     23955\n",
       "8     19863\n",
       "9     21033\n",
       "10    23049\n",
       "11    21181\n",
       "12    21335\n",
       "Name: registration_month, dtype: int64"
      ]
     },
     "execution_count": 24,
     "metadata": {},
     "output_type": "execute_result"
    }
   ],
   "source": [
    "# получение уникальных значений и их количества\n",
    "df['registration_month'].value_counts().sort_index(ascending=True)"
   ]
  },
  {
   "cell_type": "markdown",
   "metadata": {},
   "source": [
    "Всего получается 13 месяцев. Очевидно, что нулевой месяц - это отсутствие значения. В целом, эти данные также не будут иметь большой вес в модели, поэтому их удалим."
   ]
  },
  {
   "cell_type": "code",
   "execution_count": 25,
   "metadata": {},
   "outputs": [],
   "source": [
    "# удаление столбцов\n",
    "df =  df.drop('registration_month', axis = 1)"
   ]
  },
  {
   "cell_type": "code",
   "execution_count": 26,
   "metadata": {},
   "outputs": [
    {
     "name": "stdout",
     "output_type": "stream",
     "text": [
      "<class 'pandas.core.frame.DataFrame'>\n",
      "Int64Index: 298223 entries, 1 to 354364\n",
      "Data columns (total 10 columns):\n",
      " #   Column             Non-Null Count   Dtype \n",
      "---  ------             --------------   ----- \n",
      " 0   price              298223 non-null  int64 \n",
      " 1   vehicle_type       280349 non-null  object\n",
      " 2   registration_year  298223 non-null  int64 \n",
      " 3   gearbox            292771 non-null  object\n",
      " 4   power              298223 non-null  int64 \n",
      " 5   model              286750 non-null  object\n",
      " 6   kilometer          298223 non-null  int64 \n",
      " 7   fuel_type          280398 non-null  object\n",
      " 8   brand              298223 non-null  object\n",
      " 9   not_repaired       253714 non-null  object\n",
      "dtypes: int64(4), object(6)\n",
      "memory usage: 25.0+ MB\n"
     ]
    }
   ],
   "source": [
    "# получение общей информации о данных датасета\n",
    "df.info()"
   ]
  },
  {
   "cell_type": "markdown",
   "metadata": {},
   "source": [
    "Устраним пропуски."
   ]
  },
  {
   "cell_type": "code",
   "execution_count": 27,
   "metadata": {},
   "outputs": [
    {
     "data": {
      "text/plain": [
       "price                    0\n",
       "vehicle_type         17874\n",
       "registration_year        0\n",
       "gearbox               5452\n",
       "power                    0\n",
       "model                11473\n",
       "kilometer                0\n",
       "fuel_type            17825\n",
       "brand                    0\n",
       "not_repaired         44509\n",
       "dtype: int64"
      ]
     },
     "execution_count": 27,
     "metadata": {},
     "output_type": "execute_result"
    }
   ],
   "source": [
    "# подсчёт пропусков\n",
    "df.isna().sum()"
   ]
  },
  {
   "cell_type": "code",
   "execution_count": 28,
   "metadata": {},
   "outputs": [
    {
     "data": {
      "text/plain": [
       "price                 0.000000\n",
       "vehicle_type          5.993502\n",
       "registration_year     0.000000\n",
       "gearbox               1.828162\n",
       "power                 0.000000\n",
       "model                 3.847121\n",
       "kilometer             0.000000\n",
       "fuel_type             5.977071\n",
       "brand                 0.000000\n",
       "not_repaired         14.924738\n",
       "dtype: float64"
      ]
     },
     "execution_count": 28,
     "metadata": {},
     "output_type": "execute_result"
    }
   ],
   "source": [
    "# подсчёт доли пропусков от общего количества данных\n",
    "df.isna().sum() / df.shape[0] * 100"
   ]
  },
  {
   "cell_type": "code",
   "execution_count": 29,
   "metadata": {},
   "outputs": [
    {
     "data": {
      "text/plain": [
       "manual    233644\n",
       "auto       59127\n",
       "Name: gearbox, dtype: int64"
      ]
     },
     "execution_count": 29,
     "metadata": {},
     "output_type": "execute_result"
    }
   ],
   "source": [
    "# получение уникальных значений и их количества\n",
    "df['gearbox'].value_counts()"
   ]
  },
  {
   "cell_type": "markdown",
   "metadata": {},
   "source": [
    "В данных всего 2 вида коробки передач. Скорее всего в пропущеных значениях лежат автоммобили с иной коробкой передач. Например, вариатором. Пропущенные значения заменим на \"other\"."
   ]
  },
  {
   "cell_type": "code",
   "execution_count": 30,
   "metadata": {},
   "outputs": [],
   "source": [
    "# заполнение пропущенных значений\n",
    "df['gearbox'] = df['gearbox'].fillna('other')"
   ]
  },
  {
   "cell_type": "markdown",
   "metadata": {},
   "source": [
    "В остальных случаях заменим пропущенные значения на \"unknown\", т.к. восстановить их нет возможности."
   ]
  },
  {
   "cell_type": "code",
   "execution_count": 31,
   "metadata": {},
   "outputs": [],
   "source": [
    "# заполнение пропущенных значений\n",
    "df['vehicle_type'] = df['vehicle_type'].fillna('unknown')\n",
    "df['model'] = df['model'].fillna('unknown')\n",
    "df['fuel_type'] = df['fuel_type'].fillna('unknown')\n",
    "df['not_repaired'] = df['not_repaired'].fillna('unknown')"
   ]
  },
  {
   "cell_type": "code",
   "execution_count": 32,
   "metadata": {},
   "outputs": [
    {
     "data": {
      "text/plain": [
       "price                0\n",
       "vehicle_type         0\n",
       "registration_year    0\n",
       "gearbox              0\n",
       "power                0\n",
       "model                0\n",
       "kilometer            0\n",
       "fuel_type            0\n",
       "brand                0\n",
       "not_repaired         0\n",
       "dtype: int64"
      ]
     },
     "execution_count": 32,
     "metadata": {},
     "output_type": "execute_result"
    }
   ],
   "source": [
    "# подсчёт пропусков\n",
    "df.isna().sum()"
   ]
  },
  {
   "cell_type": "markdown",
   "metadata": {},
   "source": [
    "### Подготовка признаков"
   ]
  },
  {
   "cell_type": "markdown",
   "metadata": {},
   "source": [
    "Данные нужно разбить на две части: обучающую и тестовую. Исходные данные разбивают в соотношении 3:1."
   ]
  },
  {
   "cell_type": "code",
   "execution_count": 33,
   "metadata": {},
   "outputs": [],
   "source": [
    "# разделите данные на обучающую и тестовую выборки\n",
    "df_train, df_test = train_test_split(df, test_size=0.25, random_state=12345)"
   ]
  },
  {
   "cell_type": "code",
   "execution_count": 34,
   "metadata": {},
   "outputs": [
    {
     "data": {
      "text/plain": [
       "(223667, 74556)"
      ]
     },
     "execution_count": 34,
     "metadata": {},
     "output_type": "execute_result"
    }
   ],
   "source": [
    "# проверка размера выборок\n",
    "df_train.shape[0], df_test.shape[0]"
   ]
  },
  {
   "cell_type": "code",
   "execution_count": 35,
   "metadata": {},
   "outputs": [],
   "source": [
    "# создание переменные для признаков и целевого признака\n",
    "features_train = df_train.drop(['price'], axis=1)\n",
    "target_train = df_train['price']\n",
    "features_test = df_test.drop(['price'], axis=1)\n",
    "target_test = df_test['price']"
   ]
  },
  {
   "cell_type": "code",
   "execution_count": 36,
   "metadata": {},
   "outputs": [
    {
     "data": {
      "text/plain": [
       "((223667, 9), (74556, 9))"
      ]
     },
     "execution_count": 36,
     "metadata": {},
     "output_type": "execute_result"
    }
   ],
   "source": [
    "# проверка размера выборок признаков\n",
    "features_train.shape, features_test.shape"
   ]
  },
  {
   "cell_type": "markdown",
   "metadata": {},
   "source": [
    "Данные разделены успешно."
   ]
  },
  {
   "cell_type": "code",
   "execution_count": 37,
   "metadata": {},
   "outputs": [],
   "source": [
    "# создание переменные для признаков для lasso\n",
    "features_train_lasso = features_train\n",
    "features_test_lasso = features_test"
   ]
  },
  {
   "cell_type": "markdown",
   "metadata": {},
   "source": [
    "В нашем датасете присутствуют категориальные признаки в столбцах `vehicle_type`, `gearbox`, `model`, `fuel_type`, `brand` и `not_repaired`. Для обучения модели подходят только численные данные."
   ]
  },
  {
   "cell_type": "code",
   "execution_count": 38,
   "metadata": {},
   "outputs": [],
   "source": [
    "# преобразование категориальных признаков\n",
    "numeric = ['vehicle_type', 'gearbox', 'model', 'fuel_type', 'brand', 'not_repaired']\n",
    "encoder = OrdinalEncoder()\n",
    "encoder.fit(features_train[numeric])\n",
    "features_train[numeric] = encoder.transform(features_train[numeric])\n",
    "features_test[numeric] = encoder.transform(features_test[numeric])"
   ]
  },
  {
   "cell_type": "code",
   "execution_count": 39,
   "metadata": {},
   "outputs": [
    {
     "data": {
      "text/html": [
       "<div>\n",
       "<style scoped>\n",
       "    .dataframe tbody tr th:only-of-type {\n",
       "        vertical-align: middle;\n",
       "    }\n",
       "\n",
       "    .dataframe tbody tr th {\n",
       "        vertical-align: top;\n",
       "    }\n",
       "\n",
       "    .dataframe thead th {\n",
       "        text-align: right;\n",
       "    }\n",
       "</style>\n",
       "<table border=\"1\" class=\"dataframe\">\n",
       "  <thead>\n",
       "    <tr style=\"text-align: right;\">\n",
       "      <th></th>\n",
       "      <th>vehicle_type</th>\n",
       "      <th>registration_year</th>\n",
       "      <th>gearbox</th>\n",
       "      <th>power</th>\n",
       "      <th>model</th>\n",
       "      <th>kilometer</th>\n",
       "      <th>fuel_type</th>\n",
       "      <th>brand</th>\n",
       "      <th>not_repaired</th>\n",
       "    </tr>\n",
       "  </thead>\n",
       "  <tbody>\n",
       "    <tr>\n",
       "      <th>128337</th>\n",
       "      <td>8.0</td>\n",
       "      <td>2004</td>\n",
       "      <td>1.0</td>\n",
       "      <td>116</td>\n",
       "      <td>101.0</td>\n",
       "      <td>150000</td>\n",
       "      <td>6.0</td>\n",
       "      <td>31.0</td>\n",
       "      <td>0.0</td>\n",
       "    </tr>\n",
       "    <tr>\n",
       "      <th>181360</th>\n",
       "      <td>0.0</td>\n",
       "      <td>1999</td>\n",
       "      <td>1.0</td>\n",
       "      <td>114</td>\n",
       "      <td>99.0</td>\n",
       "      <td>150000</td>\n",
       "      <td>6.0</td>\n",
       "      <td>27.0</td>\n",
       "      <td>2.0</td>\n",
       "    </tr>\n",
       "    <tr>\n",
       "      <th>347405</th>\n",
       "      <td>0.0</td>\n",
       "      <td>2003</td>\n",
       "      <td>1.0</td>\n",
       "      <td>101</td>\n",
       "      <td>150.0</td>\n",
       "      <td>150000</td>\n",
       "      <td>2.0</td>\n",
       "      <td>24.0</td>\n",
       "      <td>0.0</td>\n",
       "    </tr>\n",
       "    <tr>\n",
       "      <th>282513</th>\n",
       "      <td>5.0</td>\n",
       "      <td>2015</td>\n",
       "      <td>1.0</td>\n",
       "      <td>90</td>\n",
       "      <td>83.0</td>\n",
       "      <td>10000</td>\n",
       "      <td>6.0</td>\n",
       "      <td>24.0</td>\n",
       "      <td>0.0</td>\n",
       "    </tr>\n",
       "    <tr>\n",
       "      <th>96593</th>\n",
       "      <td>4.0</td>\n",
       "      <td>2002</td>\n",
       "      <td>1.0</td>\n",
       "      <td>101</td>\n",
       "      <td>116.0</td>\n",
       "      <td>150000</td>\n",
       "      <td>2.0</td>\n",
       "      <td>38.0</td>\n",
       "      <td>0.0</td>\n",
       "    </tr>\n",
       "  </tbody>\n",
       "</table>\n",
       "</div>"
      ],
      "text/plain": [
       "        vehicle_type  registration_year  gearbox  power  model  kilometer  \\\n",
       "128337           8.0               2004      1.0    116  101.0     150000   \n",
       "181360           0.0               1999      1.0    114   99.0     150000   \n",
       "347405           0.0               2003      1.0    101  150.0     150000   \n",
       "282513           5.0               2015      1.0     90   83.0      10000   \n",
       "96593            4.0               2002      1.0    101  116.0     150000   \n",
       "\n",
       "        fuel_type  brand  not_repaired  \n",
       "128337        6.0   31.0           0.0  \n",
       "181360        6.0   27.0           2.0  \n",
       "347405        2.0   24.0           0.0  \n",
       "282513        6.0   24.0           0.0  \n",
       "96593         2.0   38.0           0.0  "
      ]
     },
     "execution_count": 39,
     "metadata": {},
     "output_type": "execute_result"
    }
   ],
   "source": [
    "features_train.head()"
   ]
  },
  {
   "cell_type": "code",
   "execution_count": 40,
   "metadata": {},
   "outputs": [
    {
     "data": {
      "text/plain": [
       "((223667, 9), (74556, 9))"
      ]
     },
     "execution_count": 40,
     "metadata": {},
     "output_type": "execute_result"
    }
   ],
   "source": [
    "# проверка размера выборок признаков\n",
    "features_train.shape, features_test.shape"
   ]
  },
  {
   "cell_type": "code",
   "execution_count": null,
   "metadata": {},
   "outputs": [],
   "source": [
    "####Код ревьюера\n",
    "print(features_train[0])\n",
    "len(features_train[0])"
   ]
  },
  {
   "cell_type": "markdown",
   "metadata": {},
   "source": [
    "Так как будет использоваться Lasso, используем OHE и масштабирование."
   ]
  },
  {
   "cell_type": "code",
   "execution_count": 41,
   "metadata": {},
   "outputs": [],
   "source": [
    "# преобразование категориальных признаков\n",
    "features_train_lasso = pd.get_dummies(features_train_lasso, drop_first=True)\n",
    "features_test_lasso = pd.get_dummies(features_test_lasso, drop_first=True)"
   ]
  },
  {
   "cell_type": "code",
   "execution_count": 42,
   "metadata": {},
   "outputs": [
    {
     "data": {
      "text/plain": [
       "((223667, 9), (74556, 9))"
      ]
     },
     "execution_count": 42,
     "metadata": {},
     "output_type": "execute_result"
    }
   ],
   "source": [
    "# проверка размера выборок признаков\n",
    "features_train_lasso.shape, features_test_lasso.shape"
   ]
  },
  {
   "cell_type": "code",
   "execution_count": 43,
   "metadata": {},
   "outputs": [],
   "source": [
    "# При записи изменённых признаков в исходный датафрейм код может вызывать предупреждение SettingWithCopy.\n",
    "# Причина в особенности поведения sklearn и pandas.\n",
    "# Специалисты уже привыкли игнорировать такое сообщение.\n",
    "# Чтобы предупреждение не появлялось, в код добавляют строчку:\n",
    "pd.options.mode.chained_assignment = None"
   ]
  },
  {
   "cell_type": "code",
   "execution_count": 44,
   "metadata": {},
   "outputs": [],
   "source": [
    "# стандартизация данных\n",
    "numeric_new = ['registration_year', 'power', 'kilometer']\n",
    "scaler = StandardScaler()\n",
    "features_train_lasso[numeric_new] = scaler.fit_transform(features_train_lasso[numeric_new])\n",
    "features_test_lasso[numeric_new] = scaler.fit_transform(features_test_lasso[numeric_new])"
   ]
  },
  {
   "cell_type": "code",
   "execution_count": 45,
   "metadata": {},
   "outputs": [
    {
     "data": {
      "text/plain": [
       "((223667, 9), (74556, 9))"
      ]
     },
     "execution_count": 45,
     "metadata": {},
     "output_type": "execute_result"
    }
   ],
   "source": [
    "# проверка размера выборок признаков\n",
    "features_train_lasso.shape, features_test_lasso.shape"
   ]
  },
  {
   "cell_type": "code",
   "execution_count": 46,
   "metadata": {},
   "outputs": [
    {
     "data": {
      "text/html": [
       "<div>\n",
       "<style scoped>\n",
       "    .dataframe tbody tr th:only-of-type {\n",
       "        vertical-align: middle;\n",
       "    }\n",
       "\n",
       "    .dataframe tbody tr th {\n",
       "        vertical-align: top;\n",
       "    }\n",
       "\n",
       "    .dataframe thead th {\n",
       "        text-align: right;\n",
       "    }\n",
       "</style>\n",
       "<table border=\"1\" class=\"dataframe\">\n",
       "  <thead>\n",
       "    <tr style=\"text-align: right;\">\n",
       "      <th></th>\n",
       "      <th>vehicle_type</th>\n",
       "      <th>registration_year</th>\n",
       "      <th>gearbox</th>\n",
       "      <th>power</th>\n",
       "      <th>model</th>\n",
       "      <th>kilometer</th>\n",
       "      <th>fuel_type</th>\n",
       "      <th>brand</th>\n",
       "      <th>not_repaired</th>\n",
       "    </tr>\n",
       "  </thead>\n",
       "  <tbody>\n",
       "    <tr>\n",
       "      <th>128337</th>\n",
       "      <td>8.0</td>\n",
       "      <td>0.106816</td>\n",
       "      <td>1.0</td>\n",
       "      <td>-0.108988</td>\n",
       "      <td>101.0</td>\n",
       "      <td>0.584954</td>\n",
       "      <td>6.0</td>\n",
       "      <td>31.0</td>\n",
       "      <td>0.0</td>\n",
       "    </tr>\n",
       "    <tr>\n",
       "      <th>181360</th>\n",
       "      <td>0.0</td>\n",
       "      <td>-0.648578</td>\n",
       "      <td>1.0</td>\n",
       "      <td>-0.146912</td>\n",
       "      <td>99.0</td>\n",
       "      <td>0.584954</td>\n",
       "      <td>6.0</td>\n",
       "      <td>27.0</td>\n",
       "      <td>2.0</td>\n",
       "    </tr>\n",
       "    <tr>\n",
       "      <th>347405</th>\n",
       "      <td>0.0</td>\n",
       "      <td>-0.044262</td>\n",
       "      <td>1.0</td>\n",
       "      <td>-0.393418</td>\n",
       "      <td>150.0</td>\n",
       "      <td>0.584954</td>\n",
       "      <td>2.0</td>\n",
       "      <td>24.0</td>\n",
       "      <td>0.0</td>\n",
       "    </tr>\n",
       "    <tr>\n",
       "      <th>282513</th>\n",
       "      <td>5.0</td>\n",
       "      <td>1.768684</td>\n",
       "      <td>1.0</td>\n",
       "      <td>-0.602000</td>\n",
       "      <td>83.0</td>\n",
       "      <td>-3.253728</td>\n",
       "      <td>6.0</td>\n",
       "      <td>24.0</td>\n",
       "      <td>0.0</td>\n",
       "    </tr>\n",
       "    <tr>\n",
       "      <th>96593</th>\n",
       "      <td>4.0</td>\n",
       "      <td>-0.195341</td>\n",
       "      <td>1.0</td>\n",
       "      <td>-0.393418</td>\n",
       "      <td>116.0</td>\n",
       "      <td>0.584954</td>\n",
       "      <td>2.0</td>\n",
       "      <td>38.0</td>\n",
       "      <td>0.0</td>\n",
       "    </tr>\n",
       "  </tbody>\n",
       "</table>\n",
       "</div>"
      ],
      "text/plain": [
       "        vehicle_type  registration_year  gearbox     power  model  kilometer  \\\n",
       "128337           8.0           0.106816      1.0 -0.108988  101.0   0.584954   \n",
       "181360           0.0          -0.648578      1.0 -0.146912   99.0   0.584954   \n",
       "347405           0.0          -0.044262      1.0 -0.393418  150.0   0.584954   \n",
       "282513           5.0           1.768684      1.0 -0.602000   83.0  -3.253728   \n",
       "96593            4.0          -0.195341      1.0 -0.393418  116.0   0.584954   \n",
       "\n",
       "        fuel_type  brand  not_repaired  \n",
       "128337        6.0   31.0           0.0  \n",
       "181360        6.0   27.0           2.0  \n",
       "347405        2.0   24.0           0.0  \n",
       "282513        6.0   24.0           0.0  \n",
       "96593         2.0   38.0           0.0  "
      ]
     },
     "execution_count": 46,
     "metadata": {},
     "output_type": "execute_result"
    }
   ],
   "source": [
    "features_train_lasso.head()"
   ]
  },
  {
   "cell_type": "markdown",
   "metadata": {},
   "source": [
    "## Обучение моделей"
   ]
  },
  {
   "cell_type": "markdown",
   "metadata": {},
   "source": [
    "Прежде чем приступим к обучению модели, напишем функцию для вычисления скорости выполнения, а так же RMSE и сделаем оценку для кросс-валидации."
   ]
  },
  {
   "cell_type": "code",
   "execution_count": 47,
   "metadata": {},
   "outputs": [],
   "source": [
    "def RMSE(target,predictions):\n",
    "    MSE = mean_squared_error(target, predictions)\n",
    "    return MSE ** 0.5\n",
    "RMSE_score = make_scorer(RMSE, greater_is_better=False)"
   ]
  },
  {
   "cell_type": "code",
   "execution_count": 48,
   "metadata": {},
   "outputs": [],
   "source": [
    "def best_model(model, params, features_train, target_train, features_test, target_test):\n",
    "    start_time = time.time()\n",
    "    grid = GridSearchCV(model, param_grid = params, cv=4,\n",
    "                                            scoring = RMSE_score, n_jobs=-1)\n",
    "    grid.fit(features_train,target_train)\n",
    "    first_time = time.time() - start_time\n",
    "    start_time = time.time()\n",
    "    predict = grid.predict(features_test)\n",
    "    second_time = time.time() - start_time\n",
    "    return first_time, second_time, RMSE(target_test, predict)"
   ]
  },
  {
   "cell_type": "markdown",
   "metadata": {},
   "source": [
    "### LGBM"
   ]
  },
  {
   "cell_type": "code",
   "execution_count": 49,
   "metadata": {},
   "outputs": [
    {
     "name": "stdout",
     "output_type": "stream",
     "text": [
      "CPU times: user 1min 36s, sys: 246 ms, total: 1min 36s\n",
      "Wall time: 1min 37s\n"
     ]
    }
   ],
   "source": [
    "%%time\n",
    "model_lgbm = LGBMRegressor(random_state=42)\n",
    "lgbm_params = {\n",
    "    'n_estimators': [10,100],\n",
    "    'max_depth': [15,30],\n",
    "    'num_leaves': [10,31],\n",
    "    'learning_rate': [0.1]\n",
    "}\n",
    "lgbm = best_model(model_lgbm, lgbm_params, features_train, target_train, features_test, target_test)"
   ]
  },
  {
   "cell_type": "code",
   "execution_count": 50,
   "metadata": {},
   "outputs": [
    {
     "data": {
      "text/plain": [
       "(96.85186553001404, 0.690711498260498, 1694.6969047466253)"
      ]
     },
     "execution_count": 50,
     "metadata": {},
     "output_type": "execute_result"
    }
   ],
   "source": [
    "lgbm"
   ]
  },
  {
   "cell_type": "markdown",
   "metadata": {},
   "source": [
    "Отлично, на выходе у нас получается время обучения, время предсказания и наша метрика."
   ]
  },
  {
   "cell_type": "markdown",
   "metadata": {},
   "source": [
    "### CatBoost"
   ]
  },
  {
   "cell_type": "code",
   "execution_count": null,
   "metadata": {
    "scrolled": true
   },
   "outputs": [],
   "source": [
    "%%time\n",
    "model_catboost = CatBoostRegressor(random_state=42,silent=True)\n",
    "catboost_params = {\n",
    "    'learning_rate': [0.1],\n",
    "    'iterations': [10,100],\n",
    "    'max_depth': [10,15]\n",
    "}\n",
    "cat_boost = best_model(model_catboost, catboost_params, features_train, target_train, features_test, target_test)"
   ]
  },
  {
   "cell_type": "markdown",
   "metadata": {},
   "source": [
    "### RandomForest"
   ]
  },
  {
   "cell_type": "code",
   "execution_count": 52,
   "metadata": {},
   "outputs": [
    {
     "name": "stdout",
     "output_type": "stream",
     "text": [
      "CPU times: user 4min 38s, sys: 2.19 s, total: 4min 40s\n",
      "Wall time: 4min 41s\n"
     ]
    }
   ],
   "source": [
    "%%time\n",
    "model_rf = RandomForestRegressor(random_state=42)\n",
    "forestregressor_params = {'n_estimators':range(10, 31, 10),\n",
    "             'max_depth':range (1,10)}\n",
    "random_forest = best_model(model_rf, forestregressor_params, features_train, target_train, features_test, target_test)"
   ]
  },
  {
   "cell_type": "markdown",
   "metadata": {},
   "source": [
    "### DecisionTree"
   ]
  },
  {
   "cell_type": "code",
   "execution_count": 53,
   "metadata": {},
   "outputs": [
    {
     "name": "stdout",
     "output_type": "stream",
     "text": [
      "CPU times: user 9.19 s, sys: 59.2 ms, total: 9.25 s\n",
      "Wall time: 9.29 s\n"
     ]
    }
   ],
   "source": [
    "%%time\n",
    "model_dt = DecisionTreeRegressor(random_state=42)\n",
    "treeregressor_params = {'max_depth':range (1,10)}\n",
    "decision_trees = best_model(model_dt, treeregressor_params, features_train, target_train, features_test, target_test)"
   ]
  },
  {
   "cell_type": "markdown",
   "metadata": {},
   "source": [
    "### Lasso"
   ]
  },
  {
   "cell_type": "code",
   "execution_count": 54,
   "metadata": {},
   "outputs": [],
   "source": [
    "from sklearn.linear_model import Lasso\n",
    "#import warnings\n",
    "#warnings.filterwarnings('ignore')"
   ]
  },
  {
   "cell_type": "code",
   "execution_count": 55,
   "metadata": {
    "scrolled": true
   },
   "outputs": [
    {
     "name": "stdout",
     "output_type": "stream",
     "text": [
      "CPU times: user 6.1 s, sys: 7.73 s, total: 13.8 s\n",
      "Wall time: 14.1 s\n"
     ]
    }
   ],
   "source": [
    "%%time\n",
    "model_ls = Lasso(tol=1e-2, random_state=42)\n",
    "lasso_params = {'alpha':[0.02, 0.03]}\n",
    "lasso = best_model(model_ls, lasso_params, features_train_lasso, target_train, features_test_lasso, target_test)"
   ]
  },
  {
   "cell_type": "markdown",
   "metadata": {},
   "source": [
    "## Анализ моделей"
   ]
  },
  {
   "cell_type": "code",
   "execution_count": 56,
   "metadata": {},
   "outputs": [
    {
     "data": {
      "text/html": [
       "<div>\n",
       "<style scoped>\n",
       "    .dataframe tbody tr th:only-of-type {\n",
       "        vertical-align: middle;\n",
       "    }\n",
       "\n",
       "    .dataframe tbody tr th {\n",
       "        vertical-align: top;\n",
       "    }\n",
       "\n",
       "    .dataframe thead th {\n",
       "        text-align: right;\n",
       "    }\n",
       "</style>\n",
       "<table border=\"1\" class=\"dataframe\">\n",
       "  <thead>\n",
       "    <tr style=\"text-align: right;\">\n",
       "      <th></th>\n",
       "      <th>Время подбора гиперпараметров и обучения</th>\n",
       "      <th>Время предсказания</th>\n",
       "      <th>RMSE</th>\n",
       "    </tr>\n",
       "  </thead>\n",
       "  <tbody>\n",
       "    <tr>\n",
       "      <th>LGBM</th>\n",
       "      <td>96.851866</td>\n",
       "      <td>0.690711</td>\n",
       "      <td>1694.696905</td>\n",
       "    </tr>\n",
       "    <tr>\n",
       "      <th>CatBoost</th>\n",
       "      <td>302.023652</td>\n",
       "      <td>0.054462</td>\n",
       "      <td>1614.592322</td>\n",
       "    </tr>\n",
       "    <tr>\n",
       "      <th>RandomForest</th>\n",
       "      <td>280.914006</td>\n",
       "      <td>0.178544</td>\n",
       "      <td>1953.736715</td>\n",
       "    </tr>\n",
       "    <tr>\n",
       "      <th>DecisionTrees</th>\n",
       "      <td>9.283405</td>\n",
       "      <td>0.009976</td>\n",
       "      <td>2026.603296</td>\n",
       "    </tr>\n",
       "    <tr>\n",
       "      <th>Lasso</th>\n",
       "      <td>14.063324</td>\n",
       "      <td>0.063866</td>\n",
       "      <td>2879.975603</td>\n",
       "    </tr>\n",
       "  </tbody>\n",
       "</table>\n",
       "</div>"
      ],
      "text/plain": [
       "               Время подбора гиперпараметров и обучения  Время предсказания  \\\n",
       "LGBM                                          96.851866            0.690711   \n",
       "CatBoost                                     302.023652            0.054462   \n",
       "RandomForest                                 280.914006            0.178544   \n",
       "DecisionTrees                                  9.283405            0.009976   \n",
       "Lasso                                         14.063324            0.063866   \n",
       "\n",
       "                      RMSE  \n",
       "LGBM           1694.696905  \n",
       "CatBoost       1614.592322  \n",
       "RandomForest   1953.736715  \n",
       "DecisionTrees  2026.603296  \n",
       "Lasso          2879.975603  "
      ]
     },
     "execution_count": 56,
     "metadata": {},
     "output_type": "execute_result"
    }
   ],
   "source": [
    "models = pd.DataFrame([lgbm, cat_boost, random_forest, decision_trees, lasso], \n",
    "             columns=['Время подбора гиперпараметров и обучения', 'Время предсказания', 'RMSE'], \n",
    "                      index=['LGBM','CatBoost', 'RandomForest', 'DecisionTrees', 'Lasso'])\n",
    "models"
   ]
  },
  {
   "cell_type": "markdown",
   "metadata": {},
   "source": [
    "Итак, модели обучены. Исходя из таблицы выше можно сделать вывод, что:\n",
    "\n",
    "1. Самое высокое качество предсказания у модели CatBoost, но у этого алгоритма большие временные затраты.\n",
    "2. Самое быстрое время подбора гиперпараметров и обучения, а также время предсказания у модели DecisionTrees, но при этом низкое качество.\n",
    "\n",
    "Исходя из таблицы выигрывает CatBoost, у данного алгоритма высокие качество и скорость предсказания. Так что можно сделать вывод, что наилучшая модель для заказчика это CatBoost."
   ]
  }
 ],
 "metadata": {
  "ExecuteTimeLog": [
   {
    "duration": 1547,
    "start_time": "2022-05-01T17:57:46.943Z"
   },
   {
    "duration": 1527,
    "start_time": "2022-05-15T13:09:02.779Z"
   },
   {
    "duration": 830,
    "start_time": "2022-05-15T13:11:36.984Z"
   },
   {
    "duration": 24,
    "start_time": "2022-05-15T13:12:48.354Z"
   },
   {
    "duration": 121,
    "start_time": "2022-05-15T13:15:04.813Z"
   },
   {
    "duration": 82,
    "start_time": "2022-05-15T13:15:46.155Z"
   },
   {
    "duration": 437,
    "start_time": "2022-05-15T13:17:42.369Z"
   },
   {
    "duration": 544,
    "start_time": "2022-05-15T13:25:06.031Z"
   },
   {
    "duration": 414,
    "start_time": "2022-05-15T13:25:15.708Z"
   },
   {
    "duration": 113,
    "start_time": "2022-05-15T13:58:32.788Z"
   },
   {
    "duration": 114,
    "start_time": "2022-05-15T13:59:52.435Z"
   },
   {
    "duration": 512,
    "start_time": "2022-05-15T14:02:09.537Z"
   },
   {
    "duration": 400,
    "start_time": "2022-05-15T14:02:11.210Z"
   },
   {
    "duration": 4,
    "start_time": "2022-05-15T14:02:18.805Z"
   },
   {
    "duration": 704,
    "start_time": "2022-05-15T14:02:18.811Z"
   },
   {
    "duration": 22,
    "start_time": "2022-05-15T14:02:19.516Z"
   },
   {
    "duration": 138,
    "start_time": "2022-05-15T14:02:19.541Z"
   },
   {
    "duration": 74,
    "start_time": "2022-05-15T14:02:19.680Z"
   },
   {
    "duration": 380,
    "start_time": "2022-05-15T14:02:19.756Z"
   },
   {
    "duration": 134,
    "start_time": "2022-05-15T14:02:20.138Z"
   },
   {
    "duration": 121,
    "start_time": "2022-05-15T14:02:20.273Z"
   },
   {
    "duration": 440,
    "start_time": "2022-05-15T14:02:20.395Z"
   },
   {
    "duration": 407,
    "start_time": "2022-05-15T14:02:20.837Z"
   },
   {
    "duration": 4,
    "start_time": "2022-05-15T14:07:39.654Z"
   },
   {
    "duration": 776,
    "start_time": "2022-05-15T14:07:39.659Z"
   },
   {
    "duration": 20,
    "start_time": "2022-05-15T14:07:40.437Z"
   },
   {
    "duration": 130,
    "start_time": "2022-05-15T14:07:40.459Z"
   },
   {
    "duration": 88,
    "start_time": "2022-05-15T14:07:40.590Z"
   },
   {
    "duration": 371,
    "start_time": "2022-05-15T14:07:40.679Z"
   },
   {
    "duration": 124,
    "start_time": "2022-05-15T14:07:41.051Z"
   },
   {
    "duration": 116,
    "start_time": "2022-05-15T14:07:44.906Z"
   },
   {
    "duration": 30,
    "start_time": "2022-05-15T14:08:17.995Z"
   },
   {
    "duration": 31,
    "start_time": "2022-05-15T14:09:03.251Z"
   },
   {
    "duration": 56,
    "start_time": "2022-05-15T14:09:58.924Z"
   },
   {
    "duration": 32,
    "start_time": "2022-05-15T14:11:14.267Z"
   },
   {
    "duration": 34,
    "start_time": "2022-05-15T14:12:05.764Z"
   },
   {
    "duration": 31,
    "start_time": "2022-05-15T14:12:43.532Z"
   },
   {
    "duration": 4,
    "start_time": "2022-05-15T14:14:31.719Z"
   },
   {
    "duration": 686,
    "start_time": "2022-05-15T14:14:31.724Z"
   },
   {
    "duration": 20,
    "start_time": "2022-05-15T14:14:32.412Z"
   },
   {
    "duration": 141,
    "start_time": "2022-05-15T14:14:32.434Z"
   },
   {
    "duration": 74,
    "start_time": "2022-05-15T14:14:32.578Z"
   },
   {
    "duration": 375,
    "start_time": "2022-05-15T14:14:32.653Z"
   },
   {
    "duration": 121,
    "start_time": "2022-05-15T14:14:33.030Z"
   },
   {
    "duration": 126,
    "start_time": "2022-05-15T14:14:33.153Z"
   },
   {
    "duration": 440,
    "start_time": "2022-05-15T14:14:33.280Z"
   },
   {
    "duration": 371,
    "start_time": "2022-05-15T14:14:35.988Z"
   },
   {
    "duration": 15,
    "start_time": "2022-05-15T14:18:18.717Z"
   },
   {
    "duration": 79,
    "start_time": "2022-05-15T14:18:47.140Z"
   },
   {
    "duration": 3,
    "start_time": "2022-05-15T14:21:12.181Z"
   },
   {
    "duration": 3,
    "start_time": "2022-05-15T14:21:43.149Z"
   },
   {
    "duration": 25,
    "start_time": "2022-05-15T14:24:27.128Z"
   },
   {
    "duration": 10,
    "start_time": "2022-05-15T14:24:45.565Z"
   },
   {
    "duration": 9,
    "start_time": "2022-05-15T14:29:47.422Z"
   },
   {
    "duration": 19,
    "start_time": "2022-05-15T14:31:38.134Z"
   },
   {
    "duration": 5,
    "start_time": "2022-05-15T14:34:30.422Z"
   },
   {
    "duration": 37,
    "start_time": "2022-05-15T14:34:35.852Z"
   },
   {
    "duration": 8,
    "start_time": "2022-05-15T14:36:37.776Z"
   },
   {
    "duration": 111,
    "start_time": "2022-05-15T14:37:09.119Z"
   },
   {
    "duration": 13,
    "start_time": "2022-05-15T14:37:17.728Z"
   },
   {
    "duration": 7,
    "start_time": "2022-05-15T14:37:25.593Z"
   },
   {
    "duration": 80,
    "start_time": "2022-05-15T14:37:56.719Z"
   },
   {
    "duration": 5,
    "start_time": "2022-05-15T14:38:18.399Z"
   },
   {
    "duration": 4,
    "start_time": "2022-05-15T14:38:41.602Z"
   },
   {
    "duration": 707,
    "start_time": "2022-05-15T14:38:41.608Z"
   },
   {
    "duration": 22,
    "start_time": "2022-05-15T14:38:42.316Z"
   },
   {
    "duration": 132,
    "start_time": "2022-05-15T14:38:42.339Z"
   },
   {
    "duration": 74,
    "start_time": "2022-05-15T14:38:42.474Z"
   },
   {
    "duration": 374,
    "start_time": "2022-05-15T14:38:42.550Z"
   },
   {
    "duration": 119,
    "start_time": "2022-05-15T14:38:42.926Z"
   },
   {
    "duration": 126,
    "start_time": "2022-05-15T14:38:43.046Z"
   },
   {
    "duration": 642,
    "start_time": "2022-05-15T14:38:43.173Z"
   },
   {
    "duration": 564,
    "start_time": "2022-05-15T14:38:43.817Z"
   },
   {
    "duration": 17,
    "start_time": "2022-05-15T14:38:44.383Z"
   },
   {
    "duration": 3,
    "start_time": "2022-05-15T14:38:44.402Z"
   },
   {
    "duration": 7,
    "start_time": "2022-05-15T14:38:44.406Z"
   },
   {
    "duration": 16,
    "start_time": "2022-05-15T14:38:44.416Z"
   },
   {
    "duration": 10,
    "start_time": "2022-05-15T14:38:44.433Z"
   },
   {
    "duration": 35,
    "start_time": "2022-05-15T14:38:44.445Z"
   },
   {
    "duration": 22,
    "start_time": "2022-05-15T14:38:44.481Z"
   },
   {
    "duration": 11,
    "start_time": "2022-05-15T14:38:44.505Z"
   },
   {
    "duration": 5,
    "start_time": "2022-05-15T14:38:44.518Z"
   },
   {
    "duration": 86,
    "start_time": "2022-05-15T14:38:44.525Z"
   },
   {
    "duration": 36,
    "start_time": "2022-05-15T14:38:44.612Z"
   },
   {
    "duration": 40,
    "start_time": "2022-05-15T14:38:44.650Z"
   },
   {
    "duration": 35,
    "start_time": "2022-05-15T14:38:44.691Z"
   },
   {
    "duration": 32,
    "start_time": "2022-05-15T14:38:44.727Z"
   },
   {
    "duration": 5,
    "start_time": "2022-05-15T14:39:14.639Z"
   },
   {
    "duration": 5,
    "start_time": "2022-05-15T14:39:20.635Z"
   },
   {
    "duration": 6,
    "start_time": "2022-05-15T14:39:48.487Z"
   },
   {
    "duration": 4,
    "start_time": "2022-05-15T14:42:45.571Z"
   },
   {
    "duration": 8,
    "start_time": "2022-05-15T14:43:03.352Z"
   },
   {
    "duration": 12,
    "start_time": "2022-05-15T14:43:55.280Z"
   },
   {
    "duration": 14,
    "start_time": "2022-05-15T14:44:16.616Z"
   },
   {
    "duration": 8,
    "start_time": "2022-05-15T14:44:29.054Z"
   },
   {
    "duration": 12,
    "start_time": "2022-05-15T14:44:38.385Z"
   },
   {
    "duration": 8,
    "start_time": "2022-05-15T14:44:53.976Z"
   },
   {
    "duration": 6,
    "start_time": "2022-05-15T14:55:55.740Z"
   },
   {
    "duration": 9,
    "start_time": "2022-05-15T14:56:07.343Z"
   },
   {
    "duration": 6,
    "start_time": "2022-05-15T14:56:18.796Z"
   },
   {
    "duration": 7,
    "start_time": "2022-05-15T14:58:13.716Z"
   },
   {
    "duration": 9,
    "start_time": "2022-05-15T14:58:28.275Z"
   },
   {
    "duration": 7,
    "start_time": "2022-05-15T14:58:36.764Z"
   },
   {
    "duration": 12,
    "start_time": "2022-05-15T15:00:47.899Z"
   },
   {
    "duration": 8,
    "start_time": "2022-05-15T15:02:11.949Z"
   },
   {
    "duration": 12,
    "start_time": "2022-05-15T15:02:35.084Z"
   },
   {
    "duration": 10,
    "start_time": "2022-05-15T15:03:27.004Z"
   },
   {
    "duration": 17,
    "start_time": "2022-05-15T15:11:21.998Z"
   },
   {
    "duration": 6,
    "start_time": "2022-05-15T15:12:16.718Z"
   },
   {
    "duration": 14,
    "start_time": "2022-05-15T15:12:16.783Z"
   },
   {
    "duration": 6,
    "start_time": "2022-05-15T15:12:33.567Z"
   },
   {
    "duration": 8,
    "start_time": "2022-05-15T15:12:45.262Z"
   },
   {
    "duration": 8,
    "start_time": "2022-05-15T15:13:06.704Z"
   },
   {
    "duration": 12,
    "start_time": "2022-05-15T15:13:21.590Z"
   },
   {
    "duration": 19,
    "start_time": "2022-05-15T15:13:30.866Z"
   },
   {
    "duration": 12,
    "start_time": "2022-05-15T15:13:38.240Z"
   },
   {
    "duration": 12,
    "start_time": "2022-05-15T15:14:07.409Z"
   },
   {
    "duration": 13,
    "start_time": "2022-05-15T15:16:24.201Z"
   },
   {
    "duration": 8,
    "start_time": "2022-05-15T15:16:31.984Z"
   },
   {
    "duration": 8,
    "start_time": "2022-05-15T15:20:46.384Z"
   },
   {
    "duration": 4,
    "start_time": "2022-05-15T15:21:53.954Z"
   },
   {
    "duration": 698,
    "start_time": "2022-05-15T15:21:53.960Z"
   },
   {
    "duration": 26,
    "start_time": "2022-05-15T15:21:54.660Z"
   },
   {
    "duration": 125,
    "start_time": "2022-05-15T15:21:54.688Z"
   },
   {
    "duration": 88,
    "start_time": "2022-05-15T15:21:54.815Z"
   },
   {
    "duration": 370,
    "start_time": "2022-05-15T15:21:54.905Z"
   },
   {
    "duration": 121,
    "start_time": "2022-05-15T15:21:55.277Z"
   },
   {
    "duration": 121,
    "start_time": "2022-05-15T15:21:55.400Z"
   },
   {
    "duration": 442,
    "start_time": "2022-05-15T15:21:55.523Z"
   },
   {
    "duration": 382,
    "start_time": "2022-05-15T15:21:55.967Z"
   },
   {
    "duration": 27,
    "start_time": "2022-05-15T15:21:56.350Z"
   },
   {
    "duration": 3,
    "start_time": "2022-05-15T15:21:56.379Z"
   },
   {
    "duration": 6,
    "start_time": "2022-05-15T15:21:56.383Z"
   },
   {
    "duration": 16,
    "start_time": "2022-05-15T15:21:56.390Z"
   },
   {
    "duration": 10,
    "start_time": "2022-05-15T15:21:56.408Z"
   },
   {
    "duration": 10,
    "start_time": "2022-05-15T15:21:56.419Z"
   },
   {
    "duration": 49,
    "start_time": "2022-05-15T15:21:56.430Z"
   },
   {
    "duration": 8,
    "start_time": "2022-05-15T15:21:59.058Z"
   },
   {
    "duration": 7,
    "start_time": "2022-05-15T15:23:22.195Z"
   },
   {
    "duration": 3,
    "start_time": "2022-05-15T15:25:17.698Z"
   },
   {
    "duration": 24,
    "start_time": "2022-05-15T15:27:37.793Z"
   },
   {
    "duration": 1304,
    "start_time": "2022-05-15T15:39:40.264Z"
   },
   {
    "duration": 8,
    "start_time": "2022-05-15T15:39:50.767Z"
   },
   {
    "duration": 10,
    "start_time": "2022-05-15T15:40:25.060Z"
   },
   {
    "duration": 45,
    "start_time": "2022-05-15T15:41:36.576Z"
   },
   {
    "duration": 12,
    "start_time": "2022-05-15T15:41:47.189Z"
   },
   {
    "duration": 12,
    "start_time": "2022-05-15T15:41:58.431Z"
   },
   {
    "duration": 13,
    "start_time": "2022-05-15T15:42:03.902Z"
   },
   {
    "duration": 13,
    "start_time": "2022-05-15T15:42:39.114Z"
   },
   {
    "duration": 14,
    "start_time": "2022-05-15T15:44:10.757Z"
   },
   {
    "duration": 13,
    "start_time": "2022-05-15T15:44:31.062Z"
   },
   {
    "duration": 10,
    "start_time": "2022-05-15T15:45:39.256Z"
   },
   {
    "duration": 10,
    "start_time": "2022-05-15T15:45:44.837Z"
   },
   {
    "duration": 10,
    "start_time": "2022-05-15T15:45:49.524Z"
   },
   {
    "duration": 9,
    "start_time": "2022-05-15T15:45:54.455Z"
   },
   {
    "duration": 10,
    "start_time": "2022-05-15T15:46:00.525Z"
   },
   {
    "duration": 12,
    "start_time": "2022-05-15T15:50:11.012Z"
   },
   {
    "duration": 11,
    "start_time": "2022-05-15T15:50:24.318Z"
   },
   {
    "duration": 14,
    "start_time": "2022-05-15T15:52:05.607Z"
   },
   {
    "duration": 7,
    "start_time": "2022-05-15T15:52:28.966Z"
   },
   {
    "duration": 10,
    "start_time": "2022-05-15T15:52:41.094Z"
   },
   {
    "duration": 11,
    "start_time": "2022-05-15T15:52:53.635Z"
   },
   {
    "duration": 174,
    "start_time": "2022-05-15T15:58:35.256Z"
   },
   {
    "duration": 126,
    "start_time": "2022-05-15T15:58:44.319Z"
   },
   {
    "duration": 184,
    "start_time": "2022-05-15T15:58:54.223Z"
   },
   {
    "duration": 118,
    "start_time": "2022-05-15T15:58:59.713Z"
   },
   {
    "duration": 223,
    "start_time": "2022-05-15T15:59:43.306Z"
   },
   {
    "duration": 219,
    "start_time": "2022-05-15T16:00:12.832Z"
   },
   {
    "duration": 230,
    "start_time": "2022-05-15T16:01:24.279Z"
   },
   {
    "duration": 247,
    "start_time": "2022-05-15T16:01:30.831Z"
   },
   {
    "duration": 316,
    "start_time": "2022-05-15T16:01:43.108Z"
   },
   {
    "duration": 240,
    "start_time": "2022-05-15T16:01:59.960Z"
   },
   {
    "duration": 329,
    "start_time": "2022-05-15T16:02:16.859Z"
   },
   {
    "duration": 11,
    "start_time": "2022-05-15T16:03:43.264Z"
   },
   {
    "duration": 345,
    "start_time": "2022-05-15T16:05:30.041Z"
   },
   {
    "duration": 730,
    "start_time": "2022-05-15T16:07:41.665Z"
   },
   {
    "duration": 22,
    "start_time": "2022-05-15T16:10:38.737Z"
   },
   {
    "duration": 1263,
    "start_time": "2022-05-15T16:12:34.549Z"
   },
   {
    "duration": 7,
    "start_time": "2022-05-15T16:12:40.073Z"
   },
   {
    "duration": 9,
    "start_time": "2022-05-15T16:13:04.778Z"
   },
   {
    "duration": 17,
    "start_time": "2022-05-15T16:17:31.970Z"
   },
   {
    "duration": 134,
    "start_time": "2022-05-15T16:18:51.075Z"
   },
   {
    "duration": 73,
    "start_time": "2022-05-15T16:21:21.636Z"
   },
   {
    "duration": 73,
    "start_time": "2022-05-15T16:22:27.115Z"
   },
   {
    "duration": 30,
    "start_time": "2022-05-15T16:24:03.659Z"
   },
   {
    "duration": 20,
    "start_time": "2022-05-15T16:25:27.813Z"
   },
   {
    "duration": 66,
    "start_time": "2022-05-15T16:29:47.287Z"
   },
   {
    "duration": 137,
    "start_time": "2022-05-15T16:30:05.408Z"
   },
   {
    "duration": 748,
    "start_time": "2022-05-15T16:44:40.892Z"
   },
   {
    "duration": 14,
    "start_time": "2022-05-15T16:44:52.426Z"
   },
   {
    "duration": 6,
    "start_time": "2022-05-15T16:45:58.969Z"
   },
   {
    "duration": 729,
    "start_time": "2022-05-15T16:45:58.977Z"
   },
   {
    "duration": 30,
    "start_time": "2022-05-15T16:45:59.708Z"
   },
   {
    "duration": 234,
    "start_time": "2022-05-15T16:45:59.740Z"
   },
   {
    "duration": 83,
    "start_time": "2022-05-15T16:45:59.976Z"
   },
   {
    "duration": 616,
    "start_time": "2022-05-15T16:46:00.061Z"
   },
   {
    "duration": 130,
    "start_time": "2022-05-15T16:46:00.679Z"
   },
   {
    "duration": 133,
    "start_time": "2022-05-15T16:46:00.811Z"
   },
   {
    "duration": 530,
    "start_time": "2022-05-15T16:46:00.945Z"
   },
   {
    "duration": 424,
    "start_time": "2022-05-15T16:46:01.478Z"
   },
   {
    "duration": 18,
    "start_time": "2022-05-15T16:46:01.904Z"
   },
   {
    "duration": 3,
    "start_time": "2022-05-15T16:46:01.923Z"
   },
   {
    "duration": 8,
    "start_time": "2022-05-15T16:46:01.928Z"
   },
   {
    "duration": 36,
    "start_time": "2022-05-15T16:46:01.939Z"
   },
   {
    "duration": 13,
    "start_time": "2022-05-15T16:46:01.977Z"
   },
   {
    "duration": 11,
    "start_time": "2022-05-15T16:46:01.991Z"
   },
   {
    "duration": 19,
    "start_time": "2022-05-15T16:46:02.003Z"
   },
   {
    "duration": 8,
    "start_time": "2022-05-15T16:46:02.024Z"
   },
   {
    "duration": 39,
    "start_time": "2022-05-15T16:46:02.034Z"
   },
   {
    "duration": 25,
    "start_time": "2022-05-15T16:46:02.074Z"
   },
   {
    "duration": 397,
    "start_time": "2022-05-15T16:46:02.101Z"
   },
   {
    "duration": 12,
    "start_time": "2022-05-15T16:46:02.499Z"
   },
   {
    "duration": 25,
    "start_time": "2022-05-15T16:46:02.512Z"
   },
   {
    "duration": 32,
    "start_time": "2022-05-15T16:46:02.539Z"
   },
   {
    "duration": 20,
    "start_time": "2022-05-15T16:46:02.576Z"
   },
   {
    "duration": 95,
    "start_time": "2022-05-15T16:46:02.598Z"
   },
   {
    "duration": 80,
    "start_time": "2022-05-15T16:46:02.695Z"
   },
   {
    "duration": 80,
    "start_time": "2022-05-15T16:46:02.777Z"
   },
   {
    "duration": 35,
    "start_time": "2022-05-15T16:46:02.874Z"
   },
   {
    "duration": 19,
    "start_time": "2022-05-15T16:46:02.911Z"
   },
   {
    "duration": 87,
    "start_time": "2022-05-15T16:46:02.932Z"
   },
   {
    "duration": 87,
    "start_time": "2022-05-15T16:46:03.020Z"
   },
   {
    "duration": 800,
    "start_time": "2022-05-15T16:46:03.109Z"
   },
   {
    "duration": 14,
    "start_time": "2022-05-15T16:46:03.910Z"
   },
   {
    "duration": 5,
    "start_time": "2022-05-15T16:46:35.167Z"
   },
   {
    "duration": 1061,
    "start_time": "2022-05-15T16:46:35.174Z"
   },
   {
    "duration": 39,
    "start_time": "2022-05-15T16:46:36.237Z"
   },
   {
    "duration": 140,
    "start_time": "2022-05-15T16:46:36.279Z"
   },
   {
    "duration": 92,
    "start_time": "2022-05-15T16:46:36.422Z"
   },
   {
    "duration": 402,
    "start_time": "2022-05-15T16:46:36.516Z"
   },
   {
    "duration": 129,
    "start_time": "2022-05-15T16:46:36.920Z"
   },
   {
    "duration": 231,
    "start_time": "2022-05-15T16:46:37.051Z"
   },
   {
    "duration": 494,
    "start_time": "2022-05-15T16:46:37.283Z"
   },
   {
    "duration": 581,
    "start_time": "2022-05-15T16:46:37.779Z"
   },
   {
    "duration": 26,
    "start_time": "2022-05-15T16:46:38.362Z"
   },
   {
    "duration": 3,
    "start_time": "2022-05-15T16:46:38.390Z"
   },
   {
    "duration": 5,
    "start_time": "2022-05-15T16:46:38.395Z"
   },
   {
    "duration": 17,
    "start_time": "2022-05-15T16:46:38.402Z"
   },
   {
    "duration": 11,
    "start_time": "2022-05-15T16:46:38.420Z"
   },
   {
    "duration": 45,
    "start_time": "2022-05-15T16:46:38.432Z"
   },
   {
    "duration": 25,
    "start_time": "2022-05-15T16:46:41.248Z"
   },
   {
    "duration": 8,
    "start_time": "2022-05-15T16:47:02.584Z"
   },
   {
    "duration": 8,
    "start_time": "2022-05-15T16:47:13.525Z"
   },
   {
    "duration": 6,
    "start_time": "2022-05-15T16:47:54.696Z"
   },
   {
    "duration": 6,
    "start_time": "2022-05-15T16:48:03.989Z"
   },
   {
    "duration": 753,
    "start_time": "2022-05-15T16:48:03.997Z"
   },
   {
    "duration": 27,
    "start_time": "2022-05-15T16:48:04.752Z"
   },
   {
    "duration": 145,
    "start_time": "2022-05-15T16:48:04.781Z"
   },
   {
    "duration": 86,
    "start_time": "2022-05-15T16:48:04.928Z"
   },
   {
    "duration": 413,
    "start_time": "2022-05-15T16:48:05.015Z"
   },
   {
    "duration": 154,
    "start_time": "2022-05-15T16:48:05.429Z"
   },
   {
    "duration": 134,
    "start_time": "2022-05-15T16:48:05.584Z"
   },
   {
    "duration": 525,
    "start_time": "2022-05-15T16:48:05.720Z"
   },
   {
    "duration": 593,
    "start_time": "2022-05-15T16:48:06.249Z"
   },
   {
    "duration": 38,
    "start_time": "2022-05-15T16:48:06.844Z"
   },
   {
    "duration": 3,
    "start_time": "2022-05-15T16:48:06.884Z"
   },
   {
    "duration": 8,
    "start_time": "2022-05-15T16:48:06.889Z"
   },
   {
    "duration": 20,
    "start_time": "2022-05-15T16:48:06.899Z"
   },
   {
    "duration": 10,
    "start_time": "2022-05-15T16:48:06.920Z"
   },
   {
    "duration": 10,
    "start_time": "2022-05-15T16:48:06.932Z"
   },
   {
    "duration": 23,
    "start_time": "2022-05-15T16:48:08.965Z"
   },
   {
    "duration": 5,
    "start_time": "2022-05-15T16:48:10.418Z"
   },
   {
    "duration": 9,
    "start_time": "2022-05-15T16:48:18.722Z"
   },
   {
    "duration": 8,
    "start_time": "2022-05-15T16:48:23.994Z"
   },
   {
    "duration": 24,
    "start_time": "2022-05-15T16:48:29.650Z"
   },
   {
    "duration": 7,
    "start_time": "2022-05-15T16:48:54.826Z"
   },
   {
    "duration": 6,
    "start_time": "2022-05-15T16:50:08.735Z"
   },
   {
    "duration": 23,
    "start_time": "2022-05-15T16:50:19.126Z"
   },
   {
    "duration": 7,
    "start_time": "2022-05-15T16:50:21.012Z"
   },
   {
    "duration": 8,
    "start_time": "2022-05-15T16:50:27.694Z"
   },
   {
    "duration": 6,
    "start_time": "2022-05-15T16:50:48.370Z"
   },
   {
    "duration": 742,
    "start_time": "2022-05-15T16:50:48.378Z"
   },
   {
    "duration": 21,
    "start_time": "2022-05-15T16:50:49.122Z"
   },
   {
    "duration": 141,
    "start_time": "2022-05-15T16:50:49.145Z"
   },
   {
    "duration": 94,
    "start_time": "2022-05-15T16:50:49.288Z"
   },
   {
    "duration": 399,
    "start_time": "2022-05-15T16:50:49.384Z"
   },
   {
    "duration": 124,
    "start_time": "2022-05-15T16:50:49.785Z"
   },
   {
    "duration": 130,
    "start_time": "2022-05-15T16:50:49.911Z"
   },
   {
    "duration": 497,
    "start_time": "2022-05-15T16:50:50.042Z"
   },
   {
    "duration": 408,
    "start_time": "2022-05-15T16:50:50.541Z"
   },
   {
    "duration": 30,
    "start_time": "2022-05-15T16:50:50.952Z"
   },
   {
    "duration": 3,
    "start_time": "2022-05-15T16:50:50.984Z"
   },
   {
    "duration": 7,
    "start_time": "2022-05-15T16:50:50.988Z"
   },
   {
    "duration": 18,
    "start_time": "2022-05-15T16:50:50.997Z"
   },
   {
    "duration": 10,
    "start_time": "2022-05-15T16:50:51.017Z"
   },
   {
    "duration": 12,
    "start_time": "2022-05-15T16:50:51.028Z"
   },
   {
    "duration": 48,
    "start_time": "2022-05-15T16:50:51.042Z"
   },
   {
    "duration": 9,
    "start_time": "2022-05-15T16:50:53.171Z"
   },
   {
    "duration": 8,
    "start_time": "2022-05-15T16:50:59.746Z"
   },
   {
    "duration": 6,
    "start_time": "2022-05-15T16:51:03.627Z"
   },
   {
    "duration": 7,
    "start_time": "2022-05-15T16:51:11.325Z"
   },
   {
    "duration": 27,
    "start_time": "2022-05-15T16:51:21.460Z"
   },
   {
    "duration": 6,
    "start_time": "2022-05-15T16:51:27.044Z"
   },
   {
    "duration": 7,
    "start_time": "2022-05-15T16:51:53.983Z"
   },
   {
    "duration": 388,
    "start_time": "2022-05-15T16:52:15.411Z"
   },
   {
    "duration": 12,
    "start_time": "2022-05-15T16:52:22.596Z"
   },
   {
    "duration": 5,
    "start_time": "2022-05-15T16:52:30.052Z"
   },
   {
    "duration": 11,
    "start_time": "2022-05-15T16:52:35.419Z"
   },
   {
    "duration": 23,
    "start_time": "2022-05-15T16:52:45.699Z"
   },
   {
    "duration": 7,
    "start_time": "2022-05-15T16:53:11.324Z"
   },
   {
    "duration": 6,
    "start_time": "2022-05-15T16:53:16.754Z"
   },
   {
    "duration": 7,
    "start_time": "2022-05-15T16:54:30.984Z"
   },
   {
    "duration": 10,
    "start_time": "2022-05-15T16:54:37.357Z"
   },
   {
    "duration": 7,
    "start_time": "2022-05-15T16:54:47.355Z"
   },
   {
    "duration": 16,
    "start_time": "2022-05-15T16:54:50.339Z"
   },
   {
    "duration": 69,
    "start_time": "2022-05-15T16:54:53.334Z"
   },
   {
    "duration": 72,
    "start_time": "2022-05-15T16:54:57.565Z"
   },
   {
    "duration": 76,
    "start_time": "2022-05-15T16:55:00.528Z"
   },
   {
    "duration": 33,
    "start_time": "2022-05-15T16:55:05.260Z"
   },
   {
    "duration": 18,
    "start_time": "2022-05-15T16:55:08.299Z"
   },
   {
    "duration": 68,
    "start_time": "2022-05-15T16:55:10.140Z"
   },
   {
    "duration": 78,
    "start_time": "2022-05-15T16:55:11.635Z"
   },
   {
    "duration": 623,
    "start_time": "2022-05-15T16:55:21.486Z"
   },
   {
    "duration": 13,
    "start_time": "2022-05-15T16:55:22.812Z"
   },
   {
    "duration": 344,
    "start_time": "2022-05-15T16:57:34.468Z"
   },
   {
    "duration": 197,
    "start_time": "2022-05-15T16:57:47.437Z"
   },
   {
    "duration": 3,
    "start_time": "2022-05-15T16:58:08.029Z"
   },
   {
    "duration": 101,
    "start_time": "2022-05-15T16:59:12.850Z"
   },
   {
    "duration": 4,
    "start_time": "2022-05-15T16:59:24.407Z"
   },
   {
    "duration": 3,
    "start_time": "2022-05-15T17:00:00.197Z"
   },
   {
    "duration": 14,
    "start_time": "2022-05-15T17:03:52.655Z"
   },
   {
    "duration": 129,
    "start_time": "2022-05-15T17:04:20.806Z"
   },
   {
    "duration": 13,
    "start_time": "2022-05-15T17:04:43.118Z"
   },
   {
    "duration": 14,
    "start_time": "2022-05-15T17:05:03.084Z"
   },
   {
    "duration": 57,
    "start_time": "2022-05-15T17:07:46.241Z"
   },
   {
    "duration": 4,
    "start_time": "2022-05-15T17:07:55.236Z"
   },
   {
    "duration": 758,
    "start_time": "2022-05-15T17:07:55.242Z"
   },
   {
    "duration": 23,
    "start_time": "2022-05-15T17:07:56.001Z"
   },
   {
    "duration": 156,
    "start_time": "2022-05-15T17:07:56.026Z"
   },
   {
    "duration": 77,
    "start_time": "2022-05-15T17:07:56.184Z"
   },
   {
    "duration": 393,
    "start_time": "2022-05-15T17:07:56.270Z"
   },
   {
    "duration": 127,
    "start_time": "2022-05-15T17:07:56.670Z"
   },
   {
    "duration": 130,
    "start_time": "2022-05-15T17:07:56.799Z"
   },
   {
    "duration": 497,
    "start_time": "2022-05-15T17:07:56.931Z"
   },
   {
    "duration": 424,
    "start_time": "2022-05-15T17:07:57.431Z"
   },
   {
    "duration": 21,
    "start_time": "2022-05-15T17:07:57.857Z"
   },
   {
    "duration": 3,
    "start_time": "2022-05-15T17:07:57.880Z"
   },
   {
    "duration": 8,
    "start_time": "2022-05-15T17:07:57.885Z"
   },
   {
    "duration": 17,
    "start_time": "2022-05-15T17:07:57.894Z"
   },
   {
    "duration": 10,
    "start_time": "2022-05-15T17:07:57.913Z"
   },
   {
    "duration": 10,
    "start_time": "2022-05-15T17:07:57.924Z"
   },
   {
    "duration": 47,
    "start_time": "2022-05-15T17:07:57.936Z"
   },
   {
    "duration": 8,
    "start_time": "2022-05-15T17:07:57.985Z"
   },
   {
    "duration": 6,
    "start_time": "2022-05-15T17:07:57.995Z"
   },
   {
    "duration": 21,
    "start_time": "2022-05-15T17:07:58.003Z"
   },
   {
    "duration": 384,
    "start_time": "2022-05-15T17:07:58.025Z"
   },
   {
    "duration": 10,
    "start_time": "2022-05-15T17:07:58.411Z"
   },
   {
    "duration": 20,
    "start_time": "2022-05-15T17:07:58.423Z"
   },
   {
    "duration": 34,
    "start_time": "2022-05-15T17:07:58.444Z"
   },
   {
    "duration": 15,
    "start_time": "2022-05-15T17:07:58.480Z"
   },
   {
    "duration": 81,
    "start_time": "2022-05-15T17:07:58.497Z"
   },
   {
    "duration": 66,
    "start_time": "2022-05-15T17:07:58.580Z"
   },
   {
    "duration": 86,
    "start_time": "2022-05-15T17:07:58.650Z"
   },
   {
    "duration": 45,
    "start_time": "2022-05-15T17:07:58.737Z"
   },
   {
    "duration": 21,
    "start_time": "2022-05-15T17:07:58.784Z"
   },
   {
    "duration": 72,
    "start_time": "2022-05-15T17:07:58.807Z"
   },
   {
    "duration": 65,
    "start_time": "2022-05-15T17:07:58.880Z"
   },
   {
    "duration": 603,
    "start_time": "2022-05-15T17:07:58.947Z"
   },
   {
    "duration": 33,
    "start_time": "2022-05-15T17:07:59.551Z"
   },
   {
    "duration": 60,
    "start_time": "2022-05-15T17:08:03.744Z"
   },
   {
    "duration": 4,
    "start_time": "2022-05-15T17:08:12.786Z"
   },
   {
    "duration": 15,
    "start_time": "2022-05-15T17:09:01.432Z"
   },
   {
    "duration": 4,
    "start_time": "2022-05-15T17:09:08.127Z"
   },
   {
    "duration": 2,
    "start_time": "2022-05-15T17:09:12.265Z"
   },
   {
    "duration": 69,
    "start_time": "2022-05-15T17:09:50.120Z"
   },
   {
    "duration": 65,
    "start_time": "2022-05-15T17:10:11.023Z"
   },
   {
    "duration": 46,
    "start_time": "2022-05-15T17:10:46.159Z"
   },
   {
    "duration": 46,
    "start_time": "2022-05-15T17:10:51.832Z"
   },
   {
    "duration": 4,
    "start_time": "2022-05-15T17:12:56.423Z"
   },
   {
    "duration": 738,
    "start_time": "2022-05-15T17:12:56.429Z"
   },
   {
    "duration": 25,
    "start_time": "2022-05-15T17:12:57.169Z"
   },
   {
    "duration": 138,
    "start_time": "2022-05-15T17:12:57.197Z"
   },
   {
    "duration": 92,
    "start_time": "2022-05-15T17:12:57.337Z"
   },
   {
    "duration": 395,
    "start_time": "2022-05-15T17:12:57.431Z"
   },
   {
    "duration": 127,
    "start_time": "2022-05-15T17:12:57.828Z"
   },
   {
    "duration": 141,
    "start_time": "2022-05-15T17:12:57.956Z"
   },
   {
    "duration": 485,
    "start_time": "2022-05-15T17:12:58.100Z"
   },
   {
    "duration": 398,
    "start_time": "2022-05-15T17:12:58.587Z"
   },
   {
    "duration": 18,
    "start_time": "2022-05-15T17:12:58.986Z"
   },
   {
    "duration": 3,
    "start_time": "2022-05-15T17:12:59.006Z"
   },
   {
    "duration": 6,
    "start_time": "2022-05-15T17:12:59.010Z"
   },
   {
    "duration": 15,
    "start_time": "2022-05-15T17:12:59.018Z"
   },
   {
    "duration": 10,
    "start_time": "2022-05-15T17:12:59.034Z"
   },
   {
    "duration": 35,
    "start_time": "2022-05-15T17:12:59.045Z"
   },
   {
    "duration": 19,
    "start_time": "2022-05-15T17:12:59.083Z"
   },
   {
    "duration": 7,
    "start_time": "2022-05-15T17:12:59.104Z"
   },
   {
    "duration": 7,
    "start_time": "2022-05-15T17:12:59.113Z"
   },
   {
    "duration": 57,
    "start_time": "2022-05-15T17:12:59.121Z"
   },
   {
    "duration": 495,
    "start_time": "2022-05-15T17:12:59.180Z"
   },
   {
    "duration": 12,
    "start_time": "2022-05-15T17:12:59.677Z"
   },
   {
    "duration": 21,
    "start_time": "2022-05-15T17:12:59.691Z"
   },
   {
    "duration": 7,
    "start_time": "2022-05-15T17:12:59.715Z"
   },
   {
    "duration": 15,
    "start_time": "2022-05-15T17:12:59.723Z"
   },
   {
    "duration": 110,
    "start_time": "2022-05-15T17:12:59.739Z"
   },
   {
    "duration": 71,
    "start_time": "2022-05-15T17:12:59.851Z"
   },
   {
    "duration": 74,
    "start_time": "2022-05-15T17:12:59.924Z"
   },
   {
    "duration": 28,
    "start_time": "2022-05-15T17:12:59.999Z"
   },
   {
    "duration": 18,
    "start_time": "2022-05-15T17:13:00.029Z"
   },
   {
    "duration": 83,
    "start_time": "2022-05-15T17:13:00.049Z"
   },
   {
    "duration": 89,
    "start_time": "2022-05-15T17:13:00.133Z"
   },
   {
    "duration": 663,
    "start_time": "2022-05-15T17:13:00.223Z"
   },
   {
    "duration": 14,
    "start_time": "2022-05-15T17:13:00.888Z"
   },
   {
    "duration": 2,
    "start_time": "2022-05-15T17:13:10.912Z"
   },
   {
    "duration": 3090,
    "start_time": "2022-05-15T17:14:18.285Z"
   },
   {
    "duration": 8,
    "start_time": "2022-05-15T17:14:37.937Z"
   },
   {
    "duration": 10,
    "start_time": "2022-05-15T17:15:02.784Z"
   },
   {
    "duration": 13,
    "start_time": "2022-05-15T17:15:15.584Z"
   },
   {
    "duration": 9,
    "start_time": "2022-05-15T17:15:41.488Z"
   },
   {
    "duration": 2681,
    "start_time": "2022-05-15T17:15:57.496Z"
   },
   {
    "duration": 6,
    "start_time": "2022-05-15T17:16:02.899Z"
   },
   {
    "duration": 9,
    "start_time": "2022-05-15T17:16:07.339Z"
   },
   {
    "duration": 7,
    "start_time": "2022-05-15T17:16:35.394Z"
   },
   {
    "duration": 809,
    "start_time": "2022-05-15T17:16:35.403Z"
   },
   {
    "duration": 21,
    "start_time": "2022-05-15T17:16:36.214Z"
   },
   {
    "duration": 214,
    "start_time": "2022-05-15T17:16:36.236Z"
   },
   {
    "duration": 92,
    "start_time": "2022-05-15T17:16:36.452Z"
   },
   {
    "duration": 498,
    "start_time": "2022-05-15T17:16:36.546Z"
   },
   {
    "duration": 160,
    "start_time": "2022-05-15T17:16:37.045Z"
   },
   {
    "duration": 169,
    "start_time": "2022-05-15T17:16:37.208Z"
   },
   {
    "duration": 570,
    "start_time": "2022-05-15T17:16:37.379Z"
   },
   {
    "duration": 484,
    "start_time": "2022-05-15T17:16:37.951Z"
   },
   {
    "duration": 16,
    "start_time": "2022-05-15T17:16:38.436Z"
   },
   {
    "duration": 3,
    "start_time": "2022-05-15T17:16:38.454Z"
   },
   {
    "duration": 5,
    "start_time": "2022-05-15T17:16:38.471Z"
   },
   {
    "duration": 38,
    "start_time": "2022-05-15T17:16:38.479Z"
   },
   {
    "duration": 10,
    "start_time": "2022-05-15T17:16:38.519Z"
   },
   {
    "duration": 9,
    "start_time": "2022-05-15T17:16:38.531Z"
   },
   {
    "duration": 19,
    "start_time": "2022-05-15T17:16:38.541Z"
   },
   {
    "duration": 10,
    "start_time": "2022-05-15T17:16:38.571Z"
   },
   {
    "duration": 29,
    "start_time": "2022-05-15T17:16:38.585Z"
   },
   {
    "duration": 22,
    "start_time": "2022-05-15T17:16:38.615Z"
   },
   {
    "duration": 481,
    "start_time": "2022-05-15T17:16:38.639Z"
   },
   {
    "duration": 14,
    "start_time": "2022-05-15T17:16:39.123Z"
   },
   {
    "duration": 50,
    "start_time": "2022-05-15T17:16:39.139Z"
   },
   {
    "duration": 12,
    "start_time": "2022-05-15T17:16:39.191Z"
   },
   {
    "duration": 15,
    "start_time": "2022-05-15T17:16:39.205Z"
   },
   {
    "duration": 95,
    "start_time": "2022-05-15T17:16:39.222Z"
   },
   {
    "duration": 96,
    "start_time": "2022-05-15T17:16:39.318Z"
   },
   {
    "duration": 90,
    "start_time": "2022-05-15T17:16:39.416Z"
   },
   {
    "duration": 50,
    "start_time": "2022-05-15T17:16:39.508Z"
   },
   {
    "duration": 40,
    "start_time": "2022-05-15T17:16:39.560Z"
   },
   {
    "duration": 71,
    "start_time": "2022-05-15T17:16:39.602Z"
   },
   {
    "duration": 83,
    "start_time": "2022-05-15T17:16:39.675Z"
   },
   {
    "duration": 783,
    "start_time": "2022-05-15T17:16:39.759Z"
   },
   {
    "duration": 14,
    "start_time": "2022-05-15T17:16:42.700Z"
   },
   {
    "duration": 432,
    "start_time": "2022-05-15T17:17:00.145Z"
   },
   {
    "duration": 5,
    "start_time": "2022-05-15T17:17:05.217Z"
   },
   {
    "duration": 111,
    "start_time": "2022-05-15T17:17:09.390Z"
   },
   {
    "duration": 8,
    "start_time": "2022-05-15T17:17:14.996Z"
   },
   {
    "duration": 2,
    "start_time": "2022-05-15T17:17:24.265Z"
   },
   {
    "duration": 49,
    "start_time": "2022-05-15T17:20:03.013Z"
   },
   {
    "duration": 1501,
    "start_time": "2022-05-15T17:20:14.368Z"
   },
   {
    "duration": 825,
    "start_time": "2022-05-15T17:20:15.871Z"
   },
   {
    "duration": 26,
    "start_time": "2022-05-15T17:20:16.698Z"
   },
   {
    "duration": 159,
    "start_time": "2022-05-15T17:20:16.726Z"
   },
   {
    "duration": 89,
    "start_time": "2022-05-15T17:20:16.894Z"
   },
   {
    "duration": 471,
    "start_time": "2022-05-15T17:20:16.984Z"
   },
   {
    "duration": 154,
    "start_time": "2022-05-15T17:20:17.457Z"
   },
   {
    "duration": 141,
    "start_time": "2022-05-15T17:20:17.612Z"
   },
   {
    "duration": 620,
    "start_time": "2022-05-15T17:20:17.754Z"
   },
   {
    "duration": 466,
    "start_time": "2022-05-15T17:20:18.376Z"
   },
   {
    "duration": 15,
    "start_time": "2022-05-15T17:20:18.844Z"
   },
   {
    "duration": 19,
    "start_time": "2022-05-15T17:20:18.860Z"
   },
   {
    "duration": 25,
    "start_time": "2022-05-15T17:20:18.880Z"
   },
   {
    "duration": 36,
    "start_time": "2022-05-15T17:20:18.910Z"
   },
   {
    "duration": 9,
    "start_time": "2022-05-15T17:20:18.948Z"
   },
   {
    "duration": 10,
    "start_time": "2022-05-15T17:20:18.959Z"
   },
   {
    "duration": 29,
    "start_time": "2022-05-15T17:20:18.972Z"
   },
   {
    "duration": 9,
    "start_time": "2022-05-15T17:20:19.003Z"
   },
   {
    "duration": 7,
    "start_time": "2022-05-15T17:20:19.013Z"
   },
   {
    "duration": 58,
    "start_time": "2022-05-15T17:20:19.022Z"
   },
   {
    "duration": 400,
    "start_time": "2022-05-15T17:20:19.082Z"
   },
   {
    "duration": 15,
    "start_time": "2022-05-15T17:20:19.484Z"
   },
   {
    "duration": 26,
    "start_time": "2022-05-15T17:20:19.501Z"
   },
   {
    "duration": 8,
    "start_time": "2022-05-15T17:20:19.528Z"
   },
   {
    "duration": 15,
    "start_time": "2022-05-15T17:20:19.537Z"
   },
   {
    "duration": 82,
    "start_time": "2022-05-15T17:20:19.574Z"
   },
   {
    "duration": 82,
    "start_time": "2022-05-15T17:20:19.658Z"
   },
   {
    "duration": 89,
    "start_time": "2022-05-15T17:20:19.742Z"
   },
   {
    "duration": 40,
    "start_time": "2022-05-15T17:20:19.833Z"
   },
   {
    "duration": 42,
    "start_time": "2022-05-15T17:20:19.874Z"
   },
   {
    "duration": 75,
    "start_time": "2022-05-15T17:20:19.918Z"
   },
   {
    "duration": 78,
    "start_time": "2022-05-15T17:20:19.998Z"
   },
   {
    "duration": 726,
    "start_time": "2022-05-15T17:20:20.078Z"
   },
   {
    "duration": 15,
    "start_time": "2022-05-15T17:20:20.806Z"
   },
   {
    "duration": 367,
    "start_time": "2022-05-15T17:20:20.822Z"
   },
   {
    "duration": 4,
    "start_time": "2022-05-15T17:20:21.196Z"
   },
   {
    "duration": 110,
    "start_time": "2022-05-15T17:20:21.202Z"
   },
   {
    "duration": 4,
    "start_time": "2022-05-15T17:20:21.314Z"
   },
   {
    "duration": 22,
    "start_time": "2022-05-15T17:20:21.327Z"
   },
   {
    "duration": 2111,
    "start_time": "2022-05-15T17:20:21.351Z"
   },
   {
    "duration": 0,
    "start_time": "2022-05-15T17:20:23.463Z"
   },
   {
    "duration": 2255,
    "start_time": "2022-05-15T17:20:35.754Z"
   },
   {
    "duration": 13,
    "start_time": "2022-05-15T17:20:41.699Z"
   },
   {
    "duration": 159,
    "start_time": "2022-05-15T17:22:44.634Z"
   },
   {
    "duration": 15,
    "start_time": "2022-05-15T17:22:46.700Z"
   },
   {
    "duration": 29817,
    "start_time": "2022-05-15T17:58:43.963Z"
   },
   {
    "duration": 96,
    "start_time": "2022-05-15T18:04:52.420Z"
   },
   {
    "duration": 3,
    "start_time": "2022-05-15T18:07:19.108Z"
   },
   {
    "duration": 4,
    "start_time": "2022-05-15T18:07:42.820Z"
   },
   {
    "duration": 94,
    "start_time": "2022-05-15T18:07:45.629Z"
   },
   {
    "duration": 5,
    "start_time": "2022-05-15T18:08:16.924Z"
   },
   {
    "duration": 33,
    "start_time": "2022-05-15T18:08:23.397Z"
   },
   {
    "duration": 4,
    "start_time": "2022-05-15T18:09:12.385Z"
   },
   {
    "duration": 4,
    "start_time": "2022-05-15T18:09:18.385Z"
   },
   {
    "duration": 793,
    "start_time": "2022-05-15T18:09:18.392Z"
   },
   {
    "duration": 22,
    "start_time": "2022-05-15T18:09:19.187Z"
   },
   {
    "duration": 148,
    "start_time": "2022-05-15T18:09:19.211Z"
   },
   {
    "duration": 94,
    "start_time": "2022-05-15T18:09:19.361Z"
   },
   {
    "duration": 429,
    "start_time": "2022-05-15T18:09:19.456Z"
   },
   {
    "duration": 139,
    "start_time": "2022-05-15T18:09:19.887Z"
   },
   {
    "duration": 154,
    "start_time": "2022-05-15T18:09:20.028Z"
   },
   {
    "duration": 479,
    "start_time": "2022-05-15T18:09:20.184Z"
   },
   {
    "duration": 412,
    "start_time": "2022-05-15T18:09:20.664Z"
   },
   {
    "duration": 18,
    "start_time": "2022-05-15T18:09:21.078Z"
   },
   {
    "duration": 3,
    "start_time": "2022-05-15T18:09:21.098Z"
   },
   {
    "duration": 6,
    "start_time": "2022-05-15T18:09:21.103Z"
   },
   {
    "duration": 17,
    "start_time": "2022-05-15T18:09:21.112Z"
   },
   {
    "duration": 11,
    "start_time": "2022-05-15T18:09:21.131Z"
   },
   {
    "duration": 10,
    "start_time": "2022-05-15T18:09:21.176Z"
   },
   {
    "duration": 22,
    "start_time": "2022-05-15T18:09:21.188Z"
   },
   {
    "duration": 8,
    "start_time": "2022-05-15T18:09:21.212Z"
   },
   {
    "duration": 7,
    "start_time": "2022-05-15T18:09:21.222Z"
   },
   {
    "duration": 57,
    "start_time": "2022-05-15T18:09:21.230Z"
   },
   {
    "duration": 374,
    "start_time": "2022-05-15T18:09:21.288Z"
   },
   {
    "duration": 21,
    "start_time": "2022-05-15T18:09:21.663Z"
   },
   {
    "duration": 21,
    "start_time": "2022-05-15T18:09:21.686Z"
   },
   {
    "duration": 9,
    "start_time": "2022-05-15T18:09:21.708Z"
   },
   {
    "duration": 15,
    "start_time": "2022-05-15T18:09:21.718Z"
   },
   {
    "duration": 97,
    "start_time": "2022-05-15T18:09:21.735Z"
   },
   {
    "duration": 78,
    "start_time": "2022-05-15T18:09:21.834Z"
   },
   {
    "duration": 85,
    "start_time": "2022-05-15T18:09:21.914Z"
   },
   {
    "duration": 28,
    "start_time": "2022-05-15T18:09:22.000Z"
   },
   {
    "duration": 20,
    "start_time": "2022-05-15T18:09:22.030Z"
   },
   {
    "duration": 86,
    "start_time": "2022-05-15T18:09:22.052Z"
   },
   {
    "duration": 78,
    "start_time": "2022-05-15T18:09:22.139Z"
   },
   {
    "duration": 638,
    "start_time": "2022-05-15T18:09:22.219Z"
   },
   {
    "duration": 25,
    "start_time": "2022-05-15T18:09:22.859Z"
   },
   {
    "duration": 353,
    "start_time": "2022-05-15T18:09:22.885Z"
   },
   {
    "duration": 4,
    "start_time": "2022-05-15T18:09:23.240Z"
   },
   {
    "duration": 98,
    "start_time": "2022-05-15T18:09:23.245Z"
   },
   {
    "duration": 4,
    "start_time": "2022-05-15T18:09:23.345Z"
   },
   {
    "duration": 4,
    "start_time": "2022-05-15T18:09:23.350Z"
   },
   {
    "duration": 146,
    "start_time": "2022-05-15T18:09:23.355Z"
   },
   {
    "duration": 14,
    "start_time": "2022-05-15T18:09:23.505Z"
   },
   {
    "duration": 3,
    "start_time": "2022-05-15T18:09:23.521Z"
   },
   {
    "duration": 5,
    "start_time": "2022-05-15T18:09:23.525Z"
   },
   {
    "duration": 55,
    "start_time": "2022-05-15T18:09:23.531Z"
   },
   {
    "duration": 0,
    "start_time": "2022-05-15T18:15:26.938Z"
   },
   {
    "duration": 1401,
    "start_time": "2022-05-15T18:23:11.991Z"
   },
   {
    "duration": 763,
    "start_time": "2022-05-15T18:23:18.120Z"
   },
   {
    "duration": 27,
    "start_time": "2022-05-15T18:23:20.103Z"
   },
   {
    "duration": 133,
    "start_time": "2022-05-15T18:23:21.324Z"
   },
   {
    "duration": 86,
    "start_time": "2022-05-15T18:23:22.527Z"
   },
   {
    "duration": 453,
    "start_time": "2022-05-15T18:23:23.159Z"
   },
   {
    "duration": 135,
    "start_time": "2022-05-15T18:23:23.759Z"
   },
   {
    "duration": 121,
    "start_time": "2022-05-15T18:23:24.702Z"
   },
   {
    "duration": 527,
    "start_time": "2022-05-15T18:23:27.088Z"
   },
   {
    "duration": 428,
    "start_time": "2022-05-15T18:23:28.217Z"
   },
   {
    "duration": 20,
    "start_time": "2022-05-15T18:23:29.743Z"
   },
   {
    "duration": 3,
    "start_time": "2022-05-15T18:23:30.883Z"
   },
   {
    "duration": 4,
    "start_time": "2022-05-15T18:23:31.409Z"
   },
   {
    "duration": 42,
    "start_time": "2022-05-15T18:23:31.944Z"
   },
   {
    "duration": 10,
    "start_time": "2022-05-15T18:23:32.932Z"
   },
   {
    "duration": 9,
    "start_time": "2022-05-15T18:23:35.735Z"
   },
   {
    "duration": 19,
    "start_time": "2022-05-15T18:23:36.684Z"
   },
   {
    "duration": 8,
    "start_time": "2022-05-15T18:23:37.624Z"
   },
   {
    "duration": 7,
    "start_time": "2022-05-15T18:23:38.036Z"
   },
   {
    "duration": 31,
    "start_time": "2022-05-15T18:23:39.009Z"
   },
   {
    "duration": 351,
    "start_time": "2022-05-15T18:23:39.873Z"
   },
   {
    "duration": 11,
    "start_time": "2022-05-15T18:23:40.247Z"
   },
   {
    "duration": 26,
    "start_time": "2022-05-15T18:23:42.007Z"
   },
   {
    "duration": 8,
    "start_time": "2022-05-15T18:23:42.857Z"
   },
   {
    "duration": 16,
    "start_time": "2022-05-15T18:23:43.689Z"
   },
   {
    "duration": 72,
    "start_time": "2022-05-15T18:23:44.031Z"
   },
   {
    "duration": 66,
    "start_time": "2022-05-15T18:23:44.641Z"
   },
   {
    "duration": 71,
    "start_time": "2022-05-15T18:23:44.955Z"
   },
   {
    "duration": 27,
    "start_time": "2022-05-15T18:23:45.218Z"
   },
   {
    "duration": 16,
    "start_time": "2022-05-15T18:23:45.775Z"
   },
   {
    "duration": 55,
    "start_time": "2022-05-15T18:23:46.303Z"
   },
   {
    "duration": 63,
    "start_time": "2022-05-15T18:23:46.647Z"
   },
   {
    "duration": 597,
    "start_time": "2022-05-15T18:23:47.839Z"
   },
   {
    "duration": 13,
    "start_time": "2022-05-15T18:23:48.438Z"
   },
   {
    "duration": 339,
    "start_time": "2022-05-15T18:23:49.144Z"
   },
   {
    "duration": 4,
    "start_time": "2022-05-15T18:23:49.485Z"
   },
   {
    "duration": 185,
    "start_time": "2022-05-15T18:23:49.623Z"
   },
   {
    "duration": 4,
    "start_time": "2022-05-15T18:23:49.870Z"
   },
   {
    "duration": 3,
    "start_time": "2022-05-15T18:23:50.640Z"
   },
   {
    "duration": 125,
    "start_time": "2022-05-15T18:23:51.127Z"
   },
   {
    "duration": 15,
    "start_time": "2022-05-15T18:23:51.552Z"
   },
   {
    "duration": 3,
    "start_time": "2022-05-15T18:23:52.882Z"
   },
   {
    "duration": 3,
    "start_time": "2022-05-15T18:23:54.224Z"
   },
   {
    "duration": 1437,
    "start_time": "2022-05-15T18:37:08.717Z"
   },
   {
    "duration": 834,
    "start_time": "2022-05-15T18:37:10.155Z"
   },
   {
    "duration": 26,
    "start_time": "2022-05-15T18:37:10.996Z"
   },
   {
    "duration": 142,
    "start_time": "2022-05-15T18:37:11.024Z"
   },
   {
    "duration": 92,
    "start_time": "2022-05-15T18:37:11.167Z"
   },
   {
    "duration": 489,
    "start_time": "2022-05-15T18:37:11.270Z"
   },
   {
    "duration": 167,
    "start_time": "2022-05-15T18:37:11.760Z"
   },
   {
    "duration": 132,
    "start_time": "2022-05-15T18:37:11.928Z"
   },
   {
    "duration": 599,
    "start_time": "2022-05-15T18:37:12.061Z"
   },
   {
    "duration": 450,
    "start_time": "2022-05-15T18:37:12.662Z"
   },
   {
    "duration": 19,
    "start_time": "2022-05-15T18:37:13.113Z"
   },
   {
    "duration": 5,
    "start_time": "2022-05-15T18:37:13.134Z"
   },
   {
    "duration": 7,
    "start_time": "2022-05-15T18:37:13.141Z"
   },
   {
    "duration": 53,
    "start_time": "2022-05-15T18:37:13.149Z"
   },
   {
    "duration": 10,
    "start_time": "2022-05-15T18:37:13.204Z"
   },
   {
    "duration": 9,
    "start_time": "2022-05-15T18:37:13.216Z"
   },
   {
    "duration": 24,
    "start_time": "2022-05-15T18:37:13.226Z"
   },
   {
    "duration": 14,
    "start_time": "2022-05-15T18:37:13.271Z"
   },
   {
    "duration": 11,
    "start_time": "2022-05-15T18:37:13.291Z"
   },
   {
    "duration": 32,
    "start_time": "2022-05-15T18:37:13.303Z"
   },
   {
    "duration": 413,
    "start_time": "2022-05-15T18:37:13.336Z"
   },
   {
    "duration": 27,
    "start_time": "2022-05-15T18:37:13.751Z"
   },
   {
    "duration": 26,
    "start_time": "2022-05-15T18:37:13.780Z"
   },
   {
    "duration": 9,
    "start_time": "2022-05-15T18:37:13.808Z"
   },
   {
    "duration": 16,
    "start_time": "2022-05-15T18:37:13.818Z"
   },
   {
    "duration": 108,
    "start_time": "2022-05-15T18:37:13.836Z"
   },
   {
    "duration": 83,
    "start_time": "2022-05-15T18:37:13.946Z"
   },
   {
    "duration": 93,
    "start_time": "2022-05-15T18:37:14.032Z"
   },
   {
    "duration": 27,
    "start_time": "2022-05-15T18:37:14.126Z"
   },
   {
    "duration": 41,
    "start_time": "2022-05-15T18:37:14.155Z"
   },
   {
    "duration": 58,
    "start_time": "2022-05-15T18:37:14.197Z"
   },
   {
    "duration": 79,
    "start_time": "2022-05-15T18:37:14.257Z"
   },
   {
    "duration": 642,
    "start_time": "2022-05-15T18:37:14.338Z"
   },
   {
    "duration": 16,
    "start_time": "2022-05-15T18:37:14.982Z"
   },
   {
    "duration": 360,
    "start_time": "2022-05-15T18:37:14.999Z"
   },
   {
    "duration": 89,
    "start_time": "2022-05-15T18:37:15.361Z"
   },
   {
    "duration": 111,
    "start_time": "2022-05-15T18:37:15.452Z"
   },
   {
    "duration": 8,
    "start_time": "2022-05-15T18:37:15.565Z"
   },
   {
    "duration": 16,
    "start_time": "2022-05-15T18:37:15.575Z"
   },
   {
    "duration": 136,
    "start_time": "2022-05-15T18:37:15.592Z"
   },
   {
    "duration": 14,
    "start_time": "2022-05-15T18:37:15.729Z"
   },
   {
    "duration": 2,
    "start_time": "2022-05-15T18:37:15.745Z"
   },
   {
    "duration": 4,
    "start_time": "2022-05-15T18:37:38.956Z"
   },
   {
    "duration": 1300,
    "start_time": "2022-05-15T18:49:40.793Z"
   },
   {
    "duration": 729,
    "start_time": "2022-05-15T18:49:42.095Z"
   },
   {
    "duration": 25,
    "start_time": "2022-05-15T18:49:42.825Z"
   },
   {
    "duration": 136,
    "start_time": "2022-05-15T18:49:42.851Z"
   },
   {
    "duration": 94,
    "start_time": "2022-05-15T18:49:42.988Z"
   },
   {
    "duration": 417,
    "start_time": "2022-05-15T18:49:43.083Z"
   },
   {
    "duration": 117,
    "start_time": "2022-05-15T18:49:43.502Z"
   },
   {
    "duration": 123,
    "start_time": "2022-05-15T18:49:43.620Z"
   },
   {
    "duration": 537,
    "start_time": "2022-05-15T18:49:43.744Z"
   },
   {
    "duration": 407,
    "start_time": "2022-05-15T18:49:44.284Z"
   },
   {
    "duration": 14,
    "start_time": "2022-05-15T18:49:44.693Z"
   },
   {
    "duration": 3,
    "start_time": "2022-05-15T18:49:44.709Z"
   },
   {
    "duration": 7,
    "start_time": "2022-05-15T18:49:44.713Z"
   },
   {
    "duration": 53,
    "start_time": "2022-05-15T18:49:44.721Z"
   },
   {
    "duration": 11,
    "start_time": "2022-05-15T18:49:44.775Z"
   },
   {
    "duration": 10,
    "start_time": "2022-05-15T18:49:44.788Z"
   },
   {
    "duration": 23,
    "start_time": "2022-05-15T18:49:44.800Z"
   },
   {
    "duration": 8,
    "start_time": "2022-05-15T18:49:44.825Z"
   },
   {
    "duration": 38,
    "start_time": "2022-05-15T18:49:44.834Z"
   },
   {
    "duration": 30,
    "start_time": "2022-05-15T18:49:44.873Z"
   },
   {
    "duration": 369,
    "start_time": "2022-05-15T18:49:44.905Z"
   },
   {
    "duration": 11,
    "start_time": "2022-05-15T18:49:45.276Z"
   },
   {
    "duration": 20,
    "start_time": "2022-05-15T18:49:45.288Z"
   },
   {
    "duration": 8,
    "start_time": "2022-05-15T18:49:45.309Z"
   },
   {
    "duration": 14,
    "start_time": "2022-05-15T18:49:45.318Z"
   },
   {
    "duration": 101,
    "start_time": "2022-05-15T18:49:45.334Z"
   },
   {
    "duration": 68,
    "start_time": "2022-05-15T18:49:45.436Z"
   },
   {
    "duration": 74,
    "start_time": "2022-05-15T18:49:45.507Z"
   },
   {
    "duration": 28,
    "start_time": "2022-05-15T18:49:45.583Z"
   },
   {
    "duration": 17,
    "start_time": "2022-05-15T18:49:45.613Z"
   },
   {
    "duration": 82,
    "start_time": "2022-05-15T18:49:45.632Z"
   },
   {
    "duration": 73,
    "start_time": "2022-05-15T18:49:45.716Z"
   },
   {
    "duration": 580,
    "start_time": "2022-05-15T18:49:45.791Z"
   },
   {
    "duration": 87,
    "start_time": "2022-05-15T18:49:46.372Z"
   },
   {
    "duration": 347,
    "start_time": "2022-05-15T18:49:46.461Z"
   },
   {
    "duration": 3,
    "start_time": "2022-05-15T18:49:46.810Z"
   },
   {
    "duration": 114,
    "start_time": "2022-05-15T18:49:46.815Z"
   },
   {
    "duration": 3,
    "start_time": "2022-05-15T18:49:46.931Z"
   },
   {
    "duration": 5,
    "start_time": "2022-05-15T18:49:46.935Z"
   },
   {
    "duration": 136,
    "start_time": "2022-05-15T18:49:46.941Z"
   },
   {
    "duration": 13,
    "start_time": "2022-05-15T18:49:47.079Z"
   },
   {
    "duration": 2,
    "start_time": "2022-05-15T18:49:47.094Z"
   },
   {
    "duration": 3,
    "start_time": "2022-05-15T18:49:48.448Z"
   },
   {
    "duration": 106,
    "start_time": "2022-05-15T18:49:50.872Z"
   },
   {
    "duration": 4211,
    "start_time": "2022-05-15T18:50:32.510Z"
   },
   {
    "duration": 751,
    "start_time": "2022-05-15T18:50:36.724Z"
   },
   {
    "duration": 25,
    "start_time": "2022-05-15T18:50:37.477Z"
   },
   {
    "duration": 125,
    "start_time": "2022-05-15T18:50:37.503Z"
   },
   {
    "duration": 100,
    "start_time": "2022-05-15T18:50:37.630Z"
   },
   {
    "duration": 408,
    "start_time": "2022-05-15T18:50:37.732Z"
   },
   {
    "duration": 120,
    "start_time": "2022-05-15T18:50:38.141Z"
   },
   {
    "duration": 124,
    "start_time": "2022-05-15T18:50:38.263Z"
   },
   {
    "duration": 601,
    "start_time": "2022-05-15T18:50:38.388Z"
   },
   {
    "duration": 616,
    "start_time": "2022-05-15T18:50:38.991Z"
   },
   {
    "duration": 19,
    "start_time": "2022-05-15T18:50:39.609Z"
   },
   {
    "duration": 4,
    "start_time": "2022-05-15T18:50:39.630Z"
   },
   {
    "duration": 6,
    "start_time": "2022-05-15T18:50:39.636Z"
   },
   {
    "duration": 38,
    "start_time": "2022-05-15T18:50:39.646Z"
   },
   {
    "duration": 10,
    "start_time": "2022-05-15T18:50:39.685Z"
   },
   {
    "duration": 10,
    "start_time": "2022-05-15T18:50:39.697Z"
   },
   {
    "duration": 20,
    "start_time": "2022-05-15T18:50:39.708Z"
   },
   {
    "duration": 7,
    "start_time": "2022-05-15T18:50:39.730Z"
   },
   {
    "duration": 36,
    "start_time": "2022-05-15T18:50:39.738Z"
   },
   {
    "duration": 30,
    "start_time": "2022-05-15T18:50:39.775Z"
   },
   {
    "duration": 368,
    "start_time": "2022-05-15T18:50:39.807Z"
   },
   {
    "duration": 11,
    "start_time": "2022-05-15T18:50:40.177Z"
   },
   {
    "duration": 20,
    "start_time": "2022-05-15T18:50:40.189Z"
   },
   {
    "duration": 8,
    "start_time": "2022-05-15T18:50:40.211Z"
   },
   {
    "duration": 15,
    "start_time": "2022-05-15T18:50:40.220Z"
   },
   {
    "duration": 97,
    "start_time": "2022-05-15T18:50:40.237Z"
   },
   {
    "duration": 78,
    "start_time": "2022-05-15T18:50:40.336Z"
   },
   {
    "duration": 79,
    "start_time": "2022-05-15T18:50:40.416Z"
   },
   {
    "duration": 29,
    "start_time": "2022-05-15T18:50:40.497Z"
   },
   {
    "duration": 24,
    "start_time": "2022-05-15T18:50:40.528Z"
   },
   {
    "duration": 71,
    "start_time": "2022-05-15T18:50:40.554Z"
   },
   {
    "duration": 69,
    "start_time": "2022-05-15T18:50:40.627Z"
   },
   {
    "duration": 676,
    "start_time": "2022-05-15T18:50:40.698Z"
   },
   {
    "duration": 13,
    "start_time": "2022-05-15T18:50:41.376Z"
   },
   {
    "duration": 360,
    "start_time": "2022-05-15T18:50:41.390Z"
   },
   {
    "duration": 4,
    "start_time": "2022-05-15T18:50:41.752Z"
   },
   {
    "duration": 113,
    "start_time": "2022-05-15T18:50:41.758Z"
   },
   {
    "duration": 4,
    "start_time": "2022-05-15T18:50:41.872Z"
   },
   {
    "duration": 7,
    "start_time": "2022-05-15T18:50:41.878Z"
   },
   {
    "duration": 147,
    "start_time": "2022-05-15T18:50:41.887Z"
   },
   {
    "duration": 14,
    "start_time": "2022-05-15T18:50:42.037Z"
   },
   {
    "duration": 3,
    "start_time": "2022-05-15T18:50:42.053Z"
   },
   {
    "duration": 4,
    "start_time": "2022-05-15T18:50:50.798Z"
   },
   {
    "duration": 394093,
    "start_time": "2022-05-15T18:51:09.181Z"
   },
   {
    "duration": 4,
    "start_time": "2022-05-15T18:58:23.895Z"
   },
   {
    "duration": 60351,
    "start_time": "2022-05-15T18:59:12.465Z"
   },
   {
    "duration": 103,
    "start_time": "2022-05-15T19:00:25.433Z"
   },
   {
    "duration": 6233951,
    "start_time": "2022-05-15T19:00:42.704Z"
   },
   {
    "duration": 75300,
    "start_time": "2022-05-15T20:47:34.671Z"
   },
   {
    "duration": 9,
    "start_time": "2022-05-15T20:49:30.352Z"
   },
   {
    "duration": 59,
    "start_time": "2022-05-18T03:33:54.830Z"
   },
   {
    "duration": 1602,
    "start_time": "2022-05-18T03:34:08.826Z"
   },
   {
    "duration": 3221,
    "start_time": "2022-05-18T03:34:10.434Z"
   },
   {
    "duration": 32,
    "start_time": "2022-05-18T03:34:13.658Z"
   },
   {
    "duration": 255,
    "start_time": "2022-05-18T03:34:13.692Z"
   },
   {
    "duration": 107,
    "start_time": "2022-05-18T03:34:13.950Z"
   },
   {
    "duration": 478,
    "start_time": "2022-05-18T03:34:14.059Z"
   },
   {
    "duration": 127,
    "start_time": "2022-05-18T03:34:14.539Z"
   },
   {
    "duration": 158,
    "start_time": "2022-05-18T03:34:14.667Z"
   },
   {
    "duration": 582,
    "start_time": "2022-05-18T03:34:14.828Z"
   },
   {
    "duration": 482,
    "start_time": "2022-05-18T03:34:15.412Z"
   },
   {
    "duration": 27,
    "start_time": "2022-05-18T03:34:15.896Z"
   },
   {
    "duration": 120,
    "start_time": "2022-05-18T03:34:15.926Z"
   },
   {
    "duration": 52,
    "start_time": "2022-05-18T03:34:16.048Z"
   },
   {
    "duration": 90,
    "start_time": "2022-05-18T03:34:16.104Z"
   },
   {
    "duration": 36,
    "start_time": "2022-05-18T03:34:16.196Z"
   },
   {
    "duration": 44,
    "start_time": "2022-05-18T03:34:16.239Z"
   },
   {
    "duration": 40,
    "start_time": "2022-05-18T03:34:16.285Z"
   },
   {
    "duration": 63,
    "start_time": "2022-05-18T03:34:16.327Z"
   },
   {
    "duration": 74,
    "start_time": "2022-05-18T03:34:16.392Z"
   },
   {
    "duration": 69,
    "start_time": "2022-05-18T03:34:16.467Z"
   },
   {
    "duration": 508,
    "start_time": "2022-05-18T03:34:16.538Z"
   },
   {
    "duration": 14,
    "start_time": "2022-05-18T03:34:17.049Z"
   },
   {
    "duration": 70,
    "start_time": "2022-05-18T03:34:17.065Z"
   },
   {
    "duration": 41,
    "start_time": "2022-05-18T03:34:17.138Z"
   },
   {
    "duration": 96,
    "start_time": "2022-05-18T03:34:17.184Z"
   },
   {
    "duration": 122,
    "start_time": "2022-05-18T03:34:17.282Z"
   },
   {
    "duration": 122,
    "start_time": "2022-05-18T03:34:17.408Z"
   },
   {
    "duration": 110,
    "start_time": "2022-05-18T03:34:17.531Z"
   },
   {
    "duration": 59,
    "start_time": "2022-05-18T03:34:17.642Z"
   },
   {
    "duration": 32,
    "start_time": "2022-05-18T03:34:17.702Z"
   },
   {
    "duration": 102,
    "start_time": "2022-05-18T03:34:17.736Z"
   },
   {
    "duration": 119,
    "start_time": "2022-05-18T03:34:17.841Z"
   },
   {
    "duration": 80,
    "start_time": "2022-05-18T03:34:17.961Z"
   },
   {
    "duration": 11,
    "start_time": "2022-05-18T03:34:18.042Z"
   },
   {
    "duration": 50,
    "start_time": "2022-05-18T03:34:18.054Z"
   },
   {
    "duration": 102,
    "start_time": "2022-05-18T03:34:18.106Z"
   },
   {
    "duration": 46,
    "start_time": "2022-05-18T03:34:18.211Z"
   },
   {
    "duration": 488,
    "start_time": "2022-05-18T03:34:18.259Z"
   },
   {
    "duration": 589,
    "start_time": "2022-05-18T03:34:18.748Z"
   },
   {
    "duration": 4,
    "start_time": "2022-05-18T03:34:19.339Z"
   },
   {
    "duration": 3451,
    "start_time": "2022-05-18T03:34:19.347Z"
   },
   {
    "duration": 3,
    "start_time": "2022-05-18T03:34:22.800Z"
   },
   {
    "duration": 48,
    "start_time": "2022-05-18T03:34:22.804Z"
   },
   {
    "duration": 1583,
    "start_time": "2022-05-18T05:25:47.041Z"
   },
   {
    "duration": 1184,
    "start_time": "2022-05-18T05:25:48.626Z"
   },
   {
    "duration": 31,
    "start_time": "2022-05-18T05:25:49.812Z"
   },
   {
    "duration": 130,
    "start_time": "2022-05-18T05:25:49.846Z"
   },
   {
    "duration": 111,
    "start_time": "2022-05-18T05:25:49.978Z"
   },
   {
    "duration": 482,
    "start_time": "2022-05-18T05:25:50.091Z"
   },
   {
    "duration": 122,
    "start_time": "2022-05-18T05:25:50.575Z"
   },
   {
    "duration": 127,
    "start_time": "2022-05-18T05:25:50.700Z"
   },
   {
    "duration": 624,
    "start_time": "2022-05-18T05:25:50.829Z"
   },
   {
    "duration": 459,
    "start_time": "2022-05-18T05:25:51.455Z"
   },
   {
    "duration": 18,
    "start_time": "2022-05-18T05:25:51.915Z"
   },
   {
    "duration": 6,
    "start_time": "2022-05-18T05:25:51.935Z"
   },
   {
    "duration": 9,
    "start_time": "2022-05-18T05:25:51.942Z"
   },
   {
    "duration": 39,
    "start_time": "2022-05-18T05:25:51.953Z"
   },
   {
    "duration": 32,
    "start_time": "2022-05-18T05:25:51.994Z"
   },
   {
    "duration": 10,
    "start_time": "2022-05-18T05:25:52.028Z"
   },
   {
    "duration": 30,
    "start_time": "2022-05-18T05:25:52.039Z"
   },
   {
    "duration": 9,
    "start_time": "2022-05-18T05:25:52.071Z"
   },
   {
    "duration": 14,
    "start_time": "2022-05-18T05:25:52.082Z"
   },
   {
    "duration": 65,
    "start_time": "2022-05-18T05:25:52.098Z"
   },
   {
    "duration": 452,
    "start_time": "2022-05-18T05:25:52.165Z"
   },
   {
    "duration": 16,
    "start_time": "2022-05-18T05:25:52.619Z"
   },
   {
    "duration": 31,
    "start_time": "2022-05-18T05:25:52.638Z"
   },
   {
    "duration": 8,
    "start_time": "2022-05-18T05:25:52.671Z"
   },
   {
    "duration": 46,
    "start_time": "2022-05-18T05:25:52.680Z"
   },
   {
    "duration": 98,
    "start_time": "2022-05-18T05:25:52.728Z"
   },
   {
    "duration": 102,
    "start_time": "2022-05-18T05:25:52.828Z"
   },
   {
    "duration": 77,
    "start_time": "2022-05-18T05:25:52.934Z"
   },
   {
    "duration": 29,
    "start_time": "2022-05-18T05:25:53.026Z"
   },
   {
    "duration": 20,
    "start_time": "2022-05-18T05:25:53.057Z"
   },
   {
    "duration": 81,
    "start_time": "2022-05-18T05:25:53.079Z"
   },
   {
    "duration": 73,
    "start_time": "2022-05-18T05:25:53.161Z"
   },
   {
    "duration": 63,
    "start_time": "2022-05-18T05:25:53.236Z"
   },
   {
    "duration": 4,
    "start_time": "2022-05-18T05:25:53.301Z"
   },
   {
    "duration": 29,
    "start_time": "2022-05-18T05:25:53.326Z"
   },
   {
    "duration": 5,
    "start_time": "2022-05-18T05:25:53.358Z"
   },
   {
    "duration": 15,
    "start_time": "2022-05-18T05:25:53.366Z"
   },
   {
    "duration": 464,
    "start_time": "2022-05-18T05:25:53.383Z"
   },
   {
    "duration": 720,
    "start_time": "2022-05-18T05:25:53.849Z"
   },
   {
    "duration": 4,
    "start_time": "2022-05-18T05:25:54.571Z"
   },
   {
    "duration": 3752,
    "start_time": "2022-05-18T05:25:54.577Z"
   },
   {
    "duration": 4,
    "start_time": "2022-05-18T05:25:58.332Z"
   },
   {
    "duration": 16,
    "start_time": "2022-05-18T05:25:58.337Z"
   },
   {
    "duration": 1480,
    "start_time": "2022-05-18T07:31:38.653Z"
   },
   {
    "duration": 1193,
    "start_time": "2022-05-18T07:31:40.136Z"
   },
   {
    "duration": 28,
    "start_time": "2022-05-18T07:31:41.331Z"
   },
   {
    "duration": 151,
    "start_time": "2022-05-18T07:31:41.361Z"
   },
   {
    "duration": 122,
    "start_time": "2022-05-18T07:31:41.514Z"
   },
   {
    "duration": 475,
    "start_time": "2022-05-18T07:31:41.638Z"
   },
   {
    "duration": 148,
    "start_time": "2022-05-18T07:31:42.115Z"
   },
   {
    "duration": 133,
    "start_time": "2022-05-18T07:31:42.265Z"
   },
   {
    "duration": 639,
    "start_time": "2022-05-18T07:31:42.400Z"
   },
   {
    "duration": 467,
    "start_time": "2022-05-18T07:31:43.042Z"
   },
   {
    "duration": 30,
    "start_time": "2022-05-18T07:31:43.510Z"
   },
   {
    "duration": 4,
    "start_time": "2022-05-18T07:31:43.542Z"
   },
   {
    "duration": 7,
    "start_time": "2022-05-18T07:31:43.548Z"
   },
   {
    "duration": 20,
    "start_time": "2022-05-18T07:31:43.557Z"
   },
   {
    "duration": 11,
    "start_time": "2022-05-18T07:31:43.579Z"
   },
   {
    "duration": 15,
    "start_time": "2022-05-18T07:31:43.591Z"
   },
   {
    "duration": 23,
    "start_time": "2022-05-18T07:31:43.637Z"
   },
   {
    "duration": 9,
    "start_time": "2022-05-18T07:31:43.662Z"
   },
   {
    "duration": 17,
    "start_time": "2022-05-18T07:31:43.673Z"
   },
   {
    "duration": 47,
    "start_time": "2022-05-18T07:31:43.691Z"
   },
   {
    "duration": 449,
    "start_time": "2022-05-18T07:31:43.740Z"
   },
   {
    "duration": 13,
    "start_time": "2022-05-18T07:31:44.190Z"
   },
   {
    "duration": 52,
    "start_time": "2022-05-18T07:31:44.205Z"
   },
   {
    "duration": 14,
    "start_time": "2022-05-18T07:31:44.260Z"
   },
   {
    "duration": 23,
    "start_time": "2022-05-18T07:31:44.276Z"
   },
   {
    "duration": 98,
    "start_time": "2022-05-18T07:31:44.301Z"
   },
   {
    "duration": 104,
    "start_time": "2022-05-18T07:31:44.401Z"
   },
   {
    "duration": 96,
    "start_time": "2022-05-18T07:31:44.510Z"
   },
   {
    "duration": 53,
    "start_time": "2022-05-18T07:31:44.608Z"
   },
   {
    "duration": 28,
    "start_time": "2022-05-18T07:31:44.663Z"
   },
   {
    "duration": 92,
    "start_time": "2022-05-18T07:31:44.693Z"
   },
   {
    "duration": 75,
    "start_time": "2022-05-18T07:31:44.786Z"
   },
   {
    "duration": 74,
    "start_time": "2022-05-18T07:31:44.863Z"
   },
   {
    "duration": 4,
    "start_time": "2022-05-18T07:31:44.939Z"
   },
   {
    "duration": 20,
    "start_time": "2022-05-18T07:31:44.947Z"
   },
   {
    "duration": 6,
    "start_time": "2022-05-18T07:31:44.968Z"
   },
   {
    "duration": 12,
    "start_time": "2022-05-18T07:31:44.976Z"
   },
   {
    "duration": 495,
    "start_time": "2022-05-18T07:31:44.990Z"
   },
   {
    "duration": 659,
    "start_time": "2022-05-18T07:31:45.487Z"
   },
   {
    "duration": 3,
    "start_time": "2022-05-18T07:31:46.148Z"
   },
   {
    "duration": 3610,
    "start_time": "2022-05-18T07:31:46.153Z"
   },
   {
    "duration": 3,
    "start_time": "2022-05-18T07:31:49.764Z"
   },
   {
    "duration": 7,
    "start_time": "2022-05-18T07:31:49.769Z"
   },
   {
    "duration": 1532,
    "start_time": "2022-05-18T10:23:15.922Z"
   },
   {
    "duration": 1082,
    "start_time": "2022-05-18T10:23:17.456Z"
   },
   {
    "duration": 31,
    "start_time": "2022-05-18T10:23:18.540Z"
   },
   {
    "duration": 139,
    "start_time": "2022-05-18T10:23:18.572Z"
   },
   {
    "duration": 104,
    "start_time": "2022-05-18T10:23:18.723Z"
   },
   {
    "duration": 488,
    "start_time": "2022-05-18T10:23:18.829Z"
   },
   {
    "duration": 132,
    "start_time": "2022-05-18T10:23:19.318Z"
   },
   {
    "duration": 130,
    "start_time": "2022-05-18T10:23:19.452Z"
   },
   {
    "duration": 560,
    "start_time": "2022-05-18T10:23:19.583Z"
   },
   {
    "duration": 426,
    "start_time": "2022-05-18T10:23:20.144Z"
   },
   {
    "duration": 16,
    "start_time": "2022-05-18T10:23:20.572Z"
   },
   {
    "duration": 4,
    "start_time": "2022-05-18T10:23:20.589Z"
   },
   {
    "duration": 9,
    "start_time": "2022-05-18T10:23:20.594Z"
   },
   {
    "duration": 43,
    "start_time": "2022-05-18T10:23:20.624Z"
   },
   {
    "duration": 11,
    "start_time": "2022-05-18T10:23:20.668Z"
   },
   {
    "duration": 11,
    "start_time": "2022-05-18T10:23:20.681Z"
   },
   {
    "duration": 42,
    "start_time": "2022-05-18T10:23:20.693Z"
   },
   {
    "duration": 8,
    "start_time": "2022-05-18T10:23:20.736Z"
   },
   {
    "duration": 7,
    "start_time": "2022-05-18T10:23:20.745Z"
   },
   {
    "duration": 39,
    "start_time": "2022-05-18T10:23:20.753Z"
   },
   {
    "duration": 448,
    "start_time": "2022-05-18T10:23:20.794Z"
   },
   {
    "duration": 12,
    "start_time": "2022-05-18T10:23:21.243Z"
   },
   {
    "duration": 23,
    "start_time": "2022-05-18T10:23:21.257Z"
   },
   {
    "duration": 9,
    "start_time": "2022-05-18T10:23:21.282Z"
   },
   {
    "duration": 41,
    "start_time": "2022-05-18T10:23:21.292Z"
   },
   {
    "duration": 70,
    "start_time": "2022-05-18T10:23:21.334Z"
   },
   {
    "duration": 81,
    "start_time": "2022-05-18T10:23:21.405Z"
   },
   {
    "duration": 75,
    "start_time": "2022-05-18T10:23:21.488Z"
   },
   {
    "duration": 27,
    "start_time": "2022-05-18T10:23:21.564Z"
   },
   {
    "duration": 32,
    "start_time": "2022-05-18T10:23:21.593Z"
   },
   {
    "duration": 56,
    "start_time": "2022-05-18T10:23:21.627Z"
   },
   {
    "duration": 77,
    "start_time": "2022-05-18T10:23:21.685Z"
   },
   {
    "duration": 66,
    "start_time": "2022-05-18T10:23:21.764Z"
   },
   {
    "duration": 4,
    "start_time": "2022-05-18T10:23:21.831Z"
   },
   {
    "duration": 28,
    "start_time": "2022-05-18T10:23:21.836Z"
   },
   {
    "duration": 4,
    "start_time": "2022-05-18T10:23:21.866Z"
   },
   {
    "duration": 6,
    "start_time": "2022-05-18T10:23:21.871Z"
   },
   {
    "duration": 477,
    "start_time": "2022-05-18T10:23:21.879Z"
   },
   {
    "duration": 641,
    "start_time": "2022-05-18T10:23:22.359Z"
   },
   {
    "duration": 2,
    "start_time": "2022-05-18T10:23:23.002Z"
   },
   {
    "duration": 5188,
    "start_time": "2022-05-18T10:23:23.008Z"
   },
   {
    "duration": 3,
    "start_time": "2022-05-18T10:23:28.198Z"
   },
   {
    "duration": 7,
    "start_time": "2022-05-18T10:23:28.203Z"
   },
   {
    "duration": 1429,
    "start_time": "2022-05-18T10:28:53.073Z"
   },
   {
    "duration": 1052,
    "start_time": "2022-05-18T10:28:54.506Z"
   },
   {
    "duration": 43,
    "start_time": "2022-05-18T10:28:55.560Z"
   },
   {
    "duration": 151,
    "start_time": "2022-05-18T10:28:55.606Z"
   },
   {
    "duration": 105,
    "start_time": "2022-05-18T10:28:55.759Z"
   },
   {
    "duration": 450,
    "start_time": "2022-05-18T10:28:55.866Z"
   },
   {
    "duration": 128,
    "start_time": "2022-05-18T10:28:56.318Z"
   },
   {
    "duration": 128,
    "start_time": "2022-05-18T10:28:56.447Z"
   },
   {
    "duration": 525,
    "start_time": "2022-05-18T10:28:56.576Z"
   },
   {
    "duration": 453,
    "start_time": "2022-05-18T10:28:57.104Z"
   },
   {
    "duration": 18,
    "start_time": "2022-05-18T10:28:57.560Z"
   },
   {
    "duration": 3,
    "start_time": "2022-05-18T10:28:57.580Z"
   },
   {
    "duration": 13,
    "start_time": "2022-05-18T10:28:57.585Z"
   },
   {
    "duration": 35,
    "start_time": "2022-05-18T10:28:57.600Z"
   },
   {
    "duration": 11,
    "start_time": "2022-05-18T10:28:57.637Z"
   },
   {
    "duration": 10,
    "start_time": "2022-05-18T10:28:57.650Z"
   },
   {
    "duration": 22,
    "start_time": "2022-05-18T10:28:57.662Z"
   },
   {
    "duration": 38,
    "start_time": "2022-05-18T10:28:57.685Z"
   },
   {
    "duration": 7,
    "start_time": "2022-05-18T10:28:57.726Z"
   },
   {
    "duration": 39,
    "start_time": "2022-05-18T10:28:57.735Z"
   },
   {
    "duration": 487,
    "start_time": "2022-05-18T10:28:57.775Z"
   },
   {
    "duration": 12,
    "start_time": "2022-05-18T10:28:58.264Z"
   },
   {
    "duration": 24,
    "start_time": "2022-05-18T10:28:58.277Z"
   },
   {
    "duration": 25,
    "start_time": "2022-05-18T10:28:58.302Z"
   },
   {
    "duration": 17,
    "start_time": "2022-05-18T10:28:58.329Z"
   },
   {
    "duration": 94,
    "start_time": "2022-05-18T10:28:58.348Z"
   },
   {
    "duration": 84,
    "start_time": "2022-05-18T10:28:58.444Z"
   },
   {
    "duration": 72,
    "start_time": "2022-05-18T10:28:58.532Z"
   },
   {
    "duration": 43,
    "start_time": "2022-05-18T10:28:58.606Z"
   },
   {
    "duration": 21,
    "start_time": "2022-05-18T10:28:58.650Z"
   },
   {
    "duration": 75,
    "start_time": "2022-05-18T10:28:58.672Z"
   },
   {
    "duration": 79,
    "start_time": "2022-05-18T10:28:58.749Z"
   },
   {
    "duration": 56,
    "start_time": "2022-05-18T10:28:58.830Z"
   },
   {
    "duration": 4,
    "start_time": "2022-05-18T10:28:58.888Z"
   },
   {
    "duration": 42,
    "start_time": "2022-05-18T10:28:58.894Z"
   },
   {
    "duration": 5,
    "start_time": "2022-05-18T10:28:58.938Z"
   },
   {
    "duration": 16,
    "start_time": "2022-05-18T10:28:58.944Z"
   },
   {
    "duration": 492,
    "start_time": "2022-05-18T10:28:58.962Z"
   },
   {
    "duration": 618,
    "start_time": "2022-05-18T10:28:59.457Z"
   },
   {
    "duration": 3,
    "start_time": "2022-05-18T10:29:00.077Z"
   },
   {
    "duration": 3772,
    "start_time": "2022-05-18T10:29:00.081Z"
   },
   {
    "duration": 3,
    "start_time": "2022-05-18T10:29:03.855Z"
   },
   {
    "duration": 15,
    "start_time": "2022-05-18T10:29:03.859Z"
   },
   {
    "duration": 1310291,
    "start_time": "2022-05-18T10:44:17.447Z"
   },
   {
    "duration": 5,
    "start_time": "2022-05-18T11:11:30.404Z"
   },
   {
    "duration": 251543,
    "start_time": "2022-05-18T11:11:37.410Z"
   },
   {
    "duration": 360470,
    "start_time": "2022-05-18T11:16:05.494Z"
   },
   {
    "duration": 4092,
    "start_time": "2022-05-18T11:25:14.405Z"
   },
   {
    "duration": 4,
    "start_time": "2022-05-18T11:25:22.854Z"
   },
   {
    "duration": 2881,
    "start_time": "2022-05-18T12:39:49.048Z"
   },
   {
    "duration": 10,
    "start_time": "2022-05-18T12:40:31.901Z"
   },
   {
    "duration": 2232,
    "start_time": "2022-05-18T13:53:44.215Z"
   },
   {
    "duration": 2090,
    "start_time": "2022-05-18T13:53:46.450Z"
   },
   {
    "duration": 43,
    "start_time": "2022-05-18T13:53:48.542Z"
   },
   {
    "duration": 264,
    "start_time": "2022-05-18T13:53:48.586Z"
   },
   {
    "duration": 136,
    "start_time": "2022-05-18T13:53:48.853Z"
   },
   {
    "duration": 692,
    "start_time": "2022-05-18T13:53:48.991Z"
   },
   {
    "duration": 231,
    "start_time": "2022-05-18T13:53:49.685Z"
   },
   {
    "duration": 274,
    "start_time": "2022-05-18T13:53:49.918Z"
   },
   {
    "duration": 808,
    "start_time": "2022-05-18T13:53:50.199Z"
   },
   {
    "duration": 645,
    "start_time": "2022-05-18T13:53:51.011Z"
   },
   {
    "duration": 39,
    "start_time": "2022-05-18T13:53:51.657Z"
   },
   {
    "duration": 51,
    "start_time": "2022-05-18T13:53:51.697Z"
   },
   {
    "duration": 78,
    "start_time": "2022-05-18T13:53:51.750Z"
   },
   {
    "duration": 176,
    "start_time": "2022-05-18T13:53:51.833Z"
   },
   {
    "duration": 29,
    "start_time": "2022-05-18T13:53:52.015Z"
   },
   {
    "duration": 17,
    "start_time": "2022-05-18T13:53:52.045Z"
   },
   {
    "duration": 89,
    "start_time": "2022-05-18T13:53:52.064Z"
   },
   {
    "duration": 17,
    "start_time": "2022-05-18T13:53:52.155Z"
   },
   {
    "duration": 66,
    "start_time": "2022-05-18T13:53:52.173Z"
   },
   {
    "duration": 76,
    "start_time": "2022-05-18T13:53:52.242Z"
   },
   {
    "duration": 703,
    "start_time": "2022-05-18T13:53:52.320Z"
   },
   {
    "duration": 20,
    "start_time": "2022-05-18T13:53:53.025Z"
   },
   {
    "duration": 85,
    "start_time": "2022-05-18T13:53:53.054Z"
   },
   {
    "duration": 15,
    "start_time": "2022-05-18T13:53:53.141Z"
   },
   {
    "duration": 37,
    "start_time": "2022-05-18T13:53:53.158Z"
   },
   {
    "duration": 165,
    "start_time": "2022-05-18T13:53:53.198Z"
   },
   {
    "duration": 152,
    "start_time": "2022-05-18T13:53:53.364Z"
   },
   {
    "duration": 140,
    "start_time": "2022-05-18T13:53:53.522Z"
   },
   {
    "duration": 74,
    "start_time": "2022-05-18T13:53:53.664Z"
   },
   {
    "duration": 63,
    "start_time": "2022-05-18T13:53:53.747Z"
   },
   {
    "duration": 188,
    "start_time": "2022-05-18T13:53:53.812Z"
   },
   {
    "duration": 129,
    "start_time": "2022-05-18T13:53:54.002Z"
   },
   {
    "duration": 24,
    "start_time": "2022-05-18T13:55:49.848Z"
   },
   {
    "duration": 115,
    "start_time": "2022-05-18T13:56:50.094Z"
   },
   {
    "duration": 4,
    "start_time": "2022-05-18T13:56:55.135Z"
   },
   {
    "duration": 18,
    "start_time": "2022-05-18T13:57:22.236Z"
   },
   {
    "duration": 5,
    "start_time": "2022-05-18T13:57:45.224Z"
   },
   {
    "duration": 5,
    "start_time": "2022-05-18T13:57:49.501Z"
   },
   {
    "duration": 871,
    "start_time": "2022-05-18T13:58:18.279Z"
   },
   {
    "duration": 893,
    "start_time": "2022-05-18T13:59:21.488Z"
   },
   {
    "duration": 4,
    "start_time": "2022-05-18T13:59:29.159Z"
   },
   {
    "duration": 5089,
    "start_time": "2022-05-18T13:59:31.648Z"
   },
   {
    "duration": 5,
    "start_time": "2022-05-18T13:59:57.150Z"
   },
   {
    "duration": 13,
    "start_time": "2022-05-18T14:00:20.091Z"
   },
   {
    "duration": 1837,
    "start_time": "2022-05-18T14:02:00.160Z"
   },
   {
    "duration": 1141,
    "start_time": "2022-05-18T14:02:02.005Z"
   },
   {
    "duration": 35,
    "start_time": "2022-05-18T14:02:03.148Z"
   },
   {
    "duration": 254,
    "start_time": "2022-05-18T14:02:03.186Z"
   },
   {
    "duration": 163,
    "start_time": "2022-05-18T14:02:03.442Z"
   },
   {
    "duration": 634,
    "start_time": "2022-05-18T14:02:03.607Z"
   },
   {
    "duration": 203,
    "start_time": "2022-05-18T14:02:04.243Z"
   },
   {
    "duration": 231,
    "start_time": "2022-05-18T14:02:04.448Z"
   },
   {
    "duration": 754,
    "start_time": "2022-05-18T14:02:04.680Z"
   },
   {
    "duration": 610,
    "start_time": "2022-05-18T14:02:05.437Z"
   },
   {
    "duration": 22,
    "start_time": "2022-05-18T14:02:06.049Z"
   },
   {
    "duration": 44,
    "start_time": "2022-05-18T14:02:06.073Z"
   },
   {
    "duration": 17,
    "start_time": "2022-05-18T14:02:06.119Z"
   },
   {
    "duration": 59,
    "start_time": "2022-05-18T14:02:06.138Z"
   },
   {
    "duration": 30,
    "start_time": "2022-05-18T14:02:06.200Z"
   },
   {
    "duration": 27,
    "start_time": "2022-05-18T14:02:06.231Z"
   },
   {
    "duration": 38,
    "start_time": "2022-05-18T14:02:06.260Z"
   },
   {
    "duration": 24,
    "start_time": "2022-05-18T14:02:06.306Z"
   },
   {
    "duration": 13,
    "start_time": "2022-05-18T14:02:06.332Z"
   },
   {
    "duration": 90,
    "start_time": "2022-05-18T14:02:06.346Z"
   },
   {
    "duration": 601,
    "start_time": "2022-05-18T14:02:06.438Z"
   },
   {
    "duration": 13,
    "start_time": "2022-05-18T14:02:07.040Z"
   },
   {
    "duration": 52,
    "start_time": "2022-05-18T14:02:07.067Z"
   },
   {
    "duration": 19,
    "start_time": "2022-05-18T14:02:07.123Z"
   },
   {
    "duration": 16,
    "start_time": "2022-05-18T14:02:07.144Z"
   },
   {
    "duration": 153,
    "start_time": "2022-05-18T14:02:07.162Z"
   },
   {
    "duration": 134,
    "start_time": "2022-05-18T14:02:07.320Z"
   },
   {
    "duration": 128,
    "start_time": "2022-05-18T14:02:07.458Z"
   },
   {
    "duration": 88,
    "start_time": "2022-05-18T14:02:07.588Z"
   },
   {
    "duration": 70,
    "start_time": "2022-05-18T14:02:07.678Z"
   },
   {
    "duration": 116,
    "start_time": "2022-05-18T14:02:07.750Z"
   },
   {
    "duration": 113,
    "start_time": "2022-05-18T14:02:07.870Z"
   },
   {
    "duration": 135,
    "start_time": "2022-05-18T14:02:07.985Z"
   },
   {
    "duration": 7,
    "start_time": "2022-05-18T14:02:08.122Z"
   },
   {
    "duration": 19,
    "start_time": "2022-05-18T14:02:08.131Z"
   },
   {
    "duration": 5,
    "start_time": "2022-05-18T14:02:08.152Z"
   },
   {
    "duration": 47,
    "start_time": "2022-05-18T14:02:08.159Z"
   },
   {
    "duration": 721,
    "start_time": "2022-05-18T14:02:08.208Z"
   },
   {
    "duration": 776,
    "start_time": "2022-05-18T14:02:08.932Z"
   },
   {
    "duration": 3,
    "start_time": "2022-05-18T14:02:09.711Z"
   },
   {
    "duration": 3843,
    "start_time": "2022-05-18T14:02:09.717Z"
   },
   {
    "duration": 9,
    "start_time": "2022-05-18T14:02:13.562Z"
   },
   {
    "duration": 61,
    "start_time": "2022-05-18T14:02:13.580Z"
   },
   {
    "duration": 2324,
    "start_time": "2022-05-18T14:09:25.816Z"
   },
   {
    "duration": 2059,
    "start_time": "2022-05-18T14:09:28.142Z"
   },
   {
    "duration": 46,
    "start_time": "2022-05-18T14:09:30.202Z"
   },
   {
    "duration": 200,
    "start_time": "2022-05-18T14:09:30.250Z"
   },
   {
    "duration": 133,
    "start_time": "2022-05-18T14:09:30.452Z"
   },
   {
    "duration": 643,
    "start_time": "2022-05-18T14:09:30.587Z"
   },
   {
    "duration": 205,
    "start_time": "2022-05-18T14:09:31.233Z"
   },
   {
    "duration": 206,
    "start_time": "2022-05-18T14:09:31.440Z"
   },
   {
    "duration": 777,
    "start_time": "2022-05-18T14:09:31.648Z"
   },
   {
    "duration": 611,
    "start_time": "2022-05-18T14:09:32.427Z"
   },
   {
    "duration": 25,
    "start_time": "2022-05-18T14:09:33.040Z"
   },
   {
    "duration": 10,
    "start_time": "2022-05-18T14:09:33.066Z"
   },
   {
    "duration": 50,
    "start_time": "2022-05-18T14:09:33.089Z"
   },
   {
    "duration": 39,
    "start_time": "2022-05-18T14:09:33.144Z"
   },
   {
    "duration": 75,
    "start_time": "2022-05-18T14:09:33.186Z"
   },
   {
    "duration": 57,
    "start_time": "2022-05-18T14:09:33.263Z"
   },
   {
    "duration": 56,
    "start_time": "2022-05-18T14:09:33.322Z"
   },
   {
    "duration": 32,
    "start_time": "2022-05-18T14:09:33.382Z"
   },
   {
    "duration": 35,
    "start_time": "2022-05-18T14:09:33.416Z"
   },
   {
    "duration": 83,
    "start_time": "2022-05-18T14:09:33.453Z"
   },
   {
    "duration": 609,
    "start_time": "2022-05-18T14:09:33.538Z"
   },
   {
    "duration": 28,
    "start_time": "2022-05-18T14:09:34.150Z"
   },
   {
    "duration": 60,
    "start_time": "2022-05-18T14:09:34.187Z"
   },
   {
    "duration": 9,
    "start_time": "2022-05-18T14:09:34.249Z"
   },
   {
    "duration": 77,
    "start_time": "2022-05-18T14:09:34.260Z"
   },
   {
    "duration": 170,
    "start_time": "2022-05-18T14:09:34.340Z"
   },
   {
    "duration": 148,
    "start_time": "2022-05-18T14:09:34.512Z"
   },
   {
    "duration": 178,
    "start_time": "2022-05-18T14:09:34.662Z"
   },
   {
    "duration": 54,
    "start_time": "2022-05-18T14:09:34.843Z"
   },
   {
    "duration": 52,
    "start_time": "2022-05-18T14:09:34.898Z"
   },
   {
    "duration": 160,
    "start_time": "2022-05-18T14:09:34.953Z"
   },
   {
    "duration": 121,
    "start_time": "2022-05-18T14:09:35.120Z"
   },
   {
    "duration": 95,
    "start_time": "2022-05-18T14:09:35.243Z"
   },
   {
    "duration": 5,
    "start_time": "2022-05-18T14:09:35.340Z"
   },
   {
    "duration": 66,
    "start_time": "2022-05-18T14:09:35.347Z"
   },
   {
    "duration": 24,
    "start_time": "2022-05-18T14:09:35.415Z"
   },
   {
    "duration": 15,
    "start_time": "2022-05-18T14:09:35.442Z"
   },
   {
    "duration": 684,
    "start_time": "2022-05-18T14:09:35.460Z"
   },
   {
    "duration": 762,
    "start_time": "2022-05-18T14:09:36.146Z"
   },
   {
    "duration": 5,
    "start_time": "2022-05-18T14:09:36.911Z"
   },
   {
    "duration": 4221,
    "start_time": "2022-05-18T14:09:36.925Z"
   },
   {
    "duration": 4,
    "start_time": "2022-05-18T14:09:41.149Z"
   },
   {
    "duration": 79,
    "start_time": "2022-05-18T14:09:41.155Z"
   },
   {
    "duration": 59,
    "start_time": "2022-05-18T15:05:51.482Z"
   },
   {
    "duration": 1555,
    "start_time": "2022-05-18T15:06:06.954Z"
   },
   {
    "duration": 3146,
    "start_time": "2022-05-18T15:06:08.511Z"
   },
   {
    "duration": 31,
    "start_time": "2022-05-18T15:06:11.659Z"
   },
   {
    "duration": 136,
    "start_time": "2022-05-18T15:06:11.691Z"
   },
   {
    "duration": 121,
    "start_time": "2022-05-18T15:06:11.829Z"
   },
   {
    "duration": 516,
    "start_time": "2022-05-18T15:06:11.952Z"
   },
   {
    "duration": 143,
    "start_time": "2022-05-18T15:06:12.474Z"
   },
   {
    "duration": 133,
    "start_time": "2022-05-18T15:06:12.619Z"
   },
   {
    "duration": 865,
    "start_time": "2022-05-18T15:06:12.755Z"
   },
   {
    "duration": 488,
    "start_time": "2022-05-18T15:06:13.622Z"
   },
   {
    "duration": 16,
    "start_time": "2022-05-18T15:06:14.112Z"
   },
   {
    "duration": 3,
    "start_time": "2022-05-18T15:06:14.130Z"
   },
   {
    "duration": 6,
    "start_time": "2022-05-18T15:06:14.135Z"
   },
   {
    "duration": 63,
    "start_time": "2022-05-18T15:06:14.144Z"
   },
   {
    "duration": 15,
    "start_time": "2022-05-18T15:06:14.209Z"
   },
   {
    "duration": 14,
    "start_time": "2022-05-18T15:06:14.226Z"
   },
   {
    "duration": 50,
    "start_time": "2022-05-18T15:06:14.242Z"
   },
   {
    "duration": 11,
    "start_time": "2022-05-18T15:06:14.293Z"
   },
   {
    "duration": 10,
    "start_time": "2022-05-18T15:06:14.306Z"
   },
   {
    "duration": 38,
    "start_time": "2022-05-18T15:06:14.317Z"
   },
   {
    "duration": 462,
    "start_time": "2022-05-18T15:06:14.357Z"
   },
   {
    "duration": 13,
    "start_time": "2022-05-18T15:06:14.821Z"
   },
   {
    "duration": 40,
    "start_time": "2022-05-18T15:06:14.836Z"
   },
   {
    "duration": 7,
    "start_time": "2022-05-18T15:06:14.878Z"
   },
   {
    "duration": 17,
    "start_time": "2022-05-18T15:06:14.887Z"
   },
   {
    "duration": 91,
    "start_time": "2022-05-18T15:06:14.906Z"
   },
   {
    "duration": 80,
    "start_time": "2022-05-18T15:06:14.999Z"
   },
   {
    "duration": 66,
    "start_time": "2022-05-18T15:06:15.081Z"
   },
   {
    "duration": 42,
    "start_time": "2022-05-18T15:06:15.149Z"
   },
   {
    "duration": 17,
    "start_time": "2022-05-18T15:06:15.196Z"
   },
   {
    "duration": 73,
    "start_time": "2022-05-18T15:06:15.215Z"
   },
   {
    "duration": 72,
    "start_time": "2022-05-18T15:06:15.290Z"
   },
   {
    "duration": 56,
    "start_time": "2022-05-18T15:06:15.375Z"
   },
   {
    "duration": 5,
    "start_time": "2022-05-18T15:06:15.433Z"
   },
   {
    "duration": 44,
    "start_time": "2022-05-18T15:06:15.440Z"
   },
   {
    "duration": 5,
    "start_time": "2022-05-18T15:06:15.486Z"
   },
   {
    "duration": 7,
    "start_time": "2022-05-18T15:06:15.494Z"
   },
   {
    "duration": 545,
    "start_time": "2022-05-18T15:06:15.503Z"
   },
   {
    "duration": 7,
    "start_time": "2022-05-18T15:06:18.648Z"
   },
   {
    "duration": 3,
    "start_time": "2022-05-18T15:06:35.968Z"
   },
   {
    "duration": 6,
    "start_time": "2022-05-18T15:06:42.289Z"
   },
   {
    "duration": 132,
    "start_time": "2022-05-18T15:12:29.129Z"
   },
   {
    "duration": 10,
    "start_time": "2022-05-18T15:12:41.882Z"
   },
   {
    "duration": 4,
    "start_time": "2022-05-18T15:13:21.570Z"
   },
   {
    "duration": 11,
    "start_time": "2022-05-18T15:13:49.027Z"
   },
   {
    "duration": 13,
    "start_time": "2022-05-18T15:14:52.222Z"
   },
   {
    "duration": 4,
    "start_time": "2022-05-18T15:15:15.282Z"
   },
   {
    "duration": 12,
    "start_time": "2022-05-18T15:15:20.906Z"
   },
   {
    "duration": 1443,
    "start_time": "2022-05-18T15:15:44.202Z"
   },
   {
    "duration": 956,
    "start_time": "2022-05-18T15:15:45.648Z"
   },
   {
    "duration": 27,
    "start_time": "2022-05-18T15:15:46.606Z"
   },
   {
    "duration": 233,
    "start_time": "2022-05-18T15:15:46.635Z"
   },
   {
    "duration": 132,
    "start_time": "2022-05-18T15:15:46.874Z"
   },
   {
    "duration": 511,
    "start_time": "2022-05-18T15:15:47.009Z"
   },
   {
    "duration": 154,
    "start_time": "2022-05-18T15:15:47.522Z"
   },
   {
    "duration": 137,
    "start_time": "2022-05-18T15:15:47.677Z"
   },
   {
    "duration": 625,
    "start_time": "2022-05-18T15:15:47.816Z"
   },
   {
    "duration": 481,
    "start_time": "2022-05-18T15:15:48.442Z"
   },
   {
    "duration": 21,
    "start_time": "2022-05-18T15:15:48.925Z"
   },
   {
    "duration": 4,
    "start_time": "2022-05-18T15:15:48.949Z"
   },
   {
    "duration": 25,
    "start_time": "2022-05-18T15:15:48.956Z"
   },
   {
    "duration": 40,
    "start_time": "2022-05-18T15:15:48.984Z"
   },
   {
    "duration": 11,
    "start_time": "2022-05-18T15:15:49.026Z"
   },
   {
    "duration": 12,
    "start_time": "2022-05-18T15:15:49.038Z"
   },
   {
    "duration": 28,
    "start_time": "2022-05-18T15:15:49.075Z"
   },
   {
    "duration": 13,
    "start_time": "2022-05-18T15:15:49.105Z"
   },
   {
    "duration": 10,
    "start_time": "2022-05-18T15:15:49.120Z"
   },
   {
    "duration": 64,
    "start_time": "2022-05-18T15:15:49.132Z"
   },
   {
    "duration": 481,
    "start_time": "2022-05-18T15:15:49.198Z"
   },
   {
    "duration": 15,
    "start_time": "2022-05-18T15:15:49.681Z"
   },
   {
    "duration": 27,
    "start_time": "2022-05-18T15:15:49.698Z"
   },
   {
    "duration": 10,
    "start_time": "2022-05-18T15:15:49.727Z"
   },
   {
    "duration": 47,
    "start_time": "2022-05-18T15:15:49.739Z"
   },
   {
    "duration": 173,
    "start_time": "2022-05-18T15:15:49.788Z"
   },
   {
    "duration": 104,
    "start_time": "2022-05-18T15:15:49.964Z"
   },
   {
    "duration": 75,
    "start_time": "2022-05-18T15:15:50.074Z"
   },
   {
    "duration": 45,
    "start_time": "2022-05-18T15:15:50.153Z"
   },
   {
    "duration": 28,
    "start_time": "2022-05-18T15:15:50.201Z"
   },
   {
    "duration": 84,
    "start_time": "2022-05-18T15:15:50.232Z"
   },
   {
    "duration": 78,
    "start_time": "2022-05-18T15:15:50.317Z"
   },
   {
    "duration": 106,
    "start_time": "2022-05-18T15:15:50.397Z"
   },
   {
    "duration": 5,
    "start_time": "2022-05-18T15:15:50.505Z"
   },
   {
    "duration": 27,
    "start_time": "2022-05-18T15:15:50.512Z"
   },
   {
    "duration": 5,
    "start_time": "2022-05-18T15:15:50.540Z"
   },
   {
    "duration": 7,
    "start_time": "2022-05-18T15:15:50.547Z"
   },
   {
    "duration": 504,
    "start_time": "2022-05-18T15:15:51.874Z"
   },
   {
    "duration": 1184,
    "start_time": "2022-05-18T15:21:20.839Z"
   },
   {
    "duration": 279,
    "start_time": "2022-05-18T15:21:44.792Z"
   },
   {
    "duration": 516,
    "start_time": "2022-05-18T15:22:06.220Z"
   },
   {
    "duration": 1410,
    "start_time": "2022-05-18T15:28:44.376Z"
   },
   {
    "duration": 882,
    "start_time": "2022-05-18T15:28:45.789Z"
   },
   {
    "duration": 32,
    "start_time": "2022-05-18T15:28:46.673Z"
   },
   {
    "duration": 248,
    "start_time": "2022-05-18T15:28:46.708Z"
   },
   {
    "duration": 116,
    "start_time": "2022-05-18T15:28:46.960Z"
   },
   {
    "duration": 514,
    "start_time": "2022-05-18T15:28:47.078Z"
   },
   {
    "duration": 149,
    "start_time": "2022-05-18T15:28:47.594Z"
   },
   {
    "duration": 149,
    "start_time": "2022-05-18T15:28:47.745Z"
   },
   {
    "duration": 658,
    "start_time": "2022-05-18T15:28:47.896Z"
   },
   {
    "duration": 513,
    "start_time": "2022-05-18T15:28:48.556Z"
   },
   {
    "duration": 16,
    "start_time": "2022-05-18T15:28:49.070Z"
   },
   {
    "duration": 4,
    "start_time": "2022-05-18T15:28:49.088Z"
   },
   {
    "duration": 10,
    "start_time": "2022-05-18T15:28:49.094Z"
   },
   {
    "duration": 65,
    "start_time": "2022-05-18T15:28:49.109Z"
   },
   {
    "duration": 16,
    "start_time": "2022-05-18T15:28:49.177Z"
   },
   {
    "duration": 14,
    "start_time": "2022-05-18T15:28:49.196Z"
   },
   {
    "duration": 34,
    "start_time": "2022-05-18T15:28:49.213Z"
   },
   {
    "duration": 35,
    "start_time": "2022-05-18T15:28:49.249Z"
   },
   {
    "duration": 12,
    "start_time": "2022-05-18T15:28:49.286Z"
   },
   {
    "duration": 44,
    "start_time": "2022-05-18T15:28:49.300Z"
   },
   {
    "duration": 603,
    "start_time": "2022-05-18T15:28:49.346Z"
   },
   {
    "duration": 21,
    "start_time": "2022-05-18T15:28:49.953Z"
   },
   {
    "duration": 27,
    "start_time": "2022-05-18T15:28:49.977Z"
   },
   {
    "duration": 8,
    "start_time": "2022-05-18T15:28:50.006Z"
   },
   {
    "duration": 19,
    "start_time": "2022-05-18T15:28:50.016Z"
   },
   {
    "duration": 116,
    "start_time": "2022-05-18T15:28:50.037Z"
   },
   {
    "duration": 90,
    "start_time": "2022-05-18T15:28:50.155Z"
   },
   {
    "duration": 84,
    "start_time": "2022-05-18T15:28:50.247Z"
   },
   {
    "duration": 50,
    "start_time": "2022-05-18T15:28:50.333Z"
   },
   {
    "duration": 34,
    "start_time": "2022-05-18T15:28:50.385Z"
   },
   {
    "duration": 114,
    "start_time": "2022-05-18T15:28:50.421Z"
   },
   {
    "duration": 128,
    "start_time": "2022-05-18T15:28:50.538Z"
   },
   {
    "duration": 88,
    "start_time": "2022-05-18T15:28:50.676Z"
   },
   {
    "duration": 5,
    "start_time": "2022-05-18T15:28:50.775Z"
   },
   {
    "duration": 30,
    "start_time": "2022-05-18T15:28:50.782Z"
   },
   {
    "duration": 5,
    "start_time": "2022-05-18T15:28:50.814Z"
   },
   {
    "duration": 13,
    "start_time": "2022-05-18T15:28:50.821Z"
   },
   {
    "duration": 146,
    "start_time": "2022-05-18T15:41:37.919Z"
   },
   {
    "duration": 16,
    "start_time": "2022-05-18T15:42:28.680Z"
   },
   {
    "duration": 16,
    "start_time": "2022-05-18T15:44:14.855Z"
   },
   {
    "duration": 882,
    "start_time": "2022-05-18T15:45:03.836Z"
   },
   {
    "duration": 18,
    "start_time": "2022-05-18T15:45:10.107Z"
   },
   {
    "duration": 510,
    "start_time": "2022-05-18T15:45:24.008Z"
   },
   {
    "duration": 1402,
    "start_time": "2022-05-18T15:45:57.846Z"
   },
   {
    "duration": 975,
    "start_time": "2022-05-18T15:45:59.250Z"
   },
   {
    "duration": 31,
    "start_time": "2022-05-18T15:46:00.233Z"
   },
   {
    "duration": 166,
    "start_time": "2022-05-18T15:46:00.266Z"
   },
   {
    "duration": 118,
    "start_time": "2022-05-18T15:46:00.434Z"
   },
   {
    "duration": 552,
    "start_time": "2022-05-18T15:46:00.553Z"
   },
   {
    "duration": 136,
    "start_time": "2022-05-18T15:46:01.106Z"
   },
   {
    "duration": 149,
    "start_time": "2022-05-18T15:46:01.244Z"
   },
   {
    "duration": 676,
    "start_time": "2022-05-18T15:46:01.395Z"
   },
   {
    "duration": 527,
    "start_time": "2022-05-18T15:46:02.075Z"
   },
   {
    "duration": 22,
    "start_time": "2022-05-18T15:46:02.604Z"
   },
   {
    "duration": 8,
    "start_time": "2022-05-18T15:46:02.628Z"
   },
   {
    "duration": 7,
    "start_time": "2022-05-18T15:46:02.639Z"
   },
   {
    "duration": 55,
    "start_time": "2022-05-18T15:46:02.649Z"
   },
   {
    "duration": 12,
    "start_time": "2022-05-18T15:46:02.706Z"
   },
   {
    "duration": 17,
    "start_time": "2022-05-18T15:46:02.720Z"
   },
   {
    "duration": 49,
    "start_time": "2022-05-18T15:46:02.739Z"
   },
   {
    "duration": 12,
    "start_time": "2022-05-18T15:46:02.791Z"
   },
   {
    "duration": 11,
    "start_time": "2022-05-18T15:46:02.804Z"
   },
   {
    "duration": 58,
    "start_time": "2022-05-18T15:46:02.817Z"
   },
   {
    "duration": 538,
    "start_time": "2022-05-18T15:46:02.878Z"
   },
   {
    "duration": 12,
    "start_time": "2022-05-18T15:46:03.418Z"
   },
   {
    "duration": 22,
    "start_time": "2022-05-18T15:46:03.432Z"
   },
   {
    "duration": 33,
    "start_time": "2022-05-18T15:46:03.456Z"
   },
   {
    "duration": 27,
    "start_time": "2022-05-18T15:46:03.491Z"
   },
   {
    "duration": 73,
    "start_time": "2022-05-18T15:46:03.520Z"
   },
   {
    "duration": 101,
    "start_time": "2022-05-18T15:46:03.595Z"
   },
   {
    "duration": 119,
    "start_time": "2022-05-18T15:46:03.699Z"
   },
   {
    "duration": 28,
    "start_time": "2022-05-18T15:46:03.821Z"
   },
   {
    "duration": 33,
    "start_time": "2022-05-18T15:46:03.850Z"
   },
   {
    "duration": 61,
    "start_time": "2022-05-18T15:46:03.885Z"
   },
   {
    "duration": 87,
    "start_time": "2022-05-18T15:46:03.948Z"
   },
   {
    "duration": 75,
    "start_time": "2022-05-18T15:46:04.037Z"
   },
   {
    "duration": 4,
    "start_time": "2022-05-18T15:46:04.114Z"
   },
   {
    "duration": 21,
    "start_time": "2022-05-18T15:46:04.120Z"
   },
   {
    "duration": 3,
    "start_time": "2022-05-18T15:46:04.143Z"
   },
   {
    "duration": 7,
    "start_time": "2022-05-18T15:46:04.148Z"
   },
   {
    "duration": 1093,
    "start_time": "2022-05-18T15:46:06.089Z"
   },
   {
    "duration": 5,
    "start_time": "2022-05-18T15:46:26.696Z"
   },
   {
    "duration": 35,
    "start_time": "2022-05-18T15:47:18.536Z"
   },
   {
    "duration": 3,
    "start_time": "2022-05-18T15:47:20.424Z"
   },
   {
    "duration": 14,
    "start_time": "2022-05-18T15:48:46.555Z"
   },
   {
    "duration": 731,
    "start_time": "2022-05-18T15:48:58.436Z"
   },
   {
    "duration": 1416,
    "start_time": "2022-05-18T15:50:19.156Z"
   },
   {
    "duration": 920,
    "start_time": "2022-05-18T15:50:20.574Z"
   },
   {
    "duration": 30,
    "start_time": "2022-05-18T15:50:21.496Z"
   },
   {
    "duration": 178,
    "start_time": "2022-05-18T15:50:21.528Z"
   },
   {
    "duration": 128,
    "start_time": "2022-05-18T15:50:21.709Z"
   },
   {
    "duration": 501,
    "start_time": "2022-05-18T15:50:21.839Z"
   },
   {
    "duration": 124,
    "start_time": "2022-05-18T15:50:22.342Z"
   },
   {
    "duration": 128,
    "start_time": "2022-05-18T15:50:22.468Z"
   },
   {
    "duration": 637,
    "start_time": "2022-05-18T15:50:22.598Z"
   },
   {
    "duration": 471,
    "start_time": "2022-05-18T15:50:23.237Z"
   },
   {
    "duration": 24,
    "start_time": "2022-05-18T15:50:23.710Z"
   },
   {
    "duration": 14,
    "start_time": "2022-05-18T15:50:23.736Z"
   },
   {
    "duration": 7,
    "start_time": "2022-05-18T15:50:23.751Z"
   },
   {
    "duration": 52,
    "start_time": "2022-05-18T15:50:23.761Z"
   },
   {
    "duration": 12,
    "start_time": "2022-05-18T15:50:23.814Z"
   },
   {
    "duration": 15,
    "start_time": "2022-05-18T15:50:23.827Z"
   },
   {
    "duration": 36,
    "start_time": "2022-05-18T15:50:23.844Z"
   },
   {
    "duration": 8,
    "start_time": "2022-05-18T15:50:23.882Z"
   },
   {
    "duration": 25,
    "start_time": "2022-05-18T15:50:23.892Z"
   },
   {
    "duration": 45,
    "start_time": "2022-05-18T15:50:23.919Z"
   },
   {
    "duration": 439,
    "start_time": "2022-05-18T15:50:23.966Z"
   },
   {
    "duration": 11,
    "start_time": "2022-05-18T15:50:24.407Z"
   },
   {
    "duration": 29,
    "start_time": "2022-05-18T15:50:24.420Z"
   },
   {
    "duration": 28,
    "start_time": "2022-05-18T15:50:24.451Z"
   },
   {
    "duration": 25,
    "start_time": "2022-05-18T15:50:24.481Z"
   },
   {
    "duration": 88,
    "start_time": "2022-05-18T15:50:24.508Z"
   },
   {
    "duration": 79,
    "start_time": "2022-05-18T15:50:24.598Z"
   },
   {
    "duration": 71,
    "start_time": "2022-05-18T15:50:24.678Z"
   },
   {
    "duration": 43,
    "start_time": "2022-05-18T15:50:24.750Z"
   },
   {
    "duration": 39,
    "start_time": "2022-05-18T15:50:24.795Z"
   },
   {
    "duration": 75,
    "start_time": "2022-05-18T15:50:24.836Z"
   },
   {
    "duration": 82,
    "start_time": "2022-05-18T15:50:24.913Z"
   },
   {
    "duration": 57,
    "start_time": "2022-05-18T15:50:24.996Z"
   },
   {
    "duration": 4,
    "start_time": "2022-05-18T15:50:25.055Z"
   },
   {
    "duration": 17,
    "start_time": "2022-05-18T15:50:25.074Z"
   },
   {
    "duration": 4,
    "start_time": "2022-05-18T15:50:25.092Z"
   },
   {
    "duration": 6,
    "start_time": "2022-05-18T15:50:25.098Z"
   },
   {
    "duration": 883,
    "start_time": "2022-05-18T15:50:25.105Z"
   },
   {
    "duration": 5,
    "start_time": "2022-05-18T15:50:25.989Z"
   },
   {
    "duration": 643,
    "start_time": "2022-05-18T15:50:25.995Z"
   },
   {
    "duration": 28,
    "start_time": "2022-05-18T15:50:29.316Z"
   },
   {
    "duration": 4,
    "start_time": "2022-05-18T15:53:17.364Z"
   },
   {
    "duration": 4,
    "start_time": "2022-05-18T15:53:31.393Z"
   },
   {
    "duration": 163,
    "start_time": "2022-05-18T15:56:07.216Z"
   },
   {
    "duration": 4,
    "start_time": "2022-05-18T15:56:29.972Z"
   },
   {
    "duration": 25,
    "start_time": "2022-05-18T15:57:02.977Z"
   },
   {
    "duration": 19,
    "start_time": "2022-05-18T15:57:29.541Z"
   },
   {
    "duration": 1376,
    "start_time": "2022-05-18T15:57:58.316Z"
   },
   {
    "duration": 907,
    "start_time": "2022-05-18T15:57:59.694Z"
   },
   {
    "duration": 49,
    "start_time": "2022-05-18T15:58:00.603Z"
   },
   {
    "duration": 243,
    "start_time": "2022-05-18T15:58:00.655Z"
   },
   {
    "duration": 141,
    "start_time": "2022-05-18T15:58:00.900Z"
   },
   {
    "duration": 505,
    "start_time": "2022-05-18T15:58:01.043Z"
   },
   {
    "duration": 138,
    "start_time": "2022-05-18T15:58:01.550Z"
   },
   {
    "duration": 131,
    "start_time": "2022-05-18T15:58:01.690Z"
   },
   {
    "duration": 576,
    "start_time": "2022-05-18T15:58:01.822Z"
   },
   {
    "duration": 523,
    "start_time": "2022-05-18T15:58:02.401Z"
   },
   {
    "duration": 30,
    "start_time": "2022-05-18T15:58:02.926Z"
   },
   {
    "duration": 26,
    "start_time": "2022-05-18T15:58:02.958Z"
   },
   {
    "duration": 21,
    "start_time": "2022-05-18T15:58:02.986Z"
   },
   {
    "duration": 63,
    "start_time": "2022-05-18T15:58:03.009Z"
   },
   {
    "duration": 14,
    "start_time": "2022-05-18T15:58:03.074Z"
   },
   {
    "duration": 17,
    "start_time": "2022-05-18T15:58:03.091Z"
   },
   {
    "duration": 23,
    "start_time": "2022-05-18T15:58:03.110Z"
   },
   {
    "duration": 9,
    "start_time": "2022-05-18T15:58:03.135Z"
   },
   {
    "duration": 31,
    "start_time": "2022-05-18T15:58:03.145Z"
   },
   {
    "duration": 34,
    "start_time": "2022-05-18T15:58:03.179Z"
   },
   {
    "duration": 451,
    "start_time": "2022-05-18T15:58:03.215Z"
   },
   {
    "duration": 17,
    "start_time": "2022-05-18T15:58:03.668Z"
   },
   {
    "duration": 33,
    "start_time": "2022-05-18T15:58:03.687Z"
   },
   {
    "duration": 10,
    "start_time": "2022-05-18T15:58:03.722Z"
   },
   {
    "duration": 41,
    "start_time": "2022-05-18T15:58:03.734Z"
   },
   {
    "duration": 78,
    "start_time": "2022-05-18T15:58:03.777Z"
   },
   {
    "duration": 82,
    "start_time": "2022-05-18T15:58:03.857Z"
   },
   {
    "duration": 108,
    "start_time": "2022-05-18T15:58:03.942Z"
   },
   {
    "duration": 41,
    "start_time": "2022-05-18T15:58:04.051Z"
   },
   {
    "duration": 26,
    "start_time": "2022-05-18T15:58:04.094Z"
   },
   {
    "duration": 113,
    "start_time": "2022-05-18T15:58:04.123Z"
   },
   {
    "duration": 78,
    "start_time": "2022-05-18T15:58:04.238Z"
   },
   {
    "duration": 67,
    "start_time": "2022-05-18T15:58:04.317Z"
   },
   {
    "duration": 4,
    "start_time": "2022-05-18T15:58:04.387Z"
   },
   {
    "duration": 19,
    "start_time": "2022-05-18T15:58:04.393Z"
   },
   {
    "duration": 4,
    "start_time": "2022-05-18T15:58:04.414Z"
   },
   {
    "duration": 4,
    "start_time": "2022-05-18T15:58:04.421Z"
   },
   {
    "duration": 1049,
    "start_time": "2022-05-18T15:58:04.427Z"
   },
   {
    "duration": 18,
    "start_time": "2022-05-18T15:58:54.093Z"
   },
   {
    "duration": 5,
    "start_time": "2022-05-18T15:59:01.634Z"
   },
   {
    "duration": 26,
    "start_time": "2022-05-18T15:59:14.912Z"
   },
   {
    "duration": 8,
    "start_time": "2022-05-18T15:59:16.693Z"
   },
   {
    "duration": 3,
    "start_time": "2022-05-18T15:59:18.402Z"
   },
   {
    "duration": 163,
    "start_time": "2022-05-18T15:59:19.155Z"
   },
   {
    "duration": 5,
    "start_time": "2022-05-18T15:59:19.932Z"
   },
   {
    "duration": 14,
    "start_time": "2022-05-18T15:59:21.053Z"
   },
   {
    "duration": 4,
    "start_time": "2022-05-18T15:59:56.205Z"
   },
   {
    "duration": 5,
    "start_time": "2022-05-18T15:59:58.713Z"
   },
   {
    "duration": 1605,
    "start_time": "2022-05-18T18:22:30.711Z"
   },
   {
    "duration": 3153,
    "start_time": "2022-05-18T18:22:32.319Z"
   },
   {
    "duration": 27,
    "start_time": "2022-05-18T18:22:35.474Z"
   },
   {
    "duration": 125,
    "start_time": "2022-05-18T18:22:35.503Z"
   },
   {
    "duration": 99,
    "start_time": "2022-05-18T18:22:35.629Z"
   },
   {
    "duration": 430,
    "start_time": "2022-05-18T18:22:35.729Z"
   },
   {
    "duration": 121,
    "start_time": "2022-05-18T18:22:36.161Z"
   },
   {
    "duration": 109,
    "start_time": "2022-05-18T18:22:36.284Z"
   },
   {
    "duration": 515,
    "start_time": "2022-05-18T18:22:36.395Z"
   },
   {
    "duration": 433,
    "start_time": "2022-05-18T18:22:36.913Z"
   },
   {
    "duration": 16,
    "start_time": "2022-05-18T18:22:37.348Z"
   },
   {
    "duration": 3,
    "start_time": "2022-05-18T18:22:37.366Z"
   },
   {
    "duration": 9,
    "start_time": "2022-05-18T18:22:37.371Z"
   },
   {
    "duration": 49,
    "start_time": "2022-05-18T18:22:37.381Z"
   },
   {
    "duration": 11,
    "start_time": "2022-05-18T18:22:37.433Z"
   },
   {
    "duration": 17,
    "start_time": "2022-05-18T18:22:37.446Z"
   },
   {
    "duration": 26,
    "start_time": "2022-05-18T18:22:37.465Z"
   },
   {
    "duration": 23,
    "start_time": "2022-05-18T18:22:37.492Z"
   },
   {
    "duration": 6,
    "start_time": "2022-05-18T18:22:37.517Z"
   },
   {
    "duration": 33,
    "start_time": "2022-05-18T18:22:37.524Z"
   },
   {
    "duration": 414,
    "start_time": "2022-05-18T18:22:37.558Z"
   },
   {
    "duration": 10,
    "start_time": "2022-05-18T18:22:37.974Z"
   },
   {
    "duration": 35,
    "start_time": "2022-05-18T18:22:37.986Z"
   },
   {
    "duration": 9,
    "start_time": "2022-05-18T18:22:38.023Z"
   },
   {
    "duration": 15,
    "start_time": "2022-05-18T18:22:38.033Z"
   },
   {
    "duration": 76,
    "start_time": "2022-05-18T18:22:38.049Z"
   },
   {
    "duration": 61,
    "start_time": "2022-05-18T18:22:38.127Z"
   },
   {
    "duration": 79,
    "start_time": "2022-05-18T18:22:38.190Z"
   },
   {
    "duration": 26,
    "start_time": "2022-05-18T18:22:38.270Z"
   },
   {
    "duration": 24,
    "start_time": "2022-05-18T18:22:38.298Z"
   },
   {
    "duration": 60,
    "start_time": "2022-05-18T18:22:38.323Z"
   },
   {
    "duration": 73,
    "start_time": "2022-05-18T18:22:38.385Z"
   },
   {
    "duration": 61,
    "start_time": "2022-05-18T18:22:38.460Z"
   },
   {
    "duration": 4,
    "start_time": "2022-05-18T18:22:38.522Z"
   },
   {
    "duration": 18,
    "start_time": "2022-05-18T18:22:38.528Z"
   },
   {
    "duration": 3,
    "start_time": "2022-05-18T18:22:38.547Z"
   },
   {
    "duration": 3,
    "start_time": "2022-05-18T18:22:38.552Z"
   },
   {
    "duration": 829,
    "start_time": "2022-05-18T18:22:38.557Z"
   },
   {
    "duration": 11,
    "start_time": "2022-05-18T18:22:39.388Z"
   },
   {
    "duration": 4,
    "start_time": "2022-05-18T18:22:39.411Z"
   },
   {
    "duration": 28,
    "start_time": "2022-05-18T18:22:43.113Z"
   },
   {
    "duration": 4,
    "start_time": "2022-05-18T18:22:43.745Z"
   },
   {
    "duration": 3,
    "start_time": "2022-05-18T18:22:44.713Z"
   },
   {
    "duration": 152,
    "start_time": "2022-05-18T18:22:46.785Z"
   },
   {
    "duration": 4,
    "start_time": "2022-05-18T18:22:47.257Z"
   },
   {
    "duration": 13,
    "start_time": "2022-05-18T18:22:47.746Z"
   },
   {
    "duration": 3,
    "start_time": "2022-05-18T18:22:51.216Z"
   },
   {
    "duration": 4,
    "start_time": "2022-05-18T18:22:52.833Z"
   },
   {
    "duration": 97548,
    "start_time": "2022-05-18T18:23:55.674Z"
   },
   {
    "duration": 4,
    "start_time": "2022-05-18T18:25:33.224Z"
   },
   {
    "duration": 302083,
    "start_time": "2022-05-18T18:25:44.437Z"
   },
   {
    "duration": 281100,
    "start_time": "2022-05-18T18:30:46.522Z"
   },
   {
    "duration": 9302,
    "start_time": "2022-05-18T18:35:27.623Z"
   },
   {
    "duration": 3,
    "start_time": "2022-05-18T18:35:36.926Z"
   },
   {
    "duration": 14219,
    "start_time": "2022-05-18T18:35:36.932Z"
   },
   {
    "duration": 38,
    "start_time": "2022-05-18T18:35:51.169Z"
   }
  ],
  "kernelspec": {
   "display_name": "Python 3 (ipykernel)",
   "language": "python",
   "name": "python3"
  },
  "language_info": {
   "codemirror_mode": {
    "name": "ipython",
    "version": 3
   },
   "file_extension": ".py",
   "mimetype": "text/x-python",
   "name": "python",
   "nbconvert_exporter": "python",
   "pygments_lexer": "ipython3",
   "version": "3.9.5"
  },
  "toc": {
   "base_numbering": 1,
   "nav_menu": {},
   "number_sections": true,
   "sideBar": true,
   "skip_h1_title": true,
   "title_cell": "Содержание",
   "title_sidebar": "Contents",
   "toc_cell": true,
   "toc_position": {
    "height": "calc(100% - 180px)",
    "left": "10px",
    "top": "150px",
    "width": "383.188px"
   },
   "toc_section_display": true,
   "toc_window_display": true
  }
 },
 "nbformat": 4,
 "nbformat_minor": 2
}
