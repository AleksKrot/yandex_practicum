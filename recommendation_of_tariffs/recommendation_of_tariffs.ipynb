{
 "cells": [
  {
   "cell_type": "markdown",
   "metadata": {},
   "source": [
    "# Рекомендация тарифов"
   ]
  },
  {
   "cell_type": "markdown",
   "metadata": {},
   "source": [
    "Оператор мобильной связи «Мегалайн» выяснил: многие клиенты пользуются архивными тарифами. Они хотят построить систему, способную проанализировать поведение клиентов и предложить пользователям новый тариф: «Смарт» или «Ультра»."
   ]
  },
  {
   "cell_type": "markdown",
   "metadata": {},
   "source": [
    "В вашем распоряжении данные о поведении клиентов, которые уже перешли на эти тарифы (из проекта курса «Статистический анализ данных»). Нужно построить модель для задачи классификации, которая выберет подходящий тариф. Предобработка данных не понадобится — вы её уже сделали.\n",
    "\n",
    "Постройте модель с максимально большим значением *accuracy*. Чтобы сдать проект успешно, нужно довести долю правильных ответов по крайней мере до 0.75. Проверьте *accuracy* на тестовой выборке самостоятельно."
   ]
  },
  {
   "cell_type": "markdown",
   "metadata": {},
   "source": [
    "# Описание данных"
   ]
  },
  {
   "cell_type": "markdown",
   "metadata": {},
   "source": [
    "Каждый объект в наборе данных — это информация о поведении одного пользователя за месяц. Известно:\n",
    "* `сalls` — количество звонков\n",
    "\n",
    "\n",
    "* `minutes` — суммарная длительность звонков в минутах\n",
    "\n",
    "\n",
    "* `messages` — количество sms-сообщений\n",
    "\n",
    "\n",
    "* `mb_used` — израсходованный интернет-трафик в Мб\n",
    "\n",
    "\n",
    "* `is_ultra` — каким тарифом пользовался в течение месяца («Ультра» — 1, «Смарт» — 0)"
   ]
  },
  {
   "cell_type": "markdown",
   "metadata": {
    "toc": true
   },
   "source": [
    "<h1>Содержание<span class=\"tocSkip\"></span></h1>\n",
    "<div class=\"toc\"><ul class=\"toc-item\"><li><span><a href=\"#Откройте-и-изучите-файл\" data-toc-modified-id=\"Откройте-и-изучите-файл-1\"><span class=\"toc-item-num\">1&nbsp;&nbsp;</span>Откройте и изучите файл</a></span><ul class=\"toc-item\"><li><span><a href=\"#Импорт-используемых-библиотек\" data-toc-modified-id=\"Импорт-используемых-библиотек-1.1\"><span class=\"toc-item-num\">1.1&nbsp;&nbsp;</span>Импорт используемых библиотек</a></span></li><li><span><a href=\"#Чтение-файла-с-данными\" data-toc-modified-id=\"Чтение-файла-с-данными-1.2\"><span class=\"toc-item-num\">1.2&nbsp;&nbsp;</span>Чтение файла с данными</a></span></li><li><span><a href=\"#Изучение-общей-информации\" data-toc-modified-id=\"Изучение-общей-информации-1.3\"><span class=\"toc-item-num\">1.3&nbsp;&nbsp;</span>Изучение общей информации</a></span></li></ul></li><li><span><a href=\"#Разбейте-данные-на-выборки\" data-toc-modified-id=\"Разбейте-данные-на-выборки-2\"><span class=\"toc-item-num\">2&nbsp;&nbsp;</span>Разбейте данные на выборки</a></span><ul class=\"toc-item\"><li><span><a href=\"#Выделим-валидационную-выборку\" data-toc-modified-id=\"Выделим-валидационную-выборку-2.1\"><span class=\"toc-item-num\">2.1&nbsp;&nbsp;</span>Выделим валидационную выборку</a></span></li><li><span><a href=\"#Разделение-данных-на-обучающую-и-тестовую-выборки\" data-toc-modified-id=\"Разделение-данных-на-обучающую-и-тестовую-выборки-2.2\"><span class=\"toc-item-num\">2.2&nbsp;&nbsp;</span>Разделение данных на обучающую и тестовую выборки</a></span></li><li><span><a href=\"#Проверка-размера-выборок\" data-toc-modified-id=\"Проверка-размера-выборок-2.3\"><span class=\"toc-item-num\">2.3&nbsp;&nbsp;</span>Проверка размера выборок</a></span></li></ul></li><li><span><a href=\"#Исследуйте-модели\" data-toc-modified-id=\"Исследуйте-модели-3\"><span class=\"toc-item-num\">3&nbsp;&nbsp;</span>Исследуйте модели</a></span><ul class=\"toc-item\"><li><span><a href=\"#Создание-переменных-для-признаков-и-целевого-признака\" data-toc-modified-id=\"Создание-переменных-для-признаков-и-целевого-признака-3.1\"><span class=\"toc-item-num\">3.1&nbsp;&nbsp;</span>Создание переменных для признаков и целевого признака</a></span></li><li><span><a href=\"#Алгоритм-решающего-дерева\" data-toc-modified-id=\"Алгоритм-решающего-дерева-3.2\"><span class=\"toc-item-num\">3.2&nbsp;&nbsp;</span>Алгоритм решающего дерева</a></span></li><li><span><a href=\"#Алгоритм-случайного-леса\" data-toc-modified-id=\"Алгоритм-случайного-леса-3.3\"><span class=\"toc-item-num\">3.3&nbsp;&nbsp;</span>Алгоритм случайного леса</a></span></li><li><span><a href=\"#Алгоритм-логистической-регрессии\" data-toc-modified-id=\"Алгоритм-логистической-регрессии-3.4\"><span class=\"toc-item-num\">3.4&nbsp;&nbsp;</span>Алгоритм логистической регрессии</a></span></li><li><span><a href=\"#Выводы\" data-toc-modified-id=\"Выводы-3.5\"><span class=\"toc-item-num\">3.5&nbsp;&nbsp;</span>Выводы</a></span></li></ul></li><li><span><a href=\"#Проверьте-модель-на-тестовой-выборке\" data-toc-modified-id=\"Проверьте-модель-на-тестовой-выборке-4\"><span class=\"toc-item-num\">4&nbsp;&nbsp;</span>Проверьте модель на тестовой выборке</a></span></li><li><span><a href=\"#(бонус)-Проверьте-модели-на-адекватность\" data-toc-modified-id=\"(бонус)-Проверьте-модели-на-адекватность-5\"><span class=\"toc-item-num\">5&nbsp;&nbsp;</span>(бонус) Проверьте модели на адекватность</a></span></li><li><span><a href=\"#Выводы\" data-toc-modified-id=\"Выводы-6\"><span class=\"toc-item-num\">6&nbsp;&nbsp;</span>Выводы</a></span></li></ul></div>"
   ]
  },
  {
   "cell_type": "markdown",
   "metadata": {},
   "source": [
    "## Откройте и изучите файл"
   ]
  },
  {
   "cell_type": "markdown",
   "metadata": {},
   "source": [
    "### Импорт используемых библиотек"
   ]
  },
  {
   "cell_type": "code",
   "execution_count": 1,
   "metadata": {},
   "outputs": [],
   "source": [
    "# импорт библиотеки pandas\n",
    "import pandas as pd\n",
    "\n",
    "# импорт функции train_test_split из библиотеки sklearn\n",
    "from sklearn.model_selection import train_test_split \n",
    "\n",
    "# импорт алгоритма решающего дерева из библиотеки sklearn\n",
    "from sklearn.tree import DecisionTreeClassifier\n",
    "\n",
    "# импорт алгоритма случайного леса из библиотеки sklearn\n",
    "from sklearn.ensemble import RandomForestClassifier\n",
    "\n",
    "# импорт алгоритма логистической регрессии из библиотеки sklearn\n",
    "from sklearn.linear_model import LogisticRegression\n",
    "\n",
    "# импорт функции расчёта accuracy из библиотеки sklearn\n",
    "from sklearn.metrics import accuracy_score\n",
    "\n",
    "# импорти функции расчёта MSE из библиотеки sklearn\n",
    "from sklearn.metrics import mean_squared_error"
   ]
  },
  {
   "cell_type": "markdown",
   "metadata": {},
   "source": [
    "### Чтение файла с данными"
   ]
  },
  {
   "cell_type": "code",
   "execution_count": 2,
   "metadata": {},
   "outputs": [],
   "source": [
    "# чтение файла с данными\n",
    "df = pd.read_csv('/datasets/users_behavior.csv')"
   ]
  },
  {
   "cell_type": "markdown",
   "metadata": {},
   "source": [
    "### Изучение общей информации"
   ]
  },
  {
   "cell_type": "code",
   "execution_count": 3,
   "metadata": {},
   "outputs": [
    {
     "data": {
      "text/html": [
       "<div>\n",
       "<style scoped>\n",
       "    .dataframe tbody tr th:only-of-type {\n",
       "        vertical-align: middle;\n",
       "    }\n",
       "\n",
       "    .dataframe tbody tr th {\n",
       "        vertical-align: top;\n",
       "    }\n",
       "\n",
       "    .dataframe thead th {\n",
       "        text-align: right;\n",
       "    }\n",
       "</style>\n",
       "<table border=\"1\" class=\"dataframe\">\n",
       "  <thead>\n",
       "    <tr style=\"text-align: right;\">\n",
       "      <th></th>\n",
       "      <th>calls</th>\n",
       "      <th>minutes</th>\n",
       "      <th>messages</th>\n",
       "      <th>mb_used</th>\n",
       "      <th>is_ultra</th>\n",
       "    </tr>\n",
       "  </thead>\n",
       "  <tbody>\n",
       "    <tr>\n",
       "      <td>0</td>\n",
       "      <td>40.0</td>\n",
       "      <td>311.90</td>\n",
       "      <td>83.0</td>\n",
       "      <td>19915.42</td>\n",
       "      <td>0</td>\n",
       "    </tr>\n",
       "    <tr>\n",
       "      <td>1</td>\n",
       "      <td>85.0</td>\n",
       "      <td>516.75</td>\n",
       "      <td>56.0</td>\n",
       "      <td>22696.96</td>\n",
       "      <td>0</td>\n",
       "    </tr>\n",
       "    <tr>\n",
       "      <td>2</td>\n",
       "      <td>77.0</td>\n",
       "      <td>467.66</td>\n",
       "      <td>86.0</td>\n",
       "      <td>21060.45</td>\n",
       "      <td>0</td>\n",
       "    </tr>\n",
       "    <tr>\n",
       "      <td>3</td>\n",
       "      <td>106.0</td>\n",
       "      <td>745.53</td>\n",
       "      <td>81.0</td>\n",
       "      <td>8437.39</td>\n",
       "      <td>1</td>\n",
       "    </tr>\n",
       "    <tr>\n",
       "      <td>4</td>\n",
       "      <td>66.0</td>\n",
       "      <td>418.74</td>\n",
       "      <td>1.0</td>\n",
       "      <td>14502.75</td>\n",
       "      <td>0</td>\n",
       "    </tr>\n",
       "    <tr>\n",
       "      <td>5</td>\n",
       "      <td>58.0</td>\n",
       "      <td>344.56</td>\n",
       "      <td>21.0</td>\n",
       "      <td>15823.37</td>\n",
       "      <td>0</td>\n",
       "    </tr>\n",
       "    <tr>\n",
       "      <td>6</td>\n",
       "      <td>57.0</td>\n",
       "      <td>431.64</td>\n",
       "      <td>20.0</td>\n",
       "      <td>3738.90</td>\n",
       "      <td>1</td>\n",
       "    </tr>\n",
       "    <tr>\n",
       "      <td>7</td>\n",
       "      <td>15.0</td>\n",
       "      <td>132.40</td>\n",
       "      <td>6.0</td>\n",
       "      <td>21911.60</td>\n",
       "      <td>0</td>\n",
       "    </tr>\n",
       "    <tr>\n",
       "      <td>8</td>\n",
       "      <td>7.0</td>\n",
       "      <td>43.39</td>\n",
       "      <td>3.0</td>\n",
       "      <td>2538.67</td>\n",
       "      <td>1</td>\n",
       "    </tr>\n",
       "    <tr>\n",
       "      <td>9</td>\n",
       "      <td>90.0</td>\n",
       "      <td>665.41</td>\n",
       "      <td>38.0</td>\n",
       "      <td>17358.61</td>\n",
       "      <td>0</td>\n",
       "    </tr>\n",
       "  </tbody>\n",
       "</table>\n",
       "</div>"
      ],
      "text/plain": [
       "   calls  minutes  messages   mb_used  is_ultra\n",
       "0   40.0   311.90      83.0  19915.42         0\n",
       "1   85.0   516.75      56.0  22696.96         0\n",
       "2   77.0   467.66      86.0  21060.45         0\n",
       "3  106.0   745.53      81.0   8437.39         1\n",
       "4   66.0   418.74       1.0  14502.75         0\n",
       "5   58.0   344.56      21.0  15823.37         0\n",
       "6   57.0   431.64      20.0   3738.90         1\n",
       "7   15.0   132.40       6.0  21911.60         0\n",
       "8    7.0    43.39       3.0   2538.67         1\n",
       "9   90.0   665.41      38.0  17358.61         0"
      ]
     },
     "execution_count": 3,
     "metadata": {},
     "output_type": "execute_result"
    }
   ],
   "source": [
    "# получение первых 10 строк датасета\n",
    "df.head(10)"
   ]
  },
  {
   "cell_type": "code",
   "execution_count": 4,
   "metadata": {},
   "outputs": [
    {
     "name": "stdout",
     "output_type": "stream",
     "text": [
      "<class 'pandas.core.frame.DataFrame'>\n",
      "RangeIndex: 3214 entries, 0 to 3213\n",
      "Data columns (total 5 columns):\n",
      "calls       3214 non-null float64\n",
      "minutes     3214 non-null float64\n",
      "messages    3214 non-null float64\n",
      "mb_used     3214 non-null float64\n",
      "is_ultra    3214 non-null int64\n",
      "dtypes: float64(4), int64(1)\n",
      "memory usage: 125.7 KB\n"
     ]
    }
   ],
   "source": [
    "# получение общей информации о данных датасета\n",
    "df.info()"
   ]
  },
  {
   "cell_type": "code",
   "execution_count": 5,
   "metadata": {},
   "outputs": [
    {
     "data": {
      "text/html": [
       "<div>\n",
       "<style scoped>\n",
       "    .dataframe tbody tr th:only-of-type {\n",
       "        vertical-align: middle;\n",
       "    }\n",
       "\n",
       "    .dataframe tbody tr th {\n",
       "        vertical-align: top;\n",
       "    }\n",
       "\n",
       "    .dataframe thead th {\n",
       "        text-align: right;\n",
       "    }\n",
       "</style>\n",
       "<table border=\"1\" class=\"dataframe\">\n",
       "  <thead>\n",
       "    <tr style=\"text-align: right;\">\n",
       "      <th></th>\n",
       "      <th>calls</th>\n",
       "      <th>minutes</th>\n",
       "      <th>messages</th>\n",
       "      <th>mb_used</th>\n",
       "      <th>is_ultra</th>\n",
       "    </tr>\n",
       "  </thead>\n",
       "  <tbody>\n",
       "    <tr>\n",
       "      <td>count</td>\n",
       "      <td>3214.000000</td>\n",
       "      <td>3214.000000</td>\n",
       "      <td>3214.000000</td>\n",
       "      <td>3214.000000</td>\n",
       "      <td>3214.000000</td>\n",
       "    </tr>\n",
       "    <tr>\n",
       "      <td>mean</td>\n",
       "      <td>63.038892</td>\n",
       "      <td>438.208787</td>\n",
       "      <td>38.281269</td>\n",
       "      <td>17207.673836</td>\n",
       "      <td>0.306472</td>\n",
       "    </tr>\n",
       "    <tr>\n",
       "      <td>std</td>\n",
       "      <td>33.236368</td>\n",
       "      <td>234.569872</td>\n",
       "      <td>36.148326</td>\n",
       "      <td>7570.968246</td>\n",
       "      <td>0.461100</td>\n",
       "    </tr>\n",
       "    <tr>\n",
       "      <td>min</td>\n",
       "      <td>0.000000</td>\n",
       "      <td>0.000000</td>\n",
       "      <td>0.000000</td>\n",
       "      <td>0.000000</td>\n",
       "      <td>0.000000</td>\n",
       "    </tr>\n",
       "    <tr>\n",
       "      <td>25%</td>\n",
       "      <td>40.000000</td>\n",
       "      <td>274.575000</td>\n",
       "      <td>9.000000</td>\n",
       "      <td>12491.902500</td>\n",
       "      <td>0.000000</td>\n",
       "    </tr>\n",
       "    <tr>\n",
       "      <td>50%</td>\n",
       "      <td>62.000000</td>\n",
       "      <td>430.600000</td>\n",
       "      <td>30.000000</td>\n",
       "      <td>16943.235000</td>\n",
       "      <td>0.000000</td>\n",
       "    </tr>\n",
       "    <tr>\n",
       "      <td>75%</td>\n",
       "      <td>82.000000</td>\n",
       "      <td>571.927500</td>\n",
       "      <td>57.000000</td>\n",
       "      <td>21424.700000</td>\n",
       "      <td>1.000000</td>\n",
       "    </tr>\n",
       "    <tr>\n",
       "      <td>max</td>\n",
       "      <td>244.000000</td>\n",
       "      <td>1632.060000</td>\n",
       "      <td>224.000000</td>\n",
       "      <td>49745.730000</td>\n",
       "      <td>1.000000</td>\n",
       "    </tr>\n",
       "  </tbody>\n",
       "</table>\n",
       "</div>"
      ],
      "text/plain": [
       "             calls      minutes     messages       mb_used     is_ultra\n",
       "count  3214.000000  3214.000000  3214.000000   3214.000000  3214.000000\n",
       "mean     63.038892   438.208787    38.281269  17207.673836     0.306472\n",
       "std      33.236368   234.569872    36.148326   7570.968246     0.461100\n",
       "min       0.000000     0.000000     0.000000      0.000000     0.000000\n",
       "25%      40.000000   274.575000     9.000000  12491.902500     0.000000\n",
       "50%      62.000000   430.600000    30.000000  16943.235000     0.000000\n",
       "75%      82.000000   571.927500    57.000000  21424.700000     1.000000\n",
       "max     244.000000  1632.060000   224.000000  49745.730000     1.000000"
      ]
     },
     "execution_count": 5,
     "metadata": {},
     "output_type": "execute_result"
    }
   ],
   "source": [
    "# получение описательной статистики данных датасета\n",
    "df.describe()"
   ]
  },
  {
   "cell_type": "markdown",
   "metadata": {},
   "source": [
    "Количество звонков и сообщений может быть только целым, поэтому сменим тип данных этих столбцов."
   ]
  },
  {
   "cell_type": "code",
   "execution_count": 6,
   "metadata": {},
   "outputs": [],
   "source": [
    "# изменение типа данных\n",
    "df['calls']=df['calls'].astype('int')\n",
    "df['messages']=df['messages'].astype('int')"
   ]
  },
  {
   "cell_type": "code",
   "execution_count": 7,
   "metadata": {},
   "outputs": [
    {
     "name": "stdout",
     "output_type": "stream",
     "text": [
      "<class 'pandas.core.frame.DataFrame'>\n",
      "RangeIndex: 3214 entries, 0 to 3213\n",
      "Data columns (total 5 columns):\n",
      "calls       3214 non-null int64\n",
      "minutes     3214 non-null float64\n",
      "messages    3214 non-null int64\n",
      "mb_used     3214 non-null float64\n",
      "is_ultra    3214 non-null int64\n",
      "dtypes: float64(2), int64(3)\n",
      "memory usage: 125.7 KB\n"
     ]
    }
   ],
   "source": [
    "# получение общей информации о данных датасета\n",
    "df.info()"
   ]
  },
  {
   "cell_type": "markdown",
   "metadata": {},
   "source": [
    "Каждый объект в наборе данных — это информация о поведении одного пользователя за месяц. Всего таких клиентов 3214.\n",
    "\n",
    "Предобработка данных уже была проведена, что упрощает задачу, однако, я все же сменила для удобства тип данных о количестве звонков и сообщений на целый."
   ]
  },
  {
   "cell_type": "markdown",
   "metadata": {},
   "source": [
    "## Разбейте данные на выборки"
   ]
  },
  {
   "cell_type": "markdown",
   "metadata": {},
   "source": [
    "Спрятанной тестовой выборки нет. Значит, данные нужно разбить на три части: обучающую, валидационную и тестовую. Размеры тестового и валидационного наборов обычно равны. Исходные данные разбивают в соотношении 3:1:1.\n",
    "Разобъем исходные данные на:\n",
    "- обучающую выборку (60%)\n",
    "- тестовую выборку (20%)\n",
    "- валидационную выборку (20%)"
   ]
  },
  {
   "cell_type": "markdown",
   "metadata": {},
   "source": [
    "### Выделим валидационную выборку"
   ]
  },
  {
   "cell_type": "code",
   "execution_count": 8,
   "metadata": {},
   "outputs": [],
   "source": [
    "# выделение валидационной выборки\n",
    "df_total, df_valid = train_test_split(df, test_size=0.2, random_state=12345)"
   ]
  },
  {
   "cell_type": "markdown",
   "metadata": {},
   "source": [
    "### Разделение данных на обучающую и тестовую выборки"
   ]
  },
  {
   "cell_type": "code",
   "execution_count": 9,
   "metadata": {},
   "outputs": [],
   "source": [
    "# разделите данные на обучающую и тестовую выборки\n",
    "df_train, df_test = train_test_split(df_total, test_size=0.25, random_state=12345)"
   ]
  },
  {
   "cell_type": "markdown",
   "metadata": {},
   "source": [
    "### Проверка размера выборок"
   ]
  },
  {
   "cell_type": "code",
   "execution_count": 10,
   "metadata": {},
   "outputs": [
    {
     "data": {
      "text/plain": [
       "(1928, 643, 643)"
      ]
     },
     "execution_count": 10,
     "metadata": {},
     "output_type": "execute_result"
    }
   ],
   "source": [
    "# проверка размера выборок\n",
    "df_train.shape[0], df_test.shape[0], df_valid.shape[0]"
   ]
  },
  {
   "cell_type": "markdown",
   "metadata": {},
   "source": [
    "Разделение на три выборки прошло успешно."
   ]
  },
  {
   "cell_type": "markdown",
   "metadata": {},
   "source": [
    "## Исследуйте модели"
   ]
  },
  {
   "cell_type": "markdown",
   "metadata": {},
   "source": [
    "### Создание переменных для признаков и целевого признака"
   ]
  },
  {
   "cell_type": "markdown",
   "metadata": {},
   "source": [
    "Целевым признаком является тариф, а все остальное относится к признакам."
   ]
  },
  {
   "cell_type": "code",
   "execution_count": 11,
   "metadata": {},
   "outputs": [],
   "source": [
    "# создание переменные для признаков и целевого признака\n",
    "features_train = df_train.drop(['is_ultra'], axis=1)\n",
    "target_train = df_train['is_ultra']\n",
    "features_test = df_test.drop(['is_ultra'], axis=1)\n",
    "target_test = df_test['is_ultra']\n",
    "features_valid = df_valid.drop(['is_ultra'], axis=1)\n",
    "target_valid = df_valid['is_ultra']"
   ]
  },
  {
   "cell_type": "markdown",
   "metadata": {},
   "source": [
    "### Алгоритм решающего дерева"
   ]
  },
  {
   "cell_type": "code",
   "execution_count": 45,
   "metadata": {},
   "outputs": [
    {
     "name": "stdout",
     "output_type": "stream",
     "text": [
      "depth = 1 : : 0.7481\n",
      "depth = 2 : : 0.7838\n",
      "depth = 3 : : 0.7869\n",
      "depth = 4 : : 0.7869\n",
      "depth = 5 : : 0.7885\n",
      "depth = 6 : : 0.7792\n",
      "depth = 7 : : 0.7885\n",
      "depth = 8 : : 0.7807\n",
      "depth = 9 : : 0.7776\n",
      "depth = 10 : : 0.7714\n",
      "depth = 11 : : 0.7652\n",
      "depth = 12 : : 0.7667\n",
      "depth = 13 : : 0.7496\n",
      "depth = 14 : : 0.7543\n",
      "depth = 15 : : 0.7418\n",
      "depth = 16 : : 0.7434\n",
      "depth = 17 : : 0.7449\n",
      "depth = 18 : : 0.7434\n",
      "depth = 19 : : 0.7278\n",
      "depth = 20 : : 0.7418\n",
      "best_depth = 5 accuracy: 0.7885\n"
     ]
    }
   ],
   "source": [
    "# цикл для depth от 1 до 21\n",
    "best_model_DTC = None\n",
    "best_depth = 0\n",
    "best_accuracy_DTC = 0\n",
    "for depth in range(1, 21):\n",
    "    model_DTC = DecisionTreeClassifier(random_state=12345, max_depth=depth)\n",
    "    model_DTC.fit(features_train, target_train)\n",
    "    predictions_valid = model_DTC.predict(features_valid)\n",
    "    accuracy_DTC = accuracy_score(target_valid, predictions_valid)\n",
    "    if best_accuracy_DTC < accuracy_DTC:\n",
    "        best_model_DTC = model_DTC\n",
    "        best_depth = depth\n",
    "        best_accuracy_DTC = accuracy_DTC\n",
    "    print(\"depth =\", depth, \": \", end='')\n",
    "    print(': {:.4f}'.format(accuracy_DTC))\n",
    "print('best_depth =',best_depth, 'accuracy'': {:.4f}'.format(best_accuracy_DTC))"
   ]
  },
  {
   "cell_type": "markdown",
   "metadata": {},
   "source": [
    "### Алгоритм случайного леса"
   ]
  },
  {
   "cell_type": "code",
   "execution_count": 46,
   "metadata": {},
   "outputs": [
    {
     "name": "stdout",
     "output_type": "stream",
     "text": [
      "est = 1 : : 0.7341\n",
      "est = 2 : : 0.7543\n",
      "est = 3 : : 0.7729\n",
      "est = 4 : : 0.7667\n",
      "est = 5 : : 0.7807\n",
      "est = 6 : : 0.7745\n",
      "est = 7 : : 0.7729\n",
      "est = 8 : : 0.7760\n",
      "est = 9 : : 0.7792\n",
      "est = 10 : : 0.7869\n",
      "est = 11 : : 0.7823\n",
      "est = 12 : : 0.7823\n",
      "est = 13 : : 0.7916\n",
      "est = 14 : : 0.7885\n",
      "est = 15 : : 0.7900\n",
      "est = 16 : : 0.7838\n",
      "est = 17 : : 0.7838\n",
      "est = 18 : : 0.7854\n",
      "est = 19 : : 0.7838\n",
      "est = 20 : : 0.7792\n",
      "best_est = 13 accuracy: 0.7916\n"
     ]
    }
   ],
   "source": [
    "# цикл для est от 1 до 21\n",
    "best_model_RFC = None\n",
    "best_est = 0\n",
    "best_accuracy_RFC = 0\n",
    "for est in range(1, 21):\n",
    "    model_RFC = RandomForestClassifier(random_state=12345, n_estimators=est)\n",
    "    model_RFC.fit(features_train, target_train)\n",
    "    predictions_valid = model_RFC.predict(features_valid)\n",
    "    accuracy_RFC = accuracy_score(target_valid, predictions_valid)\n",
    "    if best_accuracy_RFC < accuracy_RFC:\n",
    "        best_model_RFC = model_RFC\n",
    "        best_est = est\n",
    "        best_accuracy_RFC = accuracy_RFC\n",
    "    print(\"est =\", est, \": \", end='')\n",
    "    print(': {:.4f}'.format(accuracy_RFC))\n",
    "print('best_est =',best_est, 'accuracy'': {:.4f}'.format(best_accuracy_RFC))"
   ]
  },
  {
   "cell_type": "markdown",
   "metadata": {},
   "source": [
    "### Алгоритм логистической регрессии"
   ]
  },
  {
   "cell_type": "code",
   "execution_count": 47,
   "metadata": {
    "scrolled": true
   },
   "outputs": [
    {
     "name": "stderr",
     "output_type": "stream",
     "text": [
      "/opt/conda/lib/python3.7/site-packages/sklearn/linear_model/logistic.py:432: FutureWarning: Default solver will be changed to 'lbfgs' in 0.22. Specify a solver to silence this warning.\n",
      "  FutureWarning)\n",
      "/opt/conda/lib/python3.7/site-packages/sklearn/svm/base.py:929: ConvergenceWarning: Liblinear failed to converge, increase the number of iterations.\n",
      "  \"the number of iterations.\", ConvergenceWarning)\n",
      "/opt/conda/lib/python3.7/site-packages/sklearn/linear_model/logistic.py:432: FutureWarning: Default solver will be changed to 'lbfgs' in 0.22. Specify a solver to silence this warning.\n",
      "  FutureWarning)\n",
      "/opt/conda/lib/python3.7/site-packages/sklearn/svm/base.py:929: ConvergenceWarning: Liblinear failed to converge, increase the number of iterations.\n",
      "  \"the number of iterations.\", ConvergenceWarning)\n",
      "/opt/conda/lib/python3.7/site-packages/sklearn/linear_model/logistic.py:432: FutureWarning: Default solver will be changed to 'lbfgs' in 0.22. Specify a solver to silence this warning.\n",
      "  FutureWarning)\n",
      "/opt/conda/lib/python3.7/site-packages/sklearn/svm/base.py:929: ConvergenceWarning: Liblinear failed to converge, increase the number of iterations.\n",
      "  \"the number of iterations.\", ConvergenceWarning)\n",
      "/opt/conda/lib/python3.7/site-packages/sklearn/linear_model/logistic.py:432: FutureWarning: Default solver will be changed to 'lbfgs' in 0.22. Specify a solver to silence this warning.\n",
      "  FutureWarning)\n",
      "/opt/conda/lib/python3.7/site-packages/sklearn/svm/base.py:929: ConvergenceWarning: Liblinear failed to converge, increase the number of iterations.\n",
      "  \"the number of iterations.\", ConvergenceWarning)\n",
      "/opt/conda/lib/python3.7/site-packages/sklearn/linear_model/logistic.py:432: FutureWarning: Default solver will be changed to 'lbfgs' in 0.22. Specify a solver to silence this warning.\n",
      "  FutureWarning)\n",
      "/opt/conda/lib/python3.7/site-packages/sklearn/svm/base.py:929: ConvergenceWarning: Liblinear failed to converge, increase the number of iterations.\n",
      "  \"the number of iterations.\", ConvergenceWarning)\n",
      "/opt/conda/lib/python3.7/site-packages/sklearn/linear_model/logistic.py:432: FutureWarning: Default solver will be changed to 'lbfgs' in 0.22. Specify a solver to silence this warning.\n",
      "  FutureWarning)\n",
      "/opt/conda/lib/python3.7/site-packages/sklearn/svm/base.py:929: ConvergenceWarning: Liblinear failed to converge, increase the number of iterations.\n",
      "  \"the number of iterations.\", ConvergenceWarning)\n",
      "/opt/conda/lib/python3.7/site-packages/sklearn/linear_model/logistic.py:432: FutureWarning: Default solver will be changed to 'lbfgs' in 0.22. Specify a solver to silence this warning.\n",
      "  FutureWarning)\n",
      "/opt/conda/lib/python3.7/site-packages/sklearn/svm/base.py:929: ConvergenceWarning: Liblinear failed to converge, increase the number of iterations.\n",
      "  \"the number of iterations.\", ConvergenceWarning)\n",
      "/opt/conda/lib/python3.7/site-packages/sklearn/linear_model/logistic.py:432: FutureWarning: Default solver will be changed to 'lbfgs' in 0.22. Specify a solver to silence this warning.\n",
      "  FutureWarning)\n",
      "/opt/conda/lib/python3.7/site-packages/sklearn/svm/base.py:929: ConvergenceWarning: Liblinear failed to converge, increase the number of iterations.\n",
      "  \"the number of iterations.\", ConvergenceWarning)\n",
      "/opt/conda/lib/python3.7/site-packages/sklearn/linear_model/logistic.py:432: FutureWarning: Default solver will be changed to 'lbfgs' in 0.22. Specify a solver to silence this warning.\n",
      "  FutureWarning)\n",
      "/opt/conda/lib/python3.7/site-packages/sklearn/svm/base.py:929: ConvergenceWarning: Liblinear failed to converge, increase the number of iterations.\n",
      "  \"the number of iterations.\", ConvergenceWarning)\n",
      "/opt/conda/lib/python3.7/site-packages/sklearn/linear_model/logistic.py:432: FutureWarning: Default solver will be changed to 'lbfgs' in 0.22. Specify a solver to silence this warning.\n",
      "  FutureWarning)\n",
      "/opt/conda/lib/python3.7/site-packages/sklearn/svm/base.py:929: ConvergenceWarning: Liblinear failed to converge, increase the number of iterations.\n",
      "  \"the number of iterations.\", ConvergenceWarning)\n",
      "/opt/conda/lib/python3.7/site-packages/sklearn/linear_model/logistic.py:432: FutureWarning: Default solver will be changed to 'lbfgs' in 0.22. Specify a solver to silence this warning.\n",
      "  FutureWarning)\n",
      "/opt/conda/lib/python3.7/site-packages/sklearn/svm/base.py:929: ConvergenceWarning: Liblinear failed to converge, increase the number of iterations.\n",
      "  \"the number of iterations.\", ConvergenceWarning)\n",
      "/opt/conda/lib/python3.7/site-packages/sklearn/linear_model/logistic.py:432: FutureWarning: Default solver will be changed to 'lbfgs' in 0.22. Specify a solver to silence this warning.\n",
      "  FutureWarning)\n",
      "/opt/conda/lib/python3.7/site-packages/sklearn/svm/base.py:929: ConvergenceWarning: Liblinear failed to converge, increase the number of iterations.\n",
      "  \"the number of iterations.\", ConvergenceWarning)\n",
      "/opt/conda/lib/python3.7/site-packages/sklearn/linear_model/logistic.py:432: FutureWarning: Default solver will be changed to 'lbfgs' in 0.22. Specify a solver to silence this warning.\n",
      "  FutureWarning)\n",
      "/opt/conda/lib/python3.7/site-packages/sklearn/svm/base.py:929: ConvergenceWarning: Liblinear failed to converge, increase the number of iterations.\n",
      "  \"the number of iterations.\", ConvergenceWarning)\n",
      "/opt/conda/lib/python3.7/site-packages/sklearn/linear_model/logistic.py:432: FutureWarning: Default solver will be changed to 'lbfgs' in 0.22. Specify a solver to silence this warning.\n",
      "  FutureWarning)\n",
      "/opt/conda/lib/python3.7/site-packages/sklearn/linear_model/logistic.py:432: FutureWarning: Default solver will be changed to 'lbfgs' in 0.22. Specify a solver to silence this warning.\n",
      "  FutureWarning)\n",
      "/opt/conda/lib/python3.7/site-packages/sklearn/linear_model/logistic.py:432: FutureWarning: Default solver will be changed to 'lbfgs' in 0.22. Specify a solver to silence this warning.\n",
      "  FutureWarning)\n",
      "/opt/conda/lib/python3.7/site-packages/sklearn/linear_model/logistic.py:432: FutureWarning: Default solver will be changed to 'lbfgs' in 0.22. Specify a solver to silence this warning.\n",
      "  FutureWarning)\n",
      "/opt/conda/lib/python3.7/site-packages/sklearn/linear_model/logistic.py:432: FutureWarning: Default solver will be changed to 'lbfgs' in 0.22. Specify a solver to silence this warning.\n",
      "  FutureWarning)\n",
      "/opt/conda/lib/python3.7/site-packages/sklearn/linear_model/logistic.py:432: FutureWarning: Default solver will be changed to 'lbfgs' in 0.22. Specify a solver to silence this warning.\n",
      "  FutureWarning)\n",
      "/opt/conda/lib/python3.7/site-packages/sklearn/linear_model/logistic.py:432: FutureWarning: Default solver will be changed to 'lbfgs' in 0.22. Specify a solver to silence this warning.\n",
      "  FutureWarning)\n"
     ]
    },
    {
     "name": "stdout",
     "output_type": "stream",
     "text": [
      "iter = 1 : : 0.6952\n",
      "iter = 2 : : 0.6952\n",
      "iter = 3 : : 0.6967\n",
      "iter = 4 : : 0.6967\n",
      "iter = 5 : : 0.6967\n",
      "iter = 6 : : 0.6967\n",
      "iter = 7 : : 0.7030\n",
      "iter = 8 : : 0.7030\n",
      "iter = 9 : : 0.7030\n",
      "iter = 10 : : 0.7061\n",
      "iter = 11 : : 0.7030\n",
      "iter = 12 : : 0.7030\n",
      "iter = 13 : : 0.7030\n",
      "iter = 14 : : 0.7030\n",
      "iter = 15 : : 0.7030\n",
      "iter = 16 : : 0.7030\n",
      "iter = 17 : : 0.7030\n",
      "iter = 18 : : 0.7030\n",
      "iter = 19 : : 0.7030\n",
      "iter = 20 : : 0.7030\n",
      "best_iter = 10 accuracy: 0.7061\n"
     ]
    }
   ],
   "source": [
    "# цикл для iters от 1 до 21\n",
    "best_model_LR = None\n",
    "best_iter = 0\n",
    "best_accuracy_LR = 0\n",
    "for iters in range(1, 21):\n",
    "    model_LR = LogisticRegression(random_state=12345, max_iter=iters)\n",
    "    model_LR.fit(features_train, target_train)\n",
    "    predictions_valid = model_LR.predict(features_valid)\n",
    "    accuracy_LR = accuracy_score(target_valid, predictions_valid)\n",
    "    if best_accuracy_LR < accuracy_LR:\n",
    "        best_model_LR = model_LR\n",
    "        best_iter = iters\n",
    "        best_accuracy_LR = accuracy_LR\n",
    "    print(\"iter =\", iters, \": \", end='')\n",
    "    print(': {:.4f}'.format(accuracy_LR))\n",
    "print('best_iter =',best_iter, 'accuracy'': {:.4f}'.format(best_accuracy_LR))"
   ]
  },
  {
   "cell_type": "markdown",
   "metadata": {},
   "source": [
    "### Выводы"
   ]
  },
  {
   "cell_type": "code",
   "execution_count": 48,
   "metadata": {},
   "outputs": [
    {
     "name": "stdout",
     "output_type": "stream",
     "text": [
      "Decision Tree: 0.7884914463452566\n",
      "Random Forest: 0.7916018662519441\n",
      "Logistic Regression: 0.702954898911353\n"
     ]
    }
   ],
   "source": [
    "print(f\"Decision Tree: {best_accuracy_DTC}\")\n",
    "print(f\"Random Forest: {best_accuracy_RFC}\")\n",
    "print(f\"Logistic Regression: {accuracy_LR}\")"
   ]
  },
  {
   "cell_type": "markdown",
   "metadata": {},
   "source": [
    "Лучшей точностью обладает алгоритм случайного леса, поэтому для проверки на тестовой выборке будем использовать именно эту модель."
   ]
  },
  {
   "cell_type": "markdown",
   "metadata": {},
   "source": [
    "## Проверьте модель на тестовой выборке"
   ]
  },
  {
   "cell_type": "code",
   "execution_count": 49,
   "metadata": {},
   "outputs": [
    {
     "name": "stdout",
     "output_type": "stream",
     "text": [
      "accuracy = 0.7776\n"
     ]
    }
   ],
   "source": [
    "predictions = best_model_RFC.predict(features_test)\n",
    "accuracy = accuracy_score(target_test, predictions)\n",
    "print('accuracy =','{:.4f}'.format(accuracy))"
   ]
  },
  {
   "cell_type": "markdown",
   "metadata": {},
   "source": [
    "## (бонус) Проверьте модели на адекватность"
   ]
  },
  {
   "cell_type": "markdown",
   "metadata": {},
   "source": [
    "Считается, что модель считается адекватной, если её точность выше, чем доля большего класса в выборке."
   ]
  },
  {
   "cell_type": "code",
   "execution_count": 50,
   "metadata": {},
   "outputs": [
    {
     "name": "stdout",
     "output_type": "stream",
     "text": [
      "Соотношение двух классов (тарифов \"ультра\" и \"смарт\"):  0.693528313627878\n"
     ]
    }
   ],
   "source": [
    "# Посмотрим на соотношение классов в датасете \n",
    "df_smart = df[df['is_ultra'] == 0]\n",
    "df_ultra = df[df['is_ultra'] == 1]\n",
    "df_smart_len = df_smart.shape[0] \n",
    "df_ultra_len = df_ultra.shape[0]\n",
    "ratio = df_smart_len / (df_smart_len + df_ultra_len)\n",
    "print('Соотношение двух классов (тарифов \"ультра\" и \"смарт\"): ', ratio)"
   ]
  },
  {
   "cell_type": "markdown",
   "metadata": {},
   "source": [
    "Сравним настроенную модель с базовой."
   ]
  },
  {
   "cell_type": "code",
   "execution_count": 60,
   "metadata": {
    "scrolled": true
   },
   "outputs": [
    {
     "name": "stdout",
     "output_type": "stream",
     "text": [
      "Точность базовой модели \"случайного леса\": 0.7885\n",
      "Точность настроенной модели \"случайного леса\": 0.7916\n"
     ]
    },
    {
     "name": "stderr",
     "output_type": "stream",
     "text": [
      "/opt/conda/lib/python3.7/site-packages/sklearn/ensemble/forest.py:245: FutureWarning: The default value of n_estimators will change from 10 in version 0.20 to 100 in 0.22.\n",
      "  \"10 in version 0.20 to 100 in 0.22.\", FutureWarning)\n"
     ]
    }
   ],
   "source": [
    "rf_base = RandomForestClassifier(random_state=12345)\n",
    "rf_base.fit(features_train, target_train)\n",
    "accuracy_rf_base_test =  rf_base.score(features_test, target_test)\n",
    "print('Точность базовой модели \"случайного леса\"'': {:.4f}'.format(accuracy_rf_base_test))\n",
    "print('Точность настроенной модели \"случайного леса\"'': {:.4f}'.format(best_accuracy_RFC))"
   ]
  },
  {
   "cell_type": "markdown",
   "metadata": {},
   "source": [
    "## Выводы"
   ]
  },
  {
   "cell_type": "markdown",
   "metadata": {},
   "source": [
    "Были исследованы модели решающего дерева, случайного леса и логистической регрессии и определено, что модель случайного леса обладает точностью 0,79, что больше порогового значения 0,75.\n",
    "\n",
    "На тестовой выборке точность снизилась до 0,78, что все еще отвечает исходному требованию.\n",
    "\n",
    "Также была проверена адекватность модели и сделан вывод, что модель адекватна."
   ]
  }
 ],
 "metadata": {
  "ExecuteTimeLog": [
   {
    "duration": 975,
    "start_time": "2022-02-20T11:07:46.978Z"
   },
   {
    "duration": 19,
    "start_time": "2022-02-20T11:12:07.111Z"
   },
   {
    "duration": 15,
    "start_time": "2022-02-20T11:13:05.022Z"
   },
   {
    "duration": 6,
    "start_time": "2022-02-20T11:14:10.190Z"
   },
   {
    "duration": 19,
    "start_time": "2022-02-20T11:19:03.254Z"
   },
   {
    "duration": 4,
    "start_time": "2022-02-20T11:33:25.940Z"
   },
   {
    "duration": 6,
    "start_time": "2022-02-20T11:33:35.472Z"
   },
   {
    "duration": 4,
    "start_time": "2022-02-20T12:04:38.230Z"
   },
   {
    "duration": 5,
    "start_time": "2022-02-20T12:56:23.926Z"
   },
   {
    "duration": 5,
    "start_time": "2022-02-20T12:58:10.159Z"
   },
   {
    "duration": 158,
    "start_time": "2022-02-20T13:00:10.199Z"
   },
   {
    "duration": 4,
    "start_time": "2022-02-20T13:00:16.725Z"
   },
   {
    "duration": 3,
    "start_time": "2022-02-20T13:00:45.092Z"
   },
   {
    "duration": 4,
    "start_time": "2022-02-20T13:00:53.773Z"
   },
   {
    "duration": 7,
    "start_time": "2022-02-20T13:05:10.080Z"
   },
   {
    "duration": 26,
    "start_time": "2022-02-20T13:38:41.339Z"
   },
   {
    "duration": 435,
    "start_time": "2022-02-20T13:41:21.197Z"
   },
   {
    "duration": 22,
    "start_time": "2022-02-20T13:42:07.141Z"
   },
   {
    "duration": 27,
    "start_time": "2022-02-20T13:45:38.018Z"
   },
   {
    "duration": 25,
    "start_time": "2022-02-20T13:45:46.027Z"
   },
   {
    "duration": 35,
    "start_time": "2022-02-20T13:46:31.321Z"
   },
   {
    "duration": 16,
    "start_time": "2022-02-20T13:46:38.913Z"
   },
   {
    "duration": 20,
    "start_time": "2022-02-20T13:46:44.770Z"
   },
   {
    "duration": 30,
    "start_time": "2022-02-20T13:46:50.953Z"
   },
   {
    "duration": 9,
    "start_time": "2022-02-20T13:46:56.210Z"
   },
   {
    "duration": 21,
    "start_time": "2022-02-20T13:47:02.505Z"
   },
   {
    "duration": 24,
    "start_time": "2022-02-20T13:47:11.961Z"
   },
   {
    "duration": 23,
    "start_time": "2022-02-20T13:49:36.377Z"
   },
   {
    "duration": 25,
    "start_time": "2022-02-20T13:50:51.825Z"
   },
   {
    "duration": 1920,
    "start_time": "2022-02-21T19:05:22.899Z"
   },
   {
    "duration": 54,
    "start_time": "2022-02-21T19:05:24.821Z"
   },
   {
    "duration": 25,
    "start_time": "2022-02-21T19:05:24.878Z"
   },
   {
    "duration": 11,
    "start_time": "2022-02-21T19:05:24.906Z"
   },
   {
    "duration": 39,
    "start_time": "2022-02-21T19:05:24.919Z"
   },
   {
    "duration": 6,
    "start_time": "2022-02-21T19:05:24.960Z"
   },
   {
    "duration": 19,
    "start_time": "2022-02-21T19:05:24.969Z"
   },
   {
    "duration": 7,
    "start_time": "2022-02-21T19:05:24.991Z"
   },
   {
    "duration": 27,
    "start_time": "2022-02-21T19:05:25.002Z"
   },
   {
    "duration": 6,
    "start_time": "2022-02-21T19:05:25.032Z"
   },
   {
    "duration": 15,
    "start_time": "2022-02-21T19:05:25.040Z"
   },
   {
    "duration": 45,
    "start_time": "2022-02-21T19:05:25.058Z"
   },
   {
    "duration": 363,
    "start_time": "2022-02-21T19:40:11.930Z"
   },
   {
    "duration": 38,
    "start_time": "2022-02-21T19:40:26.604Z"
   },
   {
    "duration": 366,
    "start_time": "2022-02-21T19:40:34.128Z"
   },
   {
    "duration": 433,
    "start_time": "2022-02-21T19:40:39.413Z"
   },
   {
    "duration": 359,
    "start_time": "2022-02-21T19:40:52.608Z"
   },
   {
    "duration": 83,
    "start_time": "2022-02-21T19:40:59.688Z"
   },
   {
    "duration": 88,
    "start_time": "2022-02-21T19:41:50.171Z"
   },
   {
    "duration": 373,
    "start_time": "2022-02-21T19:41:51.670Z"
   },
   {
    "duration": 78,
    "start_time": "2022-02-21T19:41:59.238Z"
   },
   {
    "duration": 44,
    "start_time": "2022-02-21T19:42:35.213Z"
   },
   {
    "duration": 39,
    "start_time": "2022-02-21T19:43:14.791Z"
   },
   {
    "duration": 82,
    "start_time": "2022-02-21T19:43:21.798Z"
   },
   {
    "duration": 82,
    "start_time": "2022-02-21T19:44:46.046Z"
   },
   {
    "duration": 113,
    "start_time": "2022-02-21T19:46:20.520Z"
   },
   {
    "duration": 114,
    "start_time": "2022-02-21T19:46:28.518Z"
   },
   {
    "duration": 87,
    "start_time": "2022-02-21T19:46:55.478Z"
   },
   {
    "duration": 96,
    "start_time": "2022-02-21T19:47:13.062Z"
   },
   {
    "duration": 93,
    "start_time": "2022-02-21T19:54:01.912Z"
   },
   {
    "duration": 103,
    "start_time": "2022-02-21T19:54:12.063Z"
   },
   {
    "duration": 225,
    "start_time": "2022-02-21T19:55:05.456Z"
   },
   {
    "duration": 225,
    "start_time": "2022-02-21T19:55:23.750Z"
   },
   {
    "duration": 238,
    "start_time": "2022-02-21T19:58:57.431Z"
   },
   {
    "duration": 276,
    "start_time": "2022-02-21T19:59:28.569Z"
   },
   {
    "duration": 104,
    "start_time": "2022-02-21T20:00:53.039Z"
   },
   {
    "duration": 235,
    "start_time": "2022-02-21T20:00:56.774Z"
   },
   {
    "duration": 364,
    "start_time": "2022-02-21T20:01:57.743Z"
   },
   {
    "duration": 1320,
    "start_time": "2022-02-21T20:02:05.734Z"
   },
   {
    "duration": 218,
    "start_time": "2022-02-21T20:11:55.888Z"
   },
   {
    "duration": 244,
    "start_time": "2022-02-21T20:12:46.231Z"
   },
   {
    "duration": 2804,
    "start_time": "2022-02-21T20:13:30.898Z"
   },
   {
    "duration": 243,
    "start_time": "2022-02-21T20:13:38.496Z"
   },
   {
    "duration": 237,
    "start_time": "2022-02-21T20:13:55.399Z"
   },
   {
    "duration": 235,
    "start_time": "2022-02-21T20:26:48.665Z"
   },
   {
    "duration": 1255,
    "start_time": "2022-02-21T20:28:43.600Z"
   },
   {
    "duration": 213,
    "start_time": "2022-02-21T20:30:17.948Z"
   },
   {
    "duration": 6,
    "start_time": "2022-02-21T20:31:52.330Z"
   },
   {
    "duration": 12,
    "start_time": "2022-02-21T20:35:23.722Z"
   },
   {
    "duration": 9,
    "start_time": "2022-02-21T20:46:53.762Z"
   },
   {
    "duration": 71,
    "start_time": "2022-02-21T20:47:49.459Z"
   },
   {
    "duration": 68,
    "start_time": "2022-02-21T20:50:13.443Z"
   },
   {
    "duration": 67,
    "start_time": "2022-02-21T20:50:23.106Z"
   },
   {
    "duration": 70,
    "start_time": "2022-02-21T20:50:34.513Z"
   },
   {
    "duration": 69,
    "start_time": "2022-02-21T20:50:46.299Z"
   },
   {
    "duration": 68,
    "start_time": "2022-02-21T20:51:08.415Z"
   },
   {
    "duration": 130,
    "start_time": "2022-02-21T20:52:54.563Z"
   },
   {
    "duration": 66,
    "start_time": "2022-02-21T20:53:08.621Z"
   },
   {
    "duration": 66,
    "start_time": "2022-02-21T20:53:25.546Z"
   },
   {
    "duration": 67,
    "start_time": "2022-02-21T20:53:48.099Z"
   }
  ],
  "kernelspec": {
   "display_name": "Python 3 (ipykernel)",
   "language": "python",
   "name": "python3"
  },
  "language_info": {
   "codemirror_mode": {
    "name": "ipython",
    "version": 3
   },
   "file_extension": ".py",
   "mimetype": "text/x-python",
   "name": "python",
   "nbconvert_exporter": "python",
   "pygments_lexer": "ipython3",
   "version": "3.9.5"
  },
  "toc": {
   "base_numbering": 1,
   "nav_menu": {},
   "number_sections": true,
   "sideBar": true,
   "skip_h1_title": true,
   "title_cell": "Содержание",
   "title_sidebar": "Contents",
   "toc_cell": true,
   "toc_position": {
    "height": "757px",
    "left": "52px",
    "top": "111.125px",
    "width": "366.391px"
   },
   "toc_section_display": true,
   "toc_window_display": true
  }
 },
 "nbformat": 4,
 "nbformat_minor": 2
}
