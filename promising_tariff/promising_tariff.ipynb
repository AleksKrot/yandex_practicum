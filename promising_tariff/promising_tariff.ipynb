{
 "cells": [
  {
   "cell_type": "markdown",
   "metadata": {},
   "source": [
    "# Определение перспективного тарифа для телеком-компании"
   ]
  },
  {
   "cell_type": "markdown",
   "metadata": {},
   "source": [
    "Вы аналитик компании «Мегалайн» — федерального оператора сотовой связи. Клиентам предлагают два тарифных плана: «Смарт» и «Ультра». Чтобы скорректировать рекламный бюджет, коммерческий департамент хочет понять, какой тариф приносит больше денег.\n",
    "\n",
    "\n",
    "Вам предстоит сделать предварительный анализ тарифов на небольшой выборке клиентов. В вашем распоряжении данные 500 пользователей «Мегалайна»: кто они, откуда, каким тарифом пользуются, сколько звонков и сообщений каждый отправил за 2018 год. Нужно проанализировать поведение клиентов и сделать вывод — какой тариф лучше."
   ]
  },
  {
   "cell_type": "markdown",
   "metadata": {},
   "source": [
    "**Тариф «Смарт»**\n",
    "\n",
    "\n",
    "1. Ежемесячная плата: 550 рублей\n",
    "2. Включено 500 минут разговора, 50 сообщений и 15 Гб интернет-трафика\n",
    "3. Стоимость услуг сверх тарифного пакета: 1. минута разговора: 3 рубля («Мегалайн» всегда округляет вверх значения минут и мегабайтов. Если пользователь проговорил всего 1 секунду, в тарифе засчитывается целая минута); 2. сообщение: 3 рубля; 3. 1 Гб интернет-трафика: 200 рублей."
   ]
  },
  {
   "cell_type": "markdown",
   "metadata": {},
   "source": [
    "**Тариф «Ультра»**\n",
    "\n",
    "\n",
    "1. Ежемесячная плата: 1950 рублей\n",
    "2. Включено 3000 минут разговора, 1000 сообщений и 30 Гб интернет-трафика\n",
    "3. Стоимость услуг сверх тарифного пакета: 1. минута разговора: 1 рубль; 2. сообщение: 1 рубль; 3. 1 Гб интернет-трафика: 150 рублей."
   ]
  },
  {
   "cell_type": "markdown",
   "metadata": {},
   "source": [
    "**Примечание:**\n",
    "\n",
    "\n",
    "«Мегалайн» всегда округляет секунды до минут, а мегабайты — до гигабайт. Каждый звонок округляется отдельно: даже если он длился всего 1 секунду, будет засчитан как 1 минута.\n",
    "\n",
    "\n",
    "Для веб-трафика отдельные сессии не считаются. Вместо этого общая сумма за месяц округляется в бо́льшую сторону. Если абонент использует 1025 мегабайт в этом месяце, с него возьмут плату за 2 гигабайта."
   ]
  },
  {
   "cell_type": "markdown",
   "metadata": {},
   "source": [
    "# Описание данных"
   ]
  },
  {
   "cell_type": "markdown",
   "metadata": {},
   "source": [
    "**Таблица `users` (информация о пользователях):**\n",
    "\n",
    "\n",
    "* `user_id` — уникальный идентификатор пользователя\n",
    "\n",
    "\n",
    "* `first_name` — имя пользователя\n",
    "\n",
    "\n",
    "* `last_name` — фамилия пользователя\n",
    "\n",
    "\n",
    "* `age` — возраст пользователя (годы)\n",
    "\n",
    "\n",
    "* `reg_date` — дата подключения тарифа (день, месяц, год)\n",
    "\n",
    "\n",
    "* `churn_date` — дата прекращения пользования тарифом (если значение пропущено, то тариф ещё действовал на момент выгрузки данных)\n",
    "\n",
    "\n",
    "* `city` — город проживания пользователя\n",
    "\n",
    "\n",
    "* `tariff` — название тарифного плана"
   ]
  },
  {
   "cell_type": "markdown",
   "metadata": {},
   "source": [
    "**Таблица `calls` (информация о звонках):**\n",
    "\n",
    "\n",
    "* `id` — уникальный номер звонка\n",
    "\n",
    "\n",
    "* `call_date` — дата звонка\n",
    "\n",
    "\n",
    "* `duration` — длительность звонка в минутах\n",
    "\n",
    "\n",
    "* `user_id ` — идентификатор пользователя, сделавшего звонок"
   ]
  },
  {
   "cell_type": "markdown",
   "metadata": {},
   "source": [
    "**Таблица `messages` (информация о сообщениях):**\n",
    "\n",
    "\n",
    "* `id` — уникальный номер сообщения\n",
    "\n",
    "\n",
    "* `message_date` — дата сообщения\n",
    "\n",
    "\n",
    "* `user_id ` — идентификатор пользователя, отправившего сообщение"
   ]
  },
  {
   "cell_type": "markdown",
   "metadata": {},
   "source": [
    "**Таблица `internet` (информация об интернет-сессиях):**\n",
    "\n",
    "\n",
    "* `id` — уникальный номер сессии\n",
    "\n",
    "\n",
    "* `mb_used` — объём потраченного за сессию интернет-трафика (в мегабайтах)\n",
    "\n",
    "\n",
    "* `session_date` — дата интернет-сессии\n",
    "\n",
    "\n",
    "* `user_id ` — идентификатор пользователя"
   ]
  },
  {
   "cell_type": "markdown",
   "metadata": {},
   "source": [
    "**Таблица `tariffs` (информация о тарифах):**\n",
    "\n",
    "\n",
    "* `tariff_name` — название тарифа\n",
    "\n",
    "\n",
    "* `rub_monthly_fee` — ежемесячная абонентская плата в рублях\n",
    "\n",
    "\n",
    "* `minutes_included` — количество минут разговора в месяц, включённых в абонентскую плату\n",
    "\n",
    "\n",
    "* `messages_included` — количество сообщений в месяц, включённых в абонентскую плату\n",
    "\n",
    "\n",
    "* `mb_per_month_included` — объём интернет-трафика, включённого в абонентскую плату (в мегабайтах)\n",
    "\n",
    "\n",
    "* `rub_per_minute` — стоимость минуты разговора сверх тарифного пакета (например, если в тарифе 100 минут разговора в месяц, то со 101 минуты будет взиматься плата)\n",
    "\n",
    "\n",
    "* `rub_per_message` — стоимость отправки сообщения сверх тарифного пакета\n",
    "\n",
    "\n",
    "* `rub_per_gb` — стоимость дополнительного гигабайта интернет-трафика сверх тарифного пакета (1 гигабайт = 1024 мегабайта)"
   ]
  },
  {
   "cell_type": "markdown",
   "metadata": {},
   "source": [
    "# Задачи исследования"
   ]
  },
  {
   "cell_type": "markdown",
   "metadata": {},
   "source": [
    "1. Изучение общей информации.\n",
    "\n",
    "\n",
    "2. Подготовка данных:\n",
    " + привести данные к нужным типам;\n",
    " + изменить данные для удобства анализа.\n",
    " \n",
    " \n",
    " *Примечание:* звонки с нулевой продолжительностью - это не ошибка: нулями обозначены пропущенные звонки, поэтому их не нужно удалять.\n",
    " \n",
    " \n",
    "3. Расчет для каждого пользователя:\n",
    " + количества сделанных звонков и израсходованных минут разговора по месяцам;\n",
    " + количества отправленных сообщений по месяцам;\n",
    " + объема израсходованного интернет-трафика по месяцам;\n",
    " + помесячной выручки с каждого пользователя (вычет бесплатного лимита из суммарного количества звонков, сообщений и интернет-трафика; умножение остатка на значение из тарифного плана; прибавление абонентской платы, соответствующую тарифному плану).\n",
    " \n",
    " \n",
    "4. Анализ данных:\n",
    " + Описание поведения клиентов оператора, исходя из выборки. \n",
    " + Построение гистограмм и описание распределения.\n",
    " \n",
    " \n",
    "5. Проверка гипотез и пояснения:\n",
    " + средняя выручка пользователей тарифов «Ультра» и «Смарт» различаются;\n",
    " + средняя выручка пользователей из Москвы отличается от выручки пользователей из других регионов.\n",
    " \n",
    " \n",
    "*Примечание:* пороговое значение alpha задается самостоятельно.\n",
    " \n",
    " \n",
    "6. Формулирование общего вывода."
   ]
  },
  {
   "cell_type": "markdown",
   "metadata": {},
   "source": [
    "На что обращают внимание ревьюеры:\n",
    " + Как вы описываете выявленные в данных проблемы?\n",
    " + Как готовите данные к анализу?\n",
    " + Какие графики строите для распределений?\n",
    " + Как интерпретируете полученные графики?\n",
    " + Как рассчитываете стандартное отклонение и дисперсию?\n",
    " + Формулируете ли альтернативную и нулевую гипотезы?\n",
    " + Какие методы применяете для проверки гипотез?\n",
    " + Интерпретируете ли результат проверки гипотезы?\n",
    " + Соблюдаете структуру проекта и поддерживаете аккуратность кода?\n",
    " + Какие выводы делаете?\n",
    " + Оставляете ли комментарии к шагам?"
   ]
  },
  {
   "cell_type": "markdown",
   "metadata": {
    "toc": true
   },
   "source": [
    "<h1>Содержание<span class=\"tocSkip\"></span></h1>\n",
    "<div class=\"toc\"><ul class=\"toc-item\"><li><span><a href=\"#Изучение-общей-информации\" data-toc-modified-id=\"Изучение-общей-информации-1\"><span class=\"toc-item-num\">1&nbsp;&nbsp;</span>Изучение общей информации</a></span><ul class=\"toc-item\"><li><span><a href=\"#Импорт-используемых-библиотек\" data-toc-modified-id=\"Импорт-используемых-библиотек-1.1\"><span class=\"toc-item-num\">1.1&nbsp;&nbsp;</span>Импорт используемых библиотек</a></span></li><li><span><a href=\"#Чтение-файлов-с-данными\" data-toc-modified-id=\"Чтение-файлов-с-данными-1.2\"><span class=\"toc-item-num\">1.2&nbsp;&nbsp;</span>Чтение файлов с данными</a></span></li><li><span><a href=\"#Изучение-общей-информации\" data-toc-modified-id=\"Изучение-общей-информации-1.3\"><span class=\"toc-item-num\">1.3&nbsp;&nbsp;</span>Изучение общей информации</a></span></li><li><span><a href=\"#Выводы\" data-toc-modified-id=\"Выводы-1.4\"><span class=\"toc-item-num\">1.4&nbsp;&nbsp;</span>Выводы</a></span></li></ul></li><li><span><a href=\"#Подготовка-данных\" data-toc-modified-id=\"Подготовка-данных-2\"><span class=\"toc-item-num\">2&nbsp;&nbsp;</span>Подготовка данных</a></span><ul class=\"toc-item\"><li><span><a href=\"#Приведение-данных-к-нужным-типам\" data-toc-modified-id=\"Приведение-данных-к-нужным-типам-2.1\"><span class=\"toc-item-num\">2.1&nbsp;&nbsp;</span>Приведение данных к нужным типам</a></span></li><li><span><a href=\"#Изменение-данных-для-удобства-анализа\" data-toc-modified-id=\"Изменение-данных-для-удобства-анализа-2.2\"><span class=\"toc-item-num\">2.2&nbsp;&nbsp;</span>Изменение данных для удобства анализа</a></span></li><li><span><a href=\"#Выводы\" data-toc-modified-id=\"Выводы-2.3\"><span class=\"toc-item-num\">2.3&nbsp;&nbsp;</span>Выводы</a></span></li></ul></li><li><span><a href=\"#Расчет-для-каждого-пользователя\" data-toc-modified-id=\"Расчет-для-каждого-пользователя-3\"><span class=\"toc-item-num\">3&nbsp;&nbsp;</span>Расчет для каждого пользователя</a></span><ul class=\"toc-item\"><li><span><a href=\"#Количество-сделанных-звонков-и-израсходованных-минут-разговора-по-месяцам\" data-toc-modified-id=\"Количество-сделанных-звонков-и-израсходованных-минут-разговора-по-месяцам-3.1\"><span class=\"toc-item-num\">3.1&nbsp;&nbsp;</span>Количество сделанных звонков и израсходованных минут разговора по месяцам</a></span></li><li><span><a href=\"#Количество-отправленных-сообщений-по-месяцам\" data-toc-modified-id=\"Количество-отправленных-сообщений-по-месяцам-3.2\"><span class=\"toc-item-num\">3.2&nbsp;&nbsp;</span>Количество отправленных сообщений по месяцам</a></span></li><li><span><a href=\"#Объем-израсходованного-интернет-трафика-по-месяцам\" data-toc-modified-id=\"Объем-израсходованного-интернет-трафика-по-месяцам-3.3\"><span class=\"toc-item-num\">3.3&nbsp;&nbsp;</span>Объем израсходованного интернет-трафика по месяцам</a></span></li><li><span><a href=\"#Помесячная-выручка-с-каждого-пользователя\" data-toc-modified-id=\"Помесячная-выручка-с-каждого-пользователя-3.4\"><span class=\"toc-item-num\">3.4&nbsp;&nbsp;</span>Помесячная выручка с каждого пользователя</a></span></li><li><span><a href=\"#Выводы\" data-toc-modified-id=\"Выводы-3.5\"><span class=\"toc-item-num\">3.5&nbsp;&nbsp;</span>Выводы</a></span></li></ul></li><li><span><a href=\"#Анализ-данных\" data-toc-modified-id=\"Анализ-данных-4\"><span class=\"toc-item-num\">4&nbsp;&nbsp;</span>Анализ данных</a></span><ul class=\"toc-item\"><li><span><a href=\"#Описание-поведения-клиентов-оператора,-исходя-из-выборки\" data-toc-modified-id=\"Описание-поведения-клиентов-оператора,-исходя-из-выборки-4.1\"><span class=\"toc-item-num\">4.1&nbsp;&nbsp;</span>Описание поведения клиентов оператора, исходя из выборки</a></span></li><li><span><a href=\"#Построение-гистограмм-и-описание-распределения\" data-toc-modified-id=\"Построение-гистограмм-и-описание-распределения-4.2\"><span class=\"toc-item-num\">4.2&nbsp;&nbsp;</span>Построение гистограмм и описание распределения</a></span></li><li><span><a href=\"#Выводы\" data-toc-modified-id=\"Выводы-4.3\"><span class=\"toc-item-num\">4.3&nbsp;&nbsp;</span>Выводы</a></span></li></ul></li><li><span><a href=\"#Проверка-гипотез-и-пояснения\" data-toc-modified-id=\"Проверка-гипотез-и-пояснения-5\"><span class=\"toc-item-num\">5&nbsp;&nbsp;</span>Проверка гипотез и пояснения</a></span><ul class=\"toc-item\"><li><span><a href=\"#Cредняя-выручка-пользователей-тарифов-«Ультра»-и-«Смарт»-различаются\" data-toc-modified-id=\"Cредняя-выручка-пользователей-тарифов-«Ультра»-и-«Смарт»-различаются-5.1\"><span class=\"toc-item-num\">5.1&nbsp;&nbsp;</span>Cредняя выручка пользователей тарифов «Ультра» и «Смарт» различаются</a></span></li><li><span><a href=\"#Cредняя-выручка-пользователей-из-Москвы-отличается-от-выручки-пользователей-из-других-регионов\" data-toc-modified-id=\"Cредняя-выручка-пользователей-из-Москвы-отличается-от-выручки-пользователей-из-других-регионов-5.2\"><span class=\"toc-item-num\">5.2&nbsp;&nbsp;</span>Cредняя выручка пользователей из Москвы отличается от выручки пользователей из других регионов</a></span></li><li><span><a href=\"#Выводы\" data-toc-modified-id=\"Выводы-5.3\"><span class=\"toc-item-num\">5.3&nbsp;&nbsp;</span>Выводы</a></span></li></ul></li><li><span><a href=\"#Формулирование-общего-вывода\" data-toc-modified-id=\"Формулирование-общего-вывода-6\"><span class=\"toc-item-num\">6&nbsp;&nbsp;</span>Формулирование общего вывода</a></span></li></ul></div>"
   ]
  },
  {
   "cell_type": "markdown",
   "metadata": {},
   "source": [
    "## Изучение общей информации"
   ]
  },
  {
   "cell_type": "markdown",
   "metadata": {},
   "source": [
    "### Импорт используемых библиотек"
   ]
  },
  {
   "cell_type": "code",
   "execution_count": 1,
   "metadata": {},
   "outputs": [],
   "source": [
    "# импорт библиотеки pandas\n",
    "import pandas as pd\n",
    "\n",
    "# импорт библиотеки numpty\n",
    "import numpy as np\n",
    "\n",
    "# импорт библиотеки matpotlib\n",
    "import matplotlib.pyplot as plt\n",
    "\n",
    "# импорт библиотеки scipy\n",
    "from scipy import stats as st"
   ]
  },
  {
   "cell_type": "markdown",
   "metadata": {},
   "source": [
    "### Чтение файлов с данными"
   ]
  },
  {
   "cell_type": "code",
   "execution_count": 2,
   "metadata": {},
   "outputs": [],
   "source": [
    "# чтение файлов с данными\n",
    "users = pd.read_csv('/datasets/users.csv')\n",
    "calls = pd.read_csv('/datasets/calls.csv')\n",
    "messages = pd.read_csv('/datasets/messages.csv')\n",
    "internet = pd.read_csv('/datasets/internet.csv')\n",
    "tariffs = pd.read_csv('/datasets/tariffs.csv')"
   ]
  },
  {
   "cell_type": "markdown",
   "metadata": {},
   "source": [
    "### Изучение общей информации"
   ]
  },
  {
   "cell_type": "markdown",
   "metadata": {},
   "source": [
    "**Информация о пользователях**"
   ]
  },
  {
   "cell_type": "code",
   "execution_count": 3,
   "metadata": {},
   "outputs": [
    {
     "data": {
      "text/html": [
       "<div>\n",
       "<style scoped>\n",
       "    .dataframe tbody tr th:only-of-type {\n",
       "        vertical-align: middle;\n",
       "    }\n",
       "\n",
       "    .dataframe tbody tr th {\n",
       "        vertical-align: top;\n",
       "    }\n",
       "\n",
       "    .dataframe thead th {\n",
       "        text-align: right;\n",
       "    }\n",
       "</style>\n",
       "<table border=\"1\" class=\"dataframe\">\n",
       "  <thead>\n",
       "    <tr style=\"text-align: right;\">\n",
       "      <th></th>\n",
       "      <th>user_id</th>\n",
       "      <th>age</th>\n",
       "      <th>churn_date</th>\n",
       "      <th>city</th>\n",
       "      <th>first_name</th>\n",
       "      <th>last_name</th>\n",
       "      <th>reg_date</th>\n",
       "      <th>tariff</th>\n",
       "    </tr>\n",
       "  </thead>\n",
       "  <tbody>\n",
       "    <tr>\n",
       "      <td>0</td>\n",
       "      <td>1000</td>\n",
       "      <td>52</td>\n",
       "      <td>NaN</td>\n",
       "      <td>Краснодар</td>\n",
       "      <td>Рафаил</td>\n",
       "      <td>Верещагин</td>\n",
       "      <td>2018-05-25</td>\n",
       "      <td>ultra</td>\n",
       "    </tr>\n",
       "    <tr>\n",
       "      <td>1</td>\n",
       "      <td>1001</td>\n",
       "      <td>41</td>\n",
       "      <td>NaN</td>\n",
       "      <td>Москва</td>\n",
       "      <td>Иван</td>\n",
       "      <td>Ежов</td>\n",
       "      <td>2018-11-01</td>\n",
       "      <td>smart</td>\n",
       "    </tr>\n",
       "    <tr>\n",
       "      <td>2</td>\n",
       "      <td>1002</td>\n",
       "      <td>59</td>\n",
       "      <td>NaN</td>\n",
       "      <td>Стерлитамак</td>\n",
       "      <td>Евгений</td>\n",
       "      <td>Абрамович</td>\n",
       "      <td>2018-06-17</td>\n",
       "      <td>smart</td>\n",
       "    </tr>\n",
       "    <tr>\n",
       "      <td>3</td>\n",
       "      <td>1003</td>\n",
       "      <td>23</td>\n",
       "      <td>NaN</td>\n",
       "      <td>Москва</td>\n",
       "      <td>Белла</td>\n",
       "      <td>Белякова</td>\n",
       "      <td>2018-08-17</td>\n",
       "      <td>ultra</td>\n",
       "    </tr>\n",
       "    <tr>\n",
       "      <td>4</td>\n",
       "      <td>1004</td>\n",
       "      <td>68</td>\n",
       "      <td>NaN</td>\n",
       "      <td>Новокузнецк</td>\n",
       "      <td>Татьяна</td>\n",
       "      <td>Авдеенко</td>\n",
       "      <td>2018-05-14</td>\n",
       "      <td>ultra</td>\n",
       "    </tr>\n",
       "    <tr>\n",
       "      <td>5</td>\n",
       "      <td>1005</td>\n",
       "      <td>67</td>\n",
       "      <td>NaN</td>\n",
       "      <td>Набережные Челны</td>\n",
       "      <td>Афанасий</td>\n",
       "      <td>Горлов</td>\n",
       "      <td>2018-01-25</td>\n",
       "      <td>smart</td>\n",
       "    </tr>\n",
       "    <tr>\n",
       "      <td>6</td>\n",
       "      <td>1006</td>\n",
       "      <td>21</td>\n",
       "      <td>NaN</td>\n",
       "      <td>Ульяновск</td>\n",
       "      <td>Леонид</td>\n",
       "      <td>Ермолаев</td>\n",
       "      <td>2018-02-26</td>\n",
       "      <td>smart</td>\n",
       "    </tr>\n",
       "    <tr>\n",
       "      <td>7</td>\n",
       "      <td>1007</td>\n",
       "      <td>65</td>\n",
       "      <td>NaN</td>\n",
       "      <td>Москва</td>\n",
       "      <td>Юна</td>\n",
       "      <td>Березина</td>\n",
       "      <td>2018-04-19</td>\n",
       "      <td>smart</td>\n",
       "    </tr>\n",
       "    <tr>\n",
       "      <td>8</td>\n",
       "      <td>1008</td>\n",
       "      <td>63</td>\n",
       "      <td>NaN</td>\n",
       "      <td>Челябинск</td>\n",
       "      <td>Рустэм</td>\n",
       "      <td>Пономарёв</td>\n",
       "      <td>2018-12-19</td>\n",
       "      <td>smart</td>\n",
       "    </tr>\n",
       "    <tr>\n",
       "      <td>9</td>\n",
       "      <td>1009</td>\n",
       "      <td>24</td>\n",
       "      <td>NaN</td>\n",
       "      <td>Пермь</td>\n",
       "      <td>Василиса</td>\n",
       "      <td>Блинова</td>\n",
       "      <td>2018-03-22</td>\n",
       "      <td>smart</td>\n",
       "    </tr>\n",
       "  </tbody>\n",
       "</table>\n",
       "</div>"
      ],
      "text/plain": [
       "   user_id  age churn_date              city first_name  last_name  \\\n",
       "0     1000   52        NaN         Краснодар     Рафаил  Верещагин   \n",
       "1     1001   41        NaN            Москва       Иван       Ежов   \n",
       "2     1002   59        NaN       Стерлитамак    Евгений  Абрамович   \n",
       "3     1003   23        NaN            Москва      Белла   Белякова   \n",
       "4     1004   68        NaN       Новокузнецк    Татьяна   Авдеенко   \n",
       "5     1005   67        NaN  Набережные Челны   Афанасий     Горлов   \n",
       "6     1006   21        NaN         Ульяновск     Леонид   Ермолаев   \n",
       "7     1007   65        NaN            Москва        Юна   Березина   \n",
       "8     1008   63        NaN         Челябинск     Рустэм  Пономарёв   \n",
       "9     1009   24        NaN             Пермь   Василиса    Блинова   \n",
       "\n",
       "     reg_date tariff  \n",
       "0  2018-05-25  ultra  \n",
       "1  2018-11-01  smart  \n",
       "2  2018-06-17  smart  \n",
       "3  2018-08-17  ultra  \n",
       "4  2018-05-14  ultra  \n",
       "5  2018-01-25  smart  \n",
       "6  2018-02-26  smart  \n",
       "7  2018-04-19  smart  \n",
       "8  2018-12-19  smart  \n",
       "9  2018-03-22  smart  "
      ]
     },
     "execution_count": 3,
     "metadata": {},
     "output_type": "execute_result"
    }
   ],
   "source": [
    "# получение первых 10 строк датасета\n",
    "users.head(10)"
   ]
  },
  {
   "cell_type": "code",
   "execution_count": 4,
   "metadata": {},
   "outputs": [
    {
     "name": "stdout",
     "output_type": "stream",
     "text": [
      "<class 'pandas.core.frame.DataFrame'>\n",
      "RangeIndex: 500 entries, 0 to 499\n",
      "Data columns (total 8 columns):\n",
      "user_id       500 non-null int64\n",
      "age           500 non-null int64\n",
      "churn_date    38 non-null object\n",
      "city          500 non-null object\n",
      "first_name    500 non-null object\n",
      "last_name     500 non-null object\n",
      "reg_date      500 non-null object\n",
      "tariff        500 non-null object\n",
      "dtypes: int64(2), object(6)\n",
      "memory usage: 31.4+ KB\n"
     ]
    }
   ],
   "source": [
    "# получение общей информации о данных датасета\n",
    "users.info()"
   ]
  },
  {
   "cell_type": "code",
   "execution_count": 5,
   "metadata": {},
   "outputs": [
    {
     "data": {
      "text/plain": [
       "count    500.00000\n",
       "mean      46.58800\n",
       "std       16.66763\n",
       "min       18.00000\n",
       "25%       32.00000\n",
       "50%       46.00000\n",
       "75%       62.00000\n",
       "max       75.00000\n",
       "Name: age, dtype: float64"
      ]
     },
     "execution_count": 5,
     "metadata": {},
     "output_type": "execute_result"
    }
   ],
   "source": [
    "# получение описательной статистики данных датасета\n",
    "users['age'].describe()"
   ]
  },
  {
   "cell_type": "markdown",
   "metadata": {},
   "source": [
    "Датасет содержит информацию о 500 пользователях, 38 из которых прекратили использование тарифа. Возрастной диапазон пользователей колеблется в диапазоне от 18 до 75 лет.\n",
    "\n",
    "Данные с датами имеют неверный формат, требуется сменить тип.\n",
    "\n",
    "Переименуем столбец `tariff` в `tariff_name`, чтобы удобнее было сопоставлять данные о пользователях и данные о тарифах."
   ]
  },
  {
   "cell_type": "markdown",
   "metadata": {},
   "source": [
    "**Информация о звонках**"
   ]
  },
  {
   "cell_type": "code",
   "execution_count": 6,
   "metadata": {},
   "outputs": [
    {
     "data": {
      "text/html": [
       "<div>\n",
       "<style scoped>\n",
       "    .dataframe tbody tr th:only-of-type {\n",
       "        vertical-align: middle;\n",
       "    }\n",
       "\n",
       "    .dataframe tbody tr th {\n",
       "        vertical-align: top;\n",
       "    }\n",
       "\n",
       "    .dataframe thead th {\n",
       "        text-align: right;\n",
       "    }\n",
       "</style>\n",
       "<table border=\"1\" class=\"dataframe\">\n",
       "  <thead>\n",
       "    <tr style=\"text-align: right;\">\n",
       "      <th></th>\n",
       "      <th>id</th>\n",
       "      <th>call_date</th>\n",
       "      <th>duration</th>\n",
       "      <th>user_id</th>\n",
       "    </tr>\n",
       "  </thead>\n",
       "  <tbody>\n",
       "    <tr>\n",
       "      <td>0</td>\n",
       "      <td>1000_0</td>\n",
       "      <td>2018-07-25</td>\n",
       "      <td>0.00</td>\n",
       "      <td>1000</td>\n",
       "    </tr>\n",
       "    <tr>\n",
       "      <td>1</td>\n",
       "      <td>1000_1</td>\n",
       "      <td>2018-08-17</td>\n",
       "      <td>0.00</td>\n",
       "      <td>1000</td>\n",
       "    </tr>\n",
       "    <tr>\n",
       "      <td>2</td>\n",
       "      <td>1000_2</td>\n",
       "      <td>2018-06-11</td>\n",
       "      <td>2.85</td>\n",
       "      <td>1000</td>\n",
       "    </tr>\n",
       "    <tr>\n",
       "      <td>3</td>\n",
       "      <td>1000_3</td>\n",
       "      <td>2018-09-21</td>\n",
       "      <td>13.80</td>\n",
       "      <td>1000</td>\n",
       "    </tr>\n",
       "    <tr>\n",
       "      <td>4</td>\n",
       "      <td>1000_4</td>\n",
       "      <td>2018-12-15</td>\n",
       "      <td>5.18</td>\n",
       "      <td>1000</td>\n",
       "    </tr>\n",
       "    <tr>\n",
       "      <td>5</td>\n",
       "      <td>1000_5</td>\n",
       "      <td>2018-11-02</td>\n",
       "      <td>0.00</td>\n",
       "      <td>1000</td>\n",
       "    </tr>\n",
       "    <tr>\n",
       "      <td>6</td>\n",
       "      <td>1000_6</td>\n",
       "      <td>2018-10-18</td>\n",
       "      <td>0.00</td>\n",
       "      <td>1000</td>\n",
       "    </tr>\n",
       "    <tr>\n",
       "      <td>7</td>\n",
       "      <td>1000_7</td>\n",
       "      <td>2018-08-22</td>\n",
       "      <td>18.31</td>\n",
       "      <td>1000</td>\n",
       "    </tr>\n",
       "    <tr>\n",
       "      <td>8</td>\n",
       "      <td>1000_8</td>\n",
       "      <td>2018-09-15</td>\n",
       "      <td>18.44</td>\n",
       "      <td>1000</td>\n",
       "    </tr>\n",
       "    <tr>\n",
       "      <td>9</td>\n",
       "      <td>1000_9</td>\n",
       "      <td>2018-08-15</td>\n",
       "      <td>0.00</td>\n",
       "      <td>1000</td>\n",
       "    </tr>\n",
       "  </tbody>\n",
       "</table>\n",
       "</div>"
      ],
      "text/plain": [
       "       id   call_date  duration  user_id\n",
       "0  1000_0  2018-07-25      0.00     1000\n",
       "1  1000_1  2018-08-17      0.00     1000\n",
       "2  1000_2  2018-06-11      2.85     1000\n",
       "3  1000_3  2018-09-21     13.80     1000\n",
       "4  1000_4  2018-12-15      5.18     1000\n",
       "5  1000_5  2018-11-02      0.00     1000\n",
       "6  1000_6  2018-10-18      0.00     1000\n",
       "7  1000_7  2018-08-22     18.31     1000\n",
       "8  1000_8  2018-09-15     18.44     1000\n",
       "9  1000_9  2018-08-15      0.00     1000"
      ]
     },
     "execution_count": 6,
     "metadata": {},
     "output_type": "execute_result"
    }
   ],
   "source": [
    "# получение первых 10 строк датасета\n",
    "calls.head(10)"
   ]
  },
  {
   "cell_type": "code",
   "execution_count": 7,
   "metadata": {},
   "outputs": [
    {
     "name": "stdout",
     "output_type": "stream",
     "text": [
      "<class 'pandas.core.frame.DataFrame'>\n",
      "RangeIndex: 202607 entries, 0 to 202606\n",
      "Data columns (total 4 columns):\n",
      "id           202607 non-null object\n",
      "call_date    202607 non-null object\n",
      "duration     202607 non-null float64\n",
      "user_id      202607 non-null int64\n",
      "dtypes: float64(1), int64(1), object(2)\n",
      "memory usage: 6.2+ MB\n"
     ]
    }
   ],
   "source": [
    "# получение общей информации о данных датасета\n",
    "calls.info()"
   ]
  },
  {
   "cell_type": "code",
   "execution_count": 8,
   "metadata": {},
   "outputs": [
    {
     "data": {
      "text/plain": [
       "count    202607.000000\n",
       "mean          6.755887\n",
       "std           5.843365\n",
       "min           0.000000\n",
       "25%           1.300000\n",
       "50%           6.000000\n",
       "75%          10.700000\n",
       "max          38.000000\n",
       "Name: duration, dtype: float64"
      ]
     },
     "execution_count": 8,
     "metadata": {},
     "output_type": "execute_result"
    }
   ],
   "source": [
    "# получение описательной статистики данных датасета\n",
    "calls['duration'].describe()"
   ]
  },
  {
   "cell_type": "markdown",
   "metadata": {},
   "source": [
    "В данных о звонках также следует сменить тип данных с датами.\n",
    "\n",
    "Приведем данные о длительности к целым значениям.\n",
    "Каждый звонок округляется в большую сторону: даже если он длился всего 1 секунду, будет засчитан как 1 минута. Звонки длительностью 0 минут являются пропущенными звонками.\n",
    "\n",
    "Для дальнейших расчетов добавим столбец с данными о месяце совершения звонка."
   ]
  },
  {
   "cell_type": "markdown",
   "metadata": {},
   "source": [
    "**Информация о сообщениях**"
   ]
  },
  {
   "cell_type": "code",
   "execution_count": 9,
   "metadata": {},
   "outputs": [
    {
     "data": {
      "text/html": [
       "<div>\n",
       "<style scoped>\n",
       "    .dataframe tbody tr th:only-of-type {\n",
       "        vertical-align: middle;\n",
       "    }\n",
       "\n",
       "    .dataframe tbody tr th {\n",
       "        vertical-align: top;\n",
       "    }\n",
       "\n",
       "    .dataframe thead th {\n",
       "        text-align: right;\n",
       "    }\n",
       "</style>\n",
       "<table border=\"1\" class=\"dataframe\">\n",
       "  <thead>\n",
       "    <tr style=\"text-align: right;\">\n",
       "      <th></th>\n",
       "      <th>id</th>\n",
       "      <th>message_date</th>\n",
       "      <th>user_id</th>\n",
       "    </tr>\n",
       "  </thead>\n",
       "  <tbody>\n",
       "    <tr>\n",
       "      <td>0</td>\n",
       "      <td>1000_0</td>\n",
       "      <td>2018-06-27</td>\n",
       "      <td>1000</td>\n",
       "    </tr>\n",
       "    <tr>\n",
       "      <td>1</td>\n",
       "      <td>1000_1</td>\n",
       "      <td>2018-10-08</td>\n",
       "      <td>1000</td>\n",
       "    </tr>\n",
       "    <tr>\n",
       "      <td>2</td>\n",
       "      <td>1000_2</td>\n",
       "      <td>2018-08-04</td>\n",
       "      <td>1000</td>\n",
       "    </tr>\n",
       "    <tr>\n",
       "      <td>3</td>\n",
       "      <td>1000_3</td>\n",
       "      <td>2018-06-16</td>\n",
       "      <td>1000</td>\n",
       "    </tr>\n",
       "    <tr>\n",
       "      <td>4</td>\n",
       "      <td>1000_4</td>\n",
       "      <td>2018-12-05</td>\n",
       "      <td>1000</td>\n",
       "    </tr>\n",
       "    <tr>\n",
       "      <td>5</td>\n",
       "      <td>1000_5</td>\n",
       "      <td>2018-06-20</td>\n",
       "      <td>1000</td>\n",
       "    </tr>\n",
       "    <tr>\n",
       "      <td>6</td>\n",
       "      <td>1000_6</td>\n",
       "      <td>2018-11-19</td>\n",
       "      <td>1000</td>\n",
       "    </tr>\n",
       "    <tr>\n",
       "      <td>7</td>\n",
       "      <td>1000_7</td>\n",
       "      <td>2018-10-29</td>\n",
       "      <td>1000</td>\n",
       "    </tr>\n",
       "    <tr>\n",
       "      <td>8</td>\n",
       "      <td>1000_8</td>\n",
       "      <td>2018-06-25</td>\n",
       "      <td>1000</td>\n",
       "    </tr>\n",
       "    <tr>\n",
       "      <td>9</td>\n",
       "      <td>1000_9</td>\n",
       "      <td>2018-12-18</td>\n",
       "      <td>1000</td>\n",
       "    </tr>\n",
       "  </tbody>\n",
       "</table>\n",
       "</div>"
      ],
      "text/plain": [
       "       id message_date  user_id\n",
       "0  1000_0   2018-06-27     1000\n",
       "1  1000_1   2018-10-08     1000\n",
       "2  1000_2   2018-08-04     1000\n",
       "3  1000_3   2018-06-16     1000\n",
       "4  1000_4   2018-12-05     1000\n",
       "5  1000_5   2018-06-20     1000\n",
       "6  1000_6   2018-11-19     1000\n",
       "7  1000_7   2018-10-29     1000\n",
       "8  1000_8   2018-06-25     1000\n",
       "9  1000_9   2018-12-18     1000"
      ]
     },
     "execution_count": 9,
     "metadata": {},
     "output_type": "execute_result"
    }
   ],
   "source": [
    "# получение первых 10 строк датасета\n",
    "messages.head(10)"
   ]
  },
  {
   "cell_type": "code",
   "execution_count": 10,
   "metadata": {},
   "outputs": [
    {
     "name": "stdout",
     "output_type": "stream",
     "text": [
      "<class 'pandas.core.frame.DataFrame'>\n",
      "RangeIndex: 123036 entries, 0 to 123035\n",
      "Data columns (total 3 columns):\n",
      "id              123036 non-null object\n",
      "message_date    123036 non-null object\n",
      "user_id         123036 non-null int64\n",
      "dtypes: int64(1), object(2)\n",
      "memory usage: 2.8+ MB\n"
     ]
    }
   ],
   "source": [
    "# получение общей информации о данных датасета\n",
    "messages.info()"
   ]
  },
  {
   "cell_type": "markdown",
   "metadata": {},
   "source": [
    "В данных о сообщениях также следует сменить тип данных с датами.\n",
    "\n",
    "Для дальнейших расчетов добавим столбец с данными о месяце отправки сообщения."
   ]
  },
  {
   "cell_type": "markdown",
   "metadata": {},
   "source": [
    "**Информация об интернет-сессиях**"
   ]
  },
  {
   "cell_type": "code",
   "execution_count": 11,
   "metadata": {},
   "outputs": [
    {
     "data": {
      "text/html": [
       "<div>\n",
       "<style scoped>\n",
       "    .dataframe tbody tr th:only-of-type {\n",
       "        vertical-align: middle;\n",
       "    }\n",
       "\n",
       "    .dataframe tbody tr th {\n",
       "        vertical-align: top;\n",
       "    }\n",
       "\n",
       "    .dataframe thead th {\n",
       "        text-align: right;\n",
       "    }\n",
       "</style>\n",
       "<table border=\"1\" class=\"dataframe\">\n",
       "  <thead>\n",
       "    <tr style=\"text-align: right;\">\n",
       "      <th></th>\n",
       "      <th>Unnamed: 0</th>\n",
       "      <th>id</th>\n",
       "      <th>mb_used</th>\n",
       "      <th>session_date</th>\n",
       "      <th>user_id</th>\n",
       "    </tr>\n",
       "  </thead>\n",
       "  <tbody>\n",
       "    <tr>\n",
       "      <td>0</td>\n",
       "      <td>0</td>\n",
       "      <td>1000_0</td>\n",
       "      <td>112.95</td>\n",
       "      <td>2018-11-25</td>\n",
       "      <td>1000</td>\n",
       "    </tr>\n",
       "    <tr>\n",
       "      <td>1</td>\n",
       "      <td>1</td>\n",
       "      <td>1000_1</td>\n",
       "      <td>1052.81</td>\n",
       "      <td>2018-09-07</td>\n",
       "      <td>1000</td>\n",
       "    </tr>\n",
       "    <tr>\n",
       "      <td>2</td>\n",
       "      <td>2</td>\n",
       "      <td>1000_2</td>\n",
       "      <td>1197.26</td>\n",
       "      <td>2018-06-25</td>\n",
       "      <td>1000</td>\n",
       "    </tr>\n",
       "    <tr>\n",
       "      <td>3</td>\n",
       "      <td>3</td>\n",
       "      <td>1000_3</td>\n",
       "      <td>550.27</td>\n",
       "      <td>2018-08-22</td>\n",
       "      <td>1000</td>\n",
       "    </tr>\n",
       "    <tr>\n",
       "      <td>4</td>\n",
       "      <td>4</td>\n",
       "      <td>1000_4</td>\n",
       "      <td>302.56</td>\n",
       "      <td>2018-09-24</td>\n",
       "      <td>1000</td>\n",
       "    </tr>\n",
       "    <tr>\n",
       "      <td>5</td>\n",
       "      <td>5</td>\n",
       "      <td>1000_5</td>\n",
       "      <td>399.97</td>\n",
       "      <td>2018-10-02</td>\n",
       "      <td>1000</td>\n",
       "    </tr>\n",
       "    <tr>\n",
       "      <td>6</td>\n",
       "      <td>6</td>\n",
       "      <td>1000_6</td>\n",
       "      <td>540.08</td>\n",
       "      <td>2018-09-07</td>\n",
       "      <td>1000</td>\n",
       "    </tr>\n",
       "    <tr>\n",
       "      <td>7</td>\n",
       "      <td>7</td>\n",
       "      <td>1000_7</td>\n",
       "      <td>415.70</td>\n",
       "      <td>2018-07-11</td>\n",
       "      <td>1000</td>\n",
       "    </tr>\n",
       "    <tr>\n",
       "      <td>8</td>\n",
       "      <td>8</td>\n",
       "      <td>1000_8</td>\n",
       "      <td>505.40</td>\n",
       "      <td>2018-10-08</td>\n",
       "      <td>1000</td>\n",
       "    </tr>\n",
       "    <tr>\n",
       "      <td>9</td>\n",
       "      <td>9</td>\n",
       "      <td>1000_9</td>\n",
       "      <td>345.54</td>\n",
       "      <td>2018-09-03</td>\n",
       "      <td>1000</td>\n",
       "    </tr>\n",
       "  </tbody>\n",
       "</table>\n",
       "</div>"
      ],
      "text/plain": [
       "   Unnamed: 0      id  mb_used session_date  user_id\n",
       "0           0  1000_0   112.95   2018-11-25     1000\n",
       "1           1  1000_1  1052.81   2018-09-07     1000\n",
       "2           2  1000_2  1197.26   2018-06-25     1000\n",
       "3           3  1000_3   550.27   2018-08-22     1000\n",
       "4           4  1000_4   302.56   2018-09-24     1000\n",
       "5           5  1000_5   399.97   2018-10-02     1000\n",
       "6           6  1000_6   540.08   2018-09-07     1000\n",
       "7           7  1000_7   415.70   2018-07-11     1000\n",
       "8           8  1000_8   505.40   2018-10-08     1000\n",
       "9           9  1000_9   345.54   2018-09-03     1000"
      ]
     },
     "execution_count": 11,
     "metadata": {},
     "output_type": "execute_result"
    }
   ],
   "source": [
    "# получение первых 10 строк датасета\n",
    "internet.head(10)"
   ]
  },
  {
   "cell_type": "code",
   "execution_count": 12,
   "metadata": {},
   "outputs": [
    {
     "name": "stdout",
     "output_type": "stream",
     "text": [
      "<class 'pandas.core.frame.DataFrame'>\n",
      "RangeIndex: 149396 entries, 0 to 149395\n",
      "Data columns (total 5 columns):\n",
      "Unnamed: 0      149396 non-null int64\n",
      "id              149396 non-null object\n",
      "mb_used         149396 non-null float64\n",
      "session_date    149396 non-null object\n",
      "user_id         149396 non-null int64\n",
      "dtypes: float64(1), int64(2), object(2)\n",
      "memory usage: 5.7+ MB\n"
     ]
    }
   ],
   "source": [
    "# получение общей информации о данных датасета\n",
    "internet.info()"
   ]
  },
  {
   "cell_type": "code",
   "execution_count": 13,
   "metadata": {},
   "outputs": [
    {
     "data": {
      "text/plain": [
       "count    149396.000000\n",
       "mean        370.192426\n",
       "std         278.300951\n",
       "min           0.000000\n",
       "25%         138.187500\n",
       "50%         348.015000\n",
       "75%         559.552500\n",
       "max        1724.830000\n",
       "Name: mb_used, dtype: float64"
      ]
     },
     "execution_count": 13,
     "metadata": {},
     "output_type": "execute_result"
    }
   ],
   "source": [
    "# получение описательной статистики данных датасета\n",
    "internet['mb_used'].describe()"
   ]
  },
  {
   "cell_type": "markdown",
   "metadata": {},
   "source": [
    "Удалим столбец `Unnamed: 0`, так как он не несет полезной информации и является лишним.\n",
    "\n",
    "Данные об объём потраченного за сессию интернет-трафика приводить к целым значениям не будем, так как сначала необходимо учесть общую сумму трафика за месяц, которая затем округляется в большую сторону. Добавим столбец с данными о месяце интернет-сессии.\n",
    "\n",
    "В данных о сообщениях также следует сменить тип данных с датами."
   ]
  },
  {
   "cell_type": "markdown",
   "metadata": {},
   "source": [
    "**Информация о тарифах**"
   ]
  },
  {
   "cell_type": "code",
   "execution_count": 14,
   "metadata": {},
   "outputs": [
    {
     "data": {
      "text/html": [
       "<div>\n",
       "<style scoped>\n",
       "    .dataframe tbody tr th:only-of-type {\n",
       "        vertical-align: middle;\n",
       "    }\n",
       "\n",
       "    .dataframe tbody tr th {\n",
       "        vertical-align: top;\n",
       "    }\n",
       "\n",
       "    .dataframe thead th {\n",
       "        text-align: right;\n",
       "    }\n",
       "</style>\n",
       "<table border=\"1\" class=\"dataframe\">\n",
       "  <thead>\n",
       "    <tr style=\"text-align: right;\">\n",
       "      <th></th>\n",
       "      <th>messages_included</th>\n",
       "      <th>mb_per_month_included</th>\n",
       "      <th>minutes_included</th>\n",
       "      <th>rub_monthly_fee</th>\n",
       "      <th>rub_per_gb</th>\n",
       "      <th>rub_per_message</th>\n",
       "      <th>rub_per_minute</th>\n",
       "      <th>tariff_name</th>\n",
       "    </tr>\n",
       "  </thead>\n",
       "  <tbody>\n",
       "    <tr>\n",
       "      <td>0</td>\n",
       "      <td>50</td>\n",
       "      <td>15360</td>\n",
       "      <td>500</td>\n",
       "      <td>550</td>\n",
       "      <td>200</td>\n",
       "      <td>3</td>\n",
       "      <td>3</td>\n",
       "      <td>smart</td>\n",
       "    </tr>\n",
       "    <tr>\n",
       "      <td>1</td>\n",
       "      <td>1000</td>\n",
       "      <td>30720</td>\n",
       "      <td>3000</td>\n",
       "      <td>1950</td>\n",
       "      <td>150</td>\n",
       "      <td>1</td>\n",
       "      <td>1</td>\n",
       "      <td>ultra</td>\n",
       "    </tr>\n",
       "  </tbody>\n",
       "</table>\n",
       "</div>"
      ],
      "text/plain": [
       "   messages_included  mb_per_month_included  minutes_included  \\\n",
       "0                 50                  15360               500   \n",
       "1               1000                  30720              3000   \n",
       "\n",
       "   rub_monthly_fee  rub_per_gb  rub_per_message  rub_per_minute tariff_name  \n",
       "0              550         200                3               3       smart  \n",
       "1             1950         150                1               1       ultra  "
      ]
     },
     "execution_count": 14,
     "metadata": {},
     "output_type": "execute_result"
    }
   ],
   "source": [
    "# получение первых строк датасета\n",
    "tariffs.head()"
   ]
  },
  {
   "cell_type": "code",
   "execution_count": 15,
   "metadata": {},
   "outputs": [
    {
     "name": "stdout",
     "output_type": "stream",
     "text": [
      "<class 'pandas.core.frame.DataFrame'>\n",
      "RangeIndex: 2 entries, 0 to 1\n",
      "Data columns (total 8 columns):\n",
      "messages_included        2 non-null int64\n",
      "mb_per_month_included    2 non-null int64\n",
      "minutes_included         2 non-null int64\n",
      "rub_monthly_fee          2 non-null int64\n",
      "rub_per_gb               2 non-null int64\n",
      "rub_per_message          2 non-null int64\n",
      "rub_per_minute           2 non-null int64\n",
      "tariff_name              2 non-null object\n",
      "dtypes: int64(7), object(1)\n",
      "memory usage: 256.0+ bytes\n"
     ]
    }
   ],
   "source": [
    "# получение общей информации о данных датасета\n",
    "tariffs.info()"
   ]
  },
  {
   "cell_type": "markdown",
   "metadata": {},
   "source": [
    "Если абонент использует 1025 мегабайт в этом месяце, с него возьмут плату за 2 гигабайта. Для удобства переведем данные столбца `mb_per_month_included` в гигабайты и переименуем этот столбец в `gb_per_month_included`."
   ]
  },
  {
   "cell_type": "markdown",
   "metadata": {},
   "source": [
    "### Выводы"
   ]
  },
  {
   "cell_type": "markdown",
   "metadata": {},
   "source": [
    "Необходимо провести следующую подготовку данных:\n",
    "* в таблице с информацией о пользователях перевести столбцы `reg_date` и `churn_date` в формат даты, а столбец `tariff` переименовать в `tariff_name`, чтобы удобнее было сопоставлять данные о пользователях и данные о тарифах;\n",
    "\n",
    "\n",
    "* в таблице с информацией о звонках перевести столбец `call_date` в формат даты, данные столбца `duration` привести к целым значениям путем округления в большую сторону, и добавить столбец `month`;\n",
    "\n",
    "\n",
    "* в таблице с информацией о сообщениях перевести столбец `message_date` в формат даты и добавить столбец `month`;\n",
    "\n",
    "\n",
    "* в таблице с информацией об интернет-сессиях перевести столбец `session_date` в формат даты, добавить столбец `month` и удалить столбец `Unnamed: 0`;\n",
    "\n",
    "\n",
    "* в таблице с информацией о тарифах перевести данные столбца `mb_per_month_included` в гигабайты и переименовать этот столбец в `gb_per_month_included`."
   ]
  },
  {
   "cell_type": "markdown",
   "metadata": {},
   "source": [
    "## Подготовка данных"
   ]
  },
  {
   "cell_type": "markdown",
   "metadata": {},
   "source": [
    "### Приведение данных к нужным типам"
   ]
  },
  {
   "cell_type": "markdown",
   "metadata": {},
   "source": [
    "Перевод столбцов `reg_date`, `churn_date`, `call_date`, `message_date` и `session_date` в формат даты"
   ]
  },
  {
   "cell_type": "code",
   "execution_count": 16,
   "metadata": {},
   "outputs": [],
   "source": [
    "# перевод в формат даты\n",
    "users['reg_date'] = pd.to_datetime(users['reg_date'], format='%Y-%m-%d')\n",
    "users['churn_date'] = pd.to_datetime(users['churn_date'], format='%Y-%m-%d')\n",
    "calls['call_date'] = pd.to_datetime(calls['call_date'], format='%Y-%m-%d')\n",
    "messages['message_date'] = pd.to_datetime(messages['message_date'], format='%Y-%m-%d')\n",
    "internet['session_date'] = pd.to_datetime(internet['session_date'], format='%Y-%m-%d')"
   ]
  },
  {
   "cell_type": "code",
   "execution_count": 17,
   "metadata": {},
   "outputs": [
    {
     "name": "stdout",
     "output_type": "stream",
     "text": [
      "<class 'pandas.core.frame.DataFrame'>\n",
      "RangeIndex: 500 entries, 0 to 499\n",
      "Data columns (total 8 columns):\n",
      "user_id       500 non-null int64\n",
      "age           500 non-null int64\n",
      "churn_date    38 non-null datetime64[ns]\n",
      "city          500 non-null object\n",
      "first_name    500 non-null object\n",
      "last_name     500 non-null object\n",
      "reg_date      500 non-null datetime64[ns]\n",
      "tariff        500 non-null object\n",
      "dtypes: datetime64[ns](2), int64(2), object(4)\n",
      "memory usage: 31.4+ KB\n"
     ]
    }
   ],
   "source": [
    "# получение общей информации о данных датасета\n",
    "users.info()"
   ]
  },
  {
   "cell_type": "code",
   "execution_count": 18,
   "metadata": {},
   "outputs": [
    {
     "name": "stdout",
     "output_type": "stream",
     "text": [
      "<class 'pandas.core.frame.DataFrame'>\n",
      "RangeIndex: 202607 entries, 0 to 202606\n",
      "Data columns (total 4 columns):\n",
      "id           202607 non-null object\n",
      "call_date    202607 non-null datetime64[ns]\n",
      "duration     202607 non-null float64\n",
      "user_id      202607 non-null int64\n",
      "dtypes: datetime64[ns](1), float64(1), int64(1), object(1)\n",
      "memory usage: 6.2+ MB\n"
     ]
    }
   ],
   "source": [
    "# получение общей информации о данных датасета\n",
    "calls.info()"
   ]
  },
  {
   "cell_type": "code",
   "execution_count": 19,
   "metadata": {},
   "outputs": [
    {
     "name": "stdout",
     "output_type": "stream",
     "text": [
      "<class 'pandas.core.frame.DataFrame'>\n",
      "RangeIndex: 123036 entries, 0 to 123035\n",
      "Data columns (total 3 columns):\n",
      "id              123036 non-null object\n",
      "message_date    123036 non-null datetime64[ns]\n",
      "user_id         123036 non-null int64\n",
      "dtypes: datetime64[ns](1), int64(1), object(1)\n",
      "memory usage: 2.8+ MB\n"
     ]
    }
   ],
   "source": [
    "# получение общей информации о данных датасета\n",
    "messages.info()"
   ]
  },
  {
   "cell_type": "code",
   "execution_count": 20,
   "metadata": {},
   "outputs": [
    {
     "name": "stdout",
     "output_type": "stream",
     "text": [
      "<class 'pandas.core.frame.DataFrame'>\n",
      "RangeIndex: 149396 entries, 0 to 149395\n",
      "Data columns (total 5 columns):\n",
      "Unnamed: 0      149396 non-null int64\n",
      "id              149396 non-null object\n",
      "mb_used         149396 non-null float64\n",
      "session_date    149396 non-null datetime64[ns]\n",
      "user_id         149396 non-null int64\n",
      "dtypes: datetime64[ns](1), float64(1), int64(2), object(1)\n",
      "memory usage: 5.7+ MB\n"
     ]
    }
   ],
   "source": [
    "# получение общей информации о данных датасета\n",
    "internet.info()"
   ]
  },
  {
   "cell_type": "markdown",
   "metadata": {},
   "source": [
    "Перевод столбца `duration` к целым значениям путем округления в большую сторону"
   ]
  },
  {
   "cell_type": "code",
   "execution_count": 21,
   "metadata": {},
   "outputs": [],
   "source": [
    "# округление до целого\n",
    "calls['duration'] = calls['duration'].apply(np.ceil).astype('int')"
   ]
  },
  {
   "cell_type": "code",
   "execution_count": 22,
   "metadata": {},
   "outputs": [
    {
     "data": {
      "text/html": [
       "<div>\n",
       "<style scoped>\n",
       "    .dataframe tbody tr th:only-of-type {\n",
       "        vertical-align: middle;\n",
       "    }\n",
       "\n",
       "    .dataframe tbody tr th {\n",
       "        vertical-align: top;\n",
       "    }\n",
       "\n",
       "    .dataframe thead th {\n",
       "        text-align: right;\n",
       "    }\n",
       "</style>\n",
       "<table border=\"1\" class=\"dataframe\">\n",
       "  <thead>\n",
       "    <tr style=\"text-align: right;\">\n",
       "      <th></th>\n",
       "      <th>id</th>\n",
       "      <th>call_date</th>\n",
       "      <th>duration</th>\n",
       "      <th>user_id</th>\n",
       "    </tr>\n",
       "  </thead>\n",
       "  <tbody>\n",
       "    <tr>\n",
       "      <td>0</td>\n",
       "      <td>1000_0</td>\n",
       "      <td>2018-07-25</td>\n",
       "      <td>0</td>\n",
       "      <td>1000</td>\n",
       "    </tr>\n",
       "    <tr>\n",
       "      <td>1</td>\n",
       "      <td>1000_1</td>\n",
       "      <td>2018-08-17</td>\n",
       "      <td>0</td>\n",
       "      <td>1000</td>\n",
       "    </tr>\n",
       "    <tr>\n",
       "      <td>2</td>\n",
       "      <td>1000_2</td>\n",
       "      <td>2018-06-11</td>\n",
       "      <td>3</td>\n",
       "      <td>1000</td>\n",
       "    </tr>\n",
       "    <tr>\n",
       "      <td>3</td>\n",
       "      <td>1000_3</td>\n",
       "      <td>2018-09-21</td>\n",
       "      <td>14</td>\n",
       "      <td>1000</td>\n",
       "    </tr>\n",
       "    <tr>\n",
       "      <td>4</td>\n",
       "      <td>1000_4</td>\n",
       "      <td>2018-12-15</td>\n",
       "      <td>6</td>\n",
       "      <td>1000</td>\n",
       "    </tr>\n",
       "    <tr>\n",
       "      <td>5</td>\n",
       "      <td>1000_5</td>\n",
       "      <td>2018-11-02</td>\n",
       "      <td>0</td>\n",
       "      <td>1000</td>\n",
       "    </tr>\n",
       "    <tr>\n",
       "      <td>6</td>\n",
       "      <td>1000_6</td>\n",
       "      <td>2018-10-18</td>\n",
       "      <td>0</td>\n",
       "      <td>1000</td>\n",
       "    </tr>\n",
       "    <tr>\n",
       "      <td>7</td>\n",
       "      <td>1000_7</td>\n",
       "      <td>2018-08-22</td>\n",
       "      <td>19</td>\n",
       "      <td>1000</td>\n",
       "    </tr>\n",
       "    <tr>\n",
       "      <td>8</td>\n",
       "      <td>1000_8</td>\n",
       "      <td>2018-09-15</td>\n",
       "      <td>19</td>\n",
       "      <td>1000</td>\n",
       "    </tr>\n",
       "    <tr>\n",
       "      <td>9</td>\n",
       "      <td>1000_9</td>\n",
       "      <td>2018-08-15</td>\n",
       "      <td>0</td>\n",
       "      <td>1000</td>\n",
       "    </tr>\n",
       "  </tbody>\n",
       "</table>\n",
       "</div>"
      ],
      "text/plain": [
       "       id  call_date  duration  user_id\n",
       "0  1000_0 2018-07-25         0     1000\n",
       "1  1000_1 2018-08-17         0     1000\n",
       "2  1000_2 2018-06-11         3     1000\n",
       "3  1000_3 2018-09-21        14     1000\n",
       "4  1000_4 2018-12-15         6     1000\n",
       "5  1000_5 2018-11-02         0     1000\n",
       "6  1000_6 2018-10-18         0     1000\n",
       "7  1000_7 2018-08-22        19     1000\n",
       "8  1000_8 2018-09-15        19     1000\n",
       "9  1000_9 2018-08-15         0     1000"
      ]
     },
     "execution_count": 22,
     "metadata": {},
     "output_type": "execute_result"
    }
   ],
   "source": [
    "# получение первых 10 строк датасета\n",
    "calls.head(10)"
   ]
  },
  {
   "cell_type": "markdown",
   "metadata": {},
   "source": [
    "### Изменение данных для удобства анализа"
   ]
  },
  {
   "cell_type": "markdown",
   "metadata": {},
   "source": [
    "Переименование столбцов `tariff` и `mb_per_month_included` и перевод данных столбца `mb_per_month_included` в гигабайты"
   ]
  },
  {
   "cell_type": "code",
   "execution_count": 23,
   "metadata": {},
   "outputs": [],
   "source": [
    "# переименование столбца\n",
    "users = users.rename(columns={'tariff': 'tariff_name'})"
   ]
  },
  {
   "cell_type": "code",
   "execution_count": 24,
   "metadata": {},
   "outputs": [
    {
     "data": {
      "text/plain": [
       "Index(['user_id', 'age', 'churn_date', 'city', 'first_name', 'last_name',\n",
       "       'reg_date', 'tariff_name'],\n",
       "      dtype='object')"
      ]
     },
     "execution_count": 24,
     "metadata": {},
     "output_type": "execute_result"
    }
   ],
   "source": [
    "# вывод названий столбцов\n",
    "users.columns"
   ]
  },
  {
   "cell_type": "code",
   "execution_count": 25,
   "metadata": {},
   "outputs": [],
   "source": [
    "# переименование столбца и пересчет в гигабайты\n",
    "tariffs['mb_per_month_included'] = (tariffs['mb_per_month_included'] / 1024).astype('int')\n",
    "tariffs = tariffs.rename(columns={'mb_per_month_included': 'gb_per_month_included'})"
   ]
  },
  {
   "cell_type": "code",
   "execution_count": 26,
   "metadata": {},
   "outputs": [
    {
     "data": {
      "text/html": [
       "<div>\n",
       "<style scoped>\n",
       "    .dataframe tbody tr th:only-of-type {\n",
       "        vertical-align: middle;\n",
       "    }\n",
       "\n",
       "    .dataframe tbody tr th {\n",
       "        vertical-align: top;\n",
       "    }\n",
       "\n",
       "    .dataframe thead th {\n",
       "        text-align: right;\n",
       "    }\n",
       "</style>\n",
       "<table border=\"1\" class=\"dataframe\">\n",
       "  <thead>\n",
       "    <tr style=\"text-align: right;\">\n",
       "      <th></th>\n",
       "      <th>messages_included</th>\n",
       "      <th>gb_per_month_included</th>\n",
       "      <th>minutes_included</th>\n",
       "      <th>rub_monthly_fee</th>\n",
       "      <th>rub_per_gb</th>\n",
       "      <th>rub_per_message</th>\n",
       "      <th>rub_per_minute</th>\n",
       "      <th>tariff_name</th>\n",
       "    </tr>\n",
       "  </thead>\n",
       "  <tbody>\n",
       "    <tr>\n",
       "      <td>0</td>\n",
       "      <td>50</td>\n",
       "      <td>15</td>\n",
       "      <td>500</td>\n",
       "      <td>550</td>\n",
       "      <td>200</td>\n",
       "      <td>3</td>\n",
       "      <td>3</td>\n",
       "      <td>smart</td>\n",
       "    </tr>\n",
       "    <tr>\n",
       "      <td>1</td>\n",
       "      <td>1000</td>\n",
       "      <td>30</td>\n",
       "      <td>3000</td>\n",
       "      <td>1950</td>\n",
       "      <td>150</td>\n",
       "      <td>1</td>\n",
       "      <td>1</td>\n",
       "      <td>ultra</td>\n",
       "    </tr>\n",
       "  </tbody>\n",
       "</table>\n",
       "</div>"
      ],
      "text/plain": [
       "   messages_included  gb_per_month_included  minutes_included  \\\n",
       "0                 50                     15               500   \n",
       "1               1000                     30              3000   \n",
       "\n",
       "   rub_monthly_fee  rub_per_gb  rub_per_message  rub_per_minute tariff_name  \n",
       "0              550         200                3               3       smart  \n",
       "1             1950         150                1               1       ultra  "
      ]
     },
     "execution_count": 26,
     "metadata": {},
     "output_type": "execute_result"
    }
   ],
   "source": [
    "# получение первых строк датасета\n",
    "tariffs.head()"
   ]
  },
  {
   "cell_type": "markdown",
   "metadata": {},
   "source": [
    "Удаление столбца `Unnamed: 0`"
   ]
  },
  {
   "cell_type": "code",
   "execution_count": 27,
   "metadata": {},
   "outputs": [],
   "source": [
    "# удаление столбца\n",
    "del internet['Unnamed: 0']"
   ]
  },
  {
   "cell_type": "code",
   "execution_count": 28,
   "metadata": {},
   "outputs": [
    {
     "data": {
      "text/html": [
       "<div>\n",
       "<style scoped>\n",
       "    .dataframe tbody tr th:only-of-type {\n",
       "        vertical-align: middle;\n",
       "    }\n",
       "\n",
       "    .dataframe tbody tr th {\n",
       "        vertical-align: top;\n",
       "    }\n",
       "\n",
       "    .dataframe thead th {\n",
       "        text-align: right;\n",
       "    }\n",
       "</style>\n",
       "<table border=\"1\" class=\"dataframe\">\n",
       "  <thead>\n",
       "    <tr style=\"text-align: right;\">\n",
       "      <th></th>\n",
       "      <th>id</th>\n",
       "      <th>mb_used</th>\n",
       "      <th>session_date</th>\n",
       "      <th>user_id</th>\n",
       "    </tr>\n",
       "  </thead>\n",
       "  <tbody>\n",
       "    <tr>\n",
       "      <td>0</td>\n",
       "      <td>1000_0</td>\n",
       "      <td>112.95</td>\n",
       "      <td>2018-11-25</td>\n",
       "      <td>1000</td>\n",
       "    </tr>\n",
       "    <tr>\n",
       "      <td>1</td>\n",
       "      <td>1000_1</td>\n",
       "      <td>1052.81</td>\n",
       "      <td>2018-09-07</td>\n",
       "      <td>1000</td>\n",
       "    </tr>\n",
       "    <tr>\n",
       "      <td>2</td>\n",
       "      <td>1000_2</td>\n",
       "      <td>1197.26</td>\n",
       "      <td>2018-06-25</td>\n",
       "      <td>1000</td>\n",
       "    </tr>\n",
       "    <tr>\n",
       "      <td>3</td>\n",
       "      <td>1000_3</td>\n",
       "      <td>550.27</td>\n",
       "      <td>2018-08-22</td>\n",
       "      <td>1000</td>\n",
       "    </tr>\n",
       "    <tr>\n",
       "      <td>4</td>\n",
       "      <td>1000_4</td>\n",
       "      <td>302.56</td>\n",
       "      <td>2018-09-24</td>\n",
       "      <td>1000</td>\n",
       "    </tr>\n",
       "    <tr>\n",
       "      <td>5</td>\n",
       "      <td>1000_5</td>\n",
       "      <td>399.97</td>\n",
       "      <td>2018-10-02</td>\n",
       "      <td>1000</td>\n",
       "    </tr>\n",
       "    <tr>\n",
       "      <td>6</td>\n",
       "      <td>1000_6</td>\n",
       "      <td>540.08</td>\n",
       "      <td>2018-09-07</td>\n",
       "      <td>1000</td>\n",
       "    </tr>\n",
       "    <tr>\n",
       "      <td>7</td>\n",
       "      <td>1000_7</td>\n",
       "      <td>415.70</td>\n",
       "      <td>2018-07-11</td>\n",
       "      <td>1000</td>\n",
       "    </tr>\n",
       "    <tr>\n",
       "      <td>8</td>\n",
       "      <td>1000_8</td>\n",
       "      <td>505.40</td>\n",
       "      <td>2018-10-08</td>\n",
       "      <td>1000</td>\n",
       "    </tr>\n",
       "    <tr>\n",
       "      <td>9</td>\n",
       "      <td>1000_9</td>\n",
       "      <td>345.54</td>\n",
       "      <td>2018-09-03</td>\n",
       "      <td>1000</td>\n",
       "    </tr>\n",
       "  </tbody>\n",
       "</table>\n",
       "</div>"
      ],
      "text/plain": [
       "       id  mb_used session_date  user_id\n",
       "0  1000_0   112.95   2018-11-25     1000\n",
       "1  1000_1  1052.81   2018-09-07     1000\n",
       "2  1000_2  1197.26   2018-06-25     1000\n",
       "3  1000_3   550.27   2018-08-22     1000\n",
       "4  1000_4   302.56   2018-09-24     1000\n",
       "5  1000_5   399.97   2018-10-02     1000\n",
       "6  1000_6   540.08   2018-09-07     1000\n",
       "7  1000_7   415.70   2018-07-11     1000\n",
       "8  1000_8   505.40   2018-10-08     1000\n",
       "9  1000_9   345.54   2018-09-03     1000"
      ]
     },
     "execution_count": 28,
     "metadata": {},
     "output_type": "execute_result"
    }
   ],
   "source": [
    "# получение первых 10 строк датасета\n",
    "internet.head(10)"
   ]
  },
  {
   "cell_type": "markdown",
   "metadata": {},
   "source": [
    "Добавление столбцов с данными о месяцах звонков, отправки сообщений и использования интернета"
   ]
  },
  {
   "cell_type": "code",
   "execution_count": 29,
   "metadata": {},
   "outputs": [],
   "source": [
    "# добавление столбцов с месяцами\n",
    "calls['month'] = pd.DatetimeIndex(calls['call_date']).month\n",
    "messages['month'] = pd.DatetimeIndex(messages['message_date']).month\n",
    "internet['month'] = pd.DatetimeIndex(internet['session_date']).month"
   ]
  },
  {
   "cell_type": "code",
   "execution_count": 30,
   "metadata": {},
   "outputs": [
    {
     "data": {
      "text/html": [
       "<div>\n",
       "<style scoped>\n",
       "    .dataframe tbody tr th:only-of-type {\n",
       "        vertical-align: middle;\n",
       "    }\n",
       "\n",
       "    .dataframe tbody tr th {\n",
       "        vertical-align: top;\n",
       "    }\n",
       "\n",
       "    .dataframe thead th {\n",
       "        text-align: right;\n",
       "    }\n",
       "</style>\n",
       "<table border=\"1\" class=\"dataframe\">\n",
       "  <thead>\n",
       "    <tr style=\"text-align: right;\">\n",
       "      <th></th>\n",
       "      <th>id</th>\n",
       "      <th>call_date</th>\n",
       "      <th>duration</th>\n",
       "      <th>user_id</th>\n",
       "      <th>month</th>\n",
       "    </tr>\n",
       "  </thead>\n",
       "  <tbody>\n",
       "    <tr>\n",
       "      <td>0</td>\n",
       "      <td>1000_0</td>\n",
       "      <td>2018-07-25</td>\n",
       "      <td>0</td>\n",
       "      <td>1000</td>\n",
       "      <td>7</td>\n",
       "    </tr>\n",
       "    <tr>\n",
       "      <td>1</td>\n",
       "      <td>1000_1</td>\n",
       "      <td>2018-08-17</td>\n",
       "      <td>0</td>\n",
       "      <td>1000</td>\n",
       "      <td>8</td>\n",
       "    </tr>\n",
       "    <tr>\n",
       "      <td>2</td>\n",
       "      <td>1000_2</td>\n",
       "      <td>2018-06-11</td>\n",
       "      <td>3</td>\n",
       "      <td>1000</td>\n",
       "      <td>6</td>\n",
       "    </tr>\n",
       "    <tr>\n",
       "      <td>3</td>\n",
       "      <td>1000_3</td>\n",
       "      <td>2018-09-21</td>\n",
       "      <td>14</td>\n",
       "      <td>1000</td>\n",
       "      <td>9</td>\n",
       "    </tr>\n",
       "    <tr>\n",
       "      <td>4</td>\n",
       "      <td>1000_4</td>\n",
       "      <td>2018-12-15</td>\n",
       "      <td>6</td>\n",
       "      <td>1000</td>\n",
       "      <td>12</td>\n",
       "    </tr>\n",
       "  </tbody>\n",
       "</table>\n",
       "</div>"
      ],
      "text/plain": [
       "       id  call_date  duration  user_id  month\n",
       "0  1000_0 2018-07-25         0     1000      7\n",
       "1  1000_1 2018-08-17         0     1000      8\n",
       "2  1000_2 2018-06-11         3     1000      6\n",
       "3  1000_3 2018-09-21        14     1000      9\n",
       "4  1000_4 2018-12-15         6     1000     12"
      ]
     },
     "execution_count": 30,
     "metadata": {},
     "output_type": "execute_result"
    }
   ],
   "source": [
    "# получение первых строк датасета\n",
    "calls.head()"
   ]
  },
  {
   "cell_type": "code",
   "execution_count": 31,
   "metadata": {},
   "outputs": [
    {
     "data": {
      "text/html": [
       "<div>\n",
       "<style scoped>\n",
       "    .dataframe tbody tr th:only-of-type {\n",
       "        vertical-align: middle;\n",
       "    }\n",
       "\n",
       "    .dataframe tbody tr th {\n",
       "        vertical-align: top;\n",
       "    }\n",
       "\n",
       "    .dataframe thead th {\n",
       "        text-align: right;\n",
       "    }\n",
       "</style>\n",
       "<table border=\"1\" class=\"dataframe\">\n",
       "  <thead>\n",
       "    <tr style=\"text-align: right;\">\n",
       "      <th></th>\n",
       "      <th>id</th>\n",
       "      <th>message_date</th>\n",
       "      <th>user_id</th>\n",
       "      <th>month</th>\n",
       "    </tr>\n",
       "  </thead>\n",
       "  <tbody>\n",
       "    <tr>\n",
       "      <td>0</td>\n",
       "      <td>1000_0</td>\n",
       "      <td>2018-06-27</td>\n",
       "      <td>1000</td>\n",
       "      <td>6</td>\n",
       "    </tr>\n",
       "    <tr>\n",
       "      <td>1</td>\n",
       "      <td>1000_1</td>\n",
       "      <td>2018-10-08</td>\n",
       "      <td>1000</td>\n",
       "      <td>10</td>\n",
       "    </tr>\n",
       "    <tr>\n",
       "      <td>2</td>\n",
       "      <td>1000_2</td>\n",
       "      <td>2018-08-04</td>\n",
       "      <td>1000</td>\n",
       "      <td>8</td>\n",
       "    </tr>\n",
       "    <tr>\n",
       "      <td>3</td>\n",
       "      <td>1000_3</td>\n",
       "      <td>2018-06-16</td>\n",
       "      <td>1000</td>\n",
       "      <td>6</td>\n",
       "    </tr>\n",
       "    <tr>\n",
       "      <td>4</td>\n",
       "      <td>1000_4</td>\n",
       "      <td>2018-12-05</td>\n",
       "      <td>1000</td>\n",
       "      <td>12</td>\n",
       "    </tr>\n",
       "  </tbody>\n",
       "</table>\n",
       "</div>"
      ],
      "text/plain": [
       "       id message_date  user_id  month\n",
       "0  1000_0   2018-06-27     1000      6\n",
       "1  1000_1   2018-10-08     1000     10\n",
       "2  1000_2   2018-08-04     1000      8\n",
       "3  1000_3   2018-06-16     1000      6\n",
       "4  1000_4   2018-12-05     1000     12"
      ]
     },
     "execution_count": 31,
     "metadata": {},
     "output_type": "execute_result"
    }
   ],
   "source": [
    "# получение первых строк датасета\n",
    "messages.head()"
   ]
  },
  {
   "cell_type": "code",
   "execution_count": 32,
   "metadata": {},
   "outputs": [
    {
     "data": {
      "text/html": [
       "<div>\n",
       "<style scoped>\n",
       "    .dataframe tbody tr th:only-of-type {\n",
       "        vertical-align: middle;\n",
       "    }\n",
       "\n",
       "    .dataframe tbody tr th {\n",
       "        vertical-align: top;\n",
       "    }\n",
       "\n",
       "    .dataframe thead th {\n",
       "        text-align: right;\n",
       "    }\n",
       "</style>\n",
       "<table border=\"1\" class=\"dataframe\">\n",
       "  <thead>\n",
       "    <tr style=\"text-align: right;\">\n",
       "      <th></th>\n",
       "      <th>id</th>\n",
       "      <th>mb_used</th>\n",
       "      <th>session_date</th>\n",
       "      <th>user_id</th>\n",
       "      <th>month</th>\n",
       "    </tr>\n",
       "  </thead>\n",
       "  <tbody>\n",
       "    <tr>\n",
       "      <td>0</td>\n",
       "      <td>1000_0</td>\n",
       "      <td>112.95</td>\n",
       "      <td>2018-11-25</td>\n",
       "      <td>1000</td>\n",
       "      <td>11</td>\n",
       "    </tr>\n",
       "    <tr>\n",
       "      <td>1</td>\n",
       "      <td>1000_1</td>\n",
       "      <td>1052.81</td>\n",
       "      <td>2018-09-07</td>\n",
       "      <td>1000</td>\n",
       "      <td>9</td>\n",
       "    </tr>\n",
       "    <tr>\n",
       "      <td>2</td>\n",
       "      <td>1000_2</td>\n",
       "      <td>1197.26</td>\n",
       "      <td>2018-06-25</td>\n",
       "      <td>1000</td>\n",
       "      <td>6</td>\n",
       "    </tr>\n",
       "    <tr>\n",
       "      <td>3</td>\n",
       "      <td>1000_3</td>\n",
       "      <td>550.27</td>\n",
       "      <td>2018-08-22</td>\n",
       "      <td>1000</td>\n",
       "      <td>8</td>\n",
       "    </tr>\n",
       "    <tr>\n",
       "      <td>4</td>\n",
       "      <td>1000_4</td>\n",
       "      <td>302.56</td>\n",
       "      <td>2018-09-24</td>\n",
       "      <td>1000</td>\n",
       "      <td>9</td>\n",
       "    </tr>\n",
       "  </tbody>\n",
       "</table>\n",
       "</div>"
      ],
      "text/plain": [
       "       id  mb_used session_date  user_id  month\n",
       "0  1000_0   112.95   2018-11-25     1000     11\n",
       "1  1000_1  1052.81   2018-09-07     1000      9\n",
       "2  1000_2  1197.26   2018-06-25     1000      6\n",
       "3  1000_3   550.27   2018-08-22     1000      8\n",
       "4  1000_4   302.56   2018-09-24     1000      9"
      ]
     },
     "execution_count": 32,
     "metadata": {},
     "output_type": "execute_result"
    }
   ],
   "source": [
    "# получение первых строк датасета\n",
    "internet.head()"
   ]
  },
  {
   "cell_type": "markdown",
   "metadata": {},
   "source": [
    "### Выводы"
   ]
  },
  {
   "cell_type": "markdown",
   "metadata": {},
   "source": [
    "Во всех таблицах данные с датами переведены в формат времени, длительность звонков округлена до целых значений.\n",
    "\n",
    "Для удобства последующего анализа были переименованы столбцы `tariff` и `mb_per_month_included`, данные столбца `mb_per_month_included` пересчитаны в гигабайты, удален столбец `Unnamed: 0`, а также добавлены столбцы с данными о месяцах звонков, отправки сообщений и использования интернета."
   ]
  },
  {
   "cell_type": "markdown",
   "metadata": {},
   "source": [
    "## Расчет для каждого пользователя"
   ]
  },
  {
   "cell_type": "markdown",
   "metadata": {},
   "source": [
    "### Количество сделанных звонков и израсходованных минут разговора по месяцам"
   ]
  },
  {
   "cell_type": "code",
   "execution_count": 33,
   "metadata": {},
   "outputs": [
    {
     "data": {
      "text/html": [
       "<div>\n",
       "<style scoped>\n",
       "    .dataframe tbody tr th:only-of-type {\n",
       "        vertical-align: middle;\n",
       "    }\n",
       "\n",
       "    .dataframe tbody tr th {\n",
       "        vertical-align: top;\n",
       "    }\n",
       "\n",
       "    .dataframe thead th {\n",
       "        text-align: right;\n",
       "    }\n",
       "</style>\n",
       "<table border=\"1\" class=\"dataframe\">\n",
       "  <thead>\n",
       "    <tr style=\"text-align: right;\">\n",
       "      <th></th>\n",
       "      <th>user_id</th>\n",
       "      <th>month</th>\n",
       "      <th>count_call_month</th>\n",
       "      <th>duration_call_month</th>\n",
       "    </tr>\n",
       "  </thead>\n",
       "  <tbody>\n",
       "    <tr>\n",
       "      <td>0</td>\n",
       "      <td>1000</td>\n",
       "      <td>5</td>\n",
       "      <td>22</td>\n",
       "      <td>159</td>\n",
       "    </tr>\n",
       "    <tr>\n",
       "      <td>1</td>\n",
       "      <td>1000</td>\n",
       "      <td>6</td>\n",
       "      <td>43</td>\n",
       "      <td>172</td>\n",
       "    </tr>\n",
       "    <tr>\n",
       "      <td>2</td>\n",
       "      <td>1000</td>\n",
       "      <td>7</td>\n",
       "      <td>47</td>\n",
       "      <td>340</td>\n",
       "    </tr>\n",
       "    <tr>\n",
       "      <td>3</td>\n",
       "      <td>1000</td>\n",
       "      <td>8</td>\n",
       "      <td>52</td>\n",
       "      <td>408</td>\n",
       "    </tr>\n",
       "    <tr>\n",
       "      <td>4</td>\n",
       "      <td>1000</td>\n",
       "      <td>9</td>\n",
       "      <td>58</td>\n",
       "      <td>466</td>\n",
       "    </tr>\n",
       "    <tr>\n",
       "      <td>5</td>\n",
       "      <td>1000</td>\n",
       "      <td>10</td>\n",
       "      <td>57</td>\n",
       "      <td>350</td>\n",
       "    </tr>\n",
       "    <tr>\n",
       "      <td>6</td>\n",
       "      <td>1000</td>\n",
       "      <td>11</td>\n",
       "      <td>43</td>\n",
       "      <td>338</td>\n",
       "    </tr>\n",
       "    <tr>\n",
       "      <td>7</td>\n",
       "      <td>1000</td>\n",
       "      <td>12</td>\n",
       "      <td>46</td>\n",
       "      <td>333</td>\n",
       "    </tr>\n",
       "    <tr>\n",
       "      <td>8</td>\n",
       "      <td>1001</td>\n",
       "      <td>11</td>\n",
       "      <td>59</td>\n",
       "      <td>430</td>\n",
       "    </tr>\n",
       "    <tr>\n",
       "      <td>9</td>\n",
       "      <td>1001</td>\n",
       "      <td>12</td>\n",
       "      <td>63</td>\n",
       "      <td>414</td>\n",
       "    </tr>\n",
       "  </tbody>\n",
       "</table>\n",
       "</div>"
      ],
      "text/plain": [
       "   user_id  month  count_call_month  duration_call_month\n",
       "0     1000      5                22                  159\n",
       "1     1000      6                43                  172\n",
       "2     1000      7                47                  340\n",
       "3     1000      8                52                  408\n",
       "4     1000      9                58                  466\n",
       "5     1000     10                57                  350\n",
       "6     1000     11                43                  338\n",
       "7     1000     12                46                  333\n",
       "8     1001     11                59                  430\n",
       "9     1001     12                63                  414"
      ]
     },
     "execution_count": 33,
     "metadata": {},
     "output_type": "execute_result"
    }
   ],
   "source": [
    "# расчет количества звонков и их общей длительности за каждый месяц \n",
    "user_calls = calls.groupby(['user_id', 'month'])\\\n",
    "                  .agg({'id': 'count', 'duration': 'sum'})\\\n",
    "                  .reset_index()\\\n",
    "                  .rename(columns={'id': 'count_call_month', 'duration': 'duration_call_month'})\n",
    "\n",
    "# получение первых 10 строк датасета\n",
    "user_calls.head(10)"
   ]
  },
  {
   "cell_type": "code",
   "execution_count": 34,
   "metadata": {},
   "outputs": [
    {
     "name": "stdout",
     "output_type": "stream",
     "text": [
      "<class 'pandas.core.frame.DataFrame'>\n",
      "RangeIndex: 3174 entries, 0 to 3173\n",
      "Data columns (total 4 columns):\n",
      "user_id                3174 non-null int64\n",
      "month                  3174 non-null int64\n",
      "count_call_month       3174 non-null int64\n",
      "duration_call_month    3174 non-null int64\n",
      "dtypes: int64(4)\n",
      "memory usage: 99.3 KB\n"
     ]
    }
   ],
   "source": [
    "# получение общей информации о данных датасета\n",
    "user_calls.info()"
   ]
  },
  {
   "cell_type": "markdown",
   "metadata": {},
   "source": [
    "### Количество отправленных сообщений по месяцам"
   ]
  },
  {
   "cell_type": "code",
   "execution_count": 35,
   "metadata": {},
   "outputs": [
    {
     "data": {
      "text/html": [
       "<div>\n",
       "<style scoped>\n",
       "    .dataframe tbody tr th:only-of-type {\n",
       "        vertical-align: middle;\n",
       "    }\n",
       "\n",
       "    .dataframe tbody tr th {\n",
       "        vertical-align: top;\n",
       "    }\n",
       "\n",
       "    .dataframe thead th {\n",
       "        text-align: right;\n",
       "    }\n",
       "</style>\n",
       "<table border=\"1\" class=\"dataframe\">\n",
       "  <thead>\n",
       "    <tr style=\"text-align: right;\">\n",
       "      <th></th>\n",
       "      <th>user_id</th>\n",
       "      <th>month</th>\n",
       "      <th>count_message_month</th>\n",
       "    </tr>\n",
       "  </thead>\n",
       "  <tbody>\n",
       "    <tr>\n",
       "      <td>0</td>\n",
       "      <td>1000</td>\n",
       "      <td>5</td>\n",
       "      <td>22</td>\n",
       "    </tr>\n",
       "    <tr>\n",
       "      <td>1</td>\n",
       "      <td>1000</td>\n",
       "      <td>6</td>\n",
       "      <td>60</td>\n",
       "    </tr>\n",
       "    <tr>\n",
       "      <td>2</td>\n",
       "      <td>1000</td>\n",
       "      <td>7</td>\n",
       "      <td>75</td>\n",
       "    </tr>\n",
       "    <tr>\n",
       "      <td>3</td>\n",
       "      <td>1000</td>\n",
       "      <td>8</td>\n",
       "      <td>81</td>\n",
       "    </tr>\n",
       "    <tr>\n",
       "      <td>4</td>\n",
       "      <td>1000</td>\n",
       "      <td>9</td>\n",
       "      <td>57</td>\n",
       "    </tr>\n",
       "    <tr>\n",
       "      <td>5</td>\n",
       "      <td>1000</td>\n",
       "      <td>10</td>\n",
       "      <td>73</td>\n",
       "    </tr>\n",
       "    <tr>\n",
       "      <td>6</td>\n",
       "      <td>1000</td>\n",
       "      <td>11</td>\n",
       "      <td>58</td>\n",
       "    </tr>\n",
       "    <tr>\n",
       "      <td>7</td>\n",
       "      <td>1000</td>\n",
       "      <td>12</td>\n",
       "      <td>70</td>\n",
       "    </tr>\n",
       "    <tr>\n",
       "      <td>8</td>\n",
       "      <td>1002</td>\n",
       "      <td>6</td>\n",
       "      <td>4</td>\n",
       "    </tr>\n",
       "    <tr>\n",
       "      <td>9</td>\n",
       "      <td>1002</td>\n",
       "      <td>7</td>\n",
       "      <td>11</td>\n",
       "    </tr>\n",
       "  </tbody>\n",
       "</table>\n",
       "</div>"
      ],
      "text/plain": [
       "   user_id  month  count_message_month\n",
       "0     1000      5                   22\n",
       "1     1000      6                   60\n",
       "2     1000      7                   75\n",
       "3     1000      8                   81\n",
       "4     1000      9                   57\n",
       "5     1000     10                   73\n",
       "6     1000     11                   58\n",
       "7     1000     12                   70\n",
       "8     1002      6                    4\n",
       "9     1002      7                   11"
      ]
     },
     "execution_count": 35,
     "metadata": {},
     "output_type": "execute_result"
    }
   ],
   "source": [
    "# расчет количества отправленных сообщений за каждый месяц\n",
    "user_messages = messages.groupby(['user_id', 'month'])\\\n",
    "                  .agg({'id': 'count'})\\\n",
    "                  .reset_index()\\\n",
    "                  .rename(columns={'id': 'count_message_month'})\n",
    "\n",
    "# получение первых 10 строк датасета\n",
    "user_messages.head(10)"
   ]
  },
  {
   "cell_type": "code",
   "execution_count": 36,
   "metadata": {},
   "outputs": [
    {
     "name": "stdout",
     "output_type": "stream",
     "text": [
      "<class 'pandas.core.frame.DataFrame'>\n",
      "RangeIndex: 2717 entries, 0 to 2716\n",
      "Data columns (total 3 columns):\n",
      "user_id                2717 non-null int64\n",
      "month                  2717 non-null int64\n",
      "count_message_month    2717 non-null int64\n",
      "dtypes: int64(3)\n",
      "memory usage: 63.8 KB\n"
     ]
    }
   ],
   "source": [
    "# получение общей информации о данных датасета\n",
    "user_messages.info()"
   ]
  },
  {
   "cell_type": "markdown",
   "metadata": {},
   "source": [
    "### Объем израсходованного интернет-трафика по месяцам"
   ]
  },
  {
   "cell_type": "code",
   "execution_count": 37,
   "metadata": {},
   "outputs": [
    {
     "data": {
      "text/html": [
       "<div>\n",
       "<style scoped>\n",
       "    .dataframe tbody tr th:only-of-type {\n",
       "        vertical-align: middle;\n",
       "    }\n",
       "\n",
       "    .dataframe tbody tr th {\n",
       "        vertical-align: top;\n",
       "    }\n",
       "\n",
       "    .dataframe thead th {\n",
       "        text-align: right;\n",
       "    }\n",
       "</style>\n",
       "<table border=\"1\" class=\"dataframe\">\n",
       "  <thead>\n",
       "    <tr style=\"text-align: right;\">\n",
       "      <th></th>\n",
       "      <th>user_id</th>\n",
       "      <th>month</th>\n",
       "      <th>mb_used_session_month</th>\n",
       "    </tr>\n",
       "  </thead>\n",
       "  <tbody>\n",
       "    <tr>\n",
       "      <td>0</td>\n",
       "      <td>1000</td>\n",
       "      <td>5</td>\n",
       "      <td>2253.49</td>\n",
       "    </tr>\n",
       "    <tr>\n",
       "      <td>1</td>\n",
       "      <td>1000</td>\n",
       "      <td>6</td>\n",
       "      <td>23233.77</td>\n",
       "    </tr>\n",
       "    <tr>\n",
       "      <td>2</td>\n",
       "      <td>1000</td>\n",
       "      <td>7</td>\n",
       "      <td>14003.64</td>\n",
       "    </tr>\n",
       "    <tr>\n",
       "      <td>3</td>\n",
       "      <td>1000</td>\n",
       "      <td>8</td>\n",
       "      <td>14055.93</td>\n",
       "    </tr>\n",
       "    <tr>\n",
       "      <td>4</td>\n",
       "      <td>1000</td>\n",
       "      <td>9</td>\n",
       "      <td>14568.91</td>\n",
       "    </tr>\n",
       "    <tr>\n",
       "      <td>5</td>\n",
       "      <td>1000</td>\n",
       "      <td>10</td>\n",
       "      <td>14702.49</td>\n",
       "    </tr>\n",
       "    <tr>\n",
       "      <td>6</td>\n",
       "      <td>1000</td>\n",
       "      <td>11</td>\n",
       "      <td>14756.47</td>\n",
       "    </tr>\n",
       "    <tr>\n",
       "      <td>7</td>\n",
       "      <td>1000</td>\n",
       "      <td>12</td>\n",
       "      <td>9817.61</td>\n",
       "    </tr>\n",
       "    <tr>\n",
       "      <td>8</td>\n",
       "      <td>1001</td>\n",
       "      <td>11</td>\n",
       "      <td>18429.34</td>\n",
       "    </tr>\n",
       "    <tr>\n",
       "      <td>9</td>\n",
       "      <td>1001</td>\n",
       "      <td>12</td>\n",
       "      <td>14036.66</td>\n",
       "    </tr>\n",
       "  </tbody>\n",
       "</table>\n",
       "</div>"
      ],
      "text/plain": [
       "   user_id  month  mb_used_session_month\n",
       "0     1000      5                2253.49\n",
       "1     1000      6               23233.77\n",
       "2     1000      7               14003.64\n",
       "3     1000      8               14055.93\n",
       "4     1000      9               14568.91\n",
       "5     1000     10               14702.49\n",
       "6     1000     11               14756.47\n",
       "7     1000     12                9817.61\n",
       "8     1001     11               18429.34\n",
       "9     1001     12               14036.66"
      ]
     },
     "execution_count": 37,
     "metadata": {},
     "output_type": "execute_result"
    }
   ],
   "source": [
    "# расчет израсходованного интернет-трафика за каждый месяц\n",
    "user_internet = internet.groupby(['user_id', 'month'])\\\n",
    "                  .agg({'mb_used': 'sum'})\\\n",
    "                  .reset_index()\\\n",
    "                  .rename(columns={'mb_used': 'mb_used_session_month'})\n",
    "\n",
    "# получение первых 10 строк датасета\n",
    "user_internet.head(10)"
   ]
  },
  {
   "cell_type": "markdown",
   "metadata": {},
   "source": [
    "Общая сумма интернет-трафика за месяц округляется в бо́льшую сторону. Если абонент использует 1025 мегабайт в этом месяце, с него возьмут плату за 2 гигабайта. Поэтому мегабайты переведем в гигабайты и округлим в большую сторону"
   ]
  },
  {
   "cell_type": "code",
   "execution_count": 38,
   "metadata": {},
   "outputs": [
    {
     "data": {
      "text/html": [
       "<div>\n",
       "<style scoped>\n",
       "    .dataframe tbody tr th:only-of-type {\n",
       "        vertical-align: middle;\n",
       "    }\n",
       "\n",
       "    .dataframe tbody tr th {\n",
       "        vertical-align: top;\n",
       "    }\n",
       "\n",
       "    .dataframe thead th {\n",
       "        text-align: right;\n",
       "    }\n",
       "</style>\n",
       "<table border=\"1\" class=\"dataframe\">\n",
       "  <thead>\n",
       "    <tr style=\"text-align: right;\">\n",
       "      <th></th>\n",
       "      <th>user_id</th>\n",
       "      <th>month</th>\n",
       "      <th>gb_used_session_month</th>\n",
       "    </tr>\n",
       "  </thead>\n",
       "  <tbody>\n",
       "    <tr>\n",
       "      <td>0</td>\n",
       "      <td>1000</td>\n",
       "      <td>5</td>\n",
       "      <td>3</td>\n",
       "    </tr>\n",
       "    <tr>\n",
       "      <td>1</td>\n",
       "      <td>1000</td>\n",
       "      <td>6</td>\n",
       "      <td>23</td>\n",
       "    </tr>\n",
       "    <tr>\n",
       "      <td>2</td>\n",
       "      <td>1000</td>\n",
       "      <td>7</td>\n",
       "      <td>14</td>\n",
       "    </tr>\n",
       "    <tr>\n",
       "      <td>3</td>\n",
       "      <td>1000</td>\n",
       "      <td>8</td>\n",
       "      <td>14</td>\n",
       "    </tr>\n",
       "    <tr>\n",
       "      <td>4</td>\n",
       "      <td>1000</td>\n",
       "      <td>9</td>\n",
       "      <td>15</td>\n",
       "    </tr>\n",
       "    <tr>\n",
       "      <td>5</td>\n",
       "      <td>1000</td>\n",
       "      <td>10</td>\n",
       "      <td>15</td>\n",
       "    </tr>\n",
       "    <tr>\n",
       "      <td>6</td>\n",
       "      <td>1000</td>\n",
       "      <td>11</td>\n",
       "      <td>15</td>\n",
       "    </tr>\n",
       "    <tr>\n",
       "      <td>7</td>\n",
       "      <td>1000</td>\n",
       "      <td>12</td>\n",
       "      <td>10</td>\n",
       "    </tr>\n",
       "    <tr>\n",
       "      <td>8</td>\n",
       "      <td>1001</td>\n",
       "      <td>11</td>\n",
       "      <td>18</td>\n",
       "    </tr>\n",
       "    <tr>\n",
       "      <td>9</td>\n",
       "      <td>1001</td>\n",
       "      <td>12</td>\n",
       "      <td>14</td>\n",
       "    </tr>\n",
       "  </tbody>\n",
       "</table>\n",
       "</div>"
      ],
      "text/plain": [
       "   user_id  month  gb_used_session_month\n",
       "0     1000      5                      3\n",
       "1     1000      6                     23\n",
       "2     1000      7                     14\n",
       "3     1000      8                     14\n",
       "4     1000      9                     15\n",
       "5     1000     10                     15\n",
       "6     1000     11                     15\n",
       "7     1000     12                     10\n",
       "8     1001     11                     18\n",
       "9     1001     12                     14"
      ]
     },
     "execution_count": 38,
     "metadata": {},
     "output_type": "execute_result"
    }
   ],
   "source": [
    "# переименование столбца и пересчет в гигабайты и округление до большего\n",
    "user_internet['mb_used_session_month'] = (user_internet['mb_used_session_month'] / 1024).apply(np.ceil).astype('int')\n",
    "user_internet = user_internet.rename(columns={'mb_used_session_month': 'gb_used_session_month'})\n",
    "\n",
    "# получение первых 10 строк датасета\n",
    "user_internet.head(10)"
   ]
  },
  {
   "cell_type": "code",
   "execution_count": 39,
   "metadata": {},
   "outputs": [
    {
     "name": "stdout",
     "output_type": "stream",
     "text": [
      "<class 'pandas.core.frame.DataFrame'>\n",
      "RangeIndex: 3203 entries, 0 to 3202\n",
      "Data columns (total 3 columns):\n",
      "user_id                  3203 non-null int64\n",
      "month                    3203 non-null int64\n",
      "gb_used_session_month    3203 non-null int64\n",
      "dtypes: int64(3)\n",
      "memory usage: 75.2 KB\n"
     ]
    }
   ],
   "source": [
    "# получение общей информации о данных датасета\n",
    "user_internet.info()"
   ]
  },
  {
   "cell_type": "markdown",
   "metadata": {},
   "source": [
    "### Помесячная выручка с каждого пользователя"
   ]
  },
  {
   "cell_type": "markdown",
   "metadata": {},
   "source": [
    "Помесячная выручка с каждого пользователя вычисляется путем вычета бесплатного лимита из суммарного количества звонков, сообщений и интернет-трафика. Затем остаток умножается на значение из тарифного плана с последующим прибавлением абонентской платы, соответствующей тарифному плану"
   ]
  },
  {
   "cell_type": "markdown",
   "metadata": {},
   "source": [
    "Получим датасет с данными о звонках, сообщениях и интернет-трафику для каждого пользователя"
   ]
  },
  {
   "cell_type": "code",
   "execution_count": 40,
   "metadata": {},
   "outputs": [],
   "source": [
    "# слияние датасетов\n",
    "user_use = user_calls.merge(user_messages, on = ['user_id', 'month'], how = 'outer')\n",
    "user_use = user_use.merge(user_internet, on = ['user_id', 'month'], how = 'outer')"
   ]
  },
  {
   "cell_type": "code",
   "execution_count": 41,
   "metadata": {},
   "outputs": [
    {
     "data": {
      "text/html": [
       "<div>\n",
       "<style scoped>\n",
       "    .dataframe tbody tr th:only-of-type {\n",
       "        vertical-align: middle;\n",
       "    }\n",
       "\n",
       "    .dataframe tbody tr th {\n",
       "        vertical-align: top;\n",
       "    }\n",
       "\n",
       "    .dataframe thead th {\n",
       "        text-align: right;\n",
       "    }\n",
       "</style>\n",
       "<table border=\"1\" class=\"dataframe\">\n",
       "  <thead>\n",
       "    <tr style=\"text-align: right;\">\n",
       "      <th></th>\n",
       "      <th>user_id</th>\n",
       "      <th>month</th>\n",
       "      <th>count_call_month</th>\n",
       "      <th>duration_call_month</th>\n",
       "      <th>count_message_month</th>\n",
       "      <th>gb_used_session_month</th>\n",
       "    </tr>\n",
       "  </thead>\n",
       "  <tbody>\n",
       "    <tr>\n",
       "      <td>0</td>\n",
       "      <td>1000</td>\n",
       "      <td>5</td>\n",
       "      <td>22.0</td>\n",
       "      <td>159.0</td>\n",
       "      <td>22.0</td>\n",
       "      <td>3.0</td>\n",
       "    </tr>\n",
       "    <tr>\n",
       "      <td>1</td>\n",
       "      <td>1000</td>\n",
       "      <td>6</td>\n",
       "      <td>43.0</td>\n",
       "      <td>172.0</td>\n",
       "      <td>60.0</td>\n",
       "      <td>23.0</td>\n",
       "    </tr>\n",
       "    <tr>\n",
       "      <td>2</td>\n",
       "      <td>1000</td>\n",
       "      <td>7</td>\n",
       "      <td>47.0</td>\n",
       "      <td>340.0</td>\n",
       "      <td>75.0</td>\n",
       "      <td>14.0</td>\n",
       "    </tr>\n",
       "    <tr>\n",
       "      <td>3</td>\n",
       "      <td>1000</td>\n",
       "      <td>8</td>\n",
       "      <td>52.0</td>\n",
       "      <td>408.0</td>\n",
       "      <td>81.0</td>\n",
       "      <td>14.0</td>\n",
       "    </tr>\n",
       "    <tr>\n",
       "      <td>4</td>\n",
       "      <td>1000</td>\n",
       "      <td>9</td>\n",
       "      <td>58.0</td>\n",
       "      <td>466.0</td>\n",
       "      <td>57.0</td>\n",
       "      <td>15.0</td>\n",
       "    </tr>\n",
       "    <tr>\n",
       "      <td>5</td>\n",
       "      <td>1000</td>\n",
       "      <td>10</td>\n",
       "      <td>57.0</td>\n",
       "      <td>350.0</td>\n",
       "      <td>73.0</td>\n",
       "      <td>15.0</td>\n",
       "    </tr>\n",
       "    <tr>\n",
       "      <td>6</td>\n",
       "      <td>1000</td>\n",
       "      <td>11</td>\n",
       "      <td>43.0</td>\n",
       "      <td>338.0</td>\n",
       "      <td>58.0</td>\n",
       "      <td>15.0</td>\n",
       "    </tr>\n",
       "    <tr>\n",
       "      <td>7</td>\n",
       "      <td>1000</td>\n",
       "      <td>12</td>\n",
       "      <td>46.0</td>\n",
       "      <td>333.0</td>\n",
       "      <td>70.0</td>\n",
       "      <td>10.0</td>\n",
       "    </tr>\n",
       "    <tr>\n",
       "      <td>8</td>\n",
       "      <td>1001</td>\n",
       "      <td>11</td>\n",
       "      <td>59.0</td>\n",
       "      <td>430.0</td>\n",
       "      <td>NaN</td>\n",
       "      <td>18.0</td>\n",
       "    </tr>\n",
       "    <tr>\n",
       "      <td>9</td>\n",
       "      <td>1001</td>\n",
       "      <td>12</td>\n",
       "      <td>63.0</td>\n",
       "      <td>414.0</td>\n",
       "      <td>NaN</td>\n",
       "      <td>14.0</td>\n",
       "    </tr>\n",
       "  </tbody>\n",
       "</table>\n",
       "</div>"
      ],
      "text/plain": [
       "   user_id  month  count_call_month  duration_call_month  count_message_month  \\\n",
       "0     1000      5              22.0                159.0                 22.0   \n",
       "1     1000      6              43.0                172.0                 60.0   \n",
       "2     1000      7              47.0                340.0                 75.0   \n",
       "3     1000      8              52.0                408.0                 81.0   \n",
       "4     1000      9              58.0                466.0                 57.0   \n",
       "5     1000     10              57.0                350.0                 73.0   \n",
       "6     1000     11              43.0                338.0                 58.0   \n",
       "7     1000     12              46.0                333.0                 70.0   \n",
       "8     1001     11              59.0                430.0                  NaN   \n",
       "9     1001     12              63.0                414.0                  NaN   \n",
       "\n",
       "   gb_used_session_month  \n",
       "0                    3.0  \n",
       "1                   23.0  \n",
       "2                   14.0  \n",
       "3                   14.0  \n",
       "4                   15.0  \n",
       "5                   15.0  \n",
       "6                   15.0  \n",
       "7                   10.0  \n",
       "8                   18.0  \n",
       "9                   14.0  "
      ]
     },
     "execution_count": 41,
     "metadata": {},
     "output_type": "execute_result"
    }
   ],
   "source": [
    "# получение первых 10 строк датасета\n",
    "user_use.head(10)"
   ]
  },
  {
   "cell_type": "markdown",
   "metadata": {},
   "source": [
    "Получим датасет с данными о пользователях, месте их обитания и их тарифах"
   ]
  },
  {
   "cell_type": "code",
   "execution_count": 42,
   "metadata": {},
   "outputs": [
    {
     "data": {
      "text/html": [
       "<div>\n",
       "<style scoped>\n",
       "    .dataframe tbody tr th:only-of-type {\n",
       "        vertical-align: middle;\n",
       "    }\n",
       "\n",
       "    .dataframe tbody tr th {\n",
       "        vertical-align: top;\n",
       "    }\n",
       "\n",
       "    .dataframe thead th {\n",
       "        text-align: right;\n",
       "    }\n",
       "</style>\n",
       "<table border=\"1\" class=\"dataframe\">\n",
       "  <thead>\n",
       "    <tr style=\"text-align: right;\">\n",
       "      <th></th>\n",
       "      <th>user_id</th>\n",
       "      <th>city</th>\n",
       "      <th>tariff_name</th>\n",
       "    </tr>\n",
       "  </thead>\n",
       "  <tbody>\n",
       "    <tr>\n",
       "      <td>0</td>\n",
       "      <td>1000</td>\n",
       "      <td>Краснодар</td>\n",
       "      <td>ultra</td>\n",
       "    </tr>\n",
       "    <tr>\n",
       "      <td>1</td>\n",
       "      <td>1001</td>\n",
       "      <td>Москва</td>\n",
       "      <td>smart</td>\n",
       "    </tr>\n",
       "    <tr>\n",
       "      <td>2</td>\n",
       "      <td>1002</td>\n",
       "      <td>Стерлитамак</td>\n",
       "      <td>smart</td>\n",
       "    </tr>\n",
       "    <tr>\n",
       "      <td>3</td>\n",
       "      <td>1003</td>\n",
       "      <td>Москва</td>\n",
       "      <td>ultra</td>\n",
       "    </tr>\n",
       "    <tr>\n",
       "      <td>4</td>\n",
       "      <td>1004</td>\n",
       "      <td>Новокузнецк</td>\n",
       "      <td>ultra</td>\n",
       "    </tr>\n",
       "    <tr>\n",
       "      <td>5</td>\n",
       "      <td>1005</td>\n",
       "      <td>Набережные Челны</td>\n",
       "      <td>smart</td>\n",
       "    </tr>\n",
       "    <tr>\n",
       "      <td>6</td>\n",
       "      <td>1006</td>\n",
       "      <td>Ульяновск</td>\n",
       "      <td>smart</td>\n",
       "    </tr>\n",
       "    <tr>\n",
       "      <td>7</td>\n",
       "      <td>1007</td>\n",
       "      <td>Москва</td>\n",
       "      <td>smart</td>\n",
       "    </tr>\n",
       "    <tr>\n",
       "      <td>8</td>\n",
       "      <td>1008</td>\n",
       "      <td>Челябинск</td>\n",
       "      <td>smart</td>\n",
       "    </tr>\n",
       "    <tr>\n",
       "      <td>9</td>\n",
       "      <td>1009</td>\n",
       "      <td>Пермь</td>\n",
       "      <td>smart</td>\n",
       "    </tr>\n",
       "  </tbody>\n",
       "</table>\n",
       "</div>"
      ],
      "text/plain": [
       "   user_id              city tariff_name\n",
       "0     1000         Краснодар       ultra\n",
       "1     1001            Москва       smart\n",
       "2     1002       Стерлитамак       smart\n",
       "3     1003            Москва       ultra\n",
       "4     1004       Новокузнецк       ultra\n",
       "5     1005  Набережные Челны       smart\n",
       "6     1006         Ульяновск       smart\n",
       "7     1007            Москва       smart\n",
       "8     1008         Челябинск       smart\n",
       "9     1009             Пермь       smart"
      ]
     },
     "execution_count": 42,
     "metadata": {},
     "output_type": "execute_result"
    }
   ],
   "source": [
    "# получение датасета\n",
    "user_tariff = users[['user_id', 'city', 'tariff_name']]\n",
    "\n",
    "# получение первых 10 строк датасета\n",
    "user_tariff.head(10)"
   ]
  },
  {
   "cell_type": "markdown",
   "metadata": {},
   "source": [
    "Объединим полученные датасеты и информацию о тарифах в один датасет"
   ]
  },
  {
   "cell_type": "code",
   "execution_count": 43,
   "metadata": {},
   "outputs": [],
   "source": [
    "# слияние датасетов\n",
    "data = user_use.merge(user_tariff, on = 'user_id', how = 'outer')\n",
    "data = data.merge(tariffs, on = 'tariff_name', how = 'outer')"
   ]
  },
  {
   "cell_type": "code",
   "execution_count": 44,
   "metadata": {},
   "outputs": [
    {
     "data": {
      "text/html": [
       "<div>\n",
       "<style scoped>\n",
       "    .dataframe tbody tr th:only-of-type {\n",
       "        vertical-align: middle;\n",
       "    }\n",
       "\n",
       "    .dataframe tbody tr th {\n",
       "        vertical-align: top;\n",
       "    }\n",
       "\n",
       "    .dataframe thead th {\n",
       "        text-align: right;\n",
       "    }\n",
       "</style>\n",
       "<table border=\"1\" class=\"dataframe\">\n",
       "  <thead>\n",
       "    <tr style=\"text-align: right;\">\n",
       "      <th></th>\n",
       "      <th>user_id</th>\n",
       "      <th>month</th>\n",
       "      <th>count_call_month</th>\n",
       "      <th>duration_call_month</th>\n",
       "      <th>count_message_month</th>\n",
       "      <th>gb_used_session_month</th>\n",
       "      <th>city</th>\n",
       "      <th>tariff_name</th>\n",
       "      <th>messages_included</th>\n",
       "      <th>gb_per_month_included</th>\n",
       "      <th>minutes_included</th>\n",
       "      <th>rub_monthly_fee</th>\n",
       "      <th>rub_per_gb</th>\n",
       "      <th>rub_per_message</th>\n",
       "      <th>rub_per_minute</th>\n",
       "    </tr>\n",
       "  </thead>\n",
       "  <tbody>\n",
       "    <tr>\n",
       "      <td>0</td>\n",
       "      <td>1000</td>\n",
       "      <td>5.0</td>\n",
       "      <td>22.0</td>\n",
       "      <td>159.0</td>\n",
       "      <td>22.0</td>\n",
       "      <td>3.0</td>\n",
       "      <td>Краснодар</td>\n",
       "      <td>ultra</td>\n",
       "      <td>1000</td>\n",
       "      <td>30</td>\n",
       "      <td>3000</td>\n",
       "      <td>1950</td>\n",
       "      <td>150</td>\n",
       "      <td>1</td>\n",
       "      <td>1</td>\n",
       "    </tr>\n",
       "    <tr>\n",
       "      <td>1</td>\n",
       "      <td>1000</td>\n",
       "      <td>6.0</td>\n",
       "      <td>43.0</td>\n",
       "      <td>172.0</td>\n",
       "      <td>60.0</td>\n",
       "      <td>23.0</td>\n",
       "      <td>Краснодар</td>\n",
       "      <td>ultra</td>\n",
       "      <td>1000</td>\n",
       "      <td>30</td>\n",
       "      <td>3000</td>\n",
       "      <td>1950</td>\n",
       "      <td>150</td>\n",
       "      <td>1</td>\n",
       "      <td>1</td>\n",
       "    </tr>\n",
       "    <tr>\n",
       "      <td>2</td>\n",
       "      <td>1000</td>\n",
       "      <td>7.0</td>\n",
       "      <td>47.0</td>\n",
       "      <td>340.0</td>\n",
       "      <td>75.0</td>\n",
       "      <td>14.0</td>\n",
       "      <td>Краснодар</td>\n",
       "      <td>ultra</td>\n",
       "      <td>1000</td>\n",
       "      <td>30</td>\n",
       "      <td>3000</td>\n",
       "      <td>1950</td>\n",
       "      <td>150</td>\n",
       "      <td>1</td>\n",
       "      <td>1</td>\n",
       "    </tr>\n",
       "    <tr>\n",
       "      <td>3</td>\n",
       "      <td>1000</td>\n",
       "      <td>8.0</td>\n",
       "      <td>52.0</td>\n",
       "      <td>408.0</td>\n",
       "      <td>81.0</td>\n",
       "      <td>14.0</td>\n",
       "      <td>Краснодар</td>\n",
       "      <td>ultra</td>\n",
       "      <td>1000</td>\n",
       "      <td>30</td>\n",
       "      <td>3000</td>\n",
       "      <td>1950</td>\n",
       "      <td>150</td>\n",
       "      <td>1</td>\n",
       "      <td>1</td>\n",
       "    </tr>\n",
       "    <tr>\n",
       "      <td>4</td>\n",
       "      <td>1000</td>\n",
       "      <td>9.0</td>\n",
       "      <td>58.0</td>\n",
       "      <td>466.0</td>\n",
       "      <td>57.0</td>\n",
       "      <td>15.0</td>\n",
       "      <td>Краснодар</td>\n",
       "      <td>ultra</td>\n",
       "      <td>1000</td>\n",
       "      <td>30</td>\n",
       "      <td>3000</td>\n",
       "      <td>1950</td>\n",
       "      <td>150</td>\n",
       "      <td>1</td>\n",
       "      <td>1</td>\n",
       "    </tr>\n",
       "    <tr>\n",
       "      <td>5</td>\n",
       "      <td>1000</td>\n",
       "      <td>10.0</td>\n",
       "      <td>57.0</td>\n",
       "      <td>350.0</td>\n",
       "      <td>73.0</td>\n",
       "      <td>15.0</td>\n",
       "      <td>Краснодар</td>\n",
       "      <td>ultra</td>\n",
       "      <td>1000</td>\n",
       "      <td>30</td>\n",
       "      <td>3000</td>\n",
       "      <td>1950</td>\n",
       "      <td>150</td>\n",
       "      <td>1</td>\n",
       "      <td>1</td>\n",
       "    </tr>\n",
       "    <tr>\n",
       "      <td>6</td>\n",
       "      <td>1000</td>\n",
       "      <td>11.0</td>\n",
       "      <td>43.0</td>\n",
       "      <td>338.0</td>\n",
       "      <td>58.0</td>\n",
       "      <td>15.0</td>\n",
       "      <td>Краснодар</td>\n",
       "      <td>ultra</td>\n",
       "      <td>1000</td>\n",
       "      <td>30</td>\n",
       "      <td>3000</td>\n",
       "      <td>1950</td>\n",
       "      <td>150</td>\n",
       "      <td>1</td>\n",
       "      <td>1</td>\n",
       "    </tr>\n",
       "    <tr>\n",
       "      <td>7</td>\n",
       "      <td>1000</td>\n",
       "      <td>12.0</td>\n",
       "      <td>46.0</td>\n",
       "      <td>333.0</td>\n",
       "      <td>70.0</td>\n",
       "      <td>10.0</td>\n",
       "      <td>Краснодар</td>\n",
       "      <td>ultra</td>\n",
       "      <td>1000</td>\n",
       "      <td>30</td>\n",
       "      <td>3000</td>\n",
       "      <td>1950</td>\n",
       "      <td>150</td>\n",
       "      <td>1</td>\n",
       "      <td>1</td>\n",
       "    </tr>\n",
       "    <tr>\n",
       "      <td>8</td>\n",
       "      <td>1003</td>\n",
       "      <td>8.0</td>\n",
       "      <td>55.0</td>\n",
       "      <td>380.0</td>\n",
       "      <td>37.0</td>\n",
       "      <td>9.0</td>\n",
       "      <td>Москва</td>\n",
       "      <td>ultra</td>\n",
       "      <td>1000</td>\n",
       "      <td>30</td>\n",
       "      <td>3000</td>\n",
       "      <td>1950</td>\n",
       "      <td>150</td>\n",
       "      <td>1</td>\n",
       "      <td>1</td>\n",
       "    </tr>\n",
       "    <tr>\n",
       "      <td>9</td>\n",
       "      <td>1003</td>\n",
       "      <td>9.0</td>\n",
       "      <td>134.0</td>\n",
       "      <td>961.0</td>\n",
       "      <td>91.0</td>\n",
       "      <td>13.0</td>\n",
       "      <td>Москва</td>\n",
       "      <td>ultra</td>\n",
       "      <td>1000</td>\n",
       "      <td>30</td>\n",
       "      <td>3000</td>\n",
       "      <td>1950</td>\n",
       "      <td>150</td>\n",
       "      <td>1</td>\n",
       "      <td>1</td>\n",
       "    </tr>\n",
       "  </tbody>\n",
       "</table>\n",
       "</div>"
      ],
      "text/plain": [
       "   user_id  month  count_call_month  duration_call_month  count_message_month  \\\n",
       "0     1000    5.0              22.0                159.0                 22.0   \n",
       "1     1000    6.0              43.0                172.0                 60.0   \n",
       "2     1000    7.0              47.0                340.0                 75.0   \n",
       "3     1000    8.0              52.0                408.0                 81.0   \n",
       "4     1000    9.0              58.0                466.0                 57.0   \n",
       "5     1000   10.0              57.0                350.0                 73.0   \n",
       "6     1000   11.0              43.0                338.0                 58.0   \n",
       "7     1000   12.0              46.0                333.0                 70.0   \n",
       "8     1003    8.0              55.0                380.0                 37.0   \n",
       "9     1003    9.0             134.0                961.0                 91.0   \n",
       "\n",
       "   gb_used_session_month       city tariff_name  messages_included  \\\n",
       "0                    3.0  Краснодар       ultra               1000   \n",
       "1                   23.0  Краснодар       ultra               1000   \n",
       "2                   14.0  Краснодар       ultra               1000   \n",
       "3                   14.0  Краснодар       ultra               1000   \n",
       "4                   15.0  Краснодар       ultra               1000   \n",
       "5                   15.0  Краснодар       ultra               1000   \n",
       "6                   15.0  Краснодар       ultra               1000   \n",
       "7                   10.0  Краснодар       ultra               1000   \n",
       "8                    9.0     Москва       ultra               1000   \n",
       "9                   13.0     Москва       ultra               1000   \n",
       "\n",
       "   gb_per_month_included  minutes_included  rub_monthly_fee  rub_per_gb  \\\n",
       "0                     30              3000             1950         150   \n",
       "1                     30              3000             1950         150   \n",
       "2                     30              3000             1950         150   \n",
       "3                     30              3000             1950         150   \n",
       "4                     30              3000             1950         150   \n",
       "5                     30              3000             1950         150   \n",
       "6                     30              3000             1950         150   \n",
       "7                     30              3000             1950         150   \n",
       "8                     30              3000             1950         150   \n",
       "9                     30              3000             1950         150   \n",
       "\n",
       "   rub_per_message  rub_per_minute  \n",
       "0                1               1  \n",
       "1                1               1  \n",
       "2                1               1  \n",
       "3                1               1  \n",
       "4                1               1  \n",
       "5                1               1  \n",
       "6                1               1  \n",
       "7                1               1  \n",
       "8                1               1  \n",
       "9                1               1  "
      ]
     },
     "execution_count": 44,
     "metadata": {},
     "output_type": "execute_result"
    }
   ],
   "source": [
    "# получение первых 10 строк датасета\n",
    "data.head(10)"
   ]
  },
  {
   "cell_type": "code",
   "execution_count": 45,
   "metadata": {},
   "outputs": [
    {
     "name": "stdout",
     "output_type": "stream",
     "text": [
      "<class 'pandas.core.frame.DataFrame'>\n",
      "Int64Index: 3216 entries, 0 to 3215\n",
      "Data columns (total 15 columns):\n",
      "user_id                  3216 non-null int64\n",
      "month                    3214 non-null float64\n",
      "count_call_month         3174 non-null float64\n",
      "duration_call_month      3174 non-null float64\n",
      "count_message_month      2717 non-null float64\n",
      "gb_used_session_month    3203 non-null float64\n",
      "city                     3216 non-null object\n",
      "tariff_name              3216 non-null object\n",
      "messages_included        3216 non-null int64\n",
      "gb_per_month_included    3216 non-null int64\n",
      "minutes_included         3216 non-null int64\n",
      "rub_monthly_fee          3216 non-null int64\n",
      "rub_per_gb               3216 non-null int64\n",
      "rub_per_message          3216 non-null int64\n",
      "rub_per_minute           3216 non-null int64\n",
      "dtypes: float64(5), int64(8), object(2)\n",
      "memory usage: 402.0+ KB\n"
     ]
    }
   ],
   "source": [
    "# получение общей информации о данных датасета\n",
    "data.info()"
   ]
  },
  {
   "cell_type": "code",
   "execution_count": 46,
   "metadata": {},
   "outputs": [
    {
     "data": {
      "text/plain": [
       "user_id                    0\n",
       "month                      2\n",
       "count_call_month          42\n",
       "duration_call_month       42\n",
       "count_message_month      499\n",
       "gb_used_session_month     13\n",
       "city                       0\n",
       "tariff_name                0\n",
       "messages_included          0\n",
       "gb_per_month_included      0\n",
       "minutes_included           0\n",
       "rub_monthly_fee            0\n",
       "rub_per_gb                 0\n",
       "rub_per_message            0\n",
       "rub_per_minute             0\n",
       "dtype: int64"
      ]
     },
     "execution_count": 46,
     "metadata": {},
     "output_type": "execute_result"
    }
   ],
   "source": [
    "# определение пропущенных значений\n",
    "data.isna().sum()"
   ]
  },
  {
   "cell_type": "markdown",
   "metadata": {},
   "source": [
    "Датасет содержит 2 пропущенных значения в месяце. Проверим"
   ]
  },
  {
   "cell_type": "code",
   "execution_count": 47,
   "metadata": {},
   "outputs": [
    {
     "data": {
      "text/html": [
       "<div>\n",
       "<style scoped>\n",
       "    .dataframe tbody tr th:only-of-type {\n",
       "        vertical-align: middle;\n",
       "    }\n",
       "\n",
       "    .dataframe tbody tr th {\n",
       "        vertical-align: top;\n",
       "    }\n",
       "\n",
       "    .dataframe thead th {\n",
       "        text-align: right;\n",
       "    }\n",
       "</style>\n",
       "<table border=\"1\" class=\"dataframe\">\n",
       "  <thead>\n",
       "    <tr style=\"text-align: right;\">\n",
       "      <th></th>\n",
       "      <th>user_id</th>\n",
       "      <th>month</th>\n",
       "      <th>count_call_month</th>\n",
       "      <th>duration_call_month</th>\n",
       "      <th>count_message_month</th>\n",
       "      <th>gb_used_session_month</th>\n",
       "      <th>city</th>\n",
       "      <th>tariff_name</th>\n",
       "      <th>messages_included</th>\n",
       "      <th>gb_per_month_included</th>\n",
       "      <th>minutes_included</th>\n",
       "      <th>rub_monthly_fee</th>\n",
       "      <th>rub_per_gb</th>\n",
       "      <th>rub_per_message</th>\n",
       "      <th>rub_per_minute</th>\n",
       "    </tr>\n",
       "  </thead>\n",
       "  <tbody>\n",
       "    <tr>\n",
       "      <td>985</td>\n",
       "      <td>1128</td>\n",
       "      <td>NaN</td>\n",
       "      <td>NaN</td>\n",
       "      <td>NaN</td>\n",
       "      <td>NaN</td>\n",
       "      <td>NaN</td>\n",
       "      <td>Волжский</td>\n",
       "      <td>ultra</td>\n",
       "      <td>1000</td>\n",
       "      <td>30</td>\n",
       "      <td>3000</td>\n",
       "      <td>1950</td>\n",
       "      <td>150</td>\n",
       "      <td>1</td>\n",
       "      <td>1</td>\n",
       "    </tr>\n",
       "    <tr>\n",
       "      <td>3215</td>\n",
       "      <td>1371</td>\n",
       "      <td>NaN</td>\n",
       "      <td>NaN</td>\n",
       "      <td>NaN</td>\n",
       "      <td>NaN</td>\n",
       "      <td>NaN</td>\n",
       "      <td>Омск</td>\n",
       "      <td>smart</td>\n",
       "      <td>50</td>\n",
       "      <td>15</td>\n",
       "      <td>500</td>\n",
       "      <td>550</td>\n",
       "      <td>200</td>\n",
       "      <td>3</td>\n",
       "      <td>3</td>\n",
       "    </tr>\n",
       "  </tbody>\n",
       "</table>\n",
       "</div>"
      ],
      "text/plain": [
       "      user_id  month  count_call_month  duration_call_month  \\\n",
       "985      1128    NaN               NaN                  NaN   \n",
       "3215     1371    NaN               NaN                  NaN   \n",
       "\n",
       "      count_message_month  gb_used_session_month      city tariff_name  \\\n",
       "985                   NaN                    NaN  Волжский       ultra   \n",
       "3215                  NaN                    NaN      Омск       smart   \n",
       "\n",
       "      messages_included  gb_per_month_included  minutes_included  \\\n",
       "985                1000                     30              3000   \n",
       "3215                 50                     15               500   \n",
       "\n",
       "      rub_monthly_fee  rub_per_gb  rub_per_message  rub_per_minute  \n",
       "985              1950         150                1               1  \n",
       "3215              550         200                3               3  "
      ]
     },
     "execution_count": 47,
     "metadata": {},
     "output_type": "execute_result"
    }
   ],
   "source": [
    "# вывод строк с пропусками в месяце\n",
    "data[data['month'].isnull()]"
   ]
  },
  {
   "cell_type": "markdown",
   "metadata": {},
   "source": [
    "В наших данных нашлись два пользователя, которые имеют тарифы, но не пользуются ими. Удалим их из анализа."
   ]
  },
  {
   "cell_type": "code",
   "execution_count": 48,
   "metadata": {},
   "outputs": [],
   "source": [
    "# удаление строк с пропусками в месяце\n",
    "data.dropna(subset = ['month'], inplace = True)"
   ]
  },
  {
   "cell_type": "markdown",
   "metadata": {},
   "source": [
    "Теперь, заменим пропущенные значения в звонках, сообщениях и гигабайтах на нули, так как пользователи просто не используют их в данном месяце."
   ]
  },
  {
   "cell_type": "code",
   "execution_count": 49,
   "metadata": {},
   "outputs": [],
   "source": [
    "# замена пропущенных значений\n",
    "data = data.fillna({'count_call_month': 0,\n",
    "                    'duration_call_month': 0,\n",
    "                    'count_message_month': 0,\n",
    "                    'gb_used_session_month': 0    \n",
    "})"
   ]
  },
  {
   "cell_type": "code",
   "execution_count": 50,
   "metadata": {},
   "outputs": [
    {
     "data": {
      "text/plain": [
       "user_id                  0\n",
       "month                    0\n",
       "count_call_month         0\n",
       "duration_call_month      0\n",
       "count_message_month      0\n",
       "gb_used_session_month    0\n",
       "city                     0\n",
       "tariff_name              0\n",
       "messages_included        0\n",
       "gb_per_month_included    0\n",
       "minutes_included         0\n",
       "rub_monthly_fee          0\n",
       "rub_per_gb               0\n",
       "rub_per_message          0\n",
       "rub_per_minute           0\n",
       "dtype: int64"
      ]
     },
     "execution_count": 50,
     "metadata": {},
     "output_type": "execute_result"
    }
   ],
   "source": [
    "# определение пропущенных значений\n",
    "data.isna().sum()"
   ]
  },
  {
   "cell_type": "markdown",
   "metadata": {},
   "source": [
    "Некоторые целые типы данных превратились в вещественные. Изменим их тип на целочисленный"
   ]
  },
  {
   "cell_type": "code",
   "execution_count": 51,
   "metadata": {},
   "outputs": [],
   "source": [
    "# замена типа данных\n",
    "data = data.astype({'month': \"int64\", \n",
    "                    'count_call_month': \"int64\",\n",
    "                    'duration_call_month': \"int64\",\n",
    "                    'count_message_month': \"int64\", \n",
    "                    'gb_used_session_month': \"int64\"\n",
    "                   })"
   ]
  },
  {
   "cell_type": "code",
   "execution_count": 52,
   "metadata": {},
   "outputs": [
    {
     "data": {
      "text/html": [
       "<div>\n",
       "<style scoped>\n",
       "    .dataframe tbody tr th:only-of-type {\n",
       "        vertical-align: middle;\n",
       "    }\n",
       "\n",
       "    .dataframe tbody tr th {\n",
       "        vertical-align: top;\n",
       "    }\n",
       "\n",
       "    .dataframe thead th {\n",
       "        text-align: right;\n",
       "    }\n",
       "</style>\n",
       "<table border=\"1\" class=\"dataframe\">\n",
       "  <thead>\n",
       "    <tr style=\"text-align: right;\">\n",
       "      <th></th>\n",
       "      <th>user_id</th>\n",
       "      <th>month</th>\n",
       "      <th>count_call_month</th>\n",
       "      <th>duration_call_month</th>\n",
       "      <th>count_message_month</th>\n",
       "      <th>gb_used_session_month</th>\n",
       "      <th>city</th>\n",
       "      <th>tariff_name</th>\n",
       "      <th>messages_included</th>\n",
       "      <th>gb_per_month_included</th>\n",
       "      <th>minutes_included</th>\n",
       "      <th>rub_monthly_fee</th>\n",
       "      <th>rub_per_gb</th>\n",
       "      <th>rub_per_message</th>\n",
       "      <th>rub_per_minute</th>\n",
       "    </tr>\n",
       "  </thead>\n",
       "  <tbody>\n",
       "    <tr>\n",
       "      <td>779</td>\n",
       "      <td>1402</td>\n",
       "      <td>8</td>\n",
       "      <td>90</td>\n",
       "      <td>671</td>\n",
       "      <td>36</td>\n",
       "      <td>31</td>\n",
       "      <td>Пенза</td>\n",
       "      <td>ultra</td>\n",
       "      <td>1000</td>\n",
       "      <td>30</td>\n",
       "      <td>3000</td>\n",
       "      <td>1950</td>\n",
       "      <td>150</td>\n",
       "      <td>1</td>\n",
       "      <td>1</td>\n",
       "    </tr>\n",
       "    <tr>\n",
       "      <td>1876</td>\n",
       "      <td>1189</td>\n",
       "      <td>3</td>\n",
       "      <td>105</td>\n",
       "      <td>717</td>\n",
       "      <td>23</td>\n",
       "      <td>22</td>\n",
       "      <td>Санкт-Петербург</td>\n",
       "      <td>smart</td>\n",
       "      <td>50</td>\n",
       "      <td>15</td>\n",
       "      <td>500</td>\n",
       "      <td>550</td>\n",
       "      <td>200</td>\n",
       "      <td>3</td>\n",
       "      <td>3</td>\n",
       "    </tr>\n",
       "    <tr>\n",
       "      <td>2938</td>\n",
       "      <td>1435</td>\n",
       "      <td>9</td>\n",
       "      <td>51</td>\n",
       "      <td>403</td>\n",
       "      <td>0</td>\n",
       "      <td>23</td>\n",
       "      <td>Москва</td>\n",
       "      <td>smart</td>\n",
       "      <td>50</td>\n",
       "      <td>15</td>\n",
       "      <td>500</td>\n",
       "      <td>550</td>\n",
       "      <td>200</td>\n",
       "      <td>3</td>\n",
       "      <td>3</td>\n",
       "    </tr>\n",
       "    <tr>\n",
       "      <td>2926</td>\n",
       "      <td>1433</td>\n",
       "      <td>9</td>\n",
       "      <td>88</td>\n",
       "      <td>712</td>\n",
       "      <td>105</td>\n",
       "      <td>16</td>\n",
       "      <td>Подольск</td>\n",
       "      <td>smart</td>\n",
       "      <td>50</td>\n",
       "      <td>15</td>\n",
       "      <td>500</td>\n",
       "      <td>550</td>\n",
       "      <td>200</td>\n",
       "      <td>3</td>\n",
       "      <td>3</td>\n",
       "    </tr>\n",
       "    <tr>\n",
       "      <td>511</td>\n",
       "      <td>1300</td>\n",
       "      <td>12</td>\n",
       "      <td>97</td>\n",
       "      <td>623</td>\n",
       "      <td>183</td>\n",
       "      <td>35</td>\n",
       "      <td>Москва</td>\n",
       "      <td>ultra</td>\n",
       "      <td>1000</td>\n",
       "      <td>30</td>\n",
       "      <td>3000</td>\n",
       "      <td>1950</td>\n",
       "      <td>150</td>\n",
       "      <td>1</td>\n",
       "      <td>1</td>\n",
       "    </tr>\n",
       "    <tr>\n",
       "      <td>2384</td>\n",
       "      <td>1307</td>\n",
       "      <td>8</td>\n",
       "      <td>97</td>\n",
       "      <td>726</td>\n",
       "      <td>30</td>\n",
       "      <td>14</td>\n",
       "      <td>Самара</td>\n",
       "      <td>smart</td>\n",
       "      <td>50</td>\n",
       "      <td>15</td>\n",
       "      <td>500</td>\n",
       "      <td>550</td>\n",
       "      <td>200</td>\n",
       "      <td>3</td>\n",
       "      <td>3</td>\n",
       "    </tr>\n",
       "    <tr>\n",
       "      <td>2573</td>\n",
       "      <td>1357</td>\n",
       "      <td>9</td>\n",
       "      <td>42</td>\n",
       "      <td>342</td>\n",
       "      <td>48</td>\n",
       "      <td>15</td>\n",
       "      <td>Томск</td>\n",
       "      <td>smart</td>\n",
       "      <td>50</td>\n",
       "      <td>15</td>\n",
       "      <td>500</td>\n",
       "      <td>550</td>\n",
       "      <td>200</td>\n",
       "      <td>3</td>\n",
       "      <td>3</td>\n",
       "    </tr>\n",
       "    <tr>\n",
       "      <td>3076</td>\n",
       "      <td>1472</td>\n",
       "      <td>10</td>\n",
       "      <td>76</td>\n",
       "      <td>468</td>\n",
       "      <td>84</td>\n",
       "      <td>23</td>\n",
       "      <td>Ярославль</td>\n",
       "      <td>smart</td>\n",
       "      <td>50</td>\n",
       "      <td>15</td>\n",
       "      <td>500</td>\n",
       "      <td>550</td>\n",
       "      <td>200</td>\n",
       "      <td>3</td>\n",
       "      <td>3</td>\n",
       "    </tr>\n",
       "    <tr>\n",
       "      <td>3002</td>\n",
       "      <td>1454</td>\n",
       "      <td>12</td>\n",
       "      <td>67</td>\n",
       "      <td>514</td>\n",
       "      <td>25</td>\n",
       "      <td>13</td>\n",
       "      <td>Томск</td>\n",
       "      <td>smart</td>\n",
       "      <td>50</td>\n",
       "      <td>15</td>\n",
       "      <td>500</td>\n",
       "      <td>550</td>\n",
       "      <td>200</td>\n",
       "      <td>3</td>\n",
       "      <td>3</td>\n",
       "    </tr>\n",
       "    <tr>\n",
       "      <td>2298</td>\n",
       "      <td>1286</td>\n",
       "      <td>11</td>\n",
       "      <td>9</td>\n",
       "      <td>47</td>\n",
       "      <td>12</td>\n",
       "      <td>5</td>\n",
       "      <td>Москва</td>\n",
       "      <td>smart</td>\n",
       "      <td>50</td>\n",
       "      <td>15</td>\n",
       "      <td>500</td>\n",
       "      <td>550</td>\n",
       "      <td>200</td>\n",
       "      <td>3</td>\n",
       "      <td>3</td>\n",
       "    </tr>\n",
       "  </tbody>\n",
       "</table>\n",
       "</div>"
      ],
      "text/plain": [
       "      user_id  month  count_call_month  duration_call_month  \\\n",
       "779      1402      8                90                  671   \n",
       "1876     1189      3               105                  717   \n",
       "2938     1435      9                51                  403   \n",
       "2926     1433      9                88                  712   \n",
       "511      1300     12                97                  623   \n",
       "2384     1307      8                97                  726   \n",
       "2573     1357      9                42                  342   \n",
       "3076     1472     10                76                  468   \n",
       "3002     1454     12                67                  514   \n",
       "2298     1286     11                 9                   47   \n",
       "\n",
       "      count_message_month  gb_used_session_month             city tariff_name  \\\n",
       "779                    36                     31            Пенза       ultra   \n",
       "1876                   23                     22  Санкт-Петербург       smart   \n",
       "2938                    0                     23           Москва       smart   \n",
       "2926                  105                     16         Подольск       smart   \n",
       "511                   183                     35           Москва       ultra   \n",
       "2384                   30                     14           Самара       smart   \n",
       "2573                   48                     15            Томск       smart   \n",
       "3076                   84                     23        Ярославль       smart   \n",
       "3002                   25                     13            Томск       smart   \n",
       "2298                   12                      5           Москва       smart   \n",
       "\n",
       "      messages_included  gb_per_month_included  minutes_included  \\\n",
       "779                1000                     30              3000   \n",
       "1876                 50                     15               500   \n",
       "2938                 50                     15               500   \n",
       "2926                 50                     15               500   \n",
       "511                1000                     30              3000   \n",
       "2384                 50                     15               500   \n",
       "2573                 50                     15               500   \n",
       "3076                 50                     15               500   \n",
       "3002                 50                     15               500   \n",
       "2298                 50                     15               500   \n",
       "\n",
       "      rub_monthly_fee  rub_per_gb  rub_per_message  rub_per_minute  \n",
       "779              1950         150                1               1  \n",
       "1876              550         200                3               3  \n",
       "2938              550         200                3               3  \n",
       "2926              550         200                3               3  \n",
       "511              1950         150                1               1  \n",
       "2384              550         200                3               3  \n",
       "2573              550         200                3               3  \n",
       "3076              550         200                3               3  \n",
       "3002              550         200                3               3  \n",
       "2298              550         200                3               3  "
      ]
     },
     "execution_count": 52,
     "metadata": {},
     "output_type": "execute_result"
    }
   ],
   "source": [
    "# получение рандомных 10 строк датасета\n",
    "data.sample(10)"
   ]
  },
  {
   "cell_type": "code",
   "execution_count": 53,
   "metadata": {},
   "outputs": [
    {
     "data": {
      "text/plain": [
       "0"
      ]
     },
     "execution_count": 53,
     "metadata": {},
     "output_type": "execute_result"
    }
   ],
   "source": [
    "# проверка дупликатов\n",
    "data.duplicated().sum()"
   ]
  },
  {
   "cell_type": "markdown",
   "metadata": {},
   "source": [
    "Рассчитаем помесячную выручку с каждого пользователя"
   ]
  },
  {
   "cell_type": "code",
   "execution_count": 54,
   "metadata": {},
   "outputs": [],
   "source": [
    "# функция для расчет затрат на превышение лимитов тарифа\n",
    "def above_tariff(row):\n",
    "    minute = (row['duration_call_month'] - row['minutes_included']) * row['rub_per_minute']\n",
    "    sms = (row['count_message_month'] - row['messages_included']) * row['rub_per_message']\n",
    "    gb = (row['gb_used_session_month'] - row['gb_per_month_included']) * row['rub_per_gb']\n",
    "    total = 0\n",
    "    for i in [minute, sms, gb]:\n",
    "        if i > 0:\n",
    "            total += i\n",
    "    return total"
   ]
  },
  {
   "cell_type": "code",
   "execution_count": 55,
   "metadata": {},
   "outputs": [],
   "source": [
    "# применение функции и добавление столбца\n",
    "data['above_tariff'] = data.apply(lambda x: above_tariff(x), axis=1)\n",
    "\n",
    "# расчет общих затрат\n",
    "data['revenue'] = data['above_tariff'] + data['rub_monthly_fee']"
   ]
  },
  {
   "cell_type": "code",
   "execution_count": 56,
   "metadata": {},
   "outputs": [
    {
     "data": {
      "text/html": [
       "<div>\n",
       "<style scoped>\n",
       "    .dataframe tbody tr th:only-of-type {\n",
       "        vertical-align: middle;\n",
       "    }\n",
       "\n",
       "    .dataframe tbody tr th {\n",
       "        vertical-align: top;\n",
       "    }\n",
       "\n",
       "    .dataframe thead th {\n",
       "        text-align: right;\n",
       "    }\n",
       "</style>\n",
       "<table border=\"1\" class=\"dataframe\">\n",
       "  <thead>\n",
       "    <tr style=\"text-align: right;\">\n",
       "      <th></th>\n",
       "      <th>user_id</th>\n",
       "      <th>month</th>\n",
       "      <th>count_call_month</th>\n",
       "      <th>duration_call_month</th>\n",
       "      <th>count_message_month</th>\n",
       "      <th>gb_used_session_month</th>\n",
       "      <th>city</th>\n",
       "      <th>tariff_name</th>\n",
       "      <th>messages_included</th>\n",
       "      <th>gb_per_month_included</th>\n",
       "      <th>minutes_included</th>\n",
       "      <th>rub_monthly_fee</th>\n",
       "      <th>rub_per_gb</th>\n",
       "      <th>rub_per_message</th>\n",
       "      <th>rub_per_minute</th>\n",
       "      <th>above_tariff</th>\n",
       "      <th>revenue</th>\n",
       "    </tr>\n",
       "  </thead>\n",
       "  <tbody>\n",
       "    <tr>\n",
       "      <td>1338</td>\n",
       "      <td>1072</td>\n",
       "      <td>4</td>\n",
       "      <td>76</td>\n",
       "      <td>554</td>\n",
       "      <td>24</td>\n",
       "      <td>25</td>\n",
       "      <td>Уфа</td>\n",
       "      <td>smart</td>\n",
       "      <td>50</td>\n",
       "      <td>15</td>\n",
       "      <td>500</td>\n",
       "      <td>550</td>\n",
       "      <td>200</td>\n",
       "      <td>3</td>\n",
       "      <td>3</td>\n",
       "      <td>2162</td>\n",
       "      <td>2712</td>\n",
       "    </tr>\n",
       "    <tr>\n",
       "      <td>388</td>\n",
       "      <td>1240</td>\n",
       "      <td>12</td>\n",
       "      <td>63</td>\n",
       "      <td>431</td>\n",
       "      <td>0</td>\n",
       "      <td>43</td>\n",
       "      <td>Воронеж</td>\n",
       "      <td>ultra</td>\n",
       "      <td>1000</td>\n",
       "      <td>30</td>\n",
       "      <td>3000</td>\n",
       "      <td>1950</td>\n",
       "      <td>150</td>\n",
       "      <td>1</td>\n",
       "      <td>1</td>\n",
       "      <td>1950</td>\n",
       "      <td>3900</td>\n",
       "    </tr>\n",
       "    <tr>\n",
       "      <td>1579</td>\n",
       "      <td>1130</td>\n",
       "      <td>12</td>\n",
       "      <td>90</td>\n",
       "      <td>580</td>\n",
       "      <td>55</td>\n",
       "      <td>19</td>\n",
       "      <td>Тюмень</td>\n",
       "      <td>smart</td>\n",
       "      <td>50</td>\n",
       "      <td>15</td>\n",
       "      <td>500</td>\n",
       "      <td>550</td>\n",
       "      <td>200</td>\n",
       "      <td>3</td>\n",
       "      <td>3</td>\n",
       "      <td>1055</td>\n",
       "      <td>1605</td>\n",
       "    </tr>\n",
       "    <tr>\n",
       "      <td>771</td>\n",
       "      <td>1397</td>\n",
       "      <td>12</td>\n",
       "      <td>33</td>\n",
       "      <td>232</td>\n",
       "      <td>0</td>\n",
       "      <td>23</td>\n",
       "      <td>Воронеж</td>\n",
       "      <td>ultra</td>\n",
       "      <td>1000</td>\n",
       "      <td>30</td>\n",
       "      <td>3000</td>\n",
       "      <td>1950</td>\n",
       "      <td>150</td>\n",
       "      <td>1</td>\n",
       "      <td>1</td>\n",
       "      <td>0</td>\n",
       "      <td>1950</td>\n",
       "    </tr>\n",
       "    <tr>\n",
       "      <td>2797</td>\n",
       "      <td>1410</td>\n",
       "      <td>12</td>\n",
       "      <td>51</td>\n",
       "      <td>402</td>\n",
       "      <td>20</td>\n",
       "      <td>15</td>\n",
       "      <td>Нижний Тагил</td>\n",
       "      <td>smart</td>\n",
       "      <td>50</td>\n",
       "      <td>15</td>\n",
       "      <td>500</td>\n",
       "      <td>550</td>\n",
       "      <td>200</td>\n",
       "      <td>3</td>\n",
       "      <td>3</td>\n",
       "      <td>0</td>\n",
       "      <td>550</td>\n",
       "    </tr>\n",
       "    <tr>\n",
       "      <td>2674</td>\n",
       "      <td>1383</td>\n",
       "      <td>12</td>\n",
       "      <td>41</td>\n",
       "      <td>285</td>\n",
       "      <td>9</td>\n",
       "      <td>10</td>\n",
       "      <td>Ульяновск</td>\n",
       "      <td>smart</td>\n",
       "      <td>50</td>\n",
       "      <td>15</td>\n",
       "      <td>500</td>\n",
       "      <td>550</td>\n",
       "      <td>200</td>\n",
       "      <td>3</td>\n",
       "      <td>3</td>\n",
       "      <td>0</td>\n",
       "      <td>550</td>\n",
       "    </tr>\n",
       "    <tr>\n",
       "      <td>707</td>\n",
       "      <td>1380</td>\n",
       "      <td>11</td>\n",
       "      <td>94</td>\n",
       "      <td>597</td>\n",
       "      <td>27</td>\n",
       "      <td>32</td>\n",
       "      <td>Ростов-на-Дону</td>\n",
       "      <td>ultra</td>\n",
       "      <td>1000</td>\n",
       "      <td>30</td>\n",
       "      <td>3000</td>\n",
       "      <td>1950</td>\n",
       "      <td>150</td>\n",
       "      <td>1</td>\n",
       "      <td>1</td>\n",
       "      <td>300</td>\n",
       "      <td>2250</td>\n",
       "    </tr>\n",
       "    <tr>\n",
       "      <td>1538</td>\n",
       "      <td>1119</td>\n",
       "      <td>12</td>\n",
       "      <td>32</td>\n",
       "      <td>194</td>\n",
       "      <td>47</td>\n",
       "      <td>19</td>\n",
       "      <td>Петрозаводск</td>\n",
       "      <td>smart</td>\n",
       "      <td>50</td>\n",
       "      <td>15</td>\n",
       "      <td>500</td>\n",
       "      <td>550</td>\n",
       "      <td>200</td>\n",
       "      <td>3</td>\n",
       "      <td>3</td>\n",
       "      <td>800</td>\n",
       "      <td>1350</td>\n",
       "    </tr>\n",
       "    <tr>\n",
       "      <td>1990</td>\n",
       "      <td>1217</td>\n",
       "      <td>2</td>\n",
       "      <td>11</td>\n",
       "      <td>72</td>\n",
       "      <td>6</td>\n",
       "      <td>4</td>\n",
       "      <td>Ульяновск</td>\n",
       "      <td>smart</td>\n",
       "      <td>50</td>\n",
       "      <td>15</td>\n",
       "      <td>500</td>\n",
       "      <td>550</td>\n",
       "      <td>200</td>\n",
       "      <td>3</td>\n",
       "      <td>3</td>\n",
       "      <td>0</td>\n",
       "      <td>550</td>\n",
       "    </tr>\n",
       "    <tr>\n",
       "      <td>1780</td>\n",
       "      <td>1174</td>\n",
       "      <td>3</td>\n",
       "      <td>88</td>\n",
       "      <td>645</td>\n",
       "      <td>38</td>\n",
       "      <td>21</td>\n",
       "      <td>Санкт-Петербург</td>\n",
       "      <td>smart</td>\n",
       "      <td>50</td>\n",
       "      <td>15</td>\n",
       "      <td>500</td>\n",
       "      <td>550</td>\n",
       "      <td>200</td>\n",
       "      <td>3</td>\n",
       "      <td>3</td>\n",
       "      <td>1635</td>\n",
       "      <td>2185</td>\n",
       "    </tr>\n",
       "  </tbody>\n",
       "</table>\n",
       "</div>"
      ],
      "text/plain": [
       "      user_id  month  count_call_month  duration_call_month  \\\n",
       "1338     1072      4                76                  554   \n",
       "388      1240     12                63                  431   \n",
       "1579     1130     12                90                  580   \n",
       "771      1397     12                33                  232   \n",
       "2797     1410     12                51                  402   \n",
       "2674     1383     12                41                  285   \n",
       "707      1380     11                94                  597   \n",
       "1538     1119     12                32                  194   \n",
       "1990     1217      2                11                   72   \n",
       "1780     1174      3                88                  645   \n",
       "\n",
       "      count_message_month  gb_used_session_month             city tariff_name  \\\n",
       "1338                   24                     25              Уфа       smart   \n",
       "388                     0                     43          Воронеж       ultra   \n",
       "1579                   55                     19           Тюмень       smart   \n",
       "771                     0                     23          Воронеж       ultra   \n",
       "2797                   20                     15     Нижний Тагил       smart   \n",
       "2674                    9                     10        Ульяновск       smart   \n",
       "707                    27                     32   Ростов-на-Дону       ultra   \n",
       "1538                   47                     19     Петрозаводск       smart   \n",
       "1990                    6                      4        Ульяновск       smart   \n",
       "1780                   38                     21  Санкт-Петербург       smart   \n",
       "\n",
       "      messages_included  gb_per_month_included  minutes_included  \\\n",
       "1338                 50                     15               500   \n",
       "388                1000                     30              3000   \n",
       "1579                 50                     15               500   \n",
       "771                1000                     30              3000   \n",
       "2797                 50                     15               500   \n",
       "2674                 50                     15               500   \n",
       "707                1000                     30              3000   \n",
       "1538                 50                     15               500   \n",
       "1990                 50                     15               500   \n",
       "1780                 50                     15               500   \n",
       "\n",
       "      rub_monthly_fee  rub_per_gb  rub_per_message  rub_per_minute  \\\n",
       "1338              550         200                3               3   \n",
       "388              1950         150                1               1   \n",
       "1579              550         200                3               3   \n",
       "771              1950         150                1               1   \n",
       "2797              550         200                3               3   \n",
       "2674              550         200                3               3   \n",
       "707              1950         150                1               1   \n",
       "1538              550         200                3               3   \n",
       "1990              550         200                3               3   \n",
       "1780              550         200                3               3   \n",
       "\n",
       "      above_tariff  revenue  \n",
       "1338          2162     2712  \n",
       "388           1950     3900  \n",
       "1579          1055     1605  \n",
       "771              0     1950  \n",
       "2797             0      550  \n",
       "2674             0      550  \n",
       "707            300     2250  \n",
       "1538           800     1350  \n",
       "1990             0      550  \n",
       "1780          1635     2185  "
      ]
     },
     "execution_count": 56,
     "metadata": {},
     "output_type": "execute_result"
    }
   ],
   "source": [
    "# получение рандомных 10 строк датасета\n",
    "data.sample(10)"
   ]
  },
  {
   "cell_type": "markdown",
   "metadata": {},
   "source": [
    "### Выводы"
   ]
  },
  {
   "cell_type": "markdown",
   "metadata": {},
   "source": [
    "Для каждого пользователя были рассчитаны по месяцам количество сделанных звонков, израсходованных минут разговора, отправленных сообщений, объем израсходованного интернет-трафика, а также общие затраты пользователя на все это. Полученные данные сведены в единый датасет."
   ]
  },
  {
   "cell_type": "markdown",
   "metadata": {},
   "source": [
    "## Анализ данных"
   ]
  },
  {
   "cell_type": "markdown",
   "metadata": {},
   "source": [
    "### Описание поведения клиентов оператора, исходя из выборки"
   ]
  },
  {
   "cell_type": "markdown",
   "metadata": {},
   "source": [
    "Разделим общий датасет на два, согласна используемому тарифу"
   ]
  },
  {
   "cell_type": "code",
   "execution_count": 57,
   "metadata": {},
   "outputs": [],
   "source": [
    "# создание датасетов по тарифам\n",
    "smart = data[data['tariff_name'] == 'smart']\n",
    "ultra = data[data['tariff_name'] == 'ultra']"
   ]
  },
  {
   "cell_type": "code",
   "execution_count": 58,
   "metadata": {},
   "outputs": [
    {
     "data": {
      "text/html": [
       "<div>\n",
       "<style scoped>\n",
       "    .dataframe tbody tr th:only-of-type {\n",
       "        vertical-align: middle;\n",
       "    }\n",
       "\n",
       "    .dataframe tbody tr th {\n",
       "        vertical-align: top;\n",
       "    }\n",
       "\n",
       "    .dataframe thead th {\n",
       "        text-align: right;\n",
       "    }\n",
       "</style>\n",
       "<table border=\"1\" class=\"dataframe\">\n",
       "  <thead>\n",
       "    <tr style=\"text-align: right;\">\n",
       "      <th></th>\n",
       "      <th>duration_call_month</th>\n",
       "      <th>count_message_month</th>\n",
       "      <th>gb_used_session_month</th>\n",
       "      <th>revenue</th>\n",
       "    </tr>\n",
       "  </thead>\n",
       "  <tbody>\n",
       "    <tr>\n",
       "      <td>count</td>\n",
       "      <td>2229.000000</td>\n",
       "      <td>2229.000000</td>\n",
       "      <td>2229.000000</td>\n",
       "      <td>2229.000000</td>\n",
       "    </tr>\n",
       "    <tr>\n",
       "      <td>mean</td>\n",
       "      <td>417.934948</td>\n",
       "      <td>33.384029</td>\n",
       "      <td>16.328847</td>\n",
       "      <td>1289.973531</td>\n",
       "    </tr>\n",
       "    <tr>\n",
       "      <td>std</td>\n",
       "      <td>190.313730</td>\n",
       "      <td>28.227876</td>\n",
       "      <td>5.747061</td>\n",
       "      <td>818.404367</td>\n",
       "    </tr>\n",
       "    <tr>\n",
       "      <td>min</td>\n",
       "      <td>0.000000</td>\n",
       "      <td>0.000000</td>\n",
       "      <td>0.000000</td>\n",
       "      <td>550.000000</td>\n",
       "    </tr>\n",
       "    <tr>\n",
       "      <td>25%</td>\n",
       "      <td>282.000000</td>\n",
       "      <td>10.000000</td>\n",
       "      <td>13.000000</td>\n",
       "      <td>550.000000</td>\n",
       "    </tr>\n",
       "    <tr>\n",
       "      <td>50%</td>\n",
       "      <td>422.000000</td>\n",
       "      <td>28.000000</td>\n",
       "      <td>17.000000</td>\n",
       "      <td>1023.000000</td>\n",
       "    </tr>\n",
       "    <tr>\n",
       "      <td>75%</td>\n",
       "      <td>545.000000</td>\n",
       "      <td>51.000000</td>\n",
       "      <td>20.000000</td>\n",
       "      <td>1750.000000</td>\n",
       "    </tr>\n",
       "    <tr>\n",
       "      <td>max</td>\n",
       "      <td>1435.000000</td>\n",
       "      <td>143.000000</td>\n",
       "      <td>38.000000</td>\n",
       "      <td>6770.000000</td>\n",
       "    </tr>\n",
       "  </tbody>\n",
       "</table>\n",
       "</div>"
      ],
      "text/plain": [
       "       duration_call_month  count_message_month  gb_used_session_month  \\\n",
       "count          2229.000000          2229.000000            2229.000000   \n",
       "mean            417.934948            33.384029              16.328847   \n",
       "std             190.313730            28.227876               5.747061   \n",
       "min               0.000000             0.000000               0.000000   \n",
       "25%             282.000000            10.000000              13.000000   \n",
       "50%             422.000000            28.000000              17.000000   \n",
       "75%             545.000000            51.000000              20.000000   \n",
       "max            1435.000000           143.000000              38.000000   \n",
       "\n",
       "           revenue  \n",
       "count  2229.000000  \n",
       "mean   1289.973531  \n",
       "std     818.404367  \n",
       "min     550.000000  \n",
       "25%     550.000000  \n",
       "50%    1023.000000  \n",
       "75%    1750.000000  \n",
       "max    6770.000000  "
      ]
     },
     "execution_count": 58,
     "metadata": {},
     "output_type": "execute_result"
    }
   ],
   "source": [
    "# получение описательной статистики данных датасета\n",
    "smart[['duration_call_month', 'count_message_month',\n",
    "       'gb_used_session_month', 'revenue'\n",
    "      ]].describe()"
   ]
  },
  {
   "cell_type": "code",
   "execution_count": 59,
   "metadata": {},
   "outputs": [
    {
     "data": {
      "text/html": [
       "<div>\n",
       "<style scoped>\n",
       "    .dataframe tbody tr th:only-of-type {\n",
       "        vertical-align: middle;\n",
       "    }\n",
       "\n",
       "    .dataframe tbody tr th {\n",
       "        vertical-align: top;\n",
       "    }\n",
       "\n",
       "    .dataframe thead th {\n",
       "        text-align: right;\n",
       "    }\n",
       "</style>\n",
       "<table border=\"1\" class=\"dataframe\">\n",
       "  <thead>\n",
       "    <tr style=\"text-align: right;\">\n",
       "      <th></th>\n",
       "      <th>duration_call_month</th>\n",
       "      <th>count_message_month</th>\n",
       "      <th>gb_used_session_month</th>\n",
       "      <th>revenue</th>\n",
       "    </tr>\n",
       "  </thead>\n",
       "  <tbody>\n",
       "    <tr>\n",
       "      <td>count</td>\n",
       "      <td>985.000000</td>\n",
       "      <td>985.000000</td>\n",
       "      <td>985.000000</td>\n",
       "      <td>985.000000</td>\n",
       "    </tr>\n",
       "    <tr>\n",
       "      <td>mean</td>\n",
       "      <td>526.623350</td>\n",
       "      <td>49.363452</td>\n",
       "      <td>19.494416</td>\n",
       "      <td>2070.152284</td>\n",
       "    </tr>\n",
       "    <tr>\n",
       "      <td>std</td>\n",
       "      <td>317.606098</td>\n",
       "      <td>47.804457</td>\n",
       "      <td>9.853511</td>\n",
       "      <td>376.187114</td>\n",
       "    </tr>\n",
       "    <tr>\n",
       "      <td>min</td>\n",
       "      <td>0.000000</td>\n",
       "      <td>0.000000</td>\n",
       "      <td>0.000000</td>\n",
       "      <td>1950.000000</td>\n",
       "    </tr>\n",
       "    <tr>\n",
       "      <td>25%</td>\n",
       "      <td>284.000000</td>\n",
       "      <td>6.000000</td>\n",
       "      <td>12.000000</td>\n",
       "      <td>1950.000000</td>\n",
       "    </tr>\n",
       "    <tr>\n",
       "      <td>50%</td>\n",
       "      <td>518.000000</td>\n",
       "      <td>38.000000</td>\n",
       "      <td>19.000000</td>\n",
       "      <td>1950.000000</td>\n",
       "    </tr>\n",
       "    <tr>\n",
       "      <td>75%</td>\n",
       "      <td>752.000000</td>\n",
       "      <td>79.000000</td>\n",
       "      <td>27.000000</td>\n",
       "      <td>1950.000000</td>\n",
       "    </tr>\n",
       "    <tr>\n",
       "      <td>max</td>\n",
       "      <td>1673.000000</td>\n",
       "      <td>224.000000</td>\n",
       "      <td>49.000000</td>\n",
       "      <td>4800.000000</td>\n",
       "    </tr>\n",
       "  </tbody>\n",
       "</table>\n",
       "</div>"
      ],
      "text/plain": [
       "       duration_call_month  count_message_month  gb_used_session_month  \\\n",
       "count           985.000000           985.000000             985.000000   \n",
       "mean            526.623350            49.363452              19.494416   \n",
       "std             317.606098            47.804457               9.853511   \n",
       "min               0.000000             0.000000               0.000000   \n",
       "25%             284.000000             6.000000              12.000000   \n",
       "50%             518.000000            38.000000              19.000000   \n",
       "75%             752.000000            79.000000              27.000000   \n",
       "max            1673.000000           224.000000              49.000000   \n",
       "\n",
       "           revenue  \n",
       "count   985.000000  \n",
       "mean   2070.152284  \n",
       "std     376.187114  \n",
       "min    1950.000000  \n",
       "25%    1950.000000  \n",
       "50%    1950.000000  \n",
       "75%    1950.000000  \n",
       "max    4800.000000  "
      ]
     },
     "execution_count": 59,
     "metadata": {},
     "output_type": "execute_result"
    }
   ],
   "source": [
    "# получение описательной статистики данных датасета\n",
    "ultra[['duration_call_month', 'count_message_month',\n",
    "       'gb_used_session_month', 'revenue'\n",
    "      ]].describe()"
   ]
  },
  {
   "cell_type": "code",
   "execution_count": 60,
   "metadata": {},
   "outputs": [
    {
     "name": "stdout",
     "output_type": "stream",
     "text": [
      "Тариф \"Смарт\" в среднем за месяц:\n",
      "\n",
      "Минут разговора: 417.93\n",
      "Сообщений: 33.38\n",
      "Гигабайт интернета: 16.33\n",
      "Итого затрат в руб.: 1289.97\n",
      "\n",
      "Тариф \"Смарт\" дисперсия:\n",
      "\n",
      "Минут разговора: 36203.07\n",
      "Сообщений: 796.46\n",
      "Гигабайт интернета: 33.01\n",
      "Затрат: 669485.22\n",
      "\n",
      "Тариф \"Смарт\" стандартное отклонение:\n",
      "\n",
      "Минут разговора: 190.31\n",
      "Сообщений: 28.23\n",
      "Гигабайт интернета: 5.75\n",
      "Затрат: 818.40\n"
     ]
    }
   ],
   "source": [
    "print('Тариф \"Смарт\" в среднем за месяц:')\n",
    "print('')\n",
    "duration_mean_smart = smart['duration_call_month'].describe()['mean']\n",
    "print(f'Минут разговора: {duration_mean_smart:.2f}')\n",
    "\n",
    "message_mean_smart = smart['count_message_month'].describe()['mean']\n",
    "print(f'Сообщений: {message_mean_smart:.2f}')\n",
    "\n",
    "gb_mean_smart = smart['gb_used_session_month'].describe()['mean']\n",
    "print(f'Гигабайт интернета: {gb_mean_smart:.2f}')\n",
    "\n",
    "revenue_mean_smart = smart['revenue'].describe()['mean']\n",
    "print(f'Итого затрат в руб.: {revenue_mean_smart:.2f}')\n",
    "print('')\n",
    "\n",
    "\n",
    "print('Тариф \"Смарт\" дисперсия:')\n",
    "print('')\n",
    "\n",
    "duration_var_smart = np.var(smart['duration_call_month'])\n",
    "print(f'Минут разговора: {duration_var_smart:.2f}')\n",
    "\n",
    "message_var_smart = np.var(smart['count_message_month'])\n",
    "print(f'Сообщений: {message_var_smart:.2f}')\n",
    "\n",
    "gb_var_smart = np.var(smart['gb_used_session_month'])\n",
    "print(f'Гигабайт интернета: {gb_var_smart:.2f}')\n",
    "\n",
    "revenue_var_smart = np.var(smart['revenue'])\n",
    "print(f'Затрат: {revenue_var_smart:.2f}')\n",
    "print('')\n",
    "\n",
    "\n",
    "print('Тариф \"Смарт\" стандартное отклонение:')\n",
    "print('')\n",
    "duration_std_smart = smart['duration_call_month'].describe()['std']\n",
    "print(f'Минут разговора: {duration_std_smart:.2f}')\n",
    "\n",
    "message_std_smart = smart['count_message_month'].describe()['std']\n",
    "print(f'Сообщений: {message_std_smart:.2f}')\n",
    "\n",
    "gb_std_smart = smart['gb_used_session_month'].describe()['std']\n",
    "print(f'Гигабайт интернета: {gb_std_smart:.2f}')\n",
    "\n",
    "revenue_std_smart = smart['revenue'].describe()['std']\n",
    "print(f'Затрат: {revenue_std_smart:.2f}')"
   ]
  },
  {
   "cell_type": "code",
   "execution_count": 61,
   "metadata": {},
   "outputs": [
    {
     "name": "stdout",
     "output_type": "stream",
     "text": [
      "Тариф \"Ультра\" в среднем за месяц:\n",
      "\n",
      "Минут разговора: 526.62\n",
      "Сообщений: 49.36\n",
      "Гигабайт интернета: 19.49\n",
      "Итого затрат в руб.: 2070.15\n",
      "\n",
      "Тариф \"Ультра\" дисперсия:\n",
      "\n",
      "Минут разговора: 100771.22\n",
      "Сообщений: 2282.95\n",
      "Гигабайт интернета: 96.99\n",
      "Затрат: 141373.07\n",
      "\n",
      "Тариф \"Ультра\" стандартное отклонение:\n",
      "\n",
      "Минут разговора: 317.61\n",
      "Сообщений: 47.80\n",
      "Гигабайт интернета: 9.85\n",
      "Затрат: 376.19\n"
     ]
    }
   ],
   "source": [
    "print('Тариф \"Ультра\" в среднем за месяц:')\n",
    "print('')\n",
    "duration_mean_ultra = ultra['duration_call_month'].describe()['mean']\n",
    "print(f'Минут разговора: {duration_mean_ultra:.2f}')\n",
    "\n",
    "message_mean_ultra = ultra['count_message_month'].describe()['mean']\n",
    "print(f'Сообщений: {message_mean_ultra:.2f}')\n",
    "\n",
    "gb_mean_ultra = ultra['gb_used_session_month'].describe()['mean']\n",
    "print(f'Гигабайт интернета: {gb_mean_ultra:.2f}')\n",
    "\n",
    "revenue_mean_ultra = ultra['revenue'].describe()['mean']\n",
    "print(f'Итого затрат в руб.: {revenue_mean_ultra:.2f}')\n",
    "print('')\n",
    "\n",
    "\n",
    "print('Тариф \"Ультра\" дисперсия:')\n",
    "print('')\n",
    "\n",
    "duration_var_ultra = np.var(ultra['duration_call_month'])\n",
    "print(f'Минут разговора: {duration_var_ultra:.2f}')\n",
    "\n",
    "message_var_ultra = np.var(ultra['count_message_month'])\n",
    "print(f'Сообщений: {message_var_ultra:.2f}')\n",
    "\n",
    "gb_var_ultra = np.var(ultra['gb_used_session_month'])\n",
    "print(f'Гигабайт интернета: {gb_var_ultra:.2f}')\n",
    "\n",
    "revenue_var_ultra = np.var(ultra['revenue'])\n",
    "print(f'Затрат: {revenue_var_ultra:.2f}')\n",
    "print('')\n",
    "\n",
    "\n",
    "print('Тариф \"Ультра\" стандартное отклонение:')\n",
    "print('')\n",
    "duration_std_ultra = ultra['duration_call_month'].describe()['std']\n",
    "print(f'Минут разговора: {duration_std_ultra:.2f}')\n",
    "\n",
    "message_std_ultra = ultra['count_message_month'].describe()['std']\n",
    "print(f'Сообщений: {message_std_ultra:.2f}')\n",
    "\n",
    "gb_std_ultra = ultra['gb_used_session_month'].describe()['std']\n",
    "print(f'Гигабайт интернета: {gb_std_ultra:.2f}')\n",
    "\n",
    "revenue_std_ultra = ultra['revenue'].describe()['std']\n",
    "print(f'Затрат: {revenue_std_ultra:.2f}')"
   ]
  },
  {
   "cell_type": "markdown",
   "metadata": {},
   "source": [
    "Пользователи использующие тариф \"Смарт\" в среднем чаще превышают лимиты и переплачивают, чем пользователи тарифа \"Ультра\". Однако в большинстве случаев, даже с учетом переплаты, использование тарифа \"Смарт\" оказывается выгоднее."
   ]
  },
  {
   "cell_type": "markdown",
   "metadata": {},
   "source": [
    "### Построение гистограмм и описание распределения"
   ]
  },
  {
   "cell_type": "code",
   "execution_count": 62,
   "metadata": {},
   "outputs": [
    {
     "data": {
      "text/plain": [
       "Text(0.5, 1.0, 'Длительность звонков в минутах в месяц на тарифе \"Смарт\"')"
      ]
     },
     "execution_count": 62,
     "metadata": {},
     "output_type": "execute_result"
    },
    {
     "data": {
      "image/png": "[encoded data removed]",
      "text/plain": [
       "<Figure size 432x288 with 1 Axes>"
      ]
     },
     "metadata": {
      "needs_background": "light"
     },
     "output_type": "display_data"
    }
   ],
   "source": [
    "# построение гистограммы\n",
    "smart['duration_call_month'].plot(kind='hist', bins=100)\n",
    "plt.title('Длительность звонков в минутах в месяц на тарифе \"Смарт\"')"
   ]
  },
  {
   "cell_type": "code",
   "execution_count": 63,
   "metadata": {},
   "outputs": [
    {
     "data": {
      "text/plain": [
       "Text(0.5, 1.0, 'Длительность звонков в минутах в месяц на тарифе \"Ультра\"')"
      ]
     },
     "execution_count": 63,
     "metadata": {},
     "output_type": "execute_result"
    },
    {
     "data": {
      "image/png": "[encoded data removed]",
      "text/plain": [
       "<Figure size 432x288 with 1 Axes>"
      ]
     },
     "metadata": {
      "needs_background": "light"
     },
     "output_type": "display_data"
    }
   ],
   "source": [
    "# построение гистограммы\n",
    "ultra['duration_call_month'].plot(kind='hist', bins=100)\n",
    "plt.title('Длительность звонков в минутах в месяц на тарифе \"Ультра\"')"
   ]
  },
  {
   "cell_type": "markdown",
   "metadata": {},
   "source": [
    "Распределения носят ассиметричный характер. Пользователи тарифа \"Смарт\" часто выходят за пределы лимита, в то время как пользователи тарифа \"Ультра\" в него укладываются. Выбросы в нулях - это пропущенные звонки."
   ]
  },
  {
   "cell_type": "code",
   "execution_count": 64,
   "metadata": {},
   "outputs": [
    {
     "data": {
      "text/plain": [
       "Text(0.5, 1.0, 'Количество отправленных сообщений в месяц на тарифе \"Смарт\"')"
      ]
     },
     "execution_count": 64,
     "metadata": {},
     "output_type": "execute_result"
    },
    {
     "data": {
      "image/png": "[encoded data removed]",
      "text/plain": [
       "<Figure size 432x288 with 1 Axes>"
      ]
     },
     "metadata": {
      "needs_background": "light"
     },
     "output_type": "display_data"
    }
   ],
   "source": [
    "# построение гистограммы\n",
    "smart['count_message_month'].plot(kind='hist', bins=100)\n",
    "plt.title('Количество отправленных сообщений в месяц на тарифе \"Смарт\"')"
   ]
  },
  {
   "cell_type": "code",
   "execution_count": 65,
   "metadata": {},
   "outputs": [
    {
     "data": {
      "text/plain": [
       "Text(0.5, 1.0, 'Количество отправленных сообщений в месяц на тарифе \"Ультра\"')"
      ]
     },
     "execution_count": 65,
     "metadata": {},
     "output_type": "execute_result"
    },
    {
     "data": {
      "image/png": "[encoded data removed]",
      "text/plain": [
       "<Figure size 432x288 with 1 Axes>"
      ]
     },
     "metadata": {
      "needs_background": "light"
     },
     "output_type": "display_data"
    }
   ],
   "source": [
    "# построение гистограммы\n",
    "ultra['count_message_month'].plot(kind='hist', bins=100)\n",
    "plt.title('Количество отправленных сообщений в месяц на тарифе \"Ультра\"')"
   ]
  },
  {
   "cell_type": "markdown",
   "metadata": {},
   "source": [
    "Это распределения Пуассона. Сообщения не пользуются популярностью, в основном ими мало пользуются вне зависимости от тарифа. И все же пользователи тарифа \"Смарт\" иногда выходят за пределы лимита, в то время как пользователи тарифа \"Ультра\" в него укладываются."
   ]
  },
  {
   "cell_type": "code",
   "execution_count": 66,
   "metadata": {},
   "outputs": [
    {
     "data": {
      "text/plain": [
       "Text(0.5, 1.0, 'Количество интернет-трафика использованного в месяц на тарифе \"Смарт\"')"
      ]
     },
     "execution_count": 66,
     "metadata": {},
     "output_type": "execute_result"
    },
    {
     "data": {
      "image/png": "[encoded data removed]",
      "text/plain": [
       "<Figure size 432x288 with 1 Axes>"
      ]
     },
     "metadata": {
      "needs_background": "light"
     },
     "output_type": "display_data"
    }
   ],
   "source": [
    "# построение гистограммы\n",
    "smart['gb_used_session_month'].plot(kind='hist', bins=100)\n",
    "plt.title('Количество интернет-трафика использованного в месяц на тарифе \"Смарт\"')"
   ]
  },
  {
   "cell_type": "code",
   "execution_count": 67,
   "metadata": {},
   "outputs": [
    {
     "data": {
      "text/plain": [
       "Text(0.5, 1.0, 'Количество интернет-трафика использованного в месяц на тарифе \"Ультра\"')"
      ]
     },
     "execution_count": 67,
     "metadata": {},
     "output_type": "execute_result"
    },
    {
     "data": {
      "image/png": "[encoded data removed]",
      "text/plain": [
       "<Figure size 432x288 with 1 Axes>"
      ]
     },
     "metadata": {
      "needs_background": "light"
     },
     "output_type": "display_data"
    }
   ],
   "source": [
    "# построение гистограммы\n",
    "ultra['gb_used_session_month'].plot(kind='hist', bins=100)\n",
    "plt.title('Количество интернет-трафика использованного в месяц на тарифе \"Ультра\"')"
   ]
  },
  {
   "cell_type": "markdown",
   "metadata": {},
   "source": [
    "Нормальные распределения. На обоих тарифах пользователи часто превышают лимит по гигабайтам, но число таких пользователей на тарифе \"Смарт\" гораздо больше."
   ]
  },
  {
   "cell_type": "code",
   "execution_count": 68,
   "metadata": {},
   "outputs": [
    {
     "data": {
      "text/plain": [
       "Text(0.5, 1.0, 'Затраты на связь в месяц на тарифе \"Смарт\"')"
      ]
     },
     "execution_count": 68,
     "metadata": {},
     "output_type": "execute_result"
    },
    {
     "data": {
      "image/png": "[encoded data removed]",
      "text/plain": [
       "<Figure size 432x288 with 1 Axes>"
      ]
     },
     "metadata": {
      "needs_background": "light"
     },
     "output_type": "display_data"
    }
   ],
   "source": [
    "# построение гистограммы\n",
    "smart['revenue'].plot(kind='hist', bins=50)\n",
    "plt.title('Затраты на связь в месяц на тарифе \"Смарт\"')"
   ]
  },
  {
   "cell_type": "code",
   "execution_count": 69,
   "metadata": {},
   "outputs": [
    {
     "data": {
      "text/plain": [
       "Text(0.5, 1.0, 'Затраты на связь в месяц на тарифе \"Ультра\"')"
      ]
     },
     "execution_count": 69,
     "metadata": {},
     "output_type": "execute_result"
    },
    {
     "data": {
      "image/png": "[encoded data removed]",
      "text/plain": [
       "<Figure size 432x288 with 1 Axes>"
      ]
     },
     "metadata": {
      "needs_background": "light"
     },
     "output_type": "display_data"
    }
   ],
   "source": [
    "# построение гистограммы\n",
    "ultra['revenue'].plot(kind='hist', bins=50)\n",
    "plt.title('Затраты на связь в месяц на тарифе \"Ультра\"')"
   ]
  },
  {
   "cell_type": "markdown",
   "metadata": {},
   "source": [
    "Пользователи тарифа \"Смарт\" часто доплачивают за превышение лимитов, в то время как пользователи тарифа \"Ультра\" делают это редко."
   ]
  },
  {
   "cell_type": "code",
   "execution_count": 70,
   "metadata": {},
   "outputs": [
    {
     "data": {
      "text/html": [
       "<div>\n",
       "<style scoped>\n",
       "    .dataframe tbody tr th:only-of-type {\n",
       "        vertical-align: middle;\n",
       "    }\n",
       "\n",
       "    .dataframe tbody tr th {\n",
       "        vertical-align: top;\n",
       "    }\n",
       "\n",
       "    .dataframe thead th {\n",
       "        text-align: right;\n",
       "    }\n",
       "</style>\n",
       "<table border=\"1\" class=\"dataframe\">\n",
       "  <thead>\n",
       "    <tr style=\"text-align: right;\">\n",
       "      <th></th>\n",
       "      <th>duration_call_month</th>\n",
       "      <th>count_message_month</th>\n",
       "      <th>gb_used_session_month</th>\n",
       "      <th>revenue</th>\n",
       "    </tr>\n",
       "  </thead>\n",
       "  <tbody>\n",
       "    <tr>\n",
       "      <td>duration_call_month</td>\n",
       "      <td>1.000000</td>\n",
       "      <td>0.203091</td>\n",
       "      <td>0.339142</td>\n",
       "      <td>0.415948</td>\n",
       "    </tr>\n",
       "    <tr>\n",
       "      <td>count_message_month</td>\n",
       "      <td>0.203091</td>\n",
       "      <td>1.000000</td>\n",
       "      <td>0.145737</td>\n",
       "      <td>0.130258</td>\n",
       "    </tr>\n",
       "    <tr>\n",
       "      <td>gb_used_session_month</td>\n",
       "      <td>0.339142</td>\n",
       "      <td>0.145737</td>\n",
       "      <td>1.000000</td>\n",
       "      <td>0.847958</td>\n",
       "    </tr>\n",
       "    <tr>\n",
       "      <td>revenue</td>\n",
       "      <td>0.415948</td>\n",
       "      <td>0.130258</td>\n",
       "      <td>0.847958</td>\n",
       "      <td>1.000000</td>\n",
       "    </tr>\n",
       "  </tbody>\n",
       "</table>\n",
       "</div>"
      ],
      "text/plain": [
       "                       duration_call_month  count_message_month  \\\n",
       "duration_call_month               1.000000             0.203091   \n",
       "count_message_month               0.203091             1.000000   \n",
       "gb_used_session_month             0.339142             0.145737   \n",
       "revenue                           0.415948             0.130258   \n",
       "\n",
       "                       gb_used_session_month   revenue  \n",
       "duration_call_month                 0.339142  0.415948  \n",
       "count_message_month                 0.145737  0.130258  \n",
       "gb_used_session_month               1.000000  0.847958  \n",
       "revenue                             0.847958  1.000000  "
      ]
     },
     "execution_count": 70,
     "metadata": {},
     "output_type": "execute_result"
    }
   ],
   "source": [
    "# вывод коэффициента корреляции Пирсона\n",
    "smart[['duration_call_month', 'count_message_month',\n",
    "       'gb_used_session_month', 'revenue'\n",
    "      ]].corr()"
   ]
  },
  {
   "cell_type": "code",
   "execution_count": 71,
   "metadata": {},
   "outputs": [
    {
     "data": {
      "text/html": [
       "<div>\n",
       "<style scoped>\n",
       "    .dataframe tbody tr th:only-of-type {\n",
       "        vertical-align: middle;\n",
       "    }\n",
       "\n",
       "    .dataframe tbody tr th {\n",
       "        vertical-align: top;\n",
       "    }\n",
       "\n",
       "    .dataframe thead th {\n",
       "        text-align: right;\n",
       "    }\n",
       "</style>\n",
       "<table border=\"1\" class=\"dataframe\">\n",
       "  <thead>\n",
       "    <tr style=\"text-align: right;\">\n",
       "      <th></th>\n",
       "      <th>duration_call_month</th>\n",
       "      <th>count_message_month</th>\n",
       "      <th>gb_used_session_month</th>\n",
       "      <th>revenue</th>\n",
       "    </tr>\n",
       "  </thead>\n",
       "  <tbody>\n",
       "    <tr>\n",
       "      <td>duration_call_month</td>\n",
       "      <td>1.000000</td>\n",
       "      <td>0.082084</td>\n",
       "      <td>0.177111</td>\n",
       "      <td>0.090650</td>\n",
       "    </tr>\n",
       "    <tr>\n",
       "      <td>count_message_month</td>\n",
       "      <td>0.082084</td>\n",
       "      <td>1.000000</td>\n",
       "      <td>0.173901</td>\n",
       "      <td>0.018930</td>\n",
       "    </tr>\n",
       "    <tr>\n",
       "      <td>gb_used_session_month</td>\n",
       "      <td>0.177111</td>\n",
       "      <td>0.173901</td>\n",
       "      <td>1.000000</td>\n",
       "      <td>0.621388</td>\n",
       "    </tr>\n",
       "    <tr>\n",
       "      <td>revenue</td>\n",
       "      <td>0.090650</td>\n",
       "      <td>0.018930</td>\n",
       "      <td>0.621388</td>\n",
       "      <td>1.000000</td>\n",
       "    </tr>\n",
       "  </tbody>\n",
       "</table>\n",
       "</div>"
      ],
      "text/plain": [
       "                       duration_call_month  count_message_month  \\\n",
       "duration_call_month               1.000000             0.082084   \n",
       "count_message_month               0.082084             1.000000   \n",
       "gb_used_session_month             0.177111             0.173901   \n",
       "revenue                           0.090650             0.018930   \n",
       "\n",
       "                       gb_used_session_month   revenue  \n",
       "duration_call_month                 0.177111  0.090650  \n",
       "count_message_month                 0.173901  0.018930  \n",
       "gb_used_session_month               1.000000  0.621388  \n",
       "revenue                             0.621388  1.000000  "
      ]
     },
     "execution_count": 71,
     "metadata": {},
     "output_type": "execute_result"
    }
   ],
   "source": [
    "# вывод коэффициента корреляции Пирсона\n",
    "ultra[['duration_call_month', 'count_message_month',\n",
    "       'gb_used_session_month', 'revenue'\n",
    "      ]].corr()"
   ]
  },
  {
   "cell_type": "markdown",
   "metadata": {},
   "source": [
    "Наибольший вклад в итоговую сумму отплаты за тариф \"Ультра\" вносит превышение лимита интернет-трафика, а при использовании тарифа \"Смарт\", заметный вклад вносит еще и превышение длительности звонков. "
   ]
  },
  {
   "cell_type": "markdown",
   "metadata": {},
   "source": [
    "### Выводы"
   ]
  },
  {
   "cell_type": "markdown",
   "metadata": {},
   "source": [
    "Пользователи использующие тариф \"Смарт\" в среднем чаще превышают лимиты и переплачивают, чем пользователи тарифа \"Ультра\". \n",
    "Однако в большинстве случаев, даже с учетом переплаты, использование тарифа \"Смарт\" оказывается выгоднее.\n",
    "\n",
    "Пользователи тарифа \"Ультра\" практически всегда укладываются по минутам разговора и сообщениям, но периодически превышают лимит по интернет-трафику, а пользователи тарифа \"Смарт\" часто превышают лимиты по всем категориям. \n",
    "\n",
    "Наибольший вклад в итоговую сумму отплаты за тариф \"Ультра\" вносит превышение лимита интернет-трафика, а при использовании тарифа \"Смарт\", заметный вклад вносит еще и превышение длительности звонков. "
   ]
  },
  {
   "cell_type": "markdown",
   "metadata": {},
   "source": [
    "## Проверка гипотез и пояснения"
   ]
  },
  {
   "cell_type": "markdown",
   "metadata": {},
   "source": [
    "Напишем функцию для избавления от выбросов с помощью правила 3 сигм."
   ]
  },
  {
   "cell_type": "code",
   "execution_count": 72,
   "metadata": {},
   "outputs": [],
   "source": [
    "# функция для удаления выбросов\n",
    "def delete_outliers(df, column, graphic=0, x = 10, y = 10):\n",
    "    q1 = df[column].quantile(0.25)                 \n",
    "    q3 = df[column].quantile(0.75)\n",
    "    iqr = q3 - q1\n",
    "    iqr_test = (df[column] >= (q1 - 1.5 * iqr)) & (df[column] <= (q3 + 1.5 * iqr))\n",
    "    if graphic == 1:\n",
    "        return df.loc[iqr_test].boxplot([column], figsize=(x,y))\n",
    "    else:\n",
    "        return df.loc[iqr_test]"
   ]
  },
  {
   "cell_type": "markdown",
   "metadata": {},
   "source": [
    "### Cредняя выручка пользователей тарифов «Ультра» и «Смарт» различаются"
   ]
  },
  {
   "cell_type": "markdown",
   "metadata": {},
   "source": [
    "**Формулирование нулевой и альтернативной гипотезы**"
   ]
  },
  {
   "cell_type": "markdown",
   "metadata": {},
   "source": [
    "Нулевая гипотеза:\n",
    "\n",
    "H0: средняя выручка пользователей тарифов «Ультра» и «Смарт» не различается\n",
    "\n",
    "Альтернативная гипотеза:\n",
    "\n",
    "H1: средняя выручка пользователей тарифов «Ультра» и «Смарт» различается"
   ]
  },
  {
   "cell_type": "markdown",
   "metadata": {},
   "source": [
    "**Критерий для проверки гипотез**"
   ]
  },
  {
   "cell_type": "markdown",
   "metadata": {},
   "source": [
    "Для проверки гипотез используется t-критерий Стьюдента, так как сравниваемые выборки независимы между собой.\n",
    "При этом необходимо учесть, что дисперсии выборок различаются, поэтому equal_var = False.\n",
    "\n",
    "Критический уровень значимости - 0.05, чтобы вероятность правильности гипотезы была 95% и больше."
   ]
  },
  {
   "cell_type": "code",
   "execution_count": 73,
   "metadata": {},
   "outputs": [],
   "source": [
    "# критический уровень значимости\n",
    "alpha = 0.05"
   ]
  },
  {
   "cell_type": "code",
   "execution_count": 74,
   "metadata": {},
   "outputs": [],
   "source": [
    "# удаление выбросов\n",
    "ultra = delete_outliers(ultra, 'revenue', 0)\n",
    "ultra_revenue = ultra['revenue']\n",
    "\n",
    "smart = delete_outliers(smart, 'revenue', 0)\n",
    "smart_revenue = smart['revenue']"
   ]
  },
  {
   "cell_type": "code",
   "execution_count": 75,
   "metadata": {},
   "outputs": [
    {
     "name": "stdout",
     "output_type": "stream",
     "text": [
      "p-значение: 4.665521e-316\n",
      "Отвергаем нулевую гипотезу\n"
     ]
    }
   ],
   "source": [
    "# проверка гипотез\n",
    "results = st.ttest_ind(ultra_revenue, smart_revenue, equal_var = False)\n",
    "print('p-значение:', results.pvalue)\n",
    "\n",
    "if (results.pvalue < alpha):\n",
    "    print(\"Отвергаем нулевую гипотезу\")\n",
    "else:\n",
    "    print(\"Не получилось отвергнуть нулевую гипотезу\")"
   ]
  },
  {
   "cell_type": "markdown",
   "metadata": {},
   "source": [
    "Нулевой гипотезой была гипотеза о равенстве средних выручек пользователей тарифов «Ультра» и «Смарт» и очень маленькое p-value говорит о том, вероятность равенства средних выручек ничтожно мала. Нулевая гипотеза отвергается. А значит сформулированная альтернативная гипотеза о том, что средняя выручка пользователей тарифов «Ультра» и «Смарт» различается - верна."
   ]
  },
  {
   "cell_type": "markdown",
   "metadata": {},
   "source": [
    "### Cредняя выручка пользователей из Москвы отличается от выручки пользователей из других регионов"
   ]
  },
  {
   "cell_type": "markdown",
   "metadata": {},
   "source": [
    "**Формулирование нулевой и альтернативной гипотезы**"
   ]
  },
  {
   "cell_type": "markdown",
   "metadata": {},
   "source": [
    "Нулевая гипотеза:\n",
    "\n",
    "H0: средняя выручка пользователей из Москвы не отличается от выручки пользователей из других регионов\n",
    "\n",
    "Альтернативная гипотеза:\n",
    "\n",
    "H1: средняя выручка пользователей из Москвы отличается от выручки пользователей из других регионов"
   ]
  },
  {
   "cell_type": "markdown",
   "metadata": {},
   "source": [
    "Для проверки гипотезы создадим две соответствующие таблицы moscow и other."
   ]
  },
  {
   "cell_type": "code",
   "execution_count": 76,
   "metadata": {},
   "outputs": [],
   "source": [
    "# создание датасетов по расположению\n",
    "moscow = data[data['city'] == 'Москва']\n",
    "other = data[data['city'] != 'Москва']"
   ]
  },
  {
   "cell_type": "code",
   "execution_count": 77,
   "metadata": {},
   "outputs": [
    {
     "data": {
      "text/plain": [
       "564710.7117467273"
      ]
     },
     "execution_count": 77,
     "metadata": {},
     "output_type": "execute_result"
    }
   ],
   "source": [
    "# вывод дисперсии\n",
    "np.var(moscow['revenue'])"
   ]
  },
  {
   "cell_type": "code",
   "execution_count": 78,
   "metadata": {},
   "outputs": [
    {
     "data": {
      "text/plain": [
       "653886.3270894174"
      ]
     },
     "execution_count": 78,
     "metadata": {},
     "output_type": "execute_result"
    }
   ],
   "source": [
    "# вывод дисперсии\n",
    "np.var(other['revenue'])"
   ]
  },
  {
   "cell_type": "markdown",
   "metadata": {},
   "source": [
    "**Критерий для проверки гипотез**"
   ]
  },
  {
   "cell_type": "markdown",
   "metadata": {},
   "source": [
    "Для проверки гипотез используется t-критерий Стьюдента, так как сравниваемые выборки независимы между собой.\n",
    "При этом необходимо учесть, что дисперсии выборок различаются, поэтому equal_var = False.\n",
    "\n",
    "Критический уровень значимости - 0.05, чтобы вероятность правильности гипотезы была 95% и больше."
   ]
  },
  {
   "cell_type": "code",
   "execution_count": 79,
   "metadata": {},
   "outputs": [],
   "source": [
    "# критический уровень значимости\n",
    "alpha = 0.05"
   ]
  },
  {
   "cell_type": "code",
   "execution_count": 80,
   "metadata": {},
   "outputs": [],
   "source": [
    "# удаление выбросов\n",
    "moscow = delete_outliers(moscow, 'revenue', 0)\n",
    "moscow_revenue_mean = moscow['revenue']\n",
    "\n",
    "other = delete_outliers(other, 'revenue', 0)\n",
    "other_revenue_mean = other['revenue']"
   ]
  },
  {
   "cell_type": "code",
   "execution_count": 81,
   "metadata": {},
   "outputs": [
    {
     "name": "stdout",
     "output_type": "stream",
     "text": [
      "p-значение: 0.28193534711211565\n",
      "Не получилось отвергнуть нулевую гипотезу\n"
     ]
    }
   ],
   "source": [
    "# проверка гипотез\n",
    "results = st.ttest_ind(moscow_revenue_mean, other_revenue_mean, equal_var = False)\n",
    "print('p-значение:', results.pvalue)\n",
    "\n",
    "if (results.pvalue < alpha):\n",
    "    print(\"Отвергаем нулевую гипотезу\")\n",
    "else:\n",
    "    print(\"Не получилось отвергнуть нулевую гипотезу\")"
   ]
  },
  {
   "cell_type": "markdown",
   "metadata": {},
   "source": [
    "Нулевой гипотезой была гипотеза о равенстве средних выручек пользователей из Москвы и пользователей из других регионов. Значение p-value равное 0.28 говорит о том, что существует большая вероятность случайного характера в различии средних выручек. Нулевая гипотеза не может быть отвергнута. Значит, нашу альтернативную гипотезу о различии средних - отвергаем."
   ]
  },
  {
   "cell_type": "markdown",
   "metadata": {},
   "source": [
    "### Выводы"
   ]
  },
  {
   "cell_type": "markdown",
   "metadata": {},
   "source": [
    "Гипотеза о том, что средняя выручка пользователей тарифов «Ультра» и «Смарт» различается - верна.\n",
    "\n",
    "Гипотеза о том, что средняя выручка пользователей из Москвы отличается от выручки пользователей из других регионов - отвергнута, т.к. не доказано обратное."
   ]
  },
  {
   "cell_type": "markdown",
   "metadata": {},
   "source": [
    "## Формулирование общего вывода"
   ]
  },
  {
   "cell_type": "markdown",
   "metadata": {},
   "source": [
    "Пользователи разных тарифов ведут себя по-разному. Пользователи использующие тариф \"Смарт\" в среднем чаще превышают лимиты и переплачивают, чем пользователи тарифа \"Ультра\". Однако в большинстве случаев, даже с учетом переплаты, использование тарифа \"Смарт\" оказывается выгоднее для пользователя.\n",
    "\n",
    "Пользователи тарифа \"Ультра\" практически всегда укладываются по минутам разговора и сообщениям, но периодически превышают лимит по интернет-трафику, а пользователи тарифа \"Смарт\" часто превышают лимиты по всем категориям. Сообщения не пользуются популярностью на обоих тарифах.\n",
    "\n",
    "Наибольший вклад в итоговую сумму отплаты за тариф \"Ультра\" вносит превышение лимита интернет-трафика, а при использовании тарифа \"Смарт\", заметный вклад вносит еще и превышение длительности звонков.\n",
    "\n",
    "Прибыль компании от пользователей тарифа \"Ультра\" больше, чем от пользователей тарифа \"Смарт\", потому как на тарифе \"Смарт\" пользователи близки к своим лимитам и часто превышают их, в то время как на тарифе \"Ультра\" остаются большие неизрасходованные \"запасы\".\n",
    "\n",
    "Гипотеза о том, что средняя выручка пользователей из Москвы отличается от выручки пользователей из других регионов - отвергнута, т.к. не доказано обратное."
   ]
  }
 ],
 "metadata": {
  "ExecuteTimeLog": [
   {
    "duration": 731,
    "start_time": "2021-12-20T21:57:47.957Z"
   },
   {
    "duration": 528,
    "start_time": "2021-12-20T22:02:40.405Z"
   },
   {
    "duration": 16,
    "start_time": "2021-12-20T22:06:10.703Z"
   },
   {
    "duration": 17,
    "start_time": "2021-12-20T22:07:00.479Z"
   },
   {
    "duration": 9,
    "start_time": "2021-12-20T22:08:03.757Z"
   },
   {
    "duration": 14,
    "start_time": "2021-12-20T22:09:51.748Z"
   },
   {
    "duration": 18,
    "start_time": "2021-12-20T22:10:42.049Z"
   },
   {
    "duration": 34,
    "start_time": "2021-12-20T22:10:56.982Z"
   },
   {
    "duration": 337,
    "start_time": "2021-12-20T22:11:30.503Z"
   },
   {
    "duration": 205,
    "start_time": "2021-12-20T22:11:56.848Z"
   },
   {
    "duration": 221,
    "start_time": "2021-12-20T22:12:03.911Z"
   },
   {
    "duration": 210,
    "start_time": "2021-12-20T22:12:09.995Z"
   },
   {
    "duration": 17,
    "start_time": "2021-12-20T22:12:15.679Z"
   },
   {
    "duration": 8,
    "start_time": "2021-12-20T22:13:04.122Z"
   },
   {
    "duration": 23,
    "start_time": "2021-12-20T22:13:36.680Z"
   },
   {
    "duration": 20,
    "start_time": "2021-12-20T22:13:55.655Z"
   },
   {
    "duration": 8,
    "start_time": "2021-12-20T22:15:24.559Z"
   },
   {
    "duration": 16,
    "start_time": "2021-12-20T22:15:48.312Z"
   },
   {
    "duration": 11,
    "start_time": "2021-12-20T22:16:43.818Z"
   },
   {
    "duration": 10,
    "start_time": "2021-12-20T22:17:38.632Z"
   },
   {
    "duration": 10,
    "start_time": "2021-12-20T22:17:43.634Z"
   },
   {
    "duration": 20,
    "start_time": "2021-12-20T22:18:16.976Z"
   },
   {
    "duration": 17,
    "start_time": "2021-12-20T22:19:20.418Z"
   },
   {
    "duration": 9,
    "start_time": "2021-12-20T22:21:14.167Z"
   },
   {
    "duration": 8,
    "start_time": "2021-12-20T22:22:22.920Z"
   },
   {
    "duration": 870,
    "start_time": "2021-12-24T11:44:28.813Z"
   },
   {
    "duration": 538,
    "start_time": "2021-12-24T11:44:29.685Z"
   },
   {
    "duration": 20,
    "start_time": "2021-12-24T11:44:30.226Z"
   },
   {
    "duration": 28,
    "start_time": "2021-12-24T11:44:30.248Z"
   },
   {
    "duration": 18,
    "start_time": "2021-12-24T11:44:30.279Z"
   },
   {
    "duration": 32,
    "start_time": "2021-12-24T11:44:30.300Z"
   },
   {
    "duration": 54,
    "start_time": "2021-12-24T11:44:30.335Z"
   },
   {
    "duration": 20,
    "start_time": "2021-12-24T11:44:30.391Z"
   },
   {
    "duration": 10,
    "start_time": "2021-12-24T11:44:30.415Z"
   },
   {
    "duration": 32,
    "start_time": "2021-12-24T11:44:30.428Z"
   },
   {
    "duration": 24,
    "start_time": "2021-12-24T11:44:30.462Z"
   },
   {
    "duration": 31,
    "start_time": "2021-12-24T11:44:30.488Z"
   },
   {
    "duration": 16,
    "start_time": "2021-12-24T11:44:30.521Z"
   },
   {
    "duration": 12,
    "start_time": "2021-12-24T11:44:30.539Z"
   },
   {
    "duration": 29,
    "start_time": "2021-12-24T11:44:30.553Z"
   },
   {
    "duration": 7,
    "start_time": "2021-12-24T13:19:32.609Z"
   },
   {
    "duration": 12,
    "start_time": "2021-12-24T13:20:21.818Z"
   },
   {
    "duration": 7,
    "start_time": "2021-12-24T13:20:50.778Z"
   },
   {
    "duration": 9,
    "start_time": "2021-12-24T13:21:26.988Z"
   },
   {
    "duration": 100,
    "start_time": "2021-12-24T13:26:18.564Z"
   },
   {
    "duration": 9,
    "start_time": "2021-12-24T13:26:20.052Z"
   },
   {
    "duration": 20,
    "start_time": "2021-12-24T13:26:45.475Z"
   },
   {
    "duration": 15,
    "start_time": "2021-12-24T13:27:10.594Z"
   },
   {
    "duration": 17,
    "start_time": "2021-12-24T13:27:40.180Z"
   },
   {
    "duration": 433,
    "start_time": "2021-12-24T13:38:56.613Z"
   },
   {
    "duration": 4,
    "start_time": "2021-12-24T13:42:12.728Z"
   },
   {
    "duration": 3,
    "start_time": "2021-12-24T13:42:19.855Z"
   },
   {
    "duration": 584,
    "start_time": "2021-12-24T13:42:19.866Z"
   },
   {
    "duration": 24,
    "start_time": "2021-12-24T13:42:20.456Z"
   },
   {
    "duration": 11,
    "start_time": "2021-12-24T13:42:20.484Z"
   },
   {
    "duration": 25,
    "start_time": "2021-12-24T13:42:20.497Z"
   },
   {
    "duration": 15,
    "start_time": "2021-12-24T13:42:20.525Z"
   },
   {
    "duration": 29,
    "start_time": "2021-12-24T13:42:20.543Z"
   },
   {
    "duration": 63,
    "start_time": "2021-12-24T13:42:20.574Z"
   },
   {
    "duration": 10,
    "start_time": "2021-12-24T13:42:20.640Z"
   },
   {
    "duration": 19,
    "start_time": "2021-12-24T13:42:20.654Z"
   },
   {
    "duration": 50,
    "start_time": "2021-12-24T13:42:20.676Z"
   },
   {
    "duration": 26,
    "start_time": "2021-12-24T13:42:20.729Z"
   },
   {
    "duration": 17,
    "start_time": "2021-12-24T13:42:20.758Z"
   },
   {
    "duration": 55,
    "start_time": "2021-12-24T13:42:20.778Z"
   },
   {
    "duration": 8,
    "start_time": "2021-12-24T13:42:20.836Z"
   },
   {
    "duration": 128,
    "start_time": "2021-12-24T13:42:20.847Z"
   },
   {
    "duration": 9,
    "start_time": "2021-12-24T13:42:20.978Z"
   },
   {
    "duration": 46,
    "start_time": "2021-12-24T13:42:20.989Z"
   },
   {
    "duration": 17,
    "start_time": "2021-12-24T13:42:21.038Z"
   },
   {
    "duration": 18,
    "start_time": "2021-12-24T13:42:21.058Z"
   },
   {
    "duration": 342,
    "start_time": "2021-12-24T13:42:21.079Z"
   },
   {
    "duration": 328,
    "start_time": "2021-12-24T13:43:48.252Z"
   },
   {
    "duration": 321,
    "start_time": "2021-12-24T13:44:33.926Z"
   },
   {
    "duration": 466,
    "start_time": "2021-12-24T13:47:34.669Z"
   },
   {
    "duration": 368,
    "start_time": "2021-12-24T13:47:46.606Z"
   },
   {
    "duration": 308,
    "start_time": "2021-12-24T13:47:50.534Z"
   },
   {
    "duration": 381,
    "start_time": "2021-12-24T13:47:59.449Z"
   },
   {
    "duration": 6,
    "start_time": "2021-12-24T13:48:26.600Z"
   },
   {
    "duration": 336,
    "start_time": "2021-12-24T13:48:45.474Z"
   },
   {
    "duration": 3023,
    "start_time": "2021-12-24T13:48:42.790Z"
   },
   {
    "duration": 3022,
    "start_time": "2021-12-24T13:48:42.793Z"
   },
   {
    "duration": 3021,
    "start_time": "2021-12-24T13:48:42.795Z"
   },
   {
    "duration": 3018,
    "start_time": "2021-12-24T13:48:42.801Z"
   },
   {
    "duration": 3018,
    "start_time": "2021-12-24T13:48:42.803Z"
   },
   {
    "duration": 3016,
    "start_time": "2021-12-24T13:48:42.806Z"
   },
   {
    "duration": 3015,
    "start_time": "2021-12-24T13:48:42.808Z"
   },
   {
    "duration": 3007,
    "start_time": "2021-12-24T13:48:42.818Z"
   },
   {
    "duration": 3003,
    "start_time": "2021-12-24T13:48:42.823Z"
   },
   {
    "duration": 3001,
    "start_time": "2021-12-24T13:48:42.826Z"
   },
   {
    "duration": 3001,
    "start_time": "2021-12-24T13:48:42.828Z"
   },
   {
    "duration": 2997,
    "start_time": "2021-12-24T13:48:42.833Z"
   },
   {
    "duration": 2995,
    "start_time": "2021-12-24T13:48:42.836Z"
   },
   {
    "duration": 2994,
    "start_time": "2021-12-24T13:48:42.839Z"
   },
   {
    "duration": 2989,
    "start_time": "2021-12-24T13:48:42.845Z"
   },
   {
    "duration": 2985,
    "start_time": "2021-12-24T13:48:42.851Z"
   },
   {
    "duration": 2984,
    "start_time": "2021-12-24T13:48:42.853Z"
   },
   {
    "duration": 2958,
    "start_time": "2021-12-24T13:48:42.880Z"
   },
   {
    "duration": 2957,
    "start_time": "2021-12-24T13:48:42.883Z"
   },
   {
    "duration": 2957,
    "start_time": "2021-12-24T13:48:42.885Z"
   },
   {
    "duration": 4,
    "start_time": "2021-12-24T13:49:05.055Z"
   },
   {
    "duration": 4,
    "start_time": "2021-12-24T13:49:08.162Z"
   },
   {
    "duration": 796,
    "start_time": "2021-12-24T13:49:08.170Z"
   },
   {
    "duration": 24,
    "start_time": "2021-12-24T13:49:08.970Z"
   },
   {
    "duration": 21,
    "start_time": "2021-12-24T13:49:08.999Z"
   },
   {
    "duration": 17,
    "start_time": "2021-12-24T13:49:09.024Z"
   },
   {
    "duration": 17,
    "start_time": "2021-12-24T13:49:09.043Z"
   },
   {
    "duration": 68,
    "start_time": "2021-12-24T13:49:09.062Z"
   },
   {
    "duration": 20,
    "start_time": "2021-12-24T13:49:09.135Z"
   },
   {
    "duration": 9,
    "start_time": "2021-12-24T13:49:09.158Z"
   },
   {
    "duration": 56,
    "start_time": "2021-12-24T13:49:09.170Z"
   },
   {
    "duration": 15,
    "start_time": "2021-12-24T13:49:09.230Z"
   },
   {
    "duration": 24,
    "start_time": "2021-12-24T13:49:09.247Z"
   },
   {
    "duration": 63,
    "start_time": "2021-12-24T13:49:09.273Z"
   },
   {
    "duration": 13,
    "start_time": "2021-12-24T13:49:09.339Z"
   },
   {
    "duration": 11,
    "start_time": "2021-12-24T13:49:09.355Z"
   },
   {
    "duration": 133,
    "start_time": "2021-12-24T13:49:09.369Z"
   },
   {
    "duration": 16,
    "start_time": "2021-12-24T13:49:09.505Z"
   },
   {
    "duration": 33,
    "start_time": "2021-12-24T13:49:09.524Z"
   },
   {
    "duration": 16,
    "start_time": "2021-12-24T13:49:09.559Z"
   },
   {
    "duration": 42,
    "start_time": "2021-12-24T13:49:09.577Z"
   },
   {
    "duration": 326,
    "start_time": "2021-12-24T13:49:09.625Z"
   },
   {
    "duration": 123,
    "start_time": "2021-12-24T13:49:45.731Z"
   },
   {
    "duration": 6,
    "start_time": "2021-12-24T13:49:53.612Z"
   },
   {
    "duration": 24,
    "start_time": "2021-12-24T13:50:54.838Z"
   },
   {
    "duration": 13,
    "start_time": "2021-12-24T13:51:41.686Z"
   },
   {
    "duration": 5,
    "start_time": "2021-12-24T14:01:48.848Z"
   },
   {
    "duration": 281,
    "start_time": "2021-12-24T14:02:27.567Z"
   },
   {
    "duration": 6,
    "start_time": "2021-12-24T14:02:35.113Z"
   },
   {
    "duration": 7,
    "start_time": "2021-12-24T14:03:58.122Z"
   },
   {
    "duration": 7,
    "start_time": "2021-12-24T14:03:59.417Z"
   },
   {
    "duration": 9,
    "start_time": "2021-12-24T14:06:31.089Z"
   },
   {
    "duration": 9,
    "start_time": "2021-12-24T14:06:53.200Z"
   },
   {
    "duration": 11,
    "start_time": "2021-12-24T14:07:39.001Z"
   },
   {
    "duration": 8,
    "start_time": "2021-12-24T14:08:33.781Z"
   },
   {
    "duration": 13,
    "start_time": "2021-12-24T14:08:35.065Z"
   },
   {
    "duration": 5,
    "start_time": "2021-12-24T14:09:19.185Z"
   },
   {
    "duration": 568,
    "start_time": "2021-12-24T14:09:19.194Z"
   },
   {
    "duration": 16,
    "start_time": "2021-12-24T14:09:19.765Z"
   },
   {
    "duration": 11,
    "start_time": "2021-12-24T14:09:19.784Z"
   },
   {
    "duration": 28,
    "start_time": "2021-12-24T14:09:19.798Z"
   },
   {
    "duration": 32,
    "start_time": "2021-12-24T14:09:19.829Z"
   },
   {
    "duration": 47,
    "start_time": "2021-12-24T14:09:19.864Z"
   },
   {
    "duration": 25,
    "start_time": "2021-12-24T14:09:19.913Z"
   },
   {
    "duration": 10,
    "start_time": "2021-12-24T14:09:19.943Z"
   },
   {
    "duration": 22,
    "start_time": "2021-12-24T14:09:19.958Z"
   },
   {
    "duration": 54,
    "start_time": "2021-12-24T14:09:19.982Z"
   },
   {
    "duration": 26,
    "start_time": "2021-12-24T14:09:20.040Z"
   },
   {
    "duration": 51,
    "start_time": "2021-12-24T14:09:20.069Z"
   },
   {
    "duration": 17,
    "start_time": "2021-12-24T14:09:20.124Z"
   },
   {
    "duration": 8,
    "start_time": "2021-12-24T14:09:20.143Z"
   },
   {
    "duration": 130,
    "start_time": "2021-12-24T14:09:20.154Z"
   },
   {
    "duration": 17,
    "start_time": "2021-12-24T14:09:20.286Z"
   },
   {
    "duration": 31,
    "start_time": "2021-12-24T14:09:20.305Z"
   },
   {
    "duration": 13,
    "start_time": "2021-12-24T14:09:20.339Z"
   },
   {
    "duration": 16,
    "start_time": "2021-12-24T14:09:20.355Z"
   },
   {
    "duration": 43,
    "start_time": "2021-12-24T14:09:20.374Z"
   },
   {
    "duration": 16,
    "start_time": "2021-12-24T14:09:20.421Z"
   },
   {
    "duration": 13,
    "start_time": "2021-12-24T14:09:20.440Z"
   },
   {
    "duration": 7,
    "start_time": "2021-12-24T14:09:20.455Z"
   },
   {
    "duration": 15,
    "start_time": "2021-12-24T14:09:20.465Z"
   },
   {
    "duration": 46,
    "start_time": "2021-12-24T14:09:20.482Z"
   },
   {
    "duration": 5,
    "start_time": "2021-12-24T14:12:07.003Z"
   },
   {
    "duration": 12,
    "start_time": "2021-12-24T14:12:53.202Z"
   },
   {
    "duration": 113,
    "start_time": "2021-12-24T14:23:58.145Z"
   },
   {
    "duration": 345,
    "start_time": "2021-12-24T14:24:12.885Z"
   },
   {
    "duration": 35,
    "start_time": "2021-12-24T14:31:15.822Z"
   },
   {
    "duration": 13,
    "start_time": "2021-12-24T14:31:34.460Z"
   },
   {
    "duration": 11,
    "start_time": "2021-12-24T14:31:42.959Z"
   },
   {
    "duration": 7905,
    "start_time": "2021-12-24T14:34:14.679Z"
   },
   {
    "duration": 7488,
    "start_time": "2021-12-24T14:35:55.809Z"
   },
   {
    "duration": 7422,
    "start_time": "2021-12-24T14:36:14.949Z"
   },
   {
    "duration": 70,
    "start_time": "2021-12-24T14:36:39.956Z"
   },
   {
    "duration": 13,
    "start_time": "2021-12-24T14:36:42.098Z"
   },
   {
    "duration": 12,
    "start_time": "2021-12-24T14:37:02.037Z"
   },
   {
    "duration": 13,
    "start_time": "2021-12-24T14:37:25.024Z"
   },
   {
    "duration": 48,
    "start_time": "2021-12-24T14:46:05.841Z"
   },
   {
    "duration": 9,
    "start_time": "2021-12-24T14:48:21.765Z"
   },
   {
    "duration": 22,
    "start_time": "2021-12-24T14:48:23.520Z"
   },
   {
    "duration": 191,
    "start_time": "2021-12-24T14:48:44.505Z"
   },
   {
    "duration": 13,
    "start_time": "2021-12-24T14:48:45.624Z"
   },
   {
    "duration": 12,
    "start_time": "2021-12-24T14:48:48.326Z"
   },
   {
    "duration": 12,
    "start_time": "2021-12-24T14:48:51.229Z"
   },
   {
    "duration": 41,
    "start_time": "2021-12-24T14:50:26.303Z"
   },
   {
    "duration": 67,
    "start_time": "2021-12-24T14:53:14.385Z"
   },
   {
    "duration": 86,
    "start_time": "2021-12-24T14:54:07.087Z"
   },
   {
    "duration": 13,
    "start_time": "2021-12-24T14:54:08.145Z"
   },
   {
    "duration": 12,
    "start_time": "2021-12-24T14:54:08.991Z"
   },
   {
    "duration": 13,
    "start_time": "2021-12-24T14:54:10.192Z"
   },
   {
    "duration": 59,
    "start_time": "2021-12-24T14:54:14.401Z"
   },
   {
    "duration": 25,
    "start_time": "2021-12-24T14:54:45.463Z"
   },
   {
    "duration": 1236,
    "start_time": "2021-12-24T14:55:59.795Z"
   },
   {
    "duration": 16,
    "start_time": "2021-12-24T14:56:23.195Z"
   },
   {
    "duration": 297,
    "start_time": "2021-12-24T14:56:29.456Z"
   },
   {
    "duration": 3,
    "start_time": "2021-12-24T14:56:46.093Z"
   },
   {
    "duration": 509,
    "start_time": "2021-12-24T14:56:46.099Z"
   },
   {
    "duration": 15,
    "start_time": "2021-12-24T14:56:46.611Z"
   },
   {
    "duration": 9,
    "start_time": "2021-12-24T14:56:46.629Z"
   },
   {
    "duration": 12,
    "start_time": "2021-12-24T14:56:46.641Z"
   },
   {
    "duration": 12,
    "start_time": "2021-12-24T14:56:46.655Z"
   },
   {
    "duration": 65,
    "start_time": "2021-12-24T14:56:46.670Z"
   },
   {
    "duration": 19,
    "start_time": "2021-12-24T14:56:46.739Z"
   },
   {
    "duration": 10,
    "start_time": "2021-12-24T14:56:46.761Z"
   },
   {
    "duration": 49,
    "start_time": "2021-12-24T14:56:46.773Z"
   },
   {
    "duration": 12,
    "start_time": "2021-12-24T14:56:46.825Z"
   },
   {
    "duration": 23,
    "start_time": "2021-12-24T14:56:46.840Z"
   },
   {
    "duration": 17,
    "start_time": "2021-12-24T14:56:46.865Z"
   },
   {
    "duration": 11,
    "start_time": "2021-12-24T14:56:46.917Z"
   },
   {
    "duration": 11,
    "start_time": "2021-12-24T14:56:46.930Z"
   },
   {
    "duration": 115,
    "start_time": "2021-12-24T14:56:46.943Z"
   },
   {
    "duration": 9,
    "start_time": "2021-12-24T14:56:47.061Z"
   },
   {
    "duration": 23,
    "start_time": "2021-12-24T14:56:47.072Z"
   },
   {
    "duration": 32,
    "start_time": "2021-12-24T14:56:47.098Z"
   },
   {
    "duration": 20,
    "start_time": "2021-12-24T14:56:47.133Z"
   },
   {
    "duration": 8,
    "start_time": "2021-12-24T14:56:47.156Z"
   },
   {
    "duration": 55,
    "start_time": "2021-12-24T14:56:47.166Z"
   },
   {
    "duration": 5,
    "start_time": "2021-12-24T14:56:47.228Z"
   },
   {
    "duration": 9,
    "start_time": "2021-12-24T14:56:47.237Z"
   },
   {
    "duration": 9,
    "start_time": "2021-12-24T14:56:47.248Z"
   },
   {
    "duration": 14,
    "start_time": "2021-12-24T14:56:47.259Z"
   },
   {
    "duration": 41,
    "start_time": "2021-12-24T14:56:47.276Z"
   },
   {
    "duration": 12,
    "start_time": "2021-12-24T14:56:47.319Z"
   },
   {
    "duration": 92,
    "start_time": "2021-12-24T14:56:47.334Z"
   },
   {
    "duration": 12,
    "start_time": "2021-12-24T14:56:47.429Z"
   },
   {
    "duration": 12,
    "start_time": "2021-12-24T14:56:47.443Z"
   },
   {
    "duration": 15,
    "start_time": "2021-12-24T14:56:47.457Z"
   },
   {
    "duration": 61,
    "start_time": "2021-12-24T14:56:47.475Z"
   },
   {
    "duration": 319,
    "start_time": "2021-12-24T14:57:01.577Z"
   },
   {
    "duration": 287,
    "start_time": "2021-12-24T14:57:14.412Z"
   },
   {
    "duration": 4,
    "start_time": "2021-12-24T14:57:21.007Z"
   },
   {
    "duration": 536,
    "start_time": "2021-12-24T14:57:21.014Z"
   },
   {
    "duration": 17,
    "start_time": "2021-12-24T14:57:21.554Z"
   },
   {
    "duration": 10,
    "start_time": "2021-12-24T14:57:21.575Z"
   },
   {
    "duration": 32,
    "start_time": "2021-12-24T14:57:21.588Z"
   },
   {
    "duration": 21,
    "start_time": "2021-12-24T14:57:21.622Z"
   },
   {
    "duration": 33,
    "start_time": "2021-12-24T14:57:21.646Z"
   },
   {
    "duration": 40,
    "start_time": "2021-12-24T14:57:21.682Z"
   },
   {
    "duration": 12,
    "start_time": "2021-12-24T14:57:21.728Z"
   },
   {
    "duration": 22,
    "start_time": "2021-12-24T14:57:21.743Z"
   },
   {
    "duration": 15,
    "start_time": "2021-12-24T14:57:21.767Z"
   },
   {
    "duration": 25,
    "start_time": "2021-12-24T14:57:21.817Z"
   },
   {
    "duration": 16,
    "start_time": "2021-12-24T14:57:21.844Z"
   },
   {
    "duration": 11,
    "start_time": "2021-12-24T14:57:21.862Z"
   },
   {
    "duration": 10,
    "start_time": "2021-12-24T14:57:21.876Z"
   },
   {
    "duration": 110,
    "start_time": "2021-12-24T14:57:21.918Z"
   },
   {
    "duration": 12,
    "start_time": "2021-12-24T14:57:22.031Z"
   },
   {
    "duration": 20,
    "start_time": "2021-12-24T14:57:22.045Z"
   },
   {
    "duration": 15,
    "start_time": "2021-12-24T14:57:22.068Z"
   },
   {
    "duration": 18,
    "start_time": "2021-12-24T14:57:22.118Z"
   },
   {
    "duration": 24,
    "start_time": "2021-12-24T14:57:22.139Z"
   },
   {
    "duration": 14,
    "start_time": "2021-12-24T14:57:22.166Z"
   },
   {
    "duration": 12,
    "start_time": "2021-12-24T14:57:22.183Z"
   },
   {
    "duration": 8,
    "start_time": "2021-12-24T14:57:22.218Z"
   },
   {
    "duration": 14,
    "start_time": "2021-12-24T14:57:22.229Z"
   },
   {
    "duration": 23,
    "start_time": "2021-12-24T14:57:22.246Z"
   },
   {
    "duration": 13,
    "start_time": "2021-12-24T14:57:22.276Z"
   },
   {
    "duration": 30,
    "start_time": "2021-12-24T14:57:22.292Z"
   },
   {
    "duration": 80,
    "start_time": "2021-12-24T14:57:22.324Z"
   },
   {
    "duration": 21,
    "start_time": "2021-12-24T14:57:22.406Z"
   },
   {
    "duration": 24,
    "start_time": "2021-12-24T14:57:22.429Z"
   },
   {
    "duration": 16,
    "start_time": "2021-12-24T14:57:22.456Z"
   },
   {
    "duration": 59,
    "start_time": "2021-12-24T14:57:22.475Z"
   },
   {
    "duration": 16,
    "start_time": "2021-12-24T14:58:55.865Z"
   },
   {
    "duration": 18,
    "start_time": "2021-12-24T14:59:21.657Z"
   },
   {
    "duration": 346,
    "start_time": "2021-12-24T15:00:14.929Z"
   },
   {
    "duration": 19,
    "start_time": "2021-12-24T15:00:25.905Z"
   },
   {
    "duration": 25,
    "start_time": "2021-12-24T15:01:43.115Z"
   },
   {
    "duration": 20,
    "start_time": "2021-12-24T15:02:11.353Z"
   },
   {
    "duration": 19,
    "start_time": "2021-12-24T15:02:42.026Z"
   },
   {
    "duration": 23,
    "start_time": "2021-12-24T15:02:44.297Z"
   },
   {
    "duration": 111,
    "start_time": "2021-12-24T15:07:16.842Z"
   },
   {
    "duration": 320,
    "start_time": "2021-12-24T15:07:34.874Z"
   },
   {
    "duration": 4,
    "start_time": "2021-12-24T15:07:47.615Z"
   },
   {
    "duration": 524,
    "start_time": "2021-12-24T15:07:47.622Z"
   },
   {
    "duration": 15,
    "start_time": "2021-12-24T15:07:48.150Z"
   },
   {
    "duration": 9,
    "start_time": "2021-12-24T15:07:48.168Z"
   },
   {
    "duration": 11,
    "start_time": "2021-12-24T15:07:48.180Z"
   },
   {
    "duration": 33,
    "start_time": "2021-12-24T15:07:48.193Z"
   },
   {
    "duration": 28,
    "start_time": "2021-12-24T15:07:48.228Z"
   },
   {
    "duration": 19,
    "start_time": "2021-12-24T15:07:48.260Z"
   },
   {
    "duration": 37,
    "start_time": "2021-12-24T15:07:48.282Z"
   },
   {
    "duration": 20,
    "start_time": "2021-12-24T15:07:48.321Z"
   },
   {
    "duration": 12,
    "start_time": "2021-12-24T15:07:48.344Z"
   },
   {
    "duration": 29,
    "start_time": "2021-12-24T15:07:48.359Z"
   },
   {
    "duration": 17,
    "start_time": "2021-12-24T15:07:48.418Z"
   },
   {
    "duration": 11,
    "start_time": "2021-12-24T15:07:48.437Z"
   },
   {
    "duration": 9,
    "start_time": "2021-12-24T15:07:48.451Z"
   },
   {
    "duration": 127,
    "start_time": "2021-12-24T15:07:48.462Z"
   },
   {
    "duration": 10,
    "start_time": "2021-12-24T15:07:48.591Z"
   },
   {
    "duration": 20,
    "start_time": "2021-12-24T15:07:48.618Z"
   },
   {
    "duration": 15,
    "start_time": "2021-12-24T15:07:48.640Z"
   },
   {
    "duration": 18,
    "start_time": "2021-12-24T15:07:48.658Z"
   },
   {
    "duration": 41,
    "start_time": "2021-12-24T15:07:48.679Z"
   },
   {
    "duration": 13,
    "start_time": "2021-12-24T15:07:48.722Z"
   },
   {
    "duration": 12,
    "start_time": "2021-12-24T15:07:48.739Z"
   },
   {
    "duration": 9,
    "start_time": "2021-12-24T15:07:48.754Z"
   },
   {
    "duration": 8,
    "start_time": "2021-12-24T15:07:48.765Z"
   },
   {
    "duration": 46,
    "start_time": "2021-12-24T15:07:48.775Z"
   },
   {
    "duration": 10,
    "start_time": "2021-12-24T15:07:48.824Z"
   },
   {
    "duration": 16,
    "start_time": "2021-12-24T15:07:48.837Z"
   },
   {
    "duration": 94,
    "start_time": "2021-12-24T15:07:48.856Z"
   },
   {
    "duration": 13,
    "start_time": "2021-12-24T15:07:48.952Z"
   },
   {
    "duration": 13,
    "start_time": "2021-12-24T15:07:48.967Z"
   },
   {
    "duration": 42,
    "start_time": "2021-12-24T15:07:48.983Z"
   },
   {
    "duration": 311,
    "start_time": "2021-12-24T15:07:49.027Z"
   },
   {
    "duration": 3031,
    "start_time": "2021-12-24T15:07:46.309Z"
   },
   {
    "duration": 3023,
    "start_time": "2021-12-24T15:07:46.319Z"
   },
   {
    "duration": 37,
    "start_time": "2021-12-24T15:08:03.570Z"
   },
   {
    "duration": 19,
    "start_time": "2021-12-24T15:08:17.531Z"
   },
   {
    "duration": 24,
    "start_time": "2021-12-24T15:08:23.204Z"
   },
   {
    "duration": 97,
    "start_time": "2021-12-24T15:08:38.787Z"
   },
   {
    "duration": 101,
    "start_time": "2021-12-24T15:08:45.844Z"
   },
   {
    "duration": 40,
    "start_time": "2021-12-24T15:08:57.241Z"
   },
   {
    "duration": 43,
    "start_time": "2021-12-24T15:11:44.508Z"
   },
   {
    "duration": 40,
    "start_time": "2021-12-24T15:11:58.675Z"
   },
   {
    "duration": 43,
    "start_time": "2021-12-24T15:12:03.892Z"
   },
   {
    "duration": 3,
    "start_time": "2021-12-24T15:12:21.276Z"
   },
   {
    "duration": 518,
    "start_time": "2021-12-24T15:12:21.281Z"
   },
   {
    "duration": 17,
    "start_time": "2021-12-24T15:12:21.802Z"
   },
   {
    "duration": 14,
    "start_time": "2021-12-24T15:12:21.821Z"
   },
   {
    "duration": 22,
    "start_time": "2021-12-24T15:12:21.838Z"
   },
   {
    "duration": 14,
    "start_time": "2021-12-24T15:12:21.862Z"
   },
   {
    "duration": 46,
    "start_time": "2021-12-24T15:12:21.879Z"
   },
   {
    "duration": 19,
    "start_time": "2021-12-24T15:12:21.929Z"
   },
   {
    "duration": 10,
    "start_time": "2021-12-24T15:12:21.951Z"
   },
   {
    "duration": 29,
    "start_time": "2021-12-24T15:12:21.963Z"
   },
   {
    "duration": 33,
    "start_time": "2021-12-24T15:12:21.994Z"
   },
   {
    "duration": 25,
    "start_time": "2021-12-24T15:12:22.030Z"
   },
   {
    "duration": 26,
    "start_time": "2021-12-24T15:12:22.057Z"
   },
   {
    "duration": 36,
    "start_time": "2021-12-24T15:12:22.086Z"
   },
   {
    "duration": 19,
    "start_time": "2021-12-24T15:12:22.125Z"
   },
   {
    "duration": 100,
    "start_time": "2021-12-24T15:12:22.147Z"
   },
   {
    "duration": 9,
    "start_time": "2021-12-24T15:12:22.250Z"
   },
   {
    "duration": 23,
    "start_time": "2021-12-24T15:12:22.261Z"
   },
   {
    "duration": 38,
    "start_time": "2021-12-24T15:12:22.287Z"
   },
   {
    "duration": 21,
    "start_time": "2021-12-24T15:12:22.327Z"
   },
   {
    "duration": 6,
    "start_time": "2021-12-24T15:12:22.351Z"
   },
   {
    "duration": 23,
    "start_time": "2021-12-24T15:12:22.359Z"
   },
   {
    "duration": 29,
    "start_time": "2021-12-24T15:12:22.387Z"
   },
   {
    "duration": 5,
    "start_time": "2021-12-24T15:12:22.419Z"
   },
   {
    "duration": 12,
    "start_time": "2021-12-24T15:12:22.426Z"
   },
   {
    "duration": 18,
    "start_time": "2021-12-24T15:12:22.440Z"
   },
   {
    "duration": 5,
    "start_time": "2021-12-24T15:12:22.460Z"
   },
   {
    "duration": 14,
    "start_time": "2021-12-24T15:12:22.467Z"
   },
   {
    "duration": 104,
    "start_time": "2021-12-24T15:12:22.483Z"
   },
   {
    "duration": 28,
    "start_time": "2021-12-24T15:12:22.589Z"
   },
   {
    "duration": 12,
    "start_time": "2021-12-24T15:12:22.619Z"
   },
   {
    "duration": 15,
    "start_time": "2021-12-24T15:12:22.633Z"
   },
   {
    "duration": 87,
    "start_time": "2021-12-24T15:12:22.651Z"
   },
   {
    "duration": 21,
    "start_time": "2021-12-24T15:12:22.741Z"
   },
   {
    "duration": 22,
    "start_time": "2021-12-24T15:12:22.765Z"
   },
   {
    "duration": 41,
    "start_time": "2021-12-24T15:12:47.014Z"
   },
   {
    "duration": 42,
    "start_time": "2021-12-24T15:14:43.596Z"
   },
   {
    "duration": 31,
    "start_time": "2021-12-24T15:14:56.295Z"
   },
   {
    "duration": 39,
    "start_time": "2021-12-24T15:15:11.667Z"
   },
   {
    "duration": 40,
    "start_time": "2021-12-24T15:17:32.615Z"
   },
   {
    "duration": 4,
    "start_time": "2021-12-24T15:17:46.320Z"
   },
   {
    "duration": 524,
    "start_time": "2021-12-24T15:17:46.327Z"
   },
   {
    "duration": 16,
    "start_time": "2021-12-24T15:17:46.854Z"
   },
   {
    "duration": 9,
    "start_time": "2021-12-24T15:17:46.873Z"
   },
   {
    "duration": 9,
    "start_time": "2021-12-24T15:17:46.884Z"
   },
   {
    "duration": 12,
    "start_time": "2021-12-24T15:17:46.918Z"
   },
   {
    "duration": 28,
    "start_time": "2021-12-24T15:17:46.932Z"
   },
   {
    "duration": 19,
    "start_time": "2021-12-24T15:17:46.963Z"
   },
   {
    "duration": 40,
    "start_time": "2021-12-24T15:17:46.985Z"
   },
   {
    "duration": 18,
    "start_time": "2021-12-24T15:17:47.028Z"
   },
   {
    "duration": 12,
    "start_time": "2021-12-24T15:17:47.049Z"
   },
   {
    "duration": 60,
    "start_time": "2021-12-24T15:17:47.063Z"
   },
   {
    "duration": 17,
    "start_time": "2021-12-24T15:17:47.125Z"
   },
   {
    "duration": 12,
    "start_time": "2021-12-24T15:17:47.144Z"
   },
   {
    "duration": 11,
    "start_time": "2021-12-24T15:17:47.158Z"
   },
   {
    "duration": 122,
    "start_time": "2021-12-24T15:17:47.171Z"
   },
   {
    "duration": 10,
    "start_time": "2021-12-24T15:17:47.295Z"
   },
   {
    "duration": 19,
    "start_time": "2021-12-24T15:17:47.318Z"
   },
   {
    "duration": 15,
    "start_time": "2021-12-24T15:17:47.339Z"
   },
   {
    "duration": 17,
    "start_time": "2021-12-24T15:17:47.356Z"
   },
   {
    "duration": 44,
    "start_time": "2021-12-24T15:17:47.376Z"
   },
   {
    "duration": 12,
    "start_time": "2021-12-24T15:17:47.422Z"
   },
   {
    "duration": 6,
    "start_time": "2021-12-24T15:17:47.438Z"
   },
   {
    "duration": 11,
    "start_time": "2021-12-24T15:17:47.446Z"
   },
   {
    "duration": 8,
    "start_time": "2021-12-24T15:17:47.459Z"
   },
   {
    "duration": 55,
    "start_time": "2021-12-24T15:17:47.469Z"
   },
   {
    "duration": 6,
    "start_time": "2021-12-24T15:17:47.526Z"
   },
   {
    "duration": 15,
    "start_time": "2021-12-24T15:17:47.534Z"
   },
   {
    "duration": 102,
    "start_time": "2021-12-24T15:17:47.551Z"
   },
   {
    "duration": 13,
    "start_time": "2021-12-24T15:17:47.655Z"
   },
   {
    "duration": 13,
    "start_time": "2021-12-24T15:17:47.670Z"
   },
   {
    "duration": 40,
    "start_time": "2021-12-24T15:17:47.686Z"
   },
   {
    "duration": 50,
    "start_time": "2021-12-24T15:17:47.730Z"
   },
   {
    "duration": 3,
    "start_time": "2021-12-24T15:18:15.392Z"
   },
   {
    "duration": 523,
    "start_time": "2021-12-24T15:18:15.398Z"
   },
   {
    "duration": 16,
    "start_time": "2021-12-24T15:18:15.924Z"
   },
   {
    "duration": 14,
    "start_time": "2021-12-24T15:18:15.943Z"
   },
   {
    "duration": 13,
    "start_time": "2021-12-24T15:18:15.959Z"
   },
   {
    "duration": 12,
    "start_time": "2021-12-24T15:18:15.974Z"
   },
   {
    "duration": 27,
    "start_time": "2021-12-24T15:18:16.019Z"
   },
   {
    "duration": 20,
    "start_time": "2021-12-24T15:18:16.049Z"
   },
   {
    "duration": 46,
    "start_time": "2021-12-24T15:18:16.071Z"
   },
   {
    "duration": 20,
    "start_time": "2021-12-24T15:18:16.119Z"
   },
   {
    "duration": 12,
    "start_time": "2021-12-24T15:18:16.142Z"
   },
   {
    "duration": 23,
    "start_time": "2021-12-24T15:18:16.157Z"
   },
   {
    "duration": 18,
    "start_time": "2021-12-24T15:18:16.217Z"
   },
   {
    "duration": 11,
    "start_time": "2021-12-24T15:18:16.237Z"
   },
   {
    "duration": 18,
    "start_time": "2021-12-24T15:18:16.251Z"
   },
   {
    "duration": 121,
    "start_time": "2021-12-24T15:18:16.273Z"
   },
   {
    "duration": 22,
    "start_time": "2021-12-24T15:18:16.396Z"
   },
   {
    "duration": 34,
    "start_time": "2021-12-24T15:18:16.421Z"
   },
   {
    "duration": 15,
    "start_time": "2021-12-24T15:18:16.459Z"
   },
   {
    "duration": 32,
    "start_time": "2021-12-24T15:18:16.477Z"
   },
   {
    "duration": 11,
    "start_time": "2021-12-24T15:18:16.511Z"
   },
   {
    "duration": 12,
    "start_time": "2021-12-24T15:18:16.524Z"
   },
   {
    "duration": 5,
    "start_time": "2021-12-24T15:18:16.539Z"
   },
   {
    "duration": 7,
    "start_time": "2021-12-24T15:18:16.546Z"
   },
   {
    "duration": 7,
    "start_time": "2021-12-24T15:18:16.555Z"
   },
   {
    "duration": 55,
    "start_time": "2021-12-24T15:18:16.565Z"
   },
   {
    "duration": 11,
    "start_time": "2021-12-24T15:18:16.623Z"
   },
   {
    "duration": 13,
    "start_time": "2021-12-24T15:18:16.637Z"
   },
   {
    "duration": 94,
    "start_time": "2021-12-24T15:18:16.653Z"
   },
   {
    "duration": 11,
    "start_time": "2021-12-24T15:18:16.750Z"
   },
   {
    "duration": 16,
    "start_time": "2021-12-24T15:18:16.763Z"
   },
   {
    "duration": 36,
    "start_time": "2021-12-24T15:18:16.781Z"
   },
   {
    "duration": 51,
    "start_time": "2021-12-24T15:18:16.819Z"
   },
   {
    "duration": 29,
    "start_time": "2021-12-24T15:20:15.798Z"
   },
   {
    "duration": 30,
    "start_time": "2021-12-24T15:23:34.501Z"
   },
   {
    "duration": 7,
    "start_time": "2021-12-24T15:32:57.848Z"
   },
   {
    "duration": 12,
    "start_time": "2021-12-24T15:33:12.111Z"
   },
   {
    "duration": 7623,
    "start_time": "2021-12-24T15:34:20.496Z"
   },
   {
    "duration": 4,
    "start_time": "2021-12-24T15:34:41.073Z"
   },
   {
    "duration": 516,
    "start_time": "2021-12-24T15:34:41.080Z"
   },
   {
    "duration": 16,
    "start_time": "2021-12-24T15:34:41.598Z"
   },
   {
    "duration": 11,
    "start_time": "2021-12-24T15:34:41.617Z"
   },
   {
    "duration": 15,
    "start_time": "2021-12-24T15:34:41.630Z"
   },
   {
    "duration": 16,
    "start_time": "2021-12-24T15:34:41.647Z"
   },
   {
    "duration": 58,
    "start_time": "2021-12-24T15:34:41.666Z"
   },
   {
    "duration": 20,
    "start_time": "2021-12-24T15:34:41.727Z"
   },
   {
    "duration": 11,
    "start_time": "2021-12-24T15:34:41.750Z"
   },
   {
    "duration": 56,
    "start_time": "2021-12-24T15:34:41.764Z"
   },
   {
    "duration": 14,
    "start_time": "2021-12-24T15:34:41.823Z"
   },
   {
    "duration": 23,
    "start_time": "2021-12-24T15:34:41.841Z"
   },
   {
    "duration": 64,
    "start_time": "2021-12-24T15:34:41.866Z"
   },
   {
    "duration": 14,
    "start_time": "2021-12-24T15:34:41.932Z"
   },
   {
    "duration": 11,
    "start_time": "2021-12-24T15:34:41.950Z"
   },
   {
    "duration": 129,
    "start_time": "2021-12-24T15:34:41.964Z"
   },
   {
    "duration": 10,
    "start_time": "2021-12-24T15:34:42.096Z"
   },
   {
    "duration": 35,
    "start_time": "2021-12-24T15:34:42.108Z"
   },
   {
    "duration": 15,
    "start_time": "2021-12-24T15:34:42.146Z"
   },
   {
    "duration": 19,
    "start_time": "2021-12-24T15:34:42.163Z"
   },
   {
    "duration": 40,
    "start_time": "2021-12-24T15:34:42.184Z"
   },
   {
    "duration": 23,
    "start_time": "2021-12-24T15:34:42.226Z"
   },
   {
    "duration": 5,
    "start_time": "2021-12-24T15:34:42.256Z"
   },
   {
    "duration": 9,
    "start_time": "2021-12-24T15:34:42.264Z"
   },
   {
    "duration": 41,
    "start_time": "2021-12-24T15:34:42.276Z"
   },
   {
    "duration": 13,
    "start_time": "2021-12-24T15:34:42.319Z"
   },
   {
    "duration": 7,
    "start_time": "2021-12-24T15:34:42.334Z"
   },
   {
    "duration": 15,
    "start_time": "2021-12-24T15:34:42.343Z"
   },
   {
    "duration": 98,
    "start_time": "2021-12-24T15:34:42.360Z"
   },
   {
    "duration": 12,
    "start_time": "2021-12-24T15:34:42.460Z"
   },
   {
    "duration": 16,
    "start_time": "2021-12-24T15:34:42.474Z"
   },
   {
    "duration": 31,
    "start_time": "2021-12-24T15:34:42.493Z"
   },
   {
    "duration": 47,
    "start_time": "2021-12-24T15:34:42.527Z"
   },
   {
    "duration": 62,
    "start_time": "2021-12-24T15:34:42.577Z"
   },
   {
    "duration": 37,
    "start_time": "2021-12-24T15:34:42.642Z"
   },
   {
    "duration": 37,
    "start_time": "2021-12-24T15:34:42.682Z"
   },
   {
    "duration": 3,
    "start_time": "2021-12-24T15:53:04.231Z"
   },
   {
    "duration": 514,
    "start_time": "2021-12-24T15:53:04.237Z"
   },
   {
    "duration": 15,
    "start_time": "2021-12-24T15:53:04.754Z"
   },
   {
    "duration": 13,
    "start_time": "2021-12-24T15:53:04.772Z"
   },
   {
    "duration": 28,
    "start_time": "2021-12-24T15:53:04.788Z"
   },
   {
    "duration": 12,
    "start_time": "2021-12-24T15:53:04.819Z"
   },
   {
    "duration": 27,
    "start_time": "2021-12-24T15:53:04.833Z"
   },
   {
    "duration": 19,
    "start_time": "2021-12-24T15:53:04.862Z"
   },
   {
    "duration": 40,
    "start_time": "2021-12-24T15:53:04.885Z"
   },
   {
    "duration": 20,
    "start_time": "2021-12-24T15:53:04.929Z"
   },
   {
    "duration": 13,
    "start_time": "2021-12-24T15:53:04.952Z"
   },
   {
    "duration": 58,
    "start_time": "2021-12-24T15:53:04.967Z"
   },
   {
    "duration": 19,
    "start_time": "2021-12-24T15:53:05.028Z"
   },
   {
    "duration": 13,
    "start_time": "2021-12-24T15:53:05.050Z"
   },
   {
    "duration": 12,
    "start_time": "2021-12-24T15:53:05.066Z"
   },
   {
    "duration": 139,
    "start_time": "2021-12-24T15:53:05.080Z"
   },
   {
    "duration": 11,
    "start_time": "2021-12-24T15:53:05.222Z"
   },
   {
    "duration": 22,
    "start_time": "2021-12-24T15:53:05.236Z"
   },
   {
    "duration": 17,
    "start_time": "2021-12-24T15:53:05.261Z"
   },
   {
    "duration": 49,
    "start_time": "2021-12-24T15:53:05.280Z"
   },
   {
    "duration": 8,
    "start_time": "2021-12-24T15:53:05.332Z"
   },
   {
    "duration": 11,
    "start_time": "2021-12-24T15:53:05.342Z"
   },
   {
    "duration": 6,
    "start_time": "2021-12-24T15:53:05.355Z"
   },
   {
    "duration": 14,
    "start_time": "2021-12-24T15:53:05.363Z"
   },
   {
    "duration": 44,
    "start_time": "2021-12-24T15:53:05.379Z"
   },
   {
    "duration": 14,
    "start_time": "2021-12-24T15:53:05.425Z"
   },
   {
    "duration": 5,
    "start_time": "2021-12-24T15:53:05.444Z"
   },
   {
    "duration": 14,
    "start_time": "2021-12-24T15:53:05.452Z"
   },
   {
    "duration": 102,
    "start_time": "2021-12-24T15:53:05.469Z"
   },
   {
    "duration": 12,
    "start_time": "2021-12-24T15:53:05.574Z"
   },
   {
    "duration": 34,
    "start_time": "2021-12-24T15:53:05.588Z"
   },
   {
    "duration": 14,
    "start_time": "2021-12-24T15:53:05.624Z"
   },
   {
    "duration": 50,
    "start_time": "2021-12-24T15:53:05.640Z"
   },
   {
    "duration": 53,
    "start_time": "2021-12-24T15:53:05.692Z"
   },
   {
    "duration": 27,
    "start_time": "2021-12-24T15:53:05.748Z"
   },
   {
    "duration": 44,
    "start_time": "2021-12-24T15:53:05.777Z"
   },
   {
    "duration": 104,
    "start_time": "2021-12-24T15:53:05.824Z"
   },
   {
    "duration": 11,
    "start_time": "2021-12-24T15:53:23.673Z"
   },
   {
    "duration": 14,
    "start_time": "2021-12-24T15:55:02.997Z"
   },
   {
    "duration": 19,
    "start_time": "2021-12-24T15:55:55.131Z"
   },
   {
    "duration": 15,
    "start_time": "2021-12-24T15:55:56.492Z"
   },
   {
    "duration": 310,
    "start_time": "2021-12-24T15:59:12.955Z"
   },
   {
    "duration": 7701,
    "start_time": "2021-12-24T15:59:45.219Z"
   },
   {
    "duration": 7887,
    "start_time": "2021-12-24T16:07:08.084Z"
   },
   {
    "duration": 19,
    "start_time": "2021-12-24T16:07:42.211Z"
   },
   {
    "duration": 15,
    "start_time": "2021-12-24T16:07:44.164Z"
   },
   {
    "duration": 19,
    "start_time": "2021-12-24T16:23:28.296Z"
   },
   {
    "duration": 16,
    "start_time": "2021-12-24T16:23:29.686Z"
   },
   {
    "duration": 972,
    "start_time": "2021-12-24T16:35:06.145Z"
   },
   {
    "duration": 12,
    "start_time": "2021-12-24T16:35:19.760Z"
   },
   {
    "duration": 13,
    "start_time": "2021-12-24T16:35:43.169Z"
   },
   {
    "duration": 17,
    "start_time": "2021-12-24T16:39:03.552Z"
   },
   {
    "duration": 23,
    "start_time": "2021-12-24T16:39:21.585Z"
   },
   {
    "duration": 11,
    "start_time": "2021-12-24T16:40:56.714Z"
   },
   {
    "duration": 8,
    "start_time": "2021-12-24T16:41:41.681Z"
   },
   {
    "duration": 8,
    "start_time": "2021-12-24T16:42:23.797Z"
   },
   {
    "duration": 7,
    "start_time": "2021-12-24T16:42:38.690Z"
   },
   {
    "duration": 9,
    "start_time": "2021-12-24T16:43:09.185Z"
   },
   {
    "duration": 307,
    "start_time": "2021-12-24T16:46:43.933Z"
   },
   {
    "duration": 10,
    "start_time": "2021-12-24T16:48:45.955Z"
   },
   {
    "duration": 4,
    "start_time": "2021-12-24T16:50:06.551Z"
   },
   {
    "duration": 571,
    "start_time": "2021-12-24T16:50:06.558Z"
   },
   {
    "duration": 16,
    "start_time": "2021-12-24T16:50:07.133Z"
   },
   {
    "duration": 9,
    "start_time": "2021-12-24T16:50:07.152Z"
   },
   {
    "duration": 23,
    "start_time": "2021-12-24T16:50:07.164Z"
   },
   {
    "duration": 28,
    "start_time": "2021-12-24T16:50:07.190Z"
   },
   {
    "duration": 31,
    "start_time": "2021-12-24T16:50:07.221Z"
   },
   {
    "duration": 21,
    "start_time": "2021-12-24T16:50:07.257Z"
   },
   {
    "duration": 40,
    "start_time": "2021-12-24T16:50:07.282Z"
   },
   {
    "duration": 31,
    "start_time": "2021-12-24T16:50:07.325Z"
   },
   {
    "duration": 13,
    "start_time": "2021-12-24T16:50:07.358Z"
   },
   {
    "duration": 57,
    "start_time": "2021-12-24T16:50:07.374Z"
   },
   {
    "duration": 19,
    "start_time": "2021-12-24T16:50:07.433Z"
   },
   {
    "duration": 11,
    "start_time": "2021-12-24T16:50:07.455Z"
   },
   {
    "duration": 9,
    "start_time": "2021-12-24T16:50:07.469Z"
   },
   {
    "duration": 136,
    "start_time": "2021-12-24T16:50:07.481Z"
   },
   {
    "duration": 10,
    "start_time": "2021-12-24T16:50:07.620Z"
   },
   {
    "duration": 23,
    "start_time": "2021-12-24T16:50:07.634Z"
   },
   {
    "duration": 18,
    "start_time": "2021-12-24T16:50:07.660Z"
   },
   {
    "duration": 19,
    "start_time": "2021-12-24T16:50:07.716Z"
   },
   {
    "duration": 6,
    "start_time": "2021-12-24T16:50:07.738Z"
   },
   {
    "duration": 26,
    "start_time": "2021-12-24T16:50:07.747Z"
   },
   {
    "duration": 39,
    "start_time": "2021-12-24T16:50:07.780Z"
   },
   {
    "duration": 6,
    "start_time": "2021-12-24T16:50:07.822Z"
   },
   {
    "duration": 8,
    "start_time": "2021-12-24T16:50:07.831Z"
   },
   {
    "duration": 16,
    "start_time": "2021-12-24T16:50:07.842Z"
   },
   {
    "duration": 8,
    "start_time": "2021-12-24T16:50:07.861Z"
   },
   {
    "duration": 54,
    "start_time": "2021-12-24T16:50:07.873Z"
   },
   {
    "duration": 87,
    "start_time": "2021-12-24T16:50:07.930Z"
   },
   {
    "duration": 13,
    "start_time": "2021-12-24T16:50:08.019Z"
   },
   {
    "duration": 15,
    "start_time": "2021-12-24T16:50:08.035Z"
   },
   {
    "duration": 18,
    "start_time": "2021-12-24T16:50:08.053Z"
   },
   {
    "duration": 107,
    "start_time": "2021-12-24T16:50:08.074Z"
   },
   {
    "duration": 50,
    "start_time": "2021-12-24T16:50:08.183Z"
   },
   {
    "duration": 27,
    "start_time": "2021-12-24T16:50:08.236Z"
   },
   {
    "duration": 14,
    "start_time": "2021-12-24T16:50:08.266Z"
   },
   {
    "duration": 49,
    "start_time": "2021-12-24T16:50:08.282Z"
   },
   {
    "duration": 16,
    "start_time": "2021-12-24T16:50:08.333Z"
   },
   {
    "duration": 33,
    "start_time": "2021-12-24T16:50:08.352Z"
   },
   {
    "duration": 40,
    "start_time": "2021-12-24T16:50:08.387Z"
   },
   {
    "duration": 28,
    "start_time": "2021-12-24T16:50:08.430Z"
   },
   {
    "duration": 29,
    "start_time": "2021-12-24T16:50:08.461Z"
   },
   {
    "duration": 26,
    "start_time": "2021-12-24T16:50:08.492Z"
   },
   {
    "duration": 334,
    "start_time": "2021-12-24T16:50:08.521Z"
   },
   {
    "duration": 28,
    "start_time": "2021-12-24T16:53:16.348Z"
   },
   {
    "duration": 15,
    "start_time": "2021-12-24T16:53:47.172Z"
   },
   {
    "duration": 352,
    "start_time": "2021-12-24T16:56:15.187Z"
   },
   {
    "duration": 398,
    "start_time": "2021-12-24T16:56:29.797Z"
   },
   {
    "duration": 327,
    "start_time": "2021-12-24T16:56:33.131Z"
   },
   {
    "duration": 18,
    "start_time": "2021-12-24T16:56:38.614Z"
   },
   {
    "duration": 12,
    "start_time": "2021-12-24T16:58:06.815Z"
   },
   {
    "duration": 12,
    "start_time": "2021-12-24T16:58:23.532Z"
   },
   {
    "duration": 11,
    "start_time": "2021-12-24T16:58:32.491Z"
   },
   {
    "duration": 11,
    "start_time": "2021-12-24T16:58:40.612Z"
   },
   {
    "duration": 9,
    "start_time": "2021-12-24T17:03:14.245Z"
   },
   {
    "duration": 8,
    "start_time": "2021-12-24T17:03:44.181Z"
   },
   {
    "duration": 8,
    "start_time": "2021-12-24T17:04:09.416Z"
   },
   {
    "duration": 7,
    "start_time": "2021-12-24T17:04:32.629Z"
   },
   {
    "duration": 311,
    "start_time": "2021-12-24T17:07:38.218Z"
   },
   {
    "duration": 7,
    "start_time": "2021-12-24T17:07:59.410Z"
   },
   {
    "duration": 15,
    "start_time": "2021-12-24T17:10:48.351Z"
   },
   {
    "duration": 19,
    "start_time": "2021-12-24T17:11:02.150Z"
   },
   {
    "duration": 16,
    "start_time": "2021-12-24T17:11:48.602Z"
   },
   {
    "duration": 107,
    "start_time": "2021-12-24T17:12:55.113Z"
   },
   {
    "duration": 309,
    "start_time": "2021-12-24T17:13:35.110Z"
   },
   {
    "duration": 325,
    "start_time": "2021-12-24T17:13:43.590Z"
   },
   {
    "duration": 268,
    "start_time": "2021-12-24T17:14:04.265Z"
   },
   {
    "duration": 308,
    "start_time": "2021-12-24T17:14:30.847Z"
   },
   {
    "duration": 15,
    "start_time": "2021-12-24T17:15:23.718Z"
   },
   {
    "duration": 15,
    "start_time": "2021-12-24T17:15:36.194Z"
   },
   {
    "duration": 15,
    "start_time": "2021-12-24T17:15:47.800Z"
   },
   {
    "duration": 119,
    "start_time": "2021-12-24T17:15:59.206Z"
   },
   {
    "duration": 15,
    "start_time": "2021-12-24T17:16:11.102Z"
   },
   {
    "duration": 9,
    "start_time": "2021-12-24T17:16:44.783Z"
   },
   {
    "duration": 11,
    "start_time": "2021-12-24T17:17:12.166Z"
   },
   {
    "duration": 8,
    "start_time": "2021-12-24T17:17:23.839Z"
   },
   {
    "duration": 8,
    "start_time": "2021-12-24T17:18:16.313Z"
   },
   {
    "duration": 10,
    "start_time": "2021-12-24T17:18:40.480Z"
   },
   {
    "duration": 10,
    "start_time": "2021-12-24T17:18:58.087Z"
   },
   {
    "duration": 10,
    "start_time": "2021-12-24T17:20:09.672Z"
   },
   {
    "duration": 8,
    "start_time": "2021-12-24T17:22:27.967Z"
   },
   {
    "duration": 8,
    "start_time": "2021-12-24T17:23:05.584Z"
   },
   {
    "duration": 7,
    "start_time": "2021-12-24T17:30:56.833Z"
   },
   {
    "duration": 8,
    "start_time": "2021-12-24T17:31:15.697Z"
   },
   {
    "duration": 10,
    "start_time": "2021-12-24T17:31:24.043Z"
   },
   {
    "duration": 13,
    "start_time": "2021-12-24T17:31:37.609Z"
   },
   {
    "duration": 11,
    "start_time": "2021-12-24T17:32:16.841Z"
   },
   {
    "duration": 20,
    "start_time": "2021-12-24T17:35:56.338Z"
   },
   {
    "duration": 4,
    "start_time": "2021-12-24T17:44:27.683Z"
   },
   {
    "duration": 7,
    "start_time": "2021-12-24T17:44:34.451Z"
   },
   {
    "duration": 8,
    "start_time": "2021-12-24T17:48:37.738Z"
   },
   {
    "duration": 10,
    "start_time": "2021-12-24T17:56:51.060Z"
   },
   {
    "duration": 6,
    "start_time": "2021-12-24T17:59:42.422Z"
   },
   {
    "duration": 10,
    "start_time": "2021-12-24T17:59:48.415Z"
   },
   {
    "duration": 19,
    "start_time": "2021-12-24T18:00:02.806Z"
   },
   {
    "duration": 12,
    "start_time": "2021-12-24T18:03:33.185Z"
   },
   {
    "duration": 8,
    "start_time": "2021-12-24T18:09:16.983Z"
   },
   {
    "duration": 11,
    "start_time": "2021-12-24T18:09:35.278Z"
   },
   {
    "duration": 299,
    "start_time": "2021-12-24T18:10:07.982Z"
   },
   {
    "duration": 14,
    "start_time": "2021-12-24T18:10:42.071Z"
   },
   {
    "duration": 296,
    "start_time": "2021-12-24T18:12:35.176Z"
   },
   {
    "duration": 321,
    "start_time": "2021-12-24T18:13:50.479Z"
   },
   {
    "duration": 8,
    "start_time": "2021-12-24T18:14:24.735Z"
   },
   {
    "duration": 10,
    "start_time": "2021-12-24T18:17:07.095Z"
   },
   {
    "duration": 5,
    "start_time": "2021-12-24T18:23:26.044Z"
   },
   {
    "duration": 7768,
    "start_time": "2021-12-24T18:24:37.425Z"
   },
   {
    "duration": 7885,
    "start_time": "2021-12-24T18:25:10.201Z"
   },
   {
    "duration": 858,
    "start_time": "2021-12-24T18:26:01.153Z"
   },
   {
    "duration": 3,
    "start_time": "2021-12-24T18:26:42.654Z"
   },
   {
    "duration": 508,
    "start_time": "2021-12-24T18:26:42.660Z"
   },
   {
    "duration": 16,
    "start_time": "2021-12-24T18:26:43.171Z"
   },
   {
    "duration": 10,
    "start_time": "2021-12-24T18:26:43.189Z"
   },
   {
    "duration": 19,
    "start_time": "2021-12-24T18:26:43.201Z"
   },
   {
    "duration": 15,
    "start_time": "2021-12-24T18:26:43.223Z"
   },
   {
    "duration": 29,
    "start_time": "2021-12-24T18:26:43.242Z"
   },
   {
    "duration": 47,
    "start_time": "2021-12-24T18:26:43.275Z"
   },
   {
    "duration": 9,
    "start_time": "2021-12-24T18:26:43.325Z"
   },
   {
    "duration": 21,
    "start_time": "2021-12-24T18:26:43.337Z"
   },
   {
    "duration": 12,
    "start_time": "2021-12-24T18:26:43.360Z"
   },
   {
    "duration": 53,
    "start_time": "2021-12-24T18:26:43.374Z"
   },
   {
    "duration": 15,
    "start_time": "2021-12-24T18:26:43.430Z"
   },
   {
    "duration": 11,
    "start_time": "2021-12-24T18:26:43.447Z"
   },
   {
    "duration": 13,
    "start_time": "2021-12-24T18:26:43.460Z"
   },
   {
    "duration": 121,
    "start_time": "2021-12-24T18:26:43.475Z"
   },
   {
    "duration": 22,
    "start_time": "2021-12-24T18:26:43.598Z"
   },
   {
    "duration": 21,
    "start_time": "2021-12-24T18:26:43.622Z"
   },
   {
    "duration": 14,
    "start_time": "2021-12-24T18:26:43.648Z"
   },
   {
    "duration": 52,
    "start_time": "2021-12-24T18:26:43.665Z"
   },
   {
    "duration": 7,
    "start_time": "2021-12-24T18:26:43.720Z"
   },
   {
    "duration": 14,
    "start_time": "2021-12-24T18:26:43.730Z"
   },
   {
    "duration": 6,
    "start_time": "2021-12-24T18:26:43.747Z"
   },
   {
    "duration": 8,
    "start_time": "2021-12-24T18:26:43.755Z"
   },
   {
    "duration": 55,
    "start_time": "2021-12-24T18:26:43.766Z"
   },
   {
    "duration": 14,
    "start_time": "2021-12-24T18:26:43.824Z"
   },
   {
    "duration": 5,
    "start_time": "2021-12-24T18:26:43.840Z"
   },
   {
    "duration": 14,
    "start_time": "2021-12-24T18:26:43.847Z"
   },
   {
    "duration": 99,
    "start_time": "2021-12-24T18:26:43.864Z"
   },
   {
    "duration": 11,
    "start_time": "2021-12-24T18:26:43.965Z"
   },
   {
    "duration": 13,
    "start_time": "2021-12-24T18:26:43.979Z"
   },
   {
    "duration": 33,
    "start_time": "2021-12-24T18:26:43.994Z"
   },
   {
    "duration": 51,
    "start_time": "2021-12-24T18:26:44.029Z"
   },
   {
    "duration": 7,
    "start_time": "2021-12-24T18:26:44.082Z"
   },
   {
    "duration": 51,
    "start_time": "2021-12-24T18:26:44.092Z"
   },
   {
    "duration": 8,
    "start_time": "2021-12-24T18:26:44.145Z"
   },
   {
    "duration": 33,
    "start_time": "2021-12-24T18:26:44.155Z"
   },
   {
    "duration": 14,
    "start_time": "2021-12-24T18:26:44.218Z"
   },
   {
    "duration": 9,
    "start_time": "2021-12-24T18:26:44.235Z"
   },
   {
    "duration": 19,
    "start_time": "2021-12-24T18:26:44.247Z"
   },
   {
    "duration": 50,
    "start_time": "2021-12-24T18:26:44.268Z"
   },
   {
    "duration": 12,
    "start_time": "2021-12-24T18:26:44.321Z"
   },
   {
    "duration": 18,
    "start_time": "2021-12-24T18:26:44.336Z"
   },
   {
    "duration": 22,
    "start_time": "2021-12-24T18:26:44.357Z"
   },
   {
    "duration": 45,
    "start_time": "2021-12-24T18:26:44.381Z"
   },
   {
    "duration": 7,
    "start_time": "2021-12-24T18:26:44.429Z"
   },
   {
    "duration": 18,
    "start_time": "2021-12-24T18:26:44.438Z"
   },
   {
    "duration": 8,
    "start_time": "2021-12-24T18:26:44.458Z"
   },
   {
    "duration": 52,
    "start_time": "2021-12-24T18:26:44.468Z"
   },
   {
    "duration": 9,
    "start_time": "2021-12-24T18:26:44.523Z"
   },
   {
    "duration": 8,
    "start_time": "2021-12-24T18:26:44.535Z"
   },
   {
    "duration": 19,
    "start_time": "2021-12-24T18:26:44.545Z"
   },
   {
    "duration": 11,
    "start_time": "2021-12-24T18:26:44.567Z"
   },
   {
    "duration": 7,
    "start_time": "2021-12-24T18:26:44.617Z"
   },
   {
    "duration": 803,
    "start_time": "2021-12-24T18:26:44.630Z"
   },
   {
    "duration": 3070,
    "start_time": "2021-12-24T18:26:42.367Z"
   },
   {
    "duration": 5,
    "start_time": "2021-12-24T18:29:38.769Z"
   },
   {
    "duration": 316,
    "start_time": "2021-12-24T18:29:41.291Z"
   },
   {
    "duration": 9,
    "start_time": "2021-12-24T18:29:44.945Z"
   },
   {
    "duration": 6,
    "start_time": "2021-12-24T18:30:01.577Z"
   },
   {
    "duration": 9,
    "start_time": "2021-12-24T18:30:03.705Z"
   },
   {
    "duration": 22,
    "start_time": "2021-12-24T18:30:26.922Z"
   },
   {
    "duration": 22,
    "start_time": "2021-12-24T18:31:22.818Z"
   },
   {
    "duration": 21,
    "start_time": "2021-12-24T18:31:32.507Z"
   },
   {
    "duration": 4,
    "start_time": "2021-12-24T18:31:49.308Z"
   },
   {
    "duration": 531,
    "start_time": "2021-12-24T18:31:49.314Z"
   },
   {
    "duration": 14,
    "start_time": "2021-12-24T18:31:49.848Z"
   },
   {
    "duration": 9,
    "start_time": "2021-12-24T18:31:49.865Z"
   },
   {
    "duration": 28,
    "start_time": "2021-12-24T18:31:49.877Z"
   },
   {
    "duration": 12,
    "start_time": "2021-12-24T18:31:49.907Z"
   },
   {
    "duration": 28,
    "start_time": "2021-12-24T18:31:49.922Z"
   },
   {
    "duration": 19,
    "start_time": "2021-12-24T18:31:49.953Z"
   },
   {
    "duration": 44,
    "start_time": "2021-12-24T18:31:49.974Z"
   },
   {
    "duration": 23,
    "start_time": "2021-12-24T18:31:50.021Z"
   },
   {
    "duration": 14,
    "start_time": "2021-12-24T18:31:50.047Z"
   },
   {
    "duration": 53,
    "start_time": "2021-12-24T18:31:50.064Z"
   },
   {
    "duration": 16,
    "start_time": "2021-12-24T18:31:50.120Z"
   },
   {
    "duration": 11,
    "start_time": "2021-12-24T18:31:50.138Z"
   },
   {
    "duration": 10,
    "start_time": "2021-12-24T18:31:50.151Z"
   },
   {
    "duration": 120,
    "start_time": "2021-12-24T18:31:50.164Z"
   },
   {
    "duration": 10,
    "start_time": "2021-12-24T18:31:50.286Z"
   },
   {
    "duration": 34,
    "start_time": "2021-12-24T18:31:50.298Z"
   },
   {
    "duration": 64,
    "start_time": "2021-12-24T18:31:50.337Z"
   },
   {
    "duration": 16,
    "start_time": "2021-12-24T18:31:50.419Z"
   },
   {
    "duration": 6,
    "start_time": "2021-12-24T18:31:50.438Z"
   },
   {
    "duration": 15,
    "start_time": "2021-12-24T18:31:50.447Z"
   },
   {
    "duration": 5,
    "start_time": "2021-12-24T18:31:50.465Z"
   },
   {
    "duration": 49,
    "start_time": "2021-12-24T18:31:50.472Z"
   },
   {
    "duration": 6,
    "start_time": "2021-12-24T18:31:50.524Z"
   },
   {
    "duration": 14,
    "start_time": "2021-12-24T18:31:50.532Z"
   },
   {
    "duration": 5,
    "start_time": "2021-12-24T18:31:50.549Z"
   },
   {
    "duration": 28,
    "start_time": "2021-12-24T18:31:50.556Z"
   },
   {
    "duration": 95,
    "start_time": "2021-12-24T18:31:50.586Z"
   },
   {
    "duration": 11,
    "start_time": "2021-12-24T18:31:50.684Z"
   },
   {
    "duration": 29,
    "start_time": "2021-12-24T18:31:50.697Z"
   },
   {
    "duration": 14,
    "start_time": "2021-12-24T18:31:50.729Z"
   },
   {
    "duration": 72,
    "start_time": "2021-12-24T18:31:50.746Z"
   },
   {
    "duration": 8,
    "start_time": "2021-12-24T18:31:50.820Z"
   },
   {
    "duration": 30,
    "start_time": "2021-12-24T18:31:50.831Z"
   },
   {
    "duration": 8,
    "start_time": "2021-12-24T18:31:50.863Z"
   },
   {
    "duration": 64,
    "start_time": "2021-12-24T18:31:50.874Z"
   },
   {
    "duration": 14,
    "start_time": "2021-12-24T18:31:50.940Z"
   },
   {
    "duration": 9,
    "start_time": "2021-12-24T18:31:50.956Z"
   },
   {
    "duration": 52,
    "start_time": "2021-12-24T18:31:50.968Z"
   },
   {
    "duration": 16,
    "start_time": "2021-12-24T18:31:51.022Z"
   },
   {
    "duration": 23,
    "start_time": "2021-12-24T18:31:51.040Z"
   },
   {
    "duration": 19,
    "start_time": "2021-12-24T18:31:51.066Z"
   },
   {
    "duration": 44,
    "start_time": "2021-12-24T18:31:51.087Z"
   },
   {
    "duration": 13,
    "start_time": "2021-12-24T18:31:51.135Z"
   },
   {
    "duration": 7,
    "start_time": "2021-12-24T18:31:51.151Z"
   },
   {
    "duration": 20,
    "start_time": "2021-12-24T18:31:51.160Z"
   },
   {
    "duration": 7,
    "start_time": "2021-12-24T18:31:51.217Z"
   },
   {
    "duration": 12,
    "start_time": "2021-12-24T18:31:51.227Z"
   },
   {
    "duration": 8,
    "start_time": "2021-12-24T18:31:51.242Z"
   },
   {
    "duration": 10,
    "start_time": "2021-12-24T18:31:51.252Z"
   },
   {
    "duration": 18,
    "start_time": "2021-12-24T18:31:51.265Z"
   },
   {
    "duration": 12,
    "start_time": "2021-12-24T18:31:51.316Z"
   },
   {
    "duration": 5,
    "start_time": "2021-12-24T18:31:51.331Z"
   },
   {
    "duration": 2,
    "start_time": "2021-12-24T18:31:51.342Z"
   },
   {
    "duration": 7918,
    "start_time": "2021-12-24T18:31:51.347Z"
   },
   {
    "duration": 3014,
    "start_time": "2021-12-24T18:31:56.253Z"
   },
   {
    "duration": 3,
    "start_time": "2021-12-24T18:32:23.703Z"
   },
   {
    "duration": 499,
    "start_time": "2021-12-24T18:32:23.709Z"
   },
   {
    "duration": 15,
    "start_time": "2021-12-24T18:32:24.211Z"
   },
   {
    "duration": 10,
    "start_time": "2021-12-24T18:32:24.228Z"
   },
   {
    "duration": 12,
    "start_time": "2021-12-24T18:32:24.240Z"
   },
   {
    "duration": 11,
    "start_time": "2021-12-24T18:32:24.254Z"
   },
   {
    "duration": 57,
    "start_time": "2021-12-24T18:32:24.269Z"
   },
   {
    "duration": 21,
    "start_time": "2021-12-24T18:32:24.328Z"
   },
   {
    "duration": 11,
    "start_time": "2021-12-24T18:32:24.352Z"
   },
   {
    "duration": 51,
    "start_time": "2021-12-24T18:32:24.366Z"
   },
   {
    "duration": 13,
    "start_time": "2021-12-24T18:32:24.419Z"
   },
   {
    "duration": 29,
    "start_time": "2021-12-24T18:32:24.434Z"
   },
   {
    "duration": 15,
    "start_time": "2021-12-24T18:32:24.466Z"
   },
   {
    "duration": 35,
    "start_time": "2021-12-24T18:32:24.484Z"
   },
   {
    "duration": 11,
    "start_time": "2021-12-24T18:32:24.521Z"
   },
   {
    "duration": 112,
    "start_time": "2021-12-24T18:32:24.534Z"
   },
   {
    "duration": 10,
    "start_time": "2021-12-24T18:32:24.648Z"
   },
   {
    "duration": 21,
    "start_time": "2021-12-24T18:32:24.660Z"
   },
   {
    "duration": 45,
    "start_time": "2021-12-24T18:32:24.687Z"
   },
   {
    "duration": 19,
    "start_time": "2021-12-24T18:32:24.737Z"
   },
   {
    "duration": 7,
    "start_time": "2021-12-24T18:32:24.759Z"
   },
   {
    "duration": 55,
    "start_time": "2021-12-24T18:32:24.769Z"
   },
   {
    "duration": 5,
    "start_time": "2021-12-24T18:32:24.826Z"
   },
   {
    "duration": 10,
    "start_time": "2021-12-24T18:32:24.833Z"
   },
   {
    "duration": 7,
    "start_time": "2021-12-24T18:32:24.845Z"
   },
   {
    "duration": 12,
    "start_time": "2021-12-24T18:32:24.854Z"
   },
   {
    "duration": 5,
    "start_time": "2021-12-24T18:32:24.868Z"
   },
   {
    "duration": 52,
    "start_time": "2021-12-24T18:32:24.875Z"
   },
   {
    "duration": 72,
    "start_time": "2021-12-24T18:32:24.929Z"
   },
   {
    "duration": 12,
    "start_time": "2021-12-24T18:32:25.018Z"
   },
   {
    "duration": 11,
    "start_time": "2021-12-24T18:32:25.033Z"
   },
   {
    "duration": 15,
    "start_time": "2021-12-24T18:32:25.047Z"
   },
   {
    "duration": 81,
    "start_time": "2021-12-24T18:32:25.064Z"
   },
   {
    "duration": 8,
    "start_time": "2021-12-24T18:32:25.147Z"
   },
   {
    "duration": 31,
    "start_time": "2021-12-24T18:32:25.157Z"
   },
   {
    "duration": 27,
    "start_time": "2021-12-24T18:32:25.190Z"
   },
   {
    "duration": 30,
    "start_time": "2021-12-24T18:32:25.220Z"
   },
   {
    "duration": 14,
    "start_time": "2021-12-24T18:32:25.252Z"
   },
   {
    "duration": 7,
    "start_time": "2021-12-24T18:32:25.269Z"
   },
   {
    "duration": 62,
    "start_time": "2021-12-24T18:32:25.279Z"
   },
   {
    "duration": 15,
    "start_time": "2021-12-24T18:32:25.344Z"
   },
   {
    "duration": 13,
    "start_time": "2021-12-24T18:32:25.361Z"
   },
   {
    "duration": 45,
    "start_time": "2021-12-24T18:32:25.377Z"
   },
   {
    "duration": 23,
    "start_time": "2021-12-24T18:32:25.424Z"
   },
   {
    "duration": 11,
    "start_time": "2021-12-24T18:32:25.449Z"
   },
   {
    "duration": 8,
    "start_time": "2021-12-24T18:32:25.462Z"
   },
   {
    "duration": 53,
    "start_time": "2021-12-24T18:32:25.472Z"
   },
   {
    "duration": 8,
    "start_time": "2021-12-24T18:32:25.528Z"
   },
   {
    "duration": 6,
    "start_time": "2021-12-24T18:32:25.538Z"
   },
   {
    "duration": 8,
    "start_time": "2021-12-24T18:32:25.547Z"
   },
   {
    "duration": 18,
    "start_time": "2021-12-24T18:32:25.558Z"
   },
   {
    "duration": 49,
    "start_time": "2021-12-24T18:32:25.579Z"
   },
   {
    "duration": 27,
    "start_time": "2021-12-24T18:32:25.630Z"
   },
   {
    "duration": 5,
    "start_time": "2021-12-24T18:32:25.660Z"
   },
   {
    "duration": 339,
    "start_time": "2021-12-24T18:32:25.672Z"
   },
   {
    "duration": 24,
    "start_time": "2021-12-24T18:32:26.013Z"
   },
   {
    "duration": 317,
    "start_time": "2021-12-24T18:40:52.298Z"
   },
   {
    "duration": 22,
    "start_time": "2021-12-24T18:40:54.740Z"
   },
   {
    "duration": 381,
    "start_time": "2021-12-24T18:50:49.350Z"
   },
   {
    "duration": 9,
    "start_time": "2021-12-24T18:51:03.989Z"
   },
   {
    "duration": 9,
    "start_time": "2021-12-24T18:52:45.814Z"
   },
   {
    "duration": 73,
    "start_time": "2021-12-24T18:53:40.653Z"
   },
   {
    "duration": 37,
    "start_time": "2021-12-24T18:56:05.934Z"
   },
   {
    "duration": 40,
    "start_time": "2021-12-24T18:56:51.109Z"
   },
   {
    "duration": 42,
    "start_time": "2021-12-24T18:57:43.918Z"
   },
   {
    "duration": 39,
    "start_time": "2021-12-24T18:58:01.224Z"
   },
   {
    "duration": 34,
    "start_time": "2021-12-24T18:59:15.749Z"
   },
   {
    "duration": 33,
    "start_time": "2021-12-24T18:59:17.478Z"
   },
   {
    "duration": 23,
    "start_time": "2021-12-24T19:21:17.224Z"
   },
   {
    "duration": 7475,
    "start_time": "2021-12-24T19:22:03.914Z"
   },
   {
    "duration": 25,
    "start_time": "2021-12-24T19:22:55.340Z"
   },
   {
    "duration": 27,
    "start_time": "2021-12-24T19:23:45.424Z"
   },
   {
    "duration": 7842,
    "start_time": "2021-12-24T19:26:58.812Z"
   },
   {
    "duration": 102,
    "start_time": "2021-12-24T19:29:22.496Z"
   },
   {
    "duration": 127,
    "start_time": "2021-12-24T19:29:39.820Z"
   },
   {
    "duration": 114,
    "start_time": "2021-12-24T19:30:51.615Z"
   },
   {
    "duration": 7696,
    "start_time": "2021-12-24T19:33:24.810Z"
   },
   {
    "duration": 7985,
    "start_time": "2021-12-24T19:38:09.836Z"
   },
   {
    "duration": 8647,
    "start_time": "2021-12-24T19:39:17.037Z"
   },
   {
    "duration": 7786,
    "start_time": "2021-12-24T19:39:34.299Z"
   },
   {
    "duration": 7354,
    "start_time": "2021-12-24T19:43:28.676Z"
   },
   {
    "duration": 8457,
    "start_time": "2021-12-24T19:45:30.078Z"
   },
   {
    "duration": 30,
    "start_time": "2021-12-24T19:47:09.980Z"
   },
   {
    "duration": 32,
    "start_time": "2021-12-24T19:47:13.413Z"
   },
   {
    "duration": 7872,
    "start_time": "2021-12-24T19:47:17.212Z"
   },
   {
    "duration": 7454,
    "start_time": "2021-12-24T19:47:31.445Z"
   },
   {
    "duration": 7708,
    "start_time": "2021-12-24T19:48:06.669Z"
   },
   {
    "duration": 7318,
    "start_time": "2021-12-24T19:48:27.582Z"
   },
   {
    "duration": 7752,
    "start_time": "2021-12-24T19:48:45.093Z"
   },
   {
    "duration": 48,
    "start_time": "2021-12-24T19:51:09.069Z"
   },
   {
    "duration": 46,
    "start_time": "2021-12-24T19:53:19.550Z"
   },
   {
    "duration": 46,
    "start_time": "2021-12-24T19:59:33.855Z"
   },
   {
    "duration": 56,
    "start_time": "2021-12-24T20:00:15.078Z"
   },
   {
    "duration": 741,
    "start_time": "2021-12-24T20:00:34.365Z"
   },
   {
    "duration": 336,
    "start_time": "2021-12-24T20:06:00.431Z"
   },
   {
    "duration": 309,
    "start_time": "2021-12-24T20:06:43.149Z"
   },
   {
    "duration": 309,
    "start_time": "2021-12-24T20:39:19.328Z"
   },
   {
    "duration": 307,
    "start_time": "2021-12-24T20:43:38.845Z"
   },
   {
    "duration": 303,
    "start_time": "2021-12-24T21:01:58.870Z"
   },
   {
    "duration": 316,
    "start_time": "2021-12-24T21:02:43.823Z"
   },
   {
    "duration": 412,
    "start_time": "2021-12-24T21:04:27.776Z"
   },
   {
    "duration": 290,
    "start_time": "2021-12-24T21:05:11.382Z"
   },
   {
    "duration": 385,
    "start_time": "2021-12-24T21:10:51.815Z"
   },
   {
    "duration": 278,
    "start_time": "2021-12-24T21:11:33.039Z"
   },
   {
    "duration": 324,
    "start_time": "2021-12-24T21:11:51.999Z"
   },
   {
    "duration": 411,
    "start_time": "2021-12-24T21:12:02.615Z"
   },
   {
    "duration": 613,
    "start_time": "2021-12-24T21:12:15.878Z"
   },
   {
    "duration": 423,
    "start_time": "2021-12-24T21:12:29.432Z"
   },
   {
    "duration": 414,
    "start_time": "2021-12-24T21:12:36.809Z"
   },
   {
    "duration": 434,
    "start_time": "2021-12-24T21:17:03.625Z"
   },
   {
    "duration": 551,
    "start_time": "2021-12-24T21:17:20.488Z"
   },
   {
    "duration": 626,
    "start_time": "2021-12-24T21:17:28.351Z"
   },
   {
    "duration": 566,
    "start_time": "2021-12-24T21:17:39.319Z"
   },
   {
    "duration": 563,
    "start_time": "2021-12-24T21:17:52.384Z"
   },
   {
    "duration": 560,
    "start_time": "2021-12-24T21:18:03.925Z"
   },
   {
    "duration": 572,
    "start_time": "2021-12-24T21:18:17.767Z"
   },
   {
    "duration": 526,
    "start_time": "2021-12-24T21:18:40.551Z"
   },
   {
    "duration": 681,
    "start_time": "2021-12-24T21:18:50.087Z"
   },
   {
    "duration": 298,
    "start_time": "2021-12-24T21:19:17.591Z"
   },
   {
    "duration": 447,
    "start_time": "2021-12-24T21:19:26.815Z"
   },
   {
    "duration": 313,
    "start_time": "2021-12-24T21:19:33.775Z"
   },
   {
    "duration": 333,
    "start_time": "2021-12-24T21:19:39.967Z"
   },
   {
    "duration": 432,
    "start_time": "2021-12-24T21:24:34.002Z"
   },
   {
    "duration": 339,
    "start_time": "2021-12-24T21:24:42.120Z"
   },
   {
    "duration": 385,
    "start_time": "2021-12-24T21:24:49.912Z"
   },
   {
    "duration": 425,
    "start_time": "2021-12-24T21:24:57.700Z"
   },
   {
    "duration": 555,
    "start_time": "2021-12-24T21:25:03.040Z"
   },
   {
    "duration": 556,
    "start_time": "2021-12-24T21:27:05.937Z"
   },
   {
    "duration": 410,
    "start_time": "2021-12-24T21:27:13.832Z"
   },
   {
    "duration": 29,
    "start_time": "2021-12-24T21:31:07.273Z"
   },
   {
    "duration": 15,
    "start_time": "2021-12-24T21:31:45.915Z"
   },
   {
    "duration": -7,
    "start_time": "2021-12-24T21:32:34.826Z"
   },
   {
    "duration": 14,
    "start_time": "2021-12-24T21:32:37.029Z"
   },
   {
    "duration": 13,
    "start_time": "2021-12-24T21:33:16.311Z"
   },
   {
    "duration": 445,
    "start_time": "2021-12-24T21:52:23.334Z"
   },
   {
    "duration": 4,
    "start_time": "2021-12-24T21:52:31.066Z"
   },
   {
    "duration": 577,
    "start_time": "2021-12-24T21:52:31.073Z"
   },
   {
    "duration": 15,
    "start_time": "2021-12-24T21:52:31.653Z"
   },
   {
    "duration": 23,
    "start_time": "2021-12-24T21:52:31.670Z"
   },
   {
    "duration": 12,
    "start_time": "2021-12-24T21:52:31.696Z"
   },
   {
    "duration": 13,
    "start_time": "2021-12-24T21:52:31.718Z"
   },
   {
    "duration": 29,
    "start_time": "2021-12-24T21:52:31.734Z"
   },
   {
    "duration": 58,
    "start_time": "2021-12-24T21:52:31.766Z"
   },
   {
    "duration": 10,
    "start_time": "2021-12-24T21:52:31.830Z"
   },
   {
    "duration": 21,
    "start_time": "2021-12-24T21:52:31.844Z"
   },
   {
    "duration": 50,
    "start_time": "2021-12-24T21:52:31.868Z"
   },
   {
    "duration": 25,
    "start_time": "2021-12-24T21:52:31.921Z"
   },
   {
    "duration": 18,
    "start_time": "2021-12-24T21:52:31.948Z"
   },
   {
    "duration": 48,
    "start_time": "2021-12-24T21:52:31.969Z"
   },
   {
    "duration": 10,
    "start_time": "2021-12-24T21:52:32.021Z"
   },
   {
    "duration": 116,
    "start_time": "2021-12-24T21:52:32.035Z"
   },
   {
    "duration": 10,
    "start_time": "2021-12-24T21:52:32.154Z"
   },
   {
    "duration": 21,
    "start_time": "2021-12-24T21:52:32.166Z"
   },
   {
    "duration": 39,
    "start_time": "2021-12-24T21:52:32.189Z"
   },
   {
    "duration": 16,
    "start_time": "2021-12-24T21:52:32.231Z"
   },
   {
    "duration": 5,
    "start_time": "2021-12-24T21:52:32.249Z"
   },
   {
    "duration": 12,
    "start_time": "2021-12-24T21:52:32.256Z"
   },
   {
    "duration": 48,
    "start_time": "2021-12-24T21:52:32.270Z"
   },
   {
    "duration": 5,
    "start_time": "2021-12-24T21:52:32.320Z"
   },
   {
    "duration": 7,
    "start_time": "2021-12-24T21:52:32.328Z"
   },
   {
    "duration": 18,
    "start_time": "2021-12-24T21:52:32.337Z"
   },
   {
    "duration": 3,
    "start_time": "2021-12-24T21:52:32.362Z"
   },
   {
    "duration": 14,
    "start_time": "2021-12-24T21:52:32.368Z"
   },
   {
    "duration": 70,
    "start_time": "2021-12-24T21:52:32.418Z"
   },
   {
    "duration": 27,
    "start_time": "2021-12-24T21:52:32.490Z"
   },
   {
    "duration": 10,
    "start_time": "2021-12-24T21:52:32.520Z"
   },
   {
    "duration": 13,
    "start_time": "2021-12-24T21:52:32.532Z"
   },
   {
    "duration": 73,
    "start_time": "2021-12-24T21:52:32.548Z"
   },
   {
    "duration": 8,
    "start_time": "2021-12-24T21:52:32.623Z"
   },
   {
    "duration": 30,
    "start_time": "2021-12-24T21:52:32.633Z"
   },
   {
    "duration": 7,
    "start_time": "2021-12-24T21:52:32.665Z"
   },
   {
    "duration": 64,
    "start_time": "2021-12-24T21:52:32.674Z"
   },
   {
    "duration": 14,
    "start_time": "2021-12-24T21:52:32.740Z"
   },
   {
    "duration": 15,
    "start_time": "2021-12-24T21:52:32.756Z"
   },
   {
    "duration": 43,
    "start_time": "2021-12-24T21:52:32.774Z"
   },
   {
    "duration": 15,
    "start_time": "2021-12-24T21:52:32.819Z"
   },
   {
    "duration": 20,
    "start_time": "2021-12-24T21:52:32.836Z"
   },
   {
    "duration": 18,
    "start_time": "2021-12-24T21:52:32.858Z"
   },
   {
    "duration": 47,
    "start_time": "2021-12-24T21:52:32.878Z"
   },
   {
    "duration": 13,
    "start_time": "2021-12-24T21:52:32.928Z"
   },
   {
    "duration": 8,
    "start_time": "2021-12-24T21:52:32.943Z"
   },
   {
    "duration": 17,
    "start_time": "2021-12-24T21:52:32.953Z"
   },
   {
    "duration": 45,
    "start_time": "2021-12-24T21:52:32.972Z"
   },
   {
    "duration": 7,
    "start_time": "2021-12-24T21:52:33.019Z"
   },
   {
    "duration": 11,
    "start_time": "2021-12-24T21:52:33.028Z"
   },
   {
    "duration": 10,
    "start_time": "2021-12-24T21:52:33.041Z"
   },
   {
    "duration": 20,
    "start_time": "2021-12-24T21:52:33.053Z"
   },
   {
    "duration": 49,
    "start_time": "2021-12-24T21:52:33.076Z"
   },
   {
    "duration": 5,
    "start_time": "2021-12-24T21:52:33.127Z"
   },
   {
    "duration": 324,
    "start_time": "2021-12-24T21:52:33.135Z"
   },
   {
    "duration": 21,
    "start_time": "2021-12-24T21:52:33.462Z"
   },
   {
    "duration": 13,
    "start_time": "2021-12-24T21:52:33.485Z"
   },
   {
    "duration": 46,
    "start_time": "2021-12-24T21:52:33.500Z"
   },
   {
    "duration": 29,
    "start_time": "2021-12-24T21:52:33.548Z"
   },
   {
    "duration": 74,
    "start_time": "2021-12-24T21:52:33.579Z"
   },
   {
    "duration": 67,
    "start_time": "2021-12-24T21:52:33.655Z"
   },
   {
    "duration": 564,
    "start_time": "2021-12-24T21:52:33.724Z"
   },
   {
    "duration": 555,
    "start_time": "2021-12-24T21:52:34.290Z"
   },
   {
    "duration": 559,
    "start_time": "2021-12-24T21:52:34.848Z"
   },
   {
    "duration": 738,
    "start_time": "2021-12-24T21:52:35.417Z"
   },
   {
    "duration": 575,
    "start_time": "2021-12-24T21:52:36.157Z"
   },
   {
    "duration": 552,
    "start_time": "2021-12-24T21:52:36.735Z"
   },
   {
    "duration": 430,
    "start_time": "2021-12-24T21:52:37.290Z"
   },
   {
    "duration": 439,
    "start_time": "2021-12-24T21:52:37.723Z"
   },
   {
    "duration": 13,
    "start_time": "2021-12-24T21:52:38.165Z"
   },
   {
    "duration": 15,
    "start_time": "2021-12-24T21:52:38.180Z"
   },
   {
    "duration": 6,
    "start_time": "2021-12-24T22:18:47.097Z"
   },
   {
    "duration": 9,
    "start_time": "2021-12-24T22:20:33.457Z"
   },
   {
    "duration": 4363,
    "start_time": "2021-12-24T22:21:03.737Z"
   },
   {
    "duration": 4,
    "start_time": "2021-12-24T22:21:21.247Z"
   },
   {
    "duration": 569,
    "start_time": "2021-12-24T22:21:21.254Z"
   },
   {
    "duration": 16,
    "start_time": "2021-12-24T22:21:21.826Z"
   },
   {
    "duration": 10,
    "start_time": "2021-12-24T22:21:21.845Z"
   },
   {
    "duration": 11,
    "start_time": "2021-12-24T22:21:21.857Z"
   },
   {
    "duration": 12,
    "start_time": "2021-12-24T22:21:21.870Z"
   },
   {
    "duration": 62,
    "start_time": "2021-12-24T22:21:21.886Z"
   },
   {
    "duration": 18,
    "start_time": "2021-12-24T22:21:21.951Z"
   },
   {
    "duration": 44,
    "start_time": "2021-12-24T22:21:21.972Z"
   },
   {
    "duration": 22,
    "start_time": "2021-12-24T22:21:22.019Z"
   },
   {
    "duration": 13,
    "start_time": "2021-12-24T22:21:22.043Z"
   },
   {
    "duration": 59,
    "start_time": "2021-12-24T22:21:22.058Z"
   },
   {
    "duration": 17,
    "start_time": "2021-12-24T22:21:22.120Z"
   },
   {
    "duration": 11,
    "start_time": "2021-12-24T22:21:22.139Z"
   },
   {
    "duration": 11,
    "start_time": "2021-12-24T22:21:22.153Z"
   },
   {
    "duration": 138,
    "start_time": "2021-12-24T22:21:22.167Z"
   },
   {
    "duration": 17,
    "start_time": "2021-12-24T22:21:22.307Z"
   },
   {
    "duration": 21,
    "start_time": "2021-12-24T22:21:22.326Z"
   },
   {
    "duration": 14,
    "start_time": "2021-12-24T22:21:22.353Z"
   },
   {
    "duration": 49,
    "start_time": "2021-12-24T22:21:22.371Z"
   },
   {
    "duration": 7,
    "start_time": "2021-12-24T22:21:22.422Z"
   },
   {
    "duration": 12,
    "start_time": "2021-12-24T22:21:22.432Z"
   },
   {
    "duration": 6,
    "start_time": "2021-12-24T22:21:22.446Z"
   },
   {
    "duration": 6,
    "start_time": "2021-12-24T22:21:22.455Z"
   },
   {
    "duration": 7,
    "start_time": "2021-12-24T22:21:22.463Z"
   },
   {
    "duration": 61,
    "start_time": "2021-12-24T22:21:22.472Z"
   },
   {
    "duration": 5,
    "start_time": "2021-12-24T22:21:22.535Z"
   },
   {
    "duration": 14,
    "start_time": "2021-12-24T22:21:22.542Z"
   },
   {
    "duration": 102,
    "start_time": "2021-12-24T22:21:22.559Z"
   },
   {
    "duration": 13,
    "start_time": "2021-12-24T22:21:22.663Z"
   },
   {
    "duration": 15,
    "start_time": "2021-12-24T22:21:22.678Z"
   },
   {
    "duration": 13,
    "start_time": "2021-12-24T22:21:22.716Z"
   },
   {
    "duration": 47,
    "start_time": "2021-12-24T22:21:22.732Z"
   },
   {
    "duration": 36,
    "start_time": "2021-12-24T22:21:22.781Z"
   },
   {
    "duration": 31,
    "start_time": "2021-12-24T22:21:22.820Z"
   },
   {
    "duration": 7,
    "start_time": "2021-12-24T22:21:22.853Z"
   },
   {
    "duration": 59,
    "start_time": "2021-12-24T22:21:22.862Z"
   },
   {
    "duration": 14,
    "start_time": "2021-12-24T22:21:22.924Z"
   },
   {
    "duration": 7,
    "start_time": "2021-12-24T22:21:22.941Z"
   },
   {
    "duration": 20,
    "start_time": "2021-12-24T22:21:22.951Z"
   },
   {
    "duration": 57,
    "start_time": "2021-12-24T22:21:22.973Z"
   },
   {
    "duration": 13,
    "start_time": "2021-12-24T22:21:23.033Z"
   },
   {
    "duration": 17,
    "start_time": "2021-12-24T22:21:23.049Z"
   },
   {
    "duration": 55,
    "start_time": "2021-12-24T22:21:23.068Z"
   },
   {
    "duration": 13,
    "start_time": "2021-12-24T22:21:23.125Z"
   },
   {
    "duration": 7,
    "start_time": "2021-12-24T22:21:23.140Z"
   },
   {
    "duration": 19,
    "start_time": "2021-12-24T22:21:23.150Z"
   },
   {
    "duration": 53,
    "start_time": "2021-12-24T22:21:23.171Z"
   },
   {
    "duration": 8,
    "start_time": "2021-12-24T22:21:23.226Z"
   },
   {
    "duration": 10,
    "start_time": "2021-12-24T22:21:23.237Z"
   },
   {
    "duration": 10,
    "start_time": "2021-12-24T22:21:23.249Z"
   },
   {
    "duration": 66,
    "start_time": "2021-12-24T22:21:23.262Z"
   },
   {
    "duration": 14,
    "start_time": "2021-12-24T22:21:23.331Z"
   },
   {
    "duration": 6,
    "start_time": "2021-12-24T22:21:23.348Z"
   },
   {
    "duration": 473,
    "start_time": "2021-12-24T22:21:23.365Z"
   },
   {
    "duration": 21,
    "start_time": "2021-12-24T22:21:23.840Z"
   },
   {
    "duration": 15,
    "start_time": "2021-12-24T22:21:23.863Z"
   },
   {
    "duration": 48,
    "start_time": "2021-12-24T22:21:23.880Z"
   },
   {
    "duration": 33,
    "start_time": "2021-12-24T22:21:23.930Z"
   },
   {
    "duration": 75,
    "start_time": "2021-12-24T22:21:23.966Z"
   },
   {
    "duration": 46,
    "start_time": "2021-12-24T22:21:24.043Z"
   },
   {
    "duration": 571,
    "start_time": "2021-12-24T22:21:24.116Z"
   },
   {
    "duration": 560,
    "start_time": "2021-12-24T22:21:24.690Z"
   },
   {
    "duration": 575,
    "start_time": "2021-12-24T22:21:25.253Z"
   },
   {
    "duration": 559,
    "start_time": "2021-12-24T22:21:25.830Z"
   },
   {
    "duration": 903,
    "start_time": "2021-12-24T22:21:26.392Z"
   },
   {
    "duration": 554,
    "start_time": "2021-12-24T22:21:27.297Z"
   },
   {
    "duration": 430,
    "start_time": "2021-12-24T22:21:27.853Z"
   },
   {
    "duration": 435,
    "start_time": "2021-12-24T22:21:28.285Z"
   },
   {
    "duration": 18,
    "start_time": "2021-12-24T22:21:28.722Z"
   },
   {
    "duration": 16,
    "start_time": "2021-12-24T22:21:28.743Z"
   },
   {
    "duration": 7,
    "start_time": "2021-12-24T22:21:28.762Z"
   },
   {
    "duration": 55,
    "start_time": "2021-12-24T22:21:28.772Z"
   },
   {
    "duration": 3,
    "start_time": "2021-12-24T22:23:13.850Z"
   },
   {
    "duration": 3,
    "start_time": "2021-12-24T22:23:26.217Z"
   },
   {
    "duration": 4539,
    "start_time": "2021-12-24T22:23:27.733Z"
   },
   {
    "duration": 4,
    "start_time": "2021-12-24T22:23:36.377Z"
   },
   {
    "duration": 575,
    "start_time": "2021-12-24T22:23:36.385Z"
   },
   {
    "duration": 16,
    "start_time": "2021-12-24T22:23:36.963Z"
   },
   {
    "duration": 9,
    "start_time": "2021-12-24T22:23:36.982Z"
   },
   {
    "duration": 26,
    "start_time": "2021-12-24T22:23:36.994Z"
   },
   {
    "duration": 14,
    "start_time": "2021-12-24T22:23:37.023Z"
   },
   {
    "duration": 26,
    "start_time": "2021-12-24T22:23:37.040Z"
   },
   {
    "duration": 51,
    "start_time": "2021-12-24T22:23:37.069Z"
   },
   {
    "duration": 14,
    "start_time": "2021-12-24T22:23:37.126Z"
   },
   {
    "duration": 22,
    "start_time": "2021-12-24T22:23:37.145Z"
   },
   {
    "duration": 49,
    "start_time": "2021-12-24T22:23:37.170Z"
   },
   {
    "duration": 22,
    "start_time": "2021-12-24T22:23:37.222Z"
   },
   {
    "duration": 16,
    "start_time": "2021-12-24T22:23:37.246Z"
   },
   {
    "duration": 11,
    "start_time": "2021-12-24T22:23:37.265Z"
   },
   {
    "duration": 42,
    "start_time": "2021-12-24T22:23:37.279Z"
   },
   {
    "duration": 105,
    "start_time": "2021-12-24T22:23:37.323Z"
   },
   {
    "duration": 9,
    "start_time": "2021-12-24T22:23:37.431Z"
   },
   {
    "duration": 21,
    "start_time": "2021-12-24T22:23:37.443Z"
   },
   {
    "duration": 15,
    "start_time": "2021-12-24T22:23:37.467Z"
   },
   {
    "duration": 48,
    "start_time": "2021-12-24T22:23:37.484Z"
   },
   {
    "duration": 6,
    "start_time": "2021-12-24T22:23:37.534Z"
   },
   {
    "duration": 14,
    "start_time": "2021-12-24T22:23:37.543Z"
   },
   {
    "duration": 6,
    "start_time": "2021-12-24T22:23:37.559Z"
   },
   {
    "duration": 51,
    "start_time": "2021-12-24T22:23:37.567Z"
   },
   {
    "duration": 7,
    "start_time": "2021-12-24T22:23:37.621Z"
   },
   {
    "duration": 14,
    "start_time": "2021-12-24T22:23:37.630Z"
   },
   {
    "duration": 4,
    "start_time": "2021-12-24T22:23:37.652Z"
   },
   {
    "duration": 13,
    "start_time": "2021-12-24T22:23:37.660Z"
   },
   {
    "duration": 110,
    "start_time": "2021-12-24T22:23:37.675Z"
   },
   {
    "duration": 11,
    "start_time": "2021-12-24T22:23:37.787Z"
   },
   {
    "duration": 25,
    "start_time": "2021-12-24T22:23:37.801Z"
   },
   {
    "duration": 15,
    "start_time": "2021-12-24T22:23:37.828Z"
   },
   {
    "duration": 74,
    "start_time": "2021-12-24T22:23:37.845Z"
   },
   {
    "duration": 9,
    "start_time": "2021-12-24T22:23:37.922Z"
   },
   {
    "duration": 33,
    "start_time": "2021-12-24T22:23:37.934Z"
   },
   {
    "duration": 8,
    "start_time": "2021-12-24T22:23:37.969Z"
   },
   {
    "duration": 65,
    "start_time": "2021-12-24T22:23:37.979Z"
   },
   {
    "duration": 14,
    "start_time": "2021-12-24T22:23:38.047Z"
   },
   {
    "duration": 11,
    "start_time": "2021-12-24T22:23:38.064Z"
   },
   {
    "duration": 57,
    "start_time": "2021-12-24T22:23:38.077Z"
   },
   {
    "duration": 16,
    "start_time": "2021-12-24T22:23:38.136Z"
   },
   {
    "duration": 13,
    "start_time": "2021-12-24T22:23:38.155Z"
   },
   {
    "duration": 49,
    "start_time": "2021-12-24T22:23:38.170Z"
   },
   {
    "duration": 23,
    "start_time": "2021-12-24T22:23:38.221Z"
   },
   {
    "duration": 11,
    "start_time": "2021-12-24T22:23:38.246Z"
   },
   {
    "duration": 10,
    "start_time": "2021-12-24T22:23:38.259Z"
   },
   {
    "duration": 55,
    "start_time": "2021-12-24T22:23:38.272Z"
   },
   {
    "duration": 8,
    "start_time": "2021-12-24T22:23:38.330Z"
   },
   {
    "duration": 9,
    "start_time": "2021-12-24T22:23:38.340Z"
   },
   {
    "duration": 8,
    "start_time": "2021-12-24T22:23:38.351Z"
   },
   {
    "duration": 10,
    "start_time": "2021-12-24T22:23:38.361Z"
   },
   {
    "duration": 55,
    "start_time": "2021-12-24T22:23:38.373Z"
   },
   {
    "duration": 12,
    "start_time": "2021-12-24T22:23:38.431Z"
   },
   {
    "duration": 5,
    "start_time": "2021-12-24T22:23:38.445Z"
   },
   {
    "duration": 339,
    "start_time": "2021-12-24T22:23:38.452Z"
   },
   {
    "duration": 33,
    "start_time": "2021-12-24T22:23:38.793Z"
   },
   {
    "duration": 8,
    "start_time": "2021-12-24T22:23:38.828Z"
   },
   {
    "duration": 33,
    "start_time": "2021-12-24T22:23:38.838Z"
   },
   {
    "duration": 68,
    "start_time": "2021-12-24T22:23:38.874Z"
   },
   {
    "duration": 42,
    "start_time": "2021-12-24T22:23:38.945Z"
   },
   {
    "duration": 68,
    "start_time": "2021-12-24T22:23:38.990Z"
   },
   {
    "duration": 578,
    "start_time": "2021-12-24T22:23:39.061Z"
   },
   {
    "duration": 548,
    "start_time": "2021-12-24T22:23:39.641Z"
   },
   {
    "duration": 665,
    "start_time": "2021-12-24T22:23:40.191Z"
   },
   {
    "duration": 554,
    "start_time": "2021-12-24T22:23:40.858Z"
   },
   {
    "duration": 630,
    "start_time": "2021-12-24T22:23:41.417Z"
   },
   {
    "duration": 539,
    "start_time": "2021-12-24T22:23:42.050Z"
   },
   {
    "duration": 429,
    "start_time": "2021-12-24T22:23:42.591Z"
   },
   {
    "duration": 421,
    "start_time": "2021-12-24T22:23:43.023Z"
   },
   {
    "duration": 15,
    "start_time": "2021-12-24T22:23:43.446Z"
   },
   {
    "duration": 14,
    "start_time": "2021-12-24T22:23:43.463Z"
   },
   {
    "duration": 36,
    "start_time": "2021-12-24T22:23:43.480Z"
   },
   {
    "duration": 13,
    "start_time": "2021-12-24T22:23:43.519Z"
   },
   {
    "duration": 21,
    "start_time": "2021-12-24T22:23:43.534Z"
   },
   {
    "duration": 4,
    "start_time": "2021-12-24T22:25:03.324Z"
   },
   {
    "duration": 553,
    "start_time": "2021-12-24T22:25:03.331Z"
   },
   {
    "duration": 16,
    "start_time": "2021-12-24T22:25:03.886Z"
   },
   {
    "duration": 15,
    "start_time": "2021-12-24T22:25:03.904Z"
   },
   {
    "duration": 11,
    "start_time": "2021-12-24T22:25:03.921Z"
   },
   {
    "duration": 12,
    "start_time": "2021-12-24T22:25:03.934Z"
   },
   {
    "duration": 27,
    "start_time": "2021-12-24T22:25:03.949Z"
   },
   {
    "duration": 53,
    "start_time": "2021-12-24T22:25:03.980Z"
   },
   {
    "duration": 10,
    "start_time": "2021-12-24T22:25:04.036Z"
   },
   {
    "duration": 23,
    "start_time": "2021-12-24T22:25:04.049Z"
   },
   {
    "duration": 322,
    "start_time": "2021-12-24T22:25:04.074Z"
   },
   {
    "duration": 38,
    "start_time": "2021-12-24T22:25:04.399Z"
   },
   {
    "duration": 17,
    "start_time": "2021-12-24T22:25:04.440Z"
   },
   {
    "duration": 12,
    "start_time": "2021-12-24T22:25:04.460Z"
   },
   {
    "duration": 45,
    "start_time": "2021-12-24T22:25:04.474Z"
   },
   {
    "duration": 108,
    "start_time": "2021-12-24T22:25:04.521Z"
   },
   {
    "duration": 10,
    "start_time": "2021-12-24T22:25:04.631Z"
   },
   {
    "duration": 23,
    "start_time": "2021-12-24T22:25:04.644Z"
   },
   {
    "duration": 15,
    "start_time": "2021-12-24T22:25:04.672Z"
   },
   {
    "duration": 17,
    "start_time": "2021-12-24T22:25:04.719Z"
   },
   {
    "duration": 5,
    "start_time": "2021-12-24T22:25:04.739Z"
   },
   {
    "duration": 12,
    "start_time": "2021-12-24T22:25:04.747Z"
   },
   {
    "duration": 6,
    "start_time": "2021-12-24T22:25:04.763Z"
   },
   {
    "duration": 47,
    "start_time": "2021-12-24T22:25:04.772Z"
   },
   {
    "duration": 9,
    "start_time": "2021-12-24T22:25:04.822Z"
   },
   {
    "duration": 17,
    "start_time": "2021-12-24T22:25:04.834Z"
   },
   {
    "duration": 7,
    "start_time": "2021-12-24T22:25:04.854Z"
   },
   {
    "duration": 13,
    "start_time": "2021-12-24T22:25:04.863Z"
   },
   {
    "duration": 104,
    "start_time": "2021-12-24T22:25:04.878Z"
   },
   {
    "duration": 12,
    "start_time": "2021-12-24T22:25:04.984Z"
   },
   {
    "duration": 11,
    "start_time": "2021-12-24T22:25:05.017Z"
   },
   {
    "duration": 14,
    "start_time": "2021-12-24T22:25:05.031Z"
   },
   {
    "duration": 85,
    "start_time": "2021-12-24T22:25:05.048Z"
   },
   {
    "duration": 8,
    "start_time": "2021-12-24T22:25:05.136Z"
   },
   {
    "duration": 31,
    "start_time": "2021-12-24T22:25:05.146Z"
   },
   {
    "duration": 8,
    "start_time": "2021-12-24T22:25:05.179Z"
   },
   {
    "duration": 29,
    "start_time": "2021-12-24T22:25:05.218Z"
   },
   {
    "duration": 15,
    "start_time": "2021-12-24T22:25:05.249Z"
   },
   {
    "duration": 10,
    "start_time": "2021-12-24T22:25:05.266Z"
   },
   {
    "duration": 51,
    "start_time": "2021-12-24T22:25:05.279Z"
   },
   {
    "duration": 16,
    "start_time": "2021-12-24T22:25:05.333Z"
   },
   {
    "duration": 13,
    "start_time": "2021-12-24T22:25:05.351Z"
   },
   {
    "duration": 53,
    "start_time": "2021-12-24T22:25:05.367Z"
   },
   {
    "duration": 23,
    "start_time": "2021-12-24T22:25:05.423Z"
   },
   {
    "duration": 12,
    "start_time": "2021-12-24T22:25:05.449Z"
   },
   {
    "duration": 9,
    "start_time": "2021-12-24T22:25:05.464Z"
   },
   {
    "duration": 55,
    "start_time": "2021-12-24T22:25:05.476Z"
   },
   {
    "duration": 7,
    "start_time": "2021-12-24T22:25:05.534Z"
   },
   {
    "duration": 9,
    "start_time": "2021-12-24T22:25:05.544Z"
   },
   {
    "duration": 11,
    "start_time": "2021-12-24T22:25:05.555Z"
   },
   {
    "duration": 50,
    "start_time": "2021-12-24T22:25:05.569Z"
   },
   {
    "duration": 21,
    "start_time": "2021-12-24T22:25:05.622Z"
   },
   {
    "duration": 14,
    "start_time": "2021-12-24T22:25:05.646Z"
   },
   {
    "duration": 6,
    "start_time": "2021-12-24T22:25:05.663Z"
   },
   {
    "duration": 319,
    "start_time": "2021-12-24T22:25:05.721Z"
   },
   {
    "duration": 23,
    "start_time": "2021-12-24T22:25:06.044Z"
   },
   {
    "duration": 10,
    "start_time": "2021-12-24T22:25:06.070Z"
   },
   {
    "duration": 63,
    "start_time": "2021-12-24T22:25:06.082Z"
   },
   {
    "duration": 32,
    "start_time": "2021-12-24T22:25:06.148Z"
   },
   {
    "duration": 73,
    "start_time": "2021-12-24T22:25:06.183Z"
   },
   {
    "duration": 68,
    "start_time": "2021-12-24T22:25:06.258Z"
   },
   {
    "duration": 580,
    "start_time": "2021-12-24T22:25:06.328Z"
   },
   {
    "duration": 575,
    "start_time": "2021-12-24T22:25:06.911Z"
   },
   {
    "duration": 576,
    "start_time": "2021-12-24T22:25:07.488Z"
   },
   {
    "duration": 562,
    "start_time": "2021-12-24T22:25:08.067Z"
   },
   {
    "duration": 579,
    "start_time": "2021-12-24T22:25:08.631Z"
   },
   {
    "duration": 655,
    "start_time": "2021-12-24T22:25:09.212Z"
   },
   {
    "duration": 429,
    "start_time": "2021-12-24T22:25:09.870Z"
   },
   {
    "duration": 426,
    "start_time": "2021-12-24T22:25:10.301Z"
   },
   {
    "duration": 14,
    "start_time": "2021-12-24T22:25:10.730Z"
   },
   {
    "duration": 15,
    "start_time": "2021-12-24T22:25:10.746Z"
   },
   {
    "duration": 6,
    "start_time": "2021-12-24T22:25:10.764Z"
   },
   {
    "duration": 8,
    "start_time": "2021-12-24T22:25:10.772Z"
   },
   {
    "duration": 47,
    "start_time": "2021-12-24T22:25:10.782Z"
   },
   {
    "duration": 101,
    "start_time": "2021-12-24T22:25:10.831Z"
   },
   {
    "duration": 7,
    "start_time": "2021-12-24T22:26:13.195Z"
   },
   {
    "duration": 8,
    "start_time": "2021-12-24T22:35:10.827Z"
   },
   {
    "duration": 44,
    "start_time": "2021-12-24T22:39:52.774Z"
   },
   {
    "duration": 43,
    "start_time": "2021-12-24T22:41:11.189Z"
   },
   {
    "duration": 4,
    "start_time": "2021-12-24T22:41:20.964Z"
   },
   {
    "duration": 571,
    "start_time": "2021-12-24T22:41:20.971Z"
   },
   {
    "duration": 16,
    "start_time": "2021-12-24T22:41:21.545Z"
   },
   {
    "duration": 9,
    "start_time": "2021-12-24T22:41:21.563Z"
   },
   {
    "duration": 9,
    "start_time": "2021-12-24T22:41:21.575Z"
   },
   {
    "duration": 39,
    "start_time": "2021-12-24T22:41:21.586Z"
   },
   {
    "duration": 29,
    "start_time": "2021-12-24T22:41:21.627Z"
   },
   {
    "duration": 19,
    "start_time": "2021-12-24T22:41:21.659Z"
   },
   {
    "duration": 44,
    "start_time": "2021-12-24T22:41:21.681Z"
   },
   {
    "duration": 21,
    "start_time": "2021-12-24T22:41:21.728Z"
   },
   {
    "duration": 23,
    "start_time": "2021-12-24T22:41:21.751Z"
   },
   {
    "duration": 60,
    "start_time": "2021-12-24T22:41:21.777Z"
   },
   {
    "duration": 17,
    "start_time": "2021-12-24T22:41:21.839Z"
   },
   {
    "duration": 10,
    "start_time": "2021-12-24T22:41:21.859Z"
   },
   {
    "duration": 50,
    "start_time": "2021-12-24T22:41:21.872Z"
   },
   {
    "duration": 97,
    "start_time": "2021-12-24T22:41:21.925Z"
   },
   {
    "duration": 9,
    "start_time": "2021-12-24T22:41:22.025Z"
   },
   {
    "duration": 21,
    "start_time": "2021-12-24T22:41:22.037Z"
   },
   {
    "duration": 14,
    "start_time": "2021-12-24T22:41:22.060Z"
   },
   {
    "duration": 51,
    "start_time": "2021-12-24T22:41:22.076Z"
   },
   {
    "duration": 6,
    "start_time": "2021-12-24T22:41:22.129Z"
   },
   {
    "duration": 13,
    "start_time": "2021-12-24T22:41:22.138Z"
   },
   {
    "duration": 8,
    "start_time": "2021-12-24T22:41:22.158Z"
   },
   {
    "duration": 14,
    "start_time": "2021-12-24T22:41:22.170Z"
   },
   {
    "duration": 36,
    "start_time": "2021-12-24T22:41:22.187Z"
   },
   {
    "duration": 26,
    "start_time": "2021-12-24T22:41:22.225Z"
   },
   {
    "duration": 12,
    "start_time": "2021-12-24T22:41:22.254Z"
   },
   {
    "duration": 21,
    "start_time": "2021-12-24T22:41:22.269Z"
   },
   {
    "duration": 89,
    "start_time": "2021-12-24T22:41:22.293Z"
   },
   {
    "duration": 13,
    "start_time": "2021-12-24T22:41:22.384Z"
   },
   {
    "duration": 32,
    "start_time": "2021-12-24T22:41:22.399Z"
   },
   {
    "duration": 24,
    "start_time": "2021-12-24T22:41:22.434Z"
   },
   {
    "duration": 56,
    "start_time": "2021-12-24T22:41:22.461Z"
   },
   {
    "duration": 9,
    "start_time": "2021-12-24T22:41:22.519Z"
   },
   {
    "duration": 36,
    "start_time": "2021-12-24T22:41:22.531Z"
   },
   {
    "duration": 8,
    "start_time": "2021-12-24T22:41:22.570Z"
   },
   {
    "duration": 60,
    "start_time": "2021-12-24T22:41:22.581Z"
   },
   {
    "duration": 14,
    "start_time": "2021-12-24T22:41:22.643Z"
   },
   {
    "duration": 14,
    "start_time": "2021-12-24T22:41:22.660Z"
   },
   {
    "duration": 54,
    "start_time": "2021-12-24T22:41:22.676Z"
   },
   {
    "duration": 16,
    "start_time": "2021-12-24T22:41:22.733Z"
   },
   {
    "duration": 17,
    "start_time": "2021-12-24T22:41:22.752Z"
   },
   {
    "duration": 48,
    "start_time": "2021-12-24T22:41:22.771Z"
   },
   {
    "duration": 24,
    "start_time": "2021-12-24T22:41:22.821Z"
   },
   {
    "duration": 12,
    "start_time": "2021-12-24T22:41:22.848Z"
   },
   {
    "duration": 9,
    "start_time": "2021-12-24T22:41:22.863Z"
   },
   {
    "duration": 52,
    "start_time": "2021-12-24T22:41:22.874Z"
   },
   {
    "duration": 8,
    "start_time": "2021-12-24T22:41:22.929Z"
   },
   {
    "duration": 7,
    "start_time": "2021-12-24T22:41:22.939Z"
   },
   {
    "duration": 8,
    "start_time": "2021-12-24T22:41:22.948Z"
   },
   {
    "duration": 10,
    "start_time": "2021-12-24T22:41:22.958Z"
   },
   {
    "duration": 62,
    "start_time": "2021-12-24T22:41:22.971Z"
   },
   {
    "duration": 17,
    "start_time": "2021-12-24T22:41:23.035Z"
   },
   {
    "duration": 6,
    "start_time": "2021-12-24T22:41:23.054Z"
   },
   {
    "duration": 343,
    "start_time": "2021-12-24T22:41:23.062Z"
   },
   {
    "duration": 21,
    "start_time": "2021-12-24T22:41:23.407Z"
   },
   {
    "duration": 8,
    "start_time": "2021-12-24T22:41:23.430Z"
   },
   {
    "duration": 29,
    "start_time": "2021-12-24T22:41:23.441Z"
   },
   {
    "duration": 64,
    "start_time": "2021-12-24T22:41:23.473Z"
   },
   {
    "duration": 42,
    "start_time": "2021-12-24T22:41:23.539Z"
   },
   {
    "duration": 65,
    "start_time": "2021-12-24T22:41:23.584Z"
   },
   {
    "duration": 579,
    "start_time": "2021-12-24T22:41:23.652Z"
   },
   {
    "duration": 621,
    "start_time": "2021-12-24T22:41:24.233Z"
   },
   {
    "duration": 645,
    "start_time": "2021-12-24T22:41:24.857Z"
   },
   {
    "duration": 555,
    "start_time": "2021-12-24T22:41:25.504Z"
   },
   {
    "duration": 1025,
    "start_time": "2021-12-24T22:41:26.062Z"
   },
   {
    "duration": 539,
    "start_time": "2021-12-24T22:41:27.090Z"
   },
   {
    "duration": 423,
    "start_time": "2021-12-24T22:41:27.636Z"
   },
   {
    "duration": 426,
    "start_time": "2021-12-24T22:41:28.062Z"
   },
   {
    "duration": 13,
    "start_time": "2021-12-24T22:41:28.490Z"
   },
   {
    "duration": 24,
    "start_time": "2021-12-24T22:41:28.505Z"
   },
   {
    "duration": 6,
    "start_time": "2021-12-24T22:41:28.531Z"
   },
   {
    "duration": 13,
    "start_time": "2021-12-24T22:41:28.539Z"
   },
   {
    "duration": 16,
    "start_time": "2021-12-24T22:41:28.555Z"
   },
   {
    "duration": 44,
    "start_time": "2021-12-24T22:41:28.574Z"
   },
   {
    "duration": 7,
    "start_time": "2021-12-24T22:41:28.621Z"
   },
   {
    "duration": 301,
    "start_time": "2021-12-24T22:41:28.630Z"
   },
   {
    "duration": 293,
    "start_time": "2021-12-24T22:42:28.652Z"
   },
   {
    "duration": 71,
    "start_time": "2021-12-24T22:45:13.012Z"
   },
   {
    "duration": 9,
    "start_time": "2021-12-24T22:45:53.877Z"
   },
   {
    "duration": 25,
    "start_time": "2021-12-24T22:46:34.174Z"
   },
   {
    "duration": 16,
    "start_time": "2021-12-24T22:47:09.566Z"
   },
   {
    "duration": 17,
    "start_time": "2021-12-24T22:47:12.029Z"
   },
   {
    "duration": 8,
    "start_time": "2021-12-24T22:49:09.038Z"
   },
   {
    "duration": 7,
    "start_time": "2021-12-24T22:49:36.079Z"
   },
   {
    "duration": 300,
    "start_time": "2021-12-24T22:49:51.838Z"
   },
   {
    "duration": 304,
    "start_time": "2021-12-24T22:50:38.333Z"
   },
   {
    "duration": 4,
    "start_time": "2021-12-24T22:51:15.622Z"
   },
   {
    "duration": 537,
    "start_time": "2021-12-24T22:51:15.628Z"
   },
   {
    "duration": 15,
    "start_time": "2021-12-24T22:51:16.168Z"
   },
   {
    "duration": 10,
    "start_time": "2021-12-24T22:51:16.186Z"
   },
   {
    "duration": 24,
    "start_time": "2021-12-24T22:51:16.198Z"
   },
   {
    "duration": 15,
    "start_time": "2021-12-24T22:51:16.225Z"
   },
   {
    "duration": 28,
    "start_time": "2021-12-24T22:51:16.244Z"
   },
   {
    "duration": 48,
    "start_time": "2021-12-24T22:51:16.274Z"
   },
   {
    "duration": 11,
    "start_time": "2021-12-24T22:51:16.324Z"
   },
   {
    "duration": 20,
    "start_time": "2021-12-24T22:51:16.337Z"
   },
   {
    "duration": 12,
    "start_time": "2021-12-24T22:51:16.360Z"
   },
   {
    "duration": 55,
    "start_time": "2021-12-24T22:51:16.375Z"
   },
   {
    "duration": 17,
    "start_time": "2021-12-24T22:51:16.433Z"
   },
   {
    "duration": 12,
    "start_time": "2021-12-24T22:51:16.453Z"
   },
   {
    "duration": 9,
    "start_time": "2021-12-24T22:51:16.467Z"
   },
   {
    "duration": 140,
    "start_time": "2021-12-24T22:51:16.478Z"
   },
   {
    "duration": 10,
    "start_time": "2021-12-24T22:51:16.620Z"
   },
   {
    "duration": 22,
    "start_time": "2021-12-24T22:51:16.632Z"
   },
   {
    "duration": 14,
    "start_time": "2021-12-24T22:51:16.659Z"
   },
   {
    "duration": 53,
    "start_time": "2021-12-24T22:51:16.677Z"
   },
   {
    "duration": 6,
    "start_time": "2021-12-24T22:51:16.732Z"
   },
   {
    "duration": 13,
    "start_time": "2021-12-24T22:51:16.740Z"
   },
   {
    "duration": 7,
    "start_time": "2021-12-24T22:51:16.755Z"
   },
   {
    "duration": 7,
    "start_time": "2021-12-24T22:51:16.764Z"
   },
   {
    "duration": 44,
    "start_time": "2021-12-24T22:51:16.774Z"
   },
   {
    "duration": 16,
    "start_time": "2021-12-24T22:51:16.821Z"
   },
   {
    "duration": 7,
    "start_time": "2021-12-24T22:51:16.839Z"
   },
   {
    "duration": 19,
    "start_time": "2021-12-24T22:51:16.848Z"
   },
   {
    "duration": 96,
    "start_time": "2021-12-24T22:51:16.870Z"
   },
   {
    "duration": 11,
    "start_time": "2021-12-24T22:51:16.969Z"
   },
   {
    "duration": 14,
    "start_time": "2021-12-24T22:51:16.983Z"
   },
   {
    "duration": 13,
    "start_time": "2021-12-24T22:51:17.018Z"
   },
   {
    "duration": 48,
    "start_time": "2021-12-24T22:51:17.034Z"
   },
   {
    "duration": 35,
    "start_time": "2021-12-24T22:51:17.084Z"
   },
   {
    "duration": 33,
    "start_time": "2021-12-24T22:51:17.122Z"
   },
   {
    "duration": 8,
    "start_time": "2021-12-24T22:51:17.157Z"
   },
   {
    "duration": 54,
    "start_time": "2021-12-24T22:51:17.167Z"
   },
   {
    "duration": 14,
    "start_time": "2021-12-24T22:51:17.223Z"
   },
   {
    "duration": 7,
    "start_time": "2021-12-24T22:51:17.239Z"
   },
   {
    "duration": 19,
    "start_time": "2021-12-24T22:51:17.248Z"
   },
   {
    "duration": 50,
    "start_time": "2021-12-24T22:51:17.269Z"
   },
   {
    "duration": 12,
    "start_time": "2021-12-24T22:51:17.321Z"
   },
   {
    "duration": 22,
    "start_time": "2021-12-24T22:51:17.335Z"
   },
   {
    "duration": 22,
    "start_time": "2021-12-24T22:51:17.359Z"
   },
   {
    "duration": 44,
    "start_time": "2021-12-24T22:51:17.384Z"
   },
   {
    "duration": 10,
    "start_time": "2021-12-24T22:51:17.431Z"
   },
   {
    "duration": 28,
    "start_time": "2021-12-24T22:51:17.444Z"
   },
   {
    "duration": 42,
    "start_time": "2021-12-24T22:51:17.475Z"
   },
   {
    "duration": 9,
    "start_time": "2021-12-24T22:51:17.520Z"
   },
   {
    "duration": 11,
    "start_time": "2021-12-24T22:51:17.531Z"
   },
   {
    "duration": 11,
    "start_time": "2021-12-24T22:51:17.545Z"
   },
   {
    "duration": 67,
    "start_time": "2021-12-24T22:51:17.559Z"
   },
   {
    "duration": 14,
    "start_time": "2021-12-24T22:51:17.629Z"
   },
   {
    "duration": 9,
    "start_time": "2021-12-24T22:51:17.646Z"
   },
   {
    "duration": 349,
    "start_time": "2021-12-24T22:51:17.663Z"
   },
   {
    "duration": 23,
    "start_time": "2021-12-24T22:51:18.016Z"
   },
   {
    "duration": 9,
    "start_time": "2021-12-24T22:51:18.042Z"
   },
   {
    "duration": 64,
    "start_time": "2021-12-24T22:51:18.054Z"
   },
   {
    "duration": 32,
    "start_time": "2021-12-24T22:51:18.121Z"
   },
   {
    "duration": 79,
    "start_time": "2021-12-24T22:51:18.156Z"
   },
   {
    "duration": 44,
    "start_time": "2021-12-24T22:51:18.239Z"
   },
   {
    "duration": 640,
    "start_time": "2021-12-24T22:51:18.286Z"
   },
   {
    "duration": 552,
    "start_time": "2021-12-24T22:51:18.928Z"
   },
   {
    "duration": 758,
    "start_time": "2021-12-24T22:51:19.483Z"
   },
   {
    "duration": 577,
    "start_time": "2021-12-24T22:51:20.244Z"
   },
   {
    "duration": 600,
    "start_time": "2021-12-24T22:51:20.823Z"
   },
   {
    "duration": 541,
    "start_time": "2021-12-24T22:51:21.426Z"
   },
   {
    "duration": 421,
    "start_time": "2021-12-24T22:51:21.970Z"
   },
   {
    "duration": 424,
    "start_time": "2021-12-24T22:51:22.393Z"
   },
   {
    "duration": 14,
    "start_time": "2021-12-24T22:51:22.819Z"
   },
   {
    "duration": 17,
    "start_time": "2021-12-24T22:51:22.835Z"
   },
   {
    "duration": 6,
    "start_time": "2021-12-24T22:51:22.854Z"
   },
   {
    "duration": 9,
    "start_time": "2021-12-24T22:51:22.862Z"
   },
   {
    "duration": 48,
    "start_time": "2021-12-24T22:51:22.873Z"
   },
   {
    "duration": 6,
    "start_time": "2021-12-24T22:51:22.923Z"
   },
   {
    "duration": 9,
    "start_time": "2021-12-24T22:51:22.931Z"
   },
   {
    "duration": 8,
    "start_time": "2021-12-24T22:51:22.942Z"
   },
   {
    "duration": 18,
    "start_time": "2021-12-24T22:51:22.952Z"
   },
   {
    "duration": 312,
    "start_time": "2021-12-24T22:52:38.166Z"
   },
   {
    "duration": 4,
    "start_time": "2021-12-24T22:52:50.957Z"
   },
   {
    "duration": 568,
    "start_time": "2021-12-24T22:52:50.963Z"
   },
   {
    "duration": 16,
    "start_time": "2021-12-24T22:52:51.534Z"
   },
   {
    "duration": 11,
    "start_time": "2021-12-24T22:52:51.552Z"
   },
   {
    "duration": 11,
    "start_time": "2021-12-24T22:52:51.565Z"
   },
   {
    "duration": 11,
    "start_time": "2021-12-24T22:52:51.578Z"
   },
   {
    "duration": 26,
    "start_time": "2021-12-24T22:52:51.617Z"
   },
   {
    "duration": 19,
    "start_time": "2021-12-24T22:52:51.646Z"
   },
   {
    "duration": 10,
    "start_time": "2021-12-24T22:52:51.667Z"
   },
   {
    "duration": 53,
    "start_time": "2021-12-24T22:52:51.680Z"
   },
   {
    "duration": 22,
    "start_time": "2021-12-24T22:52:51.736Z"
   },
   {
    "duration": 28,
    "start_time": "2021-12-24T22:52:51.760Z"
   },
   {
    "duration": 33,
    "start_time": "2021-12-24T22:52:51.790Z"
   },
   {
    "duration": 11,
    "start_time": "2021-12-24T22:52:51.826Z"
   },
   {
    "duration": 10,
    "start_time": "2021-12-24T22:52:51.839Z"
   },
   {
    "duration": 117,
    "start_time": "2021-12-24T22:52:51.851Z"
   },
   {
    "duration": 9,
    "start_time": "2021-12-24T22:52:51.970Z"
   },
   {
    "duration": 40,
    "start_time": "2021-12-24T22:52:51.981Z"
   },
   {
    "duration": 14,
    "start_time": "2021-12-24T22:52:52.027Z"
   },
   {
    "duration": 17,
    "start_time": "2021-12-24T22:52:52.045Z"
   },
   {
    "duration": 6,
    "start_time": "2021-12-24T22:52:52.065Z"
   },
   {
    "duration": 53,
    "start_time": "2021-12-24T22:52:52.074Z"
   },
   {
    "duration": 8,
    "start_time": "2021-12-24T22:52:52.130Z"
   },
   {
    "duration": 10,
    "start_time": "2021-12-24T22:52:52.141Z"
   },
   {
    "duration": 8,
    "start_time": "2021-12-24T22:52:52.153Z"
   },
   {
    "duration": 13,
    "start_time": "2021-12-24T22:52:52.163Z"
   },
   {
    "duration": 7,
    "start_time": "2021-12-24T22:52:52.178Z"
   },
   {
    "duration": 45,
    "start_time": "2021-12-24T22:52:52.187Z"
   },
   {
    "duration": 91,
    "start_time": "2021-12-24T22:52:52.234Z"
   },
   {
    "duration": 11,
    "start_time": "2021-12-24T22:52:52.328Z"
   },
   {
    "duration": 26,
    "start_time": "2021-12-24T22:52:52.341Z"
   },
   {
    "duration": 15,
    "start_time": "2021-12-24T22:52:52.370Z"
   },
   {
    "duration": 71,
    "start_time": "2021-12-24T22:52:52.388Z"
   },
   {
    "duration": 9,
    "start_time": "2021-12-24T22:52:52.461Z"
   },
   {
    "duration": 52,
    "start_time": "2021-12-24T22:52:52.472Z"
   },
   {
    "duration": 7,
    "start_time": "2021-12-24T22:52:52.527Z"
   },
   {
    "duration": 35,
    "start_time": "2021-12-24T22:52:52.536Z"
   },
   {
    "duration": 14,
    "start_time": "2021-12-24T22:52:52.574Z"
   },
   {
    "duration": 32,
    "start_time": "2021-12-24T22:52:52.590Z"
   },
   {
    "duration": 31,
    "start_time": "2021-12-24T22:52:52.625Z"
   },
   {
    "duration": 16,
    "start_time": "2021-12-24T22:52:52.658Z"
   },
   {
    "duration": 15,
    "start_time": "2021-12-24T22:52:52.676Z"
   },
   {
    "duration": 16,
    "start_time": "2021-12-24T22:52:52.717Z"
   },
   {
    "duration": 23,
    "start_time": "2021-12-24T22:52:52.735Z"
   },
   {
    "duration": 13,
    "start_time": "2021-12-24T22:52:52.760Z"
   },
   {
    "duration": 41,
    "start_time": "2021-12-24T22:52:52.776Z"
   },
   {
    "duration": 18,
    "start_time": "2021-12-24T22:52:52.820Z"
   },
   {
    "duration": 10,
    "start_time": "2021-12-24T22:52:52.840Z"
   },
   {
    "duration": 6,
    "start_time": "2021-12-24T22:52:52.852Z"
   },
   {
    "duration": 8,
    "start_time": "2021-12-24T22:52:52.861Z"
   },
   {
    "duration": 47,
    "start_time": "2021-12-24T22:52:52.871Z"
   },
   {
    "duration": 19,
    "start_time": "2021-12-24T22:52:52.921Z"
   },
   {
    "duration": 13,
    "start_time": "2021-12-24T22:52:52.942Z"
   },
   {
    "duration": 5,
    "start_time": "2021-12-24T22:52:52.957Z"
   },
   {
    "duration": 355,
    "start_time": "2021-12-24T22:52:52.969Z"
   },
   {
    "duration": 21,
    "start_time": "2021-12-24T22:52:53.327Z"
   },
   {
    "duration": 10,
    "start_time": "2021-12-24T22:52:53.351Z"
   },
   {
    "duration": 54,
    "start_time": "2021-12-24T22:52:53.363Z"
   },
   {
    "duration": 29,
    "start_time": "2021-12-24T22:52:53.419Z"
   },
   {
    "duration": 73,
    "start_time": "2021-12-24T22:52:53.451Z"
   },
   {
    "duration": 42,
    "start_time": "2021-12-24T22:52:53.526Z"
   },
   {
    "duration": 679,
    "start_time": "2021-12-24T22:52:53.570Z"
   },
   {
    "duration": 560,
    "start_time": "2021-12-24T22:52:54.252Z"
   },
   {
    "duration": 561,
    "start_time": "2021-12-24T22:52:54.814Z"
   },
   {
    "duration": 964,
    "start_time": "2021-12-24T22:52:55.377Z"
   },
   {
    "duration": 581,
    "start_time": "2021-12-24T22:52:56.343Z"
   },
   {
    "duration": 554,
    "start_time": "2021-12-24T22:52:56.927Z"
   },
   {
    "duration": 434,
    "start_time": "2021-12-24T22:52:57.483Z"
   },
   {
    "duration": 431,
    "start_time": "2021-12-24T22:52:57.919Z"
   },
   {
    "duration": 13,
    "start_time": "2021-12-24T22:52:58.353Z"
   },
   {
    "duration": 16,
    "start_time": "2021-12-24T22:52:58.368Z"
   },
   {
    "duration": 6,
    "start_time": "2021-12-24T22:52:58.386Z"
   },
   {
    "duration": 29,
    "start_time": "2021-12-24T22:52:58.394Z"
   },
   {
    "duration": 15,
    "start_time": "2021-12-24T22:52:58.425Z"
   },
   {
    "duration": 7,
    "start_time": "2021-12-24T22:52:58.442Z"
   },
   {
    "duration": 11,
    "start_time": "2021-12-24T22:52:58.451Z"
   },
   {
    "duration": 12,
    "start_time": "2021-12-24T22:52:58.465Z"
   },
   {
    "duration": 39,
    "start_time": "2021-12-24T22:52:58.479Z"
   },
   {
    "duration": 20,
    "start_time": "2021-12-24T22:52:58.521Z"
   },
   {
    "duration": 9,
    "start_time": "2021-12-24T22:53:14.782Z"
   },
   {
    "duration": 4,
    "start_time": "2021-12-24T22:53:24.790Z"
   },
   {
    "duration": 574,
    "start_time": "2021-12-24T22:53:24.798Z"
   },
   {
    "duration": 17,
    "start_time": "2021-12-24T22:53:25.375Z"
   },
   {
    "duration": 25,
    "start_time": "2021-12-24T22:53:25.395Z"
   },
   {
    "duration": 11,
    "start_time": "2021-12-24T22:53:25.423Z"
   },
   {
    "duration": 14,
    "start_time": "2021-12-24T22:53:25.437Z"
   },
   {
    "duration": 63,
    "start_time": "2021-12-24T22:53:25.454Z"
   },
   {
    "duration": 19,
    "start_time": "2021-12-24T22:53:25.520Z"
   },
   {
    "duration": 11,
    "start_time": "2021-12-24T22:53:25.541Z"
   },
   {
    "duration": 21,
    "start_time": "2021-12-24T22:53:25.554Z"
   },
   {
    "duration": 50,
    "start_time": "2021-12-24T22:53:25.577Z"
   },
   {
    "duration": 25,
    "start_time": "2021-12-24T22:53:25.629Z"
   },
   {
    "duration": 17,
    "start_time": "2021-12-24T22:53:25.656Z"
   },
   {
    "duration": 41,
    "start_time": "2021-12-24T22:53:25.675Z"
   },
   {
    "duration": 9,
    "start_time": "2021-12-24T22:53:25.719Z"
   },
   {
    "duration": 111,
    "start_time": "2021-12-24T22:53:25.730Z"
   },
   {
    "duration": 9,
    "start_time": "2021-12-24T22:53:25.844Z"
   },
   {
    "duration": 22,
    "start_time": "2021-12-24T22:53:25.855Z"
   },
   {
    "duration": 37,
    "start_time": "2021-12-24T22:53:25.882Z"
   },
   {
    "duration": 18,
    "start_time": "2021-12-24T22:53:25.922Z"
   },
   {
    "duration": 6,
    "start_time": "2021-12-24T22:53:25.942Z"
   },
   {
    "duration": 13,
    "start_time": "2021-12-24T22:53:25.950Z"
   },
   {
    "duration": 6,
    "start_time": "2021-12-24T22:53:25.966Z"
   },
   {
    "duration": 44,
    "start_time": "2021-12-24T22:53:25.974Z"
   },
   {
    "duration": 6,
    "start_time": "2021-12-24T22:53:26.021Z"
   },
   {
    "duration": 14,
    "start_time": "2021-12-24T22:53:26.030Z"
   },
   {
    "duration": 5,
    "start_time": "2021-12-24T22:53:26.047Z"
   },
   {
    "duration": 12,
    "start_time": "2021-12-24T22:53:26.054Z"
   },
   {
    "duration": 113,
    "start_time": "2021-12-24T22:53:26.069Z"
   },
   {
    "duration": 13,
    "start_time": "2021-12-24T22:53:26.184Z"
   },
   {
    "duration": 25,
    "start_time": "2021-12-24T22:53:26.200Z"
   },
   {
    "duration": 15,
    "start_time": "2021-12-24T22:53:26.227Z"
   },
   {
    "duration": 76,
    "start_time": "2021-12-24T22:53:26.244Z"
   },
   {
    "duration": 8,
    "start_time": "2021-12-24T22:53:26.322Z"
   },
   {
    "duration": 29,
    "start_time": "2021-12-24T22:53:26.333Z"
   },
   {
    "duration": 8,
    "start_time": "2021-12-24T22:53:26.365Z"
   },
   {
    "duration": 65,
    "start_time": "2021-12-24T22:53:26.375Z"
   },
   {
    "duration": 14,
    "start_time": "2021-12-24T22:53:26.442Z"
   },
   {
    "duration": 16,
    "start_time": "2021-12-24T22:53:26.458Z"
   },
   {
    "duration": 48,
    "start_time": "2021-12-24T22:53:26.476Z"
   },
   {
    "duration": 15,
    "start_time": "2021-12-24T22:53:26.526Z"
   },
   {
    "duration": 13,
    "start_time": "2021-12-24T22:53:26.543Z"
   },
   {
    "duration": 18,
    "start_time": "2021-12-24T22:53:26.559Z"
   },
   {
    "duration": 56,
    "start_time": "2021-12-24T22:53:26.579Z"
   },
   {
    "duration": 11,
    "start_time": "2021-12-24T22:53:26.637Z"
   },
   {
    "duration": 8,
    "start_time": "2021-12-24T22:53:26.650Z"
   },
   {
    "duration": 24,
    "start_time": "2021-12-24T22:53:26.660Z"
   },
   {
    "duration": 37,
    "start_time": "2021-12-24T22:53:26.686Z"
   },
   {
    "duration": 14,
    "start_time": "2021-12-24T22:53:26.725Z"
   },
   {
    "duration": 9,
    "start_time": "2021-12-24T22:53:26.742Z"
   },
   {
    "duration": 12,
    "start_time": "2021-12-24T22:53:26.753Z"
   },
   {
    "duration": 51,
    "start_time": "2021-12-24T22:53:26.768Z"
   },
   {
    "duration": 18,
    "start_time": "2021-12-24T22:53:26.821Z"
   },
   {
    "duration": 7,
    "start_time": "2021-12-24T22:53:26.842Z"
   },
   {
    "duration": 346,
    "start_time": "2021-12-24T22:53:26.859Z"
   },
   {
    "duration": 29,
    "start_time": "2021-12-24T22:53:27.208Z"
   },
   {
    "duration": 8,
    "start_time": "2021-12-24T22:53:27.240Z"
   },
   {
    "duration": 68,
    "start_time": "2021-12-24T22:53:27.251Z"
   },
   {
    "duration": 32,
    "start_time": "2021-12-24T22:53:27.322Z"
   },
   {
    "duration": 83,
    "start_time": "2021-12-24T22:53:27.356Z"
   },
   {
    "duration": 44,
    "start_time": "2021-12-24T22:53:27.442Z"
   },
   {
    "duration": 585,
    "start_time": "2021-12-24T22:53:27.488Z"
   },
   {
    "duration": 554,
    "start_time": "2021-12-24T22:53:28.076Z"
   },
   {
    "duration": 585,
    "start_time": "2021-12-24T22:53:28.632Z"
   },
   {
    "duration": 555,
    "start_time": "2021-12-24T22:53:29.219Z"
   },
   {
    "duration": 573,
    "start_time": "2021-12-24T22:53:29.776Z"
   },
   {
    "duration": 555,
    "start_time": "2021-12-24T22:53:30.352Z"
   },
   {
    "duration": 435,
    "start_time": "2021-12-24T22:53:30.909Z"
   },
   {
    "duration": 433,
    "start_time": "2021-12-24T22:53:31.347Z"
   },
   {
    "duration": 13,
    "start_time": "2021-12-24T22:53:31.782Z"
   },
   {
    "duration": 29,
    "start_time": "2021-12-24T22:53:31.797Z"
   },
   {
    "duration": 6,
    "start_time": "2021-12-24T22:53:31.829Z"
   },
   {
    "duration": 9,
    "start_time": "2021-12-24T22:53:31.837Z"
   },
   {
    "duration": 14,
    "start_time": "2021-12-24T22:53:31.848Z"
   },
   {
    "duration": 7,
    "start_time": "2021-12-24T22:53:31.865Z"
   },
   {
    "duration": 42,
    "start_time": "2021-12-24T22:53:31.875Z"
   },
   {
    "duration": 10,
    "start_time": "2021-12-24T22:53:31.919Z"
   },
   {
    "duration": 22,
    "start_time": "2021-12-24T22:53:31.931Z"
   },
   {
    "duration": 9,
    "start_time": "2021-12-24T22:53:40.653Z"
   },
   {
    "duration": 4,
    "start_time": "2021-12-24T22:53:47.413Z"
   },
   {
    "duration": 553,
    "start_time": "2021-12-24T22:53:47.421Z"
   },
   {
    "duration": 16,
    "start_time": "2021-12-24T22:53:47.977Z"
   },
   {
    "duration": 10,
    "start_time": "2021-12-24T22:53:47.995Z"
   },
   {
    "duration": 19,
    "start_time": "2021-12-24T22:53:48.007Z"
   },
   {
    "duration": 11,
    "start_time": "2021-12-24T22:53:48.029Z"
   },
   {
    "duration": 26,
    "start_time": "2021-12-24T22:53:48.044Z"
   },
   {
    "duration": 57,
    "start_time": "2021-12-24T22:53:48.073Z"
   },
   {
    "duration": 10,
    "start_time": "2021-12-24T22:53:48.132Z"
   },
   {
    "duration": 19,
    "start_time": "2021-12-24T22:53:48.144Z"
   },
   {
    "duration": 12,
    "start_time": "2021-12-24T22:53:48.166Z"
   },
   {
    "duration": 57,
    "start_time": "2021-12-24T22:53:48.180Z"
   },
   {
    "duration": 17,
    "start_time": "2021-12-24T22:53:48.240Z"
   },
   {
    "duration": 12,
    "start_time": "2021-12-24T22:53:48.259Z"
   },
   {
    "duration": 45,
    "start_time": "2021-12-24T22:53:48.273Z"
   },
   {
    "duration": 101,
    "start_time": "2021-12-24T22:53:48.320Z"
   },
   {
    "duration": 9,
    "start_time": "2021-12-24T22:53:48.423Z"
   },
   {
    "duration": 22,
    "start_time": "2021-12-24T22:53:48.434Z"
   },
   {
    "duration": 14,
    "start_time": "2021-12-24T22:53:48.461Z"
   },
   {
    "duration": 49,
    "start_time": "2021-12-24T22:53:48.479Z"
   },
   {
    "duration": 7,
    "start_time": "2021-12-24T22:53:48.531Z"
   },
   {
    "duration": 14,
    "start_time": "2021-12-24T22:53:48.540Z"
   },
   {
    "duration": 6,
    "start_time": "2021-12-24T22:53:48.557Z"
   },
   {
    "duration": 52,
    "start_time": "2021-12-24T22:53:48.566Z"
   },
   {
    "duration": 8,
    "start_time": "2021-12-24T22:53:48.621Z"
   },
   {
    "duration": 17,
    "start_time": "2021-12-24T22:53:48.632Z"
   },
   {
    "duration": 7,
    "start_time": "2021-12-24T22:53:48.652Z"
   },
   {
    "duration": 15,
    "start_time": "2021-12-24T22:53:48.661Z"
   },
   {
    "duration": 107,
    "start_time": "2021-12-24T22:53:48.679Z"
   },
   {
    "duration": 34,
    "start_time": "2021-12-24T22:53:48.789Z"
   },
   {
    "duration": 15,
    "start_time": "2021-12-24T22:53:48.826Z"
   },
   {
    "duration": 14,
    "start_time": "2021-12-24T22:53:48.844Z"
   },
   {
    "duration": 91,
    "start_time": "2021-12-24T22:53:48.861Z"
   },
   {
    "duration": 9,
    "start_time": "2021-12-24T22:53:48.955Z"
   },
   {
    "duration": 57,
    "start_time": "2021-12-24T22:53:48.967Z"
   },
   {
    "duration": 8,
    "start_time": "2021-12-24T22:53:49.027Z"
   },
   {
    "duration": 28,
    "start_time": "2021-12-24T22:53:49.038Z"
   },
   {
    "duration": 14,
    "start_time": "2021-12-24T22:53:49.068Z"
   },
   {
    "duration": 8,
    "start_time": "2021-12-24T22:53:49.117Z"
   },
   {
    "duration": 20,
    "start_time": "2021-12-24T22:53:49.127Z"
   },
   {
    "duration": 18,
    "start_time": "2021-12-24T22:53:49.149Z"
   },
   {
    "duration": 53,
    "start_time": "2021-12-24T22:53:49.170Z"
   },
   {
    "duration": 19,
    "start_time": "2021-12-24T22:53:49.226Z"
   },
   {
    "duration": 25,
    "start_time": "2021-12-24T22:53:49.247Z"
   },
   {
    "duration": 52,
    "start_time": "2021-12-24T22:53:49.275Z"
   },
   {
    "duration": 8,
    "start_time": "2021-12-24T22:53:49.330Z"
   },
   {
    "duration": 19,
    "start_time": "2021-12-24T22:53:49.341Z"
   },
   {
    "duration": 9,
    "start_time": "2021-12-24T22:53:49.362Z"
   },
   {
    "duration": 45,
    "start_time": "2021-12-24T22:53:49.373Z"
   },
   {
    "duration": 11,
    "start_time": "2021-12-24T22:53:49.420Z"
   },
   {
    "duration": 11,
    "start_time": "2021-12-24T22:53:49.433Z"
   },
   {
    "duration": 19,
    "start_time": "2021-12-24T22:53:49.447Z"
   },
   {
    "duration": 57,
    "start_time": "2021-12-24T22:53:49.469Z"
   },
   {
    "duration": 5,
    "start_time": "2021-12-24T22:53:49.528Z"
   },
   {
    "duration": 329,
    "start_time": "2021-12-24T22:53:49.540Z"
   },
   {
    "duration": 21,
    "start_time": "2021-12-24T22:53:49.872Z"
   },
   {
    "duration": 22,
    "start_time": "2021-12-24T22:53:49.896Z"
   },
   {
    "duration": 28,
    "start_time": "2021-12-24T22:53:49.920Z"
   },
   {
    "duration": 28,
    "start_time": "2021-12-24T22:53:49.951Z"
   },
   {
    "duration": 73,
    "start_time": "2021-12-24T22:53:49.981Z"
   },
   {
    "duration": 77,
    "start_time": "2021-12-24T22:53:50.057Z"
   },
   {
    "duration": 575,
    "start_time": "2021-12-24T22:53:50.136Z"
   },
   {
    "duration": 574,
    "start_time": "2021-12-24T22:53:50.713Z"
   },
   {
    "duration": 569,
    "start_time": "2021-12-24T22:53:51.289Z"
   },
   {
    "duration": 567,
    "start_time": "2021-12-24T22:53:51.860Z"
   },
   {
    "duration": 583,
    "start_time": "2021-12-24T22:53:52.429Z"
   },
   {
    "duration": 543,
    "start_time": "2021-12-24T22:53:53.016Z"
   },
   {
    "duration": 927,
    "start_time": "2021-12-24T22:53:53.561Z"
   },
   {
    "duration": 417,
    "start_time": "2021-12-24T22:53:54.491Z"
   },
   {
    "duration": 19,
    "start_time": "2021-12-24T22:53:54.911Z"
   },
   {
    "duration": 15,
    "start_time": "2021-12-24T22:53:54.932Z"
   },
   {
    "duration": 6,
    "start_time": "2021-12-24T22:53:54.949Z"
   },
   {
    "duration": 13,
    "start_time": "2021-12-24T22:53:54.957Z"
   },
   {
    "duration": 44,
    "start_time": "2021-12-24T22:53:54.973Z"
   },
   {
    "duration": 8,
    "start_time": "2021-12-24T22:53:55.020Z"
   },
   {
    "duration": 8,
    "start_time": "2021-12-24T22:53:55.030Z"
   },
   {
    "duration": 10,
    "start_time": "2021-12-24T22:53:55.041Z"
   },
   {
    "duration": 19,
    "start_time": "2021-12-24T22:53:55.053Z"
   },
   {
    "duration": 7,
    "start_time": "2021-12-24T22:54:23.438Z"
   },
   {
    "duration": 5,
    "start_time": "2021-12-24T22:55:01.710Z"
   },
   {
    "duration": 576,
    "start_time": "2021-12-24T22:55:01.717Z"
   },
   {
    "duration": 15,
    "start_time": "2021-12-24T22:55:02.296Z"
   },
   {
    "duration": 9,
    "start_time": "2021-12-24T22:55:02.317Z"
   },
   {
    "duration": 16,
    "start_time": "2021-12-24T22:55:02.329Z"
   },
   {
    "duration": 14,
    "start_time": "2021-12-24T22:55:02.348Z"
   },
   {
    "duration": 52,
    "start_time": "2021-12-24T22:55:02.365Z"
   },
   {
    "duration": 19,
    "start_time": "2021-12-24T22:55:02.420Z"
   },
   {
    "duration": 12,
    "start_time": "2021-12-24T22:55:02.441Z"
   },
   {
    "duration": 29,
    "start_time": "2021-12-24T22:55:02.455Z"
   },
   {
    "duration": 42,
    "start_time": "2021-12-24T22:55:02.486Z"
   },
   {
    "duration": 27,
    "start_time": "2021-12-24T22:55:02.531Z"
   },
   {
    "duration": 16,
    "start_time": "2021-12-24T22:55:02.561Z"
   },
   {
    "duration": 39,
    "start_time": "2021-12-24T22:55:02.579Z"
   },
   {
    "duration": 9,
    "start_time": "2021-12-24T22:55:02.621Z"
   },
   {
    "duration": 109,
    "start_time": "2021-12-24T22:55:02.632Z"
   },
   {
    "duration": 10,
    "start_time": "2021-12-24T22:55:02.744Z"
   },
   {
    "duration": 24,
    "start_time": "2021-12-24T22:55:02.757Z"
   },
   {
    "duration": 41,
    "start_time": "2021-12-24T22:55:02.788Z"
   },
   {
    "duration": 17,
    "start_time": "2021-12-24T22:55:02.832Z"
   },
   {
    "duration": 6,
    "start_time": "2021-12-24T22:55:02.851Z"
   },
   {
    "duration": 15,
    "start_time": "2021-12-24T22:55:02.859Z"
   },
   {
    "duration": 5,
    "start_time": "2021-12-24T22:55:02.917Z"
   },
   {
    "duration": 10,
    "start_time": "2021-12-24T22:55:02.925Z"
   },
   {
    "duration": 8,
    "start_time": "2021-12-24T22:55:02.937Z"
   },
   {
    "duration": 13,
    "start_time": "2021-12-24T22:55:02.947Z"
   },
   {
    "duration": 6,
    "start_time": "2021-12-24T22:55:02.962Z"
   },
   {
    "duration": 48,
    "start_time": "2021-12-24T22:55:02.971Z"
   },
   {
    "duration": 73,
    "start_time": "2021-12-24T22:55:03.021Z"
   },
   {
    "duration": 24,
    "start_time": "2021-12-24T22:55:03.096Z"
   },
   {
    "duration": 18,
    "start_time": "2021-12-24T22:55:03.123Z"
   },
   {
    "duration": 16,
    "start_time": "2021-12-24T22:55:03.143Z"
   },
   {
    "duration": 72,
    "start_time": "2021-12-24T22:55:03.161Z"
   },
   {
    "duration": 8,
    "start_time": "2021-12-24T22:55:03.235Z"
   },
   {
    "duration": 32,
    "start_time": "2021-12-24T22:55:03.245Z"
   },
   {
    "duration": 8,
    "start_time": "2021-12-24T22:55:03.280Z"
   },
   {
    "duration": 28,
    "start_time": "2021-12-24T22:55:03.318Z"
   },
   {
    "duration": 14,
    "start_time": "2021-12-24T22:55:03.349Z"
   },
   {
    "duration": 12,
    "start_time": "2021-12-24T22:55:03.365Z"
   },
   {
    "duration": 56,
    "start_time": "2021-12-24T22:55:03.379Z"
   },
   {
    "duration": 15,
    "start_time": "2021-12-24T22:55:03.437Z"
   },
   {
    "duration": 12,
    "start_time": "2021-12-24T22:55:03.455Z"
   },
   {
    "duration": 48,
    "start_time": "2021-12-24T22:55:03.470Z"
   },
   {
    "duration": 23,
    "start_time": "2021-12-24T22:55:03.520Z"
   },
   {
    "duration": 11,
    "start_time": "2021-12-24T22:55:03.545Z"
   },
   {
    "duration": 8,
    "start_time": "2021-12-24T22:55:03.559Z"
   },
   {
    "duration": 60,
    "start_time": "2021-12-24T22:55:03.569Z"
   },
   {
    "duration": 11,
    "start_time": "2021-12-24T22:55:03.632Z"
   },
   {
    "duration": 20,
    "start_time": "2021-12-24T22:55:03.645Z"
   },
   {
    "duration": 10,
    "start_time": "2021-12-24T22:55:03.668Z"
   },
   {
    "duration": 14,
    "start_time": "2021-12-24T22:55:03.680Z"
   },
   {
    "duration": 36,
    "start_time": "2021-12-24T22:55:03.697Z"
   },
   {
    "duration": 13,
    "start_time": "2021-12-24T22:55:03.736Z"
   },
   {
    "duration": 19,
    "start_time": "2021-12-24T22:55:03.752Z"
   },
   {
    "duration": 339,
    "start_time": "2021-12-24T22:55:03.778Z"
   },
   {
    "duration": 25,
    "start_time": "2021-12-24T22:55:04.119Z"
   },
   {
    "duration": 7,
    "start_time": "2021-12-24T22:55:04.146Z"
   },
   {
    "duration": 61,
    "start_time": "2021-12-24T22:55:04.156Z"
   },
   {
    "duration": 32,
    "start_time": "2021-12-24T22:55:04.220Z"
   },
   {
    "duration": 75,
    "start_time": "2021-12-24T22:55:04.256Z"
   },
   {
    "duration": 44,
    "start_time": "2021-12-24T22:55:04.334Z"
   },
   {
    "duration": 610,
    "start_time": "2021-12-24T22:55:04.381Z"
   },
   {
    "duration": 552,
    "start_time": "2021-12-24T22:55:04.993Z"
   },
   {
    "duration": 572,
    "start_time": "2021-12-24T22:55:05.548Z"
   },
   {
    "duration": 550,
    "start_time": "2021-12-24T22:55:06.123Z"
   },
   {
    "duration": 566,
    "start_time": "2021-12-24T22:55:06.675Z"
   },
   {
    "duration": 546,
    "start_time": "2021-12-24T22:55:07.243Z"
   },
   {
    "duration": 425,
    "start_time": "2021-12-24T22:55:07.792Z"
   },
   {
    "duration": 429,
    "start_time": "2021-12-24T22:55:08.219Z"
   },
   {
    "duration": 14,
    "start_time": "2021-12-24T22:55:08.650Z"
   },
   {
    "duration": 13,
    "start_time": "2021-12-24T22:55:08.666Z"
   },
   {
    "duration": 6,
    "start_time": "2021-12-24T22:55:08.682Z"
   },
   {
    "duration": 5,
    "start_time": "2021-12-24T22:55:08.718Z"
   },
   {
    "duration": 15,
    "start_time": "2021-12-24T22:55:08.725Z"
   },
   {
    "duration": 7,
    "start_time": "2021-12-24T22:55:08.742Z"
   },
   {
    "duration": 9,
    "start_time": "2021-12-24T22:55:08.751Z"
   },
   {
    "duration": 6,
    "start_time": "2021-12-24T22:55:08.762Z"
   },
   {
    "duration": 60,
    "start_time": "2021-12-24T22:55:08.770Z"
   },
   {
    "duration": 320,
    "start_time": "2021-12-24T22:56:04.111Z"
   },
   {
    "duration": 17,
    "start_time": "2021-12-24T22:56:11.288Z"
   },
   {
    "duration": 22,
    "start_time": "2021-12-24T22:56:21.400Z"
   },
   {
    "duration": 22,
    "start_time": "2021-12-24T22:56:28.776Z"
   },
   {
    "duration": 4,
    "start_time": "2021-12-24T23:01:11.017Z"
   },
   {
    "duration": 6,
    "start_time": "2021-12-24T23:01:20.167Z"
   },
   {
    "duration": 6,
    "start_time": "2021-12-24T23:02:00.671Z"
   },
   {
    "duration": 3,
    "start_time": "2021-12-24T23:02:46.496Z"
   },
   {
    "duration": 15,
    "start_time": "2021-12-24T23:04:33.175Z"
   },
   {
    "duration": 7,
    "start_time": "2021-12-24T23:05:16.737Z"
   },
   {
    "duration": 4,
    "start_time": "2021-12-24T23:05:25.198Z"
   },
   {
    "duration": 554,
    "start_time": "2021-12-24T23:05:25.205Z"
   },
   {
    "duration": 15,
    "start_time": "2021-12-24T23:05:25.762Z"
   },
   {
    "duration": 12,
    "start_time": "2021-12-24T23:05:25.780Z"
   },
   {
    "duration": 24,
    "start_time": "2021-12-24T23:05:25.795Z"
   },
   {
    "duration": 13,
    "start_time": "2021-12-24T23:05:25.822Z"
   },
   {
    "duration": 27,
    "start_time": "2021-12-24T23:05:25.839Z"
   },
   {
    "duration": 49,
    "start_time": "2021-12-24T23:05:25.869Z"
   },
   {
    "duration": 11,
    "start_time": "2021-12-24T23:05:25.921Z"
   },
   {
    "duration": 28,
    "start_time": "2021-12-24T23:05:25.934Z"
   },
   {
    "duration": 25,
    "start_time": "2021-12-24T23:05:25.964Z"
   },
   {
    "duration": 43,
    "start_time": "2021-12-24T23:05:25.991Z"
   },
   {
    "duration": 16,
    "start_time": "2021-12-24T23:05:26.036Z"
   },
   {
    "duration": 23,
    "start_time": "2021-12-24T23:05:26.054Z"
   },
   {
    "duration": 11,
    "start_time": "2021-12-24T23:05:26.079Z"
   },
   {
    "duration": 109,
    "start_time": "2021-12-24T23:05:26.092Z"
   },
   {
    "duration": 21,
    "start_time": "2021-12-24T23:05:26.203Z"
   },
   {
    "duration": 20,
    "start_time": "2021-12-24T23:05:26.227Z"
   },
   {
    "duration": 13,
    "start_time": "2021-12-24T23:05:26.253Z"
   },
   {
    "duration": 54,
    "start_time": "2021-12-24T23:05:26.270Z"
   },
   {
    "duration": 6,
    "start_time": "2021-12-24T23:05:26.326Z"
   },
   {
    "duration": 12,
    "start_time": "2021-12-24T23:05:26.334Z"
   },
   {
    "duration": 7,
    "start_time": "2021-12-24T23:05:26.348Z"
   },
   {
    "duration": 5,
    "start_time": "2021-12-24T23:05:26.357Z"
   },
   {
    "duration": 6,
    "start_time": "2021-12-24T23:05:26.365Z"
   },
   {
    "duration": 52,
    "start_time": "2021-12-24T23:05:26.374Z"
   },
   {
    "duration": 4,
    "start_time": "2021-12-24T23:05:26.429Z"
   },
   {
    "duration": 13,
    "start_time": "2021-12-24T23:05:26.436Z"
   },
   {
    "duration": 105,
    "start_time": "2021-12-24T23:05:26.452Z"
   },
   {
    "duration": 12,
    "start_time": "2021-12-24T23:05:26.559Z"
   },
   {
    "duration": 12,
    "start_time": "2021-12-24T23:05:26.574Z"
   },
   {
    "duration": 36,
    "start_time": "2021-12-24T23:05:26.588Z"
   },
   {
    "duration": 48,
    "start_time": "2021-12-24T23:05:26.627Z"
   },
   {
    "duration": 7,
    "start_time": "2021-12-24T23:05:26.678Z"
   },
   {
    "duration": 56,
    "start_time": "2021-12-24T23:05:26.688Z"
   },
   {
    "duration": 8,
    "start_time": "2021-12-24T23:05:26.746Z"
   },
   {
    "duration": 29,
    "start_time": "2021-12-24T23:05:26.756Z"
   },
   {
    "duration": 16,
    "start_time": "2021-12-24T23:05:26.818Z"
   },
   {
    "duration": 11,
    "start_time": "2021-12-24T23:05:26.836Z"
   },
   {
    "duration": 24,
    "start_time": "2021-12-24T23:05:26.849Z"
   },
   {
    "duration": 47,
    "start_time": "2021-12-24T23:05:26.883Z"
   },
   {
    "duration": 18,
    "start_time": "2021-12-24T23:05:26.932Z"
   },
   {
    "duration": 22,
    "start_time": "2021-12-24T23:05:26.953Z"
   },
   {
    "duration": 55,
    "start_time": "2021-12-24T23:05:26.978Z"
   },
   {
    "duration": 10,
    "start_time": "2021-12-24T23:05:27.035Z"
   },
   {
    "duration": 7,
    "start_time": "2021-12-24T23:05:27.048Z"
   },
   {
    "duration": 17,
    "start_time": "2021-12-24T23:05:27.057Z"
   },
   {
    "duration": 46,
    "start_time": "2021-12-24T23:05:27.076Z"
   },
   {
    "duration": 10,
    "start_time": "2021-12-24T23:05:27.124Z"
   },
   {
    "duration": 9,
    "start_time": "2021-12-24T23:05:27.136Z"
   },
   {
    "duration": 10,
    "start_time": "2021-12-24T23:05:27.147Z"
   },
   {
    "duration": 21,
    "start_time": "2021-12-24T23:05:27.159Z"
   },
   {
    "duration": 12,
    "start_time": "2021-12-24T23:05:27.218Z"
   },
   {
    "duration": 5,
    "start_time": "2021-12-24T23:05:27.232Z"
   },
   {
    "duration": 338,
    "start_time": "2021-12-24T23:05:27.244Z"
   },
   {
    "duration": 32,
    "start_time": "2021-12-24T23:05:27.585Z"
   },
   {
    "duration": 8,
    "start_time": "2021-12-24T23:05:27.619Z"
   },
   {
    "duration": 30,
    "start_time": "2021-12-24T23:05:27.630Z"
   },
   {
    "duration": 59,
    "start_time": "2021-12-24T23:05:27.663Z"
   },
   {
    "duration": 46,
    "start_time": "2021-12-24T23:05:27.724Z"
   },
   {
    "duration": 72,
    "start_time": "2021-12-24T23:05:27.772Z"
   },
   {
    "duration": 578,
    "start_time": "2021-12-24T23:05:27.846Z"
   },
   {
    "duration": 546,
    "start_time": "2021-12-24T23:05:28.426Z"
   },
   {
    "duration": 562,
    "start_time": "2021-12-24T23:05:28.975Z"
   },
   {
    "duration": 562,
    "start_time": "2021-12-24T23:05:29.539Z"
   },
   {
    "duration": 576,
    "start_time": "2021-12-24T23:05:30.103Z"
   },
   {
    "duration": 563,
    "start_time": "2021-12-24T23:05:30.682Z"
   },
   {
    "duration": 440,
    "start_time": "2021-12-24T23:05:31.247Z"
   },
   {
    "duration": 433,
    "start_time": "2021-12-24T23:05:31.689Z"
   },
   {
    "duration": 15,
    "start_time": "2021-12-24T23:05:32.124Z"
   },
   {
    "duration": 15,
    "start_time": "2021-12-24T23:05:32.141Z"
   },
   {
    "duration": 6,
    "start_time": "2021-12-24T23:05:32.158Z"
   },
   {
    "duration": 9,
    "start_time": "2021-12-24T23:05:32.166Z"
   },
   {
    "duration": 48,
    "start_time": "2021-12-24T23:05:32.177Z"
   },
   {
    "duration": 6,
    "start_time": "2021-12-24T23:05:32.228Z"
   },
   {
    "duration": 8,
    "start_time": "2021-12-24T23:05:32.237Z"
   },
   {
    "duration": 6,
    "start_time": "2021-12-24T23:05:32.248Z"
   },
   {
    "duration": 13,
    "start_time": "2021-12-24T23:05:32.256Z"
   },
   {
    "duration": 5,
    "start_time": "2021-12-24T23:05:32.271Z"
   },
   {
    "duration": 48,
    "start_time": "2021-12-24T23:05:32.278Z"
   },
   {
    "duration": 5,
    "start_time": "2021-12-24T23:05:32.329Z"
   },
   {
    "duration": 20,
    "start_time": "2021-12-24T23:06:25.368Z"
   },
   {
    "duration": 6,
    "start_time": "2021-12-24T23:06:26.905Z"
   },
   {
    "duration": 4,
    "start_time": "2021-12-24T23:06:33.119Z"
   },
   {
    "duration": 553,
    "start_time": "2021-12-24T23:06:33.125Z"
   },
   {
    "duration": 15,
    "start_time": "2021-12-24T23:06:33.682Z"
   },
   {
    "duration": 17,
    "start_time": "2021-12-24T23:06:33.700Z"
   },
   {
    "duration": 10,
    "start_time": "2021-12-24T23:06:33.720Z"
   },
   {
    "duration": 12,
    "start_time": "2021-12-24T23:06:33.733Z"
   },
   {
    "duration": 27,
    "start_time": "2021-12-24T23:06:33.748Z"
   },
   {
    "duration": 52,
    "start_time": "2021-12-24T23:06:33.778Z"
   },
   {
    "duration": 10,
    "start_time": "2021-12-24T23:06:33.833Z"
   },
   {
    "duration": 25,
    "start_time": "2021-12-24T23:06:33.845Z"
   },
   {
    "duration": 12,
    "start_time": "2021-12-24T23:06:33.872Z"
   },
   {
    "duration": 27,
    "start_time": "2021-12-24T23:06:33.917Z"
   },
   {
    "duration": 16,
    "start_time": "2021-12-24T23:06:33.947Z"
   },
   {
    "duration": 11,
    "start_time": "2021-12-24T23:06:33.965Z"
   },
   {
    "duration": 39,
    "start_time": "2021-12-24T23:06:33.978Z"
   },
   {
    "duration": 105,
    "start_time": "2021-12-24T23:06:34.020Z"
   },
   {
    "duration": 10,
    "start_time": "2021-12-24T23:06:34.127Z"
   },
   {
    "duration": 27,
    "start_time": "2021-12-24T23:06:34.139Z"
   },
   {
    "duration": 15,
    "start_time": "2021-12-24T23:06:34.171Z"
   },
   {
    "duration": 17,
    "start_time": "2021-12-24T23:06:34.216Z"
   },
   {
    "duration": 5,
    "start_time": "2021-12-24T23:06:34.236Z"
   },
   {
    "duration": 14,
    "start_time": "2021-12-24T23:06:34.243Z"
   },
   {
    "duration": 8,
    "start_time": "2021-12-24T23:06:34.259Z"
   },
   {
    "duration": 6,
    "start_time": "2021-12-24T23:06:34.269Z"
   },
   {
    "duration": 6,
    "start_time": "2021-12-24T23:06:34.317Z"
   },
   {
    "duration": 16,
    "start_time": "2021-12-24T23:06:34.326Z"
   },
   {
    "duration": 5,
    "start_time": "2021-12-24T23:06:34.344Z"
   },
   {
    "duration": 13,
    "start_time": "2021-12-24T23:06:34.351Z"
   },
   {
    "duration": 108,
    "start_time": "2021-12-24T23:06:34.366Z"
   },
   {
    "duration": 11,
    "start_time": "2021-12-24T23:06:34.476Z"
   },
   {
    "duration": 28,
    "start_time": "2021-12-24T23:06:34.490Z"
   },
   {
    "duration": 13,
    "start_time": "2021-12-24T23:06:34.520Z"
   },
   {
    "duration": 50,
    "start_time": "2021-12-24T23:06:34.535Z"
   },
   {
    "duration": 36,
    "start_time": "2021-12-24T23:06:34.587Z"
   },
   {
    "duration": 30,
    "start_time": "2021-12-24T23:06:34.626Z"
   },
   {
    "duration": 7,
    "start_time": "2021-12-24T23:06:34.659Z"
   },
   {
    "duration": 66,
    "start_time": "2021-12-24T23:06:34.668Z"
   },
   {
    "duration": 14,
    "start_time": "2021-12-24T23:06:34.737Z"
   },
   {
    "duration": 8,
    "start_time": "2021-12-24T23:06:34.754Z"
   },
   {
    "duration": 18,
    "start_time": "2021-12-24T23:06:34.765Z"
   },
   {
    "duration": 48,
    "start_time": "2021-12-24T23:06:34.786Z"
   },
   {
    "duration": 13,
    "start_time": "2021-12-24T23:06:34.836Z"
   },
   {
    "duration": 19,
    "start_time": "2021-12-24T23:06:34.851Z"
   },
   {
    "duration": 52,
    "start_time": "2021-12-24T23:06:34.872Z"
   },
   {
    "duration": 14,
    "start_time": "2021-12-24T23:06:34.926Z"
   },
   {
    "duration": 8,
    "start_time": "2021-12-24T23:06:34.943Z"
   },
   {
    "duration": 19,
    "start_time": "2021-12-24T23:06:34.953Z"
   },
   {
    "duration": 49,
    "start_time": "2021-12-24T23:06:34.975Z"
   },
   {
    "duration": 7,
    "start_time": "2021-12-24T23:06:35.027Z"
   },
   {
    "duration": 11,
    "start_time": "2021-12-24T23:06:35.037Z"
   },
   {
    "duration": 9,
    "start_time": "2021-12-24T23:06:35.051Z"
   },
   {
    "duration": 56,
    "start_time": "2021-12-24T23:06:35.063Z"
   },
   {
    "duration": 12,
    "start_time": "2021-12-24T23:06:35.121Z"
   },
   {
    "duration": 5,
    "start_time": "2021-12-24T23:06:35.136Z"
   },
   {
    "duration": 355,
    "start_time": "2021-12-24T23:06:35.148Z"
   },
   {
    "duration": 26,
    "start_time": "2021-12-24T23:06:35.506Z"
   },
   {
    "duration": 8,
    "start_time": "2021-12-24T23:06:35.534Z"
   },
   {
    "duration": 37,
    "start_time": "2021-12-24T23:06:35.544Z"
   },
   {
    "duration": 55,
    "start_time": "2021-12-24T23:06:35.584Z"
   },
   {
    "duration": 42,
    "start_time": "2021-12-24T23:06:35.641Z"
   },
   {
    "duration": 71,
    "start_time": "2021-12-24T23:06:35.685Z"
   },
   {
    "duration": 575,
    "start_time": "2021-12-24T23:06:35.758Z"
   },
   {
    "duration": 558,
    "start_time": "2021-12-24T23:06:36.336Z"
   },
   {
    "duration": 574,
    "start_time": "2021-12-24T23:06:36.896Z"
   },
   {
    "duration": 555,
    "start_time": "2021-12-24T23:06:37.473Z"
   },
   {
    "duration": 1188,
    "start_time": "2021-12-24T23:06:38.030Z"
   },
   {
    "duration": 548,
    "start_time": "2021-12-24T23:06:39.220Z"
   },
   {
    "duration": 428,
    "start_time": "2021-12-24T23:06:39.771Z"
   },
   {
    "duration": 437,
    "start_time": "2021-12-24T23:06:40.202Z"
   },
   {
    "duration": 16,
    "start_time": "2021-12-24T23:06:40.642Z"
   },
   {
    "duration": 13,
    "start_time": "2021-12-24T23:06:40.661Z"
   },
   {
    "duration": 5,
    "start_time": "2021-12-24T23:06:40.677Z"
   },
   {
    "duration": 35,
    "start_time": "2021-12-24T23:06:40.684Z"
   },
   {
    "duration": 17,
    "start_time": "2021-12-24T23:06:40.721Z"
   },
   {
    "duration": 6,
    "start_time": "2021-12-24T23:06:40.741Z"
   },
   {
    "duration": 10,
    "start_time": "2021-12-24T23:06:40.750Z"
   },
   {
    "duration": 10,
    "start_time": "2021-12-24T23:06:40.762Z"
   },
   {
    "duration": 44,
    "start_time": "2021-12-24T23:06:40.775Z"
   },
   {
    "duration": 6,
    "start_time": "2021-12-24T23:06:40.821Z"
   },
   {
    "duration": 20,
    "start_time": "2021-12-24T23:06:40.830Z"
   },
   {
    "duration": 6,
    "start_time": "2021-12-24T23:06:40.852Z"
   },
   {
    "duration": 15,
    "start_time": "2021-12-24T23:07:32.153Z"
   },
   {
    "duration": 8,
    "start_time": "2021-12-24T23:07:33.933Z"
   },
   {
    "duration": 7,
    "start_time": "2021-12-24T23:08:26.928Z"
   },
   {
    "duration": 21,
    "start_time": "2021-12-24T23:09:46.712Z"
   },
   {
    "duration": 20,
    "start_time": "2021-12-24T23:09:58.481Z"
   },
   {
    "duration": 21,
    "start_time": "2021-12-24T23:10:43.025Z"
   },
   {
    "duration": 20,
    "start_time": "2021-12-24T23:11:05.499Z"
   },
   {
    "duration": 21,
    "start_time": "2021-12-24T23:11:10.704Z"
   },
   {
    "duration": 22,
    "start_time": "2021-12-24T23:11:14.604Z"
   },
   {
    "duration": 28,
    "start_time": "2021-12-24T23:11:24.665Z"
   },
   {
    "duration": 25,
    "start_time": "2021-12-24T23:11:31.618Z"
   },
   {
    "duration": 25,
    "start_time": "2021-12-24T23:12:21.877Z"
   },
   {
    "duration": 3,
    "start_time": "2021-12-24T23:35:27.276Z"
   },
   {
    "duration": 566,
    "start_time": "2021-12-24T23:35:27.286Z"
   },
   {
    "duration": 16,
    "start_time": "2021-12-24T23:35:27.854Z"
   },
   {
    "duration": 9,
    "start_time": "2021-12-24T23:35:27.873Z"
   },
   {
    "duration": 10,
    "start_time": "2021-12-24T23:35:27.884Z"
   },
   {
    "duration": 28,
    "start_time": "2021-12-24T23:35:27.897Z"
   },
   {
    "duration": 27,
    "start_time": "2021-12-24T23:35:27.928Z"
   },
   {
    "duration": 19,
    "start_time": "2021-12-24T23:35:27.957Z"
   },
   {
    "duration": 44,
    "start_time": "2021-12-24T23:35:27.979Z"
   },
   {
    "duration": 19,
    "start_time": "2021-12-24T23:35:28.026Z"
   },
   {
    "duration": 13,
    "start_time": "2021-12-24T23:35:28.047Z"
   },
   {
    "duration": 55,
    "start_time": "2021-12-24T23:35:28.062Z"
   },
   {
    "duration": 18,
    "start_time": "2021-12-24T23:35:28.119Z"
   },
   {
    "duration": 11,
    "start_time": "2021-12-24T23:35:28.139Z"
   },
   {
    "duration": 9,
    "start_time": "2021-12-24T23:35:28.153Z"
   },
   {
    "duration": 126,
    "start_time": "2021-12-24T23:35:28.165Z"
   },
   {
    "duration": 10,
    "start_time": "2021-12-24T23:35:28.293Z"
   },
   {
    "duration": 29,
    "start_time": "2021-12-24T23:35:28.305Z"
   },
   {
    "duration": 14,
    "start_time": "2021-12-24T23:35:28.337Z"
   },
   {
    "duration": 17,
    "start_time": "2021-12-24T23:35:28.353Z"
   },
   {
    "duration": 46,
    "start_time": "2021-12-24T23:35:28.373Z"
   },
   {
    "duration": 12,
    "start_time": "2021-12-24T23:35:28.421Z"
   },
   {
    "duration": 5,
    "start_time": "2021-12-24T23:35:28.436Z"
   },
   {
    "duration": 5,
    "start_time": "2021-12-24T23:35:28.447Z"
   },
   {
    "duration": 6,
    "start_time": "2021-12-24T23:35:28.457Z"
   },
   {
    "duration": 54,
    "start_time": "2021-12-24T23:35:28.465Z"
   },
   {
    "duration": 5,
    "start_time": "2021-12-24T23:35:28.521Z"
   },
   {
    "duration": 14,
    "start_time": "2021-12-24T23:35:28.528Z"
   },
   {
    "duration": 96,
    "start_time": "2021-12-24T23:35:28.544Z"
   },
   {
    "duration": 11,
    "start_time": "2021-12-24T23:35:28.642Z"
   },
   {
    "duration": 14,
    "start_time": "2021-12-24T23:35:28.656Z"
   },
   {
    "duration": 13,
    "start_time": "2021-12-24T23:35:28.673Z"
   },
   {
    "duration": 76,
    "start_time": "2021-12-24T23:35:28.688Z"
   },
   {
    "duration": 7,
    "start_time": "2021-12-24T23:35:28.766Z"
   },
   {
    "duration": 55,
    "start_time": "2021-12-24T23:35:28.775Z"
   },
   {
    "duration": 7,
    "start_time": "2021-12-24T23:35:28.832Z"
   },
   {
    "duration": 34,
    "start_time": "2021-12-24T23:35:28.841Z"
   },
   {
    "duration": 42,
    "start_time": "2021-12-24T23:35:28.877Z"
   },
   {
    "duration": 8,
    "start_time": "2021-12-24T23:35:28.921Z"
   },
   {
    "duration": 19,
    "start_time": "2021-12-24T23:35:28.932Z"
   },
   {
    "duration": 15,
    "start_time": "2021-12-24T23:35:28.954Z"
   },
   {
    "duration": 50,
    "start_time": "2021-12-24T23:35:28.971Z"
   },
   {
    "duration": 17,
    "start_time": "2021-12-24T23:35:29.023Z"
   },
   {
    "duration": 22,
    "start_time": "2021-12-24T23:35:29.042Z"
   },
   {
    "duration": 12,
    "start_time": "2021-12-24T23:35:29.067Z"
   },
   {
    "duration": 8,
    "start_time": "2021-12-24T23:35:29.117Z"
   },
   {
    "duration": 21,
    "start_time": "2021-12-24T23:35:29.127Z"
   },
   {
    "duration": 10,
    "start_time": "2021-12-24T23:35:29.150Z"
   },
   {
    "duration": 14,
    "start_time": "2021-12-24T23:35:29.162Z"
   },
   {
    "duration": 9,
    "start_time": "2021-12-24T23:35:29.178Z"
   },
   {
    "duration": 10,
    "start_time": "2021-12-24T23:35:29.217Z"
   },
   {
    "duration": 19,
    "start_time": "2021-12-24T23:35:29.229Z"
   },
   {
    "duration": 14,
    "start_time": "2021-12-24T23:35:29.251Z"
   },
   {
    "duration": 5,
    "start_time": "2021-12-24T23:35:29.267Z"
   },
   {
    "duration": 350,
    "start_time": "2021-12-24T23:35:29.274Z"
   },
   {
    "duration": 21,
    "start_time": "2021-12-24T23:35:29.626Z"
   },
   {
    "duration": 8,
    "start_time": "2021-12-24T23:35:29.649Z"
   },
   {
    "duration": 58,
    "start_time": "2021-12-24T23:35:29.659Z"
   },
   {
    "duration": 30,
    "start_time": "2021-12-24T23:35:29.719Z"
   },
   {
    "duration": 72,
    "start_time": "2021-12-24T23:35:29.751Z"
   },
   {
    "duration": 44,
    "start_time": "2021-12-24T23:35:29.825Z"
   },
   {
    "duration": 594,
    "start_time": "2021-12-24T23:35:29.871Z"
   },
   {
    "duration": 575,
    "start_time": "2021-12-24T23:35:30.467Z"
   },
   {
    "duration": 582,
    "start_time": "2021-12-24T23:35:31.045Z"
   },
   {
    "duration": 553,
    "start_time": "2021-12-24T23:35:31.629Z"
   },
   {
    "duration": 573,
    "start_time": "2021-12-24T23:35:32.184Z"
   },
   {
    "duration": 540,
    "start_time": "2021-12-24T23:35:32.759Z"
   },
   {
    "duration": 436,
    "start_time": "2021-12-24T23:35:33.301Z"
   },
   {
    "duration": 431,
    "start_time": "2021-12-24T23:35:33.744Z"
   },
   {
    "duration": 15,
    "start_time": "2021-12-24T23:35:34.178Z"
   },
   {
    "duration": 31,
    "start_time": "2021-12-24T23:35:34.195Z"
   },
   {
    "duration": 6,
    "start_time": "2021-12-24T23:35:34.229Z"
   },
   {
    "duration": 8,
    "start_time": "2021-12-24T23:35:34.237Z"
   },
   {
    "duration": 17,
    "start_time": "2021-12-24T23:35:34.248Z"
   },
   {
    "duration": 7,
    "start_time": "2021-12-24T23:35:34.267Z"
   },
   {
    "duration": 43,
    "start_time": "2021-12-24T23:35:34.277Z"
   },
   {
    "duration": 6,
    "start_time": "2021-12-24T23:35:34.323Z"
   },
   {
    "duration": 6,
    "start_time": "2021-12-24T23:35:34.332Z"
   },
   {
    "duration": 4,
    "start_time": "2021-12-24T23:35:34.340Z"
   },
   {
    "duration": 16,
    "start_time": "2021-12-24T23:35:34.346Z"
   },
   {
    "duration": 7,
    "start_time": "2021-12-24T23:35:34.365Z"
   },
   {
    "duration": 957,
    "start_time": "2021-12-25T22:03:14.940Z"
   },
   {
    "duration": 385,
    "start_time": "2021-12-25T22:03:15.899Z"
   },
   {
    "duration": 12,
    "start_time": "2021-12-25T22:03:16.286Z"
   },
   {
    "duration": 9,
    "start_time": "2021-12-25T22:03:16.300Z"
   },
   {
    "duration": 11,
    "start_time": "2021-12-25T22:03:16.310Z"
   },
   {
    "duration": 9,
    "start_time": "2021-12-25T22:03:16.323Z"
   },
   {
    "duration": 20,
    "start_time": "2021-12-25T22:03:16.333Z"
   },
   {
    "duration": 14,
    "start_time": "2021-12-25T22:03:16.355Z"
   },
   {
    "duration": 6,
    "start_time": "2021-12-25T22:03:16.372Z"
   },
   {
    "duration": 13,
    "start_time": "2021-12-25T22:03:16.380Z"
   },
   {
    "duration": 7,
    "start_time": "2021-12-25T22:03:16.395Z"
   },
   {
    "duration": 15,
    "start_time": "2021-12-25T22:03:16.427Z"
   },
   {
    "duration": 12,
    "start_time": "2021-12-25T22:03:16.444Z"
   },
   {
    "duration": 7,
    "start_time": "2021-12-25T22:03:16.457Z"
   },
   {
    "duration": 9,
    "start_time": "2021-12-25T22:03:16.465Z"
   },
   {
    "duration": 87,
    "start_time": "2021-12-25T22:03:16.476Z"
   },
   {
    "duration": 6,
    "start_time": "2021-12-25T22:03:16.565Z"
   },
   {
    "duration": 15,
    "start_time": "2021-12-25T22:03:16.572Z"
   },
   {
    "duration": 9,
    "start_time": "2021-12-25T22:03:16.589Z"
   },
   {
    "duration": 27,
    "start_time": "2021-12-25T22:03:16.600Z"
   },
   {
    "duration": 6,
    "start_time": "2021-12-25T22:03:16.628Z"
   },
   {
    "duration": 8,
    "start_time": "2021-12-25T22:03:16.635Z"
   },
   {
    "duration": 4,
    "start_time": "2021-12-25T22:03:16.645Z"
   },
   {
    "duration": 5,
    "start_time": "2021-12-25T22:03:16.651Z"
   },
   {
    "duration": 8,
    "start_time": "2021-12-25T22:03:16.658Z"
   },
   {
    "duration": 7,
    "start_time": "2021-12-25T22:03:16.667Z"
   },
   {
    "duration": 2,
    "start_time": "2021-12-25T22:03:16.680Z"
   },
   {
    "duration": 46,
    "start_time": "2021-12-25T22:03:16.685Z"
   },
   {
    "duration": 47,
    "start_time": "2021-12-25T22:03:16.733Z"
   },
   {
    "duration": 7,
    "start_time": "2021-12-25T22:03:16.782Z"
   },
   {
    "duration": 12,
    "start_time": "2021-12-25T22:03:16.790Z"
   },
   {
    "duration": 25,
    "start_time": "2021-12-25T22:03:16.803Z"
   },
   {
    "duration": 36,
    "start_time": "2021-12-25T22:03:16.830Z"
   },
   {
    "duration": 4,
    "start_time": "2021-12-25T22:03:16.868Z"
   },
   {
    "duration": 24,
    "start_time": "2021-12-25T22:03:16.874Z"
   },
   {
    "duration": 29,
    "start_time": "2021-12-25T22:03:16.900Z"
   },
   {
    "duration": 24,
    "start_time": "2021-12-25T22:03:16.931Z"
   },
   {
    "duration": 9,
    "start_time": "2021-12-25T22:03:16.956Z"
   },
   {
    "duration": 5,
    "start_time": "2021-12-25T22:03:16.966Z"
   },
   {
    "duration": 16,
    "start_time": "2021-12-25T22:03:16.972Z"
   },
   {
    "duration": 8,
    "start_time": "2021-12-25T22:03:16.990Z"
   },
   {
    "duration": 28,
    "start_time": "2021-12-25T22:03:17.000Z"
   },
   {
    "duration": 11,
    "start_time": "2021-12-25T22:03:17.030Z"
   },
   {
    "duration": 14,
    "start_time": "2021-12-25T22:03:17.042Z"
   },
   {
    "duration": 6,
    "start_time": "2021-12-25T22:03:17.057Z"
   },
   {
    "duration": 5,
    "start_time": "2021-12-25T22:03:17.065Z"
   },
   {
    "duration": 10,
    "start_time": "2021-12-25T22:03:17.071Z"
   },
   {
    "duration": 6,
    "start_time": "2021-12-25T22:03:17.083Z"
   },
   {
    "duration": 38,
    "start_time": "2021-12-25T22:03:17.091Z"
   },
   {
    "duration": 8,
    "start_time": "2021-12-25T22:03:17.131Z"
   },
   {
    "duration": 6,
    "start_time": "2021-12-25T22:03:17.141Z"
   },
   {
    "duration": 10,
    "start_time": "2021-12-25T22:03:17.149Z"
   },
   {
    "duration": 11,
    "start_time": "2021-12-25T22:03:17.160Z"
   },
   {
    "duration": 3,
    "start_time": "2021-12-25T22:03:17.173Z"
   },
   {
    "duration": 190,
    "start_time": "2021-12-25T22:03:17.177Z"
   },
   {
    "duration": 12,
    "start_time": "2021-12-25T22:03:17.368Z"
   },
   {
    "duration": 7,
    "start_time": "2021-12-25T22:03:17.381Z"
   },
   {
    "duration": 19,
    "start_time": "2021-12-25T22:03:17.389Z"
   },
   {
    "duration": 32,
    "start_time": "2021-12-25T22:03:17.409Z"
   },
   {
    "duration": 34,
    "start_time": "2021-12-25T22:03:17.443Z"
   },
   {
    "duration": 53,
    "start_time": "2021-12-25T22:03:17.478Z"
   },
   {
    "duration": 323,
    "start_time": "2021-12-25T22:03:17.533Z"
   },
   {
    "duration": 350,
    "start_time": "2021-12-25T22:03:17.857Z"
   },
   {
    "duration": 310,
    "start_time": "2021-12-25T22:03:18.208Z"
   },
   {
    "duration": 311,
    "start_time": "2021-12-25T22:03:18.519Z"
   },
   {
    "duration": 383,
    "start_time": "2021-12-25T22:03:18.831Z"
   },
   {
    "duration": 304,
    "start_time": "2021-12-25T22:03:19.216Z"
   },
   {
    "duration": 236,
    "start_time": "2021-12-25T22:03:19.521Z"
   },
   {
    "duration": 235,
    "start_time": "2021-12-25T22:03:19.758Z"
   },
   {
    "duration": 9,
    "start_time": "2021-12-25T22:03:19.995Z"
   },
   {
    "duration": 23,
    "start_time": "2021-12-25T22:03:20.005Z"
   },
   {
    "duration": 3,
    "start_time": "2021-12-25T22:03:20.030Z"
   },
   {
    "duration": 9,
    "start_time": "2021-12-25T22:03:20.035Z"
   },
   {
    "duration": 12,
    "start_time": "2021-12-25T22:03:20.045Z"
   },
   {
    "duration": 4,
    "start_time": "2021-12-25T22:03:20.059Z"
   },
   {
    "duration": 11,
    "start_time": "2021-12-25T22:03:20.065Z"
   },
   {
    "duration": 6,
    "start_time": "2021-12-25T22:03:20.077Z"
   },
   {
    "duration": 4,
    "start_time": "2021-12-25T22:03:20.084Z"
   },
   {
    "duration": 4,
    "start_time": "2021-12-25T22:03:20.090Z"
   },
   {
    "duration": 32,
    "start_time": "2021-12-25T22:03:20.095Z"
   },
   {
    "duration": 4,
    "start_time": "2021-12-25T22:03:20.131Z"
   }
  ],
  "kernelspec": {
   "display_name": "Python 3 (ipykernel)",
   "language": "python",
   "name": "python3"
  },
  "language_info": {
   "codemirror_mode": {
    "name": "ipython",
    "version": 3
   },
   "file_extension": ".py",
   "mimetype": "text/x-python",
   "name": "python",
   "nbconvert_exporter": "python",
   "pygments_lexer": "ipython3",
   "version": "3.9.12"
  },
  "toc": {
   "base_numbering": 1,
   "nav_menu": {},
   "number_sections": true,
   "sideBar": true,
   "skip_h1_title": true,
   "title_cell": "Содержание",
   "title_sidebar": "Contents",
   "toc_cell": true,
   "toc_position": {},
   "toc_section_display": true,
   "toc_window_display": true
  }
 },
 "nbformat": 4,
 "nbformat_minor": 2
}
