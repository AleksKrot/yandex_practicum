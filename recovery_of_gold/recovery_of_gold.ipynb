{
 "cells": [
  {
   "cell_type": "markdown",
   "metadata": {
    "toc": true
   },
   "source": [
    "<h1>Содержание<span class=\"tocSkip\"></span></h1>\n",
    "<div class=\"toc\"><ul class=\"toc-item\"><li><span><a href=\"#Подготовка-данных\" data-toc-modified-id=\"Подготовка-данных-1\"><span class=\"toc-item-num\">1&nbsp;&nbsp;</span>Подготовка данных</a></span><ul class=\"toc-item\"><li><span><a href=\"#Импорт-используемых-библиотек\" data-toc-modified-id=\"Импорт-используемых-библиотек-1.1\"><span class=\"toc-item-num\">1.1&nbsp;&nbsp;</span>Импорт используемых библиотек</a></span></li><li><span><a href=\"#Чтение-файлов-с-данными\" data-toc-modified-id=\"Чтение-файлов-с-данными-1.2\"><span class=\"toc-item-num\">1.2&nbsp;&nbsp;</span>Чтение файлов с данными</a></span></li><li><span><a href=\"#Изучение-общей-информации\" data-toc-modified-id=\"Изучение-общей-информации-1.3\"><span class=\"toc-item-num\">1.3&nbsp;&nbsp;</span>Изучение общей информации</a></span></li><li><span><a href=\"#Корректность-эффективности-обогащения\" data-toc-modified-id=\"Корректность-эффективности-обогащения-1.4\"><span class=\"toc-item-num\">1.4&nbsp;&nbsp;</span>Корректность эффективности обогащения</a></span></li><li><span><a href=\"#Анализ-признаков,-недоступных-в-тестовой-выборке\" data-toc-modified-id=\"Анализ-признаков,-недоступных-в-тестовой-выборке-1.5\"><span class=\"toc-item-num\">1.5&nbsp;&nbsp;</span>Анализ признаков, недоступных в тестовой выборке</a></span></li><li><span><a href=\"#Предобработка-данных\" data-toc-modified-id=\"Предобработка-данных-1.6\"><span class=\"toc-item-num\">1.6&nbsp;&nbsp;</span>Предобработка данных</a></span></li><li><span><a href=\"#Выводы\" data-toc-modified-id=\"Выводы-1.7\"><span class=\"toc-item-num\">1.7&nbsp;&nbsp;</span>Выводы</a></span></li></ul></li><li><span><a href=\"#Анализ-данных\" data-toc-modified-id=\"Анализ-данных-2\"><span class=\"toc-item-num\">2&nbsp;&nbsp;</span>Анализ данных</a></span><ul class=\"toc-item\"><li><span><a href=\"#Исследование-изменения-концентрации-элементов-на-каждом-этапе\" data-toc-modified-id=\"Исследование-изменения-концентрации-элементов-на-каждом-этапе-2.1\"><span class=\"toc-item-num\">2.1&nbsp;&nbsp;</span>Исследование изменения концентрации элементов на каждом этапе</a></span></li><li><span><a href=\"#Распределение-размеров-гранул-сырья-на-обучающей-и-тестовой-выборках\" data-toc-modified-id=\"Распределение-размеров-гранул-сырья-на-обучающей-и-тестовой-выборках-2.2\"><span class=\"toc-item-num\">2.2&nbsp;&nbsp;</span>Распределение размеров гранул сырья на обучающей и тестовой выборках</a></span></li><li><span><a href=\"#Исследование-суммарной-концентрации-всех-веществ-на-разных-стадиях:-в-сырье,-в-черновом-и-финальном-концентратах.\" data-toc-modified-id=\"Исследование-суммарной-концентрации-всех-веществ-на-разных-стадиях:-в-сырье,-в-черновом-и-финальном-концентратах.-2.3\"><span class=\"toc-item-num\">2.3&nbsp;&nbsp;</span>Исследование суммарной концентрации всех веществ на разных стадиях: в сырье, в черновом и финальном концентратах.</a></span></li><li><span><a href=\"#Выводы\" data-toc-modified-id=\"Выводы-2.4\"><span class=\"toc-item-num\">2.4&nbsp;&nbsp;</span>Выводы</a></span></li></ul></li><li><span><a href=\"#Модель\" data-toc-modified-id=\"Модель-3\"><span class=\"toc-item-num\">3&nbsp;&nbsp;</span>Модель</a></span><ul class=\"toc-item\"><li><span><a href=\"#Функция-для-вычисления-итоговой-sMAPE\" data-toc-modified-id=\"Функция-для-вычисления-итоговой-sMAPE-3.1\"><span class=\"toc-item-num\">3.1&nbsp;&nbsp;</span>Функция для вычисления итоговой sMAPE</a></span></li><li><span><a href=\"#Подготовка-признаков\" data-toc-modified-id=\"Подготовка-признаков-3.2\"><span class=\"toc-item-num\">3.2&nbsp;&nbsp;</span>Подготовка признаков</a></span></li><li><span><a href=\"#Модель-линейной-регрессии\" data-toc-modified-id=\"Модель-линейной-регрессии-3.3\"><span class=\"toc-item-num\">3.3&nbsp;&nbsp;</span>Модель линейной регрессии</a></span></li><li><span><a href=\"#Модель-дерева-решений\" data-toc-modified-id=\"Модель-дерева-решений-3.4\"><span class=\"toc-item-num\">3.4&nbsp;&nbsp;</span>Модель дерева решений</a></span></li><li><span><a href=\"#Модель-случайного-леса\" data-toc-modified-id=\"Модель-случайного-леса-3.5\"><span class=\"toc-item-num\">3.5&nbsp;&nbsp;</span>Модель случайного леса</a></span></li><li><span><a href=\"#Проверка-на-тестовой-модели\" data-toc-modified-id=\"Проверка-на-тестовой-модели-3.6\"><span class=\"toc-item-num\">3.6&nbsp;&nbsp;</span>Проверка на тестовой модели</a></span></li><li><span><a href=\"#Выводы\" data-toc-modified-id=\"Выводы-3.7\"><span class=\"toc-item-num\">3.7&nbsp;&nbsp;</span>Выводы</a></span></li></ul></li></ul></div>"
   ]
  },
  {
   "cell_type": "markdown",
   "metadata": {},
   "source": [
    "# Восстановление золота из руды"
   ]
  },
  {
   "cell_type": "markdown",
   "metadata": {},
   "source": [
    "Подготовьте прототип модели машинного обучения для «Цифры». Компания разрабатывает решения для эффективной работы промышленных предприятий.\n",
    "\n",
    "Модель должна предсказать коэффициент восстановления золота из золотосодержащей руды. Используйте данные с параметрами добычи и очистки. \n",
    "\n",
    "Модель поможет оптимизировать производство, чтобы не запускать предприятие с убыточными характеристиками.\n",
    "\n",
    "Вам нужно:\n",
    "\n",
    "1. Подготовить данные;\n",
    "2. Провести исследовательский анализ данных;\n",
    "3. Построить и обучить модель.\n",
    "\n",
    "Чтобы выполнить проект, обращайтесь к библиотекам *pandas*, *matplotlib* и *sklearn.* Вам поможет их документация."
   ]
  },
  {
   "cell_type": "markdown",
   "metadata": {},
   "source": [
    "# Технологический процесс"
   ]
  },
  {
   "cell_type": "markdown",
   "metadata": {},
   "source": [
    "Когда добытая руда проходит первичную обработку, получается дроблёная смесь. Её отправляют на флотацию (обогащение) и двухэтапную очистку.\n",
    "\n",
    "Во флотационную установку подаётся смесь золотосодержащей руды. После обогащения получается черновой концентрат и «отвальные хвосты», то есть остатки продукта с низкой концентрацией ценных металлов.\n",
    "На стабильность этого процесса влияет непостоянное и неоптимальное физико-химическое состояние флотационной пульпы (смеси твёрдых частиц и жидкости).\n",
    "\n",
    "Черновой концентрат проходит две очистки. На выходе получается финальный концентрат и новые отвальные хвосты."
   ]
  },
  {
   "cell_type": "markdown",
   "metadata": {},
   "source": [
    "![](https://pictures.s3.yandex.net/resources/viruchka_1576238830.jpg)"
   ]
  },
  {
   "cell_type": "markdown",
   "metadata": {},
   "source": [
    "# Описание данных"
   ]
  },
  {
   "cell_type": "markdown",
   "metadata": {},
   "source": [
    "**Технологический процесс**\n",
    "* *Rougher feed* — исходное сырье\n",
    "\n",
    "\n",
    "* *Rougher additions (или reagent additions)* — флотационные реагенты: Xanthate, Sulphate, Depressant\n",
    "\n",
    "\n",
    "*Xanthate*** — ксантогенат (промотер, или активатор флотации)\n",
    "\n",
    "\n",
    "*Sulphate* — сульфат (на данном производстве сульфид натрия)\n",
    "\n",
    "\n",
    "*Depressant* — депрессант (силикат натрия)\n",
    "\n",
    "\n",
    "* *Rougher process (англ. «грубый процесс»)* — флотация\n",
    "\n",
    "\n",
    "* *Rougher tails* — отвальные хвосты\n",
    "\n",
    "\n",
    "* *Float banks* — флотационная установка\n",
    "\n",
    "\n",
    "* *Cleaner process* — очистка\n",
    "\n",
    "\n",
    "* *Rougher Au* — черновой концентрат золота\n",
    "\n",
    "\n",
    "* *Final Au* — финальный концентрат золота\n",
    "\n",
    "**Параметры этапов**\n",
    "* *air amount* — объём воздуха\n",
    "\n",
    "\n",
    "* *fluid levels* — уровень жидкости\n",
    "\n",
    "\n",
    "* *feed size* — размер гранул сырья\n",
    "\n",
    "\n",
    "* *feed rate* — скорость подачи"
   ]
  },
  {
   "cell_type": "markdown",
   "metadata": {},
   "source": [
    "# Наименование признаков"
   ]
  },
  {
   "cell_type": "markdown",
   "metadata": {},
   "source": [
    "Наименование признаков должно быть такое:\n",
    "\n",
    "`[этап].[тип_параметра].[название_параметра]`\n",
    "\n",
    "Пример: `rougher.input.feed_ag`\n",
    "\n",
    "Возможные значения для блока `[этап]`:\n",
    "* *rougher* — флотация\n",
    "\n",
    "\n",
    "* *primary_cleaner* — первичная очистка\n",
    "\n",
    "\n",
    "* *secondary_cleaner* — вторичная очистка\n",
    "\n",
    "\n",
    "* *final* — финальные характеристики\n",
    "\n",
    "\n",
    "Возможные значения для блока `[тип_параметра]`:\n",
    "* *input* — параметры сырья\n",
    "\n",
    "\n",
    "* *output* — параметры продукта\n",
    "\n",
    "\n",
    "* *state* — параметры, характеризующие текущее состояние этапа\n",
    "\n",
    "\n",
    "* *calculation* — расчётные характеристики"
   ]
  },
  {
   "cell_type": "markdown",
   "metadata": {},
   "source": [
    "# Описание проекта"
   ]
  },
  {
   "cell_type": "markdown",
   "metadata": {},
   "source": [
    "Данные находятся в трёх файлах:\n",
    "* `gold_recovery_train_new.csv` — обучающая выборка\n",
    "\n",
    "\n",
    "* `gold_recovery_test_new.csv` — тестовая выборка\n",
    "\n",
    "\n",
    "* `gold_recovery_full_new.csv` — исходные данные\n",
    "\n",
    "\n",
    "Данные индексируются датой и временем получения информации (признак `date`). Соседние по времени параметры часто похожи.\n",
    "\n",
    "Некоторые параметры недоступны, потому что замеряются и/или рассчитываются значительно позже. Из-за этого в тестовой выборке отсутствуют некоторые признаки, которые могут быть в обучающей. Также в тестовом наборе нет целевых признаков.\n",
    "\n",
    "Исходный датасет содержит обучающую и тестовую выборки со всеми признаками.\n",
    "\n",
    "В вашем распоряжении сырые данные: их просто выгрузили из хранилища. Прежде чем приступить к построению модели, проверьте по нашей инструкции их на корректность."
   ]
  },
  {
   "cell_type": "markdown",
   "metadata": {},
   "source": [
    "## Подготовка данных"
   ]
  },
  {
   "cell_type": "markdown",
   "metadata": {},
   "source": [
    "### Импорт используемых библиотек"
   ]
  },
  {
   "cell_type": "code",
   "execution_count": 1,
   "metadata": {},
   "outputs": [],
   "source": [
    "# импорт библиотеки pandas\n",
    "import pandas as pd\n",
    "\n",
    "# импорт библиотеки numpy\n",
    "import numpy as np\n",
    "\n",
    "# импорт библиотеки matplotlib\n",
    "import matplotlib.pyplot as plt\n",
    "\n",
    "# импорт средней абсолютной ошибки из библиотеки sklearn\n",
    "from sklearn.metrics import mean_absolute_error\n",
    "\n",
    "# импорт make_scorer из библиотеки sklearn\n",
    "from sklearn.metrics import make_scorer\n",
    "\n",
    "# импорт метода стандартизации данных из библиотеки sklearn\n",
    "from sklearn.preprocessing import StandardScaler\n",
    "\n",
    "# импорт pipeline из библиотеки sklearn\n",
    "from sklearn.pipeline import make_pipeline\n",
    "\n",
    "# импорт кросс-валидации из библиотеки sklearn\n",
    "from sklearn.model_selection import cross_val_score\n",
    "\n",
    "# импорт алгоритма поиска по гиперпараметрам из библиотеки sklearn\n",
    "from sklearn.model_selection import GridSearchCV\n",
    "\n",
    "# импорт алгоритма линейной регрессии из библиотеки sklearn\n",
    "from sklearn.linear_model import LinearRegression\n",
    "\n",
    "# импорт алгоритма дерева принятия решений из библиотеки sklearn\n",
    "from sklearn.tree import DecisionTreeRegressor\n",
    "\n",
    "# импорт алгоритма случайного леса из библиотеки sklearn\n",
    "from sklearn.ensemble import RandomForestRegressor"
   ]
  },
  {
   "cell_type": "markdown",
   "metadata": {},
   "source": [
    "### Чтение файлов с данными"
   ]
  },
  {
   "cell_type": "code",
   "execution_count": 2,
   "metadata": {},
   "outputs": [],
   "source": [
    "# чтение файлов с данными\n",
    "data_train = pd.read_csv('/datasets/gold_recovery_train_new.csv')\n",
    "data_test = pd.read_csv('/datasets/gold_recovery_test_new.csv')\n",
    "data_full = pd.read_csv('/datasets/gold_recovery_full_new.csv')"
   ]
  },
  {
   "cell_type": "markdown",
   "metadata": {},
   "source": [
    "### Изучение общей информации"
   ]
  },
  {
   "cell_type": "code",
   "execution_count": 3,
   "metadata": {
    "scrolled": false
   },
   "outputs": [
    {
     "name": "stdout",
     "output_type": "stream",
     "text": [
      "\u001b[1m                                                 Первые 5 строк исходных данных                                                \u001b[0m\n",
      "===============================================================================================================================\n"
     ]
    },
    {
     "data": {
      "text/html": [
       "<div>\n",
       "<style scoped>\n",
       "    .dataframe tbody tr th:only-of-type {\n",
       "        vertical-align: middle;\n",
       "    }\n",
       "\n",
       "    .dataframe tbody tr th {\n",
       "        vertical-align: top;\n",
       "    }\n",
       "\n",
       "    .dataframe thead th {\n",
       "        text-align: right;\n",
       "    }\n",
       "</style>\n",
       "<table border=\"1\" class=\"dataframe\">\n",
       "  <thead>\n",
       "    <tr style=\"text-align: right;\">\n",
       "      <th></th>\n",
       "      <th>date</th>\n",
       "      <th>final.output.concentrate_ag</th>\n",
       "      <th>final.output.concentrate_pb</th>\n",
       "      <th>final.output.concentrate_sol</th>\n",
       "      <th>final.output.concentrate_au</th>\n",
       "      <th>final.output.recovery</th>\n",
       "      <th>final.output.tail_ag</th>\n",
       "      <th>final.output.tail_pb</th>\n",
       "      <th>final.output.tail_sol</th>\n",
       "      <th>final.output.tail_au</th>\n",
       "      <th>...</th>\n",
       "      <th>secondary_cleaner.state.floatbank4_a_air</th>\n",
       "      <th>secondary_cleaner.state.floatbank4_a_level</th>\n",
       "      <th>secondary_cleaner.state.floatbank4_b_air</th>\n",
       "      <th>secondary_cleaner.state.floatbank4_b_level</th>\n",
       "      <th>secondary_cleaner.state.floatbank5_a_air</th>\n",
       "      <th>secondary_cleaner.state.floatbank5_a_level</th>\n",
       "      <th>secondary_cleaner.state.floatbank5_b_air</th>\n",
       "      <th>secondary_cleaner.state.floatbank5_b_level</th>\n",
       "      <th>secondary_cleaner.state.floatbank6_a_air</th>\n",
       "      <th>secondary_cleaner.state.floatbank6_a_level</th>\n",
       "    </tr>\n",
       "  </thead>\n",
       "  <tbody>\n",
       "    <tr>\n",
       "      <th>0</th>\n",
       "      <td>2016-01-15 00:00:00</td>\n",
       "      <td>6.055403</td>\n",
       "      <td>9.889648</td>\n",
       "      <td>5.507324</td>\n",
       "      <td>42.192020</td>\n",
       "      <td>70.541216</td>\n",
       "      <td>10.411962</td>\n",
       "      <td>0.895447</td>\n",
       "      <td>16.904297</td>\n",
       "      <td>2.143149</td>\n",
       "      <td>...</td>\n",
       "      <td>14.016835</td>\n",
       "      <td>-502.488007</td>\n",
       "      <td>12.099931</td>\n",
       "      <td>-504.715942</td>\n",
       "      <td>9.925633</td>\n",
       "      <td>-498.310211</td>\n",
       "      <td>8.079666</td>\n",
       "      <td>-500.470978</td>\n",
       "      <td>14.151341</td>\n",
       "      <td>-605.841980</td>\n",
       "    </tr>\n",
       "    <tr>\n",
       "      <th>1</th>\n",
       "      <td>2016-01-15 01:00:00</td>\n",
       "      <td>6.029369</td>\n",
       "      <td>9.968944</td>\n",
       "      <td>5.257781</td>\n",
       "      <td>42.701629</td>\n",
       "      <td>69.266198</td>\n",
       "      <td>10.462676</td>\n",
       "      <td>0.927452</td>\n",
       "      <td>16.634514</td>\n",
       "      <td>2.224930</td>\n",
       "      <td>...</td>\n",
       "      <td>13.992281</td>\n",
       "      <td>-505.503262</td>\n",
       "      <td>11.950531</td>\n",
       "      <td>-501.331529</td>\n",
       "      <td>10.039245</td>\n",
       "      <td>-500.169983</td>\n",
       "      <td>7.984757</td>\n",
       "      <td>-500.582168</td>\n",
       "      <td>13.998353</td>\n",
       "      <td>-599.787184</td>\n",
       "    </tr>\n",
       "    <tr>\n",
       "      <th>2</th>\n",
       "      <td>2016-01-15 02:00:00</td>\n",
       "      <td>6.055926</td>\n",
       "      <td>10.213995</td>\n",
       "      <td>5.383759</td>\n",
       "      <td>42.657501</td>\n",
       "      <td>68.116445</td>\n",
       "      <td>10.507046</td>\n",
       "      <td>0.953716</td>\n",
       "      <td>16.208849</td>\n",
       "      <td>2.257889</td>\n",
       "      <td>...</td>\n",
       "      <td>14.015015</td>\n",
       "      <td>-502.520901</td>\n",
       "      <td>11.912783</td>\n",
       "      <td>-501.133383</td>\n",
       "      <td>10.070913</td>\n",
       "      <td>-500.129135</td>\n",
       "      <td>8.013877</td>\n",
       "      <td>-500.517572</td>\n",
       "      <td>14.028663</td>\n",
       "      <td>-601.427363</td>\n",
       "    </tr>\n",
       "    <tr>\n",
       "      <th>3</th>\n",
       "      <td>2016-01-15 03:00:00</td>\n",
       "      <td>6.047977</td>\n",
       "      <td>9.977019</td>\n",
       "      <td>4.858634</td>\n",
       "      <td>42.689819</td>\n",
       "      <td>68.347543</td>\n",
       "      <td>10.422762</td>\n",
       "      <td>0.883763</td>\n",
       "      <td>16.532835</td>\n",
       "      <td>2.146849</td>\n",
       "      <td>...</td>\n",
       "      <td>14.036510</td>\n",
       "      <td>-500.857308</td>\n",
       "      <td>11.999550</td>\n",
       "      <td>-501.193686</td>\n",
       "      <td>9.970366</td>\n",
       "      <td>-499.201640</td>\n",
       "      <td>7.977324</td>\n",
       "      <td>-500.255908</td>\n",
       "      <td>14.005551</td>\n",
       "      <td>-599.996129</td>\n",
       "    </tr>\n",
       "    <tr>\n",
       "      <th>4</th>\n",
       "      <td>2016-01-15 04:00:00</td>\n",
       "      <td>6.148599</td>\n",
       "      <td>10.142511</td>\n",
       "      <td>4.939416</td>\n",
       "      <td>42.774141</td>\n",
       "      <td>66.927016</td>\n",
       "      <td>10.360302</td>\n",
       "      <td>0.792826</td>\n",
       "      <td>16.525686</td>\n",
       "      <td>2.055292</td>\n",
       "      <td>...</td>\n",
       "      <td>14.027298</td>\n",
       "      <td>-499.838632</td>\n",
       "      <td>11.953070</td>\n",
       "      <td>-501.053894</td>\n",
       "      <td>9.925709</td>\n",
       "      <td>-501.686727</td>\n",
       "      <td>7.894242</td>\n",
       "      <td>-500.356035</td>\n",
       "      <td>13.996647</td>\n",
       "      <td>-601.496691</td>\n",
       "    </tr>\n",
       "  </tbody>\n",
       "</table>\n",
       "<p>5 rows × 87 columns</p>\n",
       "</div>"
      ],
      "text/plain": [
       "                  date  final.output.concentrate_ag  \\\n",
       "0  2016-01-15 00:00:00                     6.055403   \n",
       "1  2016-01-15 01:00:00                     6.029369   \n",
       "2  2016-01-15 02:00:00                     6.055926   \n",
       "3  2016-01-15 03:00:00                     6.047977   \n",
       "4  2016-01-15 04:00:00                     6.148599   \n",
       "\n",
       "   final.output.concentrate_pb  final.output.concentrate_sol  \\\n",
       "0                     9.889648                      5.507324   \n",
       "1                     9.968944                      5.257781   \n",
       "2                    10.213995                      5.383759   \n",
       "3                     9.977019                      4.858634   \n",
       "4                    10.142511                      4.939416   \n",
       "\n",
       "   final.output.concentrate_au  final.output.recovery  final.output.tail_ag  \\\n",
       "0                    42.192020              70.541216             10.411962   \n",
       "1                    42.701629              69.266198             10.462676   \n",
       "2                    42.657501              68.116445             10.507046   \n",
       "3                    42.689819              68.347543             10.422762   \n",
       "4                    42.774141              66.927016             10.360302   \n",
       "\n",
       "   final.output.tail_pb  final.output.tail_sol  final.output.tail_au  ...  \\\n",
       "0              0.895447              16.904297              2.143149  ...   \n",
       "1              0.927452              16.634514              2.224930  ...   \n",
       "2              0.953716              16.208849              2.257889  ...   \n",
       "3              0.883763              16.532835              2.146849  ...   \n",
       "4              0.792826              16.525686              2.055292  ...   \n",
       "\n",
       "   secondary_cleaner.state.floatbank4_a_air  \\\n",
       "0                                 14.016835   \n",
       "1                                 13.992281   \n",
       "2                                 14.015015   \n",
       "3                                 14.036510   \n",
       "4                                 14.027298   \n",
       "\n",
       "   secondary_cleaner.state.floatbank4_a_level  \\\n",
       "0                                 -502.488007   \n",
       "1                                 -505.503262   \n",
       "2                                 -502.520901   \n",
       "3                                 -500.857308   \n",
       "4                                 -499.838632   \n",
       "\n",
       "   secondary_cleaner.state.floatbank4_b_air  \\\n",
       "0                                 12.099931   \n",
       "1                                 11.950531   \n",
       "2                                 11.912783   \n",
       "3                                 11.999550   \n",
       "4                                 11.953070   \n",
       "\n",
       "   secondary_cleaner.state.floatbank4_b_level  \\\n",
       "0                                 -504.715942   \n",
       "1                                 -501.331529   \n",
       "2                                 -501.133383   \n",
       "3                                 -501.193686   \n",
       "4                                 -501.053894   \n",
       "\n",
       "   secondary_cleaner.state.floatbank5_a_air  \\\n",
       "0                                  9.925633   \n",
       "1                                 10.039245   \n",
       "2                                 10.070913   \n",
       "3                                  9.970366   \n",
       "4                                  9.925709   \n",
       "\n",
       "   secondary_cleaner.state.floatbank5_a_level  \\\n",
       "0                                 -498.310211   \n",
       "1                                 -500.169983   \n",
       "2                                 -500.129135   \n",
       "3                                 -499.201640   \n",
       "4                                 -501.686727   \n",
       "\n",
       "   secondary_cleaner.state.floatbank5_b_air  \\\n",
       "0                                  8.079666   \n",
       "1                                  7.984757   \n",
       "2                                  8.013877   \n",
       "3                                  7.977324   \n",
       "4                                  7.894242   \n",
       "\n",
       "   secondary_cleaner.state.floatbank5_b_level  \\\n",
       "0                                 -500.470978   \n",
       "1                                 -500.582168   \n",
       "2                                 -500.517572   \n",
       "3                                 -500.255908   \n",
       "4                                 -500.356035   \n",
       "\n",
       "   secondary_cleaner.state.floatbank6_a_air  \\\n",
       "0                                 14.151341   \n",
       "1                                 13.998353   \n",
       "2                                 14.028663   \n",
       "3                                 14.005551   \n",
       "4                                 13.996647   \n",
       "\n",
       "   secondary_cleaner.state.floatbank6_a_level  \n",
       "0                                 -605.841980  \n",
       "1                                 -599.787184  \n",
       "2                                 -601.427363  \n",
       "3                                 -599.996129  \n",
       "4                                 -601.496691  \n",
       "\n",
       "[5 rows x 87 columns]"
      ]
     },
     "metadata": {},
     "output_type": "display_data"
    }
   ],
   "source": [
    "# получение первых 5 строк датасета\n",
    "print('\\033[1m' + 'Первые 5 строк исходных данных'.center(127) + '\\033[0m')\n",
    "print('=' * 127)\n",
    "display(data_full.head())"
   ]
  },
  {
   "cell_type": "code",
   "execution_count": 4,
   "metadata": {
    "scrolled": false
   },
   "outputs": [
    {
     "name": "stdout",
     "output_type": "stream",
     "text": [
      "\u001b[1m                      Общая информация об исходных данных                       \u001b[0m\n",
      "================================================================================\n",
      "<class 'pandas.core.frame.DataFrame'>\n",
      "RangeIndex: 19439 entries, 0 to 19438\n",
      "Data columns (total 87 columns):\n",
      " #   Column                                              Non-Null Count  Dtype  \n",
      "---  ------                                              --------------  -----  \n",
      " 0   date                                                19439 non-null  object \n",
      " 1   final.output.concentrate_ag                         19438 non-null  float64\n",
      " 2   final.output.concentrate_pb                         19438 non-null  float64\n",
      " 3   final.output.concentrate_sol                        19228 non-null  float64\n",
      " 4   final.output.concentrate_au                         19439 non-null  float64\n",
      " 5   final.output.recovery                               19439 non-null  float64\n",
      " 6   final.output.tail_ag                                19438 non-null  float64\n",
      " 7   final.output.tail_pb                                19338 non-null  float64\n",
      " 8   final.output.tail_sol                               19433 non-null  float64\n",
      " 9   final.output.tail_au                                19439 non-null  float64\n",
      " 10  primary_cleaner.input.sulfate                       19415 non-null  float64\n",
      " 11  primary_cleaner.input.depressant                    19402 non-null  float64\n",
      " 12  primary_cleaner.input.feed_size                     19439 non-null  float64\n",
      " 13  primary_cleaner.input.xanthate                      19335 non-null  float64\n",
      " 14  primary_cleaner.output.concentrate_ag               19439 non-null  float64\n",
      " 15  primary_cleaner.output.concentrate_pb               19323 non-null  float64\n",
      " 16  primary_cleaner.output.concentrate_sol              19069 non-null  float64\n",
      " 17  primary_cleaner.output.concentrate_au               19439 non-null  float64\n",
      " 18  primary_cleaner.output.tail_ag                      19435 non-null  float64\n",
      " 19  primary_cleaner.output.tail_pb                      19418 non-null  float64\n",
      " 20  primary_cleaner.output.tail_sol                     19377 non-null  float64\n",
      " 21  primary_cleaner.output.tail_au                      19439 non-null  float64\n",
      " 22  primary_cleaner.state.floatbank8_a_air              19435 non-null  float64\n",
      " 23  primary_cleaner.state.floatbank8_a_level            19438 non-null  float64\n",
      " 24  primary_cleaner.state.floatbank8_b_air              19435 non-null  float64\n",
      " 25  primary_cleaner.state.floatbank8_b_level            19438 non-null  float64\n",
      " 26  primary_cleaner.state.floatbank8_c_air              19437 non-null  float64\n",
      " 27  primary_cleaner.state.floatbank8_c_level            19438 non-null  float64\n",
      " 28  primary_cleaner.state.floatbank8_d_air              19436 non-null  float64\n",
      " 29  primary_cleaner.state.floatbank8_d_level            19438 non-null  float64\n",
      " 30  rougher.calculation.sulfate_to_au_concentrate       19437 non-null  float64\n",
      " 31  rougher.calculation.floatbank10_sulfate_to_au_feed  19437 non-null  float64\n",
      " 32  rougher.calculation.floatbank11_sulfate_to_au_feed  19437 non-null  float64\n",
      " 33  rougher.calculation.au_pb_ratio                     19439 non-null  float64\n",
      " 34  rougher.input.feed_ag                               19439 non-null  float64\n",
      " 35  rougher.input.feed_pb                               19339 non-null  float64\n",
      " 36  rougher.input.feed_rate                             19428 non-null  float64\n",
      " 37  rougher.input.feed_size                             19294 non-null  float64\n",
      " 38  rougher.input.feed_sol                              19340 non-null  float64\n",
      " 39  rougher.input.feed_au                               19439 non-null  float64\n",
      " 40  rougher.input.floatbank10_sulfate                   19405 non-null  float64\n",
      " 41  rougher.input.floatbank10_xanthate                  19431 non-null  float64\n",
      " 42  rougher.input.floatbank11_sulfate                   19395 non-null  float64\n",
      " 43  rougher.input.floatbank11_xanthate                  18986 non-null  float64\n",
      " 44  rougher.output.concentrate_ag                       19439 non-null  float64\n",
      " 45  rougher.output.concentrate_pb                       19439 non-null  float64\n",
      " 46  rougher.output.concentrate_sol                      19416 non-null  float64\n",
      " 47  rougher.output.concentrate_au                       19439 non-null  float64\n",
      " 48  rougher.output.recovery                             19439 non-null  float64\n",
      " 49  rougher.output.tail_ag                              19438 non-null  float64\n",
      " 50  rougher.output.tail_pb                              19439 non-null  float64\n",
      " 51  rougher.output.tail_sol                             19439 non-null  float64\n",
      " 52  rougher.output.tail_au                              19439 non-null  float64\n",
      " 53  rougher.state.floatbank10_a_air                     19438 non-null  float64\n",
      " 54  rougher.state.floatbank10_a_level                   19438 non-null  float64\n",
      " 55  rougher.state.floatbank10_b_air                     19438 non-null  float64\n",
      " 56  rougher.state.floatbank10_b_level                   19438 non-null  float64\n",
      " 57  rougher.state.floatbank10_c_air                     19438 non-null  float64\n",
      " 58  rougher.state.floatbank10_c_level                   19438 non-null  float64\n",
      " 59  rougher.state.floatbank10_d_air                     19439 non-null  float64\n",
      " 60  rougher.state.floatbank10_d_level                   19439 non-null  float64\n",
      " 61  rougher.state.floatbank10_e_air                     19003 non-null  float64\n",
      " 62  rougher.state.floatbank10_e_level                   19439 non-null  float64\n",
      " 63  rougher.state.floatbank10_f_air                     19439 non-null  float64\n",
      " 64  rougher.state.floatbank10_f_level                   19439 non-null  float64\n",
      " 65  secondary_cleaner.output.tail_ag                    19437 non-null  float64\n",
      " 66  secondary_cleaner.output.tail_pb                    19427 non-null  float64\n",
      " 67  secondary_cleaner.output.tail_sol                   17691 non-null  float64\n",
      " 68  secondary_cleaner.output.tail_au                    19439 non-null  float64\n",
      " 69  secondary_cleaner.state.floatbank2_a_air            19219 non-null  float64\n",
      " 70  secondary_cleaner.state.floatbank2_a_level          19438 non-null  float64\n",
      " 71  secondary_cleaner.state.floatbank2_b_air            19416 non-null  float64\n",
      " 72  secondary_cleaner.state.floatbank2_b_level          19438 non-null  float64\n",
      " 73  secondary_cleaner.state.floatbank3_a_air            19426 non-null  float64\n",
      " 74  secondary_cleaner.state.floatbank3_a_level          19438 non-null  float64\n",
      " 75  secondary_cleaner.state.floatbank3_b_air            19438 non-null  float64\n",
      " 76  secondary_cleaner.state.floatbank3_b_level          19438 non-null  float64\n",
      " 77  secondary_cleaner.state.floatbank4_a_air            19433 non-null  float64\n",
      " 78  secondary_cleaner.state.floatbank4_a_level          19438 non-null  float64\n",
      " 79  secondary_cleaner.state.floatbank4_b_air            19438 non-null  float64\n",
      " 80  secondary_cleaner.state.floatbank4_b_level          19438 non-null  float64\n",
      " 81  secondary_cleaner.state.floatbank5_a_air            19438 non-null  float64\n",
      " 82  secondary_cleaner.state.floatbank5_a_level          19438 non-null  float64\n",
      " 83  secondary_cleaner.state.floatbank5_b_air            19438 non-null  float64\n",
      " 84  secondary_cleaner.state.floatbank5_b_level          19438 non-null  float64\n",
      " 85  secondary_cleaner.state.floatbank6_a_air            19437 non-null  float64\n",
      " 86  secondary_cleaner.state.floatbank6_a_level          19438 non-null  float64\n",
      "dtypes: float64(86), object(1)\n",
      "memory usage: 12.9+ MB\n"
     ]
    }
   ],
   "source": [
    "# получение общей информации о данных датасета\n",
    "print('\\033[1m' + 'Общая информация об исходных данных'.center(80) + '\\033[0m')\n",
    "print('=' * 80)\n",
    "data_full.info()"
   ]
  },
  {
   "cell_type": "code",
   "execution_count": 5,
   "metadata": {
    "scrolled": false
   },
   "outputs": [
    {
     "name": "stdout",
     "output_type": "stream",
     "text": [
      "\u001b[1m                                                Первые 5 строк обучающей выборки                                               \u001b[0m\n",
      "===============================================================================================================================\n"
     ]
    },
    {
     "data": {
      "text/html": [
       "<div>\n",
       "<style scoped>\n",
       "    .dataframe tbody tr th:only-of-type {\n",
       "        vertical-align: middle;\n",
       "    }\n",
       "\n",
       "    .dataframe tbody tr th {\n",
       "        vertical-align: top;\n",
       "    }\n",
       "\n",
       "    .dataframe thead th {\n",
       "        text-align: right;\n",
       "    }\n",
       "</style>\n",
       "<table border=\"1\" class=\"dataframe\">\n",
       "  <thead>\n",
       "    <tr style=\"text-align: right;\">\n",
       "      <th></th>\n",
       "      <th>date</th>\n",
       "      <th>final.output.concentrate_ag</th>\n",
       "      <th>final.output.concentrate_pb</th>\n",
       "      <th>final.output.concentrate_sol</th>\n",
       "      <th>final.output.concentrate_au</th>\n",
       "      <th>final.output.recovery</th>\n",
       "      <th>final.output.tail_ag</th>\n",
       "      <th>final.output.tail_pb</th>\n",
       "      <th>final.output.tail_sol</th>\n",
       "      <th>final.output.tail_au</th>\n",
       "      <th>...</th>\n",
       "      <th>secondary_cleaner.state.floatbank4_a_air</th>\n",
       "      <th>secondary_cleaner.state.floatbank4_a_level</th>\n",
       "      <th>secondary_cleaner.state.floatbank4_b_air</th>\n",
       "      <th>secondary_cleaner.state.floatbank4_b_level</th>\n",
       "      <th>secondary_cleaner.state.floatbank5_a_air</th>\n",
       "      <th>secondary_cleaner.state.floatbank5_a_level</th>\n",
       "      <th>secondary_cleaner.state.floatbank5_b_air</th>\n",
       "      <th>secondary_cleaner.state.floatbank5_b_level</th>\n",
       "      <th>secondary_cleaner.state.floatbank6_a_air</th>\n",
       "      <th>secondary_cleaner.state.floatbank6_a_level</th>\n",
       "    </tr>\n",
       "  </thead>\n",
       "  <tbody>\n",
       "    <tr>\n",
       "      <th>0</th>\n",
       "      <td>2016-01-15 00:00:00</td>\n",
       "      <td>6.055403</td>\n",
       "      <td>9.889648</td>\n",
       "      <td>5.507324</td>\n",
       "      <td>42.192020</td>\n",
       "      <td>70.541216</td>\n",
       "      <td>10.411962</td>\n",
       "      <td>0.895447</td>\n",
       "      <td>16.904297</td>\n",
       "      <td>2.143149</td>\n",
       "      <td>...</td>\n",
       "      <td>14.016835</td>\n",
       "      <td>-502.488007</td>\n",
       "      <td>12.099931</td>\n",
       "      <td>-504.715942</td>\n",
       "      <td>9.925633</td>\n",
       "      <td>-498.310211</td>\n",
       "      <td>8.079666</td>\n",
       "      <td>-500.470978</td>\n",
       "      <td>14.151341</td>\n",
       "      <td>-605.841980</td>\n",
       "    </tr>\n",
       "    <tr>\n",
       "      <th>1</th>\n",
       "      <td>2016-01-15 01:00:00</td>\n",
       "      <td>6.029369</td>\n",
       "      <td>9.968944</td>\n",
       "      <td>5.257781</td>\n",
       "      <td>42.701629</td>\n",
       "      <td>69.266198</td>\n",
       "      <td>10.462676</td>\n",
       "      <td>0.927452</td>\n",
       "      <td>16.634514</td>\n",
       "      <td>2.224930</td>\n",
       "      <td>...</td>\n",
       "      <td>13.992281</td>\n",
       "      <td>-505.503262</td>\n",
       "      <td>11.950531</td>\n",
       "      <td>-501.331529</td>\n",
       "      <td>10.039245</td>\n",
       "      <td>-500.169983</td>\n",
       "      <td>7.984757</td>\n",
       "      <td>-500.582168</td>\n",
       "      <td>13.998353</td>\n",
       "      <td>-599.787184</td>\n",
       "    </tr>\n",
       "    <tr>\n",
       "      <th>2</th>\n",
       "      <td>2016-01-15 02:00:00</td>\n",
       "      <td>6.055926</td>\n",
       "      <td>10.213995</td>\n",
       "      <td>5.383759</td>\n",
       "      <td>42.657501</td>\n",
       "      <td>68.116445</td>\n",
       "      <td>10.507046</td>\n",
       "      <td>0.953716</td>\n",
       "      <td>16.208849</td>\n",
       "      <td>2.257889</td>\n",
       "      <td>...</td>\n",
       "      <td>14.015015</td>\n",
       "      <td>-502.520901</td>\n",
       "      <td>11.912783</td>\n",
       "      <td>-501.133383</td>\n",
       "      <td>10.070913</td>\n",
       "      <td>-500.129135</td>\n",
       "      <td>8.013877</td>\n",
       "      <td>-500.517572</td>\n",
       "      <td>14.028663</td>\n",
       "      <td>-601.427363</td>\n",
       "    </tr>\n",
       "    <tr>\n",
       "      <th>3</th>\n",
       "      <td>2016-01-15 03:00:00</td>\n",
       "      <td>6.047977</td>\n",
       "      <td>9.977019</td>\n",
       "      <td>4.858634</td>\n",
       "      <td>42.689819</td>\n",
       "      <td>68.347543</td>\n",
       "      <td>10.422762</td>\n",
       "      <td>0.883763</td>\n",
       "      <td>16.532835</td>\n",
       "      <td>2.146849</td>\n",
       "      <td>...</td>\n",
       "      <td>14.036510</td>\n",
       "      <td>-500.857308</td>\n",
       "      <td>11.999550</td>\n",
       "      <td>-501.193686</td>\n",
       "      <td>9.970366</td>\n",
       "      <td>-499.201640</td>\n",
       "      <td>7.977324</td>\n",
       "      <td>-500.255908</td>\n",
       "      <td>14.005551</td>\n",
       "      <td>-599.996129</td>\n",
       "    </tr>\n",
       "    <tr>\n",
       "      <th>4</th>\n",
       "      <td>2016-01-15 04:00:00</td>\n",
       "      <td>6.148599</td>\n",
       "      <td>10.142511</td>\n",
       "      <td>4.939416</td>\n",
       "      <td>42.774141</td>\n",
       "      <td>66.927016</td>\n",
       "      <td>10.360302</td>\n",
       "      <td>0.792826</td>\n",
       "      <td>16.525686</td>\n",
       "      <td>2.055292</td>\n",
       "      <td>...</td>\n",
       "      <td>14.027298</td>\n",
       "      <td>-499.838632</td>\n",
       "      <td>11.953070</td>\n",
       "      <td>-501.053894</td>\n",
       "      <td>9.925709</td>\n",
       "      <td>-501.686727</td>\n",
       "      <td>7.894242</td>\n",
       "      <td>-500.356035</td>\n",
       "      <td>13.996647</td>\n",
       "      <td>-601.496691</td>\n",
       "    </tr>\n",
       "  </tbody>\n",
       "</table>\n",
       "<p>5 rows × 87 columns</p>\n",
       "</div>"
      ],
      "text/plain": [
       "                  date  final.output.concentrate_ag  \\\n",
       "0  2016-01-15 00:00:00                     6.055403   \n",
       "1  2016-01-15 01:00:00                     6.029369   \n",
       "2  2016-01-15 02:00:00                     6.055926   \n",
       "3  2016-01-15 03:00:00                     6.047977   \n",
       "4  2016-01-15 04:00:00                     6.148599   \n",
       "\n",
       "   final.output.concentrate_pb  final.output.concentrate_sol  \\\n",
       "0                     9.889648                      5.507324   \n",
       "1                     9.968944                      5.257781   \n",
       "2                    10.213995                      5.383759   \n",
       "3                     9.977019                      4.858634   \n",
       "4                    10.142511                      4.939416   \n",
       "\n",
       "   final.output.concentrate_au  final.output.recovery  final.output.tail_ag  \\\n",
       "0                    42.192020              70.541216             10.411962   \n",
       "1                    42.701629              69.266198             10.462676   \n",
       "2                    42.657501              68.116445             10.507046   \n",
       "3                    42.689819              68.347543             10.422762   \n",
       "4                    42.774141              66.927016             10.360302   \n",
       "\n",
       "   final.output.tail_pb  final.output.tail_sol  final.output.tail_au  ...  \\\n",
       "0              0.895447              16.904297              2.143149  ...   \n",
       "1              0.927452              16.634514              2.224930  ...   \n",
       "2              0.953716              16.208849              2.257889  ...   \n",
       "3              0.883763              16.532835              2.146849  ...   \n",
       "4              0.792826              16.525686              2.055292  ...   \n",
       "\n",
       "   secondary_cleaner.state.floatbank4_a_air  \\\n",
       "0                                 14.016835   \n",
       "1                                 13.992281   \n",
       "2                                 14.015015   \n",
       "3                                 14.036510   \n",
       "4                                 14.027298   \n",
       "\n",
       "   secondary_cleaner.state.floatbank4_a_level  \\\n",
       "0                                 -502.488007   \n",
       "1                                 -505.503262   \n",
       "2                                 -502.520901   \n",
       "3                                 -500.857308   \n",
       "4                                 -499.838632   \n",
       "\n",
       "   secondary_cleaner.state.floatbank4_b_air  \\\n",
       "0                                 12.099931   \n",
       "1                                 11.950531   \n",
       "2                                 11.912783   \n",
       "3                                 11.999550   \n",
       "4                                 11.953070   \n",
       "\n",
       "   secondary_cleaner.state.floatbank4_b_level  \\\n",
       "0                                 -504.715942   \n",
       "1                                 -501.331529   \n",
       "2                                 -501.133383   \n",
       "3                                 -501.193686   \n",
       "4                                 -501.053894   \n",
       "\n",
       "   secondary_cleaner.state.floatbank5_a_air  \\\n",
       "0                                  9.925633   \n",
       "1                                 10.039245   \n",
       "2                                 10.070913   \n",
       "3                                  9.970366   \n",
       "4                                  9.925709   \n",
       "\n",
       "   secondary_cleaner.state.floatbank5_a_level  \\\n",
       "0                                 -498.310211   \n",
       "1                                 -500.169983   \n",
       "2                                 -500.129135   \n",
       "3                                 -499.201640   \n",
       "4                                 -501.686727   \n",
       "\n",
       "   secondary_cleaner.state.floatbank5_b_air  \\\n",
       "0                                  8.079666   \n",
       "1                                  7.984757   \n",
       "2                                  8.013877   \n",
       "3                                  7.977324   \n",
       "4                                  7.894242   \n",
       "\n",
       "   secondary_cleaner.state.floatbank5_b_level  \\\n",
       "0                                 -500.470978   \n",
       "1                                 -500.582168   \n",
       "2                                 -500.517572   \n",
       "3                                 -500.255908   \n",
       "4                                 -500.356035   \n",
       "\n",
       "   secondary_cleaner.state.floatbank6_a_air  \\\n",
       "0                                 14.151341   \n",
       "1                                 13.998353   \n",
       "2                                 14.028663   \n",
       "3                                 14.005551   \n",
       "4                                 13.996647   \n",
       "\n",
       "   secondary_cleaner.state.floatbank6_a_level  \n",
       "0                                 -605.841980  \n",
       "1                                 -599.787184  \n",
       "2                                 -601.427363  \n",
       "3                                 -599.996129  \n",
       "4                                 -601.496691  \n",
       "\n",
       "[5 rows x 87 columns]"
      ]
     },
     "metadata": {},
     "output_type": "display_data"
    }
   ],
   "source": [
    "# получение первых 5 строк датасета\n",
    "print('\\033[1m' + 'Первые 5 строк обучающей выборки'.center(127) + '\\033[0m')\n",
    "print('=' * 127)\n",
    "display(data_train.head())"
   ]
  },
  {
   "cell_type": "code",
   "execution_count": 6,
   "metadata": {
    "scrolled": false
   },
   "outputs": [
    {
     "name": "stdout",
     "output_type": "stream",
     "text": [
      "\u001b[1m                     Общая информация об обучающей выборке                      \u001b[0m\n",
      "================================================================================\n",
      "<class 'pandas.core.frame.DataFrame'>\n",
      "RangeIndex: 14149 entries, 0 to 14148\n",
      "Data columns (total 87 columns):\n",
      " #   Column                                              Non-Null Count  Dtype  \n",
      "---  ------                                              --------------  -----  \n",
      " 0   date                                                14149 non-null  object \n",
      " 1   final.output.concentrate_ag                         14148 non-null  float64\n",
      " 2   final.output.concentrate_pb                         14148 non-null  float64\n",
      " 3   final.output.concentrate_sol                        13938 non-null  float64\n",
      " 4   final.output.concentrate_au                         14149 non-null  float64\n",
      " 5   final.output.recovery                               14149 non-null  float64\n",
      " 6   final.output.tail_ag                                14149 non-null  float64\n",
      " 7   final.output.tail_pb                                14049 non-null  float64\n",
      " 8   final.output.tail_sol                               14144 non-null  float64\n",
      " 9   final.output.tail_au                                14149 non-null  float64\n",
      " 10  primary_cleaner.input.sulfate                       14129 non-null  float64\n",
      " 11  primary_cleaner.input.depressant                    14117 non-null  float64\n",
      " 12  primary_cleaner.input.feed_size                     14149 non-null  float64\n",
      " 13  primary_cleaner.input.xanthate                      14049 non-null  float64\n",
      " 14  primary_cleaner.output.concentrate_ag               14149 non-null  float64\n",
      " 15  primary_cleaner.output.concentrate_pb               14063 non-null  float64\n",
      " 16  primary_cleaner.output.concentrate_sol              13863 non-null  float64\n",
      " 17  primary_cleaner.output.concentrate_au               14149 non-null  float64\n",
      " 18  primary_cleaner.output.tail_ag                      14148 non-null  float64\n",
      " 19  primary_cleaner.output.tail_pb                      14134 non-null  float64\n",
      " 20  primary_cleaner.output.tail_sol                     14103 non-null  float64\n",
      " 21  primary_cleaner.output.tail_au                      14149 non-null  float64\n",
      " 22  primary_cleaner.state.floatbank8_a_air              14145 non-null  float64\n",
      " 23  primary_cleaner.state.floatbank8_a_level            14148 non-null  float64\n",
      " 24  primary_cleaner.state.floatbank8_b_air              14145 non-null  float64\n",
      " 25  primary_cleaner.state.floatbank8_b_level            14148 non-null  float64\n",
      " 26  primary_cleaner.state.floatbank8_c_air              14147 non-null  float64\n",
      " 27  primary_cleaner.state.floatbank8_c_level            14148 non-null  float64\n",
      " 28  primary_cleaner.state.floatbank8_d_air              14146 non-null  float64\n",
      " 29  primary_cleaner.state.floatbank8_d_level            14148 non-null  float64\n",
      " 30  rougher.calculation.sulfate_to_au_concentrate       14148 non-null  float64\n",
      " 31  rougher.calculation.floatbank10_sulfate_to_au_feed  14148 non-null  float64\n",
      " 32  rougher.calculation.floatbank11_sulfate_to_au_feed  14148 non-null  float64\n",
      " 33  rougher.calculation.au_pb_ratio                     14149 non-null  float64\n",
      " 34  rougher.input.feed_ag                               14149 non-null  float64\n",
      " 35  rougher.input.feed_pb                               14049 non-null  float64\n",
      " 36  rougher.input.feed_rate                             14141 non-null  float64\n",
      " 37  rougher.input.feed_size                             14005 non-null  float64\n",
      " 38  rougher.input.feed_sol                              14071 non-null  float64\n",
      " 39  rougher.input.feed_au                               14149 non-null  float64\n",
      " 40  rougher.input.floatbank10_sulfate                   14120 non-null  float64\n",
      " 41  rougher.input.floatbank10_xanthate                  14141 non-null  float64\n",
      " 42  rougher.input.floatbank11_sulfate                   14113 non-null  float64\n",
      " 43  rougher.input.floatbank11_xanthate                  13721 non-null  float64\n",
      " 44  rougher.output.concentrate_ag                       14149 non-null  float64\n",
      " 45  rougher.output.concentrate_pb                       14149 non-null  float64\n",
      " 46  rougher.output.concentrate_sol                      14127 non-null  float64\n",
      " 47  rougher.output.concentrate_au                       14149 non-null  float64\n",
      " 48  rougher.output.recovery                             14149 non-null  float64\n",
      " 49  rougher.output.tail_ag                              14148 non-null  float64\n",
      " 50  rougher.output.tail_pb                              14149 non-null  float64\n",
      " 51  rougher.output.tail_sol                             14149 non-null  float64\n",
      " 52  rougher.output.tail_au                              14149 non-null  float64\n",
      " 53  rougher.state.floatbank10_a_air                     14148 non-null  float64\n",
      " 54  rougher.state.floatbank10_a_level                   14148 non-null  float64\n",
      " 55  rougher.state.floatbank10_b_air                     14148 non-null  float64\n",
      " 56  rougher.state.floatbank10_b_level                   14148 non-null  float64\n",
      " 57  rougher.state.floatbank10_c_air                     14148 non-null  float64\n",
      " 58  rougher.state.floatbank10_c_level                   14148 non-null  float64\n",
      " 59  rougher.state.floatbank10_d_air                     14149 non-null  float64\n",
      " 60  rougher.state.floatbank10_d_level                   14149 non-null  float64\n",
      " 61  rougher.state.floatbank10_e_air                     13713 non-null  float64\n",
      " 62  rougher.state.floatbank10_e_level                   14149 non-null  float64\n",
      " 63  rougher.state.floatbank10_f_air                     14149 non-null  float64\n",
      " 64  rougher.state.floatbank10_f_level                   14149 non-null  float64\n",
      " 65  secondary_cleaner.output.tail_ag                    14147 non-null  float64\n",
      " 66  secondary_cleaner.output.tail_pb                    14139 non-null  float64\n",
      " 67  secondary_cleaner.output.tail_sol                   12544 non-null  float64\n",
      " 68  secondary_cleaner.output.tail_au                    14149 non-null  float64\n",
      " 69  secondary_cleaner.state.floatbank2_a_air            13932 non-null  float64\n",
      " 70  secondary_cleaner.state.floatbank2_a_level          14148 non-null  float64\n",
      " 71  secondary_cleaner.state.floatbank2_b_air            14128 non-null  float64\n",
      " 72  secondary_cleaner.state.floatbank2_b_level          14148 non-null  float64\n",
      " 73  secondary_cleaner.state.floatbank3_a_air            14145 non-null  float64\n",
      " 74  secondary_cleaner.state.floatbank3_a_level          14148 non-null  float64\n",
      " 75  secondary_cleaner.state.floatbank3_b_air            14148 non-null  float64\n",
      " 76  secondary_cleaner.state.floatbank3_b_level          14148 non-null  float64\n",
      " 77  secondary_cleaner.state.floatbank4_a_air            14143 non-null  float64\n",
      " 78  secondary_cleaner.state.floatbank4_a_level          14148 non-null  float64\n",
      " 79  secondary_cleaner.state.floatbank4_b_air            14148 non-null  float64\n",
      " 80  secondary_cleaner.state.floatbank4_b_level          14148 non-null  float64\n",
      " 81  secondary_cleaner.state.floatbank5_a_air            14148 non-null  float64\n",
      " 82  secondary_cleaner.state.floatbank5_a_level          14148 non-null  float64\n",
      " 83  secondary_cleaner.state.floatbank5_b_air            14148 non-null  float64\n",
      " 84  secondary_cleaner.state.floatbank5_b_level          14148 non-null  float64\n",
      " 85  secondary_cleaner.state.floatbank6_a_air            14147 non-null  float64\n",
      " 86  secondary_cleaner.state.floatbank6_a_level          14148 non-null  float64\n",
      "dtypes: float64(86), object(1)\n",
      "memory usage: 9.4+ MB\n"
     ]
    }
   ],
   "source": [
    "# получение общей информации о данных датасета\n",
    "print('\\033[1m' + 'Общая информация об обучающей выборке'.center(80) + '\\033[0m')\n",
    "print('=' * 80)\n",
    "data_train.info()"
   ]
  },
  {
   "cell_type": "code",
   "execution_count": 7,
   "metadata": {
    "scrolled": false
   },
   "outputs": [
    {
     "name": "stdout",
     "output_type": "stream",
     "text": [
      "\u001b[1m                                                Первые 5 строк тестовой выборки                                                \u001b[0m\n",
      "===============================================================================================================================\n"
     ]
    },
    {
     "data": {
      "text/html": [
       "<div>\n",
       "<style scoped>\n",
       "    .dataframe tbody tr th:only-of-type {\n",
       "        vertical-align: middle;\n",
       "    }\n",
       "\n",
       "    .dataframe tbody tr th {\n",
       "        vertical-align: top;\n",
       "    }\n",
       "\n",
       "    .dataframe thead th {\n",
       "        text-align: right;\n",
       "    }\n",
       "</style>\n",
       "<table border=\"1\" class=\"dataframe\">\n",
       "  <thead>\n",
       "    <tr style=\"text-align: right;\">\n",
       "      <th></th>\n",
       "      <th>date</th>\n",
       "      <th>primary_cleaner.input.sulfate</th>\n",
       "      <th>primary_cleaner.input.depressant</th>\n",
       "      <th>primary_cleaner.input.feed_size</th>\n",
       "      <th>primary_cleaner.input.xanthate</th>\n",
       "      <th>primary_cleaner.state.floatbank8_a_air</th>\n",
       "      <th>primary_cleaner.state.floatbank8_a_level</th>\n",
       "      <th>primary_cleaner.state.floatbank8_b_air</th>\n",
       "      <th>primary_cleaner.state.floatbank8_b_level</th>\n",
       "      <th>primary_cleaner.state.floatbank8_c_air</th>\n",
       "      <th>...</th>\n",
       "      <th>secondary_cleaner.state.floatbank4_a_air</th>\n",
       "      <th>secondary_cleaner.state.floatbank4_a_level</th>\n",
       "      <th>secondary_cleaner.state.floatbank4_b_air</th>\n",
       "      <th>secondary_cleaner.state.floatbank4_b_level</th>\n",
       "      <th>secondary_cleaner.state.floatbank5_a_air</th>\n",
       "      <th>secondary_cleaner.state.floatbank5_a_level</th>\n",
       "      <th>secondary_cleaner.state.floatbank5_b_air</th>\n",
       "      <th>secondary_cleaner.state.floatbank5_b_level</th>\n",
       "      <th>secondary_cleaner.state.floatbank6_a_air</th>\n",
       "      <th>secondary_cleaner.state.floatbank6_a_level</th>\n",
       "    </tr>\n",
       "  </thead>\n",
       "  <tbody>\n",
       "    <tr>\n",
       "      <th>0</th>\n",
       "      <td>2016-09-01 00:59:59</td>\n",
       "      <td>210.800909</td>\n",
       "      <td>14.993118</td>\n",
       "      <td>8.080000</td>\n",
       "      <td>1.005021</td>\n",
       "      <td>1398.981301</td>\n",
       "      <td>-500.225577</td>\n",
       "      <td>1399.144926</td>\n",
       "      <td>-499.919735</td>\n",
       "      <td>1400.102998</td>\n",
       "      <td>...</td>\n",
       "      <td>12.023554</td>\n",
       "      <td>-497.795834</td>\n",
       "      <td>8.016656</td>\n",
       "      <td>-501.289139</td>\n",
       "      <td>7.946562</td>\n",
       "      <td>-432.317850</td>\n",
       "      <td>4.872511</td>\n",
       "      <td>-500.037437</td>\n",
       "      <td>26.705889</td>\n",
       "      <td>-499.709414</td>\n",
       "    </tr>\n",
       "    <tr>\n",
       "      <th>1</th>\n",
       "      <td>2016-09-01 01:59:59</td>\n",
       "      <td>215.392455</td>\n",
       "      <td>14.987471</td>\n",
       "      <td>8.080000</td>\n",
       "      <td>0.990469</td>\n",
       "      <td>1398.777912</td>\n",
       "      <td>-500.057435</td>\n",
       "      <td>1398.055362</td>\n",
       "      <td>-499.778182</td>\n",
       "      <td>1396.151033</td>\n",
       "      <td>...</td>\n",
       "      <td>12.058140</td>\n",
       "      <td>-498.695773</td>\n",
       "      <td>8.130979</td>\n",
       "      <td>-499.634209</td>\n",
       "      <td>7.958270</td>\n",
       "      <td>-525.839648</td>\n",
       "      <td>4.878850</td>\n",
       "      <td>-500.162375</td>\n",
       "      <td>25.019940</td>\n",
       "      <td>-499.819438</td>\n",
       "    </tr>\n",
       "    <tr>\n",
       "      <th>2</th>\n",
       "      <td>2016-09-01 02:59:59</td>\n",
       "      <td>215.259946</td>\n",
       "      <td>12.884934</td>\n",
       "      <td>7.786667</td>\n",
       "      <td>0.996043</td>\n",
       "      <td>1398.493666</td>\n",
       "      <td>-500.868360</td>\n",
       "      <td>1398.860436</td>\n",
       "      <td>-499.764529</td>\n",
       "      <td>1398.075709</td>\n",
       "      <td>...</td>\n",
       "      <td>11.962366</td>\n",
       "      <td>-498.767484</td>\n",
       "      <td>8.096893</td>\n",
       "      <td>-500.827423</td>\n",
       "      <td>8.071056</td>\n",
       "      <td>-500.801673</td>\n",
       "      <td>4.905125</td>\n",
       "      <td>-499.828510</td>\n",
       "      <td>24.994862</td>\n",
       "      <td>-500.622559</td>\n",
       "    </tr>\n",
       "    <tr>\n",
       "      <th>3</th>\n",
       "      <td>2016-09-01 03:59:59</td>\n",
       "      <td>215.336236</td>\n",
       "      <td>12.006805</td>\n",
       "      <td>7.640000</td>\n",
       "      <td>0.863514</td>\n",
       "      <td>1399.618111</td>\n",
       "      <td>-498.863574</td>\n",
       "      <td>1397.440120</td>\n",
       "      <td>-499.211024</td>\n",
       "      <td>1400.129303</td>\n",
       "      <td>...</td>\n",
       "      <td>12.033091</td>\n",
       "      <td>-498.350935</td>\n",
       "      <td>8.074946</td>\n",
       "      <td>-499.474407</td>\n",
       "      <td>7.897085</td>\n",
       "      <td>-500.868509</td>\n",
       "      <td>4.931400</td>\n",
       "      <td>-499.963623</td>\n",
       "      <td>24.948919</td>\n",
       "      <td>-498.709987</td>\n",
       "    </tr>\n",
       "    <tr>\n",
       "      <th>4</th>\n",
       "      <td>2016-09-01 04:59:59</td>\n",
       "      <td>199.099327</td>\n",
       "      <td>10.682530</td>\n",
       "      <td>7.530000</td>\n",
       "      <td>0.805575</td>\n",
       "      <td>1401.268123</td>\n",
       "      <td>-500.808305</td>\n",
       "      <td>1398.128818</td>\n",
       "      <td>-499.504543</td>\n",
       "      <td>1402.172226</td>\n",
       "      <td>...</td>\n",
       "      <td>12.025367</td>\n",
       "      <td>-500.786497</td>\n",
       "      <td>8.054678</td>\n",
       "      <td>-500.397500</td>\n",
       "      <td>8.107890</td>\n",
       "      <td>-509.526725</td>\n",
       "      <td>4.957674</td>\n",
       "      <td>-500.360026</td>\n",
       "      <td>25.003331</td>\n",
       "      <td>-500.856333</td>\n",
       "    </tr>\n",
       "  </tbody>\n",
       "</table>\n",
       "<p>5 rows × 53 columns</p>\n",
       "</div>"
      ],
      "text/plain": [
       "                  date  primary_cleaner.input.sulfate  \\\n",
       "0  2016-09-01 00:59:59                     210.800909   \n",
       "1  2016-09-01 01:59:59                     215.392455   \n",
       "2  2016-09-01 02:59:59                     215.259946   \n",
       "3  2016-09-01 03:59:59                     215.336236   \n",
       "4  2016-09-01 04:59:59                     199.099327   \n",
       "\n",
       "   primary_cleaner.input.depressant  primary_cleaner.input.feed_size  \\\n",
       "0                         14.993118                         8.080000   \n",
       "1                         14.987471                         8.080000   \n",
       "2                         12.884934                         7.786667   \n",
       "3                         12.006805                         7.640000   \n",
       "4                         10.682530                         7.530000   \n",
       "\n",
       "   primary_cleaner.input.xanthate  primary_cleaner.state.floatbank8_a_air  \\\n",
       "0                        1.005021                             1398.981301   \n",
       "1                        0.990469                             1398.777912   \n",
       "2                        0.996043                             1398.493666   \n",
       "3                        0.863514                             1399.618111   \n",
       "4                        0.805575                             1401.268123   \n",
       "\n",
       "   primary_cleaner.state.floatbank8_a_level  \\\n",
       "0                               -500.225577   \n",
       "1                               -500.057435   \n",
       "2                               -500.868360   \n",
       "3                               -498.863574   \n",
       "4                               -500.808305   \n",
       "\n",
       "   primary_cleaner.state.floatbank8_b_air  \\\n",
       "0                             1399.144926   \n",
       "1                             1398.055362   \n",
       "2                             1398.860436   \n",
       "3                             1397.440120   \n",
       "4                             1398.128818   \n",
       "\n",
       "   primary_cleaner.state.floatbank8_b_level  \\\n",
       "0                               -499.919735   \n",
       "1                               -499.778182   \n",
       "2                               -499.764529   \n",
       "3                               -499.211024   \n",
       "4                               -499.504543   \n",
       "\n",
       "   primary_cleaner.state.floatbank8_c_air  ...  \\\n",
       "0                             1400.102998  ...   \n",
       "1                             1396.151033  ...   \n",
       "2                             1398.075709  ...   \n",
       "3                             1400.129303  ...   \n",
       "4                             1402.172226  ...   \n",
       "\n",
       "   secondary_cleaner.state.floatbank4_a_air  \\\n",
       "0                                 12.023554   \n",
       "1                                 12.058140   \n",
       "2                                 11.962366   \n",
       "3                                 12.033091   \n",
       "4                                 12.025367   \n",
       "\n",
       "   secondary_cleaner.state.floatbank4_a_level  \\\n",
       "0                                 -497.795834   \n",
       "1                                 -498.695773   \n",
       "2                                 -498.767484   \n",
       "3                                 -498.350935   \n",
       "4                                 -500.786497   \n",
       "\n",
       "   secondary_cleaner.state.floatbank4_b_air  \\\n",
       "0                                  8.016656   \n",
       "1                                  8.130979   \n",
       "2                                  8.096893   \n",
       "3                                  8.074946   \n",
       "4                                  8.054678   \n",
       "\n",
       "   secondary_cleaner.state.floatbank4_b_level  \\\n",
       "0                                 -501.289139   \n",
       "1                                 -499.634209   \n",
       "2                                 -500.827423   \n",
       "3                                 -499.474407   \n",
       "4                                 -500.397500   \n",
       "\n",
       "   secondary_cleaner.state.floatbank5_a_air  \\\n",
       "0                                  7.946562   \n",
       "1                                  7.958270   \n",
       "2                                  8.071056   \n",
       "3                                  7.897085   \n",
       "4                                  8.107890   \n",
       "\n",
       "   secondary_cleaner.state.floatbank5_a_level  \\\n",
       "0                                 -432.317850   \n",
       "1                                 -525.839648   \n",
       "2                                 -500.801673   \n",
       "3                                 -500.868509   \n",
       "4                                 -509.526725   \n",
       "\n",
       "   secondary_cleaner.state.floatbank5_b_air  \\\n",
       "0                                  4.872511   \n",
       "1                                  4.878850   \n",
       "2                                  4.905125   \n",
       "3                                  4.931400   \n",
       "4                                  4.957674   \n",
       "\n",
       "   secondary_cleaner.state.floatbank5_b_level  \\\n",
       "0                                 -500.037437   \n",
       "1                                 -500.162375   \n",
       "2                                 -499.828510   \n",
       "3                                 -499.963623   \n",
       "4                                 -500.360026   \n",
       "\n",
       "   secondary_cleaner.state.floatbank6_a_air  \\\n",
       "0                                 26.705889   \n",
       "1                                 25.019940   \n",
       "2                                 24.994862   \n",
       "3                                 24.948919   \n",
       "4                                 25.003331   \n",
       "\n",
       "   secondary_cleaner.state.floatbank6_a_level  \n",
       "0                                 -499.709414  \n",
       "1                                 -499.819438  \n",
       "2                                 -500.622559  \n",
       "3                                 -498.709987  \n",
       "4                                 -500.856333  \n",
       "\n",
       "[5 rows x 53 columns]"
      ]
     },
     "metadata": {},
     "output_type": "display_data"
    }
   ],
   "source": [
    "# получение первых 5 строк датасета\n",
    "print('\\033[1m' + 'Первые 5 строк тестовой выборки'.center(127) + '\\033[0m')\n",
    "print('=' * 127)\n",
    "display(data_test.head())"
   ]
  },
  {
   "cell_type": "code",
   "execution_count": 8,
   "metadata": {
    "scrolled": false
   },
   "outputs": [
    {
     "name": "stdout",
     "output_type": "stream",
     "text": [
      "\u001b[1m                  Общая информация о тестовой выборке                   \u001b[0m\n",
      "========================================================================\n",
      "<class 'pandas.core.frame.DataFrame'>\n",
      "RangeIndex: 5290 entries, 0 to 5289\n",
      "Data columns (total 53 columns):\n",
      " #   Column                                      Non-Null Count  Dtype  \n",
      "---  ------                                      --------------  -----  \n",
      " 0   date                                        5290 non-null   object \n",
      " 1   primary_cleaner.input.sulfate               5286 non-null   float64\n",
      " 2   primary_cleaner.input.depressant            5285 non-null   float64\n",
      " 3   primary_cleaner.input.feed_size             5290 non-null   float64\n",
      " 4   primary_cleaner.input.xanthate              5286 non-null   float64\n",
      " 5   primary_cleaner.state.floatbank8_a_air      5290 non-null   float64\n",
      " 6   primary_cleaner.state.floatbank8_a_level    5290 non-null   float64\n",
      " 7   primary_cleaner.state.floatbank8_b_air      5290 non-null   float64\n",
      " 8   primary_cleaner.state.floatbank8_b_level    5290 non-null   float64\n",
      " 9   primary_cleaner.state.floatbank8_c_air      5290 non-null   float64\n",
      " 10  primary_cleaner.state.floatbank8_c_level    5290 non-null   float64\n",
      " 11  primary_cleaner.state.floatbank8_d_air      5290 non-null   float64\n",
      " 12  primary_cleaner.state.floatbank8_d_level    5290 non-null   float64\n",
      " 13  rougher.input.feed_ag                       5290 non-null   float64\n",
      " 14  rougher.input.feed_pb                       5290 non-null   float64\n",
      " 15  rougher.input.feed_rate                     5287 non-null   float64\n",
      " 16  rougher.input.feed_size                     5289 non-null   float64\n",
      " 17  rougher.input.feed_sol                      5269 non-null   float64\n",
      " 18  rougher.input.feed_au                       5290 non-null   float64\n",
      " 19  rougher.input.floatbank10_sulfate           5285 non-null   float64\n",
      " 20  rougher.input.floatbank10_xanthate          5290 non-null   float64\n",
      " 21  rougher.input.floatbank11_sulfate           5282 non-null   float64\n",
      " 22  rougher.input.floatbank11_xanthate          5265 non-null   float64\n",
      " 23  rougher.state.floatbank10_a_air             5290 non-null   float64\n",
      " 24  rougher.state.floatbank10_a_level           5290 non-null   float64\n",
      " 25  rougher.state.floatbank10_b_air             5290 non-null   float64\n",
      " 26  rougher.state.floatbank10_b_level           5290 non-null   float64\n",
      " 27  rougher.state.floatbank10_c_air             5290 non-null   float64\n",
      " 28  rougher.state.floatbank10_c_level           5290 non-null   float64\n",
      " 29  rougher.state.floatbank10_d_air             5290 non-null   float64\n",
      " 30  rougher.state.floatbank10_d_level           5290 non-null   float64\n",
      " 31  rougher.state.floatbank10_e_air             5290 non-null   float64\n",
      " 32  rougher.state.floatbank10_e_level           5290 non-null   float64\n",
      " 33  rougher.state.floatbank10_f_air             5290 non-null   float64\n",
      " 34  rougher.state.floatbank10_f_level           5290 non-null   float64\n",
      " 35  secondary_cleaner.state.floatbank2_a_air    5287 non-null   float64\n",
      " 36  secondary_cleaner.state.floatbank2_a_level  5290 non-null   float64\n",
      " 37  secondary_cleaner.state.floatbank2_b_air    5288 non-null   float64\n",
      " 38  secondary_cleaner.state.floatbank2_b_level  5290 non-null   float64\n",
      " 39  secondary_cleaner.state.floatbank3_a_air    5281 non-null   float64\n",
      " 40  secondary_cleaner.state.floatbank3_a_level  5290 non-null   float64\n",
      " 41  secondary_cleaner.state.floatbank3_b_air    5290 non-null   float64\n",
      " 42  secondary_cleaner.state.floatbank3_b_level  5290 non-null   float64\n",
      " 43  secondary_cleaner.state.floatbank4_a_air    5290 non-null   float64\n",
      " 44  secondary_cleaner.state.floatbank4_a_level  5290 non-null   float64\n",
      " 45  secondary_cleaner.state.floatbank4_b_air    5290 non-null   float64\n",
      " 46  secondary_cleaner.state.floatbank4_b_level  5290 non-null   float64\n",
      " 47  secondary_cleaner.state.floatbank5_a_air    5290 non-null   float64\n",
      " 48  secondary_cleaner.state.floatbank5_a_level  5290 non-null   float64\n",
      " 49  secondary_cleaner.state.floatbank5_b_air    5290 non-null   float64\n",
      " 50  secondary_cleaner.state.floatbank5_b_level  5290 non-null   float64\n",
      " 51  secondary_cleaner.state.floatbank6_a_air    5290 non-null   float64\n",
      " 52  secondary_cleaner.state.floatbank6_a_level  5290 non-null   float64\n",
      "dtypes: float64(52), object(1)\n",
      "memory usage: 2.1+ MB\n"
     ]
    }
   ],
   "source": [
    "# получение общей информации о данных датасета\n",
    "print('\\033[1m' + 'Общая информация о тестовой выборке'.center(72) + '\\033[0m')\n",
    "print('=' * 72)\n",
    "data_test.info()"
   ]
  },
  {
   "cell_type": "code",
   "execution_count": 9,
   "metadata": {},
   "outputs": [
    {
     "data": {
      "text/plain": [
       "(19439, 14149, 5290)"
      ]
     },
     "execution_count": 9,
     "metadata": {},
     "output_type": "execute_result"
    }
   ],
   "source": [
    "# проверка размера выборок\n",
    "data_full.shape[0], data_train.shape[0], data_test.shape[0]"
   ]
  },
  {
   "cell_type": "code",
   "execution_count": 10,
   "metadata": {},
   "outputs": [
    {
     "data": {
      "text/plain": [
       "27.21333401923967"
      ]
     },
     "execution_count": 10,
     "metadata": {},
     "output_type": "execute_result"
    }
   ],
   "source": [
    "data_test.shape[0] / data_full.shape[0] *100"
   ]
  },
  {
   "cell_type": "code",
   "execution_count": 11,
   "metadata": {},
   "outputs": [
    {
     "data": {
      "text/plain": [
       "72.78666598076032"
      ]
     },
     "execution_count": 11,
     "metadata": {},
     "output_type": "execute_result"
    }
   ],
   "source": [
    "data_train.shape[0] / data_full.shape[0] *100"
   ]
  },
  {
   "cell_type": "markdown",
   "metadata": {},
   "source": [
    "Во всех датасетах есть пропуски. Тестовая выборка содержит меньшее количество столбцов, чем исходные данные и обучающая выборка. Далее изучим это подробнее и определим что с этим делать.\n",
    "\n",
    "Исходные данные разделены на обучающую и тестовую выборки в соотношении 73 к 27."
   ]
  },
  {
   "cell_type": "markdown",
   "metadata": {},
   "source": [
    "### Корректность эффективности обогащения"
   ]
  },
  {
   "cell_type": "markdown",
   "metadata": {},
   "source": [
    "Вычислим эффективность обогащения на обучающей выборке для признака `rougher.output.recovery`."
   ]
  },
  {
   "cell_type": "markdown",
   "metadata": {},
   "source": [
    "Эффективность обогащения рассчитывается по формуле:\n",
    "\n",
    "![](https://pictures.s3.yandex.net/resources/Recovery_1576238822.jpg)"
   ]
  },
  {
   "cell_type": "markdown",
   "metadata": {},
   "source": [
    "где:\n",
    "* *C* — доля золота в концентрате после флотации/очистки;\n",
    "* *F* — доля золота в сырье/концентрате до флотации/очистки;\n",
    "* *T* — доля золота в отвальных хвостах после флотации/очистки.\n",
    "\n",
    "Для прогноза коэффициента нужно найти долю золота в концентратах и хвостах. Причём важен не только финальный продукт, но и черновой концентрат."
   ]
  },
  {
   "cell_type": "code",
   "execution_count": 12,
   "metadata": {},
   "outputs": [],
   "source": [
    "# определим константы\n",
    "C = data_train['rougher.output.concentrate_au']\n",
    "F = data_train['rougher.input.feed_au']\n",
    "T = data_train['rougher.output.tail_au']"
   ]
  },
  {
   "cell_type": "code",
   "execution_count": 13,
   "metadata": {},
   "outputs": [],
   "source": [
    "# расчет эффективности обогащения\n",
    "recovery = (C * (F - T)) / (F * (C - T)) * 100"
   ]
  },
  {
   "cell_type": "markdown",
   "metadata": {},
   "source": [
    "Найдем MAE между нашим расчетом и значением признака."
   ]
  },
  {
   "cell_type": "code",
   "execution_count": 14,
   "metadata": {},
   "outputs": [
    {
     "name": "stdout",
     "output_type": "stream",
     "text": [
      "МАЕ между рассчитанным значением и значением в датасете составляет: 0%\n"
     ]
    }
   ],
   "source": [
    "# расчет МАЕ\n",
    "rougher_recovery_mae = mean_absolute_error(data_train['rougher.output.recovery'], recovery)\n",
    "print(f'МАЕ между рассчитанным значением и значением в датасете составляет: {rougher_recovery_mae:0.0%}')"
   ]
  },
  {
   "cell_type": "markdown",
   "metadata": {},
   "source": [
    "Мы получили МАЕ 0%, что говорит о корректности параметра эффективности обогащения."
   ]
  },
  {
   "cell_type": "markdown",
   "metadata": {},
   "source": [
    "### Анализ признаков, недоступных в тестовой выборке"
   ]
  },
  {
   "cell_type": "markdown",
   "metadata": {},
   "source": [
    "Посмотрим сколько столбцов недостает в тестовой выборке и узнаем что это за столбцы."
   ]
  },
  {
   "cell_type": "code",
   "execution_count": 15,
   "metadata": {},
   "outputs": [
    {
     "data": {
      "text/plain": [
       "34"
      ]
     },
     "execution_count": 15,
     "metadata": {},
     "output_type": "execute_result"
    }
   ],
   "source": [
    "# расчет количества отсутствующих столбцов\n",
    "data_train.shape[1] - data_test.shape[1]"
   ]
  },
  {
   "cell_type": "code",
   "execution_count": 16,
   "metadata": {
    "scrolled": false
   },
   "outputs": [
    {
     "data": {
      "text/plain": [
       "['final.output.concentrate_ag',\n",
       " 'final.output.concentrate_pb',\n",
       " 'final.output.concentrate_sol',\n",
       " 'final.output.concentrate_au',\n",
       " 'final.output.recovery',\n",
       " 'final.output.tail_ag',\n",
       " 'final.output.tail_pb',\n",
       " 'final.output.tail_sol',\n",
       " 'final.output.tail_au',\n",
       " 'primary_cleaner.output.concentrate_ag',\n",
       " 'primary_cleaner.output.concentrate_pb',\n",
       " 'primary_cleaner.output.concentrate_sol',\n",
       " 'primary_cleaner.output.concentrate_au',\n",
       " 'primary_cleaner.output.tail_ag',\n",
       " 'primary_cleaner.output.tail_pb',\n",
       " 'primary_cleaner.output.tail_sol',\n",
       " 'primary_cleaner.output.tail_au',\n",
       " 'rougher.calculation.sulfate_to_au_concentrate',\n",
       " 'rougher.calculation.floatbank10_sulfate_to_au_feed',\n",
       " 'rougher.calculation.floatbank11_sulfate_to_au_feed',\n",
       " 'rougher.calculation.au_pb_ratio',\n",
       " 'rougher.output.concentrate_ag',\n",
       " 'rougher.output.concentrate_pb',\n",
       " 'rougher.output.concentrate_sol',\n",
       " 'rougher.output.concentrate_au',\n",
       " 'rougher.output.recovery',\n",
       " 'rougher.output.tail_ag',\n",
       " 'rougher.output.tail_pb',\n",
       " 'rougher.output.tail_sol',\n",
       " 'rougher.output.tail_au',\n",
       " 'secondary_cleaner.output.tail_ag',\n",
       " 'secondary_cleaner.output.tail_pb',\n",
       " 'secondary_cleaner.output.tail_sol',\n",
       " 'secondary_cleaner.output.tail_au']"
      ]
     },
     "execution_count": 16,
     "metadata": {},
     "output_type": "execute_result"
    }
   ],
   "source": [
    "# определение отсутствующих столбцов\n",
    "data_train.columns.drop(data_test.columns).to_list()"
   ]
  },
  {
   "cell_type": "markdown",
   "metadata": {},
   "source": [
    "В тестовой выборке отсутствуют выходные параметры продукта для каждого этапа (флоатации, первичной и вторичной очистки, а также финального концентрата) и расчетные характеристики флотации.\n",
    "\n",
    "В целом в исходных данных присутствуют:\n",
    "\n",
    "* Параметры сырья, поступающего на флоатационную установку, параметры реагентов для этих установок, размер гранул, скорость подачи.\n",
    "* Уровень жидкости и объем воздуха для каждой флоатационной установки.\n",
    "* Выходные параметры продукта и отвальные хвосты после каждого этапа (флоатации, первичной и вторичной очистки).\n",
    "* Некоторые расчетные характеристики.\n",
    "* Эффективность обогащения чернового и финального концентрата."
   ]
  },
  {
   "cell_type": "markdown",
   "metadata": {},
   "source": [
    "### Предобработка данных"
   ]
  },
  {
   "cell_type": "markdown",
   "metadata": {},
   "source": [
    "Проверим данные на наличие дубликатов."
   ]
  },
  {
   "cell_type": "code",
   "execution_count": 17,
   "metadata": {},
   "outputs": [
    {
     "name": "stdout",
     "output_type": "stream",
     "text": [
      "Количество дубликатов в исходных данных: 0\n",
      "Количество дубликатов в обучающей выборке: 0\n",
      "Количество дубликатов в тестовой выборке: 0\n"
     ]
    }
   ],
   "source": [
    "# проверка на наличие дубликатов\n",
    "print('Количество дубликатов в исходных данных:', data_full.duplicated().sum())\n",
    "print('Количество дубликатов в обучающей выборке:', data_train.duplicated().sum())\n",
    "print('Количество дубликатов в тестовой выборке:', data_test.duplicated().sum())"
   ]
  },
  {
   "cell_type": "markdown",
   "metadata": {},
   "source": [
    "Дубликаты отсутствуют.\n",
    "\n",
    "Определим количество пропусков в каждом датасете."
   ]
  },
  {
   "cell_type": "code",
   "execution_count": 18,
   "metadata": {},
   "outputs": [
    {
     "name": "stdout",
     "output_type": "stream",
     "text": [
      "Колличество пропусков в исходных данных: 4481\n",
      "Колличество пропусков в обучающей выборке: 4100\n",
      "Колличество пропусков в тестовой выборке: 90\n"
     ]
    }
   ],
   "source": [
    "# подсчет количества пропусков\n",
    "print('Колличество пропусков в исходных данных:', data_full.isnull().sum().sum())\n",
    "print('Колличество пропусков в обучающей выборке:', data_train.isnull().sum().sum())\n",
    "print('Колличество пропусков в тестовой выборке:', data_test.isnull().sum().sum())"
   ]
  },
  {
   "cell_type": "markdown",
   "metadata": {},
   "source": [
    "Так как соседние по времени параметры часто похожи, а целевые параметры не имеют пропусков, заполним пропуски методом  *.ffill*. С помощью этого метода пропущенные значение заполняются значением из предыдущей строки."
   ]
  },
  {
   "cell_type": "code",
   "execution_count": 19,
   "metadata": {},
   "outputs": [],
   "source": [
    "# заполнение пропусков\n",
    "data_full.ffill(axis=0,inplace=True)\n",
    "data_train.ffill(axis=0,inplace=True)\n",
    "data_test.ffill(axis=0,inplace=True)"
   ]
  },
  {
   "cell_type": "code",
   "execution_count": 20,
   "metadata": {},
   "outputs": [
    {
     "name": "stdout",
     "output_type": "stream",
     "text": [
      "Колличество пропусков в исходных данных: 0\n",
      "Колличество пропусков в обучающей выборке: 0\n",
      "Колличество пропусков в тестовой выборке: 0\n"
     ]
    }
   ],
   "source": [
    "# подсчет количества пропусков\n",
    "print('Колличество пропусков в исходных данных:', data_full.isnull().sum().sum())\n",
    "print('Колличество пропусков в обучающей выборке:', data_train.isnull().sum().sum())\n",
    "print('Колличество пропусков в тестовой выборке:', data_test.isnull().sum().sum())"
   ]
  },
  {
   "cell_type": "markdown",
   "metadata": {},
   "source": [
    "Добавим в тестовую выборку все отсутствующие столбцы."
   ]
  },
  {
   "cell_type": "code",
   "execution_count": 21,
   "metadata": {
    "scrolled": false
   },
   "outputs": [
    {
     "name": "stdout",
     "output_type": "stream",
     "text": [
      "<class 'pandas.core.frame.DataFrame'>\n",
      "Int64Index: 5290 entries, 0 to 5289\n",
      "Data columns (total 87 columns):\n",
      " #   Column                                              Non-Null Count  Dtype  \n",
      "---  ------                                              --------------  -----  \n",
      " 0   date                                                5290 non-null   object \n",
      " 1   final.output.concentrate_ag                         5290 non-null   float64\n",
      " 2   final.output.concentrate_au                         5290 non-null   float64\n",
      " 3   final.output.concentrate_pb                         5290 non-null   float64\n",
      " 4   final.output.concentrate_sol                        5290 non-null   float64\n",
      " 5   final.output.recovery                               5290 non-null   float64\n",
      " 6   final.output.tail_ag                                5290 non-null   float64\n",
      " 7   final.output.tail_au                                5290 non-null   float64\n",
      " 8   final.output.tail_pb                                5290 non-null   float64\n",
      " 9   final.output.tail_sol                               5290 non-null   float64\n",
      " 10  primary_cleaner.input.depressant                    5290 non-null   float64\n",
      " 11  primary_cleaner.input.feed_size                     5290 non-null   float64\n",
      " 12  primary_cleaner.input.sulfate                       5290 non-null   float64\n",
      " 13  primary_cleaner.input.xanthate                      5290 non-null   float64\n",
      " 14  primary_cleaner.output.concentrate_ag               5290 non-null   float64\n",
      " 15  primary_cleaner.output.concentrate_au               5290 non-null   float64\n",
      " 16  primary_cleaner.output.concentrate_pb               5290 non-null   float64\n",
      " 17  primary_cleaner.output.concentrate_sol              5290 non-null   float64\n",
      " 18  primary_cleaner.output.tail_ag                      5290 non-null   float64\n",
      " 19  primary_cleaner.output.tail_au                      5290 non-null   float64\n",
      " 20  primary_cleaner.output.tail_pb                      5290 non-null   float64\n",
      " 21  primary_cleaner.output.tail_sol                     5290 non-null   float64\n",
      " 22  primary_cleaner.state.floatbank8_a_air              5290 non-null   float64\n",
      " 23  primary_cleaner.state.floatbank8_a_level            5290 non-null   float64\n",
      " 24  primary_cleaner.state.floatbank8_b_air              5290 non-null   float64\n",
      " 25  primary_cleaner.state.floatbank8_b_level            5290 non-null   float64\n",
      " 26  primary_cleaner.state.floatbank8_c_air              5290 non-null   float64\n",
      " 27  primary_cleaner.state.floatbank8_c_level            5290 non-null   float64\n",
      " 28  primary_cleaner.state.floatbank8_d_air              5290 non-null   float64\n",
      " 29  primary_cleaner.state.floatbank8_d_level            5290 non-null   float64\n",
      " 30  rougher.calculation.au_pb_ratio                     5290 non-null   float64\n",
      " 31  rougher.calculation.floatbank10_sulfate_to_au_feed  5290 non-null   float64\n",
      " 32  rougher.calculation.floatbank11_sulfate_to_au_feed  5290 non-null   float64\n",
      " 33  rougher.calculation.sulfate_to_au_concentrate       5290 non-null   float64\n",
      " 34  rougher.input.feed_ag                               5290 non-null   float64\n",
      " 35  rougher.input.feed_au                               5290 non-null   float64\n",
      " 36  rougher.input.feed_pb                               5290 non-null   float64\n",
      " 37  rougher.input.feed_rate                             5290 non-null   float64\n",
      " 38  rougher.input.feed_size                             5290 non-null   float64\n",
      " 39  rougher.input.feed_sol                              5290 non-null   float64\n",
      " 40  rougher.input.floatbank10_sulfate                   5290 non-null   float64\n",
      " 41  rougher.input.floatbank10_xanthate                  5290 non-null   float64\n",
      " 42  rougher.input.floatbank11_sulfate                   5290 non-null   float64\n",
      " 43  rougher.input.floatbank11_xanthate                  5290 non-null   float64\n",
      " 44  rougher.output.concentrate_ag                       5290 non-null   float64\n",
      " 45  rougher.output.concentrate_au                       5290 non-null   float64\n",
      " 46  rougher.output.concentrate_pb                       5290 non-null   float64\n",
      " 47  rougher.output.concentrate_sol                      5290 non-null   float64\n",
      " 48  rougher.output.recovery                             5290 non-null   float64\n",
      " 49  rougher.output.tail_ag                              5290 non-null   float64\n",
      " 50  rougher.output.tail_au                              5290 non-null   float64\n",
      " 51  rougher.output.tail_pb                              5290 non-null   float64\n",
      " 52  rougher.output.tail_sol                             5290 non-null   float64\n",
      " 53  rougher.state.floatbank10_a_air                     5290 non-null   float64\n",
      " 54  rougher.state.floatbank10_a_level                   5290 non-null   float64\n",
      " 55  rougher.state.floatbank10_b_air                     5290 non-null   float64\n",
      " 56  rougher.state.floatbank10_b_level                   5290 non-null   float64\n",
      " 57  rougher.state.floatbank10_c_air                     5290 non-null   float64\n",
      " 58  rougher.state.floatbank10_c_level                   5290 non-null   float64\n",
      " 59  rougher.state.floatbank10_d_air                     5290 non-null   float64\n",
      " 60  rougher.state.floatbank10_d_level                   5290 non-null   float64\n",
      " 61  rougher.state.floatbank10_e_air                     5290 non-null   float64\n",
      " 62  rougher.state.floatbank10_e_level                   5290 non-null   float64\n",
      " 63  rougher.state.floatbank10_f_air                     5290 non-null   float64\n",
      " 64  rougher.state.floatbank10_f_level                   5290 non-null   float64\n",
      " 65  secondary_cleaner.output.tail_ag                    5290 non-null   float64\n",
      " 66  secondary_cleaner.output.tail_au                    5290 non-null   float64\n",
      " 67  secondary_cleaner.output.tail_pb                    5290 non-null   float64\n",
      " 68  secondary_cleaner.output.tail_sol                   5290 non-null   float64\n",
      " 69  secondary_cleaner.state.floatbank2_a_air            5290 non-null   float64\n",
      " 70  secondary_cleaner.state.floatbank2_a_level          5290 non-null   float64\n",
      " 71  secondary_cleaner.state.floatbank2_b_air            5290 non-null   float64\n",
      " 72  secondary_cleaner.state.floatbank2_b_level          5290 non-null   float64\n",
      " 73  secondary_cleaner.state.floatbank3_a_air            5290 non-null   float64\n",
      " 74  secondary_cleaner.state.floatbank3_a_level          5290 non-null   float64\n",
      " 75  secondary_cleaner.state.floatbank3_b_air            5290 non-null   float64\n",
      " 76  secondary_cleaner.state.floatbank3_b_level          5290 non-null   float64\n",
      " 77  secondary_cleaner.state.floatbank4_a_air            5290 non-null   float64\n",
      " 78  secondary_cleaner.state.floatbank4_a_level          5290 non-null   float64\n",
      " 79  secondary_cleaner.state.floatbank4_b_air            5290 non-null   float64\n",
      " 80  secondary_cleaner.state.floatbank4_b_level          5290 non-null   float64\n",
      " 81  secondary_cleaner.state.floatbank5_a_air            5290 non-null   float64\n",
      " 82  secondary_cleaner.state.floatbank5_a_level          5290 non-null   float64\n",
      " 83  secondary_cleaner.state.floatbank5_b_air            5290 non-null   float64\n",
      " 84  secondary_cleaner.state.floatbank5_b_level          5290 non-null   float64\n",
      " 85  secondary_cleaner.state.floatbank6_a_air            5290 non-null   float64\n",
      " 86  secondary_cleaner.state.floatbank6_a_level          5290 non-null   float64\n",
      "dtypes: float64(86), object(1)\n",
      "memory usage: 3.6+ MB\n"
     ]
    }
   ],
   "source": [
    "# объединение датафреймов\n",
    "data_test_prep = data_test.merge(right = data_full, how='left').sort_index(axis=1)\n",
    "data_test_prep.info()"
   ]
  },
  {
   "cell_type": "markdown",
   "metadata": {},
   "source": [
    "На всякий случай приведем тестовую и обучающую выборки к одинаковой последовательности столбцов."
   ]
  },
  {
   "cell_type": "code",
   "execution_count": 22,
   "metadata": {
    "scrolled": false
   },
   "outputs": [
    {
     "name": "stdout",
     "output_type": "stream",
     "text": [
      "<class 'pandas.core.frame.DataFrame'>\n",
      "RangeIndex: 14149 entries, 0 to 14148\n",
      "Data columns (total 87 columns):\n",
      " #   Column                                              Non-Null Count  Dtype  \n",
      "---  ------                                              --------------  -----  \n",
      " 0   date                                                14149 non-null  object \n",
      " 1   final.output.concentrate_ag                         14149 non-null  float64\n",
      " 2   final.output.concentrate_au                         14149 non-null  float64\n",
      " 3   final.output.concentrate_pb                         14149 non-null  float64\n",
      " 4   final.output.concentrate_sol                        14149 non-null  float64\n",
      " 5   final.output.recovery                               14149 non-null  float64\n",
      " 6   final.output.tail_ag                                14149 non-null  float64\n",
      " 7   final.output.tail_au                                14149 non-null  float64\n",
      " 8   final.output.tail_pb                                14149 non-null  float64\n",
      " 9   final.output.tail_sol                               14149 non-null  float64\n",
      " 10  primary_cleaner.input.depressant                    14149 non-null  float64\n",
      " 11  primary_cleaner.input.feed_size                     14149 non-null  float64\n",
      " 12  primary_cleaner.input.sulfate                       14149 non-null  float64\n",
      " 13  primary_cleaner.input.xanthate                      14149 non-null  float64\n",
      " 14  primary_cleaner.output.concentrate_ag               14149 non-null  float64\n",
      " 15  primary_cleaner.output.concentrate_au               14149 non-null  float64\n",
      " 16  primary_cleaner.output.concentrate_pb               14149 non-null  float64\n",
      " 17  primary_cleaner.output.concentrate_sol              14149 non-null  float64\n",
      " 18  primary_cleaner.output.tail_ag                      14149 non-null  float64\n",
      " 19  primary_cleaner.output.tail_au                      14149 non-null  float64\n",
      " 20  primary_cleaner.output.tail_pb                      14149 non-null  float64\n",
      " 21  primary_cleaner.output.tail_sol                     14149 non-null  float64\n",
      " 22  primary_cleaner.state.floatbank8_a_air              14149 non-null  float64\n",
      " 23  primary_cleaner.state.floatbank8_a_level            14149 non-null  float64\n",
      " 24  primary_cleaner.state.floatbank8_b_air              14149 non-null  float64\n",
      " 25  primary_cleaner.state.floatbank8_b_level            14149 non-null  float64\n",
      " 26  primary_cleaner.state.floatbank8_c_air              14149 non-null  float64\n",
      " 27  primary_cleaner.state.floatbank8_c_level            14149 non-null  float64\n",
      " 28  primary_cleaner.state.floatbank8_d_air              14149 non-null  float64\n",
      " 29  primary_cleaner.state.floatbank8_d_level            14149 non-null  float64\n",
      " 30  rougher.calculation.au_pb_ratio                     14149 non-null  float64\n",
      " 31  rougher.calculation.floatbank10_sulfate_to_au_feed  14149 non-null  float64\n",
      " 32  rougher.calculation.floatbank11_sulfate_to_au_feed  14149 non-null  float64\n",
      " 33  rougher.calculation.sulfate_to_au_concentrate       14149 non-null  float64\n",
      " 34  rougher.input.feed_ag                               14149 non-null  float64\n",
      " 35  rougher.input.feed_au                               14149 non-null  float64\n",
      " 36  rougher.input.feed_pb                               14149 non-null  float64\n",
      " 37  rougher.input.feed_rate                             14149 non-null  float64\n",
      " 38  rougher.input.feed_size                             14149 non-null  float64\n",
      " 39  rougher.input.feed_sol                              14149 non-null  float64\n",
      " 40  rougher.input.floatbank10_sulfate                   14149 non-null  float64\n",
      " 41  rougher.input.floatbank10_xanthate                  14149 non-null  float64\n",
      " 42  rougher.input.floatbank11_sulfate                   14149 non-null  float64\n",
      " 43  rougher.input.floatbank11_xanthate                  14149 non-null  float64\n",
      " 44  rougher.output.concentrate_ag                       14149 non-null  float64\n",
      " 45  rougher.output.concentrate_au                       14149 non-null  float64\n",
      " 46  rougher.output.concentrate_pb                       14149 non-null  float64\n",
      " 47  rougher.output.concentrate_sol                      14149 non-null  float64\n",
      " 48  rougher.output.recovery                             14149 non-null  float64\n",
      " 49  rougher.output.tail_ag                              14149 non-null  float64\n",
      " 50  rougher.output.tail_au                              14149 non-null  float64\n",
      " 51  rougher.output.tail_pb                              14149 non-null  float64\n",
      " 52  rougher.output.tail_sol                             14149 non-null  float64\n",
      " 53  rougher.state.floatbank10_a_air                     14149 non-null  float64\n",
      " 54  rougher.state.floatbank10_a_level                   14149 non-null  float64\n",
      " 55  rougher.state.floatbank10_b_air                     14149 non-null  float64\n",
      " 56  rougher.state.floatbank10_b_level                   14149 non-null  float64\n",
      " 57  rougher.state.floatbank10_c_air                     14149 non-null  float64\n",
      " 58  rougher.state.floatbank10_c_level                   14149 non-null  float64\n",
      " 59  rougher.state.floatbank10_d_air                     14149 non-null  float64\n",
      " 60  rougher.state.floatbank10_d_level                   14149 non-null  float64\n",
      " 61  rougher.state.floatbank10_e_air                     14149 non-null  float64\n",
      " 62  rougher.state.floatbank10_e_level                   14149 non-null  float64\n",
      " 63  rougher.state.floatbank10_f_air                     14149 non-null  float64\n",
      " 64  rougher.state.floatbank10_f_level                   14149 non-null  float64\n",
      " 65  secondary_cleaner.output.tail_ag                    14149 non-null  float64\n",
      " 66  secondary_cleaner.output.tail_au                    14149 non-null  float64\n",
      " 67  secondary_cleaner.output.tail_pb                    14149 non-null  float64\n",
      " 68  secondary_cleaner.output.tail_sol                   14149 non-null  float64\n",
      " 69  secondary_cleaner.state.floatbank2_a_air            14149 non-null  float64\n",
      " 70  secondary_cleaner.state.floatbank2_a_level          14149 non-null  float64\n",
      " 71  secondary_cleaner.state.floatbank2_b_air            14149 non-null  float64\n",
      " 72  secondary_cleaner.state.floatbank2_b_level          14149 non-null  float64\n",
      " 73  secondary_cleaner.state.floatbank3_a_air            14149 non-null  float64\n",
      " 74  secondary_cleaner.state.floatbank3_a_level          14149 non-null  float64\n",
      " 75  secondary_cleaner.state.floatbank3_b_air            14149 non-null  float64\n",
      " 76  secondary_cleaner.state.floatbank3_b_level          14149 non-null  float64\n",
      " 77  secondary_cleaner.state.floatbank4_a_air            14149 non-null  float64\n",
      " 78  secondary_cleaner.state.floatbank4_a_level          14149 non-null  float64\n",
      " 79  secondary_cleaner.state.floatbank4_b_air            14149 non-null  float64\n",
      " 80  secondary_cleaner.state.floatbank4_b_level          14149 non-null  float64\n",
      " 81  secondary_cleaner.state.floatbank5_a_air            14149 non-null  float64\n",
      " 82  secondary_cleaner.state.floatbank5_a_level          14149 non-null  float64\n",
      " 83  secondary_cleaner.state.floatbank5_b_air            14149 non-null  float64\n",
      " 84  secondary_cleaner.state.floatbank5_b_level          14149 non-null  float64\n",
      " 85  secondary_cleaner.state.floatbank6_a_air            14149 non-null  float64\n",
      " 86  secondary_cleaner.state.floatbank6_a_level          14149 non-null  float64\n",
      "dtypes: float64(86), object(1)\n",
      "memory usage: 9.4+ MB\n"
     ]
    }
   ],
   "source": [
    "# сортировка столбцов\n",
    "data_train_prep = data_train.sort_index(axis=1)\n",
    "data_train_prep.info()"
   ]
  },
  {
   "cell_type": "markdown",
   "metadata": {},
   "source": [
    "Столбец с датами не понадобится для построения модели, поэтому удалим его из выборок."
   ]
  },
  {
   "cell_type": "code",
   "execution_count": 23,
   "metadata": {},
   "outputs": [],
   "source": [
    "# удаление столбца\n",
    "data_train_prep = data_train_prep.drop(['date'], axis=1)\n",
    "data_test_prep = data_test_prep.drop(['date'], axis=1)"
   ]
  },
  {
   "cell_type": "code",
   "execution_count": 24,
   "metadata": {},
   "outputs": [
    {
     "data": {
      "text/plain": [
       "((14149, 86), (5290, 86))"
      ]
     },
     "execution_count": 24,
     "metadata": {},
     "output_type": "execute_result"
    }
   ],
   "source": [
    "# проверка размера выборок\n",
    "data_train_prep.shape, data_test_prep.shape"
   ]
  },
  {
   "cell_type": "markdown",
   "metadata": {},
   "source": [
    "Выборки имеют правильные итоговые размеры."
   ]
  },
  {
   "cell_type": "markdown",
   "metadata": {},
   "source": [
    "### Выводы"
   ]
  },
  {
   "cell_type": "markdown",
   "metadata": {},
   "source": [
    "В процессе подготовки данных были выполнены следующие действия:\n",
    "* проведен анализ общей информации о датасетах: выявлено наличие пропущенных значений и отсутствие столбцов в тестовой выборке;\n",
    "\n",
    "\n",
    "* проверена корректность параметра эффективности обогащения: параметр соответствует расчетному;\n",
    "\n",
    "\n",
    "* изучены пропущенные признаки в тестовой выборке: отсутствуют выходные параметры продукта для каждого этапа (флоатации, первичной и вторичной очистки, а также финального концентрата) и расчетные характеристики флотации;\n",
    "\n",
    "\n",
    "* проведена предобработка данных: пропущенные значения заполнены значениями из предыдущей строки, тестовая выборка дополнена недостающими признаками, тестовая и обучающая выборки приведены к единому виду, удален столбец с датами, лишний для построения модели."
   ]
  },
  {
   "cell_type": "markdown",
   "metadata": {},
   "source": [
    "## Анализ данных"
   ]
  },
  {
   "cell_type": "markdown",
   "metadata": {},
   "source": [
    "### Исследование изменения концентрации элементов на каждом этапе"
   ]
  },
  {
   "cell_type": "markdown",
   "metadata": {},
   "source": [
    "Необходимо проанализировать изменения концентрации Au, Ag и Pb. Чтобы не выбирать вручную нужные нам концентрации, отберем их по названию металла в столбцах исходных данных."
   ]
  },
  {
   "cell_type": "code",
   "execution_count": 25,
   "metadata": {},
   "outputs": [
    {
     "data": {
      "text/plain": [
       "(<bound method IndexOpsMixin.tolist of Index(['final.output.concentrate_au', 'final.output.tail_au',\n",
       "        'primary_cleaner.output.concentrate_au',\n",
       "        'primary_cleaner.output.tail_au',\n",
       "        'rougher.calculation.sulfate_to_au_concentrate',\n",
       "        'rougher.calculation.floatbank10_sulfate_to_au_feed',\n",
       "        'rougher.calculation.floatbank11_sulfate_to_au_feed',\n",
       "        'rougher.calculation.au_pb_ratio', 'rougher.input.feed_au',\n",
       "        'rougher.output.concentrate_au', 'rougher.output.tail_au',\n",
       "        'secondary_cleaner.output.tail_au'],\n",
       "       dtype='object')>,\n",
       " <bound method IndexOpsMixin.tolist of Index(['final.output.concentrate_ag', 'final.output.tail_ag',\n",
       "        'primary_cleaner.output.concentrate_ag',\n",
       "        'primary_cleaner.output.tail_ag', 'rougher.input.feed_ag',\n",
       "        'rougher.output.concentrate_ag', 'rougher.output.tail_ag',\n",
       "        'secondary_cleaner.output.tail_ag'],\n",
       "       dtype='object')>,\n",
       " <bound method IndexOpsMixin.tolist of Index(['final.output.concentrate_pb', 'final.output.tail_pb',\n",
       "        'primary_cleaner.output.concentrate_pb',\n",
       "        'primary_cleaner.output.tail_pb', 'rougher.calculation.au_pb_ratio',\n",
       "        'rougher.input.feed_pb', 'rougher.output.concentrate_pb',\n",
       "        'rougher.output.tail_pb', 'secondary_cleaner.output.tail_pb'],\n",
       "       dtype='object')>)"
      ]
     },
     "execution_count": 25,
     "metadata": {},
     "output_type": "execute_result"
    }
   ],
   "source": [
    "# отбор столбцов\n",
    "data_full.columns[data_full.columns.str.contains('au')].to_list,\\\n",
    "data_full.columns[data_full.columns.str.contains('ag')].to_list,\\\n",
    "data_full.columns[data_full.columns.str.contains('pb')].to_list"
   ]
  },
  {
   "cell_type": "markdown",
   "metadata": {},
   "source": [
    "В качестве исходной концентрации будем рассматривать столбцы:\n",
    "* `rougher.input.feed_au`;\n",
    "* `rougher.input.feed_ag`;\n",
    "* `rougher.input.feed_pb`.\n",
    "\n",
    "\n",
    "После этапа флотации будем рассматривать столбцы:\n",
    "* `rougher.output.concentrate_au`;\n",
    "* `rougher.output.concentrate_ag`;\n",
    "* `rougher.output.concentrate_pb`.\n",
    "\n",
    "\n",
    "После этапа первой очистки будем рассматривать столбцы:\n",
    "* `primary_cleaner.output.concentrate_au`;\n",
    "* `primary_cleaner.output.concentrate_ag`;\n",
    "* `primary_cleaner.output.concentrate_pb`.\n",
    "\n",
    "\n",
    "После этапа второй очистки будем рассматривать столбцы:\n",
    "* `final.output.concentrate_au`;\n",
    "* `final.output.concentrate_ag`;\n",
    "* `final.output.concentrate_pb`."
   ]
  },
  {
   "cell_type": "code",
   "execution_count": 26,
   "metadata": {
    "scrolled": false
   },
   "outputs": [],
   "source": [
    "# функция для построение графика\n",
    "def chart (raw, rougher, primary_cleaner, final, metal, x, y):\n",
    "    raw.plot(kind='kde', figsize=(16,8), label='Исходная концентрация')\n",
    "    rougher.plot(kind='kde', figsize=(16,8), label='После флотации')\n",
    "    primary_cleaner.plot(kind='kde', figsize=(16,8), label='После первой очистки')\n",
    "    final.plot(kind='kde', figsize=(16,8), label='Финальная концентрация')\n",
    "    plt.title('Изменение концентрации ' + metal + ' на каждом этапе технологического процесса', loc='center', fontsize=20)\n",
    "    plt.xlabel('Концентрация', fontsize=12)\n",
    "    plt.ylabel('Частота', fontsize=12)\n",
    "    plt.xlim(0, x)\n",
    "    plt.ylim(0, y)\n",
    "    plt.legend(fontsize=12)"
   ]
  },
  {
   "cell_type": "code",
   "execution_count": 27,
   "metadata": {},
   "outputs": [
    {
     "data": {
      "image/png": "[encoded data removed]",
      "text/plain": [
       "<Figure size 1152x576 with 1 Axes>"
      ]
     },
     "metadata": {
      "needs_background": "light"
     },
     "output_type": "display_data"
    }
   ],
   "source": [
    "chart(data_full['rougher.input.feed_au'], data_full['rougher.output.concentrate_au'],\n",
    "      data_full['primary_cleaner.output.concentrate_au'], data_full['final.output.concentrate_au'],\n",
    "     'Au', 60, 0.25)"
   ]
  },
  {
   "cell_type": "code",
   "execution_count": 28,
   "metadata": {},
   "outputs": [
    {
     "data": {
      "image/png": "[encoded data removed]",
      "text/plain": [
       "<Figure size 1152x576 with 1 Axes>"
      ]
     },
     "metadata": {
      "needs_background": "light"
     },
     "output_type": "display_data"
    }
   ],
   "source": [
    "chart(data_full['rougher.input.feed_ag'], data_full['rougher.output.concentrate_ag'],\n",
    "      data_full['primary_cleaner.output.concentrate_ag'], data_full['final.output.concentrate_ag'],\n",
    "     'Ag', 20, 0.35)"
   ]
  },
  {
   "cell_type": "code",
   "execution_count": 29,
   "metadata": {},
   "outputs": [
    {
     "data": {
      "image/png": "[encoded data removed]",
      "text/plain": [
       "<Figure size 1152x576 with 1 Axes>"
      ]
     },
     "metadata": {
      "needs_background": "light"
     },
     "output_type": "display_data"
    }
   ],
   "source": [
    "chart(data_full['rougher.input.feed_pb'], data_full['rougher.output.concentrate_pb'],\n",
    "      data_full['primary_cleaner.output.concentrate_pb'], data_full['final.output.concentrate_pb'],\n",
    "     'Pb', 20, 0.4)"
   ]
  },
  {
   "cell_type": "markdown",
   "metadata": {},
   "source": [
    "После каждого этапа очистки доля золота увеличивается, что вполне логично, так как в этом цель процесса. Доля серебра уменьшается, а свинец имеет примерно ту же долю в концентрате, но учитвая что доля золота существенно увеличивается ближе к финальному концентрату, можно утверждать что фактическое количество свинца уменьшается. Просто его доля велика из-за уменьшения доли других веществ."
   ]
  },
  {
   "cell_type": "markdown",
   "metadata": {},
   "source": [
    "### Распределение размеров гранул сырья на обучающей и тестовой выборках"
   ]
  },
  {
   "cell_type": "code",
   "execution_count": 30,
   "metadata": {},
   "outputs": [
    {
     "data": {
      "text/plain": [
       "<matplotlib.legend.Legend at 0x7f3590dc3f40>"
      ]
     },
     "execution_count": 30,
     "metadata": {},
     "output_type": "execute_result"
    },
    {
     "data": {
      "image/png": "[encoded data removed]",
      "text/plain": [
       "<Figure size 1152x576 with 1 Axes>"
      ]
     },
     "metadata": {
      "needs_background": "light"
     },
     "output_type": "display_data"
    }
   ],
   "source": [
    "# построение гистограммы\n",
    "data_train['rougher.input.feed_size'].hist(figsize=(16, 8), bins=60, alpha=0.5, density=True, label='Обучающая выборка')\n",
    "data_test['rougher.input.feed_size'].hist(figsize=(16, 8), bins=60, alpha=0.5, density=True, label='Тестовая выборка')\n",
    "plt.title('Распределение размеров гранул сырья', fontsize=20)\n",
    "plt.xlabel('Размер гранул', fontsize=12)\n",
    "plt.ylabel('Частота', fontsize=12)\n",
    "plt.legend(fontsize=12)"
   ]
  },
  {
   "cell_type": "markdown",
   "metadata": {},
   "source": [
    "Если распределения сильно отличаются друг от друга, оценка модели будет неправильной. К счастью в данном случае сильное отличие не наблюдается."
   ]
  },
  {
   "cell_type": "markdown",
   "metadata": {},
   "source": [
    "### Исследование суммарной концентрации всех веществ на разных стадиях: в сырье, в черновом и финальном концентратах."
   ]
  },
  {
   "cell_type": "code",
   "execution_count": 31,
   "metadata": {},
   "outputs": [],
   "source": [
    "# вычисление сумм\n",
    "feed_concentrate = data_full['rougher.input.feed_ag'] + data_full['rougher.input.feed_pb'] +\\\n",
    "            data_full['rougher.input.feed_sol'] + data_full['rougher.input.feed_au']\n",
    "rougher_concentrate = data_full['rougher.output.concentrate_ag'] + data_full['rougher.output.concentrate_pb'] +\\\n",
    "            data_full['rougher.output.concentrate_sol'] + data_full['rougher.output.concentrate_au']\n",
    "final_concentrate = data_full['final.output.concentrate_ag'] + data_full['final.output.concentrate_pb'] +\\\n",
    "            data_full['final.output.concentrate_sol'] + data_full['final.output.concentrate_au']"
   ]
  },
  {
   "cell_type": "code",
   "execution_count": 32,
   "metadata": {
    "scrolled": false
   },
   "outputs": [
    {
     "data": {
      "text/plain": [
       "<matplotlib.legend.Legend at 0x7f3590e2f700>"
      ]
     },
     "execution_count": 32,
     "metadata": {},
     "output_type": "execute_result"
    },
    {
     "data": {
      "image/png": "[encoded data removed]",
      "text/plain": [
       "<Figure size 1152x576 with 1 Axes>"
      ]
     },
     "metadata": {
      "needs_background": "light"
     },
     "output_type": "display_data"
    }
   ],
   "source": [
    "# построение гистограммы\n",
    "feed_concentrate.hist(figsize=(16, 8), bins=60, alpha=0.5, density=True, label='Смесь золотоносной руды')\n",
    "rougher_concentrate.hist(figsize=(16, 8), bins=60, alpha=0.5, density=True, label='Черновой концентрат')\n",
    "final_concentrate.hist(figsize=(16, 8), bins=60, alpha=0.5, density=True, label='Финальный концентрат')\n",
    "plt.title('Распределение суммарных концентраций всех веществ на разных стадиях', fontsize=20)\n",
    "plt.xlabel('Концентрат', fontsize=12)\n",
    "plt.ylabel('Частота', fontsize=12)\n",
    "plt.legend(fontsize=12)"
   ]
  },
  {
   "cell_type": "markdown",
   "metadata": {},
   "source": [
    "Значение концентрации веществ на начальном этапе меньше чем после флотаций и у финальной концентраций. На финальном этапе распределение стремится к нормальному.\n",
    "\n",
    "Можно заметить наличие нулевых суммарных концентраций, которые похожи на аномалии. Избавимся от них."
   ]
  },
  {
   "cell_type": "code",
   "execution_count": 33,
   "metadata": {},
   "outputs": [],
   "source": [
    "# устранение аномалий\n",
    "data_train_new = data_train_prep[(data_train_prep['rougher.input.feed_ag'] > 0) &\\\n",
    "                                  (data_train_prep['rougher.input.feed_pb'] > 0) &\\\n",
    "                                  (data_train_prep['rougher.input.feed_sol'] > 0) &\\\n",
    "                                  (data_train_prep['rougher.input.feed_au'] > 0) &\\\n",
    "                                  (data_train_prep['rougher.output.concentrate_ag'] > 0) &\\\n",
    "                                  (data_train_prep['rougher.output.concentrate_pb'] > 0) &\\\n",
    "                                  (data_train_prep['rougher.output.concentrate_sol'] > 0) &\\\n",
    "                                  (data_train_prep['rougher.output.concentrate_au'] > 0) &\\\n",
    "                                  (data_train_prep['final.output.concentrate_ag'] > 0) &\\\n",
    "                                  (data_train_prep['final.output.concentrate_pb'] > 0) &\\\n",
    "                                  (data_train_prep['final.output.concentrate_sol'] > 0) &\\\n",
    "                                  (data_train_prep['final.output.concentrate_au'] > 0)]\n",
    "data_test_new = data_test_prep[(data_test_prep['rougher.input.feed_ag'] > 0) &\\\n",
    "                                  (data_test_prep['rougher.input.feed_pb'] > 0) &\\\n",
    "                                  (data_test_prep['rougher.input.feed_sol'] > 0) &\\\n",
    "                                  (data_test_prep['rougher.input.feed_au'] > 0) &\\\n",
    "                                  (data_test_prep['rougher.output.concentrate_ag'] > 0) &\\\n",
    "                                  (data_test_prep['rougher.output.concentrate_pb'] > 0) &\\\n",
    "                                  (data_test_prep['rougher.output.concentrate_sol'] > 0) &\\\n",
    "                                  (data_test_prep['rougher.output.concentrate_au'] > 0) &\\\n",
    "                                  (data_test_prep['final.output.concentrate_ag'] > 0) &\\\n",
    "                                  (data_test_prep['final.output.concentrate_pb'] > 0) &\\\n",
    "                                  (data_test_prep['final.output.concentrate_sol'] > 0) &\\\n",
    "                                  (data_test_prep['final.output.concentrate_au'] > 0)]"
   ]
  },
  {
   "cell_type": "code",
   "execution_count": 34,
   "metadata": {},
   "outputs": [
    {
     "data": {
      "text/plain": [
       "((13792, 86), (5154, 86))"
      ]
     },
     "execution_count": 34,
     "metadata": {},
     "output_type": "execute_result"
    }
   ],
   "source": [
    "data_train_new.shape, data_test_new.shape"
   ]
  },
  {
   "cell_type": "code",
   "execution_count": 35,
   "metadata": {},
   "outputs": [
    {
     "data": {
      "text/plain": [
       "(2.523146512121002, 2.5708884688090734)"
      ]
     },
     "execution_count": 35,
     "metadata": {},
     "output_type": "execute_result"
    }
   ],
   "source": [
    "100 - data_train_new.shape[0] / data_train_prep.shape[0] * 100,\\\n",
    "100 - data_test_new.shape[0] / data_test_prep.shape[0] * 100"
   ]
  },
  {
   "cell_type": "markdown",
   "metadata": {},
   "source": [
    "Удалили примерно 2,5% данных.\n",
    "\n",
    "Теперь выборки не содержат нулевых концентраций."
   ]
  },
  {
   "cell_type": "markdown",
   "metadata": {},
   "source": [
    "### Выводы"
   ]
  },
  {
   "cell_type": "markdown",
   "metadata": {},
   "source": [
    "* Было проанализировано как меняется концентрация металлов на разных этапах очистки: доля золота увелчивается, доли серебра и свинца уменьшаются, что вполне логично учитывая цель процесса.\n",
    "* Были оценены распределения размеров гранул на обучающей и тестовой выборке: они различаются не сильно, и это не слишком повлияет на оценку модели.\n",
    "* Была исследована суммарная концентрация всех веществ на разных стадиях: в сырье, в черновом и финальном концентратах: в данных обнаружились аномалии, которые мы устранили."
   ]
  },
  {
   "cell_type": "markdown",
   "metadata": {},
   "source": [
    "## Модель"
   ]
  },
  {
   "cell_type": "markdown",
   "metadata": {},
   "source": [
    "### Функция для вычисления итоговой sMAPE"
   ]
  },
  {
   "cell_type": "markdown",
   "metadata": {},
   "source": [
    "![](https://pictures.s3.yandex.net/resources/smape_1576239058.jpg)"
   ]
  },
  {
   "cell_type": "markdown",
   "metadata": {},
   "source": [
    "![](https://pictures.s3.yandex.net/resources/_smape_1576239054.jpg)"
   ]
  },
  {
   "cell_type": "code",
   "execution_count": 36,
   "metadata": {},
   "outputs": [],
   "source": [
    "# определение функции sMAPE\n",
    "def smape(target, prediction):\n",
    "    return np.mean(abs(target - prediction)/((abs(target)+abs(prediction))/2))*100"
   ]
  },
  {
   "cell_type": "code",
   "execution_count": 37,
   "metadata": {},
   "outputs": [],
   "source": [
    "# определение функции итогового sMAPE\n",
    "def result_smape(rougher, final):\n",
    "    return 0.25 * rougher + 0.75 * final"
   ]
  },
  {
   "cell_type": "markdown",
   "metadata": {},
   "source": [
    "### Подготовка признаков"
   ]
  },
  {
   "cell_type": "code",
   "execution_count": 38,
   "metadata": {},
   "outputs": [
    {
     "name": "stdout",
     "output_type": "stream",
     "text": [
      "<class 'pandas.core.frame.DataFrame'>\n",
      "Int64Index: 13792 entries, 0 to 14148\n",
      "Data columns (total 35 columns):\n",
      " #   Column                                              Non-Null Count  Dtype  \n",
      "---  ------                                              --------------  -----  \n",
      " 0   rougher.calculation.au_pb_ratio                     13792 non-null  float64\n",
      " 1   rougher.calculation.floatbank10_sulfate_to_au_feed  13792 non-null  float64\n",
      " 2   rougher.calculation.floatbank11_sulfate_to_au_feed  13792 non-null  float64\n",
      " 3   rougher.calculation.sulfate_to_au_concentrate       13792 non-null  float64\n",
      " 4   rougher.input.feed_ag                               13792 non-null  float64\n",
      " 5   rougher.input.feed_au                               13792 non-null  float64\n",
      " 6   rougher.input.feed_pb                               13792 non-null  float64\n",
      " 7   rougher.input.feed_rate                             13792 non-null  float64\n",
      " 8   rougher.input.feed_size                             13792 non-null  float64\n",
      " 9   rougher.input.feed_sol                              13792 non-null  float64\n",
      " 10  rougher.input.floatbank10_sulfate                   13792 non-null  float64\n",
      " 11  rougher.input.floatbank10_xanthate                  13792 non-null  float64\n",
      " 12  rougher.input.floatbank11_sulfate                   13792 non-null  float64\n",
      " 13  rougher.input.floatbank11_xanthate                  13792 non-null  float64\n",
      " 14  rougher.output.concentrate_ag                       13792 non-null  float64\n",
      " 15  rougher.output.concentrate_au                       13792 non-null  float64\n",
      " 16  rougher.output.concentrate_pb                       13792 non-null  float64\n",
      " 17  rougher.output.concentrate_sol                      13792 non-null  float64\n",
      " 18  rougher.output.recovery                             13792 non-null  float64\n",
      " 19  rougher.output.tail_ag                              13792 non-null  float64\n",
      " 20  rougher.output.tail_au                              13792 non-null  float64\n",
      " 21  rougher.output.tail_pb                              13792 non-null  float64\n",
      " 22  rougher.output.tail_sol                             13792 non-null  float64\n",
      " 23  rougher.state.floatbank10_a_air                     13792 non-null  float64\n",
      " 24  rougher.state.floatbank10_a_level                   13792 non-null  float64\n",
      " 25  rougher.state.floatbank10_b_air                     13792 non-null  float64\n",
      " 26  rougher.state.floatbank10_b_level                   13792 non-null  float64\n",
      " 27  rougher.state.floatbank10_c_air                     13792 non-null  float64\n",
      " 28  rougher.state.floatbank10_c_level                   13792 non-null  float64\n",
      " 29  rougher.state.floatbank10_d_air                     13792 non-null  float64\n",
      " 30  rougher.state.floatbank10_d_level                   13792 non-null  float64\n",
      " 31  rougher.state.floatbank10_e_air                     13792 non-null  float64\n",
      " 32  rougher.state.floatbank10_e_level                   13792 non-null  float64\n",
      " 33  rougher.state.floatbank10_f_air                     13792 non-null  float64\n",
      " 34  rougher.state.floatbank10_f_level                   13792 non-null  float64\n",
      "dtypes: float64(35)\n",
      "memory usage: 3.8 MB\n"
     ]
    }
   ],
   "source": [
    "# формирование обучающей выборки с признаками для этапа флотации\n",
    "data_train_rougher = data_train_new.iloc[:, 29:64]\n",
    "data_train_rougher.info()"
   ]
  },
  {
   "cell_type": "code",
   "execution_count": 39,
   "metadata": {},
   "outputs": [
    {
     "name": "stdout",
     "output_type": "stream",
     "text": [
      "<class 'pandas.core.frame.DataFrame'>\n",
      "Int64Index: 5154 entries, 0 to 5289\n",
      "Data columns (total 35 columns):\n",
      " #   Column                                              Non-Null Count  Dtype  \n",
      "---  ------                                              --------------  -----  \n",
      " 0   rougher.calculation.au_pb_ratio                     5154 non-null   float64\n",
      " 1   rougher.calculation.floatbank10_sulfate_to_au_feed  5154 non-null   float64\n",
      " 2   rougher.calculation.floatbank11_sulfate_to_au_feed  5154 non-null   float64\n",
      " 3   rougher.calculation.sulfate_to_au_concentrate       5154 non-null   float64\n",
      " 4   rougher.input.feed_ag                               5154 non-null   float64\n",
      " 5   rougher.input.feed_au                               5154 non-null   float64\n",
      " 6   rougher.input.feed_pb                               5154 non-null   float64\n",
      " 7   rougher.input.feed_rate                             5154 non-null   float64\n",
      " 8   rougher.input.feed_size                             5154 non-null   float64\n",
      " 9   rougher.input.feed_sol                              5154 non-null   float64\n",
      " 10  rougher.input.floatbank10_sulfate                   5154 non-null   float64\n",
      " 11  rougher.input.floatbank10_xanthate                  5154 non-null   float64\n",
      " 12  rougher.input.floatbank11_sulfate                   5154 non-null   float64\n",
      " 13  rougher.input.floatbank11_xanthate                  5154 non-null   float64\n",
      " 14  rougher.output.concentrate_ag                       5154 non-null   float64\n",
      " 15  rougher.output.concentrate_au                       5154 non-null   float64\n",
      " 16  rougher.output.concentrate_pb                       5154 non-null   float64\n",
      " 17  rougher.output.concentrate_sol                      5154 non-null   float64\n",
      " 18  rougher.output.recovery                             5154 non-null   float64\n",
      " 19  rougher.output.tail_ag                              5154 non-null   float64\n",
      " 20  rougher.output.tail_au                              5154 non-null   float64\n",
      " 21  rougher.output.tail_pb                              5154 non-null   float64\n",
      " 22  rougher.output.tail_sol                             5154 non-null   float64\n",
      " 23  rougher.state.floatbank10_a_air                     5154 non-null   float64\n",
      " 24  rougher.state.floatbank10_a_level                   5154 non-null   float64\n",
      " 25  rougher.state.floatbank10_b_air                     5154 non-null   float64\n",
      " 26  rougher.state.floatbank10_b_level                   5154 non-null   float64\n",
      " 27  rougher.state.floatbank10_c_air                     5154 non-null   float64\n",
      " 28  rougher.state.floatbank10_c_level                   5154 non-null   float64\n",
      " 29  rougher.state.floatbank10_d_air                     5154 non-null   float64\n",
      " 30  rougher.state.floatbank10_d_level                   5154 non-null   float64\n",
      " 31  rougher.state.floatbank10_e_air                     5154 non-null   float64\n",
      " 32  rougher.state.floatbank10_e_level                   5154 non-null   float64\n",
      " 33  rougher.state.floatbank10_f_air                     5154 non-null   float64\n",
      " 34  rougher.state.floatbank10_f_level                   5154 non-null   float64\n",
      "dtypes: float64(35)\n",
      "memory usage: 1.4 MB\n"
     ]
    }
   ],
   "source": [
    "# формирование тестовой выборки с признаками для этапа флотации\n",
    "data_test_rougher = data_test_new.iloc[:, 29:64]\n",
    "data_test_rougher.info()"
   ]
  },
  {
   "cell_type": "code",
   "execution_count": 40,
   "metadata": {},
   "outputs": [],
   "source": [
    "# создание переменные для признаков и целевого признака\n",
    "features_train_rougher = data_train_rougher.drop(['rougher.output.recovery'], axis=1)\n",
    "target_train_rougher = data_train_rougher['rougher.output.recovery']\n",
    "features_train_final = data_train_new.drop(['rougher.output.recovery', 'final.output.recovery'], axis=1)\n",
    "target_train_final = data_train_new['final.output.recovery']\n",
    "features_test_rougher = data_test_rougher.drop(['rougher.output.recovery'], axis=1)\n",
    "target_test_rougher = data_test_rougher['rougher.output.recovery']\n",
    "features_test_final = data_test_new.drop(['rougher.output.recovery', 'final.output.recovery'], axis=1)\n",
    "target_test_final = data_test_new['final.output.recovery']"
   ]
  },
  {
   "cell_type": "code",
   "execution_count": 41,
   "metadata": {},
   "outputs": [
    {
     "data": {
      "text/plain": [
       "((13792, 34),\n",
       " (13792,),\n",
       " (13792, 84),\n",
       " (13792,),\n",
       " (5154, 34),\n",
       " (5154,),\n",
       " (5154, 84),\n",
       " (5154,))"
      ]
     },
     "execution_count": 41,
     "metadata": {},
     "output_type": "execute_result"
    }
   ],
   "source": [
    "# проверка размера выборок признаков\n",
    "features_train_rougher.shape, target_train_rougher.shape,\\\n",
    "features_train_final.shape, target_train_final.shape,\\\n",
    "features_test_rougher.shape, target_test_rougher.shape,\\\n",
    "features_test_final.shape, target_test_final.shape"
   ]
  },
  {
   "cell_type": "code",
   "execution_count": 42,
   "metadata": {},
   "outputs": [],
   "source": [
    "# определение функции подбора параметров модели\n",
    "smape_score = make_scorer(smape, greater_is_better=False)"
   ]
  },
  {
   "cell_type": "markdown",
   "metadata": {},
   "source": [
    "### Модель линейной регрессии"
   ]
  },
  {
   "cell_type": "code",
   "execution_count": 43,
   "metadata": {
    "scrolled": false
   },
   "outputs": [
    {
     "name": "stdout",
     "output_type": "stream",
     "text": [
      "Средняя оценка качества модели: -2.1830907048335666\n"
     ]
    }
   ],
   "source": [
    "# обучение алгоритма линейной регрессии на этапе флотации\n",
    "model_LR = make_pipeline(StandardScaler(), LinearRegression())\n",
    "param_LR = {'linearregression__copy_X': [False, True]}\n",
    "model_rougher_LR = GridSearchCV(model_LR, param_LR, scoring=smape_score, cv=5).fit(features_train_rougher, target_train_rougher)\n",
    "print('Средняя оценка качества модели:', model_rougher_LR.best_score_)"
   ]
  },
  {
   "cell_type": "code",
   "execution_count": 44,
   "metadata": {},
   "outputs": [
    {
     "name": "stdout",
     "output_type": "stream",
     "text": [
      "Средняя оценка качества модели: -3.9011852587123528\n"
     ]
    }
   ],
   "source": [
    "# обучение алгоритма линейной регрессии на финальном этапе\n",
    "model_final_LR = GridSearchCV(model_LR, param_LR, scoring=smape_score, cv=5).fit(features_train_final, target_train_final)\n",
    "print('Средняя оценка качества модели:', model_final_LR.best_score_)"
   ]
  },
  {
   "cell_type": "markdown",
   "metadata": {},
   "source": [
    "### Модель дерева решений"
   ]
  },
  {
   "cell_type": "code",
   "execution_count": 45,
   "metadata": {},
   "outputs": [
    {
     "name": "stdout",
     "output_type": "stream",
     "text": [
      "Средняя оценка качества модели: -1.9517467196432876\n"
     ]
    }
   ],
   "source": [
    "# обучение алгоритма дерева решений на этапе флотации\n",
    "model_DT = make_pipeline(StandardScaler(), DecisionTreeRegressor(random_state=12345))\n",
    "params_DT= {\"decisiontreeregressor__max_depth\":range(1,10)}\n",
    "model_rougher_DT = GridSearchCV(model_DT, params_DT, scoring=smape_score, cv=5).fit(features_train_rougher, target_train_rougher)\n",
    "print('Средняя оценка качества модели:', model_rougher_DT.best_score_)"
   ]
  },
  {
   "cell_type": "code",
   "execution_count": 46,
   "metadata": {},
   "outputs": [
    {
     "name": "stdout",
     "output_type": "stream",
     "text": [
      "Средняя оценка качества модели: -3.8407351103425116\n"
     ]
    }
   ],
   "source": [
    "# обучение алгоритма дерева решений на финальном этапе\n",
    "model_final_DT = GridSearchCV(model_DT, params_DT, scoring=smape_score, cv=5).fit(features_train_final, target_train_final)\n",
    "print('Средняя оценка качества модели:', model_final_DT.best_score_)"
   ]
  },
  {
   "cell_type": "markdown",
   "metadata": {},
   "source": [
    "### Модель случайного леса"
   ]
  },
  {
   "cell_type": "code",
   "execution_count": 47,
   "metadata": {},
   "outputs": [
    {
     "name": "stdout",
     "output_type": "stream",
     "text": [
      "Средняя оценка качества модели: -1.1567155955848278\n"
     ]
    }
   ],
   "source": [
    "# обучение алгоритма случайного леса на этапе флотации\n",
    "model_RF = make_pipeline(StandardScaler(), RandomForestRegressor(random_state=12345))\n",
    "params_RF = {'randomforestregressor__n_estimators': range(1,10), 'randomforestregressor__max_depth':range(10,61,10)}\n",
    "model_rougher_RF = GridSearchCV(model_RF, params_RF, scoring=smape_score, cv=5).fit(features_train_rougher, target_train_rougher)\n",
    "print('Средняя оценка качества модели:', model_rougher_RF.best_score_)"
   ]
  },
  {
   "cell_type": "code",
   "execution_count": 48,
   "metadata": {},
   "outputs": [
    {
     "name": "stdout",
     "output_type": "stream",
     "text": [
      "Средняя оценка качества модели: -2.042154811496104\n"
     ]
    }
   ],
   "source": [
    "# обучение алгоритма случайного леса на финальном этапе\n",
    "model_final_RF = GridSearchCV(model_RF, params_RF, scoring=smape_score, cv=5).fit(features_train_final, target_train_final)\n",
    "print('Средняя оценка качества модели:', model_final_RF.best_score_)"
   ]
  },
  {
   "cell_type": "markdown",
   "metadata": {},
   "source": [
    "### Проверка на тестовой модели"
   ]
  },
  {
   "cell_type": "markdown",
   "metadata": {},
   "source": [
    "Согласно результатам оценки моделей, наиболее подходящая в данном проекте - модель случайного леса. Проверим ее на тестовой выборке."
   ]
  },
  {
   "cell_type": "code",
   "execution_count": 49,
   "metadata": {},
   "outputs": [],
   "source": [
    "# тестируем модель\n",
    "rougher_pred = model_rougher_RF.predict(features_test_rougher)\n",
    "final_pred = model_final_RF.predict(features_test_final)"
   ]
  },
  {
   "cell_type": "code",
   "execution_count": 50,
   "metadata": {},
   "outputs": [
    {
     "data": {
      "text/plain": [
       "1.0655692671682544"
      ]
     },
     "execution_count": 50,
     "metadata": {},
     "output_type": "execute_result"
    }
   ],
   "source": [
    "# расчет итогового sMAPE\n",
    "result_smape(smape(target_test_rougher, rougher_pred), smape(target_test_final, final_pred))"
   ]
  },
  {
   "cell_type": "markdown",
   "metadata": {},
   "source": [
    "### Выводы"
   ]
  },
  {
   "cell_type": "markdown",
   "metadata": {},
   "source": [
    "* Мы написали функцию для вычисления итоговой sMAPE.\n",
    "* Обучили разные модели и оценили их качество кросс-валидацией. Выбрали лучшую модель и проверили её на тестовой выборке."
   ]
  }
 ],
 "metadata": {
  "ExecuteTimeLog": [
   {
    "duration": 1955,
    "start_time": "2022-03-24T17:44:28.677Z"
   },
   {
    "duration": 659,
    "start_time": "2022-03-24T17:46:50.828Z"
   },
   {
    "duration": 68,
    "start_time": "2022-03-24T17:52:20.071Z"
   },
   {
    "duration": 55,
    "start_time": "2022-03-24T17:53:05.941Z"
   },
   {
    "duration": 61,
    "start_time": "2022-03-24T17:53:22.677Z"
   },
   {
    "duration": 54,
    "start_time": "2022-03-24T17:53:32.485Z"
   },
   {
    "duration": 56,
    "start_time": "2022-03-24T17:53:40.725Z"
   },
   {
    "duration": 53,
    "start_time": "2022-03-24T17:53:48.335Z"
   },
   {
    "duration": 56,
    "start_time": "2022-03-24T17:54:01.884Z"
   },
   {
    "duration": 59,
    "start_time": "2022-03-24T17:54:07.924Z"
   },
   {
    "duration": 51,
    "start_time": "2022-03-24T17:54:29.228Z"
   },
   {
    "duration": 41,
    "start_time": "2022-03-24T17:58:00.813Z"
   },
   {
    "duration": 34,
    "start_time": "2022-03-24T17:58:36.453Z"
   },
   {
    "duration": 32,
    "start_time": "2022-03-24T17:58:43.164Z"
   },
   {
    "duration": 32,
    "start_time": "2022-03-24T17:58:49.573Z"
   },
   {
    "duration": 33,
    "start_time": "2022-03-24T17:58:56.613Z"
   },
   {
    "duration": 34,
    "start_time": "2022-03-24T17:59:03.493Z"
   },
   {
    "duration": 34,
    "start_time": "2022-03-24T17:59:10.324Z"
   },
   {
    "duration": 32,
    "start_time": "2022-03-24T17:59:32.573Z"
   },
   {
    "duration": 21,
    "start_time": "2022-03-24T18:00:45.662Z"
   },
   {
    "duration": 16,
    "start_time": "2022-03-24T18:01:06.573Z"
   },
   {
    "duration": 213,
    "start_time": "2022-03-24T18:02:49.125Z"
   },
   {
    "duration": 224,
    "start_time": "2022-03-24T18:44:45.828Z"
   },
   {
    "duration": 20,
    "start_time": "2022-03-24T18:44:57.962Z"
   },
   {
    "duration": 17,
    "start_time": "2022-03-24T18:45:08.123Z"
   },
   {
    "duration": 20,
    "start_time": "2022-03-24T18:51:26.988Z"
   },
   {
    "duration": 23,
    "start_time": "2022-03-24T18:51:43.347Z"
   },
   {
    "duration": 20,
    "start_time": "2022-03-24T18:52:11.611Z"
   },
   {
    "duration": 17,
    "start_time": "2022-03-24T18:52:39.449Z"
   },
   {
    "duration": 20,
    "start_time": "2022-03-24T18:53:47.907Z"
   },
   {
    "duration": 16,
    "start_time": "2022-03-24T18:55:06.178Z"
   },
   {
    "duration": 21,
    "start_time": "2022-03-24T18:55:48.418Z"
   },
   {
    "duration": 13,
    "start_time": "2022-03-24T18:56:20.779Z"
   },
   {
    "duration": 15,
    "start_time": "2022-03-24T19:17:12.678Z"
   },
   {
    "duration": 3,
    "start_time": "2022-03-24T19:37:25.878Z"
   },
   {
    "duration": 11,
    "start_time": "2022-03-24T19:40:10.565Z"
   },
   {
    "duration": 3,
    "start_time": "2022-03-24T19:46:18.887Z"
   },
   {
    "duration": 102,
    "start_time": "2022-03-24T19:49:53.862Z"
   },
   {
    "duration": 11,
    "start_time": "2022-03-24T19:50:22.862Z"
   },
   {
    "duration": 5,
    "start_time": "2022-03-24T19:50:39.054Z"
   },
   {
    "duration": 4,
    "start_time": "2022-03-24T19:58:03.512Z"
   },
   {
    "duration": 5,
    "start_time": "2022-03-24T20:01:37.505Z"
   },
   {
    "duration": 5,
    "start_time": "2022-03-24T20:11:03.655Z"
   },
   {
    "duration": 4,
    "start_time": "2022-03-24T20:11:52.716Z"
   },
   {
    "duration": 4,
    "start_time": "2022-03-24T20:12:05.199Z"
   },
   {
    "duration": 4,
    "start_time": "2022-03-24T20:12:55.568Z"
   },
   {
    "duration": 218,
    "start_time": "2022-03-24T20:18:00.432Z"
   },
   {
    "duration": 8,
    "start_time": "2022-03-24T20:24:40.233Z"
   },
   {
    "duration": 8,
    "start_time": "2022-03-24T20:24:51.537Z"
   },
   {
    "duration": 8,
    "start_time": "2022-03-24T20:25:32.112Z"
   },
   {
    "duration": 26,
    "start_time": "2022-03-24T20:25:57.345Z"
   },
   {
    "duration": 4,
    "start_time": "2022-03-24T20:26:15.289Z"
   },
   {
    "duration": 649,
    "start_time": "2022-03-24T20:26:18.952Z"
   },
   {
    "duration": 21,
    "start_time": "2022-03-24T20:26:20.897Z"
   },
   {
    "duration": 19,
    "start_time": "2022-03-24T20:26:23.424Z"
   },
   {
    "duration": 20,
    "start_time": "2022-03-24T20:26:24.252Z"
   },
   {
    "duration": 19,
    "start_time": "2022-03-24T20:26:25.000Z"
   },
   {
    "duration": 21,
    "start_time": "2022-03-24T20:26:25.656Z"
   },
   {
    "duration": 14,
    "start_time": "2022-03-24T20:26:26.471Z"
   },
   {
    "duration": 4,
    "start_time": "2022-03-24T20:26:27.656Z"
   },
   {
    "duration": 6,
    "start_time": "2022-03-24T20:26:28.385Z"
   },
   {
    "duration": 5,
    "start_time": "2022-03-24T20:26:28.840Z"
   },
   {
    "duration": 3,
    "start_time": "2022-03-24T20:26:32.328Z"
   },
   {
    "duration": 5,
    "start_time": "2022-03-24T20:26:32.744Z"
   },
   {
    "duration": 5,
    "start_time": "2022-03-24T20:26:33.800Z"
   },
   {
    "duration": 4,
    "start_time": "2022-03-24T20:26:36.249Z"
   },
   {
    "duration": 5,
    "start_time": "2022-03-24T20:26:37.664Z"
   },
   {
    "duration": 217,
    "start_time": "2022-03-24T20:26:40.632Z"
   },
   {
    "duration": 17,
    "start_time": "2022-03-24T20:26:42.048Z"
   },
   {
    "duration": 26,
    "start_time": "2022-03-24T20:26:45.271Z"
   },
   {
    "duration": 9,
    "start_time": "2022-03-24T20:27:17.328Z"
   },
   {
    "duration": 21,
    "start_time": "2022-03-24T20:27:37.160Z"
   },
   {
    "duration": 4,
    "start_time": "2022-03-24T20:30:21.985Z"
   },
   {
    "duration": 975,
    "start_time": "2022-03-24T20:30:23.833Z"
   },
   {
    "duration": 30,
    "start_time": "2022-03-24T20:30:24.811Z"
   },
   {
    "duration": 30,
    "start_time": "2022-03-24T20:30:25.187Z"
   },
   {
    "duration": 22,
    "start_time": "2022-03-24T20:31:14.033Z"
   },
   {
    "duration": 18,
    "start_time": "2022-03-24T20:31:17.601Z"
   },
   {
    "duration": 32,
    "start_time": "2022-03-24T20:32:53.033Z"
   },
   {
    "duration": 24,
    "start_time": "2022-03-24T20:32:54.873Z"
   },
   {
    "duration": 5,
    "start_time": "2022-03-24T20:32:58.929Z"
   },
   {
    "duration": 4,
    "start_time": "2022-03-24T20:32:59.440Z"
   },
   {
    "duration": 5,
    "start_time": "2022-03-24T20:32:59.928Z"
   },
   {
    "duration": 3,
    "start_time": "2022-03-24T20:33:03.128Z"
   },
   {
    "duration": 6,
    "start_time": "2022-03-24T20:33:03.665Z"
   },
   {
    "duration": 5,
    "start_time": "2022-03-24T20:33:04.760Z"
   },
   {
    "duration": 5,
    "start_time": "2022-03-24T20:33:07.104Z"
   },
   {
    "duration": 6,
    "start_time": "2022-03-24T20:33:07.712Z"
   },
   {
    "duration": 219,
    "start_time": "2022-03-24T20:33:11.313Z"
   },
   {
    "duration": 16,
    "start_time": "2022-03-24T20:33:31.218Z"
   },
   {
    "duration": 16,
    "start_time": "2022-03-24T20:33:49.937Z"
   },
   {
    "duration": 23,
    "start_time": "2022-03-24T20:36:15.793Z"
   },
   {
    "duration": 17,
    "start_time": "2022-03-24T20:41:40.081Z"
   },
   {
    "duration": 19,
    "start_time": "2022-03-24T20:42:15.537Z"
   },
   {
    "duration": 18,
    "start_time": "2022-03-24T20:42:54.418Z"
   },
   {
    "duration": 34,
    "start_time": "2022-03-24T20:43:40.465Z"
   },
   {
    "duration": 45,
    "start_time": "2022-03-24T20:44:19.762Z"
   },
   {
    "duration": 128,
    "start_time": "2022-03-24T20:49:45.138Z"
   },
   {
    "duration": 4,
    "start_time": "2022-03-24T20:49:54.354Z"
   },
   {
    "duration": 4,
    "start_time": "2022-03-24T20:50:06.729Z"
   },
   {
    "duration": 4,
    "start_time": "2022-03-24T20:50:17.441Z"
   },
   {
    "duration": 3,
    "start_time": "2022-03-24T20:51:05.249Z"
   },
   {
    "duration": 7,
    "start_time": "2022-03-24T20:51:15.050Z"
   },
   {
    "duration": 5,
    "start_time": "2022-03-24T20:54:57.988Z"
   },
   {
    "duration": 15,
    "start_time": "2022-03-24T21:15:49.076Z"
   },
   {
    "duration": 5,
    "start_time": "2022-03-24T21:16:42.083Z"
   },
   {
    "duration": 4,
    "start_time": "2022-03-24T21:16:56.147Z"
   },
   {
    "duration": 302,
    "start_time": "2022-03-24T21:17:08.053Z"
   },
   {
    "duration": 283,
    "start_time": "2022-03-24T21:17:41.575Z"
   },
   {
    "duration": 316,
    "start_time": "2022-03-24T21:18:22.851Z"
   },
   {
    "duration": 272,
    "start_time": "2022-03-24T21:18:41.420Z"
   },
   {
    "duration": 273,
    "start_time": "2022-03-24T21:18:51.098Z"
   },
   {
    "duration": 287,
    "start_time": "2022-03-24T21:19:06.594Z"
   },
   {
    "duration": 364,
    "start_time": "2022-03-24T21:19:15.372Z"
   },
   {
    "duration": 287,
    "start_time": "2022-03-24T21:19:22.010Z"
   },
   {
    "duration": 144,
    "start_time": "2022-03-24T21:19:33.155Z"
   },
   {
    "duration": 284,
    "start_time": "2022-03-24T21:19:47.010Z"
   },
   {
    "duration": 300,
    "start_time": "2022-03-24T21:19:52.976Z"
   },
   {
    "duration": 500,
    "start_time": "2022-03-24T21:20:04.763Z"
   },
   {
    "duration": 315,
    "start_time": "2022-03-24T21:20:40.176Z"
   },
   {
    "duration": 505,
    "start_time": "2022-03-24T21:22:02.181Z"
   },
   {
    "duration": 310,
    "start_time": "2022-03-24T21:22:29.228Z"
   },
   {
    "duration": 302,
    "start_time": "2022-03-24T21:22:41.019Z"
   },
   {
    "duration": 346,
    "start_time": "2022-03-24T21:23:03.458Z"
   },
   {
    "duration": 296,
    "start_time": "2022-03-24T21:24:40.707Z"
   },
   {
    "duration": 4,
    "start_time": "2022-03-24T21:24:55.260Z"
   },
   {
    "duration": 678,
    "start_time": "2022-03-24T21:24:56.077Z"
   },
   {
    "duration": 29,
    "start_time": "2022-03-24T21:24:56.757Z"
   },
   {
    "duration": 17,
    "start_time": "2022-03-24T21:24:56.788Z"
   },
   {
    "duration": 19,
    "start_time": "2022-03-24T21:24:56.837Z"
   },
   {
    "duration": 27,
    "start_time": "2022-03-24T21:24:57.045Z"
   },
   {
    "duration": 20,
    "start_time": "2022-03-24T21:24:57.906Z"
   },
   {
    "duration": 14,
    "start_time": "2022-03-24T21:24:58.130Z"
   },
   {
    "duration": 4,
    "start_time": "2022-03-24T21:24:59.123Z"
   },
   {
    "duration": 4,
    "start_time": "2022-03-24T21:24:59.330Z"
   },
   {
    "duration": 4,
    "start_time": "2022-03-24T21:24:59.522Z"
   },
   {
    "duration": 3,
    "start_time": "2022-03-24T21:25:01.013Z"
   },
   {
    "duration": 5,
    "start_time": "2022-03-24T21:25:01.206Z"
   },
   {
    "duration": 5,
    "start_time": "2022-03-24T21:25:01.628Z"
   },
   {
    "duration": 4,
    "start_time": "2022-03-24T21:25:02.444Z"
   },
   {
    "duration": 5,
    "start_time": "2022-03-24T21:25:02.645Z"
   },
   {
    "duration": 219,
    "start_time": "2022-03-24T21:25:03.475Z"
   },
   {
    "duration": 15,
    "start_time": "2022-03-24T21:25:03.874Z"
   },
   {
    "duration": 13,
    "start_time": "2022-03-24T21:25:07.779Z"
   },
   {
    "duration": 15,
    "start_time": "2022-03-24T21:25:08.236Z"
   },
   {
    "duration": 284,
    "start_time": "2022-03-24T21:25:16.530Z"
   },
   {
    "duration": 15,
    "start_time": "2022-03-24T21:25:42.462Z"
   },
   {
    "duration": 4,
    "start_time": "2022-03-24T21:25:49.296Z"
   },
   {
    "duration": 651,
    "start_time": "2022-03-24T21:25:49.302Z"
   },
   {
    "duration": 26,
    "start_time": "2022-03-24T21:25:49.955Z"
   },
   {
    "duration": 34,
    "start_time": "2022-03-24T21:25:49.983Z"
   },
   {
    "duration": 22,
    "start_time": "2022-03-24T21:25:50.020Z"
   },
   {
    "duration": 32,
    "start_time": "2022-03-24T21:25:50.044Z"
   },
   {
    "duration": 20,
    "start_time": "2022-03-24T21:25:50.077Z"
   },
   {
    "duration": 23,
    "start_time": "2022-03-24T21:25:50.099Z"
   },
   {
    "duration": 50,
    "start_time": "2022-03-24T21:25:50.124Z"
   },
   {
    "duration": 24,
    "start_time": "2022-03-24T21:25:50.176Z"
   },
   {
    "duration": 15,
    "start_time": "2022-03-24T21:25:50.201Z"
   },
   {
    "duration": 34,
    "start_time": "2022-03-24T21:25:50.217Z"
   },
   {
    "duration": 27,
    "start_time": "2022-03-24T21:25:50.253Z"
   },
   {
    "duration": 19,
    "start_time": "2022-03-24T21:25:50.282Z"
   },
   {
    "duration": 21,
    "start_time": "2022-03-24T21:25:50.303Z"
   },
   {
    "duration": 37,
    "start_time": "2022-03-24T21:25:50.326Z"
   },
   {
    "duration": 244,
    "start_time": "2022-03-24T21:25:50.366Z"
   },
   {
    "duration": 20,
    "start_time": "2022-03-24T21:25:50.612Z"
   },
   {
    "duration": 32,
    "start_time": "2022-03-24T21:25:50.635Z"
   },
   {
    "duration": 15,
    "start_time": "2022-03-24T21:25:53.107Z"
   },
   {
    "duration": 313,
    "start_time": "2022-03-24T21:28:32.724Z"
   },
   {
    "duration": 301,
    "start_time": "2022-03-24T21:28:47.060Z"
   },
   {
    "duration": 18,
    "start_time": "2022-03-24T21:29:27.036Z"
   },
   {
    "duration": 5,
    "start_time": "2022-03-24T21:31:20.721Z"
   },
   {
    "duration": 4,
    "start_time": "2022-03-24T21:32:03.284Z"
   },
   {
    "duration": 295,
    "start_time": "2022-03-24T21:32:08.820Z"
   },
   {
    "duration": 3,
    "start_time": "2022-03-24T21:32:27.820Z"
   },
   {
    "duration": 3,
    "start_time": "2022-03-24T21:32:40.975Z"
   },
   {
    "duration": 736,
    "start_time": "2022-03-24T21:32:40.980Z"
   },
   {
    "duration": 21,
    "start_time": "2022-03-24T21:32:41.718Z"
   },
   {
    "duration": 36,
    "start_time": "2022-03-24T21:32:41.741Z"
   },
   {
    "duration": 21,
    "start_time": "2022-03-24T21:32:41.779Z"
   },
   {
    "duration": 17,
    "start_time": "2022-03-24T21:32:41.801Z"
   },
   {
    "duration": 20,
    "start_time": "2022-03-24T21:32:41.819Z"
   },
   {
    "duration": 42,
    "start_time": "2022-03-24T21:32:41.841Z"
   },
   {
    "duration": 4,
    "start_time": "2022-03-24T21:32:41.885Z"
   },
   {
    "duration": 5,
    "start_time": "2022-03-24T21:32:41.892Z"
   },
   {
    "duration": 4,
    "start_time": "2022-03-24T21:32:41.899Z"
   },
   {
    "duration": 4,
    "start_time": "2022-03-24T21:32:41.905Z"
   },
   {
    "duration": 10,
    "start_time": "2022-03-24T21:32:41.911Z"
   },
   {
    "duration": 9,
    "start_time": "2022-03-24T21:32:41.923Z"
   },
   {
    "duration": 5,
    "start_time": "2022-03-24T21:32:41.975Z"
   },
   {
    "duration": 7,
    "start_time": "2022-03-24T21:32:41.982Z"
   },
   {
    "duration": 244,
    "start_time": "2022-03-24T21:32:41.990Z"
   },
   {
    "duration": 30,
    "start_time": "2022-03-24T21:32:42.236Z"
   },
   {
    "duration": 17,
    "start_time": "2022-03-24T21:32:42.268Z"
   },
   {
    "duration": 16,
    "start_time": "2022-03-24T21:32:42.286Z"
   },
   {
    "duration": 2,
    "start_time": "2022-03-24T21:32:42.303Z"
   },
   {
    "duration": 351,
    "start_time": "2022-03-24T21:32:42.307Z"
   },
   {
    "duration": 13,
    "start_time": "2022-03-24T21:33:01.948Z"
   },
   {
    "duration": 98,
    "start_time": "2022-03-24T21:33:12.588Z"
   },
   {
    "duration": 291,
    "start_time": "2022-03-24T21:33:29.213Z"
   },
   {
    "duration": 284,
    "start_time": "2022-03-24T21:33:57.756Z"
   },
   {
    "duration": 19,
    "start_time": "2022-03-24T21:34:27.132Z"
   },
   {
    "duration": 21,
    "start_time": "2022-03-24T21:35:16.965Z"
   },
   {
    "duration": 277,
    "start_time": "2022-03-24T21:36:12.909Z"
   },
   {
    "duration": 278,
    "start_time": "2022-03-24T21:37:41.092Z"
   },
   {
    "duration": 21,
    "start_time": "2022-03-24T21:41:04.332Z"
   },
   {
    "duration": 14,
    "start_time": "2022-03-24T21:46:08.214Z"
   },
   {
    "duration": 13,
    "start_time": "2022-03-24T21:46:17.934Z"
   },
   {
    "duration": 12,
    "start_time": "2022-03-24T21:46:33.447Z"
   },
   {
    "duration": 1592,
    "start_time": "2022-03-26T11:48:21.960Z"
   },
   {
    "duration": 686,
    "start_time": "2022-03-26T11:48:23.554Z"
   },
   {
    "duration": 27,
    "start_time": "2022-03-26T11:48:24.242Z"
   },
   {
    "duration": 19,
    "start_time": "2022-03-26T11:48:24.272Z"
   },
   {
    "duration": 45,
    "start_time": "2022-03-26T11:48:24.292Z"
   },
   {
    "duration": 21,
    "start_time": "2022-03-26T11:48:24.338Z"
   },
   {
    "duration": 24,
    "start_time": "2022-03-26T11:48:24.360Z"
   },
   {
    "duration": 16,
    "start_time": "2022-03-26T11:48:24.385Z"
   },
   {
    "duration": 31,
    "start_time": "2022-03-26T11:48:24.402Z"
   },
   {
    "duration": 5,
    "start_time": "2022-03-26T11:48:24.436Z"
   },
   {
    "duration": 10,
    "start_time": "2022-03-26T11:48:24.442Z"
   },
   {
    "duration": 7,
    "start_time": "2022-03-26T11:48:24.453Z"
   },
   {
    "duration": 10,
    "start_time": "2022-03-26T11:48:24.461Z"
   },
   {
    "duration": 5,
    "start_time": "2022-03-26T11:48:24.473Z"
   },
   {
    "duration": 9,
    "start_time": "2022-03-26T11:48:24.480Z"
   },
   {
    "duration": 41,
    "start_time": "2022-03-26T11:48:24.491Z"
   },
   {
    "duration": 245,
    "start_time": "2022-03-26T11:48:24.534Z"
   },
   {
    "duration": 18,
    "start_time": "2022-03-26T11:48:24.781Z"
   },
   {
    "duration": 35,
    "start_time": "2022-03-26T11:48:24.801Z"
   },
   {
    "duration": 16,
    "start_time": "2022-03-26T11:48:24.838Z"
   },
   {
    "duration": 333,
    "start_time": "2022-03-26T11:48:24.856Z"
   },
   {
    "duration": 21,
    "start_time": "2022-03-26T11:48:25.191Z"
   },
   {
    "duration": 10,
    "start_time": "2022-03-26T12:30:40.340Z"
   },
   {
    "duration": 117,
    "start_time": "2022-03-26T12:31:09.029Z"
   },
   {
    "duration": 4,
    "start_time": "2022-03-26T12:31:34.578Z"
   },
   {
    "duration": 684,
    "start_time": "2022-03-26T12:31:34.584Z"
   },
   {
    "duration": 24,
    "start_time": "2022-03-26T12:31:35.269Z"
   },
   {
    "duration": 39,
    "start_time": "2022-03-26T12:31:35.294Z"
   },
   {
    "duration": 22,
    "start_time": "2022-03-26T12:31:35.335Z"
   },
   {
    "duration": 29,
    "start_time": "2022-03-26T12:31:35.359Z"
   },
   {
    "duration": 39,
    "start_time": "2022-03-26T12:31:35.390Z"
   },
   {
    "duration": 30,
    "start_time": "2022-03-26T12:31:35.431Z"
   },
   {
    "duration": 4,
    "start_time": "2022-03-26T12:31:35.462Z"
   },
   {
    "duration": 22,
    "start_time": "2022-03-26T12:31:35.467Z"
   },
   {
    "duration": 23,
    "start_time": "2022-03-26T12:31:35.490Z"
   },
   {
    "duration": 22,
    "start_time": "2022-03-26T12:31:35.515Z"
   },
   {
    "duration": 28,
    "start_time": "2022-03-26T12:31:35.540Z"
   },
   {
    "duration": 16,
    "start_time": "2022-03-26T12:31:35.570Z"
   },
   {
    "duration": 22,
    "start_time": "2022-03-26T12:31:35.588Z"
   },
   {
    "duration": 24,
    "start_time": "2022-03-26T12:31:35.612Z"
   },
   {
    "duration": 244,
    "start_time": "2022-03-26T12:31:35.637Z"
   },
   {
    "duration": 16,
    "start_time": "2022-03-26T12:31:35.883Z"
   },
   {
    "duration": 13,
    "start_time": "2022-03-26T12:31:35.901Z"
   },
   {
    "duration": 15,
    "start_time": "2022-03-26T12:31:35.932Z"
   },
   {
    "duration": 305,
    "start_time": "2022-03-26T12:31:35.949Z"
   },
   {
    "duration": 19,
    "start_time": "2022-03-26T12:31:36.256Z"
   },
   {
    "duration": 8,
    "start_time": "2022-03-26T12:31:36.277Z"
   },
   {
    "duration": 4,
    "start_time": "2022-03-26T12:32:23.492Z"
   },
   {
    "duration": 4,
    "start_time": "2022-03-26T12:33:15.940Z"
   },
   {
    "duration": 4,
    "start_time": "2022-03-26T12:33:23.573Z"
   },
   {
    "duration": 140,
    "start_time": "2022-03-26T12:33:58.436Z"
   },
   {
    "duration": 9,
    "start_time": "2022-03-26T12:34:10.820Z"
   },
   {
    "duration": 4,
    "start_time": "2022-03-26T12:34:16.645Z"
   },
   {
    "duration": 4,
    "start_time": "2022-03-26T12:46:11.999Z"
   },
   {
    "duration": 10,
    "start_time": "2022-03-26T12:47:13.430Z"
   },
   {
    "duration": 9,
    "start_time": "2022-03-26T12:47:19.519Z"
   },
   {
    "duration": 4,
    "start_time": "2022-03-26T12:48:20.343Z"
   },
   {
    "duration": 5,
    "start_time": "2022-03-26T12:48:55.855Z"
   },
   {
    "duration": 5,
    "start_time": "2022-03-26T12:49:28.099Z"
   },
   {
    "duration": 5,
    "start_time": "2022-03-26T12:52:05.825Z"
   },
   {
    "duration": 5,
    "start_time": "2022-03-26T12:52:58.336Z"
   },
   {
    "duration": 5,
    "start_time": "2022-03-26T12:53:08.335Z"
   },
   {
    "duration": 6,
    "start_time": "2022-03-26T12:53:34.755Z"
   },
   {
    "duration": 701,
    "start_time": "2022-03-26T13:15:48.690Z"
   },
   {
    "duration": 675,
    "start_time": "2022-03-26T13:16:37.745Z"
   },
   {
    "duration": 1329,
    "start_time": "2022-03-26T13:20:30.987Z"
   },
   {
    "duration": 1504,
    "start_time": "2022-03-26T13:20:48.865Z"
   },
   {
    "duration": 1187,
    "start_time": "2022-03-26T13:21:19.418Z"
   },
   {
    "duration": 2128,
    "start_time": "2022-03-26T13:21:52.866Z"
   },
   {
    "duration": 2255,
    "start_time": "2022-03-26T13:22:09.434Z"
   },
   {
    "duration": 2184,
    "start_time": "2022-03-26T13:24:09.737Z"
   },
   {
    "duration": 2244,
    "start_time": "2022-03-26T13:24:22.393Z"
   },
   {
    "duration": 2200,
    "start_time": "2022-03-26T13:31:13.121Z"
   },
   {
    "duration": 2206,
    "start_time": "2022-03-26T13:31:50.642Z"
   },
   {
    "duration": 2239,
    "start_time": "2022-03-26T13:31:59.321Z"
   },
   {
    "duration": 2203,
    "start_time": "2022-03-26T13:32:37.721Z"
   },
   {
    "duration": 2299,
    "start_time": "2022-03-26T13:34:34.318Z"
   },
   {
    "duration": 2185,
    "start_time": "2022-03-26T13:34:55.079Z"
   },
   {
    "duration": 2250,
    "start_time": "2022-03-26T13:36:51.884Z"
   },
   {
    "duration": 2254,
    "start_time": "2022-03-26T13:37:16.316Z"
   },
   {
    "duration": 2176,
    "start_time": "2022-03-26T13:38:23.947Z"
   },
   {
    "duration": 2296,
    "start_time": "2022-03-26T13:39:01.250Z"
   },
   {
    "duration": 2273,
    "start_time": "2022-03-26T13:39:54.186Z"
   },
   {
    "duration": 2233,
    "start_time": "2022-03-26T13:40:04.226Z"
   },
   {
    "duration": 2353,
    "start_time": "2022-03-26T13:41:39.524Z"
   },
   {
    "duration": 2288,
    "start_time": "2022-03-26T13:42:43.610Z"
   },
   {
    "duration": 2323,
    "start_time": "2022-03-26T13:44:25.938Z"
   },
   {
    "duration": 222,
    "start_time": "2022-03-26T13:54:44.137Z"
   },
   {
    "duration": 7,
    "start_time": "2022-03-26T13:54:53.239Z"
   },
   {
    "duration": 2204,
    "start_time": "2022-03-26T13:56:34.917Z"
   },
   {
    "duration": 7,
    "start_time": "2022-03-26T14:02:37.079Z"
   },
   {
    "duration": 300,
    "start_time": "2022-03-26T14:03:10.229Z"
   },
   {
    "duration": 5,
    "start_time": "2022-03-26T14:03:15.837Z"
   },
   {
    "duration": 2287,
    "start_time": "2022-03-26T14:03:25.885Z"
   },
   {
    "duration": 6,
    "start_time": "2022-03-26T14:03:46.173Z"
   },
   {
    "duration": 2267,
    "start_time": "2022-03-26T14:03:47.790Z"
   },
   {
    "duration": 2229,
    "start_time": "2022-03-26T14:05:05.334Z"
   },
   {
    "duration": 2287,
    "start_time": "2022-03-26T14:05:22.789Z"
   },
   {
    "duration": 2212,
    "start_time": "2022-03-26T14:05:40.573Z"
   },
   {
    "duration": 2215,
    "start_time": "2022-03-26T14:06:24.262Z"
   },
   {
    "duration": 2353,
    "start_time": "2022-03-26T14:06:49.237Z"
   },
   {
    "duration": 402,
    "start_time": "2022-03-26T14:24:16.694Z"
   },
   {
    "duration": 415,
    "start_time": "2022-03-26T14:24:55.986Z"
   },
   {
    "duration": 410,
    "start_time": "2022-03-26T14:25:16.857Z"
   },
   {
    "duration": 14,
    "start_time": "2022-03-26T14:35:37.439Z"
   },
   {
    "duration": 7,
    "start_time": "2022-03-26T14:35:44.295Z"
   },
   {
    "duration": 411,
    "start_time": "2022-03-26T14:36:22.829Z"
   },
   {
    "duration": 408,
    "start_time": "2022-03-26T14:36:29.293Z"
   },
   {
    "duration": 636,
    "start_time": "2022-03-26T14:40:22.831Z"
   },
   {
    "duration": 9,
    "start_time": "2022-03-26T14:53:11.956Z"
   },
   {
    "duration": 11,
    "start_time": "2022-03-26T14:56:41.716Z"
   },
   {
    "duration": 17,
    "start_time": "2022-03-26T14:58:03.429Z"
   },
   {
    "duration": 4,
    "start_time": "2022-03-26T14:58:19.341Z"
   },
   {
    "duration": 4,
    "start_time": "2022-03-26T14:58:43.284Z"
   },
   {
    "duration": 4,
    "start_time": "2022-03-26T14:59:50.905Z"
   },
   {
    "duration": 713,
    "start_time": "2022-03-26T14:59:50.911Z"
   },
   {
    "duration": 25,
    "start_time": "2022-03-26T14:59:51.626Z"
   },
   {
    "duration": 24,
    "start_time": "2022-03-26T14:59:51.653Z"
   },
   {
    "duration": 25,
    "start_time": "2022-03-26T14:59:51.679Z"
   },
   {
    "duration": 44,
    "start_time": "2022-03-26T14:59:51.705Z"
   },
   {
    "duration": 25,
    "start_time": "2022-03-26T14:59:51.751Z"
   },
   {
    "duration": 16,
    "start_time": "2022-03-26T14:59:51.778Z"
   },
   {
    "duration": 4,
    "start_time": "2022-03-26T14:59:51.795Z"
   },
   {
    "duration": 38,
    "start_time": "2022-03-26T14:59:51.801Z"
   },
   {
    "duration": 11,
    "start_time": "2022-03-26T14:59:51.842Z"
   },
   {
    "duration": 6,
    "start_time": "2022-03-26T14:59:51.855Z"
   },
   {
    "duration": 10,
    "start_time": "2022-03-26T14:59:51.863Z"
   },
   {
    "duration": 9,
    "start_time": "2022-03-26T14:59:51.875Z"
   },
   {
    "duration": 7,
    "start_time": "2022-03-26T14:59:51.886Z"
   },
   {
    "duration": 9,
    "start_time": "2022-03-26T14:59:51.895Z"
   },
   {
    "duration": 239,
    "start_time": "2022-03-26T14:59:51.905Z"
   },
   {
    "duration": 15,
    "start_time": "2022-03-26T14:59:52.146Z"
   },
   {
    "duration": 14,
    "start_time": "2022-03-26T14:59:52.163Z"
   },
   {
    "duration": 15,
    "start_time": "2022-03-26T14:59:52.179Z"
   },
   {
    "duration": 319,
    "start_time": "2022-03-26T14:59:52.195Z"
   },
   {
    "duration": 30,
    "start_time": "2022-03-26T14:59:52.515Z"
   },
   {
    "duration": 9,
    "start_time": "2022-03-26T14:59:52.547Z"
   },
   {
    "duration": 9,
    "start_time": "2022-03-26T14:59:52.558Z"
   },
   {
    "duration": 10,
    "start_time": "2022-03-26T14:59:52.568Z"
   },
   {
    "duration": 13,
    "start_time": "2022-03-26T14:59:52.580Z"
   },
   {
    "duration": 2328,
    "start_time": "2022-03-26T14:59:52.595Z"
   },
   {
    "duration": 2229,
    "start_time": "2022-03-26T14:59:54.925Z"
   },
   {
    "duration": 2207,
    "start_time": "2022-03-26T14:59:57.157Z"
   },
   {
    "duration": 392,
    "start_time": "2022-03-26T14:59:59.366Z"
   },
   {
    "duration": 7,
    "start_time": "2022-03-26T14:59:59.760Z"
   },
   {
    "duration": 696,
    "start_time": "2022-03-26T14:59:59.769Z"
   },
   {
    "duration": 19,
    "start_time": "2022-03-26T15:00:00.467Z"
   },
   {
    "duration": 7,
    "start_time": "2022-03-26T15:00:00.488Z"
   },
   {
    "duration": 8,
    "start_time": "2022-03-26T15:00:24.553Z"
   },
   {
    "duration": 4,
    "start_time": "2022-03-26T15:00:37.659Z"
   },
   {
    "duration": 5,
    "start_time": "2022-03-26T15:01:53.113Z"
   },
   {
    "duration": 4,
    "start_time": "2022-03-26T15:02:35.086Z"
   },
   {
    "duration": 5,
    "start_time": "2022-03-26T15:03:01.337Z"
   },
   {
    "duration": 125,
    "start_time": "2022-03-26T15:03:26.465Z"
   },
   {
    "duration": 4,
    "start_time": "2022-03-26T15:03:35.930Z"
   },
   {
    "duration": 4,
    "start_time": "2022-03-26T15:03:45.658Z"
   },
   {
    "duration": 4,
    "start_time": "2022-03-26T15:03:54.356Z"
   },
   {
    "duration": 8,
    "start_time": "2022-03-26T21:30:40.548Z"
   },
   {
    "duration": 1553,
    "start_time": "2022-03-26T21:39:09.330Z"
   },
   {
    "duration": 657,
    "start_time": "2022-03-26T21:39:10.885Z"
   },
   {
    "duration": 26,
    "start_time": "2022-03-26T21:39:11.544Z"
   },
   {
    "duration": 19,
    "start_time": "2022-03-26T21:39:11.573Z"
   },
   {
    "duration": 48,
    "start_time": "2022-03-26T21:39:11.594Z"
   },
   {
    "duration": 20,
    "start_time": "2022-03-26T21:39:11.644Z"
   },
   {
    "duration": 20,
    "start_time": "2022-03-26T21:39:11.666Z"
   },
   {
    "duration": 45,
    "start_time": "2022-03-26T21:39:11.688Z"
   },
   {
    "duration": 4,
    "start_time": "2022-03-26T21:39:11.734Z"
   },
   {
    "duration": 5,
    "start_time": "2022-03-26T21:39:11.741Z"
   },
   {
    "duration": 5,
    "start_time": "2022-03-26T21:39:11.747Z"
   },
   {
    "duration": 3,
    "start_time": "2022-03-26T21:39:11.754Z"
   },
   {
    "duration": 7,
    "start_time": "2022-03-26T21:39:11.759Z"
   },
   {
    "duration": 5,
    "start_time": "2022-03-26T21:39:11.768Z"
   },
   {
    "duration": 5,
    "start_time": "2022-03-26T21:39:11.774Z"
   },
   {
    "duration": 7,
    "start_time": "2022-03-26T21:39:11.781Z"
   },
   {
    "duration": 266,
    "start_time": "2022-03-26T21:39:11.789Z"
   },
   {
    "duration": 14,
    "start_time": "2022-03-26T21:39:12.056Z"
   },
   {
    "duration": 12,
    "start_time": "2022-03-26T21:39:12.071Z"
   },
   {
    "duration": 14,
    "start_time": "2022-03-26T21:39:12.084Z"
   },
   {
    "duration": 318,
    "start_time": "2022-03-26T21:39:12.099Z"
   },
   {
    "duration": 29,
    "start_time": "2022-03-26T21:39:12.418Z"
   },
   {
    "duration": 11,
    "start_time": "2022-03-26T21:39:12.448Z"
   },
   {
    "duration": 6,
    "start_time": "2022-03-26T21:39:12.461Z"
   },
   {
    "duration": 8,
    "start_time": "2022-03-26T21:39:12.469Z"
   },
   {
    "duration": 9,
    "start_time": "2022-03-26T21:39:12.479Z"
   },
   {
    "duration": 2176,
    "start_time": "2022-03-26T21:39:12.489Z"
   },
   {
    "duration": 2123,
    "start_time": "2022-03-26T21:39:14.668Z"
   },
   {
    "duration": 2050,
    "start_time": "2022-03-26T21:39:16.793Z"
   },
   {
    "duration": 324,
    "start_time": "2022-03-26T21:39:18.845Z"
   },
   {
    "duration": 6,
    "start_time": "2022-03-26T21:39:19.171Z"
   },
   {
    "duration": 510,
    "start_time": "2022-03-26T21:39:19.178Z"
   },
   {
    "duration": 20,
    "start_time": "2022-03-26T21:39:19.690Z"
   },
   {
    "duration": 4,
    "start_time": "2022-03-26T21:39:19.711Z"
   },
   {
    "duration": 19,
    "start_time": "2022-03-26T21:39:19.716Z"
   },
   {
    "duration": 9,
    "start_time": "2022-03-26T21:39:19.736Z"
   },
   {
    "duration": 6,
    "start_time": "2022-03-26T21:39:19.747Z"
   },
   {
    "duration": 4,
    "start_time": "2022-03-26T22:07:55.288Z"
   },
   {
    "duration": 149,
    "start_time": "2022-03-26T22:14:16.838Z"
   },
   {
    "duration": 3,
    "start_time": "2022-03-26T22:14:33.553Z"
   },
   {
    "duration": 3,
    "start_time": "2022-03-26T22:35:02.501Z"
   },
   {
    "duration": 13,
    "start_time": "2022-03-26T22:35:17.446Z"
   },
   {
    "duration": 817,
    "start_time": "2022-03-26T22:35:31.144Z"
   },
   {
    "duration": 639,
    "start_time": "2022-03-26T22:37:06.920Z"
   },
   {
    "duration": 3,
    "start_time": "2022-03-26T22:37:40.607Z"
   },
   {
    "duration": 690,
    "start_time": "2022-03-26T22:37:40.612Z"
   },
   {
    "duration": 33,
    "start_time": "2022-03-26T22:37:41.304Z"
   },
   {
    "duration": 18,
    "start_time": "2022-03-26T22:37:41.339Z"
   },
   {
    "duration": 20,
    "start_time": "2022-03-26T22:37:41.358Z"
   },
   {
    "duration": 18,
    "start_time": "2022-03-26T22:37:41.380Z"
   },
   {
    "duration": 45,
    "start_time": "2022-03-26T22:37:41.400Z"
   },
   {
    "duration": 14,
    "start_time": "2022-03-26T22:37:41.447Z"
   },
   {
    "duration": 4,
    "start_time": "2022-03-26T22:37:41.464Z"
   },
   {
    "duration": 8,
    "start_time": "2022-03-26T22:37:41.469Z"
   },
   {
    "duration": 5,
    "start_time": "2022-03-26T22:37:41.478Z"
   },
   {
    "duration": 4,
    "start_time": "2022-03-26T22:37:41.485Z"
   },
   {
    "duration": 9,
    "start_time": "2022-03-26T22:37:41.490Z"
   },
   {
    "duration": 5,
    "start_time": "2022-03-26T22:37:41.532Z"
   },
   {
    "duration": 6,
    "start_time": "2022-03-26T22:37:41.539Z"
   },
   {
    "duration": 7,
    "start_time": "2022-03-26T22:37:41.547Z"
   },
   {
    "duration": 236,
    "start_time": "2022-03-26T22:37:41.555Z"
   },
   {
    "duration": 15,
    "start_time": "2022-03-26T22:37:41.792Z"
   },
   {
    "duration": 34,
    "start_time": "2022-03-26T22:37:41.808Z"
   },
   {
    "duration": 14,
    "start_time": "2022-03-26T22:37:41.844Z"
   },
   {
    "duration": 301,
    "start_time": "2022-03-26T22:37:41.859Z"
   },
   {
    "duration": 22,
    "start_time": "2022-03-26T22:37:42.162Z"
   },
   {
    "duration": 8,
    "start_time": "2022-03-26T22:37:42.186Z"
   },
   {
    "duration": 6,
    "start_time": "2022-03-26T22:37:42.198Z"
   },
   {
    "duration": 28,
    "start_time": "2022-03-26T22:37:42.206Z"
   },
   {
    "duration": 6,
    "start_time": "2022-03-26T22:37:42.236Z"
   },
   {
    "duration": 2037,
    "start_time": "2022-03-26T22:37:42.243Z"
   },
   {
    "duration": 2098,
    "start_time": "2022-03-26T22:37:44.282Z"
   },
   {
    "duration": 2047,
    "start_time": "2022-03-26T22:37:46.382Z"
   },
   {
    "duration": 335,
    "start_time": "2022-03-26T22:37:48.430Z"
   },
   {
    "duration": 6,
    "start_time": "2022-03-26T22:37:48.767Z"
   },
   {
    "duration": 537,
    "start_time": "2022-03-26T22:37:48.775Z"
   },
   {
    "duration": 25,
    "start_time": "2022-03-26T22:37:49.314Z"
   },
   {
    "duration": 3,
    "start_time": "2022-03-26T22:37:49.341Z"
   },
   {
    "duration": 5,
    "start_time": "2022-03-26T22:37:49.346Z"
   },
   {
    "duration": 5,
    "start_time": "2022-03-26T22:37:49.353Z"
   },
   {
    "duration": 5,
    "start_time": "2022-03-26T22:37:49.359Z"
   },
   {
    "duration": 4,
    "start_time": "2022-03-26T22:37:49.365Z"
   },
   {
    "duration": 627,
    "start_time": "2022-03-26T22:37:49.371Z"
   },
   {
    "duration": 0,
    "start_time": "2022-03-26T22:37:50.000Z"
   },
   {
    "duration": 3,
    "start_time": "2022-03-26T22:38:19.730Z"
   },
   {
    "duration": 683,
    "start_time": "2022-03-26T22:38:19.735Z"
   },
   {
    "duration": 23,
    "start_time": "2022-03-26T22:38:20.420Z"
   },
   {
    "duration": 21,
    "start_time": "2022-03-26T22:38:20.445Z"
   },
   {
    "duration": 20,
    "start_time": "2022-03-26T22:38:20.468Z"
   },
   {
    "duration": 18,
    "start_time": "2022-03-26T22:38:20.489Z"
   },
   {
    "duration": 20,
    "start_time": "2022-03-26T22:38:20.533Z"
   },
   {
    "duration": 18,
    "start_time": "2022-03-26T22:38:20.555Z"
   },
   {
    "duration": 4,
    "start_time": "2022-03-26T22:38:20.574Z"
   },
   {
    "duration": 8,
    "start_time": "2022-03-26T22:38:20.579Z"
   },
   {
    "duration": 7,
    "start_time": "2022-03-26T22:38:20.588Z"
   },
   {
    "duration": 4,
    "start_time": "2022-03-26T22:38:20.597Z"
   },
   {
    "duration": 29,
    "start_time": "2022-03-26T22:38:20.604Z"
   },
   {
    "duration": 13,
    "start_time": "2022-03-26T22:38:20.634Z"
   },
   {
    "duration": 10,
    "start_time": "2022-03-26T22:38:20.649Z"
   },
   {
    "duration": 8,
    "start_time": "2022-03-26T22:38:20.660Z"
   },
   {
    "duration": 222,
    "start_time": "2022-03-26T22:38:20.669Z"
   },
   {
    "duration": 17,
    "start_time": "2022-03-26T22:38:20.892Z"
   },
   {
    "duration": 31,
    "start_time": "2022-03-26T22:38:20.910Z"
   },
   {
    "duration": 14,
    "start_time": "2022-03-26T22:38:20.943Z"
   },
   {
    "duration": 285,
    "start_time": "2022-03-26T22:38:20.959Z"
   },
   {
    "duration": 19,
    "start_time": "2022-03-26T22:38:21.245Z"
   },
   {
    "duration": 8,
    "start_time": "2022-03-26T22:38:21.266Z"
   },
   {
    "duration": 8,
    "start_time": "2022-03-26T22:38:21.276Z"
   },
   {
    "duration": 7,
    "start_time": "2022-03-26T22:38:21.286Z"
   },
   {
    "duration": 6,
    "start_time": "2022-03-26T22:38:21.295Z"
   },
   {
    "duration": 2083,
    "start_time": "2022-03-26T22:38:21.303Z"
   },
   {
    "duration": 1999,
    "start_time": "2022-03-26T22:38:23.388Z"
   },
   {
    "duration": 2052,
    "start_time": "2022-03-26T22:38:25.389Z"
   },
   {
    "duration": 329,
    "start_time": "2022-03-26T22:38:27.443Z"
   },
   {
    "duration": 7,
    "start_time": "2022-03-26T22:38:27.773Z"
   },
   {
    "duration": 459,
    "start_time": "2022-03-26T22:38:27.782Z"
   },
   {
    "duration": 17,
    "start_time": "2022-03-26T22:38:28.243Z"
   },
   {
    "duration": 4,
    "start_time": "2022-03-26T22:38:32.194Z"
   },
   {
    "duration": 4,
    "start_time": "2022-03-26T22:38:37.966Z"
   },
   {
    "duration": 15,
    "start_time": "2022-03-26T22:38:54.472Z"
   },
   {
    "duration": 3,
    "start_time": "2022-03-26T22:39:27.424Z"
   },
   {
    "duration": 3,
    "start_time": "2022-03-26T22:39:28.704Z"
   },
   {
    "duration": 3,
    "start_time": "2022-03-26T22:39:35.593Z"
   },
   {
    "duration": 13,
    "start_time": "2022-03-26T22:40:01.888Z"
   },
   {
    "duration": 16,
    "start_time": "2022-03-26T22:42:42.752Z"
   },
   {
    "duration": 148,
    "start_time": "2022-03-26T22:44:01.266Z"
   },
   {
    "duration": 108,
    "start_time": "2022-03-26T22:44:11.865Z"
   },
   {
    "duration": 16,
    "start_time": "2022-03-26T22:44:40.752Z"
   },
   {
    "duration": 15,
    "start_time": "2022-03-26T22:45:24.626Z"
   },
   {
    "duration": 17,
    "start_time": "2022-03-26T22:45:29.369Z"
   },
   {
    "duration": 11,
    "start_time": "2022-03-26T22:45:41.080Z"
   },
   {
    "duration": 11,
    "start_time": "2022-03-26T22:45:51.745Z"
   },
   {
    "duration": 12,
    "start_time": "2022-03-26T22:48:31.666Z"
   },
   {
    "duration": 10,
    "start_time": "2022-03-26T22:52:51.067Z"
   },
   {
    "duration": 13,
    "start_time": "2022-03-26T22:53:20.633Z"
   },
   {
    "duration": 17,
    "start_time": "2022-03-26T22:54:03.139Z"
   },
   {
    "duration": 15,
    "start_time": "2022-03-26T22:54:12.153Z"
   },
   {
    "duration": 4,
    "start_time": "2022-03-26T22:56:27.650Z"
   },
   {
    "duration": 6,
    "start_time": "2022-03-26T22:56:42.793Z"
   },
   {
    "duration": 5,
    "start_time": "2022-03-26T22:56:52.273Z"
   },
   {
    "duration": 4,
    "start_time": "2022-03-26T22:57:00.541Z"
   },
   {
    "duration": 4,
    "start_time": "2022-03-26T22:57:08.554Z"
   },
   {
    "duration": 4,
    "start_time": "2022-03-26T22:57:13.226Z"
   },
   {
    "duration": 5,
    "start_time": "2022-03-26T22:57:23.778Z"
   },
   {
    "duration": 4,
    "start_time": "2022-03-26T22:57:28.730Z"
   },
   {
    "duration": 78,
    "start_time": "2022-03-26T22:57:47.850Z"
   },
   {
    "duration": 4,
    "start_time": "2022-03-26T22:57:56.914Z"
   },
   {
    "duration": 93,
    "start_time": "2022-03-26T23:17:41.814Z"
   },
   {
    "duration": 9,
    "start_time": "2022-03-26T23:17:49.326Z"
   },
   {
    "duration": 3,
    "start_time": "2022-03-26T23:17:58.327Z"
   },
   {
    "duration": 772,
    "start_time": "2022-03-26T23:18:02.966Z"
   },
   {
    "duration": 763,
    "start_time": "2022-03-26T23:18:29.470Z"
   },
   {
    "duration": 894,
    "start_time": "2022-03-26T23:19:02.438Z"
   },
   {
    "duration": 90,
    "start_time": "2022-03-26T23:20:23.247Z"
   },
   {
    "duration": 1006,
    "start_time": "2022-03-26T23:20:31.128Z"
   },
   {
    "duration": 770,
    "start_time": "2022-03-26T23:20:56.669Z"
   },
   {
    "duration": 920,
    "start_time": "2022-03-26T23:22:23.423Z"
   },
   {
    "duration": 789,
    "start_time": "2022-03-26T23:23:51.544Z"
   },
   {
    "duration": 1170,
    "start_time": "2022-03-26T23:24:42.169Z"
   },
   {
    "duration": 5,
    "start_time": "2022-03-26T23:30:14.649Z"
   },
   {
    "duration": 767,
    "start_time": "2022-03-26T23:31:02.265Z"
   },
   {
    "duration": 2792,
    "start_time": "2022-03-26T23:35:27.442Z"
   },
   {
    "duration": 4125,
    "start_time": "2022-03-26T23:39:14.315Z"
   },
   {
    "duration": 2536,
    "start_time": "2022-03-26T23:43:17.899Z"
   },
   {
    "duration": 2534,
    "start_time": "2022-03-26T23:44:11.302Z"
   },
   {
    "duration": 2510,
    "start_time": "2022-03-26T23:45:34.924Z"
   },
   {
    "duration": 10,
    "start_time": "2022-03-26T23:45:43.068Z"
   },
   {
    "duration": 4055,
    "start_time": "2022-03-26T23:46:00.386Z"
   },
   {
    "duration": 2,
    "start_time": "2022-03-26T23:51:34.485Z"
   },
   {
    "duration": 4,
    "start_time": "2022-03-26T23:52:54.343Z"
   },
   {
    "duration": 21,
    "start_time": "2022-03-26T23:55:13.800Z"
   },
   {
    "duration": 3054,
    "start_time": "2022-03-27T00:03:02.985Z"
   },
   {
    "duration": 4369,
    "start_time": "2022-03-27T00:03:06.872Z"
   },
   {
    "duration": 2,
    "start_time": "2022-03-27T00:03:12.847Z"
   },
   {
    "duration": 79282,
    "start_time": "2022-03-27T00:04:02.994Z"
   },
   {
    "duration": 12,
    "start_time": "2022-03-27T00:08:20.945Z"
   },
   {
    "duration": 18180,
    "start_time": "2022-03-27T00:08:55.338Z"
   },
   {
    "duration": 79307,
    "start_time": "2022-03-27T00:09:48.138Z"
   },
   {
    "duration": 196679,
    "start_time": "2022-03-27T00:11:10.659Z"
   },
   {
    "duration": 2334,
    "start_time": "2022-03-27T10:43:51.991Z"
   },
   {
    "duration": 796,
    "start_time": "2022-03-27T10:43:54.328Z"
   },
   {
    "duration": 44,
    "start_time": "2022-03-27T10:43:55.127Z"
   },
   {
    "duration": 26,
    "start_time": "2022-03-27T10:43:55.174Z"
   },
   {
    "duration": 56,
    "start_time": "2022-03-27T10:43:55.202Z"
   },
   {
    "duration": 26,
    "start_time": "2022-03-27T10:43:55.261Z"
   },
   {
    "duration": 61,
    "start_time": "2022-03-27T10:43:55.290Z"
   },
   {
    "duration": 22,
    "start_time": "2022-03-27T10:43:55.353Z"
   },
   {
    "duration": 6,
    "start_time": "2022-03-27T10:43:55.377Z"
   },
   {
    "duration": 7,
    "start_time": "2022-03-27T10:43:55.388Z"
   },
   {
    "duration": 47,
    "start_time": "2022-03-27T10:43:55.397Z"
   },
   {
    "duration": 5,
    "start_time": "2022-03-27T10:43:55.447Z"
   },
   {
    "duration": 12,
    "start_time": "2022-03-27T10:43:55.455Z"
   },
   {
    "duration": 7,
    "start_time": "2022-03-27T10:43:55.469Z"
   },
   {
    "duration": 8,
    "start_time": "2022-03-27T10:43:55.478Z"
   },
   {
    "duration": 8,
    "start_time": "2022-03-27T10:43:55.488Z"
   },
   {
    "duration": 415,
    "start_time": "2022-03-27T10:43:55.498Z"
   },
   {
    "duration": 35,
    "start_time": "2022-03-27T10:43:55.916Z"
   },
   {
    "duration": 17,
    "start_time": "2022-03-27T10:43:55.953Z"
   },
   {
    "duration": 21,
    "start_time": "2022-03-27T10:43:55.973Z"
   },
   {
    "duration": 450,
    "start_time": "2022-03-27T10:43:55.997Z"
   },
   {
    "duration": 30,
    "start_time": "2022-03-27T10:43:56.450Z"
   },
   {
    "duration": 13,
    "start_time": "2022-03-27T10:43:56.482Z"
   },
   {
    "duration": 10,
    "start_time": "2022-03-27T10:43:56.498Z"
   },
   {
    "duration": 43,
    "start_time": "2022-03-27T10:43:56.510Z"
   },
   {
    "duration": 10,
    "start_time": "2022-03-27T10:43:56.555Z"
   },
   {
    "duration": 3052,
    "start_time": "2022-03-27T10:43:56.567Z"
   },
   {
    "duration": 3002,
    "start_time": "2022-03-27T10:43:59.625Z"
   },
   {
    "duration": 3109,
    "start_time": "2022-03-27T10:44:02.629Z"
   },
   {
    "duration": 745,
    "start_time": "2022-03-27T10:44:05.742Z"
   },
   {
    "duration": 9,
    "start_time": "2022-03-27T10:44:06.490Z"
   },
   {
    "duration": 1013,
    "start_time": "2022-03-27T10:44:06.502Z"
   },
   {
    "duration": 60,
    "start_time": "2022-03-27T10:44:07.517Z"
   },
   {
    "duration": 6,
    "start_time": "2022-03-27T10:44:07.580Z"
   },
   {
    "duration": 8,
    "start_time": "2022-03-27T10:44:07.588Z"
   },
   {
    "duration": 4,
    "start_time": "2022-03-27T10:44:07.599Z"
   },
   {
    "duration": 6,
    "start_time": "2022-03-27T10:44:07.605Z"
   },
   {
    "duration": 41,
    "start_time": "2022-03-27T10:44:07.613Z"
   },
   {
    "duration": 17,
    "start_time": "2022-03-27T10:44:07.656Z"
   },
   {
    "duration": 20,
    "start_time": "2022-03-27T10:44:07.675Z"
   },
   {
    "duration": 46,
    "start_time": "2022-03-27T10:44:07.697Z"
   },
   {
    "duration": 8,
    "start_time": "2022-03-27T10:44:07.746Z"
   },
   {
    "duration": 3593,
    "start_time": "2022-03-27T10:44:07.756Z"
   },
   {
    "duration": 9898,
    "start_time": "2022-03-27T10:44:11.352Z"
   },
   {
    "duration": 4,
    "start_time": "2022-03-27T10:44:21.252Z"
   },
   {
    "duration": 109595,
    "start_time": "2022-03-27T10:44:21.260Z"
   },
   {
    "duration": 266001,
    "start_time": "2022-03-27T10:46:10.857Z"
   },
   {
    "duration": 171,
    "start_time": "2022-03-27T10:50:36.860Z"
   },
   {
    "duration": 0,
    "start_time": "2022-03-27T10:50:37.042Z"
   },
   {
    "duration": 19,
    "start_time": "2022-03-27T10:53:53.975Z"
   },
   {
    "duration": 4,
    "start_time": "2022-03-27T10:58:50.172Z"
   },
   {
    "duration": 469280,
    "start_time": "2022-03-27T10:58:51.899Z"
   },
   {
    "duration": 619575,
    "start_time": "2022-03-27T11:09:28.473Z"
   },
   {
    "duration": 5,
    "start_time": "2022-03-27T11:20:26.748Z"
   },
   {
    "duration": 3303,
    "start_time": "2022-03-27T11:20:41.340Z"
   },
   {
    "duration": 3117,
    "start_time": "2022-03-27T11:20:58.527Z"
   },
   {
    "duration": 6576,
    "start_time": "2022-03-27T11:21:13.974Z"
   },
   {
    "duration": 110534,
    "start_time": "2022-03-27T11:21:34.625Z"
   },
   {
    "duration": 107774,
    "start_time": "2022-03-27T11:24:01.520Z"
   },
   {
    "duration": 11,
    "start_time": "2022-03-27T11:26:13.449Z"
   },
   {
    "duration": 9,
    "start_time": "2022-03-27T11:31:10.464Z"
   },
   {
    "duration": 0,
    "start_time": "2022-03-27T11:34:34.191Z"
   },
   {
    "duration": 8,
    "start_time": "2022-03-27T11:34:48.894Z"
   },
   {
    "duration": 847,
    "start_time": "2022-03-27T11:34:48.905Z"
   },
   {
    "duration": 33,
    "start_time": "2022-03-27T11:34:49.755Z"
   },
   {
    "duration": 52,
    "start_time": "2022-03-27T11:34:49.791Z"
   },
   {
    "duration": 35,
    "start_time": "2022-03-27T11:34:49.845Z"
   },
   {
    "duration": 60,
    "start_time": "2022-03-27T11:34:49.883Z"
   },
   {
    "duration": 35,
    "start_time": "2022-03-27T11:34:49.945Z"
   },
   {
    "duration": 24,
    "start_time": "2022-03-27T11:34:49.983Z"
   },
   {
    "duration": 7,
    "start_time": "2022-03-27T11:34:50.043Z"
   },
   {
    "duration": 6,
    "start_time": "2022-03-27T11:34:50.056Z"
   },
   {
    "duration": 7,
    "start_time": "2022-03-27T11:34:50.065Z"
   },
   {
    "duration": 5,
    "start_time": "2022-03-27T11:34:50.074Z"
   },
   {
    "duration": 5,
    "start_time": "2022-03-27T11:34:50.082Z"
   },
   {
    "duration": 55,
    "start_time": "2022-03-27T11:34:50.090Z"
   },
   {
    "duration": 7,
    "start_time": "2022-03-27T11:34:50.148Z"
   },
   {
    "duration": 9,
    "start_time": "2022-03-27T11:34:50.157Z"
   },
   {
    "duration": 402,
    "start_time": "2022-03-27T11:34:50.168Z"
   },
   {
    "duration": 20,
    "start_time": "2022-03-27T11:34:50.572Z"
   },
   {
    "duration": 15,
    "start_time": "2022-03-27T11:34:50.595Z"
   },
   {
    "duration": 48,
    "start_time": "2022-03-27T11:34:50.612Z"
   },
   {
    "duration": 419,
    "start_time": "2022-03-27T11:34:50.662Z"
   },
   {
    "duration": 29,
    "start_time": "2022-03-27T11:34:51.083Z"
   },
   {
    "duration": 29,
    "start_time": "2022-03-27T11:34:51.114Z"
   },
   {
    "duration": 6,
    "start_time": "2022-03-27T11:34:51.145Z"
   },
   {
    "duration": 11,
    "start_time": "2022-03-27T11:34:51.153Z"
   },
   {
    "duration": 8,
    "start_time": "2022-03-27T11:34:51.166Z"
   },
   {
    "duration": 3117,
    "start_time": "2022-03-27T11:34:51.176Z"
   },
   {
    "duration": 2945,
    "start_time": "2022-03-27T11:34:54.298Z"
   },
   {
    "duration": 3211,
    "start_time": "2022-03-27T11:34:57.245Z"
   },
   {
    "duration": 626,
    "start_time": "2022-03-27T11:35:00.458Z"
   },
   {
    "duration": 9,
    "start_time": "2022-03-27T11:35:01.086Z"
   },
   {
    "duration": 838,
    "start_time": "2022-03-27T11:35:01.097Z"
   },
   {
    "duration": 32,
    "start_time": "2022-03-27T11:35:01.937Z"
   },
   {
    "duration": 32,
    "start_time": "2022-03-27T11:35:01.972Z"
   },
   {
    "duration": 26,
    "start_time": "2022-03-27T11:35:02.006Z"
   },
   {
    "duration": 19,
    "start_time": "2022-03-27T11:35:02.034Z"
   },
   {
    "duration": 20,
    "start_time": "2022-03-27T11:35:02.056Z"
   },
   {
    "duration": 24,
    "start_time": "2022-03-27T11:35:02.078Z"
   },
   {
    "duration": 18,
    "start_time": "2022-03-27T11:35:02.104Z"
   },
   {
    "duration": 24,
    "start_time": "2022-03-27T11:35:02.124Z"
   },
   {
    "duration": 17,
    "start_time": "2022-03-27T11:35:02.150Z"
   },
   {
    "duration": 11,
    "start_time": "2022-03-27T11:35:02.169Z"
   },
   {
    "duration": 2965,
    "start_time": "2022-03-27T11:35:02.182Z"
   },
   {
    "duration": 5397,
    "start_time": "2022-03-27T11:35:05.150Z"
   },
   {
    "duration": 94,
    "start_time": "2022-03-27T11:35:10.550Z"
   },
   {
    "duration": 108311,
    "start_time": "2022-03-27T11:35:10.647Z"
   },
   {
    "duration": 286241,
    "start_time": "2022-03-27T11:36:58.961Z"
   },
   {
    "duration": 4,
    "start_time": "2022-03-27T11:41:45.204Z"
   },
   {
    "duration": 896413,
    "start_time": "2022-03-27T11:41:45.210Z"
   },
   {
    "duration": 0,
    "start_time": "2022-03-27T11:56:41.626Z"
   },
   {
    "duration": 0,
    "start_time": "2022-03-27T11:56:41.628Z"
   },
   {
    "duration": 0,
    "start_time": "2022-03-27T11:56:41.644Z"
   },
   {
    "duration": 0,
    "start_time": "2022-03-27T11:56:41.646Z"
   },
   {
    "duration": 90142,
    "start_time": "2022-03-27T11:56:50.864Z"
   },
   {
    "duration": 1922,
    "start_time": "2022-03-27T11:58:30.727Z"
   },
   {
    "duration": 3668,
    "start_time": "2022-03-27T11:58:38.480Z"
   },
   {
    "duration": 61185,
    "start_time": "2022-03-27T11:58:54.175Z"
   },
   {
    "duration": 165980,
    "start_time": "2022-03-27T12:00:49.777Z"
   },
   {
    "duration": 14967,
    "start_time": "2022-03-27T12:06:00.464Z"
   },
   {
    "duration": 5,
    "start_time": "2022-03-27T12:06:28.257Z"
   },
   {
    "duration": 688697,
    "start_time": "2022-03-27T12:06:30.281Z"
   },
   {
    "duration": 7,
    "start_time": "2022-03-27T12:19:09.003Z"
   },
   {
    "duration": 921,
    "start_time": "2022-03-27T12:19:09.012Z"
   },
   {
    "duration": 44,
    "start_time": "2022-03-27T12:19:09.935Z"
   },
   {
    "duration": 34,
    "start_time": "2022-03-27T12:19:09.983Z"
   },
   {
    "duration": 57,
    "start_time": "2022-03-27T12:19:10.020Z"
   },
   {
    "duration": 27,
    "start_time": "2022-03-27T12:19:10.079Z"
   },
   {
    "duration": 65,
    "start_time": "2022-03-27T12:19:10.109Z"
   },
   {
    "duration": 23,
    "start_time": "2022-03-27T12:19:10.179Z"
   },
   {
    "duration": 6,
    "start_time": "2022-03-27T12:19:10.207Z"
   },
   {
    "duration": 11,
    "start_time": "2022-03-27T12:19:10.244Z"
   },
   {
    "duration": 31,
    "start_time": "2022-03-27T12:19:10.257Z"
   },
   {
    "duration": 4,
    "start_time": "2022-03-27T12:19:10.291Z"
   },
   {
    "duration": 10,
    "start_time": "2022-03-27T12:19:10.297Z"
   },
   {
    "duration": 6,
    "start_time": "2022-03-27T12:19:10.309Z"
   },
   {
    "duration": 29,
    "start_time": "2022-03-27T12:19:10.317Z"
   },
   {
    "duration": 10,
    "start_time": "2022-03-27T12:19:10.350Z"
   },
   {
    "duration": 396,
    "start_time": "2022-03-27T12:19:10.363Z"
   },
   {
    "duration": 24,
    "start_time": "2022-03-27T12:19:10.762Z"
   },
   {
    "duration": 19,
    "start_time": "2022-03-27T12:19:10.789Z"
   },
   {
    "duration": 63,
    "start_time": "2022-03-27T12:19:10.810Z"
   },
   {
    "duration": 498,
    "start_time": "2022-03-27T12:19:10.876Z"
   },
   {
    "duration": 30,
    "start_time": "2022-03-27T12:19:11.377Z"
   },
   {
    "duration": 10,
    "start_time": "2022-03-27T12:19:11.409Z"
   },
   {
    "duration": 6,
    "start_time": "2022-03-27T12:19:11.446Z"
   },
   {
    "duration": 20,
    "start_time": "2022-03-27T12:19:11.455Z"
   },
   {
    "duration": 25,
    "start_time": "2022-03-27T12:19:11.478Z"
   },
   {
    "duration": 3267,
    "start_time": "2022-03-27T12:19:11.505Z"
   },
   {
    "duration": 3329,
    "start_time": "2022-03-27T12:19:14.782Z"
   },
   {
    "duration": 3204,
    "start_time": "2022-03-27T12:19:18.113Z"
   },
   {
    "duration": 671,
    "start_time": "2022-03-27T12:19:21.320Z"
   },
   {
    "duration": 9,
    "start_time": "2022-03-27T12:19:21.994Z"
   },
   {
    "duration": 876,
    "start_time": "2022-03-27T12:19:22.005Z"
   },
   {
    "duration": 30,
    "start_time": "2022-03-27T12:19:22.883Z"
   },
   {
    "duration": 6,
    "start_time": "2022-03-27T12:19:22.916Z"
   },
   {
    "duration": 15,
    "start_time": "2022-03-27T12:19:22.943Z"
   },
   {
    "duration": 19,
    "start_time": "2022-03-27T12:19:22.961Z"
   },
   {
    "duration": 6,
    "start_time": "2022-03-27T12:19:22.983Z"
   },
   {
    "duration": 22,
    "start_time": "2022-03-27T12:19:22.992Z"
   },
   {
    "duration": 41,
    "start_time": "2022-03-27T12:19:23.017Z"
   },
   {
    "duration": 26,
    "start_time": "2022-03-27T12:19:23.066Z"
   },
   {
    "duration": 10,
    "start_time": "2022-03-27T12:19:23.094Z"
   },
   {
    "duration": 12,
    "start_time": "2022-03-27T12:19:23.107Z"
   },
   {
    "duration": 2437,
    "start_time": "2022-03-27T12:19:23.121Z"
   },
   {
    "duration": 8789,
    "start_time": "2022-03-27T12:19:25.564Z"
   },
   {
    "duration": 16,
    "start_time": "2022-03-27T12:19:34.365Z"
   },
   {
    "duration": 60858,
    "start_time": "2022-03-27T12:19:34.443Z"
   },
   {
    "duration": 1631,
    "start_time": "2022-03-27T12:30:17.434Z"
   },
   {
    "duration": 828,
    "start_time": "2022-03-27T12:30:19.067Z"
   },
   {
    "duration": 28,
    "start_time": "2022-03-27T12:30:19.896Z"
   },
   {
    "duration": 20,
    "start_time": "2022-03-27T12:30:19.925Z"
   },
   {
    "duration": 22,
    "start_time": "2022-03-27T12:30:19.946Z"
   },
   {
    "duration": 47,
    "start_time": "2022-03-27T12:30:19.970Z"
   },
   {
    "duration": 23,
    "start_time": "2022-03-27T12:30:20.019Z"
   },
   {
    "duration": 15,
    "start_time": "2022-03-27T12:30:20.043Z"
   },
   {
    "duration": 4,
    "start_time": "2022-03-27T12:30:20.060Z"
   },
   {
    "duration": 5,
    "start_time": "2022-03-27T12:30:20.068Z"
   },
   {
    "duration": 5,
    "start_time": "2022-03-27T12:30:20.109Z"
   },
   {
    "duration": 5,
    "start_time": "2022-03-27T12:30:20.116Z"
   },
   {
    "duration": 9,
    "start_time": "2022-03-27T12:30:20.123Z"
   },
   {
    "duration": 8,
    "start_time": "2022-03-27T12:30:20.134Z"
   },
   {
    "duration": 9,
    "start_time": "2022-03-27T12:30:20.143Z"
   },
   {
    "duration": 23,
    "start_time": "2022-03-27T12:30:20.153Z"
   },
   {
    "duration": 283,
    "start_time": "2022-03-27T12:30:20.178Z"
   },
   {
    "duration": 16,
    "start_time": "2022-03-27T12:30:20.463Z"
   },
   {
    "duration": 29,
    "start_time": "2022-03-27T12:30:20.480Z"
   },
   {
    "duration": 15,
    "start_time": "2022-03-27T12:30:20.511Z"
   },
   {
    "duration": 345,
    "start_time": "2022-03-27T12:30:20.527Z"
   },
   {
    "duration": 35,
    "start_time": "2022-03-27T12:30:20.874Z"
   },
   {
    "duration": 10,
    "start_time": "2022-03-27T12:30:20.911Z"
   },
   {
    "duration": 12,
    "start_time": "2022-03-27T12:30:20.923Z"
   },
   {
    "duration": 8,
    "start_time": "2022-03-27T12:30:20.937Z"
   },
   {
    "duration": 6,
    "start_time": "2022-03-27T12:30:20.947Z"
   },
   {
    "duration": 2283,
    "start_time": "2022-03-27T12:30:20.954Z"
   },
   {
    "duration": 2164,
    "start_time": "2022-03-27T12:30:23.243Z"
   },
   {
    "duration": 2209,
    "start_time": "2022-03-27T12:30:25.408Z"
   },
   {
    "duration": 468,
    "start_time": "2022-03-27T12:30:27.619Z"
   },
   {
    "duration": 20,
    "start_time": "2022-03-27T12:30:28.089Z"
   },
   {
    "duration": 522,
    "start_time": "2022-03-27T12:30:28.110Z"
   },
   {
    "duration": 20,
    "start_time": "2022-03-27T12:30:28.634Z"
   },
   {
    "duration": 4,
    "start_time": "2022-03-27T12:30:28.655Z"
   },
   {
    "duration": 6,
    "start_time": "2022-03-27T12:30:28.660Z"
   },
   {
    "duration": 5,
    "start_time": "2022-03-27T12:30:28.667Z"
   },
   {
    "duration": 5,
    "start_time": "2022-03-27T12:30:28.674Z"
   },
   {
    "duration": 41,
    "start_time": "2022-03-27T12:30:28.681Z"
   },
   {
    "duration": 15,
    "start_time": "2022-03-27T12:30:28.725Z"
   },
   {
    "duration": 15,
    "start_time": "2022-03-27T12:30:28.742Z"
   },
   {
    "duration": 7,
    "start_time": "2022-03-27T12:30:28.759Z"
   },
   {
    "duration": 6,
    "start_time": "2022-03-27T12:30:28.767Z"
   },
   {
    "duration": 1535,
    "start_time": "2022-03-27T12:30:28.775Z"
   },
   {
    "duration": 2500,
    "start_time": "2022-03-27T12:30:30.312Z"
   },
   {
    "duration": 91,
    "start_time": "2022-03-27T12:30:32.818Z"
   },
   {
    "duration": 42170,
    "start_time": "2022-03-27T12:30:32.911Z"
   },
   {
    "duration": 105352,
    "start_time": "2022-03-27T12:31:15.083Z"
   },
   {
    "duration": 2,
    "start_time": "2022-03-27T12:33:00.437Z"
   },
   {
    "duration": 888362,
    "start_time": "2022-03-27T12:33:00.441Z"
   },
   {
    "duration": 0,
    "start_time": "2022-03-27T12:47:48.808Z"
   },
   {
    "duration": 0,
    "start_time": "2022-03-27T12:47:48.810Z"
   },
   {
    "duration": 0,
    "start_time": "2022-03-27T12:47:48.811Z"
   },
   {
    "duration": 0,
    "start_time": "2022-03-27T12:47:48.813Z"
   },
   {
    "duration": 14,
    "start_time": "2022-03-27T12:48:33.324Z"
   },
   {
    "duration": 3,
    "start_time": "2022-03-27T12:49:59.548Z"
   },
   {
    "duration": 173,
    "start_time": "2022-03-27T12:50:50.298Z"
   },
   {
    "duration": 4,
    "start_time": "2022-03-27T12:51:27.956Z"
   },
   {
    "duration": 137887,
    "start_time": "2022-03-27T12:51:29.381Z"
   },
   {
    "duration": 256837,
    "start_time": "2022-03-27T12:53:54.230Z"
   },
   {
    "duration": 9,
    "start_time": "2022-03-27T12:58:17.812Z"
   },
   {
    "duration": 808,
    "start_time": "2022-03-27T12:58:17.824Z"
   },
   {
    "duration": 24,
    "start_time": "2022-03-27T12:58:18.635Z"
   },
   {
    "duration": 48,
    "start_time": "2022-03-27T12:58:18.663Z"
   },
   {
    "duration": 34,
    "start_time": "2022-03-27T12:58:18.714Z"
   },
   {
    "duration": 19,
    "start_time": "2022-03-27T12:58:18.750Z"
   },
   {
    "duration": 55,
    "start_time": "2022-03-27T12:58:18.771Z"
   },
   {
    "duration": 24,
    "start_time": "2022-03-27T12:58:18.828Z"
   },
   {
    "duration": 4,
    "start_time": "2022-03-27T12:58:18.854Z"
   },
   {
    "duration": 5,
    "start_time": "2022-03-27T12:58:18.861Z"
   },
   {
    "duration": 44,
    "start_time": "2022-03-27T12:58:18.867Z"
   },
   {
    "duration": 5,
    "start_time": "2022-03-27T12:58:18.920Z"
   },
   {
    "duration": 10,
    "start_time": "2022-03-27T12:58:18.929Z"
   },
   {
    "duration": 5,
    "start_time": "2022-03-27T12:58:18.941Z"
   },
   {
    "duration": 5,
    "start_time": "2022-03-27T12:58:18.949Z"
   },
   {
    "duration": 8,
    "start_time": "2022-03-27T12:58:18.957Z"
   },
   {
    "duration": 325,
    "start_time": "2022-03-27T12:58:18.968Z"
   },
   {
    "duration": 32,
    "start_time": "2022-03-27T12:58:19.296Z"
   },
   {
    "duration": 20,
    "start_time": "2022-03-27T12:58:19.331Z"
   },
   {
    "duration": 19,
    "start_time": "2022-03-27T12:58:19.354Z"
   },
   {
    "duration": 445,
    "start_time": "2022-03-27T12:58:19.375Z"
   },
   {
    "duration": 38,
    "start_time": "2022-03-27T12:58:19.823Z"
   },
   {
    "duration": 8,
    "start_time": "2022-03-27T12:58:19.863Z"
   },
   {
    "duration": 21,
    "start_time": "2022-03-27T12:58:19.873Z"
   },
   {
    "duration": 20,
    "start_time": "2022-03-27T12:58:19.897Z"
   },
   {
    "duration": 9,
    "start_time": "2022-03-27T12:58:19.920Z"
   },
   {
    "duration": 2757,
    "start_time": "2022-03-27T12:58:19.932Z"
   },
   {
    "duration": 2407,
    "start_time": "2022-03-27T12:58:22.696Z"
   },
   {
    "duration": 2491,
    "start_time": "2022-03-27T12:58:25.109Z"
   },
   {
    "duration": 457,
    "start_time": "2022-03-27T12:58:27.603Z"
   },
   {
    "duration": 9,
    "start_time": "2022-03-27T12:58:28.062Z"
   },
   {
    "duration": 687,
    "start_time": "2022-03-27T12:58:28.073Z"
   },
   {
    "duration": 18,
    "start_time": "2022-03-27T12:58:28.762Z"
   },
   {
    "duration": 5,
    "start_time": "2022-03-27T12:58:28.782Z"
   },
   {
    "duration": 26,
    "start_time": "2022-03-27T12:58:28.788Z"
   },
   {
    "duration": 6,
    "start_time": "2022-03-27T12:58:28.816Z"
   },
   {
    "duration": 4,
    "start_time": "2022-03-27T12:58:37.719Z"
   },
   {
    "duration": 30,
    "start_time": "2022-03-27T13:00:12.044Z"
   },
   {
    "duration": 25,
    "start_time": "2022-03-27T13:01:23.222Z"
   },
   {
    "duration": 22,
    "start_time": "2022-03-27T13:01:47.703Z"
   },
   {
    "duration": 53,
    "start_time": "2022-03-27T13:03:18.279Z"
   },
   {
    "duration": 22,
    "start_time": "2022-03-27T13:03:56.983Z"
   },
   {
    "duration": 11,
    "start_time": "2022-03-27T13:05:00.455Z"
   },
   {
    "duration": 20,
    "start_time": "2022-03-27T13:06:18.215Z"
   },
   {
    "duration": 4,
    "start_time": "2022-03-27T13:06:24.575Z"
   },
   {
    "duration": 3,
    "start_time": "2022-03-27T13:06:31.245Z"
   },
   {
    "duration": 1455,
    "start_time": "2022-03-27T13:07:01.478Z"
   },
   {
    "duration": 4312,
    "start_time": "2022-03-27T13:07:17.114Z"
   },
   {
    "duration": 2910,
    "start_time": "2022-03-27T13:14:07.598Z"
   },
   {
    "duration": 3354,
    "start_time": "2022-03-27T13:17:09.080Z"
   },
   {
    "duration": 11474,
    "start_time": "2022-03-27T13:18:14.545Z"
   },
   {
    "duration": 4,
    "start_time": "2022-03-27T13:24:46.995Z"
   },
   {
    "duration": 632,
    "start_time": "2022-03-27T13:24:47.001Z"
   },
   {
    "duration": 23,
    "start_time": "2022-03-27T13:24:47.634Z"
   },
   {
    "duration": 31,
    "start_time": "2022-03-27T13:24:47.659Z"
   },
   {
    "duration": 21,
    "start_time": "2022-03-27T13:24:47.708Z"
   },
   {
    "duration": 17,
    "start_time": "2022-03-27T13:24:47.731Z"
   },
   {
    "duration": 22,
    "start_time": "2022-03-27T13:24:47.749Z"
   },
   {
    "duration": 46,
    "start_time": "2022-03-27T13:24:47.773Z"
   },
   {
    "duration": 4,
    "start_time": "2022-03-27T13:24:47.821Z"
   },
   {
    "duration": 5,
    "start_time": "2022-03-27T13:24:47.827Z"
   },
   {
    "duration": 5,
    "start_time": "2022-03-27T13:24:47.834Z"
   },
   {
    "duration": 5,
    "start_time": "2022-03-27T13:24:47.840Z"
   },
   {
    "duration": 5,
    "start_time": "2022-03-27T13:24:47.847Z"
   },
   {
    "duration": 4,
    "start_time": "2022-03-27T13:24:47.856Z"
   },
   {
    "duration": 4,
    "start_time": "2022-03-27T13:24:47.862Z"
   },
   {
    "duration": 44,
    "start_time": "2022-03-27T13:24:47.868Z"
   },
   {
    "duration": 228,
    "start_time": "2022-03-27T13:24:47.914Z"
   },
   {
    "duration": 16,
    "start_time": "2022-03-27T13:24:48.144Z"
   },
   {
    "duration": 15,
    "start_time": "2022-03-27T13:24:48.162Z"
   },
   {
    "duration": 43,
    "start_time": "2022-03-27T13:24:48.179Z"
   },
   {
    "duration": 314,
    "start_time": "2022-03-27T13:24:48.223Z"
   },
   {
    "duration": 21,
    "start_time": "2022-03-27T13:24:48.539Z"
   },
   {
    "duration": 8,
    "start_time": "2022-03-27T13:24:48.562Z"
   },
   {
    "duration": 7,
    "start_time": "2022-03-27T13:24:48.573Z"
   },
   {
    "duration": 28,
    "start_time": "2022-03-27T13:24:48.582Z"
   },
   {
    "duration": 5,
    "start_time": "2022-03-27T13:24:48.612Z"
   },
   {
    "duration": 2269,
    "start_time": "2022-03-27T13:24:48.619Z"
   },
   {
    "duration": 2210,
    "start_time": "2022-03-27T13:24:50.889Z"
   },
   {
    "duration": 2186,
    "start_time": "2022-03-27T13:24:53.101Z"
   },
   {
    "duration": 367,
    "start_time": "2022-03-27T13:24:55.289Z"
   },
   {
    "duration": 7,
    "start_time": "2022-03-27T13:24:55.657Z"
   },
   {
    "duration": 485,
    "start_time": "2022-03-27T13:24:55.666Z"
   },
   {
    "duration": 18,
    "start_time": "2022-03-27T13:24:56.153Z"
   },
   {
    "duration": 3,
    "start_time": "2022-03-27T13:24:56.173Z"
   },
   {
    "duration": 5,
    "start_time": "2022-03-27T13:24:56.178Z"
   },
   {
    "duration": 5,
    "start_time": "2022-03-27T13:24:56.185Z"
   },
   {
    "duration": 4,
    "start_time": "2022-03-27T13:24:57.377Z"
   },
   {
    "duration": 13,
    "start_time": "2022-03-27T13:25:15.353Z"
   },
   {
    "duration": 13,
    "start_time": "2022-03-27T13:25:18.746Z"
   },
   {
    "duration": 12,
    "start_time": "2022-03-27T13:25:43.329Z"
   },
   {
    "duration": 5,
    "start_time": "2022-03-27T13:25:45.257Z"
   },
   {
    "duration": 2,
    "start_time": "2022-03-27T13:25:46.233Z"
   },
   {
    "duration": 2580,
    "start_time": "2022-03-27T13:25:54.145Z"
   },
   {
    "duration": 5903,
    "start_time": "2022-03-27T13:26:00.416Z"
   },
   {
    "duration": 36876,
    "start_time": "2022-03-27T13:30:00.410Z"
   },
   {
    "duration": 10,
    "start_time": "2022-03-27T13:31:25.859Z"
   },
   {
    "duration": 97191,
    "start_time": "2022-03-27T13:31:35.658Z"
   },
   {
    "duration": 360004,
    "start_time": "2022-03-27T13:39:24.940Z"
   },
   {
    "duration": 16764,
    "start_time": "2022-03-27T13:45:35.524Z"
   },
   {
    "duration": 42536,
    "start_time": "2022-03-27T13:46:06.269Z"
   },
   {
    "duration": 602747,
    "start_time": "2022-03-27T13:46:59.852Z"
   },
   {
    "duration": 1599665,
    "start_time": "2022-03-27T13:57:24.323Z"
   },
   {
    "duration": 4,
    "start_time": "2022-03-27T14:24:12.156Z"
   },
   {
    "duration": 12,
    "start_time": "2022-03-27T14:43:39.011Z"
   },
   {
    "duration": 44,
    "start_time": "2022-03-27T14:43:45.763Z"
   },
   {
    "duration": 2258,
    "start_time": "2022-03-27T14:47:37.025Z"
   },
   {
    "duration": 1039,
    "start_time": "2022-03-27T14:47:39.286Z"
   },
   {
    "duration": 24,
    "start_time": "2022-03-27T14:47:40.326Z"
   },
   {
    "duration": 34,
    "start_time": "2022-03-27T14:47:40.351Z"
   },
   {
    "duration": 20,
    "start_time": "2022-03-27T14:47:40.386Z"
   },
   {
    "duration": 15,
    "start_time": "2022-03-27T14:47:40.407Z"
   },
   {
    "duration": 18,
    "start_time": "2022-03-27T14:47:40.423Z"
   },
   {
    "duration": 44,
    "start_time": "2022-03-27T14:47:40.442Z"
   },
   {
    "duration": 4,
    "start_time": "2022-03-27T14:47:40.488Z"
   },
   {
    "duration": 5,
    "start_time": "2022-03-27T14:47:40.494Z"
   },
   {
    "duration": 6,
    "start_time": "2022-03-27T14:47:40.501Z"
   },
   {
    "duration": 5,
    "start_time": "2022-03-27T14:47:40.508Z"
   },
   {
    "duration": 10,
    "start_time": "2022-03-27T14:47:40.514Z"
   },
   {
    "duration": 10,
    "start_time": "2022-03-27T14:47:40.526Z"
   },
   {
    "duration": 6,
    "start_time": "2022-03-27T14:47:40.537Z"
   },
   {
    "duration": 7,
    "start_time": "2022-03-27T14:47:40.545Z"
   },
   {
    "duration": 249,
    "start_time": "2022-03-27T14:47:40.554Z"
   },
   {
    "duration": 14,
    "start_time": "2022-03-27T14:47:40.804Z"
   },
   {
    "duration": 12,
    "start_time": "2022-03-27T14:47:40.819Z"
   },
   {
    "duration": 13,
    "start_time": "2022-03-27T14:47:40.832Z"
   },
   {
    "duration": 299,
    "start_time": "2022-03-27T14:47:40.846Z"
   },
   {
    "duration": 18,
    "start_time": "2022-03-27T14:47:41.147Z"
   },
   {
    "duration": 21,
    "start_time": "2022-03-27T14:47:41.167Z"
   },
   {
    "duration": 5,
    "start_time": "2022-03-27T14:47:41.190Z"
   },
   {
    "duration": 6,
    "start_time": "2022-03-27T14:47:41.197Z"
   },
   {
    "duration": 5,
    "start_time": "2022-03-27T14:47:41.205Z"
   },
   {
    "duration": 2142,
    "start_time": "2022-03-27T14:47:41.212Z"
   },
   {
    "duration": 2172,
    "start_time": "2022-03-27T14:47:43.357Z"
   },
   {
    "duration": 2541,
    "start_time": "2022-03-27T14:47:45.530Z"
   },
   {
    "duration": 390,
    "start_time": "2022-03-27T14:47:48.072Z"
   },
   {
    "duration": 17,
    "start_time": "2022-03-27T14:47:48.464Z"
   },
   {
    "duration": 417,
    "start_time": "2022-03-27T14:47:48.483Z"
   },
   {
    "duration": 20,
    "start_time": "2022-03-27T14:47:48.902Z"
   },
   {
    "duration": 4,
    "start_time": "2022-03-27T14:47:48.923Z"
   },
   {
    "duration": 6,
    "start_time": "2022-03-27T14:47:48.929Z"
   },
   {
    "duration": 6,
    "start_time": "2022-03-27T14:47:48.936Z"
   },
   {
    "duration": 8,
    "start_time": "2022-03-27T14:47:48.943Z"
   },
   {
    "duration": 34,
    "start_time": "2022-03-27T14:47:48.952Z"
   },
   {
    "duration": 17,
    "start_time": "2022-03-27T14:47:48.987Z"
   },
   {
    "duration": 19,
    "start_time": "2022-03-27T14:47:49.006Z"
   },
   {
    "duration": 9,
    "start_time": "2022-03-27T14:47:49.027Z"
   },
   {
    "duration": 4,
    "start_time": "2022-03-27T14:47:49.038Z"
   },
   {
    "duration": 2744,
    "start_time": "2022-03-27T14:47:49.044Z"
   },
   {
    "duration": 4299,
    "start_time": "2022-03-27T14:47:51.790Z"
   },
   {
    "duration": 94,
    "start_time": "2022-03-27T14:47:56.093Z"
   },
   {
    "duration": 14573,
    "start_time": "2022-03-27T14:47:56.280Z"
   },
   {
    "duration": 0,
    "start_time": "2022-03-27T14:48:10.856Z"
   },
   {
    "duration": 0,
    "start_time": "2022-03-27T14:48:10.857Z"
   },
   {
    "duration": 0,
    "start_time": "2022-03-27T14:48:10.858Z"
   },
   {
    "duration": 0,
    "start_time": "2022-03-27T14:48:10.860Z"
   },
   {
    "duration": 0,
    "start_time": "2022-03-27T14:48:10.861Z"
   },
   {
    "duration": 0,
    "start_time": "2022-03-27T14:48:10.862Z"
   },
   {
    "duration": 0,
    "start_time": "2022-03-27T14:48:10.863Z"
   },
   {
    "duration": 5,
    "start_time": "2022-03-27T14:48:36.975Z"
   },
   {
    "duration": 691,
    "start_time": "2022-03-27T14:48:36.982Z"
   },
   {
    "duration": 23,
    "start_time": "2022-03-27T14:48:37.675Z"
   },
   {
    "duration": 20,
    "start_time": "2022-03-27T14:48:37.701Z"
   },
   {
    "duration": 19,
    "start_time": "2022-03-27T14:48:37.723Z"
   },
   {
    "duration": 16,
    "start_time": "2022-03-27T14:48:37.743Z"
   },
   {
    "duration": 30,
    "start_time": "2022-03-27T14:48:37.760Z"
   },
   {
    "duration": 15,
    "start_time": "2022-03-27T14:48:37.792Z"
   },
   {
    "duration": 17,
    "start_time": "2022-03-27T14:48:37.809Z"
   },
   {
    "duration": 10,
    "start_time": "2022-03-27T14:48:37.828Z"
   },
   {
    "duration": 10,
    "start_time": "2022-03-27T14:48:37.840Z"
   },
   {
    "duration": 11,
    "start_time": "2022-03-27T14:48:37.852Z"
   },
   {
    "duration": 9,
    "start_time": "2022-03-27T14:48:37.866Z"
   },
   {
    "duration": 6,
    "start_time": "2022-03-27T14:48:37.877Z"
   },
   {
    "duration": 5,
    "start_time": "2022-03-27T14:48:37.885Z"
   },
   {
    "duration": 11,
    "start_time": "2022-03-27T14:48:37.892Z"
   },
   {
    "duration": 242,
    "start_time": "2022-03-27T14:48:37.904Z"
   },
   {
    "duration": 13,
    "start_time": "2022-03-27T14:48:38.147Z"
   },
   {
    "duration": 19,
    "start_time": "2022-03-27T14:48:38.162Z"
   },
   {
    "duration": 14,
    "start_time": "2022-03-27T14:48:38.183Z"
   },
   {
    "duration": 436,
    "start_time": "2022-03-27T14:48:38.199Z"
   },
   {
    "duration": 17,
    "start_time": "2022-03-27T14:48:38.637Z"
   },
   {
    "duration": 7,
    "start_time": "2022-03-27T14:48:38.656Z"
   },
   {
    "duration": 5,
    "start_time": "2022-03-27T14:48:38.680Z"
   },
   {
    "duration": 5,
    "start_time": "2022-03-27T14:48:38.687Z"
   },
   {
    "duration": 4,
    "start_time": "2022-03-27T14:48:38.694Z"
   },
   {
    "duration": 2205,
    "start_time": "2022-03-27T14:48:38.700Z"
   },
   {
    "duration": 2122,
    "start_time": "2022-03-27T14:48:40.907Z"
   },
   {
    "duration": 2578,
    "start_time": "2022-03-27T14:48:43.030Z"
   },
   {
    "duration": 359,
    "start_time": "2022-03-27T14:48:45.610Z"
   },
   {
    "duration": 13,
    "start_time": "2022-03-27T14:48:45.971Z"
   },
   {
    "duration": 710,
    "start_time": "2022-03-27T14:48:45.987Z"
   },
   {
    "duration": 15,
    "start_time": "2022-03-27T14:48:46.699Z"
   },
   {
    "duration": 5,
    "start_time": "2022-03-27T14:48:46.715Z"
   },
   {
    "duration": 5,
    "start_time": "2022-03-27T14:48:46.722Z"
   },
   {
    "duration": 11,
    "start_time": "2022-03-27T14:48:46.729Z"
   },
   {
    "duration": 8,
    "start_time": "2022-03-27T14:48:46.742Z"
   },
   {
    "duration": 25,
    "start_time": "2022-03-27T14:48:46.751Z"
   },
   {
    "duration": 12,
    "start_time": "2022-03-27T14:48:46.777Z"
   },
   {
    "duration": 11,
    "start_time": "2022-03-27T14:48:46.791Z"
   },
   {
    "duration": 7,
    "start_time": "2022-03-27T14:48:46.803Z"
   },
   {
    "duration": 7,
    "start_time": "2022-03-27T14:48:46.811Z"
   },
   {
    "duration": 3063,
    "start_time": "2022-03-27T14:48:46.819Z"
   },
   {
    "duration": 4810,
    "start_time": "2022-03-27T14:48:49.884Z"
   },
   {
    "duration": 9,
    "start_time": "2022-03-27T14:48:54.783Z"
   },
   {
    "duration": 16038,
    "start_time": "2022-03-27T14:48:54.794Z"
   },
   {
    "duration": 39675,
    "start_time": "2022-03-27T14:49:10.833Z"
   },
   {
    "duration": 3,
    "start_time": "2022-03-27T14:49:50.510Z"
   },
   {
    "duration": 566828,
    "start_time": "2022-03-27T14:49:50.516Z"
   },
   {
    "duration": 1611613,
    "start_time": "2022-03-27T14:59:17.346Z"
   },
   {
    "duration": 5,
    "start_time": "2022-03-27T15:26:08.962Z"
   },
   {
    "duration": 24,
    "start_time": "2022-03-27T15:26:08.969Z"
   },
   {
    "duration": 8,
    "start_time": "2022-03-27T15:26:08.996Z"
   },
   {
    "duration": 5,
    "start_time": "2022-03-27T15:32:42.920Z"
   },
   {
    "duration": 6,
    "start_time": "2022-03-27T15:33:09.422Z"
   },
   {
    "duration": 7,
    "start_time": "2022-03-27T15:34:18.920Z"
   },
   {
    "duration": 6,
    "start_time": "2022-03-27T15:34:20.328Z"
   },
   {
    "duration": 20,
    "start_time": "2022-03-27T15:34:33.848Z"
   },
   {
    "duration": 7,
    "start_time": "2022-03-27T15:34:34.396Z"
   },
   {
    "duration": 6,
    "start_time": "2022-03-27T15:34:42.199Z"
   },
   {
    "duration": 6,
    "start_time": "2022-03-27T15:37:02.560Z"
   },
   {
    "duration": 5,
    "start_time": "2022-03-27T15:37:14.225Z"
   },
   {
    "duration": 7,
    "start_time": "2022-03-27T15:37:33.201Z"
   },
   {
    "duration": 7,
    "start_time": "2022-03-27T15:37:36.017Z"
   },
   {
    "duration": 6,
    "start_time": "2022-03-27T15:37:45.696Z"
   },
   {
    "duration": 2,
    "start_time": "2022-03-27T15:52:10.851Z"
   },
   {
    "duration": 3,
    "start_time": "2022-03-27T15:52:11.331Z"
   },
   {
    "duration": 12,
    "start_time": "2022-03-27T15:52:12.963Z"
   },
   {
    "duration": 12,
    "start_time": "2022-03-27T15:52:13.347Z"
   },
   {
    "duration": 12,
    "start_time": "2022-03-27T15:52:13.779Z"
   },
   {
    "duration": 5,
    "start_time": "2022-03-27T15:52:14.626Z"
   },
   {
    "duration": 3,
    "start_time": "2022-03-27T15:52:15.483Z"
   },
   {
    "duration": 2144,
    "start_time": "2022-03-27T15:52:16.843Z"
   },
   {
    "duration": 4746,
    "start_time": "2022-03-27T15:52:21.036Z"
   },
   {
    "duration": 4,
    "start_time": "2022-03-27T15:52:27.450Z"
   },
   {
    "duration": 10,
    "start_time": "2022-03-27T15:52:42.490Z"
   },
   {
    "duration": 8,
    "start_time": "2022-03-27T15:52:44.363Z"
   },
   {
    "duration": 22,
    "start_time": "2022-03-27T15:52:57.067Z"
   },
   {
    "duration": 6,
    "start_time": "2022-03-27T15:52:58.731Z"
   },
   {
    "duration": 6,
    "start_time": "2022-03-27T15:52:59.881Z"
   },
   {
    "duration": 8,
    "start_time": "2022-03-27T15:53:52.597Z"
   },
   {
    "duration": 10,
    "start_time": "2022-03-27T15:53:53.011Z"
   },
   {
    "duration": 2251,
    "start_time": "2022-03-28T17:35:48.762Z"
   },
   {
    "duration": 805,
    "start_time": "2022-03-28T17:35:51.016Z"
   },
   {
    "duration": 38,
    "start_time": "2022-03-28T17:35:51.824Z"
   },
   {
    "duration": 44,
    "start_time": "2022-03-28T17:35:51.864Z"
   },
   {
    "duration": 33,
    "start_time": "2022-03-28T17:35:51.911Z"
   },
   {
    "duration": 53,
    "start_time": "2022-03-28T17:35:51.946Z"
   },
   {
    "duration": 32,
    "start_time": "2022-03-28T17:35:52.002Z"
   },
   {
    "duration": 50,
    "start_time": "2022-03-28T17:35:52.036Z"
   },
   {
    "duration": 6,
    "start_time": "2022-03-28T17:35:52.088Z"
   },
   {
    "duration": 6,
    "start_time": "2022-03-28T17:35:52.097Z"
   },
   {
    "duration": 7,
    "start_time": "2022-03-28T17:35:52.105Z"
   },
   {
    "duration": 5,
    "start_time": "2022-03-28T17:35:52.114Z"
   },
   {
    "duration": 12,
    "start_time": "2022-03-28T17:35:52.121Z"
   },
   {
    "duration": 50,
    "start_time": "2022-03-28T17:35:52.138Z"
   },
   {
    "duration": 7,
    "start_time": "2022-03-28T17:35:52.190Z"
   },
   {
    "duration": 9,
    "start_time": "2022-03-28T17:35:52.199Z"
   },
   {
    "duration": 412,
    "start_time": "2022-03-28T17:35:52.210Z"
   },
   {
    "duration": 19,
    "start_time": "2022-03-28T17:35:52.624Z"
   },
   {
    "duration": 44,
    "start_time": "2022-03-28T17:35:52.645Z"
   },
   {
    "duration": 19,
    "start_time": "2022-03-28T17:35:52.692Z"
   },
   {
    "duration": 453,
    "start_time": "2022-03-28T17:35:52.713Z"
   },
   {
    "duration": 42,
    "start_time": "2022-03-28T17:35:53.169Z"
   },
   {
    "duration": 13,
    "start_time": "2022-03-28T17:35:53.213Z"
   },
   {
    "duration": 12,
    "start_time": "2022-03-28T17:35:53.229Z"
   },
   {
    "duration": 10,
    "start_time": "2022-03-28T17:35:53.243Z"
   },
   {
    "duration": 7,
    "start_time": "2022-03-28T17:35:53.284Z"
   },
   {
    "duration": 2872,
    "start_time": "2022-03-28T17:35:53.293Z"
   },
   {
    "duration": 2879,
    "start_time": "2022-03-28T17:35:56.167Z"
   },
   {
    "duration": 2826,
    "start_time": "2022-03-28T17:35:59.048Z"
   },
   {
    "duration": 764,
    "start_time": "2022-03-28T17:36:01.884Z"
   },
   {
    "duration": 10,
    "start_time": "2022-03-28T17:36:02.650Z"
   },
   {
    "duration": 830,
    "start_time": "2022-03-28T17:36:02.663Z"
   },
   {
    "duration": 31,
    "start_time": "2022-03-28T17:36:03.495Z"
   },
   {
    "duration": 14,
    "start_time": "2022-03-28T17:36:03.528Z"
   },
   {
    "duration": 25,
    "start_time": "2022-03-28T17:36:03.544Z"
   },
   {
    "duration": 17,
    "start_time": "2022-03-28T17:36:03.571Z"
   },
   {
    "duration": 37,
    "start_time": "2022-03-28T17:36:03.590Z"
   },
   {
    "duration": 35,
    "start_time": "2022-03-28T17:36:10.732Z"
   },
   {
    "duration": 17,
    "start_time": "2022-03-28T17:36:13.054Z"
   },
   {
    "duration": 18,
    "start_time": "2022-03-28T17:36:16.551Z"
   },
   {
    "duration": 16,
    "start_time": "2022-03-28T17:36:19.712Z"
   },
   {
    "duration": 6,
    "start_time": "2022-03-28T17:36:21.575Z"
   },
   {
    "duration": 163,
    "start_time": "2022-03-28T17:44:50.543Z"
   },
   {
    "duration": 4,
    "start_time": "2022-03-28T17:45:48.689Z"
   },
   {
    "duration": 3303,
    "start_time": "2022-03-28T17:45:53.094Z"
   },
   {
    "duration": 8572,
    "start_time": "2022-03-28T17:46:28.527Z"
   },
   {
    "duration": 23194,
    "start_time": "2022-03-28T17:46:39.990Z"
   },
   {
    "duration": 58454,
    "start_time": "2022-03-28T17:47:12.743Z"
   },
   {
    "duration": 185298,
    "start_time": "2022-03-28T17:48:28.943Z"
   },
   {
    "duration": 6,
    "start_time": "2022-03-28T17:54:16.374Z"
   },
   {
    "duration": 998,
    "start_time": "2022-03-28T17:54:16.384Z"
   },
   {
    "duration": 42,
    "start_time": "2022-03-28T17:54:17.384Z"
   },
   {
    "duration": 57,
    "start_time": "2022-03-28T17:54:17.429Z"
   },
   {
    "duration": 38,
    "start_time": "2022-03-28T17:54:17.489Z"
   },
   {
    "duration": 38,
    "start_time": "2022-03-28T17:54:17.529Z"
   },
   {
    "duration": 52,
    "start_time": "2022-03-28T17:54:17.569Z"
   },
   {
    "duration": 24,
    "start_time": "2022-03-28T17:54:17.624Z"
   },
   {
    "duration": 41,
    "start_time": "2022-03-28T17:54:17.652Z"
   },
   {
    "duration": 82,
    "start_time": "2022-03-28T17:54:17.696Z"
   },
   {
    "duration": 39,
    "start_time": "2022-03-28T17:54:17.781Z"
   },
   {
    "duration": 23,
    "start_time": "2022-03-28T17:54:17.822Z"
   },
   {
    "duration": 50,
    "start_time": "2022-03-28T17:54:17.848Z"
   },
   {
    "duration": 13,
    "start_time": "2022-03-28T17:54:17.900Z"
   },
   {
    "duration": 24,
    "start_time": "2022-03-28T17:54:17.915Z"
   },
   {
    "duration": 59,
    "start_time": "2022-03-28T17:54:17.942Z"
   },
   {
    "duration": 403,
    "start_time": "2022-03-28T17:54:18.004Z"
   },
   {
    "duration": 19,
    "start_time": "2022-03-28T17:54:18.409Z"
   },
   {
    "duration": 33,
    "start_time": "2022-03-28T17:54:18.430Z"
   },
   {
    "duration": 32,
    "start_time": "2022-03-28T17:54:18.466Z"
   },
   {
    "duration": 478,
    "start_time": "2022-03-28T17:54:18.500Z"
   },
   {
    "duration": 32,
    "start_time": "2022-03-28T17:54:18.981Z"
   },
   {
    "duration": 11,
    "start_time": "2022-03-28T17:54:19.016Z"
   },
   {
    "duration": 26,
    "start_time": "2022-03-28T17:54:19.032Z"
   },
   {
    "duration": 43,
    "start_time": "2022-03-28T17:54:19.061Z"
   },
   {
    "duration": 15,
    "start_time": "2022-03-28T17:54:19.106Z"
   },
   {
    "duration": 2865,
    "start_time": "2022-03-28T17:54:19.123Z"
   },
   {
    "duration": 3162,
    "start_time": "2022-03-28T17:54:21.994Z"
   },
   {
    "duration": 3118,
    "start_time": "2022-03-28T17:54:25.158Z"
   },
   {
    "duration": 766,
    "start_time": "2022-03-28T17:54:28.279Z"
   },
   {
    "duration": 9,
    "start_time": "2022-03-28T17:54:29.047Z"
   },
   {
    "duration": 863,
    "start_time": "2022-03-28T17:54:29.058Z"
   },
   {
    "duration": 31,
    "start_time": "2022-03-28T17:54:29.923Z"
   },
   {
    "duration": 29,
    "start_time": "2022-03-28T17:54:29.957Z"
   },
   {
    "duration": 6,
    "start_time": "2022-03-28T17:54:29.990Z"
   },
   {
    "duration": 37,
    "start_time": "2022-03-28T17:54:29.999Z"
   },
   {
    "duration": 14,
    "start_time": "2022-03-28T17:54:30.039Z"
   },
   {
    "duration": 52,
    "start_time": "2022-03-28T17:54:30.056Z"
   },
   {
    "duration": 20,
    "start_time": "2022-03-28T17:54:30.111Z"
   },
   {
    "duration": 21,
    "start_time": "2022-03-28T17:54:30.134Z"
   },
   {
    "duration": 53,
    "start_time": "2022-03-28T17:54:30.157Z"
   },
   {
    "duration": 40,
    "start_time": "2022-03-28T17:54:30.212Z"
   },
   {
    "duration": 15,
    "start_time": "2022-03-28T17:54:54.897Z"
   },
   {
    "duration": 39,
    "start_time": "2022-03-28T17:55:16.812Z"
   },
   {
    "duration": 12,
    "start_time": "2022-03-28T17:57:33.832Z"
   },
   {
    "duration": 12,
    "start_time": "2022-03-28T17:58:04.614Z"
   },
   {
    "duration": 12,
    "start_time": "2022-03-28T17:58:32.797Z"
   },
   {
    "duration": 12,
    "start_time": "2022-03-28T18:00:39.646Z"
   },
   {
    "duration": 6,
    "start_time": "2022-03-28T18:01:48.639Z"
   },
   {
    "duration": 3,
    "start_time": "2022-03-28T18:02:13.448Z"
   },
   {
    "duration": 4673,
    "start_time": "2022-03-28T18:02:15.415Z"
   },
   {
    "duration": 9615,
    "start_time": "2022-03-28T18:02:54.375Z"
   },
   {
    "duration": 17,
    "start_time": "2022-03-28T18:03:10.622Z"
   },
   {
    "duration": 10,
    "start_time": "2022-03-28T18:03:12.902Z"
   },
   {
    "duration": 11776,
    "start_time": "2022-03-28T18:04:23.366Z"
   },
   {
    "duration": 29603,
    "start_time": "2022-03-28T18:04:53.104Z"
   },
   {
    "duration": 18,
    "start_time": "2022-03-28T18:05:31.287Z"
   },
   {
    "duration": 14,
    "start_time": "2022-03-28T18:05:35.183Z"
   },
   {
    "duration": 42573,
    "start_time": "2022-03-28T18:06:36.343Z"
   },
   {
    "duration": 7,
    "start_time": "2022-03-28T18:07:24.379Z"
   },
   {
    "duration": 991,
    "start_time": "2022-03-28T18:07:24.390Z"
   },
   {
    "duration": 42,
    "start_time": "2022-03-28T18:07:25.384Z"
   },
   {
    "duration": 28,
    "start_time": "2022-03-28T18:07:25.430Z"
   },
   {
    "duration": 35,
    "start_time": "2022-03-28T18:07:25.490Z"
   },
   {
    "duration": 61,
    "start_time": "2022-03-28T18:07:25.529Z"
   },
   {
    "duration": 35,
    "start_time": "2022-03-28T18:07:25.593Z"
   },
   {
    "duration": 25,
    "start_time": "2022-03-28T18:07:25.630Z"
   },
   {
    "duration": 9,
    "start_time": "2022-03-28T18:07:25.685Z"
   },
   {
    "duration": 13,
    "start_time": "2022-03-28T18:07:25.698Z"
   },
   {
    "duration": 13,
    "start_time": "2022-03-28T18:07:25.713Z"
   },
   {
    "duration": 6,
    "start_time": "2022-03-28T18:07:25.728Z"
   },
   {
    "duration": 10,
    "start_time": "2022-03-28T18:07:25.736Z"
   },
   {
    "duration": 39,
    "start_time": "2022-03-28T18:07:25.748Z"
   },
   {
    "duration": 15,
    "start_time": "2022-03-28T18:07:25.797Z"
   },
   {
    "duration": 13,
    "start_time": "2022-03-28T18:07:25.814Z"
   },
   {
    "duration": 439,
    "start_time": "2022-03-28T18:07:25.829Z"
   },
   {
    "duration": 28,
    "start_time": "2022-03-28T18:07:26.271Z"
   },
   {
    "duration": 120,
    "start_time": "2022-03-28T18:07:26.301Z"
   },
   {
    "duration": 23,
    "start_time": "2022-03-28T18:07:26.423Z"
   },
   {
    "duration": 499,
    "start_time": "2022-03-28T18:07:26.448Z"
   },
   {
    "duration": 53,
    "start_time": "2022-03-28T18:07:26.949Z"
   },
   {
    "duration": 11,
    "start_time": "2022-03-28T18:07:27.005Z"
   },
   {
    "duration": 11,
    "start_time": "2022-03-28T18:07:27.021Z"
   },
   {
    "duration": 14,
    "start_time": "2022-03-28T18:07:27.035Z"
   },
   {
    "duration": 37,
    "start_time": "2022-03-28T18:07:27.052Z"
   },
   {
    "duration": 2965,
    "start_time": "2022-03-28T18:07:27.095Z"
   },
   {
    "duration": 3258,
    "start_time": "2022-03-28T18:07:30.062Z"
   },
   {
    "duration": 3092,
    "start_time": "2022-03-28T18:07:33.322Z"
   },
   {
    "duration": 659,
    "start_time": "2022-03-28T18:07:36.416Z"
   },
   {
    "duration": 11,
    "start_time": "2022-03-28T18:07:37.077Z"
   },
   {
    "duration": 994,
    "start_time": "2022-03-28T18:07:37.091Z"
   },
   {
    "duration": 31,
    "start_time": "2022-03-28T18:07:38.089Z"
   },
   {
    "duration": 12,
    "start_time": "2022-03-28T18:07:38.123Z"
   },
   {
    "duration": 15,
    "start_time": "2022-03-28T18:07:38.137Z"
   },
   {
    "duration": 30,
    "start_time": "2022-03-28T18:07:38.155Z"
   },
   {
    "duration": 20,
    "start_time": "2022-03-28T18:07:38.189Z"
   },
   {
    "duration": 32,
    "start_time": "2022-03-28T18:07:38.211Z"
   },
   {
    "duration": 20,
    "start_time": "2022-03-28T18:07:38.246Z"
   },
   {
    "duration": 35,
    "start_time": "2022-03-28T18:07:38.268Z"
   },
   {
    "duration": 16,
    "start_time": "2022-03-28T18:07:38.305Z"
   },
   {
    "duration": 25,
    "start_time": "2022-03-28T18:07:38.323Z"
   },
   {
    "duration": 3347,
    "start_time": "2022-03-28T18:07:38.350Z"
   },
   {
    "duration": 10995,
    "start_time": "2022-03-28T18:07:41.700Z"
   },
   {
    "duration": 12043,
    "start_time": "2022-03-28T18:07:52.698Z"
   },
   {
    "duration": 28449,
    "start_time": "2022-03-28T18:08:06.897Z"
   },
   {
    "duration": 427230,
    "start_time": "2022-03-28T18:08:37.583Z"
   },
   {
    "duration": 1098484,
    "start_time": "2022-03-28T18:16:01.767Z"
   },
   {
    "duration": 0,
    "start_time": "2022-03-28T19:33:50.560Z"
   },
   {
    "duration": 9,
    "start_time": "2022-03-28T19:35:00.675Z"
   },
   {
    "duration": 2031,
    "start_time": "2022-03-28T19:35:18.584Z"
   },
   {
    "duration": 751,
    "start_time": "2022-03-28T19:35:20.618Z"
   },
   {
    "duration": 39,
    "start_time": "2022-03-28T19:35:21.371Z"
   },
   {
    "duration": 26,
    "start_time": "2022-03-28T19:35:21.413Z"
   },
   {
    "duration": 32,
    "start_time": "2022-03-28T19:35:21.467Z"
   },
   {
    "duration": 33,
    "start_time": "2022-03-28T19:35:21.501Z"
   },
   {
    "duration": 52,
    "start_time": "2022-03-28T19:35:21.537Z"
   },
   {
    "duration": 19,
    "start_time": "2022-03-28T19:35:21.591Z"
   },
   {
    "duration": 6,
    "start_time": "2022-03-28T19:35:21.612Z"
   },
   {
    "duration": 5,
    "start_time": "2022-03-28T19:35:21.623Z"
   },
   {
    "duration": 39,
    "start_time": "2022-03-28T19:35:21.630Z"
   },
   {
    "duration": 4,
    "start_time": "2022-03-28T19:35:21.671Z"
   },
   {
    "duration": 13,
    "start_time": "2022-03-28T19:35:21.677Z"
   },
   {
    "duration": 7,
    "start_time": "2022-03-28T19:35:21.692Z"
   },
   {
    "duration": 6,
    "start_time": "2022-03-28T19:35:21.701Z"
   },
   {
    "duration": 8,
    "start_time": "2022-03-28T19:35:21.709Z"
   },
   {
    "duration": 420,
    "start_time": "2022-03-28T19:35:21.720Z"
   },
   {
    "duration": 31,
    "start_time": "2022-03-28T19:35:22.143Z"
   },
   {
    "duration": 15,
    "start_time": "2022-03-28T19:35:22.176Z"
   },
   {
    "duration": 19,
    "start_time": "2022-03-28T19:35:22.193Z"
   },
   {
    "duration": 459,
    "start_time": "2022-03-28T19:35:22.214Z"
   },
   {
    "duration": 28,
    "start_time": "2022-03-28T19:35:22.675Z"
   },
   {
    "duration": 12,
    "start_time": "2022-03-28T19:35:22.705Z"
   },
   {
    "duration": 8,
    "start_time": "2022-03-28T19:35:22.719Z"
   },
   {
    "duration": 45,
    "start_time": "2022-03-28T19:35:22.729Z"
   },
   {
    "duration": 6,
    "start_time": "2022-03-28T19:35:22.777Z"
   },
   {
    "duration": 2810,
    "start_time": "2022-03-28T19:35:22.786Z"
   },
   {
    "duration": 2797,
    "start_time": "2022-03-28T19:35:25.601Z"
   },
   {
    "duration": 2838,
    "start_time": "2022-03-28T19:35:28.400Z"
   },
   {
    "duration": 848,
    "start_time": "2022-03-28T19:35:31.240Z"
   },
   {
    "duration": 10,
    "start_time": "2022-03-28T19:35:32.091Z"
   },
   {
    "duration": 827,
    "start_time": "2022-03-28T19:35:32.104Z"
   },
   {
    "duration": 49,
    "start_time": "2022-03-28T19:35:32.933Z"
   },
   {
    "duration": 7,
    "start_time": "2022-03-28T19:35:32.984Z"
   },
   {
    "duration": 8,
    "start_time": "2022-03-28T19:35:32.993Z"
   },
   {
    "duration": 8,
    "start_time": "2022-03-28T19:35:33.004Z"
   },
   {
    "duration": 5,
    "start_time": "2022-03-28T19:35:33.014Z"
   },
   {
    "duration": 51,
    "start_time": "2022-03-28T19:35:33.021Z"
   },
   {
    "duration": 19,
    "start_time": "2022-03-28T19:35:33.075Z"
   },
   {
    "duration": 39,
    "start_time": "2022-03-28T19:35:33.097Z"
   },
   {
    "duration": 14,
    "start_time": "2022-03-28T19:35:33.139Z"
   },
   {
    "duration": 17,
    "start_time": "2022-03-28T19:35:33.155Z"
   },
   {
    "duration": 3004,
    "start_time": "2022-03-28T19:35:33.174Z"
   },
   {
    "duration": 5601,
    "start_time": "2022-03-28T19:35:36.181Z"
   },
   {
    "duration": 10523,
    "start_time": "2022-03-28T19:35:41.867Z"
   },
   {
    "duration": 26063,
    "start_time": "2022-03-28T19:35:52.392Z"
   },
   {
    "duration": 395332,
    "start_time": "2022-03-28T19:36:18.457Z"
   },
   {
    "duration": 1067743,
    "start_time": "2022-03-28T19:42:53.792Z"
   },
   {
    "duration": 50,
    "start_time": "2022-03-28T20:00:41.538Z"
   },
   {
    "duration": 10,
    "start_time": "2022-03-28T20:00:41.590Z"
   },
   {
    "duration": 131,
    "start_time": "2022-03-28T20:05:25.153Z"
   },
   {
    "duration": 131,
    "start_time": "2022-03-28T20:05:31.009Z"
   }
  ],
  "kernelspec": {
   "display_name": "Python 3 (ipykernel)",
   "language": "python",
   "name": "python3"
  },
  "language_info": {
   "codemirror_mode": {
    "name": "ipython",
    "version": 3
   },
   "file_extension": ".py",
   "mimetype": "text/x-python",
   "name": "python",
   "nbconvert_exporter": "python",
   "pygments_lexer": "ipython3",
   "version": "3.9.5"
  },
  "toc": {
   "base_numbering": 1,
   "nav_menu": {},
   "number_sections": true,
   "sideBar": true,
   "skip_h1_title": true,
   "title_cell": "Содержание",
   "title_sidebar": "Contents",
   "toc_cell": true,
   "toc_position": {},
   "toc_section_display": true,
   "toc_window_display": true
  }
 },
 "nbformat": 4,
 "nbformat_minor": 2
}
