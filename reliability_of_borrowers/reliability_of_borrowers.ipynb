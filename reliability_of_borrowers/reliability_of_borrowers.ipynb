{
 "cells": [
  {
   "cell_type": "markdown",
   "metadata": {},
   "source": [
    "# Исследование надёжности заёмщиков\n",
    "\n",
    "Заказчик — кредитный отдел банка. Нужно разобраться, влияет ли семейное положение и количество детей клиента на факт погашения кредита в срок. Входные данные от банка — статистика о платёжеспособности клиентов.\n",
    "\n",
    "Результаты исследования будут учтены при построении модели **кредитного скоринга** — специальной системы, которая оценивает способность потенциального заёмщика вернуть кредит банку."
   ]
  },
  {
   "cell_type": "markdown",
   "metadata": {},
   "source": [
    "**Цель исследования** — проверьте четыре гипотезы:\n",
    "1. Вероятность погашения кредита в срок зависит от наличия детей.\n",
    "2. Семейное положение оказывает влияния на вероятность погашения кредита в срок.\n",
    "3. Вероятность погашения кредита в срок зависит от уровня дохода.\n",
    "4. На вероятность погашения кредита в срок оказывает влияние цель кредита.\n",
    "\n",
    "**Ход исследования**\n",
    "\n",
    "Исследование пройдёт в четыре этапа:\n",
    " 1. Обзор данных.\n",
    " 2. Предобработка данных.\n",
    " 3. Проверка гипотез и ответы на вопросы.\n",
    " 4. Выводы."
   ]
  },
  {
   "cell_type": "markdown",
   "metadata": {},
   "source": [
    "## Шаг 1. Откройте файл с данными и изучите общую информацию"
   ]
  },
  {
   "cell_type": "markdown",
   "metadata": {},
   "source": [
    "Импортируем библиотеки, которые потребуются для реализации проекта"
   ]
  },
  {
   "cell_type": "code",
   "execution_count": 1,
   "metadata": {},
   "outputs": [],
   "source": [
    "# импорт библиотеки pandas\n",
    "import pandas as pd\n",
    "\n",
    "# импорт библиотеки для лемматизации\n",
    "from pymystem3 import Mystem\n",
    "m = Mystem() \n",
    "\n",
    "# импорт библиотеки для подсчета числа лемм\n",
    "from collections import Counter"
   ]
  },
  {
   "cell_type": "markdown",
   "metadata": {},
   "source": [
    "Прочтем файл со статистикой о платёжеспособности клиентов и рассмотрим общую информацию о датасете"
   ]
  },
  {
   "cell_type": "code",
   "execution_count": 2,
   "metadata": {},
   "outputs": [],
   "source": [
    "# чтение файла с данными и сохранение в df\n",
    "data = pd.read_csv('/datasets/data.csv')"
   ]
  },
  {
   "cell_type": "markdown",
   "metadata": {},
   "source": [
    "Выведем первые 10 строк датасета"
   ]
  },
  {
   "cell_type": "code",
   "execution_count": 3,
   "metadata": {},
   "outputs": [
    {
     "data": {
      "text/html": [
       "<div>\n",
       "<style scoped>\n",
       "    .dataframe tbody tr th:only-of-type {\n",
       "        vertical-align: middle;\n",
       "    }\n",
       "\n",
       "    .dataframe tbody tr th {\n",
       "        vertical-align: top;\n",
       "    }\n",
       "\n",
       "    .dataframe thead th {\n",
       "        text-align: right;\n",
       "    }\n",
       "</style>\n",
       "<table border=\"1\" class=\"dataframe\">\n",
       "  <thead>\n",
       "    <tr style=\"text-align: right;\">\n",
       "      <th></th>\n",
       "      <th>children</th>\n",
       "      <th>days_employed</th>\n",
       "      <th>dob_years</th>\n",
       "      <th>education</th>\n",
       "      <th>education_id</th>\n",
       "      <th>family_status</th>\n",
       "      <th>family_status_id</th>\n",
       "      <th>gender</th>\n",
       "      <th>income_type</th>\n",
       "      <th>debt</th>\n",
       "      <th>total_income</th>\n",
       "      <th>purpose</th>\n",
       "    </tr>\n",
       "  </thead>\n",
       "  <tbody>\n",
       "    <tr>\n",
       "      <td>0</td>\n",
       "      <td>1</td>\n",
       "      <td>-8437.673028</td>\n",
       "      <td>42</td>\n",
       "      <td>высшее</td>\n",
       "      <td>0</td>\n",
       "      <td>женат / замужем</td>\n",
       "      <td>0</td>\n",
       "      <td>F</td>\n",
       "      <td>сотрудник</td>\n",
       "      <td>0</td>\n",
       "      <td>253875.639453</td>\n",
       "      <td>покупка жилья</td>\n",
       "    </tr>\n",
       "    <tr>\n",
       "      <td>1</td>\n",
       "      <td>1</td>\n",
       "      <td>-4024.803754</td>\n",
       "      <td>36</td>\n",
       "      <td>среднее</td>\n",
       "      <td>1</td>\n",
       "      <td>женат / замужем</td>\n",
       "      <td>0</td>\n",
       "      <td>F</td>\n",
       "      <td>сотрудник</td>\n",
       "      <td>0</td>\n",
       "      <td>112080.014102</td>\n",
       "      <td>приобретение автомобиля</td>\n",
       "    </tr>\n",
       "    <tr>\n",
       "      <td>2</td>\n",
       "      <td>0</td>\n",
       "      <td>-5623.422610</td>\n",
       "      <td>33</td>\n",
       "      <td>Среднее</td>\n",
       "      <td>1</td>\n",
       "      <td>женат / замужем</td>\n",
       "      <td>0</td>\n",
       "      <td>M</td>\n",
       "      <td>сотрудник</td>\n",
       "      <td>0</td>\n",
       "      <td>145885.952297</td>\n",
       "      <td>покупка жилья</td>\n",
       "    </tr>\n",
       "    <tr>\n",
       "      <td>3</td>\n",
       "      <td>3</td>\n",
       "      <td>-4124.747207</td>\n",
       "      <td>32</td>\n",
       "      <td>среднее</td>\n",
       "      <td>1</td>\n",
       "      <td>женат / замужем</td>\n",
       "      <td>0</td>\n",
       "      <td>M</td>\n",
       "      <td>сотрудник</td>\n",
       "      <td>0</td>\n",
       "      <td>267628.550329</td>\n",
       "      <td>дополнительное образование</td>\n",
       "    </tr>\n",
       "    <tr>\n",
       "      <td>4</td>\n",
       "      <td>0</td>\n",
       "      <td>340266.072047</td>\n",
       "      <td>53</td>\n",
       "      <td>среднее</td>\n",
       "      <td>1</td>\n",
       "      <td>гражданский брак</td>\n",
       "      <td>1</td>\n",
       "      <td>F</td>\n",
       "      <td>пенсионер</td>\n",
       "      <td>0</td>\n",
       "      <td>158616.077870</td>\n",
       "      <td>сыграть свадьбу</td>\n",
       "    </tr>\n",
       "    <tr>\n",
       "      <td>5</td>\n",
       "      <td>0</td>\n",
       "      <td>-926.185831</td>\n",
       "      <td>27</td>\n",
       "      <td>высшее</td>\n",
       "      <td>0</td>\n",
       "      <td>гражданский брак</td>\n",
       "      <td>1</td>\n",
       "      <td>M</td>\n",
       "      <td>компаньон</td>\n",
       "      <td>0</td>\n",
       "      <td>255763.565419</td>\n",
       "      <td>покупка жилья</td>\n",
       "    </tr>\n",
       "    <tr>\n",
       "      <td>6</td>\n",
       "      <td>0</td>\n",
       "      <td>-2879.202052</td>\n",
       "      <td>43</td>\n",
       "      <td>высшее</td>\n",
       "      <td>0</td>\n",
       "      <td>женат / замужем</td>\n",
       "      <td>0</td>\n",
       "      <td>F</td>\n",
       "      <td>компаньон</td>\n",
       "      <td>0</td>\n",
       "      <td>240525.971920</td>\n",
       "      <td>операции с жильем</td>\n",
       "    </tr>\n",
       "    <tr>\n",
       "      <td>7</td>\n",
       "      <td>0</td>\n",
       "      <td>-152.779569</td>\n",
       "      <td>50</td>\n",
       "      <td>СРЕДНЕЕ</td>\n",
       "      <td>1</td>\n",
       "      <td>женат / замужем</td>\n",
       "      <td>0</td>\n",
       "      <td>M</td>\n",
       "      <td>сотрудник</td>\n",
       "      <td>0</td>\n",
       "      <td>135823.934197</td>\n",
       "      <td>образование</td>\n",
       "    </tr>\n",
       "    <tr>\n",
       "      <td>8</td>\n",
       "      <td>2</td>\n",
       "      <td>-6929.865299</td>\n",
       "      <td>35</td>\n",
       "      <td>ВЫСШЕЕ</td>\n",
       "      <td>0</td>\n",
       "      <td>гражданский брак</td>\n",
       "      <td>1</td>\n",
       "      <td>F</td>\n",
       "      <td>сотрудник</td>\n",
       "      <td>0</td>\n",
       "      <td>95856.832424</td>\n",
       "      <td>на проведение свадьбы</td>\n",
       "    </tr>\n",
       "    <tr>\n",
       "      <td>9</td>\n",
       "      <td>0</td>\n",
       "      <td>-2188.756445</td>\n",
       "      <td>41</td>\n",
       "      <td>среднее</td>\n",
       "      <td>1</td>\n",
       "      <td>женат / замужем</td>\n",
       "      <td>0</td>\n",
       "      <td>M</td>\n",
       "      <td>сотрудник</td>\n",
       "      <td>0</td>\n",
       "      <td>144425.938277</td>\n",
       "      <td>покупка жилья для семьи</td>\n",
       "    </tr>\n",
       "  </tbody>\n",
       "</table>\n",
       "</div>"
      ],
      "text/plain": [
       "   children  days_employed  dob_years education  education_id  \\\n",
       "0         1   -8437.673028         42    высшее             0   \n",
       "1         1   -4024.803754         36   среднее             1   \n",
       "2         0   -5623.422610         33   Среднее             1   \n",
       "3         3   -4124.747207         32   среднее             1   \n",
       "4         0  340266.072047         53   среднее             1   \n",
       "5         0    -926.185831         27    высшее             0   \n",
       "6         0   -2879.202052         43    высшее             0   \n",
       "7         0    -152.779569         50   СРЕДНЕЕ             1   \n",
       "8         2   -6929.865299         35    ВЫСШЕЕ             0   \n",
       "9         0   -2188.756445         41   среднее             1   \n",
       "\n",
       "      family_status  family_status_id gender income_type  debt   total_income  \\\n",
       "0   женат / замужем                 0      F   сотрудник     0  253875.639453   \n",
       "1   женат / замужем                 0      F   сотрудник     0  112080.014102   \n",
       "2   женат / замужем                 0      M   сотрудник     0  145885.952297   \n",
       "3   женат / замужем                 0      M   сотрудник     0  267628.550329   \n",
       "4  гражданский брак                 1      F   пенсионер     0  158616.077870   \n",
       "5  гражданский брак                 1      M   компаньон     0  255763.565419   \n",
       "6   женат / замужем                 0      F   компаньон     0  240525.971920   \n",
       "7   женат / замужем                 0      M   сотрудник     0  135823.934197   \n",
       "8  гражданский брак                 1      F   сотрудник     0   95856.832424   \n",
       "9   женат / замужем                 0      M   сотрудник     0  144425.938277   \n",
       "\n",
       "                      purpose  \n",
       "0               покупка жилья  \n",
       "1     приобретение автомобиля  \n",
       "2               покупка жилья  \n",
       "3  дополнительное образование  \n",
       "4             сыграть свадьбу  \n",
       "5               покупка жилья  \n",
       "6           операции с жильем  \n",
       "7                 образование  \n",
       "8       на проведение свадьбы  \n",
       "9     покупка жилья для семьи  "
      ]
     },
     "execution_count": 3,
     "metadata": {},
     "output_type": "execute_result"
    }
   ],
   "source": [
    "# получение первых 10 строк датасета\n",
    "data.head(10)"
   ]
  },
  {
   "cell_type": "markdown",
   "metadata": {},
   "source": [
    "Выведем общую информацию о датасете"
   ]
  },
  {
   "cell_type": "code",
   "execution_count": 4,
   "metadata": {},
   "outputs": [
    {
     "name": "stdout",
     "output_type": "stream",
     "text": [
      "<class 'pandas.core.frame.DataFrame'>\n",
      "RangeIndex: 21525 entries, 0 to 21524\n",
      "Data columns (total 12 columns):\n",
      "children            21525 non-null int64\n",
      "days_employed       19351 non-null float64\n",
      "dob_years           21525 non-null int64\n",
      "education           21525 non-null object\n",
      "education_id        21525 non-null int64\n",
      "family_status       21525 non-null object\n",
      "family_status_id    21525 non-null int64\n",
      "gender              21525 non-null object\n",
      "income_type         21525 non-null object\n",
      "debt                21525 non-null int64\n",
      "total_income        19351 non-null float64\n",
      "purpose             21525 non-null object\n",
      "dtypes: float64(2), int64(5), object(5)\n",
      "memory usage: 2.0+ MB\n"
     ]
    }
   ],
   "source": [
    "# получение общей информации о данных датасета\n",
    "data.info()"
   ]
  },
  {
   "cell_type": "markdown",
   "metadata": {},
   "source": [
    "Выведем описательную статистику"
   ]
  },
  {
   "cell_type": "code",
   "execution_count": 5,
   "metadata": {},
   "outputs": [
    {
     "data": {
      "text/html": [
       "<div>\n",
       "<style scoped>\n",
       "    .dataframe tbody tr th:only-of-type {\n",
       "        vertical-align: middle;\n",
       "    }\n",
       "\n",
       "    .dataframe tbody tr th {\n",
       "        vertical-align: top;\n",
       "    }\n",
       "\n",
       "    .dataframe thead th {\n",
       "        text-align: right;\n",
       "    }\n",
       "</style>\n",
       "<table border=\"1\" class=\"dataframe\">\n",
       "  <thead>\n",
       "    <tr style=\"text-align: right;\">\n",
       "      <th></th>\n",
       "      <th>children</th>\n",
       "      <th>days_employed</th>\n",
       "      <th>dob_years</th>\n",
       "      <th>education_id</th>\n",
       "      <th>family_status_id</th>\n",
       "      <th>debt</th>\n",
       "      <th>total_income</th>\n",
       "    </tr>\n",
       "  </thead>\n",
       "  <tbody>\n",
       "    <tr>\n",
       "      <td>count</td>\n",
       "      <td>21525.000000</td>\n",
       "      <td>19351.000000</td>\n",
       "      <td>21525.000000</td>\n",
       "      <td>21525.000000</td>\n",
       "      <td>21525.000000</td>\n",
       "      <td>21525.000000</td>\n",
       "      <td>1.935100e+04</td>\n",
       "    </tr>\n",
       "    <tr>\n",
       "      <td>mean</td>\n",
       "      <td>0.538908</td>\n",
       "      <td>63046.497661</td>\n",
       "      <td>43.293380</td>\n",
       "      <td>0.817236</td>\n",
       "      <td>0.972544</td>\n",
       "      <td>0.080883</td>\n",
       "      <td>1.674223e+05</td>\n",
       "    </tr>\n",
       "    <tr>\n",
       "      <td>std</td>\n",
       "      <td>1.381587</td>\n",
       "      <td>140827.311974</td>\n",
       "      <td>12.574584</td>\n",
       "      <td>0.548138</td>\n",
       "      <td>1.420324</td>\n",
       "      <td>0.272661</td>\n",
       "      <td>1.029716e+05</td>\n",
       "    </tr>\n",
       "    <tr>\n",
       "      <td>min</td>\n",
       "      <td>-1.000000</td>\n",
       "      <td>-18388.949901</td>\n",
       "      <td>0.000000</td>\n",
       "      <td>0.000000</td>\n",
       "      <td>0.000000</td>\n",
       "      <td>0.000000</td>\n",
       "      <td>2.066726e+04</td>\n",
       "    </tr>\n",
       "    <tr>\n",
       "      <td>25%</td>\n",
       "      <td>0.000000</td>\n",
       "      <td>-2747.423625</td>\n",
       "      <td>33.000000</td>\n",
       "      <td>1.000000</td>\n",
       "      <td>0.000000</td>\n",
       "      <td>0.000000</td>\n",
       "      <td>1.030532e+05</td>\n",
       "    </tr>\n",
       "    <tr>\n",
       "      <td>50%</td>\n",
       "      <td>0.000000</td>\n",
       "      <td>-1203.369529</td>\n",
       "      <td>42.000000</td>\n",
       "      <td>1.000000</td>\n",
       "      <td>0.000000</td>\n",
       "      <td>0.000000</td>\n",
       "      <td>1.450179e+05</td>\n",
       "    </tr>\n",
       "    <tr>\n",
       "      <td>75%</td>\n",
       "      <td>1.000000</td>\n",
       "      <td>-291.095954</td>\n",
       "      <td>53.000000</td>\n",
       "      <td>1.000000</td>\n",
       "      <td>1.000000</td>\n",
       "      <td>0.000000</td>\n",
       "      <td>2.034351e+05</td>\n",
       "    </tr>\n",
       "    <tr>\n",
       "      <td>max</td>\n",
       "      <td>20.000000</td>\n",
       "      <td>401755.400475</td>\n",
       "      <td>75.000000</td>\n",
       "      <td>4.000000</td>\n",
       "      <td>4.000000</td>\n",
       "      <td>1.000000</td>\n",
       "      <td>2.265604e+06</td>\n",
       "    </tr>\n",
       "  </tbody>\n",
       "</table>\n",
       "</div>"
      ],
      "text/plain": [
       "           children  days_employed     dob_years  education_id  \\\n",
       "count  21525.000000   19351.000000  21525.000000  21525.000000   \n",
       "mean       0.538908   63046.497661     43.293380      0.817236   \n",
       "std        1.381587  140827.311974     12.574584      0.548138   \n",
       "min       -1.000000  -18388.949901      0.000000      0.000000   \n",
       "25%        0.000000   -2747.423625     33.000000      1.000000   \n",
       "50%        0.000000   -1203.369529     42.000000      1.000000   \n",
       "75%        1.000000    -291.095954     53.000000      1.000000   \n",
       "max       20.000000  401755.400475     75.000000      4.000000   \n",
       "\n",
       "       family_status_id          debt  total_income  \n",
       "count      21525.000000  21525.000000  1.935100e+04  \n",
       "mean           0.972544      0.080883  1.674223e+05  \n",
       "std            1.420324      0.272661  1.029716e+05  \n",
       "min            0.000000      0.000000  2.066726e+04  \n",
       "25%            0.000000      0.000000  1.030532e+05  \n",
       "50%            0.000000      0.000000  1.450179e+05  \n",
       "75%            1.000000      0.000000  2.034351e+05  \n",
       "max            4.000000      1.000000  2.265604e+06  "
      ]
     },
     "execution_count": 5,
     "metadata": {},
     "output_type": "execute_result"
    }
   ],
   "source": [
    "# получение описательной статистики данных датасета\n",
    "data.describe()"
   ]
  },
  {
   "cell_type": "markdown",
   "metadata": {},
   "source": [
    "Итак, в таблице 12 столбцов и 21525 строк. В столбцах содержатся различные типы данных — `float`, `int` и `object`.\n",
    "\n",
    "Описание данных:\n",
    "* `children` — количество детей в семье (тип данных `int`, заполнены все строки);\n",
    "* `days_employed` — трудовой стаж в днях (тип данных `float`, в некоторых строках данные отсутствуют);\n",
    "* `dob_years` — возраст клиента в годах (тип данных `int`, заполнены все строки);\n",
    "* `education` — образование клиента (тип данных `object`, заполнены все строки);\n",
    "* `education_id` — идентификатор образования (тип данных `int`, заполнены все строки);\n",
    "* `family_status` — семейное положение (тип данных `object`, заполнены все строки);\n",
    "* `family_status_id` — идентификатор семейного положения (тип данных `int`, заполнены все строки);\n",
    "* `gender` — пол клиента (тип данных `object`, заполнены все строки);\n",
    "* `income_type` — тип занятости (тип данных `object`, заполнены все строки);\n",
    "* `debt` — имел ли задолженность по возврату кредитов: 1 - имел, 0 - нет (тип данных `int`, заполнены все строки);\n",
    "* `total_income` — доход в месяц (тип данных `float`, в некоторых строках данные отсутствуют);\n",
    "* `purpose` — цель получения кредита (тип данных `object`, заполнены все строки)."
   ]
  },
  {
   "cell_type": "markdown",
   "metadata": {},
   "source": [
    "**Вывод**\n",
    "\n",
    "Каждая строка таблицы содержит данные о клиенте и цели кредита. Большая часть столбцов рассказывает о клиенте: количество детей, трудовой стаж, возраст, образование, семейное положение, пол, тип занятости, информация о задолженностях и доход. Последний столбец описывает цель кредита. \n",
    "\n",
    "Предварительно можно утверждать, что, данных достаточно для проверки гипотез, названия колонок заданы согласно хорошему стилю и не требуют изменений. Но встречаются пропуски в данных столбцов `days_employed` и `total_income`.\n",
    "\n",
    "В столбце `children` присутствуют отлицательные значения, а также значение 20, которое лучше проверить.\n",
    "\n",
    "Столбец `days_employed` представлен в днях, но имеет тип float, а также имеет отрицательные значения и значения, которые превышают разумно возможные значения стажа. После перевода стажа из дней в года данные будут нагляднее.\n",
    "\n",
    "Минимальное значение в столбце `dob_years` - 0, что является аномальным значением.\n",
    "\n",
    "Столбец `education` содержит записи разного регистра.\n",
    "\n",
    "Столбец `total_income` имеет тип данных float. Несмотря на отсутствие единицы измерения, считаю что перевод его в тип int не повлияет на результаты анализа.\n",
    "\n",
    "Столбец `purpose` имеет одни и те же цели, обозначенные разными словами.\n",
    "\n",
    "В датасете присутствует избыточность данных. Для проверки гипотез нас интересуют столбцы `children`, `family_status`, `debt`, `total_income` и `purpose`. Остальные столбцы можно исключить из рассмотрения.\n",
    "\n",
    "Необходимо устранить следующие проблемы в данных:\n",
    "1. Обработать пропуски в столбцах `days_employed` и `total_income`.\n",
    "2. Перевести данные о стаже из дней в года в столбце `days_employed`, перемеиновать его в `years_employed` и заменить вещественный тип данных на целочисленный в столбцах `years_employed` и `total_income`.\n",
    "3. Устранить аномалии в данных.\n",
    "4. Найти и устранить дубликаты.\n",
    "\n",
    "Для проверки гипотез можно ограничиться таблицей с необходимыми данными, которые содержат столбцы `children`, `family_status`, `debt`, `total_income` и `purpose`."
   ]
  },
  {
   "cell_type": "markdown",
   "metadata": {},
   "source": [
    "*P.S. Для проверки гипотез можно сразу исключить избыточные данные и работать только с необходимыми, но в целях обучения проведем предобработку всех данных.*"
   ]
  },
  {
   "cell_type": "markdown",
   "metadata": {},
   "source": [
    "## Шаг 2. Предобработка данных"
   ]
  },
  {
   "cell_type": "markdown",
   "metadata": {},
   "source": [
    "### Обработка пропусков"
   ]
  },
  {
   "cell_type": "markdown",
   "metadata": {},
   "source": [
    "Пропуски присутствуют в двух столбцах `days_employed` и `total_income`. Посчитаем суммарное количество пропусков."
   ]
  },
  {
   "cell_type": "code",
   "execution_count": 6,
   "metadata": {},
   "outputs": [
    {
     "data": {
      "text/plain": [
       "children               0\n",
       "days_employed       2174\n",
       "dob_years              0\n",
       "education              0\n",
       "education_id           0\n",
       "family_status          0\n",
       "family_status_id       0\n",
       "gender                 0\n",
       "income_type            0\n",
       "debt                   0\n",
       "total_income        2174\n",
       "purpose                0\n",
       "dtype: int64"
      ]
     },
     "execution_count": 6,
     "metadata": {},
     "output_type": "execute_result"
    }
   ],
   "source": [
    "# подсчёт пропусков\n",
    "data.isna().sum()"
   ]
  },
  {
   "cell_type": "markdown",
   "metadata": {},
   "source": [
    "Столбцы с данными о стаже и доходах содержат равное количество пропусков, которое составляет примерно 10% всего датасета. Вероятно это информация о клиентах, которые не работали официально и не имели официального дохода. Пропуски в данных о стаже в данном исследовании не важны, а пропуски в доходах могут оказать значительное влияние.\n",
    "Удалим строки с пропусками, т.к. присваивание любых значений окажет непредсказуемое влияние на результат."
   ]
  },
  {
   "cell_type": "code",
   "execution_count": 7,
   "metadata": {},
   "outputs": [],
   "source": [
    "# удаление строк с пропусками в доходе\n",
    "data = data.dropna(subset=['total_income'])"
   ]
  },
  {
   "cell_type": "markdown",
   "metadata": {},
   "source": [
    "Убедимся, что в датасете не осталось пропусков. Для этого ещё раз посчитаем пропущенные значения."
   ]
  },
  {
   "cell_type": "code",
   "execution_count": 8,
   "metadata": {},
   "outputs": [
    {
     "data": {
      "text/plain": [
       "children            0\n",
       "days_employed       0\n",
       "dob_years           0\n",
       "education           0\n",
       "education_id        0\n",
       "family_status       0\n",
       "family_status_id    0\n",
       "gender              0\n",
       "income_type         0\n",
       "debt                0\n",
       "total_income        0\n",
       "purpose             0\n",
       "dtype: int64"
      ]
     },
     "execution_count": 8,
     "metadata": {},
     "output_type": "execute_result"
    }
   ],
   "source": [
    "# подсчёт пропусков\n",
    "data.isna().sum()"
   ]
  },
  {
   "cell_type": "markdown",
   "metadata": {},
   "source": [
    "Получим описательную статистику и оценим изменения данных после удаления строк."
   ]
  },
  {
   "cell_type": "code",
   "execution_count": 9,
   "metadata": {
    "scrolled": true
   },
   "outputs": [
    {
     "data": {
      "text/html": [
       "<div>\n",
       "<style scoped>\n",
       "    .dataframe tbody tr th:only-of-type {\n",
       "        vertical-align: middle;\n",
       "    }\n",
       "\n",
       "    .dataframe tbody tr th {\n",
       "        vertical-align: top;\n",
       "    }\n",
       "\n",
       "    .dataframe thead th {\n",
       "        text-align: right;\n",
       "    }\n",
       "</style>\n",
       "<table border=\"1\" class=\"dataframe\">\n",
       "  <thead>\n",
       "    <tr style=\"text-align: right;\">\n",
       "      <th></th>\n",
       "      <th>children</th>\n",
       "      <th>days_employed</th>\n",
       "      <th>dob_years</th>\n",
       "      <th>education_id</th>\n",
       "      <th>family_status_id</th>\n",
       "      <th>debt</th>\n",
       "      <th>total_income</th>\n",
       "    </tr>\n",
       "  </thead>\n",
       "  <tbody>\n",
       "    <tr>\n",
       "      <td>count</td>\n",
       "      <td>19351.000000</td>\n",
       "      <td>19351.000000</td>\n",
       "      <td>19351.000000</td>\n",
       "      <td>19351.000000</td>\n",
       "      <td>19351.000000</td>\n",
       "      <td>19351.000000</td>\n",
       "      <td>1.935100e+04</td>\n",
       "    </tr>\n",
       "    <tr>\n",
       "      <td>mean</td>\n",
       "      <td>0.537388</td>\n",
       "      <td>63046.497661</td>\n",
       "      <td>43.255336</td>\n",
       "      <td>0.819079</td>\n",
       "      <td>0.972249</td>\n",
       "      <td>0.081184</td>\n",
       "      <td>1.674223e+05</td>\n",
       "    </tr>\n",
       "    <tr>\n",
       "      <td>std</td>\n",
       "      <td>1.371408</td>\n",
       "      <td>140827.311974</td>\n",
       "      <td>12.579170</td>\n",
       "      <td>0.550104</td>\n",
       "      <td>1.420596</td>\n",
       "      <td>0.273125</td>\n",
       "      <td>1.029716e+05</td>\n",
       "    </tr>\n",
       "    <tr>\n",
       "      <td>min</td>\n",
       "      <td>-1.000000</td>\n",
       "      <td>-18388.949901</td>\n",
       "      <td>0.000000</td>\n",
       "      <td>0.000000</td>\n",
       "      <td>0.000000</td>\n",
       "      <td>0.000000</td>\n",
       "      <td>2.066726e+04</td>\n",
       "    </tr>\n",
       "    <tr>\n",
       "      <td>25%</td>\n",
       "      <td>0.000000</td>\n",
       "      <td>-2747.423625</td>\n",
       "      <td>33.000000</td>\n",
       "      <td>1.000000</td>\n",
       "      <td>0.000000</td>\n",
       "      <td>0.000000</td>\n",
       "      <td>1.030532e+05</td>\n",
       "    </tr>\n",
       "    <tr>\n",
       "      <td>50%</td>\n",
       "      <td>0.000000</td>\n",
       "      <td>-1203.369529</td>\n",
       "      <td>42.000000</td>\n",
       "      <td>1.000000</td>\n",
       "      <td>0.000000</td>\n",
       "      <td>0.000000</td>\n",
       "      <td>1.450179e+05</td>\n",
       "    </tr>\n",
       "    <tr>\n",
       "      <td>75%</td>\n",
       "      <td>1.000000</td>\n",
       "      <td>-291.095954</td>\n",
       "      <td>53.000000</td>\n",
       "      <td>1.000000</td>\n",
       "      <td>1.000000</td>\n",
       "      <td>0.000000</td>\n",
       "      <td>2.034351e+05</td>\n",
       "    </tr>\n",
       "    <tr>\n",
       "      <td>max</td>\n",
       "      <td>20.000000</td>\n",
       "      <td>401755.400475</td>\n",
       "      <td>75.000000</td>\n",
       "      <td>4.000000</td>\n",
       "      <td>4.000000</td>\n",
       "      <td>1.000000</td>\n",
       "      <td>2.265604e+06</td>\n",
       "    </tr>\n",
       "  </tbody>\n",
       "</table>\n",
       "</div>"
      ],
      "text/plain": [
       "           children  days_employed     dob_years  education_id  \\\n",
       "count  19351.000000   19351.000000  19351.000000  19351.000000   \n",
       "mean       0.537388   63046.497661     43.255336      0.819079   \n",
       "std        1.371408  140827.311974     12.579170      0.550104   \n",
       "min       -1.000000  -18388.949901      0.000000      0.000000   \n",
       "25%        0.000000   -2747.423625     33.000000      1.000000   \n",
       "50%        0.000000   -1203.369529     42.000000      1.000000   \n",
       "75%        1.000000    -291.095954     53.000000      1.000000   \n",
       "max       20.000000  401755.400475     75.000000      4.000000   \n",
       "\n",
       "       family_status_id          debt  total_income  \n",
       "count      19351.000000  19351.000000  1.935100e+04  \n",
       "mean           0.972249      0.081184  1.674223e+05  \n",
       "std            1.420596      0.273125  1.029716e+05  \n",
       "min            0.000000      0.000000  2.066726e+04  \n",
       "25%            0.000000      0.000000  1.030532e+05  \n",
       "50%            0.000000      0.000000  1.450179e+05  \n",
       "75%            1.000000      0.000000  2.034351e+05  \n",
       "max            4.000000      1.000000  2.265604e+06  "
      ]
     },
     "execution_count": 9,
     "metadata": {},
     "output_type": "execute_result"
    }
   ],
   "source": [
    "# получение описательной статистики данных датасета\n",
    "data.describe()"
   ]
  },
  {
   "cell_type": "markdown",
   "metadata": {},
   "source": [
    "**Вывод**\n",
    "\n",
    "Были удалены строки с пропусками, их количество составило примерно 10% от всего датасета. Изучив средние значения в столбцах, можно прийти к выводу, что значения изменились менее чем на 1%, что нас полностью устраивает."
   ]
  },
  {
   "cell_type": "markdown",
   "metadata": {},
   "source": [
    "### Замена типа данных"
   ]
  },
  {
   "cell_type": "markdown",
   "metadata": {},
   "source": [
    "Переведем данные о стаже из дней в года в столбце `days_employed` и переменуем его в `years_employed`."
   ]
  },
  {
   "cell_type": "code",
   "execution_count": 10,
   "metadata": {},
   "outputs": [],
   "source": [
    "# перевод стажа в года и переименование\n",
    "data['years_employed'] = data['days_employed'] / 365"
   ]
  },
  {
   "cell_type": "markdown",
   "metadata": {},
   "source": [
    "Заменим тип данных с вещественного на целочисленный и избавимся от лишнего столбца с данными о стаже в днях."
   ]
  },
  {
   "cell_type": "code",
   "execution_count": 11,
   "metadata": {},
   "outputs": [],
   "source": [
    "# замена типа данных\n",
    "data['years_employed'] = data['years_employed'].astype('int')\n",
    "data['total_income'] = data['total_income'].astype('int')\n",
    "\n",
    "# удаление столбца\n",
    "del data['days_employed']\n",
    "\n",
    "# избавление от отрицательных значений\n",
    "data['years_employed'] = data['years_employed'].abs()"
   ]
  },
  {
   "cell_type": "code",
   "execution_count": 12,
   "metadata": {},
   "outputs": [
    {
     "data": {
      "text/html": [
       "<div>\n",
       "<style scoped>\n",
       "    .dataframe tbody tr th:only-of-type {\n",
       "        vertical-align: middle;\n",
       "    }\n",
       "\n",
       "    .dataframe tbody tr th {\n",
       "        vertical-align: top;\n",
       "    }\n",
       "\n",
       "    .dataframe thead th {\n",
       "        text-align: right;\n",
       "    }\n",
       "</style>\n",
       "<table border=\"1\" class=\"dataframe\">\n",
       "  <thead>\n",
       "    <tr style=\"text-align: right;\">\n",
       "      <th></th>\n",
       "      <th>children</th>\n",
       "      <th>dob_years</th>\n",
       "      <th>education</th>\n",
       "      <th>education_id</th>\n",
       "      <th>family_status</th>\n",
       "      <th>family_status_id</th>\n",
       "      <th>gender</th>\n",
       "      <th>income_type</th>\n",
       "      <th>debt</th>\n",
       "      <th>total_income</th>\n",
       "      <th>purpose</th>\n",
       "      <th>years_employed</th>\n",
       "    </tr>\n",
       "  </thead>\n",
       "  <tbody>\n",
       "    <tr>\n",
       "      <td>0</td>\n",
       "      <td>1</td>\n",
       "      <td>42</td>\n",
       "      <td>высшее</td>\n",
       "      <td>0</td>\n",
       "      <td>женат / замужем</td>\n",
       "      <td>0</td>\n",
       "      <td>F</td>\n",
       "      <td>сотрудник</td>\n",
       "      <td>0</td>\n",
       "      <td>253875</td>\n",
       "      <td>покупка жилья</td>\n",
       "      <td>23</td>\n",
       "    </tr>\n",
       "    <tr>\n",
       "      <td>1</td>\n",
       "      <td>1</td>\n",
       "      <td>36</td>\n",
       "      <td>среднее</td>\n",
       "      <td>1</td>\n",
       "      <td>женат / замужем</td>\n",
       "      <td>0</td>\n",
       "      <td>F</td>\n",
       "      <td>сотрудник</td>\n",
       "      <td>0</td>\n",
       "      <td>112080</td>\n",
       "      <td>приобретение автомобиля</td>\n",
       "      <td>11</td>\n",
       "    </tr>\n",
       "    <tr>\n",
       "      <td>2</td>\n",
       "      <td>0</td>\n",
       "      <td>33</td>\n",
       "      <td>Среднее</td>\n",
       "      <td>1</td>\n",
       "      <td>женат / замужем</td>\n",
       "      <td>0</td>\n",
       "      <td>M</td>\n",
       "      <td>сотрудник</td>\n",
       "      <td>0</td>\n",
       "      <td>145885</td>\n",
       "      <td>покупка жилья</td>\n",
       "      <td>15</td>\n",
       "    </tr>\n",
       "    <tr>\n",
       "      <td>3</td>\n",
       "      <td>3</td>\n",
       "      <td>32</td>\n",
       "      <td>среднее</td>\n",
       "      <td>1</td>\n",
       "      <td>женат / замужем</td>\n",
       "      <td>0</td>\n",
       "      <td>M</td>\n",
       "      <td>сотрудник</td>\n",
       "      <td>0</td>\n",
       "      <td>267628</td>\n",
       "      <td>дополнительное образование</td>\n",
       "      <td>11</td>\n",
       "    </tr>\n",
       "    <tr>\n",
       "      <td>4</td>\n",
       "      <td>0</td>\n",
       "      <td>53</td>\n",
       "      <td>среднее</td>\n",
       "      <td>1</td>\n",
       "      <td>гражданский брак</td>\n",
       "      <td>1</td>\n",
       "      <td>F</td>\n",
       "      <td>пенсионер</td>\n",
       "      <td>0</td>\n",
       "      <td>158616</td>\n",
       "      <td>сыграть свадьбу</td>\n",
       "      <td>932</td>\n",
       "    </tr>\n",
       "    <tr>\n",
       "      <td>5</td>\n",
       "      <td>0</td>\n",
       "      <td>27</td>\n",
       "      <td>высшее</td>\n",
       "      <td>0</td>\n",
       "      <td>гражданский брак</td>\n",
       "      <td>1</td>\n",
       "      <td>M</td>\n",
       "      <td>компаньон</td>\n",
       "      <td>0</td>\n",
       "      <td>255763</td>\n",
       "      <td>покупка жилья</td>\n",
       "      <td>2</td>\n",
       "    </tr>\n",
       "    <tr>\n",
       "      <td>6</td>\n",
       "      <td>0</td>\n",
       "      <td>43</td>\n",
       "      <td>высшее</td>\n",
       "      <td>0</td>\n",
       "      <td>женат / замужем</td>\n",
       "      <td>0</td>\n",
       "      <td>F</td>\n",
       "      <td>компаньон</td>\n",
       "      <td>0</td>\n",
       "      <td>240525</td>\n",
       "      <td>операции с жильем</td>\n",
       "      <td>7</td>\n",
       "    </tr>\n",
       "    <tr>\n",
       "      <td>7</td>\n",
       "      <td>0</td>\n",
       "      <td>50</td>\n",
       "      <td>СРЕДНЕЕ</td>\n",
       "      <td>1</td>\n",
       "      <td>женат / замужем</td>\n",
       "      <td>0</td>\n",
       "      <td>M</td>\n",
       "      <td>сотрудник</td>\n",
       "      <td>0</td>\n",
       "      <td>135823</td>\n",
       "      <td>образование</td>\n",
       "      <td>0</td>\n",
       "    </tr>\n",
       "    <tr>\n",
       "      <td>8</td>\n",
       "      <td>2</td>\n",
       "      <td>35</td>\n",
       "      <td>ВЫСШЕЕ</td>\n",
       "      <td>0</td>\n",
       "      <td>гражданский брак</td>\n",
       "      <td>1</td>\n",
       "      <td>F</td>\n",
       "      <td>сотрудник</td>\n",
       "      <td>0</td>\n",
       "      <td>95856</td>\n",
       "      <td>на проведение свадьбы</td>\n",
       "      <td>18</td>\n",
       "    </tr>\n",
       "    <tr>\n",
       "      <td>9</td>\n",
       "      <td>0</td>\n",
       "      <td>41</td>\n",
       "      <td>среднее</td>\n",
       "      <td>1</td>\n",
       "      <td>женат / замужем</td>\n",
       "      <td>0</td>\n",
       "      <td>M</td>\n",
       "      <td>сотрудник</td>\n",
       "      <td>0</td>\n",
       "      <td>144425</td>\n",
       "      <td>покупка жилья для семьи</td>\n",
       "      <td>5</td>\n",
       "    </tr>\n",
       "  </tbody>\n",
       "</table>\n",
       "</div>"
      ],
      "text/plain": [
       "   children  dob_years education  education_id     family_status  \\\n",
       "0         1         42    высшее             0   женат / замужем   \n",
       "1         1         36   среднее             1   женат / замужем   \n",
       "2         0         33   Среднее             1   женат / замужем   \n",
       "3         3         32   среднее             1   женат / замужем   \n",
       "4         0         53   среднее             1  гражданский брак   \n",
       "5         0         27    высшее             0  гражданский брак   \n",
       "6         0         43    высшее             0   женат / замужем   \n",
       "7         0         50   СРЕДНЕЕ             1   женат / замужем   \n",
       "8         2         35    ВЫСШЕЕ             0  гражданский брак   \n",
       "9         0         41   среднее             1   женат / замужем   \n",
       "\n",
       "   family_status_id gender income_type  debt  total_income  \\\n",
       "0                 0      F   сотрудник     0        253875   \n",
       "1                 0      F   сотрудник     0        112080   \n",
       "2                 0      M   сотрудник     0        145885   \n",
       "3                 0      M   сотрудник     0        267628   \n",
       "4                 1      F   пенсионер     0        158616   \n",
       "5                 1      M   компаньон     0        255763   \n",
       "6                 0      F   компаньон     0        240525   \n",
       "7                 0      M   сотрудник     0        135823   \n",
       "8                 1      F   сотрудник     0         95856   \n",
       "9                 0      M   сотрудник     0        144425   \n",
       "\n",
       "                      purpose  years_employed  \n",
       "0               покупка жилья              23  \n",
       "1     приобретение автомобиля              11  \n",
       "2               покупка жилья              15  \n",
       "3  дополнительное образование              11  \n",
       "4             сыграть свадьбу             932  \n",
       "5               покупка жилья               2  \n",
       "6           операции с жильем               7  \n",
       "7                 образование               0  \n",
       "8       на проведение свадьбы              18  \n",
       "9     покупка жилья для семьи               5  "
      ]
     },
     "execution_count": 12,
     "metadata": {},
     "output_type": "execute_result"
    }
   ],
   "source": [
    "# получение первых 10 строк датасета\n",
    "data.head(10)"
   ]
  },
  {
   "cell_type": "markdown",
   "metadata": {},
   "source": [
    "Столбец со стажем явно имеет аномальные значения, но для проверки гипотез он не используется, так что оставим все как есть."
   ]
  },
  {
   "cell_type": "markdown",
   "metadata": {},
   "source": [
    "**Вывод**\n",
    "\n",
    "В столбцах со стажем и доходом был изменен тип данных с вещественного на целочисленный. Для этого был использован метод `astype()`, так как он переводит данные в нужный нам целочисленный тип. Осталось много аномалий, с которыми надо разобраться."
   ]
  },
  {
   "cell_type": "markdown",
   "metadata": {},
   "source": [
    "### Устранение аномалий в данных"
   ]
  },
  {
   "cell_type": "markdown",
   "metadata": {},
   "source": [
    "Избавимся от них сначала в столбце `children`. Для этого изучим уникальные значения."
   ]
  },
  {
   "cell_type": "code",
   "execution_count": 13,
   "metadata": {},
   "outputs": [
    {
     "data": {
      "text/plain": [
       "array([ 1,  0,  3,  2, -1,  4, 20,  5])"
      ]
     },
     "execution_count": 13,
     "metadata": {},
     "output_type": "execute_result"
    }
   ],
   "source": [
    "# получение уникальных значений \n",
    "data['children'].unique()"
   ]
  },
  {
   "cell_type": "markdown",
   "metadata": {},
   "source": [
    "Значение -1 явно ошибочно, а наличие 20 детей хотя и маловероятно, но все же возможно. Проверим количество уникальных значений, чтобы сделать вывод о 20 детях."
   ]
  },
  {
   "cell_type": "code",
   "execution_count": 14,
   "metadata": {},
   "outputs": [
    {
     "data": {
      "text/plain": [
       " 0     12710\n",
       " 1      4343\n",
       " 2      1851\n",
       " 3       294\n",
       " 20       67\n",
       "-1        44\n",
       " 4        34\n",
       " 5         8\n",
       "Name: children, dtype: int64"
      ]
     },
     "execution_count": 14,
     "metadata": {},
     "output_type": "execute_result"
    }
   ],
   "source": [
    "# получение уникальных значений и их количества\n",
    "data['children'].value_counts()"
   ]
  },
  {
   "cell_type": "markdown",
   "metadata": {},
   "source": [
    "Наличие 67 клиентов с 20 детьми маловероятно, скорее всего это случайная ошибка заполнения данных. Заменим 20 на 2.\n",
    "\n",
    "Аналогично -1 - случайная ошибка при написании 1."
   ]
  },
  {
   "cell_type": "code",
   "execution_count": 15,
   "metadata": {},
   "outputs": [],
   "source": [
    "# замена значения\n",
    "data['children'] = data['children'].replace(20, 2)\n",
    "data['children'] = data['children'].replace(-1, 1)"
   ]
  },
  {
   "cell_type": "markdown",
   "metadata": {},
   "source": [
    "Проверим уникальные значения."
   ]
  },
  {
   "cell_type": "code",
   "execution_count": 16,
   "metadata": {},
   "outputs": [
    {
     "data": {
      "text/plain": [
       "array([1, 0, 3, 2, 4, 5])"
      ]
     },
     "execution_count": 16,
     "metadata": {},
     "output_type": "execute_result"
    }
   ],
   "source": [
    "# проверка уникальных значений\n",
    "data['children'].unique()"
   ]
  },
  {
   "cell_type": "markdown",
   "metadata": {},
   "source": [
    "С детьми разобрались, проверим другие столбцы."
   ]
  },
  {
   "cell_type": "code",
   "execution_count": 17,
   "metadata": {
    "scrolled": false
   },
   "outputs": [
    {
     "data": {
      "text/plain": [
       "35    553\n",
       "41    548\n",
       "38    544\n",
       "40    543\n",
       "34    534\n",
       "42    532\n",
       "33    530\n",
       "39    522\n",
       "44    503\n",
       "31    495\n",
       "29    495\n",
       "48    492\n",
       "36    492\n",
       "37    484\n",
       "30    482\n",
       "32    473\n",
       "43    463\n",
       "50    463\n",
       "49    458\n",
       "27    457\n",
       "45    447\n",
       "28    446\n",
       "56    433\n",
       "52    431\n",
       "46    427\n",
       "54    424\n",
       "47    421\n",
       "53    415\n",
       "59    410\n",
       "58    405\n",
       "57    404\n",
       "51    398\n",
       "55    395\n",
       "26    373\n",
       "60    338\n",
       "25    334\n",
       "61    317\n",
       "62    314\n",
       "24    243\n",
       "63    240\n",
       "64    228\n",
       "23    218\n",
       "65    174\n",
       "22    166\n",
       "66    163\n",
       "67    151\n",
       "21     93\n",
       "0      91\n",
       "68     90\n",
       "69     80\n",
       "70     62\n",
       "71     53\n",
       "20     46\n",
       "72     31\n",
       "19     13\n",
       "73      7\n",
       "74      6\n",
       "75      1\n",
       "Name: dob_years, dtype: int64"
      ]
     },
     "execution_count": 17,
     "metadata": {},
     "output_type": "execute_result"
    }
   ],
   "source": [
    "# получение уникальных значений и их количества\n",
    "data['dob_years'].value_counts()"
   ]
  },
  {
   "cell_type": "markdown",
   "metadata": {},
   "source": [
    "Вызывает удивление наличие 91 клиента в возрасте 0. К счастью эти данные не участвуют в проверке гипотез, поэтому мы можем ими пренебречь."
   ]
  },
  {
   "cell_type": "code",
   "execution_count": 18,
   "metadata": {},
   "outputs": [
    {
     "data": {
      "text/plain": [
       "среднее                12342\n",
       "высшее                  4222\n",
       "СРЕДНЕЕ                  705\n",
       "Среднее                  646\n",
       "неоконченное высшее      613\n",
       "ВЫСШЕЕ                   251\n",
       "Высшее                   243\n",
       "начальное                231\n",
       "Неоконченное высшее       40\n",
       "НЕОКОНЧЕННОЕ ВЫСШЕЕ       22\n",
       "НАЧАЛЬНОЕ                 16\n",
       "Начальное                 14\n",
       "ученая степень             4\n",
       "УЧЕНАЯ СТЕПЕНЬ             1\n",
       "Ученая степень             1\n",
       "Name: education, dtype: int64"
      ]
     },
     "execution_count": 18,
     "metadata": {},
     "output_type": "execute_result"
    }
   ],
   "source": [
    "# получение уникальных значений и их количества\n",
    "data['education'].value_counts()"
   ]
  },
  {
   "cell_type": "markdown",
   "metadata": {},
   "source": [
    "Разнообразие написание одних и тех же значений велико. Приведем все к единому стилю и проверим уникальные значения."
   ]
  },
  {
   "cell_type": "code",
   "execution_count": 19,
   "metadata": {},
   "outputs": [
    {
     "data": {
      "text/plain": [
       "array(['высшее', 'среднее', 'неоконченное высшее', 'начальное',\n",
       "       'ученая степень'], dtype=object)"
      ]
     },
     "execution_count": 19,
     "metadata": {},
     "output_type": "execute_result"
    }
   ],
   "source": [
    "# приведение к нижнему регистру\n",
    "data['education'] = data['education'].str.lower()\n",
    "\n",
    "# проверка уникальных значений\n",
    "data['education'].unique()"
   ]
  },
  {
   "cell_type": "code",
   "execution_count": 20,
   "metadata": {},
   "outputs": [
    {
     "data": {
      "text/plain": [
       "array([0, 1, 2, 3, 4])"
      ]
     },
     "execution_count": 20,
     "metadata": {},
     "output_type": "execute_result"
    }
   ],
   "source": [
    "# проверка уникальных значений\n",
    "data['education_id'].unique()"
   ]
  },
  {
   "cell_type": "markdown",
   "metadata": {},
   "source": [
    "Количество категорий в обоих столбцах совпадает."
   ]
  },
  {
   "cell_type": "code",
   "execution_count": 21,
   "metadata": {},
   "outputs": [
    {
     "data": {
      "text/plain": [
       "женат / замужем          11143\n",
       "гражданский брак          3735\n",
       "Не женат / не замужем     2525\n",
       "в разводе                 1083\n",
       "вдовец / вдова             865\n",
       "Name: family_status, dtype: int64"
      ]
     },
     "execution_count": 21,
     "metadata": {},
     "output_type": "execute_result"
    }
   ],
   "source": [
    "# получение уникальных значений и их количества\n",
    "data['family_status'].value_counts()"
   ]
  },
  {
   "cell_type": "code",
   "execution_count": 22,
   "metadata": {},
   "outputs": [
    {
     "data": {
      "text/plain": [
       "array([0, 1, 2, 3, 4])"
      ]
     },
     "execution_count": 22,
     "metadata": {},
     "output_type": "execute_result"
    }
   ],
   "source": [
    "# проверка уникальных значений\n",
    "data['family_status_id'].unique()"
   ]
  },
  {
   "cell_type": "markdown",
   "metadata": {},
   "source": [
    "Количество категорий в обоих столбцах совпадает. В этих столбцах проблем нет."
   ]
  },
  {
   "cell_type": "code",
   "execution_count": 23,
   "metadata": {},
   "outputs": [
    {
     "data": {
      "text/plain": [
       "F      12752\n",
       "M       6598\n",
       "XNA        1\n",
       "Name: gender, dtype: int64"
      ]
     },
     "execution_count": 23,
     "metadata": {},
     "output_type": "execute_result"
    }
   ],
   "source": [
    "# получение уникальных значений и их количества\n",
    "data['gender'].value_counts()"
   ]
  },
  {
   "cell_type": "markdown",
   "metadata": {},
   "source": [
    "Присутствует странное значение, но примем допущение, что банк европейский, а Европа - такая Европа =)"
   ]
  },
  {
   "cell_type": "code",
   "execution_count": 24,
   "metadata": {},
   "outputs": [
    {
     "data": {
      "text/plain": [
       "сотрудник          10014\n",
       "компаньон           4577\n",
       "пенсионер           3443\n",
       "госслужащий         1312\n",
       "безработный            2\n",
       "предприниматель        1\n",
       "в декрете              1\n",
       "студент                1\n",
       "Name: income_type, dtype: int64"
      ]
     },
     "execution_count": 24,
     "metadata": {},
     "output_type": "execute_result"
    }
   ],
   "source": [
    "# получение уникальных значений и их количества\n",
    "data['income_type'].value_counts()"
   ]
  },
  {
   "cell_type": "code",
   "execution_count": 25,
   "metadata": {},
   "outputs": [
    {
     "data": {
      "text/plain": [
       "0    17780\n",
       "1     1571\n",
       "Name: debt, dtype: int64"
      ]
     },
     "execution_count": 25,
     "metadata": {},
     "output_type": "execute_result"
    }
   ],
   "source": [
    "# получение уникальных значений и их количества\n",
    "data['debt'].value_counts()"
   ]
  },
  {
   "cell_type": "markdown",
   "metadata": {},
   "source": [
    "Со столбцом с целями разберемся чуть позже."
   ]
  },
  {
   "cell_type": "markdown",
   "metadata": {},
   "source": [
    "**Вывод**\n",
    "\n",
    "Устранены выявленные аномалии в данных, такие как выбросы, стиль написания и отрицательные значения. "
   ]
  },
  {
   "cell_type": "markdown",
   "metadata": {},
   "source": [
    "### Обработка дубликатов"
   ]
  },
  {
   "cell_type": "markdown",
   "metadata": {},
   "source": [
    "Проверим датасет на наличие явных дубликатов."
   ]
  },
  {
   "cell_type": "code",
   "execution_count": 26,
   "metadata": {},
   "outputs": [
    {
     "data": {
      "text/plain": [
       "0"
      ]
     },
     "execution_count": 26,
     "metadata": {},
     "output_type": "execute_result"
    }
   ],
   "source": [
    "# подсчёт явных дубликатов\n",
    "data.duplicated().sum()"
   ]
  },
  {
   "cell_type": "markdown",
   "metadata": {},
   "source": [
    "Поищем неявные дубликаты. Без проверки остался лишь столбец с целью кредита. Отсортируем его и выведем цели на экран."
   ]
  },
  {
   "cell_type": "code",
   "execution_count": 27,
   "metadata": {
    "scrolled": false
   },
   "outputs": [
    {
     "data": {
      "text/plain": [
       "['автомобили',\n",
       " 'автомобиль',\n",
       " 'высшее образование',\n",
       " 'дополнительное образование',\n",
       " 'жилье',\n",
       " 'заняться высшим образованием',\n",
       " 'заняться образованием',\n",
       " 'на покупку автомобиля',\n",
       " 'на покупку подержанного автомобиля',\n",
       " 'на покупку своего автомобиля',\n",
       " 'на проведение свадьбы',\n",
       " 'недвижимость',\n",
       " 'образование',\n",
       " 'операции с жильем',\n",
       " 'операции с коммерческой недвижимостью',\n",
       " 'операции с недвижимостью',\n",
       " 'операции со своей недвижимостью',\n",
       " 'покупка жилой недвижимости',\n",
       " 'покупка жилья',\n",
       " 'покупка жилья для сдачи',\n",
       " 'покупка жилья для семьи',\n",
       " 'покупка коммерческой недвижимости',\n",
       " 'покупка недвижимости',\n",
       " 'покупка своего жилья',\n",
       " 'получение высшего образования',\n",
       " 'получение дополнительного образования',\n",
       " 'получение образования',\n",
       " 'приобретение автомобиля',\n",
       " 'профильное образование',\n",
       " 'ремонт жилью',\n",
       " 'свадьба',\n",
       " 'свой автомобиль',\n",
       " 'сделка с автомобилем',\n",
       " 'сделка с подержанным автомобилем',\n",
       " 'строительство жилой недвижимости',\n",
       " 'строительство недвижимости',\n",
       " 'строительство собственной недвижимости',\n",
       " 'сыграть свадьбу']"
      ]
     },
     "execution_count": 27,
     "metadata": {},
     "output_type": "execute_result"
    }
   ],
   "source": [
    "# получение уникальных значений\n",
    "sorted_purposes = sorted(data['purpose'].unique())\n",
    "sorted_purposes"
   ]
  },
  {
   "cell_type": "markdown",
   "metadata": {},
   "source": [
    "Невооруженным взглядом можно обнаружить, что некоторые цели дублируют друг друга. Это произошло, потому что не хватает заранее определенных формулировок целей из которых бы делался выбор."
   ]
  },
  {
   "cell_type": "markdown",
   "metadata": {},
   "source": [
    "**Вывод**\n",
    "\n",
    "Явные дубликаты отсутствуют, а вот неявные есть и их нужно устранить."
   ]
  },
  {
   "cell_type": "markdown",
   "metadata": {},
   "source": [
    "### Лемматизация"
   ]
  },
  {
   "cell_type": "markdown",
   "metadata": {},
   "source": [
    "Лемматизация — процесс приведения словоформы к лемме — её нормальной (словарной) форме. Используем библиотеку с функцией лемматизации на русском языке — pymystem3, которая была разработана сотрудниками Яндекса. С помощью лемматизации найдем дубликаты."
   ]
  },
  {
   "cell_type": "code",
   "execution_count": 28,
   "metadata": {
    "scrolled": false
   },
   "outputs": [
    {
     "data": {
      "text/plain": [
       "Counter({'покупка': 10,\n",
       "         ' ': 59,\n",
       "         'жилье': 7,\n",
       "         ', ': 37,\n",
       "         'приобретение': 1,\n",
       "         'автомобиль': 9,\n",
       "         'дополнительный': 2,\n",
       "         'образование': 9,\n",
       "         'сыграть': 1,\n",
       "         'свадьба': 3,\n",
       "         'операция': 4,\n",
       "         'с': 5,\n",
       "         'на': 4,\n",
       "         'проведение': 1,\n",
       "         'для': 2,\n",
       "         'семья': 1,\n",
       "         'недвижимость': 10,\n",
       "         'коммерческий': 2,\n",
       "         'жилой': 2,\n",
       "         'строительство': 3,\n",
       "         'собственный': 1,\n",
       "         'подержать': 1,\n",
       "         'свой': 4,\n",
       "         'со': 1,\n",
       "         'заниматься': 2,\n",
       "         'получение': 3,\n",
       "         'сделка': 2,\n",
       "         'подержанный': 1,\n",
       "         'высокий': 3,\n",
       "         'профильный': 1,\n",
       "         'сдача': 1,\n",
       "         'ремонт': 1,\n",
       "         '\\n': 1})"
      ]
     },
     "execution_count": 28,
     "metadata": {},
     "output_type": "execute_result"
    }
   ],
   "source": [
    "# перевод уникальных значений в строку\n",
    "credit_purposes = data['purpose'].unique().tolist()\n",
    "string = ', '.join(credit_purposes)\n",
    "\n",
    "# лемматизация строки\n",
    "lemmas = m.lemmatize(string)\n",
    "\n",
    "# подсчет числа лемм\n",
    "Counter(lemmas)"
   ]
  },
  {
   "cell_type": "markdown",
   "metadata": {},
   "source": [
    "Из данных можно сделать выводы, что существует четыре обобщенных целей кредитов:\n",
    "\n",
    "1. покупка автомобиля\n",
    "2. получение образования\n",
    "3. покупка недвижимости\n",
    "4. организация свадьбы\n",
    "\n",
    "Избавимся от неявых дубликатов. Для этого с помощью циклов создадим списки со схожими целями."
   ]
  },
  {
   "cell_type": "code",
   "execution_count": 29,
   "metadata": {},
   "outputs": [
    {
     "data": {
      "text/plain": [
       "['автомобили',\n",
       " 'автомобиль',\n",
       " 'на покупку автомобиля',\n",
       " 'на покупку подержанного автомобиля',\n",
       " 'на покупку своего автомобиля',\n",
       " 'приобретение автомобиля',\n",
       " 'свой автомобиль',\n",
       " 'сделка с автомобилем',\n",
       " 'сделка с подержанным автомобилем']"
      ]
     },
     "execution_count": 29,
     "metadata": {},
     "output_type": "execute_result"
    }
   ],
   "source": [
    "# поиск наименований целей, связанных с автомобилем\n",
    "car = []\n",
    "for phrase in sorted_purposes:\n",
    "    if 'автомоб' in phrase:\n",
    "        car.append(phrase)\n",
    "car"
   ]
  },
  {
   "cell_type": "code",
   "execution_count": 30,
   "metadata": {},
   "outputs": [
    {
     "data": {
      "text/plain": [
       "['высшее образование',\n",
       " 'дополнительное образование',\n",
       " 'заняться высшим образованием',\n",
       " 'заняться образованием',\n",
       " 'образование',\n",
       " 'получение высшего образования',\n",
       " 'получение дополнительного образования',\n",
       " 'получение образования',\n",
       " 'профильное образование']"
      ]
     },
     "execution_count": 30,
     "metadata": {},
     "output_type": "execute_result"
    }
   ],
   "source": [
    "# поиск наименований целей, связанных с образованием\n",
    "education = []\n",
    "for phrase in sorted_purposes:\n",
    "    if 'образов' in phrase:\n",
    "        education.append(phrase)\n",
    "education"
   ]
  },
  {
   "cell_type": "code",
   "execution_count": 31,
   "metadata": {},
   "outputs": [
    {
     "data": {
      "text/plain": [
       "['жилье',\n",
       " 'недвижимость',\n",
       " 'операции с жильем',\n",
       " 'операции с коммерческой недвижимостью',\n",
       " 'операции с недвижимостью',\n",
       " 'операции со своей недвижимостью',\n",
       " 'покупка жилой недвижимости',\n",
       " 'покупка жилой недвижимости',\n",
       " 'покупка жилья',\n",
       " 'покупка жилья для сдачи',\n",
       " 'покупка жилья для семьи',\n",
       " 'покупка коммерческой недвижимости',\n",
       " 'покупка недвижимости',\n",
       " 'покупка своего жилья',\n",
       " 'ремонт жилью',\n",
       " 'строительство жилой недвижимости',\n",
       " 'строительство жилой недвижимости',\n",
       " 'строительство недвижимости',\n",
       " 'строительство собственной недвижимости']"
      ]
     },
     "execution_count": 31,
     "metadata": {},
     "output_type": "execute_result"
    }
   ],
   "source": [
    "# поиск наименований целей, связанных с недвижимостью\n",
    "real_estate = []\n",
    "for phrase in sorted_purposes:\n",
    "    if 'жил' in phrase:\n",
    "        real_estate.append(phrase)\n",
    "    if 'недвиж' in phrase:\n",
    "        real_estate.append(phrase)\n",
    "real_estate"
   ]
  },
  {
   "cell_type": "code",
   "execution_count": 32,
   "metadata": {},
   "outputs": [
    {
     "data": {
      "text/plain": [
       "['на проведение свадьбы', 'свадьба', 'сыграть свадьбу']"
      ]
     },
     "execution_count": 32,
     "metadata": {},
     "output_type": "execute_result"
    }
   ],
   "source": [
    "# поиск наименований целей, связанных со свадьбой\n",
    "wedding = []\n",
    "for phrase in sorted_purposes:\n",
    "    if 'свадь' in phrase:\n",
    "        wedding.append(phrase)\n",
    "wedding"
   ]
  },
  {
   "cell_type": "markdown",
   "metadata": {},
   "source": [
    "Напишем функцию, с помощью которой приведем категоризацию целей. "
   ]
  },
  {
   "cell_type": "code",
   "execution_count": 33,
   "metadata": {},
   "outputs": [],
   "source": [
    "# Функция для замены неявных дубликатов\n",
    "def replace_wrong_purposes(wrong_purposes, correct_purposes):\n",
    "    for wrong_purpose in wrong_purposes:\n",
    "        data['purpose'] = data['purpose'].replace(wrong_purposes, correct_purposes)\n",
    "        \n",
    "correct_name_car = 'покупка автомобиля'\n",
    "correct_name_education = 'получение образования'\n",
    "correct_name_real_estate = 'покупка недвижимости'\n",
    "correct_name_wedding = 'организация свадьбы'"
   ]
  },
  {
   "cell_type": "code",
   "execution_count": 34,
   "metadata": {},
   "outputs": [],
   "source": [
    "# Устранение неявных дубликатов\n",
    "replace_wrong_purposes(car, correct_name_car)\n",
    "replace_wrong_purposes(education, correct_name_education)\n",
    "replace_wrong_purposes(real_estate, correct_name_real_estate)\n",
    "replace_wrong_purposes(wedding, correct_name_wedding)"
   ]
  },
  {
   "cell_type": "code",
   "execution_count": 35,
   "metadata": {},
   "outputs": [
    {
     "data": {
      "text/plain": [
       "array(['покупка недвижимости', 'покупка автомобиля',\n",
       "       'получение образования', 'организация свадьбы'], dtype=object)"
      ]
     },
     "execution_count": 35,
     "metadata": {},
     "output_type": "execute_result"
    }
   ],
   "source": [
    "# Проверка на неявные дубликаты\n",
    "data['purpose'].unique()"
   ]
  },
  {
   "cell_type": "markdown",
   "metadata": {},
   "source": [
    "Проверка демонстрирует отсутствие неявных дубликатов."
   ]
  },
  {
   "cell_type": "markdown",
   "metadata": {},
   "source": [
    "**Вывод**\n",
    "\n",
    "С помощью лемматизации были выявлены неявные дубликаты, переименованы цели и тем самым категоризированы. "
   ]
  },
  {
   "cell_type": "markdown",
   "metadata": {},
   "source": [
    "### Категоризация данных"
   ]
  },
  {
   "cell_type": "markdown",
   "metadata": {},
   "source": [
    "Столбец с данными о доходах имеет большое количество данных, присутствующих в наборе лишь единожды. Работать с такими данными и делать из них статистические выводы нельзя. Поэтому следует категоризировать такие данные, т.е. объединение данных в категории."
   ]
  },
  {
   "cell_type": "code",
   "execution_count": 36,
   "metadata": {},
   "outputs": [
    {
     "data": {
      "text/plain": [
       "0.25    103053.0\n",
       "0.50    145017.0\n",
       "0.75    203434.5\n",
       "Name: total_income, dtype: float64"
      ]
     },
     "execution_count": 36,
     "metadata": {},
     "output_type": "execute_result"
    }
   ],
   "source": [
    "# оценка значений квантилей\n",
    "data['total_income'].quantile([0.25,0.5,0.75])"
   ]
  },
  {
   "cell_type": "markdown",
   "metadata": {},
   "source": [
    "Распределим уровень дохода на 4 группы и присвоим каждой группе статусы. Разделение проведем по полученным значениям квантилей."
   ]
  },
  {
   "cell_type": "code",
   "execution_count": 37,
   "metadata": {},
   "outputs": [],
   "source": [
    "# описание функции для категоризации доходов\n",
    "def income_status(total_income):\n",
    "    if total_income <= 103053.0:\n",
    "            return 'Низкий уровень дохода'\n",
    "    elif total_income <= 145017.0:\n",
    "            return 'Средний уровень дохода'\n",
    "    elif total_income < 203434.5:\n",
    "            return 'Высокий уровень дохода'\n",
    "    return 'Сверхвысокий уровень дохода'"
   ]
  },
  {
   "cell_type": "code",
   "execution_count": 38,
   "metadata": {},
   "outputs": [],
   "source": [
    "# присвоение статусов\n",
    "data['income_status'] = data['total_income'].apply(income_status)"
   ]
  },
  {
   "cell_type": "code",
   "execution_count": 39,
   "metadata": {},
   "outputs": [
    {
     "data": {
      "text/html": [
       "<div>\n",
       "<style scoped>\n",
       "    .dataframe tbody tr th:only-of-type {\n",
       "        vertical-align: middle;\n",
       "    }\n",
       "\n",
       "    .dataframe tbody tr th {\n",
       "        vertical-align: top;\n",
       "    }\n",
       "\n",
       "    .dataframe thead th {\n",
       "        text-align: right;\n",
       "    }\n",
       "</style>\n",
       "<table border=\"1\" class=\"dataframe\">\n",
       "  <thead>\n",
       "    <tr style=\"text-align: right;\">\n",
       "      <th></th>\n",
       "      <th>children</th>\n",
       "      <th>dob_years</th>\n",
       "      <th>education</th>\n",
       "      <th>education_id</th>\n",
       "      <th>family_status</th>\n",
       "      <th>family_status_id</th>\n",
       "      <th>gender</th>\n",
       "      <th>income_type</th>\n",
       "      <th>debt</th>\n",
       "      <th>total_income</th>\n",
       "      <th>purpose</th>\n",
       "      <th>years_employed</th>\n",
       "      <th>income_status</th>\n",
       "    </tr>\n",
       "  </thead>\n",
       "  <tbody>\n",
       "    <tr>\n",
       "      <td>0</td>\n",
       "      <td>1</td>\n",
       "      <td>42</td>\n",
       "      <td>высшее</td>\n",
       "      <td>0</td>\n",
       "      <td>женат / замужем</td>\n",
       "      <td>0</td>\n",
       "      <td>F</td>\n",
       "      <td>сотрудник</td>\n",
       "      <td>0</td>\n",
       "      <td>253875</td>\n",
       "      <td>покупка недвижимости</td>\n",
       "      <td>23</td>\n",
       "      <td>Сверхвысокий уровень дохода</td>\n",
       "    </tr>\n",
       "    <tr>\n",
       "      <td>1</td>\n",
       "      <td>1</td>\n",
       "      <td>36</td>\n",
       "      <td>среднее</td>\n",
       "      <td>1</td>\n",
       "      <td>женат / замужем</td>\n",
       "      <td>0</td>\n",
       "      <td>F</td>\n",
       "      <td>сотрудник</td>\n",
       "      <td>0</td>\n",
       "      <td>112080</td>\n",
       "      <td>покупка автомобиля</td>\n",
       "      <td>11</td>\n",
       "      <td>Средний уровень дохода</td>\n",
       "    </tr>\n",
       "    <tr>\n",
       "      <td>2</td>\n",
       "      <td>0</td>\n",
       "      <td>33</td>\n",
       "      <td>среднее</td>\n",
       "      <td>1</td>\n",
       "      <td>женат / замужем</td>\n",
       "      <td>0</td>\n",
       "      <td>M</td>\n",
       "      <td>сотрудник</td>\n",
       "      <td>0</td>\n",
       "      <td>145885</td>\n",
       "      <td>покупка недвижимости</td>\n",
       "      <td>15</td>\n",
       "      <td>Высокий уровень дохода</td>\n",
       "    </tr>\n",
       "    <tr>\n",
       "      <td>3</td>\n",
       "      <td>3</td>\n",
       "      <td>32</td>\n",
       "      <td>среднее</td>\n",
       "      <td>1</td>\n",
       "      <td>женат / замужем</td>\n",
       "      <td>0</td>\n",
       "      <td>M</td>\n",
       "      <td>сотрудник</td>\n",
       "      <td>0</td>\n",
       "      <td>267628</td>\n",
       "      <td>получение образования</td>\n",
       "      <td>11</td>\n",
       "      <td>Сверхвысокий уровень дохода</td>\n",
       "    </tr>\n",
       "    <tr>\n",
       "      <td>4</td>\n",
       "      <td>0</td>\n",
       "      <td>53</td>\n",
       "      <td>среднее</td>\n",
       "      <td>1</td>\n",
       "      <td>гражданский брак</td>\n",
       "      <td>1</td>\n",
       "      <td>F</td>\n",
       "      <td>пенсионер</td>\n",
       "      <td>0</td>\n",
       "      <td>158616</td>\n",
       "      <td>организация свадьбы</td>\n",
       "      <td>932</td>\n",
       "      <td>Высокий уровень дохода</td>\n",
       "    </tr>\n",
       "    <tr>\n",
       "      <td>5</td>\n",
       "      <td>0</td>\n",
       "      <td>27</td>\n",
       "      <td>высшее</td>\n",
       "      <td>0</td>\n",
       "      <td>гражданский брак</td>\n",
       "      <td>1</td>\n",
       "      <td>M</td>\n",
       "      <td>компаньон</td>\n",
       "      <td>0</td>\n",
       "      <td>255763</td>\n",
       "      <td>покупка недвижимости</td>\n",
       "      <td>2</td>\n",
       "      <td>Сверхвысокий уровень дохода</td>\n",
       "    </tr>\n",
       "    <tr>\n",
       "      <td>6</td>\n",
       "      <td>0</td>\n",
       "      <td>43</td>\n",
       "      <td>высшее</td>\n",
       "      <td>0</td>\n",
       "      <td>женат / замужем</td>\n",
       "      <td>0</td>\n",
       "      <td>F</td>\n",
       "      <td>компаньон</td>\n",
       "      <td>0</td>\n",
       "      <td>240525</td>\n",
       "      <td>покупка недвижимости</td>\n",
       "      <td>7</td>\n",
       "      <td>Сверхвысокий уровень дохода</td>\n",
       "    </tr>\n",
       "    <tr>\n",
       "      <td>7</td>\n",
       "      <td>0</td>\n",
       "      <td>50</td>\n",
       "      <td>среднее</td>\n",
       "      <td>1</td>\n",
       "      <td>женат / замужем</td>\n",
       "      <td>0</td>\n",
       "      <td>M</td>\n",
       "      <td>сотрудник</td>\n",
       "      <td>0</td>\n",
       "      <td>135823</td>\n",
       "      <td>получение образования</td>\n",
       "      <td>0</td>\n",
       "      <td>Средний уровень дохода</td>\n",
       "    </tr>\n",
       "    <tr>\n",
       "      <td>8</td>\n",
       "      <td>2</td>\n",
       "      <td>35</td>\n",
       "      <td>высшее</td>\n",
       "      <td>0</td>\n",
       "      <td>гражданский брак</td>\n",
       "      <td>1</td>\n",
       "      <td>F</td>\n",
       "      <td>сотрудник</td>\n",
       "      <td>0</td>\n",
       "      <td>95856</td>\n",
       "      <td>организация свадьбы</td>\n",
       "      <td>18</td>\n",
       "      <td>Низкий уровень дохода</td>\n",
       "    </tr>\n",
       "    <tr>\n",
       "      <td>9</td>\n",
       "      <td>0</td>\n",
       "      <td>41</td>\n",
       "      <td>среднее</td>\n",
       "      <td>1</td>\n",
       "      <td>женат / замужем</td>\n",
       "      <td>0</td>\n",
       "      <td>M</td>\n",
       "      <td>сотрудник</td>\n",
       "      <td>0</td>\n",
       "      <td>144425</td>\n",
       "      <td>покупка недвижимости</td>\n",
       "      <td>5</td>\n",
       "      <td>Средний уровень дохода</td>\n",
       "    </tr>\n",
       "  </tbody>\n",
       "</table>\n",
       "</div>"
      ],
      "text/plain": [
       "   children  dob_years education  education_id     family_status  \\\n",
       "0         1         42    высшее             0   женат / замужем   \n",
       "1         1         36   среднее             1   женат / замужем   \n",
       "2         0         33   среднее             1   женат / замужем   \n",
       "3         3         32   среднее             1   женат / замужем   \n",
       "4         0         53   среднее             1  гражданский брак   \n",
       "5         0         27    высшее             0  гражданский брак   \n",
       "6         0         43    высшее             0   женат / замужем   \n",
       "7         0         50   среднее             1   женат / замужем   \n",
       "8         2         35    высшее             0  гражданский брак   \n",
       "9         0         41   среднее             1   женат / замужем   \n",
       "\n",
       "   family_status_id gender income_type  debt  total_income  \\\n",
       "0                 0      F   сотрудник     0        253875   \n",
       "1                 0      F   сотрудник     0        112080   \n",
       "2                 0      M   сотрудник     0        145885   \n",
       "3                 0      M   сотрудник     0        267628   \n",
       "4                 1      F   пенсионер     0        158616   \n",
       "5                 1      M   компаньон     0        255763   \n",
       "6                 0      F   компаньон     0        240525   \n",
       "7                 0      M   сотрудник     0        135823   \n",
       "8                 1      F   сотрудник     0         95856   \n",
       "9                 0      M   сотрудник     0        144425   \n",
       "\n",
       "                 purpose  years_employed                income_status  \n",
       "0   покупка недвижимости              23  Сверхвысокий уровень дохода  \n",
       "1     покупка автомобиля              11       Средний уровень дохода  \n",
       "2   покупка недвижимости              15       Высокий уровень дохода  \n",
       "3  получение образования              11  Сверхвысокий уровень дохода  \n",
       "4    организация свадьбы             932       Высокий уровень дохода  \n",
       "5   покупка недвижимости               2  Сверхвысокий уровень дохода  \n",
       "6   покупка недвижимости               7  Сверхвысокий уровень дохода  \n",
       "7  получение образования               0       Средний уровень дохода  \n",
       "8    организация свадьбы              18        Низкий уровень дохода  \n",
       "9   покупка недвижимости               5       Средний уровень дохода  "
      ]
     },
     "execution_count": 39,
     "metadata": {},
     "output_type": "execute_result"
    }
   ],
   "source": [
    "# получение первых 10 строк датасета\n",
    "data.head(10)"
   ]
  },
  {
   "cell_type": "markdown",
   "metadata": {},
   "source": [
    "Созданим таблицу с данными, которые потребуются для проверки гипотез."
   ]
  },
  {
   "cell_type": "code",
   "execution_count": 40,
   "metadata": {},
   "outputs": [],
   "source": [
    "# Таблица с результатами\n",
    "df = {'children': data['children'], \n",
    "      'family_status': data['family_status'], \n",
    "      'income_status': data['income_status'],\n",
    "      'purpose': data['purpose'],\n",
    "      'debt': data['debt'],\n",
    "     }\n",
    "data_to_hypothesis = pd.DataFrame(df)"
   ]
  },
  {
   "cell_type": "code",
   "execution_count": 41,
   "metadata": {},
   "outputs": [
    {
     "data": {
      "text/html": [
       "<div>\n",
       "<style scoped>\n",
       "    .dataframe tbody tr th:only-of-type {\n",
       "        vertical-align: middle;\n",
       "    }\n",
       "\n",
       "    .dataframe tbody tr th {\n",
       "        vertical-align: top;\n",
       "    }\n",
       "\n",
       "    .dataframe thead th {\n",
       "        text-align: right;\n",
       "    }\n",
       "</style>\n",
       "<table border=\"1\" class=\"dataframe\">\n",
       "  <thead>\n",
       "    <tr style=\"text-align: right;\">\n",
       "      <th></th>\n",
       "      <th>children</th>\n",
       "      <th>family_status</th>\n",
       "      <th>income_status</th>\n",
       "      <th>purpose</th>\n",
       "      <th>debt</th>\n",
       "    </tr>\n",
       "  </thead>\n",
       "  <tbody>\n",
       "    <tr>\n",
       "      <td>21515</td>\n",
       "      <td>1</td>\n",
       "      <td>женат / замужем</td>\n",
       "      <td>Средний уровень дохода</td>\n",
       "      <td>получение образования</td>\n",
       "      <td>1</td>\n",
       "    </tr>\n",
       "    <tr>\n",
       "      <td>21516</td>\n",
       "      <td>0</td>\n",
       "      <td>женат / замужем</td>\n",
       "      <td>Сверхвысокий уровень дохода</td>\n",
       "      <td>покупка недвижимости</td>\n",
       "      <td>0</td>\n",
       "    </tr>\n",
       "    <tr>\n",
       "      <td>21517</td>\n",
       "      <td>0</td>\n",
       "      <td>гражданский брак</td>\n",
       "      <td>Высокий уровень дохода</td>\n",
       "      <td>покупка автомобиля</td>\n",
       "      <td>0</td>\n",
       "    </tr>\n",
       "    <tr>\n",
       "      <td>21518</td>\n",
       "      <td>0</td>\n",
       "      <td>женат / замужем</td>\n",
       "      <td>Высокий уровень дохода</td>\n",
       "      <td>покупка автомобиля</td>\n",
       "      <td>0</td>\n",
       "    </tr>\n",
       "    <tr>\n",
       "      <td>21519</td>\n",
       "      <td>1</td>\n",
       "      <td>в разводе</td>\n",
       "      <td>Средний уровень дохода</td>\n",
       "      <td>покупка недвижимости</td>\n",
       "      <td>0</td>\n",
       "    </tr>\n",
       "    <tr>\n",
       "      <td>21520</td>\n",
       "      <td>1</td>\n",
       "      <td>гражданский брак</td>\n",
       "      <td>Сверхвысокий уровень дохода</td>\n",
       "      <td>покупка недвижимости</td>\n",
       "      <td>0</td>\n",
       "    </tr>\n",
       "    <tr>\n",
       "      <td>21521</td>\n",
       "      <td>0</td>\n",
       "      <td>женат / замужем</td>\n",
       "      <td>Высокий уровень дохода</td>\n",
       "      <td>покупка автомобиля</td>\n",
       "      <td>0</td>\n",
       "    </tr>\n",
       "    <tr>\n",
       "      <td>21522</td>\n",
       "      <td>1</td>\n",
       "      <td>гражданский брак</td>\n",
       "      <td>Низкий уровень дохода</td>\n",
       "      <td>покупка недвижимости</td>\n",
       "      <td>1</td>\n",
       "    </tr>\n",
       "    <tr>\n",
       "      <td>21523</td>\n",
       "      <td>3</td>\n",
       "      <td>женат / замужем</td>\n",
       "      <td>Сверхвысокий уровень дохода</td>\n",
       "      <td>покупка автомобиля</td>\n",
       "      <td>1</td>\n",
       "    </tr>\n",
       "    <tr>\n",
       "      <td>21524</td>\n",
       "      <td>2</td>\n",
       "      <td>женат / замужем</td>\n",
       "      <td>Низкий уровень дохода</td>\n",
       "      <td>покупка автомобиля</td>\n",
       "      <td>0</td>\n",
       "    </tr>\n",
       "  </tbody>\n",
       "</table>\n",
       "</div>"
      ],
      "text/plain": [
       "       children     family_status                income_status  \\\n",
       "21515         1   женат / замужем       Средний уровень дохода   \n",
       "21516         0   женат / замужем  Сверхвысокий уровень дохода   \n",
       "21517         0  гражданский брак       Высокий уровень дохода   \n",
       "21518         0   женат / замужем       Высокий уровень дохода   \n",
       "21519         1         в разводе       Средний уровень дохода   \n",
       "21520         1  гражданский брак  Сверхвысокий уровень дохода   \n",
       "21521         0   женат / замужем       Высокий уровень дохода   \n",
       "21522         1  гражданский брак        Низкий уровень дохода   \n",
       "21523         3   женат / замужем  Сверхвысокий уровень дохода   \n",
       "21524         2   женат / замужем        Низкий уровень дохода   \n",
       "\n",
       "                     purpose  debt  \n",
       "21515  получение образования     1  \n",
       "21516   покупка недвижимости     0  \n",
       "21517     покупка автомобиля     0  \n",
       "21518     покупка автомобиля     0  \n",
       "21519   покупка недвижимости     0  \n",
       "21520   покупка недвижимости     0  \n",
       "21521     покупка автомобиля     0  \n",
       "21522   покупка недвижимости     1  \n",
       "21523     покупка автомобиля     1  \n",
       "21524     покупка автомобиля     0  "
      ]
     },
     "execution_count": 41,
     "metadata": {},
     "output_type": "execute_result"
    }
   ],
   "source": [
    "# получение последних 10 строк датасета\n",
    "data_to_hypothesis.tail(10)"
   ]
  },
  {
   "cell_type": "markdown",
   "metadata": {},
   "source": [
    "**Вывод**\n",
    "\n",
    "Была проведена категоризация дохода, с помощью выделения 4 групп в зависимости от суммы дохода. Создан датасет с данными, которые требуются для проверки гипотез, без использования избыточных данных."
   ]
  },
  {
   "cell_type": "markdown",
   "metadata": {},
   "source": [
    "## Шаг 3. Ответьте на вопросы"
   ]
  },
  {
   "cell_type": "markdown",
   "metadata": {},
   "source": [
    "- Есть ли зависимость между наличием детей и возвратом кредита в срок?"
   ]
  },
  {
   "cell_type": "code",
   "execution_count": 42,
   "metadata": {},
   "outputs": [
    {
     "data": {
      "text/html": [
       "<div>\n",
       "<style scoped>\n",
       "    .dataframe tbody tr th:only-of-type {\n",
       "        vertical-align: middle;\n",
       "    }\n",
       "\n",
       "    .dataframe tbody tr th {\n",
       "        vertical-align: top;\n",
       "    }\n",
       "\n",
       "    .dataframe thead th {\n",
       "        text-align: right;\n",
       "    }\n",
       "</style>\n",
       "<table border=\"1\" class=\"dataframe\">\n",
       "  <thead>\n",
       "    <tr style=\"text-align: right;\">\n",
       "      <th>debt</th>\n",
       "      <th>0</th>\n",
       "      <th>1</th>\n",
       "      <th>ratio</th>\n",
       "    </tr>\n",
       "    <tr>\n",
       "      <th>children</th>\n",
       "      <th></th>\n",
       "      <th></th>\n",
       "      <th></th>\n",
       "    </tr>\n",
       "  </thead>\n",
       "  <tbody>\n",
       "    <tr>\n",
       "      <td>0</td>\n",
       "      <td>11758.0</td>\n",
       "      <td>952.0</td>\n",
       "      <td>8.096615</td>\n",
       "    </tr>\n",
       "    <tr>\n",
       "      <td>1</td>\n",
       "      <td>3978.0</td>\n",
       "      <td>409.0</td>\n",
       "      <td>10.281549</td>\n",
       "    </tr>\n",
       "    <tr>\n",
       "      <td>2</td>\n",
       "      <td>1733.0</td>\n",
       "      <td>185.0</td>\n",
       "      <td>10.675130</td>\n",
       "    </tr>\n",
       "    <tr>\n",
       "      <td>3</td>\n",
       "      <td>272.0</td>\n",
       "      <td>22.0</td>\n",
       "      <td>8.088235</td>\n",
       "    </tr>\n",
       "    <tr>\n",
       "      <td>4</td>\n",
       "      <td>31.0</td>\n",
       "      <td>3.0</td>\n",
       "      <td>9.677419</td>\n",
       "    </tr>\n",
       "    <tr>\n",
       "      <td>5</td>\n",
       "      <td>8.0</td>\n",
       "      <td>NaN</td>\n",
       "      <td>NaN</td>\n",
       "    </tr>\n",
       "  </tbody>\n",
       "</table>\n",
       "</div>"
      ],
      "text/plain": [
       "debt            0      1      ratio\n",
       "children                           \n",
       "0         11758.0  952.0   8.096615\n",
       "1          3978.0  409.0  10.281549\n",
       "2          1733.0  185.0  10.675130\n",
       "3           272.0   22.0   8.088235\n",
       "4            31.0    3.0   9.677419\n",
       "5             8.0    NaN        NaN"
      ]
     },
     "metadata": {},
     "output_type": "display_data"
    }
   ],
   "source": [
    "# сводная таблица для проверки гипотезы\n",
    "children_pivot = data.pivot_table(index = ['children'], \n",
    "                                  columns = ['debt'], \n",
    "                                  values = 'purpose', aggfunc='count')\n",
    "children_pivot['ratio'] = children_pivot[1] / children_pivot[0] * 100\n",
    "display(children_pivot)"
   ]
  },
  {
   "cell_type": "markdown",
   "metadata": {},
   "source": [
    "**Вывод**\n",
    "\n",
    "Судя по данным в среднем не возвращают кредиты 10% клиентов. При этом наличие детей практически не влияет, хотя можно заметить, что наличие детей все же чуть улучшает статистику. Возможно это связано с тем, что при наличии детей люди подходят более ответственно к принятию решения о получении кредита."
   ]
  },
  {
   "cell_type": "markdown",
   "metadata": {},
   "source": [
    "- Есть ли зависимость между семейным положением и возвратом кредита в срок?"
   ]
  },
  {
   "cell_type": "code",
   "execution_count": 43,
   "metadata": {},
   "outputs": [
    {
     "data": {
      "text/html": [
       "<div>\n",
       "<style scoped>\n",
       "    .dataframe tbody tr th:only-of-type {\n",
       "        vertical-align: middle;\n",
       "    }\n",
       "\n",
       "    .dataframe tbody tr th {\n",
       "        vertical-align: top;\n",
       "    }\n",
       "\n",
       "    .dataframe thead th {\n",
       "        text-align: right;\n",
       "    }\n",
       "</style>\n",
       "<table border=\"1\" class=\"dataframe\">\n",
       "  <thead>\n",
       "    <tr style=\"text-align: right;\">\n",
       "      <th>debt</th>\n",
       "      <th>0</th>\n",
       "      <th>1</th>\n",
       "      <th>ratio</th>\n",
       "    </tr>\n",
       "    <tr>\n",
       "      <th>family_status</th>\n",
       "      <th></th>\n",
       "      <th></th>\n",
       "      <th></th>\n",
       "    </tr>\n",
       "  </thead>\n",
       "  <tbody>\n",
       "    <tr>\n",
       "      <td>Не женат / не замужем</td>\n",
       "      <td>2271</td>\n",
       "      <td>254</td>\n",
       "      <td>11.184500</td>\n",
       "    </tr>\n",
       "    <tr>\n",
       "      <td>в разводе</td>\n",
       "      <td>1007</td>\n",
       "      <td>76</td>\n",
       "      <td>7.547170</td>\n",
       "    </tr>\n",
       "    <tr>\n",
       "      <td>вдовец / вдова</td>\n",
       "      <td>809</td>\n",
       "      <td>56</td>\n",
       "      <td>6.922126</td>\n",
       "    </tr>\n",
       "    <tr>\n",
       "      <td>гражданский брак</td>\n",
       "      <td>3396</td>\n",
       "      <td>339</td>\n",
       "      <td>9.982332</td>\n",
       "    </tr>\n",
       "    <tr>\n",
       "      <td>женат / замужем</td>\n",
       "      <td>10297</td>\n",
       "      <td>846</td>\n",
       "      <td>8.215985</td>\n",
       "    </tr>\n",
       "  </tbody>\n",
       "</table>\n",
       "</div>"
      ],
      "text/plain": [
       "debt                       0    1      ratio\n",
       "family_status                               \n",
       "Не женат / не замужем   2271  254  11.184500\n",
       "в разводе               1007   76   7.547170\n",
       "вдовец / вдова           809   56   6.922126\n",
       "гражданский брак        3396  339   9.982332\n",
       "женат / замужем        10297  846   8.215985"
      ]
     },
     "metadata": {},
     "output_type": "display_data"
    }
   ],
   "source": [
    "# сводная таблица для проверки гипотезы\n",
    "family_status_pivot = data.pivot_table(index = ['family_status'], \n",
    "                                  columns = ['debt'], \n",
    "                                  values = 'purpose', aggfunc='count')\n",
    "family_status_pivot['ratio'] = family_status_pivot[1] / family_status_pivot[0] * 100\n",
    "display(family_status_pivot)"
   ]
  },
  {
   "cell_type": "markdown",
   "metadata": {},
   "source": [
    "**Вывод**\n",
    "\n",
    "Самые низкие показатели возврата кредита у людей в разводе и вдов/вдовцов. Скорее всего это связано с тем, что эти клиенты рассчитывали на помощь партнера по погашению кредита, но обстоятельства изменились."
   ]
  },
  {
   "cell_type": "markdown",
   "metadata": {},
   "source": [
    "- Есть ли зависимость между уровнем дохода и возвратом кредита в срок?"
   ]
  },
  {
   "cell_type": "code",
   "execution_count": 44,
   "metadata": {},
   "outputs": [
    {
     "data": {
      "text/html": [
       "<div>\n",
       "<style scoped>\n",
       "    .dataframe tbody tr th:only-of-type {\n",
       "        vertical-align: middle;\n",
       "    }\n",
       "\n",
       "    .dataframe tbody tr th {\n",
       "        vertical-align: top;\n",
       "    }\n",
       "\n",
       "    .dataframe thead th {\n",
       "        text-align: right;\n",
       "    }\n",
       "</style>\n",
       "<table border=\"1\" class=\"dataframe\">\n",
       "  <thead>\n",
       "    <tr style=\"text-align: right;\">\n",
       "      <th>debt</th>\n",
       "      <th>0</th>\n",
       "      <th>1</th>\n",
       "      <th>ratio</th>\n",
       "    </tr>\n",
       "    <tr>\n",
       "      <th>income_status</th>\n",
       "      <th></th>\n",
       "      <th></th>\n",
       "      <th></th>\n",
       "    </tr>\n",
       "  </thead>\n",
       "  <tbody>\n",
       "    <tr>\n",
       "      <td>Высокий уровень дохода</td>\n",
       "      <td>4411</td>\n",
       "      <td>426</td>\n",
       "      <td>9.657674</td>\n",
       "    </tr>\n",
       "    <tr>\n",
       "      <td>Низкий уровень дохода</td>\n",
       "      <td>4455</td>\n",
       "      <td>383</td>\n",
       "      <td>8.597082</td>\n",
       "    </tr>\n",
       "    <tr>\n",
       "      <td>Сверхвысокий уровень дохода</td>\n",
       "      <td>4497</td>\n",
       "      <td>341</td>\n",
       "      <td>7.582833</td>\n",
       "    </tr>\n",
       "    <tr>\n",
       "      <td>Средний уровень дохода</td>\n",
       "      <td>4417</td>\n",
       "      <td>421</td>\n",
       "      <td>9.531356</td>\n",
       "    </tr>\n",
       "  </tbody>\n",
       "</table>\n",
       "</div>"
      ],
      "text/plain": [
       "debt                            0    1     ratio\n",
       "income_status                                   \n",
       "Высокий уровень дохода       4411  426  9.657674\n",
       "Низкий уровень дохода        4455  383  8.597082\n",
       "Сверхвысокий уровень дохода  4497  341  7.582833\n",
       "Средний уровень дохода       4417  421  9.531356"
      ]
     },
     "metadata": {},
     "output_type": "display_data"
    }
   ],
   "source": [
    "# сводная таблица для проверки гипотезы\n",
    "income_status_pivot = data.pivot_table(index = ['income_status'], \n",
    "                                  columns = ['debt'], \n",
    "                                  values = 'purpose', aggfunc='count')\n",
    "income_status_pivot['ratio'] = income_status_pivot[1] / income_status_pivot[0] * 100\n",
    "display(income_status_pivot)"
   ]
  },
  {
   "cell_type": "markdown",
   "metadata": {},
   "source": [
    "**Вывод**\n",
    "\n",
    "Клиенты со сверхвысокими и низкими доходами возвращают кредиты хуже. Зависимость с низкими доходами вполне очевидна, а со сверхвысокими, возможно, связана с тем, что такие клиенты просто забывают оплачивать кредит в срок."
   ]
  },
  {
   "cell_type": "markdown",
   "metadata": {},
   "source": [
    "- Как разные цели кредита влияют на его возврат в срок?"
   ]
  },
  {
   "cell_type": "code",
   "execution_count": 45,
   "metadata": {},
   "outputs": [
    {
     "data": {
      "text/html": [
       "<div>\n",
       "<style scoped>\n",
       "    .dataframe tbody tr th:only-of-type {\n",
       "        vertical-align: middle;\n",
       "    }\n",
       "\n",
       "    .dataframe tbody tr th {\n",
       "        vertical-align: top;\n",
       "    }\n",
       "\n",
       "    .dataframe thead th {\n",
       "        text-align: right;\n",
       "    }\n",
       "</style>\n",
       "<table border=\"1\" class=\"dataframe\">\n",
       "  <thead>\n",
       "    <tr style=\"text-align: right;\">\n",
       "      <th>debt</th>\n",
       "      <th>0</th>\n",
       "      <th>1</th>\n",
       "      <th>ratio</th>\n",
       "    </tr>\n",
       "    <tr>\n",
       "      <th>purpose</th>\n",
       "      <th></th>\n",
       "      <th></th>\n",
       "      <th></th>\n",
       "    </tr>\n",
       "  </thead>\n",
       "  <tbody>\n",
       "    <tr>\n",
       "      <td>организация свадьбы</td>\n",
       "      <td>1941</td>\n",
       "      <td>158</td>\n",
       "      <td>8.140134</td>\n",
       "    </tr>\n",
       "    <tr>\n",
       "      <td>покупка автомобиля</td>\n",
       "      <td>3530</td>\n",
       "      <td>367</td>\n",
       "      <td>10.396601</td>\n",
       "    </tr>\n",
       "    <tr>\n",
       "      <td>покупка недвижимости</td>\n",
       "      <td>9043</td>\n",
       "      <td>715</td>\n",
       "      <td>7.906668</td>\n",
       "    </tr>\n",
       "    <tr>\n",
       "      <td>получение образования</td>\n",
       "      <td>3266</td>\n",
       "      <td>331</td>\n",
       "      <td>10.134721</td>\n",
       "    </tr>\n",
       "  </tbody>\n",
       "</table>\n",
       "</div>"
      ],
      "text/plain": [
       "debt                      0    1      ratio\n",
       "purpose                                    \n",
       "организация свадьбы    1941  158   8.140134\n",
       "покупка автомобиля     3530  367  10.396601\n",
       "покупка недвижимости   9043  715   7.906668\n",
       "получение образования  3266  331  10.134721"
      ]
     },
     "metadata": {},
     "output_type": "display_data"
    }
   ],
   "source": [
    "# сводная таблица для проверки гипотезы\n",
    "purpose_pivot = data.pivot_table(index = ['purpose'], \n",
    "                                  columns = ['debt'], \n",
    "                                  values = 'income_status', aggfunc='count')\n",
    "purpose_pivot['ratio'] = purpose_pivot[1] / purpose_pivot[0] * 100\n",
    "display(purpose_pivot)"
   ]
  },
  {
   "cell_type": "markdown",
   "metadata": {},
   "source": [
    "**Вывод**\n",
    "\n",
    "Чаще всего проблемы с возвратом кредита имеются у клиентов, которые берут его на организацию свадьбы и покупку недвижимости. Возможно это связано с большим количеством быстрых разводов =)"
   ]
  },
  {
   "cell_type": "markdown",
   "metadata": {},
   "source": [
    "## Шаг 4. Общий вывод"
   ]
  },
  {
   "cell_type": "markdown",
   "metadata": {},
   "source": [
    "Есть зависимости между целями кредита, семейным положением, уровнем дохода и количеством детей в семье. Нельзя сказать, что они кардинально отличаются, но 2% на больших числах могут оказать существенное влияние на кредитный портфель банка. Особое внимание следует уделить вдовам/вдовцам или молодоженам — с ними могут риски по невозврату кредитов выше.\n",
    "\n",
    "Рекомендации для банка\n",
    "- Улучшить электронные бланки заявок: ввести туда выпадающие списки и категории. Не позволять подавать заявки с пропущенными данными.\n",
    "\n",
    "- Считать стаж работы в годах, пользователи чаще всего не знают свой стаж в днях.\n",
    "- Показывать операторам в банке или пользователям на сайте подсказки заранее, когда вводят сверхвысокие/сверхнизкие\n",
    "  значения в полях: возраст, стаж, количество детей.\n",
    "- Блокировать отправку заявок с заведомо некорректными значениями, которые могут быть важны для анализа, например,\n",
    "  с отрицательным количеством детей."
   ]
  }
 ],
 "metadata": {
  "ExecuteTimeLog": [
   {
    "duration": 772,
    "start_time": "2021-11-15T19:13:58.450Z"
   },
   {
    "duration": 66,
    "start_time": "2021-11-15T19:14:01.722Z"
   },
   {
    "duration": 29,
    "start_time": "2021-11-15T19:15:59.378Z"
   },
   {
    "duration": 16,
    "start_time": "2021-11-15T19:20:48.485Z"
   },
   {
    "duration": 50,
    "start_time": "2021-11-15T19:55:35.104Z"
   },
   {
    "duration": 32,
    "start_time": "2021-11-15T20:27:47.133Z"
   },
   {
    "duration": 26,
    "start_time": "2021-11-15T20:28:02.756Z"
   },
   {
    "duration": 393,
    "start_time": "2021-11-16T17:42:49.126Z"
   },
   {
    "duration": 946,
    "start_time": "2021-11-16T17:42:56.231Z"
   },
   {
    "duration": 93,
    "start_time": "2021-11-16T17:42:58.718Z"
   },
   {
    "duration": 47,
    "start_time": "2021-11-16T17:43:00.783Z"
   },
   {
    "duration": 24,
    "start_time": "2021-11-16T17:43:04.535Z"
   },
   {
    "duration": 49,
    "start_time": "2021-11-16T17:43:08.126Z"
   },
   {
    "duration": 14,
    "start_time": "2021-11-16T17:43:13.141Z"
   },
   {
    "duration": 64,
    "start_time": "2021-11-16T18:07:44.869Z"
   },
   {
    "duration": 24,
    "start_time": "2021-11-16T18:07:50.280Z"
   },
   {
    "duration": 22,
    "start_time": "2021-11-16T18:08:00.097Z"
   },
   {
    "duration": 53,
    "start_time": "2021-11-16T18:08:06.980Z"
   },
   {
    "duration": 13,
    "start_time": "2021-11-16T18:08:16.325Z"
   },
   {
    "duration": 5,
    "start_time": "2021-11-16T18:09:07.882Z"
   },
   {
    "duration": 7,
    "start_time": "2021-11-16T18:09:25.530Z"
   },
   {
    "duration": 5,
    "start_time": "2021-11-16T18:14:13.630Z"
   },
   {
    "duration": 13,
    "start_time": "2021-11-16T18:20:38.699Z"
   },
   {
    "duration": 6,
    "start_time": "2021-11-16T18:22:09.371Z"
   },
   {
    "duration": 12,
    "start_time": "2021-11-16T18:22:11.539Z"
   },
   {
    "duration": 14,
    "start_time": "2021-11-16T18:24:02.341Z"
   },
   {
    "duration": 6,
    "start_time": "2021-11-16T18:25:38.429Z"
   },
   {
    "duration": 12,
    "start_time": "2021-11-16T18:25:40.908Z"
   },
   {
    "duration": 13,
    "start_time": "2021-11-16T18:25:44.024Z"
   },
   {
    "duration": 6,
    "start_time": "2021-11-16T18:26:45.438Z"
   },
   {
    "duration": 13,
    "start_time": "2021-11-16T18:26:47.646Z"
   },
   {
    "duration": 13,
    "start_time": "2021-11-16T18:26:50.109Z"
   },
   {
    "duration": 31,
    "start_time": "2021-11-16T18:27:58.909Z"
   },
   {
    "duration": 30,
    "start_time": "2021-11-16T18:28:15.197Z"
   },
   {
    "duration": 9,
    "start_time": "2021-11-16T18:29:58.957Z"
   },
   {
    "duration": 13,
    "start_time": "2021-11-16T18:31:16.222Z"
   },
   {
    "duration": 374,
    "start_time": "2021-11-16T18:31:29.709Z"
   },
   {
    "duration": 12,
    "start_time": "2021-11-16T18:31:42.445Z"
   },
   {
    "duration": 14,
    "start_time": "2021-11-16T18:31:53.988Z"
   },
   {
    "duration": 12,
    "start_time": "2021-11-16T18:32:01.141Z"
   },
   {
    "duration": 13,
    "start_time": "2021-11-16T18:32:05.134Z"
   },
   {
    "duration": 12,
    "start_time": "2021-11-16T18:32:13.053Z"
   },
   {
    "duration": 9,
    "start_time": "2021-11-16T18:32:56.544Z"
   },
   {
    "duration": 9,
    "start_time": "2021-11-16T18:32:59.196Z"
   },
   {
    "duration": 56,
    "start_time": "2021-11-16T18:33:20.880Z"
   },
   {
    "duration": 15,
    "start_time": "2021-11-16T18:33:59.519Z"
   },
   {
    "duration": 16,
    "start_time": "2021-11-16T18:34:12.691Z"
   },
   {
    "duration": 18,
    "start_time": "2021-11-16T18:34:38.182Z"
   },
   {
    "duration": 11,
    "start_time": "2021-11-16T18:34:57.998Z"
   },
   {
    "duration": 111,
    "start_time": "2021-11-16T18:35:18.886Z"
   },
   {
    "duration": 11,
    "start_time": "2021-11-16T18:35:25.829Z"
   },
   {
    "duration": 12,
    "start_time": "2021-11-16T18:35:52.989Z"
   },
   {
    "duration": 11,
    "start_time": "2021-11-16T18:36:08.934Z"
   },
   {
    "duration": 10,
    "start_time": "2021-11-16T18:36:20.885Z"
   },
   {
    "duration": 8,
    "start_time": "2021-11-16T18:36:27.398Z"
   },
   {
    "duration": 11,
    "start_time": "2021-11-16T18:36:31.453Z"
   },
   {
    "duration": 6,
    "start_time": "2021-11-16T18:36:53.872Z"
   },
   {
    "duration": 9,
    "start_time": "2021-11-16T18:36:57.502Z"
   },
   {
    "duration": 9,
    "start_time": "2021-11-16T18:37:07.831Z"
   },
   {
    "duration": 15,
    "start_time": "2021-11-16T18:39:33.270Z"
   },
   {
    "duration": 9,
    "start_time": "2021-11-16T18:40:00.902Z"
   },
   {
    "duration": 8,
    "start_time": "2021-11-16T18:40:03.500Z"
   },
   {
    "duration": 11,
    "start_time": "2021-11-16T18:40:05.718Z"
   },
   {
    "duration": 7,
    "start_time": "2021-11-16T18:40:13.710Z"
   },
   {
    "duration": 10,
    "start_time": "2021-11-16T18:40:16.403Z"
   },
   {
    "duration": 7,
    "start_time": "2021-11-16T18:40:20.853Z"
   },
   {
    "duration": 8,
    "start_time": "2021-11-16T18:40:23.013Z"
   },
   {
    "duration": 11,
    "start_time": "2021-11-16T18:40:25.198Z"
   },
   {
    "duration": 9,
    "start_time": "2021-11-16T18:40:31.933Z"
   },
   {
    "duration": 7,
    "start_time": "2021-11-16T18:40:34.998Z"
   },
   {
    "duration": 13,
    "start_time": "2021-11-16T18:40:37.462Z"
   },
   {
    "duration": 8,
    "start_time": "2021-11-16T18:40:41.614Z"
   },
   {
    "duration": 13,
    "start_time": "2021-11-16T18:40:43.964Z"
   },
   {
    "duration": 9,
    "start_time": "2021-11-16T18:40:48.174Z"
   },
   {
    "duration": 10,
    "start_time": "2021-11-16T18:40:50.772Z"
   },
   {
    "duration": 6,
    "start_time": "2021-11-16T18:40:55.206Z"
   },
   {
    "duration": 10,
    "start_time": "2021-11-16T18:40:57.773Z"
   },
   {
    "duration": 8,
    "start_time": "2021-11-16T18:41:02.806Z"
   },
   {
    "duration": 10,
    "start_time": "2021-11-16T18:41:04.967Z"
   },
   {
    "duration": 7,
    "start_time": "2021-11-16T18:41:09.765Z"
   },
   {
    "duration": 9,
    "start_time": "2021-11-16T18:41:11.798Z"
   },
   {
    "duration": 7,
    "start_time": "2021-11-16T18:41:14.061Z"
   },
   {
    "duration": 6,
    "start_time": "2021-11-16T18:41:18.911Z"
   },
   {
    "duration": 9,
    "start_time": "2021-11-16T18:41:20.766Z"
   },
   {
    "duration": 10,
    "start_time": "2021-11-16T18:41:23.309Z"
   },
   {
    "duration": 7,
    "start_time": "2021-11-16T18:41:37.456Z"
   },
   {
    "duration": 7,
    "start_time": "2021-11-16T18:41:39.798Z"
   },
   {
    "duration": 10,
    "start_time": "2021-11-16T18:41:41.861Z"
   },
   {
    "duration": 7,
    "start_time": "2021-11-16T18:41:49.062Z"
   },
   {
    "duration": 4,
    "start_time": "2021-11-16T18:41:58.181Z"
   },
   {
    "duration": 72,
    "start_time": "2021-11-16T18:42:00.430Z"
   },
   {
    "duration": 20,
    "start_time": "2021-11-16T18:42:02.222Z"
   },
   {
    "duration": 14,
    "start_time": "2021-11-16T18:42:06.223Z"
   },
   {
    "duration": 53,
    "start_time": "2021-11-16T18:42:09.566Z"
   },
   {
    "duration": 18,
    "start_time": "2021-11-16T18:42:17.629Z"
   },
   {
    "duration": 7,
    "start_time": "2021-11-16T18:42:30.698Z"
   },
   {
    "duration": 18,
    "start_time": "2021-11-16T18:42:33.389Z"
   },
   {
    "duration": 12,
    "start_time": "2021-11-16T18:42:35.716Z"
   },
   {
    "duration": 7,
    "start_time": "2021-11-16T18:42:53.054Z"
   },
   {
    "duration": 23,
    "start_time": "2021-11-16T18:42:55.254Z"
   },
   {
    "duration": 14,
    "start_time": "2021-11-16T18:42:57.430Z"
   },
   {
    "duration": 4,
    "start_time": "2021-11-16T18:43:02.721Z"
   },
   {
    "duration": 61,
    "start_time": "2021-11-16T18:43:04.494Z"
   },
   {
    "duration": 20,
    "start_time": "2021-11-16T18:43:06.454Z"
   },
   {
    "duration": 14,
    "start_time": "2021-11-16T18:43:09.246Z"
   },
   {
    "duration": 48,
    "start_time": "2021-11-16T18:43:12.310Z"
   },
   {
    "duration": 21,
    "start_time": "2021-11-16T18:43:16.864Z"
   },
   {
    "duration": 8,
    "start_time": "2021-11-16T18:43:19.181Z"
   },
   {
    "duration": 13,
    "start_time": "2021-11-16T18:43:20.836Z"
   },
   {
    "duration": 12,
    "start_time": "2021-11-16T18:43:23.359Z"
   },
   {
    "duration": 7,
    "start_time": "2021-11-16T18:43:47.398Z"
   },
   {
    "duration": 11,
    "start_time": "2021-11-16T18:43:49.343Z"
   },
   {
    "duration": 3,
    "start_time": "2021-11-16T18:43:55.456Z"
   },
   {
    "duration": 714,
    "start_time": "2021-11-16T18:44:29.742Z"
   },
   {
    "duration": 20,
    "start_time": "2021-11-16T18:44:33.803Z"
   },
   {
    "duration": 24,
    "start_time": "2021-11-16T18:44:37.165Z"
   },
   {
    "duration": 67,
    "start_time": "2021-11-16T18:44:39.802Z"
   },
   {
    "duration": 12,
    "start_time": "2021-11-16T18:44:44.206Z"
   },
   {
    "duration": 8,
    "start_time": "2021-11-16T18:44:46.608Z"
   },
   {
    "duration": 14,
    "start_time": "2021-11-16T18:44:49.075Z"
   },
   {
    "duration": 14,
    "start_time": "2021-11-16T18:44:51.454Z"
   },
   {
    "duration": 47,
    "start_time": "2021-11-16T18:49:18.943Z"
   },
   {
    "duration": 8,
    "start_time": "2021-11-16T18:49:49.248Z"
   },
   {
    "duration": 14,
    "start_time": "2021-11-16T18:50:05.302Z"
   },
   {
    "duration": 15,
    "start_time": "2021-11-16T18:50:13.647Z"
   },
   {
    "duration": 379,
    "start_time": "2021-11-16T18:50:43.151Z"
   },
   {
    "duration": 17,
    "start_time": "2021-11-16T18:50:55.687Z"
   },
   {
    "duration": 3,
    "start_time": "2021-11-16T18:51:08.071Z"
   },
   {
    "duration": 61,
    "start_time": "2021-11-16T18:51:10.326Z"
   },
   {
    "duration": 21,
    "start_time": "2021-11-16T18:51:12.655Z"
   },
   {
    "duration": 15,
    "start_time": "2021-11-16T18:51:15.215Z"
   },
   {
    "duration": 50,
    "start_time": "2021-11-16T18:51:17.431Z"
   },
   {
    "duration": 14,
    "start_time": "2021-11-16T18:51:21.734Z"
   },
   {
    "duration": 17,
    "start_time": "2021-11-16T18:51:24.342Z"
   },
   {
    "duration": 25,
    "start_time": "2021-11-16T18:51:36.879Z"
   },
   {
    "duration": 4,
    "start_time": "2021-11-16T18:51:44.479Z"
   },
   {
    "duration": 96,
    "start_time": "2021-11-16T18:51:46.056Z"
   },
   {
    "duration": 29,
    "start_time": "2021-11-16T18:51:48.000Z"
   },
   {
    "duration": 15,
    "start_time": "2021-11-16T18:51:50.935Z"
   },
   {
    "duration": 58,
    "start_time": "2021-11-16T18:51:53.351Z"
   },
   {
    "duration": 22,
    "start_time": "2021-11-16T18:51:57.982Z"
   },
   {
    "duration": 25,
    "start_time": "2021-11-16T18:52:00.967Z"
   },
   {
    "duration": 99,
    "start_time": "2021-11-16T18:53:45.159Z"
   },
   {
    "duration": 14,
    "start_time": "2021-11-16T18:53:52.527Z"
   },
   {
    "duration": 25,
    "start_time": "2021-11-16T18:53:56.408Z"
   },
   {
    "duration": 13,
    "start_time": "2021-11-16T18:54:07.393Z"
   },
   {
    "duration": 12,
    "start_time": "2021-11-16T18:54:10.438Z"
   },
   {
    "duration": 72,
    "start_time": "2021-11-16T18:55:06.696Z"
   },
   {
    "duration": 4,
    "start_time": "2021-11-16T18:59:20.431Z"
   },
   {
    "duration": 83,
    "start_time": "2021-11-16T18:59:24.248Z"
   },
   {
    "duration": 30,
    "start_time": "2021-11-16T18:59:26.210Z"
   },
   {
    "duration": 22,
    "start_time": "2021-11-16T18:59:29.984Z"
   },
   {
    "duration": 46,
    "start_time": "2021-11-16T18:59:32.792Z"
   },
   {
    "duration": 15,
    "start_time": "2021-11-16T18:59:37.088Z"
   },
   {
    "duration": 7,
    "start_time": "2021-11-16T18:59:45.240Z"
   },
   {
    "duration": 19,
    "start_time": "2021-11-16T18:59:47.584Z"
   },
   {
    "duration": 49,
    "start_time": "2021-11-16T18:59:50.743Z"
   },
   {
    "duration": 6,
    "start_time": "2021-11-16T19:03:19.747Z"
   },
   {
    "duration": 19,
    "start_time": "2021-11-16T19:03:30.796Z"
   },
   {
    "duration": 3,
    "start_time": "2021-11-16T19:03:56.450Z"
   },
   {
    "duration": 3,
    "start_time": "2021-11-16T19:04:07.139Z"
   },
   {
    "duration": 73,
    "start_time": "2021-11-16T19:04:07.144Z"
   },
   {
    "duration": 19,
    "start_time": "2021-11-16T19:04:07.220Z"
   },
   {
    "duration": 22,
    "start_time": "2021-11-16T19:04:07.241Z"
   },
   {
    "duration": 63,
    "start_time": "2021-11-16T19:04:07.265Z"
   },
   {
    "duration": 12,
    "start_time": "2021-11-16T19:04:07.330Z"
   },
   {
    "duration": 10,
    "start_time": "2021-11-16T19:04:07.344Z"
   },
   {
    "duration": 20,
    "start_time": "2021-11-16T19:04:07.383Z"
   },
   {
    "duration": 48,
    "start_time": "2021-11-16T19:04:07.407Z"
   },
   {
    "duration": 16,
    "start_time": "2021-11-16T19:04:07.482Z"
   },
   {
    "duration": 3,
    "start_time": "2021-11-16T19:10:26.455Z"
   },
   {
    "duration": 85,
    "start_time": "2021-11-16T19:10:26.461Z"
   },
   {
    "duration": 20,
    "start_time": "2021-11-16T19:10:26.550Z"
   },
   {
    "duration": 21,
    "start_time": "2021-11-16T19:10:26.573Z"
   },
   {
    "duration": 57,
    "start_time": "2021-11-16T19:10:26.598Z"
   },
   {
    "duration": 37,
    "start_time": "2021-11-16T19:10:26.657Z"
   },
   {
    "duration": 6,
    "start_time": "2021-11-16T19:10:26.698Z"
   },
   {
    "duration": 8,
    "start_time": "2021-11-16T19:10:26.709Z"
   },
   {
    "duration": 12,
    "start_time": "2021-11-16T19:10:26.722Z"
   },
   {
    "duration": 32,
    "start_time": "2021-11-16T19:10:26.782Z"
   },
   {
    "duration": 154,
    "start_time": "2021-11-16T19:10:26.817Z"
   },
   {
    "duration": 4,
    "start_time": "2021-11-16T19:11:32.535Z"
   },
   {
    "duration": 79,
    "start_time": "2021-11-16T19:11:32.543Z"
   },
   {
    "duration": 19,
    "start_time": "2021-11-16T19:11:32.626Z"
   },
   {
    "duration": 24,
    "start_time": "2021-11-16T19:11:32.648Z"
   },
   {
    "duration": 57,
    "start_time": "2021-11-16T19:11:32.682Z"
   },
   {
    "duration": 13,
    "start_time": "2021-11-16T19:11:32.742Z"
   },
   {
    "duration": 30,
    "start_time": "2021-11-16T19:11:32.758Z"
   },
   {
    "duration": 10,
    "start_time": "2021-11-16T19:11:32.793Z"
   },
   {
    "duration": 11,
    "start_time": "2021-11-16T19:11:32.808Z"
   },
   {
    "duration": 28,
    "start_time": "2021-11-16T19:11:32.821Z"
   },
   {
    "duration": 42,
    "start_time": "2021-11-16T19:11:32.852Z"
   },
   {
    "duration": 49,
    "start_time": "2021-11-16T19:11:32.898Z"
   },
   {
    "duration": 75,
    "start_time": "2021-11-16T19:11:32.949Z"
   },
   {
    "duration": 58,
    "start_time": "2021-11-16T19:11:33.027Z"
   },
   {
    "duration": 304,
    "start_time": "2021-11-16T19:16:36.634Z"
   },
   {
    "duration": 57,
    "start_time": "2021-11-16T19:16:45.141Z"
   },
   {
    "duration": 51,
    "start_time": "2021-11-16T19:17:13.002Z"
   },
   {
    "duration": 5,
    "start_time": "2021-11-16T19:17:20.740Z"
   },
   {
    "duration": 77,
    "start_time": "2021-11-16T19:17:20.748Z"
   },
   {
    "duration": 20,
    "start_time": "2021-11-16T19:17:20.827Z"
   },
   {
    "duration": 21,
    "start_time": "2021-11-16T19:17:20.850Z"
   },
   {
    "duration": 60,
    "start_time": "2021-11-16T19:17:20.874Z"
   },
   {
    "duration": 12,
    "start_time": "2021-11-16T19:17:20.936Z"
   },
   {
    "duration": 32,
    "start_time": "2021-11-16T19:17:20.950Z"
   },
   {
    "duration": 54,
    "start_time": "2021-11-16T19:17:20.987Z"
   },
   {
    "duration": 80,
    "start_time": "2021-11-16T19:17:21.043Z"
   },
   {
    "duration": 13,
    "start_time": "2021-11-16T19:17:21.126Z"
   },
   {
    "duration": 30,
    "start_time": "2021-11-16T19:17:21.142Z"
   },
   {
    "duration": 56,
    "start_time": "2021-11-16T19:17:21.184Z"
   },
   {
    "duration": 71,
    "start_time": "2021-11-16T19:17:21.243Z"
   },
   {
    "duration": 47,
    "start_time": "2021-11-16T19:17:21.317Z"
   },
   {
    "duration": 49,
    "start_time": "2021-11-16T19:17:58.480Z"
   },
   {
    "duration": 74,
    "start_time": "2021-11-16T19:18:21.940Z"
   },
   {
    "duration": 54,
    "start_time": "2021-11-16T19:18:44.195Z"
   },
   {
    "duration": 25,
    "start_time": "2021-11-16T19:19:13.906Z"
   },
   {
    "duration": 14,
    "start_time": "2021-11-16T19:19:30.350Z"
   },
   {
    "duration": 4,
    "start_time": "2021-11-16T19:19:37.131Z"
   },
   {
    "duration": 12,
    "start_time": "2021-11-16T19:19:39.723Z"
   },
   {
    "duration": 107,
    "start_time": "2021-11-16T19:19:47.770Z"
   },
   {
    "duration": 12,
    "start_time": "2021-11-16T19:19:53.147Z"
   },
   {
    "duration": 19,
    "start_time": "2021-11-16T19:20:00.220Z"
   },
   {
    "duration": 21,
    "start_time": "2021-11-16T19:20:06.147Z"
   },
   {
    "duration": 13,
    "start_time": "2021-11-16T19:20:14.666Z"
   },
   {
    "duration": 45,
    "start_time": "2021-11-16T19:20:18.730Z"
   },
   {
    "duration": 17,
    "start_time": "2021-11-16T19:20:49.723Z"
   },
   {
    "duration": 16,
    "start_time": "2021-11-16T19:20:57.244Z"
   },
   {
    "duration": 5,
    "start_time": "2021-11-16T19:22:37.971Z"
   },
   {
    "duration": 23,
    "start_time": "2021-11-16T19:22:40.188Z"
   },
   {
    "duration": 24,
    "start_time": "2021-11-16T19:25:14.188Z"
   },
   {
    "duration": 63,
    "start_time": "2021-11-16T19:25:20.892Z"
   },
   {
    "duration": 20,
    "start_time": "2021-11-16T19:25:28.668Z"
   },
   {
    "duration": 18,
    "start_time": "2021-11-16T19:25:42.454Z"
   },
   {
    "duration": 32,
    "start_time": "2021-11-16T19:25:43.884Z"
   },
   {
    "duration": 24,
    "start_time": "2021-11-16T19:25:48.075Z"
   },
   {
    "duration": 19,
    "start_time": "2021-11-16T19:25:56.100Z"
   },
   {
    "duration": 69,
    "start_time": "2021-11-16T19:26:02.891Z"
   },
   {
    "duration": 20,
    "start_time": "2021-11-16T19:26:14.852Z"
   },
   {
    "duration": 20,
    "start_time": "2021-11-16T19:26:20.118Z"
   },
   {
    "duration": 25,
    "start_time": "2021-11-16T19:26:23.811Z"
   },
   {
    "duration": 35,
    "start_time": "2021-11-16T19:26:29.875Z"
   },
   {
    "duration": 23,
    "start_time": "2021-11-16T19:26:34.580Z"
   },
   {
    "duration": 10,
    "start_time": "2021-11-16T19:29:07.340Z"
   },
   {
    "duration": 4,
    "start_time": "2021-11-16T19:32:27.913Z"
   },
   {
    "duration": 66,
    "start_time": "2021-11-16T19:32:27.920Z"
   },
   {
    "duration": 22,
    "start_time": "2021-11-16T19:32:27.989Z"
   },
   {
    "duration": 14,
    "start_time": "2021-11-16T19:32:28.014Z"
   },
   {
    "duration": 78,
    "start_time": "2021-11-16T19:32:28.031Z"
   },
   {
    "duration": 18,
    "start_time": "2021-11-16T19:32:28.112Z"
   },
   {
    "duration": 9,
    "start_time": "2021-11-16T19:32:28.133Z"
   },
   {
    "duration": 42,
    "start_time": "2021-11-16T19:32:28.144Z"
   },
   {
    "duration": 50,
    "start_time": "2021-11-16T19:32:28.189Z"
   },
   {
    "duration": 16,
    "start_time": "2021-11-16T20:03:01.392Z"
   },
   {
    "duration": 6,
    "start_time": "2021-11-16T20:11:22.260Z"
   },
   {
    "duration": 29,
    "start_time": "2021-11-16T20:11:58.178Z"
   },
   {
    "duration": 8019,
    "start_time": "2021-11-16T20:18:01.526Z"
   },
   {
    "duration": 3,
    "start_time": "2021-11-16T20:18:25.868Z"
   },
   {
    "duration": 83,
    "start_time": "2021-11-16T20:18:25.874Z"
   },
   {
    "duration": 18,
    "start_time": "2021-11-16T20:18:25.960Z"
   },
   {
    "duration": 32,
    "start_time": "2021-11-16T20:18:25.981Z"
   },
   {
    "duration": 48,
    "start_time": "2021-11-16T20:18:26.016Z"
   },
   {
    "duration": 24,
    "start_time": "2021-11-16T20:18:26.085Z"
   },
   {
    "duration": 17,
    "start_time": "2021-11-16T20:18:26.111Z"
   },
   {
    "duration": 21,
    "start_time": "2021-11-16T20:18:26.131Z"
   },
   {
    "duration": 66,
    "start_time": "2021-11-16T20:18:26.156Z"
   },
   {
    "duration": 5,
    "start_time": "2021-11-16T20:18:26.225Z"
   },
   {
    "duration": 14,
    "start_time": "2021-11-16T20:18:26.233Z"
   },
   {
    "duration": 54,
    "start_time": "2021-11-16T20:18:26.250Z"
   },
   {
    "duration": 6,
    "start_time": "2021-11-16T20:37:05.522Z"
   },
   {
    "duration": 13,
    "start_time": "2021-11-16T20:42:16.881Z"
   },
   {
    "duration": 5,
    "start_time": "2021-11-16T20:47:49.132Z"
   },
   {
    "duration": 7,
    "start_time": "2021-11-16T20:50:30.631Z"
   },
   {
    "duration": 7,
    "start_time": "2021-11-16T20:50:42.829Z"
   },
   {
    "duration": 6,
    "start_time": "2021-11-16T20:50:47.238Z"
   },
   {
    "duration": 6,
    "start_time": "2021-11-16T20:50:51.072Z"
   },
   {
    "duration": 11,
    "start_time": "2021-11-16T20:52:39.277Z"
   },
   {
    "duration": 10,
    "start_time": "2021-11-16T20:56:42.144Z"
   },
   {
    "duration": 18,
    "start_time": "2021-11-16T21:00:00.358Z"
   },
   {
    "duration": 17,
    "start_time": "2021-11-16T21:01:09.038Z"
   },
   {
    "duration": 24,
    "start_time": "2021-11-16T21:01:13.978Z"
   },
   {
    "duration": 11,
    "start_time": "2021-11-16T21:01:18.696Z"
   },
   {
    "duration": 25,
    "start_time": "2021-11-16T21:01:21.049Z"
   },
   {
    "duration": 33,
    "start_time": "2021-11-16T21:01:33.063Z"
   },
   {
    "duration": 6,
    "start_time": "2021-11-16T21:02:56.723Z"
   },
   {
    "duration": 10,
    "start_time": "2021-11-16T21:04:40.727Z"
   },
   {
    "duration": 6,
    "start_time": "2021-11-16T21:05:11.216Z"
   },
   {
    "duration": 14,
    "start_time": "2021-11-16T21:06:33.752Z"
   },
   {
    "duration": 10,
    "start_time": "2021-11-16T21:10:56.632Z"
   },
   {
    "duration": 8,
    "start_time": "2021-11-16T21:11:41.457Z"
   },
   {
    "duration": 14,
    "start_time": "2021-11-16T21:14:44.622Z"
   },
   {
    "duration": 8585,
    "start_time": "2021-11-16T21:18:02.372Z"
   },
   {
    "duration": 2396,
    "start_time": "2021-11-16T21:18:08.564Z"
   },
   {
    "duration": 8795,
    "start_time": "2021-11-16T21:18:25.802Z"
   },
   {
    "duration": 4,
    "start_time": "2021-11-16T21:18:36.519Z"
   },
   {
    "duration": 74,
    "start_time": "2021-11-16T21:18:36.526Z"
   },
   {
    "duration": 20,
    "start_time": "2021-11-16T21:18:36.603Z"
   },
   {
    "duration": 20,
    "start_time": "2021-11-16T21:18:36.626Z"
   },
   {
    "duration": 74,
    "start_time": "2021-11-16T21:18:36.649Z"
   },
   {
    "duration": 17,
    "start_time": "2021-11-16T21:18:36.726Z"
   },
   {
    "duration": 38,
    "start_time": "2021-11-16T21:18:36.745Z"
   },
   {
    "duration": 12,
    "start_time": "2021-11-16T21:18:36.787Z"
   },
   {
    "duration": 47,
    "start_time": "2021-11-16T21:18:36.802Z"
   },
   {
    "duration": 34,
    "start_time": "2021-11-16T21:18:36.852Z"
   },
   {
    "duration": 21,
    "start_time": "2021-11-16T21:18:36.889Z"
   },
   {
    "duration": 23,
    "start_time": "2021-11-16T21:18:36.913Z"
   },
   {
    "duration": 7,
    "start_time": "2021-11-16T21:18:36.939Z"
   },
   {
    "duration": 40,
    "start_time": "2021-11-16T21:18:36.949Z"
   },
   {
    "duration": 7,
    "start_time": "2021-11-16T21:18:36.991Z"
   },
   {
    "duration": 9,
    "start_time": "2021-11-16T21:18:37.001Z"
   },
   {
    "duration": 12,
    "start_time": "2021-11-16T21:18:37.012Z"
   },
   {
    "duration": 19,
    "start_time": "2021-11-16T21:18:37.027Z"
   },
   {
    "duration": 56,
    "start_time": "2021-11-16T21:18:37.049Z"
   },
   {
    "duration": 6,
    "start_time": "2021-11-16T21:18:37.108Z"
   },
   {
    "duration": 13,
    "start_time": "2021-11-16T21:18:37.116Z"
   },
   {
    "duration": 8,
    "start_time": "2021-11-16T21:18:37.132Z"
   },
   {
    "duration": 13,
    "start_time": "2021-11-16T21:18:37.182Z"
   },
   {
    "duration": 12,
    "start_time": "2021-11-16T21:18:37.197Z"
   },
   {
    "duration": 9,
    "start_time": "2021-11-16T21:18:37.211Z"
   },
   {
    "duration": 10,
    "start_time": "2021-11-16T21:18:37.222Z"
   },
   {
    "duration": 309,
    "start_time": "2021-11-17T17:57:46.361Z"
   },
   {
    "duration": 687,
    "start_time": "2021-11-17T17:57:56.112Z"
   },
   {
    "duration": 52,
    "start_time": "2021-11-17T17:57:56.801Z"
   },
   {
    "duration": 47,
    "start_time": "2021-11-17T17:57:56.855Z"
   },
   {
    "duration": 12,
    "start_time": "2021-11-17T17:57:56.905Z"
   },
   {
    "duration": 42,
    "start_time": "2021-11-17T17:57:56.919Z"
   },
   {
    "duration": 16,
    "start_time": "2021-11-17T17:57:56.963Z"
   },
   {
    "duration": 9,
    "start_time": "2021-11-17T17:57:56.981Z"
   },
   {
    "duration": 11,
    "start_time": "2021-11-17T17:57:56.992Z"
   },
   {
    "duration": 70,
    "start_time": "2021-11-17T17:57:57.007Z"
   },
   {
    "duration": 6,
    "start_time": "2021-11-17T17:57:57.080Z"
   },
   {
    "duration": 9,
    "start_time": "2021-11-17T17:57:57.088Z"
   },
   {
    "duration": 17,
    "start_time": "2021-11-17T17:57:57.098Z"
   },
   {
    "duration": 29,
    "start_time": "2021-11-17T17:57:57.117Z"
   },
   {
    "duration": 8,
    "start_time": "2021-11-17T17:57:57.148Z"
   },
   {
    "duration": 6,
    "start_time": "2021-11-17T17:57:57.159Z"
   },
   {
    "duration": 4,
    "start_time": "2021-11-17T17:57:57.168Z"
   },
   {
    "duration": 7,
    "start_time": "2021-11-17T17:57:57.174Z"
   },
   {
    "duration": 12,
    "start_time": "2021-11-17T17:57:57.184Z"
   },
   {
    "duration": 48,
    "start_time": "2021-11-17T17:57:57.198Z"
   },
   {
    "duration": 7,
    "start_time": "2021-11-17T17:57:57.248Z"
   },
   {
    "duration": 10,
    "start_time": "2021-11-17T17:57:57.258Z"
   },
   {
    "duration": 5,
    "start_time": "2021-11-17T17:57:57.271Z"
   },
   {
    "duration": 10,
    "start_time": "2021-11-17T17:57:57.279Z"
   },
   {
    "duration": 10,
    "start_time": "2021-11-17T17:57:57.292Z"
   },
   {
    "duration": 44,
    "start_time": "2021-11-17T17:57:57.304Z"
   },
   {
    "duration": 15,
    "start_time": "2021-11-17T17:57:57.350Z"
   },
   {
    "duration": 9,
    "start_time": "2021-11-17T17:57:57.369Z"
   },
   {
    "duration": 7,
    "start_time": "2021-11-17T18:22:55.067Z"
   },
   {
    "duration": 7,
    "start_time": "2021-11-17T18:23:07.130Z"
   },
   {
    "duration": 10,
    "start_time": "2021-11-17T18:40:04.464Z"
   },
   {
    "duration": 52,
    "start_time": "2021-11-17T18:40:04.477Z"
   },
   {
    "duration": 11,
    "start_time": "2021-11-17T18:40:04.531Z"
   },
   {
    "duration": 15,
    "start_time": "2021-11-17T18:40:04.544Z"
   },
   {
    "duration": 33,
    "start_time": "2021-11-17T18:40:04.561Z"
   },
   {
    "duration": 9,
    "start_time": "2021-11-17T18:40:04.596Z"
   },
   {
    "duration": 10,
    "start_time": "2021-11-17T18:40:04.607Z"
   },
   {
    "duration": 33,
    "start_time": "2021-11-17T18:40:04.618Z"
   },
   {
    "duration": 34,
    "start_time": "2021-11-17T18:40:04.655Z"
   },
   {
    "duration": 4,
    "start_time": "2021-11-17T18:40:04.692Z"
   },
   {
    "duration": 16,
    "start_time": "2021-11-17T18:40:04.697Z"
   },
   {
    "duration": 17,
    "start_time": "2021-11-17T18:40:04.715Z"
   },
   {
    "duration": 13,
    "start_time": "2021-11-17T18:40:04.734Z"
   },
   {
    "duration": 11,
    "start_time": "2021-11-17T18:40:04.749Z"
   },
   {
    "duration": 14,
    "start_time": "2021-11-17T18:40:04.761Z"
   },
   {
    "duration": 16,
    "start_time": "2021-11-17T18:40:04.776Z"
   },
   {
    "duration": 21,
    "start_time": "2021-11-17T18:40:04.794Z"
   },
   {
    "duration": 10,
    "start_time": "2021-11-17T18:40:04.818Z"
   },
   {
    "duration": 29,
    "start_time": "2021-11-17T18:40:04.830Z"
   },
   {
    "duration": 5,
    "start_time": "2021-11-17T18:40:04.861Z"
   },
   {
    "duration": 10,
    "start_time": "2021-11-17T18:40:04.868Z"
   },
   {
    "duration": 15,
    "start_time": "2021-11-17T18:40:04.880Z"
   },
   {
    "duration": 9,
    "start_time": "2021-11-17T18:40:04.897Z"
   },
   {
    "duration": 9,
    "start_time": "2021-11-17T18:40:04.908Z"
   },
   {
    "duration": 29,
    "start_time": "2021-11-17T18:40:04.919Z"
   },
   {
    "duration": 20,
    "start_time": "2021-11-17T18:40:04.950Z"
   },
   {
    "duration": 6,
    "start_time": "2021-11-17T18:40:04.974Z"
   },
   {
    "duration": 290,
    "start_time": "2021-11-17T18:55:34.271Z"
   },
   {
    "duration": 6,
    "start_time": "2021-11-17T18:55:53.607Z"
   },
   {
    "duration": 5,
    "start_time": "2021-11-17T18:57:57.231Z"
   },
   {
    "duration": 1166,
    "start_time": "2021-11-17T19:28:29.044Z"
   },
   {
    "duration": 28,
    "start_time": "2021-11-17T19:28:40.049Z"
   },
   {
    "duration": 50,
    "start_time": "2021-11-17T19:28:40.079Z"
   },
   {
    "duration": 21,
    "start_time": "2021-11-17T19:28:40.145Z"
   },
   {
    "duration": 10,
    "start_time": "2021-11-17T19:28:40.168Z"
   },
   {
    "duration": 30,
    "start_time": "2021-11-17T19:28:40.180Z"
   },
   {
    "duration": 9,
    "start_time": "2021-11-17T19:28:40.212Z"
   },
   {
    "duration": 10,
    "start_time": "2021-11-17T19:28:40.248Z"
   },
   {
    "duration": 9,
    "start_time": "2021-11-17T19:28:40.261Z"
   },
   {
    "duration": 30,
    "start_time": "2021-11-17T19:28:40.272Z"
   },
   {
    "duration": 4,
    "start_time": "2021-11-17T19:28:40.303Z"
   },
   {
    "duration": 8,
    "start_time": "2021-11-17T19:28:40.308Z"
   },
   {
    "duration": 38,
    "start_time": "2021-11-17T19:28:40.317Z"
   },
   {
    "duration": 9,
    "start_time": "2021-11-17T19:28:40.357Z"
   },
   {
    "duration": 23,
    "start_time": "2021-11-17T19:28:40.368Z"
   },
   {
    "duration": 16,
    "start_time": "2021-11-17T19:28:40.393Z"
   },
   {
    "duration": 8,
    "start_time": "2021-11-17T19:28:40.411Z"
   },
   {
    "duration": 8,
    "start_time": "2021-11-17T19:28:40.420Z"
   },
   {
    "duration": 10,
    "start_time": "2021-11-17T19:28:40.430Z"
   },
   {
    "duration": 24,
    "start_time": "2021-11-17T19:28:40.442Z"
   },
   {
    "duration": 4,
    "start_time": "2021-11-17T19:28:40.468Z"
   },
   {
    "duration": 9,
    "start_time": "2021-11-17T19:28:40.473Z"
   },
   {
    "duration": 9,
    "start_time": "2021-11-17T19:28:40.484Z"
   },
   {
    "duration": 10,
    "start_time": "2021-11-17T19:28:40.495Z"
   },
   {
    "duration": 7,
    "start_time": "2021-11-17T19:28:40.507Z"
   },
   {
    "duration": 6,
    "start_time": "2021-11-17T19:28:40.516Z"
   },
   {
    "duration": 39,
    "start_time": "2021-11-17T19:28:40.524Z"
   },
   {
    "duration": 5,
    "start_time": "2021-11-17T19:28:40.565Z"
   },
   {
    "duration": 691,
    "start_time": "2021-11-17T19:28:40.572Z"
   },
   {
    "duration": 11,
    "start_time": "2021-11-17T19:29:27.059Z"
   },
   {
    "duration": 9,
    "start_time": "2021-11-17T19:29:47.108Z"
   },
   {
    "duration": 8,
    "start_time": "2021-11-17T19:30:01.809Z"
   },
   {
    "duration": 8,
    "start_time": "2021-11-17T19:30:07.026Z"
   },
   {
    "duration": 9,
    "start_time": "2021-11-17T19:30:20.186Z"
   },
   {
    "duration": 11,
    "start_time": "2021-11-17T19:30:28.739Z"
   },
   {
    "duration": 4,
    "start_time": "2021-11-17T19:33:53.475Z"
   },
   {
    "duration": 6,
    "start_time": "2021-11-17T19:34:16.481Z"
   },
   {
    "duration": 252,
    "start_time": "2021-11-17T19:43:51.518Z"
   },
   {
    "duration": 8,
    "start_time": "2021-11-17T19:44:51.311Z"
   },
   {
    "duration": 8,
    "start_time": "2021-11-17T19:45:27.582Z"
   },
   {
    "duration": 11,
    "start_time": "2021-11-17T19:45:40.236Z"
   },
   {
    "duration": 14,
    "start_time": "2021-11-17T19:46:19.718Z"
   },
   {
    "duration": 9,
    "start_time": "2021-11-17T19:46:33.053Z"
   },
   {
    "duration": 12,
    "start_time": "2021-11-17T19:46:48.253Z"
   },
   {
    "duration": 285,
    "start_time": "2021-11-17T19:47:13.222Z"
   },
   {
    "duration": 357,
    "start_time": "2021-11-17T19:47:21.019Z"
   },
   {
    "duration": 266,
    "start_time": "2021-11-17T19:47:25.421Z"
   },
   {
    "duration": 12,
    "start_time": "2021-11-17T19:47:35.820Z"
   },
   {
    "duration": 13,
    "start_time": "2021-11-17T19:52:01.214Z"
   },
   {
    "duration": 9,
    "start_time": "2021-11-17T19:52:08.781Z"
   },
   {
    "duration": 8,
    "start_time": "2021-11-17T19:52:14.057Z"
   },
   {
    "duration": 10,
    "start_time": "2021-11-17T19:52:41.256Z"
   },
   {
    "duration": 262,
    "start_time": "2021-11-17T19:56:14.415Z"
   },
   {
    "duration": 11,
    "start_time": "2021-11-17T19:56:19.537Z"
   },
   {
    "duration": 280,
    "start_time": "2021-11-17T19:56:43.528Z"
   },
   {
    "duration": 10,
    "start_time": "2021-11-17T19:56:53.085Z"
   },
   {
    "duration": 278,
    "start_time": "2021-11-17T19:57:19.646Z"
   },
   {
    "duration": 4,
    "start_time": "2021-11-17T19:57:37.152Z"
   },
   {
    "duration": 64,
    "start_time": "2021-11-17T19:57:37.158Z"
   },
   {
    "duration": 11,
    "start_time": "2021-11-17T19:57:37.224Z"
   },
   {
    "duration": 24,
    "start_time": "2021-11-17T19:57:37.237Z"
   },
   {
    "duration": 34,
    "start_time": "2021-11-17T19:57:37.262Z"
   },
   {
    "duration": 8,
    "start_time": "2021-11-17T19:57:37.298Z"
   },
   {
    "duration": 19,
    "start_time": "2021-11-17T19:57:37.309Z"
   },
   {
    "duration": 34,
    "start_time": "2021-11-17T19:57:37.330Z"
   },
   {
    "duration": 35,
    "start_time": "2021-11-17T19:57:37.366Z"
   },
   {
    "duration": 4,
    "start_time": "2021-11-17T19:57:37.403Z"
   },
   {
    "duration": 8,
    "start_time": "2021-11-17T19:57:37.408Z"
   },
   {
    "duration": 19,
    "start_time": "2021-11-17T19:57:37.418Z"
   },
   {
    "duration": 19,
    "start_time": "2021-11-17T19:57:37.438Z"
   },
   {
    "duration": 25,
    "start_time": "2021-11-17T19:57:37.459Z"
   },
   {
    "duration": 19,
    "start_time": "2021-11-17T19:57:37.486Z"
   },
   {
    "duration": 17,
    "start_time": "2021-11-17T19:57:37.506Z"
   },
   {
    "duration": 32,
    "start_time": "2021-11-17T19:57:37.525Z"
   },
   {
    "duration": 17,
    "start_time": "2021-11-17T19:57:37.559Z"
   },
   {
    "duration": 25,
    "start_time": "2021-11-17T19:57:37.579Z"
   },
   {
    "duration": 9,
    "start_time": "2021-11-17T19:57:37.607Z"
   },
   {
    "duration": 14,
    "start_time": "2021-11-17T19:57:37.618Z"
   },
   {
    "duration": 18,
    "start_time": "2021-11-17T19:57:37.634Z"
   },
   {
    "duration": 16,
    "start_time": "2021-11-17T19:57:37.654Z"
   },
   {
    "duration": 18,
    "start_time": "2021-11-17T19:57:37.673Z"
   },
   {
    "duration": 15,
    "start_time": "2021-11-17T19:57:37.693Z"
   },
   {
    "duration": 19,
    "start_time": "2021-11-17T19:57:37.710Z"
   },
   {
    "duration": 7,
    "start_time": "2021-11-17T19:57:37.730Z"
   },
   {
    "duration": 312,
    "start_time": "2021-11-17T19:57:37.738Z"
   },
   {
    "duration": 5,
    "start_time": "2021-11-17T19:58:52.620Z"
   },
   {
    "duration": 15,
    "start_time": "2021-11-17T19:59:04.953Z"
   },
   {
    "duration": 6,
    "start_time": "2021-11-17T19:59:26.925Z"
   },
   {
    "duration": 259,
    "start_time": "2021-11-17T20:00:44.709Z"
   },
   {
    "duration": 7,
    "start_time": "2021-11-17T20:04:34.941Z"
   },
   {
    "duration": 5,
    "start_time": "2021-11-17T20:04:48.541Z"
   },
   {
    "duration": 8,
    "start_time": "2021-11-17T20:04:59.352Z"
   },
   {
    "duration": 4,
    "start_time": "2021-11-17T20:05:12.094Z"
   },
   {
    "duration": 247,
    "start_time": "2021-11-17T20:05:16.888Z"
   },
   {
    "duration": 700,
    "start_time": "2021-11-17T20:05:24.722Z"
   },
   {
    "duration": 18,
    "start_time": "2021-11-17T20:05:30.246Z"
   },
   {
    "duration": 11,
    "start_time": "2021-11-17T20:14:01.368Z"
   },
   {
    "duration": 4,
    "start_time": "2021-11-17T20:28:51.696Z"
   },
   {
    "duration": 10,
    "start_time": "2021-11-17T20:29:05.593Z"
   },
   {
    "duration": 10,
    "start_time": "2021-11-17T20:29:35.414Z"
   },
   {
    "duration": 636,
    "start_time": "2021-11-17T20:39:45.105Z"
   },
   {
    "duration": 9,
    "start_time": "2021-11-17T20:40:37.355Z"
   },
   {
    "duration": 4,
    "start_time": "2021-11-17T20:41:04.214Z"
   },
   {
    "duration": 3,
    "start_time": "2021-11-17T20:41:19.930Z"
   },
   {
    "duration": 41,
    "start_time": "2021-11-17T20:41:57.307Z"
   },
   {
    "duration": 294,
    "start_time": "2021-11-17T20:46:55.225Z"
   },
   {
    "duration": 3,
    "start_time": "2021-11-17T20:47:22.799Z"
   },
   {
    "duration": 83,
    "start_time": "2021-11-17T20:47:33.321Z"
   },
   {
    "duration": 5,
    "start_time": "2021-11-17T20:47:39.661Z"
   },
   {
    "duration": 9,
    "start_time": "2021-11-17T20:48:14.757Z"
   },
   {
    "duration": 254,
    "start_time": "2021-11-17T20:48:26.459Z"
   },
   {
    "duration": 259,
    "start_time": "2021-11-17T20:51:26.418Z"
   },
   {
    "duration": 892,
    "start_time": "2021-11-17T20:51:25.789Z"
   },
   {
    "duration": 878,
    "start_time": "2021-11-17T20:51:25.804Z"
   },
   {
    "duration": 864,
    "start_time": "2021-11-17T20:51:25.820Z"
   },
   {
    "duration": 863,
    "start_time": "2021-11-17T20:51:25.822Z"
   },
   {
    "duration": 862,
    "start_time": "2021-11-17T20:51:25.824Z"
   },
   {
    "duration": 858,
    "start_time": "2021-11-17T20:51:25.830Z"
   },
   {
    "duration": 857,
    "start_time": "2021-11-17T20:51:25.832Z"
   },
   {
    "duration": 851,
    "start_time": "2021-11-17T20:51:25.839Z"
   },
   {
    "duration": 851,
    "start_time": "2021-11-17T20:51:25.841Z"
   },
   {
    "duration": 846,
    "start_time": "2021-11-17T20:51:25.847Z"
   },
   {
    "duration": 844,
    "start_time": "2021-11-17T20:51:25.850Z"
   },
   {
    "duration": 842,
    "start_time": "2021-11-17T20:51:25.854Z"
   },
   {
    "duration": 838,
    "start_time": "2021-11-17T20:51:25.859Z"
   },
   {
    "duration": 833,
    "start_time": "2021-11-17T20:51:25.866Z"
   },
   {
    "duration": 832,
    "start_time": "2021-11-17T20:51:25.868Z"
   },
   {
    "duration": 825,
    "start_time": "2021-11-17T20:51:25.876Z"
   },
   {
    "duration": 820,
    "start_time": "2021-11-17T20:51:25.883Z"
   },
   {
    "duration": 819,
    "start_time": "2021-11-17T20:51:25.885Z"
   },
   {
    "duration": 818,
    "start_time": "2021-11-17T20:51:25.888Z"
   },
   {
    "duration": 816,
    "start_time": "2021-11-17T20:51:25.891Z"
   },
   {
    "duration": 812,
    "start_time": "2021-11-17T20:51:25.897Z"
   },
   {
    "duration": 811,
    "start_time": "2021-11-17T20:51:25.899Z"
   },
   {
    "duration": 811,
    "start_time": "2021-11-17T20:51:25.901Z"
   },
   {
    "duration": 810,
    "start_time": "2021-11-17T20:51:25.903Z"
   },
   {
    "duration": 809,
    "start_time": "2021-11-17T20:51:25.906Z"
   },
   {
    "duration": 807,
    "start_time": "2021-11-17T20:51:25.909Z"
   },
   {
    "duration": 801,
    "start_time": "2021-11-17T20:51:25.916Z"
   },
   {
    "duration": 801,
    "start_time": "2021-11-17T20:51:25.918Z"
   },
   {
    "duration": 798,
    "start_time": "2021-11-17T20:51:25.922Z"
   },
   {
    "duration": 796,
    "start_time": "2021-11-17T20:51:25.925Z"
   },
   {
    "duration": 262,
    "start_time": "2021-11-17T20:51:49.377Z"
   },
   {
    "duration": 880,
    "start_time": "2021-11-17T20:51:48.761Z"
   },
   {
    "duration": 876,
    "start_time": "2021-11-17T20:51:48.766Z"
   },
   {
    "duration": 867,
    "start_time": "2021-11-17T20:51:48.776Z"
   },
   {
    "duration": 866,
    "start_time": "2021-11-17T20:51:48.778Z"
   },
   {
    "duration": 865,
    "start_time": "2021-11-17T20:51:48.780Z"
   },
   {
    "duration": 864,
    "start_time": "2021-11-17T20:51:48.782Z"
   },
   {
    "duration": 862,
    "start_time": "2021-11-17T20:51:48.784Z"
   },
   {
    "duration": 859,
    "start_time": "2021-11-17T20:51:48.788Z"
   },
   {
    "duration": 857,
    "start_time": "2021-11-17T20:51:48.791Z"
   },
   {
    "duration": 856,
    "start_time": "2021-11-17T20:51:48.793Z"
   },
   {
    "duration": 855,
    "start_time": "2021-11-17T20:51:48.795Z"
   },
   {
    "duration": 854,
    "start_time": "2021-11-17T20:51:48.797Z"
   },
   {
    "duration": 852,
    "start_time": "2021-11-17T20:51:48.799Z"
   },
   {
    "duration": 850,
    "start_time": "2021-11-17T20:51:48.802Z"
   },
   {
    "duration": 848,
    "start_time": "2021-11-17T20:51:48.805Z"
   },
   {
    "duration": 841,
    "start_time": "2021-11-17T20:51:48.813Z"
   },
   {
    "duration": 840,
    "start_time": "2021-11-17T20:51:48.815Z"
   },
   {
    "duration": 839,
    "start_time": "2021-11-17T20:51:48.817Z"
   },
   {
    "duration": 837,
    "start_time": "2021-11-17T20:51:48.820Z"
   },
   {
    "duration": 835,
    "start_time": "2021-11-17T20:51:48.822Z"
   },
   {
    "duration": 834,
    "start_time": "2021-11-17T20:51:48.824Z"
   },
   {
    "duration": 833,
    "start_time": "2021-11-17T20:51:48.826Z"
   },
   {
    "duration": 832,
    "start_time": "2021-11-17T20:51:48.828Z"
   },
   {
    "duration": 831,
    "start_time": "2021-11-17T20:51:48.830Z"
   },
   {
    "duration": 830,
    "start_time": "2021-11-17T20:51:48.832Z"
   },
   {
    "duration": 829,
    "start_time": "2021-11-17T20:51:48.834Z"
   },
   {
    "duration": 827,
    "start_time": "2021-11-17T20:51:48.837Z"
   },
   {
    "duration": 826,
    "start_time": "2021-11-17T20:51:48.839Z"
   },
   {
    "duration": 824,
    "start_time": "2021-11-17T20:51:48.841Z"
   },
   {
    "duration": 823,
    "start_time": "2021-11-17T20:51:48.843Z"
   },
   {
    "duration": 3,
    "start_time": "2021-11-17T20:52:15.898Z"
   },
   {
    "duration": 67,
    "start_time": "2021-11-17T20:52:15.903Z"
   },
   {
    "duration": 12,
    "start_time": "2021-11-17T20:52:15.972Z"
   },
   {
    "duration": 14,
    "start_time": "2021-11-17T20:52:15.986Z"
   },
   {
    "duration": 53,
    "start_time": "2021-11-17T20:52:16.002Z"
   },
   {
    "duration": 8,
    "start_time": "2021-11-17T20:52:16.057Z"
   },
   {
    "duration": 10,
    "start_time": "2021-11-17T20:52:16.067Z"
   },
   {
    "duration": 9,
    "start_time": "2021-11-17T20:52:16.078Z"
   },
   {
    "duration": 56,
    "start_time": "2021-11-17T20:52:16.089Z"
   },
   {
    "duration": 4,
    "start_time": "2021-11-17T20:52:16.147Z"
   },
   {
    "duration": 8,
    "start_time": "2021-11-17T20:52:16.153Z"
   },
   {
    "duration": 11,
    "start_time": "2021-11-17T20:52:16.163Z"
   },
   {
    "duration": 7,
    "start_time": "2021-11-17T20:52:16.175Z"
   },
   {
    "duration": 12,
    "start_time": "2021-11-17T20:52:16.183Z"
   },
   {
    "duration": 10,
    "start_time": "2021-11-17T20:52:16.196Z"
   },
   {
    "duration": 37,
    "start_time": "2021-11-17T20:52:16.208Z"
   },
   {
    "duration": 6,
    "start_time": "2021-11-17T20:52:16.246Z"
   },
   {
    "duration": 10,
    "start_time": "2021-11-17T20:52:16.253Z"
   },
   {
    "duration": 16,
    "start_time": "2021-11-17T20:52:16.264Z"
   },
   {
    "duration": 4,
    "start_time": "2021-11-17T20:52:16.281Z"
   },
   {
    "duration": 10,
    "start_time": "2021-11-17T20:52:16.287Z"
   },
   {
    "duration": 8,
    "start_time": "2021-11-17T20:52:16.298Z"
   },
   {
    "duration": 41,
    "start_time": "2021-11-17T20:52:16.308Z"
   },
   {
    "duration": 8,
    "start_time": "2021-11-17T20:52:16.351Z"
   },
   {
    "duration": 9,
    "start_time": "2021-11-17T20:52:16.361Z"
   },
   {
    "duration": 16,
    "start_time": "2021-11-17T20:52:16.372Z"
   },
   {
    "duration": 6,
    "start_time": "2021-11-17T20:52:16.391Z"
   },
   {
    "duration": 252,
    "start_time": "2021-11-17T20:52:16.398Z"
   },
   {
    "duration": 886,
    "start_time": "2021-11-17T20:52:15.766Z"
   },
   {
    "duration": 885,
    "start_time": "2021-11-17T20:52:15.769Z"
   },
   {
    "duration": 883,
    "start_time": "2021-11-17T20:52:15.772Z"
   },
   {
    "duration": 651,
    "start_time": "2021-11-17T20:52:43.668Z"
   },
   {
    "duration": 267,
    "start_time": "2021-11-17T20:53:40.005Z"
   },
   {
    "duration": 469,
    "start_time": "2021-11-17T20:53:48.578Z"
   },
   {
    "duration": 4,
    "start_time": "2021-11-17T20:54:05.164Z"
   },
   {
    "duration": 8,
    "start_time": "2021-11-17T20:54:57.364Z"
   },
   {
    "duration": 6,
    "start_time": "2021-11-17T20:56:24.379Z"
   },
   {
    "duration": 6,
    "start_time": "2021-11-17T20:56:40.612Z"
   },
   {
    "duration": 6,
    "start_time": "2021-11-17T20:57:13.676Z"
   },
   {
    "duration": 5,
    "start_time": "2021-11-17T20:58:03.670Z"
   },
   {
    "duration": 5,
    "start_time": "2021-11-17T20:58:20.268Z"
   },
   {
    "duration": 5,
    "start_time": "2021-11-17T20:58:27.620Z"
   },
   {
    "duration": 2,
    "start_time": "2021-11-17T20:59:32.855Z"
   },
   {
    "duration": 3,
    "start_time": "2021-11-17T20:59:59.683Z"
   },
   {
    "duration": 5,
    "start_time": "2021-11-17T21:00:13.132Z"
   },
   {
    "duration": 6,
    "start_time": "2021-11-17T21:00:23.814Z"
   },
   {
    "duration": 5,
    "start_time": "2021-11-17T21:00:52.507Z"
   },
   {
    "duration": 5,
    "start_time": "2021-11-17T21:02:48.581Z"
   },
   {
    "duration": 5,
    "start_time": "2021-11-17T21:02:58.305Z"
   },
   {
    "duration": 12,
    "start_time": "2021-11-17T21:03:22.532Z"
   },
   {
    "duration": 14,
    "start_time": "2021-11-17T21:03:26.345Z"
   },
   {
    "duration": 7,
    "start_time": "2021-11-17T21:03:37.399Z"
   },
   {
    "duration": 4,
    "start_time": "2021-11-17T21:04:31.534Z"
   },
   {
    "duration": 3,
    "start_time": "2021-11-17T21:05:01.036Z"
   },
   {
    "duration": 10,
    "start_time": "2021-11-17T21:05:04.239Z"
   },
   {
    "duration": 4,
    "start_time": "2021-11-17T21:12:07.455Z"
   },
   {
    "duration": 5,
    "start_time": "2021-11-17T21:13:04.030Z"
   },
   {
    "duration": 4,
    "start_time": "2021-11-17T21:16:24.127Z"
   },
   {
    "duration": 5,
    "start_time": "2021-11-17T21:16:50.830Z"
   },
   {
    "duration": 5,
    "start_time": "2021-11-17T21:17:08.087Z"
   },
   {
    "duration": 5,
    "start_time": "2021-11-17T21:17:10.127Z"
   },
   {
    "duration": 7,
    "start_time": "2021-11-17T21:17:14.479Z"
   },
   {
    "duration": 4,
    "start_time": "2021-11-17T21:17:15.938Z"
   },
   {
    "duration": 4,
    "start_time": "2021-11-17T21:17:17.856Z"
   },
   {
    "duration": 251,
    "start_time": "2021-11-17T21:17:32.776Z"
   },
   {
    "duration": 4,
    "start_time": "2021-11-17T21:17:48.402Z"
   },
   {
    "duration": 5,
    "start_time": "2021-11-17T21:19:56.297Z"
   },
   {
    "duration": 4,
    "start_time": "2021-11-17T21:21:25.448Z"
   },
   {
    "duration": 5,
    "start_time": "2021-11-17T21:21:39.704Z"
   },
   {
    "duration": 266,
    "start_time": "2021-11-17T21:22:12.279Z"
   },
   {
    "duration": 268,
    "start_time": "2021-11-17T21:22:29.319Z"
   },
   {
    "duration": 274,
    "start_time": "2021-11-17T21:22:34.898Z"
   },
   {
    "duration": 6,
    "start_time": "2021-11-17T21:22:42.135Z"
   },
   {
    "duration": 1370,
    "start_time": "2021-11-17T21:24:14.017Z"
   },
   {
    "duration": 4,
    "start_time": "2021-11-17T21:24:28.599Z"
   },
   {
    "duration": 4,
    "start_time": "2021-11-17T21:30:22.922Z"
   },
   {
    "duration": 36,
    "start_time": "2021-11-17T21:30:24.881Z"
   },
   {
    "duration": 6,
    "start_time": "2021-11-17T21:31:02.192Z"
   },
   {
    "duration": 271,
    "start_time": "2021-11-17T21:32:35.729Z"
   },
   {
    "duration": 5,
    "start_time": "2021-11-17T21:32:38.345Z"
   },
   {
    "duration": 8,
    "start_time": "2021-11-17T21:33:12.059Z"
   },
   {
    "duration": 5,
    "start_time": "2021-11-17T21:33:37.576Z"
   },
   {
    "duration": 14,
    "start_time": "2021-11-17T21:34:47.131Z"
   },
   {
    "duration": 8,
    "start_time": "2021-11-17T21:43:54.722Z"
   },
   {
    "duration": 9,
    "start_time": "2021-11-17T21:44:11.449Z"
   },
   {
    "duration": 7,
    "start_time": "2021-11-17T21:45:36.684Z"
   },
   {
    "duration": 4,
    "start_time": "2021-11-17T21:47:25.499Z"
   },
   {
    "duration": 10,
    "start_time": "2021-11-17T21:48:25.539Z"
   },
   {
    "duration": 250,
    "start_time": "2021-11-17T21:48:27.628Z"
   },
   {
    "duration": 15,
    "start_time": "2021-11-17T21:48:35.956Z"
   },
   {
    "duration": 93,
    "start_time": "2021-11-17T21:55:09.628Z"
   },
   {
    "duration": 3,
    "start_time": "2021-11-17T21:55:25.213Z"
   },
   {
    "duration": 2,
    "start_time": "2021-11-17T21:55:55.030Z"
   },
   {
    "duration": 5,
    "start_time": "2021-11-17T21:56:13.173Z"
   },
   {
    "duration": 6631,
    "start_time": "2021-11-17T21:56:58.981Z"
   },
   {
    "duration": 1816,
    "start_time": "2021-11-17T21:57:31.153Z"
   },
   {
    "duration": 2,
    "start_time": "2021-11-17T21:57:39.884Z"
   },
   {
    "duration": 257,
    "start_time": "2021-11-17T21:57:42.853Z"
   },
   {
    "duration": 250,
    "start_time": "2021-11-17T21:57:49.365Z"
   },
   {
    "duration": 331,
    "start_time": "2021-11-17T21:58:40.542Z"
   },
   {
    "duration": 2,
    "start_time": "2021-11-17T21:58:47.973Z"
   },
   {
    "duration": 253,
    "start_time": "2021-11-17T21:58:52.909Z"
   },
   {
    "duration": 3,
    "start_time": "2021-11-17T21:59:01.022Z"
   },
   {
    "duration": 255,
    "start_time": "2021-11-17T21:59:03.103Z"
   },
   {
    "duration": 1806,
    "start_time": "2021-11-17T21:59:12.797Z"
   },
   {
    "duration": 3,
    "start_time": "2021-11-17T21:59:25.030Z"
   },
   {
    "duration": 4,
    "start_time": "2021-11-17T22:01:08.654Z"
   },
   {
    "duration": 4,
    "start_time": "2021-11-17T22:01:22.746Z"
   },
   {
    "duration": 7,
    "start_time": "2021-11-17T22:01:24.439Z"
   },
   {
    "duration": 4,
    "start_time": "2021-11-17T22:04:20.389Z"
   },
   {
    "duration": 8,
    "start_time": "2021-11-17T22:04:21.886Z"
   },
   {
    "duration": 5,
    "start_time": "2021-11-17T22:07:05.183Z"
   },
   {
    "duration": 9,
    "start_time": "2021-11-17T22:07:06.536Z"
   },
   {
    "duration": 10,
    "start_time": "2021-11-17T22:07:21.936Z"
   },
   {
    "duration": 11,
    "start_time": "2021-11-17T22:07:34.408Z"
   },
   {
    "duration": 8,
    "start_time": "2021-11-17T22:07:41.152Z"
   },
   {
    "duration": 324,
    "start_time": "2021-11-18T18:47:10.616Z"
   },
   {
    "duration": 789,
    "start_time": "2021-11-18T18:47:21.934Z"
   },
   {
    "duration": 164,
    "start_time": "2021-11-18T18:47:22.725Z"
   },
   {
    "duration": 29,
    "start_time": "2021-11-18T18:47:22.892Z"
   },
   {
    "duration": 15,
    "start_time": "2021-11-18T18:47:22.924Z"
   },
   {
    "duration": 68,
    "start_time": "2021-11-18T18:47:22.942Z"
   },
   {
    "duration": 12,
    "start_time": "2021-11-18T18:47:23.013Z"
   },
   {
    "duration": 44,
    "start_time": "2021-11-18T18:47:23.028Z"
   },
   {
    "duration": 14,
    "start_time": "2021-11-18T18:47:23.076Z"
   },
   {
    "duration": 101,
    "start_time": "2021-11-18T18:47:23.094Z"
   },
   {
    "duration": 9,
    "start_time": "2021-11-18T18:47:23.197Z"
   },
   {
    "duration": 8,
    "start_time": "2021-11-18T18:47:23.208Z"
   },
   {
    "duration": 22,
    "start_time": "2021-11-18T18:47:23.218Z"
   },
   {
    "duration": 6,
    "start_time": "2021-11-18T18:47:23.267Z"
   },
   {
    "duration": 10,
    "start_time": "2021-11-18T18:47:23.276Z"
   },
   {
    "duration": 6,
    "start_time": "2021-11-18T18:47:23.288Z"
   },
   {
    "duration": 12,
    "start_time": "2021-11-18T18:47:23.297Z"
   },
   {
    "duration": 12,
    "start_time": "2021-11-18T18:47:23.311Z"
   },
   {
    "duration": 47,
    "start_time": "2021-11-18T18:47:23.326Z"
   },
   {
    "duration": 22,
    "start_time": "2021-11-18T18:47:23.376Z"
   },
   {
    "duration": 6,
    "start_time": "2021-11-18T18:47:23.401Z"
   },
   {
    "duration": 12,
    "start_time": "2021-11-18T18:47:23.410Z"
   },
   {
    "duration": 49,
    "start_time": "2021-11-18T18:47:23.425Z"
   },
   {
    "duration": 10,
    "start_time": "2021-11-18T18:47:23.479Z"
   },
   {
    "duration": 14,
    "start_time": "2021-11-18T18:47:23.491Z"
   },
   {
    "duration": 7,
    "start_time": "2021-11-18T18:47:23.508Z"
   },
   {
    "duration": 75,
    "start_time": "2021-11-18T18:47:23.518Z"
   },
   {
    "duration": 12,
    "start_time": "2021-11-18T18:47:23.596Z"
   },
   {
    "duration": 950,
    "start_time": "2021-11-18T18:47:23.611Z"
   },
   {
    "duration": 6,
    "start_time": "2021-11-18T18:47:24.568Z"
   },
   {
    "duration": 9,
    "start_time": "2021-11-18T18:47:24.577Z"
   },
   {
    "duration": 8,
    "start_time": "2021-11-18T18:47:24.588Z"
   },
   {
    "duration": 8,
    "start_time": "2021-11-18T18:47:24.598Z"
   },
   {
    "duration": 6,
    "start_time": "2021-11-18T18:47:24.608Z"
   },
   {
    "duration": 320,
    "start_time": "2021-11-18T18:47:24.616Z"
   },
   {
    "duration": 7,
    "start_time": "2021-11-18T18:47:24.938Z"
   },
   {
    "duration": 33,
    "start_time": "2021-11-18T18:47:24.948Z"
   },
   {
    "duration": 12,
    "start_time": "2021-11-18T18:47:24.984Z"
   },
   {
    "duration": 5,
    "start_time": "2021-11-18T18:47:24.998Z"
   },
   {
    "duration": 15,
    "start_time": "2021-11-18T18:47:25.005Z"
   },
   {
    "duration": 58,
    "start_time": "2021-11-18T18:47:25.023Z"
   },
   {
    "duration": 9,
    "start_time": "2021-11-18T18:47:25.083Z"
   },
   {
    "duration": 15,
    "start_time": "2021-11-18T18:47:25.094Z"
   },
   {
    "duration": 14,
    "start_time": "2021-11-18T18:47:25.112Z"
   },
   {
    "duration": 82,
    "start_time": "2021-11-18T18:47:25.128Z"
   },
   {
    "duration": 10,
    "start_time": "2021-11-18T18:51:14.282Z"
   },
   {
    "duration": 8,
    "start_time": "2021-11-18T18:52:49.715Z"
   },
   {
    "duration": 9,
    "start_time": "2021-11-18T18:52:59.332Z"
   },
   {
    "duration": 3,
    "start_time": "2021-11-18T18:53:16.217Z"
   },
   {
    "duration": 6,
    "start_time": "2021-11-18T18:53:30.809Z"
   },
   {
    "duration": 10,
    "start_time": "2021-11-18T18:54:47.377Z"
   },
   {
    "duration": 39,
    "start_time": "2021-11-18T18:55:21.489Z"
   },
   {
    "duration": 27,
    "start_time": "2021-11-18T18:55:55.593Z"
   },
   {
    "duration": 8,
    "start_time": "2021-11-18T18:56:14.754Z"
   },
   {
    "duration": 8,
    "start_time": "2021-11-18T19:03:37.714Z"
   },
   {
    "duration": 12,
    "start_time": "2021-11-18T19:04:06.220Z"
   },
   {
    "duration": 13,
    "start_time": "2021-11-18T19:04:12.466Z"
   },
   {
    "duration": 89,
    "start_time": "2021-11-18T19:26:33.004Z"
   },
   {
    "duration": 12,
    "start_time": "2021-11-18T19:26:39.372Z"
   },
   {
    "duration": 10,
    "start_time": "2021-11-18T19:29:17.069Z"
   },
   {
    "duration": 8,
    "start_time": "2021-11-18T19:29:28.322Z"
   },
   {
    "duration": 7,
    "start_time": "2021-11-18T19:30:06.822Z"
   },
   {
    "duration": 8,
    "start_time": "2021-11-18T19:30:17.055Z"
   },
   {
    "duration": 22,
    "start_time": "2021-11-18T19:34:01.687Z"
   },
   {
    "duration": 33,
    "start_time": "2021-11-18T19:34:17.383Z"
   },
   {
    "duration": 32,
    "start_time": "2021-11-18T19:34:36.229Z"
   },
   {
    "duration": 15,
    "start_time": "2021-11-18T19:43:23.728Z"
   },
   {
    "duration": 34,
    "start_time": "2021-11-18T19:45:57.337Z"
   },
   {
    "duration": 33,
    "start_time": "2021-11-18T19:48:14.002Z"
   },
   {
    "duration": 349,
    "start_time": "2021-11-18T19:50:17.219Z"
   },
   {
    "duration": 34,
    "start_time": "2021-11-18T19:50:38.570Z"
   },
   {
    "duration": 521,
    "start_time": "2021-11-19T05:47:24.037Z"
   },
   {
    "duration": 46,
    "start_time": "2021-11-19T05:47:24.560Z"
   },
   {
    "duration": 16,
    "start_time": "2021-11-19T05:47:24.608Z"
   },
   {
    "duration": 13,
    "start_time": "2021-11-19T05:47:24.626Z"
   },
   {
    "duration": 27,
    "start_time": "2021-11-19T05:47:24.640Z"
   },
   {
    "duration": 24,
    "start_time": "2021-11-19T05:47:24.669Z"
   },
   {
    "duration": 7,
    "start_time": "2021-11-19T05:47:24.695Z"
   },
   {
    "duration": 9,
    "start_time": "2021-11-19T05:47:24.703Z"
   },
   {
    "duration": 28,
    "start_time": "2021-11-19T05:47:24.715Z"
   },
   {
    "duration": 5,
    "start_time": "2021-11-19T05:47:24.745Z"
   },
   {
    "duration": 37,
    "start_time": "2021-11-19T05:47:24.751Z"
   },
   {
    "duration": 14,
    "start_time": "2021-11-19T05:47:24.790Z"
   },
   {
    "duration": 17,
    "start_time": "2021-11-19T05:47:24.806Z"
   },
   {
    "duration": 20,
    "start_time": "2021-11-19T05:47:24.825Z"
   },
   {
    "duration": 10,
    "start_time": "2021-11-19T05:47:24.846Z"
   },
   {
    "duration": 19,
    "start_time": "2021-11-19T05:47:24.857Z"
   },
   {
    "duration": 19,
    "start_time": "2021-11-19T05:47:24.878Z"
   },
   {
    "duration": 8,
    "start_time": "2021-11-19T05:47:24.898Z"
   },
   {
    "duration": 31,
    "start_time": "2021-11-19T05:47:24.907Z"
   },
   {
    "duration": 22,
    "start_time": "2021-11-19T05:47:24.939Z"
   },
   {
    "duration": 30,
    "start_time": "2021-11-19T05:47:24.963Z"
   },
   {
    "duration": 31,
    "start_time": "2021-11-19T05:47:24.995Z"
   },
   {
    "duration": 22,
    "start_time": "2021-11-19T05:47:25.028Z"
   },
   {
    "duration": 33,
    "start_time": "2021-11-19T05:47:25.051Z"
   },
   {
    "duration": 21,
    "start_time": "2021-11-19T05:47:25.085Z"
   },
   {
    "duration": 47,
    "start_time": "2021-11-19T05:47:25.107Z"
   },
   {
    "duration": 8,
    "start_time": "2021-11-19T05:47:25.157Z"
   },
   {
    "duration": 614,
    "start_time": "2021-11-19T05:47:25.167Z"
   },
   {
    "duration": 6,
    "start_time": "2021-11-19T05:47:25.783Z"
   },
   {
    "duration": 8,
    "start_time": "2021-11-19T05:47:25.791Z"
   },
   {
    "duration": 6,
    "start_time": "2021-11-19T05:47:25.800Z"
   },
   {
    "duration": 7,
    "start_time": "2021-11-19T05:47:25.807Z"
   },
   {
    "duration": 6,
    "start_time": "2021-11-19T05:47:25.815Z"
   },
   {
    "duration": 170,
    "start_time": "2021-11-19T05:47:25.823Z"
   },
   {
    "duration": 5,
    "start_time": "2021-11-19T05:47:25.994Z"
   },
   {
    "duration": 6,
    "start_time": "2021-11-19T05:47:26.000Z"
   },
   {
    "duration": 2,
    "start_time": "2021-11-19T05:47:26.008Z"
   },
   {
    "duration": 13,
    "start_time": "2021-11-19T05:47:26.012Z"
   },
   {
    "duration": 14,
    "start_time": "2021-11-19T05:47:26.026Z"
   },
   {
    "duration": 4,
    "start_time": "2021-11-19T05:47:26.041Z"
   },
   {
    "duration": 9,
    "start_time": "2021-11-19T05:47:26.046Z"
   },
   {
    "duration": 47,
    "start_time": "2021-11-19T05:47:26.056Z"
   },
   {
    "duration": 16,
    "start_time": "2021-11-19T05:47:26.104Z"
   },
   {
    "duration": 17,
    "start_time": "2021-11-19T05:47:26.121Z"
   },
   {
    "duration": 16,
    "start_time": "2021-11-19T05:47:26.139Z"
   }
  ],
  "kernelspec": {
   "display_name": "Python 3 (ipykernel)",
   "language": "python",
   "name": "python3"
  },
  "language_info": {
   "codemirror_mode": {
    "name": "ipython",
    "version": 3
   },
   "file_extension": ".py",
   "mimetype": "text/x-python",
   "name": "python",
   "nbconvert_exporter": "python",
   "pygments_lexer": "ipython3",
   "version": "3.9.12"
  },
  "toc": {
   "base_numbering": 1,
   "nav_menu": {},
   "number_sections": true,
   "sideBar": true,
   "skip_h1_title": true,
   "title_cell": "Table of Contents",
   "title_sidebar": "Contents",
   "toc_cell": false,
   "toc_position": {},
   "toc_section_display": true,
   "toc_window_display": false
  }
 },
 "nbformat": 4,
 "nbformat_minor": 2
}
