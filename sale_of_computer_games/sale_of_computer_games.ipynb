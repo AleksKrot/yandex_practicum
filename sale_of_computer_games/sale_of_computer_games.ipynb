{
 "cells": [
  {
   "cell_type": "markdown",
   "metadata": {},
   "source": [
    "# Прогноз продаж компьютерных игр"
   ]
  },
  {
   "cell_type": "markdown",
   "metadata": {},
   "source": [
    "Вы работаете в интернет-магазине «Стримчик», который продаёт по всему миру компьютерные игры. Из открытых источников доступны исторические данные о продажах игр, оценки пользователей и экспертов, жанры и платформы (например, Xbox или PlayStation). Вам нужно выявить определяющие успешность игры закономерности. Это позволит сделать ставку на потенциально популярный продукт и спланировать рекламные кампании.\n",
    "\n",
    "\n",
    "Перед вами данные до 2016 года. Представим, что сейчас декабрь 2016 г., и вы планируете кампанию на 2017-й. Нужно отработать принцип работы с данными. Неважно, прогнозируете ли вы продажи на 2017 год по данным 2016-го или же 2027-й — по данным 2026 года.\n",
    "\n",
    "\n",
    "В наборе данных попадается аббревиатура ESRB (Entertainment Software Rating Board) — это ассоциация, определяющая возрастной рейтинг компьютерных игр. ESRB оценивает игровой контент и присваивает ему подходящую возрастную категорию, например, «Для взрослых», «Для детей младшего возраста» или «Для подростков»."
   ]
  },
  {
   "cell_type": "markdown",
   "metadata": {},
   "source": [
    "# Описание данных"
   ]
  },
  {
   "cell_type": "markdown",
   "metadata": {},
   "source": [
    "* `Name` — название игры\n",
    "\n",
    "\n",
    "* `Platform` — платформа\n",
    "\n",
    "\n",
    "* `Year_of_Release` — год выпуска\n",
    "\n",
    "\n",
    "* `Genre` — жанр игры\n",
    "\n",
    "\n",
    "* `NA_sales` — продажи в Северной Америке (миллионы проданных копий)\n",
    "\n",
    "\n",
    "* `EU_sales` — продажи в Европе (миллионы проданных копий)\n",
    "\n",
    "\n",
    "* `JP_sales` — продажи в Японии (миллионы проданных копий)\n",
    "\n",
    "\n",
    "* `Other_sales` — продажи в других странах (миллионы проданных копий)\n",
    "\n",
    "\n",
    "* `Critic_Score` — оценка критиков (максимум 100)\n",
    "\n",
    "\n",
    "* `User_Score` — оценка пользователей (максимум 10)\n",
    "\n",
    "\n",
    "* `Rating` — рейтинг от организации ESRB (англ. Entertainment Software Rating Board). Эта ассоциация определяет рейтинг компьютерных игр и присваивает им подходящую возрастную категорию\n",
    "\n",
    "\n",
    "Данные за 2016 год могут быть неполными."
   ]
  },
  {
   "cell_type": "markdown",
   "metadata": {},
   "source": [
    "# Задачи исследования"
   ]
  },
  {
   "cell_type": "markdown",
   "metadata": {},
   "source": [
    "1. Изучение общей информации.\n",
    "\n",
    "\n",
    "2. Подготовка данных:\n",
    " + заменить названия столбцов;\n",
    " + обработать пропуски;\n",
    " + привести данные к нужным типам;\n",
    " + посчитать суммарные продажи во всех регионах и записать их в отдельный столбец.\n",
    " \n",
    " \n",
    "3. Исследовательский анализ данных:\n",
    " + посмотреть, сколько игр выпускалось в разные годы. Важны ли данные за все периоды?\n",
    " + посмотреть, как менялись продажи по платформам. Выбрать платформы с наибольшими суммарными продажами и построить распределение по годам. За какой характерный срок появляются новые и исчезают старые платформы?\n",
    " + взять данные за соответствующий актуальный период. Актуальный период определить самостоятельно в результате исследования предыдущих вопросов. Основной фактор — эти данные помогут построить прогноз на 2017 год. Не учитывать в работе данные за предыдущие годы.\n",
    " + какие платформы лидируют по продажам, растут или падают? Выберать несколько потенциально прибыльных платформ.\n",
    " + построить график «ящик с усами» по глобальным продажам игр в разбивке по платформам. Описать результат.\n",
    " + посмотреть, как влияют на продажи внутри одной популярной платформы отзывы пользователей и критиков. Построить диаграмму рассеяния и посчитать корреляцию между отзывами и продажами. Сформулировать выводы.\n",
    " + соотнести выводы с продажами игр на других платформах.\n",
    " + посмотреть на общее распределение игр по жанрам. Что можно сказать о самых прибыльных жанрах? Выделяются ли жанры с высокими и низкими продажами?\n",
    " \n",
    " \n",
    "4. Составление портрета пользователя каждого региона: Определите для пользователя каждого региона (NA, EU, JP):\n",
    " + самые популярные платформы (топ-5). Описать различия в долях продаж. \n",
    " + самые популярные жанры (топ-5). Пояснить разницу.\n",
    " + влияет ли рейтинг ESRB на продажи в отдельном регионе?\n",
    " \n",
    " \n",
    "5. Проверка гипотез:\n",
    " + средние пользовательские рейтинги платформ Xbox One и PC одинаковые;\n",
    " + средние пользовательские рейтинги жанров Action (англ. «действие», экшен-игры) и Sports (англ. «спортивные соревнования») разные.\n",
    " \n",
    "*Примечание:* пороговое значение alpha задается самостоятельно.\n",
    " \n",
    " \n",
    "6. Общий вывод."
   ]
  },
  {
   "cell_type": "markdown",
   "metadata": {
    "toc": true
   },
   "source": [
    "<h1>Содержание<span class=\"tocSkip\"></span></h1>\n",
    "<div class=\"toc\"><ul class=\"toc-item\"><li><span><a href=\"#Изучение-общей-информации\" data-toc-modified-id=\"Изучение-общей-информации-1\"><span class=\"toc-item-num\">1&nbsp;&nbsp;</span>Изучение общей информации</a></span><ul class=\"toc-item\"><li><span><a href=\"#Импорт-используемых-библиотек\" data-toc-modified-id=\"Импорт-используемых-библиотек-1.1\"><span class=\"toc-item-num\">1.1&nbsp;&nbsp;</span>Импорт используемых библиотек</a></span></li><li><span><a href=\"#Чтение-файла-с-данными\" data-toc-modified-id=\"Чтение-файла-с-данными-1.2\"><span class=\"toc-item-num\">1.2&nbsp;&nbsp;</span>Чтение файла с данными</a></span></li><li><span><a href=\"#Изучение-общей-информации\" data-toc-modified-id=\"Изучение-общей-информации-1.3\"><span class=\"toc-item-num\">1.3&nbsp;&nbsp;</span>Изучение общей информации</a></span></li><li><span><a href=\"#Выводы\" data-toc-modified-id=\"Выводы-1.4\"><span class=\"toc-item-num\">1.4&nbsp;&nbsp;</span>Выводы</a></span></li></ul></li><li><span><a href=\"#Подготовка-данных\" data-toc-modified-id=\"Подготовка-данных-2\"><span class=\"toc-item-num\">2&nbsp;&nbsp;</span>Подготовка данных</a></span><ul class=\"toc-item\"><li><span><a href=\"#Замена-названий-столбцов\" data-toc-modified-id=\"Замена-названий-столбцов-2.1\"><span class=\"toc-item-num\">2.1&nbsp;&nbsp;</span>Замена названий столбцов</a></span></li><li><span><a href=\"#Обработка-пропусков\" data-toc-modified-id=\"Обработка-пропусков-2.2\"><span class=\"toc-item-num\">2.2&nbsp;&nbsp;</span>Обработка пропусков</a></span></li><li><span><a href=\"#Приведение-данных-к-нужным-типам\" data-toc-modified-id=\"Приведение-данных-к-нужным-типам-2.3\"><span class=\"toc-item-num\">2.3&nbsp;&nbsp;</span>Приведение данных к нужным типам</a></span></li><li><span><a href=\"#Расчет-суммарных-продаж-во-всех-регионах\" data-toc-modified-id=\"Расчет-суммарных-продаж-во-всех-регионах-2.4\"><span class=\"toc-item-num\">2.4&nbsp;&nbsp;</span>Расчет суммарных продаж во всех регионах</a></span></li><li><span><a href=\"#Выводы\" data-toc-modified-id=\"Выводы-2.5\"><span class=\"toc-item-num\">2.5&nbsp;&nbsp;</span>Выводы</a></span></li></ul></li><li><span><a href=\"#Исследовательский-анализ-данных\" data-toc-modified-id=\"Исследовательский-анализ-данных-3\"><span class=\"toc-item-num\">3&nbsp;&nbsp;</span>Исследовательский анализ данных</a></span><ul class=\"toc-item\"><li><span><a href=\"#Cколько-игр-выпускалось-в-разные-годы.-Важны-ли-данные-за-все-периоды?\" data-toc-modified-id=\"Cколько-игр-выпускалось-в-разные-годы.-Важны-ли-данные-за-все-периоды?-3.1\"><span class=\"toc-item-num\">3.1&nbsp;&nbsp;</span>Cколько игр выпускалось в разные годы. Важны ли данные за все периоды?</a></span></li><li><span><a href=\"#Как-менялись-продажи-по-платформам.-Выбрать-платформы-с-наибольшими-суммарными-продажами-и-построить-распределение-по-годам.-За-какой-характерный-срок-появляются-новые-и-исчезают-старые-платформы?\" data-toc-modified-id=\"Как-менялись-продажи-по-платформам.-Выбрать-платформы-с-наибольшими-суммарными-продажами-и-построить-распределение-по-годам.-За-какой-характерный-срок-появляются-новые-и-исчезают-старые-платформы?-3.2\"><span class=\"toc-item-num\">3.2&nbsp;&nbsp;</span>Как менялись продажи по платформам. Выбрать платформы с наибольшими суммарными продажами и построить распределение по годам. За какой характерный срок появляются новые и исчезают старые платформы?</a></span></li><li><span><a href=\"#Взять-данные-за-соответствующий-актуальный-период.\" data-toc-modified-id=\"Взять-данные-за-соответствующий-актуальный-период.-3.3\"><span class=\"toc-item-num\">3.3&nbsp;&nbsp;</span>Взять данные за соответствующий актуальный период.</a></span></li><li><span><a href=\"#Какие-платформы-лидируют-по-продажам,-растут-или-падают?-Выберать-несколько-потенциально-прибыльных-платформ.\" data-toc-modified-id=\"Какие-платформы-лидируют-по-продажам,-растут-или-падают?-Выберать-несколько-потенциально-прибыльных-платформ.-3.4\"><span class=\"toc-item-num\">3.4&nbsp;&nbsp;</span>Какие платформы лидируют по продажам, растут или падают? Выберать несколько потенциально прибыльных платформ.</a></span></li><li><span><a href=\"#Построить-график-«ящик-с-усами»-по-глобальным-продажам-игр-в-разбивке-по-платформам.-Описать-результат.\" data-toc-modified-id=\"Построить-график-«ящик-с-усами»-по-глобальным-продажам-игр-в-разбивке-по-платформам.-Описать-результат.-3.5\"><span class=\"toc-item-num\">3.5&nbsp;&nbsp;</span>Построить график «ящик с усами» по глобальным продажам игр в разбивке по платформам. Описать результат.</a></span></li><li><span><a href=\"#Как-влияют-на-продажи-внутри-одной-популярной-платформы-отзывы-пользователей-и-критиков.-Построить-диаграмму-рассеяния-и-посчитать-корреляцию-между-отзывами-и-продажами.-Сформулировать-выводы.\" data-toc-modified-id=\"Как-влияют-на-продажи-внутри-одной-популярной-платформы-отзывы-пользователей-и-критиков.-Построить-диаграмму-рассеяния-и-посчитать-корреляцию-между-отзывами-и-продажами.-Сформулировать-выводы.-3.6\"><span class=\"toc-item-num\">3.6&nbsp;&nbsp;</span>Как влияют на продажи внутри одной популярной платформы отзывы пользователей и критиков. Построить диаграмму рассеяния и посчитать корреляцию между отзывами и продажами. Сформулировать выводы.</a></span></li><li><span><a href=\"#Cоотнести-выводы-с-продажами-игр-на-других-платформах.\" data-toc-modified-id=\"Cоотнести-выводы-с-продажами-игр-на-других-платформах.-3.7\"><span class=\"toc-item-num\">3.7&nbsp;&nbsp;</span>Cоотнести выводы с продажами игр на других платформах.</a></span></li><li><span><a href=\"#Общее-распределение-игр-по-жанрам.-Что-можно-сказать-о-самых-прибыльных-жанрах?-Выделяются-ли-жанры-с-высокими-и-низкими-продажами?\" data-toc-modified-id=\"Общее-распределение-игр-по-жанрам.-Что-можно-сказать-о-самых-прибыльных-жанрах?-Выделяются-ли-жанры-с-высокими-и-низкими-продажами?-3.8\"><span class=\"toc-item-num\">3.8&nbsp;&nbsp;</span>Общее распределение игр по жанрам. Что можно сказать о самых прибыльных жанрах? Выделяются ли жанры с высокими и низкими продажами?</a></span></li><li><span><a href=\"#Выводы\" data-toc-modified-id=\"Выводы-3.9\"><span class=\"toc-item-num\">3.9&nbsp;&nbsp;</span>Выводы</a></span></li></ul></li><li><span><a href=\"#Составление-портрета-пользователя-каждого-региона\" data-toc-modified-id=\"Составление-портрета-пользователя-каждого-региона-4\"><span class=\"toc-item-num\">4&nbsp;&nbsp;</span>Составление портрета пользователя каждого региона</a></span><ul class=\"toc-item\"><li><span><a href=\"#Cамые-популярные-платформы-(топ-5).-Описать-различия-в-долях-продаж.\" data-toc-modified-id=\"Cамые-популярные-платформы-(топ-5).-Описать-различия-в-долях-продаж.-4.1\"><span class=\"toc-item-num\">4.1&nbsp;&nbsp;</span>Cамые популярные платформы (топ-5). Описать различия в долях продаж.</a></span></li><li><span><a href=\"#Самые-популярные-жанры-(топ-5).-Пояснить-разницу.\" data-toc-modified-id=\"Самые-популярные-жанры-(топ-5).-Пояснить-разницу.-4.2\"><span class=\"toc-item-num\">4.2&nbsp;&nbsp;</span>Самые популярные жанры (топ-5). Пояснить разницу.</a></span></li><li><span><a href=\"#Влияет-ли-рейтинг-ESRB-на-продажи-в-отдельном-регионе?\" data-toc-modified-id=\"Влияет-ли-рейтинг-ESRB-на-продажи-в-отдельном-регионе?-4.3\"><span class=\"toc-item-num\">4.3&nbsp;&nbsp;</span>Влияет ли рейтинг ESRB на продажи в отдельном регионе?</a></span></li><li><span><a href=\"#Выводы\" data-toc-modified-id=\"Выводы-4.4\"><span class=\"toc-item-num\">4.4&nbsp;&nbsp;</span>Выводы</a></span></li></ul></li><li><span><a href=\"#Проверка-гипотез\" data-toc-modified-id=\"Проверка-гипотез-5\"><span class=\"toc-item-num\">5&nbsp;&nbsp;</span>Проверка гипотез</a></span><ul class=\"toc-item\"><li><span><a href=\"#Cредние-пользовательские-рейтинги-платформ-Xbox-One-и-PC-одинаковые\" data-toc-modified-id=\"Cредние-пользовательские-рейтинги-платформ-Xbox-One-и-PC-одинаковые-5.1\"><span class=\"toc-item-num\">5.1&nbsp;&nbsp;</span>Cредние пользовательские рейтинги платформ Xbox One и PC одинаковые</a></span></li><li><span><a href=\"#Cредние-пользовательские-рейтинги-жанров-Action-и-Sports-разные\" data-toc-modified-id=\"Cредние-пользовательские-рейтинги-жанров-Action-и-Sports-разные-5.2\"><span class=\"toc-item-num\">5.2&nbsp;&nbsp;</span>Cредние пользовательские рейтинги жанров Action и Sports разные</a></span></li><li><span><a href=\"#Выводы\" data-toc-modified-id=\"Выводы-5.3\"><span class=\"toc-item-num\">5.3&nbsp;&nbsp;</span>Выводы</a></span></li></ul></li><li><span><a href=\"#Общий-вывод\" data-toc-modified-id=\"Общий-вывод-6\"><span class=\"toc-item-num\">6&nbsp;&nbsp;</span>Общий вывод</a></span></li></ul></div>"
   ]
  },
  {
   "cell_type": "markdown",
   "metadata": {},
   "source": [
    "## Изучение общей информации"
   ]
  },
  {
   "cell_type": "markdown",
   "metadata": {},
   "source": [
    "### Импорт используемых библиотек"
   ]
  },
  {
   "cell_type": "code",
   "execution_count": 1,
   "metadata": {
    "scrolled": true
   },
   "outputs": [],
   "source": [
    "# импорт библиотеки pandas\n",
    "import pandas as pd\n",
    "\n",
    "# импорт библиотеки matpotlib\n",
    "import matplotlib.pyplot as plt\n",
    "\n",
    "# импорт библиотеки numpty\n",
    "import numpy as np\n",
    "\n",
    "# импорт библиотеки scipy\n",
    "from scipy import stats as st"
   ]
  },
  {
   "cell_type": "markdown",
   "metadata": {},
   "source": [
    "### Чтение файла с данными"
   ]
  },
  {
   "cell_type": "code",
   "execution_count": 2,
   "metadata": {
    "scrolled": true
   },
   "outputs": [],
   "source": [
    "# чтение файла с данными\n",
    "games = pd.read_csv('/datasets/games.csv')"
   ]
  },
  {
   "cell_type": "markdown",
   "metadata": {},
   "source": [
    "### Изучение общей информации"
   ]
  },
  {
   "cell_type": "code",
   "execution_count": 3,
   "metadata": {
    "scrolled": true
   },
   "outputs": [
    {
     "data": {
      "text/html": [
       "<div>\n",
       "<style scoped>\n",
       "    .dataframe tbody tr th:only-of-type {\n",
       "        vertical-align: middle;\n",
       "    }\n",
       "\n",
       "    .dataframe tbody tr th {\n",
       "        vertical-align: top;\n",
       "    }\n",
       "\n",
       "    .dataframe thead th {\n",
       "        text-align: right;\n",
       "    }\n",
       "</style>\n",
       "<table border=\"1\" class=\"dataframe\">\n",
       "  <thead>\n",
       "    <tr style=\"text-align: right;\">\n",
       "      <th></th>\n",
       "      <th>Name</th>\n",
       "      <th>Platform</th>\n",
       "      <th>Year_of_Release</th>\n",
       "      <th>Genre</th>\n",
       "      <th>NA_sales</th>\n",
       "      <th>EU_sales</th>\n",
       "      <th>JP_sales</th>\n",
       "      <th>Other_sales</th>\n",
       "      <th>Critic_Score</th>\n",
       "      <th>User_Score</th>\n",
       "      <th>Rating</th>\n",
       "    </tr>\n",
       "  </thead>\n",
       "  <tbody>\n",
       "    <tr>\n",
       "      <td>0</td>\n",
       "      <td>Wii Sports</td>\n",
       "      <td>Wii</td>\n",
       "      <td>2006.0</td>\n",
       "      <td>Sports</td>\n",
       "      <td>41.36</td>\n",
       "      <td>28.96</td>\n",
       "      <td>3.77</td>\n",
       "      <td>8.45</td>\n",
       "      <td>76.0</td>\n",
       "      <td>8</td>\n",
       "      <td>E</td>\n",
       "    </tr>\n",
       "    <tr>\n",
       "      <td>1</td>\n",
       "      <td>Super Mario Bros.</td>\n",
       "      <td>NES</td>\n",
       "      <td>1985.0</td>\n",
       "      <td>Platform</td>\n",
       "      <td>29.08</td>\n",
       "      <td>3.58</td>\n",
       "      <td>6.81</td>\n",
       "      <td>0.77</td>\n",
       "      <td>NaN</td>\n",
       "      <td>NaN</td>\n",
       "      <td>NaN</td>\n",
       "    </tr>\n",
       "    <tr>\n",
       "      <td>2</td>\n",
       "      <td>Mario Kart Wii</td>\n",
       "      <td>Wii</td>\n",
       "      <td>2008.0</td>\n",
       "      <td>Racing</td>\n",
       "      <td>15.68</td>\n",
       "      <td>12.76</td>\n",
       "      <td>3.79</td>\n",
       "      <td>3.29</td>\n",
       "      <td>82.0</td>\n",
       "      <td>8.3</td>\n",
       "      <td>E</td>\n",
       "    </tr>\n",
       "    <tr>\n",
       "      <td>3</td>\n",
       "      <td>Wii Sports Resort</td>\n",
       "      <td>Wii</td>\n",
       "      <td>2009.0</td>\n",
       "      <td>Sports</td>\n",
       "      <td>15.61</td>\n",
       "      <td>10.93</td>\n",
       "      <td>3.28</td>\n",
       "      <td>2.95</td>\n",
       "      <td>80.0</td>\n",
       "      <td>8</td>\n",
       "      <td>E</td>\n",
       "    </tr>\n",
       "    <tr>\n",
       "      <td>4</td>\n",
       "      <td>Pokemon Red/Pokemon Blue</td>\n",
       "      <td>GB</td>\n",
       "      <td>1996.0</td>\n",
       "      <td>Role-Playing</td>\n",
       "      <td>11.27</td>\n",
       "      <td>8.89</td>\n",
       "      <td>10.22</td>\n",
       "      <td>1.00</td>\n",
       "      <td>NaN</td>\n",
       "      <td>NaN</td>\n",
       "      <td>NaN</td>\n",
       "    </tr>\n",
       "    <tr>\n",
       "      <td>5</td>\n",
       "      <td>Tetris</td>\n",
       "      <td>GB</td>\n",
       "      <td>1989.0</td>\n",
       "      <td>Puzzle</td>\n",
       "      <td>23.20</td>\n",
       "      <td>2.26</td>\n",
       "      <td>4.22</td>\n",
       "      <td>0.58</td>\n",
       "      <td>NaN</td>\n",
       "      <td>NaN</td>\n",
       "      <td>NaN</td>\n",
       "    </tr>\n",
       "    <tr>\n",
       "      <td>6</td>\n",
       "      <td>New Super Mario Bros.</td>\n",
       "      <td>DS</td>\n",
       "      <td>2006.0</td>\n",
       "      <td>Platform</td>\n",
       "      <td>11.28</td>\n",
       "      <td>9.14</td>\n",
       "      <td>6.50</td>\n",
       "      <td>2.88</td>\n",
       "      <td>89.0</td>\n",
       "      <td>8.5</td>\n",
       "      <td>E</td>\n",
       "    </tr>\n",
       "    <tr>\n",
       "      <td>7</td>\n",
       "      <td>Wii Play</td>\n",
       "      <td>Wii</td>\n",
       "      <td>2006.0</td>\n",
       "      <td>Misc</td>\n",
       "      <td>13.96</td>\n",
       "      <td>9.18</td>\n",
       "      <td>2.93</td>\n",
       "      <td>2.84</td>\n",
       "      <td>58.0</td>\n",
       "      <td>6.6</td>\n",
       "      <td>E</td>\n",
       "    </tr>\n",
       "    <tr>\n",
       "      <td>8</td>\n",
       "      <td>New Super Mario Bros. Wii</td>\n",
       "      <td>Wii</td>\n",
       "      <td>2009.0</td>\n",
       "      <td>Platform</td>\n",
       "      <td>14.44</td>\n",
       "      <td>6.94</td>\n",
       "      <td>4.70</td>\n",
       "      <td>2.24</td>\n",
       "      <td>87.0</td>\n",
       "      <td>8.4</td>\n",
       "      <td>E</td>\n",
       "    </tr>\n",
       "    <tr>\n",
       "      <td>9</td>\n",
       "      <td>Duck Hunt</td>\n",
       "      <td>NES</td>\n",
       "      <td>1984.0</td>\n",
       "      <td>Shooter</td>\n",
       "      <td>26.93</td>\n",
       "      <td>0.63</td>\n",
       "      <td>0.28</td>\n",
       "      <td>0.47</td>\n",
       "      <td>NaN</td>\n",
       "      <td>NaN</td>\n",
       "      <td>NaN</td>\n",
       "    </tr>\n",
       "  </tbody>\n",
       "</table>\n",
       "</div>"
      ],
      "text/plain": [
       "                        Name Platform  Year_of_Release         Genre  \\\n",
       "0                 Wii Sports      Wii           2006.0        Sports   \n",
       "1          Super Mario Bros.      NES           1985.0      Platform   \n",
       "2             Mario Kart Wii      Wii           2008.0        Racing   \n",
       "3          Wii Sports Resort      Wii           2009.0        Sports   \n",
       "4   Pokemon Red/Pokemon Blue       GB           1996.0  Role-Playing   \n",
       "5                     Tetris       GB           1989.0        Puzzle   \n",
       "6      New Super Mario Bros.       DS           2006.0      Platform   \n",
       "7                   Wii Play      Wii           2006.0          Misc   \n",
       "8  New Super Mario Bros. Wii      Wii           2009.0      Platform   \n",
       "9                  Duck Hunt      NES           1984.0       Shooter   \n",
       "\n",
       "   NA_sales  EU_sales  JP_sales  Other_sales  Critic_Score User_Score Rating  \n",
       "0     41.36     28.96      3.77         8.45          76.0          8      E  \n",
       "1     29.08      3.58      6.81         0.77           NaN        NaN    NaN  \n",
       "2     15.68     12.76      3.79         3.29          82.0        8.3      E  \n",
       "3     15.61     10.93      3.28         2.95          80.0          8      E  \n",
       "4     11.27      8.89     10.22         1.00           NaN        NaN    NaN  \n",
       "5     23.20      2.26      4.22         0.58           NaN        NaN    NaN  \n",
       "6     11.28      9.14      6.50         2.88          89.0        8.5      E  \n",
       "7     13.96      9.18      2.93         2.84          58.0        6.6      E  \n",
       "8     14.44      6.94      4.70         2.24          87.0        8.4      E  \n",
       "9     26.93      0.63      0.28         0.47           NaN        NaN    NaN  "
      ]
     },
     "execution_count": 3,
     "metadata": {},
     "output_type": "execute_result"
    }
   ],
   "source": [
    "# получение первых 10 строк датасета\n",
    "games.head(10)"
   ]
  },
  {
   "cell_type": "code",
   "execution_count": 4,
   "metadata": {},
   "outputs": [
    {
     "data": {
      "text/html": [
       "<div>\n",
       "<style scoped>\n",
       "    .dataframe tbody tr th:only-of-type {\n",
       "        vertical-align: middle;\n",
       "    }\n",
       "\n",
       "    .dataframe tbody tr th {\n",
       "        vertical-align: top;\n",
       "    }\n",
       "\n",
       "    .dataframe thead th {\n",
       "        text-align: right;\n",
       "    }\n",
       "</style>\n",
       "<table border=\"1\" class=\"dataframe\">\n",
       "  <thead>\n",
       "    <tr style=\"text-align: right;\">\n",
       "      <th></th>\n",
       "      <th>Name</th>\n",
       "      <th>Platform</th>\n",
       "      <th>Year_of_Release</th>\n",
       "      <th>Genre</th>\n",
       "      <th>NA_sales</th>\n",
       "      <th>EU_sales</th>\n",
       "      <th>JP_sales</th>\n",
       "      <th>Other_sales</th>\n",
       "      <th>Critic_Score</th>\n",
       "      <th>User_Score</th>\n",
       "      <th>Rating</th>\n",
       "    </tr>\n",
       "  </thead>\n",
       "  <tbody>\n",
       "    <tr>\n",
       "      <td>8819</td>\n",
       "      <td>Street Fighter Anniversary Collection</td>\n",
       "      <td>XB</td>\n",
       "      <td>2004.0</td>\n",
       "      <td>Fighting</td>\n",
       "      <td>0.11</td>\n",
       "      <td>0.03</td>\n",
       "      <td>0.00</td>\n",
       "      <td>0.01</td>\n",
       "      <td>79.0</td>\n",
       "      <td>6.4</td>\n",
       "      <td>T</td>\n",
       "    </tr>\n",
       "    <tr>\n",
       "      <td>7796</td>\n",
       "      <td>X-Men Origins: Wolverine</td>\n",
       "      <td>PSP</td>\n",
       "      <td>2009.0</td>\n",
       "      <td>Action</td>\n",
       "      <td>0.13</td>\n",
       "      <td>0.03</td>\n",
       "      <td>0.00</td>\n",
       "      <td>0.03</td>\n",
       "      <td>60.0</td>\n",
       "      <td>7.5</td>\n",
       "      <td>T</td>\n",
       "    </tr>\n",
       "    <tr>\n",
       "      <td>1616</td>\n",
       "      <td>Ninja Gaiden</td>\n",
       "      <td>XB</td>\n",
       "      <td>2004.0</td>\n",
       "      <td>Action</td>\n",
       "      <td>0.92</td>\n",
       "      <td>0.20</td>\n",
       "      <td>0.07</td>\n",
       "      <td>0.04</td>\n",
       "      <td>91.0</td>\n",
       "      <td>8.8</td>\n",
       "      <td>M</td>\n",
       "    </tr>\n",
       "    <tr>\n",
       "      <td>1409</td>\n",
       "      <td>Deus Ex: Human Revolution</td>\n",
       "      <td>X360</td>\n",
       "      <td>2011.0</td>\n",
       "      <td>Shooter</td>\n",
       "      <td>0.76</td>\n",
       "      <td>0.47</td>\n",
       "      <td>0.02</td>\n",
       "      <td>0.12</td>\n",
       "      <td>89.0</td>\n",
       "      <td>8.3</td>\n",
       "      <td>M</td>\n",
       "    </tr>\n",
       "    <tr>\n",
       "      <td>13500</td>\n",
       "      <td>Ford Bold Moves Street Racing</td>\n",
       "      <td>PSP</td>\n",
       "      <td>2006.0</td>\n",
       "      <td>Racing</td>\n",
       "      <td>0.04</td>\n",
       "      <td>0.00</td>\n",
       "      <td>0.00</td>\n",
       "      <td>0.00</td>\n",
       "      <td>52.0</td>\n",
       "      <td>tbd</td>\n",
       "      <td>E</td>\n",
       "    </tr>\n",
       "    <tr>\n",
       "      <td>8676</td>\n",
       "      <td>Medieval Games</td>\n",
       "      <td>Wii</td>\n",
       "      <td>2009.0</td>\n",
       "      <td>Action</td>\n",
       "      <td>0.14</td>\n",
       "      <td>0.01</td>\n",
       "      <td>0.00</td>\n",
       "      <td>0.01</td>\n",
       "      <td>NaN</td>\n",
       "      <td>5.9</td>\n",
       "      <td>E10+</td>\n",
       "    </tr>\n",
       "    <tr>\n",
       "      <td>15997</td>\n",
       "      <td>Triggerheart Exelica</td>\n",
       "      <td>DC</td>\n",
       "      <td>2007.0</td>\n",
       "      <td>Shooter</td>\n",
       "      <td>0.00</td>\n",
       "      <td>0.00</td>\n",
       "      <td>0.02</td>\n",
       "      <td>0.00</td>\n",
       "      <td>NaN</td>\n",
       "      <td>NaN</td>\n",
       "      <td>NaN</td>\n",
       "    </tr>\n",
       "    <tr>\n",
       "      <td>7347</td>\n",
       "      <td>World Poker Tour</td>\n",
       "      <td>PS2</td>\n",
       "      <td>2005.0</td>\n",
       "      <td>Misc</td>\n",
       "      <td>0.10</td>\n",
       "      <td>0.08</td>\n",
       "      <td>0.00</td>\n",
       "      <td>0.03</td>\n",
       "      <td>60.0</td>\n",
       "      <td>8.6</td>\n",
       "      <td>T</td>\n",
       "    </tr>\n",
       "    <tr>\n",
       "      <td>6394</td>\n",
       "      <td>R.U.S.E.</td>\n",
       "      <td>X360</td>\n",
       "      <td>2010.0</td>\n",
       "      <td>Strategy</td>\n",
       "      <td>0.12</td>\n",
       "      <td>0.11</td>\n",
       "      <td>0.00</td>\n",
       "      <td>0.02</td>\n",
       "      <td>78.0</td>\n",
       "      <td>7</td>\n",
       "      <td>T</td>\n",
       "    </tr>\n",
       "    <tr>\n",
       "      <td>5026</td>\n",
       "      <td>Dawn of Discovery</td>\n",
       "      <td>PC</td>\n",
       "      <td>2009.0</td>\n",
       "      <td>Simulation</td>\n",
       "      <td>0.00</td>\n",
       "      <td>0.32</td>\n",
       "      <td>0.00</td>\n",
       "      <td>0.06</td>\n",
       "      <td>82.0</td>\n",
       "      <td>8.8</td>\n",
       "      <td>T</td>\n",
       "    </tr>\n",
       "  </tbody>\n",
       "</table>\n",
       "</div>"
      ],
      "text/plain": [
       "                                        Name Platform  Year_of_Release  \\\n",
       "8819   Street Fighter Anniversary Collection       XB           2004.0   \n",
       "7796                X-Men Origins: Wolverine      PSP           2009.0   \n",
       "1616                            Ninja Gaiden       XB           2004.0   \n",
       "1409               Deus Ex: Human Revolution     X360           2011.0   \n",
       "13500          Ford Bold Moves Street Racing      PSP           2006.0   \n",
       "8676                          Medieval Games      Wii           2009.0   \n",
       "15997                   Triggerheart Exelica       DC           2007.0   \n",
       "7347                        World Poker Tour      PS2           2005.0   \n",
       "6394                                R.U.S.E.     X360           2010.0   \n",
       "5026                       Dawn of Discovery       PC           2009.0   \n",
       "\n",
       "            Genre  NA_sales  EU_sales  JP_sales  Other_sales  Critic_Score  \\\n",
       "8819     Fighting      0.11      0.03      0.00         0.01          79.0   \n",
       "7796       Action      0.13      0.03      0.00         0.03          60.0   \n",
       "1616       Action      0.92      0.20      0.07         0.04          91.0   \n",
       "1409      Shooter      0.76      0.47      0.02         0.12          89.0   \n",
       "13500      Racing      0.04      0.00      0.00         0.00          52.0   \n",
       "8676       Action      0.14      0.01      0.00         0.01           NaN   \n",
       "15997     Shooter      0.00      0.00      0.02         0.00           NaN   \n",
       "7347         Misc      0.10      0.08      0.00         0.03          60.0   \n",
       "6394     Strategy      0.12      0.11      0.00         0.02          78.0   \n",
       "5026   Simulation      0.00      0.32      0.00         0.06          82.0   \n",
       "\n",
       "      User_Score Rating  \n",
       "8819         6.4      T  \n",
       "7796         7.5      T  \n",
       "1616         8.8      M  \n",
       "1409         8.3      M  \n",
       "13500        tbd      E  \n",
       "8676         5.9   E10+  \n",
       "15997        NaN    NaN  \n",
       "7347         8.6      T  \n",
       "6394           7      T  \n",
       "5026         8.8      T  "
      ]
     },
     "execution_count": 4,
     "metadata": {},
     "output_type": "execute_result"
    }
   ],
   "source": [
    "# получение cлучайных 10 строк датасета\n",
    "games.sample(10)"
   ]
  },
  {
   "cell_type": "code",
   "execution_count": 5,
   "metadata": {
    "scrolled": true
   },
   "outputs": [
    {
     "name": "stdout",
     "output_type": "stream",
     "text": [
      "<class 'pandas.core.frame.DataFrame'>\n",
      "RangeIndex: 16715 entries, 0 to 16714\n",
      "Data columns (total 11 columns):\n",
      "Name               16713 non-null object\n",
      "Platform           16715 non-null object\n",
      "Year_of_Release    16446 non-null float64\n",
      "Genre              16713 non-null object\n",
      "NA_sales           16715 non-null float64\n",
      "EU_sales           16715 non-null float64\n",
      "JP_sales           16715 non-null float64\n",
      "Other_sales        16715 non-null float64\n",
      "Critic_Score       8137 non-null float64\n",
      "User_Score         10014 non-null object\n",
      "Rating             9949 non-null object\n",
      "dtypes: float64(6), object(5)\n",
      "memory usage: 1.4+ MB\n"
     ]
    }
   ],
   "source": [
    "# получение общей информации о данных датасета\n",
    "games.info()"
   ]
  },
  {
   "cell_type": "code",
   "execution_count": 6,
   "metadata": {
    "scrolled": true
   },
   "outputs": [
    {
     "data": {
      "text/html": [
       "<div>\n",
       "<style scoped>\n",
       "    .dataframe tbody tr th:only-of-type {\n",
       "        vertical-align: middle;\n",
       "    }\n",
       "\n",
       "    .dataframe tbody tr th {\n",
       "        vertical-align: top;\n",
       "    }\n",
       "\n",
       "    .dataframe thead th {\n",
       "        text-align: right;\n",
       "    }\n",
       "</style>\n",
       "<table border=\"1\" class=\"dataframe\">\n",
       "  <thead>\n",
       "    <tr style=\"text-align: right;\">\n",
       "      <th></th>\n",
       "      <th>Year_of_Release</th>\n",
       "      <th>NA_sales</th>\n",
       "      <th>EU_sales</th>\n",
       "      <th>JP_sales</th>\n",
       "      <th>Other_sales</th>\n",
       "      <th>Critic_Score</th>\n",
       "    </tr>\n",
       "  </thead>\n",
       "  <tbody>\n",
       "    <tr>\n",
       "      <td>count</td>\n",
       "      <td>16446.000000</td>\n",
       "      <td>16715.000000</td>\n",
       "      <td>16715.000000</td>\n",
       "      <td>16715.000000</td>\n",
       "      <td>16715.000000</td>\n",
       "      <td>8137.000000</td>\n",
       "    </tr>\n",
       "    <tr>\n",
       "      <td>mean</td>\n",
       "      <td>2006.484616</td>\n",
       "      <td>0.263377</td>\n",
       "      <td>0.145060</td>\n",
       "      <td>0.077617</td>\n",
       "      <td>0.047342</td>\n",
       "      <td>68.967679</td>\n",
       "    </tr>\n",
       "    <tr>\n",
       "      <td>std</td>\n",
       "      <td>5.877050</td>\n",
       "      <td>0.813604</td>\n",
       "      <td>0.503339</td>\n",
       "      <td>0.308853</td>\n",
       "      <td>0.186731</td>\n",
       "      <td>13.938165</td>\n",
       "    </tr>\n",
       "    <tr>\n",
       "      <td>min</td>\n",
       "      <td>1980.000000</td>\n",
       "      <td>0.000000</td>\n",
       "      <td>0.000000</td>\n",
       "      <td>0.000000</td>\n",
       "      <td>0.000000</td>\n",
       "      <td>13.000000</td>\n",
       "    </tr>\n",
       "    <tr>\n",
       "      <td>25%</td>\n",
       "      <td>2003.000000</td>\n",
       "      <td>0.000000</td>\n",
       "      <td>0.000000</td>\n",
       "      <td>0.000000</td>\n",
       "      <td>0.000000</td>\n",
       "      <td>60.000000</td>\n",
       "    </tr>\n",
       "    <tr>\n",
       "      <td>50%</td>\n",
       "      <td>2007.000000</td>\n",
       "      <td>0.080000</td>\n",
       "      <td>0.020000</td>\n",
       "      <td>0.000000</td>\n",
       "      <td>0.010000</td>\n",
       "      <td>71.000000</td>\n",
       "    </tr>\n",
       "    <tr>\n",
       "      <td>75%</td>\n",
       "      <td>2010.000000</td>\n",
       "      <td>0.240000</td>\n",
       "      <td>0.110000</td>\n",
       "      <td>0.040000</td>\n",
       "      <td>0.030000</td>\n",
       "      <td>79.000000</td>\n",
       "    </tr>\n",
       "    <tr>\n",
       "      <td>max</td>\n",
       "      <td>2016.000000</td>\n",
       "      <td>41.360000</td>\n",
       "      <td>28.960000</td>\n",
       "      <td>10.220000</td>\n",
       "      <td>10.570000</td>\n",
       "      <td>98.000000</td>\n",
       "    </tr>\n",
       "  </tbody>\n",
       "</table>\n",
       "</div>"
      ],
      "text/plain": [
       "       Year_of_Release      NA_sales      EU_sales      JP_sales  \\\n",
       "count     16446.000000  16715.000000  16715.000000  16715.000000   \n",
       "mean       2006.484616      0.263377      0.145060      0.077617   \n",
       "std           5.877050      0.813604      0.503339      0.308853   \n",
       "min        1980.000000      0.000000      0.000000      0.000000   \n",
       "25%        2003.000000      0.000000      0.000000      0.000000   \n",
       "50%        2007.000000      0.080000      0.020000      0.000000   \n",
       "75%        2010.000000      0.240000      0.110000      0.040000   \n",
       "max        2016.000000     41.360000     28.960000     10.220000   \n",
       "\n",
       "        Other_sales  Critic_Score  \n",
       "count  16715.000000   8137.000000  \n",
       "mean       0.047342     68.967679  \n",
       "std        0.186731     13.938165  \n",
       "min        0.000000     13.000000  \n",
       "25%        0.000000     60.000000  \n",
       "50%        0.010000     71.000000  \n",
       "75%        0.030000     79.000000  \n",
       "max       10.570000     98.000000  "
      ]
     },
     "execution_count": 6,
     "metadata": {},
     "output_type": "execute_result"
    }
   ],
   "source": [
    "# получение описательной статистики данных датасета\n",
    "games.describe()"
   ]
  },
  {
   "cell_type": "code",
   "execution_count": 7,
   "metadata": {
    "scrolled": true
   },
   "outputs": [
    {
     "data": {
      "text/plain": [
       "array(['Wii', 'NES', 'GB', 'DS', 'X360', 'PS3', 'PS2', 'SNES', 'GBA',\n",
       "       'PS4', '3DS', 'N64', 'PS', 'XB', 'PC', '2600', 'PSP', 'XOne',\n",
       "       'WiiU', 'GC', 'GEN', 'DC', 'PSV', 'SAT', 'SCD', 'WS', 'NG', 'TG16',\n",
       "       '3DO', 'GG', 'PCFX'], dtype=object)"
      ]
     },
     "execution_count": 7,
     "metadata": {},
     "output_type": "execute_result"
    }
   ],
   "source": [
    "# получение уникальных значений \n",
    "games['Platform'].unique()"
   ]
  },
  {
   "cell_type": "code",
   "execution_count": 8,
   "metadata": {
    "scrolled": true
   },
   "outputs": [
    {
     "data": {
      "text/plain": [
       "array(['Sports', 'Platform', 'Racing', 'Role-Playing', 'Puzzle', 'Misc',\n",
       "       'Shooter', 'Simulation', 'Action', 'Fighting', 'Adventure',\n",
       "       'Strategy', nan], dtype=object)"
      ]
     },
     "execution_count": 8,
     "metadata": {},
     "output_type": "execute_result"
    }
   ],
   "source": [
    "# получение уникальных значений \n",
    "games['Genre'].unique()"
   ]
  },
  {
   "cell_type": "code",
   "execution_count": 9,
   "metadata": {
    "scrolled": true
   },
   "outputs": [
    {
     "data": {
      "text/plain": [
       "array([76., nan, 82., 80., 89., 58., 87., 91., 61., 97., 95., 77., 88.,\n",
       "       83., 94., 93., 85., 86., 98., 96., 90., 84., 73., 74., 78., 92.,\n",
       "       71., 72., 68., 62., 49., 67., 81., 66., 56., 79., 70., 59., 64.,\n",
       "       75., 60., 63., 69., 50., 25., 42., 44., 55., 48., 57., 29., 47.,\n",
       "       65., 54., 20., 53., 37., 38., 33., 52., 30., 32., 43., 45., 51.,\n",
       "       40., 46., 39., 34., 35., 41., 36., 28., 31., 27., 26., 19., 23.,\n",
       "       24., 21., 17., 22., 13.])"
      ]
     },
     "execution_count": 9,
     "metadata": {},
     "output_type": "execute_result"
    }
   ],
   "source": [
    "# получение уникальных значений \n",
    "games['Critic_Score'].unique()"
   ]
  },
  {
   "cell_type": "code",
   "execution_count": 10,
   "metadata": {
    "scrolled": true
   },
   "outputs": [
    {
     "data": {
      "text/plain": [
       "array(['8', nan, '8.3', '8.5', '6.6', '8.4', '8.6', '7.7', '6.3', '7.4',\n",
       "       '8.2', '9', '7.9', '8.1', '8.7', '7.1', '3.4', '5.3', '4.8', '3.2',\n",
       "       '8.9', '6.4', '7.8', '7.5', '2.6', '7.2', '9.2', '7', '7.3', '4.3',\n",
       "       '7.6', '5.7', '5', '9.1', '6.5', 'tbd', '8.8', '6.9', '9.4', '6.8',\n",
       "       '6.1', '6.7', '5.4', '4', '4.9', '4.5', '9.3', '6.2', '4.2', '6',\n",
       "       '3.7', '4.1', '5.8', '5.6', '5.5', '4.4', '4.6', '5.9', '3.9',\n",
       "       '3.1', '2.9', '5.2', '3.3', '4.7', '5.1', '3.5', '2.5', '1.9', '3',\n",
       "       '2.7', '2.2', '2', '9.5', '2.1', '3.6', '2.8', '1.8', '3.8', '0',\n",
       "       '1.6', '9.6', '2.4', '1.7', '1.1', '0.3', '1.5', '0.7', '1.2',\n",
       "       '2.3', '0.5', '1.3', '0.2', '0.6', '1.4', '0.9', '1', '9.7'],\n",
       "      dtype=object)"
      ]
     },
     "execution_count": 10,
     "metadata": {},
     "output_type": "execute_result"
    }
   ],
   "source": [
    "# получение уникальных значений \n",
    "games['User_Score'].unique()"
   ]
  },
  {
   "cell_type": "code",
   "execution_count": 11,
   "metadata": {
    "scrolled": true
   },
   "outputs": [
    {
     "data": {
      "text/plain": [
       "array(['E', nan, 'M', 'T', 'E10+', 'K-A', 'AO', 'EC', 'RP'], dtype=object)"
      ]
     },
     "execution_count": 11,
     "metadata": {},
     "output_type": "execute_result"
    }
   ],
   "source": [
    "# получение уникальных значений \n",
    "games['Rating'].unique()"
   ]
  },
  {
   "cell_type": "markdown",
   "metadata": {},
   "source": [
    "Рейтинг от организации ESRB (англ. Entertainment Software Rating Board) определяет подходящую возрастную категорию игр:\n",
    "+ «EC» («Early childhood») — «Для детей младшего возраста»: Игра подходит для детей от 3 лет и не содержит материалов, которые родители могли бы счесть неподходящими. Продукты, получившие данный рейтинг, изначально разрабатываются для детей и обычно представляют собой развивающие игры.\n",
    "\n",
    "\n",
    "+ «E» («Everyone») — «Для всех»: Содержание вполне подходит для возрастной категории от 6 лет. Такие игры могут понравиться и взрослым. Игры с этим рейтингом могут содержать минимальное насилие, в основном «мультяшного» характера. Первоначально \"K-A\" (\"Kids to Adults\")\n",
    "\n",
    "\n",
    "+ «E10+» («Everyone 10 and older») — «Для всех от 10 лет и старше»: Проекты с данным рейтингом могут содержать или немного больше мультипликационного или мягкого насилия, или несколько откровенные сцены, или минимальное количество крови.\n",
    "\n",
    "\n",
    "+ «T» («Teen») — «Подросткам»: Игра подходит для лиц от 13 лет. Проекты из данной категории могут содержать насилие, непристойные сцены, грубый юмор, в меру откровенное сексуальное содержимое, кровь или нечастое использование ненормативной лексики.\n",
    "\n",
    "\n",
    "+ «M» («Mature») — «Для взрослых»: Материалы игры не подходят для подростков младше 17 лет. Проекты с данным рейтингом могут содержать достаточно жестокое насилие, большое количество крови с расчленением, непристойные сексуальные сцены или грубую ненормативную лексику, нежелательную для младшей аудитории.\n",
    "\n",
    "\n",
    "+ «AO» («Adults Only 18+») — «Только для взрослых»: Содержание игры только для взрослых старше 18 лет. Продукты из данной категории могут содержать длительные сцены жестокого насилия и/или очень откровенное сексуальное содержимое, а также сцены с обнажением.\n",
    "\n",
    "\n",
    "+ «RP» («Rating Pending») — «Рейтинг ожидается»: Продукт был отправлен в ESRB и ожидает присвоения рейтинга. Данный логотип используется только на рекламных презентациях и в демо-версиях игр до официальной даты выпуска в продажу.\n",
    "\n",
    "\n",
    "*Данные взяты из открытого источника: https://ru.wikipedia.org/wiki/Entertainment_Software_Rating_Board*"
   ]
  },
  {
   "cell_type": "markdown",
   "metadata": {},
   "source": [
    "### Выводы"
   ]
  },
  {
   "cell_type": "markdown",
   "metadata": {},
   "source": [
    "Необходимо провести следующую подготовку данных:\n",
    "1. привести все столбцы к нижнему регистру путем переименования;\n",
    "2. устранить пропущенные значения; \n",
    "\n",
    "Рейтинг \"E\" и \"K-A\" - обозначают одно и то же, надо их объединить под обозначением \"Е\", так как \"К-А\" - устаревшее обозначение.\n",
    "\n",
    "3. изменить типы данных столбцов:\n",
    "     * `Year_of_Release` с вещественного на целочисленный, так как год - целое число;\n",
    "     * `NA_sales`, `EU_sales`, `JP_sales`, `Other_sales` тоже переведем в целочисленный формат, но перед этим умножим на тысячу, тогда данные будут представлены в тыс. шт. Делаем это потому, что в основном продажи исчисляются тысячами, а не миллионами.\n",
    "     * `User_Score` переведем в числовой вещественный формат, так как столбец содержит вещественные значения, разобраться со значением \"tbd\";\n",
    "     * `Critic_Score` переведем в целочисленный формат, так как в столбце только целые значения.\n",
    "\n",
    "4. проверить наличие дубликатов."
   ]
  },
  {
   "cell_type": "markdown",
   "metadata": {},
   "source": [
    "## Подготовка данных"
   ]
  },
  {
   "cell_type": "markdown",
   "metadata": {},
   "source": [
    "### Замена названий столбцов"
   ]
  },
  {
   "cell_type": "markdown",
   "metadata": {},
   "source": [
    "Приведем названия всех столбцов к нижнему регистру."
   ]
  },
  {
   "cell_type": "code",
   "execution_count": 12,
   "metadata": {
    "scrolled": true
   },
   "outputs": [],
   "source": [
    "# приведение названий столбцов к нижнему регистру\n",
    "games.columns = games.columns.str.lower()"
   ]
  },
  {
   "cell_type": "code",
   "execution_count": 13,
   "metadata": {
    "scrolled": true
   },
   "outputs": [
    {
     "data": {
      "text/plain": [
       "Index(['name', 'platform', 'year_of_release', 'genre', 'na_sales', 'eu_sales',\n",
       "       'jp_sales', 'other_sales', 'critic_score', 'user_score', 'rating'],\n",
       "      dtype='object')"
      ]
     },
     "execution_count": 13,
     "metadata": {},
     "output_type": "execute_result"
    }
   ],
   "source": [
    "# вывод названий столбцов\n",
    "games.columns"
   ]
  },
  {
   "cell_type": "markdown",
   "metadata": {},
   "source": [
    "### Обработка пропусков"
   ]
  },
  {
   "cell_type": "code",
   "execution_count": 14,
   "metadata": {
    "scrolled": true
   },
   "outputs": [
    {
     "data": {
      "text/plain": [
       "platform              0\n",
       "na_sales              0\n",
       "eu_sales              0\n",
       "jp_sales              0\n",
       "other_sales           0\n",
       "name                  2\n",
       "genre                 2\n",
       "year_of_release     269\n",
       "user_score         6701\n",
       "rating             6766\n",
       "critic_score       8578\n",
       "dtype: int64"
      ]
     },
     "execution_count": 14,
     "metadata": {},
     "output_type": "execute_result"
    }
   ],
   "source": [
    "# подсчёт пропусков\n",
    "games.isna().sum().sort_values()"
   ]
  },
  {
   "cell_type": "markdown",
   "metadata": {},
   "source": [
    "Присутствуют две игры с пропусками в названии и две игры с пропусками в жанре. Проверим их."
   ]
  },
  {
   "cell_type": "code",
   "execution_count": 15,
   "metadata": {
    "scrolled": true
   },
   "outputs": [
    {
     "data": {
      "text/html": [
       "<div>\n",
       "<style scoped>\n",
       "    .dataframe tbody tr th:only-of-type {\n",
       "        vertical-align: middle;\n",
       "    }\n",
       "\n",
       "    .dataframe tbody tr th {\n",
       "        vertical-align: top;\n",
       "    }\n",
       "\n",
       "    .dataframe thead th {\n",
       "        text-align: right;\n",
       "    }\n",
       "</style>\n",
       "<table border=\"1\" class=\"dataframe\">\n",
       "  <thead>\n",
       "    <tr style=\"text-align: right;\">\n",
       "      <th></th>\n",
       "      <th>name</th>\n",
       "      <th>platform</th>\n",
       "      <th>year_of_release</th>\n",
       "      <th>genre</th>\n",
       "      <th>na_sales</th>\n",
       "      <th>eu_sales</th>\n",
       "      <th>jp_sales</th>\n",
       "      <th>other_sales</th>\n",
       "      <th>critic_score</th>\n",
       "      <th>user_score</th>\n",
       "      <th>rating</th>\n",
       "    </tr>\n",
       "  </thead>\n",
       "  <tbody>\n",
       "    <tr>\n",
       "      <td>659</td>\n",
       "      <td>NaN</td>\n",
       "      <td>GEN</td>\n",
       "      <td>1993.0</td>\n",
       "      <td>NaN</td>\n",
       "      <td>1.78</td>\n",
       "      <td>0.53</td>\n",
       "      <td>0.00</td>\n",
       "      <td>0.08</td>\n",
       "      <td>NaN</td>\n",
       "      <td>NaN</td>\n",
       "      <td>NaN</td>\n",
       "    </tr>\n",
       "    <tr>\n",
       "      <td>14244</td>\n",
       "      <td>NaN</td>\n",
       "      <td>GEN</td>\n",
       "      <td>1993.0</td>\n",
       "      <td>NaN</td>\n",
       "      <td>0.00</td>\n",
       "      <td>0.00</td>\n",
       "      <td>0.03</td>\n",
       "      <td>0.00</td>\n",
       "      <td>NaN</td>\n",
       "      <td>NaN</td>\n",
       "      <td>NaN</td>\n",
       "    </tr>\n",
       "  </tbody>\n",
       "</table>\n",
       "</div>"
      ],
      "text/plain": [
       "      name platform  year_of_release genre  na_sales  eu_sales  jp_sales  \\\n",
       "659    NaN      GEN           1993.0   NaN      1.78      0.53      0.00   \n",
       "14244  NaN      GEN           1993.0   NaN      0.00      0.00      0.03   \n",
       "\n",
       "       other_sales  critic_score user_score rating  \n",
       "659           0.08           NaN        NaN    NaN  \n",
       "14244         0.00           NaN        NaN    NaN  "
      ]
     },
     "execution_count": 15,
     "metadata": {},
     "output_type": "execute_result"
    }
   ],
   "source": [
    "# вывод строк с пропусками в названии\n",
    "games[games['name'].isnull()]"
   ]
  },
  {
   "cell_type": "markdown",
   "metadata": {},
   "source": [
    "Пропуски имеют одни и те же игры. И если вторая игра имела низкое число продаж, то первая хорошо продавалась в Северной Америке, поэтому не будем избавляться от этих данных, а заменим NaN на Unknown.\n",
    "\n",
    "Точно также поступим с пропусками в столбце c рейтингом, так как таких пропусков много, и у нас нет никаких оснований их заменять на какие-либо значимые значения.\n",
    "\n",
    "Пропуски в значениях с оценками критиков и пользователей заменим на значение \"-1\", чтобы не путать с нулем, который выражает непосредственное отношение пользователей и критиков к игре.\n",
    "\n",
    "Пропуски в дате релиза заменим на 0, что явно дает информацию об отсутствии значения, но позволит нам сменить тип."
   ]
  },
  {
   "cell_type": "code",
   "execution_count": 16,
   "metadata": {
    "scrolled": true
   },
   "outputs": [],
   "source": [
    "# заполнение пропущенных значений\n",
    "games = games.fillna({'name': 'Unknown', \n",
    "             'genre': 'Unknown', \n",
    "             'rating': 'Unknown',\n",
    "             'user_score': -1, \n",
    "             'critic_score': -1,\n",
    "             'year_of_release': 0\n",
    "                   })"
   ]
  },
  {
   "cell_type": "code",
   "execution_count": 17,
   "metadata": {
    "scrolled": true
   },
   "outputs": [
    {
     "data": {
      "text/plain": [
       "name               0\n",
       "platform           0\n",
       "year_of_release    0\n",
       "genre              0\n",
       "na_sales           0\n",
       "eu_sales           0\n",
       "jp_sales           0\n",
       "other_sales        0\n",
       "critic_score       0\n",
       "user_score         0\n",
       "rating             0\n",
       "dtype: int64"
      ]
     },
     "execution_count": 17,
     "metadata": {},
     "output_type": "execute_result"
    }
   ],
   "source": [
    "# подсчёт пропусков\n",
    "games.isna().sum().sort_values()"
   ]
  },
  {
   "cell_type": "markdown",
   "metadata": {},
   "source": [
    "Пропусков больше нет, но не забудем разобраться со значением \"tbd\" в оценке пользователей. Посмотрим сколько их."
   ]
  },
  {
   "cell_type": "code",
   "execution_count": 18,
   "metadata": {
    "scrolled": true
   },
   "outputs": [
    {
     "data": {
      "text/plain": [
       "-1     6701\n",
       "tbd    2424\n",
       "7.8     324\n",
       "8       290\n",
       "8.2     282\n",
       "       ... \n",
       "0.3       2\n",
       "1.9       2\n",
       "9.6       2\n",
       "0         1\n",
       "9.7       1\n",
       "Name: user_score, Length: 97, dtype: int64"
      ]
     },
     "execution_count": 18,
     "metadata": {},
     "output_type": "execute_result"
    }
   ],
   "source": [
    "# получение уникальных значений и их количества\n",
    "games['user_score'].value_counts()"
   ]
  },
  {
   "cell_type": "markdown",
   "metadata": {},
   "source": [
    "Таких значений много.\n",
    "\n",
    "Так как значение \"tbd\" в столбце с оценкой пользователей расшифровается как to be determined, то есть \"подлежит уточнению\", поступим с ним также как с пропущенным значением и заменим на \"-1\"."
   ]
  },
  {
   "cell_type": "code",
   "execution_count": 19,
   "metadata": {
    "scrolled": true
   },
   "outputs": [],
   "source": [
    "# замена значений\n",
    "games['user_score'] = games['user_score'].replace('tbd', -1)"
   ]
  },
  {
   "cell_type": "code",
   "execution_count": 20,
   "metadata": {
    "scrolled": true
   },
   "outputs": [
    {
     "data": {
      "text/plain": [
       "-1     9125\n",
       "7.8     324\n",
       "8       290\n",
       "8.2     282\n",
       "8.3     254\n",
       "       ... \n",
       "0.3       2\n",
       "0.7       2\n",
       "9.6       2\n",
       "9.7       1\n",
       "0         1\n",
       "Name: user_score, Length: 96, dtype: int64"
      ]
     },
     "execution_count": 20,
     "metadata": {},
     "output_type": "execute_result"
    }
   ],
   "source": [
    "# получение уникальных значений и их количества\n",
    "games['user_score'].value_counts()"
   ]
  },
  {
   "cell_type": "markdown",
   "metadata": {},
   "source": [
    "Рейтинг \"E\" и \"K-A\" - обозначают одно и то же, надо их объединить под обозначением \"Е\", так как \"К-А\" - устаревшее обозначение."
   ]
  },
  {
   "cell_type": "code",
   "execution_count": 21,
   "metadata": {},
   "outputs": [
    {
     "data": {
      "text/plain": [
       "Unknown    6766\n",
       "E          3990\n",
       "T          2961\n",
       "M          1563\n",
       "E10+       1420\n",
       "EC            8\n",
       "RP            3\n",
       "K-A           3\n",
       "AO            1\n",
       "Name: rating, dtype: int64"
      ]
     },
     "execution_count": 21,
     "metadata": {},
     "output_type": "execute_result"
    }
   ],
   "source": [
    "# получение уникальных значений и их количества\n",
    "games['rating'].value_counts()"
   ]
  },
  {
   "cell_type": "code",
   "execution_count": 22,
   "metadata": {},
   "outputs": [],
   "source": [
    "# замена значений\n",
    "games['rating'] = games['rating'].replace('K-A', 'E')"
   ]
  },
  {
   "cell_type": "code",
   "execution_count": 23,
   "metadata": {},
   "outputs": [
    {
     "data": {
      "text/plain": [
       "Unknown    6766\n",
       "E          3993\n",
       "T          2961\n",
       "M          1563\n",
       "E10+       1420\n",
       "EC            8\n",
       "RP            3\n",
       "AO            1\n",
       "Name: rating, dtype: int64"
      ]
     },
     "execution_count": 23,
     "metadata": {},
     "output_type": "execute_result"
    }
   ],
   "source": [
    "# получение уникальных значений и их количества\n",
    "games['rating'].value_counts()"
   ]
  },
  {
   "cell_type": "markdown",
   "metadata": {},
   "source": [
    "Можно переходить к изменению типов данных."
   ]
  },
  {
   "cell_type": "markdown",
   "metadata": {},
   "source": [
    "### Приведение данных к нужным типам"
   ]
  },
  {
   "cell_type": "markdown",
   "metadata": {},
   "source": [
    "Пересчитаем столбцы `na_sales`, `eu_sales`, `jp_sales`, `other_sales` из млн. шт. в тыс. шт. путем домножения значений на 1000."
   ]
  },
  {
   "cell_type": "code",
   "execution_count": 24,
   "metadata": {
    "scrolled": true
   },
   "outputs": [],
   "source": [
    "# перевод млн.шт. в тыс.шт.\n",
    "games['na_sales'] = games['na_sales'] * 1000\n",
    "games['eu_sales'] = games['eu_sales'] * 1000\n",
    "games['jp_sales'] = games['jp_sales'] * 1000\n",
    "games['other_sales'] = games['other_sales'] * 1000"
   ]
  },
  {
   "cell_type": "code",
   "execution_count": 25,
   "metadata": {
    "scrolled": false
   },
   "outputs": [
    {
     "data": {
      "text/html": [
       "<div>\n",
       "<style scoped>\n",
       "    .dataframe tbody tr th:only-of-type {\n",
       "        vertical-align: middle;\n",
       "    }\n",
       "\n",
       "    .dataframe tbody tr th {\n",
       "        vertical-align: top;\n",
       "    }\n",
       "\n",
       "    .dataframe thead th {\n",
       "        text-align: right;\n",
       "    }\n",
       "</style>\n",
       "<table border=\"1\" class=\"dataframe\">\n",
       "  <thead>\n",
       "    <tr style=\"text-align: right;\">\n",
       "      <th></th>\n",
       "      <th>name</th>\n",
       "      <th>platform</th>\n",
       "      <th>year_of_release</th>\n",
       "      <th>genre</th>\n",
       "      <th>na_sales</th>\n",
       "      <th>eu_sales</th>\n",
       "      <th>jp_sales</th>\n",
       "      <th>other_sales</th>\n",
       "      <th>critic_score</th>\n",
       "      <th>user_score</th>\n",
       "      <th>rating</th>\n",
       "    </tr>\n",
       "  </thead>\n",
       "  <tbody>\n",
       "    <tr>\n",
       "      <td>6890</td>\n",
       "      <td>Resident Evil Archives: Resident Evil Zero</td>\n",
       "      <td>Wii</td>\n",
       "      <td>2008.0</td>\n",
       "      <td>Action</td>\n",
       "      <td>130.0</td>\n",
       "      <td>30.0</td>\n",
       "      <td>60.0</td>\n",
       "      <td>10.0</td>\n",
       "      <td>62.0</td>\n",
       "      <td>8.2</td>\n",
       "      <td>M</td>\n",
       "    </tr>\n",
       "    <tr>\n",
       "      <td>1063</td>\n",
       "      <td>WCW vs. nWo: World Tour</td>\n",
       "      <td>N64</td>\n",
       "      <td>1997.0</td>\n",
       "      <td>Fighting</td>\n",
       "      <td>1370.0</td>\n",
       "      <td>280.0</td>\n",
       "      <td>30.0</td>\n",
       "      <td>20.0</td>\n",
       "      <td>-1.0</td>\n",
       "      <td>-1</td>\n",
       "      <td>Unknown</td>\n",
       "    </tr>\n",
       "    <tr>\n",
       "      <td>5713</td>\n",
       "      <td>Sesame Street: Elmo's Letter Adventure</td>\n",
       "      <td>PS</td>\n",
       "      <td>1998.0</td>\n",
       "      <td>Misc</td>\n",
       "      <td>170.0</td>\n",
       "      <td>120.0</td>\n",
       "      <td>0.0</td>\n",
       "      <td>20.0</td>\n",
       "      <td>-1.0</td>\n",
       "      <td>-1</td>\n",
       "      <td>Unknown</td>\n",
       "    </tr>\n",
       "    <tr>\n",
       "      <td>7277</td>\n",
       "      <td>Yu-Gi-Oh! GX: Spirit Caller (American Sales)</td>\n",
       "      <td>DS</td>\n",
       "      <td>2006.0</td>\n",
       "      <td>Misc</td>\n",
       "      <td>180.0</td>\n",
       "      <td>20.0</td>\n",
       "      <td>0.0</td>\n",
       "      <td>20.0</td>\n",
       "      <td>-1.0</td>\n",
       "      <td>-1</td>\n",
       "      <td>Unknown</td>\n",
       "    </tr>\n",
       "    <tr>\n",
       "      <td>16386</td>\n",
       "      <td>CT Special Forces 2: Back in the Trenches</td>\n",
       "      <td>GBA</td>\n",
       "      <td>2003.0</td>\n",
       "      <td>Shooter</td>\n",
       "      <td>10.0</td>\n",
       "      <td>0.0</td>\n",
       "      <td>0.0</td>\n",
       "      <td>0.0</td>\n",
       "      <td>76.0</td>\n",
       "      <td>-1</td>\n",
       "      <td>T</td>\n",
       "    </tr>\n",
       "    <tr>\n",
       "      <td>14973</td>\n",
       "      <td>Hisshou Pachinko*Pachi-slot Kouryaku Series DS...</td>\n",
       "      <td>DS</td>\n",
       "      <td>2008.0</td>\n",
       "      <td>Misc</td>\n",
       "      <td>0.0</td>\n",
       "      <td>0.0</td>\n",
       "      <td>30.0</td>\n",
       "      <td>0.0</td>\n",
       "      <td>-1.0</td>\n",
       "      <td>-1</td>\n",
       "      <td>Unknown</td>\n",
       "    </tr>\n",
       "    <tr>\n",
       "      <td>8040</td>\n",
       "      <td>International Superstar Soccer 2000 (JP weekly...</td>\n",
       "      <td>N64</td>\n",
       "      <td>1999.0</td>\n",
       "      <td>Sports</td>\n",
       "      <td>0.0</td>\n",
       "      <td>0.0</td>\n",
       "      <td>180.0</td>\n",
       "      <td>0.0</td>\n",
       "      <td>-1.0</td>\n",
       "      <td>-1</td>\n",
       "      <td>Unknown</td>\n",
       "    </tr>\n",
       "    <tr>\n",
       "      <td>813</td>\n",
       "      <td>Dance Dance Revolution: Hottest Party</td>\n",
       "      <td>Wii</td>\n",
       "      <td>2007.0</td>\n",
       "      <td>Simulation</td>\n",
       "      <td>1350.0</td>\n",
       "      <td>520.0</td>\n",
       "      <td>0.0</td>\n",
       "      <td>190.0</td>\n",
       "      <td>73.0</td>\n",
       "      <td>7.1</td>\n",
       "      <td>E10+</td>\n",
       "    </tr>\n",
       "    <tr>\n",
       "      <td>2208</td>\n",
       "      <td>NHL 2003</td>\n",
       "      <td>PS2</td>\n",
       "      <td>2002.0</td>\n",
       "      <td>Sports</td>\n",
       "      <td>460.0</td>\n",
       "      <td>360.0</td>\n",
       "      <td>0.0</td>\n",
       "      <td>120.0</td>\n",
       "      <td>79.0</td>\n",
       "      <td>6.8</td>\n",
       "      <td>E</td>\n",
       "    </tr>\n",
       "    <tr>\n",
       "      <td>1971</td>\n",
       "      <td>Tag Team Match M.U.S.C.L.E.</td>\n",
       "      <td>NES</td>\n",
       "      <td>1985.0</td>\n",
       "      <td>Fighting</td>\n",
       "      <td>0.0</td>\n",
       "      <td>0.0</td>\n",
       "      <td>1050.0</td>\n",
       "      <td>0.0</td>\n",
       "      <td>-1.0</td>\n",
       "      <td>-1</td>\n",
       "      <td>Unknown</td>\n",
       "    </tr>\n",
       "  </tbody>\n",
       "</table>\n",
       "</div>"
      ],
      "text/plain": [
       "                                                    name platform  \\\n",
       "6890          Resident Evil Archives: Resident Evil Zero      Wii   \n",
       "1063                             WCW vs. nWo: World Tour      N64   \n",
       "5713              Sesame Street: Elmo's Letter Adventure       PS   \n",
       "7277        Yu-Gi-Oh! GX: Spirit Caller (American Sales)       DS   \n",
       "16386          CT Special Forces 2: Back in the Trenches      GBA   \n",
       "14973  Hisshou Pachinko*Pachi-slot Kouryaku Series DS...       DS   \n",
       "8040   International Superstar Soccer 2000 (JP weekly...      N64   \n",
       "813                Dance Dance Revolution: Hottest Party      Wii   \n",
       "2208                                            NHL 2003      PS2   \n",
       "1971                         Tag Team Match M.U.S.C.L.E.      NES   \n",
       "\n",
       "       year_of_release       genre  na_sales  eu_sales  jp_sales  other_sales  \\\n",
       "6890            2008.0      Action     130.0      30.0      60.0         10.0   \n",
       "1063            1997.0    Fighting    1370.0     280.0      30.0         20.0   \n",
       "5713            1998.0        Misc     170.0     120.0       0.0         20.0   \n",
       "7277            2006.0        Misc     180.0      20.0       0.0         20.0   \n",
       "16386           2003.0     Shooter      10.0       0.0       0.0          0.0   \n",
       "14973           2008.0        Misc       0.0       0.0      30.0          0.0   \n",
       "8040            1999.0      Sports       0.0       0.0     180.0          0.0   \n",
       "813             2007.0  Simulation    1350.0     520.0       0.0        190.0   \n",
       "2208            2002.0      Sports     460.0     360.0       0.0        120.0   \n",
       "1971            1985.0    Fighting       0.0       0.0    1050.0          0.0   \n",
       "\n",
       "       critic_score user_score   rating  \n",
       "6890           62.0        8.2        M  \n",
       "1063           -1.0         -1  Unknown  \n",
       "5713           -1.0         -1  Unknown  \n",
       "7277           -1.0         -1  Unknown  \n",
       "16386          76.0         -1        T  \n",
       "14973          -1.0         -1  Unknown  \n",
       "8040           -1.0         -1  Unknown  \n",
       "813            73.0        7.1     E10+  \n",
       "2208           79.0        6.8        E  \n",
       "1971           -1.0         -1  Unknown  "
      ]
     },
     "execution_count": 25,
     "metadata": {},
     "output_type": "execute_result"
    }
   ],
   "source": [
    "# получение cлучайных 10 строк датасета\n",
    "games.sample(10)"
   ]
  },
  {
   "cell_type": "markdown",
   "metadata": {},
   "source": [
    "Переведем столбцы `year_of_release`, `na_sales`, `eu_sales`, `jp_sales`, `other_sales` и `critic_score`в целочисленный формат."
   ]
  },
  {
   "cell_type": "code",
   "execution_count": 26,
   "metadata": {
    "scrolled": true
   },
   "outputs": [],
   "source": [
    "# замена типа данных\n",
    "games = games.astype({'year_of_release': \"int64\", \n",
    "                    'na_sales': \"int64\",\n",
    "                    'eu_sales': \"int64\",\n",
    "                    'jp_sales': \"int64\", \n",
    "                    'other_sales': \"int64\",\n",
    "                    'critic_score': \"int64\"\n",
    "                   })"
   ]
  },
  {
   "cell_type": "markdown",
   "metadata": {},
   "source": [
    "Переведем значения столбца `user_score` в вещественный тип."
   ]
  },
  {
   "cell_type": "code",
   "execution_count": 27,
   "metadata": {
    "scrolled": true
   },
   "outputs": [],
   "source": [
    "# замена типа данных\n",
    "games['user_score'] = games['user_score'].astype('float')"
   ]
  },
  {
   "cell_type": "code",
   "execution_count": 28,
   "metadata": {
    "scrolled": true
   },
   "outputs": [
    {
     "name": "stdout",
     "output_type": "stream",
     "text": [
      "<class 'pandas.core.frame.DataFrame'>\n",
      "RangeIndex: 16715 entries, 0 to 16714\n",
      "Data columns (total 11 columns):\n",
      "name               16715 non-null object\n",
      "platform           16715 non-null object\n",
      "year_of_release    16715 non-null int64\n",
      "genre              16715 non-null object\n",
      "na_sales           16715 non-null int64\n",
      "eu_sales           16715 non-null int64\n",
      "jp_sales           16715 non-null int64\n",
      "other_sales        16715 non-null int64\n",
      "critic_score       16715 non-null int64\n",
      "user_score         16715 non-null float64\n",
      "rating             16715 non-null object\n",
      "dtypes: float64(1), int64(6), object(4)\n",
      "memory usage: 1.4+ MB\n"
     ]
    }
   ],
   "source": [
    "# получение общей информации о данных датасета\n",
    "games.info()"
   ]
  },
  {
   "cell_type": "markdown",
   "metadata": {},
   "source": [
    "### Расчет суммарных продаж во всех регионах"
   ]
  },
  {
   "cell_type": "markdown",
   "metadata": {},
   "source": [
    "Суммарные продаже также будут представлены в тыс. шт."
   ]
  },
  {
   "cell_type": "code",
   "execution_count": 29,
   "metadata": {
    "scrolled": true
   },
   "outputs": [],
   "source": [
    "# расчет продаж и добавление столбца с данными\n",
    "games['total_sales'] = games['na_sales'] + games['eu_sales'] + games['jp_sales'] + games['other_sales']"
   ]
  },
  {
   "cell_type": "code",
   "execution_count": 30,
   "metadata": {},
   "outputs": [
    {
     "data": {
      "text/html": [
       "<div>\n",
       "<style scoped>\n",
       "    .dataframe tbody tr th:only-of-type {\n",
       "        vertical-align: middle;\n",
       "    }\n",
       "\n",
       "    .dataframe tbody tr th {\n",
       "        vertical-align: top;\n",
       "    }\n",
       "\n",
       "    .dataframe thead th {\n",
       "        text-align: right;\n",
       "    }\n",
       "</style>\n",
       "<table border=\"1\" class=\"dataframe\">\n",
       "  <thead>\n",
       "    <tr style=\"text-align: right;\">\n",
       "      <th></th>\n",
       "      <th>name</th>\n",
       "      <th>platform</th>\n",
       "      <th>year_of_release</th>\n",
       "      <th>genre</th>\n",
       "      <th>na_sales</th>\n",
       "      <th>eu_sales</th>\n",
       "      <th>jp_sales</th>\n",
       "      <th>other_sales</th>\n",
       "      <th>critic_score</th>\n",
       "      <th>user_score</th>\n",
       "      <th>rating</th>\n",
       "      <th>total_sales</th>\n",
       "    </tr>\n",
       "  </thead>\n",
       "  <tbody>\n",
       "    <tr>\n",
       "      <td>4856</td>\n",
       "      <td>Rumble Roses</td>\n",
       "      <td>PS2</td>\n",
       "      <td>2004</td>\n",
       "      <td>Fighting</td>\n",
       "      <td>190</td>\n",
       "      <td>150</td>\n",
       "      <td>0</td>\n",
       "      <td>50</td>\n",
       "      <td>66</td>\n",
       "      <td>8.5</td>\n",
       "      <td>M</td>\n",
       "      <td>390</td>\n",
       "    </tr>\n",
       "    <tr>\n",
       "      <td>2799</td>\n",
       "      <td>Style Savvy: Trendsetters</td>\n",
       "      <td>3DS</td>\n",
       "      <td>2012</td>\n",
       "      <td>Simulation</td>\n",
       "      <td>160</td>\n",
       "      <td>20</td>\n",
       "      <td>530</td>\n",
       "      <td>10</td>\n",
       "      <td>76</td>\n",
       "      <td>8.0</td>\n",
       "      <td>E</td>\n",
       "      <td>720</td>\n",
       "    </tr>\n",
       "    <tr>\n",
       "      <td>2564</td>\n",
       "      <td>Prince of Persia: Warrior Within</td>\n",
       "      <td>XB</td>\n",
       "      <td>2004</td>\n",
       "      <td>Action</td>\n",
       "      <td>480</td>\n",
       "      <td>280</td>\n",
       "      <td>0</td>\n",
       "      <td>40</td>\n",
       "      <td>83</td>\n",
       "      <td>7.5</td>\n",
       "      <td>M</td>\n",
       "      <td>800</td>\n",
       "    </tr>\n",
       "    <tr>\n",
       "      <td>12017</td>\n",
       "      <td>Mia Hamm Soccer 64</td>\n",
       "      <td>N64</td>\n",
       "      <td>2000</td>\n",
       "      <td>Sports</td>\n",
       "      <td>60</td>\n",
       "      <td>10</td>\n",
       "      <td>0</td>\n",
       "      <td>0</td>\n",
       "      <td>-1</td>\n",
       "      <td>-1.0</td>\n",
       "      <td>Unknown</td>\n",
       "      <td>70</td>\n",
       "    </tr>\n",
       "    <tr>\n",
       "      <td>14729</td>\n",
       "      <td>Fireblade</td>\n",
       "      <td>GC</td>\n",
       "      <td>2002</td>\n",
       "      <td>Action</td>\n",
       "      <td>20</td>\n",
       "      <td>10</td>\n",
       "      <td>0</td>\n",
       "      <td>0</td>\n",
       "      <td>-1</td>\n",
       "      <td>-1.0</td>\n",
       "      <td>T</td>\n",
       "      <td>30</td>\n",
       "    </tr>\n",
       "    <tr>\n",
       "      <td>9942</td>\n",
       "      <td>Ultimate Puzzle Games: Sudoku Edition</td>\n",
       "      <td>DS</td>\n",
       "      <td>2007</td>\n",
       "      <td>Puzzle</td>\n",
       "      <td>110</td>\n",
       "      <td>0</td>\n",
       "      <td>0</td>\n",
       "      <td>10</td>\n",
       "      <td>-1</td>\n",
       "      <td>-1.0</td>\n",
       "      <td>E</td>\n",
       "      <td>120</td>\n",
       "    </tr>\n",
       "    <tr>\n",
       "      <td>6424</td>\n",
       "      <td>Megamind: The Blue Defender</td>\n",
       "      <td>DS</td>\n",
       "      <td>2010</td>\n",
       "      <td>Adventure</td>\n",
       "      <td>190</td>\n",
       "      <td>60</td>\n",
       "      <td>0</td>\n",
       "      <td>20</td>\n",
       "      <td>-1</td>\n",
       "      <td>-1.0</td>\n",
       "      <td>Unknown</td>\n",
       "      <td>270</td>\n",
       "    </tr>\n",
       "    <tr>\n",
       "      <td>16368</td>\n",
       "      <td>Mamoru-kun wa Norowarete Shimatta!</td>\n",
       "      <td>X360</td>\n",
       "      <td>2009</td>\n",
       "      <td>Shooter</td>\n",
       "      <td>0</td>\n",
       "      <td>0</td>\n",
       "      <td>10</td>\n",
       "      <td>0</td>\n",
       "      <td>-1</td>\n",
       "      <td>-1.0</td>\n",
       "      <td>Unknown</td>\n",
       "      <td>10</td>\n",
       "    </tr>\n",
       "    <tr>\n",
       "      <td>10900</td>\n",
       "      <td>Big League Sports: Summer</td>\n",
       "      <td>Wii</td>\n",
       "      <td>2009</td>\n",
       "      <td>Sports</td>\n",
       "      <td>90</td>\n",
       "      <td>0</td>\n",
       "      <td>0</td>\n",
       "      <td>10</td>\n",
       "      <td>-1</td>\n",
       "      <td>-1.0</td>\n",
       "      <td>E</td>\n",
       "      <td>100</td>\n",
       "    </tr>\n",
       "    <tr>\n",
       "      <td>4827</td>\n",
       "      <td>Mother 3</td>\n",
       "      <td>GBA</td>\n",
       "      <td>2006</td>\n",
       "      <td>Role-Playing</td>\n",
       "      <td>0</td>\n",
       "      <td>0</td>\n",
       "      <td>390</td>\n",
       "      <td>10</td>\n",
       "      <td>-1</td>\n",
       "      <td>-1.0</td>\n",
       "      <td>Unknown</td>\n",
       "      <td>400</td>\n",
       "    </tr>\n",
       "  </tbody>\n",
       "</table>\n",
       "</div>"
      ],
      "text/plain": [
       "                                        name platform  year_of_release  \\\n",
       "4856                            Rumble Roses      PS2             2004   \n",
       "2799               Style Savvy: Trendsetters      3DS             2012   \n",
       "2564        Prince of Persia: Warrior Within       XB             2004   \n",
       "12017                     Mia Hamm Soccer 64      N64             2000   \n",
       "14729                              Fireblade       GC             2002   \n",
       "9942   Ultimate Puzzle Games: Sudoku Edition       DS             2007   \n",
       "6424             Megamind: The Blue Defender       DS             2010   \n",
       "16368     Mamoru-kun wa Norowarete Shimatta!     X360             2009   \n",
       "10900              Big League Sports: Summer      Wii             2009   \n",
       "4827                                Mother 3      GBA             2006   \n",
       "\n",
       "              genre  na_sales  eu_sales  jp_sales  other_sales  critic_score  \\\n",
       "4856       Fighting       190       150         0           50            66   \n",
       "2799     Simulation       160        20       530           10            76   \n",
       "2564         Action       480       280         0           40            83   \n",
       "12017        Sports        60        10         0            0            -1   \n",
       "14729        Action        20        10         0            0            -1   \n",
       "9942         Puzzle       110         0         0           10            -1   \n",
       "6424      Adventure       190        60         0           20            -1   \n",
       "16368       Shooter         0         0        10            0            -1   \n",
       "10900        Sports        90         0         0           10            -1   \n",
       "4827   Role-Playing         0         0       390           10            -1   \n",
       "\n",
       "       user_score   rating  total_sales  \n",
       "4856          8.5        M          390  \n",
       "2799          8.0        E          720  \n",
       "2564          7.5        M          800  \n",
       "12017        -1.0  Unknown           70  \n",
       "14729        -1.0        T           30  \n",
       "9942         -1.0        E          120  \n",
       "6424         -1.0  Unknown          270  \n",
       "16368        -1.0  Unknown           10  \n",
       "10900        -1.0        E          100  \n",
       "4827         -1.0  Unknown          400  "
      ]
     },
     "execution_count": 30,
     "metadata": {},
     "output_type": "execute_result"
    }
   ],
   "source": [
    "# получение cлучайных 10 строк датасета\n",
    "games.sample(10)"
   ]
  },
  {
   "cell_type": "markdown",
   "metadata": {},
   "source": [
    "### Выводы"
   ]
  },
  {
   "cell_type": "markdown",
   "metadata": {},
   "source": [
    "Названия столбцов были приведены к общепринятому в питоне нижнему регистру.\n",
    "\n",
    "Было обнаружено и устранено большое количество пропусков в данных. Пропуски в названии и жанре не ясно с чем связаны, так как при этом были данные по продажам и году релиза. К счастью таких пропуска всего 2. Думаю, что пропуски в годах релиза могут быть связаны с нехваткой информации когда та или иная игра была выпущена именно на данной платформе, а пропуски в рейтинге и оценках критиков и пользователей, возможно связаны с нехваткой информации, для их определения.\n",
    "\n",
    "Данные были приведены к необходимым типам данных, а также был добавлен столбец с суммарными продажами."
   ]
  },
  {
   "cell_type": "markdown",
   "metadata": {},
   "source": [
    "## Исследовательский анализ данных"
   ]
  },
  {
   "cell_type": "markdown",
   "metadata": {},
   "source": [
    "### Cколько игр выпускалось в разные годы. Важны ли данные за все периоды?"
   ]
  },
  {
   "cell_type": "markdown",
   "metadata": {},
   "source": [
    "Данные представлены с 1980 по 2016 год, то есть за 37 лет."
   ]
  },
  {
   "cell_type": "code",
   "execution_count": 31,
   "metadata": {},
   "outputs": [
    {
     "data": {
      "text/plain": [
       "Text(0, 0.5, 'Количество релизов игр')"
      ]
     },
     "execution_count": 31,
     "metadata": {},
     "output_type": "execute_result"
    },
    {
     "data": {
      "image/png": "[encoded data removed]",
      "text/plain": [
       "<Figure size 1152x576 with 1 Axes>"
      ]
     },
     "metadata": {
      "needs_background": "light"
     },
     "output_type": "display_data"
    }
   ],
   "source": [
    "games[games['year_of_release'] != 0]['year_of_release'].plot(kind='hist', bins=74, xlim=(1980, 2016), figsize=(16,8), grid=True)\n",
    "plt.title('Распределение по годам релиза', fontsize=22)\n",
    "plt.xlabel('Год', fontsize=16)\n",
    "plt.ylabel('Количество релизов игр', fontsize=16)"
   ]
  },
  {
   "cell_type": "markdown",
   "metadata": {},
   "source": [
    "Игры стали выпускать в 80-ых, и их уровень был низок вплоть до 1995 года. С развитием мощностей компьютеров и увеличением пользователей росло и количество выпускаемых игр. С 2009 года начался спад из-за насыщения рынка и перехода на мобильные платформы.\n",
    "\n",
    "Даннае до 1995 года не так важны для анализа, так как в то время игры еще не были столь популярны."
   ]
  },
  {
   "cell_type": "markdown",
   "metadata": {},
   "source": [
    "### Как менялись продажи по платформам. Выбрать платформы с наибольшими суммарными продажами и построить распределение по годам. За какой характерный срок появляются новые и исчезают старые платформы?"
   ]
  },
  {
   "cell_type": "markdown",
   "metadata": {},
   "source": [
    "Выберем платформы с наибольшими суммарными продажами игр за весь рассматриваемый период"
   ]
  },
  {
   "cell_type": "code",
   "execution_count": 32,
   "metadata": {},
   "outputs": [],
   "source": [
    "# выбор платформ с наибольшими суммарными продажами\n",
    "platform_max = games.groupby(['platform']).agg({'total_sales': 'sum'}).reset_index()"
   ]
  },
  {
   "cell_type": "code",
   "execution_count": 33,
   "metadata": {},
   "outputs": [
    {
     "data": {
      "text/html": [
       "<div>\n",
       "<style scoped>\n",
       "    .dataframe tbody tr th:only-of-type {\n",
       "        vertical-align: middle;\n",
       "    }\n",
       "\n",
       "    .dataframe tbody tr th {\n",
       "        vertical-align: top;\n",
       "    }\n",
       "\n",
       "    .dataframe thead th {\n",
       "        text-align: right;\n",
       "    }\n",
       "</style>\n",
       "<table border=\"1\" class=\"dataframe\">\n",
       "  <thead>\n",
       "    <tr style=\"text-align: right;\">\n",
       "      <th></th>\n",
       "      <th>platform</th>\n",
       "      <th>total_sales</th>\n",
       "    </tr>\n",
       "  </thead>\n",
       "  <tbody>\n",
       "    <tr>\n",
       "      <td>16</td>\n",
       "      <td>PS2</td>\n",
       "      <td>1255767</td>\n",
       "    </tr>\n",
       "    <tr>\n",
       "      <td>28</td>\n",
       "      <td>X360</td>\n",
       "      <td>971419</td>\n",
       "    </tr>\n",
       "    <tr>\n",
       "      <td>17</td>\n",
       "      <td>PS3</td>\n",
       "      <td>939646</td>\n",
       "    </tr>\n",
       "    <tr>\n",
       "      <td>26</td>\n",
       "      <td>Wii</td>\n",
       "      <td>907508</td>\n",
       "    </tr>\n",
       "    <tr>\n",
       "      <td>4</td>\n",
       "      <td>DS</td>\n",
       "      <td>806120</td>\n",
       "    </tr>\n",
       "    <tr>\n",
       "      <td>15</td>\n",
       "      <td>PS</td>\n",
       "      <td>730857</td>\n",
       "    </tr>\n",
       "    <tr>\n",
       "      <td>6</td>\n",
       "      <td>GBA</td>\n",
       "      <td>317850</td>\n",
       "    </tr>\n",
       "    <tr>\n",
       "      <td>18</td>\n",
       "      <td>PS4</td>\n",
       "      <td>314140</td>\n",
       "    </tr>\n",
       "    <tr>\n",
       "      <td>19</td>\n",
       "      <td>PSP</td>\n",
       "      <td>294050</td>\n",
       "    </tr>\n",
       "    <tr>\n",
       "      <td>13</td>\n",
       "      <td>PC</td>\n",
       "      <td>259519</td>\n",
       "    </tr>\n",
       "  </tbody>\n",
       "</table>\n",
       "</div>"
      ],
      "text/plain": [
       "   platform  total_sales\n",
       "16      PS2      1255767\n",
       "28     X360       971419\n",
       "17      PS3       939646\n",
       "26      Wii       907508\n",
       "4        DS       806120\n",
       "15       PS       730857\n",
       "6       GBA       317850\n",
       "18      PS4       314140\n",
       "19      PSP       294050\n",
       "13       PC       259519"
      ]
     },
     "execution_count": 33,
     "metadata": {},
     "output_type": "execute_result"
    }
   ],
   "source": [
    "# сортировка по убыванию и вывод первых 10 строк\n",
    "platform_max.sort_values(by='total_sales', ascending=False).head(10)"
   ]
  },
  {
   "cell_type": "markdown",
   "metadata": {},
   "source": [
    "Выберем первые шесть платформ, т.к. начиная с седьмой выручка заметно ниже."
   ]
  },
  {
   "cell_type": "code",
   "execution_count": 34,
   "metadata": {},
   "outputs": [],
   "source": [
    "# список платформ\n",
    "top_platforms = platform_max.sort_values(by='total_sales', ascending=False).head(6).platform.to_list()"
   ]
  },
  {
   "cell_type": "code",
   "execution_count": 35,
   "metadata": {},
   "outputs": [],
   "source": [
    "# выделение данных по списку платформ\n",
    "platforms = games.query('platform in @top_platforms')"
   ]
  },
  {
   "cell_type": "code",
   "execution_count": 36,
   "metadata": {},
   "outputs": [],
   "source": [
    "# отфильтруем данные без года выпуска\n",
    "platform_sales = platforms.query('year_of_release != 0')"
   ]
  },
  {
   "cell_type": "code",
   "execution_count": 37,
   "metadata": {},
   "outputs": [
    {
     "data": {
      "text/plain": [
       "array([2006, 2008, 2009, 2005, 2007, 2010, 2013, 2004, 2002, 2001, 2011,\n",
       "       2012, 1997, 1999, 2003, 1998, 1996, 2000, 2014, 1995, 2015, 1994,\n",
       "       2016, 1985])"
      ]
     },
     "execution_count": 37,
     "metadata": {},
     "output_type": "execute_result"
    }
   ],
   "source": [
    "# получение уникальных значений\n",
    "platform_sales['year_of_release'].unique()"
   ]
  },
  {
   "cell_type": "code",
   "execution_count": 38,
   "metadata": {},
   "outputs": [
    {
     "data": {
      "text/plain": [
       "array(['Wii', 'DS', 'X360', 'PS3', 'PS2', 'PS'], dtype=object)"
      ]
     },
     "execution_count": 38,
     "metadata": {},
     "output_type": "execute_result"
    }
   ],
   "source": [
    "# получение уникальных значений\n",
    "platform_sales['platform'].unique()"
   ]
  },
  {
   "cell_type": "code",
   "execution_count": 39,
   "metadata": {},
   "outputs": [
    {
     "data": {
      "text/plain": [
       "Text(0, 0.5, 'Суммарные продажи, тыс.шт.')"
      ]
     },
     "execution_count": 39,
     "metadata": {},
     "output_type": "execute_result"
    },
    {
     "data": {
      "image/png": "[encoded data removed]",
      "text/plain": [
       "<Figure size 1152x576 with 1 Axes>"
      ]
     },
     "metadata": {
      "needs_background": "light"
     },
     "output_type": "display_data"
    }
   ],
   "source": [
    "# создание сводной таблицы и построение графиков\n",
    "platform_sales.pivot_table(index = 'year_of_release', columns = 'platform',\n",
    "                                values = 'total_sales', aggfunc = 'sum').plot(xlim = (1980, 2016), figsize=(16, 8), grid=True)\n",
    "plt.title('График суммарных продаж игр для популярных платформ по годам', fontsize=16)\n",
    "plt.xlabel('Год', fontsize=12)\n",
    "plt.ylabel('Суммарные продажи, тыс.шт.', fontsize=12)"
   ]
  },
  {
   "cell_type": "markdown",
   "metadata": {},
   "source": [
    "Посмотрим на какой характерный срок появляются новые и исчезают старые платформы:\n",
    "\n",
    "* PS - прожила с 1994 года до 2003, почти 10 лет;\n",
    "* PS2 - с 2000 до 2011 года - 11 лет;\n",
    "* PS3 - с 2006 и все еще существовала на момент выгрузки данных;\n",
    "* DS - популярность начала расти с 2004 года, пик в 2008, конец срока службы - 2013 год - 8 активных лет жизни;\n",
    "* Wii - с 2006, но в 2016 уже почти изжила себя - опять 10 лет.\n",
    "\n",
    "Таким образом, в среднем консоль живет 10 лет. И жила бы больше, если б не выходили более новые консоли. Но это неизбежно, т.к. прогресс идет вперед и \"железо\" в старых консолях перестает отвечать техническим требованиям новых игр."
   ]
  },
  {
   "cell_type": "markdown",
   "metadata": {},
   "source": [
    "### Взять данные за соответствующий актуальный период."
   ]
  },
  {
   "cell_type": "markdown",
   "metadata": {},
   "source": [
    "Нам необходимо выбрать актуальный период - период, за который мы будем оценивать наши данные, на основании выводов по которым будем строить предсказательные модели на 2017 год.\n",
    "\n",
    "На мой взгляд, актуальным периодомявляется период с 2013 по 2016 год, так как продажи вышли на некое плато и пиковые продажи за предыдущие года не будут вносить существенную ошибку в прогнозировании.\n",
    "Предыдущие года отбросим."
   ]
  },
  {
   "cell_type": "code",
   "execution_count": 40,
   "metadata": {},
   "outputs": [],
   "source": [
    "# выделим актуальный период\n",
    "actual_years = games[games['year_of_release'] >= 2013]"
   ]
  },
  {
   "cell_type": "code",
   "execution_count": 41,
   "metadata": {},
   "outputs": [
    {
     "data": {
      "text/plain": [
       "array([2013, 2015, 2014, 2016])"
      ]
     },
     "execution_count": 41,
     "metadata": {},
     "output_type": "execute_result"
    }
   ],
   "source": [
    "# получение уникальных значений\n",
    "actual_years['year_of_release'].unique()"
   ]
  },
  {
   "cell_type": "code",
   "execution_count": 42,
   "metadata": {},
   "outputs": [
    {
     "data": {
      "text/html": [
       "<div>\n",
       "<style scoped>\n",
       "    .dataframe tbody tr th:only-of-type {\n",
       "        vertical-align: middle;\n",
       "    }\n",
       "\n",
       "    .dataframe tbody tr th {\n",
       "        vertical-align: top;\n",
       "    }\n",
       "\n",
       "    .dataframe thead th {\n",
       "        text-align: right;\n",
       "    }\n",
       "</style>\n",
       "<table border=\"1\" class=\"dataframe\">\n",
       "  <thead>\n",
       "    <tr style=\"text-align: right;\">\n",
       "      <th></th>\n",
       "      <th>name</th>\n",
       "      <th>platform</th>\n",
       "      <th>year_of_release</th>\n",
       "      <th>genre</th>\n",
       "      <th>na_sales</th>\n",
       "      <th>eu_sales</th>\n",
       "      <th>jp_sales</th>\n",
       "      <th>other_sales</th>\n",
       "      <th>critic_score</th>\n",
       "      <th>user_score</th>\n",
       "      <th>rating</th>\n",
       "      <th>total_sales</th>\n",
       "    </tr>\n",
       "  </thead>\n",
       "  <tbody>\n",
       "    <tr>\n",
       "      <td>15814</td>\n",
       "      <td>Koihime Enbu</td>\n",
       "      <td>PS4</td>\n",
       "      <td>2016</td>\n",
       "      <td>Fighting</td>\n",
       "      <td>0</td>\n",
       "      <td>0</td>\n",
       "      <td>20</td>\n",
       "      <td>0</td>\n",
       "      <td>-1</td>\n",
       "      <td>-1.0</td>\n",
       "      <td>Unknown</td>\n",
       "      <td>20</td>\n",
       "    </tr>\n",
       "    <tr>\n",
       "      <td>16258</td>\n",
       "      <td>Hanayamata: Yosakoi Live</td>\n",
       "      <td>PSV</td>\n",
       "      <td>2014</td>\n",
       "      <td>Adventure</td>\n",
       "      <td>0</td>\n",
       "      <td>0</td>\n",
       "      <td>10</td>\n",
       "      <td>0</td>\n",
       "      <td>-1</td>\n",
       "      <td>-1.0</td>\n",
       "      <td>Unknown</td>\n",
       "      <td>10</td>\n",
       "    </tr>\n",
       "    <tr>\n",
       "      <td>7158</td>\n",
       "      <td>LEGO The Hobbit</td>\n",
       "      <td>WiiU</td>\n",
       "      <td>2014</td>\n",
       "      <td>Action</td>\n",
       "      <td>90</td>\n",
       "      <td>110</td>\n",
       "      <td>0</td>\n",
       "      <td>20</td>\n",
       "      <td>-1</td>\n",
       "      <td>7.8</td>\n",
       "      <td>E10+</td>\n",
       "      <td>220</td>\n",
       "    </tr>\n",
       "    <tr>\n",
       "      <td>16654</td>\n",
       "      <td>Ben 10 Omniverse 2</td>\n",
       "      <td>X360</td>\n",
       "      <td>2013</td>\n",
       "      <td>Action</td>\n",
       "      <td>0</td>\n",
       "      <td>10</td>\n",
       "      <td>0</td>\n",
       "      <td>0</td>\n",
       "      <td>-1</td>\n",
       "      <td>5.1</td>\n",
       "      <td>E10+</td>\n",
       "      <td>10</td>\n",
       "    </tr>\n",
       "    <tr>\n",
       "      <td>9966</td>\n",
       "      <td>2 in 1 Combo Pack: Sonic Heroes / Super Monkey...</td>\n",
       "      <td>X360</td>\n",
       "      <td>2013</td>\n",
       "      <td>Misc</td>\n",
       "      <td>90</td>\n",
       "      <td>10</td>\n",
       "      <td>0</td>\n",
       "      <td>10</td>\n",
       "      <td>-1</td>\n",
       "      <td>-1.0</td>\n",
       "      <td>Unknown</td>\n",
       "      <td>110</td>\n",
       "    </tr>\n",
       "    <tr>\n",
       "      <td>14401</td>\n",
       "      <td>Trials Fusion</td>\n",
       "      <td>PC</td>\n",
       "      <td>2014</td>\n",
       "      <td>Racing</td>\n",
       "      <td>0</td>\n",
       "      <td>30</td>\n",
       "      <td>0</td>\n",
       "      <td>0</td>\n",
       "      <td>80</td>\n",
       "      <td>6.8</td>\n",
       "      <td>E10+</td>\n",
       "      <td>30</td>\n",
       "    </tr>\n",
       "    <tr>\n",
       "      <td>14643</td>\n",
       "      <td>Kung Fu Panda: Showdown of Legendary Legends</td>\n",
       "      <td>3DS</td>\n",
       "      <td>2015</td>\n",
       "      <td>Action</td>\n",
       "      <td>0</td>\n",
       "      <td>30</td>\n",
       "      <td>0</td>\n",
       "      <td>0</td>\n",
       "      <td>-1</td>\n",
       "      <td>-1.0</td>\n",
       "      <td>E10+</td>\n",
       "      <td>30</td>\n",
       "    </tr>\n",
       "    <tr>\n",
       "      <td>14339</td>\n",
       "      <td>Deus Ex: Mankind Divided</td>\n",
       "      <td>PC</td>\n",
       "      <td>2016</td>\n",
       "      <td>Role-Playing</td>\n",
       "      <td>0</td>\n",
       "      <td>30</td>\n",
       "      <td>0</td>\n",
       "      <td>0</td>\n",
       "      <td>83</td>\n",
       "      <td>6.1</td>\n",
       "      <td>M</td>\n",
       "      <td>30</td>\n",
       "    </tr>\n",
       "    <tr>\n",
       "      <td>10371</td>\n",
       "      <td>WWE 2K17</td>\n",
       "      <td>X360</td>\n",
       "      <td>2016</td>\n",
       "      <td>Sports</td>\n",
       "      <td>50</td>\n",
       "      <td>40</td>\n",
       "      <td>0</td>\n",
       "      <td>10</td>\n",
       "      <td>-1</td>\n",
       "      <td>-1.0</td>\n",
       "      <td>T</td>\n",
       "      <td>100</td>\n",
       "    </tr>\n",
       "    <tr>\n",
       "      <td>631</td>\n",
       "      <td>NBA 2K15</td>\n",
       "      <td>PS4</td>\n",
       "      <td>2014</td>\n",
       "      <td>Sports</td>\n",
       "      <td>1470</td>\n",
       "      <td>540</td>\n",
       "      <td>10</td>\n",
       "      <td>430</td>\n",
       "      <td>83</td>\n",
       "      <td>7.0</td>\n",
       "      <td>E</td>\n",
       "      <td>2450</td>\n",
       "    </tr>\n",
       "  </tbody>\n",
       "</table>\n",
       "</div>"
      ],
      "text/plain": [
       "                                                    name platform  \\\n",
       "15814                                       Koihime Enbu      PS4   \n",
       "16258                           Hanayamata: Yosakoi Live      PSV   \n",
       "7158                                     LEGO The Hobbit     WiiU   \n",
       "16654                                 Ben 10 Omniverse 2     X360   \n",
       "9966   2 in 1 Combo Pack: Sonic Heroes / Super Monkey...     X360   \n",
       "14401                                      Trials Fusion       PC   \n",
       "14643       Kung Fu Panda: Showdown of Legendary Legends      3DS   \n",
       "14339                           Deus Ex: Mankind Divided       PC   \n",
       "10371                                           WWE 2K17     X360   \n",
       "631                                             NBA 2K15      PS4   \n",
       "\n",
       "       year_of_release         genre  na_sales  eu_sales  jp_sales  \\\n",
       "15814             2016      Fighting         0         0        20   \n",
       "16258             2014     Adventure         0         0        10   \n",
       "7158              2014        Action        90       110         0   \n",
       "16654             2013        Action         0        10         0   \n",
       "9966              2013          Misc        90        10         0   \n",
       "14401             2014        Racing         0        30         0   \n",
       "14643             2015        Action         0        30         0   \n",
       "14339             2016  Role-Playing         0        30         0   \n",
       "10371             2016        Sports        50        40         0   \n",
       "631               2014        Sports      1470       540        10   \n",
       "\n",
       "       other_sales  critic_score  user_score   rating  total_sales  \n",
       "15814            0            -1        -1.0  Unknown           20  \n",
       "16258            0            -1        -1.0  Unknown           10  \n",
       "7158            20            -1         7.8     E10+          220  \n",
       "16654            0            -1         5.1     E10+           10  \n",
       "9966            10            -1        -1.0  Unknown          110  \n",
       "14401            0            80         6.8     E10+           30  \n",
       "14643            0            -1        -1.0     E10+           30  \n",
       "14339            0            83         6.1        M           30  \n",
       "10371           10            -1        -1.0        T          100  \n",
       "631            430            83         7.0        E         2450  "
      ]
     },
     "execution_count": 42,
     "metadata": {},
     "output_type": "execute_result"
    }
   ],
   "source": [
    "# получение cлучайных 10 строк датасета\n",
    "actual_years.sample(10)"
   ]
  },
  {
   "cell_type": "markdown",
   "metadata": {},
   "source": [
    "### Какие платформы лидируют по продажам, растут или падают? Выберать несколько потенциально прибыльных платформ."
   ]
  },
  {
   "cell_type": "code",
   "execution_count": 43,
   "metadata": {},
   "outputs": [],
   "source": [
    "# возьмем данные за 2016 год\n",
    "platform_sales_2016 = actual_years.query('year_of_release == 2016')"
   ]
  },
  {
   "cell_type": "code",
   "execution_count": 44,
   "metadata": {},
   "outputs": [],
   "source": [
    "# выбор платформ с наибольшими суммарными продажами\n",
    "platform_max_2016 = platform_sales_2016.groupby(['platform']).agg({'total_sales': 'sum'}).reset_index()"
   ]
  },
  {
   "cell_type": "code",
   "execution_count": 45,
   "metadata": {},
   "outputs": [
    {
     "data": {
      "text/html": [
       "<div>\n",
       "<style scoped>\n",
       "    .dataframe tbody tr th:only-of-type {\n",
       "        vertical-align: middle;\n",
       "    }\n",
       "\n",
       "    .dataframe tbody tr th {\n",
       "        vertical-align: top;\n",
       "    }\n",
       "\n",
       "    .dataframe thead th {\n",
       "        text-align: right;\n",
       "    }\n",
       "</style>\n",
       "<table border=\"1\" class=\"dataframe\">\n",
       "  <thead>\n",
       "    <tr style=\"text-align: right;\">\n",
       "      <th></th>\n",
       "      <th>platform</th>\n",
       "      <th>total_sales</th>\n",
       "    </tr>\n",
       "  </thead>\n",
       "  <tbody>\n",
       "    <tr>\n",
       "      <td>3</td>\n",
       "      <td>PS4</td>\n",
       "      <td>69250</td>\n",
       "    </tr>\n",
       "    <tr>\n",
       "      <td>8</td>\n",
       "      <td>XOne</td>\n",
       "      <td>26150</td>\n",
       "    </tr>\n",
       "    <tr>\n",
       "      <td>0</td>\n",
       "      <td>3DS</td>\n",
       "      <td>15140</td>\n",
       "    </tr>\n",
       "    <tr>\n",
       "      <td>1</td>\n",
       "      <td>PC</td>\n",
       "      <td>5250</td>\n",
       "    </tr>\n",
       "    <tr>\n",
       "      <td>6</td>\n",
       "      <td>WiiU</td>\n",
       "      <td>4600</td>\n",
       "    </tr>\n",
       "    <tr>\n",
       "      <td>4</td>\n",
       "      <td>PSV</td>\n",
       "      <td>4250</td>\n",
       "    </tr>\n",
       "    <tr>\n",
       "      <td>2</td>\n",
       "      <td>PS3</td>\n",
       "      <td>3600</td>\n",
       "    </tr>\n",
       "    <tr>\n",
       "      <td>7</td>\n",
       "      <td>X360</td>\n",
       "      <td>1520</td>\n",
       "    </tr>\n",
       "    <tr>\n",
       "      <td>5</td>\n",
       "      <td>Wii</td>\n",
       "      <td>180</td>\n",
       "    </tr>\n",
       "  </tbody>\n",
       "</table>\n",
       "</div>"
      ],
      "text/plain": [
       "  platform  total_sales\n",
       "3      PS4        69250\n",
       "8     XOne        26150\n",
       "0      3DS        15140\n",
       "1       PC         5250\n",
       "6     WiiU         4600\n",
       "4      PSV         4250\n",
       "2      PS3         3600\n",
       "7     X360         1520\n",
       "5      Wii          180"
      ]
     },
     "execution_count": 45,
     "metadata": {},
     "output_type": "execute_result"
    }
   ],
   "source": [
    "# сортировка по убыванию и вывод первых 10 строк\n",
    "platform_max_2016.sort_values(by='total_sales', ascending=False).head(10)"
   ]
  },
  {
   "cell_type": "markdown",
   "metadata": {},
   "source": [
    "На конец 2016 года лидируют по продажам следующие платформы:\n",
    "\n",
    "* PS4;\n",
    "* XOne;\n",
    "* 3DS."
   ]
  },
  {
   "cell_type": "code",
   "execution_count": 46,
   "metadata": {},
   "outputs": [
    {
     "data": {
      "image/png": "[encoded data removed]",
      "text/plain": [
       "<Figure size 1152x576 with 1 Axes>"
      ]
     },
     "metadata": {
      "needs_background": "light"
     },
     "output_type": "display_data"
    }
   ],
   "source": [
    "# создание сводной таблицы и построение графиков\n",
    "actual_years.pivot_table(index = 'year_of_release', columns = 'platform',\n",
    "                                values = 'total_sales', aggfunc = 'sum').plot(xlim = (2013, 2016), figsize=(16, 8), grid=True)\n",
    "plt.title('График суммарных продаж игр для популярных платформ по годам', fontsize=16)\n",
    "plt.xlabel('Год', fontsize=12)\n",
    "plt.ylabel('Суммарные продажи, тыс.шт.', fontsize=12)\n",
    "# ax.set_xticks(range(2013, 2016))\n",
    "\n",
    "\n",
    "# Комментарий от ревьюера 2\n",
    "plt.xticks(range(2013, 2017));"
   ]
  },
  {
   "cell_type": "markdown",
   "metadata": {},
   "source": [
    "Исходя из данных, количество продаж игр, выпущенных на каждую из этих платформ, снижается. Таким образом, можно сказать, что весь рынок игр падает.\n",
    "\n",
    "Потенциально прибыльными платформами остаются PS4 и XOne, так как хоть прибыль от них и снижается, но все еще высока. "
   ]
  },
  {
   "cell_type": "markdown",
   "metadata": {},
   "source": [
    "### Построить график «ящик с усами» по глобальным продажам игр в разбивке по платформам. Описать результат."
   ]
  },
  {
   "cell_type": "code",
   "execution_count": 47,
   "metadata": {},
   "outputs": [],
   "source": [
    "# выбор платформ с наибольшими суммарными продажами\n",
    "platform_max_actual = actual_years.groupby(['platform']).agg({'total_sales': 'sum'}).reset_index()"
   ]
  },
  {
   "cell_type": "code",
   "execution_count": 48,
   "metadata": {},
   "outputs": [
    {
     "data": {
      "text/html": [
       "<div>\n",
       "<style scoped>\n",
       "    .dataframe tbody tr th:only-of-type {\n",
       "        vertical-align: middle;\n",
       "    }\n",
       "\n",
       "    .dataframe tbody tr th {\n",
       "        vertical-align: top;\n",
       "    }\n",
       "\n",
       "    .dataframe thead th {\n",
       "        text-align: right;\n",
       "    }\n",
       "</style>\n",
       "<table border=\"1\" class=\"dataframe\">\n",
       "  <thead>\n",
       "    <tr style=\"text-align: right;\">\n",
       "      <th></th>\n",
       "      <th>platform</th>\n",
       "      <th>total_sales</th>\n",
       "    </tr>\n",
       "  </thead>\n",
       "  <tbody>\n",
       "    <tr>\n",
       "      <td>4</td>\n",
       "      <td>PS4</td>\n",
       "      <td>314140</td>\n",
       "    </tr>\n",
       "    <tr>\n",
       "      <td>3</td>\n",
       "      <td>PS3</td>\n",
       "      <td>181429</td>\n",
       "    </tr>\n",
       "    <tr>\n",
       "      <td>10</td>\n",
       "      <td>XOne</td>\n",
       "      <td>159320</td>\n",
       "    </tr>\n",
       "    <tr>\n",
       "      <td>0</td>\n",
       "      <td>3DS</td>\n",
       "      <td>143250</td>\n",
       "    </tr>\n",
       "    <tr>\n",
       "      <td>9</td>\n",
       "      <td>X360</td>\n",
       "      <td>136800</td>\n",
       "    </tr>\n",
       "    <tr>\n",
       "      <td>8</td>\n",
       "      <td>WiiU</td>\n",
       "      <td>64630</td>\n",
       "    </tr>\n",
       "    <tr>\n",
       "      <td>2</td>\n",
       "      <td>PC</td>\n",
       "      <td>39430</td>\n",
       "    </tr>\n",
       "    <tr>\n",
       "      <td>6</td>\n",
       "      <td>PSV</td>\n",
       "      <td>32990</td>\n",
       "    </tr>\n",
       "    <tr>\n",
       "      <td>7</td>\n",
       "      <td>Wii</td>\n",
       "      <td>13660</td>\n",
       "    </tr>\n",
       "    <tr>\n",
       "      <td>5</td>\n",
       "      <td>PSP</td>\n",
       "      <td>3500</td>\n",
       "    </tr>\n",
       "  </tbody>\n",
       "</table>\n",
       "</div>"
      ],
      "text/plain": [
       "   platform  total_sales\n",
       "4       PS4       314140\n",
       "3       PS3       181429\n",
       "10     XOne       159320\n",
       "0       3DS       143250\n",
       "9      X360       136800\n",
       "8      WiiU        64630\n",
       "2        PC        39430\n",
       "6       PSV        32990\n",
       "7       Wii        13660\n",
       "5       PSP         3500"
      ]
     },
     "execution_count": 48,
     "metadata": {},
     "output_type": "execute_result"
    }
   ],
   "source": [
    "# сортировка по убыванию и вывод первых 10 строк\n",
    "platform_max_actual.sort_values(by='total_sales', ascending=False).head(10)"
   ]
  },
  {
   "cell_type": "markdown",
   "metadata": {},
   "source": [
    "Рассмотрим первые 5 платформ, так как начиная с 6 продажи резко падают."
   ]
  },
  {
   "cell_type": "code",
   "execution_count": 49,
   "metadata": {},
   "outputs": [],
   "source": [
    "# список платформ\n",
    "top_platforms_actual = platform_max_actual.sort_values(by='total_sales', ascending=False).head(5).platform.to_list()"
   ]
  },
  {
   "cell_type": "code",
   "execution_count": 50,
   "metadata": {},
   "outputs": [],
   "source": [
    "# выделение данных по списку платформ\n",
    "platforms_actual = actual_years.query('platform in @top_platforms_actual')"
   ]
  },
  {
   "cell_type": "code",
   "execution_count": 51,
   "metadata": {},
   "outputs": [],
   "source": [
    "# выбор платформ с наибольшими суммарными продажами\n",
    "platform_sales_actual_years_new = platforms_actual.groupby(['year_of_release', 'platform']).agg({'total_sales': 'sum'}).reset_index()"
   ]
  },
  {
   "cell_type": "code",
   "execution_count": 52,
   "metadata": {},
   "outputs": [
    {
     "data": {
      "text/plain": [
       "Text(0.5, 1.0, 'Глобальные продажи игр для платформ')"
      ]
     },
     "execution_count": 52,
     "metadata": {},
     "output_type": "execute_result"
    },
    {
     "data": {
      "image/png": "[encoded data removed]",
      "text/plain": [
       "<Figure size 1152x576 with 1 Axes>"
      ]
     },
     "metadata": {
      "needs_background": "light"
     },
     "output_type": "display_data"
    }
   ],
   "source": [
    "# построение графика\n",
    "platform_sales_actual_years_new.boxplot('total_sales', by='platform', figsize=(16, 8))\n",
    "plt.title('Глобальные продажи игр для платформ', fontsize=12)"
   ]
  },
  {
   "cell_type": "markdown",
   "metadata": {},
   "source": [
    "Медиана по топовым платформам варьируется от 25 до 85 млн. проданных шт.\n",
    "Верхняя граница предела, за которыми уже определяются аномалии, у двух платформ - PS4 и PS3 - на уровне примерно 120 млн.шт.\n",
    "У остальных - от 60 до 100 млн.шт."
   ]
  },
  {
   "cell_type": "code",
   "execution_count": 53,
   "metadata": {},
   "outputs": [
    {
     "name": "stderr",
     "output_type": "stream",
     "text": [
      "/opt/conda/lib/python3.7/site-packages/numpy/core/_asarray.py:83: VisibleDeprecationWarning: Creating an ndarray from ragged nested sequences (which is a list-or-tuple of lists-or-tuples-or ndarrays with different lengths or shapes) is deprecated. If you meant to do this, you must specify 'dtype=object' when creating the ndarray\n",
      "  return array(a, dtype, copy=False, order=order)\n"
     ]
    },
    {
     "data": {
      "text/plain": [
       "Text(0.5, 1.0, 'Глобальные продажи игр для платформ')"
      ]
     },
     "execution_count": 53,
     "metadata": {},
     "output_type": "execute_result"
    },
    {
     "data": {
      "image/png": "[encoded data removed]",
      "text/plain": [
       "<Figure size 1152x576 with 1 Axes>"
      ]
     },
     "metadata": {
      "needs_background": "light"
     },
     "output_type": "display_data"
    }
   ],
   "source": [
    "# построение графика\n",
    "actual_years.boxplot('total_sales', by='platform', figsize=(16, 8))\n",
    "plt.title('Глобальные продажи игр для платформ', fontsize=12)"
   ]
  },
  {
   "cell_type": "code",
   "execution_count": 54,
   "metadata": {},
   "outputs": [
    {
     "name": "stderr",
     "output_type": "stream",
     "text": [
      "/opt/conda/lib/python3.7/site-packages/numpy/core/_asarray.py:83: VisibleDeprecationWarning: Creating an ndarray from ragged nested sequences (which is a list-or-tuple of lists-or-tuples-or ndarrays with different lengths or shapes) is deprecated. If you meant to do this, you must specify 'dtype=object' when creating the ndarray\n",
      "  return array(a, dtype, copy=False, order=order)\n"
     ]
    },
    {
     "data": {
      "text/plain": [
       "(0, 1800)"
      ]
     },
     "execution_count": 54,
     "metadata": {},
     "output_type": "execute_result"
    },
    {
     "data": {
      "image/png": "[encoded data removed]",
      "text/plain": [
       "<Figure size 1152x576 with 1 Axes>"
      ]
     },
     "metadata": {
      "needs_background": "light"
     },
     "output_type": "display_data"
    }
   ],
   "source": [
    "# построение графика\n",
    "actual_years.boxplot('total_sales', by='platform', figsize=(16, 8))\n",
    "plt.title('Глобальные продажи игр для платформ', fontsize=12)\n",
    "plt.ylim(0, 1800)"
   ]
  },
  {
   "cell_type": "markdown",
   "metadata": {},
   "source": [
    "Наибольшее количество выбросов у платформ 3DS, PS3, PS4 и X360. Возможно это связано с выходом отдельных игр, которые пользовались бешенной популярностью."
   ]
  },
  {
   "cell_type": "markdown",
   "metadata": {},
   "source": [
    "### Как влияют на продажи внутри одной популярной платформы отзывы пользователей и критиков. Построить диаграмму рассеяния и посчитать корреляцию между отзывами и продажами. Сформулировать выводы."
   ]
  },
  {
   "cell_type": "markdown",
   "metadata": {},
   "source": [
    "В качестве популярной платформы возьмем PS4."
   ]
  },
  {
   "cell_type": "code",
   "execution_count": 55,
   "metadata": {},
   "outputs": [],
   "source": [
    "# фильтр платформы ps4\n",
    "actual_years_ps4 = actual_years[(actual_years['platform'] == 'PS4') &\n",
    "                                (actual_years['critic_score'] >= 0) &\n",
    "                                (actual_years['user_score'] >= 0)]"
   ]
  },
  {
   "cell_type": "code",
   "execution_count": 56,
   "metadata": {},
   "outputs": [
    {
     "data": {
      "text/html": [
       "<div>\n",
       "<style scoped>\n",
       "    .dataframe tbody tr th:only-of-type {\n",
       "        vertical-align: middle;\n",
       "    }\n",
       "\n",
       "    .dataframe tbody tr th {\n",
       "        vertical-align: top;\n",
       "    }\n",
       "\n",
       "    .dataframe thead th {\n",
       "        text-align: right;\n",
       "    }\n",
       "</style>\n",
       "<table border=\"1\" class=\"dataframe\">\n",
       "  <thead>\n",
       "    <tr style=\"text-align: right;\">\n",
       "      <th></th>\n",
       "      <th>name</th>\n",
       "      <th>platform</th>\n",
       "      <th>year_of_release</th>\n",
       "      <th>genre</th>\n",
       "      <th>na_sales</th>\n",
       "      <th>eu_sales</th>\n",
       "      <th>jp_sales</th>\n",
       "      <th>other_sales</th>\n",
       "      <th>critic_score</th>\n",
       "      <th>user_score</th>\n",
       "      <th>rating</th>\n",
       "      <th>total_sales</th>\n",
       "    </tr>\n",
       "  </thead>\n",
       "  <tbody>\n",
       "    <tr>\n",
       "      <td>1056</td>\n",
       "      <td>No Man's Sky</td>\n",
       "      <td>PS4</td>\n",
       "      <td>2016</td>\n",
       "      <td>Action</td>\n",
       "      <td>630</td>\n",
       "      <td>760</td>\n",
       "      <td>30</td>\n",
       "      <td>270</td>\n",
       "      <td>71</td>\n",
       "      <td>4.5</td>\n",
       "      <td>T</td>\n",
       "      <td>1690</td>\n",
       "    </tr>\n",
       "    <tr>\n",
       "      <td>790</td>\n",
       "      <td>Battlefield: Hardline</td>\n",
       "      <td>PS4</td>\n",
       "      <td>2015</td>\n",
       "      <td>Shooter</td>\n",
       "      <td>710</td>\n",
       "      <td>940</td>\n",
       "      <td>140</td>\n",
       "      <td>320</td>\n",
       "      <td>73</td>\n",
       "      <td>5.0</td>\n",
       "      <td>M</td>\n",
       "      <td>2110</td>\n",
       "    </tr>\n",
       "    <tr>\n",
       "      <td>2815</td>\n",
       "      <td>LEGO Dimensions</td>\n",
       "      <td>PS4</td>\n",
       "      <td>2015</td>\n",
       "      <td>Action</td>\n",
       "      <td>240</td>\n",
       "      <td>370</td>\n",
       "      <td>0</td>\n",
       "      <td>120</td>\n",
       "      <td>80</td>\n",
       "      <td>7.1</td>\n",
       "      <td>E10+</td>\n",
       "      <td>730</td>\n",
       "    </tr>\n",
       "    <tr>\n",
       "      <td>733</td>\n",
       "      <td>Tom Clancy's Rainbow Six: Siege</td>\n",
       "      <td>PS4</td>\n",
       "      <td>2015</td>\n",
       "      <td>Shooter</td>\n",
       "      <td>550</td>\n",
       "      <td>1190</td>\n",
       "      <td>140</td>\n",
       "      <td>330</td>\n",
       "      <td>73</td>\n",
       "      <td>7.3</td>\n",
       "      <td>M</td>\n",
       "      <td>2210</td>\n",
       "    </tr>\n",
       "    <tr>\n",
       "      <td>12476</td>\n",
       "      <td>Earth Defense Force 4.1: The Shadow of New Des...</td>\n",
       "      <td>PS4</td>\n",
       "      <td>2015</td>\n",
       "      <td>Shooter</td>\n",
       "      <td>30</td>\n",
       "      <td>20</td>\n",
       "      <td>0</td>\n",
       "      <td>10</td>\n",
       "      <td>64</td>\n",
       "      <td>7.9</td>\n",
       "      <td>M</td>\n",
       "      <td>60</td>\n",
       "    </tr>\n",
       "    <tr>\n",
       "      <td>4656</td>\n",
       "      <td>Just Dance 2014</td>\n",
       "      <td>PS4</td>\n",
       "      <td>2013</td>\n",
       "      <td>Misc</td>\n",
       "      <td>190</td>\n",
       "      <td>160</td>\n",
       "      <td>0</td>\n",
       "      <td>70</td>\n",
       "      <td>75</td>\n",
       "      <td>5.5</td>\n",
       "      <td>E10+</td>\n",
       "      <td>420</td>\n",
       "    </tr>\n",
       "    <tr>\n",
       "      <td>11839</td>\n",
       "      <td>Toy Soldiers: War Chest</td>\n",
       "      <td>PS4</td>\n",
       "      <td>2015</td>\n",
       "      <td>Action</td>\n",
       "      <td>60</td>\n",
       "      <td>0</td>\n",
       "      <td>0</td>\n",
       "      <td>10</td>\n",
       "      <td>62</td>\n",
       "      <td>7.7</td>\n",
       "      <td>Unknown</td>\n",
       "      <td>70</td>\n",
       "    </tr>\n",
       "    <tr>\n",
       "      <td>5439</td>\n",
       "      <td>World of Final Fantasy</td>\n",
       "      <td>PS4</td>\n",
       "      <td>2016</td>\n",
       "      <td>Role-Playing</td>\n",
       "      <td>80</td>\n",
       "      <td>140</td>\n",
       "      <td>80</td>\n",
       "      <td>40</td>\n",
       "      <td>77</td>\n",
       "      <td>8.3</td>\n",
       "      <td>E10+</td>\n",
       "      <td>340</td>\n",
       "    </tr>\n",
       "    <tr>\n",
       "      <td>3284</td>\n",
       "      <td>Plants vs. Zombies: Garden Warfare</td>\n",
       "      <td>PS4</td>\n",
       "      <td>2014</td>\n",
       "      <td>Shooter</td>\n",
       "      <td>210</td>\n",
       "      <td>290</td>\n",
       "      <td>10</td>\n",
       "      <td>100</td>\n",
       "      <td>75</td>\n",
       "      <td>7.6</td>\n",
       "      <td>E10+</td>\n",
       "      <td>610</td>\n",
       "    </tr>\n",
       "    <tr>\n",
       "      <td>560</td>\n",
       "      <td>Killzone: Shadow Fall</td>\n",
       "      <td>PS4</td>\n",
       "      <td>2013</td>\n",
       "      <td>Shooter</td>\n",
       "      <td>890</td>\n",
       "      <td>1330</td>\n",
       "      <td>80</td>\n",
       "      <td>390</td>\n",
       "      <td>73</td>\n",
       "      <td>6.8</td>\n",
       "      <td>M</td>\n",
       "      <td>2690</td>\n",
       "    </tr>\n",
       "  </tbody>\n",
       "</table>\n",
       "</div>"
      ],
      "text/plain": [
       "                                                    name platform  \\\n",
       "1056                                        No Man's Sky      PS4   \n",
       "790                                Battlefield: Hardline      PS4   \n",
       "2815                                     LEGO Dimensions      PS4   \n",
       "733                      Tom Clancy's Rainbow Six: Siege      PS4   \n",
       "12476  Earth Defense Force 4.1: The Shadow of New Des...      PS4   \n",
       "4656                                     Just Dance 2014      PS4   \n",
       "11839                            Toy Soldiers: War Chest      PS4   \n",
       "5439                              World of Final Fantasy      PS4   \n",
       "3284                  Plants vs. Zombies: Garden Warfare      PS4   \n",
       "560                                Killzone: Shadow Fall      PS4   \n",
       "\n",
       "       year_of_release         genre  na_sales  eu_sales  jp_sales  \\\n",
       "1056              2016        Action       630       760        30   \n",
       "790               2015       Shooter       710       940       140   \n",
       "2815              2015        Action       240       370         0   \n",
       "733               2015       Shooter       550      1190       140   \n",
       "12476             2015       Shooter        30        20         0   \n",
       "4656              2013          Misc       190       160         0   \n",
       "11839             2015        Action        60         0         0   \n",
       "5439              2016  Role-Playing        80       140        80   \n",
       "3284              2014       Shooter       210       290        10   \n",
       "560               2013       Shooter       890      1330        80   \n",
       "\n",
       "       other_sales  critic_score  user_score   rating  total_sales  \n",
       "1056           270            71         4.5        T         1690  \n",
       "790            320            73         5.0        M         2110  \n",
       "2815           120            80         7.1     E10+          730  \n",
       "733            330            73         7.3        M         2210  \n",
       "12476           10            64         7.9        M           60  \n",
       "4656            70            75         5.5     E10+          420  \n",
       "11839           10            62         7.7  Unknown           70  \n",
       "5439            40            77         8.3     E10+          340  \n",
       "3284           100            75         7.6     E10+          610  \n",
       "560            390            73         6.8        M         2690  "
      ]
     },
     "execution_count": 56,
     "metadata": {},
     "output_type": "execute_result"
    }
   ],
   "source": [
    "# получение cлучайных 10 строк датасета\n",
    "actual_years_ps4.sample(10)"
   ]
  },
  {
   "cell_type": "code",
   "execution_count": 57,
   "metadata": {},
   "outputs": [
    {
     "data": {
      "text/plain": [
       "Text(0, 0.5, 'Суммарные продажи, тыс.шт.')"
      ]
     },
     "execution_count": 57,
     "metadata": {},
     "output_type": "execute_result"
    },
    {
     "data": {
      "image/png": "[encoded data removed]",
      "text/plain": [
       "<Figure size 720x432 with 1 Axes>"
      ]
     },
     "metadata": {
      "needs_background": "light"
     },
     "output_type": "display_data"
    }
   ],
   "source": [
    "# диаграмма рассеяния\n",
    "actual_years_ps4.plot(kind='scatter', x='critic_score', y='total_sales', ec='black', figsize=(10,6))\n",
    "plt.title('Диаграмма рассеяния влияния отзывов критиков на продажи PS4', fontsize=16)\n",
    "plt.xlabel('Оценка критика', fontsize=12)\n",
    "plt.ylabel('Суммарные продажи, тыс.шт.', fontsize=12)"
   ]
  },
  {
   "cell_type": "code",
   "execution_count": 58,
   "metadata": {},
   "outputs": [
    {
     "data": {
      "text/plain": [
       "Text(0, 0.5, 'Суммарные продажи, тыс.шт.')"
      ]
     },
     "execution_count": 58,
     "metadata": {},
     "output_type": "execute_result"
    },
    {
     "data": {
      "image/png": "[encoded data removed]",
      "text/plain": [
       "<Figure size 720x432 with 1 Axes>"
      ]
     },
     "metadata": {
      "needs_background": "light"
     },
     "output_type": "display_data"
    }
   ],
   "source": [
    "# диаграмма рассеяния\n",
    "actual_years_ps4.plot(kind='scatter', x='user_score', y='total_sales', ec='black', figsize=(10,6))\n",
    "plt.title('Диаграмма рассеяния влияния отзывов пользователей на продажи PS4', fontsize=16)\n",
    "plt.xlabel('Оценка пользователя', fontsize=12)\n",
    "plt.ylabel('Суммарные продажи, тыс.шт.', fontsize=12)"
   ]
  },
  {
   "cell_type": "markdown",
   "metadata": {},
   "source": [
    "С увеличением среднего рейтинга критиков увеличивается и средний уровень проданных копий, что логично: чем качественнее игра, тем лучше продается.\n",
    "\n",
    "Точно такая же картина и с рейтингом пользователей, правда так называемых выбросов больше - когда рейтинг пользователей не велик, но тем не менее игра собирает большие деньги. Это может быть связано с выпуском продолжений популярных игр, которые не оправдывают ожиданий."
   ]
  },
  {
   "cell_type": "code",
   "execution_count": 59,
   "metadata": {},
   "outputs": [
    {
     "data": {
      "text/html": [
       "<div>\n",
       "<style scoped>\n",
       "    .dataframe tbody tr th:only-of-type {\n",
       "        vertical-align: middle;\n",
       "    }\n",
       "\n",
       "    .dataframe tbody tr th {\n",
       "        vertical-align: top;\n",
       "    }\n",
       "\n",
       "    .dataframe thead th {\n",
       "        text-align: right;\n",
       "    }\n",
       "</style>\n",
       "<table border=\"1\" class=\"dataframe\">\n",
       "  <thead>\n",
       "    <tr style=\"text-align: right;\">\n",
       "      <th></th>\n",
       "      <th>total_sales</th>\n",
       "      <th>critic_score</th>\n",
       "      <th>user_score</th>\n",
       "    </tr>\n",
       "  </thead>\n",
       "  <tbody>\n",
       "    <tr>\n",
       "      <td>total_sales</td>\n",
       "      <td>1.000000</td>\n",
       "      <td>0.405895</td>\n",
       "      <td>-0.033625</td>\n",
       "    </tr>\n",
       "    <tr>\n",
       "      <td>critic_score</td>\n",
       "      <td>0.405895</td>\n",
       "      <td>1.000000</td>\n",
       "      <td>0.557654</td>\n",
       "    </tr>\n",
       "    <tr>\n",
       "      <td>user_score</td>\n",
       "      <td>-0.033625</td>\n",
       "      <td>0.557654</td>\n",
       "      <td>1.000000</td>\n",
       "    </tr>\n",
       "  </tbody>\n",
       "</table>\n",
       "</div>"
      ],
      "text/plain": [
       "              total_sales  critic_score  user_score\n",
       "total_sales      1.000000      0.405895   -0.033625\n",
       "critic_score     0.405895      1.000000    0.557654\n",
       "user_score      -0.033625      0.557654    1.000000"
      ]
     },
     "execution_count": 59,
     "metadata": {},
     "output_type": "execute_result"
    }
   ],
   "source": [
    "# фильтр необходимых данных и коэффициент корреляции Пирсона\n",
    "actual_years_ps4[['total_sales' ,'critic_score', 'user_score']].corr()"
   ]
  },
  {
   "cell_type": "markdown",
   "metadata": {},
   "source": [
    "Сильной зависимости не прослеживается, хотя отзывы критиков и оказывают небольшое влияние, отзывы пользователей влияют практически никак не влияют."
   ]
  },
  {
   "cell_type": "markdown",
   "metadata": {},
   "source": [
    "### Cоотнести выводы с продажами игр на других платформах."
   ]
  },
  {
   "cell_type": "markdown",
   "metadata": {},
   "source": [
    "Посмотрим как обстоят дела с другими платформами."
   ]
  },
  {
   "cell_type": "code",
   "execution_count": 60,
   "metadata": {},
   "outputs": [],
   "source": [
    "# фильтр платформы ps3\n",
    "actual_years_ps3 = actual_years[(actual_years['platform'] == 'PS3') &\n",
    "                                (actual_years['critic_score'] >= 0) &\n",
    "                                (actual_years['user_score'] >= 0)]"
   ]
  },
  {
   "cell_type": "code",
   "execution_count": 61,
   "metadata": {},
   "outputs": [
    {
     "data": {
      "text/html": [
       "<div>\n",
       "<style scoped>\n",
       "    .dataframe tbody tr th:only-of-type {\n",
       "        vertical-align: middle;\n",
       "    }\n",
       "\n",
       "    .dataframe tbody tr th {\n",
       "        vertical-align: top;\n",
       "    }\n",
       "\n",
       "    .dataframe thead th {\n",
       "        text-align: right;\n",
       "    }\n",
       "</style>\n",
       "<table border=\"1\" class=\"dataframe\">\n",
       "  <thead>\n",
       "    <tr style=\"text-align: right;\">\n",
       "      <th></th>\n",
       "      <th>total_sales</th>\n",
       "      <th>critic_score</th>\n",
       "      <th>user_score</th>\n",
       "    </tr>\n",
       "  </thead>\n",
       "  <tbody>\n",
       "    <tr>\n",
       "      <td>total_sales</td>\n",
       "      <td>1.000000</td>\n",
       "      <td>0.333807</td>\n",
       "      <td>0.022691</td>\n",
       "    </tr>\n",
       "    <tr>\n",
       "      <td>critic_score</td>\n",
       "      <td>0.333807</td>\n",
       "      <td>1.000000</td>\n",
       "      <td>0.599920</td>\n",
       "    </tr>\n",
       "    <tr>\n",
       "      <td>user_score</td>\n",
       "      <td>0.022691</td>\n",
       "      <td>0.599920</td>\n",
       "      <td>1.000000</td>\n",
       "    </tr>\n",
       "  </tbody>\n",
       "</table>\n",
       "</div>"
      ],
      "text/plain": [
       "              total_sales  critic_score  user_score\n",
       "total_sales      1.000000      0.333807    0.022691\n",
       "critic_score     0.333807      1.000000    0.599920\n",
       "user_score       0.022691      0.599920    1.000000"
      ]
     },
     "execution_count": 61,
     "metadata": {},
     "output_type": "execute_result"
    }
   ],
   "source": [
    "# фильтр необходимых данных и коэффициент корреляции Пирсона\n",
    "actual_years_ps3[['total_sales' ,'critic_score', 'user_score']].corr()"
   ]
  },
  {
   "cell_type": "code",
   "execution_count": 62,
   "metadata": {},
   "outputs": [],
   "source": [
    "# фильтр платформы XOne\n",
    "actual_years_XOne = actual_years[(actual_years['platform'] == 'XOne') &\n",
    "                                (actual_years['critic_score'] >= 0) &\n",
    "                                (actual_years['user_score'] >= 0)]"
   ]
  },
  {
   "cell_type": "code",
   "execution_count": 63,
   "metadata": {},
   "outputs": [
    {
     "data": {
      "text/html": [
       "<div>\n",
       "<style scoped>\n",
       "    .dataframe tbody tr th:only-of-type {\n",
       "        vertical-align: middle;\n",
       "    }\n",
       "\n",
       "    .dataframe tbody tr th {\n",
       "        vertical-align: top;\n",
       "    }\n",
       "\n",
       "    .dataframe thead th {\n",
       "        text-align: right;\n",
       "    }\n",
       "</style>\n",
       "<table border=\"1\" class=\"dataframe\">\n",
       "  <thead>\n",
       "    <tr style=\"text-align: right;\">\n",
       "      <th></th>\n",
       "      <th>total_sales</th>\n",
       "      <th>critic_score</th>\n",
       "      <th>user_score</th>\n",
       "    </tr>\n",
       "  </thead>\n",
       "  <tbody>\n",
       "    <tr>\n",
       "      <td>total_sales</td>\n",
       "      <td>1.000000</td>\n",
       "      <td>0.410422</td>\n",
       "      <td>-0.094003</td>\n",
       "    </tr>\n",
       "    <tr>\n",
       "      <td>critic_score</td>\n",
       "      <td>0.410422</td>\n",
       "      <td>1.000000</td>\n",
       "      <td>0.472462</td>\n",
       "    </tr>\n",
       "    <tr>\n",
       "      <td>user_score</td>\n",
       "      <td>-0.094003</td>\n",
       "      <td>0.472462</td>\n",
       "      <td>1.000000</td>\n",
       "    </tr>\n",
       "  </tbody>\n",
       "</table>\n",
       "</div>"
      ],
      "text/plain": [
       "              total_sales  critic_score  user_score\n",
       "total_sales      1.000000      0.410422   -0.094003\n",
       "critic_score     0.410422      1.000000    0.472462\n",
       "user_score      -0.094003      0.472462    1.000000"
      ]
     },
     "execution_count": 63,
     "metadata": {},
     "output_type": "execute_result"
    }
   ],
   "source": [
    "# фильтр необходимых данных  и коэффициент корреляции Пирсона\n",
    "actual_years_XOne[['total_sales' ,'critic_score', 'user_score']].corr()"
   ]
  },
  {
   "cell_type": "code",
   "execution_count": 64,
   "metadata": {},
   "outputs": [],
   "source": [
    "# фильтр платформы 3DS\n",
    "actual_years_3DS = actual_years[(actual_years['platform'] == '3DS') &\n",
    "                                (actual_years['critic_score'] >= 0) &\n",
    "                                (actual_years['user_score'] >= 0)]"
   ]
  },
  {
   "cell_type": "code",
   "execution_count": 65,
   "metadata": {},
   "outputs": [
    {
     "data": {
      "text/html": [
       "<div>\n",
       "<style scoped>\n",
       "    .dataframe tbody tr th:only-of-type {\n",
       "        vertical-align: middle;\n",
       "    }\n",
       "\n",
       "    .dataframe tbody tr th {\n",
       "        vertical-align: top;\n",
       "    }\n",
       "\n",
       "    .dataframe thead th {\n",
       "        text-align: right;\n",
       "    }\n",
       "</style>\n",
       "<table border=\"1\" class=\"dataframe\">\n",
       "  <thead>\n",
       "    <tr style=\"text-align: right;\">\n",
       "      <th></th>\n",
       "      <th>total_sales</th>\n",
       "      <th>critic_score</th>\n",
       "      <th>user_score</th>\n",
       "    </tr>\n",
       "  </thead>\n",
       "  <tbody>\n",
       "    <tr>\n",
       "      <td>total_sales</td>\n",
       "      <td>1.000000</td>\n",
       "      <td>0.339235</td>\n",
       "      <td>0.272990</td>\n",
       "    </tr>\n",
       "    <tr>\n",
       "      <td>critic_score</td>\n",
       "      <td>0.339235</td>\n",
       "      <td>1.000000</td>\n",
       "      <td>0.769536</td>\n",
       "    </tr>\n",
       "    <tr>\n",
       "      <td>user_score</td>\n",
       "      <td>0.272990</td>\n",
       "      <td>0.769536</td>\n",
       "      <td>1.000000</td>\n",
       "    </tr>\n",
       "  </tbody>\n",
       "</table>\n",
       "</div>"
      ],
      "text/plain": [
       "              total_sales  critic_score  user_score\n",
       "total_sales      1.000000      0.339235    0.272990\n",
       "critic_score     0.339235      1.000000    0.769536\n",
       "user_score       0.272990      0.769536    1.000000"
      ]
     },
     "execution_count": 65,
     "metadata": {},
     "output_type": "execute_result"
    }
   ],
   "source": [
    "# фильтр необходимых данных и коэффициент корреляции Пирсона\n",
    "actual_years_3DS[['total_sales' ,'critic_score', 'user_score']].corr()"
   ]
  },
  {
   "cell_type": "code",
   "execution_count": 66,
   "metadata": {},
   "outputs": [],
   "source": [
    "# фильтр платформы X360\n",
    "actual_years_X360 = actual_years[(actual_years['platform'] == 'X360') &\n",
    "                                (actual_years['critic_score'] >= 0) &\n",
    "                                (actual_years['user_score'] >= 0)]"
   ]
  },
  {
   "cell_type": "code",
   "execution_count": 67,
   "metadata": {},
   "outputs": [
    {
     "data": {
      "text/html": [
       "<div>\n",
       "<style scoped>\n",
       "    .dataframe tbody tr th:only-of-type {\n",
       "        vertical-align: middle;\n",
       "    }\n",
       "\n",
       "    .dataframe tbody tr th {\n",
       "        vertical-align: top;\n",
       "    }\n",
       "\n",
       "    .dataframe thead th {\n",
       "        text-align: right;\n",
       "    }\n",
       "</style>\n",
       "<table border=\"1\" class=\"dataframe\">\n",
       "  <thead>\n",
       "    <tr style=\"text-align: right;\">\n",
       "      <th></th>\n",
       "      <th>total_sales</th>\n",
       "      <th>critic_score</th>\n",
       "      <th>user_score</th>\n",
       "    </tr>\n",
       "  </thead>\n",
       "  <tbody>\n",
       "    <tr>\n",
       "      <td>total_sales</td>\n",
       "      <td>1.000000</td>\n",
       "      <td>0.350345</td>\n",
       "      <td>-0.006238</td>\n",
       "    </tr>\n",
       "    <tr>\n",
       "      <td>critic_score</td>\n",
       "      <td>0.350345</td>\n",
       "      <td>1.000000</td>\n",
       "      <td>0.520946</td>\n",
       "    </tr>\n",
       "    <tr>\n",
       "      <td>user_score</td>\n",
       "      <td>-0.006238</td>\n",
       "      <td>0.520946</td>\n",
       "      <td>1.000000</td>\n",
       "    </tr>\n",
       "  </tbody>\n",
       "</table>\n",
       "</div>"
      ],
      "text/plain": [
       "              total_sales  critic_score  user_score\n",
       "total_sales      1.000000      0.350345   -0.006238\n",
       "critic_score     0.350345      1.000000    0.520946\n",
       "user_score      -0.006238      0.520946    1.000000"
      ]
     },
     "execution_count": 67,
     "metadata": {},
     "output_type": "execute_result"
    }
   ],
   "source": [
    "# фильтр необходимых данных и коэффициент корреляции Пирсона\n",
    "actual_years_X360[['total_sales' ,'critic_score', 'user_score']].corr()"
   ]
  },
  {
   "cell_type": "markdown",
   "metadata": {},
   "source": [
    "Другие платформы подтверждают полученный вывод: критики оказывают небольшое влияние, а отзывы пользователей оказывали какое-то влияние разве что на платформе 3DS."
   ]
  },
  {
   "cell_type": "markdown",
   "metadata": {},
   "source": [
    "### Общее распределение игр по жанрам. Что можно сказать о самых прибыльных жанрах? Выделяются ли жанры с высокими и низкими продажами?"
   ]
  },
  {
   "cell_type": "markdown",
   "metadata": {},
   "source": [
    "Нарисуем столбчатую диаграмму с количеством игр и общим количеством проданных игр по жанрам.\n",
    "\n",
    "Для наглядного отображения переведем данные о суммарных продажах обратно в млн.шт."
   ]
  },
  {
   "cell_type": "code",
   "execution_count": 68,
   "metadata": {},
   "outputs": [
    {
     "name": "stderr",
     "output_type": "stream",
     "text": [
      "/opt/conda/lib/python3.7/site-packages/ipykernel_launcher.py:2: SettingWithCopyWarning: \n",
      "A value is trying to be set on a copy of a slice from a DataFrame.\n",
      "Try using .loc[row_indexer,col_indexer] = value instead\n",
      "\n",
      "See the caveats in the documentation: http://pandas.pydata.org/pandas-docs/stable/user_guide/indexing.html#returning-a-view-versus-a-copy\n",
      "  \n"
     ]
    }
   ],
   "source": [
    "# перевод тыс.шт. в млн.шт.\n",
    "actual_years['total_sales'] = actual_years['total_sales'] / 1000"
   ]
  },
  {
   "cell_type": "code",
   "execution_count": 69,
   "metadata": {},
   "outputs": [
    {
     "data": {
      "text/plain": [
       "<matplotlib.legend.Legend at 0x7f99e113d6d0>"
      ]
     },
     "execution_count": 69,
     "metadata": {},
     "output_type": "execute_result"
    },
    {
     "data": {
      "image/png": "[encoded data removed]",
      "text/plain": [
       "<Figure size 1152x576 with 1 Axes>"
      ]
     },
     "metadata": {
      "needs_background": "light"
     },
     "output_type": "display_data"
    }
   ],
   "source": [
    "# построение столбчатой диаграммы\n",
    "ax = plt.gca()\n",
    "\n",
    "pivot = actual_years.groupby('genre').agg({'name': 'count', 'total_sales': 'sum'}).sort_values(by='name', ascending=False)\n",
    "\n",
    "plot1 = pivot['name']\n",
    "plot1.plot(kind='bar', figsize=(16,8), ec='black', ax=ax, width=0.2, position=1)\n",
    "\n",
    "plot2 = pivot['total_sales']\n",
    "plot2.plot(kind='bar', figsize=(16,8), ec='black', ax=ax, width=0.2, color='#97F0AA', position=0)\n",
    "\n",
    "ax.legend(['Количество игр в жанре', 'Общее количество проданных экземпляров'])"
   ]
  },
  {
   "cell_type": "markdown",
   "metadata": {},
   "source": [
    "Больше всего игр жанра Action. За ними идут игры жанра Role-Playing, но их почти в половину меньше. Зато несмотря на то, что игр жанра Shooter значительно меньше, чем Action, по общему количеству проданных экземпляров они соизмеримы.\n",
    "\n",
    "На третьем месте по количеству расположены игры жанра Adventure, но при этом они плохо продаются. Вероятно их популярность скоро сойдет на нет."
   ]
  },
  {
   "cell_type": "code",
   "execution_count": 70,
   "metadata": {},
   "outputs": [
    {
     "data": {
      "text/plain": [
       "<matplotlib.legend.Legend at 0x7f99e2fa3250>"
      ]
     },
     "execution_count": 70,
     "metadata": {},
     "output_type": "execute_result"
    },
    {
     "data": {
      "image/png": "[encoded data removed]",
      "text/plain": [
       "<Figure size 1152x576 with 1 Axes>"
      ]
     },
     "metadata": {
      "needs_background": "light"
     },
     "output_type": "display_data"
    }
   ],
   "source": [
    "# построение столбчатой диаграммы\n",
    "ax = plt.gca()\n",
    "\n",
    "pivot = actual_years.groupby('genre').agg({'total_sales': 'median'}).sort_values(by='genre', ascending=False)\n",
    "\n",
    "plot2 = pivot['total_sales']\n",
    "plot2.plot(kind='bar', figsize=(16,8), ec='black', ax=ax, width=0.2, color='#97F0AA', position=0)\n",
    "\n",
    "ax.legend(['Медианные продажи по жанрам'])"
   ]
  },
  {
   "cell_type": "markdown",
   "metadata": {},
   "source": [
    "Шутеры имеют максимальное значения продаж, а низкие продажи у игр приключенческого жанра."
   ]
  },
  {
   "cell_type": "markdown",
   "metadata": {},
   "source": [
    "### Выводы"
   ]
  },
  {
   "cell_type": "markdown",
   "metadata": {},
   "source": [
    "Игры стали выпускать в 80-ых, и их уровень был низок вплоть до 1995 года. С развитием мощностей компьютеров и увеличением пользователей росло и количество выпускаемых игр. С 2009 года начался спад из-за насыщения рынка и перехода на мобильные платформы.\n",
    "\n",
    "В среднем платформа живет 10 лет. И жила бы больше, если б не выходили более новые платформы. Но это неизбежно, т.к. прогресс идет вперед и \"железо\" в старых платформах перестает отвечать техническим требованиям новых игр.\n",
    "\n",
    "Для прогноза данных на 2017 год был выбран период с 2013 по 2016 год, так как продажи вышли на некое плато и пиковые продажи за предыдущие года не будут вносить существенную ошибку в прогнозировании. Предыдущие года отбросили. \n",
    "\n",
    "В целом весь рынок игр падает. Потенциально прибыльными платформами остаются PS4 и XOne, так как хоть прибыль от них и снижается, но все еще высока.\n",
    "\n",
    "Медиана по топовым платформам варьируется от 25 до 85 млн. проданных шт. Верхняя граница предела, за которыми уже определяются аномалии, у двух платформ - PS4 и PS3 - на уровне примерно 120 млн.шт. У остальных - от 60 до 100 млн.шт.\n",
    "\n",
    "С увеличением среднего рейтинга критиков увеличивается и средний уровень проданных копий, что логично: чем качественнее игра, тем лучше продается.\n",
    "\n",
    "Точно такая же картина и с рейтингом пользователей, правда так называемых выбросов больше - когда рейтинг пользователей не велик, но тем не менее игра собирает большие деньги. Это может быть связано с выпуском продолжений популярных игр, которые не оправдывают ожиданий.\n",
    "\n",
    "Больше всего игр жанра Action. За ними идут игры жанра Role-Playing, но их почти в половину меньше. Зато несмотря на то, что игр жанра Shooter значительно меньше, чем Action, по общему количеству проданных экземпляров они соизмеримы.\n",
    "\n",
    "На третьем месте по количеству расположены игры жанра Adventure, но при этом они плохо продаются. Вероятно их популярность скоро сойдет на нет."
   ]
  },
  {
   "cell_type": "markdown",
   "metadata": {},
   "source": [
    "## Составление портрета пользователя каждого региона"
   ]
  },
  {
   "cell_type": "markdown",
   "metadata": {},
   "source": [
    "Определите для пользователя каждого региона (NA, EU, JP):\n",
    "* самые популярные платформы (топ-5). Описать различия в долях продаж;\n",
    "* самые популярные жанры (топ-5). Пояснить разницу;\n",
    "* влияет ли рейтинг ESRB на продажи в отдельном регионе?"
   ]
  },
  {
   "cell_type": "markdown",
   "metadata": {},
   "source": [
    "### Cамые популярные платформы (топ-5). Описать различия в долях продаж."
   ]
  },
  {
   "cell_type": "code",
   "execution_count": 71,
   "metadata": {},
   "outputs": [
    {
     "data": {
      "text/plain": [
       "Text(0.5, 1.0, 'Топ-5 популярных платформ в Японии')"
      ]
     },
     "execution_count": 71,
     "metadata": {},
     "output_type": "execute_result"
    },
    {
     "data": {
      "image/png": "[encoded data removed]",
      "text/plain": [
       "<Figure size 432x288 with 1 Axes>"
      ]
     },
     "metadata": {
      "needs_background": "light"
     },
     "output_type": "display_data"
    },
    {
     "data": {
      "image/png": "[encoded data removed]",
      "text/plain": [
       "<Figure size 432x288 with 1 Axes>"
      ]
     },
     "metadata": {
      "needs_background": "light"
     },
     "output_type": "display_data"
    },
    {
     "data": {
      "image/png": "[encoded data removed]",
      "text/plain": [
       "<Figure size 432x288 with 1 Axes>"
      ]
     },
     "metadata": {
      "needs_background": "light"
     },
     "output_type": "display_data"
    }
   ],
   "source": [
    "# построение столбчатых диаграмм\n",
    "actual_years.groupby(by='platform').agg({'na_sales':'sum'}).sort_values(by='na_sales', ascending=False).head(5).plot(kind='bar')\n",
    "plt.title('Топ-5 популярных платформ в Северной Америке', fontsize=16)\n",
    "\n",
    "actual_years.groupby(by='platform').agg({'eu_sales':'sum'}).sort_values(by='eu_sales', ascending=False).head(5).plot(kind='bar')\n",
    "plt.title('Топ-5 популярных платформ в Европе', fontsize=16)\n",
    "\n",
    "actual_years.groupby(by='platform').agg({'jp_sales':'sum'}).sort_values(by='jp_sales', ascending=False).head(5).plot(kind='bar')\n",
    "plt.title('Топ-5 популярных платформ в Японии', fontsize=16)"
   ]
  },
  {
   "cell_type": "markdown",
   "metadata": {},
   "source": [
    "В Северной Америке имеют наибольшую популярность приставки PS4, XOne, X360, PS3 и 3DS.\n",
    "\n",
    "В Европе самые популярные приставки - PS4, остальные: PS3, XOne, X360, 3DS заметно проигрывают в популярности.\n",
    "\n",
    "В Японии, как обычно, всё наоборот. Явный лидер - 3DS. За ними американские PS3, PSV и PS4. Далее WiiU.\n",
    "\n",
    "В целом, в Америке идет конкурентная борьба между PlayStation и Xbox. Состав лидеров в Европе схож, но там явное преимещество за PlayStation. В Японии наиболее популярно Nintendo и опять же PlayStation. Из чего можно сделать вывод, что наиболее перспективная платформа - PlayStation."
   ]
  },
  {
   "cell_type": "markdown",
   "metadata": {},
   "source": [
    "### Самые популярные жанры (топ-5). Пояснить разницу."
   ]
  },
  {
   "cell_type": "code",
   "execution_count": 72,
   "metadata": {},
   "outputs": [
    {
     "data": {
      "text/plain": [
       "Text(0.5, 1.0, 'Топ-5 популярных жанров в Японии')"
      ]
     },
     "execution_count": 72,
     "metadata": {},
     "output_type": "execute_result"
    },
    {
     "data": {
      "image/png": "[encoded data removed]",
      "text/plain": [
       "<Figure size 432x288 with 1 Axes>"
      ]
     },
     "metadata": {
      "needs_background": "light"
     },
     "output_type": "display_data"
    },
    {
     "data": {
      "image/png": "[encoded data removed]",
      "text/plain": [
       "<Figure size 432x288 with 1 Axes>"
      ]
     },
     "metadata": {
      "needs_background": "light"
     },
     "output_type": "display_data"
    },
    {
     "data": {
      "image/png": "[encoded data removed]",
      "text/plain": [
       "<Figure size 432x288 with 1 Axes>"
      ]
     },
     "metadata": {
      "needs_background": "light"
     },
     "output_type": "display_data"
    }
   ],
   "source": [
    "# построение столбчатых диаграмм\n",
    "actual_years.groupby(by='genre').agg({'na_sales':'sum'}).sort_values(by='na_sales', ascending=False).head(5).plot(kind='bar')\n",
    "plt.title('Топ-5 популярных жанров в Северной Америке', fontsize=16)\n",
    "\n",
    "actual_years.groupby(by='genre').agg({'eu_sales':'sum'}).sort_values(by='eu_sales', ascending=False).head(5).plot(kind='bar')\n",
    "plt.title('Топ-5 популярных жанров в Европе', fontsize=16)\n",
    "\n",
    "actual_years.groupby(by='genre').agg({'jp_sales':'sum'}).sort_values(by='jp_sales', ascending=False).head(5).plot(kind='bar')\n",
    "plt.title('Топ-5 популярных жанров в Японии', fontsize=16)"
   ]
  },
  {
   "cell_type": "markdown",
   "metadata": {},
   "source": [
    "Вкусы в Северной Америке и Европе схожи: и там, и там живут фанаты экшнов, шутеров и спортивных игр.\n",
    "\n",
    "В Японии вкус совершенно иной - на первом месте ролевые игры и экшены, причем с большим отрывом.\n",
    "\n",
    "В целом вне зависимости от региона, самый популярный жанр - экшн."
   ]
  },
  {
   "cell_type": "markdown",
   "metadata": {},
   "source": [
    "### Влияет ли рейтинг ESRB на продажи в отдельном регионе?"
   ]
  },
  {
   "cell_type": "code",
   "execution_count": 73,
   "metadata": {},
   "outputs": [
    {
     "data": {
      "text/plain": [
       "Text(0.5, 1.0, 'Топ-5 рейтингов самых продаваемых игр Японии')"
      ]
     },
     "execution_count": 73,
     "metadata": {},
     "output_type": "execute_result"
    },
    {
     "data": {
      "image/png": "[encoded data removed]",
      "text/plain": [
       "<Figure size 432x288 with 1 Axes>"
      ]
     },
     "metadata": {
      "needs_background": "light"
     },
     "output_type": "display_data"
    },
    {
     "data": {
      "image/png": "[encoded data removed]",
      "text/plain": [
       "<Figure size 432x288 with 1 Axes>"
      ]
     },
     "metadata": {
      "needs_background": "light"
     },
     "output_type": "display_data"
    },
    {
     "data": {
      "image/png": "[encoded data removed]",
      "text/plain": [
       "<Figure size 432x288 with 1 Axes>"
      ]
     },
     "metadata": {
      "needs_background": "light"
     },
     "output_type": "display_data"
    }
   ],
   "source": [
    "# построение столбчатых диаграмм\n",
    "actual_years.groupby(by='rating').agg({'na_sales':'sum'}).sort_values(by='na_sales', ascending=False).head(5).plot(kind='bar')\n",
    "plt.title('Топ-5 рейтингов самых продаваемых игр Северной Америке', fontsize=16)\n",
    "\n",
    "actual_years.groupby(by='rating').agg({'eu_sales':'sum'}).sort_values(by='eu_sales', ascending=False).head(5).plot(kind='bar')\n",
    "plt.title('Топ-5 рейтингов самых продаваемых игр Европы', fontsize=16)\n",
    "\n",
    "actual_years.groupby(by='rating').agg({'jp_sales':'sum'}).sort_values(by='jp_sales', ascending=False).head(5).plot(kind='bar')\n",
    "plt.title('Топ-5 рейтингов самых продаваемых игр Японии', fontsize=16)"
   ]
  },
  {
   "cell_type": "markdown",
   "metadata": {},
   "source": [
    "В Северной Америке и в Европе картина практически одинаковая. Большая часть выручки получено с игр с рейтингом М, т.е. \"Для взрослых\", следом - с рейтингом Е, т.е. \"Для всех\", с рейтингом Е10+, т.е. \"Для всех от 10 лет и старше\" и рейтингом Т - \"Подросткам\". К сожалению в датасете присутствует большое количество игр без жанра, что заметно влияет на общую картину.\n",
    "\n",
    "В Японии опять не так. Первое место занимает неопределенный рейтинг, затем Т, т.е. \"Подросткам\", и остальные указанные выше рейтинги.\n",
    "\n",
    "В целом во всех регионах преобладают одни и те же рейтинги, только их распределение в Японии отличается от распеределения в Северной Америке и Европе."
   ]
  },
  {
   "cell_type": "markdown",
   "metadata": {},
   "source": [
    "### Выводы"
   ]
  },
  {
   "cell_type": "markdown",
   "metadata": {},
   "source": [
    "Пользователи Северной Америки и Европы предпочитают приставки PS4 и являются фанатами экшнов, шутеров и спортивных игр \"Для взрослых\".\n",
    "\n",
    "Пользователи из Японии предпочитают приставки 3DS и больше всего играют в ролевые игры и экшены \"Подросткам\"."
   ]
  },
  {
   "cell_type": "markdown",
   "metadata": {},
   "source": [
    "## Проверка гипотез"
   ]
  },
  {
   "cell_type": "markdown",
   "metadata": {},
   "source": [
    "Напишем функцию для избавления от выбросов с помощью правила 3 сигм."
   ]
  },
  {
   "cell_type": "code",
   "execution_count": 74,
   "metadata": {},
   "outputs": [],
   "source": [
    "# функция для удаления выбросов\n",
    "def delete_outliers(df, column, graphic=0, x = 10, y = 10):\n",
    "    q1 = df[column].quantile(0.25)                 \n",
    "    q3 = df[column].quantile(0.75)\n",
    "    iqr = q3 - q1\n",
    "    iqr_test = (df[column] >= (q1 - 1.5 * iqr)) & (df[column] <= (q3 + 1.5 * iqr))\n",
    "    if graphic == 1:\n",
    "        return df.loc[iqr_test].boxplot([column], figsize=(x,y))\n",
    "    else:\n",
    "        return df.loc[iqr_test]"
   ]
  },
  {
   "cell_type": "markdown",
   "metadata": {},
   "source": [
    "### Cредние пользовательские рейтинги платформ Xbox One и PC одинаковые"
   ]
  },
  {
   "cell_type": "markdown",
   "metadata": {},
   "source": [
    "**Формулирование нулевой и альтернативной гипотезы**"
   ]
  },
  {
   "cell_type": "markdown",
   "metadata": {},
   "source": [
    "Нулевая гипотеза:\n",
    "\n",
    "H0: cредние пользовательские рейтинги платформ Xbox One и PC одинаковые\n",
    "\n",
    "Альтернативная гипотеза:\n",
    "\n",
    "H1: cредние пользовательские рейтинги платформ Xbox One и PC различаются"
   ]
  },
  {
   "cell_type": "code",
   "execution_count": 75,
   "metadata": {},
   "outputs": [],
   "source": [
    "# создание датасетов\n",
    "xbox_one = actual_years[(actual_years['platform'] == 'XOne') & (actual_years['user_score'] >= 0)]\n",
    "pc = actual_years[(actual_years['platform'] == 'PC') & (actual_years['user_score'] >= 0)]"
   ]
  },
  {
   "cell_type": "code",
   "execution_count": 76,
   "metadata": {},
   "outputs": [
    {
     "data": {
      "text/html": [
       "<div>\n",
       "<style scoped>\n",
       "    .dataframe tbody tr th:only-of-type {\n",
       "        vertical-align: middle;\n",
       "    }\n",
       "\n",
       "    .dataframe tbody tr th {\n",
       "        vertical-align: top;\n",
       "    }\n",
       "\n",
       "    .dataframe thead th {\n",
       "        text-align: right;\n",
       "    }\n",
       "</style>\n",
       "<table border=\"1\" class=\"dataframe\">\n",
       "  <thead>\n",
       "    <tr style=\"text-align: right;\">\n",
       "      <th></th>\n",
       "      <th>name</th>\n",
       "      <th>platform</th>\n",
       "      <th>year_of_release</th>\n",
       "      <th>genre</th>\n",
       "      <th>na_sales</th>\n",
       "      <th>eu_sales</th>\n",
       "      <th>jp_sales</th>\n",
       "      <th>other_sales</th>\n",
       "      <th>critic_score</th>\n",
       "      <th>user_score</th>\n",
       "      <th>rating</th>\n",
       "      <th>total_sales</th>\n",
       "    </tr>\n",
       "  </thead>\n",
       "  <tbody>\n",
       "    <tr>\n",
       "      <td>709</td>\n",
       "      <td>Battlefield 1</td>\n",
       "      <td>XOne</td>\n",
       "      <td>2016</td>\n",
       "      <td>Shooter</td>\n",
       "      <td>1280</td>\n",
       "      <td>770</td>\n",
       "      <td>0</td>\n",
       "      <td>200</td>\n",
       "      <td>87</td>\n",
       "      <td>8.2</td>\n",
       "      <td>M</td>\n",
       "      <td>2.25</td>\n",
       "    </tr>\n",
       "    <tr>\n",
       "      <td>758</td>\n",
       "      <td>Tom Clancy's The Division</td>\n",
       "      <td>XOne</td>\n",
       "      <td>2016</td>\n",
       "      <td>Shooter</td>\n",
       "      <td>1290</td>\n",
       "      <td>680</td>\n",
       "      <td>0</td>\n",
       "      <td>200</td>\n",
       "      <td>80</td>\n",
       "      <td>6.9</td>\n",
       "      <td>M</td>\n",
       "      <td>2.17</td>\n",
       "    </tr>\n",
       "    <tr>\n",
       "      <td>11717</td>\n",
       "      <td>The Wolf Among Us</td>\n",
       "      <td>XOne</td>\n",
       "      <td>2014</td>\n",
       "      <td>Adventure</td>\n",
       "      <td>50</td>\n",
       "      <td>20</td>\n",
       "      <td>0</td>\n",
       "      <td>10</td>\n",
       "      <td>-1</td>\n",
       "      <td>8.5</td>\n",
       "      <td>M</td>\n",
       "      <td>0.08</td>\n",
       "    </tr>\n",
       "    <tr>\n",
       "      <td>9207</td>\n",
       "      <td>Transformers: Devastation</td>\n",
       "      <td>XOne</td>\n",
       "      <td>2015</td>\n",
       "      <td>Action</td>\n",
       "      <td>90</td>\n",
       "      <td>40</td>\n",
       "      <td>0</td>\n",
       "      <td>10</td>\n",
       "      <td>75</td>\n",
       "      <td>7.9</td>\n",
       "      <td>T</td>\n",
       "      <td>0.14</td>\n",
       "    </tr>\n",
       "    <tr>\n",
       "      <td>8979</td>\n",
       "      <td>ReCore</td>\n",
       "      <td>XOne</td>\n",
       "      <td>2016</td>\n",
       "      <td>Action</td>\n",
       "      <td>80</td>\n",
       "      <td>50</td>\n",
       "      <td>0</td>\n",
       "      <td>10</td>\n",
       "      <td>63</td>\n",
       "      <td>6.6</td>\n",
       "      <td>T</td>\n",
       "      <td>0.14</td>\n",
       "    </tr>\n",
       "    <tr>\n",
       "      <td>1439</td>\n",
       "      <td>Gears of War 4</td>\n",
       "      <td>XOne</td>\n",
       "      <td>2016</td>\n",
       "      <td>Shooter</td>\n",
       "      <td>780</td>\n",
       "      <td>440</td>\n",
       "      <td>0</td>\n",
       "      <td>120</td>\n",
       "      <td>84</td>\n",
       "      <td>6.2</td>\n",
       "      <td>M</td>\n",
       "      <td>1.34</td>\n",
       "    </tr>\n",
       "    <tr>\n",
       "      <td>14089</td>\n",
       "      <td>Just Dance 2017</td>\n",
       "      <td>XOne</td>\n",
       "      <td>2016</td>\n",
       "      <td>Misc</td>\n",
       "      <td>30</td>\n",
       "      <td>0</td>\n",
       "      <td>0</td>\n",
       "      <td>0</td>\n",
       "      <td>75</td>\n",
       "      <td>8.0</td>\n",
       "      <td>E10+</td>\n",
       "      <td>0.03</td>\n",
       "    </tr>\n",
       "    <tr>\n",
       "      <td>9653</td>\n",
       "      <td>Deadpool</td>\n",
       "      <td>XOne</td>\n",
       "      <td>2015</td>\n",
       "      <td>Action</td>\n",
       "      <td>90</td>\n",
       "      <td>30</td>\n",
       "      <td>0</td>\n",
       "      <td>10</td>\n",
       "      <td>-1</td>\n",
       "      <td>5.7</td>\n",
       "      <td>M</td>\n",
       "      <td>0.13</td>\n",
       "    </tr>\n",
       "    <tr>\n",
       "      <td>12400</td>\n",
       "      <td>TrackMania Turbo</td>\n",
       "      <td>XOne</td>\n",
       "      <td>2016</td>\n",
       "      <td>Action</td>\n",
       "      <td>20</td>\n",
       "      <td>40</td>\n",
       "      <td>0</td>\n",
       "      <td>0</td>\n",
       "      <td>76</td>\n",
       "      <td>7.7</td>\n",
       "      <td>E</td>\n",
       "      <td>0.06</td>\n",
       "    </tr>\n",
       "    <tr>\n",
       "      <td>6758</td>\n",
       "      <td>F1 2015</td>\n",
       "      <td>XOne</td>\n",
       "      <td>2015</td>\n",
       "      <td>Racing</td>\n",
       "      <td>80</td>\n",
       "      <td>150</td>\n",
       "      <td>0</td>\n",
       "      <td>20</td>\n",
       "      <td>64</td>\n",
       "      <td>5.3</td>\n",
       "      <td>E</td>\n",
       "      <td>0.25</td>\n",
       "    </tr>\n",
       "  </tbody>\n",
       "</table>\n",
       "</div>"
      ],
      "text/plain": [
       "                            name platform  year_of_release      genre  \\\n",
       "709                Battlefield 1     XOne             2016    Shooter   \n",
       "758    Tom Clancy's The Division     XOne             2016    Shooter   \n",
       "11717          The Wolf Among Us     XOne             2014  Adventure   \n",
       "9207   Transformers: Devastation     XOne             2015     Action   \n",
       "8979                      ReCore     XOne             2016     Action   \n",
       "1439              Gears of War 4     XOne             2016    Shooter   \n",
       "14089            Just Dance 2017     XOne             2016       Misc   \n",
       "9653                    Deadpool     XOne             2015     Action   \n",
       "12400           TrackMania Turbo     XOne             2016     Action   \n",
       "6758                     F1 2015     XOne             2015     Racing   \n",
       "\n",
       "       na_sales  eu_sales  jp_sales  other_sales  critic_score  user_score  \\\n",
       "709        1280       770         0          200            87         8.2   \n",
       "758        1290       680         0          200            80         6.9   \n",
       "11717        50        20         0           10            -1         8.5   \n",
       "9207         90        40         0           10            75         7.9   \n",
       "8979         80        50         0           10            63         6.6   \n",
       "1439        780       440         0          120            84         6.2   \n",
       "14089        30         0         0            0            75         8.0   \n",
       "9653         90        30         0           10            -1         5.7   \n",
       "12400        20        40         0            0            76         7.7   \n",
       "6758         80       150         0           20            64         5.3   \n",
       "\n",
       "      rating  total_sales  \n",
       "709        M         2.25  \n",
       "758        M         2.17  \n",
       "11717      M         0.08  \n",
       "9207       T         0.14  \n",
       "8979       T         0.14  \n",
       "1439       M         1.34  \n",
       "14089   E10+         0.03  \n",
       "9653       M         0.13  \n",
       "12400      E         0.06  \n",
       "6758       E         0.25  "
      ]
     },
     "execution_count": 76,
     "metadata": {},
     "output_type": "execute_result"
    }
   ],
   "source": [
    "# получение cлучайных 10 строк датасета\n",
    "xbox_one.sample(10)"
   ]
  },
  {
   "cell_type": "code",
   "execution_count": 77,
   "metadata": {},
   "outputs": [
    {
     "data": {
      "text/html": [
       "<div>\n",
       "<style scoped>\n",
       "    .dataframe tbody tr th:only-of-type {\n",
       "        vertical-align: middle;\n",
       "    }\n",
       "\n",
       "    .dataframe tbody tr th {\n",
       "        vertical-align: top;\n",
       "    }\n",
       "\n",
       "    .dataframe thead th {\n",
       "        text-align: right;\n",
       "    }\n",
       "</style>\n",
       "<table border=\"1\" class=\"dataframe\">\n",
       "  <thead>\n",
       "    <tr style=\"text-align: right;\">\n",
       "      <th></th>\n",
       "      <th>name</th>\n",
       "      <th>platform</th>\n",
       "      <th>year_of_release</th>\n",
       "      <th>genre</th>\n",
       "      <th>na_sales</th>\n",
       "      <th>eu_sales</th>\n",
       "      <th>jp_sales</th>\n",
       "      <th>other_sales</th>\n",
       "      <th>critic_score</th>\n",
       "      <th>user_score</th>\n",
       "      <th>rating</th>\n",
       "      <th>total_sales</th>\n",
       "    </tr>\n",
       "  </thead>\n",
       "  <tbody>\n",
       "    <tr>\n",
       "      <td>16168</td>\n",
       "      <td>War for the Overworld</td>\n",
       "      <td>PC</td>\n",
       "      <td>2015</td>\n",
       "      <td>Strategy</td>\n",
       "      <td>0</td>\n",
       "      <td>10</td>\n",
       "      <td>0</td>\n",
       "      <td>0</td>\n",
       "      <td>65</td>\n",
       "      <td>7.7</td>\n",
       "      <td>Unknown</td>\n",
       "      <td>0.01</td>\n",
       "    </tr>\n",
       "    <tr>\n",
       "      <td>9037</td>\n",
       "      <td>Just Cause 3</td>\n",
       "      <td>PC</td>\n",
       "      <td>2015</td>\n",
       "      <td>Action</td>\n",
       "      <td>30</td>\n",
       "      <td>110</td>\n",
       "      <td>0</td>\n",
       "      <td>10</td>\n",
       "      <td>74</td>\n",
       "      <td>5.3</td>\n",
       "      <td>M</td>\n",
       "      <td>0.15</td>\n",
       "    </tr>\n",
       "    <tr>\n",
       "      <td>3212</td>\n",
       "      <td>Crysis 3</td>\n",
       "      <td>PC</td>\n",
       "      <td>2013</td>\n",
       "      <td>Shooter</td>\n",
       "      <td>170</td>\n",
       "      <td>390</td>\n",
       "      <td>0</td>\n",
       "      <td>70</td>\n",
       "      <td>76</td>\n",
       "      <td>6.5</td>\n",
       "      <td>M</td>\n",
       "      <td>0.63</td>\n",
       "    </tr>\n",
       "    <tr>\n",
       "      <td>15406</td>\n",
       "      <td>Sacred 3</td>\n",
       "      <td>PC</td>\n",
       "      <td>2014</td>\n",
       "      <td>Role-Playing</td>\n",
       "      <td>0</td>\n",
       "      <td>20</td>\n",
       "      <td>0</td>\n",
       "      <td>0</td>\n",
       "      <td>57</td>\n",
       "      <td>1.4</td>\n",
       "      <td>M</td>\n",
       "      <td>0.02</td>\n",
       "    </tr>\n",
       "    <tr>\n",
       "      <td>2829</td>\n",
       "      <td>Total War: Rome II</td>\n",
       "      <td>PC</td>\n",
       "      <td>2013</td>\n",
       "      <td>Strategy</td>\n",
       "      <td>120</td>\n",
       "      <td>530</td>\n",
       "      <td>0</td>\n",
       "      <td>70</td>\n",
       "      <td>76</td>\n",
       "      <td>4.2</td>\n",
       "      <td>T</td>\n",
       "      <td>0.72</td>\n",
       "    </tr>\n",
       "    <tr>\n",
       "      <td>5000</td>\n",
       "      <td>Battlefield 1</td>\n",
       "      <td>PC</td>\n",
       "      <td>2016</td>\n",
       "      <td>Shooter</td>\n",
       "      <td>110</td>\n",
       "      <td>240</td>\n",
       "      <td>0</td>\n",
       "      <td>30</td>\n",
       "      <td>88</td>\n",
       "      <td>7.6</td>\n",
       "      <td>M</td>\n",
       "      <td>0.38</td>\n",
       "    </tr>\n",
       "    <tr>\n",
       "      <td>1351</td>\n",
       "      <td>SimCity (2013)</td>\n",
       "      <td>PC</td>\n",
       "      <td>2013</td>\n",
       "      <td>Simulation</td>\n",
       "      <td>480</td>\n",
       "      <td>770</td>\n",
       "      <td>0</td>\n",
       "      <td>170</td>\n",
       "      <td>64</td>\n",
       "      <td>2.2</td>\n",
       "      <td>E10+</td>\n",
       "      <td>1.42</td>\n",
       "    </tr>\n",
       "    <tr>\n",
       "      <td>10963</td>\n",
       "      <td>Football Manager 2017</td>\n",
       "      <td>PC</td>\n",
       "      <td>2016</td>\n",
       "      <td>Simulation</td>\n",
       "      <td>0</td>\n",
       "      <td>90</td>\n",
       "      <td>0</td>\n",
       "      <td>10</td>\n",
       "      <td>81</td>\n",
       "      <td>4.3</td>\n",
       "      <td>E</td>\n",
       "      <td>0.10</td>\n",
       "    </tr>\n",
       "    <tr>\n",
       "      <td>15489</td>\n",
       "      <td>Agatha Christie: The ABC Murders</td>\n",
       "      <td>PC</td>\n",
       "      <td>2016</td>\n",
       "      <td>Adventure</td>\n",
       "      <td>0</td>\n",
       "      <td>20</td>\n",
       "      <td>0</td>\n",
       "      <td>0</td>\n",
       "      <td>66</td>\n",
       "      <td>8.5</td>\n",
       "      <td>Unknown</td>\n",
       "      <td>0.02</td>\n",
       "    </tr>\n",
       "    <tr>\n",
       "      <td>16337</td>\n",
       "      <td>Battle Worlds: Kronos</td>\n",
       "      <td>PC</td>\n",
       "      <td>2016</td>\n",
       "      <td>Strategy</td>\n",
       "      <td>0</td>\n",
       "      <td>10</td>\n",
       "      <td>0</td>\n",
       "      <td>0</td>\n",
       "      <td>71</td>\n",
       "      <td>7.1</td>\n",
       "      <td>Unknown</td>\n",
       "      <td>0.01</td>\n",
       "    </tr>\n",
       "  </tbody>\n",
       "</table>\n",
       "</div>"
      ],
      "text/plain": [
       "                                   name platform  year_of_release  \\\n",
       "16168             War for the Overworld       PC             2015   \n",
       "9037                       Just Cause 3       PC             2015   \n",
       "3212                           Crysis 3       PC             2013   \n",
       "15406                          Sacred 3       PC             2014   \n",
       "2829                 Total War: Rome II       PC             2013   \n",
       "5000                      Battlefield 1       PC             2016   \n",
       "1351                     SimCity (2013)       PC             2013   \n",
       "10963             Football Manager 2017       PC             2016   \n",
       "15489  Agatha Christie: The ABC Murders       PC             2016   \n",
       "16337             Battle Worlds: Kronos       PC             2016   \n",
       "\n",
       "              genre  na_sales  eu_sales  jp_sales  other_sales  critic_score  \\\n",
       "16168      Strategy         0        10         0            0            65   \n",
       "9037         Action        30       110         0           10            74   \n",
       "3212        Shooter       170       390         0           70            76   \n",
       "15406  Role-Playing         0        20         0            0            57   \n",
       "2829       Strategy       120       530         0           70            76   \n",
       "5000        Shooter       110       240         0           30            88   \n",
       "1351     Simulation       480       770         0          170            64   \n",
       "10963    Simulation         0        90         0           10            81   \n",
       "15489     Adventure         0        20         0            0            66   \n",
       "16337      Strategy         0        10         0            0            71   \n",
       "\n",
       "       user_score   rating  total_sales  \n",
       "16168         7.7  Unknown         0.01  \n",
       "9037          5.3        M         0.15  \n",
       "3212          6.5        M         0.63  \n",
       "15406         1.4        M         0.02  \n",
       "2829          4.2        T         0.72  \n",
       "5000          7.6        M         0.38  \n",
       "1351          2.2     E10+         1.42  \n",
       "10963         4.3        E         0.10  \n",
       "15489         8.5  Unknown         0.02  \n",
       "16337         7.1  Unknown         0.01  "
      ]
     },
     "execution_count": 77,
     "metadata": {},
     "output_type": "execute_result"
    }
   ],
   "source": [
    "# получение cлучайных 10 строк датасета\n",
    "pc.sample(10)"
   ]
  },
  {
   "cell_type": "code",
   "execution_count": 78,
   "metadata": {},
   "outputs": [
    {
     "data": {
      "text/plain": [
       "1.8965188383045526"
      ]
     },
     "execution_count": 78,
     "metadata": {},
     "output_type": "execute_result"
    }
   ],
   "source": [
    "# вывод дисперсии\n",
    "np.var(xbox_one['user_score'])"
   ]
  },
  {
   "cell_type": "code",
   "execution_count": 79,
   "metadata": {},
   "outputs": [
    {
     "data": {
      "text/plain": [
       "3.016306347554631"
      ]
     },
     "execution_count": 79,
     "metadata": {},
     "output_type": "execute_result"
    }
   ],
   "source": [
    "# вывод дисперсии\n",
    "np.var(pc['user_score'])"
   ]
  },
  {
   "cell_type": "markdown",
   "metadata": {},
   "source": [
    "**Критерий для проверки гипотез**"
   ]
  },
  {
   "cell_type": "markdown",
   "metadata": {},
   "source": [
    "Для проверки гипотез используется t-критерий Стьюдента, так как сравниваемые выборки независимы между собой. При этом необходимо учесть, что дисперсии выборок различаются, поэтому equal_var = False.\n",
    "\n",
    "Критический уровень значимости - 0.05, чтобы вероятность правильности гипотезы была 95% и больше."
   ]
  },
  {
   "cell_type": "code",
   "execution_count": 80,
   "metadata": {},
   "outputs": [],
   "source": [
    "# критический уровень значимости\n",
    "alpha = 0.05"
   ]
  },
  {
   "cell_type": "code",
   "execution_count": 81,
   "metadata": {},
   "outputs": [],
   "source": [
    "# удаление выбросов\n",
    "xbox_one = delete_outliers(xbox_one, 'user_score', 0)\n",
    "xbox_one_mean = xbox_one['user_score']\n",
    "\n",
    "pc = delete_outliers(pc, 'user_score', 0)\n",
    "pc_mean = pc['user_score']"
   ]
  },
  {
   "cell_type": "code",
   "execution_count": 82,
   "metadata": {},
   "outputs": [
    {
     "name": "stdout",
     "output_type": "stream",
     "text": [
      "p-значение: 0.025209698231770935\n",
      "Отвергаем нулевую гипотезу\n"
     ]
    }
   ],
   "source": [
    "# проверка гипотез\n",
    "results = st.ttest_ind(xbox_one_mean, pc_mean, equal_var = False)\n",
    "print('p-значение:', results.pvalue)\n",
    "\n",
    "if (results.pvalue < alpha):\n",
    "    print(\"Отвергаем нулевую гипотезу\")\n",
    "else:\n",
    "    print(\"Не получилось отвергнуть нулевую гипотезу\")"
   ]
  },
  {
   "cell_type": "markdown",
   "metadata": {},
   "source": [
    "Нулевой гипотезой была гипотеза о равенстве cредних пользовательских рейтингов платформ Xbox One и PC и маленькое p-value говорит о том, вероятность равенства средних пользовательских рейтингов мала. Нулевая гипотеза отвергается. А значит сформулированная альтернативная гипотеза о том, что cредние пользовательские рейтинги платформ Xbox One и PC различаются - верна."
   ]
  },
  {
   "cell_type": "markdown",
   "metadata": {},
   "source": [
    "### Cредние пользовательские рейтинги жанров Action и Sports разные"
   ]
  },
  {
   "cell_type": "markdown",
   "metadata": {},
   "source": [
    "**Формулирование нулевой и альтернативной гипотезы**"
   ]
  },
  {
   "cell_type": "markdown",
   "metadata": {},
   "source": [
    "Нулевая гипотеза:\n",
    "\n",
    "H0: cредние пользовательские рейтинги жанров Action и Sports одинаковые\n",
    "\n",
    "Альтернативная гипотеза:\n",
    "\n",
    "H1: cредние пользовательские рейтинги жанров Action и Sports разные"
   ]
  },
  {
   "cell_type": "code",
   "execution_count": 83,
   "metadata": {},
   "outputs": [],
   "source": [
    "# создание датасетов\n",
    "action = actual_years[(actual_years['genre'] == 'Action') & (actual_years['user_score'] >= 0)]\n",
    "sports = actual_years[(actual_years['genre'] == 'Sports') & (actual_years['user_score'] >= 0)]"
   ]
  },
  {
   "cell_type": "code",
   "execution_count": 84,
   "metadata": {},
   "outputs": [
    {
     "data": {
      "text/html": [
       "<div>\n",
       "<style scoped>\n",
       "    .dataframe tbody tr th:only-of-type {\n",
       "        vertical-align: middle;\n",
       "    }\n",
       "\n",
       "    .dataframe tbody tr th {\n",
       "        vertical-align: top;\n",
       "    }\n",
       "\n",
       "    .dataframe thead th {\n",
       "        text-align: right;\n",
       "    }\n",
       "</style>\n",
       "<table border=\"1\" class=\"dataframe\">\n",
       "  <thead>\n",
       "    <tr style=\"text-align: right;\">\n",
       "      <th></th>\n",
       "      <th>name</th>\n",
       "      <th>platform</th>\n",
       "      <th>year_of_release</th>\n",
       "      <th>genre</th>\n",
       "      <th>na_sales</th>\n",
       "      <th>eu_sales</th>\n",
       "      <th>jp_sales</th>\n",
       "      <th>other_sales</th>\n",
       "      <th>critic_score</th>\n",
       "      <th>user_score</th>\n",
       "      <th>rating</th>\n",
       "      <th>total_sales</th>\n",
       "    </tr>\n",
       "  </thead>\n",
       "  <tbody>\n",
       "    <tr>\n",
       "      <td>6972</td>\n",
       "      <td>Dynasty Warriors: Gundam Reborn</td>\n",
       "      <td>PS3</td>\n",
       "      <td>2013</td>\n",
       "      <td>Action</td>\n",
       "      <td>0</td>\n",
       "      <td>0</td>\n",
       "      <td>230</td>\n",
       "      <td>0</td>\n",
       "      <td>64</td>\n",
       "      <td>7.5</td>\n",
       "      <td>T</td>\n",
       "      <td>0.23</td>\n",
       "    </tr>\n",
       "    <tr>\n",
       "      <td>5753</td>\n",
       "      <td>Skylanders: SuperChargers</td>\n",
       "      <td>PS4</td>\n",
       "      <td>2015</td>\n",
       "      <td>Action</td>\n",
       "      <td>170</td>\n",
       "      <td>80</td>\n",
       "      <td>0</td>\n",
       "      <td>50</td>\n",
       "      <td>81</td>\n",
       "      <td>3.3</td>\n",
       "      <td>E10+</td>\n",
       "      <td>0.30</td>\n",
       "    </tr>\n",
       "    <tr>\n",
       "      <td>1806</td>\n",
       "      <td>Watch Dogs 2</td>\n",
       "      <td>PS4</td>\n",
       "      <td>2016</td>\n",
       "      <td>Action</td>\n",
       "      <td>370</td>\n",
       "      <td>580</td>\n",
       "      <td>0</td>\n",
       "      <td>180</td>\n",
       "      <td>83</td>\n",
       "      <td>7.8</td>\n",
       "      <td>M</td>\n",
       "      <td>1.13</td>\n",
       "    </tr>\n",
       "    <tr>\n",
       "      <td>4435</td>\n",
       "      <td>DmC: Devil May Cry</td>\n",
       "      <td>X360</td>\n",
       "      <td>2013</td>\n",
       "      <td>Action</td>\n",
       "      <td>260</td>\n",
       "      <td>120</td>\n",
       "      <td>10</td>\n",
       "      <td>40</td>\n",
       "      <td>86</td>\n",
       "      <td>5.1</td>\n",
       "      <td>M</td>\n",
       "      <td>0.43</td>\n",
       "    </tr>\n",
       "    <tr>\n",
       "      <td>4573</td>\n",
       "      <td>Skylanders: SuperChargers</td>\n",
       "      <td>X360</td>\n",
       "      <td>2015</td>\n",
       "      <td>Action</td>\n",
       "      <td>250</td>\n",
       "      <td>130</td>\n",
       "      <td>0</td>\n",
       "      <td>40</td>\n",
       "      <td>-1</td>\n",
       "      <td>5.4</td>\n",
       "      <td>E10+</td>\n",
       "      <td>0.42</td>\n",
       "    </tr>\n",
       "    <tr>\n",
       "      <td>16654</td>\n",
       "      <td>Ben 10 Omniverse 2</td>\n",
       "      <td>X360</td>\n",
       "      <td>2013</td>\n",
       "      <td>Action</td>\n",
       "      <td>0</td>\n",
       "      <td>10</td>\n",
       "      <td>0</td>\n",
       "      <td>0</td>\n",
       "      <td>-1</td>\n",
       "      <td>5.1</td>\n",
       "      <td>E10+</td>\n",
       "      <td>0.01</td>\n",
       "    </tr>\n",
       "    <tr>\n",
       "      <td>3647</td>\n",
       "      <td>LEGO Dimensions</td>\n",
       "      <td>PS3</td>\n",
       "      <td>2015</td>\n",
       "      <td>Action</td>\n",
       "      <td>170</td>\n",
       "      <td>300</td>\n",
       "      <td>0</td>\n",
       "      <td>90</td>\n",
       "      <td>-1</td>\n",
       "      <td>6.4</td>\n",
       "      <td>Unknown</td>\n",
       "      <td>0.56</td>\n",
       "    </tr>\n",
       "    <tr>\n",
       "      <td>4086</td>\n",
       "      <td>Skylanders: SuperChargers</td>\n",
       "      <td>WiiU</td>\n",
       "      <td>2015</td>\n",
       "      <td>Action</td>\n",
       "      <td>250</td>\n",
       "      <td>190</td>\n",
       "      <td>0</td>\n",
       "      <td>40</td>\n",
       "      <td>87</td>\n",
       "      <td>5.6</td>\n",
       "      <td>E10+</td>\n",
       "      <td>0.48</td>\n",
       "    </tr>\n",
       "    <tr>\n",
       "      <td>11585</td>\n",
       "      <td>Assassin's Creed: Rogue</td>\n",
       "      <td>PC</td>\n",
       "      <td>2015</td>\n",
       "      <td>Action</td>\n",
       "      <td>50</td>\n",
       "      <td>20</td>\n",
       "      <td>0</td>\n",
       "      <td>10</td>\n",
       "      <td>74</td>\n",
       "      <td>7.5</td>\n",
       "      <td>M</td>\n",
       "      <td>0.08</td>\n",
       "    </tr>\n",
       "    <tr>\n",
       "      <td>15521</td>\n",
       "      <td>Tenkai Knights: Brave Battle</td>\n",
       "      <td>3DS</td>\n",
       "      <td>2014</td>\n",
       "      <td>Action</td>\n",
       "      <td>10</td>\n",
       "      <td>10</td>\n",
       "      <td>0</td>\n",
       "      <td>0</td>\n",
       "      <td>26</td>\n",
       "      <td>2.4</td>\n",
       "      <td>E10+</td>\n",
       "      <td>0.02</td>\n",
       "    </tr>\n",
       "  </tbody>\n",
       "</table>\n",
       "</div>"
      ],
      "text/plain": [
       "                                  name platform  year_of_release   genre  \\\n",
       "6972   Dynasty Warriors: Gundam Reborn      PS3             2013  Action   \n",
       "5753         Skylanders: SuperChargers      PS4             2015  Action   \n",
       "1806                      Watch Dogs 2      PS4             2016  Action   \n",
       "4435                DmC: Devil May Cry     X360             2013  Action   \n",
       "4573         Skylanders: SuperChargers     X360             2015  Action   \n",
       "16654               Ben 10 Omniverse 2     X360             2013  Action   \n",
       "3647                   LEGO Dimensions      PS3             2015  Action   \n",
       "4086         Skylanders: SuperChargers     WiiU             2015  Action   \n",
       "11585          Assassin's Creed: Rogue       PC             2015  Action   \n",
       "15521     Tenkai Knights: Brave Battle      3DS             2014  Action   \n",
       "\n",
       "       na_sales  eu_sales  jp_sales  other_sales  critic_score  user_score  \\\n",
       "6972          0         0       230            0            64         7.5   \n",
       "5753        170        80         0           50            81         3.3   \n",
       "1806        370       580         0          180            83         7.8   \n",
       "4435        260       120        10           40            86         5.1   \n",
       "4573        250       130         0           40            -1         5.4   \n",
       "16654         0        10         0            0            -1         5.1   \n",
       "3647        170       300         0           90            -1         6.4   \n",
       "4086        250       190         0           40            87         5.6   \n",
       "11585        50        20         0           10            74         7.5   \n",
       "15521        10        10         0            0            26         2.4   \n",
       "\n",
       "        rating  total_sales  \n",
       "6972         T         0.23  \n",
       "5753      E10+         0.30  \n",
       "1806         M         1.13  \n",
       "4435         M         0.43  \n",
       "4573      E10+         0.42  \n",
       "16654     E10+         0.01  \n",
       "3647   Unknown         0.56  \n",
       "4086      E10+         0.48  \n",
       "11585        M         0.08  \n",
       "15521     E10+         0.02  "
      ]
     },
     "execution_count": 84,
     "metadata": {},
     "output_type": "execute_result"
    }
   ],
   "source": [
    "# получение cлучайных 10 строк датасета\n",
    "action.sample(10)"
   ]
  },
  {
   "cell_type": "code",
   "execution_count": 85,
   "metadata": {},
   "outputs": [
    {
     "data": {
      "text/html": [
       "<div>\n",
       "<style scoped>\n",
       "    .dataframe tbody tr th:only-of-type {\n",
       "        vertical-align: middle;\n",
       "    }\n",
       "\n",
       "    .dataframe tbody tr th {\n",
       "        vertical-align: top;\n",
       "    }\n",
       "\n",
       "    .dataframe thead th {\n",
       "        text-align: right;\n",
       "    }\n",
       "</style>\n",
       "<table border=\"1\" class=\"dataframe\">\n",
       "  <thead>\n",
       "    <tr style=\"text-align: right;\">\n",
       "      <th></th>\n",
       "      <th>name</th>\n",
       "      <th>platform</th>\n",
       "      <th>year_of_release</th>\n",
       "      <th>genre</th>\n",
       "      <th>na_sales</th>\n",
       "      <th>eu_sales</th>\n",
       "      <th>jp_sales</th>\n",
       "      <th>other_sales</th>\n",
       "      <th>critic_score</th>\n",
       "      <th>user_score</th>\n",
       "      <th>rating</th>\n",
       "      <th>total_sales</th>\n",
       "    </tr>\n",
       "  </thead>\n",
       "  <tbody>\n",
       "    <tr>\n",
       "      <td>4809</td>\n",
       "      <td>FIFA 14</td>\n",
       "      <td>PC</td>\n",
       "      <td>2013</td>\n",
       "      <td>Sports</td>\n",
       "      <td>10</td>\n",
       "      <td>360</td>\n",
       "      <td>0</td>\n",
       "      <td>30</td>\n",
       "      <td>87</td>\n",
       "      <td>4.6</td>\n",
       "      <td>E</td>\n",
       "      <td>0.40</td>\n",
       "    </tr>\n",
       "    <tr>\n",
       "      <td>749</td>\n",
       "      <td>Madden NFL 15</td>\n",
       "      <td>PS4</td>\n",
       "      <td>2014</td>\n",
       "      <td>Sports</td>\n",
       "      <td>1540</td>\n",
       "      <td>250</td>\n",
       "      <td>0</td>\n",
       "      <td>400</td>\n",
       "      <td>81</td>\n",
       "      <td>6.1</td>\n",
       "      <td>E</td>\n",
       "      <td>2.19</td>\n",
       "    </tr>\n",
       "    <tr>\n",
       "      <td>9144</td>\n",
       "      <td>Pro Evolution Soccer 2015</td>\n",
       "      <td>X360</td>\n",
       "      <td>2014</td>\n",
       "      <td>Sports</td>\n",
       "      <td>50</td>\n",
       "      <td>80</td>\n",
       "      <td>0</td>\n",
       "      <td>10</td>\n",
       "      <td>-1</td>\n",
       "      <td>6.8</td>\n",
       "      <td>E</td>\n",
       "      <td>0.14</td>\n",
       "    </tr>\n",
       "    <tr>\n",
       "      <td>1462</td>\n",
       "      <td>NBA 2K15</td>\n",
       "      <td>PS3</td>\n",
       "      <td>2014</td>\n",
       "      <td>Sports</td>\n",
       "      <td>870</td>\n",
       "      <td>210</td>\n",
       "      <td>20</td>\n",
       "      <td>240</td>\n",
       "      <td>-1</td>\n",
       "      <td>3.5</td>\n",
       "      <td>E</td>\n",
       "      <td>1.34</td>\n",
       "    </tr>\n",
       "    <tr>\n",
       "      <td>1775</td>\n",
       "      <td>WWE 2K15</td>\n",
       "      <td>PS4</td>\n",
       "      <td>2014</td>\n",
       "      <td>Sports</td>\n",
       "      <td>390</td>\n",
       "      <td>570</td>\n",
       "      <td>0</td>\n",
       "      <td>190</td>\n",
       "      <td>62</td>\n",
       "      <td>5.1</td>\n",
       "      <td>T</td>\n",
       "      <td>1.15</td>\n",
       "    </tr>\n",
       "    <tr>\n",
       "      <td>1007</td>\n",
       "      <td>Madden NFL 17</td>\n",
       "      <td>PS4</td>\n",
       "      <td>2016</td>\n",
       "      <td>Sports</td>\n",
       "      <td>1250</td>\n",
       "      <td>170</td>\n",
       "      <td>0</td>\n",
       "      <td>320</td>\n",
       "      <td>82</td>\n",
       "      <td>4.9</td>\n",
       "      <td>E</td>\n",
       "      <td>1.74</td>\n",
       "    </tr>\n",
       "    <tr>\n",
       "      <td>11222</td>\n",
       "      <td>Rugby 15</td>\n",
       "      <td>XOne</td>\n",
       "      <td>2015</td>\n",
       "      <td>Sports</td>\n",
       "      <td>30</td>\n",
       "      <td>50</td>\n",
       "      <td>0</td>\n",
       "      <td>10</td>\n",
       "      <td>20</td>\n",
       "      <td>3.1</td>\n",
       "      <td>E</td>\n",
       "      <td>0.09</td>\n",
       "    </tr>\n",
       "    <tr>\n",
       "      <td>921</td>\n",
       "      <td>NBA 2K17</td>\n",
       "      <td>PS4</td>\n",
       "      <td>2016</td>\n",
       "      <td>Sports</td>\n",
       "      <td>1250</td>\n",
       "      <td>270</td>\n",
       "      <td>20</td>\n",
       "      <td>340</td>\n",
       "      <td>88</td>\n",
       "      <td>6.7</td>\n",
       "      <td>E</td>\n",
       "      <td>1.88</td>\n",
       "    </tr>\n",
       "    <tr>\n",
       "      <td>3484</td>\n",
       "      <td>Pro Evolution Soccer 2015</td>\n",
       "      <td>PS3</td>\n",
       "      <td>2014</td>\n",
       "      <td>Sports</td>\n",
       "      <td>100</td>\n",
       "      <td>200</td>\n",
       "      <td>220</td>\n",
       "      <td>60</td>\n",
       "      <td>-1</td>\n",
       "      <td>7.8</td>\n",
       "      <td>E</td>\n",
       "      <td>0.58</td>\n",
       "    </tr>\n",
       "    <tr>\n",
       "      <td>271</td>\n",
       "      <td>FIFA 14</td>\n",
       "      <td>X360</td>\n",
       "      <td>2013</td>\n",
       "      <td>Sports</td>\n",
       "      <td>920</td>\n",
       "      <td>2890</td>\n",
       "      <td>10</td>\n",
       "      <td>400</td>\n",
       "      <td>84</td>\n",
       "      <td>4.2</td>\n",
       "      <td>E</td>\n",
       "      <td>4.22</td>\n",
       "    </tr>\n",
       "  </tbody>\n",
       "</table>\n",
       "</div>"
      ],
      "text/plain": [
       "                            name platform  year_of_release   genre  na_sales  \\\n",
       "4809                     FIFA 14       PC             2013  Sports        10   \n",
       "749                Madden NFL 15      PS4             2014  Sports      1540   \n",
       "9144   Pro Evolution Soccer 2015     X360             2014  Sports        50   \n",
       "1462                    NBA 2K15      PS3             2014  Sports       870   \n",
       "1775                    WWE 2K15      PS4             2014  Sports       390   \n",
       "1007               Madden NFL 17      PS4             2016  Sports      1250   \n",
       "11222                   Rugby 15     XOne             2015  Sports        30   \n",
       "921                     NBA 2K17      PS4             2016  Sports      1250   \n",
       "3484   Pro Evolution Soccer 2015      PS3             2014  Sports       100   \n",
       "271                      FIFA 14     X360             2013  Sports       920   \n",
       "\n",
       "       eu_sales  jp_sales  other_sales  critic_score  user_score rating  \\\n",
       "4809        360         0           30            87         4.6      E   \n",
       "749         250         0          400            81         6.1      E   \n",
       "9144         80         0           10            -1         6.8      E   \n",
       "1462        210        20          240            -1         3.5      E   \n",
       "1775        570         0          190            62         5.1      T   \n",
       "1007        170         0          320            82         4.9      E   \n",
       "11222        50         0           10            20         3.1      E   \n",
       "921         270        20          340            88         6.7      E   \n",
       "3484        200       220           60            -1         7.8      E   \n",
       "271        2890        10          400            84         4.2      E   \n",
       "\n",
       "       total_sales  \n",
       "4809          0.40  \n",
       "749           2.19  \n",
       "9144          0.14  \n",
       "1462          1.34  \n",
       "1775          1.15  \n",
       "1007          1.74  \n",
       "11222         0.09  \n",
       "921           1.88  \n",
       "3484          0.58  \n",
       "271           4.22  "
      ]
     },
     "execution_count": 85,
     "metadata": {},
     "output_type": "execute_result"
    }
   ],
   "source": [
    "# получение cлучайных 10 строк датасета\n",
    "sports.sample(10)"
   ]
  },
  {
   "cell_type": "code",
   "execution_count": 86,
   "metadata": {},
   "outputs": [
    {
     "data": {
      "text/plain": [
       "1.7648124186332366"
      ]
     },
     "execution_count": 86,
     "metadata": {},
     "output_type": "execute_result"
    }
   ],
   "source": [
    "# вывод дисперсии\n",
    "np.var(action['user_score'])"
   ]
  },
  {
   "cell_type": "code",
   "execution_count": 87,
   "metadata": {},
   "outputs": [
    {
     "data": {
      "text/plain": [
       "3.160733984375"
      ]
     },
     "execution_count": 87,
     "metadata": {},
     "output_type": "execute_result"
    }
   ],
   "source": [
    "# вывод дисперсии\n",
    "np.var(sports['user_score'])"
   ]
  },
  {
   "cell_type": "markdown",
   "metadata": {},
   "source": [
    "**Критерий для проверки гипотез**"
   ]
  },
  {
   "cell_type": "markdown",
   "metadata": {},
   "source": [
    "Для проверки гипотез используется t-критерий Стьюдента, так как сравниваемые выборки независимы между собой. При этом необходимо учесть, что дисперсии выборок различаются, поэтому equal_var = False.\n",
    "\n",
    "Критический уровень значимости - 0.05, чтобы вероятность правильности гипотезы была 95% и больше."
   ]
  },
  {
   "cell_type": "code",
   "execution_count": 88,
   "metadata": {},
   "outputs": [],
   "source": [
    "# критический уровень значимости\n",
    "alpha = 0.05"
   ]
  },
  {
   "cell_type": "code",
   "execution_count": 89,
   "metadata": {},
   "outputs": [],
   "source": [
    "# удаление выбросов\n",
    "action = delete_outliers(action, 'user_score', 0)\n",
    "action_mean = action['user_score']\n",
    "\n",
    "sports = delete_outliers(sports, 'user_score', 0)\n",
    "sports_mean = sports['user_score']"
   ]
  },
  {
   "cell_type": "code",
   "execution_count": 90,
   "metadata": {},
   "outputs": [
    {
     "name": "stdout",
     "output_type": "stream",
     "text": [
      "p-значение: 7.5739912811478245e-25\n",
      "Отвергаем нулевую гипотезу\n"
     ]
    }
   ],
   "source": [
    "# проверка гипотез\n",
    "results = st.ttest_ind(action_mean, sports_mean, equal_var = False)\n",
    "print('p-значение:', results.pvalue)\n",
    "\n",
    "if (results.pvalue < alpha):\n",
    "    print(\"Отвергаем нулевую гипотезу\")\n",
    "else:\n",
    "    print(\"Не получилось отвергнуть нулевую гипотезу\")"
   ]
  },
  {
   "cell_type": "markdown",
   "metadata": {},
   "source": [
    "Нулевой гипотезой была гипотеза о равенстве cредних пользовательских рейтингов жанров Action и Sports и маленькое p-value говорит о том, вероятность равенства средних пользовательских рейтингов мала. Нулевая гипотеза отвергается. А значит сформулированная альтернативная гипотеза о том, что cредние пользовательские рейтинги жанров Action и Sports различаются - верна."
   ]
  },
  {
   "cell_type": "markdown",
   "metadata": {},
   "source": [
    "### Выводы"
   ]
  },
  {
   "cell_type": "markdown",
   "metadata": {},
   "source": [
    "Гипотеза о том, что средние пользовательские рейтинги платформ Xbox One и PC одинаковые - отвергнута.\n",
    "\n",
    "Гипотеза о том, что средние пользовательские рейтинги жанров Action и Sports разные - верна."
   ]
  },
  {
   "cell_type": "markdown",
   "metadata": {},
   "source": [
    "## Общий вывод"
   ]
  },
  {
   "cell_type": "markdown",
   "metadata": {},
   "source": [
    "Игры стали выпускать в 80-ых, и их уровень был низок вплоть до 1995 года. С развитием мощностей компьютеров и увеличением пользователей росло и количество выпускаемых игр. С 2009 года начался спад из-за насыщения рынка и перехода на мобильные платформы. В среднем платформа живет 10 лет. И жила бы больше, если б не выходили более новые платформы. Но это неизбежно, т.к. прогресс идет вперед и \"железо\" в старых платформах перестает отвечать техническим требованиям новых игр.\n",
    "\n",
    "Для прогноза данных на 2017 год был выбран период с 2013 по 2016 год, так как продажи вышли на некое плато и пиковые продажи за предыдущие года не будут вносить существенную ошибку в прогнозировании. Предыдущие года отбросили. В целом весь рынок игр падает. Потенциально прибыльными платформами остаются PS4 и XOne, так как хоть прибыль от них и снижается, но все еще высока.\n",
    "\n",
    "С увеличением среднего рейтинга критиков увеличивается и средний уровень проданных копий, что логично: чем качественнее игра, тем лучше продается. Точно такая же картина и с рейтингом пользователей, правда так называемых выбросов больше - когда рейтинг пользователей не велик, но тем не менее игра собирает большие деньги. Это может быть связано с выпуском продолжений популярных игр, которые не оправдывают ожиданий.\n",
    "\n",
    "Больше всего игр жанра Action. За ними идут игры жанра Role-Playing, но их почти в половину меньше. Зато несмотря на то, что игр жанра Shooter значительно меньше, чем Action, по общему количеству проданных экземпляров они соизмеримы. На третьем месте по количеству расположены игры жанра Adventure, но при этом они плохо продаются. Вероятно их популярность скоро сойдет на нет.\n",
    "\n",
    "Пользователи Северной Америки и Европы предпочитают приставки PS4 и являются фанатами экшнов, шутеров и спортивных игр \"Для взрослых\", а пользователи из Японии предпочитают приставки 3DS и больше всего играют в ролевые игры и экшены \"Подросткам\".\n",
    "\n",
    "Средние пользовательские рейтинги платформ Xbox One и PC различаются, также как и средние пользовательские рейтинги жанров Action и Sports."
   ]
  }
 ],
 "metadata": {
  "ExecuteTimeLog": [
   {
    "duration": 929,
    "start_time": "2021-12-27T10:32:54.258Z"
   },
   {
    "duration": 52,
    "start_time": "2021-12-27T10:34:30.431Z"
   },
   {
    "duration": 35,
    "start_time": "2021-12-27T10:35:18.712Z"
   },
   {
    "duration": 25,
    "start_time": "2021-12-27T10:35:56.964Z"
   },
   {
    "duration": 15,
    "start_time": "2021-12-27T10:36:29.803Z"
   },
   {
    "duration": 44,
    "start_time": "2021-12-27T10:39:03.731Z"
   },
   {
    "duration": 465,
    "start_time": "2021-12-27T13:26:59.244Z"
   },
   {
    "duration": 791,
    "start_time": "2021-12-27T13:27:17.109Z"
   },
   {
    "duration": 54,
    "start_time": "2021-12-27T13:27:17.903Z"
   },
   {
    "duration": 28,
    "start_time": "2021-12-27T13:27:17.960Z"
   },
   {
    "duration": 41,
    "start_time": "2021-12-27T13:27:17.991Z"
   },
   {
    "duration": 34,
    "start_time": "2021-12-27T13:27:18.034Z"
   },
   {
    "duration": 40,
    "start_time": "2021-12-27T13:27:18.071Z"
   },
   {
    "duration": 15,
    "start_time": "2021-12-27T13:27:18.114Z"
   },
   {
    "duration": 11,
    "start_time": "2021-12-27T13:27:53.223Z"
   },
   {
    "duration": 6,
    "start_time": "2021-12-27T13:29:18.592Z"
   },
   {
    "duration": 9,
    "start_time": "2021-12-27T13:44:38.508Z"
   },
   {
    "duration": 7,
    "start_time": "2021-12-27T13:45:04.510Z"
   },
   {
    "duration": 352,
    "start_time": "2021-12-27T13:46:35.318Z"
   },
   {
    "duration": 5,
    "start_time": "2021-12-27T13:46:46.494Z"
   },
   {
    "duration": 304,
    "start_time": "2021-12-27T13:49:40.560Z"
   },
   {
    "duration": 6,
    "start_time": "2021-12-27T13:49:51.027Z"
   },
   {
    "duration": 10,
    "start_time": "2021-12-27T13:54:24.648Z"
   },
   {
    "duration": 9,
    "start_time": "2021-12-27T14:00:34.439Z"
   },
   {
    "duration": 8,
    "start_time": "2021-12-27T14:01:05.800Z"
   },
   {
    "duration": 6,
    "start_time": "2021-12-27T14:01:31.855Z"
   },
   {
    "duration": 4,
    "start_time": "2021-12-27T14:04:30.003Z"
   },
   {
    "duration": 46,
    "start_time": "2021-12-27T14:04:30.010Z"
   },
   {
    "duration": 20,
    "start_time": "2021-12-27T14:04:30.060Z"
   },
   {
    "duration": 22,
    "start_time": "2021-12-27T14:04:30.083Z"
   },
   {
    "duration": 16,
    "start_time": "2021-12-27T14:04:30.124Z"
   },
   {
    "duration": 39,
    "start_time": "2021-12-27T14:04:30.143Z"
   },
   {
    "duration": 6,
    "start_time": "2021-12-27T14:04:30.185Z"
   },
   {
    "duration": 6,
    "start_time": "2021-12-27T14:04:30.224Z"
   },
   {
    "duration": 9,
    "start_time": "2021-12-27T14:04:30.233Z"
   },
   {
    "duration": 6,
    "start_time": "2021-12-27T14:04:30.245Z"
   },
   {
    "duration": 10,
    "start_time": "2021-12-27T14:04:30.253Z"
   },
   {
    "duration": 6,
    "start_time": "2021-12-27T14:11:23.671Z"
   },
   {
    "duration": 14430,
    "start_time": "2021-12-27T14:24:17.195Z"
   },
   {
    "duration": 8771,
    "start_time": "2021-12-27T14:25:06.802Z"
   },
   {
    "duration": 4,
    "start_time": "2021-12-27T14:25:52.411Z"
   },
   {
    "duration": 323,
    "start_time": "2021-12-27T14:26:05.236Z"
   },
   {
    "duration": 422,
    "start_time": "2021-12-27T14:26:19.973Z"
   },
   {
    "duration": 3,
    "start_time": "2021-12-27T14:26:26.938Z"
   },
   {
    "duration": 95,
    "start_time": "2021-12-27T14:26:26.945Z"
   },
   {
    "duration": 31,
    "start_time": "2021-12-27T14:26:27.044Z"
   },
   {
    "duration": 54,
    "start_time": "2021-12-27T14:26:27.078Z"
   },
   {
    "duration": 36,
    "start_time": "2021-12-27T14:26:27.134Z"
   },
   {
    "duration": 64,
    "start_time": "2021-12-27T14:26:27.173Z"
   },
   {
    "duration": 6,
    "start_time": "2021-12-27T14:26:27.240Z"
   },
   {
    "duration": 21,
    "start_time": "2021-12-27T14:26:27.249Z"
   },
   {
    "duration": 37,
    "start_time": "2021-12-27T14:26:27.272Z"
   },
   {
    "duration": 45,
    "start_time": "2021-12-27T14:26:27.312Z"
   },
   {
    "duration": 32,
    "start_time": "2021-12-27T14:26:27.359Z"
   },
   {
    "duration": 19,
    "start_time": "2021-12-27T14:26:27.394Z"
   },
   {
    "duration": 45,
    "start_time": "2021-12-27T14:26:27.415Z"
   },
   {
    "duration": 34,
    "start_time": "2021-12-27T14:26:27.462Z"
   },
   {
    "duration": 23,
    "start_time": "2021-12-27T14:27:20.133Z"
   },
   {
    "duration": 482,
    "start_time": "2021-12-27T14:34:45.694Z"
   },
   {
    "duration": 326,
    "start_time": "2021-12-27T14:35:11.004Z"
   },
   {
    "duration": 4306,
    "start_time": "2021-12-27T14:39:10.086Z"
   },
   {
    "duration": 308,
    "start_time": "2021-12-27T14:44:44.556Z"
   },
   {
    "duration": 13,
    "start_time": "2021-12-27T14:44:55.241Z"
   },
   {
    "duration": 20,
    "start_time": "2021-12-27T14:47:33.102Z"
   },
   {
    "duration": 10,
    "start_time": "2021-12-27T14:50:44.418Z"
   },
   {
    "duration": 9,
    "start_time": "2021-12-27T14:51:30.548Z"
   },
   {
    "duration": 312,
    "start_time": "2021-12-27T15:02:22.356Z"
   },
   {
    "duration": 13,
    "start_time": "2021-12-27T15:03:02.809Z"
   },
   {
    "duration": 380,
    "start_time": "2021-12-27T15:07:12.465Z"
   },
   {
    "duration": 339,
    "start_time": "2021-12-27T15:34:29.792Z"
   },
   {
    "duration": 12,
    "start_time": "2021-12-27T15:34:42.567Z"
   },
   {
    "duration": 14,
    "start_time": "2021-12-27T15:34:56.990Z"
   },
   {
    "duration": 8415,
    "start_time": "2021-12-27T15:36:51.344Z"
   },
   {
    "duration": 10,
    "start_time": "2021-12-27T15:37:07.960Z"
   },
   {
    "duration": 11,
    "start_time": "2021-12-27T15:38:19.512Z"
   },
   {
    "duration": 9,
    "start_time": "2021-12-27T15:40:06.425Z"
   },
   {
    "duration": 6,
    "start_time": "2021-12-27T15:40:19.736Z"
   },
   {
    "duration": 10,
    "start_time": "2021-12-27T15:40:29.569Z"
   },
   {
    "duration": 10,
    "start_time": "2021-12-27T15:41:07.625Z"
   },
   {
    "duration": 30,
    "start_time": "2021-12-27T15:41:10.034Z"
   },
   {
    "duration": 14,
    "start_time": "2021-12-27T15:41:29.641Z"
   },
   {
    "duration": 6,
    "start_time": "2021-12-27T15:48:26.995Z"
   },
   {
    "duration": 12,
    "start_time": "2021-12-27T15:48:46.090Z"
   },
   {
    "duration": 12,
    "start_time": "2021-12-27T15:50:00.133Z"
   },
   {
    "duration": 6,
    "start_time": "2021-12-27T15:54:48.527Z"
   },
   {
    "duration": 24,
    "start_time": "2021-12-27T15:55:49.903Z"
   },
   {
    "duration": 19,
    "start_time": "2021-12-27T16:15:20.686Z"
   },
   {
    "duration": 19,
    "start_time": "2021-12-27T16:15:39.999Z"
   },
   {
    "duration": 4,
    "start_time": "2021-12-27T16:16:10.251Z"
   },
   {
    "duration": 63,
    "start_time": "2021-12-27T16:16:10.258Z"
   },
   {
    "duration": 24,
    "start_time": "2021-12-27T16:16:10.324Z"
   },
   {
    "duration": 54,
    "start_time": "2021-12-27T16:16:10.350Z"
   },
   {
    "duration": 13,
    "start_time": "2021-12-27T16:16:10.406Z"
   },
   {
    "duration": 67,
    "start_time": "2021-12-27T16:16:10.422Z"
   },
   {
    "duration": 5,
    "start_time": "2021-12-27T16:16:10.493Z"
   },
   {
    "duration": 40,
    "start_time": "2021-12-27T16:16:10.502Z"
   },
   {
    "duration": 36,
    "start_time": "2021-12-27T16:16:10.545Z"
   },
   {
    "duration": 38,
    "start_time": "2021-12-27T16:16:10.583Z"
   },
   {
    "duration": 28,
    "start_time": "2021-12-27T16:16:10.624Z"
   },
   {
    "duration": 32,
    "start_time": "2021-12-27T16:16:10.654Z"
   },
   {
    "duration": 23,
    "start_time": "2021-12-27T16:16:10.689Z"
   },
   {
    "duration": 48,
    "start_time": "2021-12-27T16:16:10.714Z"
   },
   {
    "duration": 52,
    "start_time": "2021-12-27T16:16:10.764Z"
   },
   {
    "duration": 22,
    "start_time": "2021-12-27T16:16:10.819Z"
   },
   {
    "duration": 43,
    "start_time": "2021-12-27T16:16:10.843Z"
   },
   {
    "duration": 28,
    "start_time": "2021-12-27T16:16:10.888Z"
   },
   {
    "duration": 24,
    "start_time": "2021-12-27T16:16:10.920Z"
   },
   {
    "duration": 43,
    "start_time": "2021-12-27T16:16:10.947Z"
   },
   {
    "duration": 9,
    "start_time": "2021-12-27T16:16:10.993Z"
   },
   {
    "duration": 57,
    "start_time": "2021-12-27T16:16:11.005Z"
   },
   {
    "duration": 48,
    "start_time": "2021-12-27T16:16:11.064Z"
   },
   {
    "duration": 20,
    "start_time": "2021-12-27T16:16:11.114Z"
   },
   {
    "duration": 52,
    "start_time": "2021-12-27T16:16:11.136Z"
   },
   {
    "duration": 37,
    "start_time": "2021-12-27T16:16:11.191Z"
   },
   {
    "duration": 28,
    "start_time": "2021-12-27T16:16:11.231Z"
   },
   {
    "duration": 19,
    "start_time": "2021-12-27T16:16:28.774Z"
   },
   {
    "duration": 11,
    "start_time": "2021-12-27T16:19:14.105Z"
   },
   {
    "duration": 6,
    "start_time": "2021-12-27T16:20:27.315Z"
   },
   {
    "duration": 13,
    "start_time": "2021-12-27T16:20:58.284Z"
   },
   {
    "duration": 20,
    "start_time": "2021-12-27T16:23:20.164Z"
   },
   {
    "duration": 3,
    "start_time": "2021-12-27T16:23:43.213Z"
   },
   {
    "duration": 101,
    "start_time": "2021-12-27T16:23:43.219Z"
   },
   {
    "duration": 24,
    "start_time": "2021-12-27T16:23:43.330Z"
   },
   {
    "duration": 27,
    "start_time": "2021-12-27T16:23:43.357Z"
   },
   {
    "duration": 43,
    "start_time": "2021-12-27T16:23:43.387Z"
   },
   {
    "duration": 46,
    "start_time": "2021-12-27T16:23:43.434Z"
   },
   {
    "duration": 8,
    "start_time": "2021-12-27T16:23:43.483Z"
   },
   {
    "duration": 43,
    "start_time": "2021-12-27T16:23:43.494Z"
   },
   {
    "duration": 18,
    "start_time": "2021-12-27T16:23:43.543Z"
   },
   {
    "duration": 7,
    "start_time": "2021-12-27T16:23:43.564Z"
   },
   {
    "duration": 8,
    "start_time": "2021-12-27T16:23:43.573Z"
   },
   {
    "duration": 7,
    "start_time": "2021-12-27T16:23:43.583Z"
   },
   {
    "duration": 33,
    "start_time": "2021-12-27T16:23:43.592Z"
   },
   {
    "duration": 34,
    "start_time": "2021-12-27T16:23:43.628Z"
   },
   {
    "duration": 23,
    "start_time": "2021-12-27T16:23:43.665Z"
   },
   {
    "duration": 36,
    "start_time": "2021-12-27T16:23:43.691Z"
   },
   {
    "duration": 15,
    "start_time": "2021-12-27T16:23:43.733Z"
   },
   {
    "duration": 15,
    "start_time": "2021-12-27T16:23:43.751Z"
   },
   {
    "duration": 11,
    "start_time": "2021-12-27T16:23:43.769Z"
   },
   {
    "duration": 41,
    "start_time": "2021-12-27T16:23:43.783Z"
   },
   {
    "duration": 13,
    "start_time": "2021-12-27T16:23:43.836Z"
   },
   {
    "duration": 9,
    "start_time": "2021-12-27T16:23:43.852Z"
   },
   {
    "duration": 15,
    "start_time": "2021-12-27T16:23:43.864Z"
   },
   {
    "duration": 43,
    "start_time": "2021-12-27T16:23:43.882Z"
   },
   {
    "duration": 37,
    "start_time": "2021-12-27T16:23:43.929Z"
   },
   {
    "duration": 19,
    "start_time": "2021-12-27T16:23:43.969Z"
   },
   {
    "duration": 8,
    "start_time": "2021-12-27T16:23:43.994Z"
   },
   {
    "duration": 34,
    "start_time": "2021-12-27T16:23:44.005Z"
   },
   {
    "duration": 12,
    "start_time": "2021-12-27T16:23:44.042Z"
   },
   {
    "duration": 24,
    "start_time": "2021-12-27T16:23:44.057Z"
   },
   {
    "duration": 17,
    "start_time": "2021-12-27T16:24:29.738Z"
   },
   {
    "duration": 910,
    "start_time": "2021-12-27T16:56:18.785Z"
   },
   {
    "duration": 3,
    "start_time": "2021-12-27T16:57:17.163Z"
   },
   {
    "duration": 3,
    "start_time": "2021-12-27T16:57:24.501Z"
   },
   {
    "duration": 55,
    "start_time": "2021-12-27T16:57:24.507Z"
   },
   {
    "duration": 18,
    "start_time": "2021-12-27T16:57:24.565Z"
   },
   {
    "duration": 40,
    "start_time": "2021-12-27T16:57:24.586Z"
   },
   {
    "duration": 20,
    "start_time": "2021-12-27T16:57:24.629Z"
   },
   {
    "duration": 61,
    "start_time": "2021-12-27T16:57:24.651Z"
   },
   {
    "duration": 8,
    "start_time": "2021-12-27T16:57:24.715Z"
   },
   {
    "duration": 7,
    "start_time": "2021-12-27T16:57:24.726Z"
   },
   {
    "duration": 15,
    "start_time": "2021-12-27T16:57:24.736Z"
   },
   {
    "duration": 23,
    "start_time": "2021-12-27T16:57:24.753Z"
   },
   {
    "duration": 14,
    "start_time": "2021-12-27T16:57:24.778Z"
   },
   {
    "duration": 11,
    "start_time": "2021-12-27T16:57:24.795Z"
   },
   {
    "duration": 18,
    "start_time": "2021-12-27T16:57:24.808Z"
   },
   {
    "duration": 17,
    "start_time": "2021-12-27T16:57:24.828Z"
   },
   {
    "duration": 22,
    "start_time": "2021-12-27T16:57:24.848Z"
   },
   {
    "duration": 19,
    "start_time": "2021-12-27T16:57:24.873Z"
   },
   {
    "duration": 39,
    "start_time": "2021-12-27T16:57:24.894Z"
   },
   {
    "duration": 11,
    "start_time": "2021-12-27T16:57:24.935Z"
   },
   {
    "duration": 7,
    "start_time": "2021-12-27T16:57:24.948Z"
   },
   {
    "duration": 24,
    "start_time": "2021-12-27T16:57:24.957Z"
   },
   {
    "duration": 25,
    "start_time": "2021-12-27T16:57:24.984Z"
   },
   {
    "duration": 21,
    "start_time": "2021-12-27T16:57:25.011Z"
   },
   {
    "duration": 17,
    "start_time": "2021-12-27T16:57:25.037Z"
   },
   {
    "duration": 21,
    "start_time": "2021-12-27T16:57:25.056Z"
   },
   {
    "duration": 29,
    "start_time": "2021-12-27T16:57:25.079Z"
   },
   {
    "duration": 18,
    "start_time": "2021-12-27T16:57:25.110Z"
   },
   {
    "duration": 5,
    "start_time": "2021-12-27T16:57:25.131Z"
   },
   {
    "duration": 22,
    "start_time": "2021-12-27T16:57:25.139Z"
   },
   {
    "duration": 10,
    "start_time": "2021-12-27T16:57:25.163Z"
   },
   {
    "duration": 25,
    "start_time": "2021-12-27T16:57:25.176Z"
   },
   {
    "duration": 757,
    "start_time": "2021-12-27T16:57:25.223Z"
   },
   {
    "duration": 428,
    "start_time": "2021-12-27T16:58:07.954Z"
   },
   {
    "duration": 444,
    "start_time": "2021-12-27T16:58:13.929Z"
   },
   {
    "duration": 404,
    "start_time": "2021-12-27T16:58:34.489Z"
   },
   {
    "duration": 573,
    "start_time": "2021-12-27T17:03:53.389Z"
   },
   {
    "duration": 384,
    "start_time": "2021-12-27T17:04:45.313Z"
   },
   {
    "duration": 12,
    "start_time": "2021-12-27T17:11:09.378Z"
   },
   {
    "duration": 322,
    "start_time": "2021-12-27T17:16:20.843Z"
   },
   {
    "duration": 937,
    "start_time": "2021-12-27T17:16:31.998Z"
   },
   {
    "duration": 390,
    "start_time": "2021-12-27T17:17:38.716Z"
   },
   {
    "duration": 405,
    "start_time": "2021-12-27T17:18:33.476Z"
   },
   {
    "duration": 516,
    "start_time": "2021-12-27T17:18:46.484Z"
   },
   {
    "duration": 572,
    "start_time": "2021-12-27T17:18:52.940Z"
   },
   {
    "duration": 489,
    "start_time": "2021-12-27T17:19:01.193Z"
   },
   {
    "duration": 707,
    "start_time": "2021-12-27T17:20:31.484Z"
   },
   {
    "duration": 570,
    "start_time": "2021-12-27T17:41:28.945Z"
   },
   {
    "duration": 113,
    "start_time": "2021-12-27T17:41:54.449Z"
   },
   {
    "duration": 12,
    "start_time": "2021-12-27T17:42:49.946Z"
   },
   {
    "duration": 12,
    "start_time": "2021-12-27T17:43:10.279Z"
   },
   {
    "duration": 367,
    "start_time": "2021-12-27T17:44:16.194Z"
   },
   {
    "duration": 320,
    "start_time": "2021-12-27T17:44:23.673Z"
   },
   {
    "duration": 10,
    "start_time": "2021-12-27T17:44:30.274Z"
   },
   {
    "duration": 363,
    "start_time": "2021-12-27T17:44:42.009Z"
   },
   {
    "duration": 9,
    "start_time": "2021-12-27T17:45:54.002Z"
   },
   {
    "duration": 327,
    "start_time": "2021-12-27T17:47:15.396Z"
   },
   {
    "duration": 14,
    "start_time": "2021-12-27T17:47:34.722Z"
   },
   {
    "duration": 513,
    "start_time": "2021-12-27T17:50:33.668Z"
   },
   {
    "duration": 613,
    "start_time": "2021-12-27T17:50:41.660Z"
   },
   {
    "duration": 678,
    "start_time": "2021-12-27T17:50:59.380Z"
   },
   {
    "duration": 814,
    "start_time": "2021-12-27T17:51:24.371Z"
   },
   {
    "duration": 798,
    "start_time": "2021-12-27T17:53:35.929Z"
   },
   {
    "duration": 903,
    "start_time": "2021-12-27T17:53:51.364Z"
   },
   {
    "duration": 827,
    "start_time": "2021-12-27T17:54:03.285Z"
   },
   {
    "duration": 730,
    "start_time": "2021-12-27T17:54:12.587Z"
   },
   {
    "duration": 1025,
    "start_time": "2021-12-27T17:55:04.805Z"
   },
   {
    "duration": 111,
    "start_time": "2021-12-27T17:55:29.110Z"
   },
   {
    "duration": 818,
    "start_time": "2021-12-27T17:55:39.699Z"
   },
   {
    "duration": 913,
    "start_time": "2021-12-27T17:56:20.155Z"
   },
   {
    "duration": 13,
    "start_time": "2021-12-27T18:01:31.869Z"
   },
   {
    "duration": 13,
    "start_time": "2021-12-27T18:01:34.466Z"
   },
   {
    "duration": 705,
    "start_time": "2021-12-27T18:03:10.880Z"
   },
   {
    "duration": 11,
    "start_time": "2021-12-27T18:08:48.606Z"
   },
   {
    "duration": 12,
    "start_time": "2021-12-27T18:08:51.248Z"
   },
   {
    "duration": 16,
    "start_time": "2021-12-27T18:08:52.879Z"
   },
   {
    "duration": 11,
    "start_time": "2021-12-27T18:14:01.600Z"
   },
   {
    "duration": 437,
    "start_time": "2021-12-27T18:24:12.810Z"
   },
   {
    "duration": 4,
    "start_time": "2021-12-27T18:28:18.778Z"
   },
   {
    "duration": 422,
    "start_time": "2021-12-27T18:31:33.403Z"
   },
   {
    "duration": 440,
    "start_time": "2021-12-27T18:34:52.174Z"
   },
   {
    "duration": 15,
    "start_time": "2021-12-27T18:35:26.957Z"
   },
   {
    "duration": 10,
    "start_time": "2021-12-27T18:35:38.272Z"
   },
   {
    "duration": 48,
    "start_time": "2021-12-27T18:35:47.028Z"
   },
   {
    "duration": 11,
    "start_time": "2021-12-27T18:38:22.056Z"
   },
   {
    "duration": 14,
    "start_time": "2021-12-27T18:38:31.509Z"
   },
   {
    "duration": 12,
    "start_time": "2021-12-27T18:38:51.637Z"
   },
   {
    "duration": 4,
    "start_time": "2021-12-27T18:40:32.607Z"
   },
   {
    "duration": 59,
    "start_time": "2021-12-27T18:40:32.614Z"
   },
   {
    "duration": 20,
    "start_time": "2021-12-27T18:40:32.675Z"
   },
   {
    "duration": 26,
    "start_time": "2021-12-27T18:40:32.725Z"
   },
   {
    "duration": 16,
    "start_time": "2021-12-27T18:40:32.754Z"
   },
   {
    "duration": 84,
    "start_time": "2021-12-27T18:40:32.773Z"
   },
   {
    "duration": 8,
    "start_time": "2021-12-27T18:40:32.861Z"
   },
   {
    "duration": 15,
    "start_time": "2021-12-27T18:40:32.871Z"
   },
   {
    "duration": 33,
    "start_time": "2021-12-27T18:40:32.891Z"
   },
   {
    "duration": 14,
    "start_time": "2021-12-27T18:40:32.927Z"
   },
   {
    "duration": 7,
    "start_time": "2021-12-27T18:40:32.943Z"
   },
   {
    "duration": 7,
    "start_time": "2021-12-27T18:40:32.953Z"
   },
   {
    "duration": 11,
    "start_time": "2021-12-27T18:40:32.962Z"
   },
   {
    "duration": 18,
    "start_time": "2021-12-27T18:40:32.976Z"
   },
   {
    "duration": 23,
    "start_time": "2021-12-27T18:40:33.024Z"
   },
   {
    "duration": 12,
    "start_time": "2021-12-27T18:40:33.049Z"
   },
   {
    "duration": 14,
    "start_time": "2021-12-27T18:40:33.063Z"
   },
   {
    "duration": 10,
    "start_time": "2021-12-27T18:40:33.079Z"
   },
   {
    "duration": 6,
    "start_time": "2021-12-27T18:40:33.129Z"
   },
   {
    "duration": 17,
    "start_time": "2021-12-27T18:40:33.140Z"
   },
   {
    "duration": 18,
    "start_time": "2021-12-27T18:40:33.162Z"
   },
   {
    "duration": 5,
    "start_time": "2021-12-27T18:40:33.183Z"
   },
   {
    "duration": 40,
    "start_time": "2021-12-27T18:40:33.191Z"
   },
   {
    "duration": 23,
    "start_time": "2021-12-27T18:40:33.234Z"
   },
   {
    "duration": 23,
    "start_time": "2021-12-27T18:40:33.260Z"
   },
   {
    "duration": 11,
    "start_time": "2021-12-27T18:40:33.286Z"
   },
   {
    "duration": 8,
    "start_time": "2021-12-27T18:40:33.322Z"
   },
   {
    "duration": 33,
    "start_time": "2021-12-27T18:40:33.333Z"
   },
   {
    "duration": 7,
    "start_time": "2021-12-27T18:40:33.369Z"
   },
   {
    "duration": 44,
    "start_time": "2021-12-27T18:40:33.379Z"
   },
   {
    "duration": 728,
    "start_time": "2021-12-27T18:40:33.425Z"
   },
   {
    "duration": 11,
    "start_time": "2021-12-27T18:40:34.156Z"
   },
   {
    "duration": 13,
    "start_time": "2021-12-27T18:40:34.169Z"
   },
   {
    "duration": 38,
    "start_time": "2021-12-27T18:40:34.185Z"
   },
   {
    "duration": 27,
    "start_time": "2021-12-27T18:40:34.226Z"
   },
   {
    "duration": 11,
    "start_time": "2021-12-27T18:40:34.256Z"
   },
   {
    "duration": 327,
    "start_time": "2021-12-27T18:40:34.269Z"
   },
   {
    "duration": 7956,
    "start_time": "2021-12-27T18:40:34.599Z"
   },
   {
    "duration": 651,
    "start_time": "2021-12-27T18:51:08.666Z"
   },
   {
    "duration": 9128,
    "start_time": "2021-12-27T18:51:25.712Z"
   },
   {
    "duration": 1221,
    "start_time": "2021-12-27T18:52:02.336Z"
   },
   {
    "duration": 23,
    "start_time": "2021-12-27T18:56:26.696Z"
   },
   {
    "duration": 4,
    "start_time": "2021-12-27T18:56:44.607Z"
   },
   {
    "duration": 81,
    "start_time": "2021-12-27T18:56:44.614Z"
   },
   {
    "duration": 35,
    "start_time": "2021-12-27T18:56:44.699Z"
   },
   {
    "duration": 64,
    "start_time": "2021-12-27T18:56:44.737Z"
   },
   {
    "duration": 21,
    "start_time": "2021-12-27T18:56:44.805Z"
   },
   {
    "duration": 192,
    "start_time": "2021-12-27T18:56:44.831Z"
   },
   {
    "duration": 10,
    "start_time": "2021-12-27T18:56:45.027Z"
   },
   {
    "duration": 55,
    "start_time": "2021-12-27T18:56:45.040Z"
   },
   {
    "duration": 50,
    "start_time": "2021-12-27T18:56:45.097Z"
   },
   {
    "duration": 66,
    "start_time": "2021-12-27T18:56:45.149Z"
   },
   {
    "duration": 39,
    "start_time": "2021-12-27T18:56:45.218Z"
   },
   {
    "duration": 49,
    "start_time": "2021-12-27T18:56:45.260Z"
   },
   {
    "duration": 32,
    "start_time": "2021-12-27T18:56:45.311Z"
   },
   {
    "duration": 38,
    "start_time": "2021-12-27T18:56:45.345Z"
   },
   {
    "duration": 29,
    "start_time": "2021-12-27T18:56:45.386Z"
   },
   {
    "duration": 43,
    "start_time": "2021-12-27T18:56:45.418Z"
   },
   {
    "duration": 28,
    "start_time": "2021-12-27T18:56:45.464Z"
   },
   {
    "duration": 35,
    "start_time": "2021-12-27T18:56:45.495Z"
   },
   {
    "duration": 26,
    "start_time": "2021-12-27T18:56:45.538Z"
   },
   {
    "duration": 30,
    "start_time": "2021-12-27T18:56:45.567Z"
   },
   {
    "duration": 21,
    "start_time": "2021-12-27T18:56:45.600Z"
   },
   {
    "duration": 27,
    "start_time": "2021-12-27T18:56:45.624Z"
   },
   {
    "duration": 53,
    "start_time": "2021-12-27T18:56:45.654Z"
   },
   {
    "duration": 42,
    "start_time": "2021-12-27T18:56:45.710Z"
   },
   {
    "duration": 38,
    "start_time": "2021-12-27T18:56:45.755Z"
   },
   {
    "duration": 34,
    "start_time": "2021-12-27T18:56:45.796Z"
   },
   {
    "duration": 39,
    "start_time": "2021-12-27T18:56:45.833Z"
   },
   {
    "duration": 60,
    "start_time": "2021-12-27T18:56:45.875Z"
   },
   {
    "duration": 12,
    "start_time": "2021-12-27T18:56:45.943Z"
   },
   {
    "duration": 39,
    "start_time": "2021-12-27T18:56:45.959Z"
   },
   {
    "duration": 739,
    "start_time": "2021-12-27T18:56:46.000Z"
   },
   {
    "duration": 25,
    "start_time": "2021-12-27T18:56:46.742Z"
   },
   {
    "duration": 12,
    "start_time": "2021-12-27T18:56:46.770Z"
   },
   {
    "duration": 44,
    "start_time": "2021-12-27T18:56:46.785Z"
   },
   {
    "duration": 15,
    "start_time": "2021-12-27T18:56:46.832Z"
   },
   {
    "duration": 11,
    "start_time": "2021-12-27T18:56:46.850Z"
   },
   {
    "duration": 1288,
    "start_time": "2021-12-27T18:56:46.863Z"
   },
   {
    "duration": 17,
    "start_time": "2021-12-27T19:01:32.281Z"
   },
   {
    "duration": 16,
    "start_time": "2021-12-27T19:01:34.360Z"
   },
   {
    "duration": 10,
    "start_time": "2021-12-27T19:02:58.380Z"
   },
   {
    "duration": 13,
    "start_time": "2021-12-27T19:02:59.540Z"
   },
   {
    "duration": 15,
    "start_time": "2021-12-27T19:03:09.643Z"
   },
   {
    "duration": 14,
    "start_time": "2021-12-27T19:03:47.495Z"
   },
   {
    "duration": 18,
    "start_time": "2021-12-27T19:03:58.066Z"
   },
   {
    "duration": 11,
    "start_time": "2021-12-27T19:05:53.786Z"
   },
   {
    "duration": 10,
    "start_time": "2021-12-27T19:06:08.450Z"
   },
   {
    "duration": 10,
    "start_time": "2021-12-27T19:06:21.044Z"
   },
   {
    "duration": 13,
    "start_time": "2021-12-27T19:06:55.124Z"
   },
   {
    "duration": 9,
    "start_time": "2021-12-27T19:06:56.885Z"
   },
   {
    "duration": 12,
    "start_time": "2021-12-27T19:07:08.979Z"
   },
   {
    "duration": 35,
    "start_time": "2021-12-27T19:07:10.915Z"
   },
   {
    "duration": 17,
    "start_time": "2021-12-27T19:07:25.475Z"
   },
   {
    "duration": 12,
    "start_time": "2021-12-27T19:07:27.437Z"
   },
   {
    "duration": 9,
    "start_time": "2021-12-27T19:07:50.138Z"
   },
   {
    "duration": 28,
    "start_time": "2021-12-27T19:08:23.979Z"
   },
   {
    "duration": 9,
    "start_time": "2021-12-27T19:08:42.786Z"
   },
   {
    "duration": 29,
    "start_time": "2021-12-27T19:08:44.332Z"
   },
   {
    "duration": 11,
    "start_time": "2021-12-27T19:09:56.165Z"
   },
   {
    "duration": 13,
    "start_time": "2021-12-27T19:09:57.231Z"
   },
   {
    "duration": 4,
    "start_time": "2021-12-27T19:10:03.311Z"
   },
   {
    "duration": 54,
    "start_time": "2021-12-27T19:10:03.318Z"
   },
   {
    "duration": 20,
    "start_time": "2021-12-27T19:10:03.375Z"
   },
   {
    "duration": 48,
    "start_time": "2021-12-27T19:10:03.398Z"
   },
   {
    "duration": 19,
    "start_time": "2021-12-27T19:10:03.449Z"
   },
   {
    "duration": 79,
    "start_time": "2021-12-27T19:10:03.471Z"
   },
   {
    "duration": 6,
    "start_time": "2021-12-27T19:10:03.552Z"
   },
   {
    "duration": 7,
    "start_time": "2021-12-27T19:10:03.560Z"
   },
   {
    "duration": 7,
    "start_time": "2021-12-27T19:10:03.571Z"
   },
   {
    "duration": 43,
    "start_time": "2021-12-27T19:10:03.582Z"
   },
   {
    "duration": 20,
    "start_time": "2021-12-27T19:10:03.630Z"
   },
   {
    "duration": 7,
    "start_time": "2021-12-27T19:10:03.653Z"
   },
   {
    "duration": 10,
    "start_time": "2021-12-27T19:10:03.662Z"
   },
   {
    "duration": 14,
    "start_time": "2021-12-27T19:10:03.675Z"
   },
   {
    "duration": 54,
    "start_time": "2021-12-27T19:10:03.692Z"
   },
   {
    "duration": 13,
    "start_time": "2021-12-27T19:10:03.748Z"
   },
   {
    "duration": 12,
    "start_time": "2021-12-27T19:10:03.763Z"
   },
   {
    "duration": 47,
    "start_time": "2021-12-27T19:10:03.778Z"
   },
   {
    "duration": 6,
    "start_time": "2021-12-27T19:10:03.830Z"
   },
   {
    "duration": 14,
    "start_time": "2021-12-27T19:10:03.839Z"
   },
   {
    "duration": 11,
    "start_time": "2021-12-27T19:10:03.856Z"
   },
   {
    "duration": 7,
    "start_time": "2021-12-27T19:10:03.870Z"
   },
   {
    "duration": 51,
    "start_time": "2021-12-27T19:10:03.880Z"
   },
   {
    "duration": 10,
    "start_time": "2021-12-27T19:10:03.934Z"
   },
   {
    "duration": 31,
    "start_time": "2021-12-27T19:10:03.946Z"
   },
   {
    "duration": 59,
    "start_time": "2021-12-27T19:10:03.980Z"
   },
   {
    "duration": 6,
    "start_time": "2021-12-27T19:10:04.046Z"
   },
   {
    "duration": 15,
    "start_time": "2021-12-27T19:10:04.055Z"
   },
   {
    "duration": 5,
    "start_time": "2021-12-27T19:10:04.072Z"
   },
   {
    "duration": 48,
    "start_time": "2021-12-27T19:10:04.079Z"
   },
   {
    "duration": 730,
    "start_time": "2021-12-27T19:10:04.130Z"
   },
   {
    "duration": 9,
    "start_time": "2021-12-27T19:10:04.862Z"
   },
   {
    "duration": 12,
    "start_time": "2021-12-27T19:10:04.874Z"
   },
   {
    "duration": 38,
    "start_time": "2021-12-27T19:10:04.888Z"
   },
   {
    "duration": 16,
    "start_time": "2021-12-27T19:10:04.929Z"
   },
   {
    "duration": 29,
    "start_time": "2021-12-27T19:10:04.947Z"
   },
   {
    "duration": 12,
    "start_time": "2021-12-27T19:10:04.978Z"
   },
   {
    "duration": 39,
    "start_time": "2021-12-27T19:10:04.993Z"
   },
   {
    "duration": 1470,
    "start_time": "2021-12-27T19:10:05.035Z"
   },
   {
    "duration": 20,
    "start_time": "2021-12-27T19:10:40.164Z"
   },
   {
    "duration": 20,
    "start_time": "2021-12-27T19:10:49.740Z"
   },
   {
    "duration": 325,
    "start_time": "2021-12-27T19:12:24.005Z"
   },
   {
    "duration": 10,
    "start_time": "2021-12-27T19:12:33.843Z"
   },
   {
    "duration": 27,
    "start_time": "2021-12-27T19:12:42.348Z"
   },
   {
    "duration": 7,
    "start_time": "2021-12-27T19:13:50.198Z"
   },
   {
    "duration": 7,
    "start_time": "2021-12-27T19:14:15.487Z"
   },
   {
    "duration": 11,
    "start_time": "2021-12-27T19:15:12.036Z"
   },
   {
    "duration": 10,
    "start_time": "2021-12-27T19:15:13.501Z"
   },
   {
    "duration": 4,
    "start_time": "2021-12-27T19:15:16.843Z"
   },
   {
    "duration": 14,
    "start_time": "2021-12-27T19:16:28.477Z"
   },
   {
    "duration": 11,
    "start_time": "2021-12-27T19:16:30.878Z"
   },
   {
    "duration": 8,
    "start_time": "2021-12-27T19:16:36.276Z"
   },
   {
    "duration": 11,
    "start_time": "2021-12-27T19:16:42.020Z"
   },
   {
    "duration": 11,
    "start_time": "2021-12-27T19:17:05.101Z"
   },
   {
    "duration": 35,
    "start_time": "2021-12-27T19:17:18.230Z"
   },
   {
    "duration": 18,
    "start_time": "2021-12-27T19:17:37.566Z"
   },
   {
    "duration": 346,
    "start_time": "2021-12-27T19:18:50.080Z"
   },
   {
    "duration": 396,
    "start_time": "2021-12-27T19:19:10.245Z"
   },
   {
    "duration": 349,
    "start_time": "2021-12-27T19:19:20.749Z"
   },
   {
    "duration": 450,
    "start_time": "2021-12-27T19:19:43.734Z"
   },
   {
    "duration": 310,
    "start_time": "2021-12-27T19:20:35.405Z"
   },
   {
    "duration": 472,
    "start_time": "2021-12-27T19:21:01.407Z"
   },
   {
    "duration": 121,
    "start_time": "2021-12-27T19:21:45.914Z"
   },
   {
    "duration": 4,
    "start_time": "2021-12-27T19:21:53.317Z"
   },
   {
    "duration": 61,
    "start_time": "2021-12-27T19:21:53.324Z"
   },
   {
    "duration": 52,
    "start_time": "2021-12-27T19:21:53.388Z"
   },
   {
    "duration": 24,
    "start_time": "2021-12-27T19:21:53.444Z"
   },
   {
    "duration": 17,
    "start_time": "2021-12-27T19:21:53.471Z"
   },
   {
    "duration": 76,
    "start_time": "2021-12-27T19:21:53.490Z"
   },
   {
    "duration": 7,
    "start_time": "2021-12-27T19:21:53.568Z"
   },
   {
    "duration": 13,
    "start_time": "2021-12-27T19:21:53.577Z"
   },
   {
    "duration": 15,
    "start_time": "2021-12-27T19:21:53.622Z"
   },
   {
    "duration": 12,
    "start_time": "2021-12-27T19:21:53.641Z"
   },
   {
    "duration": 9,
    "start_time": "2021-12-27T19:21:53.656Z"
   },
   {
    "duration": 8,
    "start_time": "2021-12-27T19:21:53.667Z"
   },
   {
    "duration": 8,
    "start_time": "2021-12-27T19:21:53.677Z"
   },
   {
    "duration": 55,
    "start_time": "2021-12-27T19:21:53.687Z"
   },
   {
    "duration": 21,
    "start_time": "2021-12-27T19:21:53.745Z"
   },
   {
    "duration": 13,
    "start_time": "2021-12-27T19:21:53.770Z"
   },
   {
    "duration": 50,
    "start_time": "2021-12-27T19:21:53.786Z"
   },
   {
    "duration": 11,
    "start_time": "2021-12-27T19:21:53.840Z"
   },
   {
    "duration": 6,
    "start_time": "2021-12-27T19:21:53.854Z"
   },
   {
    "duration": 13,
    "start_time": "2021-12-27T19:21:53.863Z"
   },
   {
    "duration": 55,
    "start_time": "2021-12-27T19:21:53.878Z"
   },
   {
    "duration": 7,
    "start_time": "2021-12-27T19:21:53.935Z"
   },
   {
    "duration": 11,
    "start_time": "2021-12-27T19:21:53.944Z"
   },
   {
    "duration": 7,
    "start_time": "2021-12-27T19:21:53.957Z"
   },
   {
    "duration": 25,
    "start_time": "2021-12-27T19:21:53.967Z"
   },
   {
    "duration": 41,
    "start_time": "2021-12-27T19:21:53.994Z"
   },
   {
    "duration": 6,
    "start_time": "2021-12-27T19:21:54.046Z"
   },
   {
    "duration": 16,
    "start_time": "2021-12-27T19:21:54.055Z"
   },
   {
    "duration": 6,
    "start_time": "2021-12-27T19:21:54.074Z"
   },
   {
    "duration": 57,
    "start_time": "2021-12-27T19:21:54.083Z"
   },
   {
    "duration": 955,
    "start_time": "2021-12-27T19:21:54.144Z"
   },
   {
    "duration": 21,
    "start_time": "2021-12-27T19:21:55.102Z"
   },
   {
    "duration": 16,
    "start_time": "2021-12-27T19:21:55.128Z"
   },
   {
    "duration": 5,
    "start_time": "2021-12-27T19:21:55.147Z"
   },
   {
    "duration": 22,
    "start_time": "2021-12-27T19:21:55.154Z"
   },
   {
    "duration": 26,
    "start_time": "2021-12-27T19:21:55.178Z"
   },
   {
    "duration": 19,
    "start_time": "2021-12-27T19:21:55.206Z"
   },
   {
    "duration": 33,
    "start_time": "2021-12-27T19:21:55.229Z"
   },
   {
    "duration": 30,
    "start_time": "2021-12-27T19:21:55.265Z"
   },
   {
    "duration": 146,
    "start_time": "2021-12-27T19:21:55.298Z"
   },
   {
    "duration": 472,
    "start_time": "2021-12-27T19:22:42.486Z"
   },
   {
    "duration": 472,
    "start_time": "2021-12-27T19:22:57.501Z"
   },
   {
    "duration": 471,
    "start_time": "2021-12-27T19:23:33.131Z"
   },
   {
    "duration": 4573,
    "start_time": "2021-12-27T19:24:28.167Z"
   },
   {
    "duration": 130,
    "start_time": "2021-12-27T19:24:55.248Z"
   },
   {
    "duration": 325,
    "start_time": "2021-12-27T19:25:13.310Z"
   },
   {
    "duration": 467,
    "start_time": "2021-12-27T19:25:18.606Z"
   },
   {
    "duration": 635,
    "start_time": "2021-12-27T19:25:58.656Z"
   },
   {
    "duration": 610,
    "start_time": "2021-12-27T19:26:31.242Z"
   },
   {
    "duration": 471,
    "start_time": "2021-12-27T19:26:42.399Z"
   },
   {
    "duration": 675,
    "start_time": "2021-12-27T19:27:08.018Z"
   },
   {
    "duration": 343,
    "start_time": "2021-12-27T19:28:53.224Z"
   },
   {
    "duration": 365,
    "start_time": "2021-12-27T19:29:24.191Z"
   },
   {
    "duration": 356,
    "start_time": "2021-12-27T19:30:02.956Z"
   },
   {
    "duration": 314,
    "start_time": "2021-12-27T19:30:48.571Z"
   },
   {
    "duration": 578,
    "start_time": "2021-12-27T19:31:19.560Z"
   },
   {
    "duration": 1168,
    "start_time": "2021-12-27T19:31:50.777Z"
   },
   {
    "duration": 1429,
    "start_time": "2021-12-27T19:33:29.065Z"
   },
   {
    "duration": 1235,
    "start_time": "2021-12-27T19:34:40.940Z"
   },
   {
    "duration": 331,
    "start_time": "2021-12-27T19:35:19.050Z"
   },
   {
    "duration": 1008,
    "start_time": "2021-12-27T19:35:31.801Z"
   },
   {
    "duration": 3010,
    "start_time": "2021-12-27T19:36:01.487Z"
   },
   {
    "duration": 345,
    "start_time": "2021-12-27T19:36:14.972Z"
   },
   {
    "duration": 338,
    "start_time": "2021-12-27T19:36:28.882Z"
   },
   {
    "duration": 971,
    "start_time": "2021-12-27T19:36:39.185Z"
   },
   {
    "duration": 1004,
    "start_time": "2021-12-27T19:37:01.087Z"
   },
   {
    "duration": 1439,
    "start_time": "2021-12-27T19:42:24.986Z"
   },
   {
    "duration": 844,
    "start_time": "2021-12-27T19:43:23.417Z"
   },
   {
    "duration": 419,
    "start_time": "2021-12-27T19:45:02.842Z"
   },
   {
    "duration": 11,
    "start_time": "2021-12-27T19:45:13.706Z"
   },
   {
    "duration": 348,
    "start_time": "2021-12-27T19:45:55.861Z"
   },
   {
    "duration": 388,
    "start_time": "2021-12-27T19:46:41.755Z"
   },
   {
    "duration": 432,
    "start_time": "2021-12-27T19:47:17.723Z"
   },
   {
    "duration": 428,
    "start_time": "2021-12-27T19:47:46.819Z"
   },
   {
    "duration": 371,
    "start_time": "2021-12-27T19:48:03.207Z"
   },
   {
    "duration": 1358,
    "start_time": "2021-12-27T19:48:31.417Z"
   },
   {
    "duration": 202,
    "start_time": "2021-12-27T19:49:22.307Z"
   },
   {
    "duration": 355,
    "start_time": "2021-12-27T19:49:43.545Z"
   },
   {
    "duration": 535,
    "start_time": "2021-12-27T19:50:09.972Z"
   },
   {
    "duration": 542,
    "start_time": "2021-12-27T19:50:24.955Z"
   },
   {
    "duration": 791,
    "start_time": "2021-12-27T19:51:14.500Z"
   },
   {
    "duration": 819,
    "start_time": "2021-12-27T19:51:30.737Z"
   },
   {
    "duration": 1288,
    "start_time": "2021-12-27T19:51:38.940Z"
   },
   {
    "duration": 1322,
    "start_time": "2021-12-27T19:52:06.589Z"
   },
   {
    "duration": 1137,
    "start_time": "2021-12-27T19:52:24.900Z"
   },
   {
    "duration": 1167,
    "start_time": "2021-12-27T19:52:32.839Z"
   },
   {
    "duration": 1338,
    "start_time": "2021-12-27T19:52:41.900Z"
   },
   {
    "duration": 1032,
    "start_time": "2021-12-27T19:52:52.820Z"
   },
   {
    "duration": 1079,
    "start_time": "2021-12-27T19:53:03.040Z"
   },
   {
    "duration": 135,
    "start_time": "2021-12-27T19:54:53.690Z"
   },
   {
    "duration": 1328,
    "start_time": "2021-12-27T19:55:00.413Z"
   },
   {
    "duration": 207,
    "start_time": "2021-12-27T19:55:16.141Z"
   },
   {
    "duration": 1071,
    "start_time": "2021-12-27T19:55:26.014Z"
   },
   {
    "duration": 1045,
    "start_time": "2021-12-27T19:55:52.350Z"
   },
   {
    "duration": 1521,
    "start_time": "2021-12-27T19:56:08.631Z"
   },
   {
    "duration": 11,
    "start_time": "2021-12-27T19:57:08.404Z"
   },
   {
    "duration": 801,
    "start_time": "2021-12-27T19:57:18.708Z"
   },
   {
    "duration": 1350,
    "start_time": "2021-12-27T20:03:47.335Z"
   },
   {
    "duration": 1287,
    "start_time": "2021-12-27T20:04:01.201Z"
   },
   {
    "duration": 1321,
    "start_time": "2021-12-27T20:04:05.326Z"
   },
   {
    "duration": 846,
    "start_time": "2021-12-27T20:05:12.423Z"
   },
   {
    "duration": 1365,
    "start_time": "2021-12-27T20:05:23.223Z"
   },
   {
    "duration": 1392,
    "start_time": "2021-12-27T20:05:39.555Z"
   },
   {
    "duration": 771,
    "start_time": "2021-12-27T20:10:22.760Z"
   },
   {
    "duration": 622,
    "start_time": "2021-12-27T20:10:45.377Z"
   },
   {
    "duration": 1376,
    "start_time": "2021-12-27T20:11:30.968Z"
   },
   {
    "duration": 1004,
    "start_time": "2021-12-27T20:11:41.468Z"
   },
   {
    "duration": 998,
    "start_time": "2021-12-27T20:11:51.651Z"
   },
   {
    "duration": 1051,
    "start_time": "2021-12-27T20:12:14.397Z"
   },
   {
    "duration": 1098,
    "start_time": "2021-12-27T20:12:28.097Z"
   },
   {
    "duration": 1022,
    "start_time": "2021-12-27T20:12:37.518Z"
   },
   {
    "duration": 1662,
    "start_time": "2021-12-27T20:12:48.512Z"
   },
   {
    "duration": 1052,
    "start_time": "2021-12-27T20:14:39.686Z"
   },
   {
    "duration": 1341,
    "start_time": "2021-12-27T20:14:48.050Z"
   },
   {
    "duration": 965,
    "start_time": "2021-12-27T20:15:00.738Z"
   },
   {
    "duration": 1210,
    "start_time": "2021-12-27T20:17:41.801Z"
   },
   {
    "duration": 1079,
    "start_time": "2021-12-27T20:18:21.659Z"
   },
   {
    "duration": 1350,
    "start_time": "2021-12-27T20:19:09.801Z"
   },
   {
    "duration": 1136,
    "start_time": "2021-12-27T20:19:27.610Z"
   },
   {
    "duration": 1108,
    "start_time": "2021-12-27T20:20:02.036Z"
   },
   {
    "duration": 1589,
    "start_time": "2021-12-27T20:20:52.013Z"
   },
   {
    "duration": 2346,
    "start_time": "2021-12-27T20:21:28.180Z"
   },
   {
    "duration": 2213,
    "start_time": "2021-12-27T20:21:51.356Z"
   },
   {
    "duration": 2052,
    "start_time": "2021-12-27T20:22:15.107Z"
   },
   {
    "duration": 2488,
    "start_time": "2021-12-27T20:22:24.270Z"
   },
   {
    "duration": 2062,
    "start_time": "2021-12-27T20:23:10.491Z"
   },
   {
    "duration": 1612,
    "start_time": "2021-12-27T20:23:42.101Z"
   },
   {
    "duration": 2893,
    "start_time": "2021-12-27T20:24:47.561Z"
   },
   {
    "duration": 8,
    "start_time": "2021-12-27T20:40:23.601Z"
   },
   {
    "duration": 7,
    "start_time": "2021-12-27T20:40:43.821Z"
   },
   {
    "duration": 10,
    "start_time": "2021-12-27T20:41:07.332Z"
   },
   {
    "duration": 19,
    "start_time": "2021-12-27T20:41:32.502Z"
   },
   {
    "duration": 13,
    "start_time": "2021-12-27T20:45:25.407Z"
   },
   {
    "duration": 15,
    "start_time": "2021-12-27T20:45:45.959Z"
   },
   {
    "duration": 14,
    "start_time": "2021-12-27T20:47:37.263Z"
   },
   {
    "duration": 18,
    "start_time": "2021-12-27T20:47:45.936Z"
   },
   {
    "duration": 323,
    "start_time": "2021-12-27T20:51:02.859Z"
   },
   {
    "duration": 335,
    "start_time": "2021-12-27T20:51:32.441Z"
   },
   {
    "duration": 4,
    "start_time": "2021-12-27T20:51:45.954Z"
   },
   {
    "duration": 44,
    "start_time": "2021-12-27T20:51:45.961Z"
   },
   {
    "duration": 21,
    "start_time": "2021-12-27T20:51:46.008Z"
   },
   {
    "duration": 25,
    "start_time": "2021-12-27T20:51:46.031Z"
   },
   {
    "duration": 14,
    "start_time": "2021-12-27T20:51:46.059Z"
   },
   {
    "duration": 87,
    "start_time": "2021-12-27T20:51:46.076Z"
   },
   {
    "duration": 7,
    "start_time": "2021-12-27T20:51:46.165Z"
   },
   {
    "duration": 8,
    "start_time": "2021-12-27T20:51:46.176Z"
   },
   {
    "duration": 40,
    "start_time": "2021-12-27T20:51:46.187Z"
   },
   {
    "duration": 8,
    "start_time": "2021-12-27T20:51:46.229Z"
   },
   {
    "duration": 8,
    "start_time": "2021-12-27T20:51:46.240Z"
   },
   {
    "duration": 7,
    "start_time": "2021-12-27T20:51:46.250Z"
   },
   {
    "duration": 8,
    "start_time": "2021-12-27T20:51:46.260Z"
   },
   {
    "duration": 61,
    "start_time": "2021-12-27T20:51:46.270Z"
   },
   {
    "duration": 19,
    "start_time": "2021-12-27T20:51:46.334Z"
   },
   {
    "duration": 17,
    "start_time": "2021-12-27T20:51:46.355Z"
   },
   {
    "duration": 15,
    "start_time": "2021-12-27T20:51:46.374Z"
   },
   {
    "duration": 38,
    "start_time": "2021-12-27T20:51:46.392Z"
   },
   {
    "duration": 7,
    "start_time": "2021-12-27T20:51:46.433Z"
   },
   {
    "duration": 12,
    "start_time": "2021-12-27T20:51:46.442Z"
   },
   {
    "duration": 10,
    "start_time": "2021-12-27T20:51:46.457Z"
   },
   {
    "duration": 5,
    "start_time": "2021-12-27T20:51:46.470Z"
   },
   {
    "duration": 54,
    "start_time": "2021-12-27T20:51:46.480Z"
   },
   {
    "duration": 8,
    "start_time": "2021-12-27T20:51:46.537Z"
   },
   {
    "duration": 22,
    "start_time": "2021-12-27T20:51:46.547Z"
   },
   {
    "duration": 16,
    "start_time": "2021-12-27T20:51:46.571Z"
   },
   {
    "duration": 41,
    "start_time": "2021-12-27T20:51:46.589Z"
   },
   {
    "duration": 14,
    "start_time": "2021-12-27T20:51:46.633Z"
   },
   {
    "duration": 7,
    "start_time": "2021-12-27T20:51:46.649Z"
   },
   {
    "duration": 21,
    "start_time": "2021-12-27T20:51:46.658Z"
   },
   {
    "duration": 749,
    "start_time": "2021-12-27T20:51:46.682Z"
   },
   {
    "duration": 9,
    "start_time": "2021-12-27T20:51:47.433Z"
   },
   {
    "duration": 16,
    "start_time": "2021-12-27T20:51:47.444Z"
   },
   {
    "duration": 5,
    "start_time": "2021-12-27T20:51:47.462Z"
   },
   {
    "duration": 14,
    "start_time": "2021-12-27T20:51:47.470Z"
   },
   {
    "duration": 39,
    "start_time": "2021-12-27T20:51:47.487Z"
   },
   {
    "duration": 8,
    "start_time": "2021-12-27T20:51:47.529Z"
   },
   {
    "duration": 12,
    "start_time": "2021-12-27T20:51:47.539Z"
   },
   {
    "duration": 12,
    "start_time": "2021-12-27T20:51:47.553Z"
   },
   {
    "duration": 2158,
    "start_time": "2021-12-27T20:51:47.567Z"
   },
   {
    "duration": 5,
    "start_time": "2021-12-27T20:51:49.728Z"
   },
   {
    "duration": 8,
    "start_time": "2021-12-27T20:51:49.736Z"
   },
   {
    "duration": 19,
    "start_time": "2021-12-27T20:51:49.747Z"
   },
   {
    "duration": 404,
    "start_time": "2021-12-27T20:51:49.768Z"
   },
   {
    "duration": 324,
    "start_time": "2021-12-27T20:51:49.851Z"
   },
   {
    "duration": 7,
    "start_time": "2021-12-27T20:52:04.265Z"
   },
   {
    "duration": 8,
    "start_time": "2021-12-27T20:52:56.713Z"
   },
   {
    "duration": 16,
    "start_time": "2021-12-27T20:53:35.631Z"
   },
   {
    "duration": 13,
    "start_time": "2021-12-27T20:55:46.350Z"
   },
   {
    "duration": 12,
    "start_time": "2021-12-27T20:56:08.569Z"
   },
   {
    "duration": 11,
    "start_time": "2021-12-27T20:56:20.842Z"
   },
   {
    "duration": 12,
    "start_time": "2021-12-27T20:56:27.836Z"
   },
   {
    "duration": 395,
    "start_time": "2021-12-27T20:57:50.777Z"
   },
   {
    "duration": 1030,
    "start_time": "2021-12-27T20:58:41.379Z"
   },
   {
    "duration": 1220,
    "start_time": "2021-12-27T20:58:58.769Z"
   },
   {
    "duration": 4,
    "start_time": "2021-12-27T20:59:37.176Z"
   },
   {
    "duration": 52,
    "start_time": "2021-12-27T20:59:37.183Z"
   },
   {
    "duration": 22,
    "start_time": "2021-12-27T20:59:37.238Z"
   },
   {
    "duration": 24,
    "start_time": "2021-12-27T20:59:37.262Z"
   },
   {
    "duration": 18,
    "start_time": "2021-12-27T20:59:37.331Z"
   },
   {
    "duration": 64,
    "start_time": "2021-12-27T20:59:37.352Z"
   },
   {
    "duration": 14,
    "start_time": "2021-12-27T20:59:37.419Z"
   },
   {
    "duration": 37,
    "start_time": "2021-12-27T20:59:37.436Z"
   },
   {
    "duration": 31,
    "start_time": "2021-12-27T20:59:37.477Z"
   },
   {
    "duration": 40,
    "start_time": "2021-12-27T20:59:37.511Z"
   },
   {
    "duration": 20,
    "start_time": "2021-12-27T20:59:37.554Z"
   },
   {
    "duration": 29,
    "start_time": "2021-12-27T20:59:37.577Z"
   },
   {
    "duration": 22,
    "start_time": "2021-12-27T20:59:37.608Z"
   },
   {
    "duration": 27,
    "start_time": "2021-12-27T20:59:37.633Z"
   },
   {
    "duration": 35,
    "start_time": "2021-12-27T20:59:37.663Z"
   },
   {
    "duration": 12,
    "start_time": "2021-12-27T20:59:37.701Z"
   },
   {
    "duration": 46,
    "start_time": "2021-12-27T20:59:37.716Z"
   },
   {
    "duration": 20,
    "start_time": "2021-12-27T20:59:37.764Z"
   },
   {
    "duration": 12,
    "start_time": "2021-12-27T20:59:37.787Z"
   },
   {
    "duration": 39,
    "start_time": "2021-12-27T20:59:37.802Z"
   },
   {
    "duration": 37,
    "start_time": "2021-12-27T20:59:37.844Z"
   },
   {
    "duration": 15,
    "start_time": "2021-12-27T20:59:37.883Z"
   },
   {
    "duration": 44,
    "start_time": "2021-12-27T20:59:37.900Z"
   },
   {
    "duration": 18,
    "start_time": "2021-12-27T20:59:37.946Z"
   },
   {
    "duration": 64,
    "start_time": "2021-12-27T20:59:37.967Z"
   },
   {
    "duration": 29,
    "start_time": "2021-12-27T20:59:38.034Z"
   },
   {
    "duration": 11,
    "start_time": "2021-12-27T20:59:38.070Z"
   },
   {
    "duration": 47,
    "start_time": "2021-12-27T20:59:38.084Z"
   },
   {
    "duration": 23,
    "start_time": "2021-12-27T20:59:38.135Z"
   },
   {
    "duration": 48,
    "start_time": "2021-12-27T20:59:38.161Z"
   },
   {
    "duration": 751,
    "start_time": "2021-12-27T20:59:38.212Z"
   },
   {
    "duration": 8,
    "start_time": "2021-12-27T20:59:38.966Z"
   },
   {
    "duration": 29,
    "start_time": "2021-12-27T20:59:38.976Z"
   },
   {
    "duration": 16,
    "start_time": "2021-12-27T20:59:39.007Z"
   },
   {
    "duration": 45,
    "start_time": "2021-12-27T20:59:39.027Z"
   },
   {
    "duration": 35,
    "start_time": "2021-12-27T20:59:39.075Z"
   },
   {
    "duration": 10,
    "start_time": "2021-12-27T20:59:39.112Z"
   },
   {
    "duration": 13,
    "start_time": "2021-12-27T20:59:39.125Z"
   },
   {
    "duration": 20,
    "start_time": "2021-12-27T20:59:39.140Z"
   },
   {
    "duration": 2716,
    "start_time": "2021-12-27T20:59:39.163Z"
   },
   {
    "duration": 6,
    "start_time": "2021-12-27T20:59:41.882Z"
   },
   {
    "duration": 39,
    "start_time": "2021-12-27T20:59:41.891Z"
   },
   {
    "duration": 25,
    "start_time": "2021-12-27T20:59:41.933Z"
   },
   {
    "duration": 14,
    "start_time": "2021-12-27T20:59:41.960Z"
   },
   {
    "duration": 16,
    "start_time": "2021-12-27T20:59:41.977Z"
   },
   {
    "duration": 32,
    "start_time": "2021-12-27T20:59:41.995Z"
   },
   {
    "duration": 25,
    "start_time": "2021-12-27T20:59:42.031Z"
   },
   {
    "duration": 1124,
    "start_time": "2021-12-27T20:59:42.059Z"
   },
   {
    "duration": 713,
    "start_time": "2021-12-27T21:00:47.161Z"
   },
   {
    "duration": 1460,
    "start_time": "2021-12-27T21:00:52.524Z"
   },
   {
    "duration": 1125,
    "start_time": "2021-12-27T21:01:12.263Z"
   },
   {
    "duration": 1053,
    "start_time": "2021-12-27T21:01:31.039Z"
   },
   {
    "duration": 1024,
    "start_time": "2021-12-27T21:01:45.691Z"
   },
   {
    "duration": 171,
    "start_time": "2021-12-27T21:01:53.911Z"
   },
   {
    "duration": 115,
    "start_time": "2021-12-27T21:02:04.940Z"
   },
   {
    "duration": 1203,
    "start_time": "2021-12-27T21:02:12.516Z"
   },
   {
    "duration": 1505,
    "start_time": "2021-12-27T21:02:28.057Z"
   },
   {
    "duration": 282,
    "start_time": "2021-12-27T21:11:19.207Z"
   },
   {
    "duration": 60,
    "start_time": "2021-12-27T21:12:03.622Z"
   },
   {
    "duration": 297,
    "start_time": "2021-12-27T21:12:32.209Z"
   },
   {
    "duration": 277,
    "start_time": "2021-12-27T21:12:43.740Z"
   },
   {
    "duration": 274,
    "start_time": "2021-12-27T21:13:04.181Z"
   },
   {
    "duration": 276,
    "start_time": "2021-12-27T21:13:19.916Z"
   },
   {
    "duration": 12,
    "start_time": "2021-12-27T21:21:19.369Z"
   },
   {
    "duration": 11,
    "start_time": "2021-12-27T21:21:26.375Z"
   },
   {
    "duration": 8,
    "start_time": "2021-12-27T21:21:40.103Z"
   },
   {
    "duration": 13,
    "start_time": "2021-12-27T21:22:04.383Z"
   },
   {
    "duration": 4,
    "start_time": "2021-12-27T21:23:52.624Z"
   },
   {
    "duration": 7,
    "start_time": "2021-12-27T21:27:04.761Z"
   },
   {
    "duration": 11,
    "start_time": "2021-12-27T21:29:15.736Z"
   },
   {
    "duration": 12,
    "start_time": "2021-12-27T21:29:25.466Z"
   },
   {
    "duration": 259,
    "start_time": "2021-12-27T21:29:51.677Z"
   },
   {
    "duration": 4,
    "start_time": "2021-12-27T21:30:09.361Z"
   },
   {
    "duration": 62,
    "start_time": "2021-12-27T21:30:09.368Z"
   },
   {
    "duration": 21,
    "start_time": "2021-12-27T21:30:09.433Z"
   },
   {
    "duration": 48,
    "start_time": "2021-12-27T21:30:09.457Z"
   },
   {
    "duration": 29,
    "start_time": "2021-12-27T21:30:09.507Z"
   },
   {
    "duration": 65,
    "start_time": "2021-12-27T21:30:09.539Z"
   },
   {
    "duration": 17,
    "start_time": "2021-12-27T21:30:09.606Z"
   },
   {
    "duration": 7,
    "start_time": "2021-12-27T21:30:09.627Z"
   },
   {
    "duration": 33,
    "start_time": "2021-12-27T21:30:09.638Z"
   },
   {
    "duration": 9,
    "start_time": "2021-12-27T21:30:09.674Z"
   },
   {
    "duration": 8,
    "start_time": "2021-12-27T21:30:09.686Z"
   },
   {
    "duration": 29,
    "start_time": "2021-12-27T21:30:09.697Z"
   },
   {
    "duration": 8,
    "start_time": "2021-12-27T21:30:09.728Z"
   },
   {
    "duration": 15,
    "start_time": "2021-12-27T21:30:09.738Z"
   },
   {
    "duration": 19,
    "start_time": "2021-12-27T21:30:09.755Z"
   },
   {
    "duration": 49,
    "start_time": "2021-12-27T21:30:09.777Z"
   },
   {
    "duration": 16,
    "start_time": "2021-12-27T21:30:09.829Z"
   },
   {
    "duration": 11,
    "start_time": "2021-12-27T21:30:09.848Z"
   },
   {
    "duration": 8,
    "start_time": "2021-12-27T21:30:09.861Z"
   },
   {
    "duration": 13,
    "start_time": "2021-12-27T21:30:09.871Z"
   },
   {
    "duration": 10,
    "start_time": "2021-12-27T21:30:09.923Z"
   },
   {
    "duration": 6,
    "start_time": "2021-12-27T21:30:09.936Z"
   },
   {
    "duration": 12,
    "start_time": "2021-12-27T21:30:09.947Z"
   },
   {
    "duration": 8,
    "start_time": "2021-12-27T21:30:09.962Z"
   },
   {
    "duration": 58,
    "start_time": "2021-12-27T21:30:09.973Z"
   },
   {
    "duration": 11,
    "start_time": "2021-12-27T21:30:10.034Z"
   },
   {
    "duration": 6,
    "start_time": "2021-12-27T21:30:10.048Z"
   },
   {
    "duration": 24,
    "start_time": "2021-12-27T21:30:10.056Z"
   },
   {
    "duration": 5,
    "start_time": "2021-12-27T21:30:10.083Z"
   },
   {
    "duration": 21,
    "start_time": "2021-12-27T21:30:10.123Z"
   },
   {
    "duration": 697,
    "start_time": "2021-12-27T21:30:10.146Z"
   },
   {
    "duration": 9,
    "start_time": "2021-12-27T21:30:10.845Z"
   },
   {
    "duration": 15,
    "start_time": "2021-12-27T21:30:10.857Z"
   },
   {
    "duration": 5,
    "start_time": "2021-12-27T21:30:10.874Z"
   },
   {
    "duration": 42,
    "start_time": "2021-12-27T21:30:10.881Z"
   },
   {
    "duration": 10,
    "start_time": "2021-12-27T21:30:10.925Z"
   },
   {
    "duration": 8,
    "start_time": "2021-12-27T21:30:10.937Z"
   },
   {
    "duration": 9,
    "start_time": "2021-12-27T21:30:10.948Z"
   },
   {
    "duration": 63,
    "start_time": "2021-12-27T21:30:10.960Z"
   },
   {
    "duration": 2043,
    "start_time": "2021-12-27T21:30:11.025Z"
   },
   {
    "duration": 6,
    "start_time": "2021-12-27T21:30:13.071Z"
   },
   {
    "duration": 10,
    "start_time": "2021-12-27T21:30:13.080Z"
   },
   {
    "duration": 50,
    "start_time": "2021-12-27T21:30:13.092Z"
   },
   {
    "duration": 11,
    "start_time": "2021-12-27T21:30:13.145Z"
   },
   {
    "duration": 11,
    "start_time": "2021-12-27T21:30:13.159Z"
   },
   {
    "duration": 24,
    "start_time": "2021-12-27T21:30:13.172Z"
   },
   {
    "duration": 36,
    "start_time": "2021-12-27T21:30:13.199Z"
   },
   {
    "duration": 1007,
    "start_time": "2021-12-27T21:30:13.238Z"
   },
   {
    "duration": 8,
    "start_time": "2021-12-27T21:30:14.248Z"
   },
   {
    "duration": 13,
    "start_time": "2021-12-27T21:30:14.259Z"
   },
   {
    "duration": 4,
    "start_time": "2021-12-27T21:30:14.275Z"
   },
   {
    "duration": 42,
    "start_time": "2021-12-27T21:30:14.281Z"
   },
   {
    "duration": 15,
    "start_time": "2021-12-27T21:30:14.326Z"
   },
   {
    "duration": 633,
    "start_time": "2021-12-27T21:30:14.343Z"
   },
   {
    "duration": 304,
    "start_time": "2021-12-27T21:30:26.257Z"
   },
   {
    "duration": 347,
    "start_time": "2021-12-27T21:30:55.225Z"
   },
   {
    "duration": 563,
    "start_time": "2021-12-27T21:33:07.589Z"
   },
   {
    "duration": 795,
    "start_time": "2021-12-27T21:33:41.118Z"
   },
   {
    "duration": 1077,
    "start_time": "2021-12-27T21:34:14.019Z"
   },
   {
    "duration": 1236,
    "start_time": "2021-12-27T21:34:49.138Z"
   },
   {
    "duration": 1096,
    "start_time": "2021-12-27T21:35:15.082Z"
   },
   {
    "duration": 1203,
    "start_time": "2021-12-27T21:35:53.343Z"
   },
   {
    "duration": 1187,
    "start_time": "2021-12-27T21:36:07.798Z"
   },
   {
    "duration": 1007,
    "start_time": "2021-12-27T21:40:17.408Z"
   },
   {
    "duration": 1313,
    "start_time": "2021-12-27T21:40:36.619Z"
   },
   {
    "duration": 985,
    "start_time": "2021-12-27T21:41:34.505Z"
   },
   {
    "duration": 7,
    "start_time": "2021-12-27T21:52:00.372Z"
   },
   {
    "duration": 464,
    "start_time": "2021-12-27T21:53:08.671Z"
   },
   {
    "duration": 820,
    "start_time": "2021-12-27T21:54:19.110Z"
   },
   {
    "duration": 480,
    "start_time": "2021-12-27T21:54:24.723Z"
   },
   {
    "duration": 574,
    "start_time": "2021-12-27T21:54:54.332Z"
   },
   {
    "duration": 485,
    "start_time": "2021-12-27T21:55:33.228Z"
   },
   {
    "duration": 19,
    "start_time": "2021-12-27T21:56:18.717Z"
   },
   {
    "duration": 8,
    "start_time": "2021-12-27T21:56:36.533Z"
   },
   {
    "duration": 495,
    "start_time": "2021-12-27T21:57:24.805Z"
   },
   {
    "duration": 7,
    "start_time": "2021-12-27T22:03:27.682Z"
   },
   {
    "duration": 16,
    "start_time": "2021-12-27T22:04:32.224Z"
   },
   {
    "duration": 7,
    "start_time": "2021-12-27T22:10:52.068Z"
   },
   {
    "duration": 5,
    "start_time": "2021-12-27T22:11:57.688Z"
   },
   {
    "duration": 15,
    "start_time": "2021-12-27T22:11:58.849Z"
   },
   {
    "duration": 7,
    "start_time": "2021-12-27T22:13:25.128Z"
   },
   {
    "duration": 20,
    "start_time": "2021-12-27T22:13:26.930Z"
   },
   {
    "duration": 511,
    "start_time": "2021-12-27T22:13:45.485Z"
   },
   {
    "duration": 8,
    "start_time": "2021-12-27T22:13:58.197Z"
   },
   {
    "duration": 650,
    "start_time": "2021-12-27T22:14:04.506Z"
   },
   {
    "duration": 8,
    "start_time": "2021-12-27T22:15:33.516Z"
   },
   {
    "duration": 9,
    "start_time": "2021-12-27T22:16:06.156Z"
   },
   {
    "duration": 19,
    "start_time": "2021-12-27T22:16:07.849Z"
   },
   {
    "duration": 524,
    "start_time": "2021-12-27T22:16:15.282Z"
   },
   {
    "duration": 480,
    "start_time": "2021-12-27T22:16:29.160Z"
   },
   {
    "duration": 6,
    "start_time": "2021-12-27T22:16:59.844Z"
   },
   {
    "duration": 15,
    "start_time": "2021-12-27T22:17:01.761Z"
   },
   {
    "duration": 8,
    "start_time": "2021-12-27T22:17:59.057Z"
   },
   {
    "duration": 8,
    "start_time": "2021-12-27T22:18:17.802Z"
   },
   {
    "duration": 5,
    "start_time": "2021-12-27T22:18:38.490Z"
   },
   {
    "duration": 12,
    "start_time": "2021-12-27T22:18:49.681Z"
   },
   {
    "duration": 448,
    "start_time": "2021-12-27T22:20:25.169Z"
   },
   {
    "duration": 8,
    "start_time": "2021-12-27T22:20:27.083Z"
   },
   {
    "duration": 10,
    "start_time": "2021-12-27T22:20:28.988Z"
   },
   {
    "duration": 13,
    "start_time": "2021-12-27T22:20:29.539Z"
   },
   {
    "duration": 9,
    "start_time": "2021-12-27T22:21:47.589Z"
   },
   {
    "duration": 6,
    "start_time": "2021-12-27T22:21:50.537Z"
   },
   {
    "duration": 13,
    "start_time": "2021-12-27T22:21:52.809Z"
   },
   {
    "duration": 9,
    "start_time": "2021-12-27T22:23:21.125Z"
   },
   {
    "duration": 5,
    "start_time": "2021-12-27T22:23:21.810Z"
   },
   {
    "duration": 11,
    "start_time": "2021-12-27T22:23:22.698Z"
   },
   {
    "duration": 458,
    "start_time": "2021-12-27T22:31:40.342Z"
   },
   {
    "duration": 488,
    "start_time": "2021-12-27T22:32:00.316Z"
   },
   {
    "duration": 545,
    "start_time": "2021-12-27T22:33:09.589Z"
   },
   {
    "duration": 569,
    "start_time": "2021-12-27T22:33:17.861Z"
   },
   {
    "duration": 8113,
    "start_time": "2021-12-27T22:33:23.212Z"
   },
   {
    "duration": 486,
    "start_time": "2021-12-27T22:33:35.767Z"
   },
   {
    "duration": 762,
    "start_time": "2021-12-27T22:33:56.469Z"
   },
   {
    "duration": 568,
    "start_time": "2021-12-27T22:34:42.021Z"
   },
   {
    "duration": 558,
    "start_time": "2021-12-27T22:34:52.481Z"
   },
   {
    "duration": 6,
    "start_time": "2021-12-27T22:38:38.648Z"
   },
   {
    "duration": 5,
    "start_time": "2021-12-27T22:38:45.851Z"
   },
   {
    "duration": 50,
    "start_time": "2021-12-27T22:38:45.859Z"
   },
   {
    "duration": 21,
    "start_time": "2021-12-27T22:38:45.913Z"
   },
   {
    "duration": 23,
    "start_time": "2021-12-27T22:38:45.936Z"
   },
   {
    "duration": 14,
    "start_time": "2021-12-27T22:38:45.962Z"
   },
   {
    "duration": 83,
    "start_time": "2021-12-27T22:38:45.979Z"
   },
   {
    "duration": 6,
    "start_time": "2021-12-27T22:38:46.064Z"
   },
   {
    "duration": 51,
    "start_time": "2021-12-27T22:38:46.073Z"
   },
   {
    "duration": 14,
    "start_time": "2021-12-27T22:38:46.127Z"
   },
   {
    "duration": 11,
    "start_time": "2021-12-27T22:38:46.145Z"
   },
   {
    "duration": 10,
    "start_time": "2021-12-27T22:38:46.159Z"
   },
   {
    "duration": 5,
    "start_time": "2021-12-27T22:38:46.171Z"
   },
   {
    "duration": 10,
    "start_time": "2021-12-27T22:38:46.178Z"
   },
   {
    "duration": 46,
    "start_time": "2021-12-27T22:38:46.190Z"
   },
   {
    "duration": 20,
    "start_time": "2021-12-27T22:38:46.238Z"
   },
   {
    "duration": 11,
    "start_time": "2021-12-27T22:38:46.260Z"
   },
   {
    "duration": 11,
    "start_time": "2021-12-27T22:38:46.274Z"
   },
   {
    "duration": 10,
    "start_time": "2021-12-27T22:38:46.323Z"
   },
   {
    "duration": 6,
    "start_time": "2021-12-27T22:38:46.335Z"
   },
   {
    "duration": 11,
    "start_time": "2021-12-27T22:38:46.344Z"
   },
   {
    "duration": 13,
    "start_time": "2021-12-27T22:38:46.357Z"
   },
   {
    "duration": 8,
    "start_time": "2021-12-27T22:38:46.373Z"
   },
   {
    "duration": 43,
    "start_time": "2021-12-27T22:38:46.388Z"
   },
   {
    "duration": 9,
    "start_time": "2021-12-27T22:38:46.436Z"
   },
   {
    "duration": 21,
    "start_time": "2021-12-27T22:38:46.448Z"
   },
   {
    "duration": 55,
    "start_time": "2021-12-27T22:38:46.473Z"
   },
   {
    "duration": 7,
    "start_time": "2021-12-27T22:38:46.530Z"
   },
   {
    "duration": 16,
    "start_time": "2021-12-27T22:38:46.540Z"
   },
   {
    "duration": 6,
    "start_time": "2021-12-27T22:38:46.559Z"
   },
   {
    "duration": 57,
    "start_time": "2021-12-27T22:38:46.568Z"
   },
   {
    "duration": 669,
    "start_time": "2021-12-27T22:38:46.628Z"
   },
   {
    "duration": 25,
    "start_time": "2021-12-27T22:38:47.299Z"
   },
   {
    "duration": 11,
    "start_time": "2021-12-27T22:38:47.326Z"
   },
   {
    "duration": 4,
    "start_time": "2021-12-27T22:38:47.339Z"
   },
   {
    "duration": 15,
    "start_time": "2021-12-27T22:38:47.346Z"
   },
   {
    "duration": 12,
    "start_time": "2021-12-27T22:38:47.363Z"
   },
   {
    "duration": 6,
    "start_time": "2021-12-27T22:38:47.377Z"
   },
   {
    "duration": 39,
    "start_time": "2021-12-27T22:38:47.386Z"
   },
   {
    "duration": 15,
    "start_time": "2021-12-27T22:38:47.428Z"
   },
   {
    "duration": 2000,
    "start_time": "2021-12-27T22:38:47.445Z"
   },
   {
    "duration": 6,
    "start_time": "2021-12-27T22:38:49.448Z"
   },
   {
    "duration": 10,
    "start_time": "2021-12-27T22:38:49.456Z"
   },
   {
    "duration": 19,
    "start_time": "2021-12-27T22:38:49.468Z"
   },
   {
    "duration": 40,
    "start_time": "2021-12-27T22:38:49.489Z"
   },
   {
    "duration": 12,
    "start_time": "2021-12-27T22:38:49.532Z"
   },
   {
    "duration": 12,
    "start_time": "2021-12-27T22:38:49.546Z"
   },
   {
    "duration": 10,
    "start_time": "2021-12-27T22:38:49.560Z"
   },
   {
    "duration": 982,
    "start_time": "2021-12-27T22:38:49.572Z"
   },
   {
    "duration": 8,
    "start_time": "2021-12-27T22:38:50.556Z"
   },
   {
    "duration": 13,
    "start_time": "2021-12-27T22:38:50.567Z"
   },
   {
    "duration": 5,
    "start_time": "2021-12-27T22:38:50.582Z"
   },
   {
    "duration": 35,
    "start_time": "2021-12-27T22:38:50.590Z"
   },
   {
    "duration": 10,
    "start_time": "2021-12-27T22:38:50.628Z"
   },
   {
    "duration": 960,
    "start_time": "2021-12-27T22:38:50.640Z"
   },
   {
    "duration": 8,
    "start_time": "2021-12-27T22:38:51.602Z"
   },
   {
    "duration": 18,
    "start_time": "2021-12-27T22:38:51.623Z"
   },
   {
    "duration": 470,
    "start_time": "2021-12-27T22:38:51.643Z"
   },
   {
    "duration": 474,
    "start_time": "2021-12-27T22:38:52.123Z"
   },
   {
    "duration": 5,
    "start_time": "2021-12-27T22:38:52.600Z"
   },
   {
    "duration": 36,
    "start_time": "2021-12-27T22:38:52.607Z"
   },
   {
    "duration": 12,
    "start_time": "2021-12-27T22:38:52.645Z"
   },
   {
    "duration": 29,
    "start_time": "2021-12-27T22:38:52.659Z"
   },
   {
    "duration": 29,
    "start_time": "2021-12-27T22:38:52.690Z"
   },
   {
    "duration": 34,
    "start_time": "2021-12-27T22:38:52.722Z"
   },
   {
    "duration": 27,
    "start_time": "2021-12-27T22:38:52.758Z"
   },
   {
    "duration": 33,
    "start_time": "2021-12-27T22:38:52.787Z"
   },
   {
    "duration": 35,
    "start_time": "2021-12-27T22:38:52.822Z"
   },
   {
    "duration": 26,
    "start_time": "2021-12-27T22:38:52.868Z"
   },
   {
    "duration": 27,
    "start_time": "2021-12-27T22:38:52.897Z"
   },
   {
    "duration": 23,
    "start_time": "2021-12-27T22:38:52.926Z"
   },
   {
    "duration": 22,
    "start_time": "2021-12-27T22:38:52.952Z"
   },
   {
    "duration": 32,
    "start_time": "2021-12-27T22:38:52.977Z"
   },
   {
    "duration": 14,
    "start_time": "2021-12-27T22:38:53.012Z"
   },
   {
    "duration": 567,
    "start_time": "2021-12-27T22:38:53.028Z"
   },
   {
    "duration": 573,
    "start_time": "2021-12-27T22:39:52.871Z"
   },
   {
    "duration": 1328,
    "start_time": "2021-12-27T22:47:18.401Z"
   },
   {
    "duration": 932,
    "start_time": "2021-12-27T22:47:34.017Z"
   },
   {
    "duration": 428,
    "start_time": "2021-12-27T22:47:50.704Z"
   },
   {
    "duration": 609,
    "start_time": "2021-12-27T22:48:12.962Z"
   },
   {
    "duration": 792,
    "start_time": "2021-12-27T22:49:10.843Z"
   },
   {
    "duration": 790,
    "start_time": "2021-12-27T22:50:12.780Z"
   },
   {
    "duration": 648,
    "start_time": "2021-12-27T22:52:33.075Z"
   },
   {
    "duration": 651,
    "start_time": "2021-12-27T22:54:16.227Z"
   },
   {
    "duration": 613,
    "start_time": "2021-12-27T22:54:52.362Z"
   },
   {
    "duration": 1034,
    "start_time": "2021-12-27T22:55:48.762Z"
   },
   {
    "duration": 1065,
    "start_time": "2021-12-27T22:56:19.114Z"
   },
   {
    "duration": 848,
    "start_time": "2021-12-27T22:56:28.844Z"
   },
   {
    "duration": 561,
    "start_time": "2021-12-27T22:56:49.891Z"
   },
   {
    "duration": 995,
    "start_time": "2021-12-27T22:57:02.194Z"
   },
   {
    "duration": 1506,
    "start_time": "2021-12-27T23:12:35.117Z"
   },
   {
    "duration": 1895,
    "start_time": "2021-12-27T23:13:35.623Z"
   },
   {
    "duration": 1313,
    "start_time": "2021-12-27T23:14:46.078Z"
   },
   {
    "duration": 1054,
    "start_time": "2021-12-27T23:15:05.663Z"
   },
   {
    "duration": 832,
    "start_time": "2021-12-27T23:18:23.662Z"
   },
   {
    "duration": 1536,
    "start_time": "2021-12-27T23:18:35.974Z"
   },
   {
    "duration": 773,
    "start_time": "2021-12-27T23:20:19.963Z"
   },
   {
    "duration": 494,
    "start_time": "2021-12-28T11:18:04.432Z"
   },
   {
    "duration": 937,
    "start_time": "2021-12-28T11:18:12.053Z"
   },
   {
    "duration": 49,
    "start_time": "2021-12-28T11:18:12.993Z"
   },
   {
    "duration": 25,
    "start_time": "2021-12-28T11:18:13.046Z"
   },
   {
    "duration": 25,
    "start_time": "2021-12-28T11:18:13.074Z"
   },
   {
    "duration": 16,
    "start_time": "2021-12-28T11:18:13.118Z"
   },
   {
    "duration": 47,
    "start_time": "2021-12-28T11:18:13.137Z"
   },
   {
    "duration": 7,
    "start_time": "2021-12-28T11:18:13.186Z"
   },
   {
    "duration": 7,
    "start_time": "2021-12-28T11:18:13.219Z"
   },
   {
    "duration": 21,
    "start_time": "2021-12-28T11:18:13.229Z"
   },
   {
    "duration": 26,
    "start_time": "2021-12-28T11:18:13.252Z"
   },
   {
    "duration": 30,
    "start_time": "2021-12-28T11:18:13.281Z"
   },
   {
    "duration": 9,
    "start_time": "2021-12-28T11:18:13.314Z"
   },
   {
    "duration": 24,
    "start_time": "2021-12-28T11:18:13.326Z"
   },
   {
    "duration": 20,
    "start_time": "2021-12-28T11:18:13.352Z"
   },
   {
    "duration": 27,
    "start_time": "2021-12-28T11:18:13.374Z"
   },
   {
    "duration": 20,
    "start_time": "2021-12-28T11:18:13.403Z"
   },
   {
    "duration": 12,
    "start_time": "2021-12-28T11:18:13.425Z"
   },
   {
    "duration": 19,
    "start_time": "2021-12-28T11:18:13.439Z"
   },
   {
    "duration": 13,
    "start_time": "2021-12-28T11:18:13.460Z"
   },
   {
    "duration": 13,
    "start_time": "2021-12-28T11:18:13.475Z"
   },
   {
    "duration": 27,
    "start_time": "2021-12-28T11:18:13.490Z"
   },
   {
    "duration": 5,
    "start_time": "2021-12-28T11:18:13.519Z"
   },
   {
    "duration": 12,
    "start_time": "2021-12-28T11:18:13.529Z"
   },
   {
    "duration": 21,
    "start_time": "2021-12-28T11:18:13.544Z"
   },
   {
    "duration": 27,
    "start_time": "2021-12-28T11:18:13.567Z"
   },
   {
    "duration": 15,
    "start_time": "2021-12-28T11:18:13.617Z"
   },
   {
    "duration": 12,
    "start_time": "2021-12-28T11:18:13.635Z"
   },
   {
    "duration": 28,
    "start_time": "2021-12-28T11:18:13.649Z"
   },
   {
    "duration": 6,
    "start_time": "2021-12-28T11:18:13.679Z"
   },
   {
    "duration": 43,
    "start_time": "2021-12-28T11:18:13.688Z"
   },
   {
    "duration": 702,
    "start_time": "2021-12-28T11:18:13.733Z"
   },
   {
    "duration": 9,
    "start_time": "2021-12-28T11:18:14.437Z"
   },
   {
    "duration": 11,
    "start_time": "2021-12-28T11:18:14.448Z"
   },
   {
    "duration": 4,
    "start_time": "2021-12-28T11:18:14.462Z"
   },
   {
    "duration": 14,
    "start_time": "2021-12-28T11:18:14.469Z"
   },
   {
    "duration": 8,
    "start_time": "2021-12-28T11:18:14.518Z"
   },
   {
    "duration": 6,
    "start_time": "2021-12-28T11:18:14.529Z"
   },
   {
    "duration": 7,
    "start_time": "2021-12-28T11:18:14.538Z"
   },
   {
    "duration": 11,
    "start_time": "2021-12-28T11:18:14.547Z"
   },
   {
    "duration": 685,
    "start_time": "2021-12-28T11:18:14.560Z"
   },
   {
    "duration": 5,
    "start_time": "2021-12-28T11:18:15.248Z"
   },
   {
    "duration": 9,
    "start_time": "2021-12-28T11:18:15.256Z"
   },
   {
    "duration": 49,
    "start_time": "2021-12-28T11:18:15.268Z"
   },
   {
    "duration": 9,
    "start_time": "2021-12-28T11:18:15.319Z"
   },
   {
    "duration": 57,
    "start_time": "2021-12-28T11:18:15.330Z"
   },
   {
    "duration": 31,
    "start_time": "2021-12-28T11:18:15.389Z"
   },
   {
    "duration": 13,
    "start_time": "2021-12-28T11:18:15.422Z"
   },
   {
    "duration": 586,
    "start_time": "2021-12-28T11:18:15.437Z"
   },
   {
    "duration": 10,
    "start_time": "2021-12-28T11:18:16.026Z"
   },
   {
    "duration": 42,
    "start_time": "2021-12-28T11:18:16.039Z"
   },
   {
    "duration": 5,
    "start_time": "2021-12-28T11:18:16.084Z"
   },
   {
    "duration": 9,
    "start_time": "2021-12-28T11:18:16.092Z"
   },
   {
    "duration": 19,
    "start_time": "2021-12-28T11:18:16.103Z"
   },
   {
    "duration": 1071,
    "start_time": "2021-12-28T11:18:16.125Z"
   },
   {
    "duration": 9,
    "start_time": "2021-12-28T11:18:17.198Z"
   },
   {
    "duration": 20,
    "start_time": "2021-12-28T11:18:17.216Z"
   },
   {
    "duration": 501,
    "start_time": "2021-12-28T11:18:17.239Z"
   },
   {
    "duration": 525,
    "start_time": "2021-12-28T11:18:17.743Z"
   },
   {
    "duration": 5,
    "start_time": "2021-12-28T11:18:18.271Z"
   },
   {
    "duration": 19,
    "start_time": "2021-12-28T11:18:18.279Z"
   },
   {
    "duration": 20,
    "start_time": "2021-12-28T11:18:18.301Z"
   },
   {
    "duration": 8,
    "start_time": "2021-12-28T11:18:18.324Z"
   },
   {
    "duration": 14,
    "start_time": "2021-12-28T11:18:18.334Z"
   },
   {
    "duration": 10,
    "start_time": "2021-12-28T11:18:18.350Z"
   },
   {
    "duration": 9,
    "start_time": "2021-12-28T11:18:18.362Z"
   },
   {
    "duration": 46,
    "start_time": "2021-12-28T11:18:18.374Z"
   },
   {
    "duration": 11,
    "start_time": "2021-12-28T11:18:18.423Z"
   },
   {
    "duration": 5,
    "start_time": "2021-12-28T11:18:18.443Z"
   },
   {
    "duration": 17,
    "start_time": "2021-12-28T11:18:18.451Z"
   },
   {
    "duration": 9,
    "start_time": "2021-12-28T11:18:18.471Z"
   },
   {
    "duration": 38,
    "start_time": "2021-12-28T11:18:18.483Z"
   },
   {
    "duration": 14,
    "start_time": "2021-12-28T11:18:18.523Z"
   },
   {
    "duration": 6,
    "start_time": "2021-12-28T11:18:18.540Z"
   },
   {
    "duration": 829,
    "start_time": "2021-12-28T11:18:18.549Z"
   },
   {
    "duration": 840,
    "start_time": "2021-12-28T11:18:19.380Z"
   },
   {
    "duration": 889,
    "start_time": "2021-12-28T11:18:20.223Z"
   },
   {
    "duration": 829,
    "start_time": "2021-12-28T11:18:21.115Z"
   },
   {
    "duration": 824,
    "start_time": "2021-12-28T11:19:10.307Z"
   },
   {
    "duration": 845,
    "start_time": "2021-12-28T11:21:19.890Z"
   },
   {
    "duration": 805,
    "start_time": "2021-12-28T11:21:42.452Z"
   },
   {
    "duration": 1157,
    "start_time": "2021-12-28T11:23:24.676Z"
   },
   {
    "duration": 5,
    "start_time": "2021-12-29T22:18:38.182Z"
   },
   {
    "duration": 603,
    "start_time": "2021-12-29T22:18:46.291Z"
   },
   {
    "duration": 37,
    "start_time": "2021-12-29T22:18:46.896Z"
   },
   {
    "duration": 18,
    "start_time": "2021-12-29T22:18:46.936Z"
   },
   {
    "duration": 12,
    "start_time": "2021-12-29T22:18:46.956Z"
   },
   {
    "duration": 11,
    "start_time": "2021-12-29T22:18:46.970Z"
   },
   {
    "duration": 26,
    "start_time": "2021-12-29T22:18:46.982Z"
   },
   {
    "duration": 4,
    "start_time": "2021-12-29T22:18:47.010Z"
   },
   {
    "duration": 6,
    "start_time": "2021-12-29T22:18:47.043Z"
   },
   {
    "duration": 7,
    "start_time": "2021-12-29T22:18:47.051Z"
   },
   {
    "duration": 5,
    "start_time": "2021-12-29T22:18:47.060Z"
   },
   {
    "duration": 7,
    "start_time": "2021-12-29T22:18:47.066Z"
   },
   {
    "duration": 5,
    "start_time": "2021-12-29T22:18:47.074Z"
   },
   {
    "duration": 7,
    "start_time": "2021-12-29T22:18:47.081Z"
   },
   {
    "duration": 11,
    "start_time": "2021-12-29T22:18:47.089Z"
   },
   {
    "duration": 12,
    "start_time": "2021-12-29T22:18:47.140Z"
   },
   {
    "duration": 10,
    "start_time": "2021-12-29T22:18:47.154Z"
   },
   {
    "duration": 9,
    "start_time": "2021-12-29T22:18:47.165Z"
   },
   {
    "duration": 7,
    "start_time": "2021-12-29T22:18:47.176Z"
   },
   {
    "duration": 8,
    "start_time": "2021-12-29T22:18:47.185Z"
   },
   {
    "duration": 10,
    "start_time": "2021-12-29T22:18:47.195Z"
   },
   {
    "duration": 12,
    "start_time": "2021-12-29T22:18:47.207Z"
   },
   {
    "duration": 4,
    "start_time": "2021-12-29T22:18:47.242Z"
   },
   {
    "duration": 6,
    "start_time": "2021-12-29T22:18:47.249Z"
   },
   {
    "duration": 10,
    "start_time": "2021-12-29T22:18:47.258Z"
   },
   {
    "duration": 15,
    "start_time": "2021-12-29T22:18:47.270Z"
   },
   {
    "duration": 12,
    "start_time": "2021-12-29T22:18:47.287Z"
   },
   {
    "duration": 5,
    "start_time": "2021-12-29T22:18:47.301Z"
   },
   {
    "duration": 12,
    "start_time": "2021-12-29T22:18:47.308Z"
   },
   {
    "duration": 19,
    "start_time": "2021-12-29T22:18:47.322Z"
   },
   {
    "duration": 12,
    "start_time": "2021-12-29T22:18:47.342Z"
   },
   {
    "duration": 398,
    "start_time": "2021-12-29T22:18:47.355Z"
   },
   {
    "duration": 8,
    "start_time": "2021-12-29T22:18:47.754Z"
   },
   {
    "duration": 10,
    "start_time": "2021-12-29T22:18:47.763Z"
   },
   {
    "duration": 4,
    "start_time": "2021-12-29T22:18:47.775Z"
   },
   {
    "duration": 10,
    "start_time": "2021-12-29T22:18:47.781Z"
   },
   {
    "duration": 9,
    "start_time": "2021-12-29T22:18:47.792Z"
   },
   {
    "duration": 5,
    "start_time": "2021-12-29T22:18:47.803Z"
   },
   {
    "duration": 6,
    "start_time": "2021-12-29T22:18:47.809Z"
   },
   {
    "duration": 27,
    "start_time": "2021-12-29T22:18:47.816Z"
   },
   {
    "duration": 373,
    "start_time": "2021-12-29T22:18:47.845Z"
   },
   {
    "duration": 4,
    "start_time": "2021-12-29T22:18:48.219Z"
   },
   {
    "duration": 17,
    "start_time": "2021-12-29T22:18:48.225Z"
   },
   {
    "duration": 11,
    "start_time": "2021-12-29T22:18:48.243Z"
   },
   {
    "duration": 10,
    "start_time": "2021-12-29T22:18:48.256Z"
   },
   {
    "duration": 55,
    "start_time": "2021-12-29T22:18:48.268Z"
   },
   {
    "duration": 18,
    "start_time": "2021-12-29T22:18:48.324Z"
   },
   {
    "duration": 13,
    "start_time": "2021-12-29T22:18:48.344Z"
   },
   {
    "duration": 334,
    "start_time": "2021-12-29T22:18:48.359Z"
   },
   {
    "duration": 7,
    "start_time": "2021-12-29T22:18:48.694Z"
   },
   {
    "duration": 11,
    "start_time": "2021-12-29T22:18:48.703Z"
   },
   {
    "duration": 6,
    "start_time": "2021-12-29T22:18:48.716Z"
   },
   {
    "duration": 18,
    "start_time": "2021-12-29T22:18:48.723Z"
   },
   {
    "duration": 8,
    "start_time": "2021-12-29T22:18:48.742Z"
   },
   {
    "duration": 576,
    "start_time": "2021-12-29T22:18:48.751Z"
   },
   {
    "duration": 11,
    "start_time": "2021-12-29T22:18:49.329Z"
   },
   {
    "duration": 11,
    "start_time": "2021-12-29T22:18:49.342Z"
   },
   {
    "duration": 338,
    "start_time": "2021-12-29T22:18:49.355Z"
   },
   {
    "duration": 342,
    "start_time": "2021-12-29T22:18:49.694Z"
   },
   {
    "duration": 9,
    "start_time": "2021-12-29T22:18:50.040Z"
   },
   {
    "duration": 10,
    "start_time": "2021-12-29T22:18:50.051Z"
   },
   {
    "duration": 5,
    "start_time": "2021-12-29T22:18:50.063Z"
   },
   {
    "duration": 7,
    "start_time": "2021-12-29T22:18:50.069Z"
   },
   {
    "duration": 9,
    "start_time": "2021-12-29T22:18:50.077Z"
   },
   {
    "duration": 5,
    "start_time": "2021-12-29T22:18:50.087Z"
   },
   {
    "duration": 8,
    "start_time": "2021-12-29T22:18:50.093Z"
   },
   {
    "duration": 15,
    "start_time": "2021-12-29T22:18:50.102Z"
   },
   {
    "duration": 11,
    "start_time": "2021-12-29T22:18:50.118Z"
   },
   {
    "duration": 3,
    "start_time": "2021-12-29T22:18:50.144Z"
   },
   {
    "duration": 14,
    "start_time": "2021-12-29T22:18:50.149Z"
   },
   {
    "duration": 9,
    "start_time": "2021-12-29T22:18:50.165Z"
   },
   {
    "duration": 9,
    "start_time": "2021-12-29T22:18:50.175Z"
   },
   {
    "duration": 16,
    "start_time": "2021-12-29T22:18:50.185Z"
   },
   {
    "duration": 5,
    "start_time": "2021-12-29T22:18:50.202Z"
   },
   {
    "duration": 329,
    "start_time": "2021-12-29T22:18:50.209Z"
   },
   {
    "duration": 479,
    "start_time": "2021-12-29T22:18:50.540Z"
   },
   {
    "duration": 524,
    "start_time": "2021-12-29T22:18:51.020Z"
   },
   {
    "duration": 473,
    "start_time": "2021-12-29T22:18:51.545Z"
   },
   {
    "duration": 4,
    "start_time": "2021-12-29T22:18:52.019Z"
   },
   {
    "duration": 3,
    "start_time": "2021-12-29T22:21:37.254Z"
   },
   {
    "duration": 5,
    "start_time": "2021-12-29T22:26:17.950Z"
   },
   {
    "duration": 7,
    "start_time": "2021-12-29T22:27:06.368Z"
   },
   {
    "duration": 2867,
    "start_time": "2021-12-29T22:28:21.886Z"
   },
   {
    "duration": 2,
    "start_time": "2021-12-29T22:28:44.828Z"
   },
   {
    "duration": 41,
    "start_time": "2021-12-29T22:28:44.834Z"
   },
   {
    "duration": 14,
    "start_time": "2021-12-29T22:28:44.877Z"
   },
   {
    "duration": 16,
    "start_time": "2021-12-29T22:28:44.893Z"
   },
   {
    "duration": 31,
    "start_time": "2021-12-29T22:28:44.911Z"
   },
   {
    "duration": 29,
    "start_time": "2021-12-29T22:28:44.944Z"
   },
   {
    "duration": 5,
    "start_time": "2021-12-29T22:28:44.975Z"
   },
   {
    "duration": 6,
    "start_time": "2021-12-29T22:28:44.982Z"
   },
   {
    "duration": 7,
    "start_time": "2021-12-29T22:28:44.989Z"
   },
   {
    "duration": 48,
    "start_time": "2021-12-29T22:28:44.999Z"
   },
   {
    "duration": 7,
    "start_time": "2021-12-29T22:28:45.049Z"
   },
   {
    "duration": 7,
    "start_time": "2021-12-29T22:28:45.058Z"
   },
   {
    "duration": 9,
    "start_time": "2021-12-29T22:28:45.067Z"
   },
   {
    "duration": 14,
    "start_time": "2021-12-29T22:28:45.078Z"
   },
   {
    "duration": 13,
    "start_time": "2021-12-29T22:28:45.093Z"
   },
   {
    "duration": 34,
    "start_time": "2021-12-29T22:28:45.108Z"
   },
   {
    "duration": 8,
    "start_time": "2021-12-29T22:28:45.143Z"
   },
   {
    "duration": 9,
    "start_time": "2021-12-29T22:28:45.153Z"
   },
   {
    "duration": 12,
    "start_time": "2021-12-29T22:28:45.164Z"
   },
   {
    "duration": 15,
    "start_time": "2021-12-29T22:28:45.177Z"
   },
   {
    "duration": 15,
    "start_time": "2021-12-29T22:28:45.194Z"
   },
   {
    "duration": 12,
    "start_time": "2021-12-29T22:28:45.211Z"
   },
   {
    "duration": 17,
    "start_time": "2021-12-29T22:28:45.225Z"
   },
   {
    "duration": 12,
    "start_time": "2021-12-29T22:28:45.243Z"
   },
   {
    "duration": 19,
    "start_time": "2021-12-29T22:28:45.257Z"
   },
   {
    "duration": 13,
    "start_time": "2021-12-29T22:28:45.277Z"
   },
   {
    "duration": 6,
    "start_time": "2021-12-29T22:28:45.292Z"
   },
   {
    "duration": 12,
    "start_time": "2021-12-29T22:28:45.302Z"
   },
   {
    "duration": 4,
    "start_time": "2021-12-29T22:28:45.317Z"
   },
   {
    "duration": 19,
    "start_time": "2021-12-29T22:28:45.323Z"
   },
   {
    "duration": 400,
    "start_time": "2021-12-29T22:28:45.343Z"
   },
   {
    "duration": 6,
    "start_time": "2021-12-29T22:28:45.745Z"
   },
   {
    "duration": 9,
    "start_time": "2021-12-29T22:28:45.753Z"
   },
   {
    "duration": 5,
    "start_time": "2021-12-29T22:28:45.764Z"
   },
   {
    "duration": 11,
    "start_time": "2021-12-29T22:28:45.770Z"
   },
   {
    "duration": 8,
    "start_time": "2021-12-29T22:28:45.782Z"
   },
   {
    "duration": 8,
    "start_time": "2021-12-29T22:28:45.792Z"
   },
   {
    "duration": 11,
    "start_time": "2021-12-29T22:28:45.801Z"
   },
   {
    "duration": 14,
    "start_time": "2021-12-29T22:28:45.814Z"
   },
   {
    "duration": 376,
    "start_time": "2021-12-29T22:28:45.830Z"
   },
   {
    "duration": 6,
    "start_time": "2021-12-29T22:28:46.208Z"
   },
   {
    "duration": 11,
    "start_time": "2021-12-29T22:28:46.216Z"
   },
   {
    "duration": 11,
    "start_time": "2021-12-29T22:28:46.240Z"
   },
   {
    "duration": 8,
    "start_time": "2021-12-29T22:28:46.253Z"
   },
   {
    "duration": 11,
    "start_time": "2021-12-29T22:28:46.262Z"
   },
   {
    "duration": 10,
    "start_time": "2021-12-29T22:28:46.275Z"
   },
   {
    "duration": 15,
    "start_time": "2021-12-29T22:28:46.287Z"
   },
   {
    "duration": 326,
    "start_time": "2021-12-29T22:28:46.303Z"
   },
   {
    "duration": 15,
    "start_time": "2021-12-29T22:28:46.630Z"
   },
   {
    "duration": 17,
    "start_time": "2021-12-29T22:28:46.646Z"
   },
   {
    "duration": 6,
    "start_time": "2021-12-29T22:28:46.665Z"
   },
   {
    "duration": 9,
    "start_time": "2021-12-29T22:28:46.672Z"
   },
   {
    "duration": 10,
    "start_time": "2021-12-29T22:28:46.682Z"
   },
   {
    "duration": 629,
    "start_time": "2021-12-29T22:28:46.694Z"
   },
   {
    "duration": 5,
    "start_time": "2021-12-29T22:28:47.324Z"
   },
   {
    "duration": 22,
    "start_time": "2021-12-29T22:28:47.331Z"
   },
   {
    "duration": 332,
    "start_time": "2021-12-29T22:28:47.354Z"
   },
   {
    "duration": 315,
    "start_time": "2021-12-29T22:28:47.687Z"
   },
   {
    "duration": 4,
    "start_time": "2021-12-29T22:28:48.004Z"
   },
   {
    "duration": 15,
    "start_time": "2021-12-29T22:28:48.009Z"
   },
   {
    "duration": 17,
    "start_time": "2021-12-29T22:28:48.025Z"
   },
   {
    "duration": 3,
    "start_time": "2021-12-29T22:28:48.044Z"
   },
   {
    "duration": 16,
    "start_time": "2021-12-29T22:28:48.048Z"
   },
   {
    "duration": 8,
    "start_time": "2021-12-29T22:28:48.066Z"
   },
   {
    "duration": 12,
    "start_time": "2021-12-29T22:28:48.075Z"
   },
   {
    "duration": 16,
    "start_time": "2021-12-29T22:28:48.088Z"
   },
   {
    "duration": 6,
    "start_time": "2021-12-29T22:28:48.106Z"
   },
   {
    "duration": 12,
    "start_time": "2021-12-29T22:28:48.114Z"
   },
   {
    "duration": 19,
    "start_time": "2021-12-29T22:28:48.127Z"
   },
   {
    "duration": 12,
    "start_time": "2021-12-29T22:28:48.147Z"
   },
   {
    "duration": 9,
    "start_time": "2021-12-29T22:28:48.161Z"
   },
   {
    "duration": 15,
    "start_time": "2021-12-29T22:28:48.171Z"
   },
   {
    "duration": 10,
    "start_time": "2021-12-29T22:28:48.187Z"
   },
   {
    "duration": 334,
    "start_time": "2021-12-29T22:28:48.198Z"
   },
   {
    "duration": 467,
    "start_time": "2021-12-29T22:28:48.533Z"
   },
   {
    "duration": 469,
    "start_time": "2021-12-29T22:28:49.001Z"
   },
   {
    "duration": 566,
    "start_time": "2021-12-29T22:28:49.472Z"
   },
   {
    "duration": 4,
    "start_time": "2021-12-29T22:28:50.039Z"
   },
   {
    "duration": 20,
    "start_time": "2021-12-29T22:28:50.045Z"
   },
   {
    "duration": 3328,
    "start_time": "2021-12-29T22:28:50.066Z"
   },
   {
    "duration": -39,
    "start_time": "2021-12-29T22:28:53.434Z"
   },
   {
    "duration": 6,
    "start_time": "2021-12-29T22:29:16.111Z"
   },
   {
    "duration": 4,
    "start_time": "2021-12-29T22:29:49.967Z"
   },
   {
    "duration": 6,
    "start_time": "2021-12-29T22:30:56.873Z"
   },
   {
    "duration": 6,
    "start_time": "2021-12-29T22:31:23.423Z"
   },
   {
    "duration": 4,
    "start_time": "2021-12-29T22:31:28.950Z"
   },
   {
    "duration": 5,
    "start_time": "2021-12-29T22:31:48.942Z"
   },
   {
    "duration": 3,
    "start_time": "2021-12-29T22:33:02.183Z"
   },
   {
    "duration": 3312,
    "start_time": "2021-12-29T22:34:28.399Z"
   },
   {
    "duration": 4233,
    "start_time": "2021-12-29T22:34:52.280Z"
   },
   {
    "duration": 8,
    "start_time": "2021-12-29T22:35:14.047Z"
   },
   {
    "duration": 13,
    "start_time": "2021-12-29T22:35:16.080Z"
   },
   {
    "duration": 4,
    "start_time": "2021-12-29T22:35:46.243Z"
   },
   {
    "duration": 8,
    "start_time": "2021-12-29T22:35:51.157Z"
   },
   {
    "duration": 8,
    "start_time": "2021-12-29T22:36:04.831Z"
   },
   {
    "duration": 14,
    "start_time": "2021-12-29T22:36:07.139Z"
   },
   {
    "duration": 5,
    "start_time": "2021-12-29T22:36:16.774Z"
   },
   {
    "duration": 7,
    "start_time": "2021-12-29T22:37:19.127Z"
   },
   {
    "duration": 11,
    "start_time": "2021-12-29T22:37:49.799Z"
   },
   {
    "duration": 204,
    "start_time": "2021-12-29T22:38:32.288Z"
   },
   {
    "duration": 346,
    "start_time": "2021-12-29T22:39:00.857Z"
   },
   {
    "duration": 41,
    "start_time": "2021-12-29T22:39:01.204Z"
   },
   {
    "duration": 30,
    "start_time": "2021-12-29T22:39:01.247Z"
   },
   {
    "duration": 43,
    "start_time": "2021-12-29T22:39:01.279Z"
   },
   {
    "duration": 14,
    "start_time": "2021-12-29T22:39:01.324Z"
   },
   {
    "duration": 31,
    "start_time": "2021-12-29T22:39:01.340Z"
   },
   {
    "duration": 23,
    "start_time": "2021-12-29T22:39:01.373Z"
   },
   {
    "duration": 17,
    "start_time": "2021-12-29T22:39:01.399Z"
   },
   {
    "duration": 13,
    "start_time": "2021-12-29T22:39:01.419Z"
   },
   {
    "duration": 8,
    "start_time": "2021-12-29T22:39:01.434Z"
   },
   {
    "duration": 17,
    "start_time": "2021-12-29T22:39:01.443Z"
   },
   {
    "duration": 11,
    "start_time": "2021-12-29T22:39:01.462Z"
   },
   {
    "duration": 16,
    "start_time": "2021-12-29T22:39:01.474Z"
   },
   {
    "duration": 23,
    "start_time": "2021-12-29T22:39:01.492Z"
   },
   {
    "duration": 15,
    "start_time": "2021-12-29T22:39:01.516Z"
   },
   {
    "duration": 13,
    "start_time": "2021-12-29T22:39:01.532Z"
   },
   {
    "duration": 10,
    "start_time": "2021-12-29T22:39:01.547Z"
   },
   {
    "duration": 11,
    "start_time": "2021-12-29T22:39:01.559Z"
   },
   {
    "duration": 15,
    "start_time": "2021-12-29T22:39:01.572Z"
   },
   {
    "duration": 24,
    "start_time": "2021-12-29T22:39:01.589Z"
   },
   {
    "duration": 28,
    "start_time": "2021-12-29T22:39:01.615Z"
   },
   {
    "duration": 24,
    "start_time": "2021-12-29T22:39:01.645Z"
   },
   {
    "duration": 17,
    "start_time": "2021-12-29T22:39:01.673Z"
   },
   {
    "duration": 13,
    "start_time": "2021-12-29T22:39:01.693Z"
   },
   {
    "duration": 23,
    "start_time": "2021-12-29T22:39:01.707Z"
   },
   {
    "duration": 8,
    "start_time": "2021-12-29T22:39:01.732Z"
   },
   {
    "duration": 13,
    "start_time": "2021-12-29T22:39:01.742Z"
   },
   {
    "duration": 20,
    "start_time": "2021-12-29T22:39:01.757Z"
   },
   {
    "duration": 40,
    "start_time": "2021-12-29T22:39:01.778Z"
   },
   {
    "duration": 59,
    "start_time": "2021-12-29T22:39:01.820Z"
   },
   {
    "duration": 400,
    "start_time": "2021-12-29T22:39:01.881Z"
   },
   {
    "duration": 7,
    "start_time": "2021-12-29T22:39:02.283Z"
   },
   {
    "duration": 36,
    "start_time": "2021-12-29T22:39:02.291Z"
   },
   {
    "duration": 23,
    "start_time": "2021-12-29T22:39:02.329Z"
   },
   {
    "duration": 21,
    "start_time": "2021-12-29T22:39:02.353Z"
   },
   {
    "duration": 28,
    "start_time": "2021-12-29T22:39:02.376Z"
   },
   {
    "duration": 13,
    "start_time": "2021-12-29T22:39:02.405Z"
   },
   {
    "duration": 20,
    "start_time": "2021-12-29T22:39:02.420Z"
   },
   {
    "duration": 12,
    "start_time": "2021-12-29T22:39:02.441Z"
   },
   {
    "duration": 384,
    "start_time": "2021-12-29T22:39:02.455Z"
   },
   {
    "duration": 4,
    "start_time": "2021-12-29T22:39:02.841Z"
   },
   {
    "duration": 7,
    "start_time": "2021-12-29T22:39:02.847Z"
   },
   {
    "duration": 23,
    "start_time": "2021-12-29T22:39:02.855Z"
   },
   {
    "duration": 11,
    "start_time": "2021-12-29T22:39:02.880Z"
   },
   {
    "duration": 13,
    "start_time": "2021-12-29T22:39:02.892Z"
   },
   {
    "duration": 11,
    "start_time": "2021-12-29T22:39:02.906Z"
   },
   {
    "duration": 15,
    "start_time": "2021-12-29T22:39:02.919Z"
   },
   {
    "duration": 353,
    "start_time": "2021-12-29T22:39:02.941Z"
   },
   {
    "duration": 7,
    "start_time": "2021-12-29T22:39:03.295Z"
   },
   {
    "duration": 11,
    "start_time": "2021-12-29T22:39:03.304Z"
   },
   {
    "duration": 7,
    "start_time": "2021-12-29T22:39:03.317Z"
   },
   {
    "duration": 25,
    "start_time": "2021-12-29T22:39:03.326Z"
   },
   {
    "duration": 10,
    "start_time": "2021-12-29T22:39:03.353Z"
   },
   {
    "duration": 744,
    "start_time": "2021-12-29T22:39:03.365Z"
   },
   {
    "duration": 5,
    "start_time": "2021-12-29T22:39:04.111Z"
   },
   {
    "duration": 29,
    "start_time": "2021-12-29T22:39:04.117Z"
   },
   {
    "duration": 359,
    "start_time": "2021-12-29T22:39:04.147Z"
   },
   {
    "duration": 393,
    "start_time": "2021-12-29T22:39:04.508Z"
   },
   {
    "duration": 4,
    "start_time": "2021-12-29T22:39:04.902Z"
   },
   {
    "duration": 11,
    "start_time": "2021-12-29T22:39:04.908Z"
   },
   {
    "duration": 21,
    "start_time": "2021-12-29T22:39:04.920Z"
   },
   {
    "duration": 8,
    "start_time": "2021-12-29T22:39:04.943Z"
   },
   {
    "duration": 11,
    "start_time": "2021-12-29T22:39:04.953Z"
   },
   {
    "duration": 14,
    "start_time": "2021-12-29T22:39:04.965Z"
   },
   {
    "duration": 6,
    "start_time": "2021-12-29T22:39:04.981Z"
   },
   {
    "duration": 13,
    "start_time": "2021-12-29T22:39:04.989Z"
   },
   {
    "duration": 8,
    "start_time": "2021-12-29T22:39:05.004Z"
   },
   {
    "duration": 7,
    "start_time": "2021-12-29T22:39:05.017Z"
   },
   {
    "duration": 16,
    "start_time": "2021-12-29T22:39:05.026Z"
   },
   {
    "duration": 16,
    "start_time": "2021-12-29T22:39:05.043Z"
   },
   {
    "duration": 8,
    "start_time": "2021-12-29T22:39:05.061Z"
   },
   {
    "duration": 14,
    "start_time": "2021-12-29T22:39:05.071Z"
   },
   {
    "duration": 10,
    "start_time": "2021-12-29T22:39:05.086Z"
   },
   {
    "duration": 358,
    "start_time": "2021-12-29T22:39:05.098Z"
   },
   {
    "duration": 481,
    "start_time": "2021-12-29T22:39:05.457Z"
   },
   {
    "duration": 476,
    "start_time": "2021-12-29T22:39:05.940Z"
   },
   {
    "duration": 494,
    "start_time": "2021-12-29T22:39:06.417Z"
   },
   {
    "duration": 5,
    "start_time": "2021-12-29T22:39:06.913Z"
   },
   {
    "duration": 10,
    "start_time": "2021-12-29T22:39:06.919Z"
   },
   {
    "duration": 12,
    "start_time": "2021-12-29T22:39:06.940Z"
   },
   {
    "duration": 14,
    "start_time": "2021-12-29T22:39:06.953Z"
   },
   {
    "duration": 6,
    "start_time": "2021-12-29T22:39:06.968Z"
   },
   {
    "duration": 6,
    "start_time": "2021-12-29T22:39:06.976Z"
   },
   {
    "duration": 7,
    "start_time": "2021-12-29T22:39:06.983Z"
   },
   {
    "duration": 13,
    "start_time": "2021-12-29T22:39:06.991Z"
   },
   {
    "duration": 8,
    "start_time": "2021-12-29T22:39:07.005Z"
   },
   {
    "duration": 8,
    "start_time": "2021-12-29T22:46:23.625Z"
   },
   {
    "duration": 830,
    "start_time": "2021-12-29T22:46:43.512Z"
   },
   {
    "duration": 7,
    "start_time": "2021-12-29T22:47:16.263Z"
   },
   {
    "duration": 13,
    "start_time": "2021-12-29T22:47:18.104Z"
   },
   {
    "duration": 13,
    "start_time": "2021-12-29T22:47:35.387Z"
   },
   {
    "duration": 5,
    "start_time": "2021-12-29T22:48:17.359Z"
   },
   {
    "duration": 5,
    "start_time": "2021-12-29T22:48:37.120Z"
   },
   {
    "duration": 3,
    "start_time": "2021-12-29T22:49:15.505Z"
   },
   {
    "duration": 11,
    "start_time": "2021-12-29T22:50:14.184Z"
   },
   {
    "duration": 5,
    "start_time": "2021-12-29T22:50:49.504Z"
   },
   {
    "duration": 1461,
    "start_time": "2021-12-31T09:45:21.272Z"
   },
   {
    "duration": 49,
    "start_time": "2021-12-31T09:45:22.736Z"
   },
   {
    "duration": 27,
    "start_time": "2021-12-31T09:45:22.788Z"
   },
   {
    "duration": 23,
    "start_time": "2021-12-31T09:45:22.819Z"
   },
   {
    "duration": 18,
    "start_time": "2021-12-31T09:45:22.868Z"
   },
   {
    "duration": 45,
    "start_time": "2021-12-31T09:45:22.889Z"
   },
   {
    "duration": 9,
    "start_time": "2021-12-31T09:45:22.968Z"
   },
   {
    "duration": 7,
    "start_time": "2021-12-31T09:45:22.983Z"
   },
   {
    "duration": 9,
    "start_time": "2021-12-31T09:45:22.994Z"
   },
   {
    "duration": 61,
    "start_time": "2021-12-31T09:45:23.006Z"
   },
   {
    "duration": 8,
    "start_time": "2021-12-31T09:45:23.071Z"
   },
   {
    "duration": 7,
    "start_time": "2021-12-31T09:45:23.082Z"
   },
   {
    "duration": 8,
    "start_time": "2021-12-31T09:45:23.092Z"
   },
   {
    "duration": 16,
    "start_time": "2021-12-31T09:45:23.103Z"
   },
   {
    "duration": 24,
    "start_time": "2021-12-31T09:45:23.166Z"
   },
   {
    "duration": 15,
    "start_time": "2021-12-31T09:45:23.193Z"
   },
   {
    "duration": 55,
    "start_time": "2021-12-31T09:45:23.211Z"
   },
   {
    "duration": 12,
    "start_time": "2021-12-31T09:45:23.269Z"
   },
   {
    "duration": 9,
    "start_time": "2021-12-31T09:45:23.284Z"
   },
   {
    "duration": 13,
    "start_time": "2021-12-31T09:45:23.295Z"
   },
   {
    "duration": 11,
    "start_time": "2021-12-31T09:45:23.311Z"
   },
   {
    "duration": 43,
    "start_time": "2021-12-31T09:45:23.324Z"
   },
   {
    "duration": 9,
    "start_time": "2021-12-31T09:45:23.373Z"
   },
   {
    "duration": 12,
    "start_time": "2021-12-31T09:45:23.386Z"
   },
   {
    "duration": 22,
    "start_time": "2021-12-31T09:45:23.400Z"
   },
   {
    "duration": 43,
    "start_time": "2021-12-31T09:45:23.424Z"
   },
   {
    "duration": 7,
    "start_time": "2021-12-31T09:45:23.469Z"
   },
   {
    "duration": 16,
    "start_time": "2021-12-31T09:45:23.478Z"
   },
   {
    "duration": 5,
    "start_time": "2021-12-31T09:45:23.497Z"
   },
   {
    "duration": 23,
    "start_time": "2021-12-31T09:45:23.504Z"
   },
   {
    "duration": 747,
    "start_time": "2021-12-31T09:45:23.529Z"
   },
   {
    "duration": 10,
    "start_time": "2021-12-31T09:45:24.278Z"
   },
   {
    "duration": 12,
    "start_time": "2021-12-31T09:45:24.290Z"
   },
   {
    "duration": 4,
    "start_time": "2021-12-31T09:45:24.304Z"
   },
   {
    "duration": 18,
    "start_time": "2021-12-31T09:45:24.311Z"
   },
   {
    "duration": 42,
    "start_time": "2021-12-31T09:45:24.331Z"
   },
   {
    "duration": 6,
    "start_time": "2021-12-31T09:45:24.376Z"
   },
   {
    "duration": 8,
    "start_time": "2021-12-31T09:45:24.384Z"
   },
   {
    "duration": 11,
    "start_time": "2021-12-31T09:45:24.394Z"
   },
   {
    "duration": 747,
    "start_time": "2021-12-31T09:45:24.407Z"
   },
   {
    "duration": 15,
    "start_time": "2021-12-31T09:45:25.157Z"
   },
   {
    "duration": 7,
    "start_time": "2021-12-31T09:45:25.176Z"
   },
   {
    "duration": 27,
    "start_time": "2021-12-31T09:45:25.186Z"
   },
   {
    "duration": 10,
    "start_time": "2021-12-31T09:45:25.216Z"
   },
   {
    "duration": 10,
    "start_time": "2021-12-31T09:45:25.267Z"
   },
   {
    "duration": 15,
    "start_time": "2021-12-31T09:45:25.280Z"
   },
   {
    "duration": 14,
    "start_time": "2021-12-31T09:45:25.297Z"
   },
   {
    "duration": 606,
    "start_time": "2021-12-31T09:45:25.313Z"
   },
   {
    "duration": 10,
    "start_time": "2021-12-31T09:45:25.922Z"
   },
   {
    "duration": 35,
    "start_time": "2021-12-31T09:45:25.934Z"
   },
   {
    "duration": 4,
    "start_time": "2021-12-31T09:45:25.971Z"
   },
   {
    "duration": 8,
    "start_time": "2021-12-31T09:45:25.978Z"
   },
   {
    "duration": 12,
    "start_time": "2021-12-31T09:45:25.989Z"
   },
   {
    "duration": 1170,
    "start_time": "2021-12-31T09:45:26.003Z"
   },
   {
    "duration": 9,
    "start_time": "2021-12-31T09:45:27.175Z"
   },
   {
    "duration": 22,
    "start_time": "2021-12-31T09:45:27.186Z"
   },
   {
    "duration": 572,
    "start_time": "2021-12-31T09:45:27.211Z"
   },
   {
    "duration": 500,
    "start_time": "2021-12-31T09:45:27.786Z"
   },
   {
    "duration": 5,
    "start_time": "2021-12-31T09:45:28.288Z"
   },
   {
    "duration": 14,
    "start_time": "2021-12-31T09:45:28.296Z"
   },
   {
    "duration": 7,
    "start_time": "2021-12-31T09:45:28.313Z"
   },
   {
    "duration": 5,
    "start_time": "2021-12-31T09:45:28.323Z"
   },
   {
    "duration": 12,
    "start_time": "2021-12-31T09:45:28.368Z"
   },
   {
    "duration": 9,
    "start_time": "2021-12-31T09:45:28.382Z"
   },
   {
    "duration": 9,
    "start_time": "2021-12-31T09:45:28.393Z"
   },
   {
    "duration": 13,
    "start_time": "2021-12-31T09:45:28.404Z"
   },
   {
    "duration": 8,
    "start_time": "2021-12-31T09:45:28.419Z"
   },
   {
    "duration": 5,
    "start_time": "2021-12-31T09:45:28.471Z"
   },
   {
    "duration": 16,
    "start_time": "2021-12-31T09:45:28.479Z"
   },
   {
    "duration": 8,
    "start_time": "2021-12-31T09:45:28.498Z"
   },
   {
    "duration": 15,
    "start_time": "2021-12-31T09:45:28.508Z"
   },
   {
    "duration": 44,
    "start_time": "2021-12-31T09:45:28.525Z"
   },
   {
    "duration": 6,
    "start_time": "2021-12-31T09:45:28.572Z"
   },
   {
    "duration": 617,
    "start_time": "2021-12-31T09:45:28.580Z"
   },
   {
    "duration": 930,
    "start_time": "2021-12-31T09:45:29.200Z"
   },
   {
    "duration": 969,
    "start_time": "2021-12-31T09:45:30.133Z"
   },
   {
    "duration": 892,
    "start_time": "2021-12-31T09:45:31.105Z"
   },
   {
    "duration": 6,
    "start_time": "2021-12-31T09:45:32.000Z"
   },
   {
    "duration": 13,
    "start_time": "2021-12-31T09:45:32.008Z"
   },
   {
    "duration": 44,
    "start_time": "2021-12-31T09:45:32.024Z"
   },
   {
    "duration": 21,
    "start_time": "2021-12-31T09:45:32.070Z"
   },
   {
    "duration": 12,
    "start_time": "2021-12-31T09:45:32.094Z"
   },
   {
    "duration": 8,
    "start_time": "2021-12-31T09:45:32.109Z"
   },
   {
    "duration": 6,
    "start_time": "2021-12-31T09:45:32.119Z"
   },
   {
    "duration": 50,
    "start_time": "2021-12-31T09:45:32.127Z"
   },
   {
    "duration": 10,
    "start_time": "2021-12-31T09:45:32.180Z"
   },
   {
    "duration": 15,
    "start_time": "2021-12-31T09:45:32.193Z"
   },
   {
    "duration": 20,
    "start_time": "2021-12-31T09:45:32.211Z"
   },
   {
    "duration": 50,
    "start_time": "2021-12-31T09:45:32.234Z"
   },
   {
    "duration": 7,
    "start_time": "2021-12-31T09:45:32.286Z"
   },
   {
    "duration": 7,
    "start_time": "2021-12-31T09:45:32.295Z"
   },
   {
    "duration": 5,
    "start_time": "2021-12-31T09:45:32.304Z"
   },
   {
    "duration": 64,
    "start_time": "2021-12-31T09:45:32.312Z"
   },
   {
    "duration": 7,
    "start_time": "2021-12-31T09:45:32.378Z"
   },
   {
    "duration": 10,
    "start_time": "2021-12-31T10:01:01.396Z"
   },
   {
    "duration": 9,
    "start_time": "2021-12-31T10:01:06.891Z"
   },
   {
    "duration": 7,
    "start_time": "2021-12-31T10:01:33.417Z"
   },
   {
    "duration": 8,
    "start_time": "2021-12-31T10:01:55.449Z"
   },
   {
    "duration": 15,
    "start_time": "2021-12-31T10:09:28.667Z"
   },
   {
    "duration": 478,
    "start_time": "2021-12-31T10:11:20.214Z"
   },
   {
    "duration": 342,
    "start_time": "2021-12-31T10:11:25.742Z"
   },
   {
    "duration": 17,
    "start_time": "2021-12-31T10:11:32.518Z"
   },
   {
    "duration": 395,
    "start_time": "2021-12-31T10:11:39.357Z"
   },
   {
    "duration": 702,
    "start_time": "2021-12-31T10:14:07.657Z"
   },
   {
    "duration": 945,
    "start_time": "2021-12-31T10:14:40.334Z"
   },
   {
    "duration": 548,
    "start_time": "2021-12-31T10:15:13.899Z"
   },
   {
    "duration": 14,
    "start_time": "2021-12-31T10:21:24.430Z"
   },
   {
    "duration": 12,
    "start_time": "2021-12-31T10:24:51.140Z"
   },
   {
    "duration": 12,
    "start_time": "2021-12-31T10:25:15.037Z"
   },
   {
    "duration": 348,
    "start_time": "2021-12-31T10:25:32.105Z"
   },
   {
    "duration": 344,
    "start_time": "2021-12-31T10:25:37.509Z"
   },
   {
    "duration": 30,
    "start_time": "2021-12-31T10:28:25.197Z"
   },
   {
    "duration": 14,
    "start_time": "2021-12-31T10:33:37.079Z"
   },
   {
    "duration": 8,
    "start_time": "2021-12-31T10:40:20.626Z"
   },
   {
    "duration": 463,
    "start_time": "2022-01-04T12:02:47.562Z"
   },
   {
    "duration": 324,
    "start_time": "2022-01-04T12:02:55.581Z"
   },
   {
    "duration": -44,
    "start_time": "2022-01-04T12:02:55.955Z"
   },
   {
    "duration": -48,
    "start_time": "2022-01-04T12:02:55.960Z"
   },
   {
    "duration": -63,
    "start_time": "2022-01-04T12:02:55.976Z"
   },
   {
    "duration": -68,
    "start_time": "2022-01-04T12:02:55.982Z"
   },
   {
    "duration": -71,
    "start_time": "2022-01-04T12:02:55.987Z"
   },
   {
    "duration": -75,
    "start_time": "2022-01-04T12:02:55.993Z"
   },
   {
    "duration": -80,
    "start_time": "2022-01-04T12:02:55.999Z"
   },
   {
    "duration": -84,
    "start_time": "2022-01-04T12:02:56.004Z"
   },
   {
    "duration": -86,
    "start_time": "2022-01-04T12:02:56.008Z"
   },
   {
    "duration": -89,
    "start_time": "2022-01-04T12:02:56.013Z"
   },
   {
    "duration": -93,
    "start_time": "2022-01-04T12:02:56.018Z"
   },
   {
    "duration": -96,
    "start_time": "2022-01-04T12:02:56.022Z"
   },
   {
    "duration": -98,
    "start_time": "2022-01-04T12:02:56.026Z"
   },
   {
    "duration": -105,
    "start_time": "2022-01-04T12:02:56.034Z"
   },
   {
    "duration": -107,
    "start_time": "2022-01-04T12:02:56.038Z"
   },
   {
    "duration": -112,
    "start_time": "2022-01-04T12:02:56.044Z"
   },
   {
    "duration": -115,
    "start_time": "2022-01-04T12:02:56.049Z"
   },
   {
    "duration": -119,
    "start_time": "2022-01-04T12:02:56.054Z"
   },
   {
    "duration": -122,
    "start_time": "2022-01-04T12:02:56.059Z"
   },
   {
    "duration": -127,
    "start_time": "2022-01-04T12:02:56.065Z"
   },
   {
    "duration": -141,
    "start_time": "2022-01-04T12:02:56.080Z"
   },
   {
    "duration": -145,
    "start_time": "2022-01-04T12:02:56.086Z"
   },
   {
    "duration": -149,
    "start_time": "2022-01-04T12:02:56.091Z"
   },
   {
    "duration": -152,
    "start_time": "2022-01-04T12:02:56.096Z"
   },
   {
    "duration": -178,
    "start_time": "2022-01-04T12:02:56.123Z"
   },
   {
    "duration": -180,
    "start_time": "2022-01-04T12:02:56.127Z"
   },
   {
    "duration": -183,
    "start_time": "2022-01-04T12:02:56.131Z"
   },
   {
    "duration": -186,
    "start_time": "2022-01-04T12:02:56.136Z"
   },
   {
    "duration": -191,
    "start_time": "2022-01-04T12:02:56.142Z"
   },
   {
    "duration": -221,
    "start_time": "2022-01-04T12:02:56.173Z"
   },
   {
    "duration": -259,
    "start_time": "2022-01-04T12:02:56.213Z"
   },
   {
    "duration": -264,
    "start_time": "2022-01-04T12:02:56.219Z"
   },
   {
    "duration": -267,
    "start_time": "2022-01-04T12:02:56.224Z"
   },
   {
    "duration": -272,
    "start_time": "2022-01-04T12:02:56.230Z"
   },
   {
    "duration": -274,
    "start_time": "2022-01-04T12:02:56.234Z"
   },
   {
    "duration": -221,
    "start_time": "2022-01-04T12:02:56.238Z"
   },
   {
    "duration": -225,
    "start_time": "2022-01-04T12:02:56.243Z"
   },
   {
    "duration": -243,
    "start_time": "2022-01-04T12:02:56.263Z"
   },
   {
    "duration": -246,
    "start_time": "2022-01-04T12:02:56.267Z"
   },
   {
    "duration": -248,
    "start_time": "2022-01-04T12:02:56.271Z"
   },
   {
    "duration": -252,
    "start_time": "2022-01-04T12:02:56.276Z"
   },
   {
    "duration": -256,
    "start_time": "2022-01-04T12:02:56.282Z"
   },
   {
    "duration": -259,
    "start_time": "2022-01-04T12:02:56.286Z"
   },
   {
    "duration": -271,
    "start_time": "2022-01-04T12:02:56.300Z"
   },
   {
    "duration": -283,
    "start_time": "2022-01-04T12:02:56.313Z"
   },
   {
    "duration": -287,
    "start_time": "2022-01-04T12:02:56.318Z"
   },
   {
    "duration": -297,
    "start_time": "2022-01-04T12:02:56.330Z"
   },
   {
    "duration": -352,
    "start_time": "2022-01-04T12:02:56.387Z"
   },
   {
    "duration": -376,
    "start_time": "2022-01-04T12:02:56.412Z"
   },
   {
    "duration": -394,
    "start_time": "2022-01-04T12:02:56.431Z"
   },
   {
    "duration": -405,
    "start_time": "2022-01-04T12:02:56.444Z"
   },
   {
    "duration": -408,
    "start_time": "2022-01-04T12:02:56.448Z"
   },
   {
    "duration": -412,
    "start_time": "2022-01-04T12:02:56.453Z"
   },
   {
    "duration": -414,
    "start_time": "2022-01-04T12:02:56.457Z"
   },
   {
    "duration": -418,
    "start_time": "2022-01-04T12:02:56.462Z"
   },
   {
    "duration": 338,
    "start_time": "2022-01-04T12:03:10.222Z"
   },
   {
    "duration": 1428,
    "start_time": "2022-01-04T12:03:24.517Z"
   },
   {
    "duration": 47,
    "start_time": "2022-01-04T12:03:25.948Z"
   },
   {
    "duration": 31,
    "start_time": "2022-01-04T12:03:25.999Z"
   },
   {
    "duration": 22,
    "start_time": "2022-01-04T12:03:26.033Z"
   },
   {
    "duration": 18,
    "start_time": "2022-01-04T12:03:26.057Z"
   },
   {
    "duration": 71,
    "start_time": "2022-01-04T12:03:26.077Z"
   },
   {
    "duration": 7,
    "start_time": "2022-01-04T12:03:26.150Z"
   },
   {
    "duration": 7,
    "start_time": "2022-01-04T12:03:26.161Z"
   },
   {
    "duration": 7,
    "start_time": "2022-01-04T12:03:26.172Z"
   },
   {
    "duration": 39,
    "start_time": "2022-01-04T12:03:26.182Z"
   },
   {
    "duration": 6,
    "start_time": "2022-01-04T12:03:26.224Z"
   },
   {
    "duration": 7,
    "start_time": "2022-01-04T12:03:26.233Z"
   },
   {
    "duration": 21,
    "start_time": "2022-01-04T12:03:26.242Z"
   },
   {
    "duration": 16,
    "start_time": "2022-01-04T12:03:26.266Z"
   },
   {
    "duration": 49,
    "start_time": "2022-01-04T12:03:26.284Z"
   },
   {
    "duration": 13,
    "start_time": "2022-01-04T12:03:26.335Z"
   },
   {
    "duration": 16,
    "start_time": "2022-01-04T12:03:26.350Z"
   },
   {
    "duration": 50,
    "start_time": "2022-01-04T12:03:26.368Z"
   },
   {
    "duration": 6,
    "start_time": "2022-01-04T12:03:26.420Z"
   },
   {
    "duration": 11,
    "start_time": "2022-01-04T12:03:26.429Z"
   },
   {
    "duration": 9,
    "start_time": "2022-01-04T12:03:26.443Z"
   },
   {
    "duration": 5,
    "start_time": "2022-01-04T12:03:26.454Z"
   },
   {
    "duration": 58,
    "start_time": "2022-01-04T12:03:26.464Z"
   },
   {
    "duration": 8,
    "start_time": "2022-01-04T12:03:26.525Z"
   },
   {
    "duration": 23,
    "start_time": "2022-01-04T12:03:26.535Z"
   },
   {
    "duration": 57,
    "start_time": "2022-01-04T12:03:26.560Z"
   },
   {
    "duration": 6,
    "start_time": "2022-01-04T12:03:26.620Z"
   },
   {
    "duration": 23,
    "start_time": "2022-01-04T12:03:26.628Z"
   },
   {
    "duration": 16,
    "start_time": "2022-01-04T12:03:26.653Z"
   },
   {
    "duration": 28,
    "start_time": "2022-01-04T12:03:26.672Z"
   },
   {
    "duration": 745,
    "start_time": "2022-01-04T12:03:26.703Z"
   },
   {
    "duration": 9,
    "start_time": "2022-01-04T12:03:27.451Z"
   },
   {
    "duration": 11,
    "start_time": "2022-01-04T12:03:27.462Z"
   },
   {
    "duration": 4,
    "start_time": "2022-01-04T12:03:27.476Z"
   },
   {
    "duration": 43,
    "start_time": "2022-01-04T12:03:27.482Z"
   },
   {
    "duration": 9,
    "start_time": "2022-01-04T12:03:27.528Z"
   },
   {
    "duration": 6,
    "start_time": "2022-01-04T12:03:27.539Z"
   },
   {
    "duration": 8,
    "start_time": "2022-01-04T12:03:27.547Z"
   },
   {
    "duration": 11,
    "start_time": "2022-01-04T12:05:30.639Z"
   },
   {
    "duration": 638,
    "start_time": "2022-01-04T12:09:29.084Z"
   },
   {
    "duration": 493,
    "start_time": "2022-01-04T12:10:10.718Z"
   },
   {
    "duration": 8897,
    "start_time": "2022-01-04T12:10:27.934Z"
   },
   {
    "duration": 448,
    "start_time": "2022-01-04T12:10:47.862Z"
   },
   {
    "duration": 14,
    "start_time": "2022-01-04T12:11:12.883Z"
   },
   {
    "duration": 68,
    "start_time": "2022-01-04T12:11:24.478Z"
   },
   {
    "duration": 28,
    "start_time": "2022-01-04T12:12:46.671Z"
   },
   {
    "duration": 474,
    "start_time": "2022-01-04T12:13:45.358Z"
   },
   {
    "duration": 321,
    "start_time": "2022-01-04T12:14:24.591Z"
   },
   {
    "duration": 469,
    "start_time": "2022-01-04T12:14:39.854Z"
   },
   {
    "duration": 7717,
    "start_time": "2022-01-04T12:15:40.382Z"
   },
   {
    "duration": 34,
    "start_time": "2022-01-04T12:16:26.168Z"
   },
   {
    "duration": 475,
    "start_time": "2022-01-04T12:16:32.046Z"
   },
   {
    "duration": 371,
    "start_time": "2022-01-04T12:16:46.454Z"
   },
   {
    "duration": 623,
    "start_time": "2022-01-04T12:17:23.702Z"
   },
   {
    "duration": 552,
    "start_time": "2022-01-04T12:18:20.571Z"
   },
   {
    "duration": 598,
    "start_time": "2022-01-04T12:18:35.399Z"
   },
   {
    "duration": 590,
    "start_time": "2022-01-04T12:20:03.566Z"
   },
   {
    "duration": 591,
    "start_time": "2022-01-04T12:20:33.781Z"
   },
   {
    "duration": 13,
    "start_time": "2022-01-04T12:21:10.135Z"
   },
   {
    "duration": 7,
    "start_time": "2022-01-04T12:23:16.198Z"
   },
   {
    "duration": 360,
    "start_time": "2022-01-04T12:23:40.407Z"
   },
   {
    "duration": 5,
    "start_time": "2022-01-04T12:24:05.987Z"
   },
   {
    "duration": 5,
    "start_time": "2022-01-04T12:24:19.166Z"
   },
   {
    "duration": 11,
    "start_time": "2022-01-04T12:24:20.818Z"
   },
   {
    "duration": 10,
    "start_time": "2022-01-04T12:24:21.510Z"
   },
   {
    "duration": 6,
    "start_time": "2022-01-04T12:24:23.683Z"
   },
   {
    "duration": 6,
    "start_time": "2022-01-04T12:24:24.662Z"
   },
   {
    "duration": 682,
    "start_time": "2022-01-04T12:24:28.341Z"
   },
   {
    "duration": 6,
    "start_time": "2022-01-04T12:24:56.660Z"
   },
   {
    "duration": 6,
    "start_time": "2022-01-04T12:24:59.390Z"
   },
   {
    "duration": 19,
    "start_time": "2022-01-04T12:24:59.974Z"
   },
   {
    "duration": 7,
    "start_time": "2022-01-04T12:25:03.974Z"
   },
   {
    "duration": 9,
    "start_time": "2022-01-04T12:25:04.967Z"
   },
   {
    "duration": 12,
    "start_time": "2022-01-04T12:25:06.142Z"
   },
   {
    "duration": 10,
    "start_time": "2022-01-04T12:25:15.950Z"
   },
   {
    "duration": 571,
    "start_time": "2022-01-04T12:25:45.785Z"
   },
   {
    "duration": 862,
    "start_time": "2022-01-04T12:28:09.046Z"
   },
   {
    "duration": 633,
    "start_time": "2022-01-04T12:29:10.392Z"
   },
   {
    "duration": 932,
    "start_time": "2022-01-04T12:29:35.495Z"
   },
   {
    "duration": 1023,
    "start_time": "2022-01-04T12:29:54.423Z"
   },
   {
    "duration": 1054,
    "start_time": "2022-01-04T12:30:03.094Z"
   },
   {
    "duration": 1014,
    "start_time": "2022-01-04T12:30:14.791Z"
   },
   {
    "duration": 658,
    "start_time": "2022-01-04T12:30:27.015Z"
   },
   {
    "duration": 10,
    "start_time": "2022-01-04T12:34:57.614Z"
   },
   {
    "duration": 11,
    "start_time": "2022-01-04T12:34:58.224Z"
   },
   {
    "duration": 3,
    "start_time": "2022-01-04T12:35:01.761Z"
   },
   {
    "duration": 8,
    "start_time": "2022-01-04T12:35:02.217Z"
   },
   {
    "duration": 11,
    "start_time": "2022-01-04T12:35:02.683Z"
   },
   {
    "duration": 1021,
    "start_time": "2022-01-04T12:35:03.418Z"
   },
   {
    "duration": 1131,
    "start_time": "2022-01-04T12:35:22.824Z"
   },
   {
    "duration": 343,
    "start_time": "2022-01-04T12:36:12.012Z"
   },
   {
    "duration": 335,
    "start_time": "2022-01-04T12:36:38.809Z"
   },
   {
    "duration": 536,
    "start_time": "2022-01-04T12:36:53.710Z"
   },
   {
    "duration": 703,
    "start_time": "2022-01-04T12:41:06.024Z"
   },
   {
    "duration": 536,
    "start_time": "2022-01-04T12:41:26.578Z"
   },
   {
    "duration": 700,
    "start_time": "2022-01-04T12:41:33.805Z"
   },
   {
    "duration": 712,
    "start_time": "2022-01-04T12:42:56.583Z"
   },
   {
    "duration": 818,
    "start_time": "2022-01-04T12:43:06.249Z"
   },
   {
    "duration": 729,
    "start_time": "2022-01-04T12:43:17.217Z"
   },
   {
    "duration": 327,
    "start_time": "2022-01-04T12:45:14.505Z"
   },
   {
    "duration": 7,
    "start_time": "2022-01-04T12:45:26.160Z"
   },
   {
    "duration": 20,
    "start_time": "2022-01-04T12:45:28.423Z"
   },
   {
    "duration": 500,
    "start_time": "2022-01-04T12:45:31.097Z"
   },
   {
    "duration": 501,
    "start_time": "2022-01-04T12:45:33.984Z"
   },
   {
    "duration": 6,
    "start_time": "2022-01-04T12:45:37.463Z"
   },
   {
    "duration": 13,
    "start_time": "2022-01-04T12:45:55.128Z"
   },
   {
    "duration": 8,
    "start_time": "2022-01-04T12:46:04.672Z"
   },
   {
    "duration": 5,
    "start_time": "2022-01-04T12:46:06.153Z"
   },
   {
    "duration": 12,
    "start_time": "2022-01-04T12:46:06.649Z"
   },
   {
    "duration": 7,
    "start_time": "2022-01-04T12:46:07.434Z"
   },
   {
    "duration": 5,
    "start_time": "2022-01-04T12:46:08.009Z"
   },
   {
    "duration": 10,
    "start_time": "2022-01-04T12:46:08.520Z"
   },
   {
    "duration": 13,
    "start_time": "2022-01-04T12:46:35.688Z"
   },
   {
    "duration": 8,
    "start_time": "2022-01-04T12:46:37.273Z"
   },
   {
    "duration": 5,
    "start_time": "2022-01-04T12:46:37.936Z"
   },
   {
    "duration": 14,
    "start_time": "2022-01-04T12:47:03.970Z"
   },
   {
    "duration": 7,
    "start_time": "2022-01-04T12:47:06.289Z"
   },
   {
    "duration": 13,
    "start_time": "2022-01-04T12:47:33.969Z"
   },
   {
    "duration": 8,
    "start_time": "2022-01-04T12:47:36.432Z"
   },
   {
    "duration": 13,
    "start_time": "2022-01-04T12:47:43.733Z"
   },
   {
    "duration": 6,
    "start_time": "2022-01-04T12:47:51.863Z"
   },
   {
    "duration": 607,
    "start_time": "2022-01-04T12:47:54.305Z"
   },
   {
    "duration": 6,
    "start_time": "2022-01-04T21:02:47.387Z"
   },
   {
    "duration": 7,
    "start_time": "2022-01-04T21:02:48.708Z"
   },
   {
    "duration": 10,
    "start_time": "2022-01-04T21:02:49.442Z"
   },
   {
    "duration": 490,
    "start_time": "2022-01-04T21:02:50.544Z"
   },
   {
    "duration": 5,
    "start_time": "2022-01-04T21:03:30.051Z"
   },
   {
    "duration": 7,
    "start_time": "2022-01-04T21:03:30.899Z"
   },
   {
    "duration": 11,
    "start_time": "2022-01-04T21:03:31.477Z"
   },
   {
    "duration": 649,
    "start_time": "2022-01-04T21:03:32.315Z"
   },
   {
    "duration": 676,
    "start_time": "2022-01-04T21:04:19.290Z"
   },
   {
    "duration": 837,
    "start_time": "2022-01-04T21:04:26.811Z"
   },
   {
    "duration": 711,
    "start_time": "2022-01-04T21:04:43.019Z"
   },
   {
    "duration": 5,
    "start_time": "2022-01-04T21:04:59.946Z"
   },
   {
    "duration": 45,
    "start_time": "2022-01-04T21:04:59.954Z"
   },
   {
    "duration": 20,
    "start_time": "2022-01-04T21:05:00.003Z"
   },
   {
    "duration": 22,
    "start_time": "2022-01-04T21:05:00.026Z"
   },
   {
    "duration": 16,
    "start_time": "2022-01-04T21:05:00.050Z"
   },
   {
    "duration": 78,
    "start_time": "2022-01-04T21:05:00.068Z"
   },
   {
    "duration": 6,
    "start_time": "2022-01-04T21:05:00.148Z"
   },
   {
    "duration": 6,
    "start_time": "2022-01-04T21:05:00.157Z"
   },
   {
    "duration": 7,
    "start_time": "2022-01-04T21:05:00.166Z"
   },
   {
    "duration": 43,
    "start_time": "2022-01-04T21:05:00.180Z"
   },
   {
    "duration": 11,
    "start_time": "2022-01-04T21:05:00.225Z"
   },
   {
    "duration": 7,
    "start_time": "2022-01-04T21:05:00.239Z"
   },
   {
    "duration": 9,
    "start_time": "2022-01-04T21:05:00.249Z"
   },
   {
    "duration": 18,
    "start_time": "2022-01-04T21:05:00.260Z"
   },
   {
    "duration": 43,
    "start_time": "2022-01-04T21:05:00.280Z"
   },
   {
    "duration": 19,
    "start_time": "2022-01-04T21:05:00.326Z"
   },
   {
    "duration": 12,
    "start_time": "2022-01-04T21:05:00.347Z"
   },
   {
    "duration": 9,
    "start_time": "2022-01-04T21:05:00.362Z"
   },
   {
    "duration": 44,
    "start_time": "2022-01-04T21:05:00.373Z"
   },
   {
    "duration": 16,
    "start_time": "2022-01-04T21:05:00.419Z"
   },
   {
    "duration": 10,
    "start_time": "2022-01-04T21:05:00.437Z"
   },
   {
    "duration": 8,
    "start_time": "2022-01-04T21:05:00.449Z"
   },
   {
    "duration": 9,
    "start_time": "2022-01-04T21:05:00.462Z"
   },
   {
    "duration": 9,
    "start_time": "2022-01-04T21:05:00.474Z"
   },
   {
    "duration": 52,
    "start_time": "2022-01-04T21:05:00.485Z"
   },
   {
    "duration": 13,
    "start_time": "2022-01-04T21:05:00.540Z"
   },
   {
    "duration": 5,
    "start_time": "2022-01-04T21:05:00.556Z"
   },
   {
    "duration": 18,
    "start_time": "2022-01-04T21:05:00.563Z"
   },
   {
    "duration": 35,
    "start_time": "2022-01-04T21:05:00.584Z"
   },
   {
    "duration": 20,
    "start_time": "2022-01-04T21:05:00.621Z"
   },
   {
    "duration": 714,
    "start_time": "2022-01-04T21:05:00.644Z"
   },
   {
    "duration": 9,
    "start_time": "2022-01-04T21:05:01.360Z"
   },
   {
    "duration": 33,
    "start_time": "2022-01-04T21:05:01.372Z"
   },
   {
    "duration": 22,
    "start_time": "2022-01-04T21:05:01.408Z"
   },
   {
    "duration": 26,
    "start_time": "2022-01-04T21:05:01.432Z"
   },
   {
    "duration": 18,
    "start_time": "2022-01-04T21:05:01.460Z"
   },
   {
    "duration": 24,
    "start_time": "2022-01-04T21:05:01.481Z"
   },
   {
    "duration": 22,
    "start_time": "2022-01-04T21:05:01.507Z"
   },
   {
    "duration": 619,
    "start_time": "2022-01-04T21:05:01.531Z"
   },
   {
    "duration": 6,
    "start_time": "2022-01-04T21:05:02.152Z"
   },
   {
    "duration": 31,
    "start_time": "2022-01-04T21:05:02.161Z"
   },
   {
    "duration": 39,
    "start_time": "2022-01-04T21:05:02.195Z"
   },
   {
    "duration": 14,
    "start_time": "2022-01-04T21:05:02.236Z"
   },
   {
    "duration": 20,
    "start_time": "2022-01-04T21:05:02.253Z"
   },
   {
    "duration": 35,
    "start_time": "2022-01-04T21:05:02.275Z"
   },
   {
    "duration": 649,
    "start_time": "2022-01-04T21:05:02.313Z"
   },
   {
    "duration": 10,
    "start_time": "2022-01-04T21:05:02.965Z"
   },
   {
    "duration": 31,
    "start_time": "2022-01-04T21:05:02.977Z"
   },
   {
    "duration": 11,
    "start_time": "2022-01-04T21:05:03.010Z"
   },
   {
    "duration": 31,
    "start_time": "2022-01-04T21:05:03.023Z"
   },
   {
    "duration": 18,
    "start_time": "2022-01-04T21:05:03.056Z"
   },
   {
    "duration": 531,
    "start_time": "2022-01-04T21:05:03.076Z"
   },
   {
    "duration": 730,
    "start_time": "2022-01-04T21:05:03.609Z"
   },
   {
    "duration": 690,
    "start_time": "2022-01-04T21:05:34.067Z"
   },
   {
    "duration": 858,
    "start_time": "2022-01-04T21:05:42.491Z"
   },
   {
    "duration": 696,
    "start_time": "2022-01-04T21:05:57.995Z"
   },
   {
    "duration": 704,
    "start_time": "2022-01-04T21:06:17.049Z"
   },
   {
    "duration": 712,
    "start_time": "2022-01-04T21:06:30.572Z"
   },
   {
    "duration": 970,
    "start_time": "2022-01-07T17:43:06.113Z"
   },
   {
    "duration": 34,
    "start_time": "2022-01-07T17:43:07.085Z"
   },
   {
    "duration": 13,
    "start_time": "2022-01-07T17:43:07.121Z"
   },
   {
    "duration": 11,
    "start_time": "2022-01-07T17:43:07.136Z"
   },
   {
    "duration": 8,
    "start_time": "2022-01-07T17:43:07.149Z"
   },
   {
    "duration": 23,
    "start_time": "2022-01-07T17:43:07.159Z"
   },
   {
    "duration": 3,
    "start_time": "2022-01-07T17:43:07.183Z"
   },
   {
    "duration": 6,
    "start_time": "2022-01-07T17:43:07.188Z"
   },
   {
    "duration": 6,
    "start_time": "2022-01-07T17:43:07.195Z"
   },
   {
    "duration": 4,
    "start_time": "2022-01-07T17:43:07.226Z"
   },
   {
    "duration": 6,
    "start_time": "2022-01-07T17:43:07.231Z"
   },
   {
    "duration": 5,
    "start_time": "2022-01-07T17:43:07.238Z"
   },
   {
    "duration": 6,
    "start_time": "2022-01-07T17:43:07.244Z"
   },
   {
    "duration": 9,
    "start_time": "2022-01-07T17:43:07.251Z"
   },
   {
    "duration": 11,
    "start_time": "2022-01-07T17:43:07.262Z"
   },
   {
    "duration": 8,
    "start_time": "2022-01-07T17:43:07.274Z"
   },
   {
    "duration": 6,
    "start_time": "2022-01-07T17:43:07.284Z"
   },
   {
    "duration": 36,
    "start_time": "2022-01-07T17:43:07.292Z"
   },
   {
    "duration": 8,
    "start_time": "2022-01-07T17:43:07.330Z"
   },
   {
    "duration": 8,
    "start_time": "2022-01-07T17:43:07.339Z"
   },
   {
    "duration": 7,
    "start_time": "2022-01-07T17:43:07.348Z"
   },
   {
    "duration": 6,
    "start_time": "2022-01-07T17:43:07.357Z"
   },
   {
    "duration": 6,
    "start_time": "2022-01-07T17:43:07.366Z"
   },
   {
    "duration": 10,
    "start_time": "2022-01-07T17:43:07.374Z"
   },
   {
    "duration": 13,
    "start_time": "2022-01-07T17:43:07.385Z"
   },
   {
    "duration": 28,
    "start_time": "2022-01-07T17:43:07.399Z"
   },
   {
    "duration": 3,
    "start_time": "2022-01-07T17:43:07.429Z"
   },
   {
    "duration": 11,
    "start_time": "2022-01-07T17:43:07.434Z"
   },
   {
    "duration": 3,
    "start_time": "2022-01-07T17:43:07.447Z"
   },
   {
    "duration": 14,
    "start_time": "2022-01-07T17:43:07.451Z"
   },
   {
    "duration": 377,
    "start_time": "2022-01-07T17:43:07.466Z"
   },
   {
    "duration": 5,
    "start_time": "2022-01-07T17:43:07.845Z"
   },
   {
    "duration": 7,
    "start_time": "2022-01-07T17:43:07.852Z"
   },
   {
    "duration": 5,
    "start_time": "2022-01-07T17:43:07.860Z"
   },
   {
    "duration": 7,
    "start_time": "2022-01-07T17:43:07.866Z"
   },
   {
    "duration": 5,
    "start_time": "2022-01-07T17:43:07.874Z"
   },
   {
    "duration": 3,
    "start_time": "2022-01-07T17:43:07.881Z"
   },
   {
    "duration": 5,
    "start_time": "2022-01-07T17:43:07.885Z"
   },
   {
    "duration": 346,
    "start_time": "2022-01-07T17:43:07.891Z"
   },
   {
    "duration": 814,
    "start_time": "2022-01-07T17:43:07.425Z"
   },
   {
    "duration": 810,
    "start_time": "2022-01-07T17:43:07.431Z"
   },
   {
    "duration": 799,
    "start_time": "2022-01-07T17:43:07.443Z"
   },
   {
    "duration": 794,
    "start_time": "2022-01-07T17:43:07.449Z"
   },
   {
    "duration": 791,
    "start_time": "2022-01-07T17:43:07.453Z"
   },
   {
    "duration": 789,
    "start_time": "2022-01-07T17:43:07.457Z"
   },
   {
    "duration": 785,
    "start_time": "2022-01-07T17:43:07.462Z"
   },
   {
    "duration": 782,
    "start_time": "2022-01-07T17:43:07.466Z"
   },
   {
    "duration": 779,
    "start_time": "2022-01-07T17:43:07.470Z"
   },
   {
    "duration": 777,
    "start_time": "2022-01-07T17:43:07.474Z"
   },
   {
    "duration": 771,
    "start_time": "2022-01-07T17:43:07.481Z"
   },
   {
    "duration": 768,
    "start_time": "2022-01-07T17:43:07.485Z"
   },
   {
    "duration": 764,
    "start_time": "2022-01-07T17:43:07.490Z"
   },
   {
    "duration": 762,
    "start_time": "2022-01-07T17:43:07.494Z"
   },
   {
    "duration": 758,
    "start_time": "2022-01-07T17:43:07.499Z"
   },
   {
    "duration": 756,
    "start_time": "2022-01-07T17:43:07.502Z"
   },
   {
    "duration": 752,
    "start_time": "2022-01-07T17:43:07.507Z"
   },
   {
    "duration": 750,
    "start_time": "2022-01-07T17:43:07.511Z"
   },
   {
    "duration": 738,
    "start_time": "2022-01-07T17:43:07.524Z"
   },
   {
    "duration": 735,
    "start_time": "2022-01-07T17:43:07.528Z"
   },
   {
    "duration": 731,
    "start_time": "2022-01-07T17:43:07.533Z"
   },
   {
    "duration": 729,
    "start_time": "2022-01-07T17:43:07.537Z"
   },
   {
    "duration": 725,
    "start_time": "2022-01-07T17:43:07.542Z"
   },
   {
    "duration": 722,
    "start_time": "2022-01-07T17:43:07.546Z"
   },
   {
    "duration": 719,
    "start_time": "2022-01-07T17:43:07.550Z"
   },
   {
    "duration": 717,
    "start_time": "2022-01-07T17:43:07.554Z"
   },
   {
    "duration": 714,
    "start_time": "2022-01-07T17:43:07.558Z"
   },
   {
    "duration": 711,
    "start_time": "2022-01-07T17:43:07.562Z"
   },
   {
    "duration": 708,
    "start_time": "2022-01-07T17:43:07.566Z"
   },
   {
    "duration": 705,
    "start_time": "2022-01-07T17:43:07.570Z"
   },
   {
    "duration": 322,
    "start_time": "2022-01-07T17:44:56.024Z"
   },
   {
    "duration": 4,
    "start_time": "2022-01-07T17:45:06.070Z"
   },
   {
    "duration": 4,
    "start_time": "2022-01-07T17:45:08.575Z"
   },
   {
    "duration": 12,
    "start_time": "2022-01-07T17:45:12.350Z"
   },
   {
    "duration": 5,
    "start_time": "2022-01-07T17:45:15.718Z"
   },
   {
    "duration": 8,
    "start_time": "2022-01-07T17:45:17.601Z"
   },
   {
    "duration": 8,
    "start_time": "2022-01-07T17:45:18.678Z"
   },
   {
    "duration": 288,
    "start_time": "2022-01-07T17:45:24.490Z"
   },
   {
    "duration": 292,
    "start_time": "2022-01-07T17:46:35.872Z"
   },
   {
    "duration": 3,
    "start_time": "2022-01-07T17:47:30.381Z"
   },
   {
    "duration": 39,
    "start_time": "2022-01-07T17:47:30.385Z"
   },
   {
    "duration": 10,
    "start_time": "2022-01-07T17:47:30.426Z"
   },
   {
    "duration": 16,
    "start_time": "2022-01-07T17:47:30.438Z"
   },
   {
    "duration": 9,
    "start_time": "2022-01-07T17:47:30.456Z"
   },
   {
    "duration": 26,
    "start_time": "2022-01-07T17:47:30.467Z"
   },
   {
    "duration": 35,
    "start_time": "2022-01-07T17:47:30.496Z"
   },
   {
    "duration": 5,
    "start_time": "2022-01-07T17:47:30.533Z"
   },
   {
    "duration": 12,
    "start_time": "2022-01-07T17:47:30.539Z"
   },
   {
    "duration": 5,
    "start_time": "2022-01-07T17:47:30.553Z"
   },
   {
    "duration": 6,
    "start_time": "2022-01-07T17:47:30.559Z"
   },
   {
    "duration": 5,
    "start_time": "2022-01-07T17:47:30.566Z"
   },
   {
    "duration": 6,
    "start_time": "2022-01-07T17:47:30.572Z"
   },
   {
    "duration": 52,
    "start_time": "2022-01-07T17:47:30.579Z"
   },
   {
    "duration": 13,
    "start_time": "2022-01-07T17:47:30.633Z"
   },
   {
    "duration": 9,
    "start_time": "2022-01-07T17:47:30.647Z"
   },
   {
    "duration": 9,
    "start_time": "2022-01-07T17:47:30.658Z"
   },
   {
    "duration": 6,
    "start_time": "2022-01-07T17:47:30.669Z"
   },
   {
    "duration": 7,
    "start_time": "2022-01-07T17:47:30.679Z"
   },
   {
    "duration": 46,
    "start_time": "2022-01-07T17:47:30.688Z"
   },
   {
    "duration": 9,
    "start_time": "2022-01-07T17:47:30.735Z"
   },
   {
    "duration": 6,
    "start_time": "2022-01-07T17:47:30.746Z"
   },
   {
    "duration": 12,
    "start_time": "2022-01-07T17:47:30.753Z"
   },
   {
    "duration": 6,
    "start_time": "2022-01-07T17:47:30.766Z"
   },
   {
    "duration": 17,
    "start_time": "2022-01-07T17:47:30.773Z"
   },
   {
    "duration": 9,
    "start_time": "2022-01-07T17:47:30.791Z"
   },
   {
    "duration": 25,
    "start_time": "2022-01-07T17:47:30.802Z"
   },
   {
    "duration": 12,
    "start_time": "2022-01-07T17:47:30.829Z"
   },
   {
    "duration": 7,
    "start_time": "2022-01-07T17:47:30.842Z"
   },
   {
    "duration": 17,
    "start_time": "2022-01-07T17:47:30.851Z"
   },
   {
    "duration": 376,
    "start_time": "2022-01-07T17:47:30.870Z"
   },
   {
    "duration": 6,
    "start_time": "2022-01-07T17:47:31.247Z"
   },
   {
    "duration": 11,
    "start_time": "2022-01-07T17:47:31.254Z"
   },
   {
    "duration": 4,
    "start_time": "2022-01-07T17:47:31.267Z"
   },
   {
    "duration": 8,
    "start_time": "2022-01-07T17:47:31.273Z"
   },
   {
    "duration": 11,
    "start_time": "2022-01-07T17:47:31.282Z"
   },
   {
    "duration": 5,
    "start_time": "2022-01-07T17:47:31.294Z"
   },
   {
    "duration": 9,
    "start_time": "2022-01-07T17:47:31.300Z"
   },
   {
    "duration": 322,
    "start_time": "2022-01-07T17:47:31.310Z"
   },
   {
    "duration": 4,
    "start_time": "2022-01-07T17:47:31.633Z"
   },
   {
    "duration": 7,
    "start_time": "2022-01-07T17:47:31.638Z"
   },
   {
    "duration": 12,
    "start_time": "2022-01-07T17:47:31.646Z"
   },
   {
    "duration": 5,
    "start_time": "2022-01-07T17:47:31.659Z"
   },
   {
    "duration": 8,
    "start_time": "2022-01-07T17:47:31.666Z"
   },
   {
    "duration": 10,
    "start_time": "2022-01-07T17:47:31.675Z"
   },
   {
    "duration": 754,
    "start_time": "2022-01-07T17:47:31.686Z"
   },
   {
    "duration": 889,
    "start_time": "2022-01-07T17:47:31.554Z"
   },
   {
    "duration": 879,
    "start_time": "2022-01-07T17:47:31.565Z"
   },
   {
    "duration": 873,
    "start_time": "2022-01-07T17:47:31.572Z"
   },
   {
    "duration": 860,
    "start_time": "2022-01-07T17:47:31.586Z"
   },
   {
    "duration": 854,
    "start_time": "2022-01-07T17:47:31.592Z"
   },
   {
    "duration": 850,
    "start_time": "2022-01-07T17:47:31.597Z"
   },
   {
    "duration": 843,
    "start_time": "2022-01-07T17:47:31.605Z"
   },
   {
    "duration": 840,
    "start_time": "2022-01-07T17:47:31.609Z"
   },
   {
    "duration": 837,
    "start_time": "2022-01-07T17:47:31.613Z"
   },
   {
    "duration": 829,
    "start_time": "2022-01-07T17:47:31.622Z"
   },
   {
    "duration": 826,
    "start_time": "2022-01-07T17:47:31.626Z"
   },
   {
    "duration": 822,
    "start_time": "2022-01-07T17:47:31.631Z"
   },
   {
    "duration": 815,
    "start_time": "2022-01-07T17:47:31.638Z"
   },
   {
    "duration": 812,
    "start_time": "2022-01-07T17:47:31.642Z"
   },
   {
    "duration": 808,
    "start_time": "2022-01-07T17:47:31.647Z"
   },
   {
    "duration": 804,
    "start_time": "2022-01-07T17:47:31.652Z"
   },
   {
    "duration": 800,
    "start_time": "2022-01-07T17:47:31.657Z"
   },
   {
    "duration": 797,
    "start_time": "2022-01-07T17:47:31.661Z"
   },
   {
    "duration": 793,
    "start_time": "2022-01-07T17:47:31.666Z"
   },
   {
    "duration": 759,
    "start_time": "2022-01-07T17:47:31.701Z"
   },
   {
    "duration": 744,
    "start_time": "2022-01-07T17:47:31.717Z"
   },
   {
    "duration": 731,
    "start_time": "2022-01-07T17:47:31.731Z"
   },
   {
    "duration": 723,
    "start_time": "2022-01-07T17:47:31.739Z"
   },
   {
    "duration": 710,
    "start_time": "2022-01-07T17:47:31.753Z"
   },
   {
    "duration": 698,
    "start_time": "2022-01-07T17:47:31.766Z"
   },
   {
    "duration": 692,
    "start_time": "2022-01-07T17:47:31.773Z"
   },
   {
    "duration": 682,
    "start_time": "2022-01-07T17:47:31.784Z"
   },
   {
    "duration": 669,
    "start_time": "2022-01-07T17:47:31.798Z"
   },
   {
    "duration": 663,
    "start_time": "2022-01-07T17:47:31.805Z"
   },
   {
    "duration": 652,
    "start_time": "2022-01-07T17:47:31.817Z"
   },
   {
    "duration": 646,
    "start_time": "2022-01-07T17:47:31.824Z"
   },
   {
    "duration": 642,
    "start_time": "2022-01-07T17:47:31.828Z"
   },
   {
    "duration": 638,
    "start_time": "2022-01-07T17:47:31.833Z"
   },
   {
    "duration": 634,
    "start_time": "2022-01-07T17:47:31.838Z"
   },
   {
    "duration": 631,
    "start_time": "2022-01-07T17:47:31.842Z"
   },
   {
    "duration": 626,
    "start_time": "2022-01-07T17:47:31.848Z"
   },
   {
    "duration": 622,
    "start_time": "2022-01-07T17:47:31.853Z"
   },
   {
    "duration": 617,
    "start_time": "2022-01-07T17:47:31.858Z"
   },
   {
    "duration": 614,
    "start_time": "2022-01-07T17:47:31.862Z"
   },
   {
    "duration": 610,
    "start_time": "2022-01-07T17:47:31.867Z"
   },
   {
    "duration": 606,
    "start_time": "2022-01-07T17:47:31.872Z"
   },
   {
    "duration": 602,
    "start_time": "2022-01-07T17:47:31.877Z"
   },
   {
    "duration": 597,
    "start_time": "2022-01-07T17:47:31.882Z"
   },
   {
    "duration": 284,
    "start_time": "2022-01-07T17:49:11.158Z"
   },
   {
    "duration": 301,
    "start_time": "2022-01-07T17:49:47.879Z"
   },
   {
    "duration": 653,
    "start_time": "2022-01-07T17:51:25.344Z"
   },
   {
    "duration": 584,
    "start_time": "2022-01-07T17:52:00.919Z"
   },
   {
    "duration": 585,
    "start_time": "2022-01-07T17:52:10.152Z"
   },
   {
    "duration": 638,
    "start_time": "2022-01-07T17:52:28.061Z"
   },
   {
    "duration": 399,
    "start_time": "2022-01-07T17:55:35.253Z"
   },
   {
    "duration": 313,
    "start_time": "2022-01-07T17:55:51.216Z"
   },
   {
    "duration": 317,
    "start_time": "2022-01-07T17:56:04.647Z"
   },
   {
    "duration": 2,
    "start_time": "2022-01-07T17:56:14.635Z"
   },
   {
    "duration": 37,
    "start_time": "2022-01-07T17:56:14.639Z"
   },
   {
    "duration": 11,
    "start_time": "2022-01-07T17:56:14.678Z"
   },
   {
    "duration": 13,
    "start_time": "2022-01-07T17:56:14.690Z"
   },
   {
    "duration": 7,
    "start_time": "2022-01-07T17:56:14.704Z"
   },
   {
    "duration": 33,
    "start_time": "2022-01-07T17:56:14.713Z"
   },
   {
    "duration": 3,
    "start_time": "2022-01-07T17:56:14.747Z"
   },
   {
    "duration": 5,
    "start_time": "2022-01-07T17:56:14.752Z"
   },
   {
    "duration": 3,
    "start_time": "2022-01-07T17:56:14.759Z"
   },
   {
    "duration": 4,
    "start_time": "2022-01-07T17:56:14.764Z"
   },
   {
    "duration": 5,
    "start_time": "2022-01-07T17:56:14.770Z"
   },
   {
    "duration": 7,
    "start_time": "2022-01-07T17:56:14.776Z"
   },
   {
    "duration": 44,
    "start_time": "2022-01-07T17:56:14.785Z"
   },
   {
    "duration": 10,
    "start_time": "2022-01-07T17:56:14.830Z"
   },
   {
    "duration": 12,
    "start_time": "2022-01-07T17:56:14.841Z"
   },
   {
    "duration": 8,
    "start_time": "2022-01-07T17:56:14.855Z"
   },
   {
    "duration": 8,
    "start_time": "2022-01-07T17:56:14.864Z"
   },
   {
    "duration": 6,
    "start_time": "2022-01-07T17:56:14.874Z"
   },
   {
    "duration": 47,
    "start_time": "2022-01-07T17:56:14.882Z"
   },
   {
    "duration": 8,
    "start_time": "2022-01-07T17:56:14.931Z"
   },
   {
    "duration": 6,
    "start_time": "2022-01-07T17:56:14.941Z"
   },
   {
    "duration": 4,
    "start_time": "2022-01-07T17:56:14.949Z"
   },
   {
    "duration": 8,
    "start_time": "2022-01-07T17:56:14.954Z"
   },
   {
    "duration": 5,
    "start_time": "2022-01-07T17:56:14.966Z"
   },
   {
    "duration": 54,
    "start_time": "2022-01-07T17:56:14.974Z"
   },
   {
    "duration": 8,
    "start_time": "2022-01-07T17:56:15.030Z"
   },
   {
    "duration": 5,
    "start_time": "2022-01-07T17:56:15.039Z"
   },
   {
    "duration": 9,
    "start_time": "2022-01-07T17:56:15.045Z"
   },
   {
    "duration": 3,
    "start_time": "2022-01-07T17:56:15.056Z"
   },
   {
    "duration": 13,
    "start_time": "2022-01-07T17:56:15.060Z"
   },
   {
    "duration": 381,
    "start_time": "2022-01-07T17:56:15.074Z"
   },
   {
    "duration": 5,
    "start_time": "2022-01-07T17:56:15.457Z"
   },
   {
    "duration": 7,
    "start_time": "2022-01-07T17:56:15.464Z"
   },
   {
    "duration": 3,
    "start_time": "2022-01-07T17:56:15.472Z"
   },
   {
    "duration": 6,
    "start_time": "2022-01-07T17:56:15.477Z"
   },
   {
    "duration": 5,
    "start_time": "2022-01-07T17:56:15.484Z"
   },
   {
    "duration": 6,
    "start_time": "2022-01-07T17:56:15.490Z"
   },
   {
    "duration": 31,
    "start_time": "2022-01-07T17:56:15.497Z"
   },
   {
    "duration": 318,
    "start_time": "2022-01-07T17:56:15.529Z"
   },
   {
    "duration": 4,
    "start_time": "2022-01-07T17:56:15.849Z"
   },
   {
    "duration": 7,
    "start_time": "2022-01-07T17:56:15.854Z"
   },
   {
    "duration": 13,
    "start_time": "2022-01-07T17:56:15.863Z"
   },
   {
    "duration": 6,
    "start_time": "2022-01-07T17:56:15.877Z"
   },
   {
    "duration": 6,
    "start_time": "2022-01-07T17:56:15.884Z"
   },
   {
    "duration": 7,
    "start_time": "2022-01-07T17:56:15.892Z"
   },
   {
    "duration": 338,
    "start_time": "2022-01-07T17:56:15.901Z"
   },
   {
    "duration": 6,
    "start_time": "2022-01-07T17:56:16.240Z"
   },
   {
    "duration": 9,
    "start_time": "2022-01-07T17:56:16.247Z"
   },
   {
    "duration": 5,
    "start_time": "2022-01-07T17:56:16.257Z"
   },
   {
    "duration": 9,
    "start_time": "2022-01-07T17:56:16.263Z"
   },
   {
    "duration": 8,
    "start_time": "2022-01-07T17:56:16.273Z"
   },
   {
    "duration": 292,
    "start_time": "2022-01-07T17:56:16.282Z"
   },
   {
    "duration": 434,
    "start_time": "2022-01-07T17:56:16.575Z"
   },
   {
    "duration": 380,
    "start_time": "2022-01-07T17:56:17.011Z"
   },
   {
    "duration": 4,
    "start_time": "2022-01-07T17:56:17.393Z"
   },
   {
    "duration": 13,
    "start_time": "2022-01-07T17:56:17.398Z"
   },
   {
    "duration": 343,
    "start_time": "2022-01-07T17:56:17.413Z"
   },
   {
    "duration": 315,
    "start_time": "2022-01-07T17:56:17.757Z"
   },
   {
    "duration": 8,
    "start_time": "2022-01-07T17:56:18.074Z"
   },
   {
    "duration": 6,
    "start_time": "2022-01-07T17:56:18.083Z"
   },
   {
    "duration": 9,
    "start_time": "2022-01-07T17:56:18.090Z"
   },
   {
    "duration": 4,
    "start_time": "2022-01-07T17:56:18.101Z"
   },
   {
    "duration": 26,
    "start_time": "2022-01-07T17:56:18.106Z"
   },
   {
    "duration": 4,
    "start_time": "2022-01-07T17:56:18.134Z"
   },
   {
    "duration": 10,
    "start_time": "2022-01-07T17:56:18.139Z"
   },
   {
    "duration": 4,
    "start_time": "2022-01-07T17:56:18.150Z"
   },
   {
    "duration": 11,
    "start_time": "2022-01-07T17:56:18.155Z"
   },
   {
    "duration": 5,
    "start_time": "2022-01-07T17:56:18.167Z"
   },
   {
    "duration": 332,
    "start_time": "2022-01-07T17:56:18.176Z"
   },
   {
    "duration": 426,
    "start_time": "2022-01-07T17:56:18.510Z"
   },
   {
    "duration": 424,
    "start_time": "2022-01-07T17:56:18.937Z"
   },
   {
    "duration": 527,
    "start_time": "2022-01-07T17:56:19.363Z"
   },
   {
    "duration": 4,
    "start_time": "2022-01-07T17:56:19.891Z"
   },
   {
    "duration": 7,
    "start_time": "2022-01-07T17:56:19.896Z"
   },
   {
    "duration": 25,
    "start_time": "2022-01-07T17:56:19.904Z"
   },
   {
    "duration": 12,
    "start_time": "2022-01-07T17:56:19.930Z"
   },
   {
    "duration": 4,
    "start_time": "2022-01-07T17:56:19.943Z"
   },
   {
    "duration": 5,
    "start_time": "2022-01-07T17:56:19.949Z"
   },
   {
    "duration": 3,
    "start_time": "2022-01-07T17:56:19.955Z"
   },
   {
    "duration": 9,
    "start_time": "2022-01-07T17:56:19.959Z"
   },
   {
    "duration": 4,
    "start_time": "2022-01-07T17:56:19.970Z"
   },
   {
    "duration": 8,
    "start_time": "2022-01-07T17:56:19.975Z"
   },
   {
    "duration": 44,
    "start_time": "2022-01-07T17:56:19.984Z"
   },
   {
    "duration": 12,
    "start_time": "2022-01-07T17:56:20.029Z"
   },
   {
    "duration": 5,
    "start_time": "2022-01-07T17:56:20.042Z"
   },
   {
    "duration": 5,
    "start_time": "2022-01-07T17:56:20.049Z"
   },
   {
    "duration": 3,
    "start_time": "2022-01-07T17:56:20.055Z"
   },
   {
    "duration": 10,
    "start_time": "2022-01-07T17:56:20.059Z"
   },
   {
    "duration": 4,
    "start_time": "2022-01-07T17:56:20.070Z"
   },
   {
    "duration": 336,
    "start_time": "2022-01-07T17:57:53.531Z"
   },
   {
    "duration": 349,
    "start_time": "2022-01-07T17:58:01.406Z"
   },
   {
    "duration": 3,
    "start_time": "2022-01-07T17:58:15.568Z"
   },
   {
    "duration": 37,
    "start_time": "2022-01-07T17:58:15.573Z"
   },
   {
    "duration": 11,
    "start_time": "2022-01-07T17:58:15.611Z"
   },
   {
    "duration": 13,
    "start_time": "2022-01-07T17:58:15.624Z"
   },
   {
    "duration": 13,
    "start_time": "2022-01-07T17:58:15.639Z"
   },
   {
    "duration": 24,
    "start_time": "2022-01-07T17:58:15.653Z"
   },
   {
    "duration": 4,
    "start_time": "2022-01-07T17:58:15.678Z"
   },
   {
    "duration": 5,
    "start_time": "2022-01-07T17:58:15.683Z"
   },
   {
    "duration": 7,
    "start_time": "2022-01-07T17:58:15.689Z"
   },
   {
    "duration": 30,
    "start_time": "2022-01-07T17:58:15.698Z"
   },
   {
    "duration": 3,
    "start_time": "2022-01-07T17:58:15.729Z"
   },
   {
    "duration": 5,
    "start_time": "2022-01-07T17:58:15.733Z"
   },
   {
    "duration": 7,
    "start_time": "2022-01-07T17:58:15.739Z"
   },
   {
    "duration": 9,
    "start_time": "2022-01-07T17:58:15.747Z"
   },
   {
    "duration": 10,
    "start_time": "2022-01-07T17:58:15.758Z"
   },
   {
    "duration": 8,
    "start_time": "2022-01-07T17:58:15.770Z"
   },
   {
    "duration": 7,
    "start_time": "2022-01-07T17:58:15.779Z"
   },
   {
    "duration": 42,
    "start_time": "2022-01-07T17:58:15.787Z"
   },
   {
    "duration": 3,
    "start_time": "2022-01-07T17:58:15.830Z"
   },
   {
    "duration": 12,
    "start_time": "2022-01-07T17:58:15.835Z"
   },
   {
    "duration": 9,
    "start_time": "2022-01-07T17:58:15.849Z"
   },
   {
    "duration": 6,
    "start_time": "2022-01-07T17:58:15.859Z"
   },
   {
    "duration": 9,
    "start_time": "2022-01-07T17:58:15.867Z"
   },
   {
    "duration": 6,
    "start_time": "2022-01-07T17:58:15.880Z"
   },
   {
    "duration": 11,
    "start_time": "2022-01-07T17:58:15.888Z"
   },
   {
    "duration": 31,
    "start_time": "2022-01-07T17:58:15.901Z"
   },
   {
    "duration": 4,
    "start_time": "2022-01-07T17:58:15.933Z"
   },
   {
    "duration": 10,
    "start_time": "2022-01-07T17:58:15.938Z"
   },
   {
    "duration": 4,
    "start_time": "2022-01-07T17:58:15.949Z"
   },
   {
    "duration": 11,
    "start_time": "2022-01-07T17:58:15.954Z"
   },
   {
    "duration": 531,
    "start_time": "2022-01-07T17:58:15.966Z"
   },
   {
    "duration": 7,
    "start_time": "2022-01-07T17:58:16.499Z"
   },
   {
    "duration": 21,
    "start_time": "2022-01-07T17:58:16.508Z"
   },
   {
    "duration": 4,
    "start_time": "2022-01-07T17:58:16.531Z"
   },
   {
    "duration": 8,
    "start_time": "2022-01-07T17:58:16.536Z"
   },
   {
    "duration": 7,
    "start_time": "2022-01-07T17:58:16.546Z"
   },
   {
    "duration": 4,
    "start_time": "2022-01-07T17:58:16.554Z"
   },
   {
    "duration": 5,
    "start_time": "2022-01-07T17:58:16.560Z"
   },
   {
    "duration": 346,
    "start_time": "2022-01-07T17:58:16.567Z"
   },
   {
    "duration": 4,
    "start_time": "2022-01-07T17:58:16.914Z"
   },
   {
    "duration": 10,
    "start_time": "2022-01-07T17:58:16.919Z"
   },
   {
    "duration": 13,
    "start_time": "2022-01-07T17:58:16.930Z"
   },
   {
    "duration": 5,
    "start_time": "2022-01-07T17:58:16.944Z"
   },
   {
    "duration": 9,
    "start_time": "2022-01-07T17:58:16.950Z"
   },
   {
    "duration": 9,
    "start_time": "2022-01-07T17:58:16.960Z"
   },
   {
    "duration": 358,
    "start_time": "2022-01-07T17:58:16.970Z"
   },
   {
    "duration": 5,
    "start_time": "2022-01-07T17:58:17.330Z"
   },
   {
    "duration": 8,
    "start_time": "2022-01-07T17:58:17.336Z"
   },
   {
    "duration": 3,
    "start_time": "2022-01-07T17:58:17.346Z"
   },
   {
    "duration": 6,
    "start_time": "2022-01-07T17:58:17.350Z"
   },
   {
    "duration": 7,
    "start_time": "2022-01-07T17:58:17.357Z"
   },
   {
    "duration": 302,
    "start_time": "2022-01-07T17:58:17.365Z"
   },
   {
    "duration": 382,
    "start_time": "2022-01-07T17:58:17.669Z"
   },
   {
    "duration": 502,
    "start_time": "2022-01-07T17:58:18.053Z"
   },
   {
    "duration": 6,
    "start_time": "2022-01-07T17:58:18.556Z"
   },
   {
    "duration": 12,
    "start_time": "2022-01-07T17:58:18.563Z"
   },
   {
    "duration": 311,
    "start_time": "2022-01-07T17:58:18.576Z"
   },
   {
    "duration": 338,
    "start_time": "2022-01-07T17:58:18.889Z"
   },
   {
    "duration": 8,
    "start_time": "2022-01-07T17:58:19.229Z"
   },
   {
    "duration": 9,
    "start_time": "2022-01-07T17:58:19.238Z"
   },
   {
    "duration": 12,
    "start_time": "2022-01-07T17:58:19.249Z"
   },
   {
    "duration": 5,
    "start_time": "2022-01-07T17:58:19.262Z"
   },
   {
    "duration": 7,
    "start_time": "2022-01-07T17:58:19.269Z"
   },
   {
    "duration": 4,
    "start_time": "2022-01-07T17:58:19.278Z"
   },
   {
    "duration": 9,
    "start_time": "2022-01-07T17:58:19.283Z"
   },
   {
    "duration": 4,
    "start_time": "2022-01-07T17:58:19.294Z"
   },
   {
    "duration": 31,
    "start_time": "2022-01-07T17:58:19.300Z"
   },
   {
    "duration": 3,
    "start_time": "2022-01-07T17:58:19.332Z"
   },
   {
    "duration": 323,
    "start_time": "2022-01-07T17:58:19.340Z"
   },
   {
    "duration": 422,
    "start_time": "2022-01-07T17:58:19.664Z"
   },
   {
    "duration": 425,
    "start_time": "2022-01-07T17:58:20.087Z"
   },
   {
    "duration": 437,
    "start_time": "2022-01-07T17:58:20.513Z"
   },
   {
    "duration": 4,
    "start_time": "2022-01-07T17:58:20.951Z"
   },
   {
    "duration": 8,
    "start_time": "2022-01-07T17:58:20.956Z"
   },
   {
    "duration": 10,
    "start_time": "2022-01-07T17:58:20.965Z"
   },
   {
    "duration": 14,
    "start_time": "2022-01-07T17:58:20.976Z"
   },
   {
    "duration": 6,
    "start_time": "2022-01-07T17:58:20.991Z"
   },
   {
    "duration": 8,
    "start_time": "2022-01-07T17:58:20.999Z"
   },
   {
    "duration": 18,
    "start_time": "2022-01-07T17:58:21.009Z"
   },
   {
    "duration": 12,
    "start_time": "2022-01-07T17:58:21.028Z"
   },
   {
    "duration": 4,
    "start_time": "2022-01-07T17:58:21.042Z"
   },
   {
    "duration": 6,
    "start_time": "2022-01-07T17:58:21.047Z"
   },
   {
    "duration": 13,
    "start_time": "2022-01-07T17:58:21.055Z"
   },
   {
    "duration": 11,
    "start_time": "2022-01-07T17:58:21.069Z"
   },
   {
    "duration": 6,
    "start_time": "2022-01-07T17:58:21.081Z"
   },
   {
    "duration": 4,
    "start_time": "2022-01-07T17:58:21.088Z"
   },
   {
    "duration": 5,
    "start_time": "2022-01-07T17:58:21.094Z"
   },
   {
    "duration": 30,
    "start_time": "2022-01-07T17:58:21.101Z"
   },
   {
    "duration": 10,
    "start_time": "2022-01-07T17:58:21.132Z"
   },
   {
    "duration": 341,
    "start_time": "2022-01-07T17:59:14.943Z"
   },
   {
    "duration": 6,
    "start_time": "2022-01-07T17:59:20.551Z"
   },
   {
    "duration": 7,
    "start_time": "2022-01-07T17:59:22.104Z"
   },
   {
    "duration": 4,
    "start_time": "2022-01-07T17:59:23.887Z"
   },
   {
    "duration": 6,
    "start_time": "2022-01-07T17:59:24.895Z"
   },
   {
    "duration": 7,
    "start_time": "2022-01-07T17:59:25.799Z"
   },
   {
    "duration": 295,
    "start_time": "2022-01-07T17:59:38.727Z"
   },
   {
    "duration": 426,
    "start_time": "2022-01-07T17:59:46.512Z"
   },
   {
    "duration": 479,
    "start_time": "2022-01-07T17:59:50.088Z"
   },
   {
    "duration": 3,
    "start_time": "2022-01-07T18:00:22.701Z"
   },
   {
    "duration": 36,
    "start_time": "2022-01-07T18:00:22.706Z"
   },
   {
    "duration": 11,
    "start_time": "2022-01-07T18:00:22.744Z"
   },
   {
    "duration": 17,
    "start_time": "2022-01-07T18:00:22.756Z"
   },
   {
    "duration": 12,
    "start_time": "2022-01-07T18:00:22.775Z"
   },
   {
    "duration": 45,
    "start_time": "2022-01-07T18:00:22.789Z"
   },
   {
    "duration": 4,
    "start_time": "2022-01-07T18:00:22.836Z"
   },
   {
    "duration": 6,
    "start_time": "2022-01-07T18:00:22.842Z"
   },
   {
    "duration": 6,
    "start_time": "2022-01-07T18:00:22.851Z"
   },
   {
    "duration": 4,
    "start_time": "2022-01-07T18:00:22.859Z"
   },
   {
    "duration": 5,
    "start_time": "2022-01-07T18:00:22.865Z"
   },
   {
    "duration": 3,
    "start_time": "2022-01-07T18:00:22.872Z"
   },
   {
    "duration": 52,
    "start_time": "2022-01-07T18:00:22.877Z"
   },
   {
    "duration": 10,
    "start_time": "2022-01-07T18:00:22.931Z"
   },
   {
    "duration": 12,
    "start_time": "2022-01-07T18:00:22.942Z"
   },
   {
    "duration": 9,
    "start_time": "2022-01-07T18:00:22.956Z"
   },
   {
    "duration": 9,
    "start_time": "2022-01-07T18:00:22.967Z"
   },
   {
    "duration": 6,
    "start_time": "2022-01-07T18:00:22.977Z"
   },
   {
    "duration": 5,
    "start_time": "2022-01-07T18:00:22.984Z"
   },
   {
    "duration": 40,
    "start_time": "2022-01-07T18:00:22.990Z"
   },
   {
    "duration": 7,
    "start_time": "2022-01-07T18:00:23.031Z"
   },
   {
    "duration": 5,
    "start_time": "2022-01-07T18:00:23.039Z"
   },
   {
    "duration": 7,
    "start_time": "2022-01-07T18:00:23.045Z"
   },
   {
    "duration": 5,
    "start_time": "2022-01-07T18:00:23.054Z"
   },
   {
    "duration": 14,
    "start_time": "2022-01-07T18:00:23.060Z"
   },
   {
    "duration": 8,
    "start_time": "2022-01-07T18:00:23.075Z"
   },
   {
    "duration": 4,
    "start_time": "2022-01-07T18:00:23.084Z"
   },
   {
    "duration": 39,
    "start_time": "2022-01-07T18:00:23.089Z"
   },
   {
    "duration": 5,
    "start_time": "2022-01-07T18:00:23.129Z"
   },
   {
    "duration": 15,
    "start_time": "2022-01-07T18:00:23.135Z"
   },
   {
    "duration": 369,
    "start_time": "2022-01-07T18:00:23.151Z"
   },
   {
    "duration": 5,
    "start_time": "2022-01-07T18:00:23.522Z"
   },
   {
    "duration": 6,
    "start_time": "2022-01-07T18:00:23.529Z"
   },
   {
    "duration": 5,
    "start_time": "2022-01-07T18:00:23.537Z"
   },
   {
    "duration": 8,
    "start_time": "2022-01-07T18:00:23.544Z"
   },
   {
    "duration": 6,
    "start_time": "2022-01-07T18:00:23.553Z"
   },
   {
    "duration": 3,
    "start_time": "2022-01-07T18:00:23.560Z"
   },
   {
    "duration": 4,
    "start_time": "2022-01-07T18:00:23.565Z"
   },
   {
    "duration": 340,
    "start_time": "2022-01-07T18:00:23.570Z"
   },
   {
    "duration": 4,
    "start_time": "2022-01-07T18:00:23.911Z"
   },
   {
    "duration": 11,
    "start_time": "2022-01-07T18:00:23.917Z"
   },
   {
    "duration": 10,
    "start_time": "2022-01-07T18:00:23.929Z"
   },
   {
    "duration": 5,
    "start_time": "2022-01-07T18:00:23.940Z"
   },
   {
    "duration": 7,
    "start_time": "2022-01-07T18:00:23.946Z"
   },
   {
    "duration": 11,
    "start_time": "2022-01-07T18:00:23.954Z"
   },
   {
    "duration": 366,
    "start_time": "2022-01-07T18:00:23.966Z"
   },
   {
    "duration": 5,
    "start_time": "2022-01-07T18:00:24.334Z"
   },
   {
    "duration": 10,
    "start_time": "2022-01-07T18:00:24.340Z"
   },
   {
    "duration": 4,
    "start_time": "2022-01-07T18:00:24.351Z"
   },
   {
    "duration": 6,
    "start_time": "2022-01-07T18:00:24.356Z"
   },
   {
    "duration": 11,
    "start_time": "2022-01-07T18:00:24.364Z"
   },
   {
    "duration": 278,
    "start_time": "2022-01-07T18:00:28.832Z"
   },
   {
    "duration": 374,
    "start_time": "2022-01-07T18:00:33.121Z"
   },
   {
    "duration": 376,
    "start_time": "2022-01-07T18:00:36.272Z"
   },
   {
    "duration": 5,
    "start_time": "2022-01-07T18:00:43.240Z"
   },
   {
    "duration": 12,
    "start_time": "2022-01-07T18:00:46.983Z"
   },
   {
    "duration": 325,
    "start_time": "2022-01-07T18:00:48.096Z"
   },
   {
    "duration": 331,
    "start_time": "2022-01-07T18:00:50.792Z"
   },
   {
    "duration": 8,
    "start_time": "2022-01-07T18:00:55.776Z"
   },
   {
    "duration": 6,
    "start_time": "2022-01-07T18:01:05.025Z"
   },
   {
    "duration": 8,
    "start_time": "2022-01-07T18:01:05.487Z"
   },
   {
    "duration": 6,
    "start_time": "2022-01-07T18:01:06.263Z"
   },
   {
    "duration": 9,
    "start_time": "2022-01-07T18:01:06.687Z"
   },
   {
    "duration": 5,
    "start_time": "2022-01-07T18:01:07.175Z"
   },
   {
    "duration": 8,
    "start_time": "2022-01-07T18:01:08.216Z"
   },
   {
    "duration": 5,
    "start_time": "2022-01-07T18:01:09.448Z"
   },
   {
    "duration": 8,
    "start_time": "2022-01-07T18:01:09.897Z"
   },
   {
    "duration": 3,
    "start_time": "2022-01-07T18:01:17.304Z"
   },
   {
    "duration": 310,
    "start_time": "2022-01-07T18:01:19.320Z"
   },
   {
    "duration": 322,
    "start_time": "2022-01-07T18:02:49.480Z"
   },
   {
    "duration": 541,
    "start_time": "2022-01-07T18:04:25.769Z"
   },
   {
    "duration": 7060,
    "start_time": "2022-01-07T18:04:49.473Z"
   },
   {
    "duration": 6888,
    "start_time": "2022-01-07T18:05:02.745Z"
   },
   {
    "duration": 268,
    "start_time": "2022-01-07T18:05:31.728Z"
   },
   {
    "duration": 448,
    "start_time": "2022-01-07T18:06:02.769Z"
   },
   {
    "duration": 261,
    "start_time": "2022-01-07T18:06:16.944Z"
   },
   {
    "duration": 262,
    "start_time": "2022-01-07T18:06:44.217Z"
   },
   {
    "duration": 432,
    "start_time": "2022-01-07T18:08:48.374Z"
   },
   {
    "duration": 438,
    "start_time": "2022-01-07T18:08:52.352Z"
   },
   {
    "duration": 447,
    "start_time": "2022-01-07T18:08:55.955Z"
   },
   {
    "duration": 4,
    "start_time": "2022-01-07T18:09:00.440Z"
   },
   {
    "duration": 7,
    "start_time": "2022-01-07T18:09:03.256Z"
   },
   {
    "duration": 11,
    "start_time": "2022-01-07T18:09:03.872Z"
   },
   {
    "duration": 11,
    "start_time": "2022-01-07T18:09:06.081Z"
   },
   {
    "duration": 4,
    "start_time": "2022-01-07T18:09:08.360Z"
   },
   {
    "duration": 4,
    "start_time": "2022-01-07T18:09:08.936Z"
   },
   {
    "duration": 2,
    "start_time": "2022-01-07T18:09:12.480Z"
   },
   {
    "duration": 9,
    "start_time": "2022-01-07T18:09:12.920Z"
   },
   {
    "duration": 5,
    "start_time": "2022-01-07T18:09:13.368Z"
   },
   {
    "duration": 6,
    "start_time": "2022-01-07T18:09:17.393Z"
   },
   {
    "duration": 11,
    "start_time": "2022-01-07T18:09:17.810Z"
   },
   {
    "duration": 11,
    "start_time": "2022-01-07T18:09:18.202Z"
   },
   {
    "duration": 4,
    "start_time": "2022-01-07T18:09:20.632Z"
   },
   {
    "duration": 4,
    "start_time": "2022-01-07T18:09:21.072Z"
   },
   {
    "duration": 2,
    "start_time": "2022-01-07T18:09:24.600Z"
   },
   {
    "duration": 9,
    "start_time": "2022-01-07T18:09:25.016Z"
   },
   {
    "duration": 4,
    "start_time": "2022-01-07T18:09:25.432Z"
   },
   {
    "duration": 1452,
    "start_time": "2022-01-08T15:42:59.533Z"
   },
   {
    "duration": 45,
    "start_time": "2022-01-08T15:43:00.988Z"
   },
   {
    "duration": 25,
    "start_time": "2022-01-08T15:43:01.036Z"
   },
   {
    "duration": 74,
    "start_time": "2022-01-08T15:43:01.064Z"
   },
   {
    "duration": 46,
    "start_time": "2022-01-08T15:43:01.140Z"
   },
   {
    "duration": 42,
    "start_time": "2022-01-08T15:43:01.189Z"
   },
   {
    "duration": 6,
    "start_time": "2022-01-08T15:43:01.234Z"
   },
   {
    "duration": 26,
    "start_time": "2022-01-08T15:43:01.244Z"
   },
   {
    "duration": 47,
    "start_time": "2022-01-08T15:43:01.273Z"
   },
   {
    "duration": 21,
    "start_time": "2022-01-08T15:43:01.323Z"
   },
   {
    "duration": 38,
    "start_time": "2022-01-08T15:43:01.347Z"
   },
   {
    "duration": 20,
    "start_time": "2022-01-08T15:43:01.387Z"
   },
   {
    "duration": 29,
    "start_time": "2022-01-08T15:43:01.410Z"
   },
   {
    "duration": 47,
    "start_time": "2022-01-08T15:43:01.441Z"
   },
   {
    "duration": 62,
    "start_time": "2022-01-08T15:43:01.490Z"
   },
   {
    "duration": 43,
    "start_time": "2022-01-08T15:43:01.555Z"
   },
   {
    "duration": 26,
    "start_time": "2022-01-08T15:43:01.601Z"
   },
   {
    "duration": 26,
    "start_time": "2022-01-08T15:43:01.629Z"
   },
   {
    "duration": 31,
    "start_time": "2022-01-08T15:43:01.658Z"
   },
   {
    "duration": 27,
    "start_time": "2022-01-08T15:43:01.692Z"
   },
   {
    "duration": 28,
    "start_time": "2022-01-08T15:43:01.722Z"
   },
   {
    "duration": 11,
    "start_time": "2022-01-08T15:43:01.753Z"
   },
   {
    "duration": 35,
    "start_time": "2022-01-08T15:43:01.771Z"
   },
   {
    "duration": 44,
    "start_time": "2022-01-08T15:43:01.810Z"
   },
   {
    "duration": 29,
    "start_time": "2022-01-08T15:43:01.856Z"
   },
   {
    "duration": 25,
    "start_time": "2022-01-08T15:43:01.887Z"
   },
   {
    "duration": 9,
    "start_time": "2022-01-08T15:43:01.915Z"
   },
   {
    "duration": 29,
    "start_time": "2022-01-08T15:43:01.927Z"
   },
   {
    "duration": 23,
    "start_time": "2022-01-08T15:43:01.959Z"
   },
   {
    "duration": 33,
    "start_time": "2022-01-08T15:43:01.984Z"
   },
   {
    "duration": 723,
    "start_time": "2022-01-08T15:43:02.019Z"
   },
   {
    "duration": 10,
    "start_time": "2022-01-08T15:43:02.744Z"
   },
   {
    "duration": 26,
    "start_time": "2022-01-08T15:43:02.756Z"
   },
   {
    "duration": 6,
    "start_time": "2022-01-08T15:43:02.785Z"
   },
   {
    "duration": 30,
    "start_time": "2022-01-08T15:43:02.793Z"
   },
   {
    "duration": 8,
    "start_time": "2022-01-08T15:43:02.826Z"
   },
   {
    "duration": 10,
    "start_time": "2022-01-08T15:43:02.836Z"
   },
   {
    "duration": 13,
    "start_time": "2022-01-08T15:43:02.848Z"
   },
   {
    "duration": 639,
    "start_time": "2022-01-08T15:43:02.864Z"
   },
   {
    "duration": 20,
    "start_time": "2022-01-08T15:43:03.506Z"
   },
   {
    "duration": 8,
    "start_time": "2022-01-08T15:43:03.529Z"
   },
   {
    "duration": 25,
    "start_time": "2022-01-08T15:43:03.540Z"
   },
   {
    "duration": 11,
    "start_time": "2022-01-08T15:43:03.567Z"
   },
   {
    "duration": 8,
    "start_time": "2022-01-08T15:43:03.581Z"
   },
   {
    "duration": 39,
    "start_time": "2022-01-08T15:43:03.592Z"
   },
   {
    "duration": 1235,
    "start_time": "2022-01-08T15:43:03.634Z"
   },
   {
    "duration": 1665,
    "start_time": "2022-01-08T15:43:03.208Z"
   },
   {
    "duration": 1658,
    "start_time": "2022-01-08T15:43:03.216Z"
   },
   {
    "duration": 1652,
    "start_time": "2022-01-08T15:43:03.223Z"
   },
   {
    "duration": 1649,
    "start_time": "2022-01-08T15:43:03.228Z"
   },
   {
    "duration": 1643,
    "start_time": "2022-01-08T15:43:03.235Z"
   },
   {
    "duration": 1638,
    "start_time": "2022-01-08T15:43:03.241Z"
   },
   {
    "duration": 1630,
    "start_time": "2022-01-08T15:43:03.250Z"
   },
   {
    "duration": 1621,
    "start_time": "2022-01-08T15:43:03.261Z"
   },
   {
    "duration": 1613,
    "start_time": "2022-01-08T15:43:03.270Z"
   },
   {
    "duration": 1606,
    "start_time": "2022-01-08T15:43:03.278Z"
   },
   {
    "duration": 1596,
    "start_time": "2022-01-08T15:43:03.289Z"
   },
   {
    "duration": 1590,
    "start_time": "2022-01-08T15:43:03.297Z"
   },
   {
    "duration": 1575,
    "start_time": "2022-01-08T15:43:03.313Z"
   },
   {
    "duration": 1569,
    "start_time": "2022-01-08T15:43:03.320Z"
   },
   {
    "duration": 1564,
    "start_time": "2022-01-08T15:43:03.326Z"
   },
   {
    "duration": 1591,
    "start_time": "2022-01-08T15:43:03.332Z"
   },
   {
    "duration": 1585,
    "start_time": "2022-01-08T15:43:03.339Z"
   },
   {
    "duration": 1582,
    "start_time": "2022-01-08T15:43:03.344Z"
   },
   {
    "duration": 1576,
    "start_time": "2022-01-08T15:43:03.352Z"
   },
   {
    "duration": 1572,
    "start_time": "2022-01-08T15:43:03.357Z"
   },
   {
    "duration": 1567,
    "start_time": "2022-01-08T15:43:03.363Z"
   },
   {
    "duration": 1563,
    "start_time": "2022-01-08T15:43:03.368Z"
   },
   {
    "duration": 1558,
    "start_time": "2022-01-08T15:43:03.375Z"
   },
   {
    "duration": 1554,
    "start_time": "2022-01-08T15:43:03.380Z"
   },
   {
    "duration": 1546,
    "start_time": "2022-01-08T15:43:03.390Z"
   },
   {
    "duration": 1542,
    "start_time": "2022-01-08T15:43:03.395Z"
   },
   {
    "duration": 1537,
    "start_time": "2022-01-08T15:43:03.402Z"
   },
   {
    "duration": 1534,
    "start_time": "2022-01-08T15:43:03.408Z"
   },
   {
    "duration": 1520,
    "start_time": "2022-01-08T15:43:03.423Z"
   },
   {
    "duration": 1517,
    "start_time": "2022-01-08T15:43:03.428Z"
   },
   {
    "duration": 1512,
    "start_time": "2022-01-08T15:43:03.434Z"
   },
   {
    "duration": 1508,
    "start_time": "2022-01-08T15:43:03.440Z"
   },
   {
    "duration": 1504,
    "start_time": "2022-01-08T15:43:03.446Z"
   },
   {
    "duration": 1500,
    "start_time": "2022-01-08T15:43:03.452Z"
   },
   {
    "duration": 1496,
    "start_time": "2022-01-08T15:43:03.458Z"
   },
   {
    "duration": 1493,
    "start_time": "2022-01-08T15:43:03.463Z"
   },
   {
    "duration": 1487,
    "start_time": "2022-01-08T15:43:03.470Z"
   },
   {
    "duration": 1482,
    "start_time": "2022-01-08T15:43:03.476Z"
   },
   {
    "duration": 1478,
    "start_time": "2022-01-08T15:43:03.482Z"
   },
   {
    "duration": 1536,
    "start_time": "2022-01-08T15:43:03.487Z"
   },
   {
    "duration": 1531,
    "start_time": "2022-01-08T15:43:03.493Z"
   },
   {
    "duration": 1528,
    "start_time": "2022-01-08T15:43:03.498Z"
   },
   {
    "duration": 1523,
    "start_time": "2022-01-08T15:43:03.504Z"
   },
   {
    "duration": 1516,
    "start_time": "2022-01-08T15:43:03.512Z"
   },
   {
    "duration": 1083,
    "start_time": "2022-01-08T15:47:08.809Z"
   },
   {
    "duration": 563,
    "start_time": "2022-01-08T15:47:37.050Z"
   },
   {
    "duration": 550,
    "start_time": "2022-01-08T15:47:39.908Z"
   },
   {
    "duration": 574,
    "start_time": "2022-01-08T15:48:01.977Z"
   },
   {
    "duration": 1475,
    "start_time": "2022-01-08T15:49:02.190Z"
   },
   {
    "duration": 45,
    "start_time": "2022-01-08T15:49:03.667Z"
   },
   {
    "duration": 28,
    "start_time": "2022-01-08T15:49:03.715Z"
   },
   {
    "duration": 23,
    "start_time": "2022-01-08T15:49:03.746Z"
   },
   {
    "duration": 16,
    "start_time": "2022-01-08T15:49:03.771Z"
   },
   {
    "duration": 76,
    "start_time": "2022-01-08T15:49:03.789Z"
   },
   {
    "duration": 10,
    "start_time": "2022-01-08T15:49:03.867Z"
   },
   {
    "duration": 7,
    "start_time": "2022-01-08T15:49:03.881Z"
   },
   {
    "duration": 34,
    "start_time": "2022-01-08T15:49:03.891Z"
   },
   {
    "duration": 7,
    "start_time": "2022-01-08T15:49:03.927Z"
   },
   {
    "duration": 7,
    "start_time": "2022-01-08T15:49:03.937Z"
   },
   {
    "duration": 6,
    "start_time": "2022-01-08T15:49:03.947Z"
   },
   {
    "duration": 9,
    "start_time": "2022-01-08T15:49:03.955Z"
   },
   {
    "duration": 58,
    "start_time": "2022-01-08T15:49:03.966Z"
   },
   {
    "duration": 19,
    "start_time": "2022-01-08T15:49:04.027Z"
   },
   {
    "duration": 13,
    "start_time": "2022-01-08T15:49:04.048Z"
   },
   {
    "duration": 13,
    "start_time": "2022-01-08T15:49:04.063Z"
   },
   {
    "duration": 46,
    "start_time": "2022-01-08T15:49:04.078Z"
   },
   {
    "duration": 8,
    "start_time": "2022-01-08T15:49:04.126Z"
   },
   {
    "duration": 11,
    "start_time": "2022-01-08T15:49:04.137Z"
   },
   {
    "duration": 11,
    "start_time": "2022-01-08T15:49:04.150Z"
   },
   {
    "duration": 6,
    "start_time": "2022-01-08T15:49:04.164Z"
   },
   {
    "duration": 51,
    "start_time": "2022-01-08T15:49:04.178Z"
   },
   {
    "duration": 13,
    "start_time": "2022-01-08T15:49:04.234Z"
   },
   {
    "duration": 22,
    "start_time": "2022-01-08T15:49:04.249Z"
   },
   {
    "duration": 14,
    "start_time": "2022-01-08T15:49:04.273Z"
   },
   {
    "duration": 38,
    "start_time": "2022-01-08T15:49:04.289Z"
   },
   {
    "duration": 15,
    "start_time": "2022-01-08T15:49:04.329Z"
   },
   {
    "duration": 5,
    "start_time": "2022-01-08T15:49:04.347Z"
   },
   {
    "duration": 27,
    "start_time": "2022-01-08T15:49:04.354Z"
   },
   {
    "duration": 698,
    "start_time": "2022-01-08T15:49:04.383Z"
   },
   {
    "duration": 10,
    "start_time": "2022-01-08T15:49:05.083Z"
   },
   {
    "duration": 28,
    "start_time": "2022-01-08T15:49:05.096Z"
   },
   {
    "duration": 7,
    "start_time": "2022-01-08T15:49:05.127Z"
   },
   {
    "duration": 11,
    "start_time": "2022-01-08T15:49:05.137Z"
   },
   {
    "duration": 7,
    "start_time": "2022-01-08T15:49:05.151Z"
   },
   {
    "duration": 6,
    "start_time": "2022-01-08T15:49:05.160Z"
   },
   {
    "duration": 11,
    "start_time": "2022-01-08T15:49:05.169Z"
   },
   {
    "duration": 629,
    "start_time": "2022-01-08T15:49:05.182Z"
   },
   {
    "duration": 13,
    "start_time": "2022-01-08T15:49:05.813Z"
   },
   {
    "duration": 9,
    "start_time": "2022-01-08T15:49:05.829Z"
   },
   {
    "duration": 23,
    "start_time": "2022-01-08T15:49:05.840Z"
   },
   {
    "duration": 15,
    "start_time": "2022-01-08T15:49:05.865Z"
   },
   {
    "duration": 14,
    "start_time": "2022-01-08T15:49:05.883Z"
   },
   {
    "duration": 30,
    "start_time": "2022-01-08T15:49:05.899Z"
   },
   {
    "duration": 573,
    "start_time": "2022-01-08T15:49:05.931Z"
   },
   {
    "duration": 18,
    "start_time": "2022-01-08T15:49:06.506Z"
   },
   {
    "duration": 12,
    "start_time": "2022-01-08T15:49:06.527Z"
   },
   {
    "duration": 6,
    "start_time": "2022-01-08T15:49:06.542Z"
   },
   {
    "duration": 8,
    "start_time": "2022-01-08T15:49:06.550Z"
   },
   {
    "duration": 11,
    "start_time": "2022-01-08T15:49:06.560Z"
   },
   {
    "duration": 534,
    "start_time": "2022-01-08T15:49:06.573Z"
   },
   {
    "duration": 671,
    "start_time": "2022-01-08T15:49:07.110Z"
   },
   {
    "duration": 698,
    "start_time": "2022-01-08T15:49:07.783Z"
   },
   {
    "duration": 9,
    "start_time": "2022-01-08T15:49:08.484Z"
   },
   {
    "duration": 38,
    "start_time": "2022-01-08T15:49:08.495Z"
   },
   {
    "duration": 559,
    "start_time": "2022-01-08T15:49:08.535Z"
   },
   {
    "duration": 603,
    "start_time": "2022-01-08T15:49:09.098Z"
   },
   {
    "duration": 23,
    "start_time": "2022-01-08T15:49:09.705Z"
   },
   {
    "duration": 14,
    "start_time": "2022-01-08T15:49:09.730Z"
   },
   {
    "duration": 20,
    "start_time": "2022-01-08T15:49:09.747Z"
   },
   {
    "duration": 7,
    "start_time": "2022-01-08T15:49:09.770Z"
   },
   {
    "duration": 13,
    "start_time": "2022-01-08T15:49:09.779Z"
   },
   {
    "duration": 33,
    "start_time": "2022-01-08T15:49:09.794Z"
   },
   {
    "duration": 14,
    "start_time": "2022-01-08T15:49:09.829Z"
   },
   {
    "duration": 7,
    "start_time": "2022-01-08T15:49:09.845Z"
   },
   {
    "duration": 15,
    "start_time": "2022-01-08T15:49:09.854Z"
   },
   {
    "duration": 5,
    "start_time": "2022-01-08T15:49:09.876Z"
   },
   {
    "duration": 613,
    "start_time": "2022-01-08T15:49:09.884Z"
   },
   {
    "duration": 495,
    "start_time": "2022-01-08T15:49:10.500Z"
   },
   {
    "duration": 808,
    "start_time": "2022-01-08T15:49:10.998Z"
   },
   {
    "duration": 795,
    "start_time": "2022-01-08T15:49:11.809Z"
   },
   {
    "duration": 866,
    "start_time": "2022-01-08T15:49:12.607Z"
   },
   {
    "duration": 7,
    "start_time": "2022-01-08T15:49:13.475Z"
   },
   {
    "duration": 24,
    "start_time": "2022-01-08T15:49:13.484Z"
   },
   {
    "duration": 24,
    "start_time": "2022-01-08T15:49:13.511Z"
   },
   {
    "duration": 22,
    "start_time": "2022-01-08T15:49:13.538Z"
   },
   {
    "duration": 7,
    "start_time": "2022-01-08T15:49:13.563Z"
   },
   {
    "duration": 7,
    "start_time": "2022-01-08T15:49:13.572Z"
   },
   {
    "duration": 5,
    "start_time": "2022-01-08T15:49:13.581Z"
   },
   {
    "duration": 15,
    "start_time": "2022-01-08T15:49:13.624Z"
   },
   {
    "duration": 16,
    "start_time": "2022-01-08T15:49:13.642Z"
   },
   {
    "duration": 9,
    "start_time": "2022-01-08T15:49:13.661Z"
   },
   {
    "duration": 21,
    "start_time": "2022-01-08T15:49:13.673Z"
   },
   {
    "duration": 18,
    "start_time": "2022-01-08T15:49:13.723Z"
   },
   {
    "duration": 7,
    "start_time": "2022-01-08T15:49:13.744Z"
   },
   {
    "duration": 6,
    "start_time": "2022-01-08T15:49:13.753Z"
   },
   {
    "duration": 5,
    "start_time": "2022-01-08T15:49:13.761Z"
   },
   {
    "duration": 60,
    "start_time": "2022-01-08T15:49:13.768Z"
   },
   {
    "duration": 6,
    "start_time": "2022-01-08T15:49:13.830Z"
   }
  ],
  "kernelspec": {
   "display_name": "Python 3 (ipykernel)",
   "language": "python",
   "name": "python3"
  },
  "language_info": {
   "codemirror_mode": {
    "name": "ipython",
    "version": 3
   },
   "file_extension": ".py",
   "mimetype": "text/x-python",
   "name": "python",
   "nbconvert_exporter": "python",
   "pygments_lexer": "ipython3",
   "version": "3.9.12"
  },
  "toc": {
   "base_numbering": 1,
   "nav_menu": {},
   "number_sections": true,
   "sideBar": true,
   "skip_h1_title": true,
   "title_cell": "Содержание",
   "title_sidebar": "Contents",
   "toc_cell": true,
   "toc_position": {
    "height": "calc(100% - 180px)",
    "left": "10px",
    "top": "150px",
    "width": "366.391px"
   },
   "toc_section_display": true,
   "toc_window_display": false
  }
 },
 "nbformat": 4,
 "nbformat_minor": 2
}
