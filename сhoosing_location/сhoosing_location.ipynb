{
 "cells": [
  {
   "cell_type": "markdown",
   "metadata": {},
   "source": [
    "# Выбор локации для скважины"
   ]
  },
  {
   "cell_type": "markdown",
   "metadata": {},
   "source": [
    "Допустим, вы работаете в добывающей компании «ГлавРосГосНефть». Нужно решить, где бурить новую скважину.\n",
    "\n",
    "Вам предоставлены пробы нефти в трёх регионах: в каждом 10 000 месторождений, где измерили качество нефти и объём её запасов. Постройте модель машинного обучения, которая поможет определить регион, где добыча принесёт наибольшую прибыль. Проанализируйте возможную прибыль и риски техникой *Bootstrap.*\n",
    "\n",
    "Шаги для выбора локации:\n",
    "\n",
    "- В избранном регионе ищут месторождения, для каждого определяют значения признаков;\n",
    "- Строят модель и оценивают объём запасов;\n",
    "- Выбирают месторождения с самым высокими оценками значений. Количество месторождений зависит от бюджета компании и стоимости разработки одной скважины;\n",
    "- Прибыль равна суммарной прибыли отобранных месторождений."
   ]
  },
  {
   "cell_type": "markdown",
   "metadata": {},
   "source": [
    "# Описание данных"
   ]
  },
  {
   "cell_type": "markdown",
   "metadata": {},
   "source": [
    "* `id` — уникальный идентификатор скважины\n",
    "\n",
    "\n",
    "* `f0`, ` f1`, `f2` — три признака точек (неважно, что они означают, но сами признаки значимы)\n",
    "\n",
    "\n",
    "* `product` — объём запасов в скважине (тыс. баррелей)\n",
    "\n",
    "**Условия задачи:**\n",
    "\n",
    "* Для обучения модели подходит только линейная регрессия (остальные — недостаточно предсказуемые).\n",
    "\n",
    "* При разведке региона исследуют 500 точек, из которых с помощью машинного обучения выбирают 200 лучших для разработки.\n",
    "\n",
    "* Бюджет на разработку скважин в регионе — 10 млрд рублей.\n",
    "\n",
    "* При нынешних ценах один баррель сырья приносит 450 рублей дохода. Доход с каждой единицы продукта составляет 450 тыс. рублей, поскольку объём указан в тысячах баррелей.\n",
    "\n",
    "* После оценки рисков нужно оставить лишь те регионы, в которых вероятность убытков меньше 2.5%. Среди них выбирают регион с наибольшей средней прибылью.\n",
    "\n",
    "Данные синтетические: детали контрактов и характеристики месторождений не разглашаются."
   ]
  },
  {
   "cell_type": "markdown",
   "metadata": {
    "toc": true
   },
   "source": [
    "<h1>Содержание<span class=\"tocSkip\"></span></h1>\n",
    "<div class=\"toc\"><ul class=\"toc-item\"><li><span><a href=\"#Загрузка-и-подготовка-данных\" data-toc-modified-id=\"Загрузка-и-подготовка-данных-1\"><span class=\"toc-item-num\">1&nbsp;&nbsp;</span>Загрузка и подготовка данных</a></span><ul class=\"toc-item\"><li><span><a href=\"#Импорт-используемых-библиотек\" data-toc-modified-id=\"Импорт-используемых-библиотек-1.1\"><span class=\"toc-item-num\">1.1&nbsp;&nbsp;</span>Импорт используемых библиотек</a></span></li><li><span><a href=\"#Чтение-файлов-с-данными\" data-toc-modified-id=\"Чтение-файлов-с-данными-1.2\"><span class=\"toc-item-num\">1.2&nbsp;&nbsp;</span>Чтение файлов с данными</a></span></li><li><span><a href=\"#Изучение-общей-информации\" data-toc-modified-id=\"Изучение-общей-информации-1.3\"><span class=\"toc-item-num\">1.3&nbsp;&nbsp;</span>Изучение общей информации</a></span></li><li><span><a href=\"#Выводы\" data-toc-modified-id=\"Выводы-1.4\"><span class=\"toc-item-num\">1.4&nbsp;&nbsp;</span>Выводы</a></span></li></ul></li><li><span><a href=\"#Обучение-и-проверка-модели\" data-toc-modified-id=\"Обучение-и-проверка-модели-2\"><span class=\"toc-item-num\">2&nbsp;&nbsp;</span>Обучение и проверка модели</a></span><ul class=\"toc-item\"><li><span><a href=\"#Данные-геологоразведки-первого-региона\" data-toc-modified-id=\"Данные-геологоразведки-первого-региона-2.1\"><span class=\"toc-item-num\">2.1&nbsp;&nbsp;</span>Данные геологоразведки первого региона</a></span></li><li><span><a href=\"#Данные-геологоразведки-второго-региона\" data-toc-modified-id=\"Данные-геологоразведки-второго-региона-2.2\"><span class=\"toc-item-num\">2.2&nbsp;&nbsp;</span>Данные геологоразведки второго региона</a></span></li><li><span><a href=\"#Данные-геологоразведки-третьего-региона\" data-toc-modified-id=\"Данные-геологоразведки-третьего-региона-2.3\"><span class=\"toc-item-num\">2.3&nbsp;&nbsp;</span>Данные геологоразведки третьего региона</a></span></li><li><span><a href=\"#Выводы\" data-toc-modified-id=\"Выводы-2.4\"><span class=\"toc-item-num\">2.4&nbsp;&nbsp;</span>Выводы</a></span></li></ul></li><li><span><a href=\"#Подготовка-к-расчёту-прибыли\" data-toc-modified-id=\"Подготовка-к-расчёту-прибыли-3\"><span class=\"toc-item-num\">3&nbsp;&nbsp;</span>Подготовка к расчёту прибыли</a></span></li><li><span><a href=\"#Расчёт-прибыли-и-рисков\" data-toc-modified-id=\"Расчёт-прибыли-и-рисков-4\"><span class=\"toc-item-num\">4&nbsp;&nbsp;</span>Расчёт прибыли и рисков</a></span></li><li><span><a href=\"#Выводы\" data-toc-modified-id=\"Выводы-5\"><span class=\"toc-item-num\">5&nbsp;&nbsp;</span>Выводы</a></span></li></ul></div>"
   ]
  },
  {
   "cell_type": "markdown",
   "metadata": {},
   "source": [
    "## Загрузка и подготовка данных"
   ]
  },
  {
   "cell_type": "markdown",
   "metadata": {},
   "source": [
    "### Импорт используемых библиотек"
   ]
  },
  {
   "cell_type": "code",
   "execution_count": 48,
   "metadata": {},
   "outputs": [],
   "source": [
    "# импорт библиотеки pandas\n",
    "import pandas as pd\n",
    "\n",
    "# импорт библиотеки numpy\n",
    "import numpy as np\n",
    "\n",
    "# импорт библиотеки matplotlib\n",
    "import matplotlib.pyplot as plt\n",
    "\n",
    "# импорт функции train_test_split из библиотеки sklearn\n",
    "from sklearn.model_selection import train_test_split\n",
    "\n",
    "# импорт алгоритма линейной регрессии из библиотеки sklearn\n",
    "from sklearn.linear_model import LinearRegression\n",
    "\n",
    "# импорт кросс-валидации из библиотеки sklearn\n",
    "from sklearn.model_selection import cross_val_score\n",
    "\n",
    "# импорт коэффициента детерминации из библиотеки sklearn\n",
    "from sklearn.metrics import r2_score\n",
    "\n",
    "# импорт средней квадратичной ошибки из библиотеки sklearn\n",
    "from sklearn.metrics import mean_squared_error\n",
    "\n",
    "# импорт библиотеки stats из библиотеки scipy\n",
    "from scipy import stats as st\n",
    "\n",
    "# импорт генератора случайных чисел из библиотеки numpy\n",
    "from numpy.random import RandomState"
   ]
  },
  {
   "cell_type": "markdown",
   "metadata": {},
   "source": [
    "### Чтение файлов с данными"
   ]
  },
  {
   "cell_type": "code",
   "execution_count": 49,
   "metadata": {},
   "outputs": [],
   "source": [
    "# чтение файлов с данными\n",
    "data_1 = pd.read_csv('/datasets/geo_data_0.csv')\n",
    "data_2 = pd.read_csv('/datasets/geo_data_1.csv')\n",
    "data_3 = pd.read_csv('/datasets/geo_data_2.csv')"
   ]
  },
  {
   "cell_type": "markdown",
   "metadata": {},
   "source": [
    "### Изучение общей информации"
   ]
  },
  {
   "cell_type": "code",
   "execution_count": 50,
   "metadata": {},
   "outputs": [
    {
     "name": "stdout",
     "output_type": "stream",
     "text": [
      "\u001b[1m          Первые 5 строк датасетов          \u001b[0m\n",
      "============================================\n",
      "\u001b[1m\u001b[35m   Данные геологоразведки первого региона   \u001b[0m\u001b[0m\n"
     ]
    },
    {
     "data": {
      "text/html": [
       "<div>\n",
       "<style scoped>\n",
       "    .dataframe tbody tr th:only-of-type {\n",
       "        vertical-align: middle;\n",
       "    }\n",
       "\n",
       "    .dataframe tbody tr th {\n",
       "        vertical-align: top;\n",
       "    }\n",
       "\n",
       "    .dataframe thead th {\n",
       "        text-align: right;\n",
       "    }\n",
       "</style>\n",
       "<table border=\"1\" class=\"dataframe\">\n",
       "  <thead>\n",
       "    <tr style=\"text-align: right;\">\n",
       "      <th></th>\n",
       "      <th>id</th>\n",
       "      <th>f0</th>\n",
       "      <th>f1</th>\n",
       "      <th>f2</th>\n",
       "      <th>product</th>\n",
       "    </tr>\n",
       "  </thead>\n",
       "  <tbody>\n",
       "    <tr>\n",
       "      <th>0</th>\n",
       "      <td>txEyH</td>\n",
       "      <td>0.705745</td>\n",
       "      <td>-0.497823</td>\n",
       "      <td>1.221170</td>\n",
       "      <td>105.280062</td>\n",
       "    </tr>\n",
       "    <tr>\n",
       "      <th>1</th>\n",
       "      <td>2acmU</td>\n",
       "      <td>1.334711</td>\n",
       "      <td>-0.340164</td>\n",
       "      <td>4.365080</td>\n",
       "      <td>73.037750</td>\n",
       "    </tr>\n",
       "    <tr>\n",
       "      <th>2</th>\n",
       "      <td>409Wp</td>\n",
       "      <td>1.022732</td>\n",
       "      <td>0.151990</td>\n",
       "      <td>1.419926</td>\n",
       "      <td>85.265647</td>\n",
       "    </tr>\n",
       "    <tr>\n",
       "      <th>3</th>\n",
       "      <td>iJLyR</td>\n",
       "      <td>-0.032172</td>\n",
       "      <td>0.139033</td>\n",
       "      <td>2.978566</td>\n",
       "      <td>168.620776</td>\n",
       "    </tr>\n",
       "    <tr>\n",
       "      <th>4</th>\n",
       "      <td>Xdl7t</td>\n",
       "      <td>1.988431</td>\n",
       "      <td>0.155413</td>\n",
       "      <td>4.751769</td>\n",
       "      <td>154.036647</td>\n",
       "    </tr>\n",
       "  </tbody>\n",
       "</table>\n",
       "</div>"
      ],
      "text/plain": [
       "      id        f0        f1        f2     product\n",
       "0  txEyH  0.705745 -0.497823  1.221170  105.280062\n",
       "1  2acmU  1.334711 -0.340164  4.365080   73.037750\n",
       "2  409Wp  1.022732  0.151990  1.419926   85.265647\n",
       "3  iJLyR -0.032172  0.139033  2.978566  168.620776\n",
       "4  Xdl7t  1.988431  0.155413  4.751769  154.036647"
      ]
     },
     "metadata": {},
     "output_type": "display_data"
    },
    {
     "name": "stdout",
     "output_type": "stream",
     "text": [
      "\n",
      "\u001b[1m\u001b[31m   Данные геологоразведки второго региона   \u001b[0m\u001b[0m\n"
     ]
    },
    {
     "data": {
      "text/html": [
       "<div>\n",
       "<style scoped>\n",
       "    .dataframe tbody tr th:only-of-type {\n",
       "        vertical-align: middle;\n",
       "    }\n",
       "\n",
       "    .dataframe tbody tr th {\n",
       "        vertical-align: top;\n",
       "    }\n",
       "\n",
       "    .dataframe thead th {\n",
       "        text-align: right;\n",
       "    }\n",
       "</style>\n",
       "<table border=\"1\" class=\"dataframe\">\n",
       "  <thead>\n",
       "    <tr style=\"text-align: right;\">\n",
       "      <th></th>\n",
       "      <th>id</th>\n",
       "      <th>f0</th>\n",
       "      <th>f1</th>\n",
       "      <th>f2</th>\n",
       "      <th>product</th>\n",
       "    </tr>\n",
       "  </thead>\n",
       "  <tbody>\n",
       "    <tr>\n",
       "      <th>0</th>\n",
       "      <td>kBEdx</td>\n",
       "      <td>-15.001348</td>\n",
       "      <td>-8.276000</td>\n",
       "      <td>-0.005876</td>\n",
       "      <td>3.179103</td>\n",
       "    </tr>\n",
       "    <tr>\n",
       "      <th>1</th>\n",
       "      <td>62mP7</td>\n",
       "      <td>14.272088</td>\n",
       "      <td>-3.475083</td>\n",
       "      <td>0.999183</td>\n",
       "      <td>26.953261</td>\n",
       "    </tr>\n",
       "    <tr>\n",
       "      <th>2</th>\n",
       "      <td>vyE1P</td>\n",
       "      <td>6.263187</td>\n",
       "      <td>-5.948386</td>\n",
       "      <td>5.001160</td>\n",
       "      <td>134.766305</td>\n",
       "    </tr>\n",
       "    <tr>\n",
       "      <th>3</th>\n",
       "      <td>KcrkZ</td>\n",
       "      <td>-13.081196</td>\n",
       "      <td>-11.506057</td>\n",
       "      <td>4.999415</td>\n",
       "      <td>137.945408</td>\n",
       "    </tr>\n",
       "    <tr>\n",
       "      <th>4</th>\n",
       "      <td>AHL4O</td>\n",
       "      <td>12.702195</td>\n",
       "      <td>-8.147433</td>\n",
       "      <td>5.004363</td>\n",
       "      <td>134.766305</td>\n",
       "    </tr>\n",
       "  </tbody>\n",
       "</table>\n",
       "</div>"
      ],
      "text/plain": [
       "      id         f0         f1        f2     product\n",
       "0  kBEdx -15.001348  -8.276000 -0.005876    3.179103\n",
       "1  62mP7  14.272088  -3.475083  0.999183   26.953261\n",
       "2  vyE1P   6.263187  -5.948386  5.001160  134.766305\n",
       "3  KcrkZ -13.081196 -11.506057  4.999415  137.945408\n",
       "4  AHL4O  12.702195  -8.147433  5.004363  134.766305"
      ]
     },
     "metadata": {},
     "output_type": "display_data"
    },
    {
     "name": "stdout",
     "output_type": "stream",
     "text": [
      "\n",
      "\u001b[1m\u001b[32m  Данные геологоразведки третьего региона   \u001b[0m\u001b[0m\n"
     ]
    },
    {
     "data": {
      "text/html": [
       "<div>\n",
       "<style scoped>\n",
       "    .dataframe tbody tr th:only-of-type {\n",
       "        vertical-align: middle;\n",
       "    }\n",
       "\n",
       "    .dataframe tbody tr th {\n",
       "        vertical-align: top;\n",
       "    }\n",
       "\n",
       "    .dataframe thead th {\n",
       "        text-align: right;\n",
       "    }\n",
       "</style>\n",
       "<table border=\"1\" class=\"dataframe\">\n",
       "  <thead>\n",
       "    <tr style=\"text-align: right;\">\n",
       "      <th></th>\n",
       "      <th>id</th>\n",
       "      <th>f0</th>\n",
       "      <th>f1</th>\n",
       "      <th>f2</th>\n",
       "      <th>product</th>\n",
       "    </tr>\n",
       "  </thead>\n",
       "  <tbody>\n",
       "    <tr>\n",
       "      <th>0</th>\n",
       "      <td>fwXo0</td>\n",
       "      <td>-1.146987</td>\n",
       "      <td>0.963328</td>\n",
       "      <td>-0.828965</td>\n",
       "      <td>27.758673</td>\n",
       "    </tr>\n",
       "    <tr>\n",
       "      <th>1</th>\n",
       "      <td>WJtFt</td>\n",
       "      <td>0.262778</td>\n",
       "      <td>0.269839</td>\n",
       "      <td>-2.530187</td>\n",
       "      <td>56.069697</td>\n",
       "    </tr>\n",
       "    <tr>\n",
       "      <th>2</th>\n",
       "      <td>ovLUW</td>\n",
       "      <td>0.194587</td>\n",
       "      <td>0.289035</td>\n",
       "      <td>-5.586433</td>\n",
       "      <td>62.871910</td>\n",
       "    </tr>\n",
       "    <tr>\n",
       "      <th>3</th>\n",
       "      <td>q6cA6</td>\n",
       "      <td>2.236060</td>\n",
       "      <td>-0.553760</td>\n",
       "      <td>0.930038</td>\n",
       "      <td>114.572842</td>\n",
       "    </tr>\n",
       "    <tr>\n",
       "      <th>4</th>\n",
       "      <td>WPMUX</td>\n",
       "      <td>-0.515993</td>\n",
       "      <td>1.716266</td>\n",
       "      <td>5.899011</td>\n",
       "      <td>149.600746</td>\n",
       "    </tr>\n",
       "  </tbody>\n",
       "</table>\n",
       "</div>"
      ],
      "text/plain": [
       "      id        f0        f1        f2     product\n",
       "0  fwXo0 -1.146987  0.963328 -0.828965   27.758673\n",
       "1  WJtFt  0.262778  0.269839 -2.530187   56.069697\n",
       "2  ovLUW  0.194587  0.289035 -5.586433   62.871910\n",
       "3  q6cA6  2.236060 -0.553760  0.930038  114.572842\n",
       "4  WPMUX -0.515993  1.716266  5.899011  149.600746"
      ]
     },
     "metadata": {},
     "output_type": "display_data"
    }
   ],
   "source": [
    "# получение первых 5 строк датасетов\n",
    "print('\\033[1m' + 'Первые 5 строк датасетов'.center(44) + '\\033[0m')\n",
    "print('=' * 44)\n",
    "print('\\033[1m\\033[35m' + 'Данные геологоразведки первого региона'.center(44) + '\\033[0m\\033[0m')\n",
    "display(data_1.head())\n",
    "print()\n",
    "print('\\033[1m\\033[31m' + 'Данные геологоразведки второго региона'.center(44) + '\\033[0m\\033[0m')\n",
    "display(data_2.head())\n",
    "print()\n",
    "print('\\033[1m\\033[32m' + 'Данные геологоразведки третьего региона'.center(44) + '\\033[0m\\033[0m')\n",
    "display(data_3.head())"
   ]
  },
  {
   "cell_type": "code",
   "execution_count": 51,
   "metadata": {},
   "outputs": [
    {
     "name": "stdout",
     "output_type": "stream",
     "text": [
      "\u001b[1m      Общая информация о данных       \u001b[0m\n",
      "======================================\n",
      "\u001b[1m\u001b[35mДанные геологоразведки первого региона\u001b[0m\u001b[0m\n",
      "<class 'pandas.core.frame.DataFrame'>\n",
      "RangeIndex: 100000 entries, 0 to 99999\n",
      "Data columns (total 5 columns):\n",
      " #   Column   Non-Null Count   Dtype  \n",
      "---  ------   --------------   -----  \n",
      " 0   id       100000 non-null  object \n",
      " 1   f0       100000 non-null  float64\n",
      " 2   f1       100000 non-null  float64\n",
      " 3   f2       100000 non-null  float64\n",
      " 4   product  100000 non-null  float64\n",
      "dtypes: float64(4), object(1)\n",
      "memory usage: 3.8+ MB\n",
      "\n",
      "\u001b[1m\u001b[31mДанные геологоразведки второго региона\u001b[0m\u001b[0m\n",
      "<class 'pandas.core.frame.DataFrame'>\n",
      "RangeIndex: 100000 entries, 0 to 99999\n",
      "Data columns (total 5 columns):\n",
      " #   Column   Non-Null Count   Dtype  \n",
      "---  ------   --------------   -----  \n",
      " 0   id       100000 non-null  object \n",
      " 1   f0       100000 non-null  float64\n",
      " 2   f1       100000 non-null  float64\n",
      " 3   f2       100000 non-null  float64\n",
      " 4   product  100000 non-null  float64\n",
      "dtypes: float64(4), object(1)\n",
      "memory usage: 3.8+ MB\n",
      "\n",
      "\u001b[1m\u001b[32mДанные геологоразведки третьего региона\u001b[0m\u001b[0m\n",
      "<class 'pandas.core.frame.DataFrame'>\n",
      "RangeIndex: 100000 entries, 0 to 99999\n",
      "Data columns (total 5 columns):\n",
      " #   Column   Non-Null Count   Dtype  \n",
      "---  ------   --------------   -----  \n",
      " 0   id       100000 non-null  object \n",
      " 1   f0       100000 non-null  float64\n",
      " 2   f1       100000 non-null  float64\n",
      " 3   f2       100000 non-null  float64\n",
      " 4   product  100000 non-null  float64\n",
      "dtypes: float64(4), object(1)\n",
      "memory usage: 3.8+ MB\n"
     ]
    }
   ],
   "source": [
    "# получение общей информации о данных датасетов\n",
    "print('\\033[1m' + 'Общая информация о данных'.center(38) + '\\033[0m')\n",
    "print('=' * 38)\n",
    "print('\\033[1m\\033[35m' + 'Данные геологоразведки первого региона'.center(38) + '\\033[0m\\033[0m')\n",
    "data_1.info()\n",
    "print()\n",
    "print('\\033[1m\\033[31m' + 'Данные геологоразведки второго региона'.center(38) + '\\033[0m\\033[0m')\n",
    "data_2.info()\n",
    "print()\n",
    "print('\\033[1m\\033[32m' + 'Данные геологоразведки третьего региона'.center(38) + '\\033[0m\\033[0m')\n",
    "data_3.info()"
   ]
  },
  {
   "cell_type": "code",
   "execution_count": 52,
   "metadata": {},
   "outputs": [
    {
     "name": "stdout",
     "output_type": "stream",
     "text": [
      "\u001b[1m         Количество дубликатов          \u001b[0m\n",
      "========================================\n",
      "\u001b[1m\u001b[35mДанные геологоразведки первого региона\u001b[0m\u001b[0m\n",
      "0\n",
      "\n",
      "\u001b[1m\u001b[31mДанные геологоразведки второго региона\u001b[0m\u001b[0m\n",
      "0\n",
      "\n",
      "\u001b[1m\u001b[32mДанные геологоразведки третьего региона\u001b[0m\u001b[0m\n",
      "0\n"
     ]
    }
   ],
   "source": [
    "# проверка на наличие дубликатов\n",
    "print('\\033[1m' + 'Количество дубликатов'.center(40) + '\\033[0m')\n",
    "print('=' * 40)\n",
    "print('\\033[1m\\033[35m' + 'Данные геологоразведки первого региона' + '\\033[0m\\033[0m')\n",
    "print(data_1.duplicated().sum())\n",
    "print()\n",
    "print('\\033[1m\\033[31m' + 'Данные геологоразведки второго региона' + '\\033[0m\\033[0m')\n",
    "print(data_2.duplicated().sum())\n",
    "print()\n",
    "print('\\033[1m\\033[32m' + 'Данные геологоразведки третьего региона' + '\\033[0m\\033[0m')\n",
    "print(data_3.duplicated().sum())"
   ]
  },
  {
   "cell_type": "markdown",
   "metadata": {},
   "source": [
    "Все датасеты имеют правильное обозначение столбцов, не имеют пропусков и дубликатов в данных и имеют подходящий тип данных. Удалим столбец с данными об уникальном идентификаторе скважины, чтобы он не мешал обучению модели."
   ]
  },
  {
   "cell_type": "code",
   "execution_count": 53,
   "metadata": {},
   "outputs": [],
   "source": [
    "# удаление столбца из датасетов\n",
    "data_1.drop('id', axis=1, inplace=True)\n",
    "data_2.drop('id', axis=1, inplace=True)\n",
    "data_3.drop('id', axis=1, inplace=True)"
   ]
  },
  {
   "cell_type": "code",
   "execution_count": 54,
   "metadata": {},
   "outputs": [
    {
     "name": "stdout",
     "output_type": "stream",
     "text": [
      "\u001b[1m                Описательная статистика                 \u001b[0m\n",
      "========================================================\n",
      "\u001b[1m\u001b[35m         Данные геологоразведки первого региона         \u001b[0m\u001b[0m\n"
     ]
    },
    {
     "data": {
      "text/html": [
       "<div>\n",
       "<style scoped>\n",
       "    .dataframe tbody tr th:only-of-type {\n",
       "        vertical-align: middle;\n",
       "    }\n",
       "\n",
       "    .dataframe tbody tr th {\n",
       "        vertical-align: top;\n",
       "    }\n",
       "\n",
       "    .dataframe thead th {\n",
       "        text-align: right;\n",
       "    }\n",
       "</style>\n",
       "<table border=\"1\" class=\"dataframe\">\n",
       "  <thead>\n",
       "    <tr style=\"text-align: right;\">\n",
       "      <th></th>\n",
       "      <th>f0</th>\n",
       "      <th>f1</th>\n",
       "      <th>f2</th>\n",
       "      <th>product</th>\n",
       "    </tr>\n",
       "  </thead>\n",
       "  <tbody>\n",
       "    <tr>\n",
       "      <th>count</th>\n",
       "      <td>100000.000000</td>\n",
       "      <td>100000.000000</td>\n",
       "      <td>100000.000000</td>\n",
       "      <td>100000.000000</td>\n",
       "    </tr>\n",
       "    <tr>\n",
       "      <th>mean</th>\n",
       "      <td>0.500419</td>\n",
       "      <td>0.250143</td>\n",
       "      <td>2.502647</td>\n",
       "      <td>92.500000</td>\n",
       "    </tr>\n",
       "    <tr>\n",
       "      <th>std</th>\n",
       "      <td>0.871832</td>\n",
       "      <td>0.504433</td>\n",
       "      <td>3.248248</td>\n",
       "      <td>44.288691</td>\n",
       "    </tr>\n",
       "    <tr>\n",
       "      <th>min</th>\n",
       "      <td>-1.408605</td>\n",
       "      <td>-0.848218</td>\n",
       "      <td>-12.088328</td>\n",
       "      <td>0.000000</td>\n",
       "    </tr>\n",
       "    <tr>\n",
       "      <th>25%</th>\n",
       "      <td>-0.072580</td>\n",
       "      <td>-0.200881</td>\n",
       "      <td>0.287748</td>\n",
       "      <td>56.497507</td>\n",
       "    </tr>\n",
       "    <tr>\n",
       "      <th>50%</th>\n",
       "      <td>0.502360</td>\n",
       "      <td>0.250252</td>\n",
       "      <td>2.515969</td>\n",
       "      <td>91.849972</td>\n",
       "    </tr>\n",
       "    <tr>\n",
       "      <th>75%</th>\n",
       "      <td>1.073581</td>\n",
       "      <td>0.700646</td>\n",
       "      <td>4.715088</td>\n",
       "      <td>128.564089</td>\n",
       "    </tr>\n",
       "    <tr>\n",
       "      <th>max</th>\n",
       "      <td>2.362331</td>\n",
       "      <td>1.343769</td>\n",
       "      <td>16.003790</td>\n",
       "      <td>185.364347</td>\n",
       "    </tr>\n",
       "  </tbody>\n",
       "</table>\n",
       "</div>"
      ],
      "text/plain": [
       "                  f0             f1             f2        product\n",
       "count  100000.000000  100000.000000  100000.000000  100000.000000\n",
       "mean        0.500419       0.250143       2.502647      92.500000\n",
       "std         0.871832       0.504433       3.248248      44.288691\n",
       "min        -1.408605      -0.848218     -12.088328       0.000000\n",
       "25%        -0.072580      -0.200881       0.287748      56.497507\n",
       "50%         0.502360       0.250252       2.515969      91.849972\n",
       "75%         1.073581       0.700646       4.715088     128.564089\n",
       "max         2.362331       1.343769      16.003790     185.364347"
      ]
     },
     "metadata": {},
     "output_type": "display_data"
    },
    {
     "name": "stdout",
     "output_type": "stream",
     "text": [
      "\n",
      "\u001b[1m\u001b[31m         Данные геологоразведки второго региона         \u001b[0m\u001b[0m\n"
     ]
    },
    {
     "data": {
      "text/html": [
       "<div>\n",
       "<style scoped>\n",
       "    .dataframe tbody tr th:only-of-type {\n",
       "        vertical-align: middle;\n",
       "    }\n",
       "\n",
       "    .dataframe tbody tr th {\n",
       "        vertical-align: top;\n",
       "    }\n",
       "\n",
       "    .dataframe thead th {\n",
       "        text-align: right;\n",
       "    }\n",
       "</style>\n",
       "<table border=\"1\" class=\"dataframe\">\n",
       "  <thead>\n",
       "    <tr style=\"text-align: right;\">\n",
       "      <th></th>\n",
       "      <th>f0</th>\n",
       "      <th>f1</th>\n",
       "      <th>f2</th>\n",
       "      <th>product</th>\n",
       "    </tr>\n",
       "  </thead>\n",
       "  <tbody>\n",
       "    <tr>\n",
       "      <th>count</th>\n",
       "      <td>100000.000000</td>\n",
       "      <td>100000.000000</td>\n",
       "      <td>100000.000000</td>\n",
       "      <td>100000.000000</td>\n",
       "    </tr>\n",
       "    <tr>\n",
       "      <th>mean</th>\n",
       "      <td>1.141296</td>\n",
       "      <td>-4.796579</td>\n",
       "      <td>2.494541</td>\n",
       "      <td>68.825000</td>\n",
       "    </tr>\n",
       "    <tr>\n",
       "      <th>std</th>\n",
       "      <td>8.965932</td>\n",
       "      <td>5.119872</td>\n",
       "      <td>1.703572</td>\n",
       "      <td>45.944423</td>\n",
       "    </tr>\n",
       "    <tr>\n",
       "      <th>min</th>\n",
       "      <td>-31.609576</td>\n",
       "      <td>-26.358598</td>\n",
       "      <td>-0.018144</td>\n",
       "      <td>0.000000</td>\n",
       "    </tr>\n",
       "    <tr>\n",
       "      <th>25%</th>\n",
       "      <td>-6.298551</td>\n",
       "      <td>-8.267985</td>\n",
       "      <td>1.000021</td>\n",
       "      <td>26.953261</td>\n",
       "    </tr>\n",
       "    <tr>\n",
       "      <th>50%</th>\n",
       "      <td>1.153055</td>\n",
       "      <td>-4.813172</td>\n",
       "      <td>2.011479</td>\n",
       "      <td>57.085625</td>\n",
       "    </tr>\n",
       "    <tr>\n",
       "      <th>75%</th>\n",
       "      <td>8.621015</td>\n",
       "      <td>-1.332816</td>\n",
       "      <td>3.999904</td>\n",
       "      <td>107.813044</td>\n",
       "    </tr>\n",
       "    <tr>\n",
       "      <th>max</th>\n",
       "      <td>29.421755</td>\n",
       "      <td>18.734063</td>\n",
       "      <td>5.019721</td>\n",
       "      <td>137.945408</td>\n",
       "    </tr>\n",
       "  </tbody>\n",
       "</table>\n",
       "</div>"
      ],
      "text/plain": [
       "                  f0             f1             f2        product\n",
       "count  100000.000000  100000.000000  100000.000000  100000.000000\n",
       "mean        1.141296      -4.796579       2.494541      68.825000\n",
       "std         8.965932       5.119872       1.703572      45.944423\n",
       "min       -31.609576     -26.358598      -0.018144       0.000000\n",
       "25%        -6.298551      -8.267985       1.000021      26.953261\n",
       "50%         1.153055      -4.813172       2.011479      57.085625\n",
       "75%         8.621015      -1.332816       3.999904     107.813044\n",
       "max        29.421755      18.734063       5.019721     137.945408"
      ]
     },
     "metadata": {},
     "output_type": "display_data"
    },
    {
     "name": "stdout",
     "output_type": "stream",
     "text": [
      "\n",
      "\u001b[1m\u001b[32m        Данные геологоразведки третьего региона         \u001b[0m\u001b[0m\n"
     ]
    },
    {
     "data": {
      "text/html": [
       "<div>\n",
       "<style scoped>\n",
       "    .dataframe tbody tr th:only-of-type {\n",
       "        vertical-align: middle;\n",
       "    }\n",
       "\n",
       "    .dataframe tbody tr th {\n",
       "        vertical-align: top;\n",
       "    }\n",
       "\n",
       "    .dataframe thead th {\n",
       "        text-align: right;\n",
       "    }\n",
       "</style>\n",
       "<table border=\"1\" class=\"dataframe\">\n",
       "  <thead>\n",
       "    <tr style=\"text-align: right;\">\n",
       "      <th></th>\n",
       "      <th>f0</th>\n",
       "      <th>f1</th>\n",
       "      <th>f2</th>\n",
       "      <th>product</th>\n",
       "    </tr>\n",
       "  </thead>\n",
       "  <tbody>\n",
       "    <tr>\n",
       "      <th>count</th>\n",
       "      <td>100000.000000</td>\n",
       "      <td>100000.000000</td>\n",
       "      <td>100000.000000</td>\n",
       "      <td>100000.000000</td>\n",
       "    </tr>\n",
       "    <tr>\n",
       "      <th>mean</th>\n",
       "      <td>0.002023</td>\n",
       "      <td>-0.002081</td>\n",
       "      <td>2.495128</td>\n",
       "      <td>95.000000</td>\n",
       "    </tr>\n",
       "    <tr>\n",
       "      <th>std</th>\n",
       "      <td>1.732045</td>\n",
       "      <td>1.730417</td>\n",
       "      <td>3.473445</td>\n",
       "      <td>44.749921</td>\n",
       "    </tr>\n",
       "    <tr>\n",
       "      <th>min</th>\n",
       "      <td>-8.760004</td>\n",
       "      <td>-7.084020</td>\n",
       "      <td>-11.970335</td>\n",
       "      <td>0.000000</td>\n",
       "    </tr>\n",
       "    <tr>\n",
       "      <th>25%</th>\n",
       "      <td>-1.162288</td>\n",
       "      <td>-1.174820</td>\n",
       "      <td>0.130359</td>\n",
       "      <td>59.450441</td>\n",
       "    </tr>\n",
       "    <tr>\n",
       "      <th>50%</th>\n",
       "      <td>0.009424</td>\n",
       "      <td>-0.009482</td>\n",
       "      <td>2.484236</td>\n",
       "      <td>94.925613</td>\n",
       "    </tr>\n",
       "    <tr>\n",
       "      <th>75%</th>\n",
       "      <td>1.158535</td>\n",
       "      <td>1.163678</td>\n",
       "      <td>4.858794</td>\n",
       "      <td>130.595027</td>\n",
       "    </tr>\n",
       "    <tr>\n",
       "      <th>max</th>\n",
       "      <td>7.238262</td>\n",
       "      <td>7.844801</td>\n",
       "      <td>16.739402</td>\n",
       "      <td>190.029838</td>\n",
       "    </tr>\n",
       "  </tbody>\n",
       "</table>\n",
       "</div>"
      ],
      "text/plain": [
       "                  f0             f1             f2        product\n",
       "count  100000.000000  100000.000000  100000.000000  100000.000000\n",
       "mean        0.002023      -0.002081       2.495128      95.000000\n",
       "std         1.732045       1.730417       3.473445      44.749921\n",
       "min        -8.760004      -7.084020     -11.970335       0.000000\n",
       "25%        -1.162288      -1.174820       0.130359      59.450441\n",
       "50%         0.009424      -0.009482       2.484236      94.925613\n",
       "75%         1.158535       1.163678       4.858794     130.595027\n",
       "max         7.238262       7.844801      16.739402     190.029838"
      ]
     },
     "metadata": {},
     "output_type": "display_data"
    }
   ],
   "source": [
    "# получение описательной статистики данных датасетов\n",
    "print('\\033[1m' + 'Описательная статистика'.center(56) + '\\033[0m')\n",
    "print('=' * 56)\n",
    "print('\\033[1m\\033[35m' + 'Данные геологоразведки первого региона'.center(56) + '\\033[0m\\033[0m')\n",
    "display(data_1.describe())\n",
    "print()\n",
    "print('\\033[1m\\033[31m' + 'Данные геологоразведки второго региона'.center(56) + '\\033[0m\\033[0m')\n",
    "display(data_2.describe())\n",
    "print()\n",
    "print('\\033[1m\\033[32m' + 'Данные геологоразведки третьего региона'.center(56) + '\\033[0m\\033[0m')\n",
    "display(data_3.describe())"
   ]
  },
  {
   "cell_type": "markdown",
   "metadata": {},
   "source": [
    "Во всех регионах присутствуют скважины с нулевым объемом запасов, но так как при разведке региона исследуют 500 точек, из которых с помощью машинного обучения выбирают 200 лучших для разработки, то оставим их и не будем удалять из датасетов."
   ]
  },
  {
   "cell_type": "markdown",
   "metadata": {},
   "source": [
    "### Выводы"
   ]
  },
  {
   "cell_type": "markdown",
   "metadata": {},
   "source": [
    "Данные готовы к обучению модели. В них нет ни пропусков, ни дубликатов. Масштабировать их также не требуется."
   ]
  },
  {
   "cell_type": "markdown",
   "metadata": {},
   "source": [
    "## Обучение и проверка модели"
   ]
  },
  {
   "cell_type": "markdown",
   "metadata": {},
   "source": [
    "### Данные геологоразведки первого региона"
   ]
  },
  {
   "cell_type": "code",
   "execution_count": 55,
   "metadata": {},
   "outputs": [],
   "source": [
    "# разделите данные на обучающую и валидационную выборки\n",
    "data_1_train, data_1_valid = train_test_split(data_1, test_size=0.25, random_state=12345)"
   ]
  },
  {
   "cell_type": "code",
   "execution_count": 56,
   "metadata": {},
   "outputs": [
    {
     "data": {
      "text/plain": [
       "(75000, 25000)"
      ]
     },
     "execution_count": 56,
     "metadata": {},
     "output_type": "execute_result"
    }
   ],
   "source": [
    "# проверка размера выборок\n",
    "data_1_train.shape[0], data_1_valid.shape[0]"
   ]
  },
  {
   "cell_type": "code",
   "execution_count": 57,
   "metadata": {},
   "outputs": [],
   "source": [
    "# создание переменные для признаков и целевого признака\n",
    "features_train_1 = data_1_train.drop(['product'], axis=1)\n",
    "target_train_1 = data_1_train['product']\n",
    "features_valid_1 = data_1_valid.drop(['product'], axis=1)\n",
    "target_valid_1 = data_1_valid['product']"
   ]
  },
  {
   "cell_type": "code",
   "execution_count": 58,
   "metadata": {},
   "outputs": [
    {
     "data": {
      "text/plain": [
       "((75000, 3), (25000, 3))"
      ]
     },
     "execution_count": 58,
     "metadata": {},
     "output_type": "execute_result"
    }
   ],
   "source": [
    "# проверка размера выборок признаков\n",
    "features_train_1.shape, features_valid_1.shape"
   ]
  },
  {
   "cell_type": "code",
   "execution_count": 59,
   "metadata": {},
   "outputs": [],
   "source": [
    "# обучение алгоритма линейной регрессии\n",
    "model_1 = LinearRegression()\n",
    "model_1.fit(features_train_1, target_train_1)\n",
    "predictions_valid_1 = model_1.predict(features_valid_1)"
   ]
  },
  {
   "cell_type": "code",
   "execution_count": 60,
   "metadata": {},
   "outputs": [
    {
     "name": "stdout",
     "output_type": "stream",
     "text": [
      "RMSE: 37.5794217150813\n",
      "R2: 0.27994321524487786\n",
      "Средний запас сырья: 92.59256778438035\n"
     ]
    }
   ],
   "source": [
    "# вычисление rmse\n",
    "rmse_1 = mean_squared_error(target_valid_1, predictions_valid_1)**0.5\n",
    "print('RMSE:', rmse_1)\n",
    "\n",
    "# вычисление коэффициента детерминации\n",
    "r2_1 = r2_score(target_valid_1, predictions_valid_1)\n",
    "print('R2:', r2_1)\n",
    "\n",
    "# вычисление среднего запаса сырья\n",
    "print('Средний запас сырья:', predictions_valid_1.mean())"
   ]
  },
  {
   "cell_type": "markdown",
   "metadata": {},
   "source": [
    "### Данные геологоразведки второго региона"
   ]
  },
  {
   "cell_type": "code",
   "execution_count": 61,
   "metadata": {},
   "outputs": [],
   "source": [
    "# разделите данные на обучающую и валидационную выборки\n",
    "data_2_train, data_2_valid = train_test_split(data_2, test_size=0.25, random_state=12345)"
   ]
  },
  {
   "cell_type": "code",
   "execution_count": 62,
   "metadata": {},
   "outputs": [
    {
     "data": {
      "text/plain": [
       "(75000, 25000)"
      ]
     },
     "execution_count": 62,
     "metadata": {},
     "output_type": "execute_result"
    }
   ],
   "source": [
    "# проверка размера выборок\n",
    "data_2_train.shape[0], data_2_valid.shape[0]"
   ]
  },
  {
   "cell_type": "code",
   "execution_count": 63,
   "metadata": {},
   "outputs": [],
   "source": [
    "# создание переменные для признаков и целевого признака\n",
    "features_train_2 = data_2_train.drop(['product'], axis=1)\n",
    "target_train_2 = data_2_train['product']\n",
    "features_valid_2 = data_2_valid.drop(['product'], axis=1)\n",
    "target_valid_2 = data_2_valid['product']"
   ]
  },
  {
   "cell_type": "code",
   "execution_count": 64,
   "metadata": {},
   "outputs": [
    {
     "data": {
      "text/plain": [
       "((75000, 3), (25000, 3))"
      ]
     },
     "execution_count": 64,
     "metadata": {},
     "output_type": "execute_result"
    }
   ],
   "source": [
    "# проверка размера выборок признаков\n",
    "features_train_2.shape, features_valid_2.shape"
   ]
  },
  {
   "cell_type": "code",
   "execution_count": 65,
   "metadata": {},
   "outputs": [],
   "source": [
    "# обучение алгоритма линейной регрессии\n",
    "model_2 = LinearRegression()\n",
    "model_2.fit(features_train_2, target_train_2)\n",
    "predictions_valid_2 = model_2.predict(features_valid_2)"
   ]
  },
  {
   "cell_type": "code",
   "execution_count": 66,
   "metadata": {},
   "outputs": [
    {
     "name": "stdout",
     "output_type": "stream",
     "text": [
      "RMSE: 0.893099286775617\n",
      "R2: 0.9996233978805127\n",
      "Средний запас сырья: 68.728546895446\n"
     ]
    }
   ],
   "source": [
    "# вычисление rmse\n",
    "rmse_2 = mean_squared_error(target_valid_2, predictions_valid_2)**0.5\n",
    "print('RMSE:', rmse_2)\n",
    "\n",
    "# вычисление коэффициента детерминации\n",
    "r2_2 = r2_score(target_valid_2, predictions_valid_2)\n",
    "print('R2:', r2_2)\n",
    "\n",
    "# вычисление среднего запаса сырья\n",
    "print('Средний запас сырья:', predictions_valid_2.mean())"
   ]
  },
  {
   "cell_type": "markdown",
   "metadata": {},
   "source": [
    "### Данные геологоразведки третьего региона"
   ]
  },
  {
   "cell_type": "code",
   "execution_count": 67,
   "metadata": {},
   "outputs": [],
   "source": [
    "# разделите данные на обучающую и валидационную выборки\n",
    "data_3_train, data_3_valid = train_test_split(data_3, test_size=0.25, random_state=12345)"
   ]
  },
  {
   "cell_type": "code",
   "execution_count": 68,
   "metadata": {},
   "outputs": [
    {
     "data": {
      "text/plain": [
       "(75000, 25000)"
      ]
     },
     "execution_count": 68,
     "metadata": {},
     "output_type": "execute_result"
    }
   ],
   "source": [
    "# проверка размера выборок\n",
    "data_3_train.shape[0], data_3_valid.shape[0]"
   ]
  },
  {
   "cell_type": "code",
   "execution_count": 69,
   "metadata": {},
   "outputs": [],
   "source": [
    "# создание переменные для признаков и целевого признака\n",
    "features_train_3 = data_3_train.drop(['product'], axis=1)\n",
    "target_train_3 = data_3_train['product']\n",
    "features_valid_3 = data_3_valid.drop(['product'], axis=1)\n",
    "target_valid_3 = data_3_valid['product']"
   ]
  },
  {
   "cell_type": "code",
   "execution_count": 70,
   "metadata": {},
   "outputs": [
    {
     "data": {
      "text/plain": [
       "((75000, 3), (25000, 3))"
      ]
     },
     "execution_count": 70,
     "metadata": {},
     "output_type": "execute_result"
    }
   ],
   "source": [
    "# проверка размера выборок признаков\n",
    "features_train_3.shape, features_valid_3.shape"
   ]
  },
  {
   "cell_type": "code",
   "execution_count": 71,
   "metadata": {},
   "outputs": [],
   "source": [
    "# обучение алгоритма линейной регрессии\n",
    "model_3 = LinearRegression()\n",
    "model_3.fit(features_train_3, target_train_3)\n",
    "predictions_valid_3 = model_3.predict(features_valid_3)"
   ]
  },
  {
   "cell_type": "code",
   "execution_count": 72,
   "metadata": {},
   "outputs": [
    {
     "name": "stdout",
     "output_type": "stream",
     "text": [
      "RMSE: 40.02970873393434\n",
      "R2: 0.20524758386040443\n",
      "Средний запас сырья: 94.96504596800489\n"
     ]
    }
   ],
   "source": [
    "# вычисление rmse\n",
    "rmse_3 = mean_squared_error(target_valid_3, predictions_valid_3)**0.5\n",
    "print('RMSE:', rmse_3)\n",
    "\n",
    "# вычисление коэффициента детерминации\n",
    "r2_3 = r2_score(target_valid_3, predictions_valid_3)\n",
    "print('R2:', r2_3)\n",
    "\n",
    "# вычисление среднего запаса сырья\n",
    "print('Средний запас сырья:', predictions_valid_3.mean())"
   ]
  },
  {
   "cell_type": "markdown",
   "metadata": {},
   "source": [
    "### Выводы"
   ]
  },
  {
   "cell_type": "code",
   "execution_count": 73,
   "metadata": {},
   "outputs": [
    {
     "data": {
      "text/html": [
       "<div>\n",
       "<style scoped>\n",
       "    .dataframe tbody tr th:only-of-type {\n",
       "        vertical-align: middle;\n",
       "    }\n",
       "\n",
       "    .dataframe tbody tr th {\n",
       "        vertical-align: top;\n",
       "    }\n",
       "\n",
       "    .dataframe thead th {\n",
       "        text-align: right;\n",
       "    }\n",
       "</style>\n",
       "<table border=\"1\" class=\"dataframe\">\n",
       "  <thead>\n",
       "    <tr style=\"text-align: right;\">\n",
       "      <th></th>\n",
       "      <th>Параметры</th>\n",
       "      <th>Первый регион</th>\n",
       "      <th>Второй регион</th>\n",
       "      <th>Третий регион</th>\n",
       "    </tr>\n",
       "  </thead>\n",
       "  <tbody>\n",
       "    <tr>\n",
       "      <th>0</th>\n",
       "      <td>RMSE</td>\n",
       "      <td>37.579422</td>\n",
       "      <td>0.893099</td>\n",
       "      <td>40.029709</td>\n",
       "    </tr>\n",
       "    <tr>\n",
       "      <th>1</th>\n",
       "      <td>R2</td>\n",
       "      <td>0.279943</td>\n",
       "      <td>0.999623</td>\n",
       "      <td>0.205248</td>\n",
       "    </tr>\n",
       "    <tr>\n",
       "      <th>2</th>\n",
       "      <td>Средний запас сырья:</td>\n",
       "      <td>92.592568</td>\n",
       "      <td>68.728547</td>\n",
       "      <td>94.965046</td>\n",
       "    </tr>\n",
       "  </tbody>\n",
       "</table>\n",
       "</div>"
      ],
      "text/plain": [
       "              Параметры  Первый регион  Второй регион  Третий регион\n",
       "0                  RMSE      37.579422       0.893099      40.029709\n",
       "1                    R2       0.279943       0.999623       0.205248\n",
       "2  Средний запас сырья:      92.592568      68.728547      94.965046"
      ]
     },
     "execution_count": 73,
     "metadata": {},
     "output_type": "execute_result"
    }
   ],
   "source": [
    "metrics = [['RMSE', rmse_1, rmse_2, rmse_3], \n",
    "            ['R2', r2_1, r2_2, r2_3], \n",
    "            ['Средний запас сырья:', \n",
    "            predictions_valid_1.mean(), predictions_valid_2.mean(), predictions_valid_3.mean()]]\n",
    "columns_name = ['Параметры', 'Первый регион', 'Второй регион', 'Третий регион']\n",
    "table_metrics = pd.DataFrame(data = metrics, columns = columns_name)\n",
    "table_metrics"
   ]
  },
  {
   "cell_type": "markdown",
   "metadata": {},
   "source": [
    "Из полученной таблицы видно, что модель второго региона имеет самую низкую ошибку и почти идеальный коэффициент детерминации. Метрики моделей первого и третьего региона похожи.\n",
    "Запасы сырья в первом и третьем регионе практически равны, а во втором их количество меньше."
   ]
  },
  {
   "cell_type": "markdown",
   "metadata": {},
   "source": [
    "## Подготовка к расчёту прибыли"
   ]
  },
  {
   "cell_type": "code",
   "execution_count": 74,
   "metadata": {},
   "outputs": [],
   "source": [
    "# создание констант\n",
    "SCOUTING_POINTS = 500\n",
    "BEST_POINTS = 200\n",
    "BUDGET = 10**10\n",
    "PRICE_PER_BARREL = 450\n",
    "REVENUE_PER_UNIT = PRICE_PER_BARREL * 1000\n",
    "PROBABILITY_OF_LOSSES = 0.025"
   ]
  },
  {
   "cell_type": "code",
   "execution_count": 75,
   "metadata": {},
   "outputs": [
    {
     "name": "stdout",
     "output_type": "stream",
     "text": [
      "Достаточный объём сырья для безубыточной разработки новой скважины: 111.11111111111111\n"
     ]
    }
   ],
   "source": [
    "# расчет объема сырья для безубыточной разработки\n",
    "breakeven_point = BUDGET / REVENUE_PER_UNIT / BEST_POINTS\n",
    "print('Достаточный объём сырья для безубыточной разработки новой скважины:', breakeven_point)"
   ]
  },
  {
   "cell_type": "code",
   "execution_count": 76,
   "metadata": {},
   "outputs": [
    {
     "data": {
      "text/html": [
       "<div>\n",
       "<style scoped>\n",
       "    .dataframe tbody tr th:only-of-type {\n",
       "        vertical-align: middle;\n",
       "    }\n",
       "\n",
       "    .dataframe tbody tr th {\n",
       "        vertical-align: top;\n",
       "    }\n",
       "\n",
       "    .dataframe thead th {\n",
       "        text-align: right;\n",
       "    }\n",
       "</style>\n",
       "<table border=\"1\" class=\"dataframe\">\n",
       "  <thead>\n",
       "    <tr style=\"text-align: right;\">\n",
       "      <th></th>\n",
       "      <th>Средний запас сырья</th>\n",
       "    </tr>\n",
       "  </thead>\n",
       "  <tbody>\n",
       "    <tr>\n",
       "      <th>Первый регион</th>\n",
       "      <td>92.592568</td>\n",
       "    </tr>\n",
       "    <tr>\n",
       "      <th>Второй регион</th>\n",
       "      <td>68.728547</td>\n",
       "    </tr>\n",
       "    <tr>\n",
       "      <th>Третий регион</th>\n",
       "      <td>94.965046</td>\n",
       "    </tr>\n",
       "  </tbody>\n",
       "</table>\n",
       "</div>"
      ],
      "text/plain": [
       "               Средний запас сырья\n",
       "Первый регион            92.592568\n",
       "Второй регион            68.728547\n",
       "Третий регион            94.965046"
      ]
     },
     "execution_count": 76,
     "metadata": {},
     "output_type": "execute_result"
    }
   ],
   "source": [
    "mean_product = {'Средний запас сырья': [predictions_valid_1.mean(), predictions_valid_2.mean(), predictions_valid_3.mean()]}\n",
    "table_mean = pd.DataFrame(data=mean_product,\n",
    "                     index= ['Первый регион', 'Второй регион', 'Третий регион'])\n",
    "table_mean"
   ]
  },
  {
   "cell_type": "markdown",
   "metadata": {},
   "source": [
    "Из данных видно, что согласно средним значениям объема сырья не хватает для того чтобы выйти на точку безубыточности."
   ]
  },
  {
   "cell_type": "code",
   "execution_count": 77,
   "metadata": {},
   "outputs": [],
   "source": [
    "# функция для расчета прибыли\n",
    "def profit(target, predictions, count):\n",
    "    predictions_sorted = predictions.sort_values(ascending=False)\n",
    "    selected = target[predictions_sorted.index][:count]\n",
    "    return (REVENUE_PER_UNIT * selected.sum()) - BUDGET"
   ]
  },
  {
   "cell_type": "markdown",
   "metadata": {},
   "source": [
    "## Расчёт прибыли и рисков "
   ]
  },
  {
   "cell_type": "code",
   "execution_count": 78,
   "metadata": {},
   "outputs": [],
   "source": [
    "# добавим случайности нашей функции, чтобы каждый раз брался разный сэмпл\n",
    "state = RandomState(12345) "
   ]
  },
  {
   "cell_type": "code",
   "execution_count": 79,
   "metadata": {},
   "outputs": [],
   "source": [
    "def bootstrap(target, predictions):\n",
    "    values = []\n",
    "    target = target.reset_index(drop=True)\n",
    "    predictions = pd.Series(predictions)\n",
    "    \n",
    "    for i in range(1000):\n",
    "        target_subsample = target.sample(n=500, replace=True, random_state = state)\n",
    "        predictions_subsample = predictions[target_subsample.index]\n",
    "        values.append(profit(target_subsample, predictions_subsample, BEST_POINTS))\n",
    "    \n",
    "    # находим доверительный интервал и риск убытков\n",
    "    values = pd.Series(values)\n",
    "    lower = values.quantile(.025)\n",
    "    upper = values.quantile(.975)\n",
    "    risk = len(values[values<0])/len(values)\n",
    "    \n",
    "    # <выводим результат>\n",
    "    print('Средняя прибыль:','{:.2f}'.format(values.mean()))\n",
    "    print('Начало доверительного интервала:','{:.2f}'.format(lower))\n",
    "    print('Конец доверительного интервала:','{:.2f}'.format(upper))\n",
    "    print('Риск убытков:','{:.2f}'.format(risk))\n",
    "    \n",
    "    return values"
   ]
  },
  {
   "cell_type": "code",
   "execution_count": 80,
   "metadata": {},
   "outputs": [
    {
     "name": "stdout",
     "output_type": "stream",
     "text": [
      "\u001b[1m\u001b[35m    Данные геологоразведки первого региона   \u001b[0m\u001b[0m\n",
      "Средняя прибыль: 425938526.91\n",
      "Начало доверительного интервала: -102090094.84\n",
      "Конец доверительного интервала: 947976353.36\n",
      "Риск убытков: 0.06\n"
     ]
    }
   ],
   "source": [
    "print('\\033[1m\\033[35m' + 'Данные геологоразведки первого региона'.center(45) + '\\033[0m\\033[0m')\n",
    "values = bootstrap(target_valid_1, predictions_valid_1)"
   ]
  },
  {
   "cell_type": "code",
   "execution_count": 81,
   "metadata": {},
   "outputs": [
    {
     "name": "stdout",
     "output_type": "stream",
     "text": [
      "\u001b[1m\u001b[35m    Данные геологоразведки второго региона   \u001b[0m\u001b[0m\n",
      "Средняя прибыль: 518259493.70\n",
      "Начало доверительного интервала: 128123231.43\n",
      "Конец доверительного интервала: 953612982.07\n",
      "Риск убытков: 0.00\n"
     ]
    }
   ],
   "source": [
    "print('\\033[1m\\033[35m' + 'Данные геологоразведки второго региона'.center(45) + '\\033[0m\\033[0m')\n",
    "values = bootstrap(target_valid_2, predictions_valid_2)"
   ]
  },
  {
   "cell_type": "code",
   "execution_count": 82,
   "metadata": {},
   "outputs": [
    {
     "name": "stdout",
     "output_type": "stream",
     "text": [
      "\u001b[1m\u001b[35m   Данные геологоразведки третьего региона   \u001b[0m\u001b[0m\n",
      "Средняя прибыль: 420194005.34\n",
      "Начало доверительного интервала: -115852609.16\n",
      "Конец доверительного интервала: 989629939.84\n",
      "Риск убытков: 0.06\n"
     ]
    }
   ],
   "source": [
    "print('\\033[1m\\033[35m' + 'Данные геологоразведки третьего региона'.center(45) + '\\033[0m\\033[0m')\n",
    "values = bootstrap(target_valid_3, predictions_valid_3)"
   ]
  },
  {
   "cell_type": "markdown",
   "metadata": {},
   "source": [
    "## Выводы"
   ]
  },
  {
   "cell_type": "markdown",
   "metadata": {},
   "source": [
    "Проведя анализ между тремя регионами можно сделать вывод, что второй регион самый удачный для разработки скважин, т.к. наша модель показала самую лучшую точность в данном регионе, что понижает ошибку выбора скважин по сравнению с другими регионами, а так же данный регион имеет самую высокую среднюю прибыль по региону, высокое значение верхней границы доверительного интервала и положительное значение нижнего доверительного интервала, а также нулеврй риск."
   ]
  }
 ],
 "metadata": {
  "ExecuteTimeLog": [
   {
    "duration": 1719,
    "start_time": "2022-03-19T09:51:09.348Z"
   },
   {
    "duration": 24,
    "start_time": "2022-03-19T09:51:27.334Z"
   },
   {
    "duration": 367,
    "start_time": "2022-03-19T09:51:30.025Z"
   },
   {
    "duration": 384,
    "start_time": "2022-03-19T09:51:56.693Z"
   },
   {
    "duration": 20,
    "start_time": "2022-03-19T09:53:37.607Z"
   },
   {
    "duration": 395,
    "start_time": "2022-03-19T09:55:12.696Z"
   },
   {
    "duration": 15,
    "start_time": "2022-03-19T09:56:06.430Z"
   },
   {
    "duration": 140,
    "start_time": "2022-03-19T09:56:23.726Z"
   },
   {
    "duration": 15,
    "start_time": "2022-03-19T09:56:37.090Z"
   },
   {
    "duration": 15,
    "start_time": "2022-03-19T09:56:44.493Z"
   },
   {
    "duration": 14,
    "start_time": "2022-03-19T09:57:49.069Z"
   },
   {
    "duration": 21,
    "start_time": "2022-03-19T10:02:03.765Z"
   },
   {
    "duration": 21,
    "start_time": "2022-03-19T10:02:17.613Z"
   },
   {
    "duration": 24,
    "start_time": "2022-03-19T10:02:24.540Z"
   },
   {
    "duration": 24,
    "start_time": "2022-03-19T10:02:41.031Z"
   },
   {
    "duration": 25,
    "start_time": "2022-03-19T10:06:38.933Z"
   },
   {
    "duration": 29,
    "start_time": "2022-03-19T10:06:45.438Z"
   },
   {
    "duration": 30,
    "start_time": "2022-03-19T10:06:51.630Z"
   },
   {
    "duration": 25,
    "start_time": "2022-03-19T10:12:19.327Z"
   },
   {
    "duration": 26,
    "start_time": "2022-03-19T10:12:33.405Z"
   },
   {
    "duration": 25,
    "start_time": "2022-03-19T10:13:19.332Z"
   },
   {
    "duration": 24,
    "start_time": "2022-03-19T10:13:29.494Z"
   },
   {
    "duration": 24,
    "start_time": "2022-03-19T10:17:54.469Z"
   },
   {
    "duration": 23,
    "start_time": "2022-03-19T10:18:00.389Z"
   },
   {
    "duration": 25,
    "start_time": "2022-03-19T10:18:06.859Z"
   },
   {
    "duration": 23,
    "start_time": "2022-03-19T10:18:12.484Z"
   },
   {
    "duration": 24,
    "start_time": "2022-03-19T10:18:17.965Z"
   },
   {
    "duration": 28,
    "start_time": "2022-03-19T10:18:41.715Z"
   },
   {
    "duration": 26,
    "start_time": "2022-03-19T10:18:51.758Z"
   },
   {
    "duration": 32,
    "start_time": "2022-03-19T10:19:01.512Z"
   },
   {
    "duration": 24,
    "start_time": "2022-03-19T10:19:14.587Z"
   },
   {
    "duration": 26,
    "start_time": "2022-03-19T10:30:36.852Z"
   },
   {
    "duration": 25,
    "start_time": "2022-03-19T10:30:43.274Z"
   },
   {
    "duration": 54,
    "start_time": "2022-03-19T10:31:32.217Z"
   },
   {
    "duration": 40,
    "start_time": "2022-03-19T10:31:57.185Z"
   },
   {
    "duration": 42,
    "start_time": "2022-03-19T10:32:09.705Z"
   },
   {
    "duration": 26,
    "start_time": "2022-03-19T10:32:40.508Z"
   },
   {
    "duration": 45,
    "start_time": "2022-03-19T10:33:13.561Z"
   },
   {
    "duration": 47,
    "start_time": "2022-03-19T10:33:31.480Z"
   },
   {
    "duration": 47,
    "start_time": "2022-03-19T10:33:44.585Z"
   },
   {
    "duration": 45,
    "start_time": "2022-03-19T10:33:48.172Z"
   },
   {
    "duration": 46,
    "start_time": "2022-03-19T10:33:56.331Z"
   },
   {
    "duration": 42,
    "start_time": "2022-03-19T10:34:32.938Z"
   },
   {
    "duration": 43,
    "start_time": "2022-03-19T10:34:42.876Z"
   },
   {
    "duration": 434,
    "start_time": "2022-03-19T10:38:09.225Z"
   },
   {
    "duration": 22,
    "start_time": "2022-03-19T10:38:12.170Z"
   },
   {
    "duration": 389,
    "start_time": "2022-03-19T10:38:27.275Z"
   },
   {
    "duration": 25,
    "start_time": "2022-03-19T10:38:28.810Z"
   },
   {
    "duration": 52,
    "start_time": "2022-03-19T10:38:45.273Z"
   },
   {
    "duration": 42,
    "start_time": "2022-03-19T10:38:54.907Z"
   },
   {
    "duration": 53,
    "start_time": "2022-03-19T10:39:20.530Z"
   },
   {
    "duration": 42,
    "start_time": "2022-03-19T10:39:42.443Z"
   },
   {
    "duration": 45,
    "start_time": "2022-03-19T10:39:48.866Z"
   },
   {
    "duration": 45,
    "start_time": "2022-03-19T10:39:56.528Z"
   },
   {
    "duration": 43,
    "start_time": "2022-03-19T10:40:07.905Z"
   },
   {
    "duration": 39,
    "start_time": "2022-03-19T10:40:22.752Z"
   },
   {
    "duration": 37,
    "start_time": "2022-03-19T10:40:32.569Z"
   },
   {
    "duration": 38,
    "start_time": "2022-03-19T10:40:51.921Z"
   },
   {
    "duration": 25,
    "start_time": "2022-03-19T10:41:05.818Z"
   },
   {
    "duration": 103,
    "start_time": "2022-03-19T10:43:31.145Z"
   },
   {
    "duration": 115,
    "start_time": "2022-03-19T10:43:50.833Z"
   },
   {
    "duration": 126,
    "start_time": "2022-03-19T10:44:15.633Z"
   },
   {
    "duration": 136,
    "start_time": "2022-03-19T10:49:54.633Z"
   },
   {
    "duration": 113,
    "start_time": "2022-03-19T10:50:07.752Z"
   },
   {
    "duration": 131,
    "start_time": "2022-03-19T10:50:15.674Z"
   },
   {
    "duration": 130,
    "start_time": "2022-03-19T10:50:27.368Z"
   },
   {
    "duration": 131,
    "start_time": "2022-03-19T10:51:55.105Z"
   },
   {
    "duration": 24,
    "start_time": "2022-03-19T10:52:13.289Z"
   },
   {
    "duration": 198,
    "start_time": "2022-03-19T10:52:28.337Z"
   },
   {
    "duration": 30,
    "start_time": "2022-03-19T10:52:41.420Z"
   },
   {
    "duration": 25,
    "start_time": "2022-03-19T10:52:57.578Z"
   },
   {
    "duration": 25,
    "start_time": "2022-03-19T10:53:11.616Z"
   },
   {
    "duration": 24,
    "start_time": "2022-03-19T10:53:20.200Z"
   },
   {
    "duration": 27,
    "start_time": "2022-03-19T10:53:39.929Z"
   },
   {
    "duration": 25,
    "start_time": "2022-03-19T10:53:48.760Z"
   },
   {
    "duration": 38,
    "start_time": "2022-03-19T10:54:24.424Z"
   },
   {
    "duration": 41,
    "start_time": "2022-03-19T10:54:40.032Z"
   },
   {
    "duration": 39,
    "start_time": "2022-03-19T10:55:13.033Z"
   },
   {
    "duration": 39,
    "start_time": "2022-03-19T10:55:35.784Z"
   },
   {
    "duration": 37,
    "start_time": "2022-03-19T10:56:09.761Z"
   },
   {
    "duration": 26,
    "start_time": "2022-03-19T10:56:34.575Z"
   },
   {
    "duration": 107,
    "start_time": "2022-03-19T10:57:17.874Z"
   },
   {
    "duration": 100,
    "start_time": "2022-03-19T10:57:25.656Z"
   },
   {
    "duration": 101,
    "start_time": "2022-03-19T10:57:30.455Z"
   },
   {
    "duration": 105,
    "start_time": "2022-03-19T10:57:39.456Z"
   },
   {
    "duration": 110,
    "start_time": "2022-03-19T10:57:46.264Z"
   },
   {
    "duration": 109,
    "start_time": "2022-03-19T10:57:56.696Z"
   },
   {
    "duration": 131,
    "start_time": "2022-03-19T10:58:13.525Z"
   },
   {
    "duration": 128,
    "start_time": "2022-03-19T10:58:44.840Z"
   },
   {
    "duration": 129,
    "start_time": "2022-03-19T10:59:03.801Z"
   },
   {
    "duration": 124,
    "start_time": "2022-03-19T10:59:15.863Z"
   },
   {
    "duration": 17,
    "start_time": "2022-03-19T11:08:30.183Z"
   },
   {
    "duration": 125,
    "start_time": "2022-03-19T11:08:33.024Z"
   },
   {
    "duration": 15,
    "start_time": "2022-03-19T11:09:37.670Z"
   },
   {
    "duration": 7,
    "start_time": "2022-03-19T11:09:59.823Z"
   },
   {
    "duration": 14,
    "start_time": "2022-03-19T11:10:16.607Z"
   },
   {
    "duration": 15,
    "start_time": "2022-03-19T11:10:22.688Z"
   },
   {
    "duration": 9,
    "start_time": "2022-03-19T11:10:32.828Z"
   },
   {
    "duration": 5,
    "start_time": "2022-03-19T11:20:23.798Z"
   },
   {
    "duration": 409,
    "start_time": "2022-03-19T11:20:28.166Z"
   },
   {
    "duration": 28,
    "start_time": "2022-03-19T11:20:30.175Z"
   },
   {
    "duration": 56,
    "start_time": "2022-03-19T11:20:32.302Z"
   },
   {
    "duration": 126,
    "start_time": "2022-03-19T11:20:39.095Z"
   },
   {
    "duration": 19,
    "start_time": "2022-03-19T11:20:41.927Z"
   },
   {
    "duration": 1486,
    "start_time": "2022-03-20T14:02:13.198Z"
   },
   {
    "duration": 326,
    "start_time": "2022-03-20T14:02:14.686Z"
   },
   {
    "duration": 33,
    "start_time": "2022-03-20T14:02:15.014Z"
   },
   {
    "duration": 37,
    "start_time": "2022-03-20T14:02:15.048Z"
   },
   {
    "duration": 157,
    "start_time": "2022-03-20T14:02:15.087Z"
   },
   {
    "duration": 14,
    "start_time": "2022-03-20T14:02:15.246Z"
   },
   {
    "duration": 106,
    "start_time": "2022-03-20T14:02:15.262Z"
   },
   {
    "duration": 10,
    "start_time": "2022-03-20T14:12:56.004Z"
   },
   {
    "duration": 4,
    "start_time": "2022-03-20T14:13:48.838Z"
   },
   {
    "duration": 6,
    "start_time": "2022-03-20T15:18:36.511Z"
   },
   {
    "duration": 3,
    "start_time": "2022-03-20T15:19:10.928Z"
   },
   {
    "duration": 6,
    "start_time": "2022-03-20T15:49:42.003Z"
   },
   {
    "duration": 15,
    "start_time": "2022-03-20T15:49:43.621Z"
   },
   {
    "duration": 14,
    "start_time": "2022-03-20T16:16:32.774Z"
   },
   {
    "duration": 96,
    "start_time": "2022-03-20T16:17:22.773Z"
   },
   {
    "duration": 4,
    "start_time": "2022-03-20T16:17:40.061Z"
   },
   {
    "duration": 10,
    "start_time": "2022-03-20T16:19:09.538Z"
   },
   {
    "duration": 10,
    "start_time": "2022-03-20T16:19:16.330Z"
   },
   {
    "duration": 9,
    "start_time": "2022-03-20T16:19:33.152Z"
   },
   {
    "duration": 80,
    "start_time": "2022-03-20T16:21:11.037Z"
   },
   {
    "duration": 9,
    "start_time": "2022-03-20T16:21:16.655Z"
   },
   {
    "duration": 4,
    "start_time": "2022-03-20T16:21:38.399Z"
   },
   {
    "duration": 10,
    "start_time": "2022-03-20T16:23:47.992Z"
   },
   {
    "duration": 5,
    "start_time": "2022-03-20T16:24:03.238Z"
   },
   {
    "duration": 6,
    "start_time": "2022-03-20T16:24:23.756Z"
   },
   {
    "duration": 11,
    "start_time": "2022-03-20T16:25:51.949Z"
   },
   {
    "duration": 7,
    "start_time": "2022-03-20T16:26:01.637Z"
   },
   {
    "duration": 10,
    "start_time": "2022-03-20T16:30:24.096Z"
   },
   {
    "duration": 5,
    "start_time": "2022-03-20T16:31:13.331Z"
   },
   {
    "duration": 7,
    "start_time": "2022-03-20T16:31:51.679Z"
   },
   {
    "duration": 4,
    "start_time": "2022-03-20T16:32:57.187Z"
   },
   {
    "duration": 7,
    "start_time": "2022-03-20T16:32:59.343Z"
   },
   {
    "duration": 25,
    "start_time": "2022-03-20T16:34:28.458Z"
   },
   {
    "duration": 6,
    "start_time": "2022-03-20T16:35:20.077Z"
   },
   {
    "duration": 10,
    "start_time": "2022-03-20T16:36:01.701Z"
   },
   {
    "duration": 4,
    "start_time": "2022-03-20T16:36:03.172Z"
   },
   {
    "duration": 7,
    "start_time": "2022-03-20T16:36:03.860Z"
   },
   {
    "duration": 5,
    "start_time": "2022-03-20T16:36:04.725Z"
   },
   {
    "duration": 15,
    "start_time": "2022-03-20T16:36:05.682Z"
   },
   {
    "duration": 6,
    "start_time": "2022-03-20T16:36:06.456Z"
   },
   {
    "duration": 10,
    "start_time": "2022-03-20T16:42:55.946Z"
   },
   {
    "duration": 14,
    "start_time": "2022-03-20T16:43:04.554Z"
   },
   {
    "duration": 14,
    "start_time": "2022-03-20T16:43:39.427Z"
   },
   {
    "duration": 11,
    "start_time": "2022-03-20T16:44:59.594Z"
   },
   {
    "duration": 7,
    "start_time": "2022-03-20T17:03:25.518Z"
   },
   {
    "duration": 7,
    "start_time": "2022-03-20T17:04:02.859Z"
   },
   {
    "duration": 6,
    "start_time": "2022-03-20T17:04:32.864Z"
   },
   {
    "duration": 11,
    "start_time": "2022-03-20T17:06:41.554Z"
   },
   {
    "duration": 11,
    "start_time": "2022-03-20T17:10:06.306Z"
   },
   {
    "duration": 9,
    "start_time": "2022-03-20T17:10:31.679Z"
   },
   {
    "duration": 5,
    "start_time": "2022-03-20T17:10:35.640Z"
   },
   {
    "duration": 6,
    "start_time": "2022-03-20T17:10:43.982Z"
   },
   {
    "duration": 6,
    "start_time": "2022-03-20T17:10:59.544Z"
   },
   {
    "duration": 3,
    "start_time": "2022-03-20T17:22:39.134Z"
   },
   {
    "duration": 4,
    "start_time": "2022-03-20T17:22:40.221Z"
   },
   {
    "duration": 3,
    "start_time": "2022-03-20T17:33:11.895Z"
   },
   {
    "duration": 3,
    "start_time": "2022-03-20T17:34:04.120Z"
   },
   {
    "duration": 11,
    "start_time": "2022-03-20T17:42:36.005Z"
   },
   {
    "duration": 16,
    "start_time": "2022-03-20T17:48:05.982Z"
   },
   {
    "duration": 14,
    "start_time": "2022-03-20T17:48:27.668Z"
   },
   {
    "duration": 9,
    "start_time": "2022-03-20T17:48:41.701Z"
   },
   {
    "duration": 9,
    "start_time": "2022-03-20T17:51:50.805Z"
   },
   {
    "duration": 8,
    "start_time": "2022-03-20T17:52:05.197Z"
   },
   {
    "duration": 28,
    "start_time": "2022-03-20T17:55:27.099Z"
   },
   {
    "duration": 4,
    "start_time": "2022-03-20T18:14:45.541Z"
   },
   {
    "duration": 12,
    "start_time": "2022-03-20T18:17:04.396Z"
   },
   {
    "duration": 3,
    "start_time": "2022-03-20T18:18:25.220Z"
   },
   {
    "duration": 23,
    "start_time": "2022-03-20T18:18:26.139Z"
   },
   {
    "duration": 3,
    "start_time": "2022-03-20T18:18:49.748Z"
   },
   {
    "duration": 3,
    "start_time": "2022-03-20T18:18:50.535Z"
   },
   {
    "duration": 21,
    "start_time": "2022-03-20T18:18:52.942Z"
   },
   {
    "duration": 4,
    "start_time": "2022-03-20T18:19:13.279Z"
   },
   {
    "duration": 347,
    "start_time": "2022-03-20T18:19:13.285Z"
   },
   {
    "duration": 23,
    "start_time": "2022-03-20T18:19:13.634Z"
   },
   {
    "duration": 35,
    "start_time": "2022-03-20T18:19:13.659Z"
   },
   {
    "duration": 152,
    "start_time": "2022-03-20T18:19:13.695Z"
   },
   {
    "duration": 14,
    "start_time": "2022-03-20T18:19:13.848Z"
   },
   {
    "duration": 112,
    "start_time": "2022-03-20T18:19:13.864Z"
   },
   {
    "duration": 9,
    "start_time": "2022-03-20T18:19:13.978Z"
   },
   {
    "duration": 3,
    "start_time": "2022-03-20T18:19:13.990Z"
   },
   {
    "duration": 12,
    "start_time": "2022-03-20T18:19:13.995Z"
   },
   {
    "duration": 6,
    "start_time": "2022-03-20T18:19:14.009Z"
   },
   {
    "duration": 22,
    "start_time": "2022-03-20T18:19:14.033Z"
   },
   {
    "duration": 100,
    "start_time": "2022-03-20T18:19:14.134Z"
   },
   {
    "duration": 14,
    "start_time": "2022-03-20T18:19:14.235Z"
   },
   {
    "duration": 4,
    "start_time": "2022-03-20T18:19:14.250Z"
   },
   {
    "duration": 9,
    "start_time": "2022-03-20T18:19:14.255Z"
   },
   {
    "duration": 7,
    "start_time": "2022-03-20T18:19:14.265Z"
   },
   {
    "duration": 12,
    "start_time": "2022-03-20T18:19:14.273Z"
   },
   {
    "duration": 98,
    "start_time": "2022-03-20T18:19:14.334Z"
   },
   {
    "duration": 11,
    "start_time": "2022-03-20T18:19:14.434Z"
   },
   {
    "duration": 4,
    "start_time": "2022-03-20T18:19:14.446Z"
   },
   {
    "duration": 10,
    "start_time": "2022-03-20T18:19:14.451Z"
   },
   {
    "duration": 6,
    "start_time": "2022-03-20T18:19:14.462Z"
   },
   {
    "duration": 11,
    "start_time": "2022-03-20T18:19:14.471Z"
   },
   {
    "duration": 101,
    "start_time": "2022-03-20T18:19:14.533Z"
   },
   {
    "duration": 20,
    "start_time": "2022-03-20T18:19:14.635Z"
   },
   {
    "duration": 5,
    "start_time": "2022-03-20T18:19:14.656Z"
   },
   {
    "duration": 6,
    "start_time": "2022-03-20T18:19:14.662Z"
   },
   {
    "duration": 13,
    "start_time": "2022-03-20T18:19:14.669Z"
   },
   {
    "duration": 4,
    "start_time": "2022-03-20T18:19:14.684Z"
   },
   {
    "duration": 7,
    "start_time": "2022-03-20T18:19:14.689Z"
   },
   {
    "duration": 43,
    "start_time": "2022-03-20T18:19:14.698Z"
   },
   {
    "duration": 3,
    "start_time": "2022-03-20T18:22:46.387Z"
   },
   {
    "duration": 20,
    "start_time": "2022-03-20T18:22:48.035Z"
   },
   {
    "duration": 4,
    "start_time": "2022-03-20T18:22:53.836Z"
   },
   {
    "duration": 343,
    "start_time": "2022-03-20T18:22:53.842Z"
   },
   {
    "duration": 22,
    "start_time": "2022-03-20T18:22:54.186Z"
   },
   {
    "duration": 53,
    "start_time": "2022-03-20T18:22:54.210Z"
   },
   {
    "duration": 127,
    "start_time": "2022-03-20T18:22:54.266Z"
   },
   {
    "duration": 13,
    "start_time": "2022-03-20T18:22:54.394Z"
   },
   {
    "duration": 102,
    "start_time": "2022-03-20T18:22:54.408Z"
   },
   {
    "duration": 22,
    "start_time": "2022-03-20T18:22:54.511Z"
   },
   {
    "duration": 4,
    "start_time": "2022-03-20T18:22:54.534Z"
   },
   {
    "duration": 8,
    "start_time": "2022-03-20T18:22:54.539Z"
   },
   {
    "duration": 8,
    "start_time": "2022-03-20T18:22:54.548Z"
   },
   {
    "duration": 79,
    "start_time": "2022-03-20T18:22:54.557Z"
   },
   {
    "duration": 95,
    "start_time": "2022-03-20T18:22:54.639Z"
   },
   {
    "duration": 11,
    "start_time": "2022-03-20T18:22:54.738Z"
   },
   {
    "duration": 4,
    "start_time": "2022-03-20T18:22:54.751Z"
   },
   {
    "duration": 9,
    "start_time": "2022-03-20T18:22:54.756Z"
   },
   {
    "duration": 6,
    "start_time": "2022-03-20T18:22:54.767Z"
   },
   {
    "duration": 12,
    "start_time": "2022-03-20T18:22:54.774Z"
   },
   {
    "duration": 99,
    "start_time": "2022-03-20T18:22:54.834Z"
   },
   {
    "duration": 10,
    "start_time": "2022-03-20T18:22:54.935Z"
   },
   {
    "duration": 9,
    "start_time": "2022-03-20T18:22:54.946Z"
   },
   {
    "duration": 8,
    "start_time": "2022-03-20T18:22:54.957Z"
   },
   {
    "duration": 5,
    "start_time": "2022-03-20T18:22:54.967Z"
   },
   {
    "duration": 59,
    "start_time": "2022-03-20T18:22:54.974Z"
   },
   {
    "duration": 99,
    "start_time": "2022-03-20T18:22:55.035Z"
   },
   {
    "duration": 10,
    "start_time": "2022-03-20T18:22:55.135Z"
   },
   {
    "duration": 9,
    "start_time": "2022-03-20T18:22:55.147Z"
   },
   {
    "duration": 8,
    "start_time": "2022-03-20T18:22:55.158Z"
   },
   {
    "duration": 11,
    "start_time": "2022-03-20T18:22:55.168Z"
   },
   {
    "duration": 8,
    "start_time": "2022-03-20T18:22:55.180Z"
   },
   {
    "duration": 14,
    "start_time": "2022-03-20T18:22:55.189Z"
   },
   {
    "duration": 0,
    "start_time": "2022-03-20T18:22:55.205Z"
   },
   {
    "duration": 4,
    "start_time": "2022-03-20T18:23:46.714Z"
   },
   {
    "duration": 3,
    "start_time": "2022-03-20T18:23:47.211Z"
   },
   {
    "duration": 20,
    "start_time": "2022-03-20T18:23:47.827Z"
   },
   {
    "duration": 3,
    "start_time": "2022-03-20T18:25:14.909Z"
   },
   {
    "duration": 22,
    "start_time": "2022-03-20T18:25:15.715Z"
   },
   {
    "duration": 4,
    "start_time": "2022-03-20T18:27:17.905Z"
   },
   {
    "duration": 356,
    "start_time": "2022-03-20T18:27:17.910Z"
   },
   {
    "duration": 24,
    "start_time": "2022-03-20T18:27:18.267Z"
   },
   {
    "duration": 58,
    "start_time": "2022-03-20T18:27:18.293Z"
   },
   {
    "duration": 127,
    "start_time": "2022-03-20T18:27:18.354Z"
   },
   {
    "duration": 13,
    "start_time": "2022-03-20T18:27:18.483Z"
   },
   {
    "duration": 104,
    "start_time": "2022-03-20T18:27:18.498Z"
   },
   {
    "duration": 9,
    "start_time": "2022-03-20T18:27:18.604Z"
   },
   {
    "duration": 3,
    "start_time": "2022-03-20T18:27:18.633Z"
   },
   {
    "duration": 7,
    "start_time": "2022-03-20T18:27:18.638Z"
   },
   {
    "duration": 6,
    "start_time": "2022-03-20T18:27:18.646Z"
   },
   {
    "duration": 79,
    "start_time": "2022-03-20T18:27:18.653Z"
   },
   {
    "duration": 9,
    "start_time": "2022-03-20T18:27:18.736Z"
   },
   {
    "duration": 92,
    "start_time": "2022-03-20T18:27:18.748Z"
   },
   {
    "duration": 4,
    "start_time": "2022-03-20T18:27:18.842Z"
   },
   {
    "duration": 10,
    "start_time": "2022-03-20T18:27:18.847Z"
   },
   {
    "duration": 11,
    "start_time": "2022-03-20T18:27:18.858Z"
   },
   {
    "duration": 61,
    "start_time": "2022-03-20T18:27:18.871Z"
   },
   {
    "duration": 98,
    "start_time": "2022-03-20T18:27:18.935Z"
   },
   {
    "duration": 10,
    "start_time": "2022-03-20T18:27:19.035Z"
   },
   {
    "duration": 6,
    "start_time": "2022-03-20T18:27:19.047Z"
   },
   {
    "duration": 10,
    "start_time": "2022-03-20T18:27:19.054Z"
   },
   {
    "duration": 6,
    "start_time": "2022-03-20T18:27:19.065Z"
   },
   {
    "duration": 61,
    "start_time": "2022-03-20T18:27:19.072Z"
   },
   {
    "duration": 98,
    "start_time": "2022-03-20T18:27:19.136Z"
   },
   {
    "duration": 10,
    "start_time": "2022-03-20T18:27:19.236Z"
   },
   {
    "duration": 4,
    "start_time": "2022-03-20T18:27:19.248Z"
   },
   {
    "duration": 7,
    "start_time": "2022-03-20T18:27:19.254Z"
   },
   {
    "duration": 14,
    "start_time": "2022-03-20T18:27:19.262Z"
   },
   {
    "duration": 4,
    "start_time": "2022-03-20T18:27:19.277Z"
   },
   {
    "duration": 13,
    "start_time": "2022-03-20T18:27:19.282Z"
   },
   {
    "duration": 0,
    "start_time": "2022-03-20T18:27:19.296Z"
   },
   {
    "duration": 4,
    "start_time": "2022-03-20T18:27:38.966Z"
   },
   {
    "duration": 344,
    "start_time": "2022-03-20T18:27:38.973Z"
   },
   {
    "duration": 26,
    "start_time": "2022-03-20T18:27:39.319Z"
   },
   {
    "duration": 37,
    "start_time": "2022-03-20T18:27:39.347Z"
   },
   {
    "duration": 142,
    "start_time": "2022-03-20T18:27:39.386Z"
   },
   {
    "duration": 13,
    "start_time": "2022-03-20T18:27:39.532Z"
   },
   {
    "duration": 104,
    "start_time": "2022-03-20T18:27:39.546Z"
   },
   {
    "duration": 9,
    "start_time": "2022-03-20T18:27:39.651Z"
   },
   {
    "duration": 3,
    "start_time": "2022-03-20T18:27:39.662Z"
   },
   {
    "duration": 5,
    "start_time": "2022-03-20T18:27:39.667Z"
   },
   {
    "duration": 7,
    "start_time": "2022-03-20T18:27:39.674Z"
   },
   {
    "duration": 59,
    "start_time": "2022-03-20T18:27:39.682Z"
   },
   {
    "duration": 6,
    "start_time": "2022-03-20T18:27:39.833Z"
   },
   {
    "duration": 10,
    "start_time": "2022-03-20T18:27:39.842Z"
   },
   {
    "duration": 4,
    "start_time": "2022-03-20T18:27:39.853Z"
   },
   {
    "duration": 6,
    "start_time": "2022-03-20T18:27:39.858Z"
   },
   {
    "duration": 6,
    "start_time": "2022-03-20T18:27:39.866Z"
   },
   {
    "duration": 11,
    "start_time": "2022-03-20T18:27:39.873Z"
   },
   {
    "duration": 8,
    "start_time": "2022-03-20T18:27:39.934Z"
   },
   {
    "duration": 12,
    "start_time": "2022-03-20T18:27:40.033Z"
   },
   {
    "duration": 4,
    "start_time": "2022-03-20T18:27:40.046Z"
   },
   {
    "duration": 11,
    "start_time": "2022-03-20T18:27:40.052Z"
   },
   {
    "duration": 8,
    "start_time": "2022-03-20T18:27:40.064Z"
   },
   {
    "duration": 61,
    "start_time": "2022-03-20T18:27:40.073Z"
   },
   {
    "duration": 93,
    "start_time": "2022-03-20T18:27:40.141Z"
   },
   {
    "duration": 12,
    "start_time": "2022-03-20T18:27:40.236Z"
   },
   {
    "duration": 4,
    "start_time": "2022-03-20T18:27:40.249Z"
   },
   {
    "duration": 7,
    "start_time": "2022-03-20T18:27:40.254Z"
   },
   {
    "duration": 12,
    "start_time": "2022-03-20T18:27:40.263Z"
   },
   {
    "duration": 9,
    "start_time": "2022-03-20T18:27:40.277Z"
   },
   {
    "duration": 7,
    "start_time": "2022-03-20T18:27:40.287Z"
   },
   {
    "duration": 40,
    "start_time": "2022-03-20T18:27:40.296Z"
   },
   {
    "duration": 4,
    "start_time": "2022-03-20T18:31:27.645Z"
   },
   {
    "duration": 4,
    "start_time": "2022-03-20T18:31:28.346Z"
   },
   {
    "duration": 30,
    "start_time": "2022-03-20T18:31:31.811Z"
   },
   {
    "duration": 3,
    "start_time": "2022-03-20T18:31:50.990Z"
   },
   {
    "duration": 5,
    "start_time": "2022-03-20T18:31:51.834Z"
   },
   {
    "duration": 23,
    "start_time": "2022-03-20T18:31:52.451Z"
   },
   {
    "duration": 5,
    "start_time": "2022-03-20T18:32:15.759Z"
   },
   {
    "duration": 345,
    "start_time": "2022-03-20T18:32:15.766Z"
   },
   {
    "duration": 30,
    "start_time": "2022-03-20T18:32:16.112Z"
   },
   {
    "duration": 34,
    "start_time": "2022-03-20T18:32:16.144Z"
   },
   {
    "duration": 133,
    "start_time": "2022-03-20T18:32:16.180Z"
   },
   {
    "duration": 18,
    "start_time": "2022-03-20T18:32:16.314Z"
   },
   {
    "duration": 107,
    "start_time": "2022-03-20T18:32:16.334Z"
   },
   {
    "duration": 10,
    "start_time": "2022-03-20T18:32:16.443Z"
   },
   {
    "duration": 4,
    "start_time": "2022-03-20T18:32:16.454Z"
   },
   {
    "duration": 6,
    "start_time": "2022-03-20T18:32:16.460Z"
   },
   {
    "duration": 5,
    "start_time": "2022-03-20T18:32:16.468Z"
   },
   {
    "duration": 62,
    "start_time": "2022-03-20T18:32:16.474Z"
   },
   {
    "duration": 96,
    "start_time": "2022-03-20T18:32:16.538Z"
   },
   {
    "duration": 13,
    "start_time": "2022-03-20T18:32:16.636Z"
   },
   {
    "duration": 3,
    "start_time": "2022-03-20T18:32:16.651Z"
   },
   {
    "duration": 9,
    "start_time": "2022-03-20T18:32:16.656Z"
   },
   {
    "duration": 12,
    "start_time": "2022-03-20T18:32:16.666Z"
   },
   {
    "duration": 54,
    "start_time": "2022-03-20T18:32:16.680Z"
   },
   {
    "duration": 100,
    "start_time": "2022-03-20T18:32:16.735Z"
   },
   {
    "duration": 10,
    "start_time": "2022-03-20T18:32:16.837Z"
   },
   {
    "duration": 3,
    "start_time": "2022-03-20T18:32:16.849Z"
   },
   {
    "duration": 14,
    "start_time": "2022-03-20T18:32:16.854Z"
   },
   {
    "duration": 7,
    "start_time": "2022-03-20T18:32:16.869Z"
   },
   {
    "duration": 56,
    "start_time": "2022-03-20T18:32:16.877Z"
   },
   {
    "duration": 97,
    "start_time": "2022-03-20T18:32:16.936Z"
   },
   {
    "duration": 10,
    "start_time": "2022-03-20T18:32:17.035Z"
   },
   {
    "duration": 5,
    "start_time": "2022-03-20T18:32:17.047Z"
   },
   {
    "duration": 6,
    "start_time": "2022-03-20T18:32:17.054Z"
   },
   {
    "duration": 17,
    "start_time": "2022-03-20T18:32:17.062Z"
   },
   {
    "duration": 9,
    "start_time": "2022-03-20T18:32:17.080Z"
   },
   {
    "duration": 12,
    "start_time": "2022-03-20T18:32:17.090Z"
   },
   {
    "duration": 40,
    "start_time": "2022-03-20T18:32:17.104Z"
   },
   {
    "duration": 5,
    "start_time": "2022-03-20T18:32:32.606Z"
   },
   {
    "duration": 346,
    "start_time": "2022-03-20T18:32:32.612Z"
   },
   {
    "duration": 22,
    "start_time": "2022-03-20T18:32:32.960Z"
   },
   {
    "duration": 53,
    "start_time": "2022-03-20T18:32:32.984Z"
   },
   {
    "duration": 125,
    "start_time": "2022-03-20T18:32:33.040Z"
   },
   {
    "duration": 14,
    "start_time": "2022-03-20T18:32:33.167Z"
   },
   {
    "duration": 107,
    "start_time": "2022-03-20T18:32:33.183Z"
   },
   {
    "duration": 9,
    "start_time": "2022-03-20T18:32:33.292Z"
   },
   {
    "duration": 4,
    "start_time": "2022-03-20T18:32:33.303Z"
   },
   {
    "duration": 32,
    "start_time": "2022-03-20T18:32:33.308Z"
   },
   {
    "duration": 6,
    "start_time": "2022-03-20T18:32:33.342Z"
   },
   {
    "duration": 15,
    "start_time": "2022-03-20T18:32:33.349Z"
   },
   {
    "duration": 74,
    "start_time": "2022-03-20T18:32:33.366Z"
   },
   {
    "duration": 16,
    "start_time": "2022-03-20T18:32:33.532Z"
   },
   {
    "duration": 5,
    "start_time": "2022-03-20T18:32:33.549Z"
   },
   {
    "duration": 14,
    "start_time": "2022-03-20T18:32:33.555Z"
   },
   {
    "duration": 6,
    "start_time": "2022-03-20T18:32:33.570Z"
   },
   {
    "duration": 60,
    "start_time": "2022-03-20T18:32:33.578Z"
   },
   {
    "duration": 95,
    "start_time": "2022-03-20T18:32:33.640Z"
   },
   {
    "duration": 15,
    "start_time": "2022-03-20T18:32:33.736Z"
   },
   {
    "duration": 4,
    "start_time": "2022-03-20T18:32:33.753Z"
   },
   {
    "duration": 12,
    "start_time": "2022-03-20T18:32:33.759Z"
   },
   {
    "duration": 9,
    "start_time": "2022-03-20T18:32:33.772Z"
   },
   {
    "duration": 52,
    "start_time": "2022-03-20T18:32:33.783Z"
   },
   {
    "duration": 8,
    "start_time": "2022-03-20T18:32:33.837Z"
   },
   {
    "duration": 17,
    "start_time": "2022-03-20T18:32:33.934Z"
   },
   {
    "duration": 4,
    "start_time": "2022-03-20T18:32:33.952Z"
   },
   {
    "duration": 8,
    "start_time": "2022-03-20T18:32:33.958Z"
   },
   {
    "duration": 12,
    "start_time": "2022-03-20T18:32:33.968Z"
   },
   {
    "duration": 4,
    "start_time": "2022-03-20T18:32:33.982Z"
   },
   {
    "duration": 11,
    "start_time": "2022-03-20T18:32:34.034Z"
   },
   {
    "duration": 0,
    "start_time": "2022-03-20T18:32:34.047Z"
   },
   {
    "duration": 3,
    "start_time": "2022-03-20T18:32:48.362Z"
   },
   {
    "duration": 12,
    "start_time": "2022-03-20T18:32:49.882Z"
   },
   {
    "duration": 3,
    "start_time": "2022-03-20T18:36:11.058Z"
   },
   {
    "duration": 11,
    "start_time": "2022-03-20T18:36:12.266Z"
   },
   {
    "duration": 3,
    "start_time": "2022-03-20T18:36:16.267Z"
   },
   {
    "duration": 15,
    "start_time": "2022-03-20T18:36:16.701Z"
   },
   {
    "duration": 3,
    "start_time": "2022-03-20T18:36:43.258Z"
   },
   {
    "duration": 3,
    "start_time": "2022-03-20T18:36:45.658Z"
   },
   {
    "duration": 23,
    "start_time": "2022-03-20T18:36:46.467Z"
   },
   {
    "duration": 3,
    "start_time": "2022-03-20T18:39:34.890Z"
   },
   {
    "duration": 4,
    "start_time": "2022-03-20T18:39:35.526Z"
   },
   {
    "duration": 11,
    "start_time": "2022-03-20T18:39:36.047Z"
   },
   {
    "duration": 8,
    "start_time": "2022-03-20T18:40:02.075Z"
   },
   {
    "duration": 3,
    "start_time": "2022-03-20T18:40:05.738Z"
   },
   {
    "duration": 7,
    "start_time": "2022-03-20T18:40:07.862Z"
   },
   {
    "duration": 3,
    "start_time": "2022-03-20T18:40:30.562Z"
   },
   {
    "duration": 8,
    "start_time": "2022-03-20T18:40:58.218Z"
   },
   {
    "duration": 13,
    "start_time": "2022-03-20T18:41:04.803Z"
   },
   {
    "duration": 19,
    "start_time": "2022-03-20T18:41:46.402Z"
   },
   {
    "duration": 3,
    "start_time": "2022-03-20T18:42:49.434Z"
   },
   {
    "duration": 12,
    "start_time": "2022-03-20T18:43:13.058Z"
   },
   {
    "duration": 12,
    "start_time": "2022-03-20T18:43:31.538Z"
   },
   {
    "duration": 20,
    "start_time": "2022-03-20T18:43:36.323Z"
   },
   {
    "duration": 14,
    "start_time": "2022-03-20T18:43:50.114Z"
   },
   {
    "duration": 12,
    "start_time": "2022-03-20T18:44:19.685Z"
   },
   {
    "duration": 12,
    "start_time": "2022-03-20T18:44:29.178Z"
   },
   {
    "duration": 19,
    "start_time": "2022-03-20T18:44:40.946Z"
   },
   {
    "duration": 12,
    "start_time": "2022-03-20T18:44:49.483Z"
   },
   {
    "duration": 13,
    "start_time": "2022-03-20T18:44:59.227Z"
   },
   {
    "duration": 12,
    "start_time": "2022-03-20T18:45:06.667Z"
   },
   {
    "duration": 13,
    "start_time": "2022-03-20T18:45:20.203Z"
   },
   {
    "duration": 9,
    "start_time": "2022-03-20T18:45:28.794Z"
   },
   {
    "duration": 14,
    "start_time": "2022-03-20T18:46:25.050Z"
   },
   {
    "duration": 13,
    "start_time": "2022-03-20T18:46:36.020Z"
   },
   {
    "duration": 14,
    "start_time": "2022-03-20T18:47:41.915Z"
   },
   {
    "duration": 3,
    "start_time": "2022-03-20T18:50:13.561Z"
   },
   {
    "duration": 3,
    "start_time": "2022-03-20T18:50:14.545Z"
   },
   {
    "duration": 13,
    "start_time": "2022-03-20T18:50:15.097Z"
   },
   {
    "duration": 4,
    "start_time": "2022-03-20T18:50:25.083Z"
   },
   {
    "duration": 2,
    "start_time": "2022-03-20T18:50:25.601Z"
   },
   {
    "duration": 15,
    "start_time": "2022-03-20T18:50:26.034Z"
   },
   {
    "duration": 3,
    "start_time": "2022-03-20T18:50:39.764Z"
   },
   {
    "duration": 2,
    "start_time": "2022-03-20T18:50:40.138Z"
   },
   {
    "duration": 1241,
    "start_time": "2022-03-20T18:50:40.458Z"
   },
   {
    "duration": 3,
    "start_time": "2022-03-20T18:51:31.937Z"
   },
   {
    "duration": 3,
    "start_time": "2022-03-20T18:51:32.533Z"
   },
   {
    "duration": 15,
    "start_time": "2022-03-20T18:51:32.977Z"
   },
   {
    "duration": 9,
    "start_time": "2022-03-20T18:55:30.390Z"
   },
   {
    "duration": 107,
    "start_time": "2022-03-20T18:55:53.681Z"
   },
   {
    "duration": 3,
    "start_time": "2022-03-20T18:56:03.386Z"
   },
   {
    "duration": 9,
    "start_time": "2022-03-20T18:56:03.993Z"
   },
   {
    "duration": 4,
    "start_time": "2022-03-20T18:56:10.297Z"
   },
   {
    "duration": 8,
    "start_time": "2022-03-20T18:56:10.857Z"
   },
   {
    "duration": 3,
    "start_time": "2022-03-20T18:56:19.549Z"
   },
   {
    "duration": 27,
    "start_time": "2022-03-20T18:56:19.964Z"
   },
   {
    "duration": 9,
    "start_time": "2022-03-20T18:57:11.450Z"
   },
   {
    "duration": 12,
    "start_time": "2022-03-20T18:57:42.881Z"
   },
   {
    "duration": 3,
    "start_time": "2022-03-20T19:02:03.688Z"
   },
   {
    "duration": 3,
    "start_time": "2022-03-20T19:02:10.752Z"
   },
   {
    "duration": 8,
    "start_time": "2022-03-20T19:02:11.433Z"
   },
   {
    "duration": 20,
    "start_time": "2022-03-20T19:02:41.544Z"
   },
   {
    "duration": 3,
    "start_time": "2022-03-20T19:06:03.064Z"
   },
   {
    "duration": 3,
    "start_time": "2022-03-20T19:06:03.488Z"
   },
   {
    "duration": 19,
    "start_time": "2022-03-20T19:06:03.888Z"
   },
   {
    "duration": 9,
    "start_time": "2022-03-20T19:06:11.120Z"
   },
   {
    "duration": 14,
    "start_time": "2022-03-20T19:08:22.040Z"
   },
   {
    "duration": 3,
    "start_time": "2022-03-20T19:08:26.481Z"
   },
   {
    "duration": 14,
    "start_time": "2022-03-20T19:08:26.937Z"
   },
   {
    "duration": 6,
    "start_time": "2022-03-20T19:08:38.948Z"
   },
   {
    "duration": 357,
    "start_time": "2022-03-20T19:08:38.956Z"
   },
   {
    "duration": 33,
    "start_time": "2022-03-20T19:08:39.316Z"
   },
   {
    "duration": 54,
    "start_time": "2022-03-20T19:08:39.351Z"
   },
   {
    "duration": 171,
    "start_time": "2022-03-20T19:08:39.433Z"
   },
   {
    "duration": 28,
    "start_time": "2022-03-20T19:08:39.606Z"
   },
   {
    "duration": 120,
    "start_time": "2022-03-20T19:08:39.636Z"
   },
   {
    "duration": 10,
    "start_time": "2022-03-20T19:08:39.758Z"
   },
   {
    "duration": 4,
    "start_time": "2022-03-20T19:08:39.769Z"
   },
   {
    "duration": 7,
    "start_time": "2022-03-20T19:08:39.775Z"
   },
   {
    "duration": 10,
    "start_time": "2022-03-20T19:08:39.783Z"
   },
   {
    "duration": 51,
    "start_time": "2022-03-20T19:08:39.794Z"
   },
   {
    "duration": 185,
    "start_time": "2022-03-20T19:08:39.847Z"
   },
   {
    "duration": 14,
    "start_time": "2022-03-20T19:08:40.035Z"
   },
   {
    "duration": 4,
    "start_time": "2022-03-20T19:08:40.050Z"
   },
   {
    "duration": 7,
    "start_time": "2022-03-20T19:08:40.055Z"
   },
   {
    "duration": 8,
    "start_time": "2022-03-20T19:08:40.064Z"
   },
   {
    "duration": 62,
    "start_time": "2022-03-20T19:08:40.074Z"
   },
   {
    "duration": 95,
    "start_time": "2022-03-20T19:08:40.138Z"
   },
   {
    "duration": 10,
    "start_time": "2022-03-20T19:08:40.236Z"
   },
   {
    "duration": 4,
    "start_time": "2022-03-20T19:08:40.248Z"
   },
   {
    "duration": 11,
    "start_time": "2022-03-20T19:08:40.253Z"
   },
   {
    "duration": 5,
    "start_time": "2022-03-20T19:08:40.266Z"
   },
   {
    "duration": 65,
    "start_time": "2022-03-20T19:08:40.273Z"
   },
   {
    "duration": 92,
    "start_time": "2022-03-20T19:08:40.342Z"
   },
   {
    "duration": 14,
    "start_time": "2022-03-20T19:08:40.436Z"
   },
   {
    "duration": 5,
    "start_time": "2022-03-20T19:08:40.452Z"
   },
   {
    "duration": 5,
    "start_time": "2022-03-20T19:08:40.534Z"
   },
   {
    "duration": 21,
    "start_time": "2022-03-20T19:08:40.540Z"
   },
   {
    "duration": 4,
    "start_time": "2022-03-20T19:08:40.564Z"
   },
   {
    "duration": 15,
    "start_time": "2022-03-20T19:08:40.569Z"
   },
   {
    "duration": 0,
    "start_time": "2022-03-20T19:08:40.586Z"
   },
   {
    "duration": 5,
    "start_time": "2022-03-20T19:08:54.422Z"
   },
   {
    "duration": 341,
    "start_time": "2022-03-20T19:08:54.429Z"
   },
   {
    "duration": 24,
    "start_time": "2022-03-20T19:08:54.772Z"
   },
   {
    "duration": 61,
    "start_time": "2022-03-20T19:08:54.799Z"
   },
   {
    "duration": 139,
    "start_time": "2022-03-20T19:08:54.861Z"
   },
   {
    "duration": 14,
    "start_time": "2022-03-20T19:08:55.001Z"
   },
   {
    "duration": 100,
    "start_time": "2022-03-20T19:08:55.017Z"
   },
   {
    "duration": 10,
    "start_time": "2022-03-20T19:08:55.132Z"
   },
   {
    "duration": 4,
    "start_time": "2022-03-20T19:08:55.144Z"
   },
   {
    "duration": 9,
    "start_time": "2022-03-20T19:08:55.149Z"
   },
   {
    "duration": 7,
    "start_time": "2022-03-20T19:08:55.159Z"
   },
   {
    "duration": 69,
    "start_time": "2022-03-20T19:08:55.167Z"
   },
   {
    "duration": 98,
    "start_time": "2022-03-20T19:08:55.238Z"
   },
   {
    "duration": 14,
    "start_time": "2022-03-20T19:08:55.338Z"
   },
   {
    "duration": 4,
    "start_time": "2022-03-20T19:08:55.354Z"
   },
   {
    "duration": 6,
    "start_time": "2022-03-20T19:08:55.360Z"
   },
   {
    "duration": 7,
    "start_time": "2022-03-20T19:08:55.368Z"
   },
   {
    "duration": 60,
    "start_time": "2022-03-20T19:08:55.376Z"
   },
   {
    "duration": 98,
    "start_time": "2022-03-20T19:08:55.438Z"
   },
   {
    "duration": 9,
    "start_time": "2022-03-20T19:08:55.538Z"
   },
   {
    "duration": 4,
    "start_time": "2022-03-20T19:08:55.549Z"
   },
   {
    "duration": 17,
    "start_time": "2022-03-20T19:08:55.554Z"
   },
   {
    "duration": 9,
    "start_time": "2022-03-20T19:08:55.573Z"
   },
   {
    "duration": 14,
    "start_time": "2022-03-20T19:08:55.585Z"
   },
   {
    "duration": 97,
    "start_time": "2022-03-20T19:08:55.640Z"
   },
   {
    "duration": 11,
    "start_time": "2022-03-20T19:08:55.738Z"
   },
   {
    "duration": 20,
    "start_time": "2022-03-20T19:08:55.750Z"
   },
   {
    "duration": 9,
    "start_time": "2022-03-20T19:08:55.772Z"
   },
   {
    "duration": 22,
    "start_time": "2022-03-20T19:08:55.783Z"
   },
   {
    "duration": 3,
    "start_time": "2022-03-20T19:08:55.807Z"
   },
   {
    "duration": 4,
    "start_time": "2022-03-20T19:08:55.812Z"
   },
   {
    "duration": 22,
    "start_time": "2022-03-20T19:08:55.818Z"
   },
   {
    "duration": 3,
    "start_time": "2022-03-20T19:16:18.024Z"
   },
   {
    "duration": 7,
    "start_time": "2022-03-20T19:21:32.608Z"
   },
   {
    "duration": 1722,
    "start_time": "2022-03-20T19:22:13.615Z"
   },
   {
    "duration": 3,
    "start_time": "2022-03-20T19:22:44.068Z"
   },
   {
    "duration": 343,
    "start_time": "2022-03-20T19:22:44.073Z"
   },
   {
    "duration": 29,
    "start_time": "2022-03-20T19:22:44.418Z"
   },
   {
    "duration": 35,
    "start_time": "2022-03-20T19:22:44.449Z"
   },
   {
    "duration": 137,
    "start_time": "2022-03-20T19:22:44.486Z"
   },
   {
    "duration": 17,
    "start_time": "2022-03-20T19:22:44.625Z"
   },
   {
    "duration": 107,
    "start_time": "2022-03-20T19:22:44.644Z"
   },
   {
    "duration": 9,
    "start_time": "2022-03-20T19:22:44.752Z"
   },
   {
    "duration": 5,
    "start_time": "2022-03-20T19:22:44.764Z"
   },
   {
    "duration": 6,
    "start_time": "2022-03-20T19:22:44.770Z"
   },
   {
    "duration": 6,
    "start_time": "2022-03-20T19:22:44.777Z"
   },
   {
    "duration": 57,
    "start_time": "2022-03-20T19:22:44.785Z"
   },
   {
    "duration": 90,
    "start_time": "2022-03-20T19:22:44.845Z"
   },
   {
    "duration": 18,
    "start_time": "2022-03-20T19:22:44.937Z"
   },
   {
    "duration": 76,
    "start_time": "2022-03-20T19:22:44.957Z"
   },
   {
    "duration": 6,
    "start_time": "2022-03-20T19:22:45.035Z"
   },
   {
    "duration": 7,
    "start_time": "2022-03-20T19:22:45.042Z"
   },
   {
    "duration": 82,
    "start_time": "2022-03-20T19:22:45.051Z"
   },
   {
    "duration": 99,
    "start_time": "2022-03-20T19:22:45.135Z"
   },
   {
    "duration": 11,
    "start_time": "2022-03-20T19:22:45.236Z"
   },
   {
    "duration": 4,
    "start_time": "2022-03-20T19:22:45.249Z"
   },
   {
    "duration": 10,
    "start_time": "2022-03-20T19:22:45.254Z"
   },
   {
    "duration": 7,
    "start_time": "2022-03-20T19:22:45.266Z"
   },
   {
    "duration": 66,
    "start_time": "2022-03-20T19:22:45.275Z"
   },
   {
    "duration": 92,
    "start_time": "2022-03-20T19:22:45.342Z"
   },
   {
    "duration": 11,
    "start_time": "2022-03-20T19:22:45.436Z"
   },
   {
    "duration": 7,
    "start_time": "2022-03-20T19:22:45.449Z"
   },
   {
    "duration": 9,
    "start_time": "2022-03-20T19:22:45.458Z"
   },
   {
    "duration": 10,
    "start_time": "2022-03-20T19:22:45.469Z"
   },
   {
    "duration": 5,
    "start_time": "2022-03-20T19:22:45.480Z"
   },
   {
    "duration": 4,
    "start_time": "2022-03-20T19:22:45.486Z"
   },
   {
    "duration": 5,
    "start_time": "2022-03-20T19:22:45.492Z"
   },
   {
    "duration": 1879,
    "start_time": "2022-03-20T19:22:45.498Z"
   },
   {
    "duration": 2303,
    "start_time": "2022-03-20T19:24:16.835Z"
   },
   {
    "duration": 3,
    "start_time": "2022-03-20T19:27:56.045Z"
   },
   {
    "duration": 3,
    "start_time": "2022-03-20T19:27:57.407Z"
   },
   {
    "duration": 5,
    "start_time": "2022-03-20T19:27:57.818Z"
   },
   {
    "duration": 415,
    "start_time": "2022-03-20T19:27:58.397Z"
   },
   {
    "duration": 381,
    "start_time": "2022-03-20T19:28:36.656Z"
   },
   {
    "duration": 7,
    "start_time": "2022-03-20T19:31:06.600Z"
   },
   {
    "duration": 380,
    "start_time": "2022-03-20T19:32:01.944Z"
   },
   {
    "duration": 609,
    "start_time": "2022-03-20T19:32:11.047Z"
   },
   {
    "duration": 608,
    "start_time": "2022-03-20T19:32:21.810Z"
   },
   {
    "duration": 8,
    "start_time": "2022-03-20T19:33:42.090Z"
   },
   {
    "duration": 7,
    "start_time": "2022-03-20T19:33:53.408Z"
   },
   {
    "duration": 382,
    "start_time": "2022-03-20T19:34:36.177Z"
   },
   {
    "duration": 396,
    "start_time": "2022-03-20T19:36:08.327Z"
   },
   {
    "duration": 5,
    "start_time": "2022-03-20T19:41:36.315Z"
   },
   {
    "duration": 338,
    "start_time": "2022-03-20T19:41:36.345Z"
   },
   {
    "duration": 24,
    "start_time": "2022-03-20T19:41:36.685Z"
   },
   {
    "duration": 58,
    "start_time": "2022-03-20T19:41:36.711Z"
   },
   {
    "duration": 131,
    "start_time": "2022-03-20T19:41:36.771Z"
   },
   {
    "duration": 13,
    "start_time": "2022-03-20T19:41:36.905Z"
   },
   {
    "duration": 107,
    "start_time": "2022-03-20T19:41:36.932Z"
   },
   {
    "duration": 10,
    "start_time": "2022-03-20T19:41:37.040Z"
   },
   {
    "duration": 4,
    "start_time": "2022-03-20T19:41:37.052Z"
   },
   {
    "duration": 10,
    "start_time": "2022-03-20T19:41:37.057Z"
   },
   {
    "duration": 7,
    "start_time": "2022-03-20T19:41:37.068Z"
   },
   {
    "duration": 157,
    "start_time": "2022-03-20T19:41:37.076Z"
   },
   {
    "duration": 8,
    "start_time": "2022-03-20T19:41:37.235Z"
   },
   {
    "duration": 13,
    "start_time": "2022-03-20T19:41:37.245Z"
   },
   {
    "duration": 3,
    "start_time": "2022-03-20T19:41:37.262Z"
   },
   {
    "duration": 10,
    "start_time": "2022-03-20T19:41:37.268Z"
   },
   {
    "duration": 9,
    "start_time": "2022-03-20T19:41:37.280Z"
   },
   {
    "duration": 51,
    "start_time": "2022-03-20T19:41:37.290Z"
   },
   {
    "duration": 93,
    "start_time": "2022-03-20T19:41:37.343Z"
   },
   {
    "duration": 13,
    "start_time": "2022-03-20T19:41:37.438Z"
   },
   {
    "duration": 6,
    "start_time": "2022-03-20T19:41:37.453Z"
   },
   {
    "duration": 10,
    "start_time": "2022-03-20T19:41:37.461Z"
   },
   {
    "duration": 13,
    "start_time": "2022-03-20T19:41:37.473Z"
   },
   {
    "duration": 50,
    "start_time": "2022-03-20T19:41:37.488Z"
   },
   {
    "duration": 97,
    "start_time": "2022-03-20T19:41:37.540Z"
   },
   {
    "duration": 17,
    "start_time": "2022-03-20T19:41:37.639Z"
   },
   {
    "duration": 76,
    "start_time": "2022-03-20T19:41:37.658Z"
   },
   {
    "duration": 7,
    "start_time": "2022-03-20T19:41:37.735Z"
   },
   {
    "duration": 12,
    "start_time": "2022-03-20T19:41:37.744Z"
   },
   {
    "duration": 5,
    "start_time": "2022-03-20T19:41:37.757Z"
   },
   {
    "duration": 6,
    "start_time": "2022-03-20T19:41:37.763Z"
   },
   {
    "duration": 6,
    "start_time": "2022-03-20T19:41:37.770Z"
   },
   {
    "duration": 402,
    "start_time": "2022-03-20T19:41:37.777Z"
   },
   {
    "duration": 388,
    "start_time": "2022-03-20T19:41:38.180Z"
   },
   {
    "duration": 380,
    "start_time": "2022-03-20T19:41:38.570Z"
   },
   {
    "duration": 1449,
    "start_time": "2022-03-22T21:38:02.888Z"
   },
   {
    "duration": 354,
    "start_time": "2022-03-22T21:38:04.339Z"
   },
   {
    "duration": 26,
    "start_time": "2022-03-22T21:38:04.695Z"
   },
   {
    "duration": 44,
    "start_time": "2022-03-22T21:38:04.723Z"
   },
   {
    "duration": 142,
    "start_time": "2022-03-22T21:38:04.769Z"
   },
   {
    "duration": 27,
    "start_time": "2022-03-22T21:38:04.912Z"
   },
   {
    "duration": 111,
    "start_time": "2022-03-22T21:38:04.941Z"
   },
   {
    "duration": 10,
    "start_time": "2022-03-22T21:38:05.053Z"
   },
   {
    "duration": 8,
    "start_time": "2022-03-22T21:38:05.064Z"
   },
   {
    "duration": 25,
    "start_time": "2022-03-22T21:38:05.074Z"
   },
   {
    "duration": 10,
    "start_time": "2022-03-22T21:38:05.100Z"
   },
   {
    "duration": 26,
    "start_time": "2022-03-22T21:38:05.112Z"
   },
   {
    "duration": 99,
    "start_time": "2022-03-22T21:38:05.140Z"
   },
   {
    "duration": 100,
    "start_time": "2022-03-22T21:38:05.241Z"
   },
   {
    "duration": 8,
    "start_time": "2022-03-22T21:38:05.343Z"
   },
   {
    "duration": 16,
    "start_time": "2022-03-22T21:38:05.352Z"
   },
   {
    "duration": 7,
    "start_time": "2022-03-22T21:38:05.369Z"
   },
   {
    "duration": 20,
    "start_time": "2022-03-22T21:38:05.377Z"
   },
   {
    "duration": 103,
    "start_time": "2022-03-22T21:38:05.439Z"
   },
   {
    "duration": 15,
    "start_time": "2022-03-22T21:38:05.543Z"
   },
   {
    "duration": 4,
    "start_time": "2022-03-22T21:38:05.560Z"
   },
   {
    "duration": 12,
    "start_time": "2022-03-22T21:38:05.566Z"
   },
   {
    "duration": 7,
    "start_time": "2022-03-22T21:38:05.579Z"
   },
   {
    "duration": 49,
    "start_time": "2022-03-22T21:38:05.589Z"
   },
   {
    "duration": 97,
    "start_time": "2022-03-22T21:38:05.645Z"
   },
   {
    "duration": 11,
    "start_time": "2022-03-22T21:38:05.744Z"
   },
   {
    "duration": 2,
    "start_time": "2022-03-22T21:38:05.757Z"
   },
   {
    "duration": 4,
    "start_time": "2022-03-22T21:38:05.763Z"
   },
   {
    "duration": 20,
    "start_time": "2022-03-22T21:38:05.768Z"
   },
   {
    "duration": 6,
    "start_time": "2022-03-22T21:38:05.789Z"
   },
   {
    "duration": 7,
    "start_time": "2022-03-22T21:38:05.797Z"
   },
   {
    "duration": 32,
    "start_time": "2022-03-22T21:38:05.806Z"
   },
   {
    "duration": 5,
    "start_time": "2022-03-22T21:38:05.839Z"
   },
   {
    "duration": 109,
    "start_time": "2022-03-22T21:38:05.846Z"
   },
   {
    "duration": 0,
    "start_time": "2022-03-22T21:38:05.957Z"
   },
   {
    "duration": 0,
    "start_time": "2022-03-22T21:38:05.958Z"
   },
   {
    "duration": 3,
    "start_time": "2022-03-22T21:42:21.532Z"
   },
   {
    "duration": 4,
    "start_time": "2022-03-22T21:43:06.234Z"
   },
   {
    "duration": 10,
    "start_time": "2022-03-22T21:43:15.358Z"
   },
   {
    "duration": 3,
    "start_time": "2022-03-22T21:50:28.509Z"
   },
   {
    "duration": 5,
    "start_time": "2022-03-22T21:55:47.380Z"
   },
   {
    "duration": 5,
    "start_time": "2022-03-22T21:56:41.909Z"
   },
   {
    "duration": 13,
    "start_time": "2022-03-22T21:56:44.285Z"
   },
   {
    "duration": 14,
    "start_time": "2022-03-22T21:56:53.717Z"
   },
   {
    "duration": 5,
    "start_time": "2022-03-22T21:57:13.701Z"
   },
   {
    "duration": 1212,
    "start_time": "2022-03-22T21:57:16.478Z"
   },
   {
    "duration": 12,
    "start_time": "2022-03-22T21:57:25.925Z"
   },
   {
    "duration": 1175,
    "start_time": "2022-03-22T21:57:39.526Z"
   },
   {
    "duration": 1250,
    "start_time": "2022-03-22T21:58:01.067Z"
   },
   {
    "duration": 3,
    "start_time": "2022-03-22T21:58:26.624Z"
   },
   {
    "duration": 390,
    "start_time": "2022-03-22T21:58:26.632Z"
   },
   {
    "duration": 28,
    "start_time": "2022-03-22T21:58:27.024Z"
   },
   {
    "duration": 37,
    "start_time": "2022-03-22T21:58:27.054Z"
   },
   {
    "duration": 164,
    "start_time": "2022-03-22T21:58:27.093Z"
   },
   {
    "duration": 17,
    "start_time": "2022-03-22T21:58:27.260Z"
   },
   {
    "duration": 123,
    "start_time": "2022-03-22T21:58:27.279Z"
   },
   {
    "duration": 33,
    "start_time": "2022-03-22T21:58:27.405Z"
   },
   {
    "duration": 5,
    "start_time": "2022-03-22T21:58:27.439Z"
   },
   {
    "duration": 10,
    "start_time": "2022-03-22T21:58:27.445Z"
   },
   {
    "duration": 7,
    "start_time": "2022-03-22T21:58:27.456Z"
   },
   {
    "duration": 16,
    "start_time": "2022-03-22T21:58:27.465Z"
   },
   {
    "duration": 63,
    "start_time": "2022-03-22T21:58:27.483Z"
   },
   {
    "duration": 116,
    "start_time": "2022-03-22T21:58:27.549Z"
   },
   {
    "duration": 5,
    "start_time": "2022-03-22T21:58:27.669Z"
   },
   {
    "duration": 13,
    "start_time": "2022-03-22T21:58:27.676Z"
   },
   {
    "duration": 7,
    "start_time": "2022-03-22T21:58:27.691Z"
   },
   {
    "duration": 45,
    "start_time": "2022-03-22T21:58:27.700Z"
   },
   {
    "duration": 94,
    "start_time": "2022-03-22T21:58:27.748Z"
   },
   {
    "duration": 20,
    "start_time": "2022-03-22T21:58:27.845Z"
   },
   {
    "duration": 6,
    "start_time": "2022-03-22T21:58:27.937Z"
   },
   {
    "duration": 12,
    "start_time": "2022-03-22T21:58:27.944Z"
   },
   {
    "duration": 7,
    "start_time": "2022-03-22T21:58:27.958Z"
   },
   {
    "duration": 76,
    "start_time": "2022-03-22T21:58:27.966Z"
   },
   {
    "duration": 94,
    "start_time": "2022-03-22T21:58:28.045Z"
   },
   {
    "duration": 13,
    "start_time": "2022-03-22T21:58:28.141Z"
   },
   {
    "duration": 5,
    "start_time": "2022-03-22T21:58:28.155Z"
   },
   {
    "duration": 13,
    "start_time": "2022-03-22T21:58:28.161Z"
   },
   {
    "duration": 17,
    "start_time": "2022-03-22T21:58:28.176Z"
   },
   {
    "duration": 18,
    "start_time": "2022-03-22T21:58:28.194Z"
   },
   {
    "duration": 50,
    "start_time": "2022-03-22T21:58:28.214Z"
   },
   {
    "duration": 25,
    "start_time": "2022-03-22T21:58:28.266Z"
   },
   {
    "duration": 1211,
    "start_time": "2022-03-22T21:58:28.292Z"
   },
   {
    "duration": 1218,
    "start_time": "2022-03-22T21:58:29.504Z"
   },
   {
    "duration": 1208,
    "start_time": "2022-03-22T21:58:30.724Z"
   }
  ],
  "kernelspec": {
   "display_name": "Python 3 (ipykernel)",
   "language": "python",
   "name": "python3"
  },
  "language_info": {
   "codemirror_mode": {
    "name": "ipython",
    "version": 3
   },
   "file_extension": ".py",
   "mimetype": "text/x-python",
   "name": "python",
   "nbconvert_exporter": "python",
   "pygments_lexer": "ipython3",
   "version": "3.9.5"
  },
  "toc": {
   "base_numbering": 1,
   "nav_menu": {},
   "number_sections": true,
   "sideBar": true,
   "skip_h1_title": true,
   "title_cell": "Содержание",
   "title_sidebar": "Contents",
   "toc_cell": true,
   "toc_position": {
    "height": "calc(100% - 180px)",
    "left": "10px",
    "top": "150px",
    "width": "384px"
   },
   "toc_section_display": true,
   "toc_window_display": true
  }
 },
 "nbformat": 4,
 "nbformat_minor": 2
}
