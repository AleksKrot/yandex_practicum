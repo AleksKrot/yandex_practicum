{
 "cells": [
  {
   "cell_type": "markdown",
   "metadata": {
    "toc": true
   },
   "source": [
    "<h1>Содержание<span class=\"tocSkip\"></span></h1>\n",
    "<div class=\"toc\"><ul class=\"toc-item\"><li><span><a href=\"#Подготовка\" data-toc-modified-id=\"Подготовка-1\"><span class=\"toc-item-num\">1&nbsp;&nbsp;</span>Подготовка</a></span><ul class=\"toc-item\"><li><span><a href=\"#Импорт-используемых-библиотек\" data-toc-modified-id=\"Импорт-используемых-библиотек-1.1\"><span class=\"toc-item-num\">1.1&nbsp;&nbsp;</span>Импорт используемых библиотек</a></span></li><li><span><a href=\"#Чтение-файла-с-данными\" data-toc-modified-id=\"Чтение-файла-с-данными-1.2\"><span class=\"toc-item-num\">1.2&nbsp;&nbsp;</span>Чтение файла с данными</a></span></li><li><span><a href=\"#Изучение-общей-информации\" data-toc-modified-id=\"Изучение-общей-информации-1.3\"><span class=\"toc-item-num\">1.3&nbsp;&nbsp;</span>Изучение общей информации</a></span></li><li><span><a href=\"#Предобработка-данных\" data-toc-modified-id=\"Предобработка-данных-1.4\"><span class=\"toc-item-num\">1.4&nbsp;&nbsp;</span>Предобработка данных</a></span></li></ul></li><li><span><a href=\"#Обучение\" data-toc-modified-id=\"Обучение-2\"><span class=\"toc-item-num\">2&nbsp;&nbsp;</span>Обучение</a></span><ul class=\"toc-item\"><li><span><a href=\"#LogisticRegression\" data-toc-modified-id=\"LogisticRegression-2.1\"><span class=\"toc-item-num\">2.1&nbsp;&nbsp;</span>LogisticRegression</a></span></li><li><span><a href=\"#LinearSVC\" data-toc-modified-id=\"LinearSVC-2.2\"><span class=\"toc-item-num\">2.2&nbsp;&nbsp;</span>LinearSVC</a></span></li></ul></li><li><span><a href=\"#Выводы\" data-toc-modified-id=\"Выводы-3\"><span class=\"toc-item-num\">3&nbsp;&nbsp;</span>Выводы</a></span></li></ul></div>"
   ]
  },
  {
   "cell_type": "markdown",
   "metadata": {},
   "source": [
    "# Проект для «Викишоп»"
   ]
  },
  {
   "cell_type": "markdown",
   "metadata": {},
   "source": [
    "Интернет-магазин «Викишоп» запускает новый сервис. Теперь пользователи могут редактировать и дополнять описания товаров, как в вики-сообществах. То есть клиенты предлагают свои правки и комментируют изменения других. Магазину нужен инструмент, который будет искать токсичные комментарии и отправлять их на модерацию. \n",
    "\n",
    "Обучите модель классифицировать комментарии на позитивные и негативные. В вашем распоряжении набор данных с разметкой о токсичности правок.\n",
    "\n",
    "Постройте модель со значением метрики качества *F1* не меньше 0.75. \n",
    "\n",
    "**Инструкция по выполнению проекта**\n",
    "\n",
    "1. Загрузите и подготовьте данные.\n",
    "2. Обучите разные модели. \n",
    "3. Сделайте выводы.\n",
    "\n",
    "Для выполнения проекта применять *BERT* необязательно, но вы можете попробовать.\n",
    "\n",
    "**Описание данных**\n",
    "\n",
    "Данные находятся в файле `toxic_comments.csv`. Столбец *text* в нём содержит текст комментария, а *toxic* — целевой признак."
   ]
  },
  {
   "cell_type": "markdown",
   "metadata": {},
   "source": [
    "## Подготовка"
   ]
  },
  {
   "cell_type": "markdown",
   "metadata": {},
   "source": [
    "### Импорт используемых библиотек"
   ]
  },
  {
   "cell_type": "code",
   "execution_count": 1,
   "metadata": {},
   "outputs": [
    {
     "name": "stderr",
     "output_type": "stream",
     "text": [
      "[nltk_data] Downloading package punkt to /home/jovyan/nltk_data...\n",
      "[nltk_data]   Package punkt is already up-to-date!\n",
      "[nltk_data] Downloading package stopwords to /home/jovyan/nltk_data...\n",
      "[nltk_data]   Package stopwords is already up-to-date!\n"
     ]
    }
   ],
   "source": [
    "# импорт библиотеки pandas для обработки и анализа данных\n",
    "import pandas as pd\n",
    "\n",
    "# импорт библиотеки numpy для работы с массивами\n",
    "import numpy as np\n",
    "\n",
    "# импорт модуля re для работы с регулярными выражениями\n",
    "import re\n",
    "\n",
    "# импорт библиотеки nltk для обработки естественного языка\n",
    "import nltk\n",
    "\n",
    "# импорт stopwords из библиотеки nltk для загрузки стоп-слов\n",
    "from nltk.corpus import stopwords as nltk_stopwords\n",
    "\n",
    "# импорт WordNetLemmatizer из библиотеки nltk для лемматизации\n",
    "from nltk.stem import WordNetLemmatizer\n",
    "\n",
    "# импорт word_tokenize из библиотеки nltk для токенизации\n",
    "from nltk.tokenize import word_tokenize\n",
    "\n",
    "nltk.download('punkt')\n",
    "nltk.download('stopwords')\n",
    "\n",
    "# импорт библиотеки matplotlib для работы с графиками\n",
    "import matplotlib.pyplot as plt\n",
    "\n",
    "# импорт библиотеки seaborn для создания статистических графиков\n",
    "import seaborn as sns\n",
    "\n",
    "# импорт библиотеки warnings для игнорирования сообщений с предупреждениями\n",
    "import warnings\n",
    "warnings.filterwarnings('ignore')\n",
    "\n",
    "# импорт TfidfVectorizer из библиотеки sklearn для преобразования текста в частотные векторы\n",
    "from sklearn.feature_extraction.text import TfidfVectorizer\n",
    "\n",
    "# импорт train_test_split, GridSearchCV из библиотеки sklearn для разделения на выборки и подбора гиперпараметров\n",
    "from sklearn.model_selection import train_test_split, GridSearchCV\n",
    "\n",
    "# импорт LinearSVC из библиотеки sklearn для классификации\n",
    "from sklearn.svm import LinearSVC\n",
    "\n",
    "# импорт LogisticRegression из библиотеки sklearn для классификации\n",
    "from sklearn.linear_model import LogisticRegression\n",
    "\n",
    "# импорт метрики f1_score из библиотеки lightgbm для определения качества модели\n",
    "from sklearn.metrics import f1_score\n"
   ]
  },
  {
   "cell_type": "markdown",
   "metadata": {},
   "source": [
    "### Чтение файла с данными"
   ]
  },
  {
   "cell_type": "code",
   "execution_count": 2,
   "metadata": {},
   "outputs": [],
   "source": [
    "# чтение файла с данными\n",
    "data = pd.read_csv('/datasets/toxic_comments.csv')"
   ]
  },
  {
   "cell_type": "markdown",
   "metadata": {},
   "source": [
    "### Изучение общей информации"
   ]
  },
  {
   "cell_type": "code",
   "execution_count": 3,
   "metadata": {},
   "outputs": [
    {
     "data": {
      "text/html": [
       "<div>\n",
       "<style scoped>\n",
       "    .dataframe tbody tr th:only-of-type {\n",
       "        vertical-align: middle;\n",
       "    }\n",
       "\n",
       "    .dataframe tbody tr th {\n",
       "        vertical-align: top;\n",
       "    }\n",
       "\n",
       "    .dataframe thead th {\n",
       "        text-align: right;\n",
       "    }\n",
       "</style>\n",
       "<table border=\"1\" class=\"dataframe\">\n",
       "  <thead>\n",
       "    <tr style=\"text-align: right;\">\n",
       "      <th></th>\n",
       "      <th>text</th>\n",
       "      <th>toxic</th>\n",
       "    </tr>\n",
       "  </thead>\n",
       "  <tbody>\n",
       "    <tr>\n",
       "      <th>0</th>\n",
       "      <td>Explanation\\nWhy the edits made under my usern...</td>\n",
       "      <td>0</td>\n",
       "    </tr>\n",
       "    <tr>\n",
       "      <th>1</th>\n",
       "      <td>D'aww! He matches this background colour I'm s...</td>\n",
       "      <td>0</td>\n",
       "    </tr>\n",
       "    <tr>\n",
       "      <th>2</th>\n",
       "      <td>Hey man, I'm really not trying to edit war. It...</td>\n",
       "      <td>0</td>\n",
       "    </tr>\n",
       "    <tr>\n",
       "      <th>3</th>\n",
       "      <td>\"\\nMore\\nI can't make any real suggestions on ...</td>\n",
       "      <td>0</td>\n",
       "    </tr>\n",
       "    <tr>\n",
       "      <th>4</th>\n",
       "      <td>You, sir, are my hero. Any chance you remember...</td>\n",
       "      <td>0</td>\n",
       "    </tr>\n",
       "    <tr>\n",
       "      <th>5</th>\n",
       "      <td>\"\\n\\nCongratulations from me as well, use the ...</td>\n",
       "      <td>0</td>\n",
       "    </tr>\n",
       "    <tr>\n",
       "      <th>6</th>\n",
       "      <td>COCKSUCKER BEFORE YOU PISS AROUND ON MY WORK</td>\n",
       "      <td>1</td>\n",
       "    </tr>\n",
       "    <tr>\n",
       "      <th>7</th>\n",
       "      <td>Your vandalism to the Matt Shirvington article...</td>\n",
       "      <td>0</td>\n",
       "    </tr>\n",
       "    <tr>\n",
       "      <th>8</th>\n",
       "      <td>Sorry if the word 'nonsense' was offensive to ...</td>\n",
       "      <td>0</td>\n",
       "    </tr>\n",
       "    <tr>\n",
       "      <th>9</th>\n",
       "      <td>alignment on this subject and which are contra...</td>\n",
       "      <td>0</td>\n",
       "    </tr>\n",
       "  </tbody>\n",
       "</table>\n",
       "</div>"
      ],
      "text/plain": [
       "                                                text  toxic\n",
       "0  Explanation\\nWhy the edits made under my usern...      0\n",
       "1  D'aww! He matches this background colour I'm s...      0\n",
       "2  Hey man, I'm really not trying to edit war. It...      0\n",
       "3  \"\\nMore\\nI can't make any real suggestions on ...      0\n",
       "4  You, sir, are my hero. Any chance you remember...      0\n",
       "5  \"\\n\\nCongratulations from me as well, use the ...      0\n",
       "6       COCKSUCKER BEFORE YOU PISS AROUND ON MY WORK      1\n",
       "7  Your vandalism to the Matt Shirvington article...      0\n",
       "8  Sorry if the word 'nonsense' was offensive to ...      0\n",
       "9  alignment on this subject and which are contra...      0"
      ]
     },
     "execution_count": 3,
     "metadata": {},
     "output_type": "execute_result"
    }
   ],
   "source": [
    "# получение первых 10 строк датасета\n",
    "data.head(10)"
   ]
  },
  {
   "cell_type": "code",
   "execution_count": 4,
   "metadata": {},
   "outputs": [
    {
     "name": "stdout",
     "output_type": "stream",
     "text": [
      "<class 'pandas.core.frame.DataFrame'>\n",
      "RangeIndex: 159571 entries, 0 to 159570\n",
      "Data columns (total 2 columns):\n",
      " #   Column  Non-Null Count   Dtype \n",
      "---  ------  --------------   ----- \n",
      " 0   text    159571 non-null  object\n",
      " 1   toxic   159571 non-null  int64 \n",
      "dtypes: int64(1), object(1)\n",
      "memory usage: 2.4+ MB\n"
     ]
    }
   ],
   "source": [
    "# получение общей информации о данных датасета\n",
    "data.info()"
   ]
  },
  {
   "cell_type": "code",
   "execution_count": 5,
   "metadata": {},
   "outputs": [
    {
     "data": {
      "text/plain": [
       "0"
      ]
     },
     "execution_count": 5,
     "metadata": {},
     "output_type": "execute_result"
    }
   ],
   "source": [
    "# проверка на наличие дубликатов\n",
    "data.duplicated().sum()"
   ]
  },
  {
   "cell_type": "markdown",
   "metadata": {},
   "source": [
    "Датасет содержит два столбца: `text` содержит текст комментария, а `toxic` определяет токсичность комментария (1 - токсичный, 0 - не токсичный. Всего данные содержат 159571 строку, не содержат пропусков и дубликатов."
   ]
  },
  {
   "cell_type": "markdown",
   "metadata": {},
   "source": [
    "Посмотрим на распределение токсичности комментариев. Для этого построим гистограмму по целевому признаку."
   ]
  },
  {
   "cell_type": "code",
   "execution_count": 6,
   "metadata": {},
   "outputs": [
    {
     "name": "stdout",
     "output_type": "stream",
     "text": [
      "0    0.898321\n",
      "1    0.101679\n",
      "Name: toxic, dtype: float64\n"
     ]
    },
    {
     "data": {
      "text/plain": [
       "Text(0.5, 0, 'Класс')"
      ]
     },
     "execution_count": 6,
     "metadata": {},
     "output_type": "execute_result"
    },
    {
     "data": {
      "image/png": "[encoded data removed]",
      "text/plain": [
       "<Figure size 1152x576 with 1 Axes>"
      ]
     },
     "metadata": {
      "needs_background": "light"
     },
     "output_type": "display_data"
    }
   ],
   "source": [
    "# проверка баланса классов\n",
    "class_frequency = data['toxic'].value_counts(normalize= 2)\n",
    "print(class_frequency)\n",
    "class_frequency.plot(kind='bar', figsize = (16,8))\n",
    "plt.title('Распределение классов определяющих токсичность комментариев', fontsize=20)\n",
    "plt.ylabel('Соотношение', fontsize=16)\n",
    "plt.xlabel('Класс', fontsize=16)"
   ]
  },
  {
   "cell_type": "markdown",
   "metadata": {},
   "source": [
    "В классах заметный дисбаланс, около 90% комментариев не являются токсичными. При обучении учтем этот дисбаланс путем добавления в модель параметра class_weight."
   ]
  },
  {
   "cell_type": "markdown",
   "metadata": {},
   "source": [
    "### Предобработка данных"
   ]
  },
  {
   "cell_type": "markdown",
   "metadata": {},
   "source": [
    "Подготовим данные для векторизации.\n",
    "\n",
    "* Проведём лемматизацию слов с помощью WordNetLemmatizer() из библиотеки nltk.\n",
    "* Удалим пунктуацию и лишние пробелы, приведем все к нижнему регистру.\n",
    "* Разделим данные на тренировочную и тестовую выборки."
   ]
  },
  {
   "cell_type": "code",
   "execution_count": 7,
   "metadata": {},
   "outputs": [],
   "source": [
    "# функция для лемматизации\n",
    "lemmatizer = WordNetLemmatizer()\n",
    "def lemmatization(text):\n",
    "    word_list = nltk.word_tokenize(text)\n",
    "    return ' '.join([lemmatizer.lemmatize(w) for w in word_list])"
   ]
  },
  {
   "cell_type": "code",
   "execution_count": 8,
   "metadata": {},
   "outputs": [],
   "source": [
    "# функция для очистки\n",
    "def clear_text(text):\n",
    "    return ' '.join(re.sub(r'[^a-z]', ' ',text.lower()) .split())"
   ]
  },
  {
   "cell_type": "code",
   "execution_count": 9,
   "metadata": {},
   "outputs": [],
   "source": [
    "# копия датасета\n",
    "df = data.copy()"
   ]
  },
  {
   "cell_type": "code",
   "execution_count": 10,
   "metadata": {},
   "outputs": [
    {
     "name": "stdout",
     "output_type": "stream",
     "text": [
      "<class 'pandas.core.frame.DataFrame'>\n",
      "RangeIndex: 159571 entries, 0 to 159570\n",
      "Data columns (total 2 columns):\n",
      " #   Column  Non-Null Count   Dtype \n",
      "---  ------  --------------   ----- \n",
      " 0   text    159571 non-null  object\n",
      " 1   toxic   159571 non-null  int64 \n",
      "dtypes: int64(1), object(1)\n",
      "memory usage: 2.4+ MB\n"
     ]
    }
   ],
   "source": [
    "# получение общей информации о данных датасета\n",
    "df.info()"
   ]
  },
  {
   "cell_type": "code",
   "execution_count": 11,
   "metadata": {},
   "outputs": [],
   "source": [
    "# лемматизация и очистка\n",
    "df['text'] = df['text'].apply(lemmatization)\n",
    "df['text'] = df['text'].apply(clear_text)"
   ]
  },
  {
   "cell_type": "code",
   "execution_count": 12,
   "metadata": {},
   "outputs": [
    {
     "data": {
      "text/plain": [
       "'explanation why the edits made under my username hardcore metallica fan were reverted they were n t vandalism just closure on some gas after i voted at new york dolls fac and please do n t remove the template from the talk page since i m retired now'"
      ]
     },
     "execution_count": 12,
     "metadata": {},
     "output_type": "execute_result"
    }
   ],
   "source": [
    "# получение первого текста датасета\n",
    "df['text'][0]"
   ]
  },
  {
   "cell_type": "code",
   "execution_count": 13,
   "metadata": {},
   "outputs": [],
   "source": [
    "# разделение данных\n",
    "train, test = train_test_split(df, test_size=0.25, random_state=12345, stratify=df['toxic'])"
   ]
  },
  {
   "cell_type": "markdown",
   "metadata": {},
   "source": [
    "Стратификацию используем для сохранения процентного соотношения целевого класса."
   ]
  },
  {
   "cell_type": "code",
   "execution_count": 14,
   "metadata": {},
   "outputs": [
    {
     "name": "stdout",
     "output_type": "stream",
     "text": [
      "(119678, 2)\n",
      "(39893, 2)\n"
     ]
    }
   ],
   "source": [
    "# проверка размеров выборок\n",
    "print(train.shape)\n",
    "print(test.shape)"
   ]
  },
  {
   "cell_type": "code",
   "execution_count": 15,
   "metadata": {},
   "outputs": [],
   "source": [
    "# создание переменные для признаков и целевого признака\n",
    "features_train = train.drop(['toxic'], axis=1)\n",
    "target_train = train['toxic']\n",
    "features_test = test.drop(['toxic'], axis=1)\n",
    "target_test = test['toxic']"
   ]
  },
  {
   "cell_type": "markdown",
   "metadata": {},
   "source": [
    "Проверим как разделение сказалось на балансе классов целевого признака."
   ]
  },
  {
   "cell_type": "code",
   "execution_count": 16,
   "metadata": {},
   "outputs": [
    {
     "data": {
      "text/plain": [
       "<AxesSubplot:title={'center':'Тестовая выборка'}>"
      ]
     },
     "execution_count": 16,
     "metadata": {},
     "output_type": "execute_result"
    },
    {
     "data": {
      "image/png": "[encoded data removed]",
      "text/plain": [
       "<Figure size 1152x576 with 2 Axes>"
      ]
     },
     "metadata": {
      "needs_background": "light"
     },
     "output_type": "display_data"
    }
   ],
   "source": [
    "# проверка баланса классов\n",
    "plt.figure(figsize=(16, 8))\n",
    "plt.suptitle('Распределение классов определяющих токсичность комментариев', fontsize=20)\n",
    "plt.subplot(121)\n",
    "plt.title('Тренировочная выборка')\n",
    "target_train.value_counts(normalize= 2).plot(kind='bar', figsize = (16,8))\n",
    "\n",
    "plt.subplot(122)\n",
    "plt.title('Тестовая выборка')\n",
    "target_test.value_counts(normalize= 2).plot(kind='bar', figsize = (16,8))"
   ]
  },
  {
   "cell_type": "markdown",
   "metadata": {},
   "source": [
    "Распределение сохранено."
   ]
  },
  {
   "cell_type": "code",
   "execution_count": 17,
   "metadata": {},
   "outputs": [],
   "source": [
    "# векторизация признаков\n",
    "corpus_train = features_train['text'].values.astype('U')\n",
    "corpus_test = features_test['text'].values.astype('U')\n",
    "stopwords = set(nltk_stopwords.words('english'))\n",
    "count_tf_idf = TfidfVectorizer(stop_words=stopwords, min_df=3, max_df=0.9)\n",
    "features_train = count_tf_idf.fit_transform(corpus_train)\n",
    "features_test = count_tf_idf.transform(corpus_test)"
   ]
  },
  {
   "cell_type": "code",
   "execution_count": 18,
   "metadata": {},
   "outputs": [
    {
     "name": "stdout",
     "output_type": "stream",
     "text": [
      "Размер тренировочного датасета: (119678, 40423)\n",
      "Размер тренировочного датасета: (39893, 40423)\n"
     ]
    }
   ],
   "source": [
    "# проверка размеров выборок\n",
    "print(f\"Размер тренировочного датасета: {features_train.shape}\")\n",
    "print(f\"Размер тренировочного датасета: {features_test.shape}\")"
   ]
  },
  {
   "cell_type": "markdown",
   "metadata": {},
   "source": [
    "## Обучение"
   ]
  },
  {
   "cell_type": "markdown",
   "metadata": {},
   "source": [
    "Будем обучать линейные модели, так для деревянных слишком большое признаковое пространство."
   ]
  },
  {
   "cell_type": "code",
   "execution_count": 19,
   "metadata": {},
   "outputs": [],
   "source": [
    "# функция для обучения и тестирования\n",
    "def best_model(model, params, features_train, target_train, features_test, target_test):\n",
    "    grid = GridSearchCV(model, param_grid = params, cv=4, verbose=True,\n",
    "                                            scoring = 'f1', n_jobs=-1)\n",
    "    grid.fit(features_train,target_train)\n",
    "    predict = grid.predict(features_test)\n",
    "    return f1_score(target_test, predict)"
   ]
  },
  {
   "cell_type": "markdown",
   "metadata": {},
   "source": [
    "### LogisticRegression"
   ]
  },
  {
   "cell_type": "code",
   "execution_count": 20,
   "metadata": {},
   "outputs": [
    {
     "name": "stdout",
     "output_type": "stream",
     "text": [
      "CPU times: user 2 µs, sys: 0 ns, total: 2 µs\n",
      "Wall time: 4.77 µs\n",
      "Fitting 4 folds for each of 5 candidates, totalling 20 fits\n",
      "Показатель f1 на тестовой выборке: 0.763\n"
     ]
    }
   ],
   "source": [
    "%time\n",
    "model_lr = LogisticRegression(random_state=12345, class_weight='balanced')\n",
    "lr_params = {'C': range (10,15)}\n",
    "lr = best_model(model_lr, lr_params, features_train, target_train, features_test, target_test)\n",
    "print(f\"Показатель f1 на тестовой выборке: {lr:.3f}\")"
   ]
  },
  {
   "cell_type": "markdown",
   "metadata": {},
   "source": [
    "### LinearSVC"
   ]
  },
  {
   "cell_type": "code",
   "execution_count": 21,
   "metadata": {},
   "outputs": [
    {
     "name": "stdout",
     "output_type": "stream",
     "text": [
      "CPU times: user 11 µs, sys: 9 µs, total: 20 µs\n",
      "Wall time: 8.34 µs\n",
      "Fitting 4 folds for each of 5 candidates, totalling 20 fits\n",
      "Показатель f1 на тестовой выборке: 0.719\n"
     ]
    }
   ],
   "source": [
    "%time\n",
    "model_lsvc = LinearSVC(random_state=12345, class_weight='balanced')\n",
    "lsvc_params = {'C': range (10,15)}\n",
    "lsvc = best_model(model_lsvc, lsvc_params, features_train, target_train, features_test, target_test)\n",
    "print(f\"Показатель f1 на тестовой выборке: {lsvc:.3f}\")"
   ]
  },
  {
   "cell_type": "markdown",
   "metadata": {},
   "source": [
    "## Выводы"
   ]
  },
  {
   "cell_type": "code",
   "execution_count": 22,
   "metadata": {},
   "outputs": [
    {
     "data": {
      "text/html": [
       "<div>\n",
       "<style scoped>\n",
       "    .dataframe tbody tr th:only-of-type {\n",
       "        vertical-align: middle;\n",
       "    }\n",
       "\n",
       "    .dataframe tbody tr th {\n",
       "        vertical-align: top;\n",
       "    }\n",
       "\n",
       "    .dataframe thead th {\n",
       "        text-align: right;\n",
       "    }\n",
       "</style>\n",
       "<table border=\"1\" class=\"dataframe\">\n",
       "  <thead>\n",
       "    <tr style=\"text-align: right;\">\n",
       "      <th></th>\n",
       "      <th>F1</th>\n",
       "    </tr>\n",
       "  </thead>\n",
       "  <tbody>\n",
       "    <tr>\n",
       "      <th>LogisticRegression</th>\n",
       "      <td>0.762748</td>\n",
       "    </tr>\n",
       "    <tr>\n",
       "      <th>LinearSVC</th>\n",
       "      <td>0.719260</td>\n",
       "    </tr>\n",
       "  </tbody>\n",
       "</table>\n",
       "</div>"
      ],
      "text/plain": [
       "                          F1\n",
       "LogisticRegression  0.762748\n",
       "LinearSVC           0.719260"
      ]
     },
     "execution_count": 22,
     "metadata": {},
     "output_type": "execute_result"
    }
   ],
   "source": [
    "models = pd.DataFrame([lr, lsvc], \n",
    "             columns=['F1'], \n",
    "                      index=['LogisticRegression', 'LinearSVC'])\n",
    "models"
   ]
  },
  {
   "cell_type": "markdown",
   "metadata": {},
   "source": [
    "Итак, можно сделать вывод, что исходя из данных лучше всего с предсказанием токсичных комментариев справиласть модель логистической регрессии, но были рассмотрены лишь линейные алгоритмы из-за большого числа параметров. Возможно результат был бы иным, если бы количество параметров было меньшее."
   ]
  }
 ],
 "metadata": {
  "ExecuteTimeLog": [
   {
    "duration": 2048,
    "start_time": "2022-05-23T16:23:55.642Z"
   },
   {
    "duration": 2730,
    "start_time": "2022-05-23T16:25:27.640Z"
   },
   {
    "duration": 19,
    "start_time": "2022-05-23T16:26:07.069Z"
   },
   {
    "duration": 31,
    "start_time": "2022-05-23T16:26:23.573Z"
   },
   {
    "duration": 218,
    "start_time": "2022-05-23T16:26:40.654Z"
   },
   {
    "duration": 304,
    "start_time": "2022-05-23T16:37:46.451Z"
   },
   {
    "duration": 178,
    "start_time": "2022-05-23T16:38:26.513Z"
   },
   {
    "duration": 141,
    "start_time": "2022-05-23T16:39:08.667Z"
   },
   {
    "duration": 4,
    "start_time": "2022-05-23T16:56:14.047Z"
   },
   {
    "duration": 130724,
    "start_time": "2022-05-23T16:58:09.183Z"
   },
   {
    "duration": 10,
    "start_time": "2022-05-23T17:04:47.501Z"
   },
   {
    "duration": 7,
    "start_time": "2022-05-23T17:05:08.562Z"
   },
   {
    "duration": 30,
    "start_time": "2022-05-23T17:05:25.744Z"
   },
   {
    "duration": 9,
    "start_time": "2022-05-23T17:05:46.776Z"
   },
   {
    "duration": 6,
    "start_time": "2022-05-23T17:06:12.665Z"
   },
   {
    "duration": 8,
    "start_time": "2022-05-23T17:06:20.650Z"
   },
   {
    "duration": 6,
    "start_time": "2022-05-23T17:06:42.794Z"
   },
   {
    "duration": 128037,
    "start_time": "2022-05-23T17:08:43.865Z"
   },
   {
    "duration": 8,
    "start_time": "2022-05-23T17:10:51.904Z"
   },
   {
    "duration": 36,
    "start_time": "2022-05-23T17:12:14.878Z"
   },
   {
    "duration": 875,
    "start_time": "2022-05-23T17:12:14.917Z"
   },
   {
    "duration": 9,
    "start_time": "2022-05-23T17:12:15.794Z"
   },
   {
    "duration": 48,
    "start_time": "2022-05-23T17:12:15.805Z"
   },
   {
    "duration": 234,
    "start_time": "2022-05-23T17:12:15.855Z"
   },
   {
    "duration": 194,
    "start_time": "2022-05-23T17:12:16.090Z"
   },
   {
    "duration": 5,
    "start_time": "2022-05-23T17:12:16.294Z"
   },
   {
    "duration": 131054,
    "start_time": "2022-05-23T17:12:16.301Z"
   },
   {
    "duration": 7,
    "start_time": "2022-05-23T17:14:27.357Z"
   },
   {
    "duration": 4,
    "start_time": "2022-05-23T17:16:56.796Z"
   },
   {
    "duration": 25,
    "start_time": "2022-05-23T17:17:49.697Z"
   },
   {
    "duration": 813,
    "start_time": "2022-05-23T17:17:49.724Z"
   },
   {
    "duration": 10,
    "start_time": "2022-05-23T17:17:50.539Z"
   },
   {
    "duration": 36,
    "start_time": "2022-05-23T17:17:50.551Z"
   },
   {
    "duration": 215,
    "start_time": "2022-05-23T17:17:50.588Z"
   },
   {
    "duration": 156,
    "start_time": "2022-05-23T17:17:50.804Z"
   },
   {
    "duration": 4,
    "start_time": "2022-05-23T17:17:50.962Z"
   },
   {
    "duration": 3,
    "start_time": "2022-05-23T17:17:51.441Z"
   },
   {
    "duration": 130,
    "start_time": "2022-05-23T17:23:41.641Z"
   },
   {
    "duration": 9,
    "start_time": "2022-05-23T17:23:50.780Z"
   },
   {
    "duration": 3,
    "start_time": "2022-05-23T17:24:15.356Z"
   },
   {
    "duration": 12,
    "start_time": "2022-05-23T17:24:49.352Z"
   },
   {
    "duration": 10,
    "start_time": "2022-05-23T17:25:05.357Z"
   },
   {
    "duration": 6,
    "start_time": "2022-05-23T17:25:23.019Z"
   },
   {
    "duration": 30,
    "start_time": "2022-05-23T17:25:23.475Z"
   },
   {
    "duration": 141229,
    "start_time": "2022-05-23T17:25:55.446Z"
   },
   {
    "duration": 48,
    "start_time": "2022-05-23T17:28:16.677Z"
   },
   {
    "duration": 4,
    "start_time": "2022-05-23T17:28:24.172Z"
   },
   {
    "duration": 57,
    "start_time": "2022-05-23T17:36:12.955Z"
   },
   {
    "duration": 1933,
    "start_time": "2022-05-23T17:40:23.454Z"
   },
   {
    "duration": 2849,
    "start_time": "2022-05-23T17:40:25.390Z"
   },
   {
    "duration": 12,
    "start_time": "2022-05-23T17:40:28.245Z"
   },
   {
    "duration": 35,
    "start_time": "2022-05-23T17:40:28.259Z"
   },
   {
    "duration": 236,
    "start_time": "2022-05-23T17:40:28.297Z"
   },
   {
    "duration": 222,
    "start_time": "2022-05-23T17:40:28.540Z"
   },
   {
    "duration": 3,
    "start_time": "2022-05-23T17:40:28.764Z"
   },
   {
    "duration": 13,
    "start_time": "2022-05-23T17:40:28.769Z"
   },
   {
    "duration": 11,
    "start_time": "2022-05-23T17:40:28.783Z"
   },
   {
    "duration": 42,
    "start_time": "2022-05-23T17:40:28.796Z"
   },
   {
    "duration": 133609,
    "start_time": "2022-05-23T17:40:28.839Z"
   },
   {
    "duration": 4,
    "start_time": "2022-05-23T17:42:42.449Z"
   },
   {
    "duration": 53,
    "start_time": "2022-05-23T17:42:42.455Z"
   },
   {
    "duration": 20,
    "start_time": "2022-05-23T17:42:42.511Z"
   },
   {
    "duration": 20,
    "start_time": "2022-05-23T17:43:37.728Z"
   },
   {
    "duration": 211,
    "start_time": "2022-05-23T17:48:11.202Z"
   },
   {
    "duration": 382,
    "start_time": "2022-05-23T17:48:26.840Z"
   },
   {
    "duration": 137,
    "start_time": "2022-05-23T17:49:33.387Z"
   },
   {
    "duration": 261,
    "start_time": "2022-05-23T17:50:46.357Z"
   },
   {
    "duration": 15,
    "start_time": "2022-05-23T17:56:09.524Z"
   },
   {
    "duration": 2151,
    "start_time": "2022-05-23T18:02:25.214Z"
   },
   {
    "duration": 1797,
    "start_time": "2022-05-23T18:04:10.176Z"
   },
   {
    "duration": 2833,
    "start_time": "2022-05-23T18:04:11.974Z"
   },
   {
    "duration": 12,
    "start_time": "2022-05-23T18:04:14.809Z"
   },
   {
    "duration": 52,
    "start_time": "2022-05-23T18:04:14.824Z"
   },
   {
    "duration": 235,
    "start_time": "2022-05-23T18:04:14.878Z"
   },
   {
    "duration": 179,
    "start_time": "2022-05-23T18:04:15.115Z"
   },
   {
    "duration": 9,
    "start_time": "2022-05-23T18:04:15.296Z"
   },
   {
    "duration": 10,
    "start_time": "2022-05-23T18:04:15.307Z"
   },
   {
    "duration": 14,
    "start_time": "2022-05-23T18:04:15.319Z"
   },
   {
    "duration": 46,
    "start_time": "2022-05-23T18:04:15.335Z"
   },
   {
    "duration": 135841,
    "start_time": "2022-05-23T18:04:15.383Z"
   },
   {
    "duration": 7,
    "start_time": "2022-05-23T18:06:31.226Z"
   },
   {
    "duration": 78,
    "start_time": "2022-05-23T18:06:31.235Z"
   },
   {
    "duration": 4,
    "start_time": "2022-05-23T18:06:31.315Z"
   },
   {
    "duration": 34,
    "start_time": "2022-05-23T18:06:31.321Z"
   },
   {
    "duration": 237,
    "start_time": "2022-05-23T18:06:31.357Z"
   },
   {
    "duration": 2425,
    "start_time": "2022-05-23T18:07:14.939Z"
   },
   {
    "duration": 9,
    "start_time": "2022-05-23T18:08:56.760Z"
   },
   {
    "duration": 6,
    "start_time": "2022-05-23T18:10:24.732Z"
   },
   {
    "duration": 1760,
    "start_time": "2022-05-23T18:15:37.703Z"
   },
   {
    "duration": 2799,
    "start_time": "2022-05-23T18:15:39.466Z"
   },
   {
    "duration": 11,
    "start_time": "2022-05-23T18:15:42.267Z"
   },
   {
    "duration": 33,
    "start_time": "2022-05-23T18:15:42.280Z"
   },
   {
    "duration": 228,
    "start_time": "2022-05-23T18:15:42.316Z"
   },
   {
    "duration": 161,
    "start_time": "2022-05-23T18:15:42.545Z"
   },
   {
    "duration": 3,
    "start_time": "2022-05-23T18:15:42.708Z"
   },
   {
    "duration": 22,
    "start_time": "2022-05-23T18:15:42.712Z"
   },
   {
    "duration": 14,
    "start_time": "2022-05-23T18:15:42.736Z"
   },
   {
    "duration": 30,
    "start_time": "2022-05-23T18:15:42.752Z"
   },
   {
    "duration": 135854,
    "start_time": "2022-05-23T18:15:42.784Z"
   },
   {
    "duration": 8,
    "start_time": "2022-05-23T18:17:58.641Z"
   },
   {
    "duration": 96,
    "start_time": "2022-05-23T18:17:58.651Z"
   },
   {
    "duration": 4,
    "start_time": "2022-05-23T18:17:58.749Z"
   },
   {
    "duration": 23,
    "start_time": "2022-05-23T18:17:58.754Z"
   },
   {
    "duration": 229,
    "start_time": "2022-05-23T18:17:58.779Z"
   },
   {
    "duration": 60,
    "start_time": "2022-05-23T18:18:18.712Z"
   },
   {
    "duration": 1912,
    "start_time": "2022-05-23T18:18:29.787Z"
   },
   {
    "duration": 2780,
    "start_time": "2022-05-23T18:18:31.701Z"
   },
   {
    "duration": 12,
    "start_time": "2022-05-23T18:18:34.483Z"
   },
   {
    "duration": 37,
    "start_time": "2022-05-23T18:18:34.497Z"
   },
   {
    "duration": 243,
    "start_time": "2022-05-23T18:18:34.535Z"
   },
   {
    "duration": 194,
    "start_time": "2022-05-23T18:18:34.781Z"
   },
   {
    "duration": 4,
    "start_time": "2022-05-23T18:18:34.977Z"
   },
   {
    "duration": 13,
    "start_time": "2022-05-23T18:18:34.982Z"
   },
   {
    "duration": 13,
    "start_time": "2022-05-23T18:18:34.996Z"
   },
   {
    "duration": 40,
    "start_time": "2022-05-23T18:18:35.011Z"
   },
   {
    "duration": 134919,
    "start_time": "2022-05-23T18:18:35.053Z"
   },
   {
    "duration": 4,
    "start_time": "2022-05-23T18:20:49.974Z"
   },
   {
    "duration": 69,
    "start_time": "2022-05-23T18:20:49.979Z"
   },
   {
    "duration": 4,
    "start_time": "2022-05-23T18:20:50.050Z"
   },
   {
    "duration": 25,
    "start_time": "2022-05-23T18:20:50.056Z"
   },
   {
    "duration": 274,
    "start_time": "2022-05-23T18:20:50.083Z"
   },
   {
    "duration": 10795,
    "start_time": "2022-05-23T18:21:07.169Z"
   },
   {
    "duration": 4,
    "start_time": "2022-05-23T18:21:21.384Z"
   },
   {
    "duration": 4,
    "start_time": "2022-05-23T18:36:29.508Z"
   },
   {
    "duration": 471489,
    "start_time": "2022-05-23T18:39:47.551Z"
   },
   {
    "duration": 3,
    "start_time": "2022-05-23T18:50:30.773Z"
   },
   {
    "duration": 185266,
    "start_time": "2022-05-23T18:53:52.599Z"
   },
   {
    "duration": 173137,
    "start_time": "2022-05-23T18:57:07.000Z"
   },
   {
    "duration": 0,
    "start_time": "2022-05-23T19:00:00.143Z"
   },
   {
    "duration": 61,
    "start_time": "2022-05-23T19:00:10.775Z"
   },
   {
    "duration": 3849,
    "start_time": "2022-05-23T19:00:28.748Z"
   },
   {
    "duration": 2827,
    "start_time": "2022-05-23T19:00:32.599Z"
   },
   {
    "duration": 18,
    "start_time": "2022-05-23T19:00:35.436Z"
   },
   {
    "duration": 32,
    "start_time": "2022-05-23T19:00:35.456Z"
   },
   {
    "duration": 254,
    "start_time": "2022-05-23T19:00:35.490Z"
   },
   {
    "duration": 157,
    "start_time": "2022-05-23T19:00:35.746Z"
   },
   {
    "duration": 3,
    "start_time": "2022-05-23T19:00:35.905Z"
   },
   {
    "duration": 8,
    "start_time": "2022-05-23T19:00:35.909Z"
   },
   {
    "duration": 12,
    "start_time": "2022-05-23T19:00:35.928Z"
   },
   {
    "duration": 50,
    "start_time": "2022-05-23T19:00:35.941Z"
   },
   {
    "duration": 146560,
    "start_time": "2022-05-23T19:00:35.993Z"
   },
   {
    "duration": 4,
    "start_time": "2022-05-23T19:03:02.555Z"
   },
   {
    "duration": 74,
    "start_time": "2022-05-23T19:03:02.560Z"
   },
   {
    "duration": 4,
    "start_time": "2022-05-23T19:03:02.638Z"
   },
   {
    "duration": 33,
    "start_time": "2022-05-23T19:03:02.644Z"
   },
   {
    "duration": 224,
    "start_time": "2022-05-23T19:03:02.679Z"
   },
   {
    "duration": 11728,
    "start_time": "2022-05-23T19:03:02.905Z"
   },
   {
    "duration": 6,
    "start_time": "2022-05-23T19:03:14.634Z"
   },
   {
    "duration": 21,
    "start_time": "2022-05-23T19:03:14.647Z"
   },
   {
    "duration": 818282,
    "start_time": "2022-05-23T19:03:14.670Z"
   },
   {
    "duration": 134591,
    "start_time": "2022-05-23T19:18:23.787Z"
   },
   {
    "duration": 2246,
    "start_time": "2022-05-23T19:32:35.560Z"
   },
   {
    "duration": 3253,
    "start_time": "2022-05-23T19:32:37.808Z"
   },
   {
    "duration": 10,
    "start_time": "2022-05-23T19:32:41.063Z"
   },
   {
    "duration": 40,
    "start_time": "2022-05-23T19:32:41.075Z"
   },
   {
    "duration": 241,
    "start_time": "2022-05-23T19:32:41.117Z"
   },
   {
    "duration": 203,
    "start_time": "2022-05-23T19:32:41.360Z"
   },
   {
    "duration": 4,
    "start_time": "2022-05-23T19:32:41.565Z"
   },
   {
    "duration": 12,
    "start_time": "2022-05-23T19:32:41.570Z"
   },
   {
    "duration": 18,
    "start_time": "2022-05-23T19:32:41.583Z"
   },
   {
    "duration": 42,
    "start_time": "2022-05-23T19:32:41.602Z"
   },
   {
    "duration": 145665,
    "start_time": "2022-05-23T19:32:41.648Z"
   },
   {
    "duration": 11,
    "start_time": "2022-05-23T19:35:07.316Z"
   },
   {
    "duration": 115,
    "start_time": "2022-05-23T19:35:07.332Z"
   },
   {
    "duration": 3,
    "start_time": "2022-05-23T19:35:07.451Z"
   },
   {
    "duration": 32,
    "start_time": "2022-05-23T19:35:07.457Z"
   },
   {
    "duration": 236,
    "start_time": "2022-05-23T19:35:07.492Z"
   },
   {
    "duration": 12500,
    "start_time": "2022-05-23T19:35:07.730Z"
   },
   {
    "duration": 5,
    "start_time": "2022-05-23T19:35:20.232Z"
   },
   {
    "duration": 43,
    "start_time": "2022-05-23T19:35:20.239Z"
   },
   {
    "duration": 805077,
    "start_time": "2022-05-23T19:35:20.284Z"
   },
   {
    "duration": 117736,
    "start_time": "2022-05-23T19:48:45.370Z"
   },
   {
    "duration": 7,
    "start_time": "2022-05-23T19:50:43.108Z"
   },
   {
    "duration": 3,
    "start_time": "2022-05-23T19:57:21.371Z"
   },
   {
    "duration": 1666,
    "start_time": "2022-05-23T19:57:34.242Z"
   },
   {
    "duration": 1301,
    "start_time": "2022-05-23T19:57:35.910Z"
   },
   {
    "duration": 9,
    "start_time": "2022-05-23T19:57:37.213Z"
   },
   {
    "duration": 50,
    "start_time": "2022-05-23T19:57:37.224Z"
   },
   {
    "duration": 225,
    "start_time": "2022-05-23T19:57:37.277Z"
   },
   {
    "duration": 176,
    "start_time": "2022-05-23T19:57:37.504Z"
   },
   {
    "duration": 4,
    "start_time": "2022-05-23T19:57:37.681Z"
   },
   {
    "duration": 6,
    "start_time": "2022-05-23T19:57:37.687Z"
   },
   {
    "duration": 10,
    "start_time": "2022-05-23T19:57:37.695Z"
   },
   {
    "duration": 43,
    "start_time": "2022-05-23T19:57:37.706Z"
   },
   {
    "duration": 130918,
    "start_time": "2022-05-23T19:57:37.751Z"
   },
   {
    "duration": 4,
    "start_time": "2022-05-23T19:59:48.670Z"
   },
   {
    "duration": 64,
    "start_time": "2022-05-23T19:59:48.676Z"
   },
   {
    "duration": 3,
    "start_time": "2022-05-23T19:59:48.743Z"
   },
   {
    "duration": 17,
    "start_time": "2022-05-23T19:59:48.748Z"
   },
   {
    "duration": 218,
    "start_time": "2022-05-23T19:59:48.766Z"
   },
   {
    "duration": 10255,
    "start_time": "2022-05-23T19:59:48.986Z"
   },
   {
    "duration": 4,
    "start_time": "2022-05-23T19:59:59.243Z"
   },
   {
    "duration": 24,
    "start_time": "2022-05-23T19:59:59.249Z"
   },
   {
    "duration": 677558,
    "start_time": "2022-05-23T19:59:59.275Z"
   },
   {
    "duration": 108224,
    "start_time": "2022-05-23T20:11:16.836Z"
   },
   {
    "duration": 7,
    "start_time": "2022-05-23T20:13:05.061Z"
   }
  ],
  "kernelspec": {
   "display_name": "Python 3 (ipykernel)",
   "language": "python",
   "name": "python3"
  },
  "language_info": {
   "codemirror_mode": {
    "name": "ipython",
    "version": 3
   },
   "file_extension": ".py",
   "mimetype": "text/x-python",
   "name": "python",
   "nbconvert_exporter": "python",
   "pygments_lexer": "ipython3",
   "version": "3.9.5"
  },
  "toc": {
   "base_numbering": 1,
   "nav_menu": {},
   "number_sections": true,
   "sideBar": true,
   "skip_h1_title": true,
   "title_cell": "Содержание",
   "title_sidebar": "Contents",
   "toc_cell": true,
   "toc_position": {
    "height": "calc(100% - 180px)",
    "left": "10px",
    "top": "150px",
    "width": "302.391px"
   },
   "toc_section_display": true,
   "toc_window_display": true
  }
 },
 "nbformat": 4,
 "nbformat_minor": 2
}
