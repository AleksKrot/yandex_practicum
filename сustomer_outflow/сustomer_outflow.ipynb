{
 "cells": [
  {
   "cell_type": "markdown",
   "metadata": {},
   "source": [
    "# Отток клиентов"
   ]
  },
  {
   "cell_type": "markdown",
   "metadata": {},
   "source": [
    "Из «Бета-Банка» стали уходить клиенты. Каждый месяц. Немного, но заметно. Банковские маркетологи посчитали: сохранять текущих клиентов дешевле, чем привлекать новых.\n",
    "\n",
    "Нужно спрогнозировать, уйдёт клиент из банка в ближайшее время или нет. Вам предоставлены исторические данные о поведении клиентов и расторжении договоров с банком. \n",
    "\n",
    "Постройте модель с предельно большим значением *F1*-меры. Чтобы сдать проект успешно, нужно довести метрику до 0.59. Проверьте *F1*-меру на тестовой выборке самостоятельно.\n",
    "\n",
    "Дополнительно измеряйте *AUC-ROC*, сравнивайте её значение с *F1*-мерой.\n",
    "\n",
    "Источник данных: [https://www.kaggle.com/barelydedicated/bank-customer-churn-modeling](https://www.kaggle.com/barelydedicated/bank-customer-churn-modeling)"
   ]
  },
  {
   "cell_type": "markdown",
   "metadata": {},
   "source": [
    "# Описание данных"
   ]
  },
  {
   "cell_type": "markdown",
   "metadata": {},
   "source": [
    "**Признаки** \n",
    "* `RowNumber` — индекс строки в данных\n",
    "\n",
    "\n",
    "* `CustomerId` — уникальный идентификатор клиента\n",
    "\n",
    "\n",
    "* `Surname` — фамилия\n",
    "\n",
    "\n",
    "* `CreditScore` — кредитный рейтинг\n",
    "\n",
    "\n",
    "* `Geography` — страна проживания\n",
    "\n",
    "\n",
    "* `Gender` — пол\n",
    "\n",
    "\n",
    "* `Age` — возраст\n",
    "\n",
    "\n",
    "* `Tenure` — сколько лет человек является клиентом банка\n",
    "\n",
    "\n",
    "* `Balance` — баланс на счёте\n",
    "\n",
    "\n",
    "* `NumOfProducts` — количество продуктов банка, используемых клиентом\n",
    "\n",
    "\n",
    "* `HasCrCard` — наличие кредитной карты\n",
    "\n",
    "\n",
    "* `IsActiveMember` — активность клиента\n",
    "\n",
    "\n",
    "* `EstimatedSalary` — предполагаемая зарплата\n",
    "\n",
    "**Целевой признак**\n",
    "* `Exited` — факт ухода клиента"
   ]
  },
  {
   "cell_type": "markdown",
   "metadata": {
    "toc": true
   },
   "source": [
    "<h1>Содержание<span class=\"tocSkip\"></span></h1>\n",
    "<div class=\"toc\"><ul class=\"toc-item\"><li><span><a href=\"#Подготовка-данных\" data-toc-modified-id=\"Подготовка-данных-1\"><span class=\"toc-item-num\">1&nbsp;&nbsp;</span>Подготовка данных</a></span><ul class=\"toc-item\"><li><span><a href=\"#Импорт-используемых-библиотек\" data-toc-modified-id=\"Импорт-используемых-библиотек-1.1\"><span class=\"toc-item-num\">1.1&nbsp;&nbsp;</span>Импорт используемых библиотек</a></span></li><li><span><a href=\"#Чтение-файла-с-данными\" data-toc-modified-id=\"Чтение-файла-с-данными-1.2\"><span class=\"toc-item-num\">1.2&nbsp;&nbsp;</span>Чтение файла с данными</a></span></li><li><span><a href=\"#Изучение-общей-информации\" data-toc-modified-id=\"Изучение-общей-информации-1.3\"><span class=\"toc-item-num\">1.3&nbsp;&nbsp;</span>Изучение общей информации</a></span></li><li><span><a href=\"#Предобработка-данных\" data-toc-modified-id=\"Предобработка-данных-1.4\"><span class=\"toc-item-num\">1.4&nbsp;&nbsp;</span>Предобработка данных</a></span></li><li><span><a href=\"#Подготовка-признаков\" data-toc-modified-id=\"Подготовка-признаков-1.5\"><span class=\"toc-item-num\">1.5&nbsp;&nbsp;</span>Подготовка признаков</a></span></li><li><span><a href=\"#Выводы\" data-toc-modified-id=\"Выводы-1.6\"><span class=\"toc-item-num\">1.6&nbsp;&nbsp;</span>Выводы</a></span></li></ul></li><li><span><a href=\"#Исследование-задачи\" data-toc-modified-id=\"Исследование-задачи-2\"><span class=\"toc-item-num\">2&nbsp;&nbsp;</span>Исследование задачи</a></span><ul class=\"toc-item\"><li><span><a href=\"#Алгоритм-решающего-дерева\" data-toc-modified-id=\"Алгоритм-решающего-дерева-2.1\"><span class=\"toc-item-num\">2.1&nbsp;&nbsp;</span>Алгоритм решающего дерева</a></span></li><li><span><a href=\"#Алгоритм-случайного-леса\" data-toc-modified-id=\"Алгоритм-случайного-леса-2.2\"><span class=\"toc-item-num\">2.2&nbsp;&nbsp;</span>Алгоритм случайного леса</a></span></li><li><span><a href=\"#Алгоритм-логистической-регрессии\" data-toc-modified-id=\"Алгоритм-логистической-регрессии-2.3\"><span class=\"toc-item-num\">2.3&nbsp;&nbsp;</span>Алгоритм логистической регрессии</a></span></li><li><span><a href=\"#Выводы\" data-toc-modified-id=\"Выводы-2.4\"><span class=\"toc-item-num\">2.4&nbsp;&nbsp;</span>Выводы</a></span></li></ul></li><li><span><a href=\"#Борьба-с-дисбалансом\" data-toc-modified-id=\"Борьба-с-дисбалансом-3\"><span class=\"toc-item-num\">3&nbsp;&nbsp;</span>Борьба с дисбалансом</a></span><ul class=\"toc-item\"><li><span><a href=\"#Параметр-class_weight\" data-toc-modified-id=\"Параметр-class_weight-3.1\"><span class=\"toc-item-num\">3.1&nbsp;&nbsp;</span>Параметр class_weight</a></span></li><li><span><a href=\"#Увеличение-выборки\" data-toc-modified-id=\"Увеличение-выборки-3.2\"><span class=\"toc-item-num\">3.2&nbsp;&nbsp;</span>Увеличение выборки</a></span></li><li><span><a href=\"#Уменьшение-выборки\" data-toc-modified-id=\"Уменьшение-выборки-3.3\"><span class=\"toc-item-num\">3.3&nbsp;&nbsp;</span>Уменьшение выборки</a></span></li><li><span><a href=\"#Выводы\" data-toc-modified-id=\"Выводы-3.4\"><span class=\"toc-item-num\">3.4&nbsp;&nbsp;</span>Выводы</a></span></li></ul></li><li><span><a href=\"#Тестирование-модели\" data-toc-modified-id=\"Тестирование-модели-4\"><span class=\"toc-item-num\">4&nbsp;&nbsp;</span>Тестирование модели</a></span></li></ul></div>"
   ]
  },
  {
   "cell_type": "markdown",
   "metadata": {},
   "source": [
    "## Подготовка данных"
   ]
  },
  {
   "cell_type": "markdown",
   "metadata": {},
   "source": [
    "### Импорт используемых библиотек"
   ]
  },
  {
   "cell_type": "code",
   "execution_count": 245,
   "metadata": {},
   "outputs": [],
   "source": [
    "# импорт библиотеки pandas\n",
    "import pandas as pd\n",
    "\n",
    "# импорт библиотеки matplotlib\n",
    "import matplotlib.pyplot as plt\n",
    "\n",
    "# импорт функции train_test_split из библиотеки sklearn\n",
    "from sklearn.model_selection import train_test_split \n",
    "\n",
    "# импорт алгоритма решающего дерева из библиотеки sklearn\n",
    "from sklearn.tree import DecisionTreeClassifier\n",
    "\n",
    "# импорт алгоритма случайного леса из библиотеки sklearn\n",
    "from sklearn.ensemble import RandomForestClassifier\n",
    "\n",
    "# импорт алгоритма логистической регрессии из библиотеки sklearn\n",
    "from sklearn.linear_model import LogisticRegression\n",
    "\n",
    "# импорт метода стандартизации данных из библиотеки sklearn\n",
    "from sklearn.preprocessing import StandardScaler\n",
    "\n",
    "# импорт случайного поиска по гиперпараметрам из библиотеки sklearn\n",
    "from sklearn.model_selection import RandomizedSearchCV\n",
    "\n",
    "# импорт кросс-валидации из библиотеки sklearn\n",
    "from sklearn.model_selection import cross_val_score\n",
    "\n",
    "# импорт расчёта значения f1-меры из библиотеки sklearn\n",
    "from sklearn.metrics import f1_score\n",
    "\n",
    "# импорт перемешивания объектов из библиотеки sklearn\n",
    "from sklearn.utils import shuffle\n",
    "\n",
    "# импорт расчёта метрики AUC-ROC из библиотеки sklearn\n",
    "from sklearn.metrics import roc_auc_score"
   ]
  },
  {
   "cell_type": "markdown",
   "metadata": {},
   "source": [
    "### Чтение файла с данными"
   ]
  },
  {
   "cell_type": "code",
   "execution_count": 246,
   "metadata": {},
   "outputs": [],
   "source": [
    "# чтение файла с данными\n",
    "df = pd.read_csv('/datasets/Churn.csv')"
   ]
  },
  {
   "cell_type": "markdown",
   "metadata": {},
   "source": [
    "### Изучение общей информации"
   ]
  },
  {
   "cell_type": "code",
   "execution_count": 247,
   "metadata": {
    "scrolled": false
   },
   "outputs": [
    {
     "data": {
      "text/html": [
       "<div>\n",
       "<style scoped>\n",
       "    .dataframe tbody tr th:only-of-type {\n",
       "        vertical-align: middle;\n",
       "    }\n",
       "\n",
       "    .dataframe tbody tr th {\n",
       "        vertical-align: top;\n",
       "    }\n",
       "\n",
       "    .dataframe thead th {\n",
       "        text-align: right;\n",
       "    }\n",
       "</style>\n",
       "<table border=\"1\" class=\"dataframe\">\n",
       "  <thead>\n",
       "    <tr style=\"text-align: right;\">\n",
       "      <th></th>\n",
       "      <th>RowNumber</th>\n",
       "      <th>CustomerId</th>\n",
       "      <th>Surname</th>\n",
       "      <th>CreditScore</th>\n",
       "      <th>Geography</th>\n",
       "      <th>Gender</th>\n",
       "      <th>Age</th>\n",
       "      <th>Tenure</th>\n",
       "      <th>Balance</th>\n",
       "      <th>NumOfProducts</th>\n",
       "      <th>HasCrCard</th>\n",
       "      <th>IsActiveMember</th>\n",
       "      <th>EstimatedSalary</th>\n",
       "      <th>Exited</th>\n",
       "    </tr>\n",
       "  </thead>\n",
       "  <tbody>\n",
       "    <tr>\n",
       "      <td>0</td>\n",
       "      <td>1</td>\n",
       "      <td>15634602</td>\n",
       "      <td>Hargrave</td>\n",
       "      <td>619</td>\n",
       "      <td>France</td>\n",
       "      <td>Female</td>\n",
       "      <td>42</td>\n",
       "      <td>2.0</td>\n",
       "      <td>0.00</td>\n",
       "      <td>1</td>\n",
       "      <td>1</td>\n",
       "      <td>1</td>\n",
       "      <td>101348.88</td>\n",
       "      <td>1</td>\n",
       "    </tr>\n",
       "    <tr>\n",
       "      <td>1</td>\n",
       "      <td>2</td>\n",
       "      <td>15647311</td>\n",
       "      <td>Hill</td>\n",
       "      <td>608</td>\n",
       "      <td>Spain</td>\n",
       "      <td>Female</td>\n",
       "      <td>41</td>\n",
       "      <td>1.0</td>\n",
       "      <td>83807.86</td>\n",
       "      <td>1</td>\n",
       "      <td>0</td>\n",
       "      <td>1</td>\n",
       "      <td>112542.58</td>\n",
       "      <td>0</td>\n",
       "    </tr>\n",
       "    <tr>\n",
       "      <td>2</td>\n",
       "      <td>3</td>\n",
       "      <td>15619304</td>\n",
       "      <td>Onio</td>\n",
       "      <td>502</td>\n",
       "      <td>France</td>\n",
       "      <td>Female</td>\n",
       "      <td>42</td>\n",
       "      <td>8.0</td>\n",
       "      <td>159660.80</td>\n",
       "      <td>3</td>\n",
       "      <td>1</td>\n",
       "      <td>0</td>\n",
       "      <td>113931.57</td>\n",
       "      <td>1</td>\n",
       "    </tr>\n",
       "    <tr>\n",
       "      <td>3</td>\n",
       "      <td>4</td>\n",
       "      <td>15701354</td>\n",
       "      <td>Boni</td>\n",
       "      <td>699</td>\n",
       "      <td>France</td>\n",
       "      <td>Female</td>\n",
       "      <td>39</td>\n",
       "      <td>1.0</td>\n",
       "      <td>0.00</td>\n",
       "      <td>2</td>\n",
       "      <td>0</td>\n",
       "      <td>0</td>\n",
       "      <td>93826.63</td>\n",
       "      <td>0</td>\n",
       "    </tr>\n",
       "    <tr>\n",
       "      <td>4</td>\n",
       "      <td>5</td>\n",
       "      <td>15737888</td>\n",
       "      <td>Mitchell</td>\n",
       "      <td>850</td>\n",
       "      <td>Spain</td>\n",
       "      <td>Female</td>\n",
       "      <td>43</td>\n",
       "      <td>2.0</td>\n",
       "      <td>125510.82</td>\n",
       "      <td>1</td>\n",
       "      <td>1</td>\n",
       "      <td>1</td>\n",
       "      <td>79084.10</td>\n",
       "      <td>0</td>\n",
       "    </tr>\n",
       "    <tr>\n",
       "      <td>5</td>\n",
       "      <td>6</td>\n",
       "      <td>15574012</td>\n",
       "      <td>Chu</td>\n",
       "      <td>645</td>\n",
       "      <td>Spain</td>\n",
       "      <td>Male</td>\n",
       "      <td>44</td>\n",
       "      <td>8.0</td>\n",
       "      <td>113755.78</td>\n",
       "      <td>2</td>\n",
       "      <td>1</td>\n",
       "      <td>0</td>\n",
       "      <td>149756.71</td>\n",
       "      <td>1</td>\n",
       "    </tr>\n",
       "    <tr>\n",
       "      <td>6</td>\n",
       "      <td>7</td>\n",
       "      <td>15592531</td>\n",
       "      <td>Bartlett</td>\n",
       "      <td>822</td>\n",
       "      <td>France</td>\n",
       "      <td>Male</td>\n",
       "      <td>50</td>\n",
       "      <td>7.0</td>\n",
       "      <td>0.00</td>\n",
       "      <td>2</td>\n",
       "      <td>1</td>\n",
       "      <td>1</td>\n",
       "      <td>10062.80</td>\n",
       "      <td>0</td>\n",
       "    </tr>\n",
       "    <tr>\n",
       "      <td>7</td>\n",
       "      <td>8</td>\n",
       "      <td>15656148</td>\n",
       "      <td>Obinna</td>\n",
       "      <td>376</td>\n",
       "      <td>Germany</td>\n",
       "      <td>Female</td>\n",
       "      <td>29</td>\n",
       "      <td>4.0</td>\n",
       "      <td>115046.74</td>\n",
       "      <td>4</td>\n",
       "      <td>1</td>\n",
       "      <td>0</td>\n",
       "      <td>119346.88</td>\n",
       "      <td>1</td>\n",
       "    </tr>\n",
       "    <tr>\n",
       "      <td>8</td>\n",
       "      <td>9</td>\n",
       "      <td>15792365</td>\n",
       "      <td>He</td>\n",
       "      <td>501</td>\n",
       "      <td>France</td>\n",
       "      <td>Male</td>\n",
       "      <td>44</td>\n",
       "      <td>4.0</td>\n",
       "      <td>142051.07</td>\n",
       "      <td>2</td>\n",
       "      <td>0</td>\n",
       "      <td>1</td>\n",
       "      <td>74940.50</td>\n",
       "      <td>0</td>\n",
       "    </tr>\n",
       "    <tr>\n",
       "      <td>9</td>\n",
       "      <td>10</td>\n",
       "      <td>15592389</td>\n",
       "      <td>H?</td>\n",
       "      <td>684</td>\n",
       "      <td>France</td>\n",
       "      <td>Male</td>\n",
       "      <td>27</td>\n",
       "      <td>2.0</td>\n",
       "      <td>134603.88</td>\n",
       "      <td>1</td>\n",
       "      <td>1</td>\n",
       "      <td>1</td>\n",
       "      <td>71725.73</td>\n",
       "      <td>0</td>\n",
       "    </tr>\n",
       "  </tbody>\n",
       "</table>\n",
       "</div>"
      ],
      "text/plain": [
       "   RowNumber  CustomerId   Surname  CreditScore Geography  Gender  Age  \\\n",
       "0          1    15634602  Hargrave          619    France  Female   42   \n",
       "1          2    15647311      Hill          608     Spain  Female   41   \n",
       "2          3    15619304      Onio          502    France  Female   42   \n",
       "3          4    15701354      Boni          699    France  Female   39   \n",
       "4          5    15737888  Mitchell          850     Spain  Female   43   \n",
       "5          6    15574012       Chu          645     Spain    Male   44   \n",
       "6          7    15592531  Bartlett          822    France    Male   50   \n",
       "7          8    15656148    Obinna          376   Germany  Female   29   \n",
       "8          9    15792365        He          501    France    Male   44   \n",
       "9         10    15592389        H?          684    France    Male   27   \n",
       "\n",
       "   Tenure    Balance  NumOfProducts  HasCrCard  IsActiveMember  \\\n",
       "0     2.0       0.00              1          1               1   \n",
       "1     1.0   83807.86              1          0               1   \n",
       "2     8.0  159660.80              3          1               0   \n",
       "3     1.0       0.00              2          0               0   \n",
       "4     2.0  125510.82              1          1               1   \n",
       "5     8.0  113755.78              2          1               0   \n",
       "6     7.0       0.00              2          1               1   \n",
       "7     4.0  115046.74              4          1               0   \n",
       "8     4.0  142051.07              2          0               1   \n",
       "9     2.0  134603.88              1          1               1   \n",
       "\n",
       "   EstimatedSalary  Exited  \n",
       "0        101348.88       1  \n",
       "1        112542.58       0  \n",
       "2        113931.57       1  \n",
       "3         93826.63       0  \n",
       "4         79084.10       0  \n",
       "5        149756.71       1  \n",
       "6         10062.80       0  \n",
       "7        119346.88       1  \n",
       "8         74940.50       0  \n",
       "9         71725.73       0  "
      ]
     },
     "execution_count": 247,
     "metadata": {},
     "output_type": "execute_result"
    }
   ],
   "source": [
    "# получение первых 10 строк датасета\n",
    "df.head(10)"
   ]
  },
  {
   "cell_type": "code",
   "execution_count": 248,
   "metadata": {},
   "outputs": [
    {
     "name": "stdout",
     "output_type": "stream",
     "text": [
      "<class 'pandas.core.frame.DataFrame'>\n",
      "RangeIndex: 10000 entries, 0 to 9999\n",
      "Data columns (total 14 columns):\n",
      "RowNumber          10000 non-null int64\n",
      "CustomerId         10000 non-null int64\n",
      "Surname            10000 non-null object\n",
      "CreditScore        10000 non-null int64\n",
      "Geography          10000 non-null object\n",
      "Gender             10000 non-null object\n",
      "Age                10000 non-null int64\n",
      "Tenure             9091 non-null float64\n",
      "Balance            10000 non-null float64\n",
      "NumOfProducts      10000 non-null int64\n",
      "HasCrCard          10000 non-null int64\n",
      "IsActiveMember     10000 non-null int64\n",
      "EstimatedSalary    10000 non-null float64\n",
      "Exited             10000 non-null int64\n",
      "dtypes: float64(3), int64(8), object(3)\n",
      "memory usage: 1.1+ MB\n"
     ]
    }
   ],
   "source": [
    "# получение общей информации о данных датасета\n",
    "df.info()"
   ]
  },
  {
   "cell_type": "code",
   "execution_count": 249,
   "metadata": {},
   "outputs": [
    {
     "data": {
      "text/html": [
       "<div>\n",
       "<style scoped>\n",
       "    .dataframe tbody tr th:only-of-type {\n",
       "        vertical-align: middle;\n",
       "    }\n",
       "\n",
       "    .dataframe tbody tr th {\n",
       "        vertical-align: top;\n",
       "    }\n",
       "\n",
       "    .dataframe thead th {\n",
       "        text-align: right;\n",
       "    }\n",
       "</style>\n",
       "<table border=\"1\" class=\"dataframe\">\n",
       "  <thead>\n",
       "    <tr style=\"text-align: right;\">\n",
       "      <th></th>\n",
       "      <th>RowNumber</th>\n",
       "      <th>CustomerId</th>\n",
       "      <th>CreditScore</th>\n",
       "      <th>Age</th>\n",
       "      <th>Tenure</th>\n",
       "      <th>Balance</th>\n",
       "      <th>NumOfProducts</th>\n",
       "      <th>HasCrCard</th>\n",
       "      <th>IsActiveMember</th>\n",
       "      <th>EstimatedSalary</th>\n",
       "      <th>Exited</th>\n",
       "    </tr>\n",
       "  </thead>\n",
       "  <tbody>\n",
       "    <tr>\n",
       "      <td>count</td>\n",
       "      <td>10000.00000</td>\n",
       "      <td>1.000000e+04</td>\n",
       "      <td>10000.000000</td>\n",
       "      <td>10000.000000</td>\n",
       "      <td>9091.000000</td>\n",
       "      <td>10000.000000</td>\n",
       "      <td>10000.000000</td>\n",
       "      <td>10000.00000</td>\n",
       "      <td>10000.000000</td>\n",
       "      <td>10000.000000</td>\n",
       "      <td>10000.000000</td>\n",
       "    </tr>\n",
       "    <tr>\n",
       "      <td>mean</td>\n",
       "      <td>5000.50000</td>\n",
       "      <td>1.569094e+07</td>\n",
       "      <td>650.528800</td>\n",
       "      <td>38.921800</td>\n",
       "      <td>4.997690</td>\n",
       "      <td>76485.889288</td>\n",
       "      <td>1.530200</td>\n",
       "      <td>0.70550</td>\n",
       "      <td>0.515100</td>\n",
       "      <td>100090.239881</td>\n",
       "      <td>0.203700</td>\n",
       "    </tr>\n",
       "    <tr>\n",
       "      <td>std</td>\n",
       "      <td>2886.89568</td>\n",
       "      <td>7.193619e+04</td>\n",
       "      <td>96.653299</td>\n",
       "      <td>10.487806</td>\n",
       "      <td>2.894723</td>\n",
       "      <td>62397.405202</td>\n",
       "      <td>0.581654</td>\n",
       "      <td>0.45584</td>\n",
       "      <td>0.499797</td>\n",
       "      <td>57510.492818</td>\n",
       "      <td>0.402769</td>\n",
       "    </tr>\n",
       "    <tr>\n",
       "      <td>min</td>\n",
       "      <td>1.00000</td>\n",
       "      <td>1.556570e+07</td>\n",
       "      <td>350.000000</td>\n",
       "      <td>18.000000</td>\n",
       "      <td>0.000000</td>\n",
       "      <td>0.000000</td>\n",
       "      <td>1.000000</td>\n",
       "      <td>0.00000</td>\n",
       "      <td>0.000000</td>\n",
       "      <td>11.580000</td>\n",
       "      <td>0.000000</td>\n",
       "    </tr>\n",
       "    <tr>\n",
       "      <td>25%</td>\n",
       "      <td>2500.75000</td>\n",
       "      <td>1.562853e+07</td>\n",
       "      <td>584.000000</td>\n",
       "      <td>32.000000</td>\n",
       "      <td>2.000000</td>\n",
       "      <td>0.000000</td>\n",
       "      <td>1.000000</td>\n",
       "      <td>0.00000</td>\n",
       "      <td>0.000000</td>\n",
       "      <td>51002.110000</td>\n",
       "      <td>0.000000</td>\n",
       "    </tr>\n",
       "    <tr>\n",
       "      <td>50%</td>\n",
       "      <td>5000.50000</td>\n",
       "      <td>1.569074e+07</td>\n",
       "      <td>652.000000</td>\n",
       "      <td>37.000000</td>\n",
       "      <td>5.000000</td>\n",
       "      <td>97198.540000</td>\n",
       "      <td>1.000000</td>\n",
       "      <td>1.00000</td>\n",
       "      <td>1.000000</td>\n",
       "      <td>100193.915000</td>\n",
       "      <td>0.000000</td>\n",
       "    </tr>\n",
       "    <tr>\n",
       "      <td>75%</td>\n",
       "      <td>7500.25000</td>\n",
       "      <td>1.575323e+07</td>\n",
       "      <td>718.000000</td>\n",
       "      <td>44.000000</td>\n",
       "      <td>7.000000</td>\n",
       "      <td>127644.240000</td>\n",
       "      <td>2.000000</td>\n",
       "      <td>1.00000</td>\n",
       "      <td>1.000000</td>\n",
       "      <td>149388.247500</td>\n",
       "      <td>0.000000</td>\n",
       "    </tr>\n",
       "    <tr>\n",
       "      <td>max</td>\n",
       "      <td>10000.00000</td>\n",
       "      <td>1.581569e+07</td>\n",
       "      <td>850.000000</td>\n",
       "      <td>92.000000</td>\n",
       "      <td>10.000000</td>\n",
       "      <td>250898.090000</td>\n",
       "      <td>4.000000</td>\n",
       "      <td>1.00000</td>\n",
       "      <td>1.000000</td>\n",
       "      <td>199992.480000</td>\n",
       "      <td>1.000000</td>\n",
       "    </tr>\n",
       "  </tbody>\n",
       "</table>\n",
       "</div>"
      ],
      "text/plain": [
       "         RowNumber    CustomerId   CreditScore           Age       Tenure  \\\n",
       "count  10000.00000  1.000000e+04  10000.000000  10000.000000  9091.000000   \n",
       "mean    5000.50000  1.569094e+07    650.528800     38.921800     4.997690   \n",
       "std     2886.89568  7.193619e+04     96.653299     10.487806     2.894723   \n",
       "min        1.00000  1.556570e+07    350.000000     18.000000     0.000000   \n",
       "25%     2500.75000  1.562853e+07    584.000000     32.000000     2.000000   \n",
       "50%     5000.50000  1.569074e+07    652.000000     37.000000     5.000000   \n",
       "75%     7500.25000  1.575323e+07    718.000000     44.000000     7.000000   \n",
       "max    10000.00000  1.581569e+07    850.000000     92.000000    10.000000   \n",
       "\n",
       "             Balance  NumOfProducts    HasCrCard  IsActiveMember  \\\n",
       "count   10000.000000   10000.000000  10000.00000    10000.000000   \n",
       "mean    76485.889288       1.530200      0.70550        0.515100   \n",
       "std     62397.405202       0.581654      0.45584        0.499797   \n",
       "min         0.000000       1.000000      0.00000        0.000000   \n",
       "25%         0.000000       1.000000      0.00000        0.000000   \n",
       "50%     97198.540000       1.000000      1.00000        1.000000   \n",
       "75%    127644.240000       2.000000      1.00000        1.000000   \n",
       "max    250898.090000       4.000000      1.00000        1.000000   \n",
       "\n",
       "       EstimatedSalary        Exited  \n",
       "count     10000.000000  10000.000000  \n",
       "mean     100090.239881      0.203700  \n",
       "std       57510.492818      0.402769  \n",
       "min          11.580000      0.000000  \n",
       "25%       51002.110000      0.000000  \n",
       "50%      100193.915000      0.000000  \n",
       "75%      149388.247500      0.000000  \n",
       "max      199992.480000      1.000000  "
      ]
     },
     "execution_count": 249,
     "metadata": {},
     "output_type": "execute_result"
    }
   ],
   "source": [
    "# получение описательной статистики данных датасета\n",
    "df.describe()"
   ]
  },
  {
   "cell_type": "markdown",
   "metadata": {},
   "source": [
    "Целью проекта является прогноз вероятности ухода клиента из банка в ближайшее время, поэтому столбцы с информацией об индексе строки в данных, уникальном идентификаторе клиента и фамилии клиента не только не важны, но и могут оказывать негативное воздействие на точность построения модели.\n",
    "\n",
    "**Проведем предобработку данных:**\n",
    "* удалим столбцы: `RowNumber`, `CustomerId`и `Surname`,\n",
    "\n",
    "\n",
    "* приведем названия всех столбцов к нижнему регистру,\n",
    "\n",
    "\n",
    "* приведем названия столбцов `CreditScore`, `NumOfProducts`, `HasCrCard`, `IsActiveMember` и `EstimatedSalary` к змеиному регистру\n",
    "\n",
    "\n",
    "* устраним пропуски в столбце `Tenure`,\n",
    "\n",
    "\n",
    "* сменим тип данных в столбцах `Tenure`, `Balance` и `EstimatedSalary` на целочисленный, т.к. для обучения модели это будет проще, а некоторое округление значений не внесет сильных ошибок,\n",
    "\n",
    "\n",
    "* проверим данные на наличие дубликатов."
   ]
  },
  {
   "cell_type": "markdown",
   "metadata": {},
   "source": [
    "### Предобработка данных"
   ]
  },
  {
   "cell_type": "markdown",
   "metadata": {},
   "source": [
    "Удалим лишние столбцы."
   ]
  },
  {
   "cell_type": "code",
   "execution_count": 250,
   "metadata": {},
   "outputs": [],
   "source": [
    "# удаление столбцов\n",
    "df =  df.drop(['RowNumber', 'CustomerId', 'Surname'], axis = 1)"
   ]
  },
  {
   "cell_type": "markdown",
   "metadata": {},
   "source": [
    "Приведем названия столбцов к общепринятому виду."
   ]
  },
  {
   "cell_type": "code",
   "execution_count": 251,
   "metadata": {},
   "outputs": [],
   "source": [
    "# приведение названий столбцов к нижнему регистру\n",
    "df.columns = df.columns.str.lower()"
   ]
  },
  {
   "cell_type": "code",
   "execution_count": 252,
   "metadata": {},
   "outputs": [],
   "source": [
    "# переименование столбцов\n",
    "df = df.rename(columns={\n",
    "    'creditscore': 'credit_score', \n",
    "    'numofproducts': 'num_of_products', \n",
    "    'hascrcard': 'has_cr_card',\n",
    "    'isactivemember': 'is_active_member', \n",
    "    'estimatedsalary': 'estimated_salary',\n",
    "})"
   ]
  },
  {
   "cell_type": "code",
   "execution_count": 253,
   "metadata": {},
   "outputs": [
    {
     "data": {
      "text/html": [
       "<div>\n",
       "<style scoped>\n",
       "    .dataframe tbody tr th:only-of-type {\n",
       "        vertical-align: middle;\n",
       "    }\n",
       "\n",
       "    .dataframe tbody tr th {\n",
       "        vertical-align: top;\n",
       "    }\n",
       "\n",
       "    .dataframe thead th {\n",
       "        text-align: right;\n",
       "    }\n",
       "</style>\n",
       "<table border=\"1\" class=\"dataframe\">\n",
       "  <thead>\n",
       "    <tr style=\"text-align: right;\">\n",
       "      <th></th>\n",
       "      <th>credit_score</th>\n",
       "      <th>geography</th>\n",
       "      <th>gender</th>\n",
       "      <th>age</th>\n",
       "      <th>tenure</th>\n",
       "      <th>balance</th>\n",
       "      <th>num_of_products</th>\n",
       "      <th>has_cr_card</th>\n",
       "      <th>is_active_member</th>\n",
       "      <th>estimated_salary</th>\n",
       "      <th>exited</th>\n",
       "    </tr>\n",
       "  </thead>\n",
       "  <tbody>\n",
       "    <tr>\n",
       "      <td>0</td>\n",
       "      <td>619</td>\n",
       "      <td>France</td>\n",
       "      <td>Female</td>\n",
       "      <td>42</td>\n",
       "      <td>2.0</td>\n",
       "      <td>0.00</td>\n",
       "      <td>1</td>\n",
       "      <td>1</td>\n",
       "      <td>1</td>\n",
       "      <td>101348.88</td>\n",
       "      <td>1</td>\n",
       "    </tr>\n",
       "    <tr>\n",
       "      <td>1</td>\n",
       "      <td>608</td>\n",
       "      <td>Spain</td>\n",
       "      <td>Female</td>\n",
       "      <td>41</td>\n",
       "      <td>1.0</td>\n",
       "      <td>83807.86</td>\n",
       "      <td>1</td>\n",
       "      <td>0</td>\n",
       "      <td>1</td>\n",
       "      <td>112542.58</td>\n",
       "      <td>0</td>\n",
       "    </tr>\n",
       "    <tr>\n",
       "      <td>2</td>\n",
       "      <td>502</td>\n",
       "      <td>France</td>\n",
       "      <td>Female</td>\n",
       "      <td>42</td>\n",
       "      <td>8.0</td>\n",
       "      <td>159660.80</td>\n",
       "      <td>3</td>\n",
       "      <td>1</td>\n",
       "      <td>0</td>\n",
       "      <td>113931.57</td>\n",
       "      <td>1</td>\n",
       "    </tr>\n",
       "    <tr>\n",
       "      <td>3</td>\n",
       "      <td>699</td>\n",
       "      <td>France</td>\n",
       "      <td>Female</td>\n",
       "      <td>39</td>\n",
       "      <td>1.0</td>\n",
       "      <td>0.00</td>\n",
       "      <td>2</td>\n",
       "      <td>0</td>\n",
       "      <td>0</td>\n",
       "      <td>93826.63</td>\n",
       "      <td>0</td>\n",
       "    </tr>\n",
       "    <tr>\n",
       "      <td>4</td>\n",
       "      <td>850</td>\n",
       "      <td>Spain</td>\n",
       "      <td>Female</td>\n",
       "      <td>43</td>\n",
       "      <td>2.0</td>\n",
       "      <td>125510.82</td>\n",
       "      <td>1</td>\n",
       "      <td>1</td>\n",
       "      <td>1</td>\n",
       "      <td>79084.10</td>\n",
       "      <td>0</td>\n",
       "    </tr>\n",
       "  </tbody>\n",
       "</table>\n",
       "</div>"
      ],
      "text/plain": [
       "   credit_score geography  gender  age  tenure    balance  num_of_products  \\\n",
       "0           619    France  Female   42     2.0       0.00                1   \n",
       "1           608     Spain  Female   41     1.0   83807.86                1   \n",
       "2           502    France  Female   42     8.0  159660.80                3   \n",
       "3           699    France  Female   39     1.0       0.00                2   \n",
       "4           850     Spain  Female   43     2.0  125510.82                1   \n",
       "\n",
       "   has_cr_card  is_active_member  estimated_salary  exited  \n",
       "0            1                 1         101348.88       1  \n",
       "1            0                 1         112542.58       0  \n",
       "2            1                 0         113931.57       1  \n",
       "3            0                 0          93826.63       0  \n",
       "4            1                 1          79084.10       0  "
      ]
     },
     "execution_count": 253,
     "metadata": {},
     "output_type": "execute_result"
    }
   ],
   "source": [
    "# получение первых 5 строк датасета\n",
    "df.head()"
   ]
  },
  {
   "cell_type": "markdown",
   "metadata": {},
   "source": [
    "Так как в столбце `tenure`, который демонстрирует сколько лет человек является клиентом банка, имеются пропущенные значения, устраним пропуски."
   ]
  },
  {
   "cell_type": "code",
   "execution_count": 254,
   "metadata": {},
   "outputs": [
    {
     "data": {
      "text/plain": [
       "909"
      ]
     },
     "execution_count": 254,
     "metadata": {},
     "output_type": "execute_result"
    }
   ],
   "source": [
    "# подсчёт пропусков\n",
    "df['tenure'].isna().sum()"
   ]
  },
  {
   "cell_type": "code",
   "execution_count": 255,
   "metadata": {},
   "outputs": [
    {
     "data": {
      "text/plain": [
       "9.09"
      ]
     },
     "execution_count": 255,
     "metadata": {},
     "output_type": "execute_result"
    }
   ],
   "source": [
    "# подсчёт доли пропусков от общего количества данных\n",
    "df['tenure'].isna().sum() / df.shape[0] * 100"
   ]
  },
  {
   "cell_type": "markdown",
   "metadata": {},
   "source": [
    "Пропущенных значений порядка 9%. Это много, поэтому просто исключить строки с пропущенными значениями будет неверно. Заменим пропущенные данные медианным значением."
   ]
  },
  {
   "cell_type": "code",
   "execution_count": 256,
   "metadata": {},
   "outputs": [],
   "source": [
    "# заполнение пропущенных значений\n",
    "df['tenure'] = df['tenure'].fillna(df['tenure'].median())"
   ]
  },
  {
   "cell_type": "code",
   "execution_count": 257,
   "metadata": {},
   "outputs": [
    {
     "data": {
      "text/plain": [
       "credit_score        0\n",
       "geography           0\n",
       "gender              0\n",
       "age                 0\n",
       "tenure              0\n",
       "balance             0\n",
       "num_of_products     0\n",
       "has_cr_card         0\n",
       "is_active_member    0\n",
       "estimated_salary    0\n",
       "exited              0\n",
       "dtype: int64"
      ]
     },
     "execution_count": 257,
     "metadata": {},
     "output_type": "execute_result"
    }
   ],
   "source": [
    "# подсчёт пропусков\n",
    "df.isna().sum()"
   ]
  },
  {
   "cell_type": "markdown",
   "metadata": {},
   "source": [
    "Теперь, когда пропуски отсутствуют, заменим типы данных."
   ]
  },
  {
   "cell_type": "code",
   "execution_count": 258,
   "metadata": {},
   "outputs": [],
   "source": [
    "# изменение типа данных\n",
    "df = df.astype({'tenure': \"int64\", \n",
    "                    'balance': \"int64\",\n",
    "                    'estimated_salary': \"int64\"\n",
    "                   })"
   ]
  },
  {
   "cell_type": "code",
   "execution_count": 259,
   "metadata": {},
   "outputs": [
    {
     "name": "stdout",
     "output_type": "stream",
     "text": [
      "<class 'pandas.core.frame.DataFrame'>\n",
      "RangeIndex: 10000 entries, 0 to 9999\n",
      "Data columns (total 11 columns):\n",
      "credit_score        10000 non-null int64\n",
      "geography           10000 non-null object\n",
      "gender              10000 non-null object\n",
      "age                 10000 non-null int64\n",
      "tenure              10000 non-null int64\n",
      "balance             10000 non-null int64\n",
      "num_of_products     10000 non-null int64\n",
      "has_cr_card         10000 non-null int64\n",
      "is_active_member    10000 non-null int64\n",
      "estimated_salary    10000 non-null int64\n",
      "exited              10000 non-null int64\n",
      "dtypes: int64(9), object(2)\n",
      "memory usage: 859.5+ KB\n"
     ]
    }
   ],
   "source": [
    "# получение общей информации о данных датасета\n",
    "df.info()"
   ]
  },
  {
   "cell_type": "code",
   "execution_count": 260,
   "metadata": {},
   "outputs": [
    {
     "data": {
      "text/html": [
       "<div>\n",
       "<style scoped>\n",
       "    .dataframe tbody tr th:only-of-type {\n",
       "        vertical-align: middle;\n",
       "    }\n",
       "\n",
       "    .dataframe tbody tr th {\n",
       "        vertical-align: top;\n",
       "    }\n",
       "\n",
       "    .dataframe thead th {\n",
       "        text-align: right;\n",
       "    }\n",
       "</style>\n",
       "<table border=\"1\" class=\"dataframe\">\n",
       "  <thead>\n",
       "    <tr style=\"text-align: right;\">\n",
       "      <th></th>\n",
       "      <th>credit_score</th>\n",
       "      <th>age</th>\n",
       "      <th>tenure</th>\n",
       "      <th>balance</th>\n",
       "      <th>num_of_products</th>\n",
       "      <th>has_cr_card</th>\n",
       "      <th>is_active_member</th>\n",
       "      <th>estimated_salary</th>\n",
       "      <th>exited</th>\n",
       "    </tr>\n",
       "  </thead>\n",
       "  <tbody>\n",
       "    <tr>\n",
       "      <td>count</td>\n",
       "      <td>10000.000000</td>\n",
       "      <td>10000.000000</td>\n",
       "      <td>10000.00000</td>\n",
       "      <td>10000.000000</td>\n",
       "      <td>10000.000000</td>\n",
       "      <td>10000.00000</td>\n",
       "      <td>10000.000000</td>\n",
       "      <td>10000.000000</td>\n",
       "      <td>10000.000000</td>\n",
       "    </tr>\n",
       "    <tr>\n",
       "      <td>mean</td>\n",
       "      <td>650.528800</td>\n",
       "      <td>38.921800</td>\n",
       "      <td>4.99790</td>\n",
       "      <td>76485.571500</td>\n",
       "      <td>1.530200</td>\n",
       "      <td>0.70550</td>\n",
       "      <td>0.515100</td>\n",
       "      <td>100089.748400</td>\n",
       "      <td>0.203700</td>\n",
       "    </tr>\n",
       "    <tr>\n",
       "      <td>std</td>\n",
       "      <td>96.653299</td>\n",
       "      <td>10.487806</td>\n",
       "      <td>2.76001</td>\n",
       "      <td>62397.185107</td>\n",
       "      <td>0.581654</td>\n",
       "      <td>0.45584</td>\n",
       "      <td>0.499797</td>\n",
       "      <td>57510.491042</td>\n",
       "      <td>0.402769</td>\n",
       "    </tr>\n",
       "    <tr>\n",
       "      <td>min</td>\n",
       "      <td>350.000000</td>\n",
       "      <td>18.000000</td>\n",
       "      <td>0.00000</td>\n",
       "      <td>0.000000</td>\n",
       "      <td>1.000000</td>\n",
       "      <td>0.00000</td>\n",
       "      <td>0.000000</td>\n",
       "      <td>11.000000</td>\n",
       "      <td>0.000000</td>\n",
       "    </tr>\n",
       "    <tr>\n",
       "      <td>25%</td>\n",
       "      <td>584.000000</td>\n",
       "      <td>32.000000</td>\n",
       "      <td>3.00000</td>\n",
       "      <td>0.000000</td>\n",
       "      <td>1.000000</td>\n",
       "      <td>0.00000</td>\n",
       "      <td>0.000000</td>\n",
       "      <td>51001.750000</td>\n",
       "      <td>0.000000</td>\n",
       "    </tr>\n",
       "    <tr>\n",
       "      <td>50%</td>\n",
       "      <td>652.000000</td>\n",
       "      <td>37.000000</td>\n",
       "      <td>5.00000</td>\n",
       "      <td>97198.000000</td>\n",
       "      <td>1.000000</td>\n",
       "      <td>1.00000</td>\n",
       "      <td>1.000000</td>\n",
       "      <td>100193.500000</td>\n",
       "      <td>0.000000</td>\n",
       "    </tr>\n",
       "    <tr>\n",
       "      <td>75%</td>\n",
       "      <td>718.000000</td>\n",
       "      <td>44.000000</td>\n",
       "      <td>7.00000</td>\n",
       "      <td>127643.750000</td>\n",
       "      <td>2.000000</td>\n",
       "      <td>1.00000</td>\n",
       "      <td>1.000000</td>\n",
       "      <td>149387.750000</td>\n",
       "      <td>0.000000</td>\n",
       "    </tr>\n",
       "    <tr>\n",
       "      <td>max</td>\n",
       "      <td>850.000000</td>\n",
       "      <td>92.000000</td>\n",
       "      <td>10.00000</td>\n",
       "      <td>250898.000000</td>\n",
       "      <td>4.000000</td>\n",
       "      <td>1.00000</td>\n",
       "      <td>1.000000</td>\n",
       "      <td>199992.000000</td>\n",
       "      <td>1.000000</td>\n",
       "    </tr>\n",
       "  </tbody>\n",
       "</table>\n",
       "</div>"
      ],
      "text/plain": [
       "       credit_score           age       tenure        balance  \\\n",
       "count  10000.000000  10000.000000  10000.00000   10000.000000   \n",
       "mean     650.528800     38.921800      4.99790   76485.571500   \n",
       "std       96.653299     10.487806      2.76001   62397.185107   \n",
       "min      350.000000     18.000000      0.00000       0.000000   \n",
       "25%      584.000000     32.000000      3.00000       0.000000   \n",
       "50%      652.000000     37.000000      5.00000   97198.000000   \n",
       "75%      718.000000     44.000000      7.00000  127643.750000   \n",
       "max      850.000000     92.000000     10.00000  250898.000000   \n",
       "\n",
       "       num_of_products  has_cr_card  is_active_member  estimated_salary  \\\n",
       "count     10000.000000  10000.00000      10000.000000      10000.000000   \n",
       "mean          1.530200      0.70550          0.515100     100089.748400   \n",
       "std           0.581654      0.45584          0.499797      57510.491042   \n",
       "min           1.000000      0.00000          0.000000         11.000000   \n",
       "25%           1.000000      0.00000          0.000000      51001.750000   \n",
       "50%           1.000000      1.00000          1.000000     100193.500000   \n",
       "75%           2.000000      1.00000          1.000000     149387.750000   \n",
       "max           4.000000      1.00000          1.000000     199992.000000   \n",
       "\n",
       "             exited  \n",
       "count  10000.000000  \n",
       "mean       0.203700  \n",
       "std        0.402769  \n",
       "min        0.000000  \n",
       "25%        0.000000  \n",
       "50%        0.000000  \n",
       "75%        0.000000  \n",
       "max        1.000000  "
      ]
     },
     "execution_count": 260,
     "metadata": {},
     "output_type": "execute_result"
    }
   ],
   "source": [
    "# получение описательной статистики данных датасета\n",
    "df.describe()"
   ]
  },
  {
   "cell_type": "markdown",
   "metadata": {},
   "source": [
    "Проверим датасет на наличие дубликатов."
   ]
  },
  {
   "cell_type": "code",
   "execution_count": 261,
   "metadata": {},
   "outputs": [
    {
     "data": {
      "text/plain": [
       "0"
      ]
     },
     "execution_count": 261,
     "metadata": {},
     "output_type": "execute_result"
    }
   ],
   "source": [
    "# проверка на наличие дубликатов\n",
    "df.duplicated().sum()"
   ]
  },
  {
   "cell_type": "markdown",
   "metadata": {},
   "source": [
    "### Подготовка признаков"
   ]
  },
  {
   "cell_type": "markdown",
   "metadata": {},
   "source": [
    "В нашем датасете присутствуют категориальные признаки в столбцах `geography` и `gender`. Для обучения модели подходят только численные данные.\n",
    "\n",
    "Посмотрим сначала какие категирии есть и как распределены."
   ]
  },
  {
   "cell_type": "code",
   "execution_count": 262,
   "metadata": {},
   "outputs": [
    {
     "data": {
      "text/plain": [
       "France     5014\n",
       "Germany    2509\n",
       "Spain      2477\n",
       "Name: geography, dtype: int64"
      ]
     },
     "execution_count": 262,
     "metadata": {},
     "output_type": "execute_result"
    }
   ],
   "source": [
    "# получение уникальных значений и их количества\n",
    "df['geography'].value_counts()"
   ]
  },
  {
   "cell_type": "code",
   "execution_count": 263,
   "metadata": {},
   "outputs": [
    {
     "data": {
      "text/plain": [
       "(-1.25, 1.25, -1.25, 1.25)"
      ]
     },
     "execution_count": 263,
     "metadata": {},
     "output_type": "execute_result"
    },
    {
     "data": {
      "image/png": "[encoded data removed]",
      "text/plain": [
       "<Figure size 720x576 with 1 Axes>"
      ]
     },
     "metadata": {},
     "output_type": "display_data"
    }
   ],
   "source": [
    "# построение круговой диаграммы\n",
    "df['geography'].value_counts().plot(kind='pie', autopct='%1.1f%%', shadow=True, figsize=(10,8))\n",
    "plt.legend(['Франция', 'Германия', 'Испания'], fontsize=10, shadow=True, facecolor='w')\n",
    "plt.title('Распределение клиентов по странам')\n",
    "plt.tight_layout()\n",
    "plt.axis('off')"
   ]
  },
  {
   "cell_type": "code",
   "execution_count": 264,
   "metadata": {},
   "outputs": [
    {
     "data": {
      "text/plain": [
       "Male      5457\n",
       "Female    4543\n",
       "Name: gender, dtype: int64"
      ]
     },
     "execution_count": 264,
     "metadata": {},
     "output_type": "execute_result"
    }
   ],
   "source": [
    "# получение уникальных значений и их количества\n",
    "df['gender'].value_counts()"
   ]
  },
  {
   "cell_type": "code",
   "execution_count": 265,
   "metadata": {},
   "outputs": [
    {
     "data": {
      "text/plain": [
       "(-1.25, 1.25, -1.25, 1.25)"
      ]
     },
     "execution_count": 265,
     "metadata": {},
     "output_type": "execute_result"
    },
    {
     "data": {
      "image/png": "[encoded data removed]",
      "text/plain": [
       "<Figure size 720x576 with 1 Axes>"
      ]
     },
     "metadata": {},
     "output_type": "display_data"
    }
   ],
   "source": [
    "# построение круговой диаграммы\n",
    "df['gender'].value_counts().plot(kind='pie', autopct='%1.1f%%', shadow=True, figsize=(10,8))\n",
    "plt.legend(['Мужчины', 'Женщины'], fontsize=10, shadow=True, facecolor='w')\n",
    "plt.title('Распределение клиентов по гендерному признаку')\n",
    "plt.tight_layout()\n",
    "plt.axis('off')"
   ]
  },
  {
   "cell_type": "markdown",
   "metadata": {},
   "source": [
    "Преобразовать категориальные признаки в численные поможет техника прямого кодирования, или отображения One-Hot Encoding. Но у такоего кодирования есть недостаток: из-за переизбытка данных можно угодить в ловушку фиктивных признаков. Чтобы этого избежать, один столбец с признаками удалим, т.к. его всегда можно восстановить по оставшимся."
   ]
  },
  {
   "cell_type": "code",
   "execution_count": 266,
   "metadata": {},
   "outputs": [],
   "source": [
    "# преобразование категориальных признаков прямым кодированием\n",
    "df_ohe = pd.get_dummies(df, drop_first=True)"
   ]
  },
  {
   "cell_type": "code",
   "execution_count": 267,
   "metadata": {
    "scrolled": true
   },
   "outputs": [
    {
     "data": {
      "text/html": [
       "<div>\n",
       "<style scoped>\n",
       "    .dataframe tbody tr th:only-of-type {\n",
       "        vertical-align: middle;\n",
       "    }\n",
       "\n",
       "    .dataframe tbody tr th {\n",
       "        vertical-align: top;\n",
       "    }\n",
       "\n",
       "    .dataframe thead th {\n",
       "        text-align: right;\n",
       "    }\n",
       "</style>\n",
       "<table border=\"1\" class=\"dataframe\">\n",
       "  <thead>\n",
       "    <tr style=\"text-align: right;\">\n",
       "      <th></th>\n",
       "      <th>credit_score</th>\n",
       "      <th>age</th>\n",
       "      <th>tenure</th>\n",
       "      <th>balance</th>\n",
       "      <th>num_of_products</th>\n",
       "      <th>has_cr_card</th>\n",
       "      <th>is_active_member</th>\n",
       "      <th>estimated_salary</th>\n",
       "      <th>exited</th>\n",
       "      <th>geography_Germany</th>\n",
       "      <th>geography_Spain</th>\n",
       "      <th>gender_Male</th>\n",
       "    </tr>\n",
       "  </thead>\n",
       "  <tbody>\n",
       "    <tr>\n",
       "      <td>0</td>\n",
       "      <td>619</td>\n",
       "      <td>42</td>\n",
       "      <td>2</td>\n",
       "      <td>0</td>\n",
       "      <td>1</td>\n",
       "      <td>1</td>\n",
       "      <td>1</td>\n",
       "      <td>101348</td>\n",
       "      <td>1</td>\n",
       "      <td>0</td>\n",
       "      <td>0</td>\n",
       "      <td>0</td>\n",
       "    </tr>\n",
       "    <tr>\n",
       "      <td>1</td>\n",
       "      <td>608</td>\n",
       "      <td>41</td>\n",
       "      <td>1</td>\n",
       "      <td>83807</td>\n",
       "      <td>1</td>\n",
       "      <td>0</td>\n",
       "      <td>1</td>\n",
       "      <td>112542</td>\n",
       "      <td>0</td>\n",
       "      <td>0</td>\n",
       "      <td>1</td>\n",
       "      <td>0</td>\n",
       "    </tr>\n",
       "    <tr>\n",
       "      <td>2</td>\n",
       "      <td>502</td>\n",
       "      <td>42</td>\n",
       "      <td>8</td>\n",
       "      <td>159660</td>\n",
       "      <td>3</td>\n",
       "      <td>1</td>\n",
       "      <td>0</td>\n",
       "      <td>113931</td>\n",
       "      <td>1</td>\n",
       "      <td>0</td>\n",
       "      <td>0</td>\n",
       "      <td>0</td>\n",
       "    </tr>\n",
       "    <tr>\n",
       "      <td>3</td>\n",
       "      <td>699</td>\n",
       "      <td>39</td>\n",
       "      <td>1</td>\n",
       "      <td>0</td>\n",
       "      <td>2</td>\n",
       "      <td>0</td>\n",
       "      <td>0</td>\n",
       "      <td>93826</td>\n",
       "      <td>0</td>\n",
       "      <td>0</td>\n",
       "      <td>0</td>\n",
       "      <td>0</td>\n",
       "    </tr>\n",
       "    <tr>\n",
       "      <td>4</td>\n",
       "      <td>850</td>\n",
       "      <td>43</td>\n",
       "      <td>2</td>\n",
       "      <td>125510</td>\n",
       "      <td>1</td>\n",
       "      <td>1</td>\n",
       "      <td>1</td>\n",
       "      <td>79084</td>\n",
       "      <td>0</td>\n",
       "      <td>0</td>\n",
       "      <td>1</td>\n",
       "      <td>0</td>\n",
       "    </tr>\n",
       "  </tbody>\n",
       "</table>\n",
       "</div>"
      ],
      "text/plain": [
       "   credit_score  age  tenure  balance  num_of_products  has_cr_card  \\\n",
       "0           619   42       2        0                1            1   \n",
       "1           608   41       1    83807                1            0   \n",
       "2           502   42       8   159660                3            1   \n",
       "3           699   39       1        0                2            0   \n",
       "4           850   43       2   125510                1            1   \n",
       "\n",
       "   is_active_member  estimated_salary  exited  geography_Germany  \\\n",
       "0                 1            101348       1                  0   \n",
       "1                 1            112542       0                  0   \n",
       "2                 0            113931       1                  0   \n",
       "3                 0             93826       0                  0   \n",
       "4                 1             79084       0                  0   \n",
       "\n",
       "   geography_Spain  gender_Male  \n",
       "0                0            0  \n",
       "1                1            0  \n",
       "2                0            0  \n",
       "3                0            0  \n",
       "4                1            0  "
      ]
     },
     "execution_count": 267,
     "metadata": {},
     "output_type": "execute_result"
    }
   ],
   "source": [
    "# получение первых 5 строк датасета\n",
    "df_ohe.head()"
   ]
  },
  {
   "cell_type": "markdown",
   "metadata": {},
   "source": [
    "В данных присутствуют колличественные признаки с разными разбросами значений, поэтому алгорим может решить, что признаки с\n",
    "большими значениями и разбросом важнее. Чтобы избежать этой ловушки, признаки масштабируются — приводятся к одному масштабу.\n",
    "Один из методов масштабирования — стандартизации данных. \n",
    "\n",
    "Перед масштабированием необходимо разделить данные."
   ]
  },
  {
   "cell_type": "markdown",
   "metadata": {},
   "source": [
    "Спрятанной тестовой выборки нет. Значит, данные нужно разбить на три части: обучающую, валидационную и тестовую. Размеры тестового и валидационного наборов обычно равны. Исходные данные разбивают в соотношении 3:1:1.\n",
    "Разобъем исходные данные на:\n",
    "- обучающую выборку (60%)\n",
    "- тестовую выборку (20%)\n",
    "- валидационную выборку (20%)"
   ]
  },
  {
   "cell_type": "code",
   "execution_count": 268,
   "metadata": {},
   "outputs": [],
   "source": [
    "# выделение валидационной выборки\n",
    "df_total, df_valid = train_test_split(df_ohe, test_size=0.2, random_state=12345)"
   ]
  },
  {
   "cell_type": "code",
   "execution_count": 269,
   "metadata": {},
   "outputs": [],
   "source": [
    "# разделите данные на обучающую и тестовую выборки\n",
    "df_train, df_test = train_test_split(df_total, test_size=0.25, random_state=12345)"
   ]
  },
  {
   "cell_type": "code",
   "execution_count": 270,
   "metadata": {},
   "outputs": [
    {
     "data": {
      "text/plain": [
       "(6000, 2000, 2000)"
      ]
     },
     "execution_count": 270,
     "metadata": {},
     "output_type": "execute_result"
    }
   ],
   "source": [
    "# проверка размера выборок\n",
    "df_train.shape[0], df_test.shape[0], df_valid.shape[0]"
   ]
  },
  {
   "cell_type": "code",
   "execution_count": 271,
   "metadata": {},
   "outputs": [],
   "source": [
    "# создание переменные для признаков и целевого признака\n",
    "features_train = df_train.drop(['exited'], axis=1)\n",
    "target_train = df_train['exited']\n",
    "features_valid = df_valid.drop(['exited'], axis=1)\n",
    "target_valid = df_valid['exited']\n",
    "features_test = df_test.drop(['exited'], axis=1)\n",
    "target_test = df_test['exited']"
   ]
  },
  {
   "cell_type": "code",
   "execution_count": 272,
   "metadata": {},
   "outputs": [
    {
     "data": {
      "text/plain": [
       "((6000, 11), (2000, 11), (2000, 11))"
      ]
     },
     "execution_count": 272,
     "metadata": {},
     "output_type": "execute_result"
    }
   ],
   "source": [
    "# проверка размера выборок признаков\n",
    "features_train.shape, features_valid.shape, features_test.shape"
   ]
  },
  {
   "cell_type": "markdown",
   "metadata": {},
   "source": [
    "Данные разделены успешно, перейдем к стандартизации данных."
   ]
  },
  {
   "cell_type": "code",
   "execution_count": 273,
   "metadata": {},
   "outputs": [],
   "source": [
    "# При записи изменённых признаков в исходный датафрейм код может вызывать предупреждение SettingWithCopy.\n",
    "# Причина в особенности поведения sklearn и pandas.\n",
    "# Специалисты уже привыкли игнорировать такое сообщение.\n",
    "# Чтобы предупреждение не появлялось, в код добавляют строчку:\n",
    "pd.options.mode.chained_assignment = None"
   ]
  },
  {
   "cell_type": "code",
   "execution_count": 274,
   "metadata": {},
   "outputs": [],
   "source": [
    "# признаки для масштабирования\n",
    "numeric = ['credit_score', 'age', 'tenure', 'balance', 'num_of_products', 'estimated_salary']\n",
    "\n",
    "# стандартизация данных\n",
    "scaler = StandardScaler()\n",
    "scaler.fit(features_train[numeric])\n",
    "features_train[numeric] = scaler.transform(features_train[numeric])\n",
    "features_valid[numeric] = scaler.transform(features_valid[numeric])\n",
    "features_test[numeric] = scaler.transform(features_test[numeric])"
   ]
  },
  {
   "cell_type": "markdown",
   "metadata": {},
   "source": [
    "### Выводы"
   ]
  },
  {
   "cell_type": "markdown",
   "metadata": {},
   "source": [
    "Была проведена следующая подготовка данных и признаков:\n",
    "\n",
    "* столбцы `RowNumber`, `CustomerId`и `Surname` были удалены, т.к. они лишь увеличивали размерность данных не неся при этом полезную информацию для построения модели;\n",
    "\n",
    "\n",
    "* названия всех столбцов к нижнему змеинному регистру;\n",
    "\n",
    "\n",
    "* пропуски в столбце `tenure` заменены на медианное значение количества лет, в течение которого клиент пользуется услугами банка;\n",
    "\n",
    "\n",
    "* типы данных в столбцах `tenure`, `balance` и `estimated_salary` изменены на целочисленный тип, т.к. для обучения модели это будет проще, а некоторое округление значений не внесет сильных ошибок;\n",
    "\n",
    "\n",
    "* данные были проверены на наличие дубликатов, которые, как оказалось, отсутствуют;\n",
    "\n",
    "\n",
    "* категориальные признаки были перекодированы с помощью прямого кодирования;\n",
    "\n",
    "\n",
    "* датасет был разделен на обучающую, тестовую и валидационную  выборки в пропорции 3:1:1;\n",
    "\n",
    "\n",
    "* произведена стандартизация данных."
   ]
  },
  {
   "cell_type": "markdown",
   "metadata": {},
   "source": [
    "## Исследование задачи"
   ]
  },
  {
   "cell_type": "markdown",
   "metadata": {},
   "source": [
    "Дисбаланс классов плохо сказывается на обучении модели. Классы несбалансированны, когда их соотношение далеко от 1:1. Баланс классов наблюдается, если их количество примерно равно.\n",
    "\n",
    "Проверим данные на дисбаланс классов."
   ]
  },
  {
   "cell_type": "code",
   "execution_count": 275,
   "metadata": {},
   "outputs": [
    {
     "name": "stdout",
     "output_type": "stream",
     "text": [
      "0    0.796833\n",
      "1    0.203167\n",
      "Name: exited, dtype: float64\n"
     ]
    },
    {
     "data": {
      "text/plain": [
       "<matplotlib.axes._subplots.AxesSubplot at 0x7fad56c9e5d0>"
      ]
     },
     "execution_count": 275,
     "metadata": {},
     "output_type": "execute_result"
    },
    {
     "data": {
      "image/png": "[encoded data removed]",
      "text/plain": [
       "<Figure size 432x288 with 1 Axes>"
      ]
     },
     "metadata": {
      "needs_background": "light"
     },
     "output_type": "display_data"
    }
   ],
   "source": [
    "# проверка баланса классов\n",
    "class_frequency = target_train.value_counts(normalize= 2)\n",
    "print(class_frequency)\n",
    "class_frequency.plot(kind='bar')"
   ]
  },
  {
   "cell_type": "markdown",
   "metadata": {},
   "source": [
    "В классах заметный дисбаланс, 80% клиентов из банка не уходят. Попробуем обучить модель, несмотря на дисбаланс."
   ]
  },
  {
   "cell_type": "markdown",
   "metadata": {},
   "source": [
    "### Алгоритм решающего дерева"
   ]
  },
  {
   "cell_type": "code",
   "execution_count": 276,
   "metadata": {},
   "outputs": [
    {
     "name": "stdout",
     "output_type": "stream",
     "text": [
      "F1-score для Decision Tree на валидационной выборке: 0.5805233164497656\n",
      "AUC-ROC для Decision Tree на валидационной выборке: 0.8075164115172722\n",
      "CPU times: user 1.32 s, sys: 3.92 ms, total: 1.32 s\n",
      "Wall time: 1.32 s\n"
     ]
    }
   ],
   "source": [
    "%%time\n",
    "dtc = DecisionTreeClassifier(random_state = 12345)\n",
    "parameters_dtc = {'criterion': ['gini', 'entropy'], # критерий\n",
    "                 'max_depth': range(1, 50), # глубина дерева\n",
    "                 'min_samples_leaf': range(1, 20), # минимальное количесто объектов в листе\n",
    "                 'max_features': range(1, features_train.shape[1]+1)} # максимальное количество фич\n",
    "search_dtc = RandomizedSearchCV(dtc, parameters_dtc, cv=5, n_jobs = -1, scoring = 'f1')\n",
    "search_dtc.fit(features_train, target_train)\n",
    "best_dtc = search_dtc.best_estimator_\n",
    "\n",
    "f1_score_val_dtc = cross_val_score(best_dtc, features_valid, target_valid, scoring = 'f1', cv = 10, n_jobs = -1)   \n",
    "auc_roc_val_dtc = cross_val_score(best_dtc, features_valid, target_valid, scoring = 'roc_auc', cv = 10, n_jobs = -1)\n",
    "\n",
    "print('F1-score для Decision Tree на валидационной выборке:', sum(f1_score_val_dtc)/len(f1_score_val_dtc))\n",
    "print('AUC-ROC для Decision Tree на валидационной выборке:', sum(auc_roc_val_dtc)/len(auc_roc_val_dtc))"
   ]
  },
  {
   "cell_type": "markdown",
   "metadata": {},
   "source": [
    "### Алгоритм случайного леса"
   ]
  },
  {
   "cell_type": "code",
   "execution_count": 279,
   "metadata": {},
   "outputs": [
    {
     "name": "stdout",
     "output_type": "stream",
     "text": [
      "F1-score для Random Forest на валидационной выборке: 0.5879758142144859\n",
      "AUC-ROC для Random Forest на валидационной выборке: 0.8657131767767041\n",
      "CPU times: user 36.7 s, sys: 114 ms, total: 36.8 s\n",
      "Wall time: 37.6 s\n"
     ]
    }
   ],
   "source": [
    "%%time\n",
    "rfc = RandomForestClassifier(random_state = 12345)\n",
    "parameters_rfc = {'n_estimators': range(1, 200, 10), # количество деревьев \n",
    "                 'criterion': ['gini', 'entropy'], # критерий\n",
    "                 'max_depth':range(1, 50, 1), # глубина дерева\n",
    "                 'min_samples_leaf': range(1, 10), # минимальное количесто объектов в листе\n",
    "                 'max_features': range(1, features_train.shape[1]+1)} # максимальное количество фич\n",
    "search_rfc = RandomizedSearchCV(rfc, parameters_rfc, cv=5, n_jobs = -1, scoring = 'f1')\n",
    "search_rfc.fit(features_train, target_train)\n",
    "best_rfc = search_rfc.best_estimator_\n",
    "\n",
    "f1_score_val_rfc = cross_val_score(best_rfc, features_valid, target_valid, scoring = 'f1', cv = 10, n_jobs = -1)   \n",
    "auc_roc_val_rfc = cross_val_score(best_rfc, features_valid, target_valid, scoring = 'roc_auc', cv = 10, n_jobs = -1)\n",
    "\n",
    "print('F1-score для Random Forest на валидационной выборке:', sum(f1_score_val_rfc)/len(f1_score_val_rfc))\n",
    "print('AUC-ROC для Random Forest на валидационной выборке:', sum(auc_roc_val_rfc)/len(auc_roc_val_rfc))"
   ]
  },
  {
   "cell_type": "markdown",
   "metadata": {},
   "source": [
    "### Алгоритм логистической регрессии"
   ]
  },
  {
   "cell_type": "code",
   "execution_count": 280,
   "metadata": {},
   "outputs": [
    {
     "name": "stdout",
     "output_type": "stream",
     "text": [
      "F1-score для Logistic Regression на валидационной выборке: 0.29391299254813974\n",
      "AUC-ROC для Logistic Regression на валидационной выборке: 0.7644361664009949\n",
      "CPU times: user 6 s, sys: 4.32 s, total: 10.3 s\n",
      "Wall time: 10.3 s\n"
     ]
    }
   ],
   "source": [
    "%%time\n",
    "lr = LogisticRegression(random_state = 12345)\n",
    "parameters_lr = {'C': [0.1, 0.2, 0.3, 0.4, 0.5, 0.6, 0.7, 0.8, 0.9, 1.0, 5, 10, 20, 50], # обратная сила регуляризации\n",
    "                 'penalty':['l1'], # Регуляризация \n",
    "                 'solver':['liblinear', 'saga']} # функция потерь\n",
    "\n",
    "search_lr = RandomizedSearchCV(lr, parameters_lr, cv=5, n_jobs = -1, scoring = 'f1')\n",
    "search_lr.fit(features_train, target_train)\n",
    "best_lr = search_lr.best_estimator_\n",
    "\n",
    "f1_score_val_lr = cross_val_score(best_lr, features_valid, target_valid, scoring = 'f1', cv = 10, n_jobs = -1)   \n",
    "auc_roc_val_lr = cross_val_score(best_lr, features_valid, target_valid, scoring = 'roc_auc', cv = 10, n_jobs = -1) \n",
    "\n",
    "print('F1-score для Logistic Regression на валидационной выборке:', sum(f1_score_val_lr)/len(f1_score_val_lr))\n",
    "print('AUC-ROC для Logistic Regression на валидационной выборке:', sum(auc_roc_val_lr)/len(auc_roc_val_lr))"
   ]
  },
  {
   "cell_type": "markdown",
   "metadata": {},
   "source": [
    "### Выводы"
   ]
  },
  {
   "cell_type": "code",
   "execution_count": 281,
   "metadata": {},
   "outputs": [
    {
     "data": {
      "text/html": [
       "<div>\n",
       "<style scoped>\n",
       "    .dataframe tbody tr th:only-of-type {\n",
       "        vertical-align: middle;\n",
       "    }\n",
       "\n",
       "    .dataframe tbody tr th {\n",
       "        vertical-align: top;\n",
       "    }\n",
       "\n",
       "    .dataframe thead th {\n",
       "        text-align: right;\n",
       "    }\n",
       "</style>\n",
       "<table border=\"1\" class=\"dataframe\">\n",
       "  <thead>\n",
       "    <tr style=\"text-align: right;\">\n",
       "      <th></th>\n",
       "      <th>model</th>\n",
       "      <th>f1_non_balance</th>\n",
       "      <th>auc_roc_non_balance</th>\n",
       "    </tr>\n",
       "  </thead>\n",
       "  <tbody>\n",
       "    <tr>\n",
       "      <td>0</td>\n",
       "      <td>decision_tree</td>\n",
       "      <td>0.580523</td>\n",
       "      <td>0.807516</td>\n",
       "    </tr>\n",
       "    <tr>\n",
       "      <td>1</td>\n",
       "      <td>random_forest</td>\n",
       "      <td>0.587976</td>\n",
       "      <td>0.865949</td>\n",
       "    </tr>\n",
       "    <tr>\n",
       "      <td>2</td>\n",
       "      <td>logistic_regression</td>\n",
       "      <td>0.293913</td>\n",
       "      <td>0.764436</td>\n",
       "    </tr>\n",
       "  </tbody>\n",
       "</table>\n",
       "</div>"
      ],
      "text/plain": [
       "                 model  f1_non_balance  auc_roc_non_balance\n",
       "0        decision_tree        0.580523             0.807516\n",
       "1        random_forest        0.587976             0.865949\n",
       "2  logistic_regression        0.293913             0.764436"
      ]
     },
     "execution_count": 281,
     "metadata": {},
     "output_type": "execute_result"
    }
   ],
   "source": [
    "df_non_balance = [['decision_tree', \n",
    "                     sum(f1_score_val_dtc)/len(f1_score_val_dtc), sum(auc_roc_val_dtc)/len(auc_roc_val_dtc)], \n",
    "                    ['random_forest', \n",
    "                     sum(f1_score_val_rfc)/len(f1_score_val_rfc), sum(auc_roc_val_rf)/len(auc_roc_val_rf)], \n",
    "                    ['logistic_regression', \n",
    "                     sum(f1_score_val_lr)/len(f1_score_val_lr), sum(auc_roc_val_lr)/len(auc_roc_val_lr)]]\n",
    "columns_non_balance = ['model', 'f1_non_balance', 'auc_roc_non_balance']\n",
    "table_non_balance = pd.DataFrame(data = df_non_balance, columns = columns_non_balance)\n",
    "table_non_balance"
   ]
  },
  {
   "cell_type": "markdown",
   "metadata": {},
   "source": [
    "Были определены гиперпараметры, необходимые для достижения максимально возможной F1 меры для трех алгоритмов. Наибольшим значением обладает модель случайного леса, близким значением обладает модель решающего дерева, а логистическая регрессия показала наихудший результат.\n",
    "Для дальнейшего рассмотрения исключим логистическую регрессию.\n",
    "\n",
    "Устраним дисбаланс и проверим как это скажется на характеристике модели."
   ]
  },
  {
   "cell_type": "markdown",
   "metadata": {},
   "source": [
    "## Борьба с дисбалансом"
   ]
  },
  {
   "cell_type": "markdown",
   "metadata": {},
   "source": [
    "У нас три пути решения этой проблемы:\n",
    "\n",
    "* Добавить в модель параметр class_weight\n",
    "* Увеличение выборки\n",
    "* Уменьшение выборки\n",
    "\n",
    "Реализуем все 3 способа поочередно"
   ]
  },
  {
   "cell_type": "markdown",
   "metadata": {},
   "source": [
    "### Параметр class_weight"
   ]
  },
  {
   "cell_type": "markdown",
   "metadata": {},
   "source": [
    "Алгоритм решающего дерева."
   ]
  },
  {
   "cell_type": "code",
   "execution_count": 282,
   "metadata": {},
   "outputs": [
    {
     "name": "stdout",
     "output_type": "stream",
     "text": [
      "F1-score для Decision Tree (balanced) на валидационной выборке: 0.5781909605734598\n",
      "AUC-ROC для Decision Tree (balanced) на валидационной выборке: 0.8161224077802774\n",
      "CPU times: user 1.68 s, sys: 0 ns, total: 1.68 s\n",
      "Wall time: 1.69 s\n"
     ]
    }
   ],
   "source": [
    "%%time\n",
    "dtc_balanced = DecisionTreeClassifier(random_state = 12345, class_weight = 'balanced')\n",
    "search_dtc_balanced = RandomizedSearchCV(dtc_balanced, parameters_dtc, cv=5, n_jobs = -1, scoring = 'f1')\n",
    "search_dtc_balanced.fit(features_train, target_train)\n",
    "best_dtc_balanced = search_dtc_balanced.best_estimator_\n",
    "\n",
    "f1_score_val_dtc_b = cross_val_score(best_dtc_balanced, features_valid, target_valid, scoring = 'f1', cv = 10, n_jobs = -1)   \n",
    "auc_roc_val_dtc_b = cross_val_score(best_dtc_balanced, features_valid, target_valid, scoring = 'roc_auc', cv = 10, n_jobs = -1)\n",
    "\n",
    "print('F1-score для Decision Tree (balanced) на валидационной выборке:', sum(f1_score_val_dtc_b)/len(f1_score_val_dtc_b))\n",
    "print('AUC-ROC для Decision Tree (balanced) на валидационной выборке:', sum(auc_roc_val_dtc_b)/len(auc_roc_val_dtc_b))"
   ]
  },
  {
   "cell_type": "markdown",
   "metadata": {},
   "source": [
    "Алгоритм случайного леса."
   ]
  },
  {
   "cell_type": "code",
   "execution_count": 283,
   "metadata": {},
   "outputs": [
    {
     "name": "stdout",
     "output_type": "stream",
     "text": [
      "F1-score для Random Forest (balanced) на валидационной выборке: 0.6357832708333333\n",
      "AUC-ROC для Random Forest (balanced) на валидационной выборке: 0.8690144937784764\n",
      "CPU times: user 1min 24s, sys: 218 ms, total: 1min 25s\n",
      "Wall time: 1min 27s\n"
     ]
    }
   ],
   "source": [
    "%%time\n",
    "rfc_balanced = RandomForestClassifier(random_state = 12345, class_weight = 'balanced')\n",
    "search_rfc_balanced = RandomizedSearchCV(rfc_balanced, parameters_rfc, cv=5, n_jobs = -1, scoring = 'f1')\n",
    "search_rfc_balanced.fit(features_train, target_train)\n",
    "best_rfc_balanced = search_rfc_balanced.best_estimator_\n",
    "\n",
    "f1_score_val_rfc_b = cross_val_score(best_rfc_balanced, features_valid, target_valid, scoring = 'f1', cv = 10, n_jobs = -1)   \n",
    "auc_roc_val_rfc_b = cross_val_score(best_rfc_balanced, features_valid, target_valid, scoring = 'roc_auc', cv = 10, n_jobs = -1)\n",
    "\n",
    "print('F1-score для Random Forest (balanced) на валидационной выборке:', sum(f1_score_val_rfc_b)/len(f1_score_val_rfc_b))\n",
    "print('AUC-ROC для Random Forest (balanced) на валидационной выборке:', sum(auc_roc_val_rfc_b)/len(auc_roc_val_rfc_b))"
   ]
  },
  {
   "cell_type": "markdown",
   "metadata": {},
   "source": [
    "### Увеличение выборки"
   ]
  },
  {
   "cell_type": "code",
   "execution_count": 284,
   "metadata": {},
   "outputs": [
    {
     "data": {
      "text/plain": [
       "1    4876\n",
       "0    4781\n",
       "Name: exited, dtype: int64"
      ]
     },
     "execution_count": 284,
     "metadata": {},
     "output_type": "execute_result"
    }
   ],
   "source": [
    "# функция для увеличения выборки\n",
    "def upsample(features, target, repeat):\n",
    "    features_zeros = features[target == 0]\n",
    "    features_ones = features[target == 1]\n",
    "    target_zeros = target[target == 0]\n",
    "    target_ones = target[target == 1]\n",
    "\n",
    "    features_upsampled = pd.concat([features_zeros] + [features_ones] * repeat)\n",
    "    target_upsampled = pd.concat([target_zeros] + [target_ones] * repeat)\n",
    "    \n",
    "    features_upsampled, target_upsampled = shuffle(\n",
    "        features_upsampled, target_upsampled, random_state=12345)\n",
    "    \n",
    "    return features_upsampled, target_upsampled\n",
    "\n",
    "features_upsampled, target_upsampled = upsample(features_train, target_train, 4)\n",
    "target_upsampled.value_counts()"
   ]
  },
  {
   "cell_type": "markdown",
   "metadata": {},
   "source": [
    "Алгоритм решающего дерева."
   ]
  },
  {
   "cell_type": "code",
   "execution_count": 285,
   "metadata": {},
   "outputs": [
    {
     "name": "stdout",
     "output_type": "stream",
     "text": [
      "F1-score для Decision Tree (upsampled) на валидационной выборке: 0.532595795327597\n",
      "AUC-ROC для Decision Tree (upsampled) на валидационной выборке: 0.7377457776665864\n",
      "CPU times: user 1.78 s, sys: 3.76 ms, total: 1.79 s\n",
      "Wall time: 1.79 s\n"
     ]
    }
   ],
   "source": [
    "%%time\n",
    "search_dtc.fit(features_upsampled, target_upsampled)\n",
    "best_dtc_us = search_dtc.best_estimator_\n",
    "\n",
    "f1_score_val_dtc_us = cross_val_score(best_dtc_us, features_valid, target_valid, scoring = 'f1', cv = 10, n_jobs = -1)   \n",
    "auc_roc_val_dtc_us = cross_val_score(best_dtc_us, features_valid, target_valid, scoring = 'roc_auc', cv = 10, n_jobs = -1)\n",
    "\n",
    "print('F1-score для Decision Tree (upsampled) на валидационной выборке:', sum(f1_score_val_dtc_us)/len(f1_score_val_dtc_us))\n",
    "print('AUC-ROC для Decision Tree (upsampled) на валидационной выборке:', sum(auc_roc_val_dtc_us)/len(auc_roc_val_dtc_us))"
   ]
  },
  {
   "cell_type": "markdown",
   "metadata": {},
   "source": [
    "Алгоритм случайного леса."
   ]
  },
  {
   "cell_type": "code",
   "execution_count": 286,
   "metadata": {},
   "outputs": [
    {
     "name": "stdout",
     "output_type": "stream",
     "text": [
      "F1-score для Random Forest (upsampled) на валидационной выборке: 0.575133095671313\n",
      "AUC-ROC для Random Forest (upsampled) на валидационной выборке: 0.8497256964319977\n",
      "CPU times: user 1min 7s, sys: 204 ms, total: 1min 7s\n",
      "Wall time: 1min 9s\n"
     ]
    }
   ],
   "source": [
    "%%time\n",
    "search_rfc.fit(features_upsampled, target_upsampled)\n",
    "best_rfc_us = search_rfc.best_estimator_\n",
    "\n",
    "f1_score_val_rfc_us = cross_val_score(best_rfc_us, features_valid, target_valid, scoring = 'f1', cv = 10, n_jobs = -1)   \n",
    "auc_roc_val_rfc_us = cross_val_score(best_rfc_us, features_valid, target_valid, scoring = 'roc_auc', cv = 10, n_jobs = -1)\n",
    "\n",
    "print('F1-score для Random Forest (upsampled) на валидационной выборке:', sum(f1_score_val_rfc_us)/len(f1_score_val_rfc_us))\n",
    "print('AUC-ROC для Random Forest (upsampled) на валидационной выборке:', sum(auc_roc_val_rfc_us)/len(auc_roc_val_rfc_us))"
   ]
  },
  {
   "cell_type": "markdown",
   "metadata": {},
   "source": [
    "### Уменьшение выборки"
   ]
  },
  {
   "cell_type": "code",
   "execution_count": 287,
   "metadata": {},
   "outputs": [
    {
     "data": {
      "text/plain": [
       "1    1219\n",
       "0    1219\n",
       "Name: exited, dtype: int64"
      ]
     },
     "execution_count": 287,
     "metadata": {},
     "output_type": "execute_result"
    }
   ],
   "source": [
    "# функция для уменьшения выборки\n",
    "def downsample(features, target, fraction):\n",
    "    features_zeros = features[target == 0]\n",
    "    features_ones = features[target == 1]\n",
    "    target_zeros = target[target == 0]\n",
    "    target_ones = target[target == 1]\n",
    "\n",
    "    features_downsampled = pd.concat(\n",
    "        [features_zeros.sample(frac=fraction, random_state=12345)] + [features_ones])\n",
    "    target_downsampled = pd.concat(\n",
    "        [target_zeros.sample(frac=fraction, random_state=12345)] + [target_ones])\n",
    "    \n",
    "    features_downsampled, target_downsampled = shuffle(\n",
    "        features_downsampled, target_downsampled, random_state=12345)\n",
    "    \n",
    "    return features_downsampled, target_downsampled\n",
    "\n",
    "features_downsampled, target_downsampled = downsample(features_train, target_train, 0.255)\n",
    "target_downsampled.value_counts()"
   ]
  },
  {
   "cell_type": "markdown",
   "metadata": {},
   "source": [
    "Алгоритм решающего дерева."
   ]
  },
  {
   "cell_type": "code",
   "execution_count": 288,
   "metadata": {},
   "outputs": [
    {
     "name": "stdout",
     "output_type": "stream",
     "text": [
      "F1-score для Decision Tree (downsampled) на валидационной выборке: 0.5727722683832781\n",
      "AUC-ROC для Decision Tree (downsampled) на валидационной выборке: 0.8036801191866825\n",
      "CPU times: user 896 ms, sys: 4.03 ms, total: 900 ms\n",
      "Wall time: 905 ms\n"
     ]
    }
   ],
   "source": [
    "%%time\n",
    "search_dtc.fit(features_downsampled, target_downsampled)\n",
    "best_dtc_ds = search_dtc.best_estimator_\n",
    "\n",
    "f1_score_val_dtc_ds = cross_val_score(best_dtc_ds, features_valid, target_valid, scoring = 'f1', cv = 10, n_jobs = -1)   \n",
    "auc_roc_val_dtc_ds = cross_val_score(best_dtc_ds, features_valid, target_valid, scoring = 'roc_auc', cv = 10, n_jobs = -1)\n",
    "\n",
    "print('F1-score для Decision Tree (downsampled) на валидационной выборке:', sum(f1_score_val_dtc_ds)/len(f1_score_val_dtc_ds))\n",
    "print('AUC-ROC для Decision Tree (downsampled) на валидационной выборке:', sum(auc_roc_val_dtc_ds)/len(auc_roc_val_dtc_ds))"
   ]
  },
  {
   "cell_type": "markdown",
   "metadata": {},
   "source": [
    "Алгоритм случайного леса."
   ]
  },
  {
   "cell_type": "code",
   "execution_count": 289,
   "metadata": {},
   "outputs": [
    {
     "name": "stdout",
     "output_type": "stream",
     "text": [
      "F1-score для Random Forest (downsampled) на валидационной выборке: 0.5867557389461552\n",
      "AUC-ROC для Random Forest (downsampled) на валидационной выборке: 0.8631305620429593\n",
      "CPU times: user 24.1 s, sys: 127 ms, total: 24.2 s\n",
      "Wall time: 25.3 s\n"
     ]
    }
   ],
   "source": [
    "%%time\n",
    "search_rfc.fit(features_downsampled, target_downsampled)\n",
    "best_rfc_ds = search_rfc.best_estimator_\n",
    "\n",
    "f1_score_val_rfc_ds = cross_val_score(best_rfc_ds, features_valid, target_valid, scoring = 'f1', cv = 10, n_jobs = -1)   \n",
    "auc_roc_val_rfc_ds = cross_val_score(best_rfc_ds, features_valid, target_valid, scoring = 'roc_auc', cv = 10, n_jobs = -1)\n",
    "\n",
    "print('F1-score для Random Forest (downsampled) на валидационной выборке:', sum(f1_score_val_rfc_ds)/len(f1_score_val_rfc_ds))\n",
    "print('AUC-ROC для Random Forest (downsampled) на валидационной выборке:', sum(auc_roc_val_rfc_ds)/len(auc_roc_val_rfc_ds))"
   ]
  },
  {
   "cell_type": "markdown",
   "metadata": {},
   "source": [
    "### Выводы"
   ]
  },
  {
   "cell_type": "code",
   "execution_count": 290,
   "metadata": {},
   "outputs": [
    {
     "data": {
      "text/html": [
       "<div>\n",
       "<style scoped>\n",
       "    .dataframe tbody tr th:only-of-type {\n",
       "        vertical-align: middle;\n",
       "    }\n",
       "\n",
       "    .dataframe tbody tr th {\n",
       "        vertical-align: top;\n",
       "    }\n",
       "\n",
       "    .dataframe thead th {\n",
       "        text-align: right;\n",
       "    }\n",
       "</style>\n",
       "<table border=\"1\" class=\"dataframe\">\n",
       "  <thead>\n",
       "    <tr style=\"text-align: right;\">\n",
       "      <th></th>\n",
       "      <th>model</th>\n",
       "      <th>f1_non_balance</th>\n",
       "      <th>f1_balance</th>\n",
       "      <th>f1_upsample</th>\n",
       "      <th>f1_downsample</th>\n",
       "    </tr>\n",
       "  </thead>\n",
       "  <tbody>\n",
       "    <tr>\n",
       "      <td>0</td>\n",
       "      <td>decision_tree</td>\n",
       "      <td>0.580523</td>\n",
       "      <td>0.578191</td>\n",
       "      <td>0.532596</td>\n",
       "      <td>0.572772</td>\n",
       "    </tr>\n",
       "    <tr>\n",
       "      <td>1</td>\n",
       "      <td>random_forest</td>\n",
       "      <td>0.587976</td>\n",
       "      <td>0.635783</td>\n",
       "      <td>0.575133</td>\n",
       "      <td>0.586756</td>\n",
       "    </tr>\n",
       "  </tbody>\n",
       "</table>\n",
       "</div>"
      ],
      "text/plain": [
       "           model  f1_non_balance  f1_balance  f1_upsample  f1_downsample\n",
       "0  decision_tree        0.580523    0.578191     0.532596       0.572772\n",
       "1  random_forest        0.587976    0.635783     0.575133       0.586756"
      ]
     },
     "execution_count": 290,
     "metadata": {},
     "output_type": "execute_result"
    }
   ],
   "source": [
    "df_balance = [['decision_tree', sum(f1_score_val_dtc)/len(f1_score_val_dtc), \n",
    "               sum(f1_score_val_dtc_b)/len(f1_score_val_dtc_b), \n",
    "               sum(f1_score_val_dtc_us)/len(f1_score_val_dtc_us), \n",
    "               sum(f1_score_val_dtc_ds)/len(f1_score_val_dtc_ds)], \n",
    "              ['random_forest', sum(f1_score_val_rfc)/len(f1_score_val_rfc), \n",
    "               sum(f1_score_val_rfc_b)/len(f1_score_val_rfc_b), \n",
    "               sum(f1_score_val_rfc_us)/len(f1_score_val_rfc_us), \n",
    "               sum(f1_score_val_rfc_ds)/len(f1_score_val_rfc_ds)]] \n",
    "columns_balance = ['model', 'f1_non_balance', 'f1_balance', 'f1_upsample', 'f1_downsample']\n",
    "table_balance = pd.DataFrame(data = df_balance, columns = columns_balance)\n",
    "table_balance"
   ]
  },
  {
   "cell_type": "markdown",
   "metadata": {},
   "source": [
    "Учитывая дисбаланс класса, мы смогли достичь большего значения F1-меры. При этом для обеих моделей эффективнее всего было учитывывать дисбаланс через настройку модели."
   ]
  },
  {
   "cell_type": "markdown",
   "metadata": {},
   "source": [
    "## Тестирование модели"
   ]
  },
  {
   "cell_type": "markdown",
   "metadata": {},
   "source": [
    "Так как наилучший результат показала модель случайного леса с балансом классов, настроенном через параметры модели, тестировать будем её."
   ]
  },
  {
   "cell_type": "code",
   "execution_count": 294,
   "metadata": {},
   "outputs": [
    {
     "name": "stdout",
     "output_type": "stream",
     "text": [
      "F1-score для Random Forest (balanced) на тестовой выборке: 0.6143790849673203\n",
      "AUC-ROC для Random Forest (balanced) на тестовой выборке: 0.852048658520884\n"
     ]
    }
   ],
   "source": [
    "predictions = best_rfc_balanced.predict(features_test)\n",
    "f1_score(target_test, predictions)\n",
    "\n",
    "probabilities_valid = best_rfc_balanced.predict_proba(features_test)\n",
    "probabilities_one_valid = probabilities_valid[:, 1]\n",
    "roc_auc_score(target_test, probabilities_one_valid)\n",
    "\n",
    "print('F1-score для Random Forest (balanced) на тестовой выборке:', f1_score(target_test, predictions))\n",
    "print('AUC-ROC для Random Forest (balanced) на тестовой выборке:', roc_auc_score(target_test, probabilities_one_valid))"
   ]
  },
  {
   "cell_type": "markdown",
   "metadata": {},
   "source": [
    "В ходе работы были найдена наилучшая модель, которая на тестовых данных показала значения метрики F1 больше, чем 0.59. Такой моделью оказалась модель случайного леса с балансом классов, настроенном через параметры модели. Таким образом, необходимая задача была выполнена."
   ]
  }
 ],
 "metadata": {
  "ExecuteTimeLog": [
   {
    "duration": 1599,
    "start_time": "2022-03-13T15:17:09.023Z"
   },
   {
    "duration": 35,
    "start_time": "2022-03-13T15:17:28.954Z"
   },
   {
    "duration": 28,
    "start_time": "2022-03-13T15:17:43.978Z"
   },
   {
    "duration": 43,
    "start_time": "2022-03-13T15:23:13.633Z"
   },
   {
    "duration": 33,
    "start_time": "2022-03-13T15:23:15.832Z"
   },
   {
    "duration": 11,
    "start_time": "2022-03-13T15:24:18.492Z"
   },
   {
    "duration": 57,
    "start_time": "2022-03-13T15:25:09.956Z"
   },
   {
    "duration": 37,
    "start_time": "2022-03-13T15:46:23.823Z"
   },
   {
    "duration": 20,
    "start_time": "2022-03-13T15:46:28.868Z"
   },
   {
    "duration": 478,
    "start_time": "2022-03-13T15:46:43.022Z"
   },
   {
    "duration": 317,
    "start_time": "2022-03-13T15:47:06.791Z"
   },
   {
    "duration": 20,
    "start_time": "2022-03-13T15:47:31.768Z"
   },
   {
    "duration": 35,
    "start_time": "2022-03-13T15:47:33.670Z"
   },
   {
    "duration": 22,
    "start_time": "2022-03-13T15:47:35.297Z"
   },
   {
    "duration": 339,
    "start_time": "2022-03-13T15:48:26.711Z"
   },
   {
    "duration": 338,
    "start_time": "2022-03-13T15:50:16.215Z"
   },
   {
    "duration": 30,
    "start_time": "2022-03-13T15:50:24.182Z"
   },
   {
    "duration": 22,
    "start_time": "2022-03-13T15:50:25.735Z"
   },
   {
    "duration": 6,
    "start_time": "2022-03-13T15:50:28.031Z"
   },
   {
    "duration": 7,
    "start_time": "2022-03-13T15:50:36.374Z"
   },
   {
    "duration": 11,
    "start_time": "2022-03-13T15:50:37.775Z"
   },
   {
    "duration": 18,
    "start_time": "2022-03-13T15:50:47.764Z"
   },
   {
    "duration": 11,
    "start_time": "2022-03-13T15:50:59.511Z"
   },
   {
    "duration": 32,
    "start_time": "2022-03-13T15:51:10.759Z"
   },
   {
    "duration": 12,
    "start_time": "2022-03-13T15:51:12.303Z"
   },
   {
    "duration": 23,
    "start_time": "2022-03-13T15:51:18.703Z"
   },
   {
    "duration": 316,
    "start_time": "2022-03-13T15:53:21.574Z"
   },
   {
    "duration": 411,
    "start_time": "2022-03-13T15:57:40.577Z"
   },
   {
    "duration": 354,
    "start_time": "2022-03-13T15:58:12.436Z"
   },
   {
    "duration": 8,
    "start_time": "2022-03-13T15:58:27.737Z"
   },
   {
    "duration": 110,
    "start_time": "2022-03-13T15:59:37.721Z"
   },
   {
    "duration": 6,
    "start_time": "2022-03-13T15:59:50.704Z"
   },
   {
    "duration": 11,
    "start_time": "2022-03-13T15:59:54.264Z"
   },
   {
    "duration": 16,
    "start_time": "2022-03-13T16:00:23.356Z"
   },
   {
    "duration": 17,
    "start_time": "2022-03-13T16:00:32.049Z"
   },
   {
    "duration": 38,
    "start_time": "2022-03-13T16:00:38.464Z"
   },
   {
    "duration": 21,
    "start_time": "2022-03-13T16:00:43.841Z"
   },
   {
    "duration": 6,
    "start_time": "2022-03-13T16:00:59.040Z"
   },
   {
    "duration": 16,
    "start_time": "2022-03-13T16:01:00.832Z"
   },
   {
    "duration": 7,
    "start_time": "2022-03-13T16:04:45.054Z"
   },
   {
    "duration": 6,
    "start_time": "2022-03-13T16:05:02.697Z"
   },
   {
    "duration": 7,
    "start_time": "2022-03-13T16:08:12.170Z"
   },
   {
    "duration": 5,
    "start_time": "2022-03-13T16:08:37.497Z"
   },
   {
    "duration": 6,
    "start_time": "2022-03-13T16:08:42.690Z"
   },
   {
    "duration": 16,
    "start_time": "2022-03-13T16:09:02.049Z"
   },
   {
    "duration": 12,
    "start_time": "2022-03-13T16:12:18.666Z"
   },
   {
    "duration": 55,
    "start_time": "2022-03-13T16:12:35.685Z"
   },
   {
    "duration": 327,
    "start_time": "2022-03-13T16:19:22.096Z"
   },
   {
    "duration": 452,
    "start_time": "2022-03-13T16:19:30.082Z"
   },
   {
    "duration": 6,
    "start_time": "2022-03-13T16:19:36.738Z"
   },
   {
    "duration": 8,
    "start_time": "2022-03-13T16:19:43.218Z"
   },
   {
    "duration": 6,
    "start_time": "2022-03-13T16:19:49.458Z"
   },
   {
    "duration": 351,
    "start_time": "2022-03-13T16:23:15.275Z"
   },
   {
    "duration": 6,
    "start_time": "2022-03-13T16:27:34.403Z"
   },
   {
    "duration": 8,
    "start_time": "2022-03-13T16:28:22.244Z"
   },
   {
    "duration": 341,
    "start_time": "2022-03-13T16:30:18.204Z"
   },
   {
    "duration": 7,
    "start_time": "2022-03-13T16:30:26.411Z"
   },
   {
    "duration": 343,
    "start_time": "2022-03-13T16:30:40.727Z"
   },
   {
    "duration": 6,
    "start_time": "2022-03-13T16:30:47.730Z"
   },
   {
    "duration": 7,
    "start_time": "2022-03-13T16:31:07.021Z"
   },
   {
    "duration": 31,
    "start_time": "2022-03-13T16:31:09.724Z"
   },
   {
    "duration": 22,
    "start_time": "2022-03-13T16:31:12.484Z"
   },
   {
    "duration": 6,
    "start_time": "2022-03-13T16:31:15.479Z"
   },
   {
    "duration": 4,
    "start_time": "2022-03-13T16:31:17.696Z"
   },
   {
    "duration": 7,
    "start_time": "2022-03-13T16:31:19.620Z"
   },
   {
    "duration": 18,
    "start_time": "2022-03-13T16:31:22.996Z"
   },
   {
    "duration": 11,
    "start_time": "2022-03-13T16:31:25.348Z"
   },
   {
    "duration": 6,
    "start_time": "2022-03-13T16:31:28.487Z"
   },
   {
    "duration": 6,
    "start_time": "2022-03-13T16:31:34.316Z"
   },
   {
    "duration": 5,
    "start_time": "2022-03-13T16:31:56.797Z"
   },
   {
    "duration": 9,
    "start_time": "2022-03-13T16:34:07.548Z"
   },
   {
    "duration": 7,
    "start_time": "2022-03-13T16:36:25.869Z"
   },
   {
    "duration": 30,
    "start_time": "2022-03-13T16:36:28.245Z"
   },
   {
    "duration": 21,
    "start_time": "2022-03-13T16:36:30.018Z"
   },
   {
    "duration": 12,
    "start_time": "2022-03-13T16:36:44.695Z"
   },
   {
    "duration": 64,
    "start_time": "2022-03-13T16:36:59.388Z"
   },
   {
    "duration": 7,
    "start_time": "2022-03-13T16:43:51.374Z"
   },
   {
    "duration": 4,
    "start_time": "2022-03-13T16:44:23.013Z"
   },
   {
    "duration": 7,
    "start_time": "2022-03-13T16:44:25.813Z"
   },
   {
    "duration": 17,
    "start_time": "2022-03-13T16:44:28.366Z"
   },
   {
    "duration": 7,
    "start_time": "2022-03-13T16:45:07.254Z"
   },
   {
    "duration": 7,
    "start_time": "2022-03-13T16:45:08.845Z"
   },
   {
    "duration": 6,
    "start_time": "2022-03-13T16:45:16.141Z"
   },
   {
    "duration": 9,
    "start_time": "2022-03-13T16:45:17.846Z"
   },
   {
    "duration": 10,
    "start_time": "2022-03-13T16:48:45.935Z"
   },
   {
    "duration": 11,
    "start_time": "2022-03-13T16:49:05.558Z"
   },
   {
    "duration": 53,
    "start_time": "2022-03-13T16:49:12.102Z"
   },
   {
    "duration": 12,
    "start_time": "2022-03-13T16:57:18.399Z"
   },
   {
    "duration": 18,
    "start_time": "2022-03-13T17:29:24.868Z"
   },
   {
    "duration": 15,
    "start_time": "2022-03-13T17:29:49.931Z"
   },
   {
    "duration": 6,
    "start_time": "2022-03-13T17:31:49.500Z"
   },
   {
    "duration": 16,
    "start_time": "2022-03-13T17:31:50.837Z"
   },
   {
    "duration": 20,
    "start_time": "2022-03-13T17:32:08.828Z"
   },
   {
    "duration": 17,
    "start_time": "2022-03-13T17:32:09.851Z"
   },
   {
    "duration": 9,
    "start_time": "2022-03-13T17:34:52.638Z"
   },
   {
    "duration": 429,
    "start_time": "2022-03-13T17:35:58.405Z"
   },
   {
    "duration": 416,
    "start_time": "2022-03-13T17:37:15.251Z"
   },
   {
    "duration": 9,
    "start_time": "2022-03-13T17:41:43.704Z"
   },
   {
    "duration": 381,
    "start_time": "2022-03-13T17:42:57.989Z"
   },
   {
    "duration": 448,
    "start_time": "2022-03-13T17:43:15.716Z"
   },
   {
    "duration": 443,
    "start_time": "2022-03-13T17:43:26.711Z"
   },
   {
    "duration": 20,
    "start_time": "2022-03-13T17:43:46.901Z"
   },
   {
    "duration": 15,
    "start_time": "2022-03-13T17:43:48.540Z"
   },
   {
    "duration": 33,
    "start_time": "2022-03-13T17:50:08.239Z"
   },
   {
    "duration": 16,
    "start_time": "2022-03-13T17:50:17.640Z"
   },
   {
    "duration": 8,
    "start_time": "2022-03-13T17:58:24.959Z"
   },
   {
    "duration": 8,
    "start_time": "2022-03-13T17:58:51.243Z"
   },
   {
    "duration": 6,
    "start_time": "2022-03-13T17:59:07.010Z"
   },
   {
    "duration": 4,
    "start_time": "2022-03-13T18:02:37.063Z"
   },
   {
    "duration": 12,
    "start_time": "2022-03-13T18:04:45.688Z"
   },
   {
    "duration": 6,
    "start_time": "2022-03-13T18:06:03.760Z"
   },
   {
    "duration": 10,
    "start_time": "2022-03-13T18:06:30.282Z"
   },
   {
    "duration": 6,
    "start_time": "2022-03-13T18:06:31.793Z"
   },
   {
    "duration": 6,
    "start_time": "2022-03-13T18:06:54.687Z"
   },
   {
    "duration": 28,
    "start_time": "2022-03-13T18:15:34.793Z"
   },
   {
    "duration": 18,
    "start_time": "2022-03-13T18:16:55.960Z"
   },
   {
    "duration": 17,
    "start_time": "2022-03-13T18:17:29.473Z"
   },
   {
    "duration": 17,
    "start_time": "2022-03-13T18:17:40.041Z"
   },
   {
    "duration": 355,
    "start_time": "2022-03-13T18:33:49.588Z"
   },
   {
    "duration": 238,
    "start_time": "2022-03-13T18:35:11.058Z"
   },
   {
    "duration": 688,
    "start_time": "2022-03-13T18:44:06.652Z"
   },
   {
    "duration": 757,
    "start_time": "2022-03-13T18:44:15.628Z"
   },
   {
    "duration": 720,
    "start_time": "2022-03-13T18:45:01.059Z"
   },
   {
    "duration": 4404,
    "start_time": "2022-03-13T18:45:45.839Z"
   },
   {
    "duration": 188,
    "start_time": "2022-03-13T18:46:30.064Z"
   },
   {
    "duration": 1587,
    "start_time": "2022-03-13T18:46:50.340Z"
   },
   {
    "duration": 1337,
    "start_time": "2022-03-13T18:47:08.955Z"
   },
   {
    "duration": 1885,
    "start_time": "2022-03-13T18:49:11.372Z"
   },
   {
    "duration": 615,
    "start_time": "2022-03-13T18:49:47.444Z"
   },
   {
    "duration": 3953,
    "start_time": "2022-03-13T18:50:05.349Z"
   },
   {
    "duration": 1435,
    "start_time": "2022-03-13T18:57:52.181Z"
   },
   {
    "duration": 1435,
    "start_time": "2022-03-13T18:58:03.653Z"
   },
   {
    "duration": 93116,
    "start_time": "2022-03-13T19:00:33.695Z"
   },
   {
    "duration": 1438,
    "start_time": "2022-03-13T19:02:21.573Z"
   },
   {
    "duration": 18354,
    "start_time": "2022-03-13T19:02:27.374Z"
   },
   {
    "duration": 95593,
    "start_time": "2022-03-13T19:03:15.191Z"
   },
   {
    "duration": 10343,
    "start_time": "2022-03-13T19:05:00.854Z"
   },
   {
    "duration": 1413,
    "start_time": "2022-03-13T19:15:11.062Z"
   },
   {
    "duration": 86616,
    "start_time": "2022-03-13T19:17:00.678Z"
   },
   {
    "duration": 10310,
    "start_time": "2022-03-13T19:19:27.097Z"
   },
   {
    "duration": 15,
    "start_time": "2022-03-13T19:25:55.535Z"
   },
   {
    "duration": 1439,
    "start_time": "2022-03-13T19:55:39.058Z"
   },
   {
    "duration": 71979,
    "start_time": "2022-03-13T19:55:58.315Z"
   },
   {
    "duration": 27,
    "start_time": "2022-03-13T20:00:25.323Z"
   },
   {
    "duration": 34,
    "start_time": "2022-03-13T20:00:32.906Z"
   },
   {
    "duration": 23,
    "start_time": "2022-03-13T20:00:38.147Z"
   },
   {
    "duration": 23,
    "start_time": "2022-03-13T20:00:43.091Z"
   },
   {
    "duration": 24,
    "start_time": "2022-03-13T20:00:47.179Z"
   },
   {
    "duration": 25,
    "start_time": "2022-03-13T20:00:52.114Z"
   },
   {
    "duration": 2364,
    "start_time": "2022-03-13T20:04:53.776Z"
   },
   {
    "duration": 100722,
    "start_time": "2022-03-13T20:07:15.284Z"
   },
   {
    "duration": 24,
    "start_time": "2022-03-13T20:09:20.591Z"
   },
   {
    "duration": 24,
    "start_time": "2022-03-13T20:09:25.533Z"
   },
   {
    "duration": 26,
    "start_time": "2022-03-13T20:09:30.548Z"
   },
   {
    "duration": 25,
    "start_time": "2022-03-13T20:09:40.771Z"
   },
   {
    "duration": 35,
    "start_time": "2022-03-13T20:09:46.100Z"
   },
   {
    "duration": 827,
    "start_time": "2022-03-13T20:11:36.933Z"
   },
   {
    "duration": 29378,
    "start_time": "2022-03-13T20:13:16.107Z"
   },
   {
    "duration": 1458,
    "start_time": "2022-03-13T20:16:34.629Z"
   },
   {
    "duration": 61932,
    "start_time": "2022-03-13T20:17:41.084Z"
   },
   {
    "duration": 55423,
    "start_time": "2022-03-13T20:20:12.130Z"
   },
   {
    "duration": 18,
    "start_time": "2022-03-13T20:21:14.805Z"
   },
   {
    "duration": 335,
    "start_time": "2022-03-13T20:27:27.253Z"
   },
   {
    "duration": 6,
    "start_time": "2022-03-13T20:28:04.130Z"
   },
   {
    "duration": 38,
    "start_time": "2022-03-13T20:28:04.139Z"
   },
   {
    "duration": 22,
    "start_time": "2022-03-13T20:28:04.180Z"
   },
   {
    "duration": 13,
    "start_time": "2022-03-13T20:28:04.205Z"
   },
   {
    "duration": 84,
    "start_time": "2022-03-13T20:28:04.221Z"
   },
   {
    "duration": 6,
    "start_time": "2022-03-13T20:28:04.308Z"
   },
   {
    "duration": 27,
    "start_time": "2022-03-13T20:28:04.316Z"
   },
   {
    "duration": 26,
    "start_time": "2022-03-13T20:28:04.347Z"
   },
   {
    "duration": 28,
    "start_time": "2022-03-13T20:28:04.376Z"
   },
   {
    "duration": 20,
    "start_time": "2022-03-13T20:28:04.406Z"
   },
   {
    "duration": 11,
    "start_time": "2022-03-13T20:28:04.429Z"
   },
   {
    "duration": 18,
    "start_time": "2022-03-13T20:28:04.443Z"
   },
   {
    "duration": 15,
    "start_time": "2022-03-13T20:28:04.463Z"
   },
   {
    "duration": 11,
    "start_time": "2022-03-13T20:28:04.480Z"
   },
   {
    "duration": 13,
    "start_time": "2022-03-13T20:28:04.494Z"
   },
   {
    "duration": 81,
    "start_time": "2022-03-13T20:28:04.510Z"
   },
   {
    "duration": 12,
    "start_time": "2022-03-13T20:28:04.593Z"
   },
   {
    "duration": 9,
    "start_time": "2022-03-13T20:28:04.607Z"
   },
   {
    "duration": 428,
    "start_time": "2022-03-13T20:28:04.618Z"
   },
   {
    "duration": 25,
    "start_time": "2022-03-13T20:28:05.048Z"
   },
   {
    "duration": 372,
    "start_time": "2022-03-13T20:28:05.076Z"
   },
   {
    "duration": 29,
    "start_time": "2022-03-13T20:28:05.450Z"
   },
   {
    "duration": 17,
    "start_time": "2022-03-13T20:28:05.484Z"
   },
   {
    "duration": 15,
    "start_time": "2022-03-13T20:28:05.505Z"
   },
   {
    "duration": 11,
    "start_time": "2022-03-13T20:28:05.523Z"
   },
   {
    "duration": 38,
    "start_time": "2022-03-13T20:28:05.536Z"
   },
   {
    "duration": 12,
    "start_time": "2022-03-13T20:28:05.577Z"
   },
   {
    "duration": 9,
    "start_time": "2022-03-13T20:28:05.591Z"
   },
   {
    "duration": 6,
    "start_time": "2022-03-13T20:28:05.602Z"
   },
   {
    "duration": 36,
    "start_time": "2022-03-13T20:28:05.611Z"
   },
   {
    "duration": 272,
    "start_time": "2022-03-13T20:28:05.649Z"
   },
   {
    "duration": 1430,
    "start_time": "2022-03-13T20:28:05.923Z"
   },
   {
    "duration": 97662,
    "start_time": "2022-03-13T20:28:07.356Z"
   },
   {
    "duration": 10418,
    "start_time": "2022-03-13T20:29:45.021Z"
   },
   {
    "duration": 15,
    "start_time": "2022-03-13T20:29:55.441Z"
   },
   {
    "duration": 1620,
    "start_time": "2022-03-13T20:29:55.474Z"
   },
   {
    "duration": 31228,
    "start_time": "2022-03-13T20:29:57.097Z"
   },
   {
    "duration": 22,
    "start_time": "2022-03-13T20:30:28.327Z"
   },
   {
    "duration": 1851,
    "start_time": "2022-03-13T20:30:28.352Z"
   },
   {
    "duration": 122148,
    "start_time": "2022-03-13T20:30:30.205Z"
   },
   {
    "duration": 36,
    "start_time": "2022-03-13T20:32:32.356Z"
   },
   {
    "duration": 1012,
    "start_time": "2022-03-13T20:32:32.394Z"
   },
   {
    "duration": 37934,
    "start_time": "2022-03-13T20:32:33.409Z"
   },
   {
    "duration": 27,
    "start_time": "2022-03-13T20:33:11.346Z"
   },
   {
    "duration": 390,
    "start_time": "2022-03-13T20:33:11.375Z"
   },
   {
    "duration": 3354,
    "start_time": "2022-03-13T20:34:25.278Z"
   },
   {
    "duration": 48,
    "start_time": "2022-03-13T20:39:38.689Z"
   },
   {
    "duration": 3367,
    "start_time": "2022-03-13T20:40:28.215Z"
   },
   {
    "duration": 6,
    "start_time": "2022-03-13T20:41:44.966Z"
   },
   {
    "duration": 41,
    "start_time": "2022-03-13T20:41:44.975Z"
   },
   {
    "duration": 58,
    "start_time": "2022-03-13T20:41:45.020Z"
   },
   {
    "duration": 13,
    "start_time": "2022-03-13T20:41:45.082Z"
   },
   {
    "duration": 107,
    "start_time": "2022-03-13T20:41:45.097Z"
   },
   {
    "duration": 14,
    "start_time": "2022-03-13T20:41:45.207Z"
   },
   {
    "duration": 12,
    "start_time": "2022-03-13T20:41:45.224Z"
   },
   {
    "duration": 7,
    "start_time": "2022-03-13T20:41:45.240Z"
   },
   {
    "duration": 32,
    "start_time": "2022-03-13T20:41:45.250Z"
   },
   {
    "duration": 8,
    "start_time": "2022-03-13T20:41:45.285Z"
   },
   {
    "duration": 8,
    "start_time": "2022-03-13T20:41:45.295Z"
   },
   {
    "duration": 9,
    "start_time": "2022-03-13T20:41:45.306Z"
   },
   {
    "duration": 10,
    "start_time": "2022-03-13T20:41:45.317Z"
   },
   {
    "duration": 48,
    "start_time": "2022-03-13T20:41:45.329Z"
   },
   {
    "duration": 17,
    "start_time": "2022-03-13T20:41:45.380Z"
   },
   {
    "duration": 77,
    "start_time": "2022-03-13T20:41:45.400Z"
   },
   {
    "duration": 14,
    "start_time": "2022-03-13T20:41:45.480Z"
   },
   {
    "duration": 9,
    "start_time": "2022-03-13T20:41:45.496Z"
   },
   {
    "duration": 457,
    "start_time": "2022-03-13T20:41:45.507Z"
   },
   {
    "duration": 9,
    "start_time": "2022-03-13T20:41:45.973Z"
   },
   {
    "duration": 419,
    "start_time": "2022-03-13T20:41:45.985Z"
   },
   {
    "duration": 18,
    "start_time": "2022-03-13T20:41:46.406Z"
   },
   {
    "duration": 26,
    "start_time": "2022-03-13T20:41:46.429Z"
   },
   {
    "duration": 22,
    "start_time": "2022-03-13T20:41:46.458Z"
   },
   {
    "duration": 9,
    "start_time": "2022-03-13T20:41:46.483Z"
   },
   {
    "duration": 26,
    "start_time": "2022-03-13T20:41:46.494Z"
   },
   {
    "duration": 21,
    "start_time": "2022-03-13T20:41:46.523Z"
   },
   {
    "duration": 21,
    "start_time": "2022-03-13T20:41:46.547Z"
   },
   {
    "duration": 20,
    "start_time": "2022-03-13T20:41:46.570Z"
   },
   {
    "duration": 49,
    "start_time": "2022-03-13T20:41:46.592Z"
   },
   {
    "duration": 235,
    "start_time": "2022-03-13T20:41:46.643Z"
   },
   {
    "duration": 1298,
    "start_time": "2022-03-13T20:41:46.880Z"
   },
   {
    "duration": 30359,
    "start_time": "2022-03-13T20:41:48.181Z"
   },
   {
    "duration": 119,
    "start_time": "2022-03-13T20:42:18.425Z"
   },
   {
    "duration": 117,
    "start_time": "2022-03-13T20:42:18.429Z"
   },
   {
    "duration": 117,
    "start_time": "2022-03-13T20:42:18.431Z"
   },
   {
    "duration": 116,
    "start_time": "2022-03-13T20:42:18.433Z"
   },
   {
    "duration": 112,
    "start_time": "2022-03-13T20:42:18.438Z"
   },
   {
    "duration": 109,
    "start_time": "2022-03-13T20:42:18.442Z"
   },
   {
    "duration": 108,
    "start_time": "2022-03-13T20:42:18.445Z"
   },
   {
    "duration": 107,
    "start_time": "2022-03-13T20:42:18.447Z"
   },
   {
    "duration": 105,
    "start_time": "2022-03-13T20:42:18.450Z"
   },
   {
    "duration": 104,
    "start_time": "2022-03-13T20:42:18.453Z"
   },
   {
    "duration": 102,
    "start_time": "2022-03-13T20:42:18.456Z"
   },
   {
    "duration": 100,
    "start_time": "2022-03-13T20:42:18.459Z"
   },
   {
    "duration": 8,
    "start_time": "2022-03-13T20:43:02.404Z"
   },
   {
    "duration": 32,
    "start_time": "2022-03-13T20:43:04.463Z"
   },
   {
    "duration": 21,
    "start_time": "2022-03-13T20:43:06.651Z"
   },
   {
    "duration": 12,
    "start_time": "2022-03-13T20:43:07.596Z"
   },
   {
    "duration": 65,
    "start_time": "2022-03-13T20:43:09.123Z"
   },
   {
    "duration": 5,
    "start_time": "2022-03-13T20:43:11.260Z"
   },
   {
    "duration": 4,
    "start_time": "2022-03-13T20:43:12.404Z"
   },
   {
    "duration": 7,
    "start_time": "2022-03-13T20:43:12.875Z"
   },
   {
    "duration": 21,
    "start_time": "2022-03-13T20:43:13.764Z"
   },
   {
    "duration": 6,
    "start_time": "2022-03-13T20:43:15.028Z"
   },
   {
    "duration": 7,
    "start_time": "2022-03-13T20:43:15.436Z"
   },
   {
    "duration": 6,
    "start_time": "2022-03-13T20:43:16.659Z"
   },
   {
    "duration": 10,
    "start_time": "2022-03-13T20:43:17.051Z"
   },
   {
    "duration": 10,
    "start_time": "2022-03-13T20:43:18.367Z"
   },
   {
    "duration": 12,
    "start_time": "2022-03-13T20:43:18.875Z"
   },
   {
    "duration": 54,
    "start_time": "2022-03-13T20:43:19.588Z"
   },
   {
    "duration": 15,
    "start_time": "2022-03-13T20:43:20.899Z"
   },
   {
    "duration": 11,
    "start_time": "2022-03-13T20:43:22.179Z"
   },
   {
    "duration": 409,
    "start_time": "2022-03-13T20:43:22.764Z"
   },
   {
    "duration": 8,
    "start_time": "2022-03-13T20:43:23.532Z"
   },
   {
    "duration": 396,
    "start_time": "2022-03-13T20:43:24.340Z"
   },
   {
    "duration": 18,
    "start_time": "2022-03-13T20:43:26.053Z"
   },
   {
    "duration": 16,
    "start_time": "2022-03-13T20:43:26.571Z"
   },
   {
    "duration": 10,
    "start_time": "2022-03-13T20:43:28.740Z"
   },
   {
    "duration": 10,
    "start_time": "2022-03-13T20:43:29.467Z"
   },
   {
    "duration": 6,
    "start_time": "2022-03-13T20:43:30.515Z"
   },
   {
    "duration": 14,
    "start_time": "2022-03-13T20:43:33.227Z"
   },
   {
    "duration": 5,
    "start_time": "2022-03-13T20:43:33.725Z"
   },
   {
    "duration": 4,
    "start_time": "2022-03-13T20:43:38.724Z"
   },
   {
    "duration": 36,
    "start_time": "2022-03-13T20:43:47.996Z"
   },
   {
    "duration": 221,
    "start_time": "2022-03-13T20:43:56.531Z"
   },
   {
    "duration": 1325,
    "start_time": "2022-03-13T20:44:00.140Z"
   },
   {
    "duration": 314,
    "start_time": "2022-03-13T20:45:04.040Z"
   },
   {
    "duration": 37587,
    "start_time": "2022-03-13T20:45:07.173Z"
   },
   {
    "duration": 10321,
    "start_time": "2022-03-13T20:46:00.004Z"
   },
   {
    "duration": 15,
    "start_time": "2022-03-13T20:46:13.708Z"
   },
   {
    "duration": 1693,
    "start_time": "2022-03-13T20:46:19.771Z"
   },
   {
    "duration": 87366,
    "start_time": "2022-03-13T20:46:25.012Z"
   },
   {
    "duration": 22,
    "start_time": "2022-03-13T20:48:06.060Z"
   },
   {
    "duration": 1795,
    "start_time": "2022-03-13T20:48:09.720Z"
   },
   {
    "duration": 69175,
    "start_time": "2022-03-13T20:48:14.420Z"
   },
   {
    "duration": 24,
    "start_time": "2022-03-13T20:49:27.197Z"
   },
   {
    "duration": 911,
    "start_time": "2022-03-13T20:49:30.476Z"
   },
   {
    "duration": 25332,
    "start_time": "2022-03-13T20:49:34.172Z"
   },
   {
    "duration": 17,
    "start_time": "2022-03-13T20:50:03.920Z"
   },
   {
    "duration": 17816,
    "start_time": "2022-03-13T20:50:09.684Z"
   },
   {
    "duration": 87,
    "start_time": "2022-03-13T20:52:20.389Z"
   },
   {
    "duration": 173,
    "start_time": "2022-03-13T20:53:05.693Z"
   },
   {
    "duration": 177,
    "start_time": "2022-03-13T20:53:46.677Z"
   }
  ],
  "kernelspec": {
   "display_name": "Python 3 (ipykernel)",
   "language": "python",
   "name": "python3"
  },
  "language_info": {
   "codemirror_mode": {
    "name": "ipython",
    "version": 3
   },
   "file_extension": ".py",
   "mimetype": "text/x-python",
   "name": "python",
   "nbconvert_exporter": "python",
   "pygments_lexer": "ipython3",
   "version": "3.9.5"
  },
  "toc": {
   "base_numbering": 1,
   "nav_menu": {},
   "number_sections": true,
   "sideBar": true,
   "skip_h1_title": true,
   "title_cell": "Содержание",
   "title_sidebar": "Contents",
   "toc_cell": true,
   "toc_position": {},
   "toc_section_display": true,
   "toc_window_display": true
  }
 },
 "nbformat": 4,
 "nbformat_minor": 2
}
